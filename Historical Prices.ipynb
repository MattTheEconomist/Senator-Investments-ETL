{
 "cells": [
  {
   "cell_type": "code",
   "execution_count": 94,
   "metadata": {},
   "outputs": [],
   "source": [
    "import pandas as pd\n",
    "import numpy as np"
   ]
  },
  {
   "cell_type": "markdown",
   "metadata": {},
   "source": [
    "# Select Transactions from DB"
   ]
  },
  {
   "cell_type": "code",
   "execution_count": 95,
   "metadata": {},
   "outputs": [],
   "source": [
    "import psycopg2 \n",
    "from sqlalchemy import create_engine\n",
    "from dotenv import load_dotenv\n",
    "import os\n",
    "\n",
    "\n",
    "load_dotenv()\n",
    "\n",
    "\n",
    "hostname=os.getenv(\"hostname\")\n",
    "database=os.getenv(\"database\")\n",
    "username=os.getenv(\"username\")\n",
    "pwd=os.getenv(\"pwd\")\n",
    "port_id=os.getenv(\"port_id\")\n",
    "host = os.getenv(\"host\")\n"
   ]
  },
  {
   "cell_type": "code",
   "execution_count": 96,
   "metadata": {},
   "outputs": [
    {
     "data": {
      "text/html": [
       "<div>\n",
       "<style scoped>\n",
       "    .dataframe tbody tr th:only-of-type {\n",
       "        vertical-align: middle;\n",
       "    }\n",
       "\n",
       "    .dataframe tbody tr th {\n",
       "        vertical-align: top;\n",
       "    }\n",
       "\n",
       "    .dataframe thead th {\n",
       "        text-align: right;\n",
       "    }\n",
       "</style>\n",
       "<table border=\"1\" class=\"dataframe\">\n",
       "  <thead>\n",
       "    <tr style=\"text-align: right;\">\n",
       "      <th></th>\n",
       "      <th>transaction_date</th>\n",
       "      <th>owner</th>\n",
       "      <th>ticker</th>\n",
       "      <th>asset_description</th>\n",
       "      <th>asset_type</th>\n",
       "      <th>type</th>\n",
       "      <th>amount</th>\n",
       "      <th>comment</th>\n",
       "      <th>senator</th>\n",
       "      <th>ptr_link</th>\n",
       "      <th>disclosure_date</th>\n",
       "      <th>id</th>\n",
       "    </tr>\n",
       "  </thead>\n",
       "  <tbody>\n",
       "    <tr>\n",
       "      <th>0</th>\n",
       "      <td>10/28/2022</td>\n",
       "      <td>Joint</td>\n",
       "      <td>MSFT</td>\n",
       "      <td>Microsoft Corporation - Common Stock Option Ty...</td>\n",
       "      <td>Stock Option</td>\n",
       "      <td>Sale (Full)</td>\n",
       "      <td>$1,001 - $15,000</td>\n",
       "      <td>--</td>\n",
       "      <td>Thomas H Tuberville</td>\n",
       "      <td>https://efdsearch.senate.gov/search/view/ptr/b...</td>\n",
       "      <td>11/10/2022</td>\n",
       "      <td>0</td>\n",
       "    </tr>\n",
       "    <tr>\n",
       "      <th>1</th>\n",
       "      <td>10/31/2022</td>\n",
       "      <td>Joint</td>\n",
       "      <td>CLF</td>\n",
       "      <td>Cleveland-Cliffs Inc. Common Stock</td>\n",
       "      <td>Stock</td>\n",
       "      <td>Purchase</td>\n",
       "      <td>$15,001 - $50,000</td>\n",
       "      <td>--</td>\n",
       "      <td>Thomas H Tuberville</td>\n",
       "      <td>https://efdsearch.senate.gov/search/view/ptr/b...</td>\n",
       "      <td>11/10/2022</td>\n",
       "      <td>1</td>\n",
       "    </tr>\n",
       "    <tr>\n",
       "      <th>2</th>\n",
       "      <td>10/28/2022</td>\n",
       "      <td>Joint</td>\n",
       "      <td>MSFT</td>\n",
       "      <td>Microsoft Corporation - Common Stock Option Ty...</td>\n",
       "      <td>Stock Option</td>\n",
       "      <td>Sale (Full)</td>\n",
       "      <td>$1,001 - $15,000</td>\n",
       "      <td>--</td>\n",
       "      <td>Thomas H Tuberville</td>\n",
       "      <td>https://efdsearch.senate.gov/search/view/ptr/b...</td>\n",
       "      <td>11/10/2022</td>\n",
       "      <td>2</td>\n",
       "    </tr>\n",
       "    <tr>\n",
       "      <th>3</th>\n",
       "      <td>10/28/2022</td>\n",
       "      <td>Joint</td>\n",
       "      <td>MSFT</td>\n",
       "      <td>Microsoft Corporation - Common Stock Option Ty...</td>\n",
       "      <td>Stock Option</td>\n",
       "      <td>Sale (Full)</td>\n",
       "      <td>$1,001 - $15,000</td>\n",
       "      <td>--</td>\n",
       "      <td>Thomas H Tuberville</td>\n",
       "      <td>https://efdsearch.senate.gov/search/view/ptr/b...</td>\n",
       "      <td>11/10/2022</td>\n",
       "      <td>3</td>\n",
       "    </tr>\n",
       "    <tr>\n",
       "      <th>4</th>\n",
       "      <td>10/24/2022</td>\n",
       "      <td>Joint</td>\n",
       "      <td>MSFT</td>\n",
       "      <td>Microsoft Corporation - Common Stock</td>\n",
       "      <td>Stock</td>\n",
       "      <td>Purchase</td>\n",
       "      <td>$15,001 - $50,000</td>\n",
       "      <td>--</td>\n",
       "      <td>Thomas H Tuberville</td>\n",
       "      <td>https://efdsearch.senate.gov/search/view/ptr/b...</td>\n",
       "      <td>11/10/2022</td>\n",
       "      <td>4</td>\n",
       "    </tr>\n",
       "  </tbody>\n",
       "</table>\n",
       "</div>"
      ],
      "text/plain": [
       "  transaction_date  owner ticker  \\\n",
       "0       10/28/2022  Joint   MSFT   \n",
       "1       10/31/2022  Joint    CLF   \n",
       "2       10/28/2022  Joint   MSFT   \n",
       "3       10/28/2022  Joint   MSFT   \n",
       "4       10/24/2022  Joint   MSFT   \n",
       "\n",
       "                                   asset_description    asset_type  \\\n",
       "0  Microsoft Corporation - Common Stock Option Ty...  Stock Option   \n",
       "1                 Cleveland-Cliffs Inc. Common Stock         Stock   \n",
       "2  Microsoft Corporation - Common Stock Option Ty...  Stock Option   \n",
       "3  Microsoft Corporation - Common Stock Option Ty...  Stock Option   \n",
       "4               Microsoft Corporation - Common Stock         Stock   \n",
       "\n",
       "          type             amount comment              senator  \\\n",
       "0  Sale (Full)   $1,001 - $15,000      --  Thomas H Tuberville   \n",
       "1     Purchase  $15,001 - $50,000      --  Thomas H Tuberville   \n",
       "2  Sale (Full)   $1,001 - $15,000      --  Thomas H Tuberville   \n",
       "3  Sale (Full)   $1,001 - $15,000      --  Thomas H Tuberville   \n",
       "4     Purchase  $15,001 - $50,000      --  Thomas H Tuberville   \n",
       "\n",
       "                                            ptr_link disclosure_date  id  \n",
       "0  https://efdsearch.senate.gov/search/view/ptr/b...      11/10/2022   0  \n",
       "1  https://efdsearch.senate.gov/search/view/ptr/b...      11/10/2022   1  \n",
       "2  https://efdsearch.senate.gov/search/view/ptr/b...      11/10/2022   2  \n",
       "3  https://efdsearch.senate.gov/search/view/ptr/b...      11/10/2022   3  \n",
       "4  https://efdsearch.senate.gov/search/view/ptr/b...      11/10/2022   4  "
      ]
     },
     "execution_count": 96,
     "metadata": {},
     "output_type": "execute_result"
    }
   ],
   "source": [
    "conn_string = f\"postgresql://{username}:{pwd}@{host}:{port_id}/{database}\"\n",
    "db =  create_engine(url=conn_string)\n",
    "conn=db.connect()\n",
    "\n",
    "df = pd.read_sql(\"SELECT * FROM transactions\", db)\n",
    "\n",
    "df.head()\n",
    "\n"
   ]
  },
  {
   "cell_type": "code",
   "execution_count": null,
   "metadata": {},
   "outputs": [],
   "source": []
  },
  {
   "cell_type": "markdown",
   "metadata": {},
   "source": [
    "# Gather Tickers and Transaction Dates"
   ]
  },
  {
   "cell_type": "code",
   "execution_count": 97,
   "metadata": {},
   "outputs": [
    {
     "data": {
      "text/plain": [
       "ticker\n",
       "--         01/01/2014\n",
       "0QZI.IL    09/25/2019\n",
       "3V64.TI    09/25/2019\n",
       "A          02/24/2015\n",
       "AA         01/06/2021\n",
       "Name: transaction_date, dtype: object"
      ]
     },
     "execution_count": 97,
     "metadata": {},
     "output_type": "execute_result"
    }
   ],
   "source": [
    "dateSer = df.groupby(\"ticker\")['transaction_date'].min()\n",
    "dateSer.head()"
   ]
  },
  {
   "cell_type": "code",
   "execution_count": 98,
   "metadata": {},
   "outputs": [
    {
     "data": {
      "text/plain": [
       "['--', '0QZI.IL', '3V64.TI', 'A', 'AA']"
      ]
     },
     "execution_count": 98,
     "metadata": {},
     "output_type": "execute_result"
    }
   ],
   "source": [
    "allTickers = list(dateSer.index)\n",
    "allTickers[:5]"
   ]
  },
  {
   "cell_type": "code",
   "execution_count": 99,
   "metadata": {},
   "outputs": [
    {
     "name": "stdout",
     "output_type": "stream",
     "text": [
      "https://www.alphavantage.co/query?function=TIME_SERIES_WEEKLY&symbol=TSLA&apikey=U288LAEMR485UKD1\n"
     ]
    }
   ],
   "source": [
    "load_dotenv()\n",
    "\n",
    "apiKey = os.getenv('apiKey')\n",
    "\n",
    "# tick = 'KO'\n",
    "# tick = 'IBM'\n",
    "tick = 'TSLA'\n",
    "\n",
    "testEndpoint =f\"https://www.alphavantage.co/query?function=TIME_SERIES_WEEKLY&symbol={tick}&apikey={apiKey}\"\n",
    "\n",
    "print(testEndpoint)\n"
   ]
  },
  {
   "cell_type": "code",
   "execution_count": 100,
   "metadata": {},
   "outputs": [
    {
     "name": "stdout",
     "output_type": "stream",
     "text": [
      "{\n",
      "    \"Meta Data\": {\n",
      "        \"1. Information\": \"Weekly Prices (open, high, low, close) and Volumes\",\n",
      "        \"2. Symbol\": \"TSLA\",\n",
      "        \"3. Last Refreshed\": \"2022-11-11\",\n",
      "        \"4. Time Zone\": \"US/Eastern\"\n",
      "    },\n",
      "    \"Weekly Time Series\": {\n",
      "        \"2022-11-11\": {\n",
      "            \"1. open\": \"208.6500\",\n",
      "            \"2. high\": \"208.9000\",\n",
      "            \"3. low\": \"177.1200\",\n",
      "            \"4. close\": \"195.9700\",\n",
      "            \"5. volume\": \"596889173\"\n",
      "        },\n",
      "   \n"
     ]
    }
   ],
   "source": [
    "\n",
    "import requests\n",
    "\n",
    "response = requests.get(testEndpoint)\n",
    "responseText = response.text\n",
    "print(response.text[:460])"
   ]
  },
  {
   "cell_type": "code",
   "execution_count": 101,
   "metadata": {},
   "outputs": [
    {
     "data": {
      "text/html": [
       "<div>\n",
       "<style scoped>\n",
       "    .dataframe tbody tr th:only-of-type {\n",
       "        vertical-align: middle;\n",
       "    }\n",
       "\n",
       "    .dataframe tbody tr th {\n",
       "        vertical-align: top;\n",
       "    }\n",
       "\n",
       "    .dataframe thead th {\n",
       "        text-align: right;\n",
       "    }\n",
       "</style>\n",
       "<table border=\"1\" class=\"dataframe\">\n",
       "  <thead>\n",
       "    <tr style=\"text-align: right;\">\n",
       "      <th></th>\n",
       "      <th>1. open</th>\n",
       "      <th>2. high</th>\n",
       "      <th>3. low</th>\n",
       "      <th>4. close</th>\n",
       "      <th>5. volume</th>\n",
       "      <th>date</th>\n",
       "    </tr>\n",
       "  </thead>\n",
       "  <tbody>\n",
       "    <tr>\n",
       "      <th>0</th>\n",
       "      <td>208.6500</td>\n",
       "      <td>208.9000</td>\n",
       "      <td>177.1200</td>\n",
       "      <td>195.9700</td>\n",
       "      <td>596889173</td>\n",
       "      <td>2022-11-11</td>\n",
       "    </tr>\n",
       "    <tr>\n",
       "      <th>0</th>\n",
       "      <td>226.1900</td>\n",
       "      <td>237.3951</td>\n",
       "      <td>203.0800</td>\n",
       "      <td>207.4700</td>\n",
       "      <td>342474516</td>\n",
       "      <td>2022-11-04</td>\n",
       "    </tr>\n",
       "    <tr>\n",
       "      <th>0</th>\n",
       "      <td>205.8200</td>\n",
       "      <td>233.8100</td>\n",
       "      <td>198.5863</td>\n",
       "      <td>228.5200</td>\n",
       "      <td>413072923</td>\n",
       "      <td>2022-10-28</td>\n",
       "    </tr>\n",
       "    <tr>\n",
       "      <th>0</th>\n",
       "      <td>210.0400</td>\n",
       "      <td>229.8200</td>\n",
       "      <td>202.0000</td>\n",
       "      <td>214.4400</td>\n",
       "      <td>415404010</td>\n",
       "      <td>2022-10-21</td>\n",
       "    </tr>\n",
       "    <tr>\n",
       "      <th>0</th>\n",
       "      <td>223.9300</td>\n",
       "      <td>226.9900</td>\n",
       "      <td>204.1600</td>\n",
       "      <td>204.9900</td>\n",
       "      <td>397406475</td>\n",
       "      <td>2022-10-14</td>\n",
       "    </tr>\n",
       "  </tbody>\n",
       "</table>\n",
       "</div>"
      ],
      "text/plain": [
       "    1. open   2. high    3. low  4. close  5. volume        date\n",
       "0  208.6500  208.9000  177.1200  195.9700  596889173  2022-11-11\n",
       "0  226.1900  237.3951  203.0800  207.4700  342474516  2022-11-04\n",
       "0  205.8200  233.8100  198.5863  228.5200  413072923  2022-10-28\n",
       "0  210.0400  229.8200  202.0000  214.4400  415404010  2022-10-21\n",
       "0  223.9300  226.9900  204.1600  204.9900  397406475  2022-10-14"
      ]
     },
     "execution_count": 101,
     "metadata": {},
     "output_type": "execute_result"
    }
   ],
   "source": [
    "import json \n",
    "\n",
    "jsonData = json.loads(responseText)\n",
    "allWeeksData = jsonData['Weekly Time Series']\n",
    "allWeeks = list(allWeeksData.keys())\n",
    "\n",
    "firstWeek = allWeeks[0]\n",
    "firstWeekData =allWeeksData[firstWeek ]\n",
    "historicalPrices = pd.json_normalize(firstWeekData)\n",
    "historicalPrices['date'] = firstWeek\n",
    "\n",
    "historicalPrices = historicalPrices.head(0)\n",
    "\n",
    "for wk in allWeeks: \n",
    "    currentWeekData = allWeeksData[wk]\n",
    "    currentFrame = pd.json_normalize(currentWeekData)\n",
    "    currentFrame['date'] = wk\n",
    "    historicalPrices = pd.concat([historicalPrices, currentFrame])\n",
    "\n",
    "historicalPrices.head()"
   ]
  },
  {
   "cell_type": "code",
   "execution_count": 102,
   "metadata": {},
   "outputs": [
    {
     "data": {
      "text/html": [
       "<div>\n",
       "<style scoped>\n",
       "    .dataframe tbody tr th:only-of-type {\n",
       "        vertical-align: middle;\n",
       "    }\n",
       "\n",
       "    .dataframe tbody tr th {\n",
       "        vertical-align: top;\n",
       "    }\n",
       "\n",
       "    .dataframe thead th {\n",
       "        text-align: right;\n",
       "    }\n",
       "</style>\n",
       "<table border=\"1\" class=\"dataframe\">\n",
       "  <thead>\n",
       "    <tr style=\"text-align: right;\">\n",
       "      <th></th>\n",
       "      <th>1. open</th>\n",
       "      <th>2. high</th>\n",
       "      <th>3. low</th>\n",
       "      <th>4. close</th>\n",
       "      <th>5. volume</th>\n",
       "      <th>date</th>\n",
       "    </tr>\n",
       "  </thead>\n",
       "  <tbody>\n",
       "    <tr>\n",
       "      <th>0</th>\n",
       "      <td>20.5000</td>\n",
       "      <td>22.1800</td>\n",
       "      <td>19.5200</td>\n",
       "      <td>19.5900</td>\n",
       "      <td>4399700</td>\n",
       "      <td>2010-08-06</td>\n",
       "    </tr>\n",
       "    <tr>\n",
       "      <th>0</th>\n",
       "      <td>21.5000</td>\n",
       "      <td>21.5000</td>\n",
       "      <td>19.5500</td>\n",
       "      <td>19.9400</td>\n",
       "      <td>3052000</td>\n",
       "      <td>2010-07-30</td>\n",
       "    </tr>\n",
       "    <tr>\n",
       "      <th>0</th>\n",
       "      <td>21.3700</td>\n",
       "      <td>22.2500</td>\n",
       "      <td>19.5000</td>\n",
       "      <td>21.2900</td>\n",
       "      <td>7175700</td>\n",
       "      <td>2010-07-23</td>\n",
       "    </tr>\n",
       "    <tr>\n",
       "      <th>0</th>\n",
       "      <td>17.9500</td>\n",
       "      <td>21.5000</td>\n",
       "      <td>16.9000</td>\n",
       "      <td>20.6400</td>\n",
       "      <td>15438900</td>\n",
       "      <td>2010-07-16</td>\n",
       "    </tr>\n",
       "    <tr>\n",
       "      <th>0</th>\n",
       "      <td>20.0000</td>\n",
       "      <td>20.0000</td>\n",
       "      <td>14.9800</td>\n",
       "      <td>17.4000</td>\n",
       "      <td>25550600</td>\n",
       "      <td>2010-07-09</td>\n",
       "    </tr>\n",
       "  </tbody>\n",
       "</table>\n",
       "</div>"
      ],
      "text/plain": [
       "   1. open  2. high   3. low 4. close 5. volume        date\n",
       "0  20.5000  22.1800  19.5200  19.5900   4399700  2010-08-06\n",
       "0  21.5000  21.5000  19.5500  19.9400   3052000  2010-07-30\n",
       "0  21.3700  22.2500  19.5000  21.2900   7175700  2010-07-23\n",
       "0  17.9500  21.5000  16.9000  20.6400  15438900  2010-07-16\n",
       "0  20.0000  20.0000  14.9800  17.4000  25550600  2010-07-09"
      ]
     },
     "execution_count": 102,
     "metadata": {},
     "output_type": "execute_result"
    }
   ],
   "source": [
    "historicalPrices.tail()"
   ]
  },
  {
   "cell_type": "code",
   "execution_count": 105,
   "metadata": {},
   "outputs": [
    {
     "data": {
      "text/plain": [
       "(645, 6)"
      ]
     },
     "execution_count": 105,
     "metadata": {},
     "output_type": "execute_result"
    }
   ],
   "source": [
    "historicalPrices.shape"
   ]
  },
  {
   "cell_type": "code",
   "execution_count": 103,
   "metadata": {},
   "outputs": [
    {
     "name": "stdout",
     "output_type": "stream",
     "text": [
      "<class 'pandas.core.frame.DataFrame'>\n",
      "Int64Index: 645 entries, 0 to 0\n",
      "Data columns (total 6 columns):\n",
      " #   Column     Non-Null Count  Dtype  \n",
      "---  ------     --------------  -----  \n",
      " 0   1. open    645 non-null    object \n",
      " 1   2. high    645 non-null    object \n",
      " 2   3. low     645 non-null    object \n",
      " 3   4. close   645 non-null    float64\n",
      " 4   5. volume  645 non-null    object \n",
      " 5   date       645 non-null    object \n",
      "dtypes: float64(1), object(5)\n",
      "memory usage: 35.3+ KB\n"
     ]
    }
   ],
   "source": [
    "historicalPrices['4. close'] = historicalPrices['4. close'].astype(float)\n",
    "historicalPrices.info()"
   ]
  },
  {
   "cell_type": "code",
   "execution_count": 104,
   "metadata": {},
   "outputs": [
    {
     "data": {
      "image/png": "[encoded data removed]",
      "text/plain": [
       "<Figure size 640x480 with 1 Axes>"
      ]
     },
     "metadata": {},
     "output_type": "display_data"
    }
   ],
   "source": [
    "import matplotlib.pyplot as plt\n",
    "\n",
    "\n",
    "\n",
    "# plt.plot(historicalPrices['4. close'], linestyle = 'dotted')\n",
    "plt.plot(np.array(historicalPrices['4. close']), linestyle = 'solid')\n",
    "plt.show()"
   ]
  },
  {
   "cell_type": "code",
   "execution_count": null,
   "metadata": {},
   "outputs": [],
   "source": []
  },
  {
   "cell_type": "code",
   "execution_count": null,
   "metadata": {},
   "outputs": [],
   "source": []
  },
  {
   "cell_type": "code",
   "execution_count": null,
   "metadata": {},
   "outputs": [],
   "source": []
  },
  {
   "cell_type": "code",
   "execution_count": null,
   "metadata": {},
   "outputs": [],
   "source": []
  }
 ],
 "metadata": {
  "kernelspec": {
   "display_name": "Python 3.10.8 64-bit",
   "language": "python",
   "name": "python3"
  },
  "language_info": {
   "codemirror_mode": {
    "name": "ipython",
    "version": 3
   },
   "file_extension": ".py",
   "mimetype": "text/x-python",
   "name": "python",
   "nbconvert_exporter": "python",
   "pygments_lexer": "ipython3",
   "version": "3.10.8"
  },
  "orig_nbformat": 4,
  "vscode": {
   "interpreter": {
    "hash": "aee8b7b246df8f9039afb4144a1f6fd8d2ca17a180786b69acc140d282b71a49"
   }
  }
 },
 "nbformat": 4,
 "nbformat_minor": 2
}
