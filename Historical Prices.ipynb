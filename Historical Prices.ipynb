{
 "cells": [
  {
   "cell_type": "code",
   "execution_count": 1,
   "metadata": {},
   "outputs": [],
   "source": [
    "import pandas as pd\n",
    "import numpy as np"
   ]
  },
  {
   "cell_type": "markdown",
   "metadata": {},
   "source": [
    "# Select Transactions from DB"
   ]
  },
  {
   "cell_type": "code",
   "execution_count": 7,
   "metadata": {},
   "outputs": [],
   "source": [
    "import psycopg2 \n",
    "from sqlalchemy import create_engine\n",
    "from dotenv import load_dotenv\n",
    "import os\n",
    "\n",
    "\n",
    "load_dotenv()\n",
    "\n",
    "\n",
    "hostname=os.getenv(\"hostname\")\n",
    "database=os.getenv(\"database\")\n",
    "username=os.getenv(\"username\")\n",
    "pwd=os.getenv(\"pwd\")\n",
    "port_id=os.getenv(\"port_id\")\n",
    "host = os.getenv(\"host\")\n"
   ]
  },
  {
   "cell_type": "code",
   "execution_count": 8,
   "metadata": {},
   "outputs": [
    {
     "data": {
      "text/html": [
       "<div>\n",
       "<style scoped>\n",
       "    .dataframe tbody tr th:only-of-type {\n",
       "        vertical-align: middle;\n",
       "    }\n",
       "\n",
       "    .dataframe tbody tr th {\n",
       "        vertical-align: top;\n",
       "    }\n",
       "\n",
       "    .dataframe thead th {\n",
       "        text-align: right;\n",
       "    }\n",
       "</style>\n",
       "<table border=\"1\" class=\"dataframe\">\n",
       "  <thead>\n",
       "    <tr style=\"text-align: right;\">\n",
       "      <th></th>\n",
       "      <th>transaction_date</th>\n",
       "      <th>owner</th>\n",
       "      <th>ticker</th>\n",
       "      <th>asset_description</th>\n",
       "      <th>asset_type</th>\n",
       "      <th>type</th>\n",
       "      <th>amount</th>\n",
       "      <th>comment</th>\n",
       "      <th>senator</th>\n",
       "      <th>ptr_link</th>\n",
       "      <th>disclosure_date</th>\n",
       "      <th>id</th>\n",
       "    </tr>\n",
       "  </thead>\n",
       "  <tbody>\n",
       "    <tr>\n",
       "      <th>0</th>\n",
       "      <td>10/28/2022</td>\n",
       "      <td>Joint</td>\n",
       "      <td>MSFT</td>\n",
       "      <td>Microsoft Corporation - Common Stock Option Ty...</td>\n",
       "      <td>Stock Option</td>\n",
       "      <td>Sale (Full)</td>\n",
       "      <td>$1,001 - $15,000</td>\n",
       "      <td>--</td>\n",
       "      <td>Thomas H Tuberville</td>\n",
       "      <td>https://efdsearch.senate.gov/search/view/ptr/b...</td>\n",
       "      <td>11/10/2022</td>\n",
       "      <td>0</td>\n",
       "    </tr>\n",
       "    <tr>\n",
       "      <th>1</th>\n",
       "      <td>10/31/2022</td>\n",
       "      <td>Joint</td>\n",
       "      <td>CLF</td>\n",
       "      <td>Cleveland-Cliffs Inc. Common Stock</td>\n",
       "      <td>Stock</td>\n",
       "      <td>Purchase</td>\n",
       "      <td>$15,001 - $50,000</td>\n",
       "      <td>--</td>\n",
       "      <td>Thomas H Tuberville</td>\n",
       "      <td>https://efdsearch.senate.gov/search/view/ptr/b...</td>\n",
       "      <td>11/10/2022</td>\n",
       "      <td>1</td>\n",
       "    </tr>\n",
       "    <tr>\n",
       "      <th>2</th>\n",
       "      <td>10/28/2022</td>\n",
       "      <td>Joint</td>\n",
       "      <td>MSFT</td>\n",
       "      <td>Microsoft Corporation - Common Stock Option Ty...</td>\n",
       "      <td>Stock Option</td>\n",
       "      <td>Sale (Full)</td>\n",
       "      <td>$1,001 - $15,000</td>\n",
       "      <td>--</td>\n",
       "      <td>Thomas H Tuberville</td>\n",
       "      <td>https://efdsearch.senate.gov/search/view/ptr/b...</td>\n",
       "      <td>11/10/2022</td>\n",
       "      <td>2</td>\n",
       "    </tr>\n",
       "    <tr>\n",
       "      <th>3</th>\n",
       "      <td>10/28/2022</td>\n",
       "      <td>Joint</td>\n",
       "      <td>MSFT</td>\n",
       "      <td>Microsoft Corporation - Common Stock Option Ty...</td>\n",
       "      <td>Stock Option</td>\n",
       "      <td>Sale (Full)</td>\n",
       "      <td>$1,001 - $15,000</td>\n",
       "      <td>--</td>\n",
       "      <td>Thomas H Tuberville</td>\n",
       "      <td>https://efdsearch.senate.gov/search/view/ptr/b...</td>\n",
       "      <td>11/10/2022</td>\n",
       "      <td>3</td>\n",
       "    </tr>\n",
       "    <tr>\n",
       "      <th>4</th>\n",
       "      <td>10/24/2022</td>\n",
       "      <td>Joint</td>\n",
       "      <td>MSFT</td>\n",
       "      <td>Microsoft Corporation - Common Stock</td>\n",
       "      <td>Stock</td>\n",
       "      <td>Purchase</td>\n",
       "      <td>$15,001 - $50,000</td>\n",
       "      <td>--</td>\n",
       "      <td>Thomas H Tuberville</td>\n",
       "      <td>https://efdsearch.senate.gov/search/view/ptr/b...</td>\n",
       "      <td>11/10/2022</td>\n",
       "      <td>4</td>\n",
       "    </tr>\n",
       "  </tbody>\n",
       "</table>\n",
       "</div>"
      ],
      "text/plain": [
       "  transaction_date  owner ticker  \\\n",
       "0       10/28/2022  Joint   MSFT   \n",
       "1       10/31/2022  Joint    CLF   \n",
       "2       10/28/2022  Joint   MSFT   \n",
       "3       10/28/2022  Joint   MSFT   \n",
       "4       10/24/2022  Joint   MSFT   \n",
       "\n",
       "                                   asset_description    asset_type  \\\n",
       "0  Microsoft Corporation - Common Stock Option Ty...  Stock Option   \n",
       "1                 Cleveland-Cliffs Inc. Common Stock         Stock   \n",
       "2  Microsoft Corporation - Common Stock Option Ty...  Stock Option   \n",
       "3  Microsoft Corporation - Common Stock Option Ty...  Stock Option   \n",
       "4               Microsoft Corporation - Common Stock         Stock   \n",
       "\n",
       "          type             amount comment              senator  \\\n",
       "0  Sale (Full)   $1,001 - $15,000      --  Thomas H Tuberville   \n",
       "1     Purchase  $15,001 - $50,000      --  Thomas H Tuberville   \n",
       "2  Sale (Full)   $1,001 - $15,000      --  Thomas H Tuberville   \n",
       "3  Sale (Full)   $1,001 - $15,000      --  Thomas H Tuberville   \n",
       "4     Purchase  $15,001 - $50,000      --  Thomas H Tuberville   \n",
       "\n",
       "                                            ptr_link disclosure_date  id  \n",
       "0  https://efdsearch.senate.gov/search/view/ptr/b...      11/10/2022   0  \n",
       "1  https://efdsearch.senate.gov/search/view/ptr/b...      11/10/2022   1  \n",
       "2  https://efdsearch.senate.gov/search/view/ptr/b...      11/10/2022   2  \n",
       "3  https://efdsearch.senate.gov/search/view/ptr/b...      11/10/2022   3  \n",
       "4  https://efdsearch.senate.gov/search/view/ptr/b...      11/10/2022   4  "
      ]
     },
     "execution_count": 8,
     "metadata": {},
     "output_type": "execute_result"
    }
   ],
   "source": [
    "conn_string = f\"postgresql://{username}:{pwd}@{host}:{port_id}/{database}\"\n",
    "db =  create_engine(url=conn_string)\n",
    "conn=db.connect()\n",
    "\n",
    "df = pd.read_sql(\"SELECT * FROM transactions\", db)\n",
    "\n",
    "df.head()\n",
    "\n"
   ]
  },
  {
   "cell_type": "code",
   "execution_count": null,
   "metadata": {},
   "outputs": [],
   "source": []
  },
  {
   "cell_type": "markdown",
   "metadata": {},
   "source": [
    "# Gather Tickers and Transaction Dates"
   ]
  },
  {
   "cell_type": "code",
   "execution_count": 10,
   "metadata": {},
   "outputs": [
    {
     "data": {
      "text/plain": [
       "ticker\n",
       "--         01/01/2014\n",
       "0QZI.IL    09/25/2019\n",
       "3V64.TI    09/25/2019\n",
       "A          02/24/2015\n",
       "AA         01/06/2021\n",
       "Name: transaction_date, dtype: object"
      ]
     },
     "execution_count": 10,
     "metadata": {},
     "output_type": "execute_result"
    }
   ],
   "source": [
    "dateSer = df.groupby(\"ticker\")['transaction_date'].min()\n",
    "dateSer.head()"
   ]
  },
  {
   "cell_type": "code",
   "execution_count": 12,
   "metadata": {},
   "outputs": [
    {
     "data": {
      "text/plain": [
       "['--', '0QZI.IL', '3V64.TI', 'A', 'AA']"
      ]
     },
     "execution_count": 12,
     "metadata": {},
     "output_type": "execute_result"
    }
   ],
   "source": [
    "allTickers = list(dateSer.index)\n",
    "allTickers[:5]"
   ]
  },
  {
   "cell_type": "code",
   "execution_count": 24,
   "metadata": {},
   "outputs": [
    {
     "name": "stdout",
     "output_type": "stream",
     "text": [
      "https://www.alphavantage.co/query?function=TIME_SERIES_WEEKLY&symbol=KO&apikey=None\n"
     ]
    }
   ],
   "source": [
    "apiKey = os.getenv('apiKey')\n",
    "tick = 'KO'\n",
    "\n",
    "testEndpoint =f\"https://www.alphavantage.co/query?function=TIME_SERIES_WEEKLY&symbol={tick}&apikey={apiKey}\"\n",
    "\n",
    "print(testEndpoint)\n"
   ]
  },
  {
   "cell_type": "code",
   "execution_count": 23,
   "metadata": {},
   "outputs": [],
   "source": [
    "# testEndpoint = f\"https://www.alphavantage.co/query?function=TIME_SERIES_WEEKLY&symbol=IBM&apikey=U288LAEMR485UKD1\"\n"
   ]
  },
  {
   "cell_type": "code",
   "execution_count": null,
   "metadata": {},
   "outputs": [],
   "source": []
  }
 ],
 "metadata": {
  "kernelspec": {
   "display_name": "Python 3.10.8 64-bit",
   "language": "python",
   "name": "python3"
  },
  "language_info": {
   "codemirror_mode": {
    "name": "ipython",
    "version": 3
   },
   "file_extension": ".py",
   "mimetype": "text/x-python",
   "name": "python",
   "nbconvert_exporter": "python",
   "pygments_lexer": "ipython3",
   "version": "3.10.8"
  },
  "orig_nbformat": 4,
  "vscode": {
   "interpreter": {
    "hash": "aee8b7b246df8f9039afb4144a1f6fd8d2ca17a180786b69acc140d282b71a49"
   }
  }
 },
 "nbformat": 4,
 "nbformat_minor": 2
}
