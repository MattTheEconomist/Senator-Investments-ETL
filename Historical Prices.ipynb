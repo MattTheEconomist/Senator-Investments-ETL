{
 "cells": [
  {
   "cell_type": "code",
   "execution_count": 212,
   "metadata": {},
   "outputs": [],
   "source": [
    "import pandas as pd\n",
    "import numpy as np"
   ]
  },
  {
   "cell_type": "markdown",
   "metadata": {},
   "source": [
    "# Select Transactions from DB"
   ]
  },
  {
   "cell_type": "code",
   "execution_count": 213,
   "metadata": {},
   "outputs": [],
   "source": [
    "import psycopg2 \n",
    "from sqlalchemy import create_engine\n",
    "from dotenv import load_dotenv\n",
    "import os\n",
    "\n",
    "\n",
    "load_dotenv()\n",
    "\n",
    "\n",
    "hostname=os.getenv(\"hostname\")\n",
    "database=os.getenv(\"database\")\n",
    "username=os.getenv(\"username\")\n",
    "pwd=os.getenv(\"pwd\")\n",
    "port_id=os.getenv(\"port_id\")\n",
    "host = os.getenv(\"host\")\n"
   ]
  },
  {
   "cell_type": "code",
   "execution_count": 214,
   "metadata": {},
   "outputs": [
    {
     "data": {
      "text/html": [
       "<div>\n",
       "<style scoped>\n",
       "    .dataframe tbody tr th:only-of-type {\n",
       "        vertical-align: middle;\n",
       "    }\n",
       "\n",
       "    .dataframe tbody tr th {\n",
       "        vertical-align: top;\n",
       "    }\n",
       "\n",
       "    .dataframe thead th {\n",
       "        text-align: right;\n",
       "    }\n",
       "</style>\n",
       "<table border=\"1\" class=\"dataframe\">\n",
       "  <thead>\n",
       "    <tr style=\"text-align: right;\">\n",
       "      <th></th>\n",
       "      <th>transaction_date</th>\n",
       "      <th>owner</th>\n",
       "      <th>ticker</th>\n",
       "      <th>asset_description</th>\n",
       "      <th>asset_type</th>\n",
       "      <th>type</th>\n",
       "      <th>amount</th>\n",
       "      <th>comment</th>\n",
       "      <th>senator</th>\n",
       "      <th>ptr_link</th>\n",
       "      <th>disclosure_date</th>\n",
       "      <th>id</th>\n",
       "    </tr>\n",
       "  </thead>\n",
       "  <tbody>\n",
       "    <tr>\n",
       "      <th>0</th>\n",
       "      <td>10/28/2022</td>\n",
       "      <td>Joint</td>\n",
       "      <td>MSFT</td>\n",
       "      <td>Microsoft Corporation - Common Stock Option Ty...</td>\n",
       "      <td>Stock Option</td>\n",
       "      <td>Sale (Full)</td>\n",
       "      <td>$1,001 - $15,000</td>\n",
       "      <td>--</td>\n",
       "      <td>Thomas H Tuberville</td>\n",
       "      <td>https://efdsearch.senate.gov/search/view/ptr/b...</td>\n",
       "      <td>11/10/2022</td>\n",
       "      <td>0</td>\n",
       "    </tr>\n",
       "    <tr>\n",
       "      <th>1</th>\n",
       "      <td>10/31/2022</td>\n",
       "      <td>Joint</td>\n",
       "      <td>CLF</td>\n",
       "      <td>Cleveland-Cliffs Inc. Common Stock</td>\n",
       "      <td>Stock</td>\n",
       "      <td>Purchase</td>\n",
       "      <td>$15,001 - $50,000</td>\n",
       "      <td>--</td>\n",
       "      <td>Thomas H Tuberville</td>\n",
       "      <td>https://efdsearch.senate.gov/search/view/ptr/b...</td>\n",
       "      <td>11/10/2022</td>\n",
       "      <td>1</td>\n",
       "    </tr>\n",
       "    <tr>\n",
       "      <th>2</th>\n",
       "      <td>10/28/2022</td>\n",
       "      <td>Joint</td>\n",
       "      <td>MSFT</td>\n",
       "      <td>Microsoft Corporation - Common Stock Option Ty...</td>\n",
       "      <td>Stock Option</td>\n",
       "      <td>Sale (Full)</td>\n",
       "      <td>$1,001 - $15,000</td>\n",
       "      <td>--</td>\n",
       "      <td>Thomas H Tuberville</td>\n",
       "      <td>https://efdsearch.senate.gov/search/view/ptr/b...</td>\n",
       "      <td>11/10/2022</td>\n",
       "      <td>2</td>\n",
       "    </tr>\n",
       "    <tr>\n",
       "      <th>3</th>\n",
       "      <td>10/28/2022</td>\n",
       "      <td>Joint</td>\n",
       "      <td>MSFT</td>\n",
       "      <td>Microsoft Corporation - Common Stock Option Ty...</td>\n",
       "      <td>Stock Option</td>\n",
       "      <td>Sale (Full)</td>\n",
       "      <td>$1,001 - $15,000</td>\n",
       "      <td>--</td>\n",
       "      <td>Thomas H Tuberville</td>\n",
       "      <td>https://efdsearch.senate.gov/search/view/ptr/b...</td>\n",
       "      <td>11/10/2022</td>\n",
       "      <td>3</td>\n",
       "    </tr>\n",
       "    <tr>\n",
       "      <th>4</th>\n",
       "      <td>10/24/2022</td>\n",
       "      <td>Joint</td>\n",
       "      <td>MSFT</td>\n",
       "      <td>Microsoft Corporation - Common Stock</td>\n",
       "      <td>Stock</td>\n",
       "      <td>Purchase</td>\n",
       "      <td>$15,001 - $50,000</td>\n",
       "      <td>--</td>\n",
       "      <td>Thomas H Tuberville</td>\n",
       "      <td>https://efdsearch.senate.gov/search/view/ptr/b...</td>\n",
       "      <td>11/10/2022</td>\n",
       "      <td>4</td>\n",
       "    </tr>\n",
       "  </tbody>\n",
       "</table>\n",
       "</div>"
      ],
      "text/plain": [
       "  transaction_date  owner ticker  \\\n",
       "0       10/28/2022  Joint   MSFT   \n",
       "1       10/31/2022  Joint    CLF   \n",
       "2       10/28/2022  Joint   MSFT   \n",
       "3       10/28/2022  Joint   MSFT   \n",
       "4       10/24/2022  Joint   MSFT   \n",
       "\n",
       "                                   asset_description    asset_type  \\\n",
       "0  Microsoft Corporation - Common Stock Option Ty...  Stock Option   \n",
       "1                 Cleveland-Cliffs Inc. Common Stock         Stock   \n",
       "2  Microsoft Corporation - Common Stock Option Ty...  Stock Option   \n",
       "3  Microsoft Corporation - Common Stock Option Ty...  Stock Option   \n",
       "4               Microsoft Corporation - Common Stock         Stock   \n",
       "\n",
       "          type             amount comment              senator  \\\n",
       "0  Sale (Full)   $1,001 - $15,000      --  Thomas H Tuberville   \n",
       "1     Purchase  $15,001 - $50,000      --  Thomas H Tuberville   \n",
       "2  Sale (Full)   $1,001 - $15,000      --  Thomas H Tuberville   \n",
       "3  Sale (Full)   $1,001 - $15,000      --  Thomas H Tuberville   \n",
       "4     Purchase  $15,001 - $50,000      --  Thomas H Tuberville   \n",
       "\n",
       "                                            ptr_link disclosure_date  id  \n",
       "0  https://efdsearch.senate.gov/search/view/ptr/b...      11/10/2022   0  \n",
       "1  https://efdsearch.senate.gov/search/view/ptr/b...      11/10/2022   1  \n",
       "2  https://efdsearch.senate.gov/search/view/ptr/b...      11/10/2022   2  \n",
       "3  https://efdsearch.senate.gov/search/view/ptr/b...      11/10/2022   3  \n",
       "4  https://efdsearch.senate.gov/search/view/ptr/b...      11/10/2022   4  "
      ]
     },
     "execution_count": 214,
     "metadata": {},
     "output_type": "execute_result"
    }
   ],
   "source": [
    "conn_string = f\"postgresql://{username}:{pwd}@{host}:{port_id}/{database}\"\n",
    "db =  create_engine(url=conn_string)\n",
    "# conn=db.connect()\n",
    "\n",
    "transactions = pd.read_sql(\"SELECT * FROM transactions\", db)\n",
    "\n",
    "transactions.head()\n",
    "\n"
   ]
  },
  {
   "cell_type": "code",
   "execution_count": 215,
   "metadata": {},
   "outputs": [
    {
     "data": {
      "text/plain": [
       "Timestamp('2012-06-14 00:00:00')"
      ]
     },
     "execution_count": 215,
     "metadata": {},
     "output_type": "execute_result"
    }
   ],
   "source": [
    "transactions['dt'] = pd.to_datetime(transactions['transaction_date'])\n",
    "transactions = transactions.sort_values(by=\"dt\")\n",
    "earliestDate = transactions.dt.to_list()[0]\n",
    "earliestDate"
   ]
  },
  {
   "cell_type": "code",
   "execution_count": null,
   "metadata": {},
   "outputs": [],
   "source": []
  },
  {
   "cell_type": "markdown",
   "metadata": {},
   "source": [
    "# Convert API Request to DataFrame"
   ]
  },
  {
   "cell_type": "code",
   "execution_count": 216,
   "metadata": {},
   "outputs": [],
   "source": [
    "load_dotenv()\n",
    "import requests\n",
    "import json \n",
    "import asyncio\n",
    "\n",
    "\n",
    "def requestFromEndpoint(ticker):\n",
    "    #create endpoint\n",
    "    apiKey = os.getenv('apiKey')\n",
    "    endpoint =f\"https://www.alphavantage.co/query?function=TIME_SERIES_WEEKLY&symbol={ticker}&apikey={apiKey}\"\n",
    "\n",
    "    response = requests.get(endpoint)\n",
    "    responseText = response.text\n",
    "\n",
    "    return responseText\n",
    "\n",
    "\n",
    "def jsonToDataFrame(jsonData, ticker):\n",
    "    allWeeksData = jsonData['Weekly Time Series']\n",
    "    allWeeks = list(allWeeksData.keys())\n",
    "\n",
    "    #convert to df \n",
    "    firstWeek = allWeeks[0]\n",
    "    firstWeekData =allWeeksData[firstWeek ]\n",
    "    historicalPrices = pd.json_normalize(firstWeekData)\n",
    "    historicalPrices['date'] = firstWeek\n",
    "\n",
    "    historicalPrices = historicalPrices.head(0)\n",
    "\n",
    "    for wk in allWeeks: \n",
    "        currentWeekData = allWeeksData[wk]\n",
    "        currentFrame = pd.json_normalize(currentWeekData)\n",
    "        currentFrame['date'] = wk\n",
    "        historicalPrices = pd.concat([historicalPrices, currentFrame])\n",
    "\n",
    "\n",
    "    # remove oldest values \n",
    "    historicalPrices['dt'] = pd.to_datetime(historicalPrices.date)\n",
    "    historicalPrices[historicalPrices['dt'] > earliestDate]\n",
    "\n",
    "\n",
    "    #format frame\n",
    "    historicalPrices.rename(columns={'4. close': ticker}, inplace=True)\n",
    "    historicalPrices = historicalPrices[[ticker, 'date']]\n",
    "    historicalPrices[ticker] = historicalPrices[ticker].astype(float)\n",
    "    \n",
    "    return historicalPrices\n",
    "\n",
    "\n",
    "\n",
    "\n",
    "def requestToDataFrame(ticker):\n",
    "    \n",
    "    responseText = requestFromEndpoint(ticker)\n",
    "\n",
    "    jsonData = json.loads(responseText)\n",
    "\n",
    "    callsExceededMessage = 'Our standard API call frequency is 5 calls per minute and 500 calls per day'\n",
    "    invalidTickerMessage = 'Invalid API call. Please retry or visit the documentation'\n",
    "    \n",
    "    jsonValue_initial = list(jsonData.values())[0]\n",
    "    if invalidTickerMessage in jsonValue_initial:\n",
    "        return 'ticker invalid'\n",
    "    if callsExceededMessage in jsonValue_initial:\n",
    "        return 'call limit exceeded'\n",
    "    \n",
    "    return jsonToDataFrame(jsonData, ticker)\n",
    "\n"
   ]
  },
  {
   "cell_type": "code",
   "execution_count": 217,
   "metadata": {},
   "outputs": [],
   "source": [
    "koFrame = requestToDataFrame(\"KO\")\n",
    "tslaFrame = requestToDataFrame(\"TSLA\")\n",
    "spyFrame = requestToDataFrame(\"SPY\")"
   ]
  },
  {
   "cell_type": "code",
   "execution_count": 218,
   "metadata": {},
   "outputs": [
    {
     "data": {
      "image/png": "[encoded data removed]",
      "text/plain": [
       "<Figure size 640x480 with 1 Axes>"
      ]
     },
     "metadata": {},
     "output_type": "display_data"
    }
   ],
   "source": [
    "import matplotlib.pyplot as plt\n",
    "\n",
    "tslaFrame = tslaFrame.sort_values(by=\"date\")\n",
    "plt.plot(np.array(tslaFrame['TSLA']), linestyle = 'solid')\n",
    "plt.show()\n"
   ]
  },
  {
   "cell_type": "markdown",
   "metadata": {},
   "source": [
    "data requests appear to be working correclty"
   ]
  },
  {
   "cell_type": "code",
   "execution_count": null,
   "metadata": {},
   "outputs": [],
   "source": []
  },
  {
   "cell_type": "markdown",
   "metadata": {},
   "source": [
    "# Harvest all Stock Data from Endpoint"
   ]
  },
  {
   "cell_type": "code",
   "execution_count": 225,
   "metadata": {},
   "outputs": [
    {
     "name": "stdout",
     "output_type": "stream",
     "text": [
      "(646, 3)\n",
      "NOTE, all week end periods match across requests. so let's make a function for merging \n"
     ]
    }
   ],
   "source": [
    "print(tslaFrame.merge(koFrame, how='left', on='date').shape)\n",
    "print(\"NOTE, all week end periods match across requests. so let's make a function for merging \")"
   ]
  },
  {
   "cell_type": "code",
   "execution_count": 220,
   "metadata": {},
   "outputs": [
    {
     "data": {
      "text/html": [
       "<div>\n",
       "<style scoped>\n",
       "    .dataframe tbody tr th:only-of-type {\n",
       "        vertical-align: middle;\n",
       "    }\n",
       "\n",
       "    .dataframe tbody tr th {\n",
       "        vertical-align: top;\n",
       "    }\n",
       "\n",
       "    .dataframe thead th {\n",
       "        text-align: right;\n",
       "    }\n",
       "</style>\n",
       "<table border=\"1\" class=\"dataframe\">\n",
       "  <thead>\n",
       "    <tr style=\"text-align: right;\">\n",
       "      <th></th>\n",
       "      <th>KO</th>\n",
       "      <th>date</th>\n",
       "      <th>TSLA</th>\n",
       "      <th>SPY</th>\n",
       "    </tr>\n",
       "  </thead>\n",
       "  <tbody>\n",
       "    <tr>\n",
       "      <th>1197</th>\n",
       "      <td>63.25</td>\n",
       "      <td>1999-12-10</td>\n",
       "      <td>NaN</td>\n",
       "      <td>141.8750</td>\n",
       "    </tr>\n",
       "    <tr>\n",
       "      <th>1198</th>\n",
       "      <td>68.31</td>\n",
       "      <td>1999-12-03</td>\n",
       "      <td>NaN</td>\n",
       "      <td>143.8437</td>\n",
       "    </tr>\n",
       "    <tr>\n",
       "      <th>1199</th>\n",
       "      <td>66.56</td>\n",
       "      <td>1999-11-26</td>\n",
       "      <td>NaN</td>\n",
       "      <td>141.4375</td>\n",
       "    </tr>\n",
       "    <tr>\n",
       "      <th>1200</th>\n",
       "      <td>60.50</td>\n",
       "      <td>1999-11-19</td>\n",
       "      <td>NaN</td>\n",
       "      <td>142.5000</td>\n",
       "    </tr>\n",
       "    <tr>\n",
       "      <th>1201</th>\n",
       "      <td>57.50</td>\n",
       "      <td>1999-11-12</td>\n",
       "      <td>NaN</td>\n",
       "      <td>139.7500</td>\n",
       "    </tr>\n",
       "  </tbody>\n",
       "</table>\n",
       "</div>"
      ],
      "text/plain": [
       "         KO        date  TSLA       SPY\n",
       "1197  63.25  1999-12-10   NaN  141.8750\n",
       "1198  68.31  1999-12-03   NaN  143.8437\n",
       "1199  66.56  1999-11-26   NaN  141.4375\n",
       "1200  60.50  1999-11-19   NaN  142.5000\n",
       "1201  57.50  1999-11-12   NaN  139.7500"
      ]
     },
     "execution_count": 220,
     "metadata": {},
     "output_type": "execute_result"
    }
   ],
   "source": [
    "\n",
    "def mergeFrames(frame1, frame2):\n",
    "    rows1 = frame1.shape[0]\n",
    "    rows2 = frame2.shape[0]\n",
    "    \n",
    "    # always merge left against the bigger frame \n",
    "    if rows1 >= rows2:\n",
    "        largeFrame, shortFrame = frame1, frame2\n",
    "    else: \n",
    "        largeFrame, shortFrame = frame2, frame1\n",
    "    \n",
    "    rez = largeFrame.merge(shortFrame, how='left', on='date')\n",
    "\n",
    "    return rez\n",
    "\n",
    "\n",
    "temp = mergeFrames(koFrame, tslaFrame)\n",
    "temp = mergeFrames(temp, spyFrame)\n",
    "temp.tail()"
   ]
  },
  {
   "cell_type": "code",
   "execution_count": 221,
   "metadata": {},
   "outputs": [
    {
     "data": {
      "text/plain": [
       "['--', '0QZI.IL', '3V64.TI', 'A', 'AA']"
      ]
     },
     "execution_count": 221,
     "metadata": {},
     "output_type": "execute_result"
    }
   ],
   "source": [
    "dateSer = transactions.groupby(\"ticker\")['transaction_date'].min()\n",
    "allTickers = list(dateSer.index)\n",
    "allTickers[:5]"
   ]
  },
  {
   "cell_type": "code",
   "execution_count": 222,
   "metadata": {},
   "outputs": [
    {
     "data": {
      "text/plain": [
       "ticker\n",
       "--         01/01/2014\n",
       "0QZI.IL    09/25/2019\n",
       "3V64.TI    09/25/2019\n",
       "A          02/24/2015\n",
       "AA         01/06/2021\n",
       "Name: transaction_date, dtype: object"
      ]
     },
     "execution_count": 222,
     "metadata": {},
     "output_type": "execute_result"
    }
   ],
   "source": [
    "dateSer.head()"
   ]
  },
  {
   "cell_type": "code",
   "execution_count": null,
   "metadata": {},
   "outputs": [],
   "source": []
  },
  {
   "cell_type": "code",
   "execution_count": 223,
   "metadata": {},
   "outputs": [],
   "source": [
    "# requestToDataFrame('A')"
   ]
  },
  {
   "cell_type": "code",
   "execution_count": null,
   "metadata": {},
   "outputs": [],
   "source": []
  }
 ],
 "metadata": {
  "kernelspec": {
   "display_name": "Python 3.10.8 64-bit",
   "language": "python",
   "name": "python3"
  },
  "language_info": {
   "codemirror_mode": {
    "name": "ipython",
    "version": 3
   },
   "file_extension": ".py",
   "mimetype": "text/x-python",
   "name": "python",
   "nbconvert_exporter": "python",
   "pygments_lexer": "ipython3",
   "version": "3.10.8"
  },
  "orig_nbformat": 4,
  "vscode": {
   "interpreter": {
    "hash": "aee8b7b246df8f9039afb4144a1f6fd8d2ca17a180786b69acc140d282b71a49"
   }
  }
 },
 "nbformat": 4,
 "nbformat_minor": 2
}
