{
 "cells": [
  {
   "cell_type": "code",
   "execution_count": 212,
   "metadata": {},
   "outputs": [],
   "source": [
    "import pandas as pd\n",
    "import numpy as np"
   ]
  },
  {
   "cell_type": "markdown",
   "metadata": {},
   "source": [
    "# Select Transactions from DB"
   ]
  },
  {
   "cell_type": "code",
   "execution_count": 213,
   "metadata": {},
   "outputs": [],
   "source": [
    "import psycopg2 \n",
    "from sqlalchemy import create_engine\n",
    "from dotenv import load_dotenv\n",
    "import os\n",
    "\n",
    "\n",
    "load_dotenv()\n",
    "\n",
    "\n",
    "hostname=os.getenv(\"hostname\")\n",
    "database=os.getenv(\"database\")\n",
    "username=os.getenv(\"username\")\n",
    "pwd=os.getenv(\"pwd\")\n",
    "port_id=os.getenv(\"port_id\")\n",
    "host = os.getenv(\"host\")\n"
   ]
  },
  {
   "cell_type": "code",
   "execution_count": 214,
   "metadata": {},
   "outputs": [
    {
     "data": {
      "text/html": [
       "<div>\n",
       "<style scoped>\n",
       "    .dataframe tbody tr th:only-of-type {\n",
       "        vertical-align: middle;\n",
       "    }\n",
       "\n",
       "    .dataframe tbody tr th {\n",
       "        vertical-align: top;\n",
       "    }\n",
       "\n",
       "    .dataframe thead th {\n",
       "        text-align: right;\n",
       "    }\n",
       "</style>\n",
       "<table border=\"1\" class=\"dataframe\">\n",
       "  <thead>\n",
       "    <tr style=\"text-align: right;\">\n",
       "      <th></th>\n",
       "      <th>transaction_date</th>\n",
       "      <th>owner</th>\n",
       "      <th>ticker</th>\n",
       "      <th>asset_description</th>\n",
       "      <th>asset_type</th>\n",
       "      <th>type</th>\n",
       "      <th>amount</th>\n",
       "      <th>comment</th>\n",
       "      <th>senator</th>\n",
       "      <th>ptr_link</th>\n",
       "      <th>disclosure_date</th>\n",
       "      <th>id</th>\n",
       "    </tr>\n",
       "  </thead>\n",
       "  <tbody>\n",
       "    <tr>\n",
       "      <th>0</th>\n",
       "      <td>10/28/2022</td>\n",
       "      <td>Joint</td>\n",
       "      <td>MSFT</td>\n",
       "      <td>Microsoft Corporation - Common Stock Option Ty...</td>\n",
       "      <td>Stock Option</td>\n",
       "      <td>Sale (Full)</td>\n",
       "      <td>$1,001 - $15,000</td>\n",
       "      <td>--</td>\n",
       "      <td>Thomas H Tuberville</td>\n",
       "      <td>https://efdsearch.senate.gov/search/view/ptr/b...</td>\n",
       "      <td>11/10/2022</td>\n",
       "      <td>0</td>\n",
       "    </tr>\n",
       "    <tr>\n",
       "      <th>1</th>\n",
       "      <td>10/31/2022</td>\n",
       "      <td>Joint</td>\n",
       "      <td>CLF</td>\n",
       "      <td>Cleveland-Cliffs Inc. Common Stock</td>\n",
       "      <td>Stock</td>\n",
       "      <td>Purchase</td>\n",
       "      <td>$15,001 - $50,000</td>\n",
       "      <td>--</td>\n",
       "      <td>Thomas H Tuberville</td>\n",
       "      <td>https://efdsearch.senate.gov/search/view/ptr/b...</td>\n",
       "      <td>11/10/2022</td>\n",
       "      <td>1</td>\n",
       "    </tr>\n",
       "    <tr>\n",
       "      <th>2</th>\n",
       "      <td>10/28/2022</td>\n",
       "      <td>Joint</td>\n",
       "      <td>MSFT</td>\n",
       "      <td>Microsoft Corporation - Common Stock Option Ty...</td>\n",
       "      <td>Stock Option</td>\n",
       "      <td>Sale (Full)</td>\n",
       "      <td>$1,001 - $15,000</td>\n",
       "      <td>--</td>\n",
       "      <td>Thomas H Tuberville</td>\n",
       "      <td>https://efdsearch.senate.gov/search/view/ptr/b...</td>\n",
       "      <td>11/10/2022</td>\n",
       "      <td>2</td>\n",
       "    </tr>\n",
       "    <tr>\n",
       "      <th>3</th>\n",
       "      <td>10/28/2022</td>\n",
       "      <td>Joint</td>\n",
       "      <td>MSFT</td>\n",
       "      <td>Microsoft Corporation - Common Stock Option Ty...</td>\n",
       "      <td>Stock Option</td>\n",
       "      <td>Sale (Full)</td>\n",
       "      <td>$1,001 - $15,000</td>\n",
       "      <td>--</td>\n",
       "      <td>Thomas H Tuberville</td>\n",
       "      <td>https://efdsearch.senate.gov/search/view/ptr/b...</td>\n",
       "      <td>11/10/2022</td>\n",
       "      <td>3</td>\n",
       "    </tr>\n",
       "    <tr>\n",
       "      <th>4</th>\n",
       "      <td>10/24/2022</td>\n",
       "      <td>Joint</td>\n",
       "      <td>MSFT</td>\n",
       "      <td>Microsoft Corporation - Common Stock</td>\n",
       "      <td>Stock</td>\n",
       "      <td>Purchase</td>\n",
       "      <td>$15,001 - $50,000</td>\n",
       "      <td>--</td>\n",
       "      <td>Thomas H Tuberville</td>\n",
       "      <td>https://efdsearch.senate.gov/search/view/ptr/b...</td>\n",
       "      <td>11/10/2022</td>\n",
       "      <td>4</td>\n",
       "    </tr>\n",
       "  </tbody>\n",
       "</table>\n",
       "</div>"
      ],
      "text/plain": [
       "  transaction_date  owner ticker  \\\n",
       "0       10/28/2022  Joint   MSFT   \n",
       "1       10/31/2022  Joint    CLF   \n",
       "2       10/28/2022  Joint   MSFT   \n",
       "3       10/28/2022  Joint   MSFT   \n",
       "4       10/24/2022  Joint   MSFT   \n",
       "\n",
       "                                   asset_description    asset_type  \\\n",
       "0  Microsoft Corporation - Common Stock Option Ty...  Stock Option   \n",
       "1                 Cleveland-Cliffs Inc. Common Stock         Stock   \n",
       "2  Microsoft Corporation - Common Stock Option Ty...  Stock Option   \n",
       "3  Microsoft Corporation - Common Stock Option Ty...  Stock Option   \n",
       "4               Microsoft Corporation - Common Stock         Stock   \n",
       "\n",
       "          type             amount comment              senator  \\\n",
       "0  Sale (Full)   $1,001 - $15,000      --  Thomas H Tuberville   \n",
       "1     Purchase  $15,001 - $50,000      --  Thomas H Tuberville   \n",
       "2  Sale (Full)   $1,001 - $15,000      --  Thomas H Tuberville   \n",
       "3  Sale (Full)   $1,001 - $15,000      --  Thomas H Tuberville   \n",
       "4     Purchase  $15,001 - $50,000      --  Thomas H Tuberville   \n",
       "\n",
       "                                            ptr_link disclosure_date  id  \n",
       "0  https://efdsearch.senate.gov/search/view/ptr/b...      11/10/2022   0  \n",
       "1  https://efdsearch.senate.gov/search/view/ptr/b...      11/10/2022   1  \n",
       "2  https://efdsearch.senate.gov/search/view/ptr/b...      11/10/2022   2  \n",
       "3  https://efdsearch.senate.gov/search/view/ptr/b...      11/10/2022   3  \n",
       "4  https://efdsearch.senate.gov/search/view/ptr/b...      11/10/2022   4  "
      ]
     },
     "execution_count": 214,
     "metadata": {},
     "output_type": "execute_result"
    }
   ],
   "source": [
    "conn_string = f\"postgresql://{username}:{pwd}@{host}:{port_id}/{database}\"\n",
    "db =  create_engine(url=conn_string)\n",
    "# conn=db.connect()\n",
    "\n",
    "transactions = pd.read_sql(\"SELECT * FROM transactions\", db)\n",
    "\n",
    "transactions.head()\n",
    "\n"
   ]
  },
  {
   "cell_type": "code",
   "execution_count": 215,
   "metadata": {},
   "outputs": [
    {
     "data": {
      "text/plain": [
       "Timestamp('2012-06-14 00:00:00')"
      ]
     },
     "execution_count": 215,
     "metadata": {},
     "output_type": "execute_result"
    }
   ],
   "source": [
    "transactions['dt'] = pd.to_datetime(transactions['transaction_date'])\n",
    "transactions = transactions.sort_values(by=\"dt\")\n",
    "earliestDate = transactions.dt.to_list()[0]\n",
    "earliestDate"
   ]
  },
  {
   "cell_type": "code",
   "execution_count": 465,
   "metadata": {},
   "outputs": [
    {
     "data": {
      "text/plain": [
       "'https://www.alphavantage.co/query?function=TIME_SERIES_WEEKLY_ADJUSTED&symbol=GOOGL&apikey=U288LAEMR485UKD1'"
      ]
     },
     "execution_count": 465,
     "metadata": {},
     "output_type": "execute_result"
    }
   ],
   "source": [
    "# f\"https://www.alphavantage.co/query?function=TIME_SERIES_WEEKLY&symbol=GOOGL&apikey={apiKey}\"\n",
    "f\"https://www.alphavantage.co/query?function=TIME_SERIES_WEEKLY_ADJUSTED&symbol=GOOGL&apikey={apiKey}\"\n",
    "\n"
   ]
  },
  {
   "cell_type": "markdown",
   "metadata": {},
   "source": [
    "# Convert API Request to DataFrame"
   ]
  },
  {
   "cell_type": "code",
   "execution_count": 468,
   "metadata": {},
   "outputs": [],
   "source": [
    "load_dotenv()\n",
    "import requests\n",
    "import json \n",
    "import asyncio\n",
    "\n",
    "\n",
    "def requestFromEndpoint(ticker):\n",
    "    #create endpoint\n",
    "    apiKey = os.getenv('apiKey')\n",
    "    endpoint =f\"https://www.alphavantage.co/query?function=TIME_SERIES_WEEKLY_ADJUSTED&symbol={ticker}&apikey={apiKey}\"\n",
    "\n",
    "    response = requests.get(endpoint)\n",
    "    responseText = response.text\n",
    "\n",
    "    return responseText\n",
    "\n",
    "\n",
    "def jsonToDataFrame(jsonData, ticker):\n",
    "    # allWeeksData = jsonData['Weekly Time Series']\n",
    "    allWeeksData = jsonData['Weekly Adjusted Time Series']\n",
    "    allWeeks = list(allWeeksData.keys())\n",
    "\n",
    "    #convert to df \n",
    "    firstWeek = allWeeks[0]\n",
    "    firstWeekData =allWeeksData[firstWeek ]\n",
    "    historicalPrices = pd.json_normalize(firstWeekData)\n",
    "    historicalPrices['date'] = firstWeek\n",
    "\n",
    "    historicalPrices = historicalPrices.head(0)\n",
    "\n",
    "    for wk in allWeeks: \n",
    "        currentWeekData = allWeeksData[wk]\n",
    "        currentFrame = pd.json_normalize(currentWeekData)\n",
    "        currentFrame['date'] = wk\n",
    "        historicalPrices = pd.concat([historicalPrices, currentFrame])\n",
    "\n",
    "\n",
    "    # remove oldest values \n",
    "    historicalPrices['dt'] = pd.to_datetime(historicalPrices.date)\n",
    "    historicalPrices = historicalPrices[historicalPrices['dt'] > earliestDate]\n",
    "\n",
    "\n",
    "    #format frame\n",
    "    # historicalPrices.rename(columns={'4. close': ticker}, inplace=True)\n",
    "    historicalPrices.rename(columns={'5. adjusted close': ticker}, inplace=True)\n",
    "    historicalPrices = historicalPrices[[ticker, 'date']]\n",
    "    historicalPrices[ticker] = historicalPrices[ticker].astype(float)\n",
    "    \n",
    "    return historicalPrices\n",
    "\n",
    "\n",
    "invalidTickerReturnSting = 'ticker invalid'\n",
    "maxCallReturnString = 'call limit exceeded'\n",
    "\n",
    "\n",
    "\n",
    "def requestToDataFrame(ticker):\n",
    "    \n",
    "    responseText = requestFromEndpoint(ticker)\n",
    "\n",
    "    jsonData = json.loads(responseText)\n",
    "\n",
    "    callsExceededMessage = 'Our standard API call frequency is 5 calls per minute and 500 calls per day'\n",
    "    invalidTickerMessage = 'Invalid API call. Please retry or visit the documentation'\n",
    "    \n",
    "    jsonValue_initial = list(jsonData.values())[0]\n",
    "    if invalidTickerMessage in jsonValue_initial:\n",
    "        return  invalidTickerReturnSting\n",
    "    if callsExceededMessage in jsonValue_initial:\n",
    "        return maxCallReturnString\n",
    "    \n",
    "    return jsonToDataFrame(jsonData, ticker)\n",
    "\n"
   ]
  },
  {
   "cell_type": "code",
   "execution_count": 217,
   "metadata": {},
   "outputs": [],
   "source": [
    "koFrame = requestToDataFrame(\"KO\")\n",
    "tslaFrame = requestToDataFrame(\"TSLA\")\n",
    "spyFrame = requestToDataFrame(\"SPY\")"
   ]
  },
  {
   "cell_type": "code",
   "execution_count": 469,
   "metadata": {},
   "outputs": [
    {
     "data": {
      "text/html": [
       "<div>\n",
       "<style scoped>\n",
       "    .dataframe tbody tr th:only-of-type {\n",
       "        vertical-align: middle;\n",
       "    }\n",
       "\n",
       "    .dataframe tbody tr th {\n",
       "        vertical-align: top;\n",
       "    }\n",
       "\n",
       "    .dataframe thead th {\n",
       "        text-align: right;\n",
       "    }\n",
       "</style>\n",
       "<table border=\"1\" class=\"dataframe\">\n",
       "  <thead>\n",
       "    <tr style=\"text-align: right;\">\n",
       "      <th></th>\n",
       "      <th>GOOGL</th>\n",
       "      <th>date</th>\n",
       "    </tr>\n",
       "  </thead>\n",
       "  <tbody>\n",
       "    <tr>\n",
       "      <th>0</th>\n",
       "      <td>97.43</td>\n",
       "      <td>2022-11-18</td>\n",
       "    </tr>\n",
       "    <tr>\n",
       "      <th>0</th>\n",
       "      <td>96.41</td>\n",
       "      <td>2022-11-11</td>\n",
       "    </tr>\n",
       "    <tr>\n",
       "      <th>0</th>\n",
       "      <td>86.58</td>\n",
       "      <td>2022-11-04</td>\n",
       "    </tr>\n",
       "    <tr>\n",
       "      <th>0</th>\n",
       "      <td>96.29</td>\n",
       "      <td>2022-10-28</td>\n",
       "    </tr>\n",
       "    <tr>\n",
       "      <th>0</th>\n",
       "      <td>101.13</td>\n",
       "      <td>2022-10-21</td>\n",
       "    </tr>\n",
       "  </tbody>\n",
       "</table>\n",
       "</div>"
      ],
      "text/plain": [
       "    GOOGL        date\n",
       "0   97.43  2022-11-18\n",
       "0   96.41  2022-11-11\n",
       "0   86.58  2022-11-04\n",
       "0   96.29  2022-10-28\n",
       "0  101.13  2022-10-21"
      ]
     },
     "execution_count": 469,
     "metadata": {},
     "output_type": "execute_result"
    }
   ],
   "source": [
    "glFrame = requestToDataFrame(\"GOOGL\")\n",
    "# glFrame.head()\n"
   ]
  },
  {
   "cell_type": "code",
   "execution_count": 218,
   "metadata": {},
   "outputs": [
    {
     "data": {
      "image/png": "[encoded data removed]",
      "text/plain": [
       "<Figure size 640x480 with 1 Axes>"
      ]
     },
     "metadata": {},
     "output_type": "display_data"
    }
   ],
   "source": [
    "import matplotlib.pyplot as plt\n",
    "\n",
    "tslaFrame = tslaFrame.sort_values(by=\"date\")\n",
    "plt.plot(np.array(tslaFrame['TSLA']), linestyle = 'solid')\n",
    "plt.show()\n"
   ]
  },
  {
   "cell_type": "markdown",
   "metadata": {},
   "source": [
    "data requests appear to be working correclty"
   ]
  },
  {
   "cell_type": "code",
   "execution_count": null,
   "metadata": {},
   "outputs": [],
   "source": []
  },
  {
   "cell_type": "markdown",
   "metadata": {},
   "source": [
    "# Establish Letter Ranges\n",
    "this way we don't stick all stock data into one table\n"
   ]
  },
  {
   "cell_type": "code",
   "execution_count": 243,
   "metadata": {},
   "outputs": [
    {
     "data": {
      "text/plain": [
       "['--', '0QZI.IL', '3V64.TI', 'A', 'AA']"
      ]
     },
     "execution_count": 243,
     "metadata": {},
     "output_type": "execute_result"
    }
   ],
   "source": [
    "dateSer = transactions.groupby(\"ticker\")['transaction_date'].min()\n",
    "allTickers = list(dateSer.index)\n",
    "allTickers[:5]"
   ]
  },
  {
   "cell_type": "code",
   "execution_count": 246,
   "metadata": {},
   "outputs": [
    {
     "name": "stdout",
     "output_type": "stream",
     "text": [
      "unique tickers: 1199\n",
      "we can't create a table with over a thousand columns, it needs to be broken into smaller tables by leading letter\n"
     ]
    }
   ],
   "source": [
    "# dateSer.head()\n",
    "tickerCount= len(allTickers)\n",
    "print(f\"unique tickers: {tickerCount}\")\n",
    "print(\"we can't create a table with over a thousand columns, it needs to be broken into smaller tables by leading letter\")"
   ]
  },
  {
   "cell_type": "code",
   "execution_count": 250,
   "metadata": {},
   "outputs": [
    {
     "data": {
      "text/plain": [
       "{'A': 105,\n",
       " 'B': 65,\n",
       " 'C': 112,\n",
       " 'D': 47,\n",
       " 'E': 51,\n",
       " 'F': 50,\n",
       " 'G': 46,\n",
       " 'H': 42,\n",
       " 'I': 52,\n",
       " 'J': 15,\n",
       " 'K': 28,\n",
       " 'L': 46,\n",
       " 'M': 63,\n",
       " 'N': 47,\n",
       " 'O': 19,\n",
       " 'P': 72,\n",
       " 'Q': 9,\n",
       " 'R': 47,\n",
       " 'S': 85,\n",
       " 'T': 62,\n",
       " 'U': 19,\n",
       " 'V': 42,\n",
       " 'W': 38,\n",
       " 'X': 20,\n",
       " 'Y': 4,\n",
       " 'Z': 8}"
      ]
     },
     "execution_count": 250,
     "metadata": {},
     "output_type": "execute_result"
    }
   ],
   "source": [
    "import string\n",
    "\n",
    "alphabet = (string.ascii_uppercase)\n",
    "countList = [0 for i in alphabet]\n",
    "letterCounts = dict(zip(alphabet, countList))\n",
    "# letterCounts\n",
    "for tick in allTickers: \n",
    "    tick = str(tick)\n",
    "    leadingLetter = tick[0]\n",
    "\n",
    "    if leadingLetter.isalpha():\n",
    "        # print(tick)\n",
    "        letterCounts[leadingLetter] = letterCounts[leadingLetter]+1\n",
    "\n",
    "letterCounts"
   ]
  },
  {
   "cell_type": "code",
   "execution_count": 258,
   "metadata": {},
   "outputs": [
    {
     "data": {
      "text/plain": [
       "{'A': [105, 105, 1],\n",
       " 'B': [65, 170, 1],\n",
       " 'C': [112, 282, 1],\n",
       " 'D': [47, 329, 1],\n",
       " 'E': [51, 380, 1],\n",
       " 'F': [50, 430, 1],\n",
       " 'G': [46, 476, 1],\n",
       " 'H': [42, 518, 2],\n",
       " 'I': [52, 570, 2],\n",
       " 'J': [15, 585, 2],\n",
       " 'K': [28, 613, 2],\n",
       " 'L': [46, 659, 2],\n",
       " 'M': [63, 722, 2],\n",
       " 'N': [47, 769, 2],\n",
       " 'O': [19, 788, 2],\n",
       " 'P': [72, 860, 2],\n",
       " 'Q': [9, 869, 2],\n",
       " 'R': [47, 916, 2],\n",
       " 'S': [85, 1001, 3],\n",
       " 'T': [62, 1063, 3],\n",
       " 'U': [19, 1082, 3],\n",
       " 'V': [42, 1124, 3],\n",
       " 'W': [38, 1162, 3],\n",
       " 'X': [20, 1182, 3],\n",
       " 'Y': [4, 1186, 3],\n",
       " 'Z': [8, 1194, 3]}"
      ]
     },
     "execution_count": 258,
     "metadata": {},
     "output_type": "execute_result"
    }
   ],
   "source": [
    "\n",
    "columnLimit = 500\n",
    "cumulativeSum = 0\n",
    "rez = []\n",
    "letterList = list(letterCounts.keys())\n",
    "countList = list(letterCounts.values())\n",
    "\n",
    "# for idx, value in enumerate(countList) :\n",
    "for  value in countList :\n",
    "    cumulativeSum+= value\n",
    "    tableCount = (cumulativeSum//columnLimit)+1\n",
    "    rez.append([value, cumulativeSum, tableCount ])\n",
    "    \n",
    "\n",
    "letterCountsNew = dict(zip(letterList, rez))\n",
    "letterCountsNew\n",
    "\n"
   ]
  },
  {
   "cell_type": "markdown",
   "metadata": {},
   "source": [
    "so, one table for each of the letter ranges 'A-G', 'H-R', 'S-Z' "
   ]
  },
  {
   "cell_type": "code",
   "execution_count": 276,
   "metadata": {},
   "outputs": [
    {
     "data": {
      "text/plain": [
       "'ABCDEFGHIJKLMNOPQRSTUVWXYZ'"
      ]
     },
     "execution_count": 276,
     "metadata": {},
     "output_type": "execute_result"
    }
   ],
   "source": [
    "string.ascii_uppercase"
   ]
  },
  {
   "cell_type": "code",
   "execution_count": 336,
   "metadata": {},
   "outputs": [],
   "source": [
    "AGLetterRange =  'ABCDEFG'\n",
    "HRLetterRange  = 'HIJKLMNOPQR'\n",
    "SZLetterRange  = 'STUVWXYZ'"
   ]
  },
  {
   "cell_type": "code",
   "execution_count": 327,
   "metadata": {},
   "outputs": [
    {
     "data": {
      "text/html": [
       "<div>\n",
       "<style scoped>\n",
       "    .dataframe tbody tr th:only-of-type {\n",
       "        vertical-align: middle;\n",
       "    }\n",
       "\n",
       "    .dataframe tbody tr th {\n",
       "        vertical-align: top;\n",
       "    }\n",
       "\n",
       "    .dataframe thead th {\n",
       "        text-align: right;\n",
       "    }\n",
       "</style>\n",
       "<table border=\"1\" class=\"dataframe\">\n",
       "  <thead>\n",
       "    <tr style=\"text-align: right;\">\n",
       "      <th></th>\n",
       "      <th>SPY</th>\n",
       "      <th>date</th>\n",
       "    </tr>\n",
       "  </thead>\n",
       "  <tbody>\n",
       "    <tr>\n",
       "      <th>0</th>\n",
       "      <td>135.75</td>\n",
       "      <td>2012-07-13</td>\n",
       "    </tr>\n",
       "    <tr>\n",
       "      <th>0</th>\n",
       "      <td>135.49</td>\n",
       "      <td>2012-07-06</td>\n",
       "    </tr>\n",
       "    <tr>\n",
       "      <th>0</th>\n",
       "      <td>136.10</td>\n",
       "      <td>2012-06-29</td>\n",
       "    </tr>\n",
       "    <tr>\n",
       "      <th>0</th>\n",
       "      <td>133.46</td>\n",
       "      <td>2012-06-22</td>\n",
       "    </tr>\n",
       "    <tr>\n",
       "      <th>0</th>\n",
       "      <td>134.14</td>\n",
       "      <td>2012-06-15</td>\n",
       "    </tr>\n",
       "  </tbody>\n",
       "</table>\n",
       "</div>"
      ],
      "text/plain": [
       "      SPY        date\n",
       "0  135.75  2012-07-13\n",
       "0  135.49  2012-07-06\n",
       "0  136.10  2012-06-29\n",
       "0  133.46  2012-06-22\n",
       "0  134.14  2012-06-15"
      ]
     },
     "execution_count": 327,
     "metadata": {},
     "output_type": "execute_result"
    }
   ],
   "source": [
    "fillerFrame = requestToDataFrame('SPY')\n",
    "fillerFrame.tail()"
   ]
  },
  {
   "cell_type": "code",
   "execution_count": 332,
   "metadata": {},
   "outputs": [
    {
     "data": {
      "text/html": [
       "<div>\n",
       "<style scoped>\n",
       "    .dataframe tbody tr th:only-of-type {\n",
       "        vertical-align: middle;\n",
       "    }\n",
       "\n",
       "    .dataframe tbody tr th {\n",
       "        vertical-align: top;\n",
       "    }\n",
       "\n",
       "    .dataframe thead th {\n",
       "        text-align: right;\n",
       "    }\n",
       "</style>\n",
       "<table border=\"1\" class=\"dataframe\">\n",
       "  <thead>\n",
       "    <tr style=\"text-align: right;\">\n",
       "      <th></th>\n",
       "      <th>deleteMe</th>\n",
       "      <th>date</th>\n",
       "      <th>deleteMeToo</th>\n",
       "    </tr>\n",
       "  </thead>\n",
       "  <tbody>\n",
       "    <tr>\n",
       "      <th>0</th>\n",
       "      <td>135.75</td>\n",
       "      <td>2012-07-13</td>\n",
       "      <td>135.75</td>\n",
       "    </tr>\n",
       "    <tr>\n",
       "      <th>0</th>\n",
       "      <td>135.49</td>\n",
       "      <td>2012-07-06</td>\n",
       "      <td>135.49</td>\n",
       "    </tr>\n",
       "    <tr>\n",
       "      <th>0</th>\n",
       "      <td>136.10</td>\n",
       "      <td>2012-06-29</td>\n",
       "      <td>136.10</td>\n",
       "    </tr>\n",
       "    <tr>\n",
       "      <th>0</th>\n",
       "      <td>133.46</td>\n",
       "      <td>2012-06-22</td>\n",
       "      <td>133.46</td>\n",
       "    </tr>\n",
       "    <tr>\n",
       "      <th>0</th>\n",
       "      <td>134.14</td>\n",
       "      <td>2012-06-15</td>\n",
       "      <td>134.14</td>\n",
       "    </tr>\n",
       "  </tbody>\n",
       "</table>\n",
       "</div>"
      ],
      "text/plain": [
       "   deleteMe        date  deleteMeToo\n",
       "0    135.75  2012-07-13       135.75\n",
       "0    135.49  2012-07-06       135.49\n",
       "0    136.10  2012-06-29       136.10\n",
       "0    133.46  2012-06-22       133.46\n",
       "0    134.14  2012-06-15       134.14"
      ]
     },
     "execution_count": 332,
     "metadata": {},
     "output_type": "execute_result"
    }
   ],
   "source": [
    "fillerFrame.columns=['deleteMe', 'date']\n",
    "\n",
    "# ensure each starting dataframe always has more columns than the dataframe is merging with\n",
    "fillerFrame['deleteMeToo'] = fillerFrame['deleteMe']\n",
    "\n",
    "fillerFrame.tail()"
   ]
  },
  {
   "cell_type": "code",
   "execution_count": 333,
   "metadata": {},
   "outputs": [],
   "source": [
    "AGFrame = fillerFrame\n",
    "HRFrame = fillerFrame\n",
    "SZFrame = fillerFrame \n",
    "\n"
   ]
  },
  {
   "cell_type": "code",
   "execution_count": 331,
   "metadata": {},
   "outputs": [],
   "source": [
    "# AGFrame"
   ]
  },
  {
   "cell_type": "code",
   "execution_count": null,
   "metadata": {},
   "outputs": [],
   "source": []
  },
  {
   "cell_type": "markdown",
   "metadata": {},
   "source": [
    "# Create Merging Function "
   ]
  },
  {
   "cell_type": "code",
   "execution_count": 334,
   "metadata": {},
   "outputs": [
    {
     "name": "stdout",
     "output_type": "stream",
     "text": [
      "(646, 3)\n",
      "NOTE, all week end periods match across requests. so let's make a function for merging \n"
     ]
    }
   ],
   "source": [
    "print(tslaFrame.merge(koFrame, how='left', on='date').shape)\n",
    "print(\"NOTE, all week end periods match across requests. so let's make a function for merging \")"
   ]
  },
  {
   "cell_type": "code",
   "execution_count": 335,
   "metadata": {},
   "outputs": [
    {
     "data": {
      "text/html": [
       "<div>\n",
       "<style scoped>\n",
       "    .dataframe tbody tr th:only-of-type {\n",
       "        vertical-align: middle;\n",
       "    }\n",
       "\n",
       "    .dataframe tbody tr th {\n",
       "        vertical-align: top;\n",
       "    }\n",
       "\n",
       "    .dataframe thead th {\n",
       "        text-align: right;\n",
       "    }\n",
       "</style>\n",
       "<table border=\"1\" class=\"dataframe\">\n",
       "  <thead>\n",
       "    <tr style=\"text-align: right;\">\n",
       "      <th></th>\n",
       "      <th>KO</th>\n",
       "      <th>date</th>\n",
       "      <th>TSLA</th>\n",
       "      <th>SPY</th>\n",
       "    </tr>\n",
       "  </thead>\n",
       "  <tbody>\n",
       "    <tr>\n",
       "      <th>1197</th>\n",
       "      <td>63.25</td>\n",
       "      <td>1999-12-10</td>\n",
       "      <td>NaN</td>\n",
       "      <td>141.8750</td>\n",
       "    </tr>\n",
       "    <tr>\n",
       "      <th>1198</th>\n",
       "      <td>68.31</td>\n",
       "      <td>1999-12-03</td>\n",
       "      <td>NaN</td>\n",
       "      <td>143.8437</td>\n",
       "    </tr>\n",
       "    <tr>\n",
       "      <th>1199</th>\n",
       "      <td>66.56</td>\n",
       "      <td>1999-11-26</td>\n",
       "      <td>NaN</td>\n",
       "      <td>141.4375</td>\n",
       "    </tr>\n",
       "    <tr>\n",
       "      <th>1200</th>\n",
       "      <td>60.50</td>\n",
       "      <td>1999-11-19</td>\n",
       "      <td>NaN</td>\n",
       "      <td>142.5000</td>\n",
       "    </tr>\n",
       "    <tr>\n",
       "      <th>1201</th>\n",
       "      <td>57.50</td>\n",
       "      <td>1999-11-12</td>\n",
       "      <td>NaN</td>\n",
       "      <td>139.7500</td>\n",
       "    </tr>\n",
       "  </tbody>\n",
       "</table>\n",
       "</div>"
      ],
      "text/plain": [
       "         KO        date  TSLA       SPY\n",
       "1197  63.25  1999-12-10   NaN  141.8750\n",
       "1198  68.31  1999-12-03   NaN  143.8437\n",
       "1199  66.56  1999-11-26   NaN  141.4375\n",
       "1200  60.50  1999-11-19   NaN  142.5000\n",
       "1201  57.50  1999-11-12   NaN  139.7500"
      ]
     },
     "execution_count": 335,
     "metadata": {},
     "output_type": "execute_result"
    }
   ],
   "source": [
    "def mergeFrames(frame1, frame2):\n",
    "    rows1 = frame1.shape[1]\n",
    "    rows2 = frame2.shape[1]\n",
    "    \n",
    "    # always merge left against the frame with more columns \n",
    "    if rows1 >= rows2:\n",
    "        largeFrame, shortFrame = frame1, frame2\n",
    "    else: \n",
    "        largeFrame, shortFrame = frame2, frame1\n",
    "    \n",
    "    rez = largeFrame.merge(shortFrame, how='left', on='date')\n",
    "\n",
    "    return rez\n",
    "\n",
    "\n",
    "temp = mergeFrames(koFrame, tslaFrame)\n",
    "temp = mergeFrames(temp, spyFrame)\n",
    "temp.tail()"
   ]
  },
  {
   "cell_type": "code",
   "execution_count": null,
   "metadata": {},
   "outputs": [],
   "source": []
  },
  {
   "cell_type": "markdown",
   "metadata": {},
   "source": [
    "# Harvest Data and and Post to the appropriate Dataframe\n",
    "* stay under the call limit per minute\n",
    "* make fetches until the daily call limit is reached \n",
    "* post data to dataframes "
   ]
  },
  {
   "cell_type": "code",
   "execution_count": 380,
   "metadata": {},
   "outputs": [],
   "source": [
    "import time\n",
    "\n",
    "callLimitTimeout = 60/5\n",
    "callsExecutedCount = 0\n",
    "isDailyCallLimitReached = False\n",
    "currentFrameString = 'hello'\n",
    "invalidTickers = []\n",
    "unmergedTickers =[]\n",
    "attemptedTickers = []\n",
    "connectionErrorTickers = []\n",
    "\n",
    "callsExecutedYesterday = 0\n",
    "\n",
    "remainingTickers = allTickers.copy()\n"
   ]
  },
  {
   "cell_type": "code",
   "execution_count": 379,
   "metadata": {},
   "outputs": [],
   "source": [
    "\n",
    "\n",
    "# this function must be one once per day to harvest all stock data without breaking daily call limit\n",
    "def harvestStockData():\n",
    "    global callLimitTimeout\n",
    "    global callsExecutedCount \n",
    "    global isDailyCallLimitReached \n",
    "    global currentFrameString \n",
    "    global invalidTickers \n",
    "    global unmergedTickers \n",
    "    global attemptedTickers\n",
    "    global connectionErrorTickers\n",
    "\n",
    "    global AGFrame\n",
    "    global HRFrame\n",
    "    global SZFrame\n",
    "\n",
    "\n",
    "    remainingTickers = list(filter(lambda tick: tick not in attemptedTickers, allTickers))\n",
    "\n",
    "    \n",
    "    for currentTicker in remainingTickers:\n",
    "\n",
    "        attemptedTickers.append(currentTicker)\n",
    "        #stay under minute call limit \n",
    "        time.sleep(callLimitTimeout)\n",
    "        callsExecutedCount+=1\n",
    "\n",
    "        print(f\"attempting ticker: {currentTicker}\", end=\"\\r\")\n",
    "\n",
    "        currentFrame = 'starting value'\n",
    "\n",
    "        try:\n",
    "            currentFrame = requestToDataFrame(currentTicker)\n",
    "        except ConnectionError:\n",
    "            connectionErrorTickers.append(currentTicker)\n",
    "            continue           \n",
    "\n",
    "\n",
    "        currentFrameString = str(currentFrame)[:100]\n",
    "\n",
    "        if currentFrameString == invalidTickerReturnSting:\n",
    "            invalidTickers.append(currentTicker)\n",
    "            continue \n",
    "        \n",
    "        if currentFrameString == maxCallReturnString:\n",
    "            # pick up where you left off yesterday \n",
    "            #exit loop if daily call limit is exceeded, return statistics \n",
    "            print(f\"\"\"calll limit exceeded \\n \n",
    "        #     calls executed: {callsExecutedCount} \\n \n",
    "        #     last called ticker: {currentTicker}\"\"\")\n",
    "            break\n",
    "\n",
    "        tickerLeadingLetter = currentTicker[0]\n",
    "\n",
    "        if tickerLeadingLetter in AGLetterRange:\n",
    "            AGFrame= mergeFrames(AGFrame, currentFrame)\n",
    "        elif tickerLeadingLetter in HRLetterRange:\n",
    "            HRFrame= mergeFrames(HRFrame, currentFrame)\n",
    "        elif tickerLeadingLetter in SZLetterRange:\n",
    "            SZFrame  = mergeFrames(SZFrame, currentFrame)\n",
    "        else:\n",
    "            unmergedTickers.append(currentTicker)\n",
    "\n",
    "    print(\"function execution complete\")\n",
    "    return 'finished'\n",
    "    "
   ]
  },
  {
   "cell_type": "code",
   "execution_count": null,
   "metadata": {},
   "outputs": [],
   "source": [
    "# running the first day \n",
    "harvestStockData()"
   ]
  },
  {
   "cell_type": "code",
   "execution_count": 408,
   "metadata": {},
   "outputs": [
    {
     "name": "stdout",
     "output_type": "stream",
     "text": [
      "attempting ticker: ^MWE.SW19P00180000\r"
     ]
    },
    {
     "ename": "IndexError",
     "evalue": "list index out of range",
     "output_type": "error",
     "traceback": [
      "\u001b[0;31m---------------------------------------------------------------------------\u001b[0m",
      "\u001b[0;31mIndexError\u001b[0m                                Traceback (most recent call last)",
      "Cell \u001b[0;32mIn [408], line 2\u001b[0m\n\u001b[1;32m      1\u001b[0m \u001b[39m# running the secon day \u001b[39;00m\n\u001b[0;32m----> 2\u001b[0m harvestStockData()\n",
      "Cell \u001b[0;32mIn [379], line 32\u001b[0m, in \u001b[0;36mharvestStockData\u001b[0;34m()\u001b[0m\n\u001b[1;32m     29\u001b[0m currentFrame \u001b[39m=\u001b[39m \u001b[39m'\u001b[39m\u001b[39mstarting value\u001b[39m\u001b[39m'\u001b[39m\n\u001b[1;32m     31\u001b[0m \u001b[39mtry\u001b[39;00m:\n\u001b[0;32m---> 32\u001b[0m     currentFrame \u001b[39m=\u001b[39m requestToDataFrame(currentTicker)\n\u001b[1;32m     33\u001b[0m \u001b[39mexcept\u001b[39;00m \u001b[39mConnectionError\u001b[39;00m:\n\u001b[1;32m     34\u001b[0m     connectionErrorTickers\u001b[39m.\u001b[39mappend(currentTicker)\n",
      "Cell \u001b[0;32mIn [285], line 64\u001b[0m, in \u001b[0;36mrequestToDataFrame\u001b[0;34m(ticker)\u001b[0m\n\u001b[1;32m     61\u001b[0m callsExceededMessage \u001b[39m=\u001b[39m \u001b[39m'\u001b[39m\u001b[39mOur standard API call frequency is 5 calls per minute and 500 calls per day\u001b[39m\u001b[39m'\u001b[39m\n\u001b[1;32m     62\u001b[0m invalidTickerMessage \u001b[39m=\u001b[39m \u001b[39m'\u001b[39m\u001b[39mInvalid API call. Please retry or visit the documentation\u001b[39m\u001b[39m'\u001b[39m\n\u001b[0;32m---> 64\u001b[0m jsonValue_initial \u001b[39m=\u001b[39m \u001b[39mlist\u001b[39;49m(jsonData\u001b[39m.\u001b[39;49mvalues())[\u001b[39m0\u001b[39;49m]\n\u001b[1;32m     65\u001b[0m \u001b[39mif\u001b[39;00m invalidTickerMessage \u001b[39min\u001b[39;00m jsonValue_initial:\n\u001b[1;32m     66\u001b[0m     \u001b[39mreturn\u001b[39;00m  invalidTickerReturnSting\n",
      "\u001b[0;31mIndexError\u001b[0m: list index out of range"
     ]
    }
   ],
   "source": [
    "# running the second day \n",
    "harvestStockData()"
   ]
  },
  {
   "cell_type": "code",
   "execution_count": 412,
   "metadata": {},
   "outputs": [
    {
     "data": {
      "text/plain": [
       "['ZAYO', 'ZBH', 'ZIOP', 'ZM', 'ZMH', 'ZNGA', 'ZNGA.SW', 'ZTS', '^MWE', '^RGP']"
      ]
     },
     "execution_count": 412,
     "metadata": {},
     "output_type": "execute_result"
    }
   ],
   "source": [
    "allTickers[-10:]\n"
   ]
  },
  {
   "cell_type": "markdown",
   "metadata": {},
   "source": [
    "alright! function ran all night with no problems. let's confirm we have our data"
   ]
  },
  {
   "cell_type": "code",
   "execution_count": 417,
   "metadata": {},
   "outputs": [],
   "source": [
    "# saving exteranally so data is not lost\n",
    "\n",
    "HRFrame.to_csv(\"HRFrame.csv\")\n",
    "AGFrame.to_csv(\"AGFrame.csv\")\n",
    "SZFrame.to_csv(\"SZFrame.csv\")"
   ]
  },
  {
   "cell_type": "code",
   "execution_count": 418,
   "metadata": {},
   "outputs": [
    {
     "name": "stdout",
     "output_type": "stream",
     "text": [
      "(545, 450)\n",
      "(545, 419)\n",
      "(545, 265)\n"
     ]
    }
   ],
   "source": [
    "for frame in [AGFrame, HRFrame, SZFrame]:\n",
    "    print(frame.shape)\n",
    "\n"
   ]
  },
  {
   "cell_type": "code",
   "execution_count": 419,
   "metadata": {},
   "outputs": [
    {
     "data": {
      "text/html": [
       "<div>\n",
       "<style scoped>\n",
       "    .dataframe tbody tr th:only-of-type {\n",
       "        vertical-align: middle;\n",
       "    }\n",
       "\n",
       "    .dataframe tbody tr th {\n",
       "        vertical-align: top;\n",
       "    }\n",
       "\n",
       "    .dataframe thead th {\n",
       "        text-align: right;\n",
       "    }\n",
       "</style>\n",
       "<table border=\"1\" class=\"dataframe\">\n",
       "  <thead>\n",
       "    <tr style=\"text-align: right;\">\n",
       "      <th></th>\n",
       "      <th>deleteMe</th>\n",
       "      <th>date</th>\n",
       "      <th>deleteMeToo</th>\n",
       "      <th>HACK</th>\n",
       "      <th>HAL</th>\n",
       "      <th>HALO</th>\n",
       "      <th>HAS</th>\n",
       "      <th>HASI</th>\n",
       "      <th>HBAN</th>\n",
       "      <th>HBI</th>\n",
       "      <th>...</th>\n",
       "      <th>RRTS</th>\n",
       "      <th>RSP</th>\n",
       "      <th>RSPP</th>\n",
       "      <th>RTH</th>\n",
       "      <th>RTN</th>\n",
       "      <th>RTX</th>\n",
       "      <th>RYAAY</th>\n",
       "      <th>RYAM</th>\n",
       "      <th>RYN</th>\n",
       "      <th>RYT</th>\n",
       "    </tr>\n",
       "  </thead>\n",
       "  <tbody>\n",
       "    <tr>\n",
       "      <th>0</th>\n",
       "      <td>398.49</td>\n",
       "      <td>2022-11-15</td>\n",
       "      <td>398.49</td>\n",
       "      <td>NaN</td>\n",
       "      <td>NaN</td>\n",
       "      <td>NaN</td>\n",
       "      <td>58.71</td>\n",
       "      <td>NaN</td>\n",
       "      <td>NaN</td>\n",
       "      <td>NaN</td>\n",
       "      <td>...</td>\n",
       "      <td>NaN</td>\n",
       "      <td>NaN</td>\n",
       "      <td>NaN</td>\n",
       "      <td>NaN</td>\n",
       "      <td>NaN</td>\n",
       "      <td>NaN</td>\n",
       "      <td>NaN</td>\n",
       "      <td>NaN</td>\n",
       "      <td>NaN</td>\n",
       "      <td>NaN</td>\n",
       "    </tr>\n",
       "    <tr>\n",
       "      <th>1</th>\n",
       "      <td>398.51</td>\n",
       "      <td>2022-11-11</td>\n",
       "      <td>398.51</td>\n",
       "      <td>45.96</td>\n",
       "      <td>38.74</td>\n",
       "      <td>53.97</td>\n",
       "      <td>63.41</td>\n",
       "      <td>33.05</td>\n",
       "      <td>14.97</td>\n",
       "      <td>7.77</td>\n",
       "      <td>...</td>\n",
       "      <td>2.21</td>\n",
       "      <td>146.08</td>\n",
       "      <td>NaN</td>\n",
       "      <td>166.7700</td>\n",
       "      <td>NaN</td>\n",
       "      <td>93.65</td>\n",
       "      <td>78.18</td>\n",
       "      <td>7.09</td>\n",
       "      <td>35.65</td>\n",
       "      <td>258.51</td>\n",
       "    </tr>\n",
       "    <tr>\n",
       "      <th>2</th>\n",
       "      <td>376.35</td>\n",
       "      <td>2022-11-04</td>\n",
       "      <td>376.35</td>\n",
       "      <td>42.60</td>\n",
       "      <td>38.48</td>\n",
       "      <td>46.59</td>\n",
       "      <td>62.19</td>\n",
       "      <td>27.48</td>\n",
       "      <td>15.38</td>\n",
       "      <td>6.97</td>\n",
       "      <td>...</td>\n",
       "      <td>2.30</td>\n",
       "      <td>137.91</td>\n",
       "      <td>NaN</td>\n",
       "      <td>158.2400</td>\n",
       "      <td>NaN</td>\n",
       "      <td>95.22</td>\n",
       "      <td>69.05</td>\n",
       "      <td>7.14</td>\n",
       "      <td>32.88</td>\n",
       "      <td>234.69</td>\n",
       "    </tr>\n",
       "    <tr>\n",
       "      <th>3</th>\n",
       "      <td>389.02</td>\n",
       "      <td>2022-10-28</td>\n",
       "      <td>389.02</td>\n",
       "      <td>47.13</td>\n",
       "      <td>35.95</td>\n",
       "      <td>48.24</td>\n",
       "      <td>65.73</td>\n",
       "      <td>27.29</td>\n",
       "      <td>15.11</td>\n",
       "      <td>7.20</td>\n",
       "      <td>...</td>\n",
       "      <td>2.27</td>\n",
       "      <td>140.18</td>\n",
       "      <td>NaN</td>\n",
       "      <td>163.9900</td>\n",
       "      <td>NaN</td>\n",
       "      <td>95.08</td>\n",
       "      <td>67.86</td>\n",
       "      <td>4.36</td>\n",
       "      <td>34.11</td>\n",
       "      <td>247.62</td>\n",
       "    </tr>\n",
       "    <tr>\n",
       "      <th>4</th>\n",
       "      <td>374.29</td>\n",
       "      <td>2022-10-21</td>\n",
       "      <td>374.29</td>\n",
       "      <td>44.63</td>\n",
       "      <td>33.88</td>\n",
       "      <td>46.06</td>\n",
       "      <td>65.49</td>\n",
       "      <td>22.84</td>\n",
       "      <td>14.45</td>\n",
       "      <td>7.36</td>\n",
       "      <td>...</td>\n",
       "      <td>2.31</td>\n",
       "      <td>132.87</td>\n",
       "      <td>NaN</td>\n",
       "      <td>159.7624</td>\n",
       "      <td>NaN</td>\n",
       "      <td>88.54</td>\n",
       "      <td>63.41</td>\n",
       "      <td>3.63</td>\n",
       "      <td>32.84</td>\n",
       "      <td>234.09</td>\n",
       "    </tr>\n",
       "  </tbody>\n",
       "</table>\n",
       "<p>5 rows × 419 columns</p>\n",
       "</div>"
      ],
      "text/plain": [
       "   deleteMe        date  deleteMeToo   HACK    HAL   HALO    HAS   HASI  \\\n",
       "0    398.49  2022-11-15       398.49    NaN    NaN    NaN  58.71    NaN   \n",
       "1    398.51  2022-11-11       398.51  45.96  38.74  53.97  63.41  33.05   \n",
       "2    376.35  2022-11-04       376.35  42.60  38.48  46.59  62.19  27.48   \n",
       "3    389.02  2022-10-28       389.02  47.13  35.95  48.24  65.73  27.29   \n",
       "4    374.29  2022-10-21       374.29  44.63  33.88  46.06  65.49  22.84   \n",
       "\n",
       "    HBAN   HBI  ...  RRTS     RSP  RSPP       RTH  RTN    RTX  RYAAY  RYAM  \\\n",
       "0    NaN   NaN  ...   NaN     NaN   NaN       NaN  NaN    NaN    NaN   NaN   \n",
       "1  14.97  7.77  ...  2.21  146.08   NaN  166.7700  NaN  93.65  78.18  7.09   \n",
       "2  15.38  6.97  ...  2.30  137.91   NaN  158.2400  NaN  95.22  69.05  7.14   \n",
       "3  15.11  7.20  ...  2.27  140.18   NaN  163.9900  NaN  95.08  67.86  4.36   \n",
       "4  14.45  7.36  ...  2.31  132.87   NaN  159.7624  NaN  88.54  63.41  3.63   \n",
       "\n",
       "     RYN     RYT  \n",
       "0    NaN     NaN  \n",
       "1  35.65  258.51  \n",
       "2  32.88  234.69  \n",
       "3  34.11  247.62  \n",
       "4  32.84  234.09  \n",
       "\n",
       "[5 rows x 419 columns]"
      ]
     },
     "execution_count": 419,
     "metadata": {},
     "output_type": "execute_result"
    }
   ],
   "source": [
    "HRFrame.head()"
   ]
  },
  {
   "cell_type": "code",
   "execution_count": 423,
   "metadata": {},
   "outputs": [
    {
     "name": "stdout",
     "output_type": "stream",
     "text": [
      "(545, 448)\n",
      "(545, 417)\n",
      "(545, 263)\n"
     ]
    }
   ],
   "source": [
    "for frame in [AGFrame, HRFrame, SZFrame]:\n",
    "    for col in frame:\n",
    "        if 'deleteMe' in col:\n",
    "            frame.drop([col], axis=1, inplace=True)\n",
    "    print(frame.shape)"
   ]
  },
  {
   "cell_type": "code",
   "execution_count": 424,
   "metadata": {},
   "outputs": [
    {
     "data": {
      "text/html": [
       "<div>\n",
       "<style scoped>\n",
       "    .dataframe tbody tr th:only-of-type {\n",
       "        vertical-align: middle;\n",
       "    }\n",
       "\n",
       "    .dataframe tbody tr th {\n",
       "        vertical-align: top;\n",
       "    }\n",
       "\n",
       "    .dataframe thead th {\n",
       "        text-align: right;\n",
       "    }\n",
       "</style>\n",
       "<table border=\"1\" class=\"dataframe\">\n",
       "  <thead>\n",
       "    <tr style=\"text-align: right;\">\n",
       "      <th></th>\n",
       "      <th>date</th>\n",
       "      <th>A</th>\n",
       "      <th>AA</th>\n",
       "      <th>AAGIY</th>\n",
       "      <th>AAL</th>\n",
       "      <th>AAN</th>\n",
       "      <th>AAON</th>\n",
       "      <th>AAPL</th>\n",
       "      <th>AAT</th>\n",
       "      <th>ABB</th>\n",
       "      <th>...</th>\n",
       "      <th>GRMN</th>\n",
       "      <th>GRUB</th>\n",
       "      <th>GS</th>\n",
       "      <th>GSIMX</th>\n",
       "      <th>GSK</th>\n",
       "      <th>GSMYX</th>\n",
       "      <th>GSSC</th>\n",
       "      <th>GTCSX</th>\n",
       "      <th>GTX</th>\n",
       "      <th>GWW</th>\n",
       "    </tr>\n",
       "  </thead>\n",
       "  <tbody>\n",
       "    <tr>\n",
       "      <th>0</th>\n",
       "      <td>2022-11-15</td>\n",
       "      <td>148.00</td>\n",
       "      <td>49.21</td>\n",
       "      <td>38.2600</td>\n",
       "      <td>14.61</td>\n",
       "      <td>10.76</td>\n",
       "      <td>80.24</td>\n",
       "      <td>150.04</td>\n",
       "      <td>28.24</td>\n",
       "      <td>31.31</td>\n",
       "      <td>...</td>\n",
       "      <td>NaN</td>\n",
       "      <td>NaN</td>\n",
       "      <td>NaN</td>\n",
       "      <td>17.03</td>\n",
       "      <td>NaN</td>\n",
       "      <td>20.25</td>\n",
       "      <td>NaN</td>\n",
       "      <td>34.57</td>\n",
       "      <td>7.50</td>\n",
       "      <td>NaN</td>\n",
       "    </tr>\n",
       "    <tr>\n",
       "      <th>1</th>\n",
       "      <td>2022-11-11</td>\n",
       "      <td>148.31</td>\n",
       "      <td>47.66</td>\n",
       "      <td>37.6602</td>\n",
       "      <td>14.88</td>\n",
       "      <td>11.44</td>\n",
       "      <td>78.02</td>\n",
       "      <td>149.70</td>\n",
       "      <td>28.58</td>\n",
       "      <td>31.58</td>\n",
       "      <td>...</td>\n",
       "      <td>93.76</td>\n",
       "      <td>NaN</td>\n",
       "      <td>385.17</td>\n",
       "      <td>16.92</td>\n",
       "      <td>31.58</td>\n",
       "      <td>20.03</td>\n",
       "      <td>57.79</td>\n",
       "      <td>34.46</td>\n",
       "      <td>7.43</td>\n",
       "      <td>586.52</td>\n",
       "    </tr>\n",
       "    <tr>\n",
       "      <th>2</th>\n",
       "      <td>2022-11-04</td>\n",
       "      <td>136.08</td>\n",
       "      <td>42.40</td>\n",
       "      <td>33.7600</td>\n",
       "      <td>14.11</td>\n",
       "      <td>9.71</td>\n",
       "      <td>65.81</td>\n",
       "      <td>138.38</td>\n",
       "      <td>28.25</td>\n",
       "      <td>28.65</td>\n",
       "      <td>...</td>\n",
       "      <td>86.53</td>\n",
       "      <td>NaN</td>\n",
       "      <td>357.91</td>\n",
       "      <td>16.56</td>\n",
       "      <td>32.99</td>\n",
       "      <td>18.92</td>\n",
       "      <td>55.37</td>\n",
       "      <td>32.72</td>\n",
       "      <td>7.51</td>\n",
       "      <td>593.64</td>\n",
       "    </tr>\n",
       "    <tr>\n",
       "      <th>3</th>\n",
       "      <td>2022-10-28</td>\n",
       "      <td>138.77</td>\n",
       "      <td>39.49</td>\n",
       "      <td>29.5800</td>\n",
       "      <td>14.00</td>\n",
       "      <td>10.33</td>\n",
       "      <td>65.15</td>\n",
       "      <td>155.74</td>\n",
       "      <td>27.44</td>\n",
       "      <td>28.02</td>\n",
       "      <td>...</td>\n",
       "      <td>88.49</td>\n",
       "      <td>NaN</td>\n",
       "      <td>341.82</td>\n",
       "      <td>16.33</td>\n",
       "      <td>33.27</td>\n",
       "      <td>19.69</td>\n",
       "      <td>56.39</td>\n",
       "      <td>33.12</td>\n",
       "      <td>6.79</td>\n",
       "      <td>575.88</td>\n",
       "    </tr>\n",
       "    <tr>\n",
       "      <th>4</th>\n",
       "      <td>2022-10-21</td>\n",
       "      <td>129.88</td>\n",
       "      <td>41.06</td>\n",
       "      <td>33.9800</td>\n",
       "      <td>13.71</td>\n",
       "      <td>8.71</td>\n",
       "      <td>56.25</td>\n",
       "      <td>147.27</td>\n",
       "      <td>26.25</td>\n",
       "      <td>27.41</td>\n",
       "      <td>...</td>\n",
       "      <td>82.77</td>\n",
       "      <td>NaN</td>\n",
       "      <td>325.10</td>\n",
       "      <td>16.15</td>\n",
       "      <td>31.87</td>\n",
       "      <td>18.58</td>\n",
       "      <td>53.27</td>\n",
       "      <td>31.28</td>\n",
       "      <td>5.78</td>\n",
       "      <td>519.68</td>\n",
       "    </tr>\n",
       "  </tbody>\n",
       "</table>\n",
       "<p>5 rows × 448 columns</p>\n",
       "</div>"
      ],
      "text/plain": [
       "         date       A     AA    AAGIY    AAL    AAN   AAON    AAPL    AAT  \\\n",
       "0  2022-11-15  148.00  49.21  38.2600  14.61  10.76  80.24  150.04  28.24   \n",
       "1  2022-11-11  148.31  47.66  37.6602  14.88  11.44  78.02  149.70  28.58   \n",
       "2  2022-11-04  136.08  42.40  33.7600  14.11   9.71  65.81  138.38  28.25   \n",
       "3  2022-10-28  138.77  39.49  29.5800  14.00  10.33  65.15  155.74  27.44   \n",
       "4  2022-10-21  129.88  41.06  33.9800  13.71   8.71  56.25  147.27  26.25   \n",
       "\n",
       "     ABB  ...   GRMN  GRUB      GS  GSIMX    GSK  GSMYX   GSSC  GTCSX   GTX  \\\n",
       "0  31.31  ...    NaN   NaN     NaN  17.03    NaN  20.25    NaN  34.57  7.50   \n",
       "1  31.58  ...  93.76   NaN  385.17  16.92  31.58  20.03  57.79  34.46  7.43   \n",
       "2  28.65  ...  86.53   NaN  357.91  16.56  32.99  18.92  55.37  32.72  7.51   \n",
       "3  28.02  ...  88.49   NaN  341.82  16.33  33.27  19.69  56.39  33.12  6.79   \n",
       "4  27.41  ...  82.77   NaN  325.10  16.15  31.87  18.58  53.27  31.28  5.78   \n",
       "\n",
       "      GWW  \n",
       "0     NaN  \n",
       "1  586.52  \n",
       "2  593.64  \n",
       "3  575.88  \n",
       "4  519.68  \n",
       "\n",
       "[5 rows x 448 columns]"
      ]
     },
     "execution_count": 424,
     "metadata": {},
     "output_type": "execute_result"
    }
   ],
   "source": [
    "AGFrame.head()"
   ]
  },
  {
   "cell_type": "markdown",
   "metadata": {},
   "source": [
    "Looks like we've got 3 beautiful DataFrames"
   ]
  },
  {
   "cell_type": "code",
   "execution_count": null,
   "metadata": {},
   "outputs": [],
   "source": []
  },
  {
   "cell_type": "markdown",
   "metadata": {},
   "source": [
    "# Post DataFrames to Database"
   ]
  },
  {
   "cell_type": "code",
   "execution_count": 428,
   "metadata": {},
   "outputs": [],
   "source": [
    "def postDataFrameDB(frame , dbTableName):\n",
    "    try:\n",
    "        conn_string = f\"postgresql://{username}:{pwd}@{host}:{port_id}/{database}\"\n",
    "        db =  create_engine(url=conn_string)\n",
    "        conn=db.connect()\n",
    "\n",
    "        frame.to_sql(dbTableName, con=conn, if_exists='replace', index=False)\n",
    "        print(\"posted successfully\")\n",
    "\n",
    "    except Exception as err:\n",
    "        print(err)\n",
    "    finally: \n",
    "        if cur is not None: \n",
    "            cur.close()\n",
    "        if conn is not None: \n",
    "            conn.close()\n",
    "    "
   ]
  },
  {
   "cell_type": "code",
   "execution_count": 438,
   "metadata": {},
   "outputs": [
    {
     "data": {
      "text/html": [
       "<div>\n",
       "<style scoped>\n",
       "    .dataframe tbody tr th:only-of-type {\n",
       "        vertical-align: middle;\n",
       "    }\n",
       "\n",
       "    .dataframe tbody tr th {\n",
       "        vertical-align: top;\n",
       "    }\n",
       "\n",
       "    .dataframe thead th {\n",
       "        text-align: right;\n",
       "    }\n",
       "</style>\n",
       "<table border=\"1\" class=\"dataframe\">\n",
       "  <thead>\n",
       "    <tr style=\"text-align: right;\">\n",
       "      <th></th>\n",
       "      <th>SPY</th>\n",
       "      <th>date</th>\n",
       "    </tr>\n",
       "  </thead>\n",
       "  <tbody>\n",
       "    <tr>\n",
       "      <th>0</th>\n",
       "      <td>395.45</td>\n",
       "      <td>2022-11-16</td>\n",
       "    </tr>\n",
       "    <tr>\n",
       "      <th>0</th>\n",
       "      <td>398.51</td>\n",
       "      <td>2022-11-11</td>\n",
       "    </tr>\n",
       "    <tr>\n",
       "      <th>0</th>\n",
       "      <td>376.35</td>\n",
       "      <td>2022-11-04</td>\n",
       "    </tr>\n",
       "    <tr>\n",
       "      <th>0</th>\n",
       "      <td>389.02</td>\n",
       "      <td>2022-10-28</td>\n",
       "    </tr>\n",
       "    <tr>\n",
       "      <th>0</th>\n",
       "      <td>374.29</td>\n",
       "      <td>2022-10-21</td>\n",
       "    </tr>\n",
       "  </tbody>\n",
       "</table>\n",
       "</div>"
      ],
      "text/plain": [
       "      SPY        date\n",
       "0  395.45  2022-11-16\n",
       "0  398.51  2022-11-11\n",
       "0  376.35  2022-11-04\n",
       "0  389.02  2022-10-28\n",
       "0  374.29  2022-10-21"
      ]
     },
     "execution_count": 438,
     "metadata": {},
     "output_type": "execute_result"
    }
   ],
   "source": [
    "# Before posting, lets add the spy and nasdaq to each dataframe \n",
    "\n",
    "spyFrame = requestToDataFrame(\"SPY\")\n",
    "spyFrame.head()\n"
   ]
  },
  {
   "cell_type": "code",
   "execution_count": 440,
   "metadata": {},
   "outputs": [
    {
     "data": {
      "text/html": [
       "<div>\n",
       "<style scoped>\n",
       "    .dataframe tbody tr th:only-of-type {\n",
       "        vertical-align: middle;\n",
       "    }\n",
       "\n",
       "    .dataframe tbody tr th {\n",
       "        vertical-align: top;\n",
       "    }\n",
       "\n",
       "    .dataframe thead th {\n",
       "        text-align: right;\n",
       "    }\n",
       "</style>\n",
       "<table border=\"1\" class=\"dataframe\">\n",
       "  <thead>\n",
       "    <tr style=\"text-align: right;\">\n",
       "      <th></th>\n",
       "      <th>NDAQ</th>\n",
       "      <th>date</th>\n",
       "    </tr>\n",
       "  </thead>\n",
       "  <tbody>\n",
       "    <tr>\n",
       "      <th>0</th>\n",
       "      <td>65.36</td>\n",
       "      <td>2022-11-16</td>\n",
       "    </tr>\n",
       "    <tr>\n",
       "      <th>0</th>\n",
       "      <td>66.40</td>\n",
       "      <td>2022-11-11</td>\n",
       "    </tr>\n",
       "    <tr>\n",
       "      <th>0</th>\n",
       "      <td>61.90</td>\n",
       "      <td>2022-11-04</td>\n",
       "    </tr>\n",
       "    <tr>\n",
       "      <th>0</th>\n",
       "      <td>62.28</td>\n",
       "      <td>2022-10-28</td>\n",
       "    </tr>\n",
       "    <tr>\n",
       "      <th>0</th>\n",
       "      <td>57.74</td>\n",
       "      <td>2022-10-21</td>\n",
       "    </tr>\n",
       "  </tbody>\n",
       "</table>\n",
       "</div>"
      ],
      "text/plain": [
       "    NDAQ        date\n",
       "0  65.36  2022-11-16\n",
       "0  66.40  2022-11-11\n",
       "0  61.90  2022-11-04\n",
       "0  62.28  2022-10-28\n",
       "0  57.74  2022-10-21"
      ]
     },
     "execution_count": 440,
     "metadata": {},
     "output_type": "execute_result"
    }
   ],
   "source": [
    "nasFrame = requestToDataFrame(\"NDAQ\")\n",
    "nasFrame.head()"
   ]
  },
  {
   "cell_type": "code",
   "execution_count": 441,
   "metadata": {},
   "outputs": [
    {
     "data": {
      "text/html": [
       "<div>\n",
       "<style scoped>\n",
       "    .dataframe tbody tr th:only-of-type {\n",
       "        vertical-align: middle;\n",
       "    }\n",
       "\n",
       "    .dataframe tbody tr th {\n",
       "        vertical-align: top;\n",
       "    }\n",
       "\n",
       "    .dataframe thead th {\n",
       "        text-align: right;\n",
       "    }\n",
       "</style>\n",
       "<table border=\"1\" class=\"dataframe\">\n",
       "  <thead>\n",
       "    <tr style=\"text-align: right;\">\n",
       "      <th></th>\n",
       "      <th>NDAQ</th>\n",
       "      <th>date</th>\n",
       "      <th>SPY</th>\n",
       "    </tr>\n",
       "  </thead>\n",
       "  <tbody>\n",
       "    <tr>\n",
       "      <th>0</th>\n",
       "      <td>65.36</td>\n",
       "      <td>2022-11-16</td>\n",
       "      <td>395.45</td>\n",
       "    </tr>\n",
       "    <tr>\n",
       "      <th>1</th>\n",
       "      <td>66.40</td>\n",
       "      <td>2022-11-11</td>\n",
       "      <td>398.51</td>\n",
       "    </tr>\n",
       "    <tr>\n",
       "      <th>2</th>\n",
       "      <td>61.90</td>\n",
       "      <td>2022-11-04</td>\n",
       "      <td>376.35</td>\n",
       "    </tr>\n",
       "    <tr>\n",
       "      <th>3</th>\n",
       "      <td>62.28</td>\n",
       "      <td>2022-10-28</td>\n",
       "      <td>389.02</td>\n",
       "    </tr>\n",
       "    <tr>\n",
       "      <th>4</th>\n",
       "      <td>57.74</td>\n",
       "      <td>2022-10-21</td>\n",
       "      <td>374.29</td>\n",
       "    </tr>\n",
       "  </tbody>\n",
       "</table>\n",
       "</div>"
      ],
      "text/plain": [
       "    NDAQ        date     SPY\n",
       "0  65.36  2022-11-16  395.45\n",
       "1  66.40  2022-11-11  398.51\n",
       "2  61.90  2022-11-04  376.35\n",
       "3  62.28  2022-10-28  389.02\n",
       "4  57.74  2022-10-21  374.29"
      ]
     },
     "execution_count": 441,
     "metadata": {},
     "output_type": "execute_result"
    }
   ],
   "source": [
    "indexFrame = mergeFrames(nasFrame, spyFrame)\n",
    "indexFrame.head()\n"
   ]
  },
  {
   "cell_type": "code",
   "execution_count": 444,
   "metadata": {},
   "outputs": [
    {
     "data": {
      "text/plain": [
       "True"
      ]
     },
     "execution_count": 444,
     "metadata": {},
     "output_type": "execute_result"
    }
   ],
   "source": [
    "AGFrame = mergeFrames(AGFrame, indexFrame)\n",
    "HRFrame = mergeFrames(HRFrame, indexFrame)\n",
    "SZFrame = mergeFrames(SZFrame, indexFrame)\n",
    "\n",
    "\n",
    "'NDAQ' in AGFrame.columns"
   ]
  },
  {
   "cell_type": "code",
   "execution_count": 445,
   "metadata": {},
   "outputs": [
    {
     "name": "stdout",
     "output_type": "stream",
     "text": [
      "posted successfully\n"
     ]
    }
   ],
   "source": [
    "postDataFrameDB(AGFrame, 'historical_pricesA_G')"
   ]
  },
  {
   "cell_type": "code",
   "execution_count": 446,
   "metadata": {},
   "outputs": [
    {
     "name": "stdout",
     "output_type": "stream",
     "text": [
      "posted successfully\n"
     ]
    }
   ],
   "source": [
    "postDataFrameDB(HRFrame, 'historical_pricesH_R')"
   ]
  },
  {
   "cell_type": "code",
   "execution_count": 447,
   "metadata": {},
   "outputs": [
    {
     "name": "stdout",
     "output_type": "stream",
     "text": [
      "posted successfully\n"
     ]
    }
   ],
   "source": [
    "postDataFrameDB(SZFrame, 'historical_pricesS_Z')\n"
   ]
  },
  {
   "cell_type": "code",
   "execution_count": 453,
   "metadata": {},
   "outputs": [
    {
     "name": "stdout",
     "output_type": "stream",
     "text": [
      "[] []\n",
      "no errors here, that's good news\n"
     ]
    }
   ],
   "source": [
    "print(unmergedTickers, connectionErrorTickers)\n",
    "print(\"no errors here, that's good news\")\n"
   ]
  },
  {
   "cell_type": "code",
   "execution_count": 458,
   "metadata": {},
   "outputs": [
    {
     "name": "stdout",
     "output_type": "stream",
     "text": [
      "only 5.7% of stock tickers were invalid\n"
     ]
    }
   ],
   "source": [
    "invalidPct = round(len(invalidTickers)/len(allTickers),3)*100\n",
    "print(f\"only {invalidPct}% of stock tickers were invalid\")\n"
   ]
  },
  {
   "cell_type": "code",
   "execution_count": null,
   "metadata": {},
   "outputs": [],
   "source": []
  },
  {
   "cell_type": "code",
   "execution_count": null,
   "metadata": {},
   "outputs": [],
   "source": []
  },
  {
   "cell_type": "code",
   "execution_count": null,
   "metadata": {},
   "outputs": [],
   "source": []
  }
 ],
 "metadata": {
  "kernelspec": {
   "display_name": "Python 3.10.8 64-bit",
   "language": "python",
   "name": "python3"
  },
  "language_info": {
   "codemirror_mode": {
    "name": "ipython",
    "version": 3
   },
   "file_extension": ".py",
   "mimetype": "text/x-python",
   "name": "python",
   "nbconvert_exporter": "python",
   "pygments_lexer": "ipython3",
   "version": "3.10.8"
  },
  "orig_nbformat": 4,
  "vscode": {
   "interpreter": {
    "hash": "aee8b7b246df8f9039afb4144a1f6fd8d2ca17a180786b69acc140d282b71a49"
   }
  }
 },
 "nbformat": 4,
 "nbformat_minor": 2
}
