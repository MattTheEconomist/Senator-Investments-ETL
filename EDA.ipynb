{
 "cells": [
  {
   "cell_type": "code",
   "execution_count": 511,
   "metadata": {},
   "outputs": [],
   "source": [
    "import pandas as pd\n",
    "import numpy as np\n",
    "\n",
    "from sqlalchemy import create_engine\n",
    "from dotenv import load_dotenv\n",
    "import os\n",
    "\n",
    "\n",
    "load_dotenv()\n",
    "\n",
    "\n",
    "hostname=os.getenv(\"hostname\")\n",
    "database=os.getenv(\"database\")\n",
    "username=os.getenv(\"username\")\n",
    "pwd=os.getenv(\"pwd\")\n",
    "port_id=os.getenv(\"port_id\")\n",
    "host = os.getenv(\"host\")\n",
    "\n"
   ]
  },
  {
   "cell_type": "code",
   "execution_count": 512,
   "metadata": {},
   "outputs": [],
   "source": [
    "conn_string = f\"postgresql://{username}:{pwd}@{host}:{port_id}/{database}\"\n",
    "db =  create_engine(url=conn_string)"
   ]
  },
  {
   "cell_type": "code",
   "execution_count": 513,
   "metadata": {},
   "outputs": [
    {
     "data": {
      "text/html": [
       "<div>\n",
       "<style scoped>\n",
       "    .dataframe tbody tr th:only-of-type {\n",
       "        vertical-align: middle;\n",
       "    }\n",
       "\n",
       "    .dataframe tbody tr th {\n",
       "        vertical-align: top;\n",
       "    }\n",
       "\n",
       "    .dataframe thead th {\n",
       "        text-align: right;\n",
       "    }\n",
       "</style>\n",
       "<table border=\"1\" class=\"dataframe\">\n",
       "  <thead>\n",
       "    <tr style=\"text-align: right;\">\n",
       "      <th></th>\n",
       "      <th>row</th>\n",
       "      <th>senator</th>\n",
       "      <th>senatorId</th>\n",
       "      <th>party</th>\n",
       "    </tr>\n",
       "  </thead>\n",
       "  <tbody>\n",
       "    <tr>\n",
       "      <th>0</th>\n",
       "      <td>1</td>\n",
       "      <td>Thomas H Tuberville</td>\n",
       "      <td>100</td>\n",
       "      <td>Republican</td>\n",
       "    </tr>\n",
       "    <tr>\n",
       "      <th>1</th>\n",
       "      <td>2</td>\n",
       "      <td>Thomas R Carper</td>\n",
       "      <td>101</td>\n",
       "      <td>Democratic</td>\n",
       "    </tr>\n",
       "    <tr>\n",
       "      <th>2</th>\n",
       "      <td>3</td>\n",
       "      <td>Daniel S Sullivan</td>\n",
       "      <td>102</td>\n",
       "      <td>Republican</td>\n",
       "    </tr>\n",
       "    <tr>\n",
       "      <th>3</th>\n",
       "      <td>4</td>\n",
       "      <td>Rick Scott</td>\n",
       "      <td>103</td>\n",
       "      <td>Republican</td>\n",
       "    </tr>\n",
       "    <tr>\n",
       "      <th>4</th>\n",
       "      <td>5</td>\n",
       "      <td>John Boozman</td>\n",
       "      <td>104</td>\n",
       "      <td>Republican</td>\n",
       "    </tr>\n",
       "  </tbody>\n",
       "</table>\n",
       "</div>"
      ],
      "text/plain": [
       "   row              senator  senatorId       party\n",
       "0    1  Thomas H Tuberville        100  Republican\n",
       "1    2      Thomas R Carper        101  Democratic\n",
       "2    3    Daniel S Sullivan        102  Republican\n",
       "3    4           Rick Scott        103  Republican\n",
       "4    5         John Boozman        104  Republican"
      ]
     },
     "execution_count": 513,
     "metadata": {},
     "output_type": "execute_result"
    }
   ],
   "source": [
    "transactions = pd.read_sql(\"SELECT * FROM transactions\", db)\n",
    "historicalPricesAG = pd.read_sql('SELECT * FROM \"historical_pricesA_G\" ', db)\n",
    "historicalPricesHR = pd.read_sql('SELECT * FROM \"historical_pricesH_R\" ', db)\n",
    "historicalPricesSZ = pd.read_sql('SELECT * FROM \"historical_pricesS_Z\" ', db)\n",
    "senators = pd.read_sql(\"SELECT * FROM senator_info\", db)\n",
    "\n",
    "senators.head()"
   ]
  },
  {
   "cell_type": "code",
   "execution_count": 514,
   "metadata": {},
   "outputs": [
    {
     "data": {
      "text/plain": [
       "0    100\n",
       "Name: senatorId, dtype: int64"
      ]
     },
     "execution_count": 514,
     "metadata": {},
     "output_type": "execute_result"
    }
   ],
   "source": [
    "def lookupIdByName(nameString):\n",
    "    nameMatch = senators[senators['senator'].str.contains(nameString)]\n",
    "\n",
    "    if len(nameMatch)>1:\n",
    "        return nameMatch\n",
    "    else: \n",
    "        return nameMatch['senatorId']\n",
    "\n",
    "\n",
    "lookupIdByName(\"Tuber\")"
   ]
  },
  {
   "cell_type": "code",
   "execution_count": 515,
   "metadata": {},
   "outputs": [
    {
     "data": {
      "text/plain": [
       "--      88\n",
       "ECOM    30\n",
       "CLF     28\n",
       "X       26\n",
       "PYPL    24\n",
       "OXY     20\n",
       "INTC    19\n",
       "MSFT    15\n",
       "SSYS    15\n",
       "BABA    14\n",
       "AA      14\n",
       "CALX    10\n",
       "QCOM     9\n",
       "F        8\n",
       "NU       6\n",
       "Name: ticker, dtype: int64"
      ]
     },
     "execution_count": 515,
     "metadata": {},
     "output_type": "execute_result"
    }
   ],
   "source": [
    "tub  = transactions[transactions['senatorId']==100]\n",
    "tub.ticker.value_counts().head(15)\n"
   ]
  },
  {
   "cell_type": "code",
   "execution_count": 516,
   "metadata": {},
   "outputs": [
    {
     "data": {
      "text/html": [
       "<div>\n",
       "<style scoped>\n",
       "    .dataframe tbody tr th:only-of-type {\n",
       "        vertical-align: middle;\n",
       "    }\n",
       "\n",
       "    .dataframe tbody tr th {\n",
       "        vertical-align: top;\n",
       "    }\n",
       "\n",
       "    .dataframe thead th {\n",
       "        text-align: right;\n",
       "    }\n",
       "</style>\n",
       "<table border=\"1\" class=\"dataframe\">\n",
       "  <thead>\n",
       "    <tr style=\"text-align: right;\">\n",
       "      <th></th>\n",
       "      <th>transaction_date</th>\n",
       "      <th>owner</th>\n",
       "      <th>ticker</th>\n",
       "      <th>asset_description</th>\n",
       "      <th>asset_type</th>\n",
       "      <th>type</th>\n",
       "      <th>amount</th>\n",
       "      <th>comment</th>\n",
       "      <th>senator</th>\n",
       "      <th>ptr_link</th>\n",
       "      <th>disclosure_date</th>\n",
       "      <th>id</th>\n",
       "      <th>senatorId</th>\n",
       "    </tr>\n",
       "  </thead>\n",
       "  <tbody>\n",
       "    <tr>\n",
       "      <th>261</th>\n",
       "      <td>06/16/2022</td>\n",
       "      <td>Joint</td>\n",
       "      <td>QCOM</td>\n",
       "      <td>QUALCOMM Incorporated - Common Stock</td>\n",
       "      <td>Stock</td>\n",
       "      <td>Purchase</td>\n",
       "      <td>$250,001 - $500,000</td>\n",
       "      <td>--</td>\n",
       "      <td>Thomas H Tuberville</td>\n",
       "      <td>https://efdsearch.senate.gov/search/view/ptr/3...</td>\n",
       "      <td>07/13/2022</td>\n",
       "      <td>261</td>\n",
       "      <td>100</td>\n",
       "    </tr>\n",
       "    <tr>\n",
       "      <th>1007</th>\n",
       "      <td>03/29/2021</td>\n",
       "      <td>Joint</td>\n",
       "      <td>QCOM</td>\n",
       "      <td>QUALCOMM Incorporated</td>\n",
       "      <td>Stock</td>\n",
       "      <td>Purchase</td>\n",
       "      <td>$1,001 - $15,000</td>\n",
       "      <td>--</td>\n",
       "      <td>Thomas H Tuberville</td>\n",
       "      <td>https://efdsearch.senate.gov/search/view/ptr/3...</td>\n",
       "      <td>07/23/2021</td>\n",
       "      <td>1002</td>\n",
       "      <td>100</td>\n",
       "    </tr>\n",
       "  </tbody>\n",
       "</table>\n",
       "</div>"
      ],
      "text/plain": [
       "     transaction_date  owner ticker                     asset_description  \\\n",
       "261        06/16/2022  Joint   QCOM  QUALCOMM Incorporated - Common Stock   \n",
       "1007       03/29/2021  Joint   QCOM                 QUALCOMM Incorporated   \n",
       "\n",
       "     asset_type      type               amount comment              senator  \\\n",
       "261       Stock  Purchase  $250,001 - $500,000      --  Thomas H Tuberville   \n",
       "1007      Stock  Purchase     $1,001 - $15,000      --  Thomas H Tuberville   \n",
       "\n",
       "                                               ptr_link disclosure_date    id  \\\n",
       "261   https://efdsearch.senate.gov/search/view/ptr/3...      07/13/2022   261   \n",
       "1007  https://efdsearch.senate.gov/search/view/ptr/3...      07/23/2021  1002   \n",
       "\n",
       "      senatorId  \n",
       "261         100  \n",
       "1007        100  "
      ]
     },
     "execution_count": 516,
     "metadata": {},
     "output_type": "execute_result"
    }
   ],
   "source": [
    "tub[(tub['ticker']=='QCOM') & (tub['type']=='Purchase') \n",
    "& (tub['asset_type']=='Stock')\n",
    "]\n"
   ]
  },
  {
   "cell_type": "code",
   "execution_count": 517,
   "metadata": {},
   "outputs": [
    {
     "data": {
      "text/plain": [
       "0    2022-10-28\n",
       "1    2022-10-31\n",
       "2    2022-10-28\n",
       "3    2022-10-28\n",
       "4    2022-10-24\n",
       "Name: transaction_date, dtype: object"
      ]
     },
     "execution_count": 517,
     "metadata": {},
     "output_type": "execute_result"
    }
   ],
   "source": [
    "\n",
    "def reformatDate(transDate):\n",
    "    listDate  = transDate.split(\"/\")\n",
    "    return f\"{listDate[2]}-{listDate[0]}-{listDate[1]}\"\n",
    "\n",
    "transactions['transaction_date'] = transactions['transaction_date'].apply(lambda row: reformatDate(row))\n",
    "\n",
    "transactions['transaction_date'].head()\n"
   ]
  },
  {
   "cell_type": "code",
   "execution_count": 518,
   "metadata": {},
   "outputs": [
    {
     "data": {
      "text/html": [
       "<div>\n",
       "<style scoped>\n",
       "    .dataframe tbody tr th:only-of-type {\n",
       "        vertical-align: middle;\n",
       "    }\n",
       "\n",
       "    .dataframe tbody tr th {\n",
       "        vertical-align: top;\n",
       "    }\n",
       "\n",
       "    .dataframe thead th {\n",
       "        text-align: right;\n",
       "    }\n",
       "</style>\n",
       "<table border=\"1\" class=\"dataframe\">\n",
       "  <thead>\n",
       "    <tr style=\"text-align: right;\">\n",
       "      <th></th>\n",
       "      <th>QCOM</th>\n",
       "      <th>SPY</th>\n",
       "      <th>date</th>\n",
       "    </tr>\n",
       "  </thead>\n",
       "  <tbody>\n",
       "    <tr>\n",
       "      <th>0</th>\n",
       "      <td>120.2000</td>\n",
       "      <td>394.5900</td>\n",
       "      <td>2022-11-21</td>\n",
       "    </tr>\n",
       "    <tr>\n",
       "      <th>1</th>\n",
       "      <td>123.8500</td>\n",
       "      <td>396.0300</td>\n",
       "      <td>2022-11-18</td>\n",
       "    </tr>\n",
       "    <tr>\n",
       "      <th>2</th>\n",
       "      <td>121.4300</td>\n",
       "      <td>398.5100</td>\n",
       "      <td>2022-11-11</td>\n",
       "    </tr>\n",
       "    <tr>\n",
       "      <th>3</th>\n",
       "      <td>106.6900</td>\n",
       "      <td>376.3500</td>\n",
       "      <td>2022-11-04</td>\n",
       "    </tr>\n",
       "    <tr>\n",
       "      <th>4</th>\n",
       "      <td>119.2100</td>\n",
       "      <td>389.0200</td>\n",
       "      <td>2022-10-28</td>\n",
       "    </tr>\n",
       "    <tr>\n",
       "      <th>...</th>\n",
       "      <td>...</td>\n",
       "      <td>...</td>\n",
       "      <td>...</td>\n",
       "    </tr>\n",
       "    <tr>\n",
       "      <th>82</th>\n",
       "      <td>134.8904</td>\n",
       "      <td>408.3881</td>\n",
       "      <td>2021-04-30</td>\n",
       "    </tr>\n",
       "    <tr>\n",
       "      <th>83</th>\n",
       "      <td>131.6153</td>\n",
       "      <td>407.8400</td>\n",
       "      <td>2021-04-23</td>\n",
       "    </tr>\n",
       "    <tr>\n",
       "      <th>84</th>\n",
       "      <td>134.3170</td>\n",
       "      <td>408.3489</td>\n",
       "      <td>2021-04-16</td>\n",
       "    </tr>\n",
       "    <tr>\n",
       "      <th>85</th>\n",
       "      <td>136.6106</td>\n",
       "      <td>402.7022</td>\n",
       "      <td>2021-04-09</td>\n",
       "    </tr>\n",
       "    <tr>\n",
       "      <th>86</th>\n",
       "      <td>133.9089</td>\n",
       "      <td>392.0545</td>\n",
       "      <td>2021-04-01</td>\n",
       "    </tr>\n",
       "  </tbody>\n",
       "</table>\n",
       "<p>87 rows × 3 columns</p>\n",
       "</div>"
      ],
      "text/plain": [
       "        QCOM       SPY       date\n",
       "0   120.2000  394.5900 2022-11-21\n",
       "1   123.8500  396.0300 2022-11-18\n",
       "2   121.4300  398.5100 2022-11-11\n",
       "3   106.6900  376.3500 2022-11-04\n",
       "4   119.2100  389.0200 2022-10-28\n",
       "..       ...       ...        ...\n",
       "82  134.8904  408.3881 2021-04-30\n",
       "83  131.6153  407.8400 2021-04-23\n",
       "84  134.3170  408.3489 2021-04-16\n",
       "85  136.6106  402.7022 2021-04-09\n",
       "86  133.9089  392.0545 2021-04-01\n",
       "\n",
       "[87 rows x 3 columns]"
      ]
     },
     "execution_count": 518,
     "metadata": {},
     "output_type": "execute_result"
    }
   ],
   "source": [
    "for frame in [historicalPricesAG, historicalPricesHR, historicalPricesSZ]:\n",
    "    frame['date'] = pd.to_datetime(frame['date'])\n",
    "\n",
    "qc = historicalPricesHR[['QCOM', 'SPY', 'date']]\n",
    "temp = qc[qc['date']>= '2021-03-29']\n",
    "temp\n"
   ]
  },
  {
   "cell_type": "code",
   "execution_count": 519,
   "metadata": {},
   "outputs": [
    {
     "data": {
      "text/html": [
       "<div>\n",
       "<style scoped>\n",
       "    .dataframe tbody tr th:only-of-type {\n",
       "        vertical-align: middle;\n",
       "    }\n",
       "\n",
       "    .dataframe tbody tr th {\n",
       "        vertical-align: top;\n",
       "    }\n",
       "\n",
       "    .dataframe thead th {\n",
       "        text-align: right;\n",
       "    }\n",
       "</style>\n",
       "<table border=\"1\" class=\"dataframe\">\n",
       "  <thead>\n",
       "    <tr style=\"text-align: right;\">\n",
       "      <th></th>\n",
       "      <th>QCOM</th>\n",
       "      <th>SPY</th>\n",
       "      <th>date</th>\n",
       "    </tr>\n",
       "  </thead>\n",
       "  <tbody>\n",
       "    <tr>\n",
       "      <th>86</th>\n",
       "      <td>133.9089</td>\n",
       "      <td>392.0545</td>\n",
       "      <td>2021-04-01</td>\n",
       "    </tr>\n",
       "    <tr>\n",
       "      <th>85</th>\n",
       "      <td>136.6106</td>\n",
       "      <td>402.7022</td>\n",
       "      <td>2021-04-09</td>\n",
       "    </tr>\n",
       "    <tr>\n",
       "      <th>84</th>\n",
       "      <td>134.3170</td>\n",
       "      <td>408.3489</td>\n",
       "      <td>2021-04-16</td>\n",
       "    </tr>\n",
       "    <tr>\n",
       "      <th>83</th>\n",
       "      <td>131.6153</td>\n",
       "      <td>407.8400</td>\n",
       "      <td>2021-04-23</td>\n",
       "    </tr>\n",
       "    <tr>\n",
       "      <th>82</th>\n",
       "      <td>134.8904</td>\n",
       "      <td>408.3881</td>\n",
       "      <td>2021-04-30</td>\n",
       "    </tr>\n",
       "    <tr>\n",
       "      <th>81</th>\n",
       "      <td>133.9672</td>\n",
       "      <td>413.1052</td>\n",
       "      <td>2021-05-07</td>\n",
       "    </tr>\n",
       "    <tr>\n",
       "      <th>80</th>\n",
       "      <td>126.4841</td>\n",
       "      <td>407.6835</td>\n",
       "      <td>2021-05-14</td>\n",
       "    </tr>\n",
       "    <tr>\n",
       "      <th>79</th>\n",
       "      <td>127.7572</td>\n",
       "      <td>406.0785</td>\n",
       "      <td>2021-05-21</td>\n",
       "    </tr>\n",
       "    <tr>\n",
       "      <th>78</th>\n",
       "      <td>130.7504</td>\n",
       "      <td>411.0696</td>\n",
       "      <td>2021-05-28</td>\n",
       "    </tr>\n",
       "    <tr>\n",
       "      <th>77</th>\n",
       "      <td>131.2195</td>\n",
       "      <td>413.5749</td>\n",
       "      <td>2021-06-04</td>\n",
       "    </tr>\n",
       "  </tbody>\n",
       "</table>\n",
       "</div>"
      ],
      "text/plain": [
       "        QCOM       SPY       date\n",
       "86  133.9089  392.0545 2021-04-01\n",
       "85  136.6106  402.7022 2021-04-09\n",
       "84  134.3170  408.3489 2021-04-16\n",
       "83  131.6153  407.8400 2021-04-23\n",
       "82  134.8904  408.3881 2021-04-30\n",
       "81  133.9672  413.1052 2021-05-07\n",
       "80  126.4841  407.6835 2021-05-14\n",
       "79  127.7572  406.0785 2021-05-21\n",
       "78  130.7504  411.0696 2021-05-28\n",
       "77  131.2195  413.5749 2021-06-04"
      ]
     },
     "execution_count": 519,
     "metadata": {},
     "output_type": "execute_result"
    }
   ],
   "source": [
    "temp = temp.sort_values(by=\"date\")\n",
    "temp.head(10)"
   ]
  },
  {
   "cell_type": "code",
   "execution_count": 520,
   "metadata": {},
   "outputs": [
    {
     "data": {
      "text/html": [
       "<div>\n",
       "<style scoped>\n",
       "    .dataframe tbody tr th:only-of-type {\n",
       "        vertical-align: middle;\n",
       "    }\n",
       "\n",
       "    .dataframe tbody tr th {\n",
       "        vertical-align: top;\n",
       "    }\n",
       "\n",
       "    .dataframe thead th {\n",
       "        text-align: right;\n",
       "    }\n",
       "</style>\n",
       "<table border=\"1\" class=\"dataframe\">\n",
       "  <thead>\n",
       "    <tr style=\"text-align: right;\">\n",
       "      <th></th>\n",
       "      <th>QCOM</th>\n",
       "      <th>SPY</th>\n",
       "      <th>date</th>\n",
       "      <th>QCOM_growth</th>\n",
       "      <th>QCOM_pchange</th>\n",
       "      <th>SPY_growth</th>\n",
       "      <th>SPY_pchange</th>\n",
       "    </tr>\n",
       "  </thead>\n",
       "  <tbody>\n",
       "    <tr>\n",
       "      <th>86</th>\n",
       "      <td>133.9089</td>\n",
       "      <td>392.0545</td>\n",
       "      <td>2021-04-01</td>\n",
       "      <td>NaN</td>\n",
       "      <td>NaN</td>\n",
       "      <td>NaN</td>\n",
       "      <td>NaN</td>\n",
       "    </tr>\n",
       "    <tr>\n",
       "      <th>85</th>\n",
       "      <td>136.6106</td>\n",
       "      <td>402.7022</td>\n",
       "      <td>2021-04-09</td>\n",
       "      <td>100.000000</td>\n",
       "      <td>0.020176</td>\n",
       "      <td>100.000000</td>\n",
       "      <td>0.027159</td>\n",
       "    </tr>\n",
       "    <tr>\n",
       "      <th>84</th>\n",
       "      <td>134.3170</td>\n",
       "      <td>408.3489</td>\n",
       "      <td>2021-04-16</td>\n",
       "      <td>98.321067</td>\n",
       "      <td>-0.016789</td>\n",
       "      <td>101.402202</td>\n",
       "      <td>0.014022</td>\n",
       "    </tr>\n",
       "    <tr>\n",
       "      <th>83</th>\n",
       "      <td>131.6153</td>\n",
       "      <td>407.8400</td>\n",
       "      <td>2021-04-23</td>\n",
       "      <td>96.343402</td>\n",
       "      <td>-0.020114</td>\n",
       "      <td>101.275831</td>\n",
       "      <td>-0.001246</td>\n",
       "    </tr>\n",
       "    <tr>\n",
       "      <th>82</th>\n",
       "      <td>134.8904</td>\n",
       "      <td>408.3881</td>\n",
       "      <td>2021-04-30</td>\n",
       "      <td>98.740800</td>\n",
       "      <td>0.024884</td>\n",
       "      <td>101.411937</td>\n",
       "      <td>0.001344</td>\n",
       "    </tr>\n",
       "  </tbody>\n",
       "</table>\n",
       "</div>"
      ],
      "text/plain": [
       "        QCOM       SPY       date  QCOM_growth  QCOM_pchange  SPY_growth  \\\n",
       "86  133.9089  392.0545 2021-04-01          NaN           NaN         NaN   \n",
       "85  136.6106  402.7022 2021-04-09   100.000000      0.020176  100.000000   \n",
       "84  134.3170  408.3489 2021-04-16    98.321067     -0.016789  101.402202   \n",
       "83  131.6153  407.8400 2021-04-23    96.343402     -0.020114  101.275831   \n",
       "82  134.8904  408.3881 2021-04-30    98.740800      0.024884  101.411937   \n",
       "\n",
       "    SPY_pchange  \n",
       "86          NaN  \n",
       "85     0.027159  \n",
       "84     0.014022  \n",
       "83    -0.001246  \n",
       "82     0.001344  "
      ]
     },
     "execution_count": 520,
     "metadata": {},
     "output_type": "execute_result"
    }
   ],
   "source": [
    "\n",
    "\n",
    "def createGrowthColumn(ticker, frame):\n",
    "\n",
    "    pricesList = np.array(frame[ticker])\n",
    "    pctChanges = np.diff(pricesList)/pricesList[:-1]\n",
    "\n",
    "    currentInvestment , initialInvestment= 100, 100\n",
    "    investmentValues = []\n",
    "\n",
    "    for c in pctChanges[1:]: \n",
    "        currentInvestment = currentInvestment*(1+c) \n",
    "        investmentValues.append(currentInvestment)\n",
    "\n",
    "    pctChanges = [np.nan ] + list(pctChanges)\n",
    "    investmentValues = [ np.nan, initialInvestment ] + investmentValues\n",
    "\n",
    "    invName= ticker+'_growth'\n",
    "    pctName = ticker+'_pchange'\n",
    "    frame[invName] = investmentValues\n",
    "    frame[pctName] = pctChanges\n",
    "\n",
    "\n",
    "\n",
    "createGrowthColumn('QCOM', temp)\n",
    "createGrowthColumn('SPY', temp)\n",
    "temp.head()\n"
   ]
  },
  {
   "cell_type": "code",
   "execution_count": 521,
   "metadata": {},
   "outputs": [
    {
     "data": {
      "application/vnd.plotly.v1+json": {
       "config": {
        "plotlyServerURL": "https://plot.ly"
       },
       "data": [
        {
         "hovertemplate": "variable=QCOM_growth<br>date=%{x}<br>value=%{y}<extra></extra>",
         "legendgroup": "QCOM_growth",
         "line": {
          "color": "#636efa",
          "dash": "solid"
         },
         "marker": {
          "symbol": "circle"
         },
         "mode": "lines",
         "name": "QCOM_growth",
         "orientation": "v",
         "showlegend": true,
         "type": "scatter",
         "x": [
          "2021-04-01T00:00:00",
          "2021-04-09T00:00:00",
          "2021-04-16T00:00:00",
          "2021-04-23T00:00:00",
          "2021-04-30T00:00:00",
          "2021-05-07T00:00:00",
          "2021-05-14T00:00:00",
          "2021-05-21T00:00:00",
          "2021-05-28T00:00:00",
          "2021-06-04T00:00:00",
          "2021-06-11T00:00:00",
          "2021-06-18T00:00:00",
          "2021-06-25T00:00:00",
          "2021-07-02T00:00:00",
          "2021-07-09T00:00:00",
          "2021-07-16T00:00:00",
          "2021-07-23T00:00:00",
          "2021-07-30T00:00:00",
          "2021-08-06T00:00:00",
          "2021-08-13T00:00:00",
          "2021-08-20T00:00:00",
          "2021-08-27T00:00:00",
          "2021-09-03T00:00:00",
          "2021-09-10T00:00:00",
          "2021-09-17T00:00:00",
          "2021-09-24T00:00:00",
          "2021-10-01T00:00:00",
          "2021-10-08T00:00:00",
          "2021-10-15T00:00:00",
          "2021-10-22T00:00:00",
          "2021-10-29T00:00:00",
          "2021-11-05T00:00:00",
          "2021-11-12T00:00:00",
          "2021-11-19T00:00:00",
          "2021-11-26T00:00:00",
          "2021-12-03T00:00:00",
          "2021-12-10T00:00:00",
          "2021-12-17T00:00:00",
          "2021-12-23T00:00:00",
          "2021-12-31T00:00:00",
          "2022-01-07T00:00:00",
          "2022-01-14T00:00:00",
          "2022-01-21T00:00:00",
          "2022-01-28T00:00:00",
          "2022-02-04T00:00:00",
          "2022-02-11T00:00:00",
          "2022-02-18T00:00:00",
          "2022-02-25T00:00:00",
          "2022-03-04T00:00:00",
          "2022-03-11T00:00:00",
          "2022-03-18T00:00:00",
          "2022-03-25T00:00:00",
          "2022-04-01T00:00:00",
          "2022-04-08T00:00:00",
          "2022-04-14T00:00:00",
          "2022-04-22T00:00:00",
          "2022-04-29T00:00:00",
          "2022-05-06T00:00:00",
          "2022-05-13T00:00:00",
          "2022-05-20T00:00:00",
          "2022-05-27T00:00:00",
          "2022-06-03T00:00:00",
          "2022-06-10T00:00:00",
          "2022-06-17T00:00:00",
          "2022-06-24T00:00:00",
          "2022-07-01T00:00:00",
          "2022-07-08T00:00:00",
          "2022-07-15T00:00:00",
          "2022-07-22T00:00:00",
          "2022-07-29T00:00:00",
          "2022-08-05T00:00:00",
          "2022-08-12T00:00:00",
          "2022-08-19T00:00:00",
          "2022-08-26T00:00:00",
          "2022-09-02T00:00:00",
          "2022-09-09T00:00:00",
          "2022-09-16T00:00:00",
          "2022-09-23T00:00:00",
          "2022-09-30T00:00:00",
          "2022-10-07T00:00:00",
          "2022-10-14T00:00:00",
          "2022-10-21T00:00:00",
          "2022-10-28T00:00:00",
          "2022-11-04T00:00:00",
          "2022-11-11T00:00:00",
          "2022-11-18T00:00:00",
          "2022-11-21T00:00:00"
         ],
         "xaxis": "x",
         "y": [
          null,
          100,
          98.32106732566874,
          96.34340234213157,
          98.74080049425156,
          98.06501106063513,
          92.58732484887705,
          93.51924374828896,
          95.71028895268746,
          96.05367372663618,
          96.25387781036027,
          95.09554895447353,
          98.42032755876924,
          101.94531024678908,
          101.12304608866371,
          99.89320008842654,
          103.58976536227793,
          107.10757437563413,
          104.59078578089843,
          106.27820974360704,
          101.59489819970048,
          103.56831753904896,
          103.8912060996731,
          102.49043632046124,
          95.968102036006,
          96.16918452887258,
          92.45549027674281,
          90.90392692807147,
          93.52575861609567,
          94.54581123280332,
          95.56579064874907,
          117.1083356635576,
          118.48033754335314,
          132.88990751815743,
          126.23822748747169,
          127.28228995407383,
          132.5968116676158,
          127.49142453074649,
          131.77476711177607,
          131.86846408697417,
          130.09459002449293,
          136.06535656823112,
          118.93183984258904,
          120.28751795248682,
          129.41675096954407,
          118.72277846667828,
          120.88608058232668,
          123.25851727464777,
          117.47660869654331,
          110.29451594532196,
          111.48915237909797,
          114.37062716948758,
          106.42109763078413,
          98.96391641644206,
          99.12312807351698,
          96.15476397878348,
          101.13585622199155,
          101.78024252876425,
          97.68963755374767,
          95.2786972606811,
          101.18658434996993,
          102.79129145176147,
          96.95367709387124,
          88.06622619328225,
          91.05786813029154,
          89.915057835922,
          98.99897958137953,
          105.08408571516419,
          111.87521319721904,
          105.58631614237848,
          109.33492715792192,
          110.12103013968176,
          107.4351477850182,
          100.724101936453,
          94.04833885511084,
          96.66160605399587,
          91.46435196097526,
          88.71200331453055,
          82.70222076471377,
          88.50704118128466,
          80.48423767994582,
          84.72256179242318,
          87.26262822943465,
          78.09789284286875,
          88.88768514302703,
          90.65914358036645,
          87.98731577198262
         ],
         "yaxis": "y"
        },
        {
         "hovertemplate": "variable=SPY_growth<br>date=%{x}<br>value=%{y}<extra></extra>",
         "legendgroup": "SPY_growth",
         "line": {
          "color": "#EF553B",
          "dash": "solid"
         },
         "marker": {
          "symbol": "circle"
         },
         "mode": "lines",
         "name": "SPY_growth",
         "orientation": "v",
         "showlegend": true,
         "type": "scatter",
         "x": [
          "2021-04-01T00:00:00",
          "2021-04-09T00:00:00",
          "2021-04-16T00:00:00",
          "2021-04-23T00:00:00",
          "2021-04-30T00:00:00",
          "2021-05-07T00:00:00",
          "2021-05-14T00:00:00",
          "2021-05-21T00:00:00",
          "2021-05-28T00:00:00",
          "2021-06-04T00:00:00",
          "2021-06-11T00:00:00",
          "2021-06-18T00:00:00",
          "2021-06-25T00:00:00",
          "2021-07-02T00:00:00",
          "2021-07-09T00:00:00",
          "2021-07-16T00:00:00",
          "2021-07-23T00:00:00",
          "2021-07-30T00:00:00",
          "2021-08-06T00:00:00",
          "2021-08-13T00:00:00",
          "2021-08-20T00:00:00",
          "2021-08-27T00:00:00",
          "2021-09-03T00:00:00",
          "2021-09-10T00:00:00",
          "2021-09-17T00:00:00",
          "2021-09-24T00:00:00",
          "2021-10-01T00:00:00",
          "2021-10-08T00:00:00",
          "2021-10-15T00:00:00",
          "2021-10-22T00:00:00",
          "2021-10-29T00:00:00",
          "2021-11-05T00:00:00",
          "2021-11-12T00:00:00",
          "2021-11-19T00:00:00",
          "2021-11-26T00:00:00",
          "2021-12-03T00:00:00",
          "2021-12-10T00:00:00",
          "2021-12-17T00:00:00",
          "2021-12-23T00:00:00",
          "2021-12-31T00:00:00",
          "2022-01-07T00:00:00",
          "2022-01-14T00:00:00",
          "2022-01-21T00:00:00",
          "2022-01-28T00:00:00",
          "2022-02-04T00:00:00",
          "2022-02-11T00:00:00",
          "2022-02-18T00:00:00",
          "2022-02-25T00:00:00",
          "2022-03-04T00:00:00",
          "2022-03-11T00:00:00",
          "2022-03-18T00:00:00",
          "2022-03-25T00:00:00",
          "2022-04-01T00:00:00",
          "2022-04-08T00:00:00",
          "2022-04-14T00:00:00",
          "2022-04-22T00:00:00",
          "2022-04-29T00:00:00",
          "2022-05-06T00:00:00",
          "2022-05-13T00:00:00",
          "2022-05-20T00:00:00",
          "2022-05-27T00:00:00",
          "2022-06-03T00:00:00",
          "2022-06-10T00:00:00",
          "2022-06-17T00:00:00",
          "2022-06-24T00:00:00",
          "2022-07-01T00:00:00",
          "2022-07-08T00:00:00",
          "2022-07-15T00:00:00",
          "2022-07-22T00:00:00",
          "2022-07-29T00:00:00",
          "2022-08-05T00:00:00",
          "2022-08-12T00:00:00",
          "2022-08-19T00:00:00",
          "2022-08-26T00:00:00",
          "2022-09-02T00:00:00",
          "2022-09-09T00:00:00",
          "2022-09-16T00:00:00",
          "2022-09-23T00:00:00",
          "2022-09-30T00:00:00",
          "2022-10-07T00:00:00",
          "2022-10-14T00:00:00",
          "2022-10-21T00:00:00",
          "2022-10-28T00:00:00",
          "2022-11-04T00:00:00",
          "2022-11-11T00:00:00",
          "2022-11-18T00:00:00",
          "2022-11-21T00:00:00"
         ],
         "xaxis": "x",
         "y": [
          null,
          100,
          101.40220242154128,
          101.27583112284958,
          101.41193666188066,
          102.58329852680218,
          101.23696865822932,
          100.83841111372125,
          102.07781333203542,
          102.69993558515448,
          103.11550321801072,
          101.16791018276034,
          104.01822984826005,
          105.75181858951848,
          106.19070370114687,
          105.17151383826557,
          107.26842316729332,
          106.91975360452459,
          107.89017293672589,
          108.726498141803,
          108.10228998003981,
          109.78224107044855,
          110.47227951573143,
          108.60946376751848,
          107.97261599266153,
          108.58659326917007,
          106.22117286669896,
          107.10669075063404,
          109.06602943813066,
          110.83949876608564,
          112.3389690942835,
          114.60898400853029,
          114.3007661741107,
          114.69703915200851,
          112.27048176046708,
          110.91287805231748,
          115.14958199880697,
          112.89019528574705,
          115.52422609064455,
          116.5945455475534,
          114.41710524551384,
          114.08080214113546,
          107.51659663145611,
          108.49116294869997,
          110.148169044023,
          108.12538396860003,
          106.59601561650264,
          107.46012810458937,
          106.09033176376977,
          103.11999785449389,
          109.45738563136722,
          111.46914518967108,
          111.52576271001242,
          110.20838724000009,
          107.80020571032382,
          104.90690142740706,
          101.44973133993301,
          101.28722912365508,
          98.9184315357601,
          95.94141775237378,
          102.25248334873754,
          101.0902349180113,
          95.98328491873143,
          90.47663509163836,
          96.46619760209893,
          94.28009084628782,
          96.11752803933021,
          95.2420920471752,
          97.70517767223511,
          101.88451913101036,
          102.25052160132216,
          105.6212009768011,
          104.39461219730102,
          100.23255398157733,
          97.00036404072277,
          100.55157384290413,
          95.7432067666875,
          91.37024828769236,
          88.69581541893726,
          90.08890440628323,
          88.80756052487409,
          92.94461266911368,
          96.602402470113,
          93.45615693184678,
          98.95898259309222,
          98.34314289815138,
          97.98555855915349
         ],
         "yaxis": "y"
        }
       ],
       "layout": {
        "legend": {
         "title": {
          "text": "variable"
         },
         "tracegroupgap": 0
        },
        "template": {
         "data": {
          "bar": [
           {
            "error_x": {
             "color": "#2a3f5f"
            },
            "error_y": {
             "color": "#2a3f5f"
            },
            "marker": {
             "line": {
              "color": "#E5ECF6",
              "width": 0.5
             },
             "pattern": {
              "fillmode": "overlay",
              "size": 10,
              "solidity": 0.2
             }
            },
            "type": "bar"
           }
          ],
          "barpolar": [
           {
            "marker": {
             "line": {
              "color": "#E5ECF6",
              "width": 0.5
             },
             "pattern": {
              "fillmode": "overlay",
              "size": 10,
              "solidity": 0.2
             }
            },
            "type": "barpolar"
           }
          ],
          "carpet": [
           {
            "aaxis": {
             "endlinecolor": "#2a3f5f",
             "gridcolor": "white",
             "linecolor": "white",
             "minorgridcolor": "white",
             "startlinecolor": "#2a3f5f"
            },
            "baxis": {
             "endlinecolor": "#2a3f5f",
             "gridcolor": "white",
             "linecolor": "white",
             "minorgridcolor": "white",
             "startlinecolor": "#2a3f5f"
            },
            "type": "carpet"
           }
          ],
          "choropleth": [
           {
            "colorbar": {
             "outlinewidth": 0,
             "ticks": ""
            },
            "type": "choropleth"
           }
          ],
          "contour": [
           {
            "colorbar": {
             "outlinewidth": 0,
             "ticks": ""
            },
            "colorscale": [
             [
              0,
              "#0d0887"
             ],
             [
              0.1111111111111111,
              "#46039f"
             ],
             [
              0.2222222222222222,
              "#7201a8"
             ],
             [
              0.3333333333333333,
              "#9c179e"
             ],
             [
              0.4444444444444444,
              "#bd3786"
             ],
             [
              0.5555555555555556,
              "#d8576b"
             ],
             [
              0.6666666666666666,
              "#ed7953"
             ],
             [
              0.7777777777777778,
              "#fb9f3a"
             ],
             [
              0.8888888888888888,
              "#fdca26"
             ],
             [
              1,
              "#f0f921"
             ]
            ],
            "type": "contour"
           }
          ],
          "contourcarpet": [
           {
            "colorbar": {
             "outlinewidth": 0,
             "ticks": ""
            },
            "type": "contourcarpet"
           }
          ],
          "heatmap": [
           {
            "colorbar": {
             "outlinewidth": 0,
             "ticks": ""
            },
            "colorscale": [
             [
              0,
              "#0d0887"
             ],
             [
              0.1111111111111111,
              "#46039f"
             ],
             [
              0.2222222222222222,
              "#7201a8"
             ],
             [
              0.3333333333333333,
              "#9c179e"
             ],
             [
              0.4444444444444444,
              "#bd3786"
             ],
             [
              0.5555555555555556,
              "#d8576b"
             ],
             [
              0.6666666666666666,
              "#ed7953"
             ],
             [
              0.7777777777777778,
              "#fb9f3a"
             ],
             [
              0.8888888888888888,
              "#fdca26"
             ],
             [
              1,
              "#f0f921"
             ]
            ],
            "type": "heatmap"
           }
          ],
          "heatmapgl": [
           {
            "colorbar": {
             "outlinewidth": 0,
             "ticks": ""
            },
            "colorscale": [
             [
              0,
              "#0d0887"
             ],
             [
              0.1111111111111111,
              "#46039f"
             ],
             [
              0.2222222222222222,
              "#7201a8"
             ],
             [
              0.3333333333333333,
              "#9c179e"
             ],
             [
              0.4444444444444444,
              "#bd3786"
             ],
             [
              0.5555555555555556,
              "#d8576b"
             ],
             [
              0.6666666666666666,
              "#ed7953"
             ],
             [
              0.7777777777777778,
              "#fb9f3a"
             ],
             [
              0.8888888888888888,
              "#fdca26"
             ],
             [
              1,
              "#f0f921"
             ]
            ],
            "type": "heatmapgl"
           }
          ],
          "histogram": [
           {
            "marker": {
             "pattern": {
              "fillmode": "overlay",
              "size": 10,
              "solidity": 0.2
             }
            },
            "type": "histogram"
           }
          ],
          "histogram2d": [
           {
            "colorbar": {
             "outlinewidth": 0,
             "ticks": ""
            },
            "colorscale": [
             [
              0,
              "#0d0887"
             ],
             [
              0.1111111111111111,
              "#46039f"
             ],
             [
              0.2222222222222222,
              "#7201a8"
             ],
             [
              0.3333333333333333,
              "#9c179e"
             ],
             [
              0.4444444444444444,
              "#bd3786"
             ],
             [
              0.5555555555555556,
              "#d8576b"
             ],
             [
              0.6666666666666666,
              "#ed7953"
             ],
             [
              0.7777777777777778,
              "#fb9f3a"
             ],
             [
              0.8888888888888888,
              "#fdca26"
             ],
             [
              1,
              "#f0f921"
             ]
            ],
            "type": "histogram2d"
           }
          ],
          "histogram2dcontour": [
           {
            "colorbar": {
             "outlinewidth": 0,
             "ticks": ""
            },
            "colorscale": [
             [
              0,
              "#0d0887"
             ],
             [
              0.1111111111111111,
              "#46039f"
             ],
             [
              0.2222222222222222,
              "#7201a8"
             ],
             [
              0.3333333333333333,
              "#9c179e"
             ],
             [
              0.4444444444444444,
              "#bd3786"
             ],
             [
              0.5555555555555556,
              "#d8576b"
             ],
             [
              0.6666666666666666,
              "#ed7953"
             ],
             [
              0.7777777777777778,
              "#fb9f3a"
             ],
             [
              0.8888888888888888,
              "#fdca26"
             ],
             [
              1,
              "#f0f921"
             ]
            ],
            "type": "histogram2dcontour"
           }
          ],
          "mesh3d": [
           {
            "colorbar": {
             "outlinewidth": 0,
             "ticks": ""
            },
            "type": "mesh3d"
           }
          ],
          "parcoords": [
           {
            "line": {
             "colorbar": {
              "outlinewidth": 0,
              "ticks": ""
             }
            },
            "type": "parcoords"
           }
          ],
          "pie": [
           {
            "automargin": true,
            "type": "pie"
           }
          ],
          "scatter": [
           {
            "fillpattern": {
             "fillmode": "overlay",
             "size": 10,
             "solidity": 0.2
            },
            "type": "scatter"
           }
          ],
          "scatter3d": [
           {
            "line": {
             "colorbar": {
              "outlinewidth": 0,
              "ticks": ""
             }
            },
            "marker": {
             "colorbar": {
              "outlinewidth": 0,
              "ticks": ""
             }
            },
            "type": "scatter3d"
           }
          ],
          "scattercarpet": [
           {
            "marker": {
             "colorbar": {
              "outlinewidth": 0,
              "ticks": ""
             }
            },
            "type": "scattercarpet"
           }
          ],
          "scattergeo": [
           {
            "marker": {
             "colorbar": {
              "outlinewidth": 0,
              "ticks": ""
             }
            },
            "type": "scattergeo"
           }
          ],
          "scattergl": [
           {
            "marker": {
             "colorbar": {
              "outlinewidth": 0,
              "ticks": ""
             }
            },
            "type": "scattergl"
           }
          ],
          "scattermapbox": [
           {
            "marker": {
             "colorbar": {
              "outlinewidth": 0,
              "ticks": ""
             }
            },
            "type": "scattermapbox"
           }
          ],
          "scatterpolar": [
           {
            "marker": {
             "colorbar": {
              "outlinewidth": 0,
              "ticks": ""
             }
            },
            "type": "scatterpolar"
           }
          ],
          "scatterpolargl": [
           {
            "marker": {
             "colorbar": {
              "outlinewidth": 0,
              "ticks": ""
             }
            },
            "type": "scatterpolargl"
           }
          ],
          "scatterternary": [
           {
            "marker": {
             "colorbar": {
              "outlinewidth": 0,
              "ticks": ""
             }
            },
            "type": "scatterternary"
           }
          ],
          "surface": [
           {
            "colorbar": {
             "outlinewidth": 0,
             "ticks": ""
            },
            "colorscale": [
             [
              0,
              "#0d0887"
             ],
             [
              0.1111111111111111,
              "#46039f"
             ],
             [
              0.2222222222222222,
              "#7201a8"
             ],
             [
              0.3333333333333333,
              "#9c179e"
             ],
             [
              0.4444444444444444,
              "#bd3786"
             ],
             [
              0.5555555555555556,
              "#d8576b"
             ],
             [
              0.6666666666666666,
              "#ed7953"
             ],
             [
              0.7777777777777778,
              "#fb9f3a"
             ],
             [
              0.8888888888888888,
              "#fdca26"
             ],
             [
              1,
              "#f0f921"
             ]
            ],
            "type": "surface"
           }
          ],
          "table": [
           {
            "cells": {
             "fill": {
              "color": "#EBF0F8"
             },
             "line": {
              "color": "white"
             }
            },
            "header": {
             "fill": {
              "color": "#C8D4E3"
             },
             "line": {
              "color": "white"
             }
            },
            "type": "table"
           }
          ]
         },
         "layout": {
          "annotationdefaults": {
           "arrowcolor": "#2a3f5f",
           "arrowhead": 0,
           "arrowwidth": 1
          },
          "autotypenumbers": "strict",
          "coloraxis": {
           "colorbar": {
            "outlinewidth": 0,
            "ticks": ""
           }
          },
          "colorscale": {
           "diverging": [
            [
             0,
             "#8e0152"
            ],
            [
             0.1,
             "#c51b7d"
            ],
            [
             0.2,
             "#de77ae"
            ],
            [
             0.3,
             "#f1b6da"
            ],
            [
             0.4,
             "#fde0ef"
            ],
            [
             0.5,
             "#f7f7f7"
            ],
            [
             0.6,
             "#e6f5d0"
            ],
            [
             0.7,
             "#b8e186"
            ],
            [
             0.8,
             "#7fbc41"
            ],
            [
             0.9,
             "#4d9221"
            ],
            [
             1,
             "#276419"
            ]
           ],
           "sequential": [
            [
             0,
             "#0d0887"
            ],
            [
             0.1111111111111111,
             "#46039f"
            ],
            [
             0.2222222222222222,
             "#7201a8"
            ],
            [
             0.3333333333333333,
             "#9c179e"
            ],
            [
             0.4444444444444444,
             "#bd3786"
            ],
            [
             0.5555555555555556,
             "#d8576b"
            ],
            [
             0.6666666666666666,
             "#ed7953"
            ],
            [
             0.7777777777777778,
             "#fb9f3a"
            ],
            [
             0.8888888888888888,
             "#fdca26"
            ],
            [
             1,
             "#f0f921"
            ]
           ],
           "sequentialminus": [
            [
             0,
             "#0d0887"
            ],
            [
             0.1111111111111111,
             "#46039f"
            ],
            [
             0.2222222222222222,
             "#7201a8"
            ],
            [
             0.3333333333333333,
             "#9c179e"
            ],
            [
             0.4444444444444444,
             "#bd3786"
            ],
            [
             0.5555555555555556,
             "#d8576b"
            ],
            [
             0.6666666666666666,
             "#ed7953"
            ],
            [
             0.7777777777777778,
             "#fb9f3a"
            ],
            [
             0.8888888888888888,
             "#fdca26"
            ],
            [
             1,
             "#f0f921"
            ]
           ]
          },
          "colorway": [
           "#636efa",
           "#EF553B",
           "#00cc96",
           "#ab63fa",
           "#FFA15A",
           "#19d3f3",
           "#FF6692",
           "#B6E880",
           "#FF97FF",
           "#FECB52"
          ],
          "font": {
           "color": "#2a3f5f"
          },
          "geo": {
           "bgcolor": "white",
           "lakecolor": "white",
           "landcolor": "#E5ECF6",
           "showlakes": true,
           "showland": true,
           "subunitcolor": "white"
          },
          "hoverlabel": {
           "align": "left"
          },
          "hovermode": "closest",
          "mapbox": {
           "style": "light"
          },
          "paper_bgcolor": "white",
          "plot_bgcolor": "#E5ECF6",
          "polar": {
           "angularaxis": {
            "gridcolor": "white",
            "linecolor": "white",
            "ticks": ""
           },
           "bgcolor": "#E5ECF6",
           "radialaxis": {
            "gridcolor": "white",
            "linecolor": "white",
            "ticks": ""
           }
          },
          "scene": {
           "xaxis": {
            "backgroundcolor": "#E5ECF6",
            "gridcolor": "white",
            "gridwidth": 2,
            "linecolor": "white",
            "showbackground": true,
            "ticks": "",
            "zerolinecolor": "white"
           },
           "yaxis": {
            "backgroundcolor": "#E5ECF6",
            "gridcolor": "white",
            "gridwidth": 2,
            "linecolor": "white",
            "showbackground": true,
            "ticks": "",
            "zerolinecolor": "white"
           },
           "zaxis": {
            "backgroundcolor": "#E5ECF6",
            "gridcolor": "white",
            "gridwidth": 2,
            "linecolor": "white",
            "showbackground": true,
            "ticks": "",
            "zerolinecolor": "white"
           }
          },
          "shapedefaults": {
           "line": {
            "color": "#2a3f5f"
           }
          },
          "ternary": {
           "aaxis": {
            "gridcolor": "white",
            "linecolor": "white",
            "ticks": ""
           },
           "baxis": {
            "gridcolor": "white",
            "linecolor": "white",
            "ticks": ""
           },
           "bgcolor": "#E5ECF6",
           "caxis": {
            "gridcolor": "white",
            "linecolor": "white",
            "ticks": ""
           }
          },
          "title": {
           "x": 0.05
          },
          "xaxis": {
           "automargin": true,
           "gridcolor": "white",
           "linecolor": "white",
           "ticks": "",
           "title": {
            "standoff": 15
           },
           "zerolinecolor": "white",
           "zerolinewidth": 2
          },
          "yaxis": {
           "automargin": true,
           "gridcolor": "white",
           "linecolor": "white",
           "ticks": "",
           "title": {
            "standoff": 15
           },
           "zerolinecolor": "white",
           "zerolinewidth": 2
          }
         }
        },
        "title": {
         "text": "Growth in Qualcomm v S&P"
        },
        "xaxis": {
         "anchor": "y",
         "domain": [
          0,
          1
         ],
         "title": {
          "text": "date"
         }
        },
        "yaxis": {
         "anchor": "x",
         "domain": [
          0,
          1
         ],
         "title": {
          "text": "value"
         }
        }
       }
      }
     },
     "metadata": {},
     "output_type": "display_data"
    }
   ],
   "source": [
    "import plotly.express as px \n",
    "\n",
    "fig = px.line(temp, x='date', y=['QCOM_growth', 'SPY_growth' ],\n",
    " title=\"Growth in Qualcomm v S&P\"\n",
    " )\n",
    "\n",
    "\n",
    "fig.show()"
   ]
  },
  {
   "cell_type": "markdown",
   "metadata": {},
   "source": [
    "What a great example! looks like there was a sharp rise in price starting in November, and by mid January Qualcomm had grown much more than the S&P. My hypothesis is that the majority of stock purchases will exhibit a similar pattern"
   ]
  },
  {
   "cell_type": "code",
   "execution_count": 522,
   "metadata": {},
   "outputs": [
    {
     "name": "stdout",
     "output_type": "stream",
     "text": [
      "ABCDEFGHIJKLMNOPQRSTUVWXYZ\n"
     ]
    }
   ],
   "source": [
    "import string \n",
    "print(string.ascii_uppercase)"
   ]
  },
  {
   "cell_type": "code",
   "execution_count": 523,
   "metadata": {},
   "outputs": [],
   "source": [
    "def findSourceFrame(ticker):\n",
    "    leadingLetter =ticker[0]\n",
    "\n",
    "    relevantCols = ['date', ticker, 'SPY']\n",
    "\n",
    "    if leadingLetter in 'ABCDEFG':\n",
    "        rez = historicalPricesAG[relevantCols]\n",
    "    elif leadingLetter in 'HIJKLMNOPQR':\n",
    "        rez = historicalPricesHR[relevantCols]\n",
    "    elif leadingLetter in 'STUVWXYZ':\n",
    "        rez = historicalPricesSZ[relevantCols]\n",
    "    else:\n",
    "        return 'ticker leading letter is non-alpha'\n",
    "    return rez\n",
    "\n",
    "\n",
    "\n",
    "\n",
    "def generateHistoricalPricesTable(ticker, date):\n",
    "    \n",
    "    rez = findSourceFrame(ticker)\n",
    "\n",
    "    rez = rez.sort_values(by=\"date\")\n",
    "\n",
    "    # start dataframe at purchase date \n",
    "    rez = rez[rez['date']>=date]\n",
    "    \n",
    "    # end dataframe at one year from purchase date \n",
    "    if len(rez)>52:\n",
    "        rez = rez.head(52)\n",
    "\n",
    "    return rez\n",
    "\n",
    "\n",
    "def graphGrowthRates(frame, tickerFirst, tickerSecond='SPY'):\n",
    "    yColumnList = [tickerFirst+\"_growth\", tickerSecond+\"_growth\"]\n",
    "    fig = px.line(frame, x='date', y=yColumnList,\n",
    "    title=f\"Growth in {tickerFirst} v {tickerSecond}\",\n",
    "    height=500, width=800\n",
    "\n",
    "    )\n",
    "    fig.show()\n",
    "\n",
    "\n",
    "# putting it all together \n",
    "def graphAlpha(ticker, date):\n",
    "\n",
    "    histPrices =  generateHistoricalPricesTable(ticker, date)\n",
    "    createGrowthColumn(ticker, histPrices)\n",
    "    createGrowthColumn('SPY', histPrices)\n",
    "\n",
    "    graphGrowthRates(histPrices, ticker)\n",
    " \n",
    "    \n"
   ]
  },
  {
   "cell_type": "code",
   "execution_count": 524,
   "metadata": {},
   "outputs": [
    {
     "data": {
      "application/vnd.plotly.v1+json": {
       "config": {
        "plotlyServerURL": "https://plot.ly"
       },
       "data": [
        {
         "hovertemplate": "variable=IBM_growth<br>date=%{x}<br>value=%{y}<extra></extra>",
         "legendgroup": "IBM_growth",
         "line": {
          "color": "#636efa",
          "dash": "solid"
         },
         "marker": {
          "symbol": "circle"
         },
         "mode": "lines",
         "name": "IBM_growth",
         "orientation": "v",
         "showlegend": true,
         "type": "scatter",
         "x": [
          "2018-01-05T00:00:00",
          "2018-01-12T00:00:00",
          "2018-01-19T00:00:00",
          "2018-01-26T00:00:00",
          "2018-02-02T00:00:00",
          "2018-02-09T00:00:00",
          "2018-02-16T00:00:00",
          "2018-02-23T00:00:00",
          "2018-03-02T00:00:00",
          "2018-03-09T00:00:00",
          "2018-03-16T00:00:00",
          "2018-03-23T00:00:00",
          "2018-03-29T00:00:00",
          "2018-04-06T00:00:00",
          "2018-04-13T00:00:00",
          "2018-04-20T00:00:00",
          "2018-04-27T00:00:00",
          "2018-05-04T00:00:00",
          "2018-05-11T00:00:00",
          "2018-05-18T00:00:00",
          "2018-05-25T00:00:00",
          "2018-06-01T00:00:00",
          "2018-06-08T00:00:00",
          "2018-06-15T00:00:00",
          "2018-06-22T00:00:00",
          "2018-06-29T00:00:00",
          "2018-07-06T00:00:00",
          "2018-07-13T00:00:00",
          "2018-07-20T00:00:00",
          "2018-07-27T00:00:00",
          "2018-08-03T00:00:00",
          "2018-08-10T00:00:00",
          "2018-08-17T00:00:00",
          "2018-08-24T00:00:00",
          "2018-08-31T00:00:00",
          "2018-09-07T00:00:00",
          "2018-09-14T00:00:00",
          "2018-09-21T00:00:00",
          "2018-09-28T00:00:00",
          "2018-10-05T00:00:00",
          "2018-10-12T00:00:00",
          "2018-10-19T00:00:00",
          "2018-10-26T00:00:00",
          "2018-11-02T00:00:00",
          "2018-11-09T00:00:00",
          "2018-11-16T00:00:00",
          "2018-11-23T00:00:00",
          "2018-11-30T00:00:00",
          "2018-12-07T00:00:00",
          "2018-12-14T00:00:00",
          "2018-12-21T00:00:00",
          "2018-12-28T00:00:00"
         ],
         "xaxis": "x",
         "y": [
          null,
          100,
          99.52801027007894,
          102.57453392339526,
          97.48068243173807,
          92.57662186828657,
          96.70675629605101,
          96.2980573956476,
          95.66025547963193,
          98.64479326898766,
          99.23308805418218,
          92.19271731346741,
          95.0039393647754,
          93.23301954349044,
          97.03487357330565,
          89.7221728329008,
          90.70048919896321,
          89.10916526246936,
          90.234127133007,
          90.19652781289406,
          89.92109852000596,
          88.86317925496256,
          91.48616002466386,
          91.0166171051623,
          88.44371438871337,
          87.45463205680518,
          89.19496674784644,
          91.33592586490674,
          91.61763530453823,
          90.86638294540516,
          92.46276362343264,
          91.42784437633252,
          92.4276926740865,
          92.41505082025243,
          92.69349784599125,
          92.04166755023712,
          93.86413351102615,
          95.77525556934835,
          95.68659947181521,
          94.30708775730254,
          89.13077875450827,
          81.69532969139198,
          78.96787011677813,
          73.19674150100404,
          79.17168942472227,
          77.90921680860889,
          75.10223589536137,
          79.6395195769302,
          76.48003484258041,
          76.83898193112068,
          71.09688879899129,
          72.43627282262422
         ],
         "yaxis": "y"
        },
        {
         "hovertemplate": "variable=SPY_growth<br>date=%{x}<br>value=%{y}<extra></extra>",
         "legendgroup": "SPY_growth",
         "line": {
          "color": "#EF553B",
          "dash": "solid"
         },
         "marker": {
          "symbol": "circle"
         },
         "mode": "lines",
         "name": "SPY_growth",
         "orientation": "v",
         "showlegend": true,
         "type": "scatter",
         "x": [
          "2018-01-05T00:00:00",
          "2018-01-12T00:00:00",
          "2018-01-19T00:00:00",
          "2018-01-26T00:00:00",
          "2018-02-02T00:00:00",
          "2018-02-09T00:00:00",
          "2018-02-16T00:00:00",
          "2018-02-23T00:00:00",
          "2018-03-02T00:00:00",
          "2018-03-09T00:00:00",
          "2018-03-16T00:00:00",
          "2018-03-23T00:00:00",
          "2018-03-29T00:00:00",
          "2018-04-06T00:00:00",
          "2018-04-13T00:00:00",
          "2018-04-20T00:00:00",
          "2018-04-27T00:00:00",
          "2018-05-04T00:00:00",
          "2018-05-11T00:00:00",
          "2018-05-18T00:00:00",
          "2018-05-25T00:00:00",
          "2018-06-01T00:00:00",
          "2018-06-08T00:00:00",
          "2018-06-15T00:00:00",
          "2018-06-22T00:00:00",
          "2018-06-29T00:00:00",
          "2018-07-06T00:00:00",
          "2018-07-13T00:00:00",
          "2018-07-20T00:00:00",
          "2018-07-27T00:00:00",
          "2018-08-03T00:00:00",
          "2018-08-10T00:00:00",
          "2018-08-17T00:00:00",
          "2018-08-24T00:00:00",
          "2018-08-31T00:00:00",
          "2018-09-07T00:00:00",
          "2018-09-14T00:00:00",
          "2018-09-21T00:00:00",
          "2018-09-28T00:00:00",
          "2018-10-05T00:00:00",
          "2018-10-12T00:00:00",
          "2018-10-19T00:00:00",
          "2018-10-26T00:00:00",
          "2018-11-02T00:00:00",
          "2018-11-09T00:00:00",
          "2018-11-16T00:00:00",
          "2018-11-23T00:00:00",
          "2018-11-30T00:00:00",
          "2018-12-07T00:00:00",
          "2018-12-14T00:00:00",
          "2018-12-21T00:00:00",
          "2018-12-28T00:00:00"
         ],
         "xaxis": "x",
         "y": [
          null,
          100,
          100.89596410210571,
          103.1160065466193,
          99.11125700789209,
          94.0918439319061,
          98.26931461517535,
          98.84501273062176,
          96.81923766156258,
          100.34185125059868,
          99.05614237374671,
          93.2218758257925,
          95.06427373393451,
          93.82517029133862,
          95.78677506398492,
          96.31422835804061,
          96.29615606653259,
          96.10106899751088,
          98.56842470119244,
          98.01934711017036,
          98.31556875218831,
          98.8393919747316,
          100.49755399536213,
          100.56457370274713,
          99.69729887549754,
          98.44176252852827,
          99.9440656722873,
          101.45725903058353,
          101.48992967419522,
          102.12132791919227,
          102.91241027770829,
          102.75276519721633,
          103.44220555338491,
          104.33126080970894,
          105.34732953594029,
          104.36393145332065,
          105.55416554609357,
          106.43689745204112,
          105.97396575164147,
          104.91687331401724,
          100.589984203334,
          100.69931571200344,
          96.71872761699862,
          99.11000795102764,
          101.24975945897106,
          99.78075148725594,
          95.96055010025636,
          100.48061366163755,
          96.07718078497763,
          94.94717465288909,
          88.26378363524732,
          90.84901908051462
         ],
         "yaxis": "y"
        }
       ],
       "layout": {
        "height": 500,
        "legend": {
         "title": {
          "text": "variable"
         },
         "tracegroupgap": 0
        },
        "template": {
         "data": {
          "bar": [
           {
            "error_x": {
             "color": "#2a3f5f"
            },
            "error_y": {
             "color": "#2a3f5f"
            },
            "marker": {
             "line": {
              "color": "#E5ECF6",
              "width": 0.5
             },
             "pattern": {
              "fillmode": "overlay",
              "size": 10,
              "solidity": 0.2
             }
            },
            "type": "bar"
           }
          ],
          "barpolar": [
           {
            "marker": {
             "line": {
              "color": "#E5ECF6",
              "width": 0.5
             },
             "pattern": {
              "fillmode": "overlay",
              "size": 10,
              "solidity": 0.2
             }
            },
            "type": "barpolar"
           }
          ],
          "carpet": [
           {
            "aaxis": {
             "endlinecolor": "#2a3f5f",
             "gridcolor": "white",
             "linecolor": "white",
             "minorgridcolor": "white",
             "startlinecolor": "#2a3f5f"
            },
            "baxis": {
             "endlinecolor": "#2a3f5f",
             "gridcolor": "white",
             "linecolor": "white",
             "minorgridcolor": "white",
             "startlinecolor": "#2a3f5f"
            },
            "type": "carpet"
           }
          ],
          "choropleth": [
           {
            "colorbar": {
             "outlinewidth": 0,
             "ticks": ""
            },
            "type": "choropleth"
           }
          ],
          "contour": [
           {
            "colorbar": {
             "outlinewidth": 0,
             "ticks": ""
            },
            "colorscale": [
             [
              0,
              "#0d0887"
             ],
             [
              0.1111111111111111,
              "#46039f"
             ],
             [
              0.2222222222222222,
              "#7201a8"
             ],
             [
              0.3333333333333333,
              "#9c179e"
             ],
             [
              0.4444444444444444,
              "#bd3786"
             ],
             [
              0.5555555555555556,
              "#d8576b"
             ],
             [
              0.6666666666666666,
              "#ed7953"
             ],
             [
              0.7777777777777778,
              "#fb9f3a"
             ],
             [
              0.8888888888888888,
              "#fdca26"
             ],
             [
              1,
              "#f0f921"
             ]
            ],
            "type": "contour"
           }
          ],
          "contourcarpet": [
           {
            "colorbar": {
             "outlinewidth": 0,
             "ticks": ""
            },
            "type": "contourcarpet"
           }
          ],
          "heatmap": [
           {
            "colorbar": {
             "outlinewidth": 0,
             "ticks": ""
            },
            "colorscale": [
             [
              0,
              "#0d0887"
             ],
             [
              0.1111111111111111,
              "#46039f"
             ],
             [
              0.2222222222222222,
              "#7201a8"
             ],
             [
              0.3333333333333333,
              "#9c179e"
             ],
             [
              0.4444444444444444,
              "#bd3786"
             ],
             [
              0.5555555555555556,
              "#d8576b"
             ],
             [
              0.6666666666666666,
              "#ed7953"
             ],
             [
              0.7777777777777778,
              "#fb9f3a"
             ],
             [
              0.8888888888888888,
              "#fdca26"
             ],
             [
              1,
              "#f0f921"
             ]
            ],
            "type": "heatmap"
           }
          ],
          "heatmapgl": [
           {
            "colorbar": {
             "outlinewidth": 0,
             "ticks": ""
            },
            "colorscale": [
             [
              0,
              "#0d0887"
             ],
             [
              0.1111111111111111,
              "#46039f"
             ],
             [
              0.2222222222222222,
              "#7201a8"
             ],
             [
              0.3333333333333333,
              "#9c179e"
             ],
             [
              0.4444444444444444,
              "#bd3786"
             ],
             [
              0.5555555555555556,
              "#d8576b"
             ],
             [
              0.6666666666666666,
              "#ed7953"
             ],
             [
              0.7777777777777778,
              "#fb9f3a"
             ],
             [
              0.8888888888888888,
              "#fdca26"
             ],
             [
              1,
              "#f0f921"
             ]
            ],
            "type": "heatmapgl"
           }
          ],
          "histogram": [
           {
            "marker": {
             "pattern": {
              "fillmode": "overlay",
              "size": 10,
              "solidity": 0.2
             }
            },
            "type": "histogram"
           }
          ],
          "histogram2d": [
           {
            "colorbar": {
             "outlinewidth": 0,
             "ticks": ""
            },
            "colorscale": [
             [
              0,
              "#0d0887"
             ],
             [
              0.1111111111111111,
              "#46039f"
             ],
             [
              0.2222222222222222,
              "#7201a8"
             ],
             [
              0.3333333333333333,
              "#9c179e"
             ],
             [
              0.4444444444444444,
              "#bd3786"
             ],
             [
              0.5555555555555556,
              "#d8576b"
             ],
             [
              0.6666666666666666,
              "#ed7953"
             ],
             [
              0.7777777777777778,
              "#fb9f3a"
             ],
             [
              0.8888888888888888,
              "#fdca26"
             ],
             [
              1,
              "#f0f921"
             ]
            ],
            "type": "histogram2d"
           }
          ],
          "histogram2dcontour": [
           {
            "colorbar": {
             "outlinewidth": 0,
             "ticks": ""
            },
            "colorscale": [
             [
              0,
              "#0d0887"
             ],
             [
              0.1111111111111111,
              "#46039f"
             ],
             [
              0.2222222222222222,
              "#7201a8"
             ],
             [
              0.3333333333333333,
              "#9c179e"
             ],
             [
              0.4444444444444444,
              "#bd3786"
             ],
             [
              0.5555555555555556,
              "#d8576b"
             ],
             [
              0.6666666666666666,
              "#ed7953"
             ],
             [
              0.7777777777777778,
              "#fb9f3a"
             ],
             [
              0.8888888888888888,
              "#fdca26"
             ],
             [
              1,
              "#f0f921"
             ]
            ],
            "type": "histogram2dcontour"
           }
          ],
          "mesh3d": [
           {
            "colorbar": {
             "outlinewidth": 0,
             "ticks": ""
            },
            "type": "mesh3d"
           }
          ],
          "parcoords": [
           {
            "line": {
             "colorbar": {
              "outlinewidth": 0,
              "ticks": ""
             }
            },
            "type": "parcoords"
           }
          ],
          "pie": [
           {
            "automargin": true,
            "type": "pie"
           }
          ],
          "scatter": [
           {
            "fillpattern": {
             "fillmode": "overlay",
             "size": 10,
             "solidity": 0.2
            },
            "type": "scatter"
           }
          ],
          "scatter3d": [
           {
            "line": {
             "colorbar": {
              "outlinewidth": 0,
              "ticks": ""
             }
            },
            "marker": {
             "colorbar": {
              "outlinewidth": 0,
              "ticks": ""
             }
            },
            "type": "scatter3d"
           }
          ],
          "scattercarpet": [
           {
            "marker": {
             "colorbar": {
              "outlinewidth": 0,
              "ticks": ""
             }
            },
            "type": "scattercarpet"
           }
          ],
          "scattergeo": [
           {
            "marker": {
             "colorbar": {
              "outlinewidth": 0,
              "ticks": ""
             }
            },
            "type": "scattergeo"
           }
          ],
          "scattergl": [
           {
            "marker": {
             "colorbar": {
              "outlinewidth": 0,
              "ticks": ""
             }
            },
            "type": "scattergl"
           }
          ],
          "scattermapbox": [
           {
            "marker": {
             "colorbar": {
              "outlinewidth": 0,
              "ticks": ""
             }
            },
            "type": "scattermapbox"
           }
          ],
          "scatterpolar": [
           {
            "marker": {
             "colorbar": {
              "outlinewidth": 0,
              "ticks": ""
             }
            },
            "type": "scatterpolar"
           }
          ],
          "scatterpolargl": [
           {
            "marker": {
             "colorbar": {
              "outlinewidth": 0,
              "ticks": ""
             }
            },
            "type": "scatterpolargl"
           }
          ],
          "scatterternary": [
           {
            "marker": {
             "colorbar": {
              "outlinewidth": 0,
              "ticks": ""
             }
            },
            "type": "scatterternary"
           }
          ],
          "surface": [
           {
            "colorbar": {
             "outlinewidth": 0,
             "ticks": ""
            },
            "colorscale": [
             [
              0,
              "#0d0887"
             ],
             [
              0.1111111111111111,
              "#46039f"
             ],
             [
              0.2222222222222222,
              "#7201a8"
             ],
             [
              0.3333333333333333,
              "#9c179e"
             ],
             [
              0.4444444444444444,
              "#bd3786"
             ],
             [
              0.5555555555555556,
              "#d8576b"
             ],
             [
              0.6666666666666666,
              "#ed7953"
             ],
             [
              0.7777777777777778,
              "#fb9f3a"
             ],
             [
              0.8888888888888888,
              "#fdca26"
             ],
             [
              1,
              "#f0f921"
             ]
            ],
            "type": "surface"
           }
          ],
          "table": [
           {
            "cells": {
             "fill": {
              "color": "#EBF0F8"
             },
             "line": {
              "color": "white"
             }
            },
            "header": {
             "fill": {
              "color": "#C8D4E3"
             },
             "line": {
              "color": "white"
             }
            },
            "type": "table"
           }
          ]
         },
         "layout": {
          "annotationdefaults": {
           "arrowcolor": "#2a3f5f",
           "arrowhead": 0,
           "arrowwidth": 1
          },
          "autotypenumbers": "strict",
          "coloraxis": {
           "colorbar": {
            "outlinewidth": 0,
            "ticks": ""
           }
          },
          "colorscale": {
           "diverging": [
            [
             0,
             "#8e0152"
            ],
            [
             0.1,
             "#c51b7d"
            ],
            [
             0.2,
             "#de77ae"
            ],
            [
             0.3,
             "#f1b6da"
            ],
            [
             0.4,
             "#fde0ef"
            ],
            [
             0.5,
             "#f7f7f7"
            ],
            [
             0.6,
             "#e6f5d0"
            ],
            [
             0.7,
             "#b8e186"
            ],
            [
             0.8,
             "#7fbc41"
            ],
            [
             0.9,
             "#4d9221"
            ],
            [
             1,
             "#276419"
            ]
           ],
           "sequential": [
            [
             0,
             "#0d0887"
            ],
            [
             0.1111111111111111,
             "#46039f"
            ],
            [
             0.2222222222222222,
             "#7201a8"
            ],
            [
             0.3333333333333333,
             "#9c179e"
            ],
            [
             0.4444444444444444,
             "#bd3786"
            ],
            [
             0.5555555555555556,
             "#d8576b"
            ],
            [
             0.6666666666666666,
             "#ed7953"
            ],
            [
             0.7777777777777778,
             "#fb9f3a"
            ],
            [
             0.8888888888888888,
             "#fdca26"
            ],
            [
             1,
             "#f0f921"
            ]
           ],
           "sequentialminus": [
            [
             0,
             "#0d0887"
            ],
            [
             0.1111111111111111,
             "#46039f"
            ],
            [
             0.2222222222222222,
             "#7201a8"
            ],
            [
             0.3333333333333333,
             "#9c179e"
            ],
            [
             0.4444444444444444,
             "#bd3786"
            ],
            [
             0.5555555555555556,
             "#d8576b"
            ],
            [
             0.6666666666666666,
             "#ed7953"
            ],
            [
             0.7777777777777778,
             "#fb9f3a"
            ],
            [
             0.8888888888888888,
             "#fdca26"
            ],
            [
             1,
             "#f0f921"
            ]
           ]
          },
          "colorway": [
           "#636efa",
           "#EF553B",
           "#00cc96",
           "#ab63fa",
           "#FFA15A",
           "#19d3f3",
           "#FF6692",
           "#B6E880",
           "#FF97FF",
           "#FECB52"
          ],
          "font": {
           "color": "#2a3f5f"
          },
          "geo": {
           "bgcolor": "white",
           "lakecolor": "white",
           "landcolor": "#E5ECF6",
           "showlakes": true,
           "showland": true,
           "subunitcolor": "white"
          },
          "hoverlabel": {
           "align": "left"
          },
          "hovermode": "closest",
          "mapbox": {
           "style": "light"
          },
          "paper_bgcolor": "white",
          "plot_bgcolor": "#E5ECF6",
          "polar": {
           "angularaxis": {
            "gridcolor": "white",
            "linecolor": "white",
            "ticks": ""
           },
           "bgcolor": "#E5ECF6",
           "radialaxis": {
            "gridcolor": "white",
            "linecolor": "white",
            "ticks": ""
           }
          },
          "scene": {
           "xaxis": {
            "backgroundcolor": "#E5ECF6",
            "gridcolor": "white",
            "gridwidth": 2,
            "linecolor": "white",
            "showbackground": true,
            "ticks": "",
            "zerolinecolor": "white"
           },
           "yaxis": {
            "backgroundcolor": "#E5ECF6",
            "gridcolor": "white",
            "gridwidth": 2,
            "linecolor": "white",
            "showbackground": true,
            "ticks": "",
            "zerolinecolor": "white"
           },
           "zaxis": {
            "backgroundcolor": "#E5ECF6",
            "gridcolor": "white",
            "gridwidth": 2,
            "linecolor": "white",
            "showbackground": true,
            "ticks": "",
            "zerolinecolor": "white"
           }
          },
          "shapedefaults": {
           "line": {
            "color": "#2a3f5f"
           }
          },
          "ternary": {
           "aaxis": {
            "gridcolor": "white",
            "linecolor": "white",
            "ticks": ""
           },
           "baxis": {
            "gridcolor": "white",
            "linecolor": "white",
            "ticks": ""
           },
           "bgcolor": "#E5ECF6",
           "caxis": {
            "gridcolor": "white",
            "linecolor": "white",
            "ticks": ""
           }
          },
          "title": {
           "x": 0.05
          },
          "xaxis": {
           "automargin": true,
           "gridcolor": "white",
           "linecolor": "white",
           "ticks": "",
           "title": {
            "standoff": 15
           },
           "zerolinecolor": "white",
           "zerolinewidth": 2
          },
          "yaxis": {
           "automargin": true,
           "gridcolor": "white",
           "linecolor": "white",
           "ticks": "",
           "title": {
            "standoff": 15
           },
           "zerolinecolor": "white",
           "zerolinewidth": 2
          }
         }
        },
        "title": {
         "text": "Growth in IBM v SPY"
        },
        "width": 800,
        "xaxis": {
         "anchor": "y",
         "domain": [
          0,
          1
         ],
         "title": {
          "text": "date"
         }
        },
        "yaxis": {
         "anchor": "x",
         "domain": [
          0,
          1
         ],
         "title": {
          "text": "value"
         }
        }
       }
      }
     },
     "metadata": {},
     "output_type": "display_data"
    }
   ],
   "source": [
    "graphAlpha(\"IBM\", \"2018-01-05\")"
   ]
  },
  {
   "cell_type": "markdown",
   "metadata": {},
   "source": [
    "Our all-in-one function for graphing alpha appears to be \"functioning\" properly. There is no obvious alpha here, but this is just a random stock and date. Instead of picking randomly, let's graph find some actual stock purachases and thier associated dates"
   ]
  },
  {
   "cell_type": "code",
   "execution_count": 525,
   "metadata": {},
   "outputs": [
    {
     "data": {
      "text/html": [
       "<div>\n",
       "<style scoped>\n",
       "    .dataframe tbody tr th:only-of-type {\n",
       "        vertical-align: middle;\n",
       "    }\n",
       "\n",
       "    .dataframe tbody tr th {\n",
       "        vertical-align: top;\n",
       "    }\n",
       "\n",
       "    .dataframe thead th {\n",
       "        text-align: right;\n",
       "    }\n",
       "</style>\n",
       "<table border=\"1\" class=\"dataframe\">\n",
       "  <thead>\n",
       "    <tr style=\"text-align: right;\">\n",
       "      <th></th>\n",
       "      <th>transaction_date</th>\n",
       "      <th>owner</th>\n",
       "      <th>ticker</th>\n",
       "      <th>asset_description</th>\n",
       "      <th>asset_type</th>\n",
       "      <th>type</th>\n",
       "    </tr>\n",
       "  </thead>\n",
       "  <tbody>\n",
       "    <tr>\n",
       "      <th>1034</th>\n",
       "      <td>2021-03-29</td>\n",
       "      <td>Joint</td>\n",
       "      <td>ATHM</td>\n",
       "      <td>Autohome Inc.</td>\n",
       "      <td>Stock</td>\n",
       "      <td>Purchase</td>\n",
       "    </tr>\n",
       "    <tr>\n",
       "      <th>1035</th>\n",
       "      <td>2021-03-29</td>\n",
       "      <td>Joint</td>\n",
       "      <td>AME</td>\n",
       "      <td>AMETEK, Inc.</td>\n",
       "      <td>Stock</td>\n",
       "      <td>Purchase</td>\n",
       "    </tr>\n",
       "    <tr>\n",
       "      <th>1036</th>\n",
       "      <td>2021-03-29</td>\n",
       "      <td>Joint</td>\n",
       "      <td>GOOGL</td>\n",
       "      <td>Alphabet Inc.</td>\n",
       "      <td>Stock</td>\n",
       "      <td>Purchase</td>\n",
       "    </tr>\n",
       "    <tr>\n",
       "      <th>1039</th>\n",
       "      <td>2021-03-16</td>\n",
       "      <td>Joint</td>\n",
       "      <td>AA</td>\n",
       "      <td>Alcoa Corporation</td>\n",
       "      <td>Stock</td>\n",
       "      <td>Purchase</td>\n",
       "    </tr>\n",
       "    <tr>\n",
       "      <th>1040</th>\n",
       "      <td>2021-03-16</td>\n",
       "      <td>Joint</td>\n",
       "      <td>AA</td>\n",
       "      <td>Alcoa Corporation</td>\n",
       "      <td>Stock</td>\n",
       "      <td>Purchase</td>\n",
       "    </tr>\n",
       "    <tr>\n",
       "      <th>1043</th>\n",
       "      <td>2021-03-12</td>\n",
       "      <td>Joint</td>\n",
       "      <td>CLF</td>\n",
       "      <td>Cleveland-Cliffs Inc.</td>\n",
       "      <td>Stock</td>\n",
       "      <td>Purchase</td>\n",
       "    </tr>\n",
       "    <tr>\n",
       "      <th>1056</th>\n",
       "      <td>2021-04-19</td>\n",
       "      <td>Joint</td>\n",
       "      <td>CLF</td>\n",
       "      <td>Cleveland-Cliffs Inc.</td>\n",
       "      <td>Stock</td>\n",
       "      <td>Purchase</td>\n",
       "    </tr>\n",
       "    <tr>\n",
       "      <th>1059</th>\n",
       "      <td>2021-04-16</td>\n",
       "      <td>Joint</td>\n",
       "      <td>ECOM</td>\n",
       "      <td>ChannelAdvisor Corporation</td>\n",
       "      <td>Stock</td>\n",
       "      <td>Purchase</td>\n",
       "    </tr>\n",
       "    <tr>\n",
       "      <th>1069</th>\n",
       "      <td>2021-04-07</td>\n",
       "      <td>Joint</td>\n",
       "      <td>OXY</td>\n",
       "      <td>Occidental Petroleum Corporation</td>\n",
       "      <td>Stock</td>\n",
       "      <td>Purchase</td>\n",
       "    </tr>\n",
       "    <tr>\n",
       "      <th>1082</th>\n",
       "      <td>2021-05-06</td>\n",
       "      <td>Joint</td>\n",
       "      <td>X</td>\n",
       "      <td>United States Steel Corporation</td>\n",
       "      <td>Stock</td>\n",
       "      <td>Purchase</td>\n",
       "    </tr>\n",
       "  </tbody>\n",
       "</table>\n",
       "</div>"
      ],
      "text/plain": [
       "     transaction_date  owner ticker                 asset_description  \\\n",
       "1034       2021-03-29  Joint   ATHM                     Autohome Inc.   \n",
       "1035       2021-03-29  Joint    AME                      AMETEK, Inc.   \n",
       "1036       2021-03-29  Joint  GOOGL                     Alphabet Inc.   \n",
       "1039       2021-03-16  Joint     AA                 Alcoa Corporation   \n",
       "1040       2021-03-16  Joint     AA                 Alcoa Corporation   \n",
       "1043       2021-03-12  Joint    CLF             Cleveland-Cliffs Inc.   \n",
       "1056       2021-04-19  Joint    CLF             Cleveland-Cliffs Inc.   \n",
       "1059       2021-04-16  Joint   ECOM        ChannelAdvisor Corporation   \n",
       "1069       2021-04-07  Joint    OXY  Occidental Petroleum Corporation   \n",
       "1082       2021-05-06  Joint      X   United States Steel Corporation   \n",
       "\n",
       "     asset_type      type  \n",
       "1034      Stock  Purchase  \n",
       "1035      Stock  Purchase  \n",
       "1036      Stock  Purchase  \n",
       "1039      Stock  Purchase  \n",
       "1040      Stock  Purchase  \n",
       "1043      Stock  Purchase  \n",
       "1056      Stock  Purchase  \n",
       "1059      Stock  Purchase  \n",
       "1069      Stock  Purchase  \n",
       "1082      Stock  Purchase  "
      ]
     },
     "execution_count": 525,
     "metadata": {},
     "output_type": "execute_result"
    }
   ],
   "source": [
    "\n",
    "def purchasesBySenator(senId):\n",
    "    isSenator = transactions['senatorId']==senId\n",
    "    isPurchase = transactions['type']=='Purchase'\n",
    "    isStock = transactions['asset_type']=='Stock'\n",
    "    rez = transactions[isSenator & isPurchase & isStock]\n",
    "\n",
    "    return rez.loc[:, :'type']\n",
    "\n",
    "\n",
    "tbPurchases = purchasesBySenator(100)\n",
    "tbPurchases.tail(10)\n"
   ]
  },
  {
   "cell_type": "code",
   "execution_count": 526,
   "metadata": {},
   "outputs": [
    {
     "data": {
      "application/vnd.plotly.v1+json": {
       "config": {
        "plotlyServerURL": "https://plot.ly"
       },
       "data": [
        {
         "hovertemplate": "variable=OXY_growth<br>date=%{x}<br>value=%{y}<extra></extra>",
         "legendgroup": "OXY_growth",
         "line": {
          "color": "#636efa",
          "dash": "solid"
         },
         "marker": {
          "symbol": "circle"
         },
         "mode": "lines",
         "name": "OXY_growth",
         "orientation": "v",
         "showlegend": true,
         "type": "scatter",
         "x": [
          "2021-06-25T00:00:00",
          "2021-07-02T00:00:00",
          "2021-07-09T00:00:00",
          "2021-07-16T00:00:00",
          "2021-07-23T00:00:00",
          "2021-07-30T00:00:00",
          "2021-08-06T00:00:00",
          "2021-08-13T00:00:00",
          "2021-08-20T00:00:00",
          "2021-08-27T00:00:00",
          "2021-09-03T00:00:00",
          "2021-09-10T00:00:00",
          "2021-09-17T00:00:00",
          "2021-09-24T00:00:00",
          "2021-10-01T00:00:00",
          "2021-10-08T00:00:00",
          "2021-10-15T00:00:00",
          "2021-10-22T00:00:00",
          "2021-10-29T00:00:00",
          "2021-11-05T00:00:00",
          "2021-11-12T00:00:00",
          "2021-11-19T00:00:00",
          "2021-11-26T00:00:00",
          "2021-12-03T00:00:00",
          "2021-12-10T00:00:00",
          "2021-12-17T00:00:00",
          "2021-12-23T00:00:00",
          "2021-12-31T00:00:00",
          "2022-01-07T00:00:00",
          "2022-01-14T00:00:00",
          "2022-01-21T00:00:00",
          "2022-01-28T00:00:00",
          "2022-02-04T00:00:00",
          "2022-02-11T00:00:00",
          "2022-02-18T00:00:00",
          "2022-02-25T00:00:00",
          "2022-03-04T00:00:00",
          "2022-03-11T00:00:00",
          "2022-03-18T00:00:00",
          "2022-03-25T00:00:00",
          "2022-04-01T00:00:00",
          "2022-04-08T00:00:00",
          "2022-04-14T00:00:00",
          "2022-04-22T00:00:00",
          "2022-04-29T00:00:00",
          "2022-05-06T00:00:00",
          "2022-05-13T00:00:00",
          "2022-05-20T00:00:00",
          "2022-05-27T00:00:00",
          "2022-06-03T00:00:00",
          "2022-06-10T00:00:00",
          "2022-06-17T00:00:00"
         ],
         "xaxis": "x",
         "y": [
          null,
          100,
          92.81788959634049,
          79.61952154293134,
          81.58403906781236,
          80.1106509241516,
          81.0008036100637,
          79.15899116028933,
          67.37281325338446,
          78.7599678555975,
          79.5580144649812,
          76.7033442541881,
          82.72176546949377,
          86.28361253631705,
          95.64906966681097,
          103.26420226247149,
          97.21518204858756,
          104.18526302775554,
          102.95697595351432,
          102.61945972677266,
          98.50466711998524,
          89.41583729987026,
          91.19676083328189,
          89.53854237497688,
          94.51350683068561,
          86.12783581628244,
          88.61593620572424,
          89.04586758978803,
          102.00809791679553,
          109.07306669963535,
          103.66693453668795,
          115.4005687086605,
          125.32175310626202,
          132.01798850219453,
          121.51295048525691,
          118.99425109723687,
          172.47110094578727,
          178.40236137726407,
          173.1380972986339,
          180.74210298572052,
          178.8947270816592,
          190.25468257402488,
          182.6815849663102,
          174.3079681028621,
          169.59757680657725,
          199.92149347839526,
          197.27390739939423,
          194.74933547629354,
          218.1464424800643,
          216.39179081411882,
          197.0195339061631,
          171.7558879891204
         ],
         "yaxis": "y"
        },
        {
         "hovertemplate": "variable=SPY_growth<br>date=%{x}<br>value=%{y}<extra></extra>",
         "legendgroup": "SPY_growth",
         "line": {
          "color": "#EF553B",
          "dash": "solid"
         },
         "marker": {
          "symbol": "circle"
         },
         "mode": "lines",
         "name": "SPY_growth",
         "orientation": "v",
         "showlegend": true,
         "type": "scatter",
         "x": [
          "2021-06-25T00:00:00",
          "2021-07-02T00:00:00",
          "2021-07-09T00:00:00",
          "2021-07-16T00:00:00",
          "2021-07-23T00:00:00",
          "2021-07-30T00:00:00",
          "2021-08-06T00:00:00",
          "2021-08-13T00:00:00",
          "2021-08-20T00:00:00",
          "2021-08-27T00:00:00",
          "2021-09-03T00:00:00",
          "2021-09-10T00:00:00",
          "2021-09-17T00:00:00",
          "2021-09-24T00:00:00",
          "2021-10-01T00:00:00",
          "2021-10-08T00:00:00",
          "2021-10-15T00:00:00",
          "2021-10-22T00:00:00",
          "2021-10-29T00:00:00",
          "2021-11-05T00:00:00",
          "2021-11-12T00:00:00",
          "2021-11-19T00:00:00",
          "2021-11-26T00:00:00",
          "2021-12-03T00:00:00",
          "2021-12-10T00:00:00",
          "2021-12-17T00:00:00",
          "2021-12-23T00:00:00",
          "2021-12-31T00:00:00",
          "2022-01-07T00:00:00",
          "2022-01-14T00:00:00",
          "2022-01-21T00:00:00",
          "2022-01-28T00:00:00",
          "2022-02-04T00:00:00",
          "2022-02-11T00:00:00",
          "2022-02-18T00:00:00",
          "2022-02-25T00:00:00",
          "2022-03-04T00:00:00",
          "2022-03-11T00:00:00",
          "2022-03-18T00:00:00",
          "2022-03-25T00:00:00",
          "2022-04-01T00:00:00",
          "2022-04-08T00:00:00",
          "2022-04-14T00:00:00",
          "2022-04-22T00:00:00",
          "2022-04-29T00:00:00",
          "2022-05-06T00:00:00",
          "2022-05-13T00:00:00",
          "2022-05-20T00:00:00",
          "2022-05-27T00:00:00",
          "2022-06-03T00:00:00",
          "2022-06-10T00:00:00",
          "2022-06-17T00:00:00"
         ],
         "xaxis": "x",
         "y": [
          null,
          100,
          100.41501424512798,
          99.45125789892523,
          101.43411678210626,
          101.10441128160598,
          102.02204971576666,
          102.81288737343698,
          102.22262975887425,
          103.811208672046,
          104.4637160752154,
          102.7022184735112,
          102.10000871168297,
          102.68059189663198,
          100.4438261993416,
          101.28118095668367,
          103.13395163583567,
          104.81096234979682,
          106.22887681046264,
          108.37542610344262,
          108.08397217051694,
          108.4586919466713,
          106.16411448795141,
          104.88035055248736,
          108.88662108570105,
          106.75012192833918,
          109.24088836624,
          110.25299337888603,
          108.19398358493495,
          107.87597193382213,
          101.6687921451145,
          102.59035201069628,
          104.15723390211302,
          102.24446767038084,
          100.79828133288274,
          101.61539492923688,
          100.32010151576232,
          97.51132342674865,
          103.50402205018533,
          105.40636244029494,
          105.45990054592421,
          104.21417684340729,
          101.93697578739165,
          99.20103769998411,
          95.93190234743452,
          95.7782385916284,
          93.53827939330047,
          90.72318474708756,
          96.69099284773168,
          95.5919588583139,
          90.76277476730287,
          85.55563043584941
         ],
         "yaxis": "y"
        }
       ],
       "layout": {
        "height": 500,
        "legend": {
         "title": {
          "text": "variable"
         },
         "tracegroupgap": 0
        },
        "template": {
         "data": {
          "bar": [
           {
            "error_x": {
             "color": "#2a3f5f"
            },
            "error_y": {
             "color": "#2a3f5f"
            },
            "marker": {
             "line": {
              "color": "#E5ECF6",
              "width": 0.5
             },
             "pattern": {
              "fillmode": "overlay",
              "size": 10,
              "solidity": 0.2
             }
            },
            "type": "bar"
           }
          ],
          "barpolar": [
           {
            "marker": {
             "line": {
              "color": "#E5ECF6",
              "width": 0.5
             },
             "pattern": {
              "fillmode": "overlay",
              "size": 10,
              "solidity": 0.2
             }
            },
            "type": "barpolar"
           }
          ],
          "carpet": [
           {
            "aaxis": {
             "endlinecolor": "#2a3f5f",
             "gridcolor": "white",
             "linecolor": "white",
             "minorgridcolor": "white",
             "startlinecolor": "#2a3f5f"
            },
            "baxis": {
             "endlinecolor": "#2a3f5f",
             "gridcolor": "white",
             "linecolor": "white",
             "minorgridcolor": "white",
             "startlinecolor": "#2a3f5f"
            },
            "type": "carpet"
           }
          ],
          "choropleth": [
           {
            "colorbar": {
             "outlinewidth": 0,
             "ticks": ""
            },
            "type": "choropleth"
           }
          ],
          "contour": [
           {
            "colorbar": {
             "outlinewidth": 0,
             "ticks": ""
            },
            "colorscale": [
             [
              0,
              "#0d0887"
             ],
             [
              0.1111111111111111,
              "#46039f"
             ],
             [
              0.2222222222222222,
              "#7201a8"
             ],
             [
              0.3333333333333333,
              "#9c179e"
             ],
             [
              0.4444444444444444,
              "#bd3786"
             ],
             [
              0.5555555555555556,
              "#d8576b"
             ],
             [
              0.6666666666666666,
              "#ed7953"
             ],
             [
              0.7777777777777778,
              "#fb9f3a"
             ],
             [
              0.8888888888888888,
              "#fdca26"
             ],
             [
              1,
              "#f0f921"
             ]
            ],
            "type": "contour"
           }
          ],
          "contourcarpet": [
           {
            "colorbar": {
             "outlinewidth": 0,
             "ticks": ""
            },
            "type": "contourcarpet"
           }
          ],
          "heatmap": [
           {
            "colorbar": {
             "outlinewidth": 0,
             "ticks": ""
            },
            "colorscale": [
             [
              0,
              "#0d0887"
             ],
             [
              0.1111111111111111,
              "#46039f"
             ],
             [
              0.2222222222222222,
              "#7201a8"
             ],
             [
              0.3333333333333333,
              "#9c179e"
             ],
             [
              0.4444444444444444,
              "#bd3786"
             ],
             [
              0.5555555555555556,
              "#d8576b"
             ],
             [
              0.6666666666666666,
              "#ed7953"
             ],
             [
              0.7777777777777778,
              "#fb9f3a"
             ],
             [
              0.8888888888888888,
              "#fdca26"
             ],
             [
              1,
              "#f0f921"
             ]
            ],
            "type": "heatmap"
           }
          ],
          "heatmapgl": [
           {
            "colorbar": {
             "outlinewidth": 0,
             "ticks": ""
            },
            "colorscale": [
             [
              0,
              "#0d0887"
             ],
             [
              0.1111111111111111,
              "#46039f"
             ],
             [
              0.2222222222222222,
              "#7201a8"
             ],
             [
              0.3333333333333333,
              "#9c179e"
             ],
             [
              0.4444444444444444,
              "#bd3786"
             ],
             [
              0.5555555555555556,
              "#d8576b"
             ],
             [
              0.6666666666666666,
              "#ed7953"
             ],
             [
              0.7777777777777778,
              "#fb9f3a"
             ],
             [
              0.8888888888888888,
              "#fdca26"
             ],
             [
              1,
              "#f0f921"
             ]
            ],
            "type": "heatmapgl"
           }
          ],
          "histogram": [
           {
            "marker": {
             "pattern": {
              "fillmode": "overlay",
              "size": 10,
              "solidity": 0.2
             }
            },
            "type": "histogram"
           }
          ],
          "histogram2d": [
           {
            "colorbar": {
             "outlinewidth": 0,
             "ticks": ""
            },
            "colorscale": [
             [
              0,
              "#0d0887"
             ],
             [
              0.1111111111111111,
              "#46039f"
             ],
             [
              0.2222222222222222,
              "#7201a8"
             ],
             [
              0.3333333333333333,
              "#9c179e"
             ],
             [
              0.4444444444444444,
              "#bd3786"
             ],
             [
              0.5555555555555556,
              "#d8576b"
             ],
             [
              0.6666666666666666,
              "#ed7953"
             ],
             [
              0.7777777777777778,
              "#fb9f3a"
             ],
             [
              0.8888888888888888,
              "#fdca26"
             ],
             [
              1,
              "#f0f921"
             ]
            ],
            "type": "histogram2d"
           }
          ],
          "histogram2dcontour": [
           {
            "colorbar": {
             "outlinewidth": 0,
             "ticks": ""
            },
            "colorscale": [
             [
              0,
              "#0d0887"
             ],
             [
              0.1111111111111111,
              "#46039f"
             ],
             [
              0.2222222222222222,
              "#7201a8"
             ],
             [
              0.3333333333333333,
              "#9c179e"
             ],
             [
              0.4444444444444444,
              "#bd3786"
             ],
             [
              0.5555555555555556,
              "#d8576b"
             ],
             [
              0.6666666666666666,
              "#ed7953"
             ],
             [
              0.7777777777777778,
              "#fb9f3a"
             ],
             [
              0.8888888888888888,
              "#fdca26"
             ],
             [
              1,
              "#f0f921"
             ]
            ],
            "type": "histogram2dcontour"
           }
          ],
          "mesh3d": [
           {
            "colorbar": {
             "outlinewidth": 0,
             "ticks": ""
            },
            "type": "mesh3d"
           }
          ],
          "parcoords": [
           {
            "line": {
             "colorbar": {
              "outlinewidth": 0,
              "ticks": ""
             }
            },
            "type": "parcoords"
           }
          ],
          "pie": [
           {
            "automargin": true,
            "type": "pie"
           }
          ],
          "scatter": [
           {
            "fillpattern": {
             "fillmode": "overlay",
             "size": 10,
             "solidity": 0.2
            },
            "type": "scatter"
           }
          ],
          "scatter3d": [
           {
            "line": {
             "colorbar": {
              "outlinewidth": 0,
              "ticks": ""
             }
            },
            "marker": {
             "colorbar": {
              "outlinewidth": 0,
              "ticks": ""
             }
            },
            "type": "scatter3d"
           }
          ],
          "scattercarpet": [
           {
            "marker": {
             "colorbar": {
              "outlinewidth": 0,
              "ticks": ""
             }
            },
            "type": "scattercarpet"
           }
          ],
          "scattergeo": [
           {
            "marker": {
             "colorbar": {
              "outlinewidth": 0,
              "ticks": ""
             }
            },
            "type": "scattergeo"
           }
          ],
          "scattergl": [
           {
            "marker": {
             "colorbar": {
              "outlinewidth": 0,
              "ticks": ""
             }
            },
            "type": "scattergl"
           }
          ],
          "scattermapbox": [
           {
            "marker": {
             "colorbar": {
              "outlinewidth": 0,
              "ticks": ""
             }
            },
            "type": "scattermapbox"
           }
          ],
          "scatterpolar": [
           {
            "marker": {
             "colorbar": {
              "outlinewidth": 0,
              "ticks": ""
             }
            },
            "type": "scatterpolar"
           }
          ],
          "scatterpolargl": [
           {
            "marker": {
             "colorbar": {
              "outlinewidth": 0,
              "ticks": ""
             }
            },
            "type": "scatterpolargl"
           }
          ],
          "scatterternary": [
           {
            "marker": {
             "colorbar": {
              "outlinewidth": 0,
              "ticks": ""
             }
            },
            "type": "scatterternary"
           }
          ],
          "surface": [
           {
            "colorbar": {
             "outlinewidth": 0,
             "ticks": ""
            },
            "colorscale": [
             [
              0,
              "#0d0887"
             ],
             [
              0.1111111111111111,
              "#46039f"
             ],
             [
              0.2222222222222222,
              "#7201a8"
             ],
             [
              0.3333333333333333,
              "#9c179e"
             ],
             [
              0.4444444444444444,
              "#bd3786"
             ],
             [
              0.5555555555555556,
              "#d8576b"
             ],
             [
              0.6666666666666666,
              "#ed7953"
             ],
             [
              0.7777777777777778,
              "#fb9f3a"
             ],
             [
              0.8888888888888888,
              "#fdca26"
             ],
             [
              1,
              "#f0f921"
             ]
            ],
            "type": "surface"
           }
          ],
          "table": [
           {
            "cells": {
             "fill": {
              "color": "#EBF0F8"
             },
             "line": {
              "color": "white"
             }
            },
            "header": {
             "fill": {
              "color": "#C8D4E3"
             },
             "line": {
              "color": "white"
             }
            },
            "type": "table"
           }
          ]
         },
         "layout": {
          "annotationdefaults": {
           "arrowcolor": "#2a3f5f",
           "arrowhead": 0,
           "arrowwidth": 1
          },
          "autotypenumbers": "strict",
          "coloraxis": {
           "colorbar": {
            "outlinewidth": 0,
            "ticks": ""
           }
          },
          "colorscale": {
           "diverging": [
            [
             0,
             "#8e0152"
            ],
            [
             0.1,
             "#c51b7d"
            ],
            [
             0.2,
             "#de77ae"
            ],
            [
             0.3,
             "#f1b6da"
            ],
            [
             0.4,
             "#fde0ef"
            ],
            [
             0.5,
             "#f7f7f7"
            ],
            [
             0.6,
             "#e6f5d0"
            ],
            [
             0.7,
             "#b8e186"
            ],
            [
             0.8,
             "#7fbc41"
            ],
            [
             0.9,
             "#4d9221"
            ],
            [
             1,
             "#276419"
            ]
           ],
           "sequential": [
            [
             0,
             "#0d0887"
            ],
            [
             0.1111111111111111,
             "#46039f"
            ],
            [
             0.2222222222222222,
             "#7201a8"
            ],
            [
             0.3333333333333333,
             "#9c179e"
            ],
            [
             0.4444444444444444,
             "#bd3786"
            ],
            [
             0.5555555555555556,
             "#d8576b"
            ],
            [
             0.6666666666666666,
             "#ed7953"
            ],
            [
             0.7777777777777778,
             "#fb9f3a"
            ],
            [
             0.8888888888888888,
             "#fdca26"
            ],
            [
             1,
             "#f0f921"
            ]
           ],
           "sequentialminus": [
            [
             0,
             "#0d0887"
            ],
            [
             0.1111111111111111,
             "#46039f"
            ],
            [
             0.2222222222222222,
             "#7201a8"
            ],
            [
             0.3333333333333333,
             "#9c179e"
            ],
            [
             0.4444444444444444,
             "#bd3786"
            ],
            [
             0.5555555555555556,
             "#d8576b"
            ],
            [
             0.6666666666666666,
             "#ed7953"
            ],
            [
             0.7777777777777778,
             "#fb9f3a"
            ],
            [
             0.8888888888888888,
             "#fdca26"
            ],
            [
             1,
             "#f0f921"
            ]
           ]
          },
          "colorway": [
           "#636efa",
           "#EF553B",
           "#00cc96",
           "#ab63fa",
           "#FFA15A",
           "#19d3f3",
           "#FF6692",
           "#B6E880",
           "#FF97FF",
           "#FECB52"
          ],
          "font": {
           "color": "#2a3f5f"
          },
          "geo": {
           "bgcolor": "white",
           "lakecolor": "white",
           "landcolor": "#E5ECF6",
           "showlakes": true,
           "showland": true,
           "subunitcolor": "white"
          },
          "hoverlabel": {
           "align": "left"
          },
          "hovermode": "closest",
          "mapbox": {
           "style": "light"
          },
          "paper_bgcolor": "white",
          "plot_bgcolor": "#E5ECF6",
          "polar": {
           "angularaxis": {
            "gridcolor": "white",
            "linecolor": "white",
            "ticks": ""
           },
           "bgcolor": "#E5ECF6",
           "radialaxis": {
            "gridcolor": "white",
            "linecolor": "white",
            "ticks": ""
           }
          },
          "scene": {
           "xaxis": {
            "backgroundcolor": "#E5ECF6",
            "gridcolor": "white",
            "gridwidth": 2,
            "linecolor": "white",
            "showbackground": true,
            "ticks": "",
            "zerolinecolor": "white"
           },
           "yaxis": {
            "backgroundcolor": "#E5ECF6",
            "gridcolor": "white",
            "gridwidth": 2,
            "linecolor": "white",
            "showbackground": true,
            "ticks": "",
            "zerolinecolor": "white"
           },
           "zaxis": {
            "backgroundcolor": "#E5ECF6",
            "gridcolor": "white",
            "gridwidth": 2,
            "linecolor": "white",
            "showbackground": true,
            "ticks": "",
            "zerolinecolor": "white"
           }
          },
          "shapedefaults": {
           "line": {
            "color": "#2a3f5f"
           }
          },
          "ternary": {
           "aaxis": {
            "gridcolor": "white",
            "linecolor": "white",
            "ticks": ""
           },
           "baxis": {
            "gridcolor": "white",
            "linecolor": "white",
            "ticks": ""
           },
           "bgcolor": "#E5ECF6",
           "caxis": {
            "gridcolor": "white",
            "linecolor": "white",
            "ticks": ""
           }
          },
          "title": {
           "x": 0.05
          },
          "xaxis": {
           "automargin": true,
           "gridcolor": "white",
           "linecolor": "white",
           "ticks": "",
           "title": {
            "standoff": 15
           },
           "zerolinecolor": "white",
           "zerolinewidth": 2
          },
          "yaxis": {
           "automargin": true,
           "gridcolor": "white",
           "linecolor": "white",
           "ticks": "",
           "title": {
            "standoff": 15
           },
           "zerolinecolor": "white",
           "zerolinewidth": 2
          }
         }
        },
        "title": {
         "text": "Growth in OXY v SPY"
        },
        "width": 800,
        "xaxis": {
         "anchor": "y",
         "domain": [
          0,
          1
         ],
         "title": {
          "text": "date"
         }
        },
        "yaxis": {
         "anchor": "x",
         "domain": [
          0,
          1
         ],
         "title": {
          "text": "value"
         }
        }
       }
      }
     },
     "metadata": {},
     "output_type": "display_data"
    }
   ],
   "source": [
    "graphAlpha(\"OXY\", '2021-06-25')"
   ]
  },
  {
   "cell_type": "code",
   "execution_count": 527,
   "metadata": {},
   "outputs": [
    {
     "data": {
      "application/vnd.plotly.v1+json": {
       "config": {
        "plotlyServerURL": "https://plot.ly"
       },
       "data": [
        {
         "hovertemplate": "variable=AA_growth<br>date=%{x}<br>value=%{y}<extra></extra>",
         "legendgroup": "AA_growth",
         "line": {
          "color": "#636efa",
          "dash": "solid"
         },
         "marker": {
          "symbol": "circle"
         },
         "mode": "lines",
         "name": "AA_growth",
         "orientation": "v",
         "showlegend": true,
         "type": "scatter",
         "x": [
          "2021-03-19T00:00:00",
          "2021-03-26T00:00:00",
          "2021-04-01T00:00:00",
          "2021-04-09T00:00:00",
          "2021-04-16T00:00:00",
          "2021-04-23T00:00:00",
          "2021-04-30T00:00:00",
          "2021-05-07T00:00:00",
          "2021-05-14T00:00:00",
          "2021-05-21T00:00:00",
          "2021-05-28T00:00:00",
          "2021-06-04T00:00:00",
          "2021-06-11T00:00:00",
          "2021-06-18T00:00:00",
          "2021-06-25T00:00:00",
          "2021-07-02T00:00:00",
          "2021-07-09T00:00:00",
          "2021-07-16T00:00:00",
          "2021-07-23T00:00:00",
          "2021-07-30T00:00:00",
          "2021-08-06T00:00:00",
          "2021-08-13T00:00:00",
          "2021-08-20T00:00:00",
          "2021-08-27T00:00:00",
          "2021-09-03T00:00:00",
          "2021-09-10T00:00:00",
          "2021-09-17T00:00:00",
          "2021-09-24T00:00:00",
          "2021-10-01T00:00:00",
          "2021-10-08T00:00:00",
          "2021-10-15T00:00:00",
          "2021-10-22T00:00:00",
          "2021-10-29T00:00:00",
          "2021-11-05T00:00:00",
          "2021-11-12T00:00:00",
          "2021-11-19T00:00:00",
          "2021-11-26T00:00:00",
          "2021-12-03T00:00:00",
          "2021-12-10T00:00:00",
          "2021-12-17T00:00:00",
          "2021-12-23T00:00:00",
          "2021-12-31T00:00:00",
          "2022-01-07T00:00:00",
          "2022-01-14T00:00:00",
          "2022-01-21T00:00:00",
          "2022-01-28T00:00:00",
          "2022-02-04T00:00:00",
          "2022-02-11T00:00:00",
          "2022-02-18T00:00:00",
          "2022-02-25T00:00:00",
          "2022-03-04T00:00:00",
          "2022-03-11T00:00:00"
         ],
         "xaxis": "x",
         "y": [
          null,
          100,
          98.322301653058,
          95.66823030082759,
          108.69433980860624,
          105.88780642558159,
          111.77561285116317,
          125.68661814575371,
          121.1106011932079,
          110.25037653501545,
          121.01912397473136,
          118.48702224713632,
          114.03297491922594,
          97.86460755657266,
          109.21301871740933,
          115.6804888641117,
          114.21592935617903,
          100.51867890880308,
          113.05690991804012,
          122.4833754785614,
          124.19156623166222,
          138.04158671393506,
          115.03984033067323,
          134.62489720363078,
          144.0208703579932,
          151.00671140939602,
          148.9627961844452,
          147.92574637094168,
          151.83062238389016,
          140.42122641073578,
          170.83601553572694,
          150.2440932513221,
          140.47882317792474,
          146.31796495529323,
          158.7302222865609,
          145.52331437054744,
          146.59332062303073,
          134.73115861903284,
          149.19195123679052,
          164.26382399413566,
          181.47601726055,
          182.1486982206604,
          190.67825583436783,
          187.68199192413255,
          171.84565298409788,
          175.48379744418207,
          196.3341351706806,
          224.76599388303867,
          239.0737084617969,
          238.00370220931364,
          277.1667318608686,
          241.9249024397007
         ],
         "yaxis": "y"
        },
        {
         "hovertemplate": "variable=SPY_growth<br>date=%{x}<br>value=%{y}<extra></extra>",
         "legendgroup": "SPY_growth",
         "line": {
          "color": "#EF553B",
          "dash": "solid"
         },
         "marker": {
          "symbol": "circle"
         },
         "mode": "lines",
         "name": "SPY_growth",
         "orientation": "v",
         "showlegend": true,
         "type": "scatter",
         "x": [
          "2021-03-19T00:00:00",
          "2021-03-26T00:00:00",
          "2021-04-01T00:00:00",
          "2021-04-09T00:00:00",
          "2021-04-16T00:00:00",
          "2021-04-23T00:00:00",
          "2021-04-30T00:00:00",
          "2021-05-07T00:00:00",
          "2021-05-14T00:00:00",
          "2021-05-21T00:00:00",
          "2021-05-28T00:00:00",
          "2021-06-04T00:00:00",
          "2021-06-11T00:00:00",
          "2021-06-18T00:00:00",
          "2021-06-25T00:00:00",
          "2021-07-02T00:00:00",
          "2021-07-09T00:00:00",
          "2021-07-16T00:00:00",
          "2021-07-23T00:00:00",
          "2021-07-30T00:00:00",
          "2021-08-06T00:00:00",
          "2021-08-13T00:00:00",
          "2021-08-20T00:00:00",
          "2021-08-27T00:00:00",
          "2021-09-03T00:00:00",
          "2021-09-10T00:00:00",
          "2021-09-17T00:00:00",
          "2021-09-24T00:00:00",
          "2021-10-01T00:00:00",
          "2021-10-08T00:00:00",
          "2021-10-15T00:00:00",
          "2021-10-22T00:00:00",
          "2021-10-29T00:00:00",
          "2021-11-05T00:00:00",
          "2021-11-12T00:00:00",
          "2021-11-19T00:00:00",
          "2021-11-26T00:00:00",
          "2021-12-03T00:00:00",
          "2021-12-10T00:00:00",
          "2021-12-17T00:00:00",
          "2021-12-23T00:00:00",
          "2021-12-31T00:00:00",
          "2022-01-07T00:00:00",
          "2022-01-14T00:00:00",
          "2022-01-21T00:00:00",
          "2022-01-28T00:00:00",
          "2022-02-04T00:00:00",
          "2022-02-11T00:00:00",
          "2022-02-18T00:00:00",
          "2022-02-25T00:00:00",
          "2022-03-04T00:00:00",
          "2022-03-11T00:00:00"
         ],
         "xaxis": "x",
         "y": [
          null,
          100,
          101.1692455216898,
          103.91687314882147,
          105.37399806050422,
          105.24267695834625,
          105.38411357868969,
          106.60135620197386,
          105.2022923002843,
          104.78812376233279,
          106.07607179334201,
          106.72256178594634,
          107.15440667582911,
          105.1305288919327,
          108.09249196306594,
          109.8939831762417,
          110.35005886096165,
          109.29094862400565,
          111.46999123149722,
          111.10766472424629,
          112.11609415070156,
          112.98517715317317,
          112.33651954952911,
          114.08227219311141,
          114.79933856897412,
          112.86355869090741,
          112.20176639655823,
          112.83979238415019,
          110.38172146507794,
          111.3019239612369,
          113.33800745967854,
          115.18094133154278,
          116.73914401040037,
          119.09807252929753,
          118.77778219328168,
          119.1895766810468,
          116.66797411459534,
          115.25719479133382,
          119.65984505709841,
          117.3119610325466,
          120.04916348277281,
          121.16140599509593,
          118.89867811853416,
          118.54920244816174,
          111.72788533544029,
          112.74062417908173,
          114.46253310122682,
          112.36051810032625,
          110.77124632989897,
          111.66920500800718,
          110.24575548212047,
          107.15907736152182
         ],
         "yaxis": "y"
        }
       ],
       "layout": {
        "height": 500,
        "legend": {
         "title": {
          "text": "variable"
         },
         "tracegroupgap": 0
        },
        "template": {
         "data": {
          "bar": [
           {
            "error_x": {
             "color": "#2a3f5f"
            },
            "error_y": {
             "color": "#2a3f5f"
            },
            "marker": {
             "line": {
              "color": "#E5ECF6",
              "width": 0.5
             },
             "pattern": {
              "fillmode": "overlay",
              "size": 10,
              "solidity": 0.2
             }
            },
            "type": "bar"
           }
          ],
          "barpolar": [
           {
            "marker": {
             "line": {
              "color": "#E5ECF6",
              "width": 0.5
             },
             "pattern": {
              "fillmode": "overlay",
              "size": 10,
              "solidity": 0.2
             }
            },
            "type": "barpolar"
           }
          ],
          "carpet": [
           {
            "aaxis": {
             "endlinecolor": "#2a3f5f",
             "gridcolor": "white",
             "linecolor": "white",
             "minorgridcolor": "white",
             "startlinecolor": "#2a3f5f"
            },
            "baxis": {
             "endlinecolor": "#2a3f5f",
             "gridcolor": "white",
             "linecolor": "white",
             "minorgridcolor": "white",
             "startlinecolor": "#2a3f5f"
            },
            "type": "carpet"
           }
          ],
          "choropleth": [
           {
            "colorbar": {
             "outlinewidth": 0,
             "ticks": ""
            },
            "type": "choropleth"
           }
          ],
          "contour": [
           {
            "colorbar": {
             "outlinewidth": 0,
             "ticks": ""
            },
            "colorscale": [
             [
              0,
              "#0d0887"
             ],
             [
              0.1111111111111111,
              "#46039f"
             ],
             [
              0.2222222222222222,
              "#7201a8"
             ],
             [
              0.3333333333333333,
              "#9c179e"
             ],
             [
              0.4444444444444444,
              "#bd3786"
             ],
             [
              0.5555555555555556,
              "#d8576b"
             ],
             [
              0.6666666666666666,
              "#ed7953"
             ],
             [
              0.7777777777777778,
              "#fb9f3a"
             ],
             [
              0.8888888888888888,
              "#fdca26"
             ],
             [
              1,
              "#f0f921"
             ]
            ],
            "type": "contour"
           }
          ],
          "contourcarpet": [
           {
            "colorbar": {
             "outlinewidth": 0,
             "ticks": ""
            },
            "type": "contourcarpet"
           }
          ],
          "heatmap": [
           {
            "colorbar": {
             "outlinewidth": 0,
             "ticks": ""
            },
            "colorscale": [
             [
              0,
              "#0d0887"
             ],
             [
              0.1111111111111111,
              "#46039f"
             ],
             [
              0.2222222222222222,
              "#7201a8"
             ],
             [
              0.3333333333333333,
              "#9c179e"
             ],
             [
              0.4444444444444444,
              "#bd3786"
             ],
             [
              0.5555555555555556,
              "#d8576b"
             ],
             [
              0.6666666666666666,
              "#ed7953"
             ],
             [
              0.7777777777777778,
              "#fb9f3a"
             ],
             [
              0.8888888888888888,
              "#fdca26"
             ],
             [
              1,
              "#f0f921"
             ]
            ],
            "type": "heatmap"
           }
          ],
          "heatmapgl": [
           {
            "colorbar": {
             "outlinewidth": 0,
             "ticks": ""
            },
            "colorscale": [
             [
              0,
              "#0d0887"
             ],
             [
              0.1111111111111111,
              "#46039f"
             ],
             [
              0.2222222222222222,
              "#7201a8"
             ],
             [
              0.3333333333333333,
              "#9c179e"
             ],
             [
              0.4444444444444444,
              "#bd3786"
             ],
             [
              0.5555555555555556,
              "#d8576b"
             ],
             [
              0.6666666666666666,
              "#ed7953"
             ],
             [
              0.7777777777777778,
              "#fb9f3a"
             ],
             [
              0.8888888888888888,
              "#fdca26"
             ],
             [
              1,
              "#f0f921"
             ]
            ],
            "type": "heatmapgl"
           }
          ],
          "histogram": [
           {
            "marker": {
             "pattern": {
              "fillmode": "overlay",
              "size": 10,
              "solidity": 0.2
             }
            },
            "type": "histogram"
           }
          ],
          "histogram2d": [
           {
            "colorbar": {
             "outlinewidth": 0,
             "ticks": ""
            },
            "colorscale": [
             [
              0,
              "#0d0887"
             ],
             [
              0.1111111111111111,
              "#46039f"
             ],
             [
              0.2222222222222222,
              "#7201a8"
             ],
             [
              0.3333333333333333,
              "#9c179e"
             ],
             [
              0.4444444444444444,
              "#bd3786"
             ],
             [
              0.5555555555555556,
              "#d8576b"
             ],
             [
              0.6666666666666666,
              "#ed7953"
             ],
             [
              0.7777777777777778,
              "#fb9f3a"
             ],
             [
              0.8888888888888888,
              "#fdca26"
             ],
             [
              1,
              "#f0f921"
             ]
            ],
            "type": "histogram2d"
           }
          ],
          "histogram2dcontour": [
           {
            "colorbar": {
             "outlinewidth": 0,
             "ticks": ""
            },
            "colorscale": [
             [
              0,
              "#0d0887"
             ],
             [
              0.1111111111111111,
              "#46039f"
             ],
             [
              0.2222222222222222,
              "#7201a8"
             ],
             [
              0.3333333333333333,
              "#9c179e"
             ],
             [
              0.4444444444444444,
              "#bd3786"
             ],
             [
              0.5555555555555556,
              "#d8576b"
             ],
             [
              0.6666666666666666,
              "#ed7953"
             ],
             [
              0.7777777777777778,
              "#fb9f3a"
             ],
             [
              0.8888888888888888,
              "#fdca26"
             ],
             [
              1,
              "#f0f921"
             ]
            ],
            "type": "histogram2dcontour"
           }
          ],
          "mesh3d": [
           {
            "colorbar": {
             "outlinewidth": 0,
             "ticks": ""
            },
            "type": "mesh3d"
           }
          ],
          "parcoords": [
           {
            "line": {
             "colorbar": {
              "outlinewidth": 0,
              "ticks": ""
             }
            },
            "type": "parcoords"
           }
          ],
          "pie": [
           {
            "automargin": true,
            "type": "pie"
           }
          ],
          "scatter": [
           {
            "fillpattern": {
             "fillmode": "overlay",
             "size": 10,
             "solidity": 0.2
            },
            "type": "scatter"
           }
          ],
          "scatter3d": [
           {
            "line": {
             "colorbar": {
              "outlinewidth": 0,
              "ticks": ""
             }
            },
            "marker": {
             "colorbar": {
              "outlinewidth": 0,
              "ticks": ""
             }
            },
            "type": "scatter3d"
           }
          ],
          "scattercarpet": [
           {
            "marker": {
             "colorbar": {
              "outlinewidth": 0,
              "ticks": ""
             }
            },
            "type": "scattercarpet"
           }
          ],
          "scattergeo": [
           {
            "marker": {
             "colorbar": {
              "outlinewidth": 0,
              "ticks": ""
             }
            },
            "type": "scattergeo"
           }
          ],
          "scattergl": [
           {
            "marker": {
             "colorbar": {
              "outlinewidth": 0,
              "ticks": ""
             }
            },
            "type": "scattergl"
           }
          ],
          "scattermapbox": [
           {
            "marker": {
             "colorbar": {
              "outlinewidth": 0,
              "ticks": ""
             }
            },
            "type": "scattermapbox"
           }
          ],
          "scatterpolar": [
           {
            "marker": {
             "colorbar": {
              "outlinewidth": 0,
              "ticks": ""
             }
            },
            "type": "scatterpolar"
           }
          ],
          "scatterpolargl": [
           {
            "marker": {
             "colorbar": {
              "outlinewidth": 0,
              "ticks": ""
             }
            },
            "type": "scatterpolargl"
           }
          ],
          "scatterternary": [
           {
            "marker": {
             "colorbar": {
              "outlinewidth": 0,
              "ticks": ""
             }
            },
            "type": "scatterternary"
           }
          ],
          "surface": [
           {
            "colorbar": {
             "outlinewidth": 0,
             "ticks": ""
            },
            "colorscale": [
             [
              0,
              "#0d0887"
             ],
             [
              0.1111111111111111,
              "#46039f"
             ],
             [
              0.2222222222222222,
              "#7201a8"
             ],
             [
              0.3333333333333333,
              "#9c179e"
             ],
             [
              0.4444444444444444,
              "#bd3786"
             ],
             [
              0.5555555555555556,
              "#d8576b"
             ],
             [
              0.6666666666666666,
              "#ed7953"
             ],
             [
              0.7777777777777778,
              "#fb9f3a"
             ],
             [
              0.8888888888888888,
              "#fdca26"
             ],
             [
              1,
              "#f0f921"
             ]
            ],
            "type": "surface"
           }
          ],
          "table": [
           {
            "cells": {
             "fill": {
              "color": "#EBF0F8"
             },
             "line": {
              "color": "white"
             }
            },
            "header": {
             "fill": {
              "color": "#C8D4E3"
             },
             "line": {
              "color": "white"
             }
            },
            "type": "table"
           }
          ]
         },
         "layout": {
          "annotationdefaults": {
           "arrowcolor": "#2a3f5f",
           "arrowhead": 0,
           "arrowwidth": 1
          },
          "autotypenumbers": "strict",
          "coloraxis": {
           "colorbar": {
            "outlinewidth": 0,
            "ticks": ""
           }
          },
          "colorscale": {
           "diverging": [
            [
             0,
             "#8e0152"
            ],
            [
             0.1,
             "#c51b7d"
            ],
            [
             0.2,
             "#de77ae"
            ],
            [
             0.3,
             "#f1b6da"
            ],
            [
             0.4,
             "#fde0ef"
            ],
            [
             0.5,
             "#f7f7f7"
            ],
            [
             0.6,
             "#e6f5d0"
            ],
            [
             0.7,
             "#b8e186"
            ],
            [
             0.8,
             "#7fbc41"
            ],
            [
             0.9,
             "#4d9221"
            ],
            [
             1,
             "#276419"
            ]
           ],
           "sequential": [
            [
             0,
             "#0d0887"
            ],
            [
             0.1111111111111111,
             "#46039f"
            ],
            [
             0.2222222222222222,
             "#7201a8"
            ],
            [
             0.3333333333333333,
             "#9c179e"
            ],
            [
             0.4444444444444444,
             "#bd3786"
            ],
            [
             0.5555555555555556,
             "#d8576b"
            ],
            [
             0.6666666666666666,
             "#ed7953"
            ],
            [
             0.7777777777777778,
             "#fb9f3a"
            ],
            [
             0.8888888888888888,
             "#fdca26"
            ],
            [
             1,
             "#f0f921"
            ]
           ],
           "sequentialminus": [
            [
             0,
             "#0d0887"
            ],
            [
             0.1111111111111111,
             "#46039f"
            ],
            [
             0.2222222222222222,
             "#7201a8"
            ],
            [
             0.3333333333333333,
             "#9c179e"
            ],
            [
             0.4444444444444444,
             "#bd3786"
            ],
            [
             0.5555555555555556,
             "#d8576b"
            ],
            [
             0.6666666666666666,
             "#ed7953"
            ],
            [
             0.7777777777777778,
             "#fb9f3a"
            ],
            [
             0.8888888888888888,
             "#fdca26"
            ],
            [
             1,
             "#f0f921"
            ]
           ]
          },
          "colorway": [
           "#636efa",
           "#EF553B",
           "#00cc96",
           "#ab63fa",
           "#FFA15A",
           "#19d3f3",
           "#FF6692",
           "#B6E880",
           "#FF97FF",
           "#FECB52"
          ],
          "font": {
           "color": "#2a3f5f"
          },
          "geo": {
           "bgcolor": "white",
           "lakecolor": "white",
           "landcolor": "#E5ECF6",
           "showlakes": true,
           "showland": true,
           "subunitcolor": "white"
          },
          "hoverlabel": {
           "align": "left"
          },
          "hovermode": "closest",
          "mapbox": {
           "style": "light"
          },
          "paper_bgcolor": "white",
          "plot_bgcolor": "#E5ECF6",
          "polar": {
           "angularaxis": {
            "gridcolor": "white",
            "linecolor": "white",
            "ticks": ""
           },
           "bgcolor": "#E5ECF6",
           "radialaxis": {
            "gridcolor": "white",
            "linecolor": "white",
            "ticks": ""
           }
          },
          "scene": {
           "xaxis": {
            "backgroundcolor": "#E5ECF6",
            "gridcolor": "white",
            "gridwidth": 2,
            "linecolor": "white",
            "showbackground": true,
            "ticks": "",
            "zerolinecolor": "white"
           },
           "yaxis": {
            "backgroundcolor": "#E5ECF6",
            "gridcolor": "white",
            "gridwidth": 2,
            "linecolor": "white",
            "showbackground": true,
            "ticks": "",
            "zerolinecolor": "white"
           },
           "zaxis": {
            "backgroundcolor": "#E5ECF6",
            "gridcolor": "white",
            "gridwidth": 2,
            "linecolor": "white",
            "showbackground": true,
            "ticks": "",
            "zerolinecolor": "white"
           }
          },
          "shapedefaults": {
           "line": {
            "color": "#2a3f5f"
           }
          },
          "ternary": {
           "aaxis": {
            "gridcolor": "white",
            "linecolor": "white",
            "ticks": ""
           },
           "baxis": {
            "gridcolor": "white",
            "linecolor": "white",
            "ticks": ""
           },
           "bgcolor": "#E5ECF6",
           "caxis": {
            "gridcolor": "white",
            "linecolor": "white",
            "ticks": ""
           }
          },
          "title": {
           "x": 0.05
          },
          "xaxis": {
           "automargin": true,
           "gridcolor": "white",
           "linecolor": "white",
           "ticks": "",
           "title": {
            "standoff": 15
           },
           "zerolinecolor": "white",
           "zerolinewidth": 2
          },
          "yaxis": {
           "automargin": true,
           "gridcolor": "white",
           "linecolor": "white",
           "ticks": "",
           "title": {
            "standoff": 15
           },
           "zerolinecolor": "white",
           "zerolinewidth": 2
          }
         }
        },
        "title": {
         "text": "Growth in AA v SPY"
        },
        "width": 800,
        "xaxis": {
         "anchor": "y",
         "domain": [
          0,
          1
         ],
         "title": {
          "text": "date"
         }
        },
        "yaxis": {
         "anchor": "x",
         "domain": [
          0,
          1
         ],
         "title": {
          "text": "value"
         }
        }
       }
      }
     },
     "metadata": {},
     "output_type": "display_data"
    }
   ],
   "source": [
    "alDate = reformatDate(\"03/16/2021\")\n",
    "graphAlpha('AA', alDate)\n"
   ]
  },
  {
   "cell_type": "markdown",
   "metadata": {},
   "source": [
    "Alright so Tommy Tuberville had a great year in 2021, but the S&P was pretty lousy that year. Let's try a different Senator and another time period"
   ]
  },
  {
   "cell_type": "code",
   "execution_count": 528,
   "metadata": {},
   "outputs": [
    {
     "name": "stdout",
     "output_type": "stream",
     "text": [
      "    row              senator  senatorId       party\n",
      "34   35  David A Perdue , Jr        136  Republican\n"
     ]
    },
    {
     "data": {
      "text/html": [
       "<div>\n",
       "<style scoped>\n",
       "    .dataframe tbody tr th:only-of-type {\n",
       "        vertical-align: middle;\n",
       "    }\n",
       "\n",
       "    .dataframe tbody tr th {\n",
       "        vertical-align: top;\n",
       "    }\n",
       "\n",
       "    .dataframe thead th {\n",
       "        text-align: right;\n",
       "    }\n",
       "</style>\n",
       "<table border=\"1\" class=\"dataframe\">\n",
       "  <thead>\n",
       "    <tr style=\"text-align: right;\">\n",
       "      <th></th>\n",
       "      <th>transaction_date</th>\n",
       "      <th>owner</th>\n",
       "      <th>ticker</th>\n",
       "      <th>asset_description</th>\n",
       "      <th>asset_type</th>\n",
       "      <th>type</th>\n",
       "    </tr>\n",
       "  </thead>\n",
       "  <tbody>\n",
       "    <tr>\n",
       "      <th>8382</th>\n",
       "      <td>2015-04-17</td>\n",
       "      <td>Joint</td>\n",
       "      <td>KN</td>\n",
       "      <td>Knowles Corporation (NYSE)</td>\n",
       "      <td>Stock</td>\n",
       "      <td>Purchase</td>\n",
       "    </tr>\n",
       "    <tr>\n",
       "      <th>8383</th>\n",
       "      <td>2015-04-23</td>\n",
       "      <td>Joint</td>\n",
       "      <td>KN</td>\n",
       "      <td>Knowles Corporation (NYSE)</td>\n",
       "      <td>Stock</td>\n",
       "      <td>Purchase</td>\n",
       "    </tr>\n",
       "    <tr>\n",
       "      <th>8384</th>\n",
       "      <td>2015-04-24</td>\n",
       "      <td>Joint</td>\n",
       "      <td>KN</td>\n",
       "      <td>Knowles Corporation (NYSE)</td>\n",
       "      <td>Stock</td>\n",
       "      <td>Purchase</td>\n",
       "    </tr>\n",
       "    <tr>\n",
       "      <th>8385</th>\n",
       "      <td>2015-04-24</td>\n",
       "      <td>Joint</td>\n",
       "      <td>KN</td>\n",
       "      <td>Knowles Corporation (NYSE)</td>\n",
       "      <td>Stock</td>\n",
       "      <td>Purchase</td>\n",
       "    </tr>\n",
       "    <tr>\n",
       "      <th>8387</th>\n",
       "      <td>2015-04-15</td>\n",
       "      <td>Joint</td>\n",
       "      <td>MOS</td>\n",
       "      <td>The Mosaic Company (NYSE)</td>\n",
       "      <td>Stock</td>\n",
       "      <td>Purchase</td>\n",
       "    </tr>\n",
       "    <tr>\n",
       "      <th>8393</th>\n",
       "      <td>2015-05-12</td>\n",
       "      <td>Joint</td>\n",
       "      <td>DISCA</td>\n",
       "      <td>Discovery Communications, Inc. (NASDAQ)</td>\n",
       "      <td>Stock</td>\n",
       "      <td>Purchase</td>\n",
       "    </tr>\n",
       "    <tr>\n",
       "      <th>8394</th>\n",
       "      <td>2015-05-13</td>\n",
       "      <td>Joint</td>\n",
       "      <td>DISCA</td>\n",
       "      <td>Discovery Communications, Inc. (NASDAQ)</td>\n",
       "      <td>Stock</td>\n",
       "      <td>Purchase</td>\n",
       "    </tr>\n",
       "    <tr>\n",
       "      <th>8395</th>\n",
       "      <td>2015-05-14</td>\n",
       "      <td>Joint</td>\n",
       "      <td>DISCA</td>\n",
       "      <td>Discovery Communications, Inc. (NASDAQ)</td>\n",
       "      <td>Stock</td>\n",
       "      <td>Purchase</td>\n",
       "    </tr>\n",
       "    <tr>\n",
       "      <th>8397</th>\n",
       "      <td>2015-05-15</td>\n",
       "      <td>Joint</td>\n",
       "      <td>AXLL</td>\n",
       "      <td>Axiall Corporation (NYSE)</td>\n",
       "      <td>Stock</td>\n",
       "      <td>Purchase</td>\n",
       "    </tr>\n",
       "    <tr>\n",
       "      <th>8398</th>\n",
       "      <td>2015-05-29</td>\n",
       "      <td>Joint</td>\n",
       "      <td>DISCA</td>\n",
       "      <td>Discovery Communications, Inc. (NASDAQ)</td>\n",
       "      <td>Stock</td>\n",
       "      <td>Purchase</td>\n",
       "    </tr>\n",
       "  </tbody>\n",
       "</table>\n",
       "</div>"
      ],
      "text/plain": [
       "     transaction_date  owner ticker                        asset_description  \\\n",
       "8382       2015-04-17  Joint     KN               Knowles Corporation (NYSE)   \n",
       "8383       2015-04-23  Joint     KN               Knowles Corporation (NYSE)   \n",
       "8384       2015-04-24  Joint     KN               Knowles Corporation (NYSE)   \n",
       "8385       2015-04-24  Joint     KN               Knowles Corporation (NYSE)   \n",
       "8387       2015-04-15  Joint    MOS                The Mosaic Company (NYSE)   \n",
       "8393       2015-05-12  Joint  DISCA  Discovery Communications, Inc. (NASDAQ)   \n",
       "8394       2015-05-13  Joint  DISCA  Discovery Communications, Inc. (NASDAQ)   \n",
       "8395       2015-05-14  Joint  DISCA  Discovery Communications, Inc. (NASDAQ)   \n",
       "8397       2015-05-15  Joint   AXLL                Axiall Corporation (NYSE)   \n",
       "8398       2015-05-29  Joint  DISCA  Discovery Communications, Inc. (NASDAQ)   \n",
       "\n",
       "     asset_type      type  \n",
       "8382      Stock  Purchase  \n",
       "8383      Stock  Purchase  \n",
       "8384      Stock  Purchase  \n",
       "8385      Stock  Purchase  \n",
       "8387      Stock  Purchase  \n",
       "8393      Stock  Purchase  \n",
       "8394      Stock  Purchase  \n",
       "8395      Stock  Purchase  \n",
       "8397      Stock  Purchase  \n",
       "8398      Stock  Purchase  "
      ]
     },
     "execution_count": 528,
     "metadata": {},
     "output_type": "execute_result"
    }
   ],
   "source": [
    "senSample = senators.sample(n=30, random_state=69)['senatorId'].to_list()\n",
    "# lets find the senator with the most purchases within a random sample of 30 senators \n",
    "maxPurchases= 0\n",
    "maxSenator=0\n",
    "for sen in senSample:\n",
    "    currentPurchases = len(purchasesBySenator(sen))\n",
    "    if currentPurchases >= maxPurchases:\n",
    "        maxPurchases = currentPurchases\n",
    "        maxSenator = sen\n",
    "\n",
    "print(senators[senators['senatorId']==maxSenator])\n",
    "purchasesBySenator(maxSenator).tail(10)"
   ]
  },
  {
   "cell_type": "code",
   "execution_count": 529,
   "metadata": {},
   "outputs": [
    {
     "data": {
      "application/vnd.plotly.v1+json": {
       "config": {
        "plotlyServerURL": "https://plot.ly"
       },
       "data": [
        {
         "hovertemplate": "variable=MOS_growth<br>date=%{x}<br>value=%{y}<extra></extra>",
         "legendgroup": "MOS_growth",
         "line": {
          "color": "#636efa",
          "dash": "solid"
         },
         "marker": {
          "symbol": "circle"
         },
         "mode": "lines",
         "name": "MOS_growth",
         "orientation": "v",
         "showlegend": true,
         "type": "scatter",
         "x": [
          "2015-04-17T00:00:00",
          "2015-04-24T00:00:00",
          "2015-05-01T00:00:00",
          "2015-05-08T00:00:00",
          "2015-05-15T00:00:00",
          "2015-05-22T00:00:00",
          "2015-05-29T00:00:00",
          "2015-06-05T00:00:00",
          "2015-06-12T00:00:00",
          "2015-06-19T00:00:00",
          "2015-06-26T00:00:00",
          "2015-07-02T00:00:00",
          "2015-07-10T00:00:00",
          "2015-07-17T00:00:00",
          "2015-07-24T00:00:00",
          "2015-07-31T00:00:00",
          "2015-08-07T00:00:00",
          "2015-08-14T00:00:00",
          "2015-08-21T00:00:00",
          "2015-08-28T00:00:00",
          "2015-09-04T00:00:00",
          "2015-09-11T00:00:00",
          "2015-09-18T00:00:00",
          "2015-09-25T00:00:00",
          "2015-10-02T00:00:00",
          "2015-10-09T00:00:00",
          "2015-10-16T00:00:00",
          "2015-10-23T00:00:00",
          "2015-10-30T00:00:00",
          "2015-11-06T00:00:00",
          "2015-11-13T00:00:00",
          "2015-11-20T00:00:00",
          "2015-11-27T00:00:00",
          "2015-12-04T00:00:00",
          "2015-12-11T00:00:00",
          "2015-12-18T00:00:00",
          "2015-12-24T00:00:00",
          "2015-12-31T00:00:00",
          "2016-01-08T00:00:00",
          "2016-01-15T00:00:00",
          "2016-01-22T00:00:00",
          "2016-01-29T00:00:00",
          "2016-02-05T00:00:00",
          "2016-02-12T00:00:00",
          "2016-02-19T00:00:00",
          "2016-02-26T00:00:00",
          "2016-03-04T00:00:00",
          "2016-03-11T00:00:00",
          "2016-03-18T00:00:00",
          "2016-03-24T00:00:00",
          "2016-04-01T00:00:00",
          "2016-04-08T00:00:00"
         ],
         "xaxis": "x",
         "y": [
          null,
          100,
          99.97783006746715,
          101.04450613955973,
          103.62302045176277,
          104.5342550650738,
          101.91140088780503,
          99.0867499382769,
          99.60119314545996,
          100.27208553563062,
          104.09589503544673,
          104.31960980918744,
          100.71926315206056,
          101.21128449565924,
          95.91141096504711,
          96.02326835191747,
          99.28804284843326,
          96.7835962653741,
          89.31459638126239,
          91.77445116820432,
          89.33298734802263,
          88.1393380259691,
          83.27530521446894,
          72.37601213299948,
          69.78641285453001,
          76.40690895715663,
          78.65892062660295,
          80.21283135231553,
          76.09174321171784,
          73.18672625675808,
          72.53372097124462,
          70.39432248182321,
          69.92144789813928,
          70.13962018874678,
          66.70983085349204,
          64.82463079504404,
          67.5729466359647,
          62.66684133886241,
          56.57968327228207,
          57.85168315135516,
          54.17197821300269,
          54.73983080310583,
          56.46606236805113,
          52.03686255145694,
          55.4213042974399,
          60.91793597928122,
          67.93749086749942,
          65.84948631258601,
          68.18992578111228,
          62.545662503086206,
          61.582026231061135,
          57.268462767109945
         ],
         "yaxis": "y"
        },
        {
         "hovertemplate": "variable=SPY_growth<br>date=%{x}<br>value=%{y}<extra></extra>",
         "legendgroup": "SPY_growth",
         "line": {
          "color": "#EF553B",
          "dash": "solid"
         },
         "marker": {
          "symbol": "circle"
         },
         "mode": "lines",
         "name": "SPY_growth",
         "orientation": "v",
         "showlegend": true,
         "type": "scatter",
         "x": [
          "2015-04-17T00:00:00",
          "2015-04-24T00:00:00",
          "2015-05-01T00:00:00",
          "2015-05-08T00:00:00",
          "2015-05-15T00:00:00",
          "2015-05-22T00:00:00",
          "2015-05-29T00:00:00",
          "2015-06-05T00:00:00",
          "2015-06-12T00:00:00",
          "2015-06-19T00:00:00",
          "2015-06-26T00:00:00",
          "2015-07-02T00:00:00",
          "2015-07-10T00:00:00",
          "2015-07-17T00:00:00",
          "2015-07-24T00:00:00",
          "2015-07-31T00:00:00",
          "2015-08-07T00:00:00",
          "2015-08-14T00:00:00",
          "2015-08-21T00:00:00",
          "2015-08-28T00:00:00",
          "2015-09-04T00:00:00",
          "2015-09-11T00:00:00",
          "2015-09-18T00:00:00",
          "2015-09-25T00:00:00",
          "2015-10-02T00:00:00",
          "2015-10-09T00:00:00",
          "2015-10-16T00:00:00",
          "2015-10-23T00:00:00",
          "2015-10-30T00:00:00",
          "2015-11-06T00:00:00",
          "2015-11-13T00:00:00",
          "2015-11-20T00:00:00",
          "2015-11-27T00:00:00",
          "2015-12-04T00:00:00",
          "2015-12-11T00:00:00",
          "2015-12-18T00:00:00",
          "2015-12-24T00:00:00",
          "2015-12-31T00:00:00",
          "2016-01-08T00:00:00",
          "2016-01-15T00:00:00",
          "2016-01-22T00:00:00",
          "2016-01-29T00:00:00",
          "2016-02-05T00:00:00",
          "2016-02-12T00:00:00",
          "2016-02-19T00:00:00",
          "2016-02-26T00:00:00",
          "2016-03-04T00:00:00",
          "2016-03-11T00:00:00",
          "2016-03-18T00:00:00",
          "2016-03-24T00:00:00",
          "2016-04-01T00:00:00",
          "2016-04-08T00:00:00"
         ],
         "xaxis": "x",
         "y": [
          null,
          100,
          99.56062601571332,
          99.98584239383966,
          100.37325091183664,
          100.63313248698692,
          99.75904947676524,
          99.11175938361795,
          99.18732086017489,
          100.08982757012079,
          99.65777648557221,
          98.43279096864059,
          98.50878639481165,
          100.87793431304688,
          98.72717153811267,
          99.9189056658631,
          98.71767889030401,
          99.40136650733479,
          93.83211140354489,
          94.59651364880018,
          91.43920474393714,
          93.40955296680498,
          93.24503181935543,
          92.05655231371082,
          93.07318777216774,
          96.09450771670897,
          97.02044770581684,
          99.04894517697547,
          99.24465645293921,
          100.25174501988569,
          96.67204040938802,
          99.90333772345689,
          100.0226738673372,
          100.05131454186849,
          96.35699298954394,
          96.04747842727976,
          98.76535910415437,
          97.89621227079319,
          92.15798803600909,
          90.18438519103542,
          91.4856915963487,
          93.02230717991328,
          90.25159313752076,
          89.6177554824109,
          92.19639257685787,
          93.68017479490454,
          96.24438306468234,
          97.36321365726225,
          98.64515506104587,
          98.03697467687027,
          99.87106272090747,
          98.70303309082783
         ],
         "yaxis": "y"
        }
       ],
       "layout": {
        "height": 500,
        "legend": {
         "title": {
          "text": "variable"
         },
         "tracegroupgap": 0
        },
        "template": {
         "data": {
          "bar": [
           {
            "error_x": {
             "color": "#2a3f5f"
            },
            "error_y": {
             "color": "#2a3f5f"
            },
            "marker": {
             "line": {
              "color": "#E5ECF6",
              "width": 0.5
             },
             "pattern": {
              "fillmode": "overlay",
              "size": 10,
              "solidity": 0.2
             }
            },
            "type": "bar"
           }
          ],
          "barpolar": [
           {
            "marker": {
             "line": {
              "color": "#E5ECF6",
              "width": 0.5
             },
             "pattern": {
              "fillmode": "overlay",
              "size": 10,
              "solidity": 0.2
             }
            },
            "type": "barpolar"
           }
          ],
          "carpet": [
           {
            "aaxis": {
             "endlinecolor": "#2a3f5f",
             "gridcolor": "white",
             "linecolor": "white",
             "minorgridcolor": "white",
             "startlinecolor": "#2a3f5f"
            },
            "baxis": {
             "endlinecolor": "#2a3f5f",
             "gridcolor": "white",
             "linecolor": "white",
             "minorgridcolor": "white",
             "startlinecolor": "#2a3f5f"
            },
            "type": "carpet"
           }
          ],
          "choropleth": [
           {
            "colorbar": {
             "outlinewidth": 0,
             "ticks": ""
            },
            "type": "choropleth"
           }
          ],
          "contour": [
           {
            "colorbar": {
             "outlinewidth": 0,
             "ticks": ""
            },
            "colorscale": [
             [
              0,
              "#0d0887"
             ],
             [
              0.1111111111111111,
              "#46039f"
             ],
             [
              0.2222222222222222,
              "#7201a8"
             ],
             [
              0.3333333333333333,
              "#9c179e"
             ],
             [
              0.4444444444444444,
              "#bd3786"
             ],
             [
              0.5555555555555556,
              "#d8576b"
             ],
             [
              0.6666666666666666,
              "#ed7953"
             ],
             [
              0.7777777777777778,
              "#fb9f3a"
             ],
             [
              0.8888888888888888,
              "#fdca26"
             ],
             [
              1,
              "#f0f921"
             ]
            ],
            "type": "contour"
           }
          ],
          "contourcarpet": [
           {
            "colorbar": {
             "outlinewidth": 0,
             "ticks": ""
            },
            "type": "contourcarpet"
           }
          ],
          "heatmap": [
           {
            "colorbar": {
             "outlinewidth": 0,
             "ticks": ""
            },
            "colorscale": [
             [
              0,
              "#0d0887"
             ],
             [
              0.1111111111111111,
              "#46039f"
             ],
             [
              0.2222222222222222,
              "#7201a8"
             ],
             [
              0.3333333333333333,
              "#9c179e"
             ],
             [
              0.4444444444444444,
              "#bd3786"
             ],
             [
              0.5555555555555556,
              "#d8576b"
             ],
             [
              0.6666666666666666,
              "#ed7953"
             ],
             [
              0.7777777777777778,
              "#fb9f3a"
             ],
             [
              0.8888888888888888,
              "#fdca26"
             ],
             [
              1,
              "#f0f921"
             ]
            ],
            "type": "heatmap"
           }
          ],
          "heatmapgl": [
           {
            "colorbar": {
             "outlinewidth": 0,
             "ticks": ""
            },
            "colorscale": [
             [
              0,
              "#0d0887"
             ],
             [
              0.1111111111111111,
              "#46039f"
             ],
             [
              0.2222222222222222,
              "#7201a8"
             ],
             [
              0.3333333333333333,
              "#9c179e"
             ],
             [
              0.4444444444444444,
              "#bd3786"
             ],
             [
              0.5555555555555556,
              "#d8576b"
             ],
             [
              0.6666666666666666,
              "#ed7953"
             ],
             [
              0.7777777777777778,
              "#fb9f3a"
             ],
             [
              0.8888888888888888,
              "#fdca26"
             ],
             [
              1,
              "#f0f921"
             ]
            ],
            "type": "heatmapgl"
           }
          ],
          "histogram": [
           {
            "marker": {
             "pattern": {
              "fillmode": "overlay",
              "size": 10,
              "solidity": 0.2
             }
            },
            "type": "histogram"
           }
          ],
          "histogram2d": [
           {
            "colorbar": {
             "outlinewidth": 0,
             "ticks": ""
            },
            "colorscale": [
             [
              0,
              "#0d0887"
             ],
             [
              0.1111111111111111,
              "#46039f"
             ],
             [
              0.2222222222222222,
              "#7201a8"
             ],
             [
              0.3333333333333333,
              "#9c179e"
             ],
             [
              0.4444444444444444,
              "#bd3786"
             ],
             [
              0.5555555555555556,
              "#d8576b"
             ],
             [
              0.6666666666666666,
              "#ed7953"
             ],
             [
              0.7777777777777778,
              "#fb9f3a"
             ],
             [
              0.8888888888888888,
              "#fdca26"
             ],
             [
              1,
              "#f0f921"
             ]
            ],
            "type": "histogram2d"
           }
          ],
          "histogram2dcontour": [
           {
            "colorbar": {
             "outlinewidth": 0,
             "ticks": ""
            },
            "colorscale": [
             [
              0,
              "#0d0887"
             ],
             [
              0.1111111111111111,
              "#46039f"
             ],
             [
              0.2222222222222222,
              "#7201a8"
             ],
             [
              0.3333333333333333,
              "#9c179e"
             ],
             [
              0.4444444444444444,
              "#bd3786"
             ],
             [
              0.5555555555555556,
              "#d8576b"
             ],
             [
              0.6666666666666666,
              "#ed7953"
             ],
             [
              0.7777777777777778,
              "#fb9f3a"
             ],
             [
              0.8888888888888888,
              "#fdca26"
             ],
             [
              1,
              "#f0f921"
             ]
            ],
            "type": "histogram2dcontour"
           }
          ],
          "mesh3d": [
           {
            "colorbar": {
             "outlinewidth": 0,
             "ticks": ""
            },
            "type": "mesh3d"
           }
          ],
          "parcoords": [
           {
            "line": {
             "colorbar": {
              "outlinewidth": 0,
              "ticks": ""
             }
            },
            "type": "parcoords"
           }
          ],
          "pie": [
           {
            "automargin": true,
            "type": "pie"
           }
          ],
          "scatter": [
           {
            "fillpattern": {
             "fillmode": "overlay",
             "size": 10,
             "solidity": 0.2
            },
            "type": "scatter"
           }
          ],
          "scatter3d": [
           {
            "line": {
             "colorbar": {
              "outlinewidth": 0,
              "ticks": ""
             }
            },
            "marker": {
             "colorbar": {
              "outlinewidth": 0,
              "ticks": ""
             }
            },
            "type": "scatter3d"
           }
          ],
          "scattercarpet": [
           {
            "marker": {
             "colorbar": {
              "outlinewidth": 0,
              "ticks": ""
             }
            },
            "type": "scattercarpet"
           }
          ],
          "scattergeo": [
           {
            "marker": {
             "colorbar": {
              "outlinewidth": 0,
              "ticks": ""
             }
            },
            "type": "scattergeo"
           }
          ],
          "scattergl": [
           {
            "marker": {
             "colorbar": {
              "outlinewidth": 0,
              "ticks": ""
             }
            },
            "type": "scattergl"
           }
          ],
          "scattermapbox": [
           {
            "marker": {
             "colorbar": {
              "outlinewidth": 0,
              "ticks": ""
             }
            },
            "type": "scattermapbox"
           }
          ],
          "scatterpolar": [
           {
            "marker": {
             "colorbar": {
              "outlinewidth": 0,
              "ticks": ""
             }
            },
            "type": "scatterpolar"
           }
          ],
          "scatterpolargl": [
           {
            "marker": {
             "colorbar": {
              "outlinewidth": 0,
              "ticks": ""
             }
            },
            "type": "scatterpolargl"
           }
          ],
          "scatterternary": [
           {
            "marker": {
             "colorbar": {
              "outlinewidth": 0,
              "ticks": ""
             }
            },
            "type": "scatterternary"
           }
          ],
          "surface": [
           {
            "colorbar": {
             "outlinewidth": 0,
             "ticks": ""
            },
            "colorscale": [
             [
              0,
              "#0d0887"
             ],
             [
              0.1111111111111111,
              "#46039f"
             ],
             [
              0.2222222222222222,
              "#7201a8"
             ],
             [
              0.3333333333333333,
              "#9c179e"
             ],
             [
              0.4444444444444444,
              "#bd3786"
             ],
             [
              0.5555555555555556,
              "#d8576b"
             ],
             [
              0.6666666666666666,
              "#ed7953"
             ],
             [
              0.7777777777777778,
              "#fb9f3a"
             ],
             [
              0.8888888888888888,
              "#fdca26"
             ],
             [
              1,
              "#f0f921"
             ]
            ],
            "type": "surface"
           }
          ],
          "table": [
           {
            "cells": {
             "fill": {
              "color": "#EBF0F8"
             },
             "line": {
              "color": "white"
             }
            },
            "header": {
             "fill": {
              "color": "#C8D4E3"
             },
             "line": {
              "color": "white"
             }
            },
            "type": "table"
           }
          ]
         },
         "layout": {
          "annotationdefaults": {
           "arrowcolor": "#2a3f5f",
           "arrowhead": 0,
           "arrowwidth": 1
          },
          "autotypenumbers": "strict",
          "coloraxis": {
           "colorbar": {
            "outlinewidth": 0,
            "ticks": ""
           }
          },
          "colorscale": {
           "diverging": [
            [
             0,
             "#8e0152"
            ],
            [
             0.1,
             "#c51b7d"
            ],
            [
             0.2,
             "#de77ae"
            ],
            [
             0.3,
             "#f1b6da"
            ],
            [
             0.4,
             "#fde0ef"
            ],
            [
             0.5,
             "#f7f7f7"
            ],
            [
             0.6,
             "#e6f5d0"
            ],
            [
             0.7,
             "#b8e186"
            ],
            [
             0.8,
             "#7fbc41"
            ],
            [
             0.9,
             "#4d9221"
            ],
            [
             1,
             "#276419"
            ]
           ],
           "sequential": [
            [
             0,
             "#0d0887"
            ],
            [
             0.1111111111111111,
             "#46039f"
            ],
            [
             0.2222222222222222,
             "#7201a8"
            ],
            [
             0.3333333333333333,
             "#9c179e"
            ],
            [
             0.4444444444444444,
             "#bd3786"
            ],
            [
             0.5555555555555556,
             "#d8576b"
            ],
            [
             0.6666666666666666,
             "#ed7953"
            ],
            [
             0.7777777777777778,
             "#fb9f3a"
            ],
            [
             0.8888888888888888,
             "#fdca26"
            ],
            [
             1,
             "#f0f921"
            ]
           ],
           "sequentialminus": [
            [
             0,
             "#0d0887"
            ],
            [
             0.1111111111111111,
             "#46039f"
            ],
            [
             0.2222222222222222,
             "#7201a8"
            ],
            [
             0.3333333333333333,
             "#9c179e"
            ],
            [
             0.4444444444444444,
             "#bd3786"
            ],
            [
             0.5555555555555556,
             "#d8576b"
            ],
            [
             0.6666666666666666,
             "#ed7953"
            ],
            [
             0.7777777777777778,
             "#fb9f3a"
            ],
            [
             0.8888888888888888,
             "#fdca26"
            ],
            [
             1,
             "#f0f921"
            ]
           ]
          },
          "colorway": [
           "#636efa",
           "#EF553B",
           "#00cc96",
           "#ab63fa",
           "#FFA15A",
           "#19d3f3",
           "#FF6692",
           "#B6E880",
           "#FF97FF",
           "#FECB52"
          ],
          "font": {
           "color": "#2a3f5f"
          },
          "geo": {
           "bgcolor": "white",
           "lakecolor": "white",
           "landcolor": "#E5ECF6",
           "showlakes": true,
           "showland": true,
           "subunitcolor": "white"
          },
          "hoverlabel": {
           "align": "left"
          },
          "hovermode": "closest",
          "mapbox": {
           "style": "light"
          },
          "paper_bgcolor": "white",
          "plot_bgcolor": "#E5ECF6",
          "polar": {
           "angularaxis": {
            "gridcolor": "white",
            "linecolor": "white",
            "ticks": ""
           },
           "bgcolor": "#E5ECF6",
           "radialaxis": {
            "gridcolor": "white",
            "linecolor": "white",
            "ticks": ""
           }
          },
          "scene": {
           "xaxis": {
            "backgroundcolor": "#E5ECF6",
            "gridcolor": "white",
            "gridwidth": 2,
            "linecolor": "white",
            "showbackground": true,
            "ticks": "",
            "zerolinecolor": "white"
           },
           "yaxis": {
            "backgroundcolor": "#E5ECF6",
            "gridcolor": "white",
            "gridwidth": 2,
            "linecolor": "white",
            "showbackground": true,
            "ticks": "",
            "zerolinecolor": "white"
           },
           "zaxis": {
            "backgroundcolor": "#E5ECF6",
            "gridcolor": "white",
            "gridwidth": 2,
            "linecolor": "white",
            "showbackground": true,
            "ticks": "",
            "zerolinecolor": "white"
           }
          },
          "shapedefaults": {
           "line": {
            "color": "#2a3f5f"
           }
          },
          "ternary": {
           "aaxis": {
            "gridcolor": "white",
            "linecolor": "white",
            "ticks": ""
           },
           "baxis": {
            "gridcolor": "white",
            "linecolor": "white",
            "ticks": ""
           },
           "bgcolor": "#E5ECF6",
           "caxis": {
            "gridcolor": "white",
            "linecolor": "white",
            "ticks": ""
           }
          },
          "title": {
           "x": 0.05
          },
          "xaxis": {
           "automargin": true,
           "gridcolor": "white",
           "linecolor": "white",
           "ticks": "",
           "title": {
            "standoff": 15
           },
           "zerolinecolor": "white",
           "zerolinewidth": 2
          },
          "yaxis": {
           "automargin": true,
           "gridcolor": "white",
           "linecolor": "white",
           "ticks": "",
           "title": {
            "standoff": 15
           },
           "zerolinecolor": "white",
           "zerolinewidth": 2
          }
         }
        },
        "title": {
         "text": "Growth in MOS v SPY"
        },
        "width": 800,
        "xaxis": {
         "anchor": "y",
         "domain": [
          0,
          1
         ],
         "title": {
          "text": "date"
         }
        },
        "yaxis": {
         "anchor": "x",
         "domain": [
          0,
          1
         ],
         "title": {
          "text": "value"
         }
        }
       }
      }
     },
     "metadata": {},
     "output_type": "display_data"
    },
    {
     "name": "stdout",
     "output_type": "stream",
     "text": [
      "this is is kind of a terrible trade\n"
     ]
    }
   ],
   "source": [
    "graphAlpha(\"MOS\", \"2015-04-15\")\n",
    "print(\"this is is kind of a terrible trade\")"
   ]
  },
  {
   "cell_type": "code",
   "execution_count": 530,
   "metadata": {},
   "outputs": [
    {
     "data": {
      "application/vnd.plotly.v1+json": {
       "config": {
        "plotlyServerURL": "https://plot.ly"
       },
       "data": [
        {
         "hovertemplate": "variable=KN_growth<br>date=%{x}<br>value=%{y}<extra></extra>",
         "legendgroup": "KN_growth",
         "line": {
          "color": "#636efa",
          "dash": "solid"
         },
         "marker": {
          "symbol": "circle"
         },
         "mode": "lines",
         "name": "KN_growth",
         "orientation": "v",
         "showlegend": true,
         "type": "scatter",
         "x": [
          "2015-04-24T00:00:00",
          "2015-05-01T00:00:00",
          "2015-05-08T00:00:00",
          "2015-05-15T00:00:00",
          "2015-05-22T00:00:00",
          "2015-05-29T00:00:00",
          "2015-06-05T00:00:00",
          "2015-06-12T00:00:00",
          "2015-06-19T00:00:00",
          "2015-06-26T00:00:00",
          "2015-07-02T00:00:00",
          "2015-07-10T00:00:00",
          "2015-07-17T00:00:00",
          "2015-07-24T00:00:00",
          "2015-07-31T00:00:00",
          "2015-08-07T00:00:00",
          "2015-08-14T00:00:00",
          "2015-08-21T00:00:00",
          "2015-08-28T00:00:00",
          "2015-09-04T00:00:00",
          "2015-09-11T00:00:00",
          "2015-09-18T00:00:00",
          "2015-09-25T00:00:00",
          "2015-10-02T00:00:00",
          "2015-10-09T00:00:00",
          "2015-10-16T00:00:00",
          "2015-10-23T00:00:00",
          "2015-10-30T00:00:00",
          "2015-11-06T00:00:00",
          "2015-11-13T00:00:00",
          "2015-11-20T00:00:00",
          "2015-11-27T00:00:00",
          "2015-12-04T00:00:00",
          "2015-12-11T00:00:00",
          "2015-12-18T00:00:00",
          "2015-12-24T00:00:00",
          "2015-12-31T00:00:00",
          "2016-01-08T00:00:00",
          "2016-01-15T00:00:00",
          "2016-01-22T00:00:00",
          "2016-01-29T00:00:00",
          "2016-02-05T00:00:00",
          "2016-02-12T00:00:00",
          "2016-02-19T00:00:00",
          "2016-02-26T00:00:00",
          "2016-03-04T00:00:00",
          "2016-03-11T00:00:00",
          "2016-03-18T00:00:00",
          "2016-03-24T00:00:00",
          "2016-04-01T00:00:00",
          "2016-04-08T00:00:00",
          "2016-04-15T00:00:00"
         ],
         "xaxis": "x",
         "y": [
          null,
          100,
          94.95533368365739,
          99.8949027850762,
          102.36468733578559,
          101.68155543878086,
          99.00157645822384,
          96.0063058328954,
          102.25959012086179,
          97.05727798213346,
          97.37256962690488,
          97.16237519705724,
          96.05885444035731,
          88.75459800315289,
          100.10509721492379,
          91.80241723594322,
          88.12401471361007,
          77.40409879138201,
          85.54913294797687,
          84.0777719390436,
          84.76090383604833,
          85.49658434051496,
          86.022070415134,
          103.20546505517602,
          111.56069364161849,
          109.30110352075668,
          111.45559642669468,
          87.54598003152915,
          93.74671571203362,
          80.92485549132948,
          83.28954282711508,
          84.60325801366265,
          84.07777193904361,
          79.34839726747241,
          67.68260641093012,
          73.14766158696796,
          70.04729374671572,
          66.57908565423017,
          60.64109301103521,
          65.79085654230163,
          71.46610614818707,
          67.6826064109301,
          52.443510246978455,
          58.38150289017341,
          59.957961114030475,
          64.31949553336837,
          68.52338413032055,
          71.46610614818708,
          66.78928008407779,
          68.89122438255387,
          65.58066211245404,
          71.20336311087758
         ],
         "yaxis": "y"
        },
        {
         "hovertemplate": "variable=SPY_growth<br>date=%{x}<br>value=%{y}<extra></extra>",
         "legendgroup": "SPY_growth",
         "line": {
          "color": "#EF553B",
          "dash": "solid"
         },
         "marker": {
          "symbol": "circle"
         },
         "mode": "lines",
         "name": "SPY_growth",
         "orientation": "v",
         "showlegend": true,
         "type": "scatter",
         "x": [
          "2015-04-24T00:00:00",
          "2015-05-01T00:00:00",
          "2015-05-08T00:00:00",
          "2015-05-15T00:00:00",
          "2015-05-22T00:00:00",
          "2015-05-29T00:00:00",
          "2015-06-05T00:00:00",
          "2015-06-12T00:00:00",
          "2015-06-19T00:00:00",
          "2015-06-26T00:00:00",
          "2015-07-02T00:00:00",
          "2015-07-10T00:00:00",
          "2015-07-17T00:00:00",
          "2015-07-24T00:00:00",
          "2015-07-31T00:00:00",
          "2015-08-07T00:00:00",
          "2015-08-14T00:00:00",
          "2015-08-21T00:00:00",
          "2015-08-28T00:00:00",
          "2015-09-04T00:00:00",
          "2015-09-11T00:00:00",
          "2015-09-18T00:00:00",
          "2015-09-25T00:00:00",
          "2015-10-02T00:00:00",
          "2015-10-09T00:00:00",
          "2015-10-16T00:00:00",
          "2015-10-23T00:00:00",
          "2015-10-30T00:00:00",
          "2015-11-06T00:00:00",
          "2015-11-13T00:00:00",
          "2015-11-20T00:00:00",
          "2015-11-27T00:00:00",
          "2015-12-04T00:00:00",
          "2015-12-11T00:00:00",
          "2015-12-18T00:00:00",
          "2015-12-24T00:00:00",
          "2015-12-31T00:00:00",
          "2016-01-08T00:00:00",
          "2016-01-15T00:00:00",
          "2016-01-22T00:00:00",
          "2016-01-29T00:00:00",
          "2016-02-05T00:00:00",
          "2016-02-12T00:00:00",
          "2016-02-19T00:00:00",
          "2016-02-26T00:00:00",
          "2016-03-04T00:00:00",
          "2016-03-11T00:00:00",
          "2016-03-18T00:00:00",
          "2016-03-24T00:00:00",
          "2016-04-01T00:00:00",
          "2016-04-08T00:00:00",
          "2016-04-15T00:00:00"
         ],
         "xaxis": "x",
         "y": [
          null,
          100,
          100.427092913276,
          100.81621111542132,
          101.07723958174422,
          100.1992991295782,
          99.54915246110995,
          99.62504740028503,
          100.5315369896569,
          100.09757920751078,
          98.86718767025961,
          98.94351847412486,
          101.32312175008387,
          99.16286737945069,
          100.35986078481793,
          99.15333283935333,
          99.84003765870919,
          94.24620470821034,
          95.01398035993701,
          91.84273784046476,
          93.8217814661616,
          93.65653426550259,
          92.46280984531158,
          93.48393184819702,
          96.51858527038863,
          97.44861155302944,
          99.48606104720847,
          99.68263602247315,
          100.69416900217492,
          97.09866668991273,
          100.34422413905823,
          100.46408692885375,
          100.49285399840468,
          96.78222892485252,
          96.4713484345919,
          99.20122347218523,
          98.32824098086982,
          92.56469321663775,
          90.58238060576468,
          91.88942984539874,
          93.43282671327506,
          90.64988514965408,
          90.01325028658098,
          92.60326724171745,
          94.09359758356614,
          96.66912203775458,
          97.79289017517401,
          99.08048895300942,
          98.46962458974234,
          100.31180670272718,
          99.13862240606024,
          100.72871127887056
         ],
         "yaxis": "y"
        }
       ],
       "layout": {
        "height": 500,
        "legend": {
         "title": {
          "text": "variable"
         },
         "tracegroupgap": 0
        },
        "template": {
         "data": {
          "bar": [
           {
            "error_x": {
             "color": "#2a3f5f"
            },
            "error_y": {
             "color": "#2a3f5f"
            },
            "marker": {
             "line": {
              "color": "#E5ECF6",
              "width": 0.5
             },
             "pattern": {
              "fillmode": "overlay",
              "size": 10,
              "solidity": 0.2
             }
            },
            "type": "bar"
           }
          ],
          "barpolar": [
           {
            "marker": {
             "line": {
              "color": "#E5ECF6",
              "width": 0.5
             },
             "pattern": {
              "fillmode": "overlay",
              "size": 10,
              "solidity": 0.2
             }
            },
            "type": "barpolar"
           }
          ],
          "carpet": [
           {
            "aaxis": {
             "endlinecolor": "#2a3f5f",
             "gridcolor": "white",
             "linecolor": "white",
             "minorgridcolor": "white",
             "startlinecolor": "#2a3f5f"
            },
            "baxis": {
             "endlinecolor": "#2a3f5f",
             "gridcolor": "white",
             "linecolor": "white",
             "minorgridcolor": "white",
             "startlinecolor": "#2a3f5f"
            },
            "type": "carpet"
           }
          ],
          "choropleth": [
           {
            "colorbar": {
             "outlinewidth": 0,
             "ticks": ""
            },
            "type": "choropleth"
           }
          ],
          "contour": [
           {
            "colorbar": {
             "outlinewidth": 0,
             "ticks": ""
            },
            "colorscale": [
             [
              0,
              "#0d0887"
             ],
             [
              0.1111111111111111,
              "#46039f"
             ],
             [
              0.2222222222222222,
              "#7201a8"
             ],
             [
              0.3333333333333333,
              "#9c179e"
             ],
             [
              0.4444444444444444,
              "#bd3786"
             ],
             [
              0.5555555555555556,
              "#d8576b"
             ],
             [
              0.6666666666666666,
              "#ed7953"
             ],
             [
              0.7777777777777778,
              "#fb9f3a"
             ],
             [
              0.8888888888888888,
              "#fdca26"
             ],
             [
              1,
              "#f0f921"
             ]
            ],
            "type": "contour"
           }
          ],
          "contourcarpet": [
           {
            "colorbar": {
             "outlinewidth": 0,
             "ticks": ""
            },
            "type": "contourcarpet"
           }
          ],
          "heatmap": [
           {
            "colorbar": {
             "outlinewidth": 0,
             "ticks": ""
            },
            "colorscale": [
             [
              0,
              "#0d0887"
             ],
             [
              0.1111111111111111,
              "#46039f"
             ],
             [
              0.2222222222222222,
              "#7201a8"
             ],
             [
              0.3333333333333333,
              "#9c179e"
             ],
             [
              0.4444444444444444,
              "#bd3786"
             ],
             [
              0.5555555555555556,
              "#d8576b"
             ],
             [
              0.6666666666666666,
              "#ed7953"
             ],
             [
              0.7777777777777778,
              "#fb9f3a"
             ],
             [
              0.8888888888888888,
              "#fdca26"
             ],
             [
              1,
              "#f0f921"
             ]
            ],
            "type": "heatmap"
           }
          ],
          "heatmapgl": [
           {
            "colorbar": {
             "outlinewidth": 0,
             "ticks": ""
            },
            "colorscale": [
             [
              0,
              "#0d0887"
             ],
             [
              0.1111111111111111,
              "#46039f"
             ],
             [
              0.2222222222222222,
              "#7201a8"
             ],
             [
              0.3333333333333333,
              "#9c179e"
             ],
             [
              0.4444444444444444,
              "#bd3786"
             ],
             [
              0.5555555555555556,
              "#d8576b"
             ],
             [
              0.6666666666666666,
              "#ed7953"
             ],
             [
              0.7777777777777778,
              "#fb9f3a"
             ],
             [
              0.8888888888888888,
              "#fdca26"
             ],
             [
              1,
              "#f0f921"
             ]
            ],
            "type": "heatmapgl"
           }
          ],
          "histogram": [
           {
            "marker": {
             "pattern": {
              "fillmode": "overlay",
              "size": 10,
              "solidity": 0.2
             }
            },
            "type": "histogram"
           }
          ],
          "histogram2d": [
           {
            "colorbar": {
             "outlinewidth": 0,
             "ticks": ""
            },
            "colorscale": [
             [
              0,
              "#0d0887"
             ],
             [
              0.1111111111111111,
              "#46039f"
             ],
             [
              0.2222222222222222,
              "#7201a8"
             ],
             [
              0.3333333333333333,
              "#9c179e"
             ],
             [
              0.4444444444444444,
              "#bd3786"
             ],
             [
              0.5555555555555556,
              "#d8576b"
             ],
             [
              0.6666666666666666,
              "#ed7953"
             ],
             [
              0.7777777777777778,
              "#fb9f3a"
             ],
             [
              0.8888888888888888,
              "#fdca26"
             ],
             [
              1,
              "#f0f921"
             ]
            ],
            "type": "histogram2d"
           }
          ],
          "histogram2dcontour": [
           {
            "colorbar": {
             "outlinewidth": 0,
             "ticks": ""
            },
            "colorscale": [
             [
              0,
              "#0d0887"
             ],
             [
              0.1111111111111111,
              "#46039f"
             ],
             [
              0.2222222222222222,
              "#7201a8"
             ],
             [
              0.3333333333333333,
              "#9c179e"
             ],
             [
              0.4444444444444444,
              "#bd3786"
             ],
             [
              0.5555555555555556,
              "#d8576b"
             ],
             [
              0.6666666666666666,
              "#ed7953"
             ],
             [
              0.7777777777777778,
              "#fb9f3a"
             ],
             [
              0.8888888888888888,
              "#fdca26"
             ],
             [
              1,
              "#f0f921"
             ]
            ],
            "type": "histogram2dcontour"
           }
          ],
          "mesh3d": [
           {
            "colorbar": {
             "outlinewidth": 0,
             "ticks": ""
            },
            "type": "mesh3d"
           }
          ],
          "parcoords": [
           {
            "line": {
             "colorbar": {
              "outlinewidth": 0,
              "ticks": ""
             }
            },
            "type": "parcoords"
           }
          ],
          "pie": [
           {
            "automargin": true,
            "type": "pie"
           }
          ],
          "scatter": [
           {
            "fillpattern": {
             "fillmode": "overlay",
             "size": 10,
             "solidity": 0.2
            },
            "type": "scatter"
           }
          ],
          "scatter3d": [
           {
            "line": {
             "colorbar": {
              "outlinewidth": 0,
              "ticks": ""
             }
            },
            "marker": {
             "colorbar": {
              "outlinewidth": 0,
              "ticks": ""
             }
            },
            "type": "scatter3d"
           }
          ],
          "scattercarpet": [
           {
            "marker": {
             "colorbar": {
              "outlinewidth": 0,
              "ticks": ""
             }
            },
            "type": "scattercarpet"
           }
          ],
          "scattergeo": [
           {
            "marker": {
             "colorbar": {
              "outlinewidth": 0,
              "ticks": ""
             }
            },
            "type": "scattergeo"
           }
          ],
          "scattergl": [
           {
            "marker": {
             "colorbar": {
              "outlinewidth": 0,
              "ticks": ""
             }
            },
            "type": "scattergl"
           }
          ],
          "scattermapbox": [
           {
            "marker": {
             "colorbar": {
              "outlinewidth": 0,
              "ticks": ""
             }
            },
            "type": "scattermapbox"
           }
          ],
          "scatterpolar": [
           {
            "marker": {
             "colorbar": {
              "outlinewidth": 0,
              "ticks": ""
             }
            },
            "type": "scatterpolar"
           }
          ],
          "scatterpolargl": [
           {
            "marker": {
             "colorbar": {
              "outlinewidth": 0,
              "ticks": ""
             }
            },
            "type": "scatterpolargl"
           }
          ],
          "scatterternary": [
           {
            "marker": {
             "colorbar": {
              "outlinewidth": 0,
              "ticks": ""
             }
            },
            "type": "scatterternary"
           }
          ],
          "surface": [
           {
            "colorbar": {
             "outlinewidth": 0,
             "ticks": ""
            },
            "colorscale": [
             [
              0,
              "#0d0887"
             ],
             [
              0.1111111111111111,
              "#46039f"
             ],
             [
              0.2222222222222222,
              "#7201a8"
             ],
             [
              0.3333333333333333,
              "#9c179e"
             ],
             [
              0.4444444444444444,
              "#bd3786"
             ],
             [
              0.5555555555555556,
              "#d8576b"
             ],
             [
              0.6666666666666666,
              "#ed7953"
             ],
             [
              0.7777777777777778,
              "#fb9f3a"
             ],
             [
              0.8888888888888888,
              "#fdca26"
             ],
             [
              1,
              "#f0f921"
             ]
            ],
            "type": "surface"
           }
          ],
          "table": [
           {
            "cells": {
             "fill": {
              "color": "#EBF0F8"
             },
             "line": {
              "color": "white"
             }
            },
            "header": {
             "fill": {
              "color": "#C8D4E3"
             },
             "line": {
              "color": "white"
             }
            },
            "type": "table"
           }
          ]
         },
         "layout": {
          "annotationdefaults": {
           "arrowcolor": "#2a3f5f",
           "arrowhead": 0,
           "arrowwidth": 1
          },
          "autotypenumbers": "strict",
          "coloraxis": {
           "colorbar": {
            "outlinewidth": 0,
            "ticks": ""
           }
          },
          "colorscale": {
           "diverging": [
            [
             0,
             "#8e0152"
            ],
            [
             0.1,
             "#c51b7d"
            ],
            [
             0.2,
             "#de77ae"
            ],
            [
             0.3,
             "#f1b6da"
            ],
            [
             0.4,
             "#fde0ef"
            ],
            [
             0.5,
             "#f7f7f7"
            ],
            [
             0.6,
             "#e6f5d0"
            ],
            [
             0.7,
             "#b8e186"
            ],
            [
             0.8,
             "#7fbc41"
            ],
            [
             0.9,
             "#4d9221"
            ],
            [
             1,
             "#276419"
            ]
           ],
           "sequential": [
            [
             0,
             "#0d0887"
            ],
            [
             0.1111111111111111,
             "#46039f"
            ],
            [
             0.2222222222222222,
             "#7201a8"
            ],
            [
             0.3333333333333333,
             "#9c179e"
            ],
            [
             0.4444444444444444,
             "#bd3786"
            ],
            [
             0.5555555555555556,
             "#d8576b"
            ],
            [
             0.6666666666666666,
             "#ed7953"
            ],
            [
             0.7777777777777778,
             "#fb9f3a"
            ],
            [
             0.8888888888888888,
             "#fdca26"
            ],
            [
             1,
             "#f0f921"
            ]
           ],
           "sequentialminus": [
            [
             0,
             "#0d0887"
            ],
            [
             0.1111111111111111,
             "#46039f"
            ],
            [
             0.2222222222222222,
             "#7201a8"
            ],
            [
             0.3333333333333333,
             "#9c179e"
            ],
            [
             0.4444444444444444,
             "#bd3786"
            ],
            [
             0.5555555555555556,
             "#d8576b"
            ],
            [
             0.6666666666666666,
             "#ed7953"
            ],
            [
             0.7777777777777778,
             "#fb9f3a"
            ],
            [
             0.8888888888888888,
             "#fdca26"
            ],
            [
             1,
             "#f0f921"
            ]
           ]
          },
          "colorway": [
           "#636efa",
           "#EF553B",
           "#00cc96",
           "#ab63fa",
           "#FFA15A",
           "#19d3f3",
           "#FF6692",
           "#B6E880",
           "#FF97FF",
           "#FECB52"
          ],
          "font": {
           "color": "#2a3f5f"
          },
          "geo": {
           "bgcolor": "white",
           "lakecolor": "white",
           "landcolor": "#E5ECF6",
           "showlakes": true,
           "showland": true,
           "subunitcolor": "white"
          },
          "hoverlabel": {
           "align": "left"
          },
          "hovermode": "closest",
          "mapbox": {
           "style": "light"
          },
          "paper_bgcolor": "white",
          "plot_bgcolor": "#E5ECF6",
          "polar": {
           "angularaxis": {
            "gridcolor": "white",
            "linecolor": "white",
            "ticks": ""
           },
           "bgcolor": "#E5ECF6",
           "radialaxis": {
            "gridcolor": "white",
            "linecolor": "white",
            "ticks": ""
           }
          },
          "scene": {
           "xaxis": {
            "backgroundcolor": "#E5ECF6",
            "gridcolor": "white",
            "gridwidth": 2,
            "linecolor": "white",
            "showbackground": true,
            "ticks": "",
            "zerolinecolor": "white"
           },
           "yaxis": {
            "backgroundcolor": "#E5ECF6",
            "gridcolor": "white",
            "gridwidth": 2,
            "linecolor": "white",
            "showbackground": true,
            "ticks": "",
            "zerolinecolor": "white"
           },
           "zaxis": {
            "backgroundcolor": "#E5ECF6",
            "gridcolor": "white",
            "gridwidth": 2,
            "linecolor": "white",
            "showbackground": true,
            "ticks": "",
            "zerolinecolor": "white"
           }
          },
          "shapedefaults": {
           "line": {
            "color": "#2a3f5f"
           }
          },
          "ternary": {
           "aaxis": {
            "gridcolor": "white",
            "linecolor": "white",
            "ticks": ""
           },
           "baxis": {
            "gridcolor": "white",
            "linecolor": "white",
            "ticks": ""
           },
           "bgcolor": "#E5ECF6",
           "caxis": {
            "gridcolor": "white",
            "linecolor": "white",
            "ticks": ""
           }
          },
          "title": {
           "x": 0.05
          },
          "xaxis": {
           "automargin": true,
           "gridcolor": "white",
           "linecolor": "white",
           "ticks": "",
           "title": {
            "standoff": 15
           },
           "zerolinecolor": "white",
           "zerolinewidth": 2
          },
          "yaxis": {
           "automargin": true,
           "gridcolor": "white",
           "linecolor": "white",
           "ticks": "",
           "title": {
            "standoff": 15
           },
           "zerolinecolor": "white",
           "zerolinewidth": 2
          }
         }
        },
        "title": {
         "text": "Growth in KN v SPY"
        },
        "width": 800,
        "xaxis": {
         "anchor": "y",
         "domain": [
          0,
          1
         ],
         "title": {
          "text": "date"
         }
        },
        "yaxis": {
         "anchor": "x",
         "domain": [
          0,
          1
         ],
         "title": {
          "text": "value"
         }
        }
       }
      }
     },
     "metadata": {},
     "output_type": "display_data"
    },
    {
     "name": "stdout",
     "output_type": "stream",
     "text": [
      "this one has a bit of a pop, but also not a great trade\n"
     ]
    }
   ],
   "source": [
    "graphAlpha(\"KN\", \"2015-04-24\")\n",
    "print(\"this one has a bit of a pop, but also not a great trade\")"
   ]
  },
  {
   "cell_type": "code",
   "execution_count": 531,
   "metadata": {},
   "outputs": [
    {
     "data": {
      "text/html": [
       "<div>\n",
       "<style scoped>\n",
       "    .dataframe tbody tr th:only-of-type {\n",
       "        vertical-align: middle;\n",
       "    }\n",
       "\n",
       "    .dataframe tbody tr th {\n",
       "        vertical-align: top;\n",
       "    }\n",
       "\n",
       "    .dataframe thead th {\n",
       "        text-align: right;\n",
       "    }\n",
       "</style>\n",
       "<table border=\"1\" class=\"dataframe\">\n",
       "  <thead>\n",
       "    <tr style=\"text-align: right;\">\n",
       "      <th></th>\n",
       "      <th>transaction_date</th>\n",
       "      <th>owner</th>\n",
       "      <th>ticker</th>\n",
       "      <th>asset_description</th>\n",
       "      <th>asset_type</th>\n",
       "      <th>type</th>\n",
       "    </tr>\n",
       "  </thead>\n",
       "  <tbody>\n",
       "    <tr>\n",
       "      <th>8284</th>\n",
       "      <td>2015-04-02</td>\n",
       "      <td>Joint</td>\n",
       "      <td>FOX</td>\n",
       "      <td>Twenty-First Century Fox, Inc. (NASDAQ)</td>\n",
       "      <td>Stock</td>\n",
       "      <td>Purchase</td>\n",
       "    </tr>\n",
       "    <tr>\n",
       "      <th>8285</th>\n",
       "      <td>2015-04-02</td>\n",
       "      <td>Joint</td>\n",
       "      <td>AVP</td>\n",
       "      <td>Avon Products Inc. (NYSE)</td>\n",
       "      <td>Stock</td>\n",
       "      <td>Purchase</td>\n",
       "    </tr>\n",
       "    <tr>\n",
       "      <th>8287</th>\n",
       "      <td>2015-04-02</td>\n",
       "      <td>Joint</td>\n",
       "      <td>JNJ</td>\n",
       "      <td>Johnson &amp; Johnson (NYSE)</td>\n",
       "      <td>Stock</td>\n",
       "      <td>Purchase</td>\n",
       "    </tr>\n",
       "    <tr>\n",
       "      <th>8288</th>\n",
       "      <td>2015-04-02</td>\n",
       "      <td>Joint</td>\n",
       "      <td>KO</td>\n",
       "      <td>The Coca-Cola Company (NYSE)</td>\n",
       "      <td>Stock</td>\n",
       "      <td>Purchase</td>\n",
       "    </tr>\n",
       "    <tr>\n",
       "      <th>8290</th>\n",
       "      <td>2015-05-06</td>\n",
       "      <td>Joint</td>\n",
       "      <td>SYY</td>\n",
       "      <td>Sysco Corporation (NYSE)</td>\n",
       "      <td>Stock</td>\n",
       "      <td>Purchase</td>\n",
       "    </tr>\n",
       "    <tr>\n",
       "      <th>8292</th>\n",
       "      <td>2015-05-11</td>\n",
       "      <td>Joint</td>\n",
       "      <td>FOX</td>\n",
       "      <td>Twenty-First Century Fox, Inc. (NASDAQ)</td>\n",
       "      <td>Stock</td>\n",
       "      <td>Purchase</td>\n",
       "    </tr>\n",
       "    <tr>\n",
       "      <th>8294</th>\n",
       "      <td>2015-05-12</td>\n",
       "      <td>Joint</td>\n",
       "      <td>FOX</td>\n",
       "      <td>Twenty-First Century Fox, Inc. (NASDAQ)</td>\n",
       "      <td>Stock</td>\n",
       "      <td>Purchase</td>\n",
       "    </tr>\n",
       "    <tr>\n",
       "      <th>8295</th>\n",
       "      <td>2015-01-07</td>\n",
       "      <td>Joint</td>\n",
       "      <td>AM</td>\n",
       "      <td>Antero Midstream Partners LP (NYSE)</td>\n",
       "      <td>Stock</td>\n",
       "      <td>Purchase</td>\n",
       "    </tr>\n",
       "    <tr>\n",
       "      <th>8296</th>\n",
       "      <td>2015-01-14</td>\n",
       "      <td>Joint</td>\n",
       "      <td>AR</td>\n",
       "      <td>Antero Resources Corporation (NYSE)</td>\n",
       "      <td>Stock</td>\n",
       "      <td>Purchase</td>\n",
       "    </tr>\n",
       "    <tr>\n",
       "      <th>8297</th>\n",
       "      <td>2015-01-15</td>\n",
       "      <td>Joint</td>\n",
       "      <td>BPL</td>\n",
       "      <td>Buckeye Partners, L.P. (NYSE)</td>\n",
       "      <td>Stock</td>\n",
       "      <td>Purchase</td>\n",
       "    </tr>\n",
       "  </tbody>\n",
       "</table>\n",
       "</div>"
      ],
      "text/plain": [
       "     transaction_date  owner ticker                        asset_description  \\\n",
       "8284       2015-04-02  Joint    FOX  Twenty-First Century Fox, Inc. (NASDAQ)   \n",
       "8285       2015-04-02  Joint    AVP                Avon Products Inc. (NYSE)   \n",
       "8287       2015-04-02  Joint    JNJ                 Johnson & Johnson (NYSE)   \n",
       "8288       2015-04-02  Joint     KO             The Coca-Cola Company (NYSE)   \n",
       "8290       2015-05-06  Joint    SYY                 Sysco Corporation (NYSE)   \n",
       "8292       2015-05-11  Joint    FOX  Twenty-First Century Fox, Inc. (NASDAQ)   \n",
       "8294       2015-05-12  Joint    FOX  Twenty-First Century Fox, Inc. (NASDAQ)   \n",
       "8295       2015-01-07  Joint     AM      Antero Midstream Partners LP (NYSE)   \n",
       "8296       2015-01-14  Joint     AR      Antero Resources Corporation (NYSE)   \n",
       "8297       2015-01-15  Joint    BPL            Buckeye Partners, L.P. (NYSE)   \n",
       "\n",
       "     asset_type      type  \n",
       "8284      Stock  Purchase  \n",
       "8285      Stock  Purchase  \n",
       "8287      Stock  Purchase  \n",
       "8288      Stock  Purchase  \n",
       "8290      Stock  Purchase  \n",
       "8292      Stock  Purchase  \n",
       "8294      Stock  Purchase  \n",
       "8295      Stock  Purchase  \n",
       "8296      Stock  Purchase  \n",
       "8297      Stock  Purchase  "
      ]
     },
     "execution_count": 531,
     "metadata": {},
     "output_type": "execute_result"
    }
   ],
   "source": [
    "purchasesBySenator(136).iloc[-60:-50, :]"
   ]
  },
  {
   "cell_type": "code",
   "execution_count": 532,
   "metadata": {},
   "outputs": [
    {
     "data": {
      "application/vnd.plotly.v1+json": {
       "config": {
        "plotlyServerURL": "https://plot.ly"
       },
       "data": [
        {
         "hovertemplate": "variable=AM_growth<br>date=%{x}<br>value=%{y}<extra></extra>",
         "legendgroup": "AM_growth",
         "line": {
          "color": "#636efa",
          "dash": "solid"
         },
         "marker": {
          "symbol": "circle"
         },
         "mode": "lines",
         "name": "AM_growth",
         "orientation": "v",
         "showlegend": true,
         "type": "scatter",
         "x": [
          "2015-01-16T00:00:00",
          "2015-01-23T00:00:00",
          "2015-01-30T00:00:00",
          "2015-02-06T00:00:00",
          "2015-02-13T00:00:00",
          "2015-02-20T00:00:00",
          "2015-02-27T00:00:00",
          "2015-03-06T00:00:00",
          "2015-03-13T00:00:00",
          "2015-03-20T00:00:00",
          "2015-03-27T00:00:00",
          "2015-04-02T00:00:00",
          "2015-04-10T00:00:00",
          "2015-04-17T00:00:00",
          "2015-04-24T00:00:00",
          "2015-05-01T00:00:00",
          "2015-05-08T00:00:00",
          "2015-05-15T00:00:00",
          "2015-05-22T00:00:00",
          "2015-05-29T00:00:00",
          "2015-06-05T00:00:00",
          "2015-06-12T00:00:00",
          "2015-06-19T00:00:00",
          "2015-06-26T00:00:00",
          "2015-07-02T00:00:00",
          "2015-07-10T00:00:00",
          "2015-07-17T00:00:00",
          "2015-07-24T00:00:00",
          "2015-07-31T00:00:00",
          "2015-08-07T00:00:00",
          "2015-08-14T00:00:00",
          "2015-08-21T00:00:00",
          "2015-08-28T00:00:00",
          "2015-09-04T00:00:00",
          "2015-09-11T00:00:00",
          "2015-09-18T00:00:00",
          "2015-09-25T00:00:00",
          "2015-10-02T00:00:00",
          "2015-10-09T00:00:00",
          "2015-10-16T00:00:00",
          "2015-10-23T00:00:00",
          "2015-10-30T00:00:00",
          "2015-11-06T00:00:00",
          "2015-11-13T00:00:00",
          "2015-11-20T00:00:00",
          "2015-11-27T00:00:00",
          "2015-12-04T00:00:00",
          "2015-12-11T00:00:00",
          "2015-12-18T00:00:00",
          "2015-12-24T00:00:00",
          "2015-12-31T00:00:00",
          "2016-01-08T00:00:00"
         ],
         "xaxis": "x",
         "y": [
          null,
          100,
          104.1761865082565,
          108.97418666953382,
          109.14531982187816,
          112.31262711788476,
          115.97003825856339,
          115.92523900402298,
          108.61041672266575,
          112.40132964187477,
          108.43211568959494,
          109.41321936402979,
          112.40132964187478,
          112.26782786334437,
          111.73292476413194,
          113.33853004686003,
          117.48604503221068,
          120.46161151878432,
          122.21326237131416,
          128.00759795357007,
          130.25383257622593,
          131.42130114954887,
          129.58005178793826,
          131.06201112813483,
          128.36688797498408,
          125.58216631275253,
          124.3698984848892,
          122.84224390506141,
          119.83352597012784,
          101.37354514420878,
          102.00163069286523,
          98.96692919029825,
          104.35717549659971,
          103.17895510218709,
          94.89019702712145,
          95.11688125509589,
          86.91861767420188,
          88.95698375579028,
          108.11583295253965,
          114.5024146798197,
          104.4019747511401,
          107.890044709656,
          106.55323495417035,
          103.8124165613884,
          102.03030221577112,
          102.98990224802658,
          94.49058767662105,
          95.45018770887653,
          90.2418263760091,
          101.25348314204052,
          104.26936895770055,
          93.75946384252167
         ],
         "yaxis": "y"
        },
        {
         "hovertemplate": "variable=SPY_growth<br>date=%{x}<br>value=%{y}<extra></extra>",
         "legendgroup": "SPY_growth",
         "line": {
          "color": "#EF553B",
          "dash": "solid"
         },
         "marker": {
          "symbol": "circle"
         },
         "mode": "lines",
         "name": "SPY_growth",
         "orientation": "v",
         "showlegend": true,
         "type": "scatter",
         "x": [
          "2015-01-16T00:00:00",
          "2015-01-23T00:00:00",
          "2015-01-30T00:00:00",
          "2015-02-06T00:00:00",
          "2015-02-13T00:00:00",
          "2015-02-20T00:00:00",
          "2015-02-27T00:00:00",
          "2015-03-06T00:00:00",
          "2015-03-13T00:00:00",
          "2015-03-20T00:00:00",
          "2015-03-27T00:00:00",
          "2015-04-02T00:00:00",
          "2015-04-10T00:00:00",
          "2015-04-17T00:00:00",
          "2015-04-24T00:00:00",
          "2015-05-01T00:00:00",
          "2015-05-08T00:00:00",
          "2015-05-15T00:00:00",
          "2015-05-22T00:00:00",
          "2015-05-29T00:00:00",
          "2015-06-05T00:00:00",
          "2015-06-12T00:00:00",
          "2015-06-19T00:00:00",
          "2015-06-26T00:00:00",
          "2015-07-02T00:00:00",
          "2015-07-10T00:00:00",
          "2015-07-17T00:00:00",
          "2015-07-24T00:00:00",
          "2015-07-31T00:00:00",
          "2015-08-07T00:00:00",
          "2015-08-14T00:00:00",
          "2015-08-21T00:00:00",
          "2015-08-28T00:00:00",
          "2015-09-04T00:00:00",
          "2015-09-11T00:00:00",
          "2015-09-18T00:00:00",
          "2015-09-25T00:00:00",
          "2015-10-02T00:00:00",
          "2015-10-09T00:00:00",
          "2015-10-16T00:00:00",
          "2015-10-23T00:00:00",
          "2015-10-30T00:00:00",
          "2015-11-06T00:00:00",
          "2015-11-13T00:00:00",
          "2015-11-20T00:00:00",
          "2015-11-27T00:00:00",
          "2015-12-04T00:00:00",
          "2015-12-11T00:00:00",
          "2015-12-18T00:00:00",
          "2015-12-24T00:00:00",
          "2015-12-31T00:00:00",
          "2016-01-08T00:00:00"
         ],
         "xaxis": "x",
         "y": [
          null,
          100,
          97.30692371914459,
          100.28298426314949,
          102.34668779015733,
          103.05898674756003,
          102.77600248441055,
          101.23432897286276,
          100.41958183589838,
          103.1081573730059,
          100.8196979550871,
          101.1627671472711,
          102.92688991855906,
          101.90268941942658,
          103.71581403826984,
          103.26011373379454,
          103.70113036179232,
          104.10293425988648,
          104.37247255108909,
          103.46591024166746,
          102.79456805237068,
          102.87293725288104,
          103.80897943385145,
          103.36087413445071,
          102.09037043371417,
          102.16918970859935,
          104.62637075776773,
          102.39568963771264,
          103.63170638948087,
          102.3858442607641,
          103.09493643824642,
          97.31873817148283,
          98.11154418267618,
          94.83691555029469,
          96.88047824903066,
          96.70984380168825,
          95.47720260773094,
          96.53161434927124,
          99.66520092445279,
          100.62554712166188,
          102.72941978661977,
          102.93240332965026,
          103.97691343494515,
          100.264193658002,
          103.61555997128528,
          103.73933042435263,
          103.76903533308881,
          99.93743966190415,
          99.61642411408486,
          102.43529618269422,
          101.53385346928582,
          95.5824074928382
         ],
         "yaxis": "y"
        }
       ],
       "layout": {
        "height": 500,
        "legend": {
         "title": {
          "text": "variable"
         },
         "tracegroupgap": 0
        },
        "template": {
         "data": {
          "bar": [
           {
            "error_x": {
             "color": "#2a3f5f"
            },
            "error_y": {
             "color": "#2a3f5f"
            },
            "marker": {
             "line": {
              "color": "#E5ECF6",
              "width": 0.5
             },
             "pattern": {
              "fillmode": "overlay",
              "size": 10,
              "solidity": 0.2
             }
            },
            "type": "bar"
           }
          ],
          "barpolar": [
           {
            "marker": {
             "line": {
              "color": "#E5ECF6",
              "width": 0.5
             },
             "pattern": {
              "fillmode": "overlay",
              "size": 10,
              "solidity": 0.2
             }
            },
            "type": "barpolar"
           }
          ],
          "carpet": [
           {
            "aaxis": {
             "endlinecolor": "#2a3f5f",
             "gridcolor": "white",
             "linecolor": "white",
             "minorgridcolor": "white",
             "startlinecolor": "#2a3f5f"
            },
            "baxis": {
             "endlinecolor": "#2a3f5f",
             "gridcolor": "white",
             "linecolor": "white",
             "minorgridcolor": "white",
             "startlinecolor": "#2a3f5f"
            },
            "type": "carpet"
           }
          ],
          "choropleth": [
           {
            "colorbar": {
             "outlinewidth": 0,
             "ticks": ""
            },
            "type": "choropleth"
           }
          ],
          "contour": [
           {
            "colorbar": {
             "outlinewidth": 0,
             "ticks": ""
            },
            "colorscale": [
             [
              0,
              "#0d0887"
             ],
             [
              0.1111111111111111,
              "#46039f"
             ],
             [
              0.2222222222222222,
              "#7201a8"
             ],
             [
              0.3333333333333333,
              "#9c179e"
             ],
             [
              0.4444444444444444,
              "#bd3786"
             ],
             [
              0.5555555555555556,
              "#d8576b"
             ],
             [
              0.6666666666666666,
              "#ed7953"
             ],
             [
              0.7777777777777778,
              "#fb9f3a"
             ],
             [
              0.8888888888888888,
              "#fdca26"
             ],
             [
              1,
              "#f0f921"
             ]
            ],
            "type": "contour"
           }
          ],
          "contourcarpet": [
           {
            "colorbar": {
             "outlinewidth": 0,
             "ticks": ""
            },
            "type": "contourcarpet"
           }
          ],
          "heatmap": [
           {
            "colorbar": {
             "outlinewidth": 0,
             "ticks": ""
            },
            "colorscale": [
             [
              0,
              "#0d0887"
             ],
             [
              0.1111111111111111,
              "#46039f"
             ],
             [
              0.2222222222222222,
              "#7201a8"
             ],
             [
              0.3333333333333333,
              "#9c179e"
             ],
             [
              0.4444444444444444,
              "#bd3786"
             ],
             [
              0.5555555555555556,
              "#d8576b"
             ],
             [
              0.6666666666666666,
              "#ed7953"
             ],
             [
              0.7777777777777778,
              "#fb9f3a"
             ],
             [
              0.8888888888888888,
              "#fdca26"
             ],
             [
              1,
              "#f0f921"
             ]
            ],
            "type": "heatmap"
           }
          ],
          "heatmapgl": [
           {
            "colorbar": {
             "outlinewidth": 0,
             "ticks": ""
            },
            "colorscale": [
             [
              0,
              "#0d0887"
             ],
             [
              0.1111111111111111,
              "#46039f"
             ],
             [
              0.2222222222222222,
              "#7201a8"
             ],
             [
              0.3333333333333333,
              "#9c179e"
             ],
             [
              0.4444444444444444,
              "#bd3786"
             ],
             [
              0.5555555555555556,
              "#d8576b"
             ],
             [
              0.6666666666666666,
              "#ed7953"
             ],
             [
              0.7777777777777778,
              "#fb9f3a"
             ],
             [
              0.8888888888888888,
              "#fdca26"
             ],
             [
              1,
              "#f0f921"
             ]
            ],
            "type": "heatmapgl"
           }
          ],
          "histogram": [
           {
            "marker": {
             "pattern": {
              "fillmode": "overlay",
              "size": 10,
              "solidity": 0.2
             }
            },
            "type": "histogram"
           }
          ],
          "histogram2d": [
           {
            "colorbar": {
             "outlinewidth": 0,
             "ticks": ""
            },
            "colorscale": [
             [
              0,
              "#0d0887"
             ],
             [
              0.1111111111111111,
              "#46039f"
             ],
             [
              0.2222222222222222,
              "#7201a8"
             ],
             [
              0.3333333333333333,
              "#9c179e"
             ],
             [
              0.4444444444444444,
              "#bd3786"
             ],
             [
              0.5555555555555556,
              "#d8576b"
             ],
             [
              0.6666666666666666,
              "#ed7953"
             ],
             [
              0.7777777777777778,
              "#fb9f3a"
             ],
             [
              0.8888888888888888,
              "#fdca26"
             ],
             [
              1,
              "#f0f921"
             ]
            ],
            "type": "histogram2d"
           }
          ],
          "histogram2dcontour": [
           {
            "colorbar": {
             "outlinewidth": 0,
             "ticks": ""
            },
            "colorscale": [
             [
              0,
              "#0d0887"
             ],
             [
              0.1111111111111111,
              "#46039f"
             ],
             [
              0.2222222222222222,
              "#7201a8"
             ],
             [
              0.3333333333333333,
              "#9c179e"
             ],
             [
              0.4444444444444444,
              "#bd3786"
             ],
             [
              0.5555555555555556,
              "#d8576b"
             ],
             [
              0.6666666666666666,
              "#ed7953"
             ],
             [
              0.7777777777777778,
              "#fb9f3a"
             ],
             [
              0.8888888888888888,
              "#fdca26"
             ],
             [
              1,
              "#f0f921"
             ]
            ],
            "type": "histogram2dcontour"
           }
          ],
          "mesh3d": [
           {
            "colorbar": {
             "outlinewidth": 0,
             "ticks": ""
            },
            "type": "mesh3d"
           }
          ],
          "parcoords": [
           {
            "line": {
             "colorbar": {
              "outlinewidth": 0,
              "ticks": ""
             }
            },
            "type": "parcoords"
           }
          ],
          "pie": [
           {
            "automargin": true,
            "type": "pie"
           }
          ],
          "scatter": [
           {
            "fillpattern": {
             "fillmode": "overlay",
             "size": 10,
             "solidity": 0.2
            },
            "type": "scatter"
           }
          ],
          "scatter3d": [
           {
            "line": {
             "colorbar": {
              "outlinewidth": 0,
              "ticks": ""
             }
            },
            "marker": {
             "colorbar": {
              "outlinewidth": 0,
              "ticks": ""
             }
            },
            "type": "scatter3d"
           }
          ],
          "scattercarpet": [
           {
            "marker": {
             "colorbar": {
              "outlinewidth": 0,
              "ticks": ""
             }
            },
            "type": "scattercarpet"
           }
          ],
          "scattergeo": [
           {
            "marker": {
             "colorbar": {
              "outlinewidth": 0,
              "ticks": ""
             }
            },
            "type": "scattergeo"
           }
          ],
          "scattergl": [
           {
            "marker": {
             "colorbar": {
              "outlinewidth": 0,
              "ticks": ""
             }
            },
            "type": "scattergl"
           }
          ],
          "scattermapbox": [
           {
            "marker": {
             "colorbar": {
              "outlinewidth": 0,
              "ticks": ""
             }
            },
            "type": "scattermapbox"
           }
          ],
          "scatterpolar": [
           {
            "marker": {
             "colorbar": {
              "outlinewidth": 0,
              "ticks": ""
             }
            },
            "type": "scatterpolar"
           }
          ],
          "scatterpolargl": [
           {
            "marker": {
             "colorbar": {
              "outlinewidth": 0,
              "ticks": ""
             }
            },
            "type": "scatterpolargl"
           }
          ],
          "scatterternary": [
           {
            "marker": {
             "colorbar": {
              "outlinewidth": 0,
              "ticks": ""
             }
            },
            "type": "scatterternary"
           }
          ],
          "surface": [
           {
            "colorbar": {
             "outlinewidth": 0,
             "ticks": ""
            },
            "colorscale": [
             [
              0,
              "#0d0887"
             ],
             [
              0.1111111111111111,
              "#46039f"
             ],
             [
              0.2222222222222222,
              "#7201a8"
             ],
             [
              0.3333333333333333,
              "#9c179e"
             ],
             [
              0.4444444444444444,
              "#bd3786"
             ],
             [
              0.5555555555555556,
              "#d8576b"
             ],
             [
              0.6666666666666666,
              "#ed7953"
             ],
             [
              0.7777777777777778,
              "#fb9f3a"
             ],
             [
              0.8888888888888888,
              "#fdca26"
             ],
             [
              1,
              "#f0f921"
             ]
            ],
            "type": "surface"
           }
          ],
          "table": [
           {
            "cells": {
             "fill": {
              "color": "#EBF0F8"
             },
             "line": {
              "color": "white"
             }
            },
            "header": {
             "fill": {
              "color": "#C8D4E3"
             },
             "line": {
              "color": "white"
             }
            },
            "type": "table"
           }
          ]
         },
         "layout": {
          "annotationdefaults": {
           "arrowcolor": "#2a3f5f",
           "arrowhead": 0,
           "arrowwidth": 1
          },
          "autotypenumbers": "strict",
          "coloraxis": {
           "colorbar": {
            "outlinewidth": 0,
            "ticks": ""
           }
          },
          "colorscale": {
           "diverging": [
            [
             0,
             "#8e0152"
            ],
            [
             0.1,
             "#c51b7d"
            ],
            [
             0.2,
             "#de77ae"
            ],
            [
             0.3,
             "#f1b6da"
            ],
            [
             0.4,
             "#fde0ef"
            ],
            [
             0.5,
             "#f7f7f7"
            ],
            [
             0.6,
             "#e6f5d0"
            ],
            [
             0.7,
             "#b8e186"
            ],
            [
             0.8,
             "#7fbc41"
            ],
            [
             0.9,
             "#4d9221"
            ],
            [
             1,
             "#276419"
            ]
           ],
           "sequential": [
            [
             0,
             "#0d0887"
            ],
            [
             0.1111111111111111,
             "#46039f"
            ],
            [
             0.2222222222222222,
             "#7201a8"
            ],
            [
             0.3333333333333333,
             "#9c179e"
            ],
            [
             0.4444444444444444,
             "#bd3786"
            ],
            [
             0.5555555555555556,
             "#d8576b"
            ],
            [
             0.6666666666666666,
             "#ed7953"
            ],
            [
             0.7777777777777778,
             "#fb9f3a"
            ],
            [
             0.8888888888888888,
             "#fdca26"
            ],
            [
             1,
             "#f0f921"
            ]
           ],
           "sequentialminus": [
            [
             0,
             "#0d0887"
            ],
            [
             0.1111111111111111,
             "#46039f"
            ],
            [
             0.2222222222222222,
             "#7201a8"
            ],
            [
             0.3333333333333333,
             "#9c179e"
            ],
            [
             0.4444444444444444,
             "#bd3786"
            ],
            [
             0.5555555555555556,
             "#d8576b"
            ],
            [
             0.6666666666666666,
             "#ed7953"
            ],
            [
             0.7777777777777778,
             "#fb9f3a"
            ],
            [
             0.8888888888888888,
             "#fdca26"
            ],
            [
             1,
             "#f0f921"
            ]
           ]
          },
          "colorway": [
           "#636efa",
           "#EF553B",
           "#00cc96",
           "#ab63fa",
           "#FFA15A",
           "#19d3f3",
           "#FF6692",
           "#B6E880",
           "#FF97FF",
           "#FECB52"
          ],
          "font": {
           "color": "#2a3f5f"
          },
          "geo": {
           "bgcolor": "white",
           "lakecolor": "white",
           "landcolor": "#E5ECF6",
           "showlakes": true,
           "showland": true,
           "subunitcolor": "white"
          },
          "hoverlabel": {
           "align": "left"
          },
          "hovermode": "closest",
          "mapbox": {
           "style": "light"
          },
          "paper_bgcolor": "white",
          "plot_bgcolor": "#E5ECF6",
          "polar": {
           "angularaxis": {
            "gridcolor": "white",
            "linecolor": "white",
            "ticks": ""
           },
           "bgcolor": "#E5ECF6",
           "radialaxis": {
            "gridcolor": "white",
            "linecolor": "white",
            "ticks": ""
           }
          },
          "scene": {
           "xaxis": {
            "backgroundcolor": "#E5ECF6",
            "gridcolor": "white",
            "gridwidth": 2,
            "linecolor": "white",
            "showbackground": true,
            "ticks": "",
            "zerolinecolor": "white"
           },
           "yaxis": {
            "backgroundcolor": "#E5ECF6",
            "gridcolor": "white",
            "gridwidth": 2,
            "linecolor": "white",
            "showbackground": true,
            "ticks": "",
            "zerolinecolor": "white"
           },
           "zaxis": {
            "backgroundcolor": "#E5ECF6",
            "gridcolor": "white",
            "gridwidth": 2,
            "linecolor": "white",
            "showbackground": true,
            "ticks": "",
            "zerolinecolor": "white"
           }
          },
          "shapedefaults": {
           "line": {
            "color": "#2a3f5f"
           }
          },
          "ternary": {
           "aaxis": {
            "gridcolor": "white",
            "linecolor": "white",
            "ticks": ""
           },
           "baxis": {
            "gridcolor": "white",
            "linecolor": "white",
            "ticks": ""
           },
           "bgcolor": "#E5ECF6",
           "caxis": {
            "gridcolor": "white",
            "linecolor": "white",
            "ticks": ""
           }
          },
          "title": {
           "x": 0.05
          },
          "xaxis": {
           "automargin": true,
           "gridcolor": "white",
           "linecolor": "white",
           "ticks": "",
           "title": {
            "standoff": 15
           },
           "zerolinecolor": "white",
           "zerolinewidth": 2
          },
          "yaxis": {
           "automargin": true,
           "gridcolor": "white",
           "linecolor": "white",
           "ticks": "",
           "title": {
            "standoff": 15
           },
           "zerolinecolor": "white",
           "zerolinewidth": 2
          }
         }
        },
        "title": {
         "text": "Growth in AM v SPY"
        },
        "width": 800,
        "xaxis": {
         "anchor": "y",
         "domain": [
          0,
          1
         ],
         "title": {
          "text": "date"
         }
        },
        "yaxis": {
         "anchor": "x",
         "domain": [
          0,
          1
         ],
         "title": {
          "text": "value"
         }
        }
       }
      }
     },
     "metadata": {},
     "output_type": "display_data"
    }
   ],
   "source": [
    "graphAlpha(\"AM\", \"2015-01-15\")"
   ]
  },
  {
   "cell_type": "code",
   "execution_count": 533,
   "metadata": {},
   "outputs": [
    {
     "data": {
      "text/html": [
       "<div>\n",
       "<style scoped>\n",
       "    .dataframe tbody tr th:only-of-type {\n",
       "        vertical-align: middle;\n",
       "    }\n",
       "\n",
       "    .dataframe tbody tr th {\n",
       "        vertical-align: top;\n",
       "    }\n",
       "\n",
       "    .dataframe thead th {\n",
       "        text-align: right;\n",
       "    }\n",
       "</style>\n",
       "<table border=\"1\" class=\"dataframe\">\n",
       "  <thead>\n",
       "    <tr style=\"text-align: right;\">\n",
       "      <th></th>\n",
       "      <th>transaction_date</th>\n",
       "      <th>owner</th>\n",
       "      <th>ticker</th>\n",
       "      <th>asset_description</th>\n",
       "      <th>asset_type</th>\n",
       "      <th>type</th>\n",
       "    </tr>\n",
       "  </thead>\n",
       "  <tbody>\n",
       "    <tr>\n",
       "      <th>2404</th>\n",
       "      <td>2020-03-06</td>\n",
       "      <td>Joint</td>\n",
       "      <td>BRK-B</td>\n",
       "      <td>Berkshire Hathaway Inc.</td>\n",
       "      <td>Stock</td>\n",
       "      <td>Purchase</td>\n",
       "    </tr>\n",
       "    <tr>\n",
       "      <th>2406</th>\n",
       "      <td>2020-03-06</td>\n",
       "      <td>Joint</td>\n",
       "      <td>BRK-B</td>\n",
       "      <td>Berkshire Hathaway Inc.</td>\n",
       "      <td>Stock</td>\n",
       "      <td>Purchase</td>\n",
       "    </tr>\n",
       "    <tr>\n",
       "      <th>2408</th>\n",
       "      <td>2020-03-09</td>\n",
       "      <td>Joint</td>\n",
       "      <td>BRK-B</td>\n",
       "      <td>Berkshire Hathaway Inc.</td>\n",
       "      <td>Stock</td>\n",
       "      <td>Purchase</td>\n",
       "    </tr>\n",
       "    <tr>\n",
       "      <th>2409</th>\n",
       "      <td>2020-03-10</td>\n",
       "      <td>Joint</td>\n",
       "      <td>MSM</td>\n",
       "      <td>MSC Industrial Direct Co., Inc.</td>\n",
       "      <td>Stock</td>\n",
       "      <td>Purchase</td>\n",
       "    </tr>\n",
       "    <tr>\n",
       "      <th>2410</th>\n",
       "      <td>2020-03-10</td>\n",
       "      <td>Joint</td>\n",
       "      <td>M</td>\n",
       "      <td>Macy's, Inc.</td>\n",
       "      <td>Stock</td>\n",
       "      <td>Purchase</td>\n",
       "    </tr>\n",
       "    <tr>\n",
       "      <th>2411</th>\n",
       "      <td>2020-03-10</td>\n",
       "      <td>Joint</td>\n",
       "      <td>NWSA</td>\n",
       "      <td>News Corporation</td>\n",
       "      <td>Stock</td>\n",
       "      <td>Purchase</td>\n",
       "    </tr>\n",
       "    <tr>\n",
       "      <th>2412</th>\n",
       "      <td>2020-03-10</td>\n",
       "      <td>Joint</td>\n",
       "      <td>FOXA</td>\n",
       "      <td>Fox Corporation</td>\n",
       "      <td>Stock</td>\n",
       "      <td>Purchase</td>\n",
       "    </tr>\n",
       "    <tr>\n",
       "      <th>2413</th>\n",
       "      <td>2020-03-10</td>\n",
       "      <td>Joint</td>\n",
       "      <td>EAF</td>\n",
       "      <td>GrafTech International Ltd.</td>\n",
       "      <td>Stock</td>\n",
       "      <td>Purchase</td>\n",
       "    </tr>\n",
       "    <tr>\n",
       "      <th>2415</th>\n",
       "      <td>2020-03-13</td>\n",
       "      <td>Joint</td>\n",
       "      <td>ENB</td>\n",
       "      <td>Enbridge Inc.</td>\n",
       "      <td>Stock</td>\n",
       "      <td>Purchase</td>\n",
       "    </tr>\n",
       "    <tr>\n",
       "      <th>2418</th>\n",
       "      <td>2020-03-13</td>\n",
       "      <td>Joint</td>\n",
       "      <td>TRP</td>\n",
       "      <td>TC Energy Corporation</td>\n",
       "      <td>Stock</td>\n",
       "      <td>Purchase</td>\n",
       "    </tr>\n",
       "  </tbody>\n",
       "</table>\n",
       "</div>"
      ],
      "text/plain": [
       "     transaction_date  owner ticker                asset_description  \\\n",
       "2404       2020-03-06  Joint  BRK-B          Berkshire Hathaway Inc.   \n",
       "2406       2020-03-06  Joint  BRK-B          Berkshire Hathaway Inc.   \n",
       "2408       2020-03-09  Joint  BRK-B          Berkshire Hathaway Inc.   \n",
       "2409       2020-03-10  Joint    MSM  MSC Industrial Direct Co., Inc.   \n",
       "2410       2020-03-10  Joint      M                     Macy's, Inc.   \n",
       "2411       2020-03-10  Joint   NWSA                 News Corporation   \n",
       "2412       2020-03-10  Joint   FOXA                  Fox Corporation   \n",
       "2413       2020-03-10  Joint    EAF      GrafTech International Ltd.   \n",
       "2415       2020-03-13  Joint    ENB                    Enbridge Inc.   \n",
       "2418       2020-03-13  Joint    TRP            TC Energy Corporation   \n",
       "\n",
       "     asset_type      type  \n",
       "2404      Stock  Purchase  \n",
       "2406      Stock  Purchase  \n",
       "2408      Stock  Purchase  \n",
       "2409      Stock  Purchase  \n",
       "2410      Stock  Purchase  \n",
       "2411      Stock  Purchase  \n",
       "2412      Stock  Purchase  \n",
       "2413      Stock  Purchase  \n",
       "2415      Stock  Purchase  \n",
       "2418      Stock  Purchase  "
      ]
     },
     "execution_count": 533,
     "metadata": {},
     "output_type": "execute_result"
    }
   ],
   "source": [
    "# purchasesBySenator(136).iloc[-90:-80, :]\n",
    "purchasesBySenator(136).iloc[20:30]"
   ]
  },
  {
   "cell_type": "code",
   "execution_count": 534,
   "metadata": {},
   "outputs": [
    {
     "data": {
      "application/vnd.plotly.v1+json": {
       "config": {
        "plotlyServerURL": "https://plot.ly"
       },
       "data": [
        {
         "hovertemplate": "variable=M_growth<br>date=%{x}<br>value=%{y}<extra></extra>",
         "legendgroup": "M_growth",
         "line": {
          "color": "#636efa",
          "dash": "solid"
         },
         "marker": {
          "symbol": "circle"
         },
         "mode": "lines",
         "name": "M_growth",
         "orientation": "v",
         "showlegend": true,
         "type": "scatter",
         "x": [
          "2020-03-13T00:00:00",
          "2020-03-20T00:00:00",
          "2020-03-27T00:00:00",
          "2020-04-03T00:00:00",
          "2020-04-09T00:00:00",
          "2020-04-17T00:00:00",
          "2020-04-24T00:00:00",
          "2020-05-01T00:00:00",
          "2020-05-08T00:00:00",
          "2020-05-15T00:00:00",
          "2020-05-22T00:00:00",
          "2020-05-29T00:00:00",
          "2020-06-05T00:00:00",
          "2020-06-12T00:00:00",
          "2020-06-19T00:00:00",
          "2020-06-26T00:00:00",
          "2020-07-02T00:00:00",
          "2020-07-10T00:00:00",
          "2020-07-17T00:00:00",
          "2020-07-24T00:00:00",
          "2020-07-31T00:00:00",
          "2020-08-07T00:00:00",
          "2020-08-14T00:00:00",
          "2020-08-21T00:00:00",
          "2020-08-28T00:00:00",
          "2020-09-04T00:00:00",
          "2020-09-11T00:00:00",
          "2020-09-18T00:00:00",
          "2020-09-25T00:00:00",
          "2020-10-02T00:00:00",
          "2020-10-09T00:00:00",
          "2020-10-16T00:00:00",
          "2020-10-23T00:00:00",
          "2020-10-30T00:00:00",
          "2020-11-06T00:00:00",
          "2020-11-13T00:00:00",
          "2020-11-20T00:00:00",
          "2020-11-27T00:00:00",
          "2020-12-04T00:00:00",
          "2020-12-11T00:00:00",
          "2020-12-18T00:00:00",
          "2020-12-24T00:00:00",
          "2020-12-31T00:00:00",
          "2021-01-08T00:00:00",
          "2021-01-15T00:00:00",
          "2021-01-22T00:00:00",
          "2021-01-29T00:00:00",
          "2021-02-05T00:00:00",
          "2021-02-12T00:00:00",
          "2021-02-19T00:00:00",
          "2021-02-26T00:00:00",
          "2021-03-05T00:00:00"
         ],
         "xaxis": "x",
         "y": [
          null,
          100,
          91.8601446779194,
          79.900103341371,
          110.63038236307267,
          98.33792628315535,
          83.38787461246984,
          89.03548053737511,
          89.2025490871512,
          88.20530485704441,
          86.54495349638303,
          105.64760592490524,
          145.68033069238714,
          121.26248708232859,
          114.28522218394761,
          99.99999999999999,
          112.95728556665517,
          112.45780227351015,
          110.46503616947984,
          107.14261109197382,
          100.66482948673786,
          109.96727523251809,
          119.43506717189116,
          103.9872545642439,
          115.44781260764728,
          127.07543920082675,
          117.10988632449192,
          112.29245607991734,
          100.16534619359284,
          99.83293145022391,
          103.48777127109886,
          102.32518084739925,
          120.09989665862902,
          103.15535652772996,
          109.13537719600417,
          122.25800895625218,
          150.33241474336896,
          180.23251808473995,
          194.68308646228041,
          184.05270409920772,
          173.25525318635894,
          178.57044436789528,
          186.87736823975195,
          203.98553220806062,
          216.11264209438508,
          213.9528074405787,
          249.8329314502239,
          250.33069238718565,
          247.1753358594557,
          248.67034102652423,
          252.65759559076815,
          251.1625904236996
         ],
         "yaxis": "y"
        },
        {
         "hovertemplate": "variable=SPY_growth<br>date=%{x}<br>value=%{y}<extra></extra>",
         "legendgroup": "SPY_growth",
         "line": {
          "color": "#EF553B",
          "dash": "solid"
         },
         "marker": {
          "symbol": "circle"
         },
         "mode": "lines",
         "name": "SPY_growth",
         "orientation": "v",
         "showlegend": true,
         "type": "scatter",
         "x": [
          "2020-03-13T00:00:00",
          "2020-03-20T00:00:00",
          "2020-03-27T00:00:00",
          "2020-04-03T00:00:00",
          "2020-04-09T00:00:00",
          "2020-04-17T00:00:00",
          "2020-04-24T00:00:00",
          "2020-05-01T00:00:00",
          "2020-05-08T00:00:00",
          "2020-05-15T00:00:00",
          "2020-05-22T00:00:00",
          "2020-05-29T00:00:00",
          "2020-06-05T00:00:00",
          "2020-06-12T00:00:00",
          "2020-06-19T00:00:00",
          "2020-06-26T00:00:00",
          "2020-07-02T00:00:00",
          "2020-07-10T00:00:00",
          "2020-07-17T00:00:00",
          "2020-07-24T00:00:00",
          "2020-07-31T00:00:00",
          "2020-08-07T00:00:00",
          "2020-08-14T00:00:00",
          "2020-08-21T00:00:00",
          "2020-08-28T00:00:00",
          "2020-09-04T00:00:00",
          "2020-09-11T00:00:00",
          "2020-09-18T00:00:00",
          "2020-09-25T00:00:00",
          "2020-10-02T00:00:00",
          "2020-10-09T00:00:00",
          "2020-10-16T00:00:00",
          "2020-10-23T00:00:00",
          "2020-10-30T00:00:00",
          "2020-11-06T00:00:00",
          "2020-11-13T00:00:00",
          "2020-11-20T00:00:00",
          "2020-11-27T00:00:00",
          "2020-12-04T00:00:00",
          "2020-12-11T00:00:00",
          "2020-12-18T00:00:00",
          "2020-12-24T00:00:00",
          "2020-12-31T00:00:00",
          "2021-01-08T00:00:00",
          "2021-01-15T00:00:00",
          "2021-01-22T00:00:00",
          "2021-01-29T00:00:00",
          "2021-02-05T00:00:00",
          "2021-02-12T00:00:00",
          "2021-02-19T00:00:00",
          "2021-02-26T00:00:00",
          "2021-03-05T00:00:00"
         ],
         "xaxis": "x",
         "y": [
          null,
          100,
          110.76051071322412,
          108.47464472666132,
          121.59090754384333,
          125.27971464681418,
          123.67569211081035,
          123.59704753844305,
          127.8146747232351,
          125.12238012148387,
          129.12590165571106,
          133.00698634270972,
          139.57169793767883,
          132.9589282918517,
          135.492254666827,
          131.7212633050234,
          137.06823199468138,
          139.42126126289662,
          141.2343522033414,
          140.86558948259315,
          143.34150940399397,
          146.87543253380287,
          147.8719904156182,
          149.03092006888778,
          153.9037976751521,
          150.38743683588336,
          146.65157005516014,
          145.7425059618758,
          144.89620323245984,
          147.14857833938788,
          152.8830519358228,
          153.07700860189195,
          152.41145678519328,
          143.9309125810895,
          154.34203808793404,
          157.8417896291725,
          156.6208247015659,
          160.29692523773764,
          163.0208954952952,
          161.45617255517718,
          163.42201458078546,
          163.3423262547168,
          165.5025333717556,
          168.7693916958048,
          166.3081750874144,
          169.4864958692313,
          163.81596353215332,
          171.62455725556313,
          173.80686472271324,
          172.65152013650484,
          168.37099544605724,
          169.81850030745355
         ],
         "yaxis": "y"
        }
       ],
       "layout": {
        "height": 500,
        "legend": {
         "title": {
          "text": "variable"
         },
         "tracegroupgap": 0
        },
        "template": {
         "data": {
          "bar": [
           {
            "error_x": {
             "color": "#2a3f5f"
            },
            "error_y": {
             "color": "#2a3f5f"
            },
            "marker": {
             "line": {
              "color": "#E5ECF6",
              "width": 0.5
             },
             "pattern": {
              "fillmode": "overlay",
              "size": 10,
              "solidity": 0.2
             }
            },
            "type": "bar"
           }
          ],
          "barpolar": [
           {
            "marker": {
             "line": {
              "color": "#E5ECF6",
              "width": 0.5
             },
             "pattern": {
              "fillmode": "overlay",
              "size": 10,
              "solidity": 0.2
             }
            },
            "type": "barpolar"
           }
          ],
          "carpet": [
           {
            "aaxis": {
             "endlinecolor": "#2a3f5f",
             "gridcolor": "white",
             "linecolor": "white",
             "minorgridcolor": "white",
             "startlinecolor": "#2a3f5f"
            },
            "baxis": {
             "endlinecolor": "#2a3f5f",
             "gridcolor": "white",
             "linecolor": "white",
             "minorgridcolor": "white",
             "startlinecolor": "#2a3f5f"
            },
            "type": "carpet"
           }
          ],
          "choropleth": [
           {
            "colorbar": {
             "outlinewidth": 0,
             "ticks": ""
            },
            "type": "choropleth"
           }
          ],
          "contour": [
           {
            "colorbar": {
             "outlinewidth": 0,
             "ticks": ""
            },
            "colorscale": [
             [
              0,
              "#0d0887"
             ],
             [
              0.1111111111111111,
              "#46039f"
             ],
             [
              0.2222222222222222,
              "#7201a8"
             ],
             [
              0.3333333333333333,
              "#9c179e"
             ],
             [
              0.4444444444444444,
              "#bd3786"
             ],
             [
              0.5555555555555556,
              "#d8576b"
             ],
             [
              0.6666666666666666,
              "#ed7953"
             ],
             [
              0.7777777777777778,
              "#fb9f3a"
             ],
             [
              0.8888888888888888,
              "#fdca26"
             ],
             [
              1,
              "#f0f921"
             ]
            ],
            "type": "contour"
           }
          ],
          "contourcarpet": [
           {
            "colorbar": {
             "outlinewidth": 0,
             "ticks": ""
            },
            "type": "contourcarpet"
           }
          ],
          "heatmap": [
           {
            "colorbar": {
             "outlinewidth": 0,
             "ticks": ""
            },
            "colorscale": [
             [
              0,
              "#0d0887"
             ],
             [
              0.1111111111111111,
              "#46039f"
             ],
             [
              0.2222222222222222,
              "#7201a8"
             ],
             [
              0.3333333333333333,
              "#9c179e"
             ],
             [
              0.4444444444444444,
              "#bd3786"
             ],
             [
              0.5555555555555556,
              "#d8576b"
             ],
             [
              0.6666666666666666,
              "#ed7953"
             ],
             [
              0.7777777777777778,
              "#fb9f3a"
             ],
             [
              0.8888888888888888,
              "#fdca26"
             ],
             [
              1,
              "#f0f921"
             ]
            ],
            "type": "heatmap"
           }
          ],
          "heatmapgl": [
           {
            "colorbar": {
             "outlinewidth": 0,
             "ticks": ""
            },
            "colorscale": [
             [
              0,
              "#0d0887"
             ],
             [
              0.1111111111111111,
              "#46039f"
             ],
             [
              0.2222222222222222,
              "#7201a8"
             ],
             [
              0.3333333333333333,
              "#9c179e"
             ],
             [
              0.4444444444444444,
              "#bd3786"
             ],
             [
              0.5555555555555556,
              "#d8576b"
             ],
             [
              0.6666666666666666,
              "#ed7953"
             ],
             [
              0.7777777777777778,
              "#fb9f3a"
             ],
             [
              0.8888888888888888,
              "#fdca26"
             ],
             [
              1,
              "#f0f921"
             ]
            ],
            "type": "heatmapgl"
           }
          ],
          "histogram": [
           {
            "marker": {
             "pattern": {
              "fillmode": "overlay",
              "size": 10,
              "solidity": 0.2
             }
            },
            "type": "histogram"
           }
          ],
          "histogram2d": [
           {
            "colorbar": {
             "outlinewidth": 0,
             "ticks": ""
            },
            "colorscale": [
             [
              0,
              "#0d0887"
             ],
             [
              0.1111111111111111,
              "#46039f"
             ],
             [
              0.2222222222222222,
              "#7201a8"
             ],
             [
              0.3333333333333333,
              "#9c179e"
             ],
             [
              0.4444444444444444,
              "#bd3786"
             ],
             [
              0.5555555555555556,
              "#d8576b"
             ],
             [
              0.6666666666666666,
              "#ed7953"
             ],
             [
              0.7777777777777778,
              "#fb9f3a"
             ],
             [
              0.8888888888888888,
              "#fdca26"
             ],
             [
              1,
              "#f0f921"
             ]
            ],
            "type": "histogram2d"
           }
          ],
          "histogram2dcontour": [
           {
            "colorbar": {
             "outlinewidth": 0,
             "ticks": ""
            },
            "colorscale": [
             [
              0,
              "#0d0887"
             ],
             [
              0.1111111111111111,
              "#46039f"
             ],
             [
              0.2222222222222222,
              "#7201a8"
             ],
             [
              0.3333333333333333,
              "#9c179e"
             ],
             [
              0.4444444444444444,
              "#bd3786"
             ],
             [
              0.5555555555555556,
              "#d8576b"
             ],
             [
              0.6666666666666666,
              "#ed7953"
             ],
             [
              0.7777777777777778,
              "#fb9f3a"
             ],
             [
              0.8888888888888888,
              "#fdca26"
             ],
             [
              1,
              "#f0f921"
             ]
            ],
            "type": "histogram2dcontour"
           }
          ],
          "mesh3d": [
           {
            "colorbar": {
             "outlinewidth": 0,
             "ticks": ""
            },
            "type": "mesh3d"
           }
          ],
          "parcoords": [
           {
            "line": {
             "colorbar": {
              "outlinewidth": 0,
              "ticks": ""
             }
            },
            "type": "parcoords"
           }
          ],
          "pie": [
           {
            "automargin": true,
            "type": "pie"
           }
          ],
          "scatter": [
           {
            "fillpattern": {
             "fillmode": "overlay",
             "size": 10,
             "solidity": 0.2
            },
            "type": "scatter"
           }
          ],
          "scatter3d": [
           {
            "line": {
             "colorbar": {
              "outlinewidth": 0,
              "ticks": ""
             }
            },
            "marker": {
             "colorbar": {
              "outlinewidth": 0,
              "ticks": ""
             }
            },
            "type": "scatter3d"
           }
          ],
          "scattercarpet": [
           {
            "marker": {
             "colorbar": {
              "outlinewidth": 0,
              "ticks": ""
             }
            },
            "type": "scattercarpet"
           }
          ],
          "scattergeo": [
           {
            "marker": {
             "colorbar": {
              "outlinewidth": 0,
              "ticks": ""
             }
            },
            "type": "scattergeo"
           }
          ],
          "scattergl": [
           {
            "marker": {
             "colorbar": {
              "outlinewidth": 0,
              "ticks": ""
             }
            },
            "type": "scattergl"
           }
          ],
          "scattermapbox": [
           {
            "marker": {
             "colorbar": {
              "outlinewidth": 0,
              "ticks": ""
             }
            },
            "type": "scattermapbox"
           }
          ],
          "scatterpolar": [
           {
            "marker": {
             "colorbar": {
              "outlinewidth": 0,
              "ticks": ""
             }
            },
            "type": "scatterpolar"
           }
          ],
          "scatterpolargl": [
           {
            "marker": {
             "colorbar": {
              "outlinewidth": 0,
              "ticks": ""
             }
            },
            "type": "scatterpolargl"
           }
          ],
          "scatterternary": [
           {
            "marker": {
             "colorbar": {
              "outlinewidth": 0,
              "ticks": ""
             }
            },
            "type": "scatterternary"
           }
          ],
          "surface": [
           {
            "colorbar": {
             "outlinewidth": 0,
             "ticks": ""
            },
            "colorscale": [
             [
              0,
              "#0d0887"
             ],
             [
              0.1111111111111111,
              "#46039f"
             ],
             [
              0.2222222222222222,
              "#7201a8"
             ],
             [
              0.3333333333333333,
              "#9c179e"
             ],
             [
              0.4444444444444444,
              "#bd3786"
             ],
             [
              0.5555555555555556,
              "#d8576b"
             ],
             [
              0.6666666666666666,
              "#ed7953"
             ],
             [
              0.7777777777777778,
              "#fb9f3a"
             ],
             [
              0.8888888888888888,
              "#fdca26"
             ],
             [
              1,
              "#f0f921"
             ]
            ],
            "type": "surface"
           }
          ],
          "table": [
           {
            "cells": {
             "fill": {
              "color": "#EBF0F8"
             },
             "line": {
              "color": "white"
             }
            },
            "header": {
             "fill": {
              "color": "#C8D4E3"
             },
             "line": {
              "color": "white"
             }
            },
            "type": "table"
           }
          ]
         },
         "layout": {
          "annotationdefaults": {
           "arrowcolor": "#2a3f5f",
           "arrowhead": 0,
           "arrowwidth": 1
          },
          "autotypenumbers": "strict",
          "coloraxis": {
           "colorbar": {
            "outlinewidth": 0,
            "ticks": ""
           }
          },
          "colorscale": {
           "diverging": [
            [
             0,
             "#8e0152"
            ],
            [
             0.1,
             "#c51b7d"
            ],
            [
             0.2,
             "#de77ae"
            ],
            [
             0.3,
             "#f1b6da"
            ],
            [
             0.4,
             "#fde0ef"
            ],
            [
             0.5,
             "#f7f7f7"
            ],
            [
             0.6,
             "#e6f5d0"
            ],
            [
             0.7,
             "#b8e186"
            ],
            [
             0.8,
             "#7fbc41"
            ],
            [
             0.9,
             "#4d9221"
            ],
            [
             1,
             "#276419"
            ]
           ],
           "sequential": [
            [
             0,
             "#0d0887"
            ],
            [
             0.1111111111111111,
             "#46039f"
            ],
            [
             0.2222222222222222,
             "#7201a8"
            ],
            [
             0.3333333333333333,
             "#9c179e"
            ],
            [
             0.4444444444444444,
             "#bd3786"
            ],
            [
             0.5555555555555556,
             "#d8576b"
            ],
            [
             0.6666666666666666,
             "#ed7953"
            ],
            [
             0.7777777777777778,
             "#fb9f3a"
            ],
            [
             0.8888888888888888,
             "#fdca26"
            ],
            [
             1,
             "#f0f921"
            ]
           ],
           "sequentialminus": [
            [
             0,
             "#0d0887"
            ],
            [
             0.1111111111111111,
             "#46039f"
            ],
            [
             0.2222222222222222,
             "#7201a8"
            ],
            [
             0.3333333333333333,
             "#9c179e"
            ],
            [
             0.4444444444444444,
             "#bd3786"
            ],
            [
             0.5555555555555556,
             "#d8576b"
            ],
            [
             0.6666666666666666,
             "#ed7953"
            ],
            [
             0.7777777777777778,
             "#fb9f3a"
            ],
            [
             0.8888888888888888,
             "#fdca26"
            ],
            [
             1,
             "#f0f921"
            ]
           ]
          },
          "colorway": [
           "#636efa",
           "#EF553B",
           "#00cc96",
           "#ab63fa",
           "#FFA15A",
           "#19d3f3",
           "#FF6692",
           "#B6E880",
           "#FF97FF",
           "#FECB52"
          ],
          "font": {
           "color": "#2a3f5f"
          },
          "geo": {
           "bgcolor": "white",
           "lakecolor": "white",
           "landcolor": "#E5ECF6",
           "showlakes": true,
           "showland": true,
           "subunitcolor": "white"
          },
          "hoverlabel": {
           "align": "left"
          },
          "hovermode": "closest",
          "mapbox": {
           "style": "light"
          },
          "paper_bgcolor": "white",
          "plot_bgcolor": "#E5ECF6",
          "polar": {
           "angularaxis": {
            "gridcolor": "white",
            "linecolor": "white",
            "ticks": ""
           },
           "bgcolor": "#E5ECF6",
           "radialaxis": {
            "gridcolor": "white",
            "linecolor": "white",
            "ticks": ""
           }
          },
          "scene": {
           "xaxis": {
            "backgroundcolor": "#E5ECF6",
            "gridcolor": "white",
            "gridwidth": 2,
            "linecolor": "white",
            "showbackground": true,
            "ticks": "",
            "zerolinecolor": "white"
           },
           "yaxis": {
            "backgroundcolor": "#E5ECF6",
            "gridcolor": "white",
            "gridwidth": 2,
            "linecolor": "white",
            "showbackground": true,
            "ticks": "",
            "zerolinecolor": "white"
           },
           "zaxis": {
            "backgroundcolor": "#E5ECF6",
            "gridcolor": "white",
            "gridwidth": 2,
            "linecolor": "white",
            "showbackground": true,
            "ticks": "",
            "zerolinecolor": "white"
           }
          },
          "shapedefaults": {
           "line": {
            "color": "#2a3f5f"
           }
          },
          "ternary": {
           "aaxis": {
            "gridcolor": "white",
            "linecolor": "white",
            "ticks": ""
           },
           "baxis": {
            "gridcolor": "white",
            "linecolor": "white",
            "ticks": ""
           },
           "bgcolor": "#E5ECF6",
           "caxis": {
            "gridcolor": "white",
            "linecolor": "white",
            "ticks": ""
           }
          },
          "title": {
           "x": 0.05
          },
          "xaxis": {
           "automargin": true,
           "gridcolor": "white",
           "linecolor": "white",
           "ticks": "",
           "title": {
            "standoff": 15
           },
           "zerolinecolor": "white",
           "zerolinewidth": 2
          },
          "yaxis": {
           "automargin": true,
           "gridcolor": "white",
           "linecolor": "white",
           "ticks": "",
           "title": {
            "standoff": 15
           },
           "zerolinecolor": "white",
           "zerolinewidth": 2
          }
         }
        },
        "title": {
         "text": "Growth in M v SPY"
        },
        "width": 800,
        "xaxis": {
         "anchor": "y",
         "domain": [
          0,
          1
         ],
         "title": {
          "text": "date"
         }
        },
        "yaxis": {
         "anchor": "x",
         "domain": [
          0,
          1
         ],
         "title": {
          "text": "value"
         }
        }
       }
      }
     },
     "metadata": {},
     "output_type": "display_data"
    }
   ],
   "source": [
    "graphAlpha(\"M\", \"2020-03-10\")"
   ]
  },
  {
   "cell_type": "markdown",
   "metadata": {},
   "source": [
    "here's a great example of why we need more information. Its true Macy's had a big run, but this run was 6 months after the purchase, and it was preceeded by a smaller run. Hard to say if the first run was the reason for the purcahse or not. Lets modify the graph alpha function to indicate all transacions (purcahses and sales) of one asset by a senator within the measurement window (1 year)"
   ]
  },
  {
   "cell_type": "code",
   "execution_count": null,
   "metadata": {},
   "outputs": [],
   "source": []
  },
  {
   "cell_type": "code",
   "execution_count": 535,
   "metadata": {},
   "outputs": [
    {
     "name": "stdout",
     "output_type": "stream",
     "text": [
      "looks like this senator bought then sold a few weeks later, thereby missing the second Macy's second big run \n"
     ]
    },
    {
     "data": {
      "text/html": [
       "<div>\n",
       "<style scoped>\n",
       "    .dataframe tbody tr th:only-of-type {\n",
       "        vertical-align: middle;\n",
       "    }\n",
       "\n",
       "    .dataframe tbody tr th {\n",
       "        vertical-align: top;\n",
       "    }\n",
       "\n",
       "    .dataframe thead th {\n",
       "        text-align: right;\n",
       "    }\n",
       "</style>\n",
       "<table border=\"1\" class=\"dataframe\">\n",
       "  <thead>\n",
       "    <tr style=\"text-align: right;\">\n",
       "      <th></th>\n",
       "      <th>transaction_date</th>\n",
       "      <th>type</th>\n",
       "      <th>amount</th>\n",
       "      <th>senator</th>\n",
       "      <th>ticker</th>\n",
       "    </tr>\n",
       "  </thead>\n",
       "  <tbody>\n",
       "    <tr>\n",
       "      <th>1980</th>\n",
       "      <td>2020-04-14</td>\n",
       "      <td>Sale (Full)</td>\n",
       "      <td>$15,001 - $50,000</td>\n",
       "      <td>David A Perdue , Jr</td>\n",
       "      <td>M</td>\n",
       "    </tr>\n",
       "    <tr>\n",
       "      <th>2410</th>\n",
       "      <td>2020-03-10</td>\n",
       "      <td>Purchase</td>\n",
       "      <td>$1,001 - $15,000</td>\n",
       "      <td>David A Perdue , Jr</td>\n",
       "      <td>M</td>\n",
       "    </tr>\n",
       "    <tr>\n",
       "      <th>2466</th>\n",
       "      <td>2020-03-20</td>\n",
       "      <td>Purchase</td>\n",
       "      <td>$1,001 - $15,000</td>\n",
       "      <td>David A Perdue , Jr</td>\n",
       "      <td>M</td>\n",
       "    </tr>\n",
       "  </tbody>\n",
       "</table>\n",
       "</div>"
      ],
      "text/plain": [
       "     transaction_date         type             amount              senator  \\\n",
       "1980       2020-04-14  Sale (Full)  $15,001 - $50,000  David A Perdue , Jr   \n",
       "2410       2020-03-10     Purchase   $1,001 - $15,000  David A Perdue , Jr   \n",
       "2466       2020-03-20     Purchase   $1,001 - $15,000  David A Perdue , Jr   \n",
       "\n",
       "     ticker  \n",
       "1980      M  \n",
       "2410      M  \n",
       "2466      M  "
      ]
     },
     "execution_count": 535,
     "metadata": {},
     "output_type": "execute_result"
    }
   ],
   "source": [
    "from dateutil.relativedelta import  relativedelta\n",
    "\n",
    "transactions['transaction_date'] = pd.to_datetime(transactions['transaction_date'])\n",
    "\n",
    "\n",
    "def findRelevantTransactions(senId, date, ticker):\n",
    "    startDate = pd.to_datetime(date)\n",
    "    endDate = startDate + relativedelta(years=1)\n",
    "    \n",
    "    afterStartDate = transactions['transaction_date']>= startDate\n",
    "    beforeEndDate = transactions['transaction_date']< endDate\n",
    "    isStock = transactions['asset_type']==\"Stock\"\n",
    "    isSenator = transactions['senatorId']==senId\n",
    "    isTicker = transactions['ticker']==ticker\n",
    "\n",
    "    rez = transactions[afterStartDate & beforeEndDate & isStock & isSenator & isTicker]\n",
    "\n",
    "    return rez \n",
    "\n",
    "\n",
    "\n",
    "print(\"looks like this senator bought then sold a few weeks later, thereby missing the second Macy's second big run \")\n",
    "\n",
    "macysTransactions = findRelevantTransactions(136, \"2020-03-10\", \"M\")[['transaction_date', 'type','amount', 'senator', 'ticker']]\n",
    "macysTransactions"
   ]
  },
  {
   "cell_type": "code",
   "execution_count": 556,
   "metadata": {},
   "outputs": [
    {
     "data": {
      "text/plain": [
       "{'2020-04-17': 'Sale (Full)',\n",
       " '2020-03-13': 'Purchase',\n",
       " '2020-03-20': 'Purchase'}"
      ]
     },
     "execution_count": 556,
     "metadata": {},
     "output_type": "execute_result"
    }
   ],
   "source": [
    "# from datetime import datetime\n",
    "import datetime\n",
    "#generate map of dates and transaction types \n",
    "dates = macysTransactions['transaction_date'].to_list()\n",
    "transTypes = macysTransactions['type'].to_list()\n",
    "\n",
    "#calculate the closest friday to merge with historical prices table (weekly data)\n",
    "def nearestFriday(inputDate):\n",
    "    fridayDelta = datetime.timedelta( (4-inputDate.weekday()) % 7 )\n",
    "    nearestFriday = inputDate + fridayDelta\n",
    "    nearestFridayString = datetime.datetime.strftime(nearestFriday , \"%Y-%m-%d\")\n",
    "    return nearestFridayString\n",
    "\n",
    "fridayDates  = [nearestFriday(d) for d in dates]\n",
    "\n",
    "transactionMap = dict(zip(fridayDates, transTypes))\n",
    "\n",
    "\n",
    "\n",
    "transactionMap "
   ]
  },
  {
   "cell_type": "code",
   "execution_count": 587,
   "metadata": {},
   "outputs": [
    {
     "data": {
      "text/html": [
       "<div>\n",
       "<style scoped>\n",
       "    .dataframe tbody tr th:only-of-type {\n",
       "        vertical-align: middle;\n",
       "    }\n",
       "\n",
       "    .dataframe tbody tr th {\n",
       "        vertical-align: top;\n",
       "    }\n",
       "\n",
       "    .dataframe thead th {\n",
       "        text-align: right;\n",
       "    }\n",
       "</style>\n",
       "<table border=\"1\" class=\"dataframe\">\n",
       "  <thead>\n",
       "    <tr style=\"text-align: right;\">\n",
       "      <th></th>\n",
       "      <th>date</th>\n",
       "      <th>M</th>\n",
       "      <th>SPY</th>\n",
       "      <th>transactionType</th>\n",
       "      <th>transactionValue</th>\n",
       "    </tr>\n",
       "  </thead>\n",
       "  <tbody>\n",
       "    <tr>\n",
       "      <th>141</th>\n",
       "      <td>2020-03-13</td>\n",
       "      <td>7.7445</td>\n",
       "      <td>257.7998</td>\n",
       "      <td>Purchase</td>\n",
       "      <td>7.7445</td>\n",
       "    </tr>\n",
       "    <tr>\n",
       "      <th>140</th>\n",
       "      <td>2020-03-20</td>\n",
       "      <td>5.8060</td>\n",
       "      <td>220.3585</td>\n",
       "      <td>Purchase</td>\n",
       "      <td>5.8060</td>\n",
       "    </tr>\n",
       "    <tr>\n",
       "      <th>139</th>\n",
       "      <td>2020-03-27</td>\n",
       "      <td>5.3334</td>\n",
       "      <td>244.0702</td>\n",
       "      <td>NaN</td>\n",
       "      <td>NaN</td>\n",
       "    </tr>\n",
       "    <tr>\n",
       "      <th>138</th>\n",
       "      <td>2020-04-03</td>\n",
       "      <td>4.6390</td>\n",
       "      <td>239.0331</td>\n",
       "      <td>NaN</td>\n",
       "      <td>NaN</td>\n",
       "    </tr>\n",
       "    <tr>\n",
       "      <th>137</th>\n",
       "      <td>2020-04-09</td>\n",
       "      <td>6.4232</td>\n",
       "      <td>267.9359</td>\n",
       "      <td>NaN</td>\n",
       "      <td>NaN</td>\n",
       "    </tr>\n",
       "  </tbody>\n",
       "</table>\n",
       "</div>"
      ],
      "text/plain": [
       "           date       M       SPY transactionType  transactionValue\n",
       "141  2020-03-13  7.7445  257.7998        Purchase            7.7445\n",
       "140  2020-03-20  5.8060  220.3585        Purchase            5.8060\n",
       "139  2020-03-27  5.3334  244.0702             NaN               NaN\n",
       "138  2020-04-03  4.6390  239.0331             NaN               NaN\n",
       "137  2020-04-09  6.4232  267.9359             NaN               NaN"
      ]
     },
     "execution_count": 587,
     "metadata": {},
     "output_type": "execute_result"
    }
   ],
   "source": [
    "\n",
    "# putting it all together\n",
    "# find relevant transactions\n",
    "def historicalPricesWithTransaction(senatorIdInput, dateInput,tickerInput ):\n",
    "    relevantTransactions = findRelevantTransactions(senatorIdInput, dateInput,tickerInput)\n",
    "\n",
    "    dates = relevantTransactions['transaction_date'].to_list()\n",
    "    transTypes = relevantTransactions['type'].to_list()\n",
    "    fridayDates  = [nearestFriday(d) for d in dates]\n",
    "    transactionMap = dict(zip(fridayDates, transTypes)) \n",
    "\n",
    "    hist = generateHistoricalPricesTable(tickerInput, dateInput)\n",
    "\n",
    "    hist['date']  = hist['date'].dt.strftime(\"%Y-%m-%d\")\n",
    "\n",
    "    mappedColumn = []\n",
    "    isTransaction = []\n",
    "\n",
    "\n",
    "\n",
    "    for date in hist['date'].to_list():\n",
    "        if date in transactionMap.keys():\n",
    "            mappedColumn.append(transactionMap[date])\n",
    "        else:\n",
    "            mappedColumn.append(np.nan)\n",
    "            # mappedColumn.append('fill')\n",
    "\n",
    "    hist['transactionType'] = mappedColumn\n",
    "    hist['transactionValue'] = np.where(hist['transactionType'].notnull(), hist['M'], np.nan)\n",
    "\n",
    "\n",
    "    return hist\n",
    "\n",
    "\n",
    "temp = historicalPricesWithTransaction(136,  \"2020-03-10\", \"M\" )\n",
    "temp.head()\n"
   ]
  },
  {
   "cell_type": "code",
   "execution_count": 602,
   "metadata": {},
   "outputs": [
    {
     "data": {
      "application/vnd.plotly.v1+json": {
       "config": {
        "plotlyServerURL": "https://plot.ly"
       },
       "data": [
        {
         "hovertemplate": "variable=M<br>date=%{x}<br>value=%{y}<extra></extra>",
         "legendgroup": "M",
         "line": {
          "color": "#636efa",
          "dash": "solid"
         },
         "marker": {
          "symbol": "circle"
         },
         "mode": "lines",
         "name": "M",
         "orientation": "v",
         "showlegend": true,
         "type": "scatter",
         "x": [
          "2020-03-13",
          "2020-03-20",
          "2020-03-27",
          "2020-04-03",
          "2020-04-09",
          "2020-04-17",
          "2020-04-24",
          "2020-05-01",
          "2020-05-08",
          "2020-05-15",
          "2020-05-22",
          "2020-05-29",
          "2020-06-05",
          "2020-06-12",
          "2020-06-19",
          "2020-06-26",
          "2020-07-02",
          "2020-07-10",
          "2020-07-17",
          "2020-07-24",
          "2020-07-31",
          "2020-08-07",
          "2020-08-14",
          "2020-08-21",
          "2020-08-28",
          "2020-09-04",
          "2020-09-11",
          "2020-09-18",
          "2020-09-25",
          "2020-10-02",
          "2020-10-09",
          "2020-10-16",
          "2020-10-23",
          "2020-10-30",
          "2020-11-06",
          "2020-11-13",
          "2020-11-20",
          "2020-11-27",
          "2020-12-04",
          "2020-12-11",
          "2020-12-18",
          "2020-12-24",
          "2020-12-31",
          "2021-01-08",
          "2021-01-15",
          "2021-01-22",
          "2021-01-29",
          "2021-02-05",
          "2021-02-12",
          "2021-02-19",
          "2021-02-26",
          "2021-03-05"
         ],
         "xaxis": "x",
         "y": [
          7.7445,
          5.806,
          5.3334,
          4.639,
          6.4232,
          5.7095,
          4.8415,
          5.1694,
          5.1791,
          5.1212,
          5.0248,
          6.1339,
          8.4582,
          7.0405,
          6.6354,
          5.806,
          6.5583,
          6.5293,
          6.4136,
          6.2207,
          5.8446,
          6.3847,
          6.9344,
          6.0375,
          6.7029,
          7.378,
          6.7994,
          6.5197,
          5.8156,
          5.7963,
          6.0085,
          5.941,
          6.973,
          5.9892,
          6.3364,
          7.0983,
          8.7283,
          10.4643,
          11.3033,
          10.6861,
          10.0592,
          10.3678,
          10.8501,
          11.8434,
          12.5475,
          12.4221,
          14.5053,
          14.5342,
          14.351,
          14.4378,
          14.6693,
          14.5825
         ],
         "yaxis": "y"
        },
        {
         "mode": "markers",
         "type": "scatter",
         "x": [
          "2020-03-13",
          "2020-03-20",
          "2020-03-27",
          "2020-04-03",
          "2020-04-09",
          "2020-04-17",
          "2020-04-24",
          "2020-05-01",
          "2020-05-08",
          "2020-05-15",
          "2020-05-22",
          "2020-05-29",
          "2020-06-05",
          "2020-06-12",
          "2020-06-19",
          "2020-06-26",
          "2020-07-02",
          "2020-07-10",
          "2020-07-17",
          "2020-07-24",
          "2020-07-31",
          "2020-08-07",
          "2020-08-14",
          "2020-08-21",
          "2020-08-28",
          "2020-09-04",
          "2020-09-11",
          "2020-09-18",
          "2020-09-25",
          "2020-10-02",
          "2020-10-09",
          "2020-10-16",
          "2020-10-23",
          "2020-10-30",
          "2020-11-06",
          "2020-11-13",
          "2020-11-20",
          "2020-11-27",
          "2020-12-04",
          "2020-12-11",
          "2020-12-18",
          "2020-12-24",
          "2020-12-31",
          "2021-01-08",
          "2021-01-15",
          "2021-01-22",
          "2021-01-29",
          "2021-02-05",
          "2021-02-12",
          "2021-02-19",
          "2021-02-26",
          "2021-03-05"
         ],
         "y": [
          7.7445,
          5.806,
          null,
          null,
          null,
          5.7095,
          null,
          null,
          null,
          null,
          null,
          null,
          null,
          null,
          null,
          null,
          null,
          null,
          null,
          null,
          null,
          null,
          null,
          null,
          null,
          null,
          null,
          null,
          null,
          null,
          null,
          null,
          null,
          null,
          null,
          null,
          null,
          null,
          null,
          null,
          null,
          null,
          null,
          null,
          null,
          null,
          null,
          null,
          null,
          null,
          null,
          null
         ]
        }
       ],
       "layout": {
        "legend": {
         "title": {
          "text": "variable"
         },
         "tracegroupgap": 0
        },
        "margin": {
         "t": 60
        },
        "template": {
         "data": {
          "bar": [
           {
            "error_x": {
             "color": "#2a3f5f"
            },
            "error_y": {
             "color": "#2a3f5f"
            },
            "marker": {
             "line": {
              "color": "#E5ECF6",
              "width": 0.5
             },
             "pattern": {
              "fillmode": "overlay",
              "size": 10,
              "solidity": 0.2
             }
            },
            "type": "bar"
           }
          ],
          "barpolar": [
           {
            "marker": {
             "line": {
              "color": "#E5ECF6",
              "width": 0.5
             },
             "pattern": {
              "fillmode": "overlay",
              "size": 10,
              "solidity": 0.2
             }
            },
            "type": "barpolar"
           }
          ],
          "carpet": [
           {
            "aaxis": {
             "endlinecolor": "#2a3f5f",
             "gridcolor": "white",
             "linecolor": "white",
             "minorgridcolor": "white",
             "startlinecolor": "#2a3f5f"
            },
            "baxis": {
             "endlinecolor": "#2a3f5f",
             "gridcolor": "white",
             "linecolor": "white",
             "minorgridcolor": "white",
             "startlinecolor": "#2a3f5f"
            },
            "type": "carpet"
           }
          ],
          "choropleth": [
           {
            "colorbar": {
             "outlinewidth": 0,
             "ticks": ""
            },
            "type": "choropleth"
           }
          ],
          "contour": [
           {
            "colorbar": {
             "outlinewidth": 0,
             "ticks": ""
            },
            "colorscale": [
             [
              0,
              "#0d0887"
             ],
             [
              0.1111111111111111,
              "#46039f"
             ],
             [
              0.2222222222222222,
              "#7201a8"
             ],
             [
              0.3333333333333333,
              "#9c179e"
             ],
             [
              0.4444444444444444,
              "#bd3786"
             ],
             [
              0.5555555555555556,
              "#d8576b"
             ],
             [
              0.6666666666666666,
              "#ed7953"
             ],
             [
              0.7777777777777778,
              "#fb9f3a"
             ],
             [
              0.8888888888888888,
              "#fdca26"
             ],
             [
              1,
              "#f0f921"
             ]
            ],
            "type": "contour"
           }
          ],
          "contourcarpet": [
           {
            "colorbar": {
             "outlinewidth": 0,
             "ticks": ""
            },
            "type": "contourcarpet"
           }
          ],
          "heatmap": [
           {
            "colorbar": {
             "outlinewidth": 0,
             "ticks": ""
            },
            "colorscale": [
             [
              0,
              "#0d0887"
             ],
             [
              0.1111111111111111,
              "#46039f"
             ],
             [
              0.2222222222222222,
              "#7201a8"
             ],
             [
              0.3333333333333333,
              "#9c179e"
             ],
             [
              0.4444444444444444,
              "#bd3786"
             ],
             [
              0.5555555555555556,
              "#d8576b"
             ],
             [
              0.6666666666666666,
              "#ed7953"
             ],
             [
              0.7777777777777778,
              "#fb9f3a"
             ],
             [
              0.8888888888888888,
              "#fdca26"
             ],
             [
              1,
              "#f0f921"
             ]
            ],
            "type": "heatmap"
           }
          ],
          "heatmapgl": [
           {
            "colorbar": {
             "outlinewidth": 0,
             "ticks": ""
            },
            "colorscale": [
             [
              0,
              "#0d0887"
             ],
             [
              0.1111111111111111,
              "#46039f"
             ],
             [
              0.2222222222222222,
              "#7201a8"
             ],
             [
              0.3333333333333333,
              "#9c179e"
             ],
             [
              0.4444444444444444,
              "#bd3786"
             ],
             [
              0.5555555555555556,
              "#d8576b"
             ],
             [
              0.6666666666666666,
              "#ed7953"
             ],
             [
              0.7777777777777778,
              "#fb9f3a"
             ],
             [
              0.8888888888888888,
              "#fdca26"
             ],
             [
              1,
              "#f0f921"
             ]
            ],
            "type": "heatmapgl"
           }
          ],
          "histogram": [
           {
            "marker": {
             "pattern": {
              "fillmode": "overlay",
              "size": 10,
              "solidity": 0.2
             }
            },
            "type": "histogram"
           }
          ],
          "histogram2d": [
           {
            "colorbar": {
             "outlinewidth": 0,
             "ticks": ""
            },
            "colorscale": [
             [
              0,
              "#0d0887"
             ],
             [
              0.1111111111111111,
              "#46039f"
             ],
             [
              0.2222222222222222,
              "#7201a8"
             ],
             [
              0.3333333333333333,
              "#9c179e"
             ],
             [
              0.4444444444444444,
              "#bd3786"
             ],
             [
              0.5555555555555556,
              "#d8576b"
             ],
             [
              0.6666666666666666,
              "#ed7953"
             ],
             [
              0.7777777777777778,
              "#fb9f3a"
             ],
             [
              0.8888888888888888,
              "#fdca26"
             ],
             [
              1,
              "#f0f921"
             ]
            ],
            "type": "histogram2d"
           }
          ],
          "histogram2dcontour": [
           {
            "colorbar": {
             "outlinewidth": 0,
             "ticks": ""
            },
            "colorscale": [
             [
              0,
              "#0d0887"
             ],
             [
              0.1111111111111111,
              "#46039f"
             ],
             [
              0.2222222222222222,
              "#7201a8"
             ],
             [
              0.3333333333333333,
              "#9c179e"
             ],
             [
              0.4444444444444444,
              "#bd3786"
             ],
             [
              0.5555555555555556,
              "#d8576b"
             ],
             [
              0.6666666666666666,
              "#ed7953"
             ],
             [
              0.7777777777777778,
              "#fb9f3a"
             ],
             [
              0.8888888888888888,
              "#fdca26"
             ],
             [
              1,
              "#f0f921"
             ]
            ],
            "type": "histogram2dcontour"
           }
          ],
          "mesh3d": [
           {
            "colorbar": {
             "outlinewidth": 0,
             "ticks": ""
            },
            "type": "mesh3d"
           }
          ],
          "parcoords": [
           {
            "line": {
             "colorbar": {
              "outlinewidth": 0,
              "ticks": ""
             }
            },
            "type": "parcoords"
           }
          ],
          "pie": [
           {
            "automargin": true,
            "type": "pie"
           }
          ],
          "scatter": [
           {
            "fillpattern": {
             "fillmode": "overlay",
             "size": 10,
             "solidity": 0.2
            },
            "type": "scatter"
           }
          ],
          "scatter3d": [
           {
            "line": {
             "colorbar": {
              "outlinewidth": 0,
              "ticks": ""
             }
            },
            "marker": {
             "colorbar": {
              "outlinewidth": 0,
              "ticks": ""
             }
            },
            "type": "scatter3d"
           }
          ],
          "scattercarpet": [
           {
            "marker": {
             "colorbar": {
              "outlinewidth": 0,
              "ticks": ""
             }
            },
            "type": "scattercarpet"
           }
          ],
          "scattergeo": [
           {
            "marker": {
             "colorbar": {
              "outlinewidth": 0,
              "ticks": ""
             }
            },
            "type": "scattergeo"
           }
          ],
          "scattergl": [
           {
            "marker": {
             "colorbar": {
              "outlinewidth": 0,
              "ticks": ""
             }
            },
            "type": "scattergl"
           }
          ],
          "scattermapbox": [
           {
            "marker": {
             "colorbar": {
              "outlinewidth": 0,
              "ticks": ""
             }
            },
            "type": "scattermapbox"
           }
          ],
          "scatterpolar": [
           {
            "marker": {
             "colorbar": {
              "outlinewidth": 0,
              "ticks": ""
             }
            },
            "type": "scatterpolar"
           }
          ],
          "scatterpolargl": [
           {
            "marker": {
             "colorbar": {
              "outlinewidth": 0,
              "ticks": ""
             }
            },
            "type": "scatterpolargl"
           }
          ],
          "scatterternary": [
           {
            "marker": {
             "colorbar": {
              "outlinewidth": 0,
              "ticks": ""
             }
            },
            "type": "scatterternary"
           }
          ],
          "surface": [
           {
            "colorbar": {
             "outlinewidth": 0,
             "ticks": ""
            },
            "colorscale": [
             [
              0,
              "#0d0887"
             ],
             [
              0.1111111111111111,
              "#46039f"
             ],
             [
              0.2222222222222222,
              "#7201a8"
             ],
             [
              0.3333333333333333,
              "#9c179e"
             ],
             [
              0.4444444444444444,
              "#bd3786"
             ],
             [
              0.5555555555555556,
              "#d8576b"
             ],
             [
              0.6666666666666666,
              "#ed7953"
             ],
             [
              0.7777777777777778,
              "#fb9f3a"
             ],
             [
              0.8888888888888888,
              "#fdca26"
             ],
             [
              1,
              "#f0f921"
             ]
            ],
            "type": "surface"
           }
          ],
          "table": [
           {
            "cells": {
             "fill": {
              "color": "#EBF0F8"
             },
             "line": {
              "color": "white"
             }
            },
            "header": {
             "fill": {
              "color": "#C8D4E3"
             },
             "line": {
              "color": "white"
             }
            },
            "type": "table"
           }
          ]
         },
         "layout": {
          "annotationdefaults": {
           "arrowcolor": "#2a3f5f",
           "arrowhead": 0,
           "arrowwidth": 1
          },
          "autotypenumbers": "strict",
          "coloraxis": {
           "colorbar": {
            "outlinewidth": 0,
            "ticks": ""
           }
          },
          "colorscale": {
           "diverging": [
            [
             0,
             "#8e0152"
            ],
            [
             0.1,
             "#c51b7d"
            ],
            [
             0.2,
             "#de77ae"
            ],
            [
             0.3,
             "#f1b6da"
            ],
            [
             0.4,
             "#fde0ef"
            ],
            [
             0.5,
             "#f7f7f7"
            ],
            [
             0.6,
             "#e6f5d0"
            ],
            [
             0.7,
             "#b8e186"
            ],
            [
             0.8,
             "#7fbc41"
            ],
            [
             0.9,
             "#4d9221"
            ],
            [
             1,
             "#276419"
            ]
           ],
           "sequential": [
            [
             0,
             "#0d0887"
            ],
            [
             0.1111111111111111,
             "#46039f"
            ],
            [
             0.2222222222222222,
             "#7201a8"
            ],
            [
             0.3333333333333333,
             "#9c179e"
            ],
            [
             0.4444444444444444,
             "#bd3786"
            ],
            [
             0.5555555555555556,
             "#d8576b"
            ],
            [
             0.6666666666666666,
             "#ed7953"
            ],
            [
             0.7777777777777778,
             "#fb9f3a"
            ],
            [
             0.8888888888888888,
             "#fdca26"
            ],
            [
             1,
             "#f0f921"
            ]
           ],
           "sequentialminus": [
            [
             0,
             "#0d0887"
            ],
            [
             0.1111111111111111,
             "#46039f"
            ],
            [
             0.2222222222222222,
             "#7201a8"
            ],
            [
             0.3333333333333333,
             "#9c179e"
            ],
            [
             0.4444444444444444,
             "#bd3786"
            ],
            [
             0.5555555555555556,
             "#d8576b"
            ],
            [
             0.6666666666666666,
             "#ed7953"
            ],
            [
             0.7777777777777778,
             "#fb9f3a"
            ],
            [
             0.8888888888888888,
             "#fdca26"
            ],
            [
             1,
             "#f0f921"
            ]
           ]
          },
          "colorway": [
           "#636efa",
           "#EF553B",
           "#00cc96",
           "#ab63fa",
           "#FFA15A",
           "#19d3f3",
           "#FF6692",
           "#B6E880",
           "#FF97FF",
           "#FECB52"
          ],
          "font": {
           "color": "#2a3f5f"
          },
          "geo": {
           "bgcolor": "white",
           "lakecolor": "white",
           "landcolor": "#E5ECF6",
           "showlakes": true,
           "showland": true,
           "subunitcolor": "white"
          },
          "hoverlabel": {
           "align": "left"
          },
          "hovermode": "closest",
          "mapbox": {
           "style": "light"
          },
          "paper_bgcolor": "white",
          "plot_bgcolor": "#E5ECF6",
          "polar": {
           "angularaxis": {
            "gridcolor": "white",
            "linecolor": "white",
            "ticks": ""
           },
           "bgcolor": "#E5ECF6",
           "radialaxis": {
            "gridcolor": "white",
            "linecolor": "white",
            "ticks": ""
           }
          },
          "scene": {
           "xaxis": {
            "backgroundcolor": "#E5ECF6",
            "gridcolor": "white",
            "gridwidth": 2,
            "linecolor": "white",
            "showbackground": true,
            "ticks": "",
            "zerolinecolor": "white"
           },
           "yaxis": {
            "backgroundcolor": "#E5ECF6",
            "gridcolor": "white",
            "gridwidth": 2,
            "linecolor": "white",
            "showbackground": true,
            "ticks": "",
            "zerolinecolor": "white"
           },
           "zaxis": {
            "backgroundcolor": "#E5ECF6",
            "gridcolor": "white",
            "gridwidth": 2,
            "linecolor": "white",
            "showbackground": true,
            "ticks": "",
            "zerolinecolor": "white"
           }
          },
          "shapedefaults": {
           "line": {
            "color": "#2a3f5f"
           }
          },
          "ternary": {
           "aaxis": {
            "gridcolor": "white",
            "linecolor": "white",
            "ticks": ""
           },
           "baxis": {
            "gridcolor": "white",
            "linecolor": "white",
            "ticks": ""
           },
           "bgcolor": "#E5ECF6",
           "caxis": {
            "gridcolor": "white",
            "linecolor": "white",
            "ticks": ""
           }
          },
          "title": {
           "x": 0.05
          },
          "xaxis": {
           "automargin": true,
           "gridcolor": "white",
           "linecolor": "white",
           "ticks": "",
           "title": {
            "standoff": 15
           },
           "zerolinecolor": "white",
           "zerolinewidth": 2
          },
          "yaxis": {
           "automargin": true,
           "gridcolor": "white",
           "linecolor": "white",
           "ticks": "",
           "title": {
            "standoff": 15
           },
           "zerolinecolor": "white",
           "zerolinewidth": 2
          }
         }
        },
        "xaxis": {
         "anchor": "y",
         "domain": [
          0,
          1
         ],
         "title": {
          "text": "date"
         }
        },
        "yaxis": {
         "anchor": "x",
         "domain": [
          0,
          1
         ],
         "title": {
          "text": "value"
         }
        }
       }
      }
     },
     "metadata": {},
     "output_type": "display_data"
    }
   ],
   "source": [
    "import plotly.graph_objects as go \n",
    "\n",
    "\n",
    "# px.scatter(temp, x='date', y=['M','transactionValue'],color='transactionType')\n",
    "fig = px.line(temp, x='date', y=['M'])\n",
    "# fig.add_trace(go.Scatter(temp, x='date', y=['M','transactionValue'],color='transactionType'))\n",
    "# fig.add_trace(go.Scatter( x=temp['date'], y=temp['transactionValue'],fill=temp['transactionType']))\n",
    "fig.add_trace(go.Scatter( x=temp['date'], y=temp['transactionValue'], mode=\"markers\",))\n",
    "\n",
    "\n",
    "fig.show()"
   ]
  },
  {
   "cell_type": "code",
   "execution_count": null,
   "metadata": {},
   "outputs": [],
   "source": []
  },
  {
   "cell_type": "code",
   "execution_count": null,
   "metadata": {},
   "outputs": [],
   "source": [
    "f = px.data.iris()\n",
    "\n",
    "fig = px.line(temp, x='date', y=['M'])\n",
    "\n",
    "\n",
    "fig.add_trace(\n",
    "    #    go.Scatter(temp, x='date', y=['M','transactionValue'],color='transactionType')\n",
    "    #    go.Scatter( x=temp['date'], y=temp['transactionValue'],color=temp['transactionType'])\n",
    "       go.Scatter( x=temp['date'], y=temp['transactionValue'])\n",
    ")\n",
    "fig.show()"
   ]
  },
  {
   "cell_type": "code",
   "execution_count": null,
   "metadata": {},
   "outputs": [],
   "source": []
  },
  {
   "cell_type": "code",
   "execution_count": null,
   "metadata": {},
   "outputs": [],
   "source": []
  },
  {
   "cell_type": "code",
   "execution_count": null,
   "metadata": {},
   "outputs": [],
   "source": []
  },
  {
   "cell_type": "code",
   "execution_count": null,
   "metadata": {},
   "outputs": [],
   "source": []
  },
  {
   "cell_type": "code",
   "execution_count": null,
   "metadata": {},
   "outputs": [],
   "source": [
    "\n"
   ]
  },
  {
   "cell_type": "code",
   "execution_count": null,
   "metadata": {},
   "outputs": [],
   "source": []
  }
 ],
 "metadata": {
  "kernelspec": {
   "display_name": "Python 3.10.8 64-bit",
   "language": "python",
   "name": "python3"
  },
  "language_info": {
   "codemirror_mode": {
    "name": "ipython",
    "version": 3
   },
   "file_extension": ".py",
   "mimetype": "text/x-python",
   "name": "python",
   "nbconvert_exporter": "python",
   "pygments_lexer": "ipython3",
   "version": "3.10.8"
  },
  "orig_nbformat": 4,
  "vscode": {
   "interpreter": {
    "hash": "aee8b7b246df8f9039afb4144a1f6fd8d2ca17a180786b69acc140d282b71a49"
   }
  }
 },
 "nbformat": 4,
 "nbformat_minor": 2
}
