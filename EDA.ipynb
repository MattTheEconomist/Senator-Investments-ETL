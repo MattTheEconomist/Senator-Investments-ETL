{
 "cells": [
  {
   "cell_type": "code",
   "execution_count": 328,
   "metadata": {},
   "outputs": [],
   "source": [
    "import pandas as pd\n",
    "import numpy as np\n",
    "\n",
    "from sqlalchemy import create_engine\n",
    "from dotenv import load_dotenv\n",
    "import os\n",
    "\n",
    "\n",
    "load_dotenv()\n",
    "\n",
    "\n",
    "hostname=os.getenv(\"hostname\")\n",
    "database=os.getenv(\"database\")\n",
    "username=os.getenv(\"username\")\n",
    "pwd=os.getenv(\"pwd\")\n",
    "port_id=os.getenv(\"port_id\")\n",
    "host = os.getenv(\"host\")\n",
    "\n",
    "import warnings\n",
    "warnings.filterwarnings('ignore')\n",
    "\n",
    "# xcrun: error: invalid active developer path"
   ]
  },
  {
   "cell_type": "code",
   "execution_count": 329,
   "metadata": {},
   "outputs": [],
   "source": [
    "conn_string = f\"postgresql://{username}:{pwd}@{host}:{port_id}/{database}\"\n",
    "db =  create_engine(url=conn_string)"
   ]
  },
  {
   "cell_type": "code",
   "execution_count": 333,
   "metadata": {},
   "outputs": [
    {
     "data": {
      "text/html": [
       "<div>\n",
       "<style scoped>\n",
       "    .dataframe tbody tr th:only-of-type {\n",
       "        vertical-align: middle;\n",
       "    }\n",
       "\n",
       "    .dataframe tbody tr th {\n",
       "        vertical-align: top;\n",
       "    }\n",
       "\n",
       "    .dataframe thead th {\n",
       "        text-align: right;\n",
       "    }\n",
       "</style>\n",
       "<table border=\"1\" class=\"dataframe\">\n",
       "  <thead>\n",
       "    <tr style=\"text-align: right;\">\n",
       "      <th></th>\n",
       "      <th>row</th>\n",
       "      <th>senator</th>\n",
       "      <th>senatorId</th>\n",
       "      <th>party</th>\n",
       "    </tr>\n",
       "  </thead>\n",
       "  <tbody>\n",
       "    <tr>\n",
       "      <th>0</th>\n",
       "      <td>1</td>\n",
       "      <td>Thomas H Tuberville</td>\n",
       "      <td>100</td>\n",
       "      <td>Republican</td>\n",
       "    </tr>\n",
       "    <tr>\n",
       "      <th>1</th>\n",
       "      <td>2</td>\n",
       "      <td>Thomas R Carper</td>\n",
       "      <td>101</td>\n",
       "      <td>Democratic</td>\n",
       "    </tr>\n",
       "    <tr>\n",
       "      <th>2</th>\n",
       "      <td>3</td>\n",
       "      <td>Daniel S Sullivan</td>\n",
       "      <td>102</td>\n",
       "      <td>Republican</td>\n",
       "    </tr>\n",
       "    <tr>\n",
       "      <th>3</th>\n",
       "      <td>4</td>\n",
       "      <td>Rick Scott</td>\n",
       "      <td>103</td>\n",
       "      <td>Republican</td>\n",
       "    </tr>\n",
       "    <tr>\n",
       "      <th>4</th>\n",
       "      <td>5</td>\n",
       "      <td>John Boozman</td>\n",
       "      <td>104</td>\n",
       "      <td>Republican</td>\n",
       "    </tr>\n",
       "  </tbody>\n",
       "</table>\n",
       "</div>"
      ],
      "text/plain": [
       "   row              senator  senatorId       party\n",
       "0    1  Thomas H Tuberville        100  Republican\n",
       "1    2      Thomas R Carper        101  Democratic\n",
       "2    3    Daniel S Sullivan        102  Republican\n",
       "3    4           Rick Scott        103  Republican\n",
       "4    5         John Boozman        104  Republican"
      ]
     },
     "execution_count": 333,
     "metadata": {},
     "output_type": "execute_result"
    }
   ],
   "source": [
    "transactions = pd.read_sql(\"SELECT * FROM transactions\", db)\n",
    "historicalPricesAG = pd.read_sql('SELECT * FROM \"historical_pricesA_G\" ', db)\n",
    "historicalPricesHR = pd.read_sql('SELECT * FROM \"historical_pricesH_R\" ', db)\n",
    "historicalPricesSZ = pd.read_sql('SELECT * FROM \"historical_pricesS_Z\" ', db)\n",
    "senators = pd.read_sql(\"SELECT * FROM senator_info\", db)\n",
    "\n",
    "senators.head()"
   ]
  },
  {
   "cell_type": "code",
   "execution_count": null,
   "metadata": {},
   "outputs": [],
   "source": []
  },
  {
   "cell_type": "code",
   "execution_count": null,
   "metadata": {},
   "outputs": [],
   "source": []
  },
  {
   "cell_type": "code",
   "execution_count": null,
   "metadata": {},
   "outputs": [],
   "source": []
  },
  {
   "cell_type": "code",
   "execution_count": null,
   "metadata": {},
   "outputs": [],
   "source": []
  },
  {
   "cell_type": "code",
   "execution_count": null,
   "metadata": {},
   "outputs": [],
   "source": []
  },
  {
   "cell_type": "code",
   "execution_count": null,
   "metadata": {},
   "outputs": [],
   "source": [
    "historicalPricesAG = pd.read_sql('SELECT * FROM \"historical_pricesA_G\" ', db)\n",
    "historicalPricesHR = pd.read_sql('SELECT * FROM \"historical_pricesH_R\" ', db)\n",
    "historicalPricesSZ = pd.read_sql('SELECT * FROM \"historical_pricesS_Z\" ', db)\n",
    "senators = pd.read_sql(\"SELECT * FROM senator_info\", db)\n",
    "\n",
    "senators.head()"
   ]
  },
  {
   "cell_type": "code",
   "execution_count": 332,
   "metadata": {},
   "outputs": [
    {
     "data": {
      "text/plain": [
       "'senatorId'"
      ]
     },
     "execution_count": 332,
     "metadata": {},
     "output_type": "execute_result"
    }
   ],
   "source": [
    "transactions.columns[-1]"
   ]
  },
  {
   "cell_type": "code",
   "execution_count": null,
   "metadata": {},
   "outputs": [],
   "source": [
    "def returnSenatorNameFromId(senId):\n",
    "    sens = senators.senator.to_list()\n",
    "    senIds = senators.senatorId.to_list()\n",
    "\n",
    "    senatorDict = dict(zip(senIds, sens))\n",
    "    return senatorDict[senId]\n",
    "\n",
    "returnSenatorNameFromId(103)"
   ]
  },
  {
   "cell_type": "code",
   "execution_count": 6,
   "metadata": {},
   "outputs": [
    {
     "data": {
      "text/plain": [
       "0    100\n",
       "Name: senatorId, dtype: int64"
      ]
     },
     "execution_count": 6,
     "metadata": {},
     "output_type": "execute_result"
    }
   ],
   "source": [
    "def lookupIdByName(nameString):\n",
    "    nameMatch = senators[senators['senator'].str.contains(nameString)]\n",
    "\n",
    "    if len(nameMatch)>1:\n",
    "        return nameMatch\n",
    "    else: \n",
    "        return nameMatch['senatorId']\n",
    "\n",
    "\n",
    "lookupIdByName(\"Tuber\")"
   ]
  },
  {
   "cell_type": "code",
   "execution_count": 7,
   "metadata": {},
   "outputs": [
    {
     "data": {
      "text/plain": [
       "--      88\n",
       "ECOM    30\n",
       "CLF     28\n",
       "X       26\n",
       "PYPL    24\n",
       "OXY     20\n",
       "INTC    19\n",
       "MSFT    15\n",
       "SSYS    15\n",
       "BABA    14\n",
       "AA      14\n",
       "CALX    10\n",
       "QCOM     9\n",
       "F        8\n",
       "NU       6\n",
       "Name: ticker, dtype: int64"
      ]
     },
     "execution_count": 7,
     "metadata": {},
     "output_type": "execute_result"
    }
   ],
   "source": [
    "tub  = transactions[transactions['senatorId']==100]\n",
    "tub.ticker.value_counts().head(15)\n"
   ]
  },
  {
   "cell_type": "code",
   "execution_count": 8,
   "metadata": {},
   "outputs": [
    {
     "data": {
      "text/html": [
       "<div>\n",
       "<style scoped>\n",
       "    .dataframe tbody tr th:only-of-type {\n",
       "        vertical-align: middle;\n",
       "    }\n",
       "\n",
       "    .dataframe tbody tr th {\n",
       "        vertical-align: top;\n",
       "    }\n",
       "\n",
       "    .dataframe thead th {\n",
       "        text-align: right;\n",
       "    }\n",
       "</style>\n",
       "<table border=\"1\" class=\"dataframe\">\n",
       "  <thead>\n",
       "    <tr style=\"text-align: right;\">\n",
       "      <th></th>\n",
       "      <th>transaction_date</th>\n",
       "      <th>owner</th>\n",
       "      <th>ticker</th>\n",
       "      <th>asset_description</th>\n",
       "      <th>asset_type</th>\n",
       "      <th>type</th>\n",
       "      <th>amount</th>\n",
       "      <th>comment</th>\n",
       "      <th>senator</th>\n",
       "      <th>ptr_link</th>\n",
       "      <th>disclosure_date</th>\n",
       "      <th>id</th>\n",
       "      <th>senatorId</th>\n",
       "    </tr>\n",
       "  </thead>\n",
       "  <tbody>\n",
       "    <tr>\n",
       "      <th>261</th>\n",
       "      <td>06/16/2022</td>\n",
       "      <td>Joint</td>\n",
       "      <td>QCOM</td>\n",
       "      <td>QUALCOMM Incorporated - Common Stock</td>\n",
       "      <td>Stock</td>\n",
       "      <td>Purchase</td>\n",
       "      <td>$250,001 - $500,000</td>\n",
       "      <td>--</td>\n",
       "      <td>Thomas H Tuberville</td>\n",
       "      <td>https://efdsearch.senate.gov/search/view/ptr/3...</td>\n",
       "      <td>07/13/2022</td>\n",
       "      <td>261</td>\n",
       "      <td>100</td>\n",
       "    </tr>\n",
       "    <tr>\n",
       "      <th>1007</th>\n",
       "      <td>03/29/2021</td>\n",
       "      <td>Joint</td>\n",
       "      <td>QCOM</td>\n",
       "      <td>QUALCOMM Incorporated</td>\n",
       "      <td>Stock</td>\n",
       "      <td>Purchase</td>\n",
       "      <td>$1,001 - $15,000</td>\n",
       "      <td>--</td>\n",
       "      <td>Thomas H Tuberville</td>\n",
       "      <td>https://efdsearch.senate.gov/search/view/ptr/3...</td>\n",
       "      <td>07/23/2021</td>\n",
       "      <td>1002</td>\n",
       "      <td>100</td>\n",
       "    </tr>\n",
       "  </tbody>\n",
       "</table>\n",
       "</div>"
      ],
      "text/plain": [
       "     transaction_date  owner ticker                     asset_description  \\\n",
       "261        06/16/2022  Joint   QCOM  QUALCOMM Incorporated - Common Stock   \n",
       "1007       03/29/2021  Joint   QCOM                 QUALCOMM Incorporated   \n",
       "\n",
       "     asset_type      type               amount comment              senator  \\\n",
       "261       Stock  Purchase  $250,001 - $500,000      --  Thomas H Tuberville   \n",
       "1007      Stock  Purchase     $1,001 - $15,000      --  Thomas H Tuberville   \n",
       "\n",
       "                                               ptr_link disclosure_date    id  \\\n",
       "261   https://efdsearch.senate.gov/search/view/ptr/3...      07/13/2022   261   \n",
       "1007  https://efdsearch.senate.gov/search/view/ptr/3...      07/23/2021  1002   \n",
       "\n",
       "      senatorId  \n",
       "261         100  \n",
       "1007        100  "
      ]
     },
     "execution_count": 8,
     "metadata": {},
     "output_type": "execute_result"
    }
   ],
   "source": [
    "tub[(tub['ticker']=='QCOM') & (tub['type']=='Purchase') \n",
    "& (tub['asset_type']=='Stock')\n",
    "]\n"
   ]
  },
  {
   "cell_type": "code",
   "execution_count": 9,
   "metadata": {},
   "outputs": [
    {
     "data": {
      "text/plain": [
       "0    2022-10-28\n",
       "1    2022-10-31\n",
       "2    2022-10-28\n",
       "3    2022-10-28\n",
       "4    2022-10-24\n",
       "Name: transaction_date, dtype: object"
      ]
     },
     "execution_count": 9,
     "metadata": {},
     "output_type": "execute_result"
    }
   ],
   "source": [
    "\n",
    "def reformatDate(transDate):\n",
    "    listDate  = transDate.split(\"/\")\n",
    "    return f\"{listDate[2]}-{listDate[0]}-{listDate[1]}\"\n",
    "\n",
    "transactions['transaction_date'] = transactions['transaction_date'].apply(lambda row: reformatDate(row))\n",
    "\n",
    "transactions['transaction_date'].head()\n"
   ]
  },
  {
   "cell_type": "code",
   "execution_count": 10,
   "metadata": {},
   "outputs": [
    {
     "data": {
      "text/html": [
       "<div>\n",
       "<style scoped>\n",
       "    .dataframe tbody tr th:only-of-type {\n",
       "        vertical-align: middle;\n",
       "    }\n",
       "\n",
       "    .dataframe tbody tr th {\n",
       "        vertical-align: top;\n",
       "    }\n",
       "\n",
       "    .dataframe thead th {\n",
       "        text-align: right;\n",
       "    }\n",
       "</style>\n",
       "<table border=\"1\" class=\"dataframe\">\n",
       "  <thead>\n",
       "    <tr style=\"text-align: right;\">\n",
       "      <th></th>\n",
       "      <th>QCOM</th>\n",
       "      <th>SPY</th>\n",
       "      <th>date</th>\n",
       "    </tr>\n",
       "  </thead>\n",
       "  <tbody>\n",
       "    <tr>\n",
       "      <th>0</th>\n",
       "      <td>120.2000</td>\n",
       "      <td>394.5900</td>\n",
       "      <td>2022-11-21</td>\n",
       "    </tr>\n",
       "    <tr>\n",
       "      <th>1</th>\n",
       "      <td>123.8500</td>\n",
       "      <td>396.0300</td>\n",
       "      <td>2022-11-18</td>\n",
       "    </tr>\n",
       "    <tr>\n",
       "      <th>2</th>\n",
       "      <td>121.4300</td>\n",
       "      <td>398.5100</td>\n",
       "      <td>2022-11-11</td>\n",
       "    </tr>\n",
       "    <tr>\n",
       "      <th>3</th>\n",
       "      <td>106.6900</td>\n",
       "      <td>376.3500</td>\n",
       "      <td>2022-11-04</td>\n",
       "    </tr>\n",
       "    <tr>\n",
       "      <th>4</th>\n",
       "      <td>119.2100</td>\n",
       "      <td>389.0200</td>\n",
       "      <td>2022-10-28</td>\n",
       "    </tr>\n",
       "    <tr>\n",
       "      <th>...</th>\n",
       "      <td>...</td>\n",
       "      <td>...</td>\n",
       "      <td>...</td>\n",
       "    </tr>\n",
       "    <tr>\n",
       "      <th>82</th>\n",
       "      <td>134.8904</td>\n",
       "      <td>408.3881</td>\n",
       "      <td>2021-04-30</td>\n",
       "    </tr>\n",
       "    <tr>\n",
       "      <th>83</th>\n",
       "      <td>131.6153</td>\n",
       "      <td>407.8400</td>\n",
       "      <td>2021-04-23</td>\n",
       "    </tr>\n",
       "    <tr>\n",
       "      <th>84</th>\n",
       "      <td>134.3170</td>\n",
       "      <td>408.3489</td>\n",
       "      <td>2021-04-16</td>\n",
       "    </tr>\n",
       "    <tr>\n",
       "      <th>85</th>\n",
       "      <td>136.6106</td>\n",
       "      <td>402.7022</td>\n",
       "      <td>2021-04-09</td>\n",
       "    </tr>\n",
       "    <tr>\n",
       "      <th>86</th>\n",
       "      <td>133.9089</td>\n",
       "      <td>392.0545</td>\n",
       "      <td>2021-04-01</td>\n",
       "    </tr>\n",
       "  </tbody>\n",
       "</table>\n",
       "<p>87 rows × 3 columns</p>\n",
       "</div>"
      ],
      "text/plain": [
       "        QCOM       SPY       date\n",
       "0   120.2000  394.5900 2022-11-21\n",
       "1   123.8500  396.0300 2022-11-18\n",
       "2   121.4300  398.5100 2022-11-11\n",
       "3   106.6900  376.3500 2022-11-04\n",
       "4   119.2100  389.0200 2022-10-28\n",
       "..       ...       ...        ...\n",
       "82  134.8904  408.3881 2021-04-30\n",
       "83  131.6153  407.8400 2021-04-23\n",
       "84  134.3170  408.3489 2021-04-16\n",
       "85  136.6106  402.7022 2021-04-09\n",
       "86  133.9089  392.0545 2021-04-01\n",
       "\n",
       "[87 rows x 3 columns]"
      ]
     },
     "execution_count": 10,
     "metadata": {},
     "output_type": "execute_result"
    }
   ],
   "source": [
    "for frame in [historicalPricesAG, historicalPricesHR, historicalPricesSZ]:\n",
    "    frame['date'] = pd.to_datetime(frame['date'])\n",
    "\n",
    "qc = historicalPricesHR[['QCOM', 'SPY', 'date']]\n",
    "temp = qc[qc['date']>= '2021-03-29']\n",
    "temp\n"
   ]
  },
  {
   "cell_type": "code",
   "execution_count": 11,
   "metadata": {},
   "outputs": [
    {
     "data": {
      "text/html": [
       "<div>\n",
       "<style scoped>\n",
       "    .dataframe tbody tr th:only-of-type {\n",
       "        vertical-align: middle;\n",
       "    }\n",
       "\n",
       "    .dataframe tbody tr th {\n",
       "        vertical-align: top;\n",
       "    }\n",
       "\n",
       "    .dataframe thead th {\n",
       "        text-align: right;\n",
       "    }\n",
       "</style>\n",
       "<table border=\"1\" class=\"dataframe\">\n",
       "  <thead>\n",
       "    <tr style=\"text-align: right;\">\n",
       "      <th></th>\n",
       "      <th>QCOM</th>\n",
       "      <th>SPY</th>\n",
       "      <th>date</th>\n",
       "    </tr>\n",
       "  </thead>\n",
       "  <tbody>\n",
       "    <tr>\n",
       "      <th>86</th>\n",
       "      <td>133.9089</td>\n",
       "      <td>392.0545</td>\n",
       "      <td>2021-04-01</td>\n",
       "    </tr>\n",
       "    <tr>\n",
       "      <th>85</th>\n",
       "      <td>136.6106</td>\n",
       "      <td>402.7022</td>\n",
       "      <td>2021-04-09</td>\n",
       "    </tr>\n",
       "    <tr>\n",
       "      <th>84</th>\n",
       "      <td>134.3170</td>\n",
       "      <td>408.3489</td>\n",
       "      <td>2021-04-16</td>\n",
       "    </tr>\n",
       "    <tr>\n",
       "      <th>83</th>\n",
       "      <td>131.6153</td>\n",
       "      <td>407.8400</td>\n",
       "      <td>2021-04-23</td>\n",
       "    </tr>\n",
       "    <tr>\n",
       "      <th>82</th>\n",
       "      <td>134.8904</td>\n",
       "      <td>408.3881</td>\n",
       "      <td>2021-04-30</td>\n",
       "    </tr>\n",
       "    <tr>\n",
       "      <th>81</th>\n",
       "      <td>133.9672</td>\n",
       "      <td>413.1052</td>\n",
       "      <td>2021-05-07</td>\n",
       "    </tr>\n",
       "    <tr>\n",
       "      <th>80</th>\n",
       "      <td>126.4841</td>\n",
       "      <td>407.6835</td>\n",
       "      <td>2021-05-14</td>\n",
       "    </tr>\n",
       "    <tr>\n",
       "      <th>79</th>\n",
       "      <td>127.7572</td>\n",
       "      <td>406.0785</td>\n",
       "      <td>2021-05-21</td>\n",
       "    </tr>\n",
       "    <tr>\n",
       "      <th>78</th>\n",
       "      <td>130.7504</td>\n",
       "      <td>411.0696</td>\n",
       "      <td>2021-05-28</td>\n",
       "    </tr>\n",
       "    <tr>\n",
       "      <th>77</th>\n",
       "      <td>131.2195</td>\n",
       "      <td>413.5749</td>\n",
       "      <td>2021-06-04</td>\n",
       "    </tr>\n",
       "  </tbody>\n",
       "</table>\n",
       "</div>"
      ],
      "text/plain": [
       "        QCOM       SPY       date\n",
       "86  133.9089  392.0545 2021-04-01\n",
       "85  136.6106  402.7022 2021-04-09\n",
       "84  134.3170  408.3489 2021-04-16\n",
       "83  131.6153  407.8400 2021-04-23\n",
       "82  134.8904  408.3881 2021-04-30\n",
       "81  133.9672  413.1052 2021-05-07\n",
       "80  126.4841  407.6835 2021-05-14\n",
       "79  127.7572  406.0785 2021-05-21\n",
       "78  130.7504  411.0696 2021-05-28\n",
       "77  131.2195  413.5749 2021-06-04"
      ]
     },
     "execution_count": 11,
     "metadata": {},
     "output_type": "execute_result"
    }
   ],
   "source": [
    "temp = temp.sort_values(by=\"date\")\n",
    "temp.head(10)"
   ]
  },
  {
   "cell_type": "code",
   "execution_count": 12,
   "metadata": {},
   "outputs": [
    {
     "data": {
      "text/html": [
       "<div>\n",
       "<style scoped>\n",
       "    .dataframe tbody tr th:only-of-type {\n",
       "        vertical-align: middle;\n",
       "    }\n",
       "\n",
       "    .dataframe tbody tr th {\n",
       "        vertical-align: top;\n",
       "    }\n",
       "\n",
       "    .dataframe thead th {\n",
       "        text-align: right;\n",
       "    }\n",
       "</style>\n",
       "<table border=\"1\" class=\"dataframe\">\n",
       "  <thead>\n",
       "    <tr style=\"text-align: right;\">\n",
       "      <th></th>\n",
       "      <th>QCOM</th>\n",
       "      <th>SPY</th>\n",
       "      <th>date</th>\n",
       "      <th>QCOM_growth</th>\n",
       "      <th>QCOM_pchange</th>\n",
       "      <th>SPY_growth</th>\n",
       "      <th>SPY_pchange</th>\n",
       "    </tr>\n",
       "  </thead>\n",
       "  <tbody>\n",
       "    <tr>\n",
       "      <th>86</th>\n",
       "      <td>133.9089</td>\n",
       "      <td>392.0545</td>\n",
       "      <td>2021-04-01</td>\n",
       "      <td>NaN</td>\n",
       "      <td>NaN</td>\n",
       "      <td>NaN</td>\n",
       "      <td>NaN</td>\n",
       "    </tr>\n",
       "    <tr>\n",
       "      <th>85</th>\n",
       "      <td>136.6106</td>\n",
       "      <td>402.7022</td>\n",
       "      <td>2021-04-09</td>\n",
       "      <td>100.000000</td>\n",
       "      <td>0.020176</td>\n",
       "      <td>100.000000</td>\n",
       "      <td>0.027159</td>\n",
       "    </tr>\n",
       "    <tr>\n",
       "      <th>84</th>\n",
       "      <td>134.3170</td>\n",
       "      <td>408.3489</td>\n",
       "      <td>2021-04-16</td>\n",
       "      <td>98.321067</td>\n",
       "      <td>-0.016789</td>\n",
       "      <td>101.402202</td>\n",
       "      <td>0.014022</td>\n",
       "    </tr>\n",
       "    <tr>\n",
       "      <th>83</th>\n",
       "      <td>131.6153</td>\n",
       "      <td>407.8400</td>\n",
       "      <td>2021-04-23</td>\n",
       "      <td>96.343402</td>\n",
       "      <td>-0.020114</td>\n",
       "      <td>101.275831</td>\n",
       "      <td>-0.001246</td>\n",
       "    </tr>\n",
       "    <tr>\n",
       "      <th>82</th>\n",
       "      <td>134.8904</td>\n",
       "      <td>408.3881</td>\n",
       "      <td>2021-04-30</td>\n",
       "      <td>98.740800</td>\n",
       "      <td>0.024884</td>\n",
       "      <td>101.411937</td>\n",
       "      <td>0.001344</td>\n",
       "    </tr>\n",
       "  </tbody>\n",
       "</table>\n",
       "</div>"
      ],
      "text/plain": [
       "        QCOM       SPY       date  QCOM_growth  QCOM_pchange  SPY_growth  \\\n",
       "86  133.9089  392.0545 2021-04-01          NaN           NaN         NaN   \n",
       "85  136.6106  402.7022 2021-04-09   100.000000      0.020176  100.000000   \n",
       "84  134.3170  408.3489 2021-04-16    98.321067     -0.016789  101.402202   \n",
       "83  131.6153  407.8400 2021-04-23    96.343402     -0.020114  101.275831   \n",
       "82  134.8904  408.3881 2021-04-30    98.740800      0.024884  101.411937   \n",
       "\n",
       "    SPY_pchange  \n",
       "86          NaN  \n",
       "85     0.027159  \n",
       "84     0.014022  \n",
       "83    -0.001246  \n",
       "82     0.001344  "
      ]
     },
     "execution_count": 12,
     "metadata": {},
     "output_type": "execute_result"
    }
   ],
   "source": [
    "\n",
    "\n",
    "def createGrowthColumn(ticker, frame):\n",
    "\n",
    "    pricesList = np.array(frame[ticker])\n",
    "    pctChanges = np.diff(pricesList)/pricesList[:-1]\n",
    "\n",
    "    currentInvestment , initialInvestment= 100, 100\n",
    "    investmentValues = []\n",
    "\n",
    "    for c in pctChanges[1:]: \n",
    "        currentInvestment = currentInvestment*(1+c) \n",
    "        investmentValues.append(currentInvestment)\n",
    "\n",
    "    pctChanges = [np.nan ] + list(pctChanges)\n",
    "    investmentValues = [ np.nan, initialInvestment ] + investmentValues\n",
    "\n",
    "    invName= ticker+'_growth'\n",
    "    pctName = ticker+'_pchange'\n",
    "    frame[invName] = investmentValues\n",
    "    frame[pctName] = pctChanges\n",
    "\n",
    "\n",
    "\n",
    "createGrowthColumn('QCOM', temp)\n",
    "createGrowthColumn('SPY', temp)\n",
    "temp.head()\n"
   ]
  },
  {
   "cell_type": "code",
   "execution_count": 13,
   "metadata": {},
   "outputs": [
    {
     "data": {
      "application/vnd.plotly.v1+json": {
       "config": {
        "plotlyServerURL": "https://plot.ly"
       },
       "data": [
        {
         "hovertemplate": "variable=QCOM_growth<br>date=%{x}<br>value=%{y}<extra></extra>",
         "legendgroup": "QCOM_growth",
         "line": {
          "color": "#636efa",
          "dash": "solid"
         },
         "marker": {
          "symbol": "circle"
         },
         "mode": "lines",
         "name": "QCOM_growth",
         "orientation": "v",
         "showlegend": true,
         "type": "scatter",
         "x": [
          "2021-04-01T00:00:00",
          "2021-04-09T00:00:00",
          "2021-04-16T00:00:00",
          "2021-04-23T00:00:00",
          "2021-04-30T00:00:00",
          "2021-05-07T00:00:00",
          "2021-05-14T00:00:00",
          "2021-05-21T00:00:00",
          "2021-05-28T00:00:00",
          "2021-06-04T00:00:00",
          "2021-06-11T00:00:00",
          "2021-06-18T00:00:00",
          "2021-06-25T00:00:00",
          "2021-07-02T00:00:00",
          "2021-07-09T00:00:00",
          "2021-07-16T00:00:00",
          "2021-07-23T00:00:00",
          "2021-07-30T00:00:00",
          "2021-08-06T00:00:00",
          "2021-08-13T00:00:00",
          "2021-08-20T00:00:00",
          "2021-08-27T00:00:00",
          "2021-09-03T00:00:00",
          "2021-09-10T00:00:00",
          "2021-09-17T00:00:00",
          "2021-09-24T00:00:00",
          "2021-10-01T00:00:00",
          "2021-10-08T00:00:00",
          "2021-10-15T00:00:00",
          "2021-10-22T00:00:00",
          "2021-10-29T00:00:00",
          "2021-11-05T00:00:00",
          "2021-11-12T00:00:00",
          "2021-11-19T00:00:00",
          "2021-11-26T00:00:00",
          "2021-12-03T00:00:00",
          "2021-12-10T00:00:00",
          "2021-12-17T00:00:00",
          "2021-12-23T00:00:00",
          "2021-12-31T00:00:00",
          "2022-01-07T00:00:00",
          "2022-01-14T00:00:00",
          "2022-01-21T00:00:00",
          "2022-01-28T00:00:00",
          "2022-02-04T00:00:00",
          "2022-02-11T00:00:00",
          "2022-02-18T00:00:00",
          "2022-02-25T00:00:00",
          "2022-03-04T00:00:00",
          "2022-03-11T00:00:00",
          "2022-03-18T00:00:00",
          "2022-03-25T00:00:00",
          "2022-04-01T00:00:00",
          "2022-04-08T00:00:00",
          "2022-04-14T00:00:00",
          "2022-04-22T00:00:00",
          "2022-04-29T00:00:00",
          "2022-05-06T00:00:00",
          "2022-05-13T00:00:00",
          "2022-05-20T00:00:00",
          "2022-05-27T00:00:00",
          "2022-06-03T00:00:00",
          "2022-06-10T00:00:00",
          "2022-06-17T00:00:00",
          "2022-06-24T00:00:00",
          "2022-07-01T00:00:00",
          "2022-07-08T00:00:00",
          "2022-07-15T00:00:00",
          "2022-07-22T00:00:00",
          "2022-07-29T00:00:00",
          "2022-08-05T00:00:00",
          "2022-08-12T00:00:00",
          "2022-08-19T00:00:00",
          "2022-08-26T00:00:00",
          "2022-09-02T00:00:00",
          "2022-09-09T00:00:00",
          "2022-09-16T00:00:00",
          "2022-09-23T00:00:00",
          "2022-09-30T00:00:00",
          "2022-10-07T00:00:00",
          "2022-10-14T00:00:00",
          "2022-10-21T00:00:00",
          "2022-10-28T00:00:00",
          "2022-11-04T00:00:00",
          "2022-11-11T00:00:00",
          "2022-11-18T00:00:00",
          "2022-11-21T00:00:00"
         ],
         "xaxis": "x",
         "y": [
          null,
          100,
          98.32106732566874,
          96.34340234213157,
          98.74080049425156,
          98.06501106063513,
          92.58732484887705,
          93.51924374828896,
          95.71028895268746,
          96.05367372663618,
          96.25387781036027,
          95.09554895447353,
          98.42032755876924,
          101.94531024678908,
          101.12304608866371,
          99.89320008842654,
          103.58976536227793,
          107.10757437563413,
          104.59078578089843,
          106.27820974360704,
          101.59489819970048,
          103.56831753904896,
          103.8912060996731,
          102.49043632046124,
          95.968102036006,
          96.16918452887258,
          92.45549027674281,
          90.90392692807147,
          93.52575861609567,
          94.54581123280332,
          95.56579064874907,
          117.1083356635576,
          118.48033754335314,
          132.88990751815743,
          126.23822748747169,
          127.28228995407383,
          132.5968116676158,
          127.49142453074649,
          131.77476711177607,
          131.86846408697417,
          130.09459002449293,
          136.06535656823112,
          118.93183984258904,
          120.28751795248682,
          129.41675096954407,
          118.72277846667828,
          120.88608058232668,
          123.25851727464777,
          117.47660869654331,
          110.29451594532196,
          111.48915237909797,
          114.37062716948758,
          106.42109763078413,
          98.96391641644206,
          99.12312807351698,
          96.15476397878348,
          101.13585622199155,
          101.78024252876425,
          97.68963755374767,
          95.2786972606811,
          101.18658434996993,
          102.79129145176147,
          96.95367709387124,
          88.06622619328225,
          91.05786813029154,
          89.915057835922,
          98.99897958137953,
          105.08408571516419,
          111.87521319721904,
          105.58631614237848,
          109.33492715792192,
          110.12103013968176,
          107.4351477850182,
          100.724101936453,
          94.04833885511084,
          96.66160605399587,
          91.46435196097526,
          88.71200331453055,
          82.70222076471377,
          88.50704118128466,
          80.48423767994582,
          84.72256179242318,
          87.26262822943465,
          78.09789284286875,
          88.88768514302703,
          90.65914358036645,
          87.98731577198262
         ],
         "yaxis": "y"
        },
        {
         "hovertemplate": "variable=SPY_growth<br>date=%{x}<br>value=%{y}<extra></extra>",
         "legendgroup": "SPY_growth",
         "line": {
          "color": "#EF553B",
          "dash": "solid"
         },
         "marker": {
          "symbol": "circle"
         },
         "mode": "lines",
         "name": "SPY_growth",
         "orientation": "v",
         "showlegend": true,
         "type": "scatter",
         "x": [
          "2021-04-01T00:00:00",
          "2021-04-09T00:00:00",
          "2021-04-16T00:00:00",
          "2021-04-23T00:00:00",
          "2021-04-30T00:00:00",
          "2021-05-07T00:00:00",
          "2021-05-14T00:00:00",
          "2021-05-21T00:00:00",
          "2021-05-28T00:00:00",
          "2021-06-04T00:00:00",
          "2021-06-11T00:00:00",
          "2021-06-18T00:00:00",
          "2021-06-25T00:00:00",
          "2021-07-02T00:00:00",
          "2021-07-09T00:00:00",
          "2021-07-16T00:00:00",
          "2021-07-23T00:00:00",
          "2021-07-30T00:00:00",
          "2021-08-06T00:00:00",
          "2021-08-13T00:00:00",
          "2021-08-20T00:00:00",
          "2021-08-27T00:00:00",
          "2021-09-03T00:00:00",
          "2021-09-10T00:00:00",
          "2021-09-17T00:00:00",
          "2021-09-24T00:00:00",
          "2021-10-01T00:00:00",
          "2021-10-08T00:00:00",
          "2021-10-15T00:00:00",
          "2021-10-22T00:00:00",
          "2021-10-29T00:00:00",
          "2021-11-05T00:00:00",
          "2021-11-12T00:00:00",
          "2021-11-19T00:00:00",
          "2021-11-26T00:00:00",
          "2021-12-03T00:00:00",
          "2021-12-10T00:00:00",
          "2021-12-17T00:00:00",
          "2021-12-23T00:00:00",
          "2021-12-31T00:00:00",
          "2022-01-07T00:00:00",
          "2022-01-14T00:00:00",
          "2022-01-21T00:00:00",
          "2022-01-28T00:00:00",
          "2022-02-04T00:00:00",
          "2022-02-11T00:00:00",
          "2022-02-18T00:00:00",
          "2022-02-25T00:00:00",
          "2022-03-04T00:00:00",
          "2022-03-11T00:00:00",
          "2022-03-18T00:00:00",
          "2022-03-25T00:00:00",
          "2022-04-01T00:00:00",
          "2022-04-08T00:00:00",
          "2022-04-14T00:00:00",
          "2022-04-22T00:00:00",
          "2022-04-29T00:00:00",
          "2022-05-06T00:00:00",
          "2022-05-13T00:00:00",
          "2022-05-20T00:00:00",
          "2022-05-27T00:00:00",
          "2022-06-03T00:00:00",
          "2022-06-10T00:00:00",
          "2022-06-17T00:00:00",
          "2022-06-24T00:00:00",
          "2022-07-01T00:00:00",
          "2022-07-08T00:00:00",
          "2022-07-15T00:00:00",
          "2022-07-22T00:00:00",
          "2022-07-29T00:00:00",
          "2022-08-05T00:00:00",
          "2022-08-12T00:00:00",
          "2022-08-19T00:00:00",
          "2022-08-26T00:00:00",
          "2022-09-02T00:00:00",
          "2022-09-09T00:00:00",
          "2022-09-16T00:00:00",
          "2022-09-23T00:00:00",
          "2022-09-30T00:00:00",
          "2022-10-07T00:00:00",
          "2022-10-14T00:00:00",
          "2022-10-21T00:00:00",
          "2022-10-28T00:00:00",
          "2022-11-04T00:00:00",
          "2022-11-11T00:00:00",
          "2022-11-18T00:00:00",
          "2022-11-21T00:00:00"
         ],
         "xaxis": "x",
         "y": [
          null,
          100,
          101.40220242154128,
          101.27583112284958,
          101.41193666188066,
          102.58329852680218,
          101.23696865822932,
          100.83841111372125,
          102.07781333203542,
          102.69993558515448,
          103.11550321801072,
          101.16791018276034,
          104.01822984826005,
          105.75181858951848,
          106.19070370114687,
          105.17151383826557,
          107.26842316729332,
          106.91975360452459,
          107.89017293672589,
          108.726498141803,
          108.10228998003981,
          109.78224107044855,
          110.47227951573143,
          108.60946376751848,
          107.97261599266153,
          108.58659326917007,
          106.22117286669896,
          107.10669075063404,
          109.06602943813066,
          110.83949876608564,
          112.3389690942835,
          114.60898400853029,
          114.3007661741107,
          114.69703915200851,
          112.27048176046708,
          110.91287805231748,
          115.14958199880697,
          112.89019528574705,
          115.52422609064455,
          116.5945455475534,
          114.41710524551384,
          114.08080214113546,
          107.51659663145611,
          108.49116294869997,
          110.148169044023,
          108.12538396860003,
          106.59601561650264,
          107.46012810458937,
          106.09033176376977,
          103.11999785449389,
          109.45738563136722,
          111.46914518967108,
          111.52576271001242,
          110.20838724000009,
          107.80020571032382,
          104.90690142740706,
          101.44973133993301,
          101.28722912365508,
          98.9184315357601,
          95.94141775237378,
          102.25248334873754,
          101.0902349180113,
          95.98328491873143,
          90.47663509163836,
          96.46619760209893,
          94.28009084628782,
          96.11752803933021,
          95.2420920471752,
          97.70517767223511,
          101.88451913101036,
          102.25052160132216,
          105.6212009768011,
          104.39461219730102,
          100.23255398157733,
          97.00036404072277,
          100.55157384290413,
          95.7432067666875,
          91.37024828769236,
          88.69581541893726,
          90.08890440628323,
          88.80756052487409,
          92.94461266911368,
          96.602402470113,
          93.45615693184678,
          98.95898259309222,
          98.34314289815138,
          97.98555855915349
         ],
         "yaxis": "y"
        }
       ],
       "layout": {
        "legend": {
         "title": {
          "text": "variable"
         },
         "tracegroupgap": 0
        },
        "template": {
         "data": {
          "bar": [
           {
            "error_x": {
             "color": "#2a3f5f"
            },
            "error_y": {
             "color": "#2a3f5f"
            },
            "marker": {
             "line": {
              "color": "#E5ECF6",
              "width": 0.5
             },
             "pattern": {
              "fillmode": "overlay",
              "size": 10,
              "solidity": 0.2
             }
            },
            "type": "bar"
           }
          ],
          "barpolar": [
           {
            "marker": {
             "line": {
              "color": "#E5ECF6",
              "width": 0.5
             },
             "pattern": {
              "fillmode": "overlay",
              "size": 10,
              "solidity": 0.2
             }
            },
            "type": "barpolar"
           }
          ],
          "carpet": [
           {
            "aaxis": {
             "endlinecolor": "#2a3f5f",
             "gridcolor": "white",
             "linecolor": "white",
             "minorgridcolor": "white",
             "startlinecolor": "#2a3f5f"
            },
            "baxis": {
             "endlinecolor": "#2a3f5f",
             "gridcolor": "white",
             "linecolor": "white",
             "minorgridcolor": "white",
             "startlinecolor": "#2a3f5f"
            },
            "type": "carpet"
           }
          ],
          "choropleth": [
           {
            "colorbar": {
             "outlinewidth": 0,
             "ticks": ""
            },
            "type": "choropleth"
           }
          ],
          "contour": [
           {
            "colorbar": {
             "outlinewidth": 0,
             "ticks": ""
            },
            "colorscale": [
             [
              0,
              "#0d0887"
             ],
             [
              0.1111111111111111,
              "#46039f"
             ],
             [
              0.2222222222222222,
              "#7201a8"
             ],
             [
              0.3333333333333333,
              "#9c179e"
             ],
             [
              0.4444444444444444,
              "#bd3786"
             ],
             [
              0.5555555555555556,
              "#d8576b"
             ],
             [
              0.6666666666666666,
              "#ed7953"
             ],
             [
              0.7777777777777778,
              "#fb9f3a"
             ],
             [
              0.8888888888888888,
              "#fdca26"
             ],
             [
              1,
              "#f0f921"
             ]
            ],
            "type": "contour"
           }
          ],
          "contourcarpet": [
           {
            "colorbar": {
             "outlinewidth": 0,
             "ticks": ""
            },
            "type": "contourcarpet"
           }
          ],
          "heatmap": [
           {
            "colorbar": {
             "outlinewidth": 0,
             "ticks": ""
            },
            "colorscale": [
             [
              0,
              "#0d0887"
             ],
             [
              0.1111111111111111,
              "#46039f"
             ],
             [
              0.2222222222222222,
              "#7201a8"
             ],
             [
              0.3333333333333333,
              "#9c179e"
             ],
             [
              0.4444444444444444,
              "#bd3786"
             ],
             [
              0.5555555555555556,
              "#d8576b"
             ],
             [
              0.6666666666666666,
              "#ed7953"
             ],
             [
              0.7777777777777778,
              "#fb9f3a"
             ],
             [
              0.8888888888888888,
              "#fdca26"
             ],
             [
              1,
              "#f0f921"
             ]
            ],
            "type": "heatmap"
           }
          ],
          "heatmapgl": [
           {
            "colorbar": {
             "outlinewidth": 0,
             "ticks": ""
            },
            "colorscale": [
             [
              0,
              "#0d0887"
             ],
             [
              0.1111111111111111,
              "#46039f"
             ],
             [
              0.2222222222222222,
              "#7201a8"
             ],
             [
              0.3333333333333333,
              "#9c179e"
             ],
             [
              0.4444444444444444,
              "#bd3786"
             ],
             [
              0.5555555555555556,
              "#d8576b"
             ],
             [
              0.6666666666666666,
              "#ed7953"
             ],
             [
              0.7777777777777778,
              "#fb9f3a"
             ],
             [
              0.8888888888888888,
              "#fdca26"
             ],
             [
              1,
              "#f0f921"
             ]
            ],
            "type": "heatmapgl"
           }
          ],
          "histogram": [
           {
            "marker": {
             "pattern": {
              "fillmode": "overlay",
              "size": 10,
              "solidity": 0.2
             }
            },
            "type": "histogram"
           }
          ],
          "histogram2d": [
           {
            "colorbar": {
             "outlinewidth": 0,
             "ticks": ""
            },
            "colorscale": [
             [
              0,
              "#0d0887"
             ],
             [
              0.1111111111111111,
              "#46039f"
             ],
             [
              0.2222222222222222,
              "#7201a8"
             ],
             [
              0.3333333333333333,
              "#9c179e"
             ],
             [
              0.4444444444444444,
              "#bd3786"
             ],
             [
              0.5555555555555556,
              "#d8576b"
             ],
             [
              0.6666666666666666,
              "#ed7953"
             ],
             [
              0.7777777777777778,
              "#fb9f3a"
             ],
             [
              0.8888888888888888,
              "#fdca26"
             ],
             [
              1,
              "#f0f921"
             ]
            ],
            "type": "histogram2d"
           }
          ],
          "histogram2dcontour": [
           {
            "colorbar": {
             "outlinewidth": 0,
             "ticks": ""
            },
            "colorscale": [
             [
              0,
              "#0d0887"
             ],
             [
              0.1111111111111111,
              "#46039f"
             ],
             [
              0.2222222222222222,
              "#7201a8"
             ],
             [
              0.3333333333333333,
              "#9c179e"
             ],
             [
              0.4444444444444444,
              "#bd3786"
             ],
             [
              0.5555555555555556,
              "#d8576b"
             ],
             [
              0.6666666666666666,
              "#ed7953"
             ],
             [
              0.7777777777777778,
              "#fb9f3a"
             ],
             [
              0.8888888888888888,
              "#fdca26"
             ],
             [
              1,
              "#f0f921"
             ]
            ],
            "type": "histogram2dcontour"
           }
          ],
          "mesh3d": [
           {
            "colorbar": {
             "outlinewidth": 0,
             "ticks": ""
            },
            "type": "mesh3d"
           }
          ],
          "parcoords": [
           {
            "line": {
             "colorbar": {
              "outlinewidth": 0,
              "ticks": ""
             }
            },
            "type": "parcoords"
           }
          ],
          "pie": [
           {
            "automargin": true,
            "type": "pie"
           }
          ],
          "scatter": [
           {
            "fillpattern": {
             "fillmode": "overlay",
             "size": 10,
             "solidity": 0.2
            },
            "type": "scatter"
           }
          ],
          "scatter3d": [
           {
            "line": {
             "colorbar": {
              "outlinewidth": 0,
              "ticks": ""
             }
            },
            "marker": {
             "colorbar": {
              "outlinewidth": 0,
              "ticks": ""
             }
            },
            "type": "scatter3d"
           }
          ],
          "scattercarpet": [
           {
            "marker": {
             "colorbar": {
              "outlinewidth": 0,
              "ticks": ""
             }
            },
            "type": "scattercarpet"
           }
          ],
          "scattergeo": [
           {
            "marker": {
             "colorbar": {
              "outlinewidth": 0,
              "ticks": ""
             }
            },
            "type": "scattergeo"
           }
          ],
          "scattergl": [
           {
            "marker": {
             "colorbar": {
              "outlinewidth": 0,
              "ticks": ""
             }
            },
            "type": "scattergl"
           }
          ],
          "scattermapbox": [
           {
            "marker": {
             "colorbar": {
              "outlinewidth": 0,
              "ticks": ""
             }
            },
            "type": "scattermapbox"
           }
          ],
          "scatterpolar": [
           {
            "marker": {
             "colorbar": {
              "outlinewidth": 0,
              "ticks": ""
             }
            },
            "type": "scatterpolar"
           }
          ],
          "scatterpolargl": [
           {
            "marker": {
             "colorbar": {
              "outlinewidth": 0,
              "ticks": ""
             }
            },
            "type": "scatterpolargl"
           }
          ],
          "scatterternary": [
           {
            "marker": {
             "colorbar": {
              "outlinewidth": 0,
              "ticks": ""
             }
            },
            "type": "scatterternary"
           }
          ],
          "surface": [
           {
            "colorbar": {
             "outlinewidth": 0,
             "ticks": ""
            },
            "colorscale": [
             [
              0,
              "#0d0887"
             ],
             [
              0.1111111111111111,
              "#46039f"
             ],
             [
              0.2222222222222222,
              "#7201a8"
             ],
             [
              0.3333333333333333,
              "#9c179e"
             ],
             [
              0.4444444444444444,
              "#bd3786"
             ],
             [
              0.5555555555555556,
              "#d8576b"
             ],
             [
              0.6666666666666666,
              "#ed7953"
             ],
             [
              0.7777777777777778,
              "#fb9f3a"
             ],
             [
              0.8888888888888888,
              "#fdca26"
             ],
             [
              1,
              "#f0f921"
             ]
            ],
            "type": "surface"
           }
          ],
          "table": [
           {
            "cells": {
             "fill": {
              "color": "#EBF0F8"
             },
             "line": {
              "color": "white"
             }
            },
            "header": {
             "fill": {
              "color": "#C8D4E3"
             },
             "line": {
              "color": "white"
             }
            },
            "type": "table"
           }
          ]
         },
         "layout": {
          "annotationdefaults": {
           "arrowcolor": "#2a3f5f",
           "arrowhead": 0,
           "arrowwidth": 1
          },
          "autotypenumbers": "strict",
          "coloraxis": {
           "colorbar": {
            "outlinewidth": 0,
            "ticks": ""
           }
          },
          "colorscale": {
           "diverging": [
            [
             0,
             "#8e0152"
            ],
            [
             0.1,
             "#c51b7d"
            ],
            [
             0.2,
             "#de77ae"
            ],
            [
             0.3,
             "#f1b6da"
            ],
            [
             0.4,
             "#fde0ef"
            ],
            [
             0.5,
             "#f7f7f7"
            ],
            [
             0.6,
             "#e6f5d0"
            ],
            [
             0.7,
             "#b8e186"
            ],
            [
             0.8,
             "#7fbc41"
            ],
            [
             0.9,
             "#4d9221"
            ],
            [
             1,
             "#276419"
            ]
           ],
           "sequential": [
            [
             0,
             "#0d0887"
            ],
            [
             0.1111111111111111,
             "#46039f"
            ],
            [
             0.2222222222222222,
             "#7201a8"
            ],
            [
             0.3333333333333333,
             "#9c179e"
            ],
            [
             0.4444444444444444,
             "#bd3786"
            ],
            [
             0.5555555555555556,
             "#d8576b"
            ],
            [
             0.6666666666666666,
             "#ed7953"
            ],
            [
             0.7777777777777778,
             "#fb9f3a"
            ],
            [
             0.8888888888888888,
             "#fdca26"
            ],
            [
             1,
             "#f0f921"
            ]
           ],
           "sequentialminus": [
            [
             0,
             "#0d0887"
            ],
            [
             0.1111111111111111,
             "#46039f"
            ],
            [
             0.2222222222222222,
             "#7201a8"
            ],
            [
             0.3333333333333333,
             "#9c179e"
            ],
            [
             0.4444444444444444,
             "#bd3786"
            ],
            [
             0.5555555555555556,
             "#d8576b"
            ],
            [
             0.6666666666666666,
             "#ed7953"
            ],
            [
             0.7777777777777778,
             "#fb9f3a"
            ],
            [
             0.8888888888888888,
             "#fdca26"
            ],
            [
             1,
             "#f0f921"
            ]
           ]
          },
          "colorway": [
           "#636efa",
           "#EF553B",
           "#00cc96",
           "#ab63fa",
           "#FFA15A",
           "#19d3f3",
           "#FF6692",
           "#B6E880",
           "#FF97FF",
           "#FECB52"
          ],
          "font": {
           "color": "#2a3f5f"
          },
          "geo": {
           "bgcolor": "white",
           "lakecolor": "white",
           "landcolor": "#E5ECF6",
           "showlakes": true,
           "showland": true,
           "subunitcolor": "white"
          },
          "hoverlabel": {
           "align": "left"
          },
          "hovermode": "closest",
          "mapbox": {
           "style": "light"
          },
          "paper_bgcolor": "white",
          "plot_bgcolor": "#E5ECF6",
          "polar": {
           "angularaxis": {
            "gridcolor": "white",
            "linecolor": "white",
            "ticks": ""
           },
           "bgcolor": "#E5ECF6",
           "radialaxis": {
            "gridcolor": "white",
            "linecolor": "white",
            "ticks": ""
           }
          },
          "scene": {
           "xaxis": {
            "backgroundcolor": "#E5ECF6",
            "gridcolor": "white",
            "gridwidth": 2,
            "linecolor": "white",
            "showbackground": true,
            "ticks": "",
            "zerolinecolor": "white"
           },
           "yaxis": {
            "backgroundcolor": "#E5ECF6",
            "gridcolor": "white",
            "gridwidth": 2,
            "linecolor": "white",
            "showbackground": true,
            "ticks": "",
            "zerolinecolor": "white"
           },
           "zaxis": {
            "backgroundcolor": "#E5ECF6",
            "gridcolor": "white",
            "gridwidth": 2,
            "linecolor": "white",
            "showbackground": true,
            "ticks": "",
            "zerolinecolor": "white"
           }
          },
          "shapedefaults": {
           "line": {
            "color": "#2a3f5f"
           }
          },
          "ternary": {
           "aaxis": {
            "gridcolor": "white",
            "linecolor": "white",
            "ticks": ""
           },
           "baxis": {
            "gridcolor": "white",
            "linecolor": "white",
            "ticks": ""
           },
           "bgcolor": "#E5ECF6",
           "caxis": {
            "gridcolor": "white",
            "linecolor": "white",
            "ticks": ""
           }
          },
          "title": {
           "x": 0.05
          },
          "xaxis": {
           "automargin": true,
           "gridcolor": "white",
           "linecolor": "white",
           "ticks": "",
           "title": {
            "standoff": 15
           },
           "zerolinecolor": "white",
           "zerolinewidth": 2
          },
          "yaxis": {
           "automargin": true,
           "gridcolor": "white",
           "linecolor": "white",
           "ticks": "",
           "title": {
            "standoff": 15
           },
           "zerolinecolor": "white",
           "zerolinewidth": 2
          }
         }
        },
        "title": {
         "text": "Growth in Qualcomm v S&P"
        },
        "xaxis": {
         "anchor": "y",
         "domain": [
          0,
          1
         ],
         "title": {
          "text": "date"
         }
        },
        "yaxis": {
         "anchor": "x",
         "domain": [
          0,
          1
         ],
         "title": {
          "text": "value"
         }
        }
       }
      }
     },
     "metadata": {},
     "output_type": "display_data"
    }
   ],
   "source": [
    "import plotly.express as px \n",
    "\n",
    "fig = px.line(temp, x='date', y=['QCOM_growth', 'SPY_growth' ],\n",
    " title=\"Growth in Qualcomm v S&P\"\n",
    " )\n",
    "\n",
    "\n",
    "fig.show()"
   ]
  },
  {
   "cell_type": "markdown",
   "metadata": {},
   "source": [
    "What a great example! looks like there was a sharp rise in price starting in November, and by mid January Qualcomm had grown much more than the S&P. My hypothesis is that the majority of stock purchases will exhibit a similar pattern"
   ]
  },
  {
   "cell_type": "code",
   "execution_count": 14,
   "metadata": {},
   "outputs": [
    {
     "name": "stdout",
     "output_type": "stream",
     "text": [
      "ABCDEFGHIJKLMNOPQRSTUVWXYZ\n"
     ]
    }
   ],
   "source": [
    "import string \n",
    "print(string.ascii_uppercase)"
   ]
  },
  {
   "cell_type": "code",
   "execution_count": 15,
   "metadata": {},
   "outputs": [],
   "source": [
    "def findSourceFrame(ticker):\n",
    "    leadingLetter =ticker[0]\n",
    "\n",
    "    relevantCols = ['date', ticker, 'SPY']\n",
    "\n",
    "    if leadingLetter in 'ABCDEFG':\n",
    "        rez = historicalPricesAG[relevantCols]\n",
    "    elif leadingLetter in 'HIJKLMNOPQR':\n",
    "        rez = historicalPricesHR[relevantCols]\n",
    "    elif leadingLetter in 'STUVWXYZ':\n",
    "        rez = historicalPricesSZ[relevantCols]\n",
    "    else:\n",
    "        return 'ticker leading letter is non-alpha'\n",
    "    return rez\n",
    "\n",
    "\n",
    "\n",
    "\n",
    "def generateHistoricalPricesTable(ticker, date):\n",
    "    \n",
    "    rez = findSourceFrame(ticker)\n",
    "\n",
    "    rez = rez.sort_values(by=\"date\")\n",
    "\n",
    "    # start dataframe at purchase date \n",
    "    rez = rez[rez['date']>=date]\n",
    "    \n",
    "    # end dataframe at one year from purchase date \n",
    "    if len(rez)>52:\n",
    "        rez = rez.head(52)\n",
    "\n",
    "    return rez\n",
    "\n",
    "\n",
    "graphDims = {'height':500,  'width':800}\n",
    "\n",
    "def graphGrowthRates(frame, tickerFirst, tickerSecond='SPY'):\n",
    "    yColumnList = [tickerFirst+\"_growth\", tickerSecond+\"_growth\"]\n",
    "    fig = px.line(frame, x='date', y=yColumnList,\n",
    "    title=f\"Growth in {tickerFirst} v {tickerSecond}\",\n",
    "        height= graphDims['height'] , width= graphDims['width']\n",
    "    )\n",
    "    fig.show()\n",
    "\n",
    "\n",
    "# putting it all together \n",
    "def graphAlpha(ticker, date):\n",
    "\n",
    "    histPrices =  generateHistoricalPricesTable(ticker, date)\n",
    "    createGrowthColumn(ticker, histPrices)\n",
    "    createGrowthColumn('SPY', histPrices)\n",
    "\n",
    "    graphGrowthRates(histPrices, ticker)\n",
    " \n",
    "    \n"
   ]
  },
  {
   "cell_type": "code",
   "execution_count": 17,
   "metadata": {},
   "outputs": [
    {
     "data": {
      "text/html": [
       "<div>\n",
       "<style scoped>\n",
       "    .dataframe tbody tr th:only-of-type {\n",
       "        vertical-align: middle;\n",
       "    }\n",
       "\n",
       "    .dataframe tbody tr th {\n",
       "        vertical-align: top;\n",
       "    }\n",
       "\n",
       "    .dataframe thead th {\n",
       "        text-align: right;\n",
       "    }\n",
       "</style>\n",
       "<table border=\"1\" class=\"dataframe\">\n",
       "  <thead>\n",
       "    <tr style=\"text-align: right;\">\n",
       "      <th></th>\n",
       "      <th>transaction_date</th>\n",
       "      <th>owner</th>\n",
       "      <th>ticker</th>\n",
       "      <th>asset_description</th>\n",
       "      <th>asset_type</th>\n",
       "      <th>type</th>\n",
       "    </tr>\n",
       "  </thead>\n",
       "  <tbody>\n",
       "    <tr>\n",
       "      <th>1034</th>\n",
       "      <td>2021-03-29</td>\n",
       "      <td>Joint</td>\n",
       "      <td>ATHM</td>\n",
       "      <td>Autohome Inc.</td>\n",
       "      <td>Stock</td>\n",
       "      <td>Purchase</td>\n",
       "    </tr>\n",
       "    <tr>\n",
       "      <th>1035</th>\n",
       "      <td>2021-03-29</td>\n",
       "      <td>Joint</td>\n",
       "      <td>AME</td>\n",
       "      <td>AMETEK, Inc.</td>\n",
       "      <td>Stock</td>\n",
       "      <td>Purchase</td>\n",
       "    </tr>\n",
       "    <tr>\n",
       "      <th>1036</th>\n",
       "      <td>2021-03-29</td>\n",
       "      <td>Joint</td>\n",
       "      <td>GOOGL</td>\n",
       "      <td>Alphabet Inc.</td>\n",
       "      <td>Stock</td>\n",
       "      <td>Purchase</td>\n",
       "    </tr>\n",
       "    <tr>\n",
       "      <th>1039</th>\n",
       "      <td>2021-03-16</td>\n",
       "      <td>Joint</td>\n",
       "      <td>AA</td>\n",
       "      <td>Alcoa Corporation</td>\n",
       "      <td>Stock</td>\n",
       "      <td>Purchase</td>\n",
       "    </tr>\n",
       "    <tr>\n",
       "      <th>1040</th>\n",
       "      <td>2021-03-16</td>\n",
       "      <td>Joint</td>\n",
       "      <td>AA</td>\n",
       "      <td>Alcoa Corporation</td>\n",
       "      <td>Stock</td>\n",
       "      <td>Purchase</td>\n",
       "    </tr>\n",
       "    <tr>\n",
       "      <th>1043</th>\n",
       "      <td>2021-03-12</td>\n",
       "      <td>Joint</td>\n",
       "      <td>CLF</td>\n",
       "      <td>Cleveland-Cliffs Inc.</td>\n",
       "      <td>Stock</td>\n",
       "      <td>Purchase</td>\n",
       "    </tr>\n",
       "    <tr>\n",
       "      <th>1056</th>\n",
       "      <td>2021-04-19</td>\n",
       "      <td>Joint</td>\n",
       "      <td>CLF</td>\n",
       "      <td>Cleveland-Cliffs Inc.</td>\n",
       "      <td>Stock</td>\n",
       "      <td>Purchase</td>\n",
       "    </tr>\n",
       "    <tr>\n",
       "      <th>1059</th>\n",
       "      <td>2021-04-16</td>\n",
       "      <td>Joint</td>\n",
       "      <td>ECOM</td>\n",
       "      <td>ChannelAdvisor Corporation</td>\n",
       "      <td>Stock</td>\n",
       "      <td>Purchase</td>\n",
       "    </tr>\n",
       "    <tr>\n",
       "      <th>1069</th>\n",
       "      <td>2021-04-07</td>\n",
       "      <td>Joint</td>\n",
       "      <td>OXY</td>\n",
       "      <td>Occidental Petroleum Corporation</td>\n",
       "      <td>Stock</td>\n",
       "      <td>Purchase</td>\n",
       "    </tr>\n",
       "    <tr>\n",
       "      <th>1082</th>\n",
       "      <td>2021-05-06</td>\n",
       "      <td>Joint</td>\n",
       "      <td>X</td>\n",
       "      <td>United States Steel Corporation</td>\n",
       "      <td>Stock</td>\n",
       "      <td>Purchase</td>\n",
       "    </tr>\n",
       "  </tbody>\n",
       "</table>\n",
       "</div>"
      ],
      "text/plain": [
       "     transaction_date  owner ticker                 asset_description  \\\n",
       "1034       2021-03-29  Joint   ATHM                     Autohome Inc.   \n",
       "1035       2021-03-29  Joint    AME                      AMETEK, Inc.   \n",
       "1036       2021-03-29  Joint  GOOGL                     Alphabet Inc.   \n",
       "1039       2021-03-16  Joint     AA                 Alcoa Corporation   \n",
       "1040       2021-03-16  Joint     AA                 Alcoa Corporation   \n",
       "1043       2021-03-12  Joint    CLF             Cleveland-Cliffs Inc.   \n",
       "1056       2021-04-19  Joint    CLF             Cleveland-Cliffs Inc.   \n",
       "1059       2021-04-16  Joint   ECOM        ChannelAdvisor Corporation   \n",
       "1069       2021-04-07  Joint    OXY  Occidental Petroleum Corporation   \n",
       "1082       2021-05-06  Joint      X   United States Steel Corporation   \n",
       "\n",
       "     asset_type      type  \n",
       "1034      Stock  Purchase  \n",
       "1035      Stock  Purchase  \n",
       "1036      Stock  Purchase  \n",
       "1039      Stock  Purchase  \n",
       "1040      Stock  Purchase  \n",
       "1043      Stock  Purchase  \n",
       "1056      Stock  Purchase  \n",
       "1059      Stock  Purchase  \n",
       "1069      Stock  Purchase  \n",
       "1082      Stock  Purchase  "
      ]
     },
     "execution_count": 17,
     "metadata": {},
     "output_type": "execute_result"
    }
   ],
   "source": [
    "\n",
    "def purchasesBySenator(senId):\n",
    "    isSenator = transactions['senatorId']==senId\n",
    "    isPurchase = transactions['type']=='Purchase'\n",
    "    isStock = transactions['asset_type']=='Stock'\n",
    "    rez = transactions[isSenator & isPurchase & isStock]\n",
    "\n",
    "    return rez.loc[:, :'type']\n",
    "\n",
    "\n",
    "tbPurchases = purchasesBySenator(100)\n",
    "tbPurchases.tail(10)\n"
   ]
  },
  {
   "cell_type": "code",
   "execution_count": 18,
   "metadata": {},
   "outputs": [
    {
     "data": {
      "application/vnd.plotly.v1+json": {
       "config": {
        "plotlyServerURL": "https://plot.ly"
       },
       "data": [
        {
         "hovertemplate": "variable=OXY_growth<br>date=%{x}<br>value=%{y}<extra></extra>",
         "legendgroup": "OXY_growth",
         "line": {
          "color": "#636efa",
          "dash": "solid"
         },
         "marker": {
          "symbol": "circle"
         },
         "mode": "lines",
         "name": "OXY_growth",
         "orientation": "v",
         "showlegend": true,
         "type": "scatter",
         "x": [
          "2021-06-25T00:00:00",
          "2021-07-02T00:00:00",
          "2021-07-09T00:00:00",
          "2021-07-16T00:00:00",
          "2021-07-23T00:00:00",
          "2021-07-30T00:00:00",
          "2021-08-06T00:00:00",
          "2021-08-13T00:00:00",
          "2021-08-20T00:00:00",
          "2021-08-27T00:00:00",
          "2021-09-03T00:00:00",
          "2021-09-10T00:00:00",
          "2021-09-17T00:00:00",
          "2021-09-24T00:00:00",
          "2021-10-01T00:00:00",
          "2021-10-08T00:00:00",
          "2021-10-15T00:00:00",
          "2021-10-22T00:00:00",
          "2021-10-29T00:00:00",
          "2021-11-05T00:00:00",
          "2021-11-12T00:00:00",
          "2021-11-19T00:00:00",
          "2021-11-26T00:00:00",
          "2021-12-03T00:00:00",
          "2021-12-10T00:00:00",
          "2021-12-17T00:00:00",
          "2021-12-23T00:00:00",
          "2021-12-31T00:00:00",
          "2022-01-07T00:00:00",
          "2022-01-14T00:00:00",
          "2022-01-21T00:00:00",
          "2022-01-28T00:00:00",
          "2022-02-04T00:00:00",
          "2022-02-11T00:00:00",
          "2022-02-18T00:00:00",
          "2022-02-25T00:00:00",
          "2022-03-04T00:00:00",
          "2022-03-11T00:00:00",
          "2022-03-18T00:00:00",
          "2022-03-25T00:00:00",
          "2022-04-01T00:00:00",
          "2022-04-08T00:00:00",
          "2022-04-14T00:00:00",
          "2022-04-22T00:00:00",
          "2022-04-29T00:00:00",
          "2022-05-06T00:00:00",
          "2022-05-13T00:00:00",
          "2022-05-20T00:00:00",
          "2022-05-27T00:00:00",
          "2022-06-03T00:00:00",
          "2022-06-10T00:00:00",
          "2022-06-17T00:00:00"
         ],
         "xaxis": "x",
         "y": [
          null,
          100,
          92.81788959634049,
          79.61952154293134,
          81.58403906781236,
          80.1106509241516,
          81.0008036100637,
          79.15899116028933,
          67.37281325338446,
          78.7599678555975,
          79.5580144649812,
          76.7033442541881,
          82.72176546949377,
          86.28361253631705,
          95.64906966681097,
          103.26420226247149,
          97.21518204858756,
          104.18526302775554,
          102.95697595351432,
          102.61945972677266,
          98.50466711998524,
          89.41583729987026,
          91.19676083328189,
          89.53854237497688,
          94.51350683068561,
          86.12783581628244,
          88.61593620572424,
          89.04586758978803,
          102.00809791679553,
          109.07306669963535,
          103.66693453668795,
          115.4005687086605,
          125.32175310626202,
          132.01798850219453,
          121.51295048525691,
          118.99425109723687,
          172.47110094578727,
          178.40236137726407,
          173.1380972986339,
          180.74210298572052,
          178.8947270816592,
          190.25468257402488,
          182.6815849663102,
          174.3079681028621,
          169.59757680657725,
          199.92149347839526,
          197.27390739939423,
          194.74933547629354,
          218.1464424800643,
          216.39179081411882,
          197.0195339061631,
          171.7558879891204
         ],
         "yaxis": "y"
        },
        {
         "hovertemplate": "variable=SPY_growth<br>date=%{x}<br>value=%{y}<extra></extra>",
         "legendgroup": "SPY_growth",
         "line": {
          "color": "#EF553B",
          "dash": "solid"
         },
         "marker": {
          "symbol": "circle"
         },
         "mode": "lines",
         "name": "SPY_growth",
         "orientation": "v",
         "showlegend": true,
         "type": "scatter",
         "x": [
          "2021-06-25T00:00:00",
          "2021-07-02T00:00:00",
          "2021-07-09T00:00:00",
          "2021-07-16T00:00:00",
          "2021-07-23T00:00:00",
          "2021-07-30T00:00:00",
          "2021-08-06T00:00:00",
          "2021-08-13T00:00:00",
          "2021-08-20T00:00:00",
          "2021-08-27T00:00:00",
          "2021-09-03T00:00:00",
          "2021-09-10T00:00:00",
          "2021-09-17T00:00:00",
          "2021-09-24T00:00:00",
          "2021-10-01T00:00:00",
          "2021-10-08T00:00:00",
          "2021-10-15T00:00:00",
          "2021-10-22T00:00:00",
          "2021-10-29T00:00:00",
          "2021-11-05T00:00:00",
          "2021-11-12T00:00:00",
          "2021-11-19T00:00:00",
          "2021-11-26T00:00:00",
          "2021-12-03T00:00:00",
          "2021-12-10T00:00:00",
          "2021-12-17T00:00:00",
          "2021-12-23T00:00:00",
          "2021-12-31T00:00:00",
          "2022-01-07T00:00:00",
          "2022-01-14T00:00:00",
          "2022-01-21T00:00:00",
          "2022-01-28T00:00:00",
          "2022-02-04T00:00:00",
          "2022-02-11T00:00:00",
          "2022-02-18T00:00:00",
          "2022-02-25T00:00:00",
          "2022-03-04T00:00:00",
          "2022-03-11T00:00:00",
          "2022-03-18T00:00:00",
          "2022-03-25T00:00:00",
          "2022-04-01T00:00:00",
          "2022-04-08T00:00:00",
          "2022-04-14T00:00:00",
          "2022-04-22T00:00:00",
          "2022-04-29T00:00:00",
          "2022-05-06T00:00:00",
          "2022-05-13T00:00:00",
          "2022-05-20T00:00:00",
          "2022-05-27T00:00:00",
          "2022-06-03T00:00:00",
          "2022-06-10T00:00:00",
          "2022-06-17T00:00:00"
         ],
         "xaxis": "x",
         "y": [
          null,
          100,
          100.41501424512798,
          99.45125789892523,
          101.43411678210626,
          101.10441128160598,
          102.02204971576666,
          102.81288737343698,
          102.22262975887425,
          103.811208672046,
          104.4637160752154,
          102.7022184735112,
          102.10000871168297,
          102.68059189663198,
          100.4438261993416,
          101.28118095668367,
          103.13395163583567,
          104.81096234979682,
          106.22887681046264,
          108.37542610344262,
          108.08397217051694,
          108.4586919466713,
          106.16411448795141,
          104.88035055248736,
          108.88662108570105,
          106.75012192833918,
          109.24088836624,
          110.25299337888603,
          108.19398358493495,
          107.87597193382213,
          101.6687921451145,
          102.59035201069628,
          104.15723390211302,
          102.24446767038084,
          100.79828133288274,
          101.61539492923688,
          100.32010151576232,
          97.51132342674865,
          103.50402205018533,
          105.40636244029494,
          105.45990054592421,
          104.21417684340729,
          101.93697578739165,
          99.20103769998411,
          95.93190234743452,
          95.7782385916284,
          93.53827939330047,
          90.72318474708756,
          96.69099284773168,
          95.5919588583139,
          90.76277476730287,
          85.55563043584941
         ],
         "yaxis": "y"
        }
       ],
       "layout": {
        "height": 500,
        "legend": {
         "title": {
          "text": "variable"
         },
         "tracegroupgap": 0
        },
        "template": {
         "data": {
          "bar": [
           {
            "error_x": {
             "color": "#2a3f5f"
            },
            "error_y": {
             "color": "#2a3f5f"
            },
            "marker": {
             "line": {
              "color": "#E5ECF6",
              "width": 0.5
             },
             "pattern": {
              "fillmode": "overlay",
              "size": 10,
              "solidity": 0.2
             }
            },
            "type": "bar"
           }
          ],
          "barpolar": [
           {
            "marker": {
             "line": {
              "color": "#E5ECF6",
              "width": 0.5
             },
             "pattern": {
              "fillmode": "overlay",
              "size": 10,
              "solidity": 0.2
             }
            },
            "type": "barpolar"
           }
          ],
          "carpet": [
           {
            "aaxis": {
             "endlinecolor": "#2a3f5f",
             "gridcolor": "white",
             "linecolor": "white",
             "minorgridcolor": "white",
             "startlinecolor": "#2a3f5f"
            },
            "baxis": {
             "endlinecolor": "#2a3f5f",
             "gridcolor": "white",
             "linecolor": "white",
             "minorgridcolor": "white",
             "startlinecolor": "#2a3f5f"
            },
            "type": "carpet"
           }
          ],
          "choropleth": [
           {
            "colorbar": {
             "outlinewidth": 0,
             "ticks": ""
            },
            "type": "choropleth"
           }
          ],
          "contour": [
           {
            "colorbar": {
             "outlinewidth": 0,
             "ticks": ""
            },
            "colorscale": [
             [
              0,
              "#0d0887"
             ],
             [
              0.1111111111111111,
              "#46039f"
             ],
             [
              0.2222222222222222,
              "#7201a8"
             ],
             [
              0.3333333333333333,
              "#9c179e"
             ],
             [
              0.4444444444444444,
              "#bd3786"
             ],
             [
              0.5555555555555556,
              "#d8576b"
             ],
             [
              0.6666666666666666,
              "#ed7953"
             ],
             [
              0.7777777777777778,
              "#fb9f3a"
             ],
             [
              0.8888888888888888,
              "#fdca26"
             ],
             [
              1,
              "#f0f921"
             ]
            ],
            "type": "contour"
           }
          ],
          "contourcarpet": [
           {
            "colorbar": {
             "outlinewidth": 0,
             "ticks": ""
            },
            "type": "contourcarpet"
           }
          ],
          "heatmap": [
           {
            "colorbar": {
             "outlinewidth": 0,
             "ticks": ""
            },
            "colorscale": [
             [
              0,
              "#0d0887"
             ],
             [
              0.1111111111111111,
              "#46039f"
             ],
             [
              0.2222222222222222,
              "#7201a8"
             ],
             [
              0.3333333333333333,
              "#9c179e"
             ],
             [
              0.4444444444444444,
              "#bd3786"
             ],
             [
              0.5555555555555556,
              "#d8576b"
             ],
             [
              0.6666666666666666,
              "#ed7953"
             ],
             [
              0.7777777777777778,
              "#fb9f3a"
             ],
             [
              0.8888888888888888,
              "#fdca26"
             ],
             [
              1,
              "#f0f921"
             ]
            ],
            "type": "heatmap"
           }
          ],
          "heatmapgl": [
           {
            "colorbar": {
             "outlinewidth": 0,
             "ticks": ""
            },
            "colorscale": [
             [
              0,
              "#0d0887"
             ],
             [
              0.1111111111111111,
              "#46039f"
             ],
             [
              0.2222222222222222,
              "#7201a8"
             ],
             [
              0.3333333333333333,
              "#9c179e"
             ],
             [
              0.4444444444444444,
              "#bd3786"
             ],
             [
              0.5555555555555556,
              "#d8576b"
             ],
             [
              0.6666666666666666,
              "#ed7953"
             ],
             [
              0.7777777777777778,
              "#fb9f3a"
             ],
             [
              0.8888888888888888,
              "#fdca26"
             ],
             [
              1,
              "#f0f921"
             ]
            ],
            "type": "heatmapgl"
           }
          ],
          "histogram": [
           {
            "marker": {
             "pattern": {
              "fillmode": "overlay",
              "size": 10,
              "solidity": 0.2
             }
            },
            "type": "histogram"
           }
          ],
          "histogram2d": [
           {
            "colorbar": {
             "outlinewidth": 0,
             "ticks": ""
            },
            "colorscale": [
             [
              0,
              "#0d0887"
             ],
             [
              0.1111111111111111,
              "#46039f"
             ],
             [
              0.2222222222222222,
              "#7201a8"
             ],
             [
              0.3333333333333333,
              "#9c179e"
             ],
             [
              0.4444444444444444,
              "#bd3786"
             ],
             [
              0.5555555555555556,
              "#d8576b"
             ],
             [
              0.6666666666666666,
              "#ed7953"
             ],
             [
              0.7777777777777778,
              "#fb9f3a"
             ],
             [
              0.8888888888888888,
              "#fdca26"
             ],
             [
              1,
              "#f0f921"
             ]
            ],
            "type": "histogram2d"
           }
          ],
          "histogram2dcontour": [
           {
            "colorbar": {
             "outlinewidth": 0,
             "ticks": ""
            },
            "colorscale": [
             [
              0,
              "#0d0887"
             ],
             [
              0.1111111111111111,
              "#46039f"
             ],
             [
              0.2222222222222222,
              "#7201a8"
             ],
             [
              0.3333333333333333,
              "#9c179e"
             ],
             [
              0.4444444444444444,
              "#bd3786"
             ],
             [
              0.5555555555555556,
              "#d8576b"
             ],
             [
              0.6666666666666666,
              "#ed7953"
             ],
             [
              0.7777777777777778,
              "#fb9f3a"
             ],
             [
              0.8888888888888888,
              "#fdca26"
             ],
             [
              1,
              "#f0f921"
             ]
            ],
            "type": "histogram2dcontour"
           }
          ],
          "mesh3d": [
           {
            "colorbar": {
             "outlinewidth": 0,
             "ticks": ""
            },
            "type": "mesh3d"
           }
          ],
          "parcoords": [
           {
            "line": {
             "colorbar": {
              "outlinewidth": 0,
              "ticks": ""
             }
            },
            "type": "parcoords"
           }
          ],
          "pie": [
           {
            "automargin": true,
            "type": "pie"
           }
          ],
          "scatter": [
           {
            "fillpattern": {
             "fillmode": "overlay",
             "size": 10,
             "solidity": 0.2
            },
            "type": "scatter"
           }
          ],
          "scatter3d": [
           {
            "line": {
             "colorbar": {
              "outlinewidth": 0,
              "ticks": ""
             }
            },
            "marker": {
             "colorbar": {
              "outlinewidth": 0,
              "ticks": ""
             }
            },
            "type": "scatter3d"
           }
          ],
          "scattercarpet": [
           {
            "marker": {
             "colorbar": {
              "outlinewidth": 0,
              "ticks": ""
             }
            },
            "type": "scattercarpet"
           }
          ],
          "scattergeo": [
           {
            "marker": {
             "colorbar": {
              "outlinewidth": 0,
              "ticks": ""
             }
            },
            "type": "scattergeo"
           }
          ],
          "scattergl": [
           {
            "marker": {
             "colorbar": {
              "outlinewidth": 0,
              "ticks": ""
             }
            },
            "type": "scattergl"
           }
          ],
          "scattermapbox": [
           {
            "marker": {
             "colorbar": {
              "outlinewidth": 0,
              "ticks": ""
             }
            },
            "type": "scattermapbox"
           }
          ],
          "scatterpolar": [
           {
            "marker": {
             "colorbar": {
              "outlinewidth": 0,
              "ticks": ""
             }
            },
            "type": "scatterpolar"
           }
          ],
          "scatterpolargl": [
           {
            "marker": {
             "colorbar": {
              "outlinewidth": 0,
              "ticks": ""
             }
            },
            "type": "scatterpolargl"
           }
          ],
          "scatterternary": [
           {
            "marker": {
             "colorbar": {
              "outlinewidth": 0,
              "ticks": ""
             }
            },
            "type": "scatterternary"
           }
          ],
          "surface": [
           {
            "colorbar": {
             "outlinewidth": 0,
             "ticks": ""
            },
            "colorscale": [
             [
              0,
              "#0d0887"
             ],
             [
              0.1111111111111111,
              "#46039f"
             ],
             [
              0.2222222222222222,
              "#7201a8"
             ],
             [
              0.3333333333333333,
              "#9c179e"
             ],
             [
              0.4444444444444444,
              "#bd3786"
             ],
             [
              0.5555555555555556,
              "#d8576b"
             ],
             [
              0.6666666666666666,
              "#ed7953"
             ],
             [
              0.7777777777777778,
              "#fb9f3a"
             ],
             [
              0.8888888888888888,
              "#fdca26"
             ],
             [
              1,
              "#f0f921"
             ]
            ],
            "type": "surface"
           }
          ],
          "table": [
           {
            "cells": {
             "fill": {
              "color": "#EBF0F8"
             },
             "line": {
              "color": "white"
             }
            },
            "header": {
             "fill": {
              "color": "#C8D4E3"
             },
             "line": {
              "color": "white"
             }
            },
            "type": "table"
           }
          ]
         },
         "layout": {
          "annotationdefaults": {
           "arrowcolor": "#2a3f5f",
           "arrowhead": 0,
           "arrowwidth": 1
          },
          "autotypenumbers": "strict",
          "coloraxis": {
           "colorbar": {
            "outlinewidth": 0,
            "ticks": ""
           }
          },
          "colorscale": {
           "diverging": [
            [
             0,
             "#8e0152"
            ],
            [
             0.1,
             "#c51b7d"
            ],
            [
             0.2,
             "#de77ae"
            ],
            [
             0.3,
             "#f1b6da"
            ],
            [
             0.4,
             "#fde0ef"
            ],
            [
             0.5,
             "#f7f7f7"
            ],
            [
             0.6,
             "#e6f5d0"
            ],
            [
             0.7,
             "#b8e186"
            ],
            [
             0.8,
             "#7fbc41"
            ],
            [
             0.9,
             "#4d9221"
            ],
            [
             1,
             "#276419"
            ]
           ],
           "sequential": [
            [
             0,
             "#0d0887"
            ],
            [
             0.1111111111111111,
             "#46039f"
            ],
            [
             0.2222222222222222,
             "#7201a8"
            ],
            [
             0.3333333333333333,
             "#9c179e"
            ],
            [
             0.4444444444444444,
             "#bd3786"
            ],
            [
             0.5555555555555556,
             "#d8576b"
            ],
            [
             0.6666666666666666,
             "#ed7953"
            ],
            [
             0.7777777777777778,
             "#fb9f3a"
            ],
            [
             0.8888888888888888,
             "#fdca26"
            ],
            [
             1,
             "#f0f921"
            ]
           ],
           "sequentialminus": [
            [
             0,
             "#0d0887"
            ],
            [
             0.1111111111111111,
             "#46039f"
            ],
            [
             0.2222222222222222,
             "#7201a8"
            ],
            [
             0.3333333333333333,
             "#9c179e"
            ],
            [
             0.4444444444444444,
             "#bd3786"
            ],
            [
             0.5555555555555556,
             "#d8576b"
            ],
            [
             0.6666666666666666,
             "#ed7953"
            ],
            [
             0.7777777777777778,
             "#fb9f3a"
            ],
            [
             0.8888888888888888,
             "#fdca26"
            ],
            [
             1,
             "#f0f921"
            ]
           ]
          },
          "colorway": [
           "#636efa",
           "#EF553B",
           "#00cc96",
           "#ab63fa",
           "#FFA15A",
           "#19d3f3",
           "#FF6692",
           "#B6E880",
           "#FF97FF",
           "#FECB52"
          ],
          "font": {
           "color": "#2a3f5f"
          },
          "geo": {
           "bgcolor": "white",
           "lakecolor": "white",
           "landcolor": "#E5ECF6",
           "showlakes": true,
           "showland": true,
           "subunitcolor": "white"
          },
          "hoverlabel": {
           "align": "left"
          },
          "hovermode": "closest",
          "mapbox": {
           "style": "light"
          },
          "paper_bgcolor": "white",
          "plot_bgcolor": "#E5ECF6",
          "polar": {
           "angularaxis": {
            "gridcolor": "white",
            "linecolor": "white",
            "ticks": ""
           },
           "bgcolor": "#E5ECF6",
           "radialaxis": {
            "gridcolor": "white",
            "linecolor": "white",
            "ticks": ""
           }
          },
          "scene": {
           "xaxis": {
            "backgroundcolor": "#E5ECF6",
            "gridcolor": "white",
            "gridwidth": 2,
            "linecolor": "white",
            "showbackground": true,
            "ticks": "",
            "zerolinecolor": "white"
           },
           "yaxis": {
            "backgroundcolor": "#E5ECF6",
            "gridcolor": "white",
            "gridwidth": 2,
            "linecolor": "white",
            "showbackground": true,
            "ticks": "",
            "zerolinecolor": "white"
           },
           "zaxis": {
            "backgroundcolor": "#E5ECF6",
            "gridcolor": "white",
            "gridwidth": 2,
            "linecolor": "white",
            "showbackground": true,
            "ticks": "",
            "zerolinecolor": "white"
           }
          },
          "shapedefaults": {
           "line": {
            "color": "#2a3f5f"
           }
          },
          "ternary": {
           "aaxis": {
            "gridcolor": "white",
            "linecolor": "white",
            "ticks": ""
           },
           "baxis": {
            "gridcolor": "white",
            "linecolor": "white",
            "ticks": ""
           },
           "bgcolor": "#E5ECF6",
           "caxis": {
            "gridcolor": "white",
            "linecolor": "white",
            "ticks": ""
           }
          },
          "title": {
           "x": 0.05
          },
          "xaxis": {
           "automargin": true,
           "gridcolor": "white",
           "linecolor": "white",
           "ticks": "",
           "title": {
            "standoff": 15
           },
           "zerolinecolor": "white",
           "zerolinewidth": 2
          },
          "yaxis": {
           "automargin": true,
           "gridcolor": "white",
           "linecolor": "white",
           "ticks": "",
           "title": {
            "standoff": 15
           },
           "zerolinecolor": "white",
           "zerolinewidth": 2
          }
         }
        },
        "title": {
         "text": "Growth in OXY v SPY"
        },
        "width": 800,
        "xaxis": {
         "anchor": "y",
         "domain": [
          0,
          1
         ],
         "title": {
          "text": "date"
         }
        },
        "yaxis": {
         "anchor": "x",
         "domain": [
          0,
          1
         ],
         "title": {
          "text": "value"
         }
        }
       }
      }
     },
     "metadata": {},
     "output_type": "display_data"
    }
   ],
   "source": [
    "graphAlpha(\"OXY\", '2021-06-25')"
   ]
  },
  {
   "cell_type": "code",
   "execution_count": 19,
   "metadata": {},
   "outputs": [
    {
     "data": {
      "application/vnd.plotly.v1+json": {
       "config": {
        "plotlyServerURL": "https://plot.ly"
       },
       "data": [
        {
         "hovertemplate": "variable=AA_growth<br>date=%{x}<br>value=%{y}<extra></extra>",
         "legendgroup": "AA_growth",
         "line": {
          "color": "#636efa",
          "dash": "solid"
         },
         "marker": {
          "symbol": "circle"
         },
         "mode": "lines",
         "name": "AA_growth",
         "orientation": "v",
         "showlegend": true,
         "type": "scatter",
         "x": [
          "2021-03-19T00:00:00",
          "2021-03-26T00:00:00",
          "2021-04-01T00:00:00",
          "2021-04-09T00:00:00",
          "2021-04-16T00:00:00",
          "2021-04-23T00:00:00",
          "2021-04-30T00:00:00",
          "2021-05-07T00:00:00",
          "2021-05-14T00:00:00",
          "2021-05-21T00:00:00",
          "2021-05-28T00:00:00",
          "2021-06-04T00:00:00",
          "2021-06-11T00:00:00",
          "2021-06-18T00:00:00",
          "2021-06-25T00:00:00",
          "2021-07-02T00:00:00",
          "2021-07-09T00:00:00",
          "2021-07-16T00:00:00",
          "2021-07-23T00:00:00",
          "2021-07-30T00:00:00",
          "2021-08-06T00:00:00",
          "2021-08-13T00:00:00",
          "2021-08-20T00:00:00",
          "2021-08-27T00:00:00",
          "2021-09-03T00:00:00",
          "2021-09-10T00:00:00",
          "2021-09-17T00:00:00",
          "2021-09-24T00:00:00",
          "2021-10-01T00:00:00",
          "2021-10-08T00:00:00",
          "2021-10-15T00:00:00",
          "2021-10-22T00:00:00",
          "2021-10-29T00:00:00",
          "2021-11-05T00:00:00",
          "2021-11-12T00:00:00",
          "2021-11-19T00:00:00",
          "2021-11-26T00:00:00",
          "2021-12-03T00:00:00",
          "2021-12-10T00:00:00",
          "2021-12-17T00:00:00",
          "2021-12-23T00:00:00",
          "2021-12-31T00:00:00",
          "2022-01-07T00:00:00",
          "2022-01-14T00:00:00",
          "2022-01-21T00:00:00",
          "2022-01-28T00:00:00",
          "2022-02-04T00:00:00",
          "2022-02-11T00:00:00",
          "2022-02-18T00:00:00",
          "2022-02-25T00:00:00",
          "2022-03-04T00:00:00",
          "2022-03-11T00:00:00"
         ],
         "xaxis": "x",
         "y": [
          null,
          100,
          98.322301653058,
          95.66823030082759,
          108.69433980860624,
          105.88780642558159,
          111.77561285116317,
          125.68661814575371,
          121.1106011932079,
          110.25037653501545,
          121.01912397473136,
          118.48702224713632,
          114.03297491922594,
          97.86460755657266,
          109.21301871740933,
          115.6804888641117,
          114.21592935617903,
          100.51867890880308,
          113.05690991804012,
          122.4833754785614,
          124.19156623166222,
          138.04158671393506,
          115.03984033067323,
          134.62489720363078,
          144.0208703579932,
          151.00671140939602,
          148.9627961844452,
          147.92574637094168,
          151.83062238389016,
          140.42122641073578,
          170.83601553572694,
          150.2440932513221,
          140.47882317792474,
          146.31796495529323,
          158.7302222865609,
          145.52331437054744,
          146.59332062303073,
          134.73115861903284,
          149.19195123679052,
          164.26382399413566,
          181.47601726055,
          182.1486982206604,
          190.67825583436783,
          187.68199192413255,
          171.84565298409788,
          175.48379744418207,
          196.3341351706806,
          224.76599388303867,
          239.0737084617969,
          238.00370220931364,
          277.1667318608686,
          241.9249024397007
         ],
         "yaxis": "y"
        },
        {
         "hovertemplate": "variable=SPY_growth<br>date=%{x}<br>value=%{y}<extra></extra>",
         "legendgroup": "SPY_growth",
         "line": {
          "color": "#EF553B",
          "dash": "solid"
         },
         "marker": {
          "symbol": "circle"
         },
         "mode": "lines",
         "name": "SPY_growth",
         "orientation": "v",
         "showlegend": true,
         "type": "scatter",
         "x": [
          "2021-03-19T00:00:00",
          "2021-03-26T00:00:00",
          "2021-04-01T00:00:00",
          "2021-04-09T00:00:00",
          "2021-04-16T00:00:00",
          "2021-04-23T00:00:00",
          "2021-04-30T00:00:00",
          "2021-05-07T00:00:00",
          "2021-05-14T00:00:00",
          "2021-05-21T00:00:00",
          "2021-05-28T00:00:00",
          "2021-06-04T00:00:00",
          "2021-06-11T00:00:00",
          "2021-06-18T00:00:00",
          "2021-06-25T00:00:00",
          "2021-07-02T00:00:00",
          "2021-07-09T00:00:00",
          "2021-07-16T00:00:00",
          "2021-07-23T00:00:00",
          "2021-07-30T00:00:00",
          "2021-08-06T00:00:00",
          "2021-08-13T00:00:00",
          "2021-08-20T00:00:00",
          "2021-08-27T00:00:00",
          "2021-09-03T00:00:00",
          "2021-09-10T00:00:00",
          "2021-09-17T00:00:00",
          "2021-09-24T00:00:00",
          "2021-10-01T00:00:00",
          "2021-10-08T00:00:00",
          "2021-10-15T00:00:00",
          "2021-10-22T00:00:00",
          "2021-10-29T00:00:00",
          "2021-11-05T00:00:00",
          "2021-11-12T00:00:00",
          "2021-11-19T00:00:00",
          "2021-11-26T00:00:00",
          "2021-12-03T00:00:00",
          "2021-12-10T00:00:00",
          "2021-12-17T00:00:00",
          "2021-12-23T00:00:00",
          "2021-12-31T00:00:00",
          "2022-01-07T00:00:00",
          "2022-01-14T00:00:00",
          "2022-01-21T00:00:00",
          "2022-01-28T00:00:00",
          "2022-02-04T00:00:00",
          "2022-02-11T00:00:00",
          "2022-02-18T00:00:00",
          "2022-02-25T00:00:00",
          "2022-03-04T00:00:00",
          "2022-03-11T00:00:00"
         ],
         "xaxis": "x",
         "y": [
          null,
          100,
          101.1692455216898,
          103.91687314882147,
          105.37399806050422,
          105.24267695834625,
          105.38411357868969,
          106.60135620197386,
          105.2022923002843,
          104.78812376233279,
          106.07607179334201,
          106.72256178594634,
          107.15440667582911,
          105.1305288919327,
          108.09249196306594,
          109.8939831762417,
          110.35005886096165,
          109.29094862400565,
          111.46999123149722,
          111.10766472424629,
          112.11609415070156,
          112.98517715317317,
          112.33651954952911,
          114.08227219311141,
          114.79933856897412,
          112.86355869090741,
          112.20176639655823,
          112.83979238415019,
          110.38172146507794,
          111.3019239612369,
          113.33800745967854,
          115.18094133154278,
          116.73914401040037,
          119.09807252929753,
          118.77778219328168,
          119.1895766810468,
          116.66797411459534,
          115.25719479133382,
          119.65984505709841,
          117.3119610325466,
          120.04916348277281,
          121.16140599509593,
          118.89867811853416,
          118.54920244816174,
          111.72788533544029,
          112.74062417908173,
          114.46253310122682,
          112.36051810032625,
          110.77124632989897,
          111.66920500800718,
          110.24575548212047,
          107.15907736152182
         ],
         "yaxis": "y"
        }
       ],
       "layout": {
        "height": 500,
        "legend": {
         "title": {
          "text": "variable"
         },
         "tracegroupgap": 0
        },
        "template": {
         "data": {
          "bar": [
           {
            "error_x": {
             "color": "#2a3f5f"
            },
            "error_y": {
             "color": "#2a3f5f"
            },
            "marker": {
             "line": {
              "color": "#E5ECF6",
              "width": 0.5
             },
             "pattern": {
              "fillmode": "overlay",
              "size": 10,
              "solidity": 0.2
             }
            },
            "type": "bar"
           }
          ],
          "barpolar": [
           {
            "marker": {
             "line": {
              "color": "#E5ECF6",
              "width": 0.5
             },
             "pattern": {
              "fillmode": "overlay",
              "size": 10,
              "solidity": 0.2
             }
            },
            "type": "barpolar"
           }
          ],
          "carpet": [
           {
            "aaxis": {
             "endlinecolor": "#2a3f5f",
             "gridcolor": "white",
             "linecolor": "white",
             "minorgridcolor": "white",
             "startlinecolor": "#2a3f5f"
            },
            "baxis": {
             "endlinecolor": "#2a3f5f",
             "gridcolor": "white",
             "linecolor": "white",
             "minorgridcolor": "white",
             "startlinecolor": "#2a3f5f"
            },
            "type": "carpet"
           }
          ],
          "choropleth": [
           {
            "colorbar": {
             "outlinewidth": 0,
             "ticks": ""
            },
            "type": "choropleth"
           }
          ],
          "contour": [
           {
            "colorbar": {
             "outlinewidth": 0,
             "ticks": ""
            },
            "colorscale": [
             [
              0,
              "#0d0887"
             ],
             [
              0.1111111111111111,
              "#46039f"
             ],
             [
              0.2222222222222222,
              "#7201a8"
             ],
             [
              0.3333333333333333,
              "#9c179e"
             ],
             [
              0.4444444444444444,
              "#bd3786"
             ],
             [
              0.5555555555555556,
              "#d8576b"
             ],
             [
              0.6666666666666666,
              "#ed7953"
             ],
             [
              0.7777777777777778,
              "#fb9f3a"
             ],
             [
              0.8888888888888888,
              "#fdca26"
             ],
             [
              1,
              "#f0f921"
             ]
            ],
            "type": "contour"
           }
          ],
          "contourcarpet": [
           {
            "colorbar": {
             "outlinewidth": 0,
             "ticks": ""
            },
            "type": "contourcarpet"
           }
          ],
          "heatmap": [
           {
            "colorbar": {
             "outlinewidth": 0,
             "ticks": ""
            },
            "colorscale": [
             [
              0,
              "#0d0887"
             ],
             [
              0.1111111111111111,
              "#46039f"
             ],
             [
              0.2222222222222222,
              "#7201a8"
             ],
             [
              0.3333333333333333,
              "#9c179e"
             ],
             [
              0.4444444444444444,
              "#bd3786"
             ],
             [
              0.5555555555555556,
              "#d8576b"
             ],
             [
              0.6666666666666666,
              "#ed7953"
             ],
             [
              0.7777777777777778,
              "#fb9f3a"
             ],
             [
              0.8888888888888888,
              "#fdca26"
             ],
             [
              1,
              "#f0f921"
             ]
            ],
            "type": "heatmap"
           }
          ],
          "heatmapgl": [
           {
            "colorbar": {
             "outlinewidth": 0,
             "ticks": ""
            },
            "colorscale": [
             [
              0,
              "#0d0887"
             ],
             [
              0.1111111111111111,
              "#46039f"
             ],
             [
              0.2222222222222222,
              "#7201a8"
             ],
             [
              0.3333333333333333,
              "#9c179e"
             ],
             [
              0.4444444444444444,
              "#bd3786"
             ],
             [
              0.5555555555555556,
              "#d8576b"
             ],
             [
              0.6666666666666666,
              "#ed7953"
             ],
             [
              0.7777777777777778,
              "#fb9f3a"
             ],
             [
              0.8888888888888888,
              "#fdca26"
             ],
             [
              1,
              "#f0f921"
             ]
            ],
            "type": "heatmapgl"
           }
          ],
          "histogram": [
           {
            "marker": {
             "pattern": {
              "fillmode": "overlay",
              "size": 10,
              "solidity": 0.2
             }
            },
            "type": "histogram"
           }
          ],
          "histogram2d": [
           {
            "colorbar": {
             "outlinewidth": 0,
             "ticks": ""
            },
            "colorscale": [
             [
              0,
              "#0d0887"
             ],
             [
              0.1111111111111111,
              "#46039f"
             ],
             [
              0.2222222222222222,
              "#7201a8"
             ],
             [
              0.3333333333333333,
              "#9c179e"
             ],
             [
              0.4444444444444444,
              "#bd3786"
             ],
             [
              0.5555555555555556,
              "#d8576b"
             ],
             [
              0.6666666666666666,
              "#ed7953"
             ],
             [
              0.7777777777777778,
              "#fb9f3a"
             ],
             [
              0.8888888888888888,
              "#fdca26"
             ],
             [
              1,
              "#f0f921"
             ]
            ],
            "type": "histogram2d"
           }
          ],
          "histogram2dcontour": [
           {
            "colorbar": {
             "outlinewidth": 0,
             "ticks": ""
            },
            "colorscale": [
             [
              0,
              "#0d0887"
             ],
             [
              0.1111111111111111,
              "#46039f"
             ],
             [
              0.2222222222222222,
              "#7201a8"
             ],
             [
              0.3333333333333333,
              "#9c179e"
             ],
             [
              0.4444444444444444,
              "#bd3786"
             ],
             [
              0.5555555555555556,
              "#d8576b"
             ],
             [
              0.6666666666666666,
              "#ed7953"
             ],
             [
              0.7777777777777778,
              "#fb9f3a"
             ],
             [
              0.8888888888888888,
              "#fdca26"
             ],
             [
              1,
              "#f0f921"
             ]
            ],
            "type": "histogram2dcontour"
           }
          ],
          "mesh3d": [
           {
            "colorbar": {
             "outlinewidth": 0,
             "ticks": ""
            },
            "type": "mesh3d"
           }
          ],
          "parcoords": [
           {
            "line": {
             "colorbar": {
              "outlinewidth": 0,
              "ticks": ""
             }
            },
            "type": "parcoords"
           }
          ],
          "pie": [
           {
            "automargin": true,
            "type": "pie"
           }
          ],
          "scatter": [
           {
            "fillpattern": {
             "fillmode": "overlay",
             "size": 10,
             "solidity": 0.2
            },
            "type": "scatter"
           }
          ],
          "scatter3d": [
           {
            "line": {
             "colorbar": {
              "outlinewidth": 0,
              "ticks": ""
             }
            },
            "marker": {
             "colorbar": {
              "outlinewidth": 0,
              "ticks": ""
             }
            },
            "type": "scatter3d"
           }
          ],
          "scattercarpet": [
           {
            "marker": {
             "colorbar": {
              "outlinewidth": 0,
              "ticks": ""
             }
            },
            "type": "scattercarpet"
           }
          ],
          "scattergeo": [
           {
            "marker": {
             "colorbar": {
              "outlinewidth": 0,
              "ticks": ""
             }
            },
            "type": "scattergeo"
           }
          ],
          "scattergl": [
           {
            "marker": {
             "colorbar": {
              "outlinewidth": 0,
              "ticks": ""
             }
            },
            "type": "scattergl"
           }
          ],
          "scattermapbox": [
           {
            "marker": {
             "colorbar": {
              "outlinewidth": 0,
              "ticks": ""
             }
            },
            "type": "scattermapbox"
           }
          ],
          "scatterpolar": [
           {
            "marker": {
             "colorbar": {
              "outlinewidth": 0,
              "ticks": ""
             }
            },
            "type": "scatterpolar"
           }
          ],
          "scatterpolargl": [
           {
            "marker": {
             "colorbar": {
              "outlinewidth": 0,
              "ticks": ""
             }
            },
            "type": "scatterpolargl"
           }
          ],
          "scatterternary": [
           {
            "marker": {
             "colorbar": {
              "outlinewidth": 0,
              "ticks": ""
             }
            },
            "type": "scatterternary"
           }
          ],
          "surface": [
           {
            "colorbar": {
             "outlinewidth": 0,
             "ticks": ""
            },
            "colorscale": [
             [
              0,
              "#0d0887"
             ],
             [
              0.1111111111111111,
              "#46039f"
             ],
             [
              0.2222222222222222,
              "#7201a8"
             ],
             [
              0.3333333333333333,
              "#9c179e"
             ],
             [
              0.4444444444444444,
              "#bd3786"
             ],
             [
              0.5555555555555556,
              "#d8576b"
             ],
             [
              0.6666666666666666,
              "#ed7953"
             ],
             [
              0.7777777777777778,
              "#fb9f3a"
             ],
             [
              0.8888888888888888,
              "#fdca26"
             ],
             [
              1,
              "#f0f921"
             ]
            ],
            "type": "surface"
           }
          ],
          "table": [
           {
            "cells": {
             "fill": {
              "color": "#EBF0F8"
             },
             "line": {
              "color": "white"
             }
            },
            "header": {
             "fill": {
              "color": "#C8D4E3"
             },
             "line": {
              "color": "white"
             }
            },
            "type": "table"
           }
          ]
         },
         "layout": {
          "annotationdefaults": {
           "arrowcolor": "#2a3f5f",
           "arrowhead": 0,
           "arrowwidth": 1
          },
          "autotypenumbers": "strict",
          "coloraxis": {
           "colorbar": {
            "outlinewidth": 0,
            "ticks": ""
           }
          },
          "colorscale": {
           "diverging": [
            [
             0,
             "#8e0152"
            ],
            [
             0.1,
             "#c51b7d"
            ],
            [
             0.2,
             "#de77ae"
            ],
            [
             0.3,
             "#f1b6da"
            ],
            [
             0.4,
             "#fde0ef"
            ],
            [
             0.5,
             "#f7f7f7"
            ],
            [
             0.6,
             "#e6f5d0"
            ],
            [
             0.7,
             "#b8e186"
            ],
            [
             0.8,
             "#7fbc41"
            ],
            [
             0.9,
             "#4d9221"
            ],
            [
             1,
             "#276419"
            ]
           ],
           "sequential": [
            [
             0,
             "#0d0887"
            ],
            [
             0.1111111111111111,
             "#46039f"
            ],
            [
             0.2222222222222222,
             "#7201a8"
            ],
            [
             0.3333333333333333,
             "#9c179e"
            ],
            [
             0.4444444444444444,
             "#bd3786"
            ],
            [
             0.5555555555555556,
             "#d8576b"
            ],
            [
             0.6666666666666666,
             "#ed7953"
            ],
            [
             0.7777777777777778,
             "#fb9f3a"
            ],
            [
             0.8888888888888888,
             "#fdca26"
            ],
            [
             1,
             "#f0f921"
            ]
           ],
           "sequentialminus": [
            [
             0,
             "#0d0887"
            ],
            [
             0.1111111111111111,
             "#46039f"
            ],
            [
             0.2222222222222222,
             "#7201a8"
            ],
            [
             0.3333333333333333,
             "#9c179e"
            ],
            [
             0.4444444444444444,
             "#bd3786"
            ],
            [
             0.5555555555555556,
             "#d8576b"
            ],
            [
             0.6666666666666666,
             "#ed7953"
            ],
            [
             0.7777777777777778,
             "#fb9f3a"
            ],
            [
             0.8888888888888888,
             "#fdca26"
            ],
            [
             1,
             "#f0f921"
            ]
           ]
          },
          "colorway": [
           "#636efa",
           "#EF553B",
           "#00cc96",
           "#ab63fa",
           "#FFA15A",
           "#19d3f3",
           "#FF6692",
           "#B6E880",
           "#FF97FF",
           "#FECB52"
          ],
          "font": {
           "color": "#2a3f5f"
          },
          "geo": {
           "bgcolor": "white",
           "lakecolor": "white",
           "landcolor": "#E5ECF6",
           "showlakes": true,
           "showland": true,
           "subunitcolor": "white"
          },
          "hoverlabel": {
           "align": "left"
          },
          "hovermode": "closest",
          "mapbox": {
           "style": "light"
          },
          "paper_bgcolor": "white",
          "plot_bgcolor": "#E5ECF6",
          "polar": {
           "angularaxis": {
            "gridcolor": "white",
            "linecolor": "white",
            "ticks": ""
           },
           "bgcolor": "#E5ECF6",
           "radialaxis": {
            "gridcolor": "white",
            "linecolor": "white",
            "ticks": ""
           }
          },
          "scene": {
           "xaxis": {
            "backgroundcolor": "#E5ECF6",
            "gridcolor": "white",
            "gridwidth": 2,
            "linecolor": "white",
            "showbackground": true,
            "ticks": "",
            "zerolinecolor": "white"
           },
           "yaxis": {
            "backgroundcolor": "#E5ECF6",
            "gridcolor": "white",
            "gridwidth": 2,
            "linecolor": "white",
            "showbackground": true,
            "ticks": "",
            "zerolinecolor": "white"
           },
           "zaxis": {
            "backgroundcolor": "#E5ECF6",
            "gridcolor": "white",
            "gridwidth": 2,
            "linecolor": "white",
            "showbackground": true,
            "ticks": "",
            "zerolinecolor": "white"
           }
          },
          "shapedefaults": {
           "line": {
            "color": "#2a3f5f"
           }
          },
          "ternary": {
           "aaxis": {
            "gridcolor": "white",
            "linecolor": "white",
            "ticks": ""
           },
           "baxis": {
            "gridcolor": "white",
            "linecolor": "white",
            "ticks": ""
           },
           "bgcolor": "#E5ECF6",
           "caxis": {
            "gridcolor": "white",
            "linecolor": "white",
            "ticks": ""
           }
          },
          "title": {
           "x": 0.05
          },
          "xaxis": {
           "automargin": true,
           "gridcolor": "white",
           "linecolor": "white",
           "ticks": "",
           "title": {
            "standoff": 15
           },
           "zerolinecolor": "white",
           "zerolinewidth": 2
          },
          "yaxis": {
           "automargin": true,
           "gridcolor": "white",
           "linecolor": "white",
           "ticks": "",
           "title": {
            "standoff": 15
           },
           "zerolinecolor": "white",
           "zerolinewidth": 2
          }
         }
        },
        "title": {
         "text": "Growth in AA v SPY"
        },
        "width": 800,
        "xaxis": {
         "anchor": "y",
         "domain": [
          0,
          1
         ],
         "title": {
          "text": "date"
         }
        },
        "yaxis": {
         "anchor": "x",
         "domain": [
          0,
          1
         ],
         "title": {
          "text": "value"
         }
        }
       }
      }
     },
     "metadata": {},
     "output_type": "display_data"
    }
   ],
   "source": [
    "alDate = reformatDate(\"03/16/2021\")\n",
    "graphAlpha('AA', alDate)\n"
   ]
  },
  {
   "cell_type": "markdown",
   "metadata": {},
   "source": [
    "Alright so Tommy Tuberville had a great year in 2021, but the S&P was pretty lousy that year. Let's try a different Senator and another time period"
   ]
  },
  {
   "cell_type": "code",
   "execution_count": 20,
   "metadata": {},
   "outputs": [
    {
     "name": "stdout",
     "output_type": "stream",
     "text": [
      "    row              senator  senatorId       party\n",
      "34   35  David A Perdue , Jr        136  Republican\n"
     ]
    },
    {
     "data": {
      "text/html": [
       "<div>\n",
       "<style scoped>\n",
       "    .dataframe tbody tr th:only-of-type {\n",
       "        vertical-align: middle;\n",
       "    }\n",
       "\n",
       "    .dataframe tbody tr th {\n",
       "        vertical-align: top;\n",
       "    }\n",
       "\n",
       "    .dataframe thead th {\n",
       "        text-align: right;\n",
       "    }\n",
       "</style>\n",
       "<table border=\"1\" class=\"dataframe\">\n",
       "  <thead>\n",
       "    <tr style=\"text-align: right;\">\n",
       "      <th></th>\n",
       "      <th>transaction_date</th>\n",
       "      <th>owner</th>\n",
       "      <th>ticker</th>\n",
       "      <th>asset_description</th>\n",
       "      <th>asset_type</th>\n",
       "      <th>type</th>\n",
       "    </tr>\n",
       "  </thead>\n",
       "  <tbody>\n",
       "    <tr>\n",
       "      <th>8382</th>\n",
       "      <td>2015-04-17</td>\n",
       "      <td>Joint</td>\n",
       "      <td>KN</td>\n",
       "      <td>Knowles Corporation (NYSE)</td>\n",
       "      <td>Stock</td>\n",
       "      <td>Purchase</td>\n",
       "    </tr>\n",
       "    <tr>\n",
       "      <th>8383</th>\n",
       "      <td>2015-04-23</td>\n",
       "      <td>Joint</td>\n",
       "      <td>KN</td>\n",
       "      <td>Knowles Corporation (NYSE)</td>\n",
       "      <td>Stock</td>\n",
       "      <td>Purchase</td>\n",
       "    </tr>\n",
       "    <tr>\n",
       "      <th>8384</th>\n",
       "      <td>2015-04-24</td>\n",
       "      <td>Joint</td>\n",
       "      <td>KN</td>\n",
       "      <td>Knowles Corporation (NYSE)</td>\n",
       "      <td>Stock</td>\n",
       "      <td>Purchase</td>\n",
       "    </tr>\n",
       "    <tr>\n",
       "      <th>8385</th>\n",
       "      <td>2015-04-24</td>\n",
       "      <td>Joint</td>\n",
       "      <td>KN</td>\n",
       "      <td>Knowles Corporation (NYSE)</td>\n",
       "      <td>Stock</td>\n",
       "      <td>Purchase</td>\n",
       "    </tr>\n",
       "    <tr>\n",
       "      <th>8387</th>\n",
       "      <td>2015-04-15</td>\n",
       "      <td>Joint</td>\n",
       "      <td>MOS</td>\n",
       "      <td>The Mosaic Company (NYSE)</td>\n",
       "      <td>Stock</td>\n",
       "      <td>Purchase</td>\n",
       "    </tr>\n",
       "    <tr>\n",
       "      <th>8393</th>\n",
       "      <td>2015-05-12</td>\n",
       "      <td>Joint</td>\n",
       "      <td>DISCA</td>\n",
       "      <td>Discovery Communications, Inc. (NASDAQ)</td>\n",
       "      <td>Stock</td>\n",
       "      <td>Purchase</td>\n",
       "    </tr>\n",
       "    <tr>\n",
       "      <th>8394</th>\n",
       "      <td>2015-05-13</td>\n",
       "      <td>Joint</td>\n",
       "      <td>DISCA</td>\n",
       "      <td>Discovery Communications, Inc. (NASDAQ)</td>\n",
       "      <td>Stock</td>\n",
       "      <td>Purchase</td>\n",
       "    </tr>\n",
       "    <tr>\n",
       "      <th>8395</th>\n",
       "      <td>2015-05-14</td>\n",
       "      <td>Joint</td>\n",
       "      <td>DISCA</td>\n",
       "      <td>Discovery Communications, Inc. (NASDAQ)</td>\n",
       "      <td>Stock</td>\n",
       "      <td>Purchase</td>\n",
       "    </tr>\n",
       "    <tr>\n",
       "      <th>8397</th>\n",
       "      <td>2015-05-15</td>\n",
       "      <td>Joint</td>\n",
       "      <td>AXLL</td>\n",
       "      <td>Axiall Corporation (NYSE)</td>\n",
       "      <td>Stock</td>\n",
       "      <td>Purchase</td>\n",
       "    </tr>\n",
       "    <tr>\n",
       "      <th>8398</th>\n",
       "      <td>2015-05-29</td>\n",
       "      <td>Joint</td>\n",
       "      <td>DISCA</td>\n",
       "      <td>Discovery Communications, Inc. (NASDAQ)</td>\n",
       "      <td>Stock</td>\n",
       "      <td>Purchase</td>\n",
       "    </tr>\n",
       "  </tbody>\n",
       "</table>\n",
       "</div>"
      ],
      "text/plain": [
       "     transaction_date  owner ticker                        asset_description  \\\n",
       "8382       2015-04-17  Joint     KN               Knowles Corporation (NYSE)   \n",
       "8383       2015-04-23  Joint     KN               Knowles Corporation (NYSE)   \n",
       "8384       2015-04-24  Joint     KN               Knowles Corporation (NYSE)   \n",
       "8385       2015-04-24  Joint     KN               Knowles Corporation (NYSE)   \n",
       "8387       2015-04-15  Joint    MOS                The Mosaic Company (NYSE)   \n",
       "8393       2015-05-12  Joint  DISCA  Discovery Communications, Inc. (NASDAQ)   \n",
       "8394       2015-05-13  Joint  DISCA  Discovery Communications, Inc. (NASDAQ)   \n",
       "8395       2015-05-14  Joint  DISCA  Discovery Communications, Inc. (NASDAQ)   \n",
       "8397       2015-05-15  Joint   AXLL                Axiall Corporation (NYSE)   \n",
       "8398       2015-05-29  Joint  DISCA  Discovery Communications, Inc. (NASDAQ)   \n",
       "\n",
       "     asset_type      type  \n",
       "8382      Stock  Purchase  \n",
       "8383      Stock  Purchase  \n",
       "8384      Stock  Purchase  \n",
       "8385      Stock  Purchase  \n",
       "8387      Stock  Purchase  \n",
       "8393      Stock  Purchase  \n",
       "8394      Stock  Purchase  \n",
       "8395      Stock  Purchase  \n",
       "8397      Stock  Purchase  \n",
       "8398      Stock  Purchase  "
      ]
     },
     "execution_count": 20,
     "metadata": {},
     "output_type": "execute_result"
    }
   ],
   "source": [
    "senSample = senators.sample(n=30, random_state=69)['senatorId'].to_list()\n",
    "# lets find the senator with the most purchases within a random sample of 30 senators \n",
    "maxPurchases= 0\n",
    "maxSenator=0\n",
    "for sen in senSample:\n",
    "    currentPurchases = len(purchasesBySenator(sen))\n",
    "    if currentPurchases >= maxPurchases:\n",
    "        maxPurchases = currentPurchases\n",
    "        maxSenator = sen\n",
    "\n",
    "print(senators[senators['senatorId']==maxSenator])\n",
    "purchasesBySenator(maxSenator).tail(10)"
   ]
  },
  {
   "cell_type": "code",
   "execution_count": 21,
   "metadata": {},
   "outputs": [
    {
     "data": {
      "application/vnd.plotly.v1+json": {
       "config": {
        "plotlyServerURL": "https://plot.ly"
       },
       "data": [
        {
         "hovertemplate": "variable=MOS_growth<br>date=%{x}<br>value=%{y}<extra></extra>",
         "legendgroup": "MOS_growth",
         "line": {
          "color": "#636efa",
          "dash": "solid"
         },
         "marker": {
          "symbol": "circle"
         },
         "mode": "lines",
         "name": "MOS_growth",
         "orientation": "v",
         "showlegend": true,
         "type": "scatter",
         "x": [
          "2015-04-17T00:00:00",
          "2015-04-24T00:00:00",
          "2015-05-01T00:00:00",
          "2015-05-08T00:00:00",
          "2015-05-15T00:00:00",
          "2015-05-22T00:00:00",
          "2015-05-29T00:00:00",
          "2015-06-05T00:00:00",
          "2015-06-12T00:00:00",
          "2015-06-19T00:00:00",
          "2015-06-26T00:00:00",
          "2015-07-02T00:00:00",
          "2015-07-10T00:00:00",
          "2015-07-17T00:00:00",
          "2015-07-24T00:00:00",
          "2015-07-31T00:00:00",
          "2015-08-07T00:00:00",
          "2015-08-14T00:00:00",
          "2015-08-21T00:00:00",
          "2015-08-28T00:00:00",
          "2015-09-04T00:00:00",
          "2015-09-11T00:00:00",
          "2015-09-18T00:00:00",
          "2015-09-25T00:00:00",
          "2015-10-02T00:00:00",
          "2015-10-09T00:00:00",
          "2015-10-16T00:00:00",
          "2015-10-23T00:00:00",
          "2015-10-30T00:00:00",
          "2015-11-06T00:00:00",
          "2015-11-13T00:00:00",
          "2015-11-20T00:00:00",
          "2015-11-27T00:00:00",
          "2015-12-04T00:00:00",
          "2015-12-11T00:00:00",
          "2015-12-18T00:00:00",
          "2015-12-24T00:00:00",
          "2015-12-31T00:00:00",
          "2016-01-08T00:00:00",
          "2016-01-15T00:00:00",
          "2016-01-22T00:00:00",
          "2016-01-29T00:00:00",
          "2016-02-05T00:00:00",
          "2016-02-12T00:00:00",
          "2016-02-19T00:00:00",
          "2016-02-26T00:00:00",
          "2016-03-04T00:00:00",
          "2016-03-11T00:00:00",
          "2016-03-18T00:00:00",
          "2016-03-24T00:00:00",
          "2016-04-01T00:00:00",
          "2016-04-08T00:00:00"
         ],
         "xaxis": "x",
         "y": [
          null,
          100,
          99.97783006746715,
          101.04450613955973,
          103.62302045176277,
          104.5342550650738,
          101.91140088780503,
          99.0867499382769,
          99.60119314545996,
          100.27208553563062,
          104.09589503544673,
          104.31960980918744,
          100.71926315206056,
          101.21128449565924,
          95.91141096504711,
          96.02326835191747,
          99.28804284843326,
          96.7835962653741,
          89.31459638126239,
          91.77445116820432,
          89.33298734802263,
          88.1393380259691,
          83.27530521446894,
          72.37601213299948,
          69.78641285453001,
          76.40690895715663,
          78.65892062660295,
          80.21283135231553,
          76.09174321171784,
          73.18672625675808,
          72.53372097124462,
          70.39432248182321,
          69.92144789813928,
          70.13962018874678,
          66.70983085349204,
          64.82463079504404,
          67.5729466359647,
          62.66684133886241,
          56.57968327228207,
          57.85168315135516,
          54.17197821300269,
          54.73983080310583,
          56.46606236805113,
          52.03686255145694,
          55.4213042974399,
          60.91793597928122,
          67.93749086749942,
          65.84948631258601,
          68.18992578111228,
          62.545662503086206,
          61.582026231061135,
          57.268462767109945
         ],
         "yaxis": "y"
        },
        {
         "hovertemplate": "variable=SPY_growth<br>date=%{x}<br>value=%{y}<extra></extra>",
         "legendgroup": "SPY_growth",
         "line": {
          "color": "#EF553B",
          "dash": "solid"
         },
         "marker": {
          "symbol": "circle"
         },
         "mode": "lines",
         "name": "SPY_growth",
         "orientation": "v",
         "showlegend": true,
         "type": "scatter",
         "x": [
          "2015-04-17T00:00:00",
          "2015-04-24T00:00:00",
          "2015-05-01T00:00:00",
          "2015-05-08T00:00:00",
          "2015-05-15T00:00:00",
          "2015-05-22T00:00:00",
          "2015-05-29T00:00:00",
          "2015-06-05T00:00:00",
          "2015-06-12T00:00:00",
          "2015-06-19T00:00:00",
          "2015-06-26T00:00:00",
          "2015-07-02T00:00:00",
          "2015-07-10T00:00:00",
          "2015-07-17T00:00:00",
          "2015-07-24T00:00:00",
          "2015-07-31T00:00:00",
          "2015-08-07T00:00:00",
          "2015-08-14T00:00:00",
          "2015-08-21T00:00:00",
          "2015-08-28T00:00:00",
          "2015-09-04T00:00:00",
          "2015-09-11T00:00:00",
          "2015-09-18T00:00:00",
          "2015-09-25T00:00:00",
          "2015-10-02T00:00:00",
          "2015-10-09T00:00:00",
          "2015-10-16T00:00:00",
          "2015-10-23T00:00:00",
          "2015-10-30T00:00:00",
          "2015-11-06T00:00:00",
          "2015-11-13T00:00:00",
          "2015-11-20T00:00:00",
          "2015-11-27T00:00:00",
          "2015-12-04T00:00:00",
          "2015-12-11T00:00:00",
          "2015-12-18T00:00:00",
          "2015-12-24T00:00:00",
          "2015-12-31T00:00:00",
          "2016-01-08T00:00:00",
          "2016-01-15T00:00:00",
          "2016-01-22T00:00:00",
          "2016-01-29T00:00:00",
          "2016-02-05T00:00:00",
          "2016-02-12T00:00:00",
          "2016-02-19T00:00:00",
          "2016-02-26T00:00:00",
          "2016-03-04T00:00:00",
          "2016-03-11T00:00:00",
          "2016-03-18T00:00:00",
          "2016-03-24T00:00:00",
          "2016-04-01T00:00:00",
          "2016-04-08T00:00:00"
         ],
         "xaxis": "x",
         "y": [
          null,
          100,
          99.56062601571332,
          99.98584239383966,
          100.37325091183664,
          100.63313248698692,
          99.75904947676524,
          99.11175938361795,
          99.18732086017489,
          100.08982757012079,
          99.65777648557221,
          98.43279096864059,
          98.50878639481165,
          100.87793431304688,
          98.72717153811267,
          99.9189056658631,
          98.71767889030401,
          99.40136650733479,
          93.83211140354489,
          94.59651364880018,
          91.43920474393714,
          93.40955296680498,
          93.24503181935543,
          92.05655231371082,
          93.07318777216774,
          96.09450771670897,
          97.02044770581684,
          99.04894517697547,
          99.24465645293921,
          100.25174501988569,
          96.67204040938802,
          99.90333772345689,
          100.0226738673372,
          100.05131454186849,
          96.35699298954394,
          96.04747842727976,
          98.76535910415437,
          97.89621227079319,
          92.15798803600909,
          90.18438519103542,
          91.4856915963487,
          93.02230717991328,
          90.25159313752076,
          89.6177554824109,
          92.19639257685787,
          93.68017479490454,
          96.24438306468234,
          97.36321365726225,
          98.64515506104587,
          98.03697467687027,
          99.87106272090747,
          98.70303309082783
         ],
         "yaxis": "y"
        }
       ],
       "layout": {
        "height": 500,
        "legend": {
         "title": {
          "text": "variable"
         },
         "tracegroupgap": 0
        },
        "template": {
         "data": {
          "bar": [
           {
            "error_x": {
             "color": "#2a3f5f"
            },
            "error_y": {
             "color": "#2a3f5f"
            },
            "marker": {
             "line": {
              "color": "#E5ECF6",
              "width": 0.5
             },
             "pattern": {
              "fillmode": "overlay",
              "size": 10,
              "solidity": 0.2
             }
            },
            "type": "bar"
           }
          ],
          "barpolar": [
           {
            "marker": {
             "line": {
              "color": "#E5ECF6",
              "width": 0.5
             },
             "pattern": {
              "fillmode": "overlay",
              "size": 10,
              "solidity": 0.2
             }
            },
            "type": "barpolar"
           }
          ],
          "carpet": [
           {
            "aaxis": {
             "endlinecolor": "#2a3f5f",
             "gridcolor": "white",
             "linecolor": "white",
             "minorgridcolor": "white",
             "startlinecolor": "#2a3f5f"
            },
            "baxis": {
             "endlinecolor": "#2a3f5f",
             "gridcolor": "white",
             "linecolor": "white",
             "minorgridcolor": "white",
             "startlinecolor": "#2a3f5f"
            },
            "type": "carpet"
           }
          ],
          "choropleth": [
           {
            "colorbar": {
             "outlinewidth": 0,
             "ticks": ""
            },
            "type": "choropleth"
           }
          ],
          "contour": [
           {
            "colorbar": {
             "outlinewidth": 0,
             "ticks": ""
            },
            "colorscale": [
             [
              0,
              "#0d0887"
             ],
             [
              0.1111111111111111,
              "#46039f"
             ],
             [
              0.2222222222222222,
              "#7201a8"
             ],
             [
              0.3333333333333333,
              "#9c179e"
             ],
             [
              0.4444444444444444,
              "#bd3786"
             ],
             [
              0.5555555555555556,
              "#d8576b"
             ],
             [
              0.6666666666666666,
              "#ed7953"
             ],
             [
              0.7777777777777778,
              "#fb9f3a"
             ],
             [
              0.8888888888888888,
              "#fdca26"
             ],
             [
              1,
              "#f0f921"
             ]
            ],
            "type": "contour"
           }
          ],
          "contourcarpet": [
           {
            "colorbar": {
             "outlinewidth": 0,
             "ticks": ""
            },
            "type": "contourcarpet"
           }
          ],
          "heatmap": [
           {
            "colorbar": {
             "outlinewidth": 0,
             "ticks": ""
            },
            "colorscale": [
             [
              0,
              "#0d0887"
             ],
             [
              0.1111111111111111,
              "#46039f"
             ],
             [
              0.2222222222222222,
              "#7201a8"
             ],
             [
              0.3333333333333333,
              "#9c179e"
             ],
             [
              0.4444444444444444,
              "#bd3786"
             ],
             [
              0.5555555555555556,
              "#d8576b"
             ],
             [
              0.6666666666666666,
              "#ed7953"
             ],
             [
              0.7777777777777778,
              "#fb9f3a"
             ],
             [
              0.8888888888888888,
              "#fdca26"
             ],
             [
              1,
              "#f0f921"
             ]
            ],
            "type": "heatmap"
           }
          ],
          "heatmapgl": [
           {
            "colorbar": {
             "outlinewidth": 0,
             "ticks": ""
            },
            "colorscale": [
             [
              0,
              "#0d0887"
             ],
             [
              0.1111111111111111,
              "#46039f"
             ],
             [
              0.2222222222222222,
              "#7201a8"
             ],
             [
              0.3333333333333333,
              "#9c179e"
             ],
             [
              0.4444444444444444,
              "#bd3786"
             ],
             [
              0.5555555555555556,
              "#d8576b"
             ],
             [
              0.6666666666666666,
              "#ed7953"
             ],
             [
              0.7777777777777778,
              "#fb9f3a"
             ],
             [
              0.8888888888888888,
              "#fdca26"
             ],
             [
              1,
              "#f0f921"
             ]
            ],
            "type": "heatmapgl"
           }
          ],
          "histogram": [
           {
            "marker": {
             "pattern": {
              "fillmode": "overlay",
              "size": 10,
              "solidity": 0.2
             }
            },
            "type": "histogram"
           }
          ],
          "histogram2d": [
           {
            "colorbar": {
             "outlinewidth": 0,
             "ticks": ""
            },
            "colorscale": [
             [
              0,
              "#0d0887"
             ],
             [
              0.1111111111111111,
              "#46039f"
             ],
             [
              0.2222222222222222,
              "#7201a8"
             ],
             [
              0.3333333333333333,
              "#9c179e"
             ],
             [
              0.4444444444444444,
              "#bd3786"
             ],
             [
              0.5555555555555556,
              "#d8576b"
             ],
             [
              0.6666666666666666,
              "#ed7953"
             ],
             [
              0.7777777777777778,
              "#fb9f3a"
             ],
             [
              0.8888888888888888,
              "#fdca26"
             ],
             [
              1,
              "#f0f921"
             ]
            ],
            "type": "histogram2d"
           }
          ],
          "histogram2dcontour": [
           {
            "colorbar": {
             "outlinewidth": 0,
             "ticks": ""
            },
            "colorscale": [
             [
              0,
              "#0d0887"
             ],
             [
              0.1111111111111111,
              "#46039f"
             ],
             [
              0.2222222222222222,
              "#7201a8"
             ],
             [
              0.3333333333333333,
              "#9c179e"
             ],
             [
              0.4444444444444444,
              "#bd3786"
             ],
             [
              0.5555555555555556,
              "#d8576b"
             ],
             [
              0.6666666666666666,
              "#ed7953"
             ],
             [
              0.7777777777777778,
              "#fb9f3a"
             ],
             [
              0.8888888888888888,
              "#fdca26"
             ],
             [
              1,
              "#f0f921"
             ]
            ],
            "type": "histogram2dcontour"
           }
          ],
          "mesh3d": [
           {
            "colorbar": {
             "outlinewidth": 0,
             "ticks": ""
            },
            "type": "mesh3d"
           }
          ],
          "parcoords": [
           {
            "line": {
             "colorbar": {
              "outlinewidth": 0,
              "ticks": ""
             }
            },
            "type": "parcoords"
           }
          ],
          "pie": [
           {
            "automargin": true,
            "type": "pie"
           }
          ],
          "scatter": [
           {
            "fillpattern": {
             "fillmode": "overlay",
             "size": 10,
             "solidity": 0.2
            },
            "type": "scatter"
           }
          ],
          "scatter3d": [
           {
            "line": {
             "colorbar": {
              "outlinewidth": 0,
              "ticks": ""
             }
            },
            "marker": {
             "colorbar": {
              "outlinewidth": 0,
              "ticks": ""
             }
            },
            "type": "scatter3d"
           }
          ],
          "scattercarpet": [
           {
            "marker": {
             "colorbar": {
              "outlinewidth": 0,
              "ticks": ""
             }
            },
            "type": "scattercarpet"
           }
          ],
          "scattergeo": [
           {
            "marker": {
             "colorbar": {
              "outlinewidth": 0,
              "ticks": ""
             }
            },
            "type": "scattergeo"
           }
          ],
          "scattergl": [
           {
            "marker": {
             "colorbar": {
              "outlinewidth": 0,
              "ticks": ""
             }
            },
            "type": "scattergl"
           }
          ],
          "scattermapbox": [
           {
            "marker": {
             "colorbar": {
              "outlinewidth": 0,
              "ticks": ""
             }
            },
            "type": "scattermapbox"
           }
          ],
          "scatterpolar": [
           {
            "marker": {
             "colorbar": {
              "outlinewidth": 0,
              "ticks": ""
             }
            },
            "type": "scatterpolar"
           }
          ],
          "scatterpolargl": [
           {
            "marker": {
             "colorbar": {
              "outlinewidth": 0,
              "ticks": ""
             }
            },
            "type": "scatterpolargl"
           }
          ],
          "scatterternary": [
           {
            "marker": {
             "colorbar": {
              "outlinewidth": 0,
              "ticks": ""
             }
            },
            "type": "scatterternary"
           }
          ],
          "surface": [
           {
            "colorbar": {
             "outlinewidth": 0,
             "ticks": ""
            },
            "colorscale": [
             [
              0,
              "#0d0887"
             ],
             [
              0.1111111111111111,
              "#46039f"
             ],
             [
              0.2222222222222222,
              "#7201a8"
             ],
             [
              0.3333333333333333,
              "#9c179e"
             ],
             [
              0.4444444444444444,
              "#bd3786"
             ],
             [
              0.5555555555555556,
              "#d8576b"
             ],
             [
              0.6666666666666666,
              "#ed7953"
             ],
             [
              0.7777777777777778,
              "#fb9f3a"
             ],
             [
              0.8888888888888888,
              "#fdca26"
             ],
             [
              1,
              "#f0f921"
             ]
            ],
            "type": "surface"
           }
          ],
          "table": [
           {
            "cells": {
             "fill": {
              "color": "#EBF0F8"
             },
             "line": {
              "color": "white"
             }
            },
            "header": {
             "fill": {
              "color": "#C8D4E3"
             },
             "line": {
              "color": "white"
             }
            },
            "type": "table"
           }
          ]
         },
         "layout": {
          "annotationdefaults": {
           "arrowcolor": "#2a3f5f",
           "arrowhead": 0,
           "arrowwidth": 1
          },
          "autotypenumbers": "strict",
          "coloraxis": {
           "colorbar": {
            "outlinewidth": 0,
            "ticks": ""
           }
          },
          "colorscale": {
           "diverging": [
            [
             0,
             "#8e0152"
            ],
            [
             0.1,
             "#c51b7d"
            ],
            [
             0.2,
             "#de77ae"
            ],
            [
             0.3,
             "#f1b6da"
            ],
            [
             0.4,
             "#fde0ef"
            ],
            [
             0.5,
             "#f7f7f7"
            ],
            [
             0.6,
             "#e6f5d0"
            ],
            [
             0.7,
             "#b8e186"
            ],
            [
             0.8,
             "#7fbc41"
            ],
            [
             0.9,
             "#4d9221"
            ],
            [
             1,
             "#276419"
            ]
           ],
           "sequential": [
            [
             0,
             "#0d0887"
            ],
            [
             0.1111111111111111,
             "#46039f"
            ],
            [
             0.2222222222222222,
             "#7201a8"
            ],
            [
             0.3333333333333333,
             "#9c179e"
            ],
            [
             0.4444444444444444,
             "#bd3786"
            ],
            [
             0.5555555555555556,
             "#d8576b"
            ],
            [
             0.6666666666666666,
             "#ed7953"
            ],
            [
             0.7777777777777778,
             "#fb9f3a"
            ],
            [
             0.8888888888888888,
             "#fdca26"
            ],
            [
             1,
             "#f0f921"
            ]
           ],
           "sequentialminus": [
            [
             0,
             "#0d0887"
            ],
            [
             0.1111111111111111,
             "#46039f"
            ],
            [
             0.2222222222222222,
             "#7201a8"
            ],
            [
             0.3333333333333333,
             "#9c179e"
            ],
            [
             0.4444444444444444,
             "#bd3786"
            ],
            [
             0.5555555555555556,
             "#d8576b"
            ],
            [
             0.6666666666666666,
             "#ed7953"
            ],
            [
             0.7777777777777778,
             "#fb9f3a"
            ],
            [
             0.8888888888888888,
             "#fdca26"
            ],
            [
             1,
             "#f0f921"
            ]
           ]
          },
          "colorway": [
           "#636efa",
           "#EF553B",
           "#00cc96",
           "#ab63fa",
           "#FFA15A",
           "#19d3f3",
           "#FF6692",
           "#B6E880",
           "#FF97FF",
           "#FECB52"
          ],
          "font": {
           "color": "#2a3f5f"
          },
          "geo": {
           "bgcolor": "white",
           "lakecolor": "white",
           "landcolor": "#E5ECF6",
           "showlakes": true,
           "showland": true,
           "subunitcolor": "white"
          },
          "hoverlabel": {
           "align": "left"
          },
          "hovermode": "closest",
          "mapbox": {
           "style": "light"
          },
          "paper_bgcolor": "white",
          "plot_bgcolor": "#E5ECF6",
          "polar": {
           "angularaxis": {
            "gridcolor": "white",
            "linecolor": "white",
            "ticks": ""
           },
           "bgcolor": "#E5ECF6",
           "radialaxis": {
            "gridcolor": "white",
            "linecolor": "white",
            "ticks": ""
           }
          },
          "scene": {
           "xaxis": {
            "backgroundcolor": "#E5ECF6",
            "gridcolor": "white",
            "gridwidth": 2,
            "linecolor": "white",
            "showbackground": true,
            "ticks": "",
            "zerolinecolor": "white"
           },
           "yaxis": {
            "backgroundcolor": "#E5ECF6",
            "gridcolor": "white",
            "gridwidth": 2,
            "linecolor": "white",
            "showbackground": true,
            "ticks": "",
            "zerolinecolor": "white"
           },
           "zaxis": {
            "backgroundcolor": "#E5ECF6",
            "gridcolor": "white",
            "gridwidth": 2,
            "linecolor": "white",
            "showbackground": true,
            "ticks": "",
            "zerolinecolor": "white"
           }
          },
          "shapedefaults": {
           "line": {
            "color": "#2a3f5f"
           }
          },
          "ternary": {
           "aaxis": {
            "gridcolor": "white",
            "linecolor": "white",
            "ticks": ""
           },
           "baxis": {
            "gridcolor": "white",
            "linecolor": "white",
            "ticks": ""
           },
           "bgcolor": "#E5ECF6",
           "caxis": {
            "gridcolor": "white",
            "linecolor": "white",
            "ticks": ""
           }
          },
          "title": {
           "x": 0.05
          },
          "xaxis": {
           "automargin": true,
           "gridcolor": "white",
           "linecolor": "white",
           "ticks": "",
           "title": {
            "standoff": 15
           },
           "zerolinecolor": "white",
           "zerolinewidth": 2
          },
          "yaxis": {
           "automargin": true,
           "gridcolor": "white",
           "linecolor": "white",
           "ticks": "",
           "title": {
            "standoff": 15
           },
           "zerolinecolor": "white",
           "zerolinewidth": 2
          }
         }
        },
        "title": {
         "text": "Growth in MOS v SPY"
        },
        "width": 800,
        "xaxis": {
         "anchor": "y",
         "domain": [
          0,
          1
         ],
         "title": {
          "text": "date"
         }
        },
        "yaxis": {
         "anchor": "x",
         "domain": [
          0,
          1
         ],
         "title": {
          "text": "value"
         }
        }
       }
      }
     },
     "metadata": {},
     "output_type": "display_data"
    },
    {
     "name": "stdout",
     "output_type": "stream",
     "text": [
      "this is is kind of a terrible trade\n"
     ]
    }
   ],
   "source": [
    "graphAlpha(\"MOS\", \"2015-04-15\")\n",
    "print(\"this is is kind of a terrible trade\")"
   ]
  },
  {
   "cell_type": "code",
   "execution_count": 22,
   "metadata": {},
   "outputs": [
    {
     "data": {
      "application/vnd.plotly.v1+json": {
       "config": {
        "plotlyServerURL": "https://plot.ly"
       },
       "data": [
        {
         "hovertemplate": "variable=KN_growth<br>date=%{x}<br>value=%{y}<extra></extra>",
         "legendgroup": "KN_growth",
         "line": {
          "color": "#636efa",
          "dash": "solid"
         },
         "marker": {
          "symbol": "circle"
         },
         "mode": "lines",
         "name": "KN_growth",
         "orientation": "v",
         "showlegend": true,
         "type": "scatter",
         "x": [
          "2015-04-24T00:00:00",
          "2015-05-01T00:00:00",
          "2015-05-08T00:00:00",
          "2015-05-15T00:00:00",
          "2015-05-22T00:00:00",
          "2015-05-29T00:00:00",
          "2015-06-05T00:00:00",
          "2015-06-12T00:00:00",
          "2015-06-19T00:00:00",
          "2015-06-26T00:00:00",
          "2015-07-02T00:00:00",
          "2015-07-10T00:00:00",
          "2015-07-17T00:00:00",
          "2015-07-24T00:00:00",
          "2015-07-31T00:00:00",
          "2015-08-07T00:00:00",
          "2015-08-14T00:00:00",
          "2015-08-21T00:00:00",
          "2015-08-28T00:00:00",
          "2015-09-04T00:00:00",
          "2015-09-11T00:00:00",
          "2015-09-18T00:00:00",
          "2015-09-25T00:00:00",
          "2015-10-02T00:00:00",
          "2015-10-09T00:00:00",
          "2015-10-16T00:00:00",
          "2015-10-23T00:00:00",
          "2015-10-30T00:00:00",
          "2015-11-06T00:00:00",
          "2015-11-13T00:00:00",
          "2015-11-20T00:00:00",
          "2015-11-27T00:00:00",
          "2015-12-04T00:00:00",
          "2015-12-11T00:00:00",
          "2015-12-18T00:00:00",
          "2015-12-24T00:00:00",
          "2015-12-31T00:00:00",
          "2016-01-08T00:00:00",
          "2016-01-15T00:00:00",
          "2016-01-22T00:00:00",
          "2016-01-29T00:00:00",
          "2016-02-05T00:00:00",
          "2016-02-12T00:00:00",
          "2016-02-19T00:00:00",
          "2016-02-26T00:00:00",
          "2016-03-04T00:00:00",
          "2016-03-11T00:00:00",
          "2016-03-18T00:00:00",
          "2016-03-24T00:00:00",
          "2016-04-01T00:00:00",
          "2016-04-08T00:00:00",
          "2016-04-15T00:00:00"
         ],
         "xaxis": "x",
         "y": [
          null,
          100,
          94.95533368365739,
          99.8949027850762,
          102.36468733578559,
          101.68155543878086,
          99.00157645822384,
          96.0063058328954,
          102.25959012086179,
          97.05727798213346,
          97.37256962690488,
          97.16237519705724,
          96.05885444035731,
          88.75459800315289,
          100.10509721492379,
          91.80241723594322,
          88.12401471361007,
          77.40409879138201,
          85.54913294797687,
          84.0777719390436,
          84.76090383604833,
          85.49658434051496,
          86.022070415134,
          103.20546505517602,
          111.56069364161849,
          109.30110352075668,
          111.45559642669468,
          87.54598003152915,
          93.74671571203362,
          80.92485549132948,
          83.28954282711508,
          84.60325801366265,
          84.07777193904361,
          79.34839726747241,
          67.68260641093012,
          73.14766158696796,
          70.04729374671572,
          66.57908565423017,
          60.64109301103521,
          65.79085654230163,
          71.46610614818707,
          67.6826064109301,
          52.443510246978455,
          58.38150289017341,
          59.957961114030475,
          64.31949553336837,
          68.52338413032055,
          71.46610614818708,
          66.78928008407779,
          68.89122438255387,
          65.58066211245404,
          71.20336311087758
         ],
         "yaxis": "y"
        },
        {
         "hovertemplate": "variable=SPY_growth<br>date=%{x}<br>value=%{y}<extra></extra>",
         "legendgroup": "SPY_growth",
         "line": {
          "color": "#EF553B",
          "dash": "solid"
         },
         "marker": {
          "symbol": "circle"
         },
         "mode": "lines",
         "name": "SPY_growth",
         "orientation": "v",
         "showlegend": true,
         "type": "scatter",
         "x": [
          "2015-04-24T00:00:00",
          "2015-05-01T00:00:00",
          "2015-05-08T00:00:00",
          "2015-05-15T00:00:00",
          "2015-05-22T00:00:00",
          "2015-05-29T00:00:00",
          "2015-06-05T00:00:00",
          "2015-06-12T00:00:00",
          "2015-06-19T00:00:00",
          "2015-06-26T00:00:00",
          "2015-07-02T00:00:00",
          "2015-07-10T00:00:00",
          "2015-07-17T00:00:00",
          "2015-07-24T00:00:00",
          "2015-07-31T00:00:00",
          "2015-08-07T00:00:00",
          "2015-08-14T00:00:00",
          "2015-08-21T00:00:00",
          "2015-08-28T00:00:00",
          "2015-09-04T00:00:00",
          "2015-09-11T00:00:00",
          "2015-09-18T00:00:00",
          "2015-09-25T00:00:00",
          "2015-10-02T00:00:00",
          "2015-10-09T00:00:00",
          "2015-10-16T00:00:00",
          "2015-10-23T00:00:00",
          "2015-10-30T00:00:00",
          "2015-11-06T00:00:00",
          "2015-11-13T00:00:00",
          "2015-11-20T00:00:00",
          "2015-11-27T00:00:00",
          "2015-12-04T00:00:00",
          "2015-12-11T00:00:00",
          "2015-12-18T00:00:00",
          "2015-12-24T00:00:00",
          "2015-12-31T00:00:00",
          "2016-01-08T00:00:00",
          "2016-01-15T00:00:00",
          "2016-01-22T00:00:00",
          "2016-01-29T00:00:00",
          "2016-02-05T00:00:00",
          "2016-02-12T00:00:00",
          "2016-02-19T00:00:00",
          "2016-02-26T00:00:00",
          "2016-03-04T00:00:00",
          "2016-03-11T00:00:00",
          "2016-03-18T00:00:00",
          "2016-03-24T00:00:00",
          "2016-04-01T00:00:00",
          "2016-04-08T00:00:00",
          "2016-04-15T00:00:00"
         ],
         "xaxis": "x",
         "y": [
          null,
          100,
          100.427092913276,
          100.81621111542132,
          101.07723958174422,
          100.1992991295782,
          99.54915246110995,
          99.62504740028503,
          100.5315369896569,
          100.09757920751078,
          98.86718767025961,
          98.94351847412486,
          101.32312175008387,
          99.16286737945069,
          100.35986078481793,
          99.15333283935333,
          99.84003765870919,
          94.24620470821034,
          95.01398035993701,
          91.84273784046476,
          93.8217814661616,
          93.65653426550259,
          92.46280984531158,
          93.48393184819702,
          96.51858527038863,
          97.44861155302944,
          99.48606104720847,
          99.68263602247315,
          100.69416900217492,
          97.09866668991273,
          100.34422413905823,
          100.46408692885375,
          100.49285399840468,
          96.78222892485252,
          96.4713484345919,
          99.20122347218523,
          98.32824098086982,
          92.56469321663775,
          90.58238060576468,
          91.88942984539874,
          93.43282671327506,
          90.64988514965408,
          90.01325028658098,
          92.60326724171745,
          94.09359758356614,
          96.66912203775458,
          97.79289017517401,
          99.08048895300942,
          98.46962458974234,
          100.31180670272718,
          99.13862240606024,
          100.72871127887056
         ],
         "yaxis": "y"
        }
       ],
       "layout": {
        "height": 500,
        "legend": {
         "title": {
          "text": "variable"
         },
         "tracegroupgap": 0
        },
        "template": {
         "data": {
          "bar": [
           {
            "error_x": {
             "color": "#2a3f5f"
            },
            "error_y": {
             "color": "#2a3f5f"
            },
            "marker": {
             "line": {
              "color": "#E5ECF6",
              "width": 0.5
             },
             "pattern": {
              "fillmode": "overlay",
              "size": 10,
              "solidity": 0.2
             }
            },
            "type": "bar"
           }
          ],
          "barpolar": [
           {
            "marker": {
             "line": {
              "color": "#E5ECF6",
              "width": 0.5
             },
             "pattern": {
              "fillmode": "overlay",
              "size": 10,
              "solidity": 0.2
             }
            },
            "type": "barpolar"
           }
          ],
          "carpet": [
           {
            "aaxis": {
             "endlinecolor": "#2a3f5f",
             "gridcolor": "white",
             "linecolor": "white",
             "minorgridcolor": "white",
             "startlinecolor": "#2a3f5f"
            },
            "baxis": {
             "endlinecolor": "#2a3f5f",
             "gridcolor": "white",
             "linecolor": "white",
             "minorgridcolor": "white",
             "startlinecolor": "#2a3f5f"
            },
            "type": "carpet"
           }
          ],
          "choropleth": [
           {
            "colorbar": {
             "outlinewidth": 0,
             "ticks": ""
            },
            "type": "choropleth"
           }
          ],
          "contour": [
           {
            "colorbar": {
             "outlinewidth": 0,
             "ticks": ""
            },
            "colorscale": [
             [
              0,
              "#0d0887"
             ],
             [
              0.1111111111111111,
              "#46039f"
             ],
             [
              0.2222222222222222,
              "#7201a8"
             ],
             [
              0.3333333333333333,
              "#9c179e"
             ],
             [
              0.4444444444444444,
              "#bd3786"
             ],
             [
              0.5555555555555556,
              "#d8576b"
             ],
             [
              0.6666666666666666,
              "#ed7953"
             ],
             [
              0.7777777777777778,
              "#fb9f3a"
             ],
             [
              0.8888888888888888,
              "#fdca26"
             ],
             [
              1,
              "#f0f921"
             ]
            ],
            "type": "contour"
           }
          ],
          "contourcarpet": [
           {
            "colorbar": {
             "outlinewidth": 0,
             "ticks": ""
            },
            "type": "contourcarpet"
           }
          ],
          "heatmap": [
           {
            "colorbar": {
             "outlinewidth": 0,
             "ticks": ""
            },
            "colorscale": [
             [
              0,
              "#0d0887"
             ],
             [
              0.1111111111111111,
              "#46039f"
             ],
             [
              0.2222222222222222,
              "#7201a8"
             ],
             [
              0.3333333333333333,
              "#9c179e"
             ],
             [
              0.4444444444444444,
              "#bd3786"
             ],
             [
              0.5555555555555556,
              "#d8576b"
             ],
             [
              0.6666666666666666,
              "#ed7953"
             ],
             [
              0.7777777777777778,
              "#fb9f3a"
             ],
             [
              0.8888888888888888,
              "#fdca26"
             ],
             [
              1,
              "#f0f921"
             ]
            ],
            "type": "heatmap"
           }
          ],
          "heatmapgl": [
           {
            "colorbar": {
             "outlinewidth": 0,
             "ticks": ""
            },
            "colorscale": [
             [
              0,
              "#0d0887"
             ],
             [
              0.1111111111111111,
              "#46039f"
             ],
             [
              0.2222222222222222,
              "#7201a8"
             ],
             [
              0.3333333333333333,
              "#9c179e"
             ],
             [
              0.4444444444444444,
              "#bd3786"
             ],
             [
              0.5555555555555556,
              "#d8576b"
             ],
             [
              0.6666666666666666,
              "#ed7953"
             ],
             [
              0.7777777777777778,
              "#fb9f3a"
             ],
             [
              0.8888888888888888,
              "#fdca26"
             ],
             [
              1,
              "#f0f921"
             ]
            ],
            "type": "heatmapgl"
           }
          ],
          "histogram": [
           {
            "marker": {
             "pattern": {
              "fillmode": "overlay",
              "size": 10,
              "solidity": 0.2
             }
            },
            "type": "histogram"
           }
          ],
          "histogram2d": [
           {
            "colorbar": {
             "outlinewidth": 0,
             "ticks": ""
            },
            "colorscale": [
             [
              0,
              "#0d0887"
             ],
             [
              0.1111111111111111,
              "#46039f"
             ],
             [
              0.2222222222222222,
              "#7201a8"
             ],
             [
              0.3333333333333333,
              "#9c179e"
             ],
             [
              0.4444444444444444,
              "#bd3786"
             ],
             [
              0.5555555555555556,
              "#d8576b"
             ],
             [
              0.6666666666666666,
              "#ed7953"
             ],
             [
              0.7777777777777778,
              "#fb9f3a"
             ],
             [
              0.8888888888888888,
              "#fdca26"
             ],
             [
              1,
              "#f0f921"
             ]
            ],
            "type": "histogram2d"
           }
          ],
          "histogram2dcontour": [
           {
            "colorbar": {
             "outlinewidth": 0,
             "ticks": ""
            },
            "colorscale": [
             [
              0,
              "#0d0887"
             ],
             [
              0.1111111111111111,
              "#46039f"
             ],
             [
              0.2222222222222222,
              "#7201a8"
             ],
             [
              0.3333333333333333,
              "#9c179e"
             ],
             [
              0.4444444444444444,
              "#bd3786"
             ],
             [
              0.5555555555555556,
              "#d8576b"
             ],
             [
              0.6666666666666666,
              "#ed7953"
             ],
             [
              0.7777777777777778,
              "#fb9f3a"
             ],
             [
              0.8888888888888888,
              "#fdca26"
             ],
             [
              1,
              "#f0f921"
             ]
            ],
            "type": "histogram2dcontour"
           }
          ],
          "mesh3d": [
           {
            "colorbar": {
             "outlinewidth": 0,
             "ticks": ""
            },
            "type": "mesh3d"
           }
          ],
          "parcoords": [
           {
            "line": {
             "colorbar": {
              "outlinewidth": 0,
              "ticks": ""
             }
            },
            "type": "parcoords"
           }
          ],
          "pie": [
           {
            "automargin": true,
            "type": "pie"
           }
          ],
          "scatter": [
           {
            "fillpattern": {
             "fillmode": "overlay",
             "size": 10,
             "solidity": 0.2
            },
            "type": "scatter"
           }
          ],
          "scatter3d": [
           {
            "line": {
             "colorbar": {
              "outlinewidth": 0,
              "ticks": ""
             }
            },
            "marker": {
             "colorbar": {
              "outlinewidth": 0,
              "ticks": ""
             }
            },
            "type": "scatter3d"
           }
          ],
          "scattercarpet": [
           {
            "marker": {
             "colorbar": {
              "outlinewidth": 0,
              "ticks": ""
             }
            },
            "type": "scattercarpet"
           }
          ],
          "scattergeo": [
           {
            "marker": {
             "colorbar": {
              "outlinewidth": 0,
              "ticks": ""
             }
            },
            "type": "scattergeo"
           }
          ],
          "scattergl": [
           {
            "marker": {
             "colorbar": {
              "outlinewidth": 0,
              "ticks": ""
             }
            },
            "type": "scattergl"
           }
          ],
          "scattermapbox": [
           {
            "marker": {
             "colorbar": {
              "outlinewidth": 0,
              "ticks": ""
             }
            },
            "type": "scattermapbox"
           }
          ],
          "scatterpolar": [
           {
            "marker": {
             "colorbar": {
              "outlinewidth": 0,
              "ticks": ""
             }
            },
            "type": "scatterpolar"
           }
          ],
          "scatterpolargl": [
           {
            "marker": {
             "colorbar": {
              "outlinewidth": 0,
              "ticks": ""
             }
            },
            "type": "scatterpolargl"
           }
          ],
          "scatterternary": [
           {
            "marker": {
             "colorbar": {
              "outlinewidth": 0,
              "ticks": ""
             }
            },
            "type": "scatterternary"
           }
          ],
          "surface": [
           {
            "colorbar": {
             "outlinewidth": 0,
             "ticks": ""
            },
            "colorscale": [
             [
              0,
              "#0d0887"
             ],
             [
              0.1111111111111111,
              "#46039f"
             ],
             [
              0.2222222222222222,
              "#7201a8"
             ],
             [
              0.3333333333333333,
              "#9c179e"
             ],
             [
              0.4444444444444444,
              "#bd3786"
             ],
             [
              0.5555555555555556,
              "#d8576b"
             ],
             [
              0.6666666666666666,
              "#ed7953"
             ],
             [
              0.7777777777777778,
              "#fb9f3a"
             ],
             [
              0.8888888888888888,
              "#fdca26"
             ],
             [
              1,
              "#f0f921"
             ]
            ],
            "type": "surface"
           }
          ],
          "table": [
           {
            "cells": {
             "fill": {
              "color": "#EBF0F8"
             },
             "line": {
              "color": "white"
             }
            },
            "header": {
             "fill": {
              "color": "#C8D4E3"
             },
             "line": {
              "color": "white"
             }
            },
            "type": "table"
           }
          ]
         },
         "layout": {
          "annotationdefaults": {
           "arrowcolor": "#2a3f5f",
           "arrowhead": 0,
           "arrowwidth": 1
          },
          "autotypenumbers": "strict",
          "coloraxis": {
           "colorbar": {
            "outlinewidth": 0,
            "ticks": ""
           }
          },
          "colorscale": {
           "diverging": [
            [
             0,
             "#8e0152"
            ],
            [
             0.1,
             "#c51b7d"
            ],
            [
             0.2,
             "#de77ae"
            ],
            [
             0.3,
             "#f1b6da"
            ],
            [
             0.4,
             "#fde0ef"
            ],
            [
             0.5,
             "#f7f7f7"
            ],
            [
             0.6,
             "#e6f5d0"
            ],
            [
             0.7,
             "#b8e186"
            ],
            [
             0.8,
             "#7fbc41"
            ],
            [
             0.9,
             "#4d9221"
            ],
            [
             1,
             "#276419"
            ]
           ],
           "sequential": [
            [
             0,
             "#0d0887"
            ],
            [
             0.1111111111111111,
             "#46039f"
            ],
            [
             0.2222222222222222,
             "#7201a8"
            ],
            [
             0.3333333333333333,
             "#9c179e"
            ],
            [
             0.4444444444444444,
             "#bd3786"
            ],
            [
             0.5555555555555556,
             "#d8576b"
            ],
            [
             0.6666666666666666,
             "#ed7953"
            ],
            [
             0.7777777777777778,
             "#fb9f3a"
            ],
            [
             0.8888888888888888,
             "#fdca26"
            ],
            [
             1,
             "#f0f921"
            ]
           ],
           "sequentialminus": [
            [
             0,
             "#0d0887"
            ],
            [
             0.1111111111111111,
             "#46039f"
            ],
            [
             0.2222222222222222,
             "#7201a8"
            ],
            [
             0.3333333333333333,
             "#9c179e"
            ],
            [
             0.4444444444444444,
             "#bd3786"
            ],
            [
             0.5555555555555556,
             "#d8576b"
            ],
            [
             0.6666666666666666,
             "#ed7953"
            ],
            [
             0.7777777777777778,
             "#fb9f3a"
            ],
            [
             0.8888888888888888,
             "#fdca26"
            ],
            [
             1,
             "#f0f921"
            ]
           ]
          },
          "colorway": [
           "#636efa",
           "#EF553B",
           "#00cc96",
           "#ab63fa",
           "#FFA15A",
           "#19d3f3",
           "#FF6692",
           "#B6E880",
           "#FF97FF",
           "#FECB52"
          ],
          "font": {
           "color": "#2a3f5f"
          },
          "geo": {
           "bgcolor": "white",
           "lakecolor": "white",
           "landcolor": "#E5ECF6",
           "showlakes": true,
           "showland": true,
           "subunitcolor": "white"
          },
          "hoverlabel": {
           "align": "left"
          },
          "hovermode": "closest",
          "mapbox": {
           "style": "light"
          },
          "paper_bgcolor": "white",
          "plot_bgcolor": "#E5ECF6",
          "polar": {
           "angularaxis": {
            "gridcolor": "white",
            "linecolor": "white",
            "ticks": ""
           },
           "bgcolor": "#E5ECF6",
           "radialaxis": {
            "gridcolor": "white",
            "linecolor": "white",
            "ticks": ""
           }
          },
          "scene": {
           "xaxis": {
            "backgroundcolor": "#E5ECF6",
            "gridcolor": "white",
            "gridwidth": 2,
            "linecolor": "white",
            "showbackground": true,
            "ticks": "",
            "zerolinecolor": "white"
           },
           "yaxis": {
            "backgroundcolor": "#E5ECF6",
            "gridcolor": "white",
            "gridwidth": 2,
            "linecolor": "white",
            "showbackground": true,
            "ticks": "",
            "zerolinecolor": "white"
           },
           "zaxis": {
            "backgroundcolor": "#E5ECF6",
            "gridcolor": "white",
            "gridwidth": 2,
            "linecolor": "white",
            "showbackground": true,
            "ticks": "",
            "zerolinecolor": "white"
           }
          },
          "shapedefaults": {
           "line": {
            "color": "#2a3f5f"
           }
          },
          "ternary": {
           "aaxis": {
            "gridcolor": "white",
            "linecolor": "white",
            "ticks": ""
           },
           "baxis": {
            "gridcolor": "white",
            "linecolor": "white",
            "ticks": ""
           },
           "bgcolor": "#E5ECF6",
           "caxis": {
            "gridcolor": "white",
            "linecolor": "white",
            "ticks": ""
           }
          },
          "title": {
           "x": 0.05
          },
          "xaxis": {
           "automargin": true,
           "gridcolor": "white",
           "linecolor": "white",
           "ticks": "",
           "title": {
            "standoff": 15
           },
           "zerolinecolor": "white",
           "zerolinewidth": 2
          },
          "yaxis": {
           "automargin": true,
           "gridcolor": "white",
           "linecolor": "white",
           "ticks": "",
           "title": {
            "standoff": 15
           },
           "zerolinecolor": "white",
           "zerolinewidth": 2
          }
         }
        },
        "title": {
         "text": "Growth in KN v SPY"
        },
        "width": 800,
        "xaxis": {
         "anchor": "y",
         "domain": [
          0,
          1
         ],
         "title": {
          "text": "date"
         }
        },
        "yaxis": {
         "anchor": "x",
         "domain": [
          0,
          1
         ],
         "title": {
          "text": "value"
         }
        }
       }
      }
     },
     "metadata": {},
     "output_type": "display_data"
    },
    {
     "name": "stdout",
     "output_type": "stream",
     "text": [
      "this one has a bit of a pop, but also not a great trade\n"
     ]
    }
   ],
   "source": [
    "graphAlpha(\"KN\", \"2015-04-24\")\n",
    "print(\"this one has a bit of a pop, but also not a great trade\")"
   ]
  },
  {
   "cell_type": "code",
   "execution_count": 23,
   "metadata": {},
   "outputs": [
    {
     "data": {
      "text/html": [
       "<div>\n",
       "<style scoped>\n",
       "    .dataframe tbody tr th:only-of-type {\n",
       "        vertical-align: middle;\n",
       "    }\n",
       "\n",
       "    .dataframe tbody tr th {\n",
       "        vertical-align: top;\n",
       "    }\n",
       "\n",
       "    .dataframe thead th {\n",
       "        text-align: right;\n",
       "    }\n",
       "</style>\n",
       "<table border=\"1\" class=\"dataframe\">\n",
       "  <thead>\n",
       "    <tr style=\"text-align: right;\">\n",
       "      <th></th>\n",
       "      <th>transaction_date</th>\n",
       "      <th>owner</th>\n",
       "      <th>ticker</th>\n",
       "      <th>asset_description</th>\n",
       "      <th>asset_type</th>\n",
       "      <th>type</th>\n",
       "    </tr>\n",
       "  </thead>\n",
       "  <tbody>\n",
       "    <tr>\n",
       "      <th>8284</th>\n",
       "      <td>2015-04-02</td>\n",
       "      <td>Joint</td>\n",
       "      <td>FOX</td>\n",
       "      <td>Twenty-First Century Fox, Inc. (NASDAQ)</td>\n",
       "      <td>Stock</td>\n",
       "      <td>Purchase</td>\n",
       "    </tr>\n",
       "    <tr>\n",
       "      <th>8285</th>\n",
       "      <td>2015-04-02</td>\n",
       "      <td>Joint</td>\n",
       "      <td>AVP</td>\n",
       "      <td>Avon Products Inc. (NYSE)</td>\n",
       "      <td>Stock</td>\n",
       "      <td>Purchase</td>\n",
       "    </tr>\n",
       "    <tr>\n",
       "      <th>8287</th>\n",
       "      <td>2015-04-02</td>\n",
       "      <td>Joint</td>\n",
       "      <td>JNJ</td>\n",
       "      <td>Johnson &amp; Johnson (NYSE)</td>\n",
       "      <td>Stock</td>\n",
       "      <td>Purchase</td>\n",
       "    </tr>\n",
       "    <tr>\n",
       "      <th>8288</th>\n",
       "      <td>2015-04-02</td>\n",
       "      <td>Joint</td>\n",
       "      <td>KO</td>\n",
       "      <td>The Coca-Cola Company (NYSE)</td>\n",
       "      <td>Stock</td>\n",
       "      <td>Purchase</td>\n",
       "    </tr>\n",
       "    <tr>\n",
       "      <th>8290</th>\n",
       "      <td>2015-05-06</td>\n",
       "      <td>Joint</td>\n",
       "      <td>SYY</td>\n",
       "      <td>Sysco Corporation (NYSE)</td>\n",
       "      <td>Stock</td>\n",
       "      <td>Purchase</td>\n",
       "    </tr>\n",
       "    <tr>\n",
       "      <th>8292</th>\n",
       "      <td>2015-05-11</td>\n",
       "      <td>Joint</td>\n",
       "      <td>FOX</td>\n",
       "      <td>Twenty-First Century Fox, Inc. (NASDAQ)</td>\n",
       "      <td>Stock</td>\n",
       "      <td>Purchase</td>\n",
       "    </tr>\n",
       "    <tr>\n",
       "      <th>8294</th>\n",
       "      <td>2015-05-12</td>\n",
       "      <td>Joint</td>\n",
       "      <td>FOX</td>\n",
       "      <td>Twenty-First Century Fox, Inc. (NASDAQ)</td>\n",
       "      <td>Stock</td>\n",
       "      <td>Purchase</td>\n",
       "    </tr>\n",
       "    <tr>\n",
       "      <th>8295</th>\n",
       "      <td>2015-01-07</td>\n",
       "      <td>Joint</td>\n",
       "      <td>AM</td>\n",
       "      <td>Antero Midstream Partners LP (NYSE)</td>\n",
       "      <td>Stock</td>\n",
       "      <td>Purchase</td>\n",
       "    </tr>\n",
       "    <tr>\n",
       "      <th>8296</th>\n",
       "      <td>2015-01-14</td>\n",
       "      <td>Joint</td>\n",
       "      <td>AR</td>\n",
       "      <td>Antero Resources Corporation (NYSE)</td>\n",
       "      <td>Stock</td>\n",
       "      <td>Purchase</td>\n",
       "    </tr>\n",
       "    <tr>\n",
       "      <th>8297</th>\n",
       "      <td>2015-01-15</td>\n",
       "      <td>Joint</td>\n",
       "      <td>BPL</td>\n",
       "      <td>Buckeye Partners, L.P. (NYSE)</td>\n",
       "      <td>Stock</td>\n",
       "      <td>Purchase</td>\n",
       "    </tr>\n",
       "  </tbody>\n",
       "</table>\n",
       "</div>"
      ],
      "text/plain": [
       "     transaction_date  owner ticker                        asset_description  \\\n",
       "8284       2015-04-02  Joint    FOX  Twenty-First Century Fox, Inc. (NASDAQ)   \n",
       "8285       2015-04-02  Joint    AVP                Avon Products Inc. (NYSE)   \n",
       "8287       2015-04-02  Joint    JNJ                 Johnson & Johnson (NYSE)   \n",
       "8288       2015-04-02  Joint     KO             The Coca-Cola Company (NYSE)   \n",
       "8290       2015-05-06  Joint    SYY                 Sysco Corporation (NYSE)   \n",
       "8292       2015-05-11  Joint    FOX  Twenty-First Century Fox, Inc. (NASDAQ)   \n",
       "8294       2015-05-12  Joint    FOX  Twenty-First Century Fox, Inc. (NASDAQ)   \n",
       "8295       2015-01-07  Joint     AM      Antero Midstream Partners LP (NYSE)   \n",
       "8296       2015-01-14  Joint     AR      Antero Resources Corporation (NYSE)   \n",
       "8297       2015-01-15  Joint    BPL            Buckeye Partners, L.P. (NYSE)   \n",
       "\n",
       "     asset_type      type  \n",
       "8284      Stock  Purchase  \n",
       "8285      Stock  Purchase  \n",
       "8287      Stock  Purchase  \n",
       "8288      Stock  Purchase  \n",
       "8290      Stock  Purchase  \n",
       "8292      Stock  Purchase  \n",
       "8294      Stock  Purchase  \n",
       "8295      Stock  Purchase  \n",
       "8296      Stock  Purchase  \n",
       "8297      Stock  Purchase  "
      ]
     },
     "execution_count": 23,
     "metadata": {},
     "output_type": "execute_result"
    }
   ],
   "source": [
    "purchasesBySenator(136).iloc[-60:-50, :]"
   ]
  },
  {
   "cell_type": "code",
   "execution_count": 24,
   "metadata": {},
   "outputs": [
    {
     "data": {
      "application/vnd.plotly.v1+json": {
       "config": {
        "plotlyServerURL": "https://plot.ly"
       },
       "data": [
        {
         "hovertemplate": "variable=AM_growth<br>date=%{x}<br>value=%{y}<extra></extra>",
         "legendgroup": "AM_growth",
         "line": {
          "color": "#636efa",
          "dash": "solid"
         },
         "marker": {
          "symbol": "circle"
         },
         "mode": "lines",
         "name": "AM_growth",
         "orientation": "v",
         "showlegend": true,
         "type": "scatter",
         "x": [
          "2015-01-16T00:00:00",
          "2015-01-23T00:00:00",
          "2015-01-30T00:00:00",
          "2015-02-06T00:00:00",
          "2015-02-13T00:00:00",
          "2015-02-20T00:00:00",
          "2015-02-27T00:00:00",
          "2015-03-06T00:00:00",
          "2015-03-13T00:00:00",
          "2015-03-20T00:00:00",
          "2015-03-27T00:00:00",
          "2015-04-02T00:00:00",
          "2015-04-10T00:00:00",
          "2015-04-17T00:00:00",
          "2015-04-24T00:00:00",
          "2015-05-01T00:00:00",
          "2015-05-08T00:00:00",
          "2015-05-15T00:00:00",
          "2015-05-22T00:00:00",
          "2015-05-29T00:00:00",
          "2015-06-05T00:00:00",
          "2015-06-12T00:00:00",
          "2015-06-19T00:00:00",
          "2015-06-26T00:00:00",
          "2015-07-02T00:00:00",
          "2015-07-10T00:00:00",
          "2015-07-17T00:00:00",
          "2015-07-24T00:00:00",
          "2015-07-31T00:00:00",
          "2015-08-07T00:00:00",
          "2015-08-14T00:00:00",
          "2015-08-21T00:00:00",
          "2015-08-28T00:00:00",
          "2015-09-04T00:00:00",
          "2015-09-11T00:00:00",
          "2015-09-18T00:00:00",
          "2015-09-25T00:00:00",
          "2015-10-02T00:00:00",
          "2015-10-09T00:00:00",
          "2015-10-16T00:00:00",
          "2015-10-23T00:00:00",
          "2015-10-30T00:00:00",
          "2015-11-06T00:00:00",
          "2015-11-13T00:00:00",
          "2015-11-20T00:00:00",
          "2015-11-27T00:00:00",
          "2015-12-04T00:00:00",
          "2015-12-11T00:00:00",
          "2015-12-18T00:00:00",
          "2015-12-24T00:00:00",
          "2015-12-31T00:00:00",
          "2016-01-08T00:00:00"
         ],
         "xaxis": "x",
         "y": [
          null,
          100,
          104.1761865082565,
          108.97418666953382,
          109.14531982187816,
          112.31262711788476,
          115.97003825856339,
          115.92523900402298,
          108.61041672266575,
          112.40132964187477,
          108.43211568959494,
          109.41321936402979,
          112.40132964187478,
          112.26782786334437,
          111.73292476413194,
          113.33853004686003,
          117.48604503221068,
          120.46161151878432,
          122.21326237131416,
          128.00759795357007,
          130.25383257622593,
          131.42130114954887,
          129.58005178793826,
          131.06201112813483,
          128.36688797498408,
          125.58216631275253,
          124.3698984848892,
          122.84224390506141,
          119.83352597012784,
          101.37354514420878,
          102.00163069286523,
          98.96692919029825,
          104.35717549659971,
          103.17895510218709,
          94.89019702712145,
          95.11688125509589,
          86.91861767420188,
          88.95698375579028,
          108.11583295253965,
          114.5024146798197,
          104.4019747511401,
          107.890044709656,
          106.55323495417035,
          103.8124165613884,
          102.03030221577112,
          102.98990224802658,
          94.49058767662105,
          95.45018770887653,
          90.2418263760091,
          101.25348314204052,
          104.26936895770055,
          93.75946384252167
         ],
         "yaxis": "y"
        },
        {
         "hovertemplate": "variable=SPY_growth<br>date=%{x}<br>value=%{y}<extra></extra>",
         "legendgroup": "SPY_growth",
         "line": {
          "color": "#EF553B",
          "dash": "solid"
         },
         "marker": {
          "symbol": "circle"
         },
         "mode": "lines",
         "name": "SPY_growth",
         "orientation": "v",
         "showlegend": true,
         "type": "scatter",
         "x": [
          "2015-01-16T00:00:00",
          "2015-01-23T00:00:00",
          "2015-01-30T00:00:00",
          "2015-02-06T00:00:00",
          "2015-02-13T00:00:00",
          "2015-02-20T00:00:00",
          "2015-02-27T00:00:00",
          "2015-03-06T00:00:00",
          "2015-03-13T00:00:00",
          "2015-03-20T00:00:00",
          "2015-03-27T00:00:00",
          "2015-04-02T00:00:00",
          "2015-04-10T00:00:00",
          "2015-04-17T00:00:00",
          "2015-04-24T00:00:00",
          "2015-05-01T00:00:00",
          "2015-05-08T00:00:00",
          "2015-05-15T00:00:00",
          "2015-05-22T00:00:00",
          "2015-05-29T00:00:00",
          "2015-06-05T00:00:00",
          "2015-06-12T00:00:00",
          "2015-06-19T00:00:00",
          "2015-06-26T00:00:00",
          "2015-07-02T00:00:00",
          "2015-07-10T00:00:00",
          "2015-07-17T00:00:00",
          "2015-07-24T00:00:00",
          "2015-07-31T00:00:00",
          "2015-08-07T00:00:00",
          "2015-08-14T00:00:00",
          "2015-08-21T00:00:00",
          "2015-08-28T00:00:00",
          "2015-09-04T00:00:00",
          "2015-09-11T00:00:00",
          "2015-09-18T00:00:00",
          "2015-09-25T00:00:00",
          "2015-10-02T00:00:00",
          "2015-10-09T00:00:00",
          "2015-10-16T00:00:00",
          "2015-10-23T00:00:00",
          "2015-10-30T00:00:00",
          "2015-11-06T00:00:00",
          "2015-11-13T00:00:00",
          "2015-11-20T00:00:00",
          "2015-11-27T00:00:00",
          "2015-12-04T00:00:00",
          "2015-12-11T00:00:00",
          "2015-12-18T00:00:00",
          "2015-12-24T00:00:00",
          "2015-12-31T00:00:00",
          "2016-01-08T00:00:00"
         ],
         "xaxis": "x",
         "y": [
          null,
          100,
          97.30692371914459,
          100.28298426314949,
          102.34668779015733,
          103.05898674756003,
          102.77600248441055,
          101.23432897286276,
          100.41958183589838,
          103.1081573730059,
          100.8196979550871,
          101.1627671472711,
          102.92688991855906,
          101.90268941942658,
          103.71581403826984,
          103.26011373379454,
          103.70113036179232,
          104.10293425988648,
          104.37247255108909,
          103.46591024166746,
          102.79456805237068,
          102.87293725288104,
          103.80897943385145,
          103.36087413445071,
          102.09037043371417,
          102.16918970859935,
          104.62637075776773,
          102.39568963771264,
          103.63170638948087,
          102.3858442607641,
          103.09493643824642,
          97.31873817148283,
          98.11154418267618,
          94.83691555029469,
          96.88047824903066,
          96.70984380168825,
          95.47720260773094,
          96.53161434927124,
          99.66520092445279,
          100.62554712166188,
          102.72941978661977,
          102.93240332965026,
          103.97691343494515,
          100.264193658002,
          103.61555997128528,
          103.73933042435263,
          103.76903533308881,
          99.93743966190415,
          99.61642411408486,
          102.43529618269422,
          101.53385346928582,
          95.5824074928382
         ],
         "yaxis": "y"
        }
       ],
       "layout": {
        "height": 500,
        "legend": {
         "title": {
          "text": "variable"
         },
         "tracegroupgap": 0
        },
        "template": {
         "data": {
          "bar": [
           {
            "error_x": {
             "color": "#2a3f5f"
            },
            "error_y": {
             "color": "#2a3f5f"
            },
            "marker": {
             "line": {
              "color": "#E5ECF6",
              "width": 0.5
             },
             "pattern": {
              "fillmode": "overlay",
              "size": 10,
              "solidity": 0.2
             }
            },
            "type": "bar"
           }
          ],
          "barpolar": [
           {
            "marker": {
             "line": {
              "color": "#E5ECF6",
              "width": 0.5
             },
             "pattern": {
              "fillmode": "overlay",
              "size": 10,
              "solidity": 0.2
             }
            },
            "type": "barpolar"
           }
          ],
          "carpet": [
           {
            "aaxis": {
             "endlinecolor": "#2a3f5f",
             "gridcolor": "white",
             "linecolor": "white",
             "minorgridcolor": "white",
             "startlinecolor": "#2a3f5f"
            },
            "baxis": {
             "endlinecolor": "#2a3f5f",
             "gridcolor": "white",
             "linecolor": "white",
             "minorgridcolor": "white",
             "startlinecolor": "#2a3f5f"
            },
            "type": "carpet"
           }
          ],
          "choropleth": [
           {
            "colorbar": {
             "outlinewidth": 0,
             "ticks": ""
            },
            "type": "choropleth"
           }
          ],
          "contour": [
           {
            "colorbar": {
             "outlinewidth": 0,
             "ticks": ""
            },
            "colorscale": [
             [
              0,
              "#0d0887"
             ],
             [
              0.1111111111111111,
              "#46039f"
             ],
             [
              0.2222222222222222,
              "#7201a8"
             ],
             [
              0.3333333333333333,
              "#9c179e"
             ],
             [
              0.4444444444444444,
              "#bd3786"
             ],
             [
              0.5555555555555556,
              "#d8576b"
             ],
             [
              0.6666666666666666,
              "#ed7953"
             ],
             [
              0.7777777777777778,
              "#fb9f3a"
             ],
             [
              0.8888888888888888,
              "#fdca26"
             ],
             [
              1,
              "#f0f921"
             ]
            ],
            "type": "contour"
           }
          ],
          "contourcarpet": [
           {
            "colorbar": {
             "outlinewidth": 0,
             "ticks": ""
            },
            "type": "contourcarpet"
           }
          ],
          "heatmap": [
           {
            "colorbar": {
             "outlinewidth": 0,
             "ticks": ""
            },
            "colorscale": [
             [
              0,
              "#0d0887"
             ],
             [
              0.1111111111111111,
              "#46039f"
             ],
             [
              0.2222222222222222,
              "#7201a8"
             ],
             [
              0.3333333333333333,
              "#9c179e"
             ],
             [
              0.4444444444444444,
              "#bd3786"
             ],
             [
              0.5555555555555556,
              "#d8576b"
             ],
             [
              0.6666666666666666,
              "#ed7953"
             ],
             [
              0.7777777777777778,
              "#fb9f3a"
             ],
             [
              0.8888888888888888,
              "#fdca26"
             ],
             [
              1,
              "#f0f921"
             ]
            ],
            "type": "heatmap"
           }
          ],
          "heatmapgl": [
           {
            "colorbar": {
             "outlinewidth": 0,
             "ticks": ""
            },
            "colorscale": [
             [
              0,
              "#0d0887"
             ],
             [
              0.1111111111111111,
              "#46039f"
             ],
             [
              0.2222222222222222,
              "#7201a8"
             ],
             [
              0.3333333333333333,
              "#9c179e"
             ],
             [
              0.4444444444444444,
              "#bd3786"
             ],
             [
              0.5555555555555556,
              "#d8576b"
             ],
             [
              0.6666666666666666,
              "#ed7953"
             ],
             [
              0.7777777777777778,
              "#fb9f3a"
             ],
             [
              0.8888888888888888,
              "#fdca26"
             ],
             [
              1,
              "#f0f921"
             ]
            ],
            "type": "heatmapgl"
           }
          ],
          "histogram": [
           {
            "marker": {
             "pattern": {
              "fillmode": "overlay",
              "size": 10,
              "solidity": 0.2
             }
            },
            "type": "histogram"
           }
          ],
          "histogram2d": [
           {
            "colorbar": {
             "outlinewidth": 0,
             "ticks": ""
            },
            "colorscale": [
             [
              0,
              "#0d0887"
             ],
             [
              0.1111111111111111,
              "#46039f"
             ],
             [
              0.2222222222222222,
              "#7201a8"
             ],
             [
              0.3333333333333333,
              "#9c179e"
             ],
             [
              0.4444444444444444,
              "#bd3786"
             ],
             [
              0.5555555555555556,
              "#d8576b"
             ],
             [
              0.6666666666666666,
              "#ed7953"
             ],
             [
              0.7777777777777778,
              "#fb9f3a"
             ],
             [
              0.8888888888888888,
              "#fdca26"
             ],
             [
              1,
              "#f0f921"
             ]
            ],
            "type": "histogram2d"
           }
          ],
          "histogram2dcontour": [
           {
            "colorbar": {
             "outlinewidth": 0,
             "ticks": ""
            },
            "colorscale": [
             [
              0,
              "#0d0887"
             ],
             [
              0.1111111111111111,
              "#46039f"
             ],
             [
              0.2222222222222222,
              "#7201a8"
             ],
             [
              0.3333333333333333,
              "#9c179e"
             ],
             [
              0.4444444444444444,
              "#bd3786"
             ],
             [
              0.5555555555555556,
              "#d8576b"
             ],
             [
              0.6666666666666666,
              "#ed7953"
             ],
             [
              0.7777777777777778,
              "#fb9f3a"
             ],
             [
              0.8888888888888888,
              "#fdca26"
             ],
             [
              1,
              "#f0f921"
             ]
            ],
            "type": "histogram2dcontour"
           }
          ],
          "mesh3d": [
           {
            "colorbar": {
             "outlinewidth": 0,
             "ticks": ""
            },
            "type": "mesh3d"
           }
          ],
          "parcoords": [
           {
            "line": {
             "colorbar": {
              "outlinewidth": 0,
              "ticks": ""
             }
            },
            "type": "parcoords"
           }
          ],
          "pie": [
           {
            "automargin": true,
            "type": "pie"
           }
          ],
          "scatter": [
           {
            "fillpattern": {
             "fillmode": "overlay",
             "size": 10,
             "solidity": 0.2
            },
            "type": "scatter"
           }
          ],
          "scatter3d": [
           {
            "line": {
             "colorbar": {
              "outlinewidth": 0,
              "ticks": ""
             }
            },
            "marker": {
             "colorbar": {
              "outlinewidth": 0,
              "ticks": ""
             }
            },
            "type": "scatter3d"
           }
          ],
          "scattercarpet": [
           {
            "marker": {
             "colorbar": {
              "outlinewidth": 0,
              "ticks": ""
             }
            },
            "type": "scattercarpet"
           }
          ],
          "scattergeo": [
           {
            "marker": {
             "colorbar": {
              "outlinewidth": 0,
              "ticks": ""
             }
            },
            "type": "scattergeo"
           }
          ],
          "scattergl": [
           {
            "marker": {
             "colorbar": {
              "outlinewidth": 0,
              "ticks": ""
             }
            },
            "type": "scattergl"
           }
          ],
          "scattermapbox": [
           {
            "marker": {
             "colorbar": {
              "outlinewidth": 0,
              "ticks": ""
             }
            },
            "type": "scattermapbox"
           }
          ],
          "scatterpolar": [
           {
            "marker": {
             "colorbar": {
              "outlinewidth": 0,
              "ticks": ""
             }
            },
            "type": "scatterpolar"
           }
          ],
          "scatterpolargl": [
           {
            "marker": {
             "colorbar": {
              "outlinewidth": 0,
              "ticks": ""
             }
            },
            "type": "scatterpolargl"
           }
          ],
          "scatterternary": [
           {
            "marker": {
             "colorbar": {
              "outlinewidth": 0,
              "ticks": ""
             }
            },
            "type": "scatterternary"
           }
          ],
          "surface": [
           {
            "colorbar": {
             "outlinewidth": 0,
             "ticks": ""
            },
            "colorscale": [
             [
              0,
              "#0d0887"
             ],
             [
              0.1111111111111111,
              "#46039f"
             ],
             [
              0.2222222222222222,
              "#7201a8"
             ],
             [
              0.3333333333333333,
              "#9c179e"
             ],
             [
              0.4444444444444444,
              "#bd3786"
             ],
             [
              0.5555555555555556,
              "#d8576b"
             ],
             [
              0.6666666666666666,
              "#ed7953"
             ],
             [
              0.7777777777777778,
              "#fb9f3a"
             ],
             [
              0.8888888888888888,
              "#fdca26"
             ],
             [
              1,
              "#f0f921"
             ]
            ],
            "type": "surface"
           }
          ],
          "table": [
           {
            "cells": {
             "fill": {
              "color": "#EBF0F8"
             },
             "line": {
              "color": "white"
             }
            },
            "header": {
             "fill": {
              "color": "#C8D4E3"
             },
             "line": {
              "color": "white"
             }
            },
            "type": "table"
           }
          ]
         },
         "layout": {
          "annotationdefaults": {
           "arrowcolor": "#2a3f5f",
           "arrowhead": 0,
           "arrowwidth": 1
          },
          "autotypenumbers": "strict",
          "coloraxis": {
           "colorbar": {
            "outlinewidth": 0,
            "ticks": ""
           }
          },
          "colorscale": {
           "diverging": [
            [
             0,
             "#8e0152"
            ],
            [
             0.1,
             "#c51b7d"
            ],
            [
             0.2,
             "#de77ae"
            ],
            [
             0.3,
             "#f1b6da"
            ],
            [
             0.4,
             "#fde0ef"
            ],
            [
             0.5,
             "#f7f7f7"
            ],
            [
             0.6,
             "#e6f5d0"
            ],
            [
             0.7,
             "#b8e186"
            ],
            [
             0.8,
             "#7fbc41"
            ],
            [
             0.9,
             "#4d9221"
            ],
            [
             1,
             "#276419"
            ]
           ],
           "sequential": [
            [
             0,
             "#0d0887"
            ],
            [
             0.1111111111111111,
             "#46039f"
            ],
            [
             0.2222222222222222,
             "#7201a8"
            ],
            [
             0.3333333333333333,
             "#9c179e"
            ],
            [
             0.4444444444444444,
             "#bd3786"
            ],
            [
             0.5555555555555556,
             "#d8576b"
            ],
            [
             0.6666666666666666,
             "#ed7953"
            ],
            [
             0.7777777777777778,
             "#fb9f3a"
            ],
            [
             0.8888888888888888,
             "#fdca26"
            ],
            [
             1,
             "#f0f921"
            ]
           ],
           "sequentialminus": [
            [
             0,
             "#0d0887"
            ],
            [
             0.1111111111111111,
             "#46039f"
            ],
            [
             0.2222222222222222,
             "#7201a8"
            ],
            [
             0.3333333333333333,
             "#9c179e"
            ],
            [
             0.4444444444444444,
             "#bd3786"
            ],
            [
             0.5555555555555556,
             "#d8576b"
            ],
            [
             0.6666666666666666,
             "#ed7953"
            ],
            [
             0.7777777777777778,
             "#fb9f3a"
            ],
            [
             0.8888888888888888,
             "#fdca26"
            ],
            [
             1,
             "#f0f921"
            ]
           ]
          },
          "colorway": [
           "#636efa",
           "#EF553B",
           "#00cc96",
           "#ab63fa",
           "#FFA15A",
           "#19d3f3",
           "#FF6692",
           "#B6E880",
           "#FF97FF",
           "#FECB52"
          ],
          "font": {
           "color": "#2a3f5f"
          },
          "geo": {
           "bgcolor": "white",
           "lakecolor": "white",
           "landcolor": "#E5ECF6",
           "showlakes": true,
           "showland": true,
           "subunitcolor": "white"
          },
          "hoverlabel": {
           "align": "left"
          },
          "hovermode": "closest",
          "mapbox": {
           "style": "light"
          },
          "paper_bgcolor": "white",
          "plot_bgcolor": "#E5ECF6",
          "polar": {
           "angularaxis": {
            "gridcolor": "white",
            "linecolor": "white",
            "ticks": ""
           },
           "bgcolor": "#E5ECF6",
           "radialaxis": {
            "gridcolor": "white",
            "linecolor": "white",
            "ticks": ""
           }
          },
          "scene": {
           "xaxis": {
            "backgroundcolor": "#E5ECF6",
            "gridcolor": "white",
            "gridwidth": 2,
            "linecolor": "white",
            "showbackground": true,
            "ticks": "",
            "zerolinecolor": "white"
           },
           "yaxis": {
            "backgroundcolor": "#E5ECF6",
            "gridcolor": "white",
            "gridwidth": 2,
            "linecolor": "white",
            "showbackground": true,
            "ticks": "",
            "zerolinecolor": "white"
           },
           "zaxis": {
            "backgroundcolor": "#E5ECF6",
            "gridcolor": "white",
            "gridwidth": 2,
            "linecolor": "white",
            "showbackground": true,
            "ticks": "",
            "zerolinecolor": "white"
           }
          },
          "shapedefaults": {
           "line": {
            "color": "#2a3f5f"
           }
          },
          "ternary": {
           "aaxis": {
            "gridcolor": "white",
            "linecolor": "white",
            "ticks": ""
           },
           "baxis": {
            "gridcolor": "white",
            "linecolor": "white",
            "ticks": ""
           },
           "bgcolor": "#E5ECF6",
           "caxis": {
            "gridcolor": "white",
            "linecolor": "white",
            "ticks": ""
           }
          },
          "title": {
           "x": 0.05
          },
          "xaxis": {
           "automargin": true,
           "gridcolor": "white",
           "linecolor": "white",
           "ticks": "",
           "title": {
            "standoff": 15
           },
           "zerolinecolor": "white",
           "zerolinewidth": 2
          },
          "yaxis": {
           "automargin": true,
           "gridcolor": "white",
           "linecolor": "white",
           "ticks": "",
           "title": {
            "standoff": 15
           },
           "zerolinecolor": "white",
           "zerolinewidth": 2
          }
         }
        },
        "title": {
         "text": "Growth in AM v SPY"
        },
        "width": 800,
        "xaxis": {
         "anchor": "y",
         "domain": [
          0,
          1
         ],
         "title": {
          "text": "date"
         }
        },
        "yaxis": {
         "anchor": "x",
         "domain": [
          0,
          1
         ],
         "title": {
          "text": "value"
         }
        }
       }
      }
     },
     "metadata": {},
     "output_type": "display_data"
    }
   ],
   "source": [
    "graphAlpha(\"AM\", \"2015-01-15\")"
   ]
  },
  {
   "cell_type": "code",
   "execution_count": 25,
   "metadata": {},
   "outputs": [
    {
     "data": {
      "text/html": [
       "<div>\n",
       "<style scoped>\n",
       "    .dataframe tbody tr th:only-of-type {\n",
       "        vertical-align: middle;\n",
       "    }\n",
       "\n",
       "    .dataframe tbody tr th {\n",
       "        vertical-align: top;\n",
       "    }\n",
       "\n",
       "    .dataframe thead th {\n",
       "        text-align: right;\n",
       "    }\n",
       "</style>\n",
       "<table border=\"1\" class=\"dataframe\">\n",
       "  <thead>\n",
       "    <tr style=\"text-align: right;\">\n",
       "      <th></th>\n",
       "      <th>transaction_date</th>\n",
       "      <th>owner</th>\n",
       "      <th>ticker</th>\n",
       "      <th>asset_description</th>\n",
       "      <th>asset_type</th>\n",
       "      <th>type</th>\n",
       "    </tr>\n",
       "  </thead>\n",
       "  <tbody>\n",
       "    <tr>\n",
       "      <th>2404</th>\n",
       "      <td>2020-03-06</td>\n",
       "      <td>Joint</td>\n",
       "      <td>BRK-B</td>\n",
       "      <td>Berkshire Hathaway Inc.</td>\n",
       "      <td>Stock</td>\n",
       "      <td>Purchase</td>\n",
       "    </tr>\n",
       "    <tr>\n",
       "      <th>2406</th>\n",
       "      <td>2020-03-06</td>\n",
       "      <td>Joint</td>\n",
       "      <td>BRK-B</td>\n",
       "      <td>Berkshire Hathaway Inc.</td>\n",
       "      <td>Stock</td>\n",
       "      <td>Purchase</td>\n",
       "    </tr>\n",
       "    <tr>\n",
       "      <th>2408</th>\n",
       "      <td>2020-03-09</td>\n",
       "      <td>Joint</td>\n",
       "      <td>BRK-B</td>\n",
       "      <td>Berkshire Hathaway Inc.</td>\n",
       "      <td>Stock</td>\n",
       "      <td>Purchase</td>\n",
       "    </tr>\n",
       "    <tr>\n",
       "      <th>2409</th>\n",
       "      <td>2020-03-10</td>\n",
       "      <td>Joint</td>\n",
       "      <td>MSM</td>\n",
       "      <td>MSC Industrial Direct Co., Inc.</td>\n",
       "      <td>Stock</td>\n",
       "      <td>Purchase</td>\n",
       "    </tr>\n",
       "    <tr>\n",
       "      <th>2410</th>\n",
       "      <td>2020-03-10</td>\n",
       "      <td>Joint</td>\n",
       "      <td>M</td>\n",
       "      <td>Macy's, Inc.</td>\n",
       "      <td>Stock</td>\n",
       "      <td>Purchase</td>\n",
       "    </tr>\n",
       "    <tr>\n",
       "      <th>2411</th>\n",
       "      <td>2020-03-10</td>\n",
       "      <td>Joint</td>\n",
       "      <td>NWSA</td>\n",
       "      <td>News Corporation</td>\n",
       "      <td>Stock</td>\n",
       "      <td>Purchase</td>\n",
       "    </tr>\n",
       "    <tr>\n",
       "      <th>2412</th>\n",
       "      <td>2020-03-10</td>\n",
       "      <td>Joint</td>\n",
       "      <td>FOXA</td>\n",
       "      <td>Fox Corporation</td>\n",
       "      <td>Stock</td>\n",
       "      <td>Purchase</td>\n",
       "    </tr>\n",
       "    <tr>\n",
       "      <th>2413</th>\n",
       "      <td>2020-03-10</td>\n",
       "      <td>Joint</td>\n",
       "      <td>EAF</td>\n",
       "      <td>GrafTech International Ltd.</td>\n",
       "      <td>Stock</td>\n",
       "      <td>Purchase</td>\n",
       "    </tr>\n",
       "    <tr>\n",
       "      <th>2415</th>\n",
       "      <td>2020-03-13</td>\n",
       "      <td>Joint</td>\n",
       "      <td>ENB</td>\n",
       "      <td>Enbridge Inc.</td>\n",
       "      <td>Stock</td>\n",
       "      <td>Purchase</td>\n",
       "    </tr>\n",
       "    <tr>\n",
       "      <th>2418</th>\n",
       "      <td>2020-03-13</td>\n",
       "      <td>Joint</td>\n",
       "      <td>TRP</td>\n",
       "      <td>TC Energy Corporation</td>\n",
       "      <td>Stock</td>\n",
       "      <td>Purchase</td>\n",
       "    </tr>\n",
       "  </tbody>\n",
       "</table>\n",
       "</div>"
      ],
      "text/plain": [
       "     transaction_date  owner ticker                asset_description  \\\n",
       "2404       2020-03-06  Joint  BRK-B          Berkshire Hathaway Inc.   \n",
       "2406       2020-03-06  Joint  BRK-B          Berkshire Hathaway Inc.   \n",
       "2408       2020-03-09  Joint  BRK-B          Berkshire Hathaway Inc.   \n",
       "2409       2020-03-10  Joint    MSM  MSC Industrial Direct Co., Inc.   \n",
       "2410       2020-03-10  Joint      M                     Macy's, Inc.   \n",
       "2411       2020-03-10  Joint   NWSA                 News Corporation   \n",
       "2412       2020-03-10  Joint   FOXA                  Fox Corporation   \n",
       "2413       2020-03-10  Joint    EAF      GrafTech International Ltd.   \n",
       "2415       2020-03-13  Joint    ENB                    Enbridge Inc.   \n",
       "2418       2020-03-13  Joint    TRP            TC Energy Corporation   \n",
       "\n",
       "     asset_type      type  \n",
       "2404      Stock  Purchase  \n",
       "2406      Stock  Purchase  \n",
       "2408      Stock  Purchase  \n",
       "2409      Stock  Purchase  \n",
       "2410      Stock  Purchase  \n",
       "2411      Stock  Purchase  \n",
       "2412      Stock  Purchase  \n",
       "2413      Stock  Purchase  \n",
       "2415      Stock  Purchase  \n",
       "2418      Stock  Purchase  "
      ]
     },
     "execution_count": 25,
     "metadata": {},
     "output_type": "execute_result"
    }
   ],
   "source": [
    "# purchasesBySenator(136).iloc[-90:-80, :]\n",
    "purchasesBySenator(136).iloc[20:30]"
   ]
  },
  {
   "cell_type": "code",
   "execution_count": 26,
   "metadata": {},
   "outputs": [
    {
     "data": {
      "application/vnd.plotly.v1+json": {
       "config": {
        "plotlyServerURL": "https://plot.ly"
       },
       "data": [
        {
         "hovertemplate": "variable=M_growth<br>date=%{x}<br>value=%{y}<extra></extra>",
         "legendgroup": "M_growth",
         "line": {
          "color": "#636efa",
          "dash": "solid"
         },
         "marker": {
          "symbol": "circle"
         },
         "mode": "lines",
         "name": "M_growth",
         "orientation": "v",
         "showlegend": true,
         "type": "scatter",
         "x": [
          "2020-03-13T00:00:00",
          "2020-03-20T00:00:00",
          "2020-03-27T00:00:00",
          "2020-04-03T00:00:00",
          "2020-04-09T00:00:00",
          "2020-04-17T00:00:00",
          "2020-04-24T00:00:00",
          "2020-05-01T00:00:00",
          "2020-05-08T00:00:00",
          "2020-05-15T00:00:00",
          "2020-05-22T00:00:00",
          "2020-05-29T00:00:00",
          "2020-06-05T00:00:00",
          "2020-06-12T00:00:00",
          "2020-06-19T00:00:00",
          "2020-06-26T00:00:00",
          "2020-07-02T00:00:00",
          "2020-07-10T00:00:00",
          "2020-07-17T00:00:00",
          "2020-07-24T00:00:00",
          "2020-07-31T00:00:00",
          "2020-08-07T00:00:00",
          "2020-08-14T00:00:00",
          "2020-08-21T00:00:00",
          "2020-08-28T00:00:00",
          "2020-09-04T00:00:00",
          "2020-09-11T00:00:00",
          "2020-09-18T00:00:00",
          "2020-09-25T00:00:00",
          "2020-10-02T00:00:00",
          "2020-10-09T00:00:00",
          "2020-10-16T00:00:00",
          "2020-10-23T00:00:00",
          "2020-10-30T00:00:00",
          "2020-11-06T00:00:00",
          "2020-11-13T00:00:00",
          "2020-11-20T00:00:00",
          "2020-11-27T00:00:00",
          "2020-12-04T00:00:00",
          "2020-12-11T00:00:00",
          "2020-12-18T00:00:00",
          "2020-12-24T00:00:00",
          "2020-12-31T00:00:00",
          "2021-01-08T00:00:00",
          "2021-01-15T00:00:00",
          "2021-01-22T00:00:00",
          "2021-01-29T00:00:00",
          "2021-02-05T00:00:00",
          "2021-02-12T00:00:00",
          "2021-02-19T00:00:00",
          "2021-02-26T00:00:00",
          "2021-03-05T00:00:00"
         ],
         "xaxis": "x",
         "y": [
          null,
          100,
          91.8601446779194,
          79.900103341371,
          110.63038236307267,
          98.33792628315535,
          83.38787461246984,
          89.03548053737511,
          89.2025490871512,
          88.20530485704441,
          86.54495349638303,
          105.64760592490524,
          145.68033069238714,
          121.26248708232859,
          114.28522218394761,
          99.99999999999999,
          112.95728556665517,
          112.45780227351015,
          110.46503616947984,
          107.14261109197382,
          100.66482948673786,
          109.96727523251809,
          119.43506717189116,
          103.9872545642439,
          115.44781260764728,
          127.07543920082675,
          117.10988632449192,
          112.29245607991734,
          100.16534619359284,
          99.83293145022391,
          103.48777127109886,
          102.32518084739925,
          120.09989665862902,
          103.15535652772996,
          109.13537719600417,
          122.25800895625218,
          150.33241474336896,
          180.23251808473995,
          194.68308646228041,
          184.05270409920772,
          173.25525318635894,
          178.57044436789528,
          186.87736823975195,
          203.98553220806062,
          216.11264209438508,
          213.9528074405787,
          249.8329314502239,
          250.33069238718565,
          247.1753358594557,
          248.67034102652423,
          252.65759559076815,
          251.1625904236996
         ],
         "yaxis": "y"
        },
        {
         "hovertemplate": "variable=SPY_growth<br>date=%{x}<br>value=%{y}<extra></extra>",
         "legendgroup": "SPY_growth",
         "line": {
          "color": "#EF553B",
          "dash": "solid"
         },
         "marker": {
          "symbol": "circle"
         },
         "mode": "lines",
         "name": "SPY_growth",
         "orientation": "v",
         "showlegend": true,
         "type": "scatter",
         "x": [
          "2020-03-13T00:00:00",
          "2020-03-20T00:00:00",
          "2020-03-27T00:00:00",
          "2020-04-03T00:00:00",
          "2020-04-09T00:00:00",
          "2020-04-17T00:00:00",
          "2020-04-24T00:00:00",
          "2020-05-01T00:00:00",
          "2020-05-08T00:00:00",
          "2020-05-15T00:00:00",
          "2020-05-22T00:00:00",
          "2020-05-29T00:00:00",
          "2020-06-05T00:00:00",
          "2020-06-12T00:00:00",
          "2020-06-19T00:00:00",
          "2020-06-26T00:00:00",
          "2020-07-02T00:00:00",
          "2020-07-10T00:00:00",
          "2020-07-17T00:00:00",
          "2020-07-24T00:00:00",
          "2020-07-31T00:00:00",
          "2020-08-07T00:00:00",
          "2020-08-14T00:00:00",
          "2020-08-21T00:00:00",
          "2020-08-28T00:00:00",
          "2020-09-04T00:00:00",
          "2020-09-11T00:00:00",
          "2020-09-18T00:00:00",
          "2020-09-25T00:00:00",
          "2020-10-02T00:00:00",
          "2020-10-09T00:00:00",
          "2020-10-16T00:00:00",
          "2020-10-23T00:00:00",
          "2020-10-30T00:00:00",
          "2020-11-06T00:00:00",
          "2020-11-13T00:00:00",
          "2020-11-20T00:00:00",
          "2020-11-27T00:00:00",
          "2020-12-04T00:00:00",
          "2020-12-11T00:00:00",
          "2020-12-18T00:00:00",
          "2020-12-24T00:00:00",
          "2020-12-31T00:00:00",
          "2021-01-08T00:00:00",
          "2021-01-15T00:00:00",
          "2021-01-22T00:00:00",
          "2021-01-29T00:00:00",
          "2021-02-05T00:00:00",
          "2021-02-12T00:00:00",
          "2021-02-19T00:00:00",
          "2021-02-26T00:00:00",
          "2021-03-05T00:00:00"
         ],
         "xaxis": "x",
         "y": [
          null,
          100,
          110.76051071322412,
          108.47464472666132,
          121.59090754384333,
          125.27971464681418,
          123.67569211081035,
          123.59704753844305,
          127.8146747232351,
          125.12238012148387,
          129.12590165571106,
          133.00698634270972,
          139.57169793767883,
          132.9589282918517,
          135.492254666827,
          131.7212633050234,
          137.06823199468138,
          139.42126126289662,
          141.2343522033414,
          140.86558948259315,
          143.34150940399397,
          146.87543253380287,
          147.8719904156182,
          149.03092006888778,
          153.9037976751521,
          150.38743683588336,
          146.65157005516014,
          145.7425059618758,
          144.89620323245984,
          147.14857833938788,
          152.8830519358228,
          153.07700860189195,
          152.41145678519328,
          143.9309125810895,
          154.34203808793404,
          157.8417896291725,
          156.6208247015659,
          160.29692523773764,
          163.0208954952952,
          161.45617255517718,
          163.42201458078546,
          163.3423262547168,
          165.5025333717556,
          168.7693916958048,
          166.3081750874144,
          169.4864958692313,
          163.81596353215332,
          171.62455725556313,
          173.80686472271324,
          172.65152013650484,
          168.37099544605724,
          169.81850030745355
         ],
         "yaxis": "y"
        }
       ],
       "layout": {
        "height": 500,
        "legend": {
         "title": {
          "text": "variable"
         },
         "tracegroupgap": 0
        },
        "template": {
         "data": {
          "bar": [
           {
            "error_x": {
             "color": "#2a3f5f"
            },
            "error_y": {
             "color": "#2a3f5f"
            },
            "marker": {
             "line": {
              "color": "#E5ECF6",
              "width": 0.5
             },
             "pattern": {
              "fillmode": "overlay",
              "size": 10,
              "solidity": 0.2
             }
            },
            "type": "bar"
           }
          ],
          "barpolar": [
           {
            "marker": {
             "line": {
              "color": "#E5ECF6",
              "width": 0.5
             },
             "pattern": {
              "fillmode": "overlay",
              "size": 10,
              "solidity": 0.2
             }
            },
            "type": "barpolar"
           }
          ],
          "carpet": [
           {
            "aaxis": {
             "endlinecolor": "#2a3f5f",
             "gridcolor": "white",
             "linecolor": "white",
             "minorgridcolor": "white",
             "startlinecolor": "#2a3f5f"
            },
            "baxis": {
             "endlinecolor": "#2a3f5f",
             "gridcolor": "white",
             "linecolor": "white",
             "minorgridcolor": "white",
             "startlinecolor": "#2a3f5f"
            },
            "type": "carpet"
           }
          ],
          "choropleth": [
           {
            "colorbar": {
             "outlinewidth": 0,
             "ticks": ""
            },
            "type": "choropleth"
           }
          ],
          "contour": [
           {
            "colorbar": {
             "outlinewidth": 0,
             "ticks": ""
            },
            "colorscale": [
             [
              0,
              "#0d0887"
             ],
             [
              0.1111111111111111,
              "#46039f"
             ],
             [
              0.2222222222222222,
              "#7201a8"
             ],
             [
              0.3333333333333333,
              "#9c179e"
             ],
             [
              0.4444444444444444,
              "#bd3786"
             ],
             [
              0.5555555555555556,
              "#d8576b"
             ],
             [
              0.6666666666666666,
              "#ed7953"
             ],
             [
              0.7777777777777778,
              "#fb9f3a"
             ],
             [
              0.8888888888888888,
              "#fdca26"
             ],
             [
              1,
              "#f0f921"
             ]
            ],
            "type": "contour"
           }
          ],
          "contourcarpet": [
           {
            "colorbar": {
             "outlinewidth": 0,
             "ticks": ""
            },
            "type": "contourcarpet"
           }
          ],
          "heatmap": [
           {
            "colorbar": {
             "outlinewidth": 0,
             "ticks": ""
            },
            "colorscale": [
             [
              0,
              "#0d0887"
             ],
             [
              0.1111111111111111,
              "#46039f"
             ],
             [
              0.2222222222222222,
              "#7201a8"
             ],
             [
              0.3333333333333333,
              "#9c179e"
             ],
             [
              0.4444444444444444,
              "#bd3786"
             ],
             [
              0.5555555555555556,
              "#d8576b"
             ],
             [
              0.6666666666666666,
              "#ed7953"
             ],
             [
              0.7777777777777778,
              "#fb9f3a"
             ],
             [
              0.8888888888888888,
              "#fdca26"
             ],
             [
              1,
              "#f0f921"
             ]
            ],
            "type": "heatmap"
           }
          ],
          "heatmapgl": [
           {
            "colorbar": {
             "outlinewidth": 0,
             "ticks": ""
            },
            "colorscale": [
             [
              0,
              "#0d0887"
             ],
             [
              0.1111111111111111,
              "#46039f"
             ],
             [
              0.2222222222222222,
              "#7201a8"
             ],
             [
              0.3333333333333333,
              "#9c179e"
             ],
             [
              0.4444444444444444,
              "#bd3786"
             ],
             [
              0.5555555555555556,
              "#d8576b"
             ],
             [
              0.6666666666666666,
              "#ed7953"
             ],
             [
              0.7777777777777778,
              "#fb9f3a"
             ],
             [
              0.8888888888888888,
              "#fdca26"
             ],
             [
              1,
              "#f0f921"
             ]
            ],
            "type": "heatmapgl"
           }
          ],
          "histogram": [
           {
            "marker": {
             "pattern": {
              "fillmode": "overlay",
              "size": 10,
              "solidity": 0.2
             }
            },
            "type": "histogram"
           }
          ],
          "histogram2d": [
           {
            "colorbar": {
             "outlinewidth": 0,
             "ticks": ""
            },
            "colorscale": [
             [
              0,
              "#0d0887"
             ],
             [
              0.1111111111111111,
              "#46039f"
             ],
             [
              0.2222222222222222,
              "#7201a8"
             ],
             [
              0.3333333333333333,
              "#9c179e"
             ],
             [
              0.4444444444444444,
              "#bd3786"
             ],
             [
              0.5555555555555556,
              "#d8576b"
             ],
             [
              0.6666666666666666,
              "#ed7953"
             ],
             [
              0.7777777777777778,
              "#fb9f3a"
             ],
             [
              0.8888888888888888,
              "#fdca26"
             ],
             [
              1,
              "#f0f921"
             ]
            ],
            "type": "histogram2d"
           }
          ],
          "histogram2dcontour": [
           {
            "colorbar": {
             "outlinewidth": 0,
             "ticks": ""
            },
            "colorscale": [
             [
              0,
              "#0d0887"
             ],
             [
              0.1111111111111111,
              "#46039f"
             ],
             [
              0.2222222222222222,
              "#7201a8"
             ],
             [
              0.3333333333333333,
              "#9c179e"
             ],
             [
              0.4444444444444444,
              "#bd3786"
             ],
             [
              0.5555555555555556,
              "#d8576b"
             ],
             [
              0.6666666666666666,
              "#ed7953"
             ],
             [
              0.7777777777777778,
              "#fb9f3a"
             ],
             [
              0.8888888888888888,
              "#fdca26"
             ],
             [
              1,
              "#f0f921"
             ]
            ],
            "type": "histogram2dcontour"
           }
          ],
          "mesh3d": [
           {
            "colorbar": {
             "outlinewidth": 0,
             "ticks": ""
            },
            "type": "mesh3d"
           }
          ],
          "parcoords": [
           {
            "line": {
             "colorbar": {
              "outlinewidth": 0,
              "ticks": ""
             }
            },
            "type": "parcoords"
           }
          ],
          "pie": [
           {
            "automargin": true,
            "type": "pie"
           }
          ],
          "scatter": [
           {
            "fillpattern": {
             "fillmode": "overlay",
             "size": 10,
             "solidity": 0.2
            },
            "type": "scatter"
           }
          ],
          "scatter3d": [
           {
            "line": {
             "colorbar": {
              "outlinewidth": 0,
              "ticks": ""
             }
            },
            "marker": {
             "colorbar": {
              "outlinewidth": 0,
              "ticks": ""
             }
            },
            "type": "scatter3d"
           }
          ],
          "scattercarpet": [
           {
            "marker": {
             "colorbar": {
              "outlinewidth": 0,
              "ticks": ""
             }
            },
            "type": "scattercarpet"
           }
          ],
          "scattergeo": [
           {
            "marker": {
             "colorbar": {
              "outlinewidth": 0,
              "ticks": ""
             }
            },
            "type": "scattergeo"
           }
          ],
          "scattergl": [
           {
            "marker": {
             "colorbar": {
              "outlinewidth": 0,
              "ticks": ""
             }
            },
            "type": "scattergl"
           }
          ],
          "scattermapbox": [
           {
            "marker": {
             "colorbar": {
              "outlinewidth": 0,
              "ticks": ""
             }
            },
            "type": "scattermapbox"
           }
          ],
          "scatterpolar": [
           {
            "marker": {
             "colorbar": {
              "outlinewidth": 0,
              "ticks": ""
             }
            },
            "type": "scatterpolar"
           }
          ],
          "scatterpolargl": [
           {
            "marker": {
             "colorbar": {
              "outlinewidth": 0,
              "ticks": ""
             }
            },
            "type": "scatterpolargl"
           }
          ],
          "scatterternary": [
           {
            "marker": {
             "colorbar": {
              "outlinewidth": 0,
              "ticks": ""
             }
            },
            "type": "scatterternary"
           }
          ],
          "surface": [
           {
            "colorbar": {
             "outlinewidth": 0,
             "ticks": ""
            },
            "colorscale": [
             [
              0,
              "#0d0887"
             ],
             [
              0.1111111111111111,
              "#46039f"
             ],
             [
              0.2222222222222222,
              "#7201a8"
             ],
             [
              0.3333333333333333,
              "#9c179e"
             ],
             [
              0.4444444444444444,
              "#bd3786"
             ],
             [
              0.5555555555555556,
              "#d8576b"
             ],
             [
              0.6666666666666666,
              "#ed7953"
             ],
             [
              0.7777777777777778,
              "#fb9f3a"
             ],
             [
              0.8888888888888888,
              "#fdca26"
             ],
             [
              1,
              "#f0f921"
             ]
            ],
            "type": "surface"
           }
          ],
          "table": [
           {
            "cells": {
             "fill": {
              "color": "#EBF0F8"
             },
             "line": {
              "color": "white"
             }
            },
            "header": {
             "fill": {
              "color": "#C8D4E3"
             },
             "line": {
              "color": "white"
             }
            },
            "type": "table"
           }
          ]
         },
         "layout": {
          "annotationdefaults": {
           "arrowcolor": "#2a3f5f",
           "arrowhead": 0,
           "arrowwidth": 1
          },
          "autotypenumbers": "strict",
          "coloraxis": {
           "colorbar": {
            "outlinewidth": 0,
            "ticks": ""
           }
          },
          "colorscale": {
           "diverging": [
            [
             0,
             "#8e0152"
            ],
            [
             0.1,
             "#c51b7d"
            ],
            [
             0.2,
             "#de77ae"
            ],
            [
             0.3,
             "#f1b6da"
            ],
            [
             0.4,
             "#fde0ef"
            ],
            [
             0.5,
             "#f7f7f7"
            ],
            [
             0.6,
             "#e6f5d0"
            ],
            [
             0.7,
             "#b8e186"
            ],
            [
             0.8,
             "#7fbc41"
            ],
            [
             0.9,
             "#4d9221"
            ],
            [
             1,
             "#276419"
            ]
           ],
           "sequential": [
            [
             0,
             "#0d0887"
            ],
            [
             0.1111111111111111,
             "#46039f"
            ],
            [
             0.2222222222222222,
             "#7201a8"
            ],
            [
             0.3333333333333333,
             "#9c179e"
            ],
            [
             0.4444444444444444,
             "#bd3786"
            ],
            [
             0.5555555555555556,
             "#d8576b"
            ],
            [
             0.6666666666666666,
             "#ed7953"
            ],
            [
             0.7777777777777778,
             "#fb9f3a"
            ],
            [
             0.8888888888888888,
             "#fdca26"
            ],
            [
             1,
             "#f0f921"
            ]
           ],
           "sequentialminus": [
            [
             0,
             "#0d0887"
            ],
            [
             0.1111111111111111,
             "#46039f"
            ],
            [
             0.2222222222222222,
             "#7201a8"
            ],
            [
             0.3333333333333333,
             "#9c179e"
            ],
            [
             0.4444444444444444,
             "#bd3786"
            ],
            [
             0.5555555555555556,
             "#d8576b"
            ],
            [
             0.6666666666666666,
             "#ed7953"
            ],
            [
             0.7777777777777778,
             "#fb9f3a"
            ],
            [
             0.8888888888888888,
             "#fdca26"
            ],
            [
             1,
             "#f0f921"
            ]
           ]
          },
          "colorway": [
           "#636efa",
           "#EF553B",
           "#00cc96",
           "#ab63fa",
           "#FFA15A",
           "#19d3f3",
           "#FF6692",
           "#B6E880",
           "#FF97FF",
           "#FECB52"
          ],
          "font": {
           "color": "#2a3f5f"
          },
          "geo": {
           "bgcolor": "white",
           "lakecolor": "white",
           "landcolor": "#E5ECF6",
           "showlakes": true,
           "showland": true,
           "subunitcolor": "white"
          },
          "hoverlabel": {
           "align": "left"
          },
          "hovermode": "closest",
          "mapbox": {
           "style": "light"
          },
          "paper_bgcolor": "white",
          "plot_bgcolor": "#E5ECF6",
          "polar": {
           "angularaxis": {
            "gridcolor": "white",
            "linecolor": "white",
            "ticks": ""
           },
           "bgcolor": "#E5ECF6",
           "radialaxis": {
            "gridcolor": "white",
            "linecolor": "white",
            "ticks": ""
           }
          },
          "scene": {
           "xaxis": {
            "backgroundcolor": "#E5ECF6",
            "gridcolor": "white",
            "gridwidth": 2,
            "linecolor": "white",
            "showbackground": true,
            "ticks": "",
            "zerolinecolor": "white"
           },
           "yaxis": {
            "backgroundcolor": "#E5ECF6",
            "gridcolor": "white",
            "gridwidth": 2,
            "linecolor": "white",
            "showbackground": true,
            "ticks": "",
            "zerolinecolor": "white"
           },
           "zaxis": {
            "backgroundcolor": "#E5ECF6",
            "gridcolor": "white",
            "gridwidth": 2,
            "linecolor": "white",
            "showbackground": true,
            "ticks": "",
            "zerolinecolor": "white"
           }
          },
          "shapedefaults": {
           "line": {
            "color": "#2a3f5f"
           }
          },
          "ternary": {
           "aaxis": {
            "gridcolor": "white",
            "linecolor": "white",
            "ticks": ""
           },
           "baxis": {
            "gridcolor": "white",
            "linecolor": "white",
            "ticks": ""
           },
           "bgcolor": "#E5ECF6",
           "caxis": {
            "gridcolor": "white",
            "linecolor": "white",
            "ticks": ""
           }
          },
          "title": {
           "x": 0.05
          },
          "xaxis": {
           "automargin": true,
           "gridcolor": "white",
           "linecolor": "white",
           "ticks": "",
           "title": {
            "standoff": 15
           },
           "zerolinecolor": "white",
           "zerolinewidth": 2
          },
          "yaxis": {
           "automargin": true,
           "gridcolor": "white",
           "linecolor": "white",
           "ticks": "",
           "title": {
            "standoff": 15
           },
           "zerolinecolor": "white",
           "zerolinewidth": 2
          }
         }
        },
        "title": {
         "text": "Growth in M v SPY"
        },
        "width": 800,
        "xaxis": {
         "anchor": "y",
         "domain": [
          0,
          1
         ],
         "title": {
          "text": "date"
         }
        },
        "yaxis": {
         "anchor": "x",
         "domain": [
          0,
          1
         ],
         "title": {
          "text": "value"
         }
        }
       }
      }
     },
     "metadata": {},
     "output_type": "display_data"
    }
   ],
   "source": [
    "graphAlpha(\"M\", \"2020-03-10\")"
   ]
  },
  {
   "cell_type": "markdown",
   "metadata": {},
   "source": [
    "here's a great example of why we need more information. Its true Macy's had a big run, but this run was 6 months after the purchase, and it was preceeded by a smaller run. Hard to say if the first run was the reason for the purcahse or not. Lets modify the graph alpha function to indicate all transacions (purcahses and sales) of one asset by a senator within the measurement window (1 year)"
   ]
  },
  {
   "cell_type": "code",
   "execution_count": null,
   "metadata": {},
   "outputs": [],
   "source": []
  },
  {
   "cell_type": "code",
   "execution_count": 27,
   "metadata": {},
   "outputs": [
    {
     "name": "stdout",
     "output_type": "stream",
     "text": [
      "looks like this senator bought then sold a few weeks later, thereby missing the second Macy's second big run \n"
     ]
    },
    {
     "data": {
      "text/html": [
       "<div>\n",
       "<style scoped>\n",
       "    .dataframe tbody tr th:only-of-type {\n",
       "        vertical-align: middle;\n",
       "    }\n",
       "\n",
       "    .dataframe tbody tr th {\n",
       "        vertical-align: top;\n",
       "    }\n",
       "\n",
       "    .dataframe thead th {\n",
       "        text-align: right;\n",
       "    }\n",
       "</style>\n",
       "<table border=\"1\" class=\"dataframe\">\n",
       "  <thead>\n",
       "    <tr style=\"text-align: right;\">\n",
       "      <th></th>\n",
       "      <th>transaction_date</th>\n",
       "      <th>type</th>\n",
       "      <th>amount</th>\n",
       "      <th>senator</th>\n",
       "      <th>ticker</th>\n",
       "    </tr>\n",
       "  </thead>\n",
       "  <tbody>\n",
       "    <tr>\n",
       "      <th>1980</th>\n",
       "      <td>2020-04-14</td>\n",
       "      <td>Sale (Full)</td>\n",
       "      <td>$15,001 - $50,000</td>\n",
       "      <td>David A Perdue , Jr</td>\n",
       "      <td>M</td>\n",
       "    </tr>\n",
       "    <tr>\n",
       "      <th>2410</th>\n",
       "      <td>2020-03-10</td>\n",
       "      <td>Purchase</td>\n",
       "      <td>$1,001 - $15,000</td>\n",
       "      <td>David A Perdue , Jr</td>\n",
       "      <td>M</td>\n",
       "    </tr>\n",
       "    <tr>\n",
       "      <th>2466</th>\n",
       "      <td>2020-03-20</td>\n",
       "      <td>Purchase</td>\n",
       "      <td>$1,001 - $15,000</td>\n",
       "      <td>David A Perdue , Jr</td>\n",
       "      <td>M</td>\n",
       "    </tr>\n",
       "  </tbody>\n",
       "</table>\n",
       "</div>"
      ],
      "text/plain": [
       "     transaction_date         type             amount              senator  \\\n",
       "1980       2020-04-14  Sale (Full)  $15,001 - $50,000  David A Perdue , Jr   \n",
       "2410       2020-03-10     Purchase   $1,001 - $15,000  David A Perdue , Jr   \n",
       "2466       2020-03-20     Purchase   $1,001 - $15,000  David A Perdue , Jr   \n",
       "\n",
       "     ticker  \n",
       "1980      M  \n",
       "2410      M  \n",
       "2466      M  "
      ]
     },
     "execution_count": 27,
     "metadata": {},
     "output_type": "execute_result"
    }
   ],
   "source": [
    "from dateutil.relativedelta import  relativedelta\n",
    "\n",
    "transactions['transaction_date'] = pd.to_datetime(transactions['transaction_date'])\n",
    "\n",
    "\n",
    "def findRelevantTransactions(senId, date, ticker):\n",
    "    startDate = pd.to_datetime(date)\n",
    "    endDate = startDate + relativedelta(years=1)\n",
    "    \n",
    "    afterStartDate = transactions['transaction_date']>= startDate\n",
    "    beforeEndDate = transactions['transaction_date']< endDate\n",
    "    isStock = transactions['asset_type']==\"Stock\"\n",
    "    isSenator = transactions['senatorId']==senId\n",
    "    isTicker = transactions['ticker']==ticker\n",
    "\n",
    "    rez = transactions[afterStartDate & beforeEndDate & isStock & isSenator & isTicker]\n",
    "\n",
    "    return rez \n",
    "\n",
    "\n",
    "\n",
    "print(\"looks like this senator bought then sold a few weeks later, thereby missing the second Macy's second big run \")\n",
    "\n",
    "macysTransactions = findRelevantTransactions(136, \"2020-03-10\", \"M\")[['transaction_date', 'type','amount', 'senator', 'ticker']]\n",
    "macysTransactions"
   ]
  },
  {
   "cell_type": "code",
   "execution_count": 28,
   "metadata": {},
   "outputs": [
    {
     "data": {
      "text/plain": [
       "{'2020-04-17': 'Sale (Full)',\n",
       " '2020-03-13': 'Purchase',\n",
       " '2020-03-20': 'Purchase'}"
      ]
     },
     "execution_count": 28,
     "metadata": {},
     "output_type": "execute_result"
    }
   ],
   "source": [
    "# from datetime import datetime\n",
    "import datetime\n",
    "#generate map of dates and transaction types \n",
    "dates = macysTransactions['transaction_date'].to_list()\n",
    "transTypes = macysTransactions['type'].to_list()\n",
    "\n",
    "#calculate the closest friday to merge with historical prices table (weekly data)\n",
    "def nearestFriday(inputDate):\n",
    "    fridayDelta = datetime.timedelta( (4-inputDate.weekday()) % 7 )\n",
    "    nearestFriday = inputDate + fridayDelta\n",
    "    nearestFridayString = datetime.datetime.strftime(nearestFriday , \"%Y-%m-%d\")\n",
    "    return nearestFridayString\n",
    "\n",
    "fridayDates  = [nearestFriday(d) for d in dates]\n",
    "\n",
    "transactionMap = dict(zip(fridayDates, transTypes))\n",
    "\n",
    "\n",
    "\n",
    "transactionMap "
   ]
  },
  {
   "cell_type": "code",
   "execution_count": 29,
   "metadata": {},
   "outputs": [],
   "source": [
    "\n",
    "# putting it all together\n",
    "# find relevant transactions\n",
    "def historicalPricesWithTransaction(senatorIdInput, dateInput,tickerInput ):\n",
    "    relevantTransactions = findRelevantTransactions(senatorIdInput, dateInput,tickerInput)\n",
    "    # return relevantTransactions\n",
    "\n",
    "    dates = relevantTransactions['transaction_date'].to_list()\n",
    "    transTypes = relevantTransactions['type'].to_list()\n",
    "    fridayDates  = [nearestFriday(d) for d in dates]\n",
    "    transactionMap = dict(zip(fridayDates, transTypes)) \n",
    "\n",
    "    hist = generateHistoricalPricesTable(tickerInput, dateInput)\n",
    "\n",
    "\n",
    "    hist['date']  = hist['date'].dt.strftime(\"%Y-%m-%d\")\n",
    "\n",
    "    mappedColumn = []\n",
    "    isTransaction = []\n",
    "\n",
    "\n",
    "\n",
    "    for date in hist['date'].to_list():\n",
    "        if date in transactionMap.keys():\n",
    "            mappedColumn.append(transactionMap[date])\n",
    "        else:\n",
    "            mappedColumn.append(np.nan)\n",
    "            # mappedColumn.append('fill')\n",
    "\n",
    "    hist['transactionType'] = mappedColumn\n",
    "    hist['transactionValue'] = np.where(hist['transactionType'].notnull(), hist[tickerInput], np.nan)\n",
    "\n",
    "\n",
    "    return hist\n",
    "\n",
    "\n",
    "# temp = historicalPricesWithTransaction(136,  \"2020-03-10\", \"M\" )\n",
    "# temp.head()\n"
   ]
  },
  {
   "cell_type": "code",
   "execution_count": 30,
   "metadata": {},
   "outputs": [
    {
     "data": {
      "text/html": [
       "<div>\n",
       "<style scoped>\n",
       "    .dataframe tbody tr th:only-of-type {\n",
       "        vertical-align: middle;\n",
       "    }\n",
       "\n",
       "    .dataframe tbody tr th {\n",
       "        vertical-align: top;\n",
       "    }\n",
       "\n",
       "    .dataframe thead th {\n",
       "        text-align: right;\n",
       "    }\n",
       "</style>\n",
       "<table border=\"1\" class=\"dataframe\">\n",
       "  <thead>\n",
       "    <tr style=\"text-align: right;\">\n",
       "      <th></th>\n",
       "      <th>date</th>\n",
       "      <th>M</th>\n",
       "      <th>SPY</th>\n",
       "      <th>transactionType</th>\n",
       "      <th>transactionValue</th>\n",
       "    </tr>\n",
       "  </thead>\n",
       "  <tbody>\n",
       "    <tr>\n",
       "      <th>141</th>\n",
       "      <td>2020-03-13</td>\n",
       "      <td>7.7445</td>\n",
       "      <td>257.7998</td>\n",
       "      <td>Purchase</td>\n",
       "      <td>7.7445</td>\n",
       "    </tr>\n",
       "    <tr>\n",
       "      <th>140</th>\n",
       "      <td>2020-03-20</td>\n",
       "      <td>5.8060</td>\n",
       "      <td>220.3585</td>\n",
       "      <td>Purchase</td>\n",
       "      <td>5.8060</td>\n",
       "    </tr>\n",
       "    <tr>\n",
       "      <th>139</th>\n",
       "      <td>2020-03-27</td>\n",
       "      <td>5.3334</td>\n",
       "      <td>244.0702</td>\n",
       "      <td>NaN</td>\n",
       "      <td>NaN</td>\n",
       "    </tr>\n",
       "    <tr>\n",
       "      <th>138</th>\n",
       "      <td>2020-04-03</td>\n",
       "      <td>4.6390</td>\n",
       "      <td>239.0331</td>\n",
       "      <td>NaN</td>\n",
       "      <td>NaN</td>\n",
       "    </tr>\n",
       "    <tr>\n",
       "      <th>137</th>\n",
       "      <td>2020-04-09</td>\n",
       "      <td>6.4232</td>\n",
       "      <td>267.9359</td>\n",
       "      <td>NaN</td>\n",
       "      <td>NaN</td>\n",
       "    </tr>\n",
       "  </tbody>\n",
       "</table>\n",
       "</div>"
      ],
      "text/plain": [
       "           date       M       SPY transactionType  transactionValue\n",
       "141  2020-03-13  7.7445  257.7998        Purchase            7.7445\n",
       "140  2020-03-20  5.8060  220.3585        Purchase            5.8060\n",
       "139  2020-03-27  5.3334  244.0702             NaN               NaN\n",
       "138  2020-04-03  4.6390  239.0331             NaN               NaN\n",
       "137  2020-04-09  6.4232  267.9359             NaN               NaN"
      ]
     },
     "execution_count": 30,
     "metadata": {},
     "output_type": "execute_result"
    }
   ],
   "source": [
    "# temp = historicalPricesWithTransaction(125,  \"2017-12-21\", \"WTW\" )\n",
    "temp = historicalPricesWithTransaction(136,  \"2020-03-10\", \"M\" )\n",
    "temp.head()"
   ]
  },
  {
   "cell_type": "code",
   "execution_count": 31,
   "metadata": {},
   "outputs": [
    {
     "data": {
      "application/vnd.plotly.v1+json": {
       "config": {
        "plotlyServerURL": "https://plot.ly"
       },
       "data": [
        {
         "hovertemplate": "transactionType=Purchase<br>date=%{x}<br>historical Price M=%{y}<extra></extra>",
         "legendgroup": "Purchase",
         "marker": {
          "color": "#636efa",
          "symbol": "circle"
         },
         "mode": "markers",
         "name": "Purchase",
         "orientation": "v",
         "showlegend": true,
         "type": "scatter",
         "x": [
          "2020-03-13",
          "2020-03-20"
         ],
         "xaxis": "x",
         "y": [
          7.7445,
          5.806
         ],
         "yaxis": "y"
        },
        {
         "hovertemplate": "transactionType=Sale (Full)<br>date=%{x}<br>historical Price M=%{y}<extra></extra>",
         "legendgroup": "Sale (Full)",
         "marker": {
          "color": "#00cc96",
          "symbol": "circle"
         },
         "mode": "markers",
         "name": "Sale (Full)",
         "orientation": "v",
         "showlegend": true,
         "type": "scatter",
         "x": [
          "2020-04-17"
         ],
         "xaxis": "x",
         "y": [
          5.7095
         ],
         "yaxis": "y"
        },
        {
         "line": {
          "color": "grey"
         },
         "mode": "lines",
         "name": "M Historical Price",
         "type": "scatter",
         "x": [
          "2020-03-13",
          "2020-03-20",
          "2020-03-27",
          "2020-04-03",
          "2020-04-09",
          "2020-04-17",
          "2020-04-24",
          "2020-05-01",
          "2020-05-08",
          "2020-05-15",
          "2020-05-22",
          "2020-05-29",
          "2020-06-05",
          "2020-06-12",
          "2020-06-19",
          "2020-06-26",
          "2020-07-02",
          "2020-07-10",
          "2020-07-17",
          "2020-07-24",
          "2020-07-31",
          "2020-08-07",
          "2020-08-14",
          "2020-08-21",
          "2020-08-28",
          "2020-09-04",
          "2020-09-11",
          "2020-09-18",
          "2020-09-25",
          "2020-10-02",
          "2020-10-09",
          "2020-10-16",
          "2020-10-23",
          "2020-10-30",
          "2020-11-06",
          "2020-11-13",
          "2020-11-20",
          "2020-11-27",
          "2020-12-04",
          "2020-12-11",
          "2020-12-18",
          "2020-12-24",
          "2020-12-31",
          "2021-01-08",
          "2021-01-15",
          "2021-01-22",
          "2021-01-29",
          "2021-02-05",
          "2021-02-12",
          "2021-02-19",
          "2021-02-26",
          "2021-03-05"
         ],
         "y": [
          7.7445,
          5.806,
          5.3334,
          4.639,
          6.4232,
          5.7095,
          4.8415,
          5.1694,
          5.1791,
          5.1212,
          5.0248,
          6.1339,
          8.4582,
          7.0405,
          6.6354,
          5.806,
          6.5583,
          6.5293,
          6.4136,
          6.2207,
          5.8446,
          6.3847,
          6.9344,
          6.0375,
          6.7029,
          7.378,
          6.7994,
          6.5197,
          5.8156,
          5.7963,
          6.0085,
          5.941,
          6.973,
          5.9892,
          6.3364,
          7.0983,
          8.7283,
          10.4643,
          11.3033,
          10.6861,
          10.0592,
          10.3678,
          10.8501,
          11.8434,
          12.5475,
          12.4221,
          14.5053,
          14.5342,
          14.351,
          14.4378,
          14.6693,
          14.5825
         ]
        }
       ],
       "layout": {
        "height": 500,
        "legend": {
         "title": {
          "text": "transactionType"
         },
         "tracegroupgap": 0
        },
        "template": {
         "data": {
          "bar": [
           {
            "error_x": {
             "color": "#2a3f5f"
            },
            "error_y": {
             "color": "#2a3f5f"
            },
            "marker": {
             "line": {
              "color": "#E5ECF6",
              "width": 0.5
             },
             "pattern": {
              "fillmode": "overlay",
              "size": 10,
              "solidity": 0.2
             }
            },
            "type": "bar"
           }
          ],
          "barpolar": [
           {
            "marker": {
             "line": {
              "color": "#E5ECF6",
              "width": 0.5
             },
             "pattern": {
              "fillmode": "overlay",
              "size": 10,
              "solidity": 0.2
             }
            },
            "type": "barpolar"
           }
          ],
          "carpet": [
           {
            "aaxis": {
             "endlinecolor": "#2a3f5f",
             "gridcolor": "white",
             "linecolor": "white",
             "minorgridcolor": "white",
             "startlinecolor": "#2a3f5f"
            },
            "baxis": {
             "endlinecolor": "#2a3f5f",
             "gridcolor": "white",
             "linecolor": "white",
             "minorgridcolor": "white",
             "startlinecolor": "#2a3f5f"
            },
            "type": "carpet"
           }
          ],
          "choropleth": [
           {
            "colorbar": {
             "outlinewidth": 0,
             "ticks": ""
            },
            "type": "choropleth"
           }
          ],
          "contour": [
           {
            "colorbar": {
             "outlinewidth": 0,
             "ticks": ""
            },
            "colorscale": [
             [
              0,
              "#0d0887"
             ],
             [
              0.1111111111111111,
              "#46039f"
             ],
             [
              0.2222222222222222,
              "#7201a8"
             ],
             [
              0.3333333333333333,
              "#9c179e"
             ],
             [
              0.4444444444444444,
              "#bd3786"
             ],
             [
              0.5555555555555556,
              "#d8576b"
             ],
             [
              0.6666666666666666,
              "#ed7953"
             ],
             [
              0.7777777777777778,
              "#fb9f3a"
             ],
             [
              0.8888888888888888,
              "#fdca26"
             ],
             [
              1,
              "#f0f921"
             ]
            ],
            "type": "contour"
           }
          ],
          "contourcarpet": [
           {
            "colorbar": {
             "outlinewidth": 0,
             "ticks": ""
            },
            "type": "contourcarpet"
           }
          ],
          "heatmap": [
           {
            "colorbar": {
             "outlinewidth": 0,
             "ticks": ""
            },
            "colorscale": [
             [
              0,
              "#0d0887"
             ],
             [
              0.1111111111111111,
              "#46039f"
             ],
             [
              0.2222222222222222,
              "#7201a8"
             ],
             [
              0.3333333333333333,
              "#9c179e"
             ],
             [
              0.4444444444444444,
              "#bd3786"
             ],
             [
              0.5555555555555556,
              "#d8576b"
             ],
             [
              0.6666666666666666,
              "#ed7953"
             ],
             [
              0.7777777777777778,
              "#fb9f3a"
             ],
             [
              0.8888888888888888,
              "#fdca26"
             ],
             [
              1,
              "#f0f921"
             ]
            ],
            "type": "heatmap"
           }
          ],
          "heatmapgl": [
           {
            "colorbar": {
             "outlinewidth": 0,
             "ticks": ""
            },
            "colorscale": [
             [
              0,
              "#0d0887"
             ],
             [
              0.1111111111111111,
              "#46039f"
             ],
             [
              0.2222222222222222,
              "#7201a8"
             ],
             [
              0.3333333333333333,
              "#9c179e"
             ],
             [
              0.4444444444444444,
              "#bd3786"
             ],
             [
              0.5555555555555556,
              "#d8576b"
             ],
             [
              0.6666666666666666,
              "#ed7953"
             ],
             [
              0.7777777777777778,
              "#fb9f3a"
             ],
             [
              0.8888888888888888,
              "#fdca26"
             ],
             [
              1,
              "#f0f921"
             ]
            ],
            "type": "heatmapgl"
           }
          ],
          "histogram": [
           {
            "marker": {
             "pattern": {
              "fillmode": "overlay",
              "size": 10,
              "solidity": 0.2
             }
            },
            "type": "histogram"
           }
          ],
          "histogram2d": [
           {
            "colorbar": {
             "outlinewidth": 0,
             "ticks": ""
            },
            "colorscale": [
             [
              0,
              "#0d0887"
             ],
             [
              0.1111111111111111,
              "#46039f"
             ],
             [
              0.2222222222222222,
              "#7201a8"
             ],
             [
              0.3333333333333333,
              "#9c179e"
             ],
             [
              0.4444444444444444,
              "#bd3786"
             ],
             [
              0.5555555555555556,
              "#d8576b"
             ],
             [
              0.6666666666666666,
              "#ed7953"
             ],
             [
              0.7777777777777778,
              "#fb9f3a"
             ],
             [
              0.8888888888888888,
              "#fdca26"
             ],
             [
              1,
              "#f0f921"
             ]
            ],
            "type": "histogram2d"
           }
          ],
          "histogram2dcontour": [
           {
            "colorbar": {
             "outlinewidth": 0,
             "ticks": ""
            },
            "colorscale": [
             [
              0,
              "#0d0887"
             ],
             [
              0.1111111111111111,
              "#46039f"
             ],
             [
              0.2222222222222222,
              "#7201a8"
             ],
             [
              0.3333333333333333,
              "#9c179e"
             ],
             [
              0.4444444444444444,
              "#bd3786"
             ],
             [
              0.5555555555555556,
              "#d8576b"
             ],
             [
              0.6666666666666666,
              "#ed7953"
             ],
             [
              0.7777777777777778,
              "#fb9f3a"
             ],
             [
              0.8888888888888888,
              "#fdca26"
             ],
             [
              1,
              "#f0f921"
             ]
            ],
            "type": "histogram2dcontour"
           }
          ],
          "mesh3d": [
           {
            "colorbar": {
             "outlinewidth": 0,
             "ticks": ""
            },
            "type": "mesh3d"
           }
          ],
          "parcoords": [
           {
            "line": {
             "colorbar": {
              "outlinewidth": 0,
              "ticks": ""
             }
            },
            "type": "parcoords"
           }
          ],
          "pie": [
           {
            "automargin": true,
            "type": "pie"
           }
          ],
          "scatter": [
           {
            "fillpattern": {
             "fillmode": "overlay",
             "size": 10,
             "solidity": 0.2
            },
            "type": "scatter"
           }
          ],
          "scatter3d": [
           {
            "line": {
             "colorbar": {
              "outlinewidth": 0,
              "ticks": ""
             }
            },
            "marker": {
             "colorbar": {
              "outlinewidth": 0,
              "ticks": ""
             }
            },
            "type": "scatter3d"
           }
          ],
          "scattercarpet": [
           {
            "marker": {
             "colorbar": {
              "outlinewidth": 0,
              "ticks": ""
             }
            },
            "type": "scattercarpet"
           }
          ],
          "scattergeo": [
           {
            "marker": {
             "colorbar": {
              "outlinewidth": 0,
              "ticks": ""
             }
            },
            "type": "scattergeo"
           }
          ],
          "scattergl": [
           {
            "marker": {
             "colorbar": {
              "outlinewidth": 0,
              "ticks": ""
             }
            },
            "type": "scattergl"
           }
          ],
          "scattermapbox": [
           {
            "marker": {
             "colorbar": {
              "outlinewidth": 0,
              "ticks": ""
             }
            },
            "type": "scattermapbox"
           }
          ],
          "scatterpolar": [
           {
            "marker": {
             "colorbar": {
              "outlinewidth": 0,
              "ticks": ""
             }
            },
            "type": "scatterpolar"
           }
          ],
          "scatterpolargl": [
           {
            "marker": {
             "colorbar": {
              "outlinewidth": 0,
              "ticks": ""
             }
            },
            "type": "scatterpolargl"
           }
          ],
          "scatterternary": [
           {
            "marker": {
             "colorbar": {
              "outlinewidth": 0,
              "ticks": ""
             }
            },
            "type": "scatterternary"
           }
          ],
          "surface": [
           {
            "colorbar": {
             "outlinewidth": 0,
             "ticks": ""
            },
            "colorscale": [
             [
              0,
              "#0d0887"
             ],
             [
              0.1111111111111111,
              "#46039f"
             ],
             [
              0.2222222222222222,
              "#7201a8"
             ],
             [
              0.3333333333333333,
              "#9c179e"
             ],
             [
              0.4444444444444444,
              "#bd3786"
             ],
             [
              0.5555555555555556,
              "#d8576b"
             ],
             [
              0.6666666666666666,
              "#ed7953"
             ],
             [
              0.7777777777777778,
              "#fb9f3a"
             ],
             [
              0.8888888888888888,
              "#fdca26"
             ],
             [
              1,
              "#f0f921"
             ]
            ],
            "type": "surface"
           }
          ],
          "table": [
           {
            "cells": {
             "fill": {
              "color": "#EBF0F8"
             },
             "line": {
              "color": "white"
             }
            },
            "header": {
             "fill": {
              "color": "#C8D4E3"
             },
             "line": {
              "color": "white"
             }
            },
            "type": "table"
           }
          ]
         },
         "layout": {
          "annotationdefaults": {
           "arrowcolor": "#2a3f5f",
           "arrowhead": 0,
           "arrowwidth": 1
          },
          "autotypenumbers": "strict",
          "coloraxis": {
           "colorbar": {
            "outlinewidth": 0,
            "ticks": ""
           }
          },
          "colorscale": {
           "diverging": [
            [
             0,
             "#8e0152"
            ],
            [
             0.1,
             "#c51b7d"
            ],
            [
             0.2,
             "#de77ae"
            ],
            [
             0.3,
             "#f1b6da"
            ],
            [
             0.4,
             "#fde0ef"
            ],
            [
             0.5,
             "#f7f7f7"
            ],
            [
             0.6,
             "#e6f5d0"
            ],
            [
             0.7,
             "#b8e186"
            ],
            [
             0.8,
             "#7fbc41"
            ],
            [
             0.9,
             "#4d9221"
            ],
            [
             1,
             "#276419"
            ]
           ],
           "sequential": [
            [
             0,
             "#0d0887"
            ],
            [
             0.1111111111111111,
             "#46039f"
            ],
            [
             0.2222222222222222,
             "#7201a8"
            ],
            [
             0.3333333333333333,
             "#9c179e"
            ],
            [
             0.4444444444444444,
             "#bd3786"
            ],
            [
             0.5555555555555556,
             "#d8576b"
            ],
            [
             0.6666666666666666,
             "#ed7953"
            ],
            [
             0.7777777777777778,
             "#fb9f3a"
            ],
            [
             0.8888888888888888,
             "#fdca26"
            ],
            [
             1,
             "#f0f921"
            ]
           ],
           "sequentialminus": [
            [
             0,
             "#0d0887"
            ],
            [
             0.1111111111111111,
             "#46039f"
            ],
            [
             0.2222222222222222,
             "#7201a8"
            ],
            [
             0.3333333333333333,
             "#9c179e"
            ],
            [
             0.4444444444444444,
             "#bd3786"
            ],
            [
             0.5555555555555556,
             "#d8576b"
            ],
            [
             0.6666666666666666,
             "#ed7953"
            ],
            [
             0.7777777777777778,
             "#fb9f3a"
            ],
            [
             0.8888888888888888,
             "#fdca26"
            ],
            [
             1,
             "#f0f921"
            ]
           ]
          },
          "colorway": [
           "#636efa",
           "#EF553B",
           "#00cc96",
           "#ab63fa",
           "#FFA15A",
           "#19d3f3",
           "#FF6692",
           "#B6E880",
           "#FF97FF",
           "#FECB52"
          ],
          "font": {
           "color": "#2a3f5f"
          },
          "geo": {
           "bgcolor": "white",
           "lakecolor": "white",
           "landcolor": "#E5ECF6",
           "showlakes": true,
           "showland": true,
           "subunitcolor": "white"
          },
          "hoverlabel": {
           "align": "left"
          },
          "hovermode": "closest",
          "mapbox": {
           "style": "light"
          },
          "paper_bgcolor": "white",
          "plot_bgcolor": "#E5ECF6",
          "polar": {
           "angularaxis": {
            "gridcolor": "white",
            "linecolor": "white",
            "ticks": ""
           },
           "bgcolor": "#E5ECF6",
           "radialaxis": {
            "gridcolor": "white",
            "linecolor": "white",
            "ticks": ""
           }
          },
          "scene": {
           "xaxis": {
            "backgroundcolor": "#E5ECF6",
            "gridcolor": "white",
            "gridwidth": 2,
            "linecolor": "white",
            "showbackground": true,
            "ticks": "",
            "zerolinecolor": "white"
           },
           "yaxis": {
            "backgroundcolor": "#E5ECF6",
            "gridcolor": "white",
            "gridwidth": 2,
            "linecolor": "white",
            "showbackground": true,
            "ticks": "",
            "zerolinecolor": "white"
           },
           "zaxis": {
            "backgroundcolor": "#E5ECF6",
            "gridcolor": "white",
            "gridwidth": 2,
            "linecolor": "white",
            "showbackground": true,
            "ticks": "",
            "zerolinecolor": "white"
           }
          },
          "shapedefaults": {
           "line": {
            "color": "#2a3f5f"
           }
          },
          "ternary": {
           "aaxis": {
            "gridcolor": "white",
            "linecolor": "white",
            "ticks": ""
           },
           "baxis": {
            "gridcolor": "white",
            "linecolor": "white",
            "ticks": ""
           },
           "bgcolor": "#E5ECF6",
           "caxis": {
            "gridcolor": "white",
            "linecolor": "white",
            "ticks": ""
           }
          },
          "title": {
           "x": 0.05
          },
          "xaxis": {
           "automargin": true,
           "gridcolor": "white",
           "linecolor": "white",
           "ticks": "",
           "title": {
            "standoff": 15
           },
           "zerolinecolor": "white",
           "zerolinewidth": 2
          },
          "yaxis": {
           "automargin": true,
           "gridcolor": "white",
           "linecolor": "white",
           "ticks": "",
           "title": {
            "standoff": 15
           },
           "zerolinecolor": "white",
           "zerolinewidth": 2
          }
         }
        },
        "title": {
         "text": "David A Perdue , Jr Historical Price and Transactions M"
        },
        "width": 800,
        "xaxis": {
         "anchor": "y",
         "domain": [
          0,
          1
         ],
         "title": {
          "text": "date"
         }
        },
        "yaxis": {
         "anchor": "x",
         "domain": [
          0,
          1
         ],
         "title": {
          "text": "historical Price M"
         }
        }
       }
      }
     },
     "metadata": {},
     "output_type": "display_data"
    }
   ],
   "source": [
    "import plotly.graph_objects as go \n",
    "\n",
    "def graphTransactions_fromHistorical(senatorIdInput, frame, tickerInput):\n",
    "\n",
    "\n",
    "    senatorName = returnSenatorNameFromId(senatorIdInput)\n",
    "\n",
    "\n",
    "    fig = px.scatter(frame, x=\"date\", y=\"transactionValue\", color=\"transactionType\",\n",
    "    labels=dict(transactionValue=\"historical Price \"+ tickerInput),\n",
    "    height= graphDims['height'] , width= graphDims['width'], \n",
    "    title = senatorName+ \" Historical Price and Transactions \"+ tickerInput)\n",
    "\n",
    "    fig.add_trace(go.Scatter(x=frame['date'], y=frame[tickerInput], mode=\"lines\", line=go.scatter.Line(color=\"grey\"), \n",
    "    name=tickerInput+' Historical Price'))\n",
    "\n",
    "\n",
    "\n",
    "    fig.show()\n",
    "\n",
    "graphTransactions_fromHistorical(136, temp, \"M\")\n",
    "\n"
   ]
  },
  {
   "cell_type": "markdown",
   "metadata": {},
   "source": [
    "this wasn't the best series of trades. Next let's combine the preceeding couple of functions to examine trade's success by only inputting the transaction date, ticker, and senator. "
   ]
  },
  {
   "cell_type": "code",
   "execution_count": 32,
   "metadata": {},
   "outputs": [],
   "source": [
    "# putting it all together \n",
    "\n",
    "def graphTransactions_fromSource(senatorIdInput, dateInput,tickerInput):\n",
    "    historicalPricesFrame = historicalPricesWithTransaction(senatorIdInput, dateInput,tickerInput )\n",
    "\n",
    "    graphTransactions_fromHistorical(senatorIdInput, historicalPricesFrame, tickerInput)\n",
    "\n"
   ]
  },
  {
   "cell_type": "code",
   "execution_count": 90,
   "metadata": {},
   "outputs": [
    {
     "data": {
      "text/html": [
       "<div>\n",
       "<style scoped>\n",
       "    .dataframe tbody tr th:only-of-type {\n",
       "        vertical-align: middle;\n",
       "    }\n",
       "\n",
       "    .dataframe tbody tr th {\n",
       "        vertical-align: top;\n",
       "    }\n",
       "\n",
       "    .dataframe thead th {\n",
       "        text-align: right;\n",
       "    }\n",
       "</style>\n",
       "<table border=\"1\" class=\"dataframe\">\n",
       "  <thead>\n",
       "    <tr style=\"text-align: right;\">\n",
       "      <th></th>\n",
       "      <th>transaction_date</th>\n",
       "      <th>ticker</th>\n",
       "      <th>asset_description</th>\n",
       "      <th>senator</th>\n",
       "      <th>senatorId</th>\n",
       "    </tr>\n",
       "  </thead>\n",
       "  <tbody>\n",
       "    <tr>\n",
       "      <th>7244</th>\n",
       "      <td>2016-03-31</td>\n",
       "      <td>WMT</td>\n",
       "      <td>Wal-Mart Stores Inc.</td>\n",
       "      <td>William Cassidy</td>\n",
       "      <td>134</td>\n",
       "    </tr>\n",
       "  </tbody>\n",
       "</table>\n",
       "</div>"
      ],
      "text/plain": [
       "     transaction_date ticker     asset_description          senator  senatorId\n",
       "7244       2016-03-31    WMT  Wal-Mart Stores Inc.  William Cassidy        134"
      ]
     },
     "execution_count": 90,
     "metadata": {},
     "output_type": "execute_result"
    }
   ],
   "source": [
    "\n",
    "purchases = transactions[(transactions['type']=='Purchase') & (transactions['asset_type']=='Stock') ]\n",
    "randomPurchase = purchases.sample(n=1, random_state=227)[['transaction_date','ticker','asset_description','senator','senatorId']]\n",
    "randomPurchase"
   ]
  },
  {
   "cell_type": "code",
   "execution_count": 91,
   "metadata": {},
   "outputs": [
    {
     "data": {
      "application/vnd.plotly.v1+json": {
       "config": {
        "plotlyServerURL": "https://plot.ly"
       },
       "data": [
        {
         "hovertemplate": "transactionType=Purchase<br>date=%{x}<br>historical Price WMT=%{y}<extra></extra>",
         "legendgroup": "Purchase",
         "marker": {
          "color": "#636efa",
          "symbol": "circle"
         },
         "mode": "markers",
         "name": "Purchase",
         "orientation": "v",
         "showlegend": true,
         "type": "scatter",
         "x": [
          "2016-04-01"
         ],
         "xaxis": "x",
         "y": [
          60.3729
         ],
         "yaxis": "y"
        },
        {
         "hovertemplate": "transactionType=Sale (Partial)<br>date=%{x}<br>historical Price WMT=%{y}<extra></extra>",
         "legendgroup": "Sale (Partial)",
         "marker": {
          "color": "#00cc96",
          "symbol": "circle"
         },
         "mode": "markers",
         "name": "Sale (Partial)",
         "orientation": "v",
         "showlegend": true,
         "type": "scatter",
         "x": [
          "2016-07-15"
         ],
         "xaxis": "x",
         "y": [
          64.8879
         ],
         "yaxis": "y"
        },
        {
         "line": {
          "color": "grey"
         },
         "mode": "lines",
         "name": "WMT Historical Price",
         "type": "scatter",
         "x": [
          "2016-04-01",
          "2016-04-08",
          "2016-04-15",
          "2016-04-22",
          "2016-04-29",
          "2016-05-06",
          "2016-05-13",
          "2016-05-20",
          "2016-05-27",
          "2016-06-03",
          "2016-06-10",
          "2016-06-17",
          "2016-06-24",
          "2016-07-01",
          "2016-07-08",
          "2016-07-15",
          "2016-07-22",
          "2016-07-29",
          "2016-08-05",
          "2016-08-12",
          "2016-08-19",
          "2016-08-26",
          "2016-09-02",
          "2016-09-09",
          "2016-09-16",
          "2016-09-23",
          "2016-09-30",
          "2016-10-07",
          "2016-10-14",
          "2016-10-21",
          "2016-10-28",
          "2016-11-04",
          "2016-11-11",
          "2016-11-18",
          "2016-11-25",
          "2016-12-02",
          "2016-12-09",
          "2016-12-16",
          "2016-12-23",
          "2016-12-30",
          "2017-01-06",
          "2017-01-13",
          "2017-01-20",
          "2017-01-27",
          "2017-02-03",
          "2017-02-10",
          "2017-02-17",
          "2017-02-24",
          "2017-03-03",
          "2017-03-10",
          "2017-03-17",
          "2017-03-24"
         ],
         "y": [
          60.3729,
          59.4987,
          60.3729,
          60.0757,
          58.4584,
          59.6648,
          57.1986,
          61.5321,
          62.316,
          62.4217,
          62.6595,
          62.4922,
          63.3818,
          64.1305,
          65.0377,
          64.8879,
          64.7822,
          64.2714,
          64.9672,
          65.5217,
          64.5641,
          63.0832,
          64.2892,
          62.3383,
          64.6173,
          64.1562,
          63.9522,
          60.9195,
          60.6978,
          60.6003,
          62.0634,
          61.3274,
          63.163,
          60.7776,
          63.163,
          62.8526,
          62.5833,
          63.3871,
          62.1011,
          61.726,
          60.958,
          59.9489,
          59.9936,
          58.6362,
          59.3863,
          60.7437,
          61.9493,
          64.6462,
          62.5387,
          63.0586,
          62.8697,
          62.6178
         ]
        }
       ],
       "layout": {
        "height": 500,
        "legend": {
         "title": {
          "text": "transactionType"
         },
         "tracegroupgap": 0
        },
        "template": {
         "data": {
          "bar": [
           {
            "error_x": {
             "color": "#2a3f5f"
            },
            "error_y": {
             "color": "#2a3f5f"
            },
            "marker": {
             "line": {
              "color": "#E5ECF6",
              "width": 0.5
             },
             "pattern": {
              "fillmode": "overlay",
              "size": 10,
              "solidity": 0.2
             }
            },
            "type": "bar"
           }
          ],
          "barpolar": [
           {
            "marker": {
             "line": {
              "color": "#E5ECF6",
              "width": 0.5
             },
             "pattern": {
              "fillmode": "overlay",
              "size": 10,
              "solidity": 0.2
             }
            },
            "type": "barpolar"
           }
          ],
          "carpet": [
           {
            "aaxis": {
             "endlinecolor": "#2a3f5f",
             "gridcolor": "white",
             "linecolor": "white",
             "minorgridcolor": "white",
             "startlinecolor": "#2a3f5f"
            },
            "baxis": {
             "endlinecolor": "#2a3f5f",
             "gridcolor": "white",
             "linecolor": "white",
             "minorgridcolor": "white",
             "startlinecolor": "#2a3f5f"
            },
            "type": "carpet"
           }
          ],
          "choropleth": [
           {
            "colorbar": {
             "outlinewidth": 0,
             "ticks": ""
            },
            "type": "choropleth"
           }
          ],
          "contour": [
           {
            "colorbar": {
             "outlinewidth": 0,
             "ticks": ""
            },
            "colorscale": [
             [
              0,
              "#0d0887"
             ],
             [
              0.1111111111111111,
              "#46039f"
             ],
             [
              0.2222222222222222,
              "#7201a8"
             ],
             [
              0.3333333333333333,
              "#9c179e"
             ],
             [
              0.4444444444444444,
              "#bd3786"
             ],
             [
              0.5555555555555556,
              "#d8576b"
             ],
             [
              0.6666666666666666,
              "#ed7953"
             ],
             [
              0.7777777777777778,
              "#fb9f3a"
             ],
             [
              0.8888888888888888,
              "#fdca26"
             ],
             [
              1,
              "#f0f921"
             ]
            ],
            "type": "contour"
           }
          ],
          "contourcarpet": [
           {
            "colorbar": {
             "outlinewidth": 0,
             "ticks": ""
            },
            "type": "contourcarpet"
           }
          ],
          "heatmap": [
           {
            "colorbar": {
             "outlinewidth": 0,
             "ticks": ""
            },
            "colorscale": [
             [
              0,
              "#0d0887"
             ],
             [
              0.1111111111111111,
              "#46039f"
             ],
             [
              0.2222222222222222,
              "#7201a8"
             ],
             [
              0.3333333333333333,
              "#9c179e"
             ],
             [
              0.4444444444444444,
              "#bd3786"
             ],
             [
              0.5555555555555556,
              "#d8576b"
             ],
             [
              0.6666666666666666,
              "#ed7953"
             ],
             [
              0.7777777777777778,
              "#fb9f3a"
             ],
             [
              0.8888888888888888,
              "#fdca26"
             ],
             [
              1,
              "#f0f921"
             ]
            ],
            "type": "heatmap"
           }
          ],
          "heatmapgl": [
           {
            "colorbar": {
             "outlinewidth": 0,
             "ticks": ""
            },
            "colorscale": [
             [
              0,
              "#0d0887"
             ],
             [
              0.1111111111111111,
              "#46039f"
             ],
             [
              0.2222222222222222,
              "#7201a8"
             ],
             [
              0.3333333333333333,
              "#9c179e"
             ],
             [
              0.4444444444444444,
              "#bd3786"
             ],
             [
              0.5555555555555556,
              "#d8576b"
             ],
             [
              0.6666666666666666,
              "#ed7953"
             ],
             [
              0.7777777777777778,
              "#fb9f3a"
             ],
             [
              0.8888888888888888,
              "#fdca26"
             ],
             [
              1,
              "#f0f921"
             ]
            ],
            "type": "heatmapgl"
           }
          ],
          "histogram": [
           {
            "marker": {
             "pattern": {
              "fillmode": "overlay",
              "size": 10,
              "solidity": 0.2
             }
            },
            "type": "histogram"
           }
          ],
          "histogram2d": [
           {
            "colorbar": {
             "outlinewidth": 0,
             "ticks": ""
            },
            "colorscale": [
             [
              0,
              "#0d0887"
             ],
             [
              0.1111111111111111,
              "#46039f"
             ],
             [
              0.2222222222222222,
              "#7201a8"
             ],
             [
              0.3333333333333333,
              "#9c179e"
             ],
             [
              0.4444444444444444,
              "#bd3786"
             ],
             [
              0.5555555555555556,
              "#d8576b"
             ],
             [
              0.6666666666666666,
              "#ed7953"
             ],
             [
              0.7777777777777778,
              "#fb9f3a"
             ],
             [
              0.8888888888888888,
              "#fdca26"
             ],
             [
              1,
              "#f0f921"
             ]
            ],
            "type": "histogram2d"
           }
          ],
          "histogram2dcontour": [
           {
            "colorbar": {
             "outlinewidth": 0,
             "ticks": ""
            },
            "colorscale": [
             [
              0,
              "#0d0887"
             ],
             [
              0.1111111111111111,
              "#46039f"
             ],
             [
              0.2222222222222222,
              "#7201a8"
             ],
             [
              0.3333333333333333,
              "#9c179e"
             ],
             [
              0.4444444444444444,
              "#bd3786"
             ],
             [
              0.5555555555555556,
              "#d8576b"
             ],
             [
              0.6666666666666666,
              "#ed7953"
             ],
             [
              0.7777777777777778,
              "#fb9f3a"
             ],
             [
              0.8888888888888888,
              "#fdca26"
             ],
             [
              1,
              "#f0f921"
             ]
            ],
            "type": "histogram2dcontour"
           }
          ],
          "mesh3d": [
           {
            "colorbar": {
             "outlinewidth": 0,
             "ticks": ""
            },
            "type": "mesh3d"
           }
          ],
          "parcoords": [
           {
            "line": {
             "colorbar": {
              "outlinewidth": 0,
              "ticks": ""
             }
            },
            "type": "parcoords"
           }
          ],
          "pie": [
           {
            "automargin": true,
            "type": "pie"
           }
          ],
          "scatter": [
           {
            "fillpattern": {
             "fillmode": "overlay",
             "size": 10,
             "solidity": 0.2
            },
            "type": "scatter"
           }
          ],
          "scatter3d": [
           {
            "line": {
             "colorbar": {
              "outlinewidth": 0,
              "ticks": ""
             }
            },
            "marker": {
             "colorbar": {
              "outlinewidth": 0,
              "ticks": ""
             }
            },
            "type": "scatter3d"
           }
          ],
          "scattercarpet": [
           {
            "marker": {
             "colorbar": {
              "outlinewidth": 0,
              "ticks": ""
             }
            },
            "type": "scattercarpet"
           }
          ],
          "scattergeo": [
           {
            "marker": {
             "colorbar": {
              "outlinewidth": 0,
              "ticks": ""
             }
            },
            "type": "scattergeo"
           }
          ],
          "scattergl": [
           {
            "marker": {
             "colorbar": {
              "outlinewidth": 0,
              "ticks": ""
             }
            },
            "type": "scattergl"
           }
          ],
          "scattermapbox": [
           {
            "marker": {
             "colorbar": {
              "outlinewidth": 0,
              "ticks": ""
             }
            },
            "type": "scattermapbox"
           }
          ],
          "scatterpolar": [
           {
            "marker": {
             "colorbar": {
              "outlinewidth": 0,
              "ticks": ""
             }
            },
            "type": "scatterpolar"
           }
          ],
          "scatterpolargl": [
           {
            "marker": {
             "colorbar": {
              "outlinewidth": 0,
              "ticks": ""
             }
            },
            "type": "scatterpolargl"
           }
          ],
          "scatterternary": [
           {
            "marker": {
             "colorbar": {
              "outlinewidth": 0,
              "ticks": ""
             }
            },
            "type": "scatterternary"
           }
          ],
          "surface": [
           {
            "colorbar": {
             "outlinewidth": 0,
             "ticks": ""
            },
            "colorscale": [
             [
              0,
              "#0d0887"
             ],
             [
              0.1111111111111111,
              "#46039f"
             ],
             [
              0.2222222222222222,
              "#7201a8"
             ],
             [
              0.3333333333333333,
              "#9c179e"
             ],
             [
              0.4444444444444444,
              "#bd3786"
             ],
             [
              0.5555555555555556,
              "#d8576b"
             ],
             [
              0.6666666666666666,
              "#ed7953"
             ],
             [
              0.7777777777777778,
              "#fb9f3a"
             ],
             [
              0.8888888888888888,
              "#fdca26"
             ],
             [
              1,
              "#f0f921"
             ]
            ],
            "type": "surface"
           }
          ],
          "table": [
           {
            "cells": {
             "fill": {
              "color": "#EBF0F8"
             },
             "line": {
              "color": "white"
             }
            },
            "header": {
             "fill": {
              "color": "#C8D4E3"
             },
             "line": {
              "color": "white"
             }
            },
            "type": "table"
           }
          ]
         },
         "layout": {
          "annotationdefaults": {
           "arrowcolor": "#2a3f5f",
           "arrowhead": 0,
           "arrowwidth": 1
          },
          "autotypenumbers": "strict",
          "coloraxis": {
           "colorbar": {
            "outlinewidth": 0,
            "ticks": ""
           }
          },
          "colorscale": {
           "diverging": [
            [
             0,
             "#8e0152"
            ],
            [
             0.1,
             "#c51b7d"
            ],
            [
             0.2,
             "#de77ae"
            ],
            [
             0.3,
             "#f1b6da"
            ],
            [
             0.4,
             "#fde0ef"
            ],
            [
             0.5,
             "#f7f7f7"
            ],
            [
             0.6,
             "#e6f5d0"
            ],
            [
             0.7,
             "#b8e186"
            ],
            [
             0.8,
             "#7fbc41"
            ],
            [
             0.9,
             "#4d9221"
            ],
            [
             1,
             "#276419"
            ]
           ],
           "sequential": [
            [
             0,
             "#0d0887"
            ],
            [
             0.1111111111111111,
             "#46039f"
            ],
            [
             0.2222222222222222,
             "#7201a8"
            ],
            [
             0.3333333333333333,
             "#9c179e"
            ],
            [
             0.4444444444444444,
             "#bd3786"
            ],
            [
             0.5555555555555556,
             "#d8576b"
            ],
            [
             0.6666666666666666,
             "#ed7953"
            ],
            [
             0.7777777777777778,
             "#fb9f3a"
            ],
            [
             0.8888888888888888,
             "#fdca26"
            ],
            [
             1,
             "#f0f921"
            ]
           ],
           "sequentialminus": [
            [
             0,
             "#0d0887"
            ],
            [
             0.1111111111111111,
             "#46039f"
            ],
            [
             0.2222222222222222,
             "#7201a8"
            ],
            [
             0.3333333333333333,
             "#9c179e"
            ],
            [
             0.4444444444444444,
             "#bd3786"
            ],
            [
             0.5555555555555556,
             "#d8576b"
            ],
            [
             0.6666666666666666,
             "#ed7953"
            ],
            [
             0.7777777777777778,
             "#fb9f3a"
            ],
            [
             0.8888888888888888,
             "#fdca26"
            ],
            [
             1,
             "#f0f921"
            ]
           ]
          },
          "colorway": [
           "#636efa",
           "#EF553B",
           "#00cc96",
           "#ab63fa",
           "#FFA15A",
           "#19d3f3",
           "#FF6692",
           "#B6E880",
           "#FF97FF",
           "#FECB52"
          ],
          "font": {
           "color": "#2a3f5f"
          },
          "geo": {
           "bgcolor": "white",
           "lakecolor": "white",
           "landcolor": "#E5ECF6",
           "showlakes": true,
           "showland": true,
           "subunitcolor": "white"
          },
          "hoverlabel": {
           "align": "left"
          },
          "hovermode": "closest",
          "mapbox": {
           "style": "light"
          },
          "paper_bgcolor": "white",
          "plot_bgcolor": "#E5ECF6",
          "polar": {
           "angularaxis": {
            "gridcolor": "white",
            "linecolor": "white",
            "ticks": ""
           },
           "bgcolor": "#E5ECF6",
           "radialaxis": {
            "gridcolor": "white",
            "linecolor": "white",
            "ticks": ""
           }
          },
          "scene": {
           "xaxis": {
            "backgroundcolor": "#E5ECF6",
            "gridcolor": "white",
            "gridwidth": 2,
            "linecolor": "white",
            "showbackground": true,
            "ticks": "",
            "zerolinecolor": "white"
           },
           "yaxis": {
            "backgroundcolor": "#E5ECF6",
            "gridcolor": "white",
            "gridwidth": 2,
            "linecolor": "white",
            "showbackground": true,
            "ticks": "",
            "zerolinecolor": "white"
           },
           "zaxis": {
            "backgroundcolor": "#E5ECF6",
            "gridcolor": "white",
            "gridwidth": 2,
            "linecolor": "white",
            "showbackground": true,
            "ticks": "",
            "zerolinecolor": "white"
           }
          },
          "shapedefaults": {
           "line": {
            "color": "#2a3f5f"
           }
          },
          "ternary": {
           "aaxis": {
            "gridcolor": "white",
            "linecolor": "white",
            "ticks": ""
           },
           "baxis": {
            "gridcolor": "white",
            "linecolor": "white",
            "ticks": ""
           },
           "bgcolor": "#E5ECF6",
           "caxis": {
            "gridcolor": "white",
            "linecolor": "white",
            "ticks": ""
           }
          },
          "title": {
           "x": 0.05
          },
          "xaxis": {
           "automargin": true,
           "gridcolor": "white",
           "linecolor": "white",
           "ticks": "",
           "title": {
            "standoff": 15
           },
           "zerolinecolor": "white",
           "zerolinewidth": 2
          },
          "yaxis": {
           "automargin": true,
           "gridcolor": "white",
           "linecolor": "white",
           "ticks": "",
           "title": {
            "standoff": 15
           },
           "zerolinecolor": "white",
           "zerolinewidth": 2
          }
         }
        },
        "title": {
         "text": "William Cassidy Historical Price and Transactions WMT"
        },
        "width": 800,
        "xaxis": {
         "anchor": "y",
         "domain": [
          0,
          1
         ],
         "title": {
          "text": "date"
         }
        },
        "yaxis": {
         "anchor": "x",
         "domain": [
          0,
          1
         ],
         "title": {
          "text": "historical Price WMT"
         }
        }
       }
      }
     },
     "metadata": {},
     "output_type": "display_data"
    }
   ],
   "source": [
    "# randomPurchase.ticker[0]\n",
    "randomticker = randomPurchase.ticker.values[0]\n",
    "randomDateFull = randomPurchase.transaction_date.values[0]\n",
    "randomDate = str(randomDateFull).split(\"T\")[0]\n",
    "randomSenator = randomPurchase.senatorId.values[0]\n",
    "\n",
    "graphTransactions_fromSource(randomSenator,  randomDate, randomticker)\n"
   ]
  },
  {
   "cell_type": "markdown",
   "metadata": {},
   "source": [
    "Looks like Kelly Loeffler's purchase had a pretty big pop after she bought it, but she sold and missed out on a lot of gains. \n",
    "Let's graph some more transactions at random"
   ]
  },
  {
   "cell_type": "code",
   "execution_count": 45,
   "metadata": {},
   "outputs": [
    {
     "name": "stdout",
     "output_type": "stream",
     "text": [
      "     transaction_date ticker asset_description              senator  senatorId\n",
      "3799       2019-02-05      T         AT&T Inc.  David A Perdue , Jr        136\n"
     ]
    },
    {
     "data": {
      "application/vnd.plotly.v1+json": {
       "config": {
        "plotlyServerURL": "https://plot.ly"
       },
       "data": [
        {
         "hovertemplate": "transactionType=Purchase<br>date=%{x}<br>historical Price T=%{y}<extra></extra>",
         "legendgroup": "Purchase",
         "marker": {
          "color": "#636efa",
          "symbol": "circle"
         },
         "mode": "markers",
         "name": "Purchase",
         "orientation": "v",
         "showlegend": true,
         "type": "scatter",
         "x": [
          "2019-02-08",
          "2019-07-26"
         ],
         "xaxis": "x",
         "y": [
          17.4176,
          20.7633
         ],
         "yaxis": "y"
        },
        {
         "hovertemplate": "transactionType=Sale (Partial)<br>date=%{x}<br>historical Price T=%{y}<extra></extra>",
         "legendgroup": "Sale (Partial)",
         "marker": {
          "color": "#00cc96",
          "symbol": "circle"
         },
         "mode": "markers",
         "name": "Sale (Partial)",
         "orientation": "v",
         "showlegend": true,
         "type": "scatter",
         "x": [
          "2019-08-23",
          "2019-08-30"
         ],
         "xaxis": "x",
         "y": [
          21.1707,
          21.4382
         ],
         "yaxis": "y"
        },
        {
         "line": {
          "color": "grey"
         },
         "mode": "lines",
         "name": "T Historical Price",
         "type": "scatter",
         "x": [
          "2019-02-08",
          "2019-02-15",
          "2019-02-22",
          "2019-03-01",
          "2019-03-08",
          "2019-03-15",
          "2019-03-22",
          "2019-03-29",
          "2019-04-05",
          "2019-04-12",
          "2019-04-18",
          "2019-04-26",
          "2019-05-03",
          "2019-05-10",
          "2019-05-17",
          "2019-05-24",
          "2019-05-31",
          "2019-06-07",
          "2019-06-14",
          "2019-06-21",
          "2019-06-28",
          "2019-07-05",
          "2019-07-12",
          "2019-07-19",
          "2019-07-26",
          "2019-08-02",
          "2019-08-09",
          "2019-08-16",
          "2019-08-23",
          "2019-08-30",
          "2019-09-06",
          "2019-09-13",
          "2019-09-20",
          "2019-09-27",
          "2019-10-04",
          "2019-10-11",
          "2019-10-18",
          "2019-10-25",
          "2019-11-01",
          "2019-11-08",
          "2019-11-15",
          "2019-11-22",
          "2019-11-29",
          "2019-12-06",
          "2019-12-13",
          "2019-12-20",
          "2019-12-27",
          "2020-01-03",
          "2020-01-10",
          "2020-01-17",
          "2020-01-24",
          "2020-01-31"
         ],
         "y": [
          17.4176,
          17.9599,
          18.3607,
          18.1662,
          17.6593,
          18.0778,
          18.3136,
          18.4845,
          19.068,
          19.2845,
          19.1827,
          18.3742,
          18.3861,
          18.3382,
          19.0449,
          19.3264,
          18.3143,
          19.4582,
          19.3743,
          19.4342,
          20.0691,
          20.5422,
          20.4593,
          19.9365,
          20.7633,
          20.7755,
          21.0005,
          21.2619,
          21.1707,
          21.4382,
          22.0401,
          23.0494,
          23.0494,
          22.7576,
          22.8062,
          23.1633,
          23.7119,
          22.7503,
          24.0077,
          24.2728,
          24.3467,
          23.2681,
          23.04,
          23.5455,
          23.5824,
          24.131,
          24.1865,
          24.0755,
          24.0921,
          23.9735,
          24.0484,
          23.4987
         ]
        }
       ],
       "layout": {
        "height": 500,
        "legend": {
         "title": {
          "text": "transactionType"
         },
         "tracegroupgap": 0
        },
        "template": {
         "data": {
          "bar": [
           {
            "error_x": {
             "color": "#2a3f5f"
            },
            "error_y": {
             "color": "#2a3f5f"
            },
            "marker": {
             "line": {
              "color": "#E5ECF6",
              "width": 0.5
             },
             "pattern": {
              "fillmode": "overlay",
              "size": 10,
              "solidity": 0.2
             }
            },
            "type": "bar"
           }
          ],
          "barpolar": [
           {
            "marker": {
             "line": {
              "color": "#E5ECF6",
              "width": 0.5
             },
             "pattern": {
              "fillmode": "overlay",
              "size": 10,
              "solidity": 0.2
             }
            },
            "type": "barpolar"
           }
          ],
          "carpet": [
           {
            "aaxis": {
             "endlinecolor": "#2a3f5f",
             "gridcolor": "white",
             "linecolor": "white",
             "minorgridcolor": "white",
             "startlinecolor": "#2a3f5f"
            },
            "baxis": {
             "endlinecolor": "#2a3f5f",
             "gridcolor": "white",
             "linecolor": "white",
             "minorgridcolor": "white",
             "startlinecolor": "#2a3f5f"
            },
            "type": "carpet"
           }
          ],
          "choropleth": [
           {
            "colorbar": {
             "outlinewidth": 0,
             "ticks": ""
            },
            "type": "choropleth"
           }
          ],
          "contour": [
           {
            "colorbar": {
             "outlinewidth": 0,
             "ticks": ""
            },
            "colorscale": [
             [
              0,
              "#0d0887"
             ],
             [
              0.1111111111111111,
              "#46039f"
             ],
             [
              0.2222222222222222,
              "#7201a8"
             ],
             [
              0.3333333333333333,
              "#9c179e"
             ],
             [
              0.4444444444444444,
              "#bd3786"
             ],
             [
              0.5555555555555556,
              "#d8576b"
             ],
             [
              0.6666666666666666,
              "#ed7953"
             ],
             [
              0.7777777777777778,
              "#fb9f3a"
             ],
             [
              0.8888888888888888,
              "#fdca26"
             ],
             [
              1,
              "#f0f921"
             ]
            ],
            "type": "contour"
           }
          ],
          "contourcarpet": [
           {
            "colorbar": {
             "outlinewidth": 0,
             "ticks": ""
            },
            "type": "contourcarpet"
           }
          ],
          "heatmap": [
           {
            "colorbar": {
             "outlinewidth": 0,
             "ticks": ""
            },
            "colorscale": [
             [
              0,
              "#0d0887"
             ],
             [
              0.1111111111111111,
              "#46039f"
             ],
             [
              0.2222222222222222,
              "#7201a8"
             ],
             [
              0.3333333333333333,
              "#9c179e"
             ],
             [
              0.4444444444444444,
              "#bd3786"
             ],
             [
              0.5555555555555556,
              "#d8576b"
             ],
             [
              0.6666666666666666,
              "#ed7953"
             ],
             [
              0.7777777777777778,
              "#fb9f3a"
             ],
             [
              0.8888888888888888,
              "#fdca26"
             ],
             [
              1,
              "#f0f921"
             ]
            ],
            "type": "heatmap"
           }
          ],
          "heatmapgl": [
           {
            "colorbar": {
             "outlinewidth": 0,
             "ticks": ""
            },
            "colorscale": [
             [
              0,
              "#0d0887"
             ],
             [
              0.1111111111111111,
              "#46039f"
             ],
             [
              0.2222222222222222,
              "#7201a8"
             ],
             [
              0.3333333333333333,
              "#9c179e"
             ],
             [
              0.4444444444444444,
              "#bd3786"
             ],
             [
              0.5555555555555556,
              "#d8576b"
             ],
             [
              0.6666666666666666,
              "#ed7953"
             ],
             [
              0.7777777777777778,
              "#fb9f3a"
             ],
             [
              0.8888888888888888,
              "#fdca26"
             ],
             [
              1,
              "#f0f921"
             ]
            ],
            "type": "heatmapgl"
           }
          ],
          "histogram": [
           {
            "marker": {
             "pattern": {
              "fillmode": "overlay",
              "size": 10,
              "solidity": 0.2
             }
            },
            "type": "histogram"
           }
          ],
          "histogram2d": [
           {
            "colorbar": {
             "outlinewidth": 0,
             "ticks": ""
            },
            "colorscale": [
             [
              0,
              "#0d0887"
             ],
             [
              0.1111111111111111,
              "#46039f"
             ],
             [
              0.2222222222222222,
              "#7201a8"
             ],
             [
              0.3333333333333333,
              "#9c179e"
             ],
             [
              0.4444444444444444,
              "#bd3786"
             ],
             [
              0.5555555555555556,
              "#d8576b"
             ],
             [
              0.6666666666666666,
              "#ed7953"
             ],
             [
              0.7777777777777778,
              "#fb9f3a"
             ],
             [
              0.8888888888888888,
              "#fdca26"
             ],
             [
              1,
              "#f0f921"
             ]
            ],
            "type": "histogram2d"
           }
          ],
          "histogram2dcontour": [
           {
            "colorbar": {
             "outlinewidth": 0,
             "ticks": ""
            },
            "colorscale": [
             [
              0,
              "#0d0887"
             ],
             [
              0.1111111111111111,
              "#46039f"
             ],
             [
              0.2222222222222222,
              "#7201a8"
             ],
             [
              0.3333333333333333,
              "#9c179e"
             ],
             [
              0.4444444444444444,
              "#bd3786"
             ],
             [
              0.5555555555555556,
              "#d8576b"
             ],
             [
              0.6666666666666666,
              "#ed7953"
             ],
             [
              0.7777777777777778,
              "#fb9f3a"
             ],
             [
              0.8888888888888888,
              "#fdca26"
             ],
             [
              1,
              "#f0f921"
             ]
            ],
            "type": "histogram2dcontour"
           }
          ],
          "mesh3d": [
           {
            "colorbar": {
             "outlinewidth": 0,
             "ticks": ""
            },
            "type": "mesh3d"
           }
          ],
          "parcoords": [
           {
            "line": {
             "colorbar": {
              "outlinewidth": 0,
              "ticks": ""
             }
            },
            "type": "parcoords"
           }
          ],
          "pie": [
           {
            "automargin": true,
            "type": "pie"
           }
          ],
          "scatter": [
           {
            "fillpattern": {
             "fillmode": "overlay",
             "size": 10,
             "solidity": 0.2
            },
            "type": "scatter"
           }
          ],
          "scatter3d": [
           {
            "line": {
             "colorbar": {
              "outlinewidth": 0,
              "ticks": ""
             }
            },
            "marker": {
             "colorbar": {
              "outlinewidth": 0,
              "ticks": ""
             }
            },
            "type": "scatter3d"
           }
          ],
          "scattercarpet": [
           {
            "marker": {
             "colorbar": {
              "outlinewidth": 0,
              "ticks": ""
             }
            },
            "type": "scattercarpet"
           }
          ],
          "scattergeo": [
           {
            "marker": {
             "colorbar": {
              "outlinewidth": 0,
              "ticks": ""
             }
            },
            "type": "scattergeo"
           }
          ],
          "scattergl": [
           {
            "marker": {
             "colorbar": {
              "outlinewidth": 0,
              "ticks": ""
             }
            },
            "type": "scattergl"
           }
          ],
          "scattermapbox": [
           {
            "marker": {
             "colorbar": {
              "outlinewidth": 0,
              "ticks": ""
             }
            },
            "type": "scattermapbox"
           }
          ],
          "scatterpolar": [
           {
            "marker": {
             "colorbar": {
              "outlinewidth": 0,
              "ticks": ""
             }
            },
            "type": "scatterpolar"
           }
          ],
          "scatterpolargl": [
           {
            "marker": {
             "colorbar": {
              "outlinewidth": 0,
              "ticks": ""
             }
            },
            "type": "scatterpolargl"
           }
          ],
          "scatterternary": [
           {
            "marker": {
             "colorbar": {
              "outlinewidth": 0,
              "ticks": ""
             }
            },
            "type": "scatterternary"
           }
          ],
          "surface": [
           {
            "colorbar": {
             "outlinewidth": 0,
             "ticks": ""
            },
            "colorscale": [
             [
              0,
              "#0d0887"
             ],
             [
              0.1111111111111111,
              "#46039f"
             ],
             [
              0.2222222222222222,
              "#7201a8"
             ],
             [
              0.3333333333333333,
              "#9c179e"
             ],
             [
              0.4444444444444444,
              "#bd3786"
             ],
             [
              0.5555555555555556,
              "#d8576b"
             ],
             [
              0.6666666666666666,
              "#ed7953"
             ],
             [
              0.7777777777777778,
              "#fb9f3a"
             ],
             [
              0.8888888888888888,
              "#fdca26"
             ],
             [
              1,
              "#f0f921"
             ]
            ],
            "type": "surface"
           }
          ],
          "table": [
           {
            "cells": {
             "fill": {
              "color": "#EBF0F8"
             },
             "line": {
              "color": "white"
             }
            },
            "header": {
             "fill": {
              "color": "#C8D4E3"
             },
             "line": {
              "color": "white"
             }
            },
            "type": "table"
           }
          ]
         },
         "layout": {
          "annotationdefaults": {
           "arrowcolor": "#2a3f5f",
           "arrowhead": 0,
           "arrowwidth": 1
          },
          "autotypenumbers": "strict",
          "coloraxis": {
           "colorbar": {
            "outlinewidth": 0,
            "ticks": ""
           }
          },
          "colorscale": {
           "diverging": [
            [
             0,
             "#8e0152"
            ],
            [
             0.1,
             "#c51b7d"
            ],
            [
             0.2,
             "#de77ae"
            ],
            [
             0.3,
             "#f1b6da"
            ],
            [
             0.4,
             "#fde0ef"
            ],
            [
             0.5,
             "#f7f7f7"
            ],
            [
             0.6,
             "#e6f5d0"
            ],
            [
             0.7,
             "#b8e186"
            ],
            [
             0.8,
             "#7fbc41"
            ],
            [
             0.9,
             "#4d9221"
            ],
            [
             1,
             "#276419"
            ]
           ],
           "sequential": [
            [
             0,
             "#0d0887"
            ],
            [
             0.1111111111111111,
             "#46039f"
            ],
            [
             0.2222222222222222,
             "#7201a8"
            ],
            [
             0.3333333333333333,
             "#9c179e"
            ],
            [
             0.4444444444444444,
             "#bd3786"
            ],
            [
             0.5555555555555556,
             "#d8576b"
            ],
            [
             0.6666666666666666,
             "#ed7953"
            ],
            [
             0.7777777777777778,
             "#fb9f3a"
            ],
            [
             0.8888888888888888,
             "#fdca26"
            ],
            [
             1,
             "#f0f921"
            ]
           ],
           "sequentialminus": [
            [
             0,
             "#0d0887"
            ],
            [
             0.1111111111111111,
             "#46039f"
            ],
            [
             0.2222222222222222,
             "#7201a8"
            ],
            [
             0.3333333333333333,
             "#9c179e"
            ],
            [
             0.4444444444444444,
             "#bd3786"
            ],
            [
             0.5555555555555556,
             "#d8576b"
            ],
            [
             0.6666666666666666,
             "#ed7953"
            ],
            [
             0.7777777777777778,
             "#fb9f3a"
            ],
            [
             0.8888888888888888,
             "#fdca26"
            ],
            [
             1,
             "#f0f921"
            ]
           ]
          },
          "colorway": [
           "#636efa",
           "#EF553B",
           "#00cc96",
           "#ab63fa",
           "#FFA15A",
           "#19d3f3",
           "#FF6692",
           "#B6E880",
           "#FF97FF",
           "#FECB52"
          ],
          "font": {
           "color": "#2a3f5f"
          },
          "geo": {
           "bgcolor": "white",
           "lakecolor": "white",
           "landcolor": "#E5ECF6",
           "showlakes": true,
           "showland": true,
           "subunitcolor": "white"
          },
          "hoverlabel": {
           "align": "left"
          },
          "hovermode": "closest",
          "mapbox": {
           "style": "light"
          },
          "paper_bgcolor": "white",
          "plot_bgcolor": "#E5ECF6",
          "polar": {
           "angularaxis": {
            "gridcolor": "white",
            "linecolor": "white",
            "ticks": ""
           },
           "bgcolor": "#E5ECF6",
           "radialaxis": {
            "gridcolor": "white",
            "linecolor": "white",
            "ticks": ""
           }
          },
          "scene": {
           "xaxis": {
            "backgroundcolor": "#E5ECF6",
            "gridcolor": "white",
            "gridwidth": 2,
            "linecolor": "white",
            "showbackground": true,
            "ticks": "",
            "zerolinecolor": "white"
           },
           "yaxis": {
            "backgroundcolor": "#E5ECF6",
            "gridcolor": "white",
            "gridwidth": 2,
            "linecolor": "white",
            "showbackground": true,
            "ticks": "",
            "zerolinecolor": "white"
           },
           "zaxis": {
            "backgroundcolor": "#E5ECF6",
            "gridcolor": "white",
            "gridwidth": 2,
            "linecolor": "white",
            "showbackground": true,
            "ticks": "",
            "zerolinecolor": "white"
           }
          },
          "shapedefaults": {
           "line": {
            "color": "#2a3f5f"
           }
          },
          "ternary": {
           "aaxis": {
            "gridcolor": "white",
            "linecolor": "white",
            "ticks": ""
           },
           "baxis": {
            "gridcolor": "white",
            "linecolor": "white",
            "ticks": ""
           },
           "bgcolor": "#E5ECF6",
           "caxis": {
            "gridcolor": "white",
            "linecolor": "white",
            "ticks": ""
           }
          },
          "title": {
           "x": 0.05
          },
          "xaxis": {
           "automargin": true,
           "gridcolor": "white",
           "linecolor": "white",
           "ticks": "",
           "title": {
            "standoff": 15
           },
           "zerolinecolor": "white",
           "zerolinewidth": 2
          },
          "yaxis": {
           "automargin": true,
           "gridcolor": "white",
           "linecolor": "white",
           "ticks": "",
           "title": {
            "standoff": 15
           },
           "zerolinecolor": "white",
           "zerolinewidth": 2
          }
         }
        },
        "title": {
         "text": "David A Perdue , Jr Historical Price and Transactions T"
        },
        "width": 800,
        "xaxis": {
         "anchor": "y",
         "domain": [
          0,
          1
         ],
         "title": {
          "text": "date"
         }
        },
        "yaxis": {
         "anchor": "x",
         "domain": [
          0,
          1
         ],
         "title": {
          "text": "historical Price T"
         }
        }
       }
      }
     },
     "metadata": {},
     "output_type": "display_data"
    }
   ],
   "source": [
    "def generateRandomPurchase(randomState):\n",
    "    purchases = transactions[transactions['type']=='Purchase']\n",
    "    randomPurchase = purchases.sample(n=1,random_state=randomState)[['transaction_date','ticker','asset_description','senator','senatorId']]\n",
    "\n",
    "\n",
    "    print(randomPurchase)\n",
    "    randomticker = randomPurchase.ticker.values[0]\n",
    "    randomDateFull = randomPurchase.transaction_date.values[0]\n",
    "    randomDate = str(randomDateFull).split(\"T\")[0]\n",
    "    randomSenator = randomPurchase.senatorId.values[0]\n",
    "\n",
    "    return randomSenator,  randomDate, randomticker\n",
    "\n",
    "\n",
    "def graphRandomPurcahse(randomState):\n",
    "\n",
    "    randomSenator,  randomDate, randomticker = generateRandomPurchase(randomState)\n",
    "\n",
    "    graphTransactions_fromSource(randomSenator,  randomDate, randomticker)\n",
    "\n",
    "\n",
    "graphRandomPurcahse(427)\n",
    "\n"
   ]
  },
  {
   "cell_type": "markdown",
   "metadata": {},
   "source": [
    "Excellent trades David Perdue! "
   ]
  },
  {
   "cell_type": "code",
   "execution_count": 36,
   "metadata": {},
   "outputs": [
    {
     "name": "stdout",
     "output_type": "stream",
     "text": [
      "     transaction_date ticker asset_description      senator  senatorId\n",
      "1713       2020-07-13   AAPL        Apple Inc.  Ron L Wyden        163\n"
     ]
    },
    {
     "data": {
      "application/vnd.plotly.v1+json": {
       "config": {
        "plotlyServerURL": "https://plot.ly"
       },
       "data": [
        {
         "hovertemplate": "transactionType=Purchase<br>date=%{x}<br>historical Price AAPL=%{y}<extra></extra>",
         "legendgroup": "Purchase",
         "marker": {
          "color": "#636efa",
          "symbol": "circle"
         },
         "mode": "markers",
         "name": "Purchase",
         "orientation": "v",
         "showlegend": true,
         "type": "scatter",
         "x": [
          "2020-07-17",
          "2020-07-24",
          "2020-08-07",
          "2020-08-28",
          "2020-09-04",
          "2021-01-22",
          "2021-01-29"
         ],
         "xaxis": "x",
         "y": [
          94.846,
          91.1905,
          109.6054,
          123.1146,
          119.3193,
          137.4206,
          130.395
         ],
         "yaxis": "y"
        },
        {
         "line": {
          "color": "grey"
         },
         "mode": "lines",
         "name": "AAPL Historical Price",
         "type": "scatter",
         "x": [
          "2020-07-17",
          "2020-07-24",
          "2020-07-31",
          "2020-08-07",
          "2020-08-14",
          "2020-08-21",
          "2020-08-28",
          "2020-09-04",
          "2020-09-11",
          "2020-09-18",
          "2020-09-25",
          "2020-10-02",
          "2020-10-09",
          "2020-10-16",
          "2020-10-23",
          "2020-10-30",
          "2020-11-06",
          "2020-11-13",
          "2020-11-20",
          "2020-11-27",
          "2020-12-04",
          "2020-12-11",
          "2020-12-18",
          "2020-12-24",
          "2020-12-31",
          "2021-01-08",
          "2021-01-15",
          "2021-01-22",
          "2021-01-29",
          "2021-02-05",
          "2021-02-12",
          "2021-02-19",
          "2021-02-26",
          "2021-03-05",
          "2021-03-12",
          "2021-03-19",
          "2021-03-26",
          "2021-04-01",
          "2021-04-09",
          "2021-04-16",
          "2021-04-23",
          "2021-04-30",
          "2021-05-07",
          "2021-05-14",
          "2021-05-21",
          "2021-05-28",
          "2021-06-04",
          "2021-06-11",
          "2021-06-18",
          "2021-06-25",
          "2021-07-02",
          "2021-07-09"
         ],
         "y": [
          94.846,
          91.1905,
          104.6257,
          109.6054,
          113.3489,
          122.6831,
          123.1146,
          119.3193,
          110.4809,
          105.3909,
          110.7571,
          111.487,
          115.3834,
          117.4056,
          113.4796,
          107.3835,
          117.2823,
          117.8456,
          115.9484,
          115.2072,
          120.8001,
          120.9582,
          125.1529,
          130.4048,
          131.1163,
          130.4839,
          125.6321,
          137.4206,
          130.395,
          135.3406,
          133.965,
          128.5221,
          120.0015,
          120.1598,
          119.7739,
          118.7447,
          119.952,
          121.7234,
          131.6147,
          132.7676,
          132.9259,
          130.0956,
          129.0763,
          126.3403,
          124.3379,
          123.5251,
          124.7939,
          126.2412,
          129.3241,
          131.951,
          138.7414,
          143.8466
         ]
        }
       ],
       "layout": {
        "height": 500,
        "legend": {
         "title": {
          "text": "transactionType"
         },
         "tracegroupgap": 0
        },
        "template": {
         "data": {
          "bar": [
           {
            "error_x": {
             "color": "#2a3f5f"
            },
            "error_y": {
             "color": "#2a3f5f"
            },
            "marker": {
             "line": {
              "color": "#E5ECF6",
              "width": 0.5
             },
             "pattern": {
              "fillmode": "overlay",
              "size": 10,
              "solidity": 0.2
             }
            },
            "type": "bar"
           }
          ],
          "barpolar": [
           {
            "marker": {
             "line": {
              "color": "#E5ECF6",
              "width": 0.5
             },
             "pattern": {
              "fillmode": "overlay",
              "size": 10,
              "solidity": 0.2
             }
            },
            "type": "barpolar"
           }
          ],
          "carpet": [
           {
            "aaxis": {
             "endlinecolor": "#2a3f5f",
             "gridcolor": "white",
             "linecolor": "white",
             "minorgridcolor": "white",
             "startlinecolor": "#2a3f5f"
            },
            "baxis": {
             "endlinecolor": "#2a3f5f",
             "gridcolor": "white",
             "linecolor": "white",
             "minorgridcolor": "white",
             "startlinecolor": "#2a3f5f"
            },
            "type": "carpet"
           }
          ],
          "choropleth": [
           {
            "colorbar": {
             "outlinewidth": 0,
             "ticks": ""
            },
            "type": "choropleth"
           }
          ],
          "contour": [
           {
            "colorbar": {
             "outlinewidth": 0,
             "ticks": ""
            },
            "colorscale": [
             [
              0,
              "#0d0887"
             ],
             [
              0.1111111111111111,
              "#46039f"
             ],
             [
              0.2222222222222222,
              "#7201a8"
             ],
             [
              0.3333333333333333,
              "#9c179e"
             ],
             [
              0.4444444444444444,
              "#bd3786"
             ],
             [
              0.5555555555555556,
              "#d8576b"
             ],
             [
              0.6666666666666666,
              "#ed7953"
             ],
             [
              0.7777777777777778,
              "#fb9f3a"
             ],
             [
              0.8888888888888888,
              "#fdca26"
             ],
             [
              1,
              "#f0f921"
             ]
            ],
            "type": "contour"
           }
          ],
          "contourcarpet": [
           {
            "colorbar": {
             "outlinewidth": 0,
             "ticks": ""
            },
            "type": "contourcarpet"
           }
          ],
          "heatmap": [
           {
            "colorbar": {
             "outlinewidth": 0,
             "ticks": ""
            },
            "colorscale": [
             [
              0,
              "#0d0887"
             ],
             [
              0.1111111111111111,
              "#46039f"
             ],
             [
              0.2222222222222222,
              "#7201a8"
             ],
             [
              0.3333333333333333,
              "#9c179e"
             ],
             [
              0.4444444444444444,
              "#bd3786"
             ],
             [
              0.5555555555555556,
              "#d8576b"
             ],
             [
              0.6666666666666666,
              "#ed7953"
             ],
             [
              0.7777777777777778,
              "#fb9f3a"
             ],
             [
              0.8888888888888888,
              "#fdca26"
             ],
             [
              1,
              "#f0f921"
             ]
            ],
            "type": "heatmap"
           }
          ],
          "heatmapgl": [
           {
            "colorbar": {
             "outlinewidth": 0,
             "ticks": ""
            },
            "colorscale": [
             [
              0,
              "#0d0887"
             ],
             [
              0.1111111111111111,
              "#46039f"
             ],
             [
              0.2222222222222222,
              "#7201a8"
             ],
             [
              0.3333333333333333,
              "#9c179e"
             ],
             [
              0.4444444444444444,
              "#bd3786"
             ],
             [
              0.5555555555555556,
              "#d8576b"
             ],
             [
              0.6666666666666666,
              "#ed7953"
             ],
             [
              0.7777777777777778,
              "#fb9f3a"
             ],
             [
              0.8888888888888888,
              "#fdca26"
             ],
             [
              1,
              "#f0f921"
             ]
            ],
            "type": "heatmapgl"
           }
          ],
          "histogram": [
           {
            "marker": {
             "pattern": {
              "fillmode": "overlay",
              "size": 10,
              "solidity": 0.2
             }
            },
            "type": "histogram"
           }
          ],
          "histogram2d": [
           {
            "colorbar": {
             "outlinewidth": 0,
             "ticks": ""
            },
            "colorscale": [
             [
              0,
              "#0d0887"
             ],
             [
              0.1111111111111111,
              "#46039f"
             ],
             [
              0.2222222222222222,
              "#7201a8"
             ],
             [
              0.3333333333333333,
              "#9c179e"
             ],
             [
              0.4444444444444444,
              "#bd3786"
             ],
             [
              0.5555555555555556,
              "#d8576b"
             ],
             [
              0.6666666666666666,
              "#ed7953"
             ],
             [
              0.7777777777777778,
              "#fb9f3a"
             ],
             [
              0.8888888888888888,
              "#fdca26"
             ],
             [
              1,
              "#f0f921"
             ]
            ],
            "type": "histogram2d"
           }
          ],
          "histogram2dcontour": [
           {
            "colorbar": {
             "outlinewidth": 0,
             "ticks": ""
            },
            "colorscale": [
             [
              0,
              "#0d0887"
             ],
             [
              0.1111111111111111,
              "#46039f"
             ],
             [
              0.2222222222222222,
              "#7201a8"
             ],
             [
              0.3333333333333333,
              "#9c179e"
             ],
             [
              0.4444444444444444,
              "#bd3786"
             ],
             [
              0.5555555555555556,
              "#d8576b"
             ],
             [
              0.6666666666666666,
              "#ed7953"
             ],
             [
              0.7777777777777778,
              "#fb9f3a"
             ],
             [
              0.8888888888888888,
              "#fdca26"
             ],
             [
              1,
              "#f0f921"
             ]
            ],
            "type": "histogram2dcontour"
           }
          ],
          "mesh3d": [
           {
            "colorbar": {
             "outlinewidth": 0,
             "ticks": ""
            },
            "type": "mesh3d"
           }
          ],
          "parcoords": [
           {
            "line": {
             "colorbar": {
              "outlinewidth": 0,
              "ticks": ""
             }
            },
            "type": "parcoords"
           }
          ],
          "pie": [
           {
            "automargin": true,
            "type": "pie"
           }
          ],
          "scatter": [
           {
            "fillpattern": {
             "fillmode": "overlay",
             "size": 10,
             "solidity": 0.2
            },
            "type": "scatter"
           }
          ],
          "scatter3d": [
           {
            "line": {
             "colorbar": {
              "outlinewidth": 0,
              "ticks": ""
             }
            },
            "marker": {
             "colorbar": {
              "outlinewidth": 0,
              "ticks": ""
             }
            },
            "type": "scatter3d"
           }
          ],
          "scattercarpet": [
           {
            "marker": {
             "colorbar": {
              "outlinewidth": 0,
              "ticks": ""
             }
            },
            "type": "scattercarpet"
           }
          ],
          "scattergeo": [
           {
            "marker": {
             "colorbar": {
              "outlinewidth": 0,
              "ticks": ""
             }
            },
            "type": "scattergeo"
           }
          ],
          "scattergl": [
           {
            "marker": {
             "colorbar": {
              "outlinewidth": 0,
              "ticks": ""
             }
            },
            "type": "scattergl"
           }
          ],
          "scattermapbox": [
           {
            "marker": {
             "colorbar": {
              "outlinewidth": 0,
              "ticks": ""
             }
            },
            "type": "scattermapbox"
           }
          ],
          "scatterpolar": [
           {
            "marker": {
             "colorbar": {
              "outlinewidth": 0,
              "ticks": ""
             }
            },
            "type": "scatterpolar"
           }
          ],
          "scatterpolargl": [
           {
            "marker": {
             "colorbar": {
              "outlinewidth": 0,
              "ticks": ""
             }
            },
            "type": "scatterpolargl"
           }
          ],
          "scatterternary": [
           {
            "marker": {
             "colorbar": {
              "outlinewidth": 0,
              "ticks": ""
             }
            },
            "type": "scatterternary"
           }
          ],
          "surface": [
           {
            "colorbar": {
             "outlinewidth": 0,
             "ticks": ""
            },
            "colorscale": [
             [
              0,
              "#0d0887"
             ],
             [
              0.1111111111111111,
              "#46039f"
             ],
             [
              0.2222222222222222,
              "#7201a8"
             ],
             [
              0.3333333333333333,
              "#9c179e"
             ],
             [
              0.4444444444444444,
              "#bd3786"
             ],
             [
              0.5555555555555556,
              "#d8576b"
             ],
             [
              0.6666666666666666,
              "#ed7953"
             ],
             [
              0.7777777777777778,
              "#fb9f3a"
             ],
             [
              0.8888888888888888,
              "#fdca26"
             ],
             [
              1,
              "#f0f921"
             ]
            ],
            "type": "surface"
           }
          ],
          "table": [
           {
            "cells": {
             "fill": {
              "color": "#EBF0F8"
             },
             "line": {
              "color": "white"
             }
            },
            "header": {
             "fill": {
              "color": "#C8D4E3"
             },
             "line": {
              "color": "white"
             }
            },
            "type": "table"
           }
          ]
         },
         "layout": {
          "annotationdefaults": {
           "arrowcolor": "#2a3f5f",
           "arrowhead": 0,
           "arrowwidth": 1
          },
          "autotypenumbers": "strict",
          "coloraxis": {
           "colorbar": {
            "outlinewidth": 0,
            "ticks": ""
           }
          },
          "colorscale": {
           "diverging": [
            [
             0,
             "#8e0152"
            ],
            [
             0.1,
             "#c51b7d"
            ],
            [
             0.2,
             "#de77ae"
            ],
            [
             0.3,
             "#f1b6da"
            ],
            [
             0.4,
             "#fde0ef"
            ],
            [
             0.5,
             "#f7f7f7"
            ],
            [
             0.6,
             "#e6f5d0"
            ],
            [
             0.7,
             "#b8e186"
            ],
            [
             0.8,
             "#7fbc41"
            ],
            [
             0.9,
             "#4d9221"
            ],
            [
             1,
             "#276419"
            ]
           ],
           "sequential": [
            [
             0,
             "#0d0887"
            ],
            [
             0.1111111111111111,
             "#46039f"
            ],
            [
             0.2222222222222222,
             "#7201a8"
            ],
            [
             0.3333333333333333,
             "#9c179e"
            ],
            [
             0.4444444444444444,
             "#bd3786"
            ],
            [
             0.5555555555555556,
             "#d8576b"
            ],
            [
             0.6666666666666666,
             "#ed7953"
            ],
            [
             0.7777777777777778,
             "#fb9f3a"
            ],
            [
             0.8888888888888888,
             "#fdca26"
            ],
            [
             1,
             "#f0f921"
            ]
           ],
           "sequentialminus": [
            [
             0,
             "#0d0887"
            ],
            [
             0.1111111111111111,
             "#46039f"
            ],
            [
             0.2222222222222222,
             "#7201a8"
            ],
            [
             0.3333333333333333,
             "#9c179e"
            ],
            [
             0.4444444444444444,
             "#bd3786"
            ],
            [
             0.5555555555555556,
             "#d8576b"
            ],
            [
             0.6666666666666666,
             "#ed7953"
            ],
            [
             0.7777777777777778,
             "#fb9f3a"
            ],
            [
             0.8888888888888888,
             "#fdca26"
            ],
            [
             1,
             "#f0f921"
            ]
           ]
          },
          "colorway": [
           "#636efa",
           "#EF553B",
           "#00cc96",
           "#ab63fa",
           "#FFA15A",
           "#19d3f3",
           "#FF6692",
           "#B6E880",
           "#FF97FF",
           "#FECB52"
          ],
          "font": {
           "color": "#2a3f5f"
          },
          "geo": {
           "bgcolor": "white",
           "lakecolor": "white",
           "landcolor": "#E5ECF6",
           "showlakes": true,
           "showland": true,
           "subunitcolor": "white"
          },
          "hoverlabel": {
           "align": "left"
          },
          "hovermode": "closest",
          "mapbox": {
           "style": "light"
          },
          "paper_bgcolor": "white",
          "plot_bgcolor": "#E5ECF6",
          "polar": {
           "angularaxis": {
            "gridcolor": "white",
            "linecolor": "white",
            "ticks": ""
           },
           "bgcolor": "#E5ECF6",
           "radialaxis": {
            "gridcolor": "white",
            "linecolor": "white",
            "ticks": ""
           }
          },
          "scene": {
           "xaxis": {
            "backgroundcolor": "#E5ECF6",
            "gridcolor": "white",
            "gridwidth": 2,
            "linecolor": "white",
            "showbackground": true,
            "ticks": "",
            "zerolinecolor": "white"
           },
           "yaxis": {
            "backgroundcolor": "#E5ECF6",
            "gridcolor": "white",
            "gridwidth": 2,
            "linecolor": "white",
            "showbackground": true,
            "ticks": "",
            "zerolinecolor": "white"
           },
           "zaxis": {
            "backgroundcolor": "#E5ECF6",
            "gridcolor": "white",
            "gridwidth": 2,
            "linecolor": "white",
            "showbackground": true,
            "ticks": "",
            "zerolinecolor": "white"
           }
          },
          "shapedefaults": {
           "line": {
            "color": "#2a3f5f"
           }
          },
          "ternary": {
           "aaxis": {
            "gridcolor": "white",
            "linecolor": "white",
            "ticks": ""
           },
           "baxis": {
            "gridcolor": "white",
            "linecolor": "white",
            "ticks": ""
           },
           "bgcolor": "#E5ECF6",
           "caxis": {
            "gridcolor": "white",
            "linecolor": "white",
            "ticks": ""
           }
          },
          "title": {
           "x": 0.05
          },
          "xaxis": {
           "automargin": true,
           "gridcolor": "white",
           "linecolor": "white",
           "ticks": "",
           "title": {
            "standoff": 15
           },
           "zerolinecolor": "white",
           "zerolinewidth": 2
          },
          "yaxis": {
           "automargin": true,
           "gridcolor": "white",
           "linecolor": "white",
           "ticks": "",
           "title": {
            "standoff": 15
           },
           "zerolinecolor": "white",
           "zerolinewidth": 2
          }
         }
        },
        "title": {
         "text": "Ronald L Wyden Historical Price and Transactions AAPL"
        },
        "width": 800,
        "xaxis": {
         "anchor": "y",
         "domain": [
          0,
          1
         ],
         "title": {
          "text": "date"
         }
        },
        "yaxis": {
         "anchor": "x",
         "domain": [
          0,
          1
         ],
         "title": {
          "text": "historical Price AAPL"
         }
        }
       }
      }
     },
     "metadata": {},
     "output_type": "display_data"
    }
   ],
   "source": [
    "graphRandomPurcahse(430)"
   ]
  },
  {
   "cell_type": "markdown",
   "metadata": {},
   "source": [
    "Well done Ronald! Personally, I wouldn't sell either. There's a substantial jump in price, particularly after the first purchase. However, this analsysis is only sound if we differentiate between:  <br>\n",
    "    &nbsp; changes in the marketplace in general AND <br>\n",
    "    &nbsp; changes in this stock in particular <br>\n",
    "Next we build upon previous funcions, graphing all transactions of a single senator in a single stock, but using growth rates instead of just historical prices. "
   ]
  },
  {
   "cell_type": "code",
   "execution_count": 37,
   "metadata": {},
   "outputs": [
    {
     "data": {
      "text/plain": [
       "'2020-02-25'"
      ]
     },
     "execution_count": 37,
     "metadata": {},
     "output_type": "execute_result"
    }
   ],
   "source": [
    "# pd.to_datetime(\"2020-03-03\")+timedelta(weeks=1)\n",
    "\n",
    "prevWeek = datetime.datetime.strptime(\"2020-03-03\", \"%Y-%m-%d\") +datetime.timedelta(weeks=-1)\n",
    "datetime.datetime.strftime(prevWeek,\"%Y-%m-%d\")\n"
   ]
  },
  {
   "cell_type": "code",
   "execution_count": 38,
   "metadata": {},
   "outputs": [
    {
     "data": {
      "text/html": [
       "<div>\n",
       "<style scoped>\n",
       "    .dataframe tbody tr th:only-of-type {\n",
       "        vertical-align: middle;\n",
       "    }\n",
       "\n",
       "    .dataframe tbody tr th {\n",
       "        vertical-align: top;\n",
       "    }\n",
       "\n",
       "    .dataframe thead th {\n",
       "        text-align: right;\n",
       "    }\n",
       "</style>\n",
       "<table border=\"1\" class=\"dataframe\">\n",
       "  <thead>\n",
       "    <tr style=\"text-align: right;\">\n",
       "      <th></th>\n",
       "      <th>date</th>\n",
       "      <th>M</th>\n",
       "      <th>SPY</th>\n",
       "      <th>transactionType</th>\n",
       "      <th>transactionValue</th>\n",
       "      <th>M_growth</th>\n",
       "      <th>M_pchange</th>\n",
       "      <th>SPY_growth</th>\n",
       "      <th>SPY_pchange</th>\n",
       "    </tr>\n",
       "  </thead>\n",
       "  <tbody>\n",
       "    <tr>\n",
       "      <th>141</th>\n",
       "      <td>2020-03-13</td>\n",
       "      <td>7.7445</td>\n",
       "      <td>257.7998</td>\n",
       "      <td>Purchase</td>\n",
       "      <td>100.000000</td>\n",
       "      <td>100.000000</td>\n",
       "      <td>-0.265388</td>\n",
       "      <td>100.000000</td>\n",
       "      <td>-0.094601</td>\n",
       "    </tr>\n",
       "    <tr>\n",
       "      <th>140</th>\n",
       "      <td>2020-03-20</td>\n",
       "      <td>5.8060</td>\n",
       "      <td>220.3585</td>\n",
       "      <td>Purchase</td>\n",
       "      <td>74.969333</td>\n",
       "      <td>74.969333</td>\n",
       "      <td>-0.250307</td>\n",
       "      <td>85.476599</td>\n",
       "      <td>-0.145234</td>\n",
       "    </tr>\n",
       "    <tr>\n",
       "      <th>139</th>\n",
       "      <td>2020-03-27</td>\n",
       "      <td>5.3334</td>\n",
       "      <td>244.0702</td>\n",
       "      <td>NaN</td>\n",
       "      <td>NaN</td>\n",
       "      <td>68.866938</td>\n",
       "      <td>-0.081399</td>\n",
       "      <td>94.674317</td>\n",
       "      <td>0.107605</td>\n",
       "    </tr>\n",
       "    <tr>\n",
       "      <th>138</th>\n",
       "      <td>2020-04-03</td>\n",
       "      <td>4.6390</td>\n",
       "      <td>239.0331</td>\n",
       "      <td>NaN</td>\n",
       "      <td>NaN</td>\n",
       "      <td>59.900575</td>\n",
       "      <td>-0.130198</td>\n",
       "      <td>92.720437</td>\n",
       "      <td>-0.020638</td>\n",
       "    </tr>\n",
       "    <tr>\n",
       "      <th>137</th>\n",
       "      <td>2020-04-09</td>\n",
       "      <td>6.4232</td>\n",
       "      <td>267.9359</td>\n",
       "      <td>NaN</td>\n",
       "      <td>NaN</td>\n",
       "      <td>82.938860</td>\n",
       "      <td>0.384609</td>\n",
       "      <td>103.931772</td>\n",
       "      <td>0.120915</td>\n",
       "    </tr>\n",
       "  </tbody>\n",
       "</table>\n",
       "</div>"
      ],
      "text/plain": [
       "           date       M       SPY transactionType  transactionValue  \\\n",
       "141  2020-03-13  7.7445  257.7998        Purchase        100.000000   \n",
       "140  2020-03-20  5.8060  220.3585        Purchase         74.969333   \n",
       "139  2020-03-27  5.3334  244.0702             NaN               NaN   \n",
       "138  2020-04-03  4.6390  239.0331             NaN               NaN   \n",
       "137  2020-04-09  6.4232  267.9359             NaN               NaN   \n",
       "\n",
       "       M_growth  M_pchange  SPY_growth  SPY_pchange  \n",
       "141  100.000000  -0.265388  100.000000    -0.094601  \n",
       "140   74.969333  -0.250307   85.476599    -0.145234  \n",
       "139   68.866938  -0.081399   94.674317     0.107605  \n",
       "138   59.900575  -0.130198   92.720437    -0.020638  \n",
       "137   82.938860   0.384609  103.931772     0.120915  "
      ]
     },
     "execution_count": 38,
     "metadata": {},
     "output_type": "execute_result"
    }
   ],
   "source": [
    "def historicalGrowthRatesWithTransactions(senatorIdInput, dateInput,tickerInput ):\n",
    "\n",
    "    #start dataframe a week early so growth rates begin at 1\n",
    "    prevWeekDate = datetime.datetime.strptime(dateInput, \"%Y-%m-%d\") +datetime.timedelta(weeks=-1)\n",
    "    prevWeekString = datetime.datetime.strftime(prevWeekDate,\"%Y-%m-%d\")\n",
    "    \n",
    "\n",
    "    historicalPricesFrame = historicalPricesWithTransaction(senatorIdInput, prevWeekString,tickerInput )\n",
    "\n",
    "    createGrowthColumn(tickerInput, historicalPricesFrame)\n",
    "    createGrowthColumn('SPY', historicalPricesFrame)\n",
    "\n",
    "     #remove preceeding week from  dataframe \n",
    "\n",
    "    historicalPricesFrame=     historicalPricesFrame.iloc[1:, :]\n",
    "\n",
    "    growthColumn = tickerInput+'_growth'\n",
    "\n",
    "    historicalPricesFrame['transactionValue'] = np.where(historicalPricesFrame['transactionType'].notnull(),\\\n",
    "         historicalPricesFrame[growthColumn], np.nan)\n",
    "\n",
    "    return historicalPricesFrame\n",
    "\n",
    "\n",
    "temp = historicalGrowthRatesWithTransactions(136,  \"2020-03-10\", \"M\"  )\n",
    "temp.head()"
   ]
  },
  {
   "cell_type": "code",
   "execution_count": 67,
   "metadata": {},
   "outputs": [
    {
     "data": {
      "application/vnd.plotly.v1+json": {
       "config": {
        "plotlyServerURL": "https://plot.ly"
       },
       "data": [
        {
         "hovertemplate": "transactionType=Purchase<br>date=%{x}<br>Growth Rate=%{y}<extra></extra>",
         "legendgroup": "Purchase",
         "marker": {
          "color": "#636efa",
          "symbol": "circle"
         },
         "mode": "markers",
         "name": "Purchase",
         "orientation": "v",
         "showlegend": true,
         "type": "scatter",
         "x": [
          "2020-03-13",
          "2020-03-20"
         ],
         "xaxis": "x",
         "y": [
          100,
          74.96933307508554
         ],
         "yaxis": "y"
        },
        {
         "hovertemplate": "transactionType=Sale (Full)<br>date=%{x}<br>Growth Rate=%{y}<extra></extra>",
         "legendgroup": "Sale (Full)",
         "marker": {
          "color": "#00cc96",
          "symbol": "circle"
         },
         "mode": "markers",
         "name": "Sale (Full)",
         "orientation": "v",
         "showlegend": true,
         "type": "scatter",
         "x": [
          "2020-04-17"
         ],
         "xaxis": "x",
         "y": [
          73.72328749435084
         ],
         "yaxis": "y"
        },
        {
         "line": {
          "color": "#EB4E4B"
         },
         "mode": "lines",
         "name": "M Growth Rate",
         "type": "scatter",
         "x": [
          "2020-03-13",
          "2020-03-20",
          "2020-03-27",
          "2020-04-03",
          "2020-04-09",
          "2020-04-17",
          "2020-04-24",
          "2020-05-01",
          "2020-05-08",
          "2020-05-15",
          "2020-05-22",
          "2020-05-29",
          "2020-06-05",
          "2020-06-12",
          "2020-06-19",
          "2020-06-26",
          "2020-07-02",
          "2020-07-10",
          "2020-07-17",
          "2020-07-24",
          "2020-07-31",
          "2020-08-07",
          "2020-08-14",
          "2020-08-21",
          "2020-08-28",
          "2020-09-04",
          "2020-09-11",
          "2020-09-18",
          "2020-09-25",
          "2020-10-02",
          "2020-10-09",
          "2020-10-16",
          "2020-10-23",
          "2020-10-30",
          "2020-11-06",
          "2020-11-13",
          "2020-11-20",
          "2020-11-27",
          "2020-12-04",
          "2020-12-11",
          "2020-12-18",
          "2020-12-24",
          "2020-12-31",
          "2021-01-08",
          "2021-01-15",
          "2021-01-22",
          "2021-01-29",
          "2021-02-05",
          "2021-02-12",
          "2021-02-19",
          "2021-02-26"
         ],
         "y": [
          100,
          74.96933307508554,
          68.86693782684486,
          59.90057460132998,
          82.93885983601265,
          73.72328749435084,
          62.51533346245723,
          66.74930595906773,
          66.87455613661308,
          66.12692878817225,
          64.8821744463813,
          79.20330557169603,
          109.21557234166181,
          90.90967783588351,
          85.67886887468524,
          74.96933307508553,
          84.68332364904124,
          84.30886435534894,
          82.81490089741105,
          80.32410097488538,
          75.46775130737942,
          82.44173284266252,
          89.53967331654721,
          77.95855122990507,
          86.55045516172765,
          95.2676092710956,
          87.79650074246237,
          84.18490541674736,
          75.09329201368712,
          74.84408289754018,
          77.58409193621277,
          76.71250564917037,
          90.03809154884111,
          77.33488282006586,
          81.8180644328233,
          91.6560139453806,
          112.70320872877527,
          135.11911679256247,
          145.95261153076376,
          137.98308476983667,
          129.88830783136422,
          133.87307121182778,
          140.1007166376138,
          152.9265930660469,
          162.01820646910713,
          160.3989928336239,
          187.29808251016854,
          187.67125056491707,
          185.30570081993676,
          186.4264962231261,
          189.41571437794568
         ]
        },
        {
         "line": {
          "color": "#349FEB"
         },
         "mode": "lines",
         "name": "SPY Growth Rate",
         "type": "scatter",
         "x": [
          "2020-03-13",
          "2020-03-20",
          "2020-03-27",
          "2020-04-03",
          "2020-04-09",
          "2020-04-17",
          "2020-04-24",
          "2020-05-01",
          "2020-05-08",
          "2020-05-15",
          "2020-05-22",
          "2020-05-29",
          "2020-06-05",
          "2020-06-12",
          "2020-06-19",
          "2020-06-26",
          "2020-07-02",
          "2020-07-10",
          "2020-07-17",
          "2020-07-24",
          "2020-07-31",
          "2020-08-07",
          "2020-08-14",
          "2020-08-21",
          "2020-08-28",
          "2020-09-04",
          "2020-09-11",
          "2020-09-18",
          "2020-09-25",
          "2020-10-02",
          "2020-10-09",
          "2020-10-16",
          "2020-10-23",
          "2020-10-30",
          "2020-11-06",
          "2020-11-13",
          "2020-11-20",
          "2020-11-27",
          "2020-12-04",
          "2020-12-11",
          "2020-12-18",
          "2020-12-24",
          "2020-12-31",
          "2021-01-08",
          "2021-01-15",
          "2021-01-22",
          "2021-01-29",
          "2021-02-05",
          "2021-02-12",
          "2021-02-19",
          "2021-02-26"
         ],
         "y": [
          100,
          85.47659850783437,
          94.67431704756946,
          92.72043655580802,
          103.93177186328305,
          107.08483870041792,
          105.71377479734274,
          105.64655209197214,
          109.25163634727413,
          106.95035449988713,
          110.37242852787318,
          113.68984770352809,
          119.30113987675709,
          113.64876931634548,
          115.8141705307762,
          112.59085538468223,
          117.1612623438808,
          119.17255172424495,
          120.72232018799086,
          120.40711435773032,
          122.5234464883216,
          125.54412377356385,
          126.39594755310132,
          127.38656119981479,
          131.5517312270995,
          128.54606559043106,
          125.3527737414847,
          124.57573667628914,
          123.85234589010543,
          125.77759951714471,
          130.67923248970718,
          130.8450200504423,
          130.27612899622116,
          123.02724827559994,
          131.92632422523218,
          134.91779279890832,
          133.87415350981655,
          137.0163592058644,
          139.34471632638972,
          138.00724438110504,
          139.6875792766325,
          139.61946440610117,
          141.4659359704701,
          144.25833534393743,
          142.15457110517542,
          144.8712915991401,
          140.02431344011904,
          146.698833746186,
          148.5641959380884,
          147.57664668475306,
          143.91779978107044
         ]
        }
       ],
       "layout": {
        "height": 500,
        "legend": {
         "title": {
          "text": "transactionType"
         },
         "tracegroupgap": 0
        },
        "template": {
         "data": {
          "bar": [
           {
            "error_x": {
             "color": "#2a3f5f"
            },
            "error_y": {
             "color": "#2a3f5f"
            },
            "marker": {
             "line": {
              "color": "#E5ECF6",
              "width": 0.5
             },
             "pattern": {
              "fillmode": "overlay",
              "size": 10,
              "solidity": 0.2
             }
            },
            "type": "bar"
           }
          ],
          "barpolar": [
           {
            "marker": {
             "line": {
              "color": "#E5ECF6",
              "width": 0.5
             },
             "pattern": {
              "fillmode": "overlay",
              "size": 10,
              "solidity": 0.2
             }
            },
            "type": "barpolar"
           }
          ],
          "carpet": [
           {
            "aaxis": {
             "endlinecolor": "#2a3f5f",
             "gridcolor": "white",
             "linecolor": "white",
             "minorgridcolor": "white",
             "startlinecolor": "#2a3f5f"
            },
            "baxis": {
             "endlinecolor": "#2a3f5f",
             "gridcolor": "white",
             "linecolor": "white",
             "minorgridcolor": "white",
             "startlinecolor": "#2a3f5f"
            },
            "type": "carpet"
           }
          ],
          "choropleth": [
           {
            "colorbar": {
             "outlinewidth": 0,
             "ticks": ""
            },
            "type": "choropleth"
           }
          ],
          "contour": [
           {
            "colorbar": {
             "outlinewidth": 0,
             "ticks": ""
            },
            "colorscale": [
             [
              0,
              "#0d0887"
             ],
             [
              0.1111111111111111,
              "#46039f"
             ],
             [
              0.2222222222222222,
              "#7201a8"
             ],
             [
              0.3333333333333333,
              "#9c179e"
             ],
             [
              0.4444444444444444,
              "#bd3786"
             ],
             [
              0.5555555555555556,
              "#d8576b"
             ],
             [
              0.6666666666666666,
              "#ed7953"
             ],
             [
              0.7777777777777778,
              "#fb9f3a"
             ],
             [
              0.8888888888888888,
              "#fdca26"
             ],
             [
              1,
              "#f0f921"
             ]
            ],
            "type": "contour"
           }
          ],
          "contourcarpet": [
           {
            "colorbar": {
             "outlinewidth": 0,
             "ticks": ""
            },
            "type": "contourcarpet"
           }
          ],
          "heatmap": [
           {
            "colorbar": {
             "outlinewidth": 0,
             "ticks": ""
            },
            "colorscale": [
             [
              0,
              "#0d0887"
             ],
             [
              0.1111111111111111,
              "#46039f"
             ],
             [
              0.2222222222222222,
              "#7201a8"
             ],
             [
              0.3333333333333333,
              "#9c179e"
             ],
             [
              0.4444444444444444,
              "#bd3786"
             ],
             [
              0.5555555555555556,
              "#d8576b"
             ],
             [
              0.6666666666666666,
              "#ed7953"
             ],
             [
              0.7777777777777778,
              "#fb9f3a"
             ],
             [
              0.8888888888888888,
              "#fdca26"
             ],
             [
              1,
              "#f0f921"
             ]
            ],
            "type": "heatmap"
           }
          ],
          "heatmapgl": [
           {
            "colorbar": {
             "outlinewidth": 0,
             "ticks": ""
            },
            "colorscale": [
             [
              0,
              "#0d0887"
             ],
             [
              0.1111111111111111,
              "#46039f"
             ],
             [
              0.2222222222222222,
              "#7201a8"
             ],
             [
              0.3333333333333333,
              "#9c179e"
             ],
             [
              0.4444444444444444,
              "#bd3786"
             ],
             [
              0.5555555555555556,
              "#d8576b"
             ],
             [
              0.6666666666666666,
              "#ed7953"
             ],
             [
              0.7777777777777778,
              "#fb9f3a"
             ],
             [
              0.8888888888888888,
              "#fdca26"
             ],
             [
              1,
              "#f0f921"
             ]
            ],
            "type": "heatmapgl"
           }
          ],
          "histogram": [
           {
            "marker": {
             "pattern": {
              "fillmode": "overlay",
              "size": 10,
              "solidity": 0.2
             }
            },
            "type": "histogram"
           }
          ],
          "histogram2d": [
           {
            "colorbar": {
             "outlinewidth": 0,
             "ticks": ""
            },
            "colorscale": [
             [
              0,
              "#0d0887"
             ],
             [
              0.1111111111111111,
              "#46039f"
             ],
             [
              0.2222222222222222,
              "#7201a8"
             ],
             [
              0.3333333333333333,
              "#9c179e"
             ],
             [
              0.4444444444444444,
              "#bd3786"
             ],
             [
              0.5555555555555556,
              "#d8576b"
             ],
             [
              0.6666666666666666,
              "#ed7953"
             ],
             [
              0.7777777777777778,
              "#fb9f3a"
             ],
             [
              0.8888888888888888,
              "#fdca26"
             ],
             [
              1,
              "#f0f921"
             ]
            ],
            "type": "histogram2d"
           }
          ],
          "histogram2dcontour": [
           {
            "colorbar": {
             "outlinewidth": 0,
             "ticks": ""
            },
            "colorscale": [
             [
              0,
              "#0d0887"
             ],
             [
              0.1111111111111111,
              "#46039f"
             ],
             [
              0.2222222222222222,
              "#7201a8"
             ],
             [
              0.3333333333333333,
              "#9c179e"
             ],
             [
              0.4444444444444444,
              "#bd3786"
             ],
             [
              0.5555555555555556,
              "#d8576b"
             ],
             [
              0.6666666666666666,
              "#ed7953"
             ],
             [
              0.7777777777777778,
              "#fb9f3a"
             ],
             [
              0.8888888888888888,
              "#fdca26"
             ],
             [
              1,
              "#f0f921"
             ]
            ],
            "type": "histogram2dcontour"
           }
          ],
          "mesh3d": [
           {
            "colorbar": {
             "outlinewidth": 0,
             "ticks": ""
            },
            "type": "mesh3d"
           }
          ],
          "parcoords": [
           {
            "line": {
             "colorbar": {
              "outlinewidth": 0,
              "ticks": ""
             }
            },
            "type": "parcoords"
           }
          ],
          "pie": [
           {
            "automargin": true,
            "type": "pie"
           }
          ],
          "scatter": [
           {
            "fillpattern": {
             "fillmode": "overlay",
             "size": 10,
             "solidity": 0.2
            },
            "type": "scatter"
           }
          ],
          "scatter3d": [
           {
            "line": {
             "colorbar": {
              "outlinewidth": 0,
              "ticks": ""
             }
            },
            "marker": {
             "colorbar": {
              "outlinewidth": 0,
              "ticks": ""
             }
            },
            "type": "scatter3d"
           }
          ],
          "scattercarpet": [
           {
            "marker": {
             "colorbar": {
              "outlinewidth": 0,
              "ticks": ""
             }
            },
            "type": "scattercarpet"
           }
          ],
          "scattergeo": [
           {
            "marker": {
             "colorbar": {
              "outlinewidth": 0,
              "ticks": ""
             }
            },
            "type": "scattergeo"
           }
          ],
          "scattergl": [
           {
            "marker": {
             "colorbar": {
              "outlinewidth": 0,
              "ticks": ""
             }
            },
            "type": "scattergl"
           }
          ],
          "scattermapbox": [
           {
            "marker": {
             "colorbar": {
              "outlinewidth": 0,
              "ticks": ""
             }
            },
            "type": "scattermapbox"
           }
          ],
          "scatterpolar": [
           {
            "marker": {
             "colorbar": {
              "outlinewidth": 0,
              "ticks": ""
             }
            },
            "type": "scatterpolar"
           }
          ],
          "scatterpolargl": [
           {
            "marker": {
             "colorbar": {
              "outlinewidth": 0,
              "ticks": ""
             }
            },
            "type": "scatterpolargl"
           }
          ],
          "scatterternary": [
           {
            "marker": {
             "colorbar": {
              "outlinewidth": 0,
              "ticks": ""
             }
            },
            "type": "scatterternary"
           }
          ],
          "surface": [
           {
            "colorbar": {
             "outlinewidth": 0,
             "ticks": ""
            },
            "colorscale": [
             [
              0,
              "#0d0887"
             ],
             [
              0.1111111111111111,
              "#46039f"
             ],
             [
              0.2222222222222222,
              "#7201a8"
             ],
             [
              0.3333333333333333,
              "#9c179e"
             ],
             [
              0.4444444444444444,
              "#bd3786"
             ],
             [
              0.5555555555555556,
              "#d8576b"
             ],
             [
              0.6666666666666666,
              "#ed7953"
             ],
             [
              0.7777777777777778,
              "#fb9f3a"
             ],
             [
              0.8888888888888888,
              "#fdca26"
             ],
             [
              1,
              "#f0f921"
             ]
            ],
            "type": "surface"
           }
          ],
          "table": [
           {
            "cells": {
             "fill": {
              "color": "#EBF0F8"
             },
             "line": {
              "color": "white"
             }
            },
            "header": {
             "fill": {
              "color": "#C8D4E3"
             },
             "line": {
              "color": "white"
             }
            },
            "type": "table"
           }
          ]
         },
         "layout": {
          "annotationdefaults": {
           "arrowcolor": "#2a3f5f",
           "arrowhead": 0,
           "arrowwidth": 1
          },
          "autotypenumbers": "strict",
          "coloraxis": {
           "colorbar": {
            "outlinewidth": 0,
            "ticks": ""
           }
          },
          "colorscale": {
           "diverging": [
            [
             0,
             "#8e0152"
            ],
            [
             0.1,
             "#c51b7d"
            ],
            [
             0.2,
             "#de77ae"
            ],
            [
             0.3,
             "#f1b6da"
            ],
            [
             0.4,
             "#fde0ef"
            ],
            [
             0.5,
             "#f7f7f7"
            ],
            [
             0.6,
             "#e6f5d0"
            ],
            [
             0.7,
             "#b8e186"
            ],
            [
             0.8,
             "#7fbc41"
            ],
            [
             0.9,
             "#4d9221"
            ],
            [
             1,
             "#276419"
            ]
           ],
           "sequential": [
            [
             0,
             "#0d0887"
            ],
            [
             0.1111111111111111,
             "#46039f"
            ],
            [
             0.2222222222222222,
             "#7201a8"
            ],
            [
             0.3333333333333333,
             "#9c179e"
            ],
            [
             0.4444444444444444,
             "#bd3786"
            ],
            [
             0.5555555555555556,
             "#d8576b"
            ],
            [
             0.6666666666666666,
             "#ed7953"
            ],
            [
             0.7777777777777778,
             "#fb9f3a"
            ],
            [
             0.8888888888888888,
             "#fdca26"
            ],
            [
             1,
             "#f0f921"
            ]
           ],
           "sequentialminus": [
            [
             0,
             "#0d0887"
            ],
            [
             0.1111111111111111,
             "#46039f"
            ],
            [
             0.2222222222222222,
             "#7201a8"
            ],
            [
             0.3333333333333333,
             "#9c179e"
            ],
            [
             0.4444444444444444,
             "#bd3786"
            ],
            [
             0.5555555555555556,
             "#d8576b"
            ],
            [
             0.6666666666666666,
             "#ed7953"
            ],
            [
             0.7777777777777778,
             "#fb9f3a"
            ],
            [
             0.8888888888888888,
             "#fdca26"
            ],
            [
             1,
             "#f0f921"
            ]
           ]
          },
          "colorway": [
           "#636efa",
           "#EF553B",
           "#00cc96",
           "#ab63fa",
           "#FFA15A",
           "#19d3f3",
           "#FF6692",
           "#B6E880",
           "#FF97FF",
           "#FECB52"
          ],
          "font": {
           "color": "#2a3f5f"
          },
          "geo": {
           "bgcolor": "white",
           "lakecolor": "white",
           "landcolor": "#E5ECF6",
           "showlakes": true,
           "showland": true,
           "subunitcolor": "white"
          },
          "hoverlabel": {
           "align": "left"
          },
          "hovermode": "closest",
          "mapbox": {
           "style": "light"
          },
          "paper_bgcolor": "white",
          "plot_bgcolor": "#E5ECF6",
          "polar": {
           "angularaxis": {
            "gridcolor": "white",
            "linecolor": "white",
            "ticks": ""
           },
           "bgcolor": "#E5ECF6",
           "radialaxis": {
            "gridcolor": "white",
            "linecolor": "white",
            "ticks": ""
           }
          },
          "scene": {
           "xaxis": {
            "backgroundcolor": "#E5ECF6",
            "gridcolor": "white",
            "gridwidth": 2,
            "linecolor": "white",
            "showbackground": true,
            "ticks": "",
            "zerolinecolor": "white"
           },
           "yaxis": {
            "backgroundcolor": "#E5ECF6",
            "gridcolor": "white",
            "gridwidth": 2,
            "linecolor": "white",
            "showbackground": true,
            "ticks": "",
            "zerolinecolor": "white"
           },
           "zaxis": {
            "backgroundcolor": "#E5ECF6",
            "gridcolor": "white",
            "gridwidth": 2,
            "linecolor": "white",
            "showbackground": true,
            "ticks": "",
            "zerolinecolor": "white"
           }
          },
          "shapedefaults": {
           "line": {
            "color": "#2a3f5f"
           }
          },
          "ternary": {
           "aaxis": {
            "gridcolor": "white",
            "linecolor": "white",
            "ticks": ""
           },
           "baxis": {
            "gridcolor": "white",
            "linecolor": "white",
            "ticks": ""
           },
           "bgcolor": "#E5ECF6",
           "caxis": {
            "gridcolor": "white",
            "linecolor": "white",
            "ticks": ""
           }
          },
          "title": {
           "x": 0.05
          },
          "xaxis": {
           "automargin": true,
           "gridcolor": "white",
           "linecolor": "white",
           "ticks": "",
           "title": {
            "standoff": 15
           },
           "zerolinecolor": "white",
           "zerolinewidth": 2
          },
          "yaxis": {
           "automargin": true,
           "gridcolor": "white",
           "linecolor": "white",
           "ticks": "",
           "title": {
            "standoff": 15
           },
           "zerolinecolor": "white",
           "zerolinewidth": 2
          }
         }
        },
        "title": {
         "text": "David A Perdue , Jr Growth Rates M"
        },
        "width": 800,
        "xaxis": {
         "anchor": "y",
         "domain": [
          0,
          1
         ],
         "title": {
          "text": "date"
         }
        },
        "yaxis": {
         "anchor": "x",
         "domain": [
          0,
          1
         ],
         "title": {
          "text": "Growth Rate"
         }
        }
       }
      }
     },
     "metadata": {},
     "output_type": "display_data"
    }
   ],
   "source": [
    "def graphAlphaGrowth_fromHistorical(senatorIdInput, frame, tickerInput):\n",
    "    senatorName = returnSenatorNameFromId(senatorIdInput)\n",
    "\n",
    "\n",
    "    fig = px.scatter(frame, x=\"date\", y=\"transactionValue\", color=\"transactionType\",\n",
    "    labels=dict(transactionValue=\"Growth Rate\"),\n",
    "    height= graphDims['height'] , width= graphDims['width'], \n",
    "    title = senatorName+ \" Growth Rates \"+ tickerInput)\n",
    "\n",
    "    growthColumn = tickerInput+'_growth'\n",
    "\n",
    "    fig.add_trace(go.Scatter(x=frame['date'], y=frame[growthColumn], mode=\"lines\", line=go.scatter.Line(color=\"#EB4E4B\"), \n",
    "    name=tickerInput+' Growth Rate'))\n",
    "\n",
    "    fig.add_trace(go.Scatter(x=frame['date'], y=frame['SPY_growth'], mode=\"lines\", line=go.scatter.Line(color=\"#349FEB\"), \n",
    "    name='SPY Growth Rate'))\n",
    "\n",
    "\n",
    "\n",
    "    fig.show()\n",
    "\n",
    "graphAlphaGrowth_fromHistorical(136, temp, \"M\")"
   ]
  },
  {
   "cell_type": "code",
   "execution_count": 42,
   "metadata": {},
   "outputs": [],
   "source": [
    "def graphAlphaGrowth_fromSource(senatorIdInput, dateInput,tickerInput):\n",
    "    historical = historicalGrowthRatesWithTransactions(senatorIdInput, dateInput,tickerInput )\n",
    "    graphAlphaGrowth_fromHistorical(senatorIdInput, historical , tickerInput)"
   ]
  },
  {
   "cell_type": "code",
   "execution_count": 68,
   "metadata": {},
   "outputs": [
    {
     "name": "stdout",
     "output_type": "stream",
     "text": [
      "     transaction_date ticker                        asset_description  \\\n",
      "7984       2015-09-16    MMC  Marsh & McLennan Companies, Inc. (NYSE)   \n",
      "\n",
      "            senator  senatorId  \n",
      "7984  Gary C Peters        108  \n"
     ]
    },
    {
     "data": {
      "application/vnd.plotly.v1+json": {
       "config": {
        "plotlyServerURL": "https://plot.ly"
       },
       "data": [
        {
         "hovertemplate": "transactionType=Purchase<br>date=%{x}<br>Growth Rate=%{y}<extra></extra>",
         "legendgroup": "Purchase",
         "marker": {
          "color": "#636efa",
          "symbol": "circle"
         },
         "mode": "markers",
         "name": "Purchase",
         "orientation": "v",
         "showlegend": true,
         "type": "scatter",
         "x": [
          "2015-09-18"
         ],
         "xaxis": "x",
         "y": [
          100
         ],
         "yaxis": "y"
        },
        {
         "line": {
          "color": "#EB4E4B"
         },
         "mode": "lines",
         "name": "MMC Growth Rate",
         "type": "scatter",
         "x": [
          "2015-09-18",
          "2015-09-25",
          "2015-10-02",
          "2015-10-09",
          "2015-10-16",
          "2015-10-23",
          "2015-10-30",
          "2015-11-06",
          "2015-11-13",
          "2015-11-20",
          "2015-11-27",
          "2015-12-04",
          "2015-12-11",
          "2015-12-18",
          "2015-12-24",
          "2015-12-31",
          "2016-01-08",
          "2016-01-15",
          "2016-01-22",
          "2016-01-29",
          "2016-02-05",
          "2016-02-12",
          "2016-02-19",
          "2016-02-26",
          "2016-03-04",
          "2016-03-11",
          "2016-03-18",
          "2016-03-24",
          "2016-04-01",
          "2016-04-08",
          "2016-04-15",
          "2016-04-22",
          "2016-04-29",
          "2016-05-06",
          "2016-05-13",
          "2016-05-20",
          "2016-05-27",
          "2016-06-03",
          "2016-06-10",
          "2016-06-17",
          "2016-06-24",
          "2016-07-01",
          "2016-07-08",
          "2016-07-15",
          "2016-07-22",
          "2016-07-29",
          "2016-08-05",
          "2016-08-12",
          "2016-08-19",
          "2016-08-26",
          "2016-09-02"
         ],
         "y": [
          100,
          99.17123456657691,
          99.03950741769734,
          101.24625897042574,
          102.23142357572702,
          104.7700674726194,
          105.60376731064223,
          106.30466730313333,
          102.59142057217639,
          105.88803192345237,
          104.9406262403055,
          107.72577582785365,
          103.99343509648908,
          103.27344110359033,
          105.22489085311565,
          105.05433208542955,
          100.31794728768652,
          98.91593276337385,
          99.6661768018622,
          101.64852021496841,
          104.164422942836,
          106.89014513585704,
          109.23441639938643,
          109.59655878914005,
          110.56863649528553,
          111.9601385924075,
          113.98045546699852,
          113.98045546699852,
          116.97306458706547,
          115.92246548598526,
          119.38985014427773,
          119.14098452098735,
          120.98001566137114,
          121.11410274288536,
          122.51268463791128,
          122.99153642341487,
          126.30573999978549,
          126.76549778488145,
          127.11047702820125,
          126.17165291827128,
          124.2942192377418,
          130.48217714512515,
          129.33632258133727,
          128.08470012765093,
          128.00768050802918,
          126.60201881509931,
          128.29645044677818,
          129.75982321959177,
          129.10526372247196,
          129.37472512148292,
          131.51218047048476
         ]
        },
        {
         "line": {
          "color": "#349FEB"
         },
         "mode": "lines",
         "name": "SPY Growth Rate",
         "type": "scatter",
         "x": [
          "2015-09-18",
          "2015-09-25",
          "2015-10-02",
          "2015-10-09",
          "2015-10-16",
          "2015-10-23",
          "2015-10-30",
          "2015-11-06",
          "2015-11-13",
          "2015-11-20",
          "2015-11-27",
          "2015-12-04",
          "2015-12-11",
          "2015-12-18",
          "2015-12-24",
          "2015-12-31",
          "2016-01-08",
          "2016-01-15",
          "2016-01-22",
          "2016-01-29",
          "2016-02-05",
          "2016-02-12",
          "2016-02-19",
          "2016-02-26",
          "2016-03-04",
          "2016-03-11",
          "2016-03-18",
          "2016-03-24",
          "2016-04-01",
          "2016-04-08",
          "2016-04-15",
          "2016-04-22",
          "2016-04-29",
          "2016-05-06",
          "2016-05-13",
          "2016-05-20",
          "2016-05-27",
          "2016-06-03",
          "2016-06-10",
          "2016-06-17",
          "2016-06-24",
          "2016-07-01",
          "2016-07-08",
          "2016-07-15",
          "2016-07-22",
          "2016-07-29",
          "2016-08-05",
          "2016-08-12",
          "2016-08-19",
          "2016-08-26",
          "2016-09-02"
         ],
         "y": [
          100,
          98.72542323976353,
          99.81570702070154,
          103.05590104025474,
          104.04891908211856,
          106.22436739456963,
          106.43425662099287,
          107.51430190308095,
          103.6752720473856,
          107.14065486834801,
          107.26863610397193,
          107.29935160052167,
          103.33740158533845,
          103.00546479876111,
          105.92023744009603,
          104.98812683173139,
          98.83420729004384,
          96.71763034597979,
          98.11320754716978,
          99.76114047569457,
          96.78970705095162,
          96.10995216992181,
          98.87539397859919,
          100.46666612371595,
          103.2166338375406,
          104.41651609480384,
          105.79132543184942,
          105.13908651647874,
          107.10604176144064,
          105.853396331127,
          107.55118376825622,
          108.16718072462976,
          106.80069016789973,
          106.48492555564215,
          105.9880093216878,
          106.36584483322298,
          108.82453888942537,
          108.84524858028088,
          108.73658087657839,
          107.45723390665049,
          105.75054595631653,
          109.22634179599558,
          110.64681716484333,
          112.30144002159392,
          113.03512154145253,
          112.97264342915247,
          113.52418438140266,
          113.66990847014718,
          113.71150237172496,
          113.06112500159973,
          113.6230789725666
         ]
        }
       ],
       "layout": {
        "height": 500,
        "legend": {
         "title": {
          "text": "transactionType"
         },
         "tracegroupgap": 0
        },
        "template": {
         "data": {
          "bar": [
           {
            "error_x": {
             "color": "#2a3f5f"
            },
            "error_y": {
             "color": "#2a3f5f"
            },
            "marker": {
             "line": {
              "color": "#E5ECF6",
              "width": 0.5
             },
             "pattern": {
              "fillmode": "overlay",
              "size": 10,
              "solidity": 0.2
             }
            },
            "type": "bar"
           }
          ],
          "barpolar": [
           {
            "marker": {
             "line": {
              "color": "#E5ECF6",
              "width": 0.5
             },
             "pattern": {
              "fillmode": "overlay",
              "size": 10,
              "solidity": 0.2
             }
            },
            "type": "barpolar"
           }
          ],
          "carpet": [
           {
            "aaxis": {
             "endlinecolor": "#2a3f5f",
             "gridcolor": "white",
             "linecolor": "white",
             "minorgridcolor": "white",
             "startlinecolor": "#2a3f5f"
            },
            "baxis": {
             "endlinecolor": "#2a3f5f",
             "gridcolor": "white",
             "linecolor": "white",
             "minorgridcolor": "white",
             "startlinecolor": "#2a3f5f"
            },
            "type": "carpet"
           }
          ],
          "choropleth": [
           {
            "colorbar": {
             "outlinewidth": 0,
             "ticks": ""
            },
            "type": "choropleth"
           }
          ],
          "contour": [
           {
            "colorbar": {
             "outlinewidth": 0,
             "ticks": ""
            },
            "colorscale": [
             [
              0,
              "#0d0887"
             ],
             [
              0.1111111111111111,
              "#46039f"
             ],
             [
              0.2222222222222222,
              "#7201a8"
             ],
             [
              0.3333333333333333,
              "#9c179e"
             ],
             [
              0.4444444444444444,
              "#bd3786"
             ],
             [
              0.5555555555555556,
              "#d8576b"
             ],
             [
              0.6666666666666666,
              "#ed7953"
             ],
             [
              0.7777777777777778,
              "#fb9f3a"
             ],
             [
              0.8888888888888888,
              "#fdca26"
             ],
             [
              1,
              "#f0f921"
             ]
            ],
            "type": "contour"
           }
          ],
          "contourcarpet": [
           {
            "colorbar": {
             "outlinewidth": 0,
             "ticks": ""
            },
            "type": "contourcarpet"
           }
          ],
          "heatmap": [
           {
            "colorbar": {
             "outlinewidth": 0,
             "ticks": ""
            },
            "colorscale": [
             [
              0,
              "#0d0887"
             ],
             [
              0.1111111111111111,
              "#46039f"
             ],
             [
              0.2222222222222222,
              "#7201a8"
             ],
             [
              0.3333333333333333,
              "#9c179e"
             ],
             [
              0.4444444444444444,
              "#bd3786"
             ],
             [
              0.5555555555555556,
              "#d8576b"
             ],
             [
              0.6666666666666666,
              "#ed7953"
             ],
             [
              0.7777777777777778,
              "#fb9f3a"
             ],
             [
              0.8888888888888888,
              "#fdca26"
             ],
             [
              1,
              "#f0f921"
             ]
            ],
            "type": "heatmap"
           }
          ],
          "heatmapgl": [
           {
            "colorbar": {
             "outlinewidth": 0,
             "ticks": ""
            },
            "colorscale": [
             [
              0,
              "#0d0887"
             ],
             [
              0.1111111111111111,
              "#46039f"
             ],
             [
              0.2222222222222222,
              "#7201a8"
             ],
             [
              0.3333333333333333,
              "#9c179e"
             ],
             [
              0.4444444444444444,
              "#bd3786"
             ],
             [
              0.5555555555555556,
              "#d8576b"
             ],
             [
              0.6666666666666666,
              "#ed7953"
             ],
             [
              0.7777777777777778,
              "#fb9f3a"
             ],
             [
              0.8888888888888888,
              "#fdca26"
             ],
             [
              1,
              "#f0f921"
             ]
            ],
            "type": "heatmapgl"
           }
          ],
          "histogram": [
           {
            "marker": {
             "pattern": {
              "fillmode": "overlay",
              "size": 10,
              "solidity": 0.2
             }
            },
            "type": "histogram"
           }
          ],
          "histogram2d": [
           {
            "colorbar": {
             "outlinewidth": 0,
             "ticks": ""
            },
            "colorscale": [
             [
              0,
              "#0d0887"
             ],
             [
              0.1111111111111111,
              "#46039f"
             ],
             [
              0.2222222222222222,
              "#7201a8"
             ],
             [
              0.3333333333333333,
              "#9c179e"
             ],
             [
              0.4444444444444444,
              "#bd3786"
             ],
             [
              0.5555555555555556,
              "#d8576b"
             ],
             [
              0.6666666666666666,
              "#ed7953"
             ],
             [
              0.7777777777777778,
              "#fb9f3a"
             ],
             [
              0.8888888888888888,
              "#fdca26"
             ],
             [
              1,
              "#f0f921"
             ]
            ],
            "type": "histogram2d"
           }
          ],
          "histogram2dcontour": [
           {
            "colorbar": {
             "outlinewidth": 0,
             "ticks": ""
            },
            "colorscale": [
             [
              0,
              "#0d0887"
             ],
             [
              0.1111111111111111,
              "#46039f"
             ],
             [
              0.2222222222222222,
              "#7201a8"
             ],
             [
              0.3333333333333333,
              "#9c179e"
             ],
             [
              0.4444444444444444,
              "#bd3786"
             ],
             [
              0.5555555555555556,
              "#d8576b"
             ],
             [
              0.6666666666666666,
              "#ed7953"
             ],
             [
              0.7777777777777778,
              "#fb9f3a"
             ],
             [
              0.8888888888888888,
              "#fdca26"
             ],
             [
              1,
              "#f0f921"
             ]
            ],
            "type": "histogram2dcontour"
           }
          ],
          "mesh3d": [
           {
            "colorbar": {
             "outlinewidth": 0,
             "ticks": ""
            },
            "type": "mesh3d"
           }
          ],
          "parcoords": [
           {
            "line": {
             "colorbar": {
              "outlinewidth": 0,
              "ticks": ""
             }
            },
            "type": "parcoords"
           }
          ],
          "pie": [
           {
            "automargin": true,
            "type": "pie"
           }
          ],
          "scatter": [
           {
            "fillpattern": {
             "fillmode": "overlay",
             "size": 10,
             "solidity": 0.2
            },
            "type": "scatter"
           }
          ],
          "scatter3d": [
           {
            "line": {
             "colorbar": {
              "outlinewidth": 0,
              "ticks": ""
             }
            },
            "marker": {
             "colorbar": {
              "outlinewidth": 0,
              "ticks": ""
             }
            },
            "type": "scatter3d"
           }
          ],
          "scattercarpet": [
           {
            "marker": {
             "colorbar": {
              "outlinewidth": 0,
              "ticks": ""
             }
            },
            "type": "scattercarpet"
           }
          ],
          "scattergeo": [
           {
            "marker": {
             "colorbar": {
              "outlinewidth": 0,
              "ticks": ""
             }
            },
            "type": "scattergeo"
           }
          ],
          "scattergl": [
           {
            "marker": {
             "colorbar": {
              "outlinewidth": 0,
              "ticks": ""
             }
            },
            "type": "scattergl"
           }
          ],
          "scattermapbox": [
           {
            "marker": {
             "colorbar": {
              "outlinewidth": 0,
              "ticks": ""
             }
            },
            "type": "scattermapbox"
           }
          ],
          "scatterpolar": [
           {
            "marker": {
             "colorbar": {
              "outlinewidth": 0,
              "ticks": ""
             }
            },
            "type": "scatterpolar"
           }
          ],
          "scatterpolargl": [
           {
            "marker": {
             "colorbar": {
              "outlinewidth": 0,
              "ticks": ""
             }
            },
            "type": "scatterpolargl"
           }
          ],
          "scatterternary": [
           {
            "marker": {
             "colorbar": {
              "outlinewidth": 0,
              "ticks": ""
             }
            },
            "type": "scatterternary"
           }
          ],
          "surface": [
           {
            "colorbar": {
             "outlinewidth": 0,
             "ticks": ""
            },
            "colorscale": [
             [
              0,
              "#0d0887"
             ],
             [
              0.1111111111111111,
              "#46039f"
             ],
             [
              0.2222222222222222,
              "#7201a8"
             ],
             [
              0.3333333333333333,
              "#9c179e"
             ],
             [
              0.4444444444444444,
              "#bd3786"
             ],
             [
              0.5555555555555556,
              "#d8576b"
             ],
             [
              0.6666666666666666,
              "#ed7953"
             ],
             [
              0.7777777777777778,
              "#fb9f3a"
             ],
             [
              0.8888888888888888,
              "#fdca26"
             ],
             [
              1,
              "#f0f921"
             ]
            ],
            "type": "surface"
           }
          ],
          "table": [
           {
            "cells": {
             "fill": {
              "color": "#EBF0F8"
             },
             "line": {
              "color": "white"
             }
            },
            "header": {
             "fill": {
              "color": "#C8D4E3"
             },
             "line": {
              "color": "white"
             }
            },
            "type": "table"
           }
          ]
         },
         "layout": {
          "annotationdefaults": {
           "arrowcolor": "#2a3f5f",
           "arrowhead": 0,
           "arrowwidth": 1
          },
          "autotypenumbers": "strict",
          "coloraxis": {
           "colorbar": {
            "outlinewidth": 0,
            "ticks": ""
           }
          },
          "colorscale": {
           "diverging": [
            [
             0,
             "#8e0152"
            ],
            [
             0.1,
             "#c51b7d"
            ],
            [
             0.2,
             "#de77ae"
            ],
            [
             0.3,
             "#f1b6da"
            ],
            [
             0.4,
             "#fde0ef"
            ],
            [
             0.5,
             "#f7f7f7"
            ],
            [
             0.6,
             "#e6f5d0"
            ],
            [
             0.7,
             "#b8e186"
            ],
            [
             0.8,
             "#7fbc41"
            ],
            [
             0.9,
             "#4d9221"
            ],
            [
             1,
             "#276419"
            ]
           ],
           "sequential": [
            [
             0,
             "#0d0887"
            ],
            [
             0.1111111111111111,
             "#46039f"
            ],
            [
             0.2222222222222222,
             "#7201a8"
            ],
            [
             0.3333333333333333,
             "#9c179e"
            ],
            [
             0.4444444444444444,
             "#bd3786"
            ],
            [
             0.5555555555555556,
             "#d8576b"
            ],
            [
             0.6666666666666666,
             "#ed7953"
            ],
            [
             0.7777777777777778,
             "#fb9f3a"
            ],
            [
             0.8888888888888888,
             "#fdca26"
            ],
            [
             1,
             "#f0f921"
            ]
           ],
           "sequentialminus": [
            [
             0,
             "#0d0887"
            ],
            [
             0.1111111111111111,
             "#46039f"
            ],
            [
             0.2222222222222222,
             "#7201a8"
            ],
            [
             0.3333333333333333,
             "#9c179e"
            ],
            [
             0.4444444444444444,
             "#bd3786"
            ],
            [
             0.5555555555555556,
             "#d8576b"
            ],
            [
             0.6666666666666666,
             "#ed7953"
            ],
            [
             0.7777777777777778,
             "#fb9f3a"
            ],
            [
             0.8888888888888888,
             "#fdca26"
            ],
            [
             1,
             "#f0f921"
            ]
           ]
          },
          "colorway": [
           "#636efa",
           "#EF553B",
           "#00cc96",
           "#ab63fa",
           "#FFA15A",
           "#19d3f3",
           "#FF6692",
           "#B6E880",
           "#FF97FF",
           "#FECB52"
          ],
          "font": {
           "color": "#2a3f5f"
          },
          "geo": {
           "bgcolor": "white",
           "lakecolor": "white",
           "landcolor": "#E5ECF6",
           "showlakes": true,
           "showland": true,
           "subunitcolor": "white"
          },
          "hoverlabel": {
           "align": "left"
          },
          "hovermode": "closest",
          "mapbox": {
           "style": "light"
          },
          "paper_bgcolor": "white",
          "plot_bgcolor": "#E5ECF6",
          "polar": {
           "angularaxis": {
            "gridcolor": "white",
            "linecolor": "white",
            "ticks": ""
           },
           "bgcolor": "#E5ECF6",
           "radialaxis": {
            "gridcolor": "white",
            "linecolor": "white",
            "ticks": ""
           }
          },
          "scene": {
           "xaxis": {
            "backgroundcolor": "#E5ECF6",
            "gridcolor": "white",
            "gridwidth": 2,
            "linecolor": "white",
            "showbackground": true,
            "ticks": "",
            "zerolinecolor": "white"
           },
           "yaxis": {
            "backgroundcolor": "#E5ECF6",
            "gridcolor": "white",
            "gridwidth": 2,
            "linecolor": "white",
            "showbackground": true,
            "ticks": "",
            "zerolinecolor": "white"
           },
           "zaxis": {
            "backgroundcolor": "#E5ECF6",
            "gridcolor": "white",
            "gridwidth": 2,
            "linecolor": "white",
            "showbackground": true,
            "ticks": "",
            "zerolinecolor": "white"
           }
          },
          "shapedefaults": {
           "line": {
            "color": "#2a3f5f"
           }
          },
          "ternary": {
           "aaxis": {
            "gridcolor": "white",
            "linecolor": "white",
            "ticks": ""
           },
           "baxis": {
            "gridcolor": "white",
            "linecolor": "white",
            "ticks": ""
           },
           "bgcolor": "#E5ECF6",
           "caxis": {
            "gridcolor": "white",
            "linecolor": "white",
            "ticks": ""
           }
          },
          "title": {
           "x": 0.05
          },
          "xaxis": {
           "automargin": true,
           "gridcolor": "white",
           "linecolor": "white",
           "ticks": "",
           "title": {
            "standoff": 15
           },
           "zerolinecolor": "white",
           "zerolinewidth": 2
          },
          "yaxis": {
           "automargin": true,
           "gridcolor": "white",
           "linecolor": "white",
           "ticks": "",
           "title": {
            "standoff": 15
           },
           "zerolinecolor": "white",
           "zerolinewidth": 2
          }
         }
        },
        "title": {
         "text": "Gary C Peters Growth Rates MMC"
        },
        "width": 800,
        "xaxis": {
         "anchor": "y",
         "domain": [
          0,
          1
         ],
         "title": {
          "text": "date"
         }
        },
        "yaxis": {
         "anchor": "x",
         "domain": [
          0,
          1
         ],
         "title": {
          "text": "Growth Rate"
         }
        }
       }
      }
     },
     "metadata": {},
     "output_type": "display_data"
    }
   ],
   "source": [
    "\n",
    "def graphRandomPurcahse_alpha(randomState):\n",
    "    randomSenator,  randomDate, randomticker = generateRandomPurchase(randomState)\n",
    "\n",
    "    graphAlphaGrowth_fromSource(randomSenator,  randomDate, randomticker)\n",
    "\n",
    "graphRandomPurcahse_alpha(761)"
   ]
  },
  {
   "cell_type": "markdown",
   "metadata": {},
   "source": [
    "# Finding Measurement Window\n"
   ]
  },
  {
   "cell_type": "code",
   "execution_count": 78,
   "metadata": {},
   "outputs": [
    {
     "name": "stdout",
     "output_type": "stream",
     "text": [
      "     transaction_date ticker                     asset_description  \\\n",
      "5573       2017-09-08  SGAPY  Singapore Telecommunications Limited   \n",
      "\n",
      "               senator  senatorId  \n",
      "5573  Shelley M Capito        110  \n"
     ]
    },
    {
     "data": {
      "text/html": [
       "<div>\n",
       "<style scoped>\n",
       "    .dataframe tbody tr th:only-of-type {\n",
       "        vertical-align: middle;\n",
       "    }\n",
       "\n",
       "    .dataframe tbody tr th {\n",
       "        vertical-align: top;\n",
       "    }\n",
       "\n",
       "    .dataframe thead th {\n",
       "        text-align: right;\n",
       "    }\n",
       "</style>\n",
       "<table border=\"1\" class=\"dataframe\">\n",
       "  <thead>\n",
       "    <tr style=\"text-align: right;\">\n",
       "      <th></th>\n",
       "      <th>transaction_date</th>\n",
       "      <th>owner</th>\n",
       "      <th>ticker</th>\n",
       "      <th>asset_description</th>\n",
       "      <th>asset_type</th>\n",
       "      <th>type</th>\n",
       "      <th>amount</th>\n",
       "      <th>comment</th>\n",
       "      <th>senator</th>\n",
       "      <th>ptr_link</th>\n",
       "      <th>disclosure_date</th>\n",
       "      <th>id</th>\n",
       "      <th>senatorId</th>\n",
       "    </tr>\n",
       "  </thead>\n",
       "  <tbody>\n",
       "    <tr>\n",
       "      <th>5234</th>\n",
       "      <td>2017-12-19</td>\n",
       "      <td>Spouse</td>\n",
       "      <td>SGAPY</td>\n",
       "      <td>Singapore Telecommunications Limited</td>\n",
       "      <td>Stock</td>\n",
       "      <td>Sale (Full)</td>\n",
       "      <td>$1,001 - $15,000</td>\n",
       "      <td>--</td>\n",
       "      <td>Shelley M Capito</td>\n",
       "      <td>https://efdsearch.senate.gov/search/view/ptr/a...</td>\n",
       "      <td>01/10/2018</td>\n",
       "      <td>5233</td>\n",
       "      <td>110</td>\n",
       "    </tr>\n",
       "    <tr>\n",
       "      <th>5573</th>\n",
       "      <td>2017-09-08</td>\n",
       "      <td>Spouse</td>\n",
       "      <td>SGAPY</td>\n",
       "      <td>Singapore Telecommunications Limited</td>\n",
       "      <td>Stock</td>\n",
       "      <td>Purchase</td>\n",
       "      <td>$1,001 - $15,000</td>\n",
       "      <td>--</td>\n",
       "      <td>Shelley M Capito</td>\n",
       "      <td>https://efdsearch.senate.gov/search/view/ptr/2...</td>\n",
       "      <td>10/06/2017</td>\n",
       "      <td>5573</td>\n",
       "      <td>110</td>\n",
       "    </tr>\n",
       "  </tbody>\n",
       "</table>\n",
       "</div>"
      ],
      "text/plain": [
       "     transaction_date   owner ticker                     asset_description  \\\n",
       "5234       2017-12-19  Spouse  SGAPY  Singapore Telecommunications Limited   \n",
       "5573       2017-09-08  Spouse  SGAPY  Singapore Telecommunications Limited   \n",
       "\n",
       "     asset_type         type            amount comment           senator  \\\n",
       "5234      Stock  Sale (Full)  $1,001 - $15,000      --  Shelley M Capito   \n",
       "5573      Stock     Purchase  $1,001 - $15,000      --  Shelley M Capito   \n",
       "\n",
       "                                               ptr_link disclosure_date    id  \\\n",
       "5234  https://efdsearch.senate.gov/search/view/ptr/a...      01/10/2018  5233   \n",
       "5573  https://efdsearch.senate.gov/search/view/ptr/2...      10/06/2017  5573   \n",
       "\n",
       "      senatorId  \n",
       "5234        110  \n",
       "5573        110  "
      ]
     },
     "execution_count": 78,
     "metadata": {},
     "output_type": "execute_result"
    }
   ],
   "source": [
    "randomSenator,  randomDate, randomticker = generateRandomPurchase(456)\n",
    "findRelevantTransactions(randomSenator,  randomDate, randomticker)"
   ]
  },
  {
   "cell_type": "code",
   "execution_count": 92,
   "metadata": {},
   "outputs": [
    {
     "data": {
      "text/html": [
       "<div>\n",
       "<style scoped>\n",
       "    .dataframe tbody tr th:only-of-type {\n",
       "        vertical-align: middle;\n",
       "    }\n",
       "\n",
       "    .dataframe tbody tr th {\n",
       "        vertical-align: top;\n",
       "    }\n",
       "\n",
       "    .dataframe thead th {\n",
       "        text-align: right;\n",
       "    }\n",
       "</style>\n",
       "<table border=\"1\" class=\"dataframe\">\n",
       "  <thead>\n",
       "    <tr style=\"text-align: right;\">\n",
       "      <th></th>\n",
       "      <th>transaction_date</th>\n",
       "      <th>owner</th>\n",
       "      <th>ticker</th>\n",
       "      <th>asset_description</th>\n",
       "      <th>asset_type</th>\n",
       "      <th>type</th>\n",
       "      <th>amount</th>\n",
       "      <th>comment</th>\n",
       "      <th>senator</th>\n",
       "      <th>ptr_link</th>\n",
       "      <th>disclosure_date</th>\n",
       "      <th>id</th>\n",
       "      <th>senatorId</th>\n",
       "    </tr>\n",
       "  </thead>\n",
       "  <tbody>\n",
       "    <tr>\n",
       "      <th>8458</th>\n",
       "      <td>2012-09-13</td>\n",
       "      <td>Spouse</td>\n",
       "      <td>DD</td>\n",
       "      <td>E. I. du Pont de Nemours and Company (NYSE)</td>\n",
       "      <td>Stock</td>\n",
       "      <td>Purchase</td>\n",
       "      <td>$1,001 - $15,000</td>\n",
       "      <td>--</td>\n",
       "      <td>Thomas R Carper</td>\n",
       "      <td>https://efdsearch.senate.gov/search/view/ptr/6...</td>\n",
       "      <td>05/13/2015</td>\n",
       "      <td>8458</td>\n",
       "      <td>101</td>\n",
       "    </tr>\n",
       "    <tr>\n",
       "      <th>8457</th>\n",
       "      <td>2012-12-17</td>\n",
       "      <td>Spouse</td>\n",
       "      <td>DD</td>\n",
       "      <td>E. I. du Pont de Nemours and Company (NYSE)</td>\n",
       "      <td>Stock</td>\n",
       "      <td>Purchase</td>\n",
       "      <td>$1,001 - $15,000</td>\n",
       "      <td>--</td>\n",
       "      <td>Thomas R Carper</td>\n",
       "      <td>https://efdsearch.senate.gov/search/view/ptr/6...</td>\n",
       "      <td>05/13/2015</td>\n",
       "      <td>8457</td>\n",
       "      <td>101</td>\n",
       "    </tr>\n",
       "    <tr>\n",
       "      <th>8456</th>\n",
       "      <td>2013-03-15</td>\n",
       "      <td>Spouse</td>\n",
       "      <td>DD</td>\n",
       "      <td>E. I. du Pont de Nemours and Company (NYSE)</td>\n",
       "      <td>Stock</td>\n",
       "      <td>Purchase</td>\n",
       "      <td>$1,001 - $15,000</td>\n",
       "      <td>--</td>\n",
       "      <td>Thomas R Carper</td>\n",
       "      <td>https://efdsearch.senate.gov/search/view/ptr/6...</td>\n",
       "      <td>05/13/2015</td>\n",
       "      <td>8456</td>\n",
       "      <td>101</td>\n",
       "    </tr>\n",
       "    <tr>\n",
       "      <th>8455</th>\n",
       "      <td>2013-06-13</td>\n",
       "      <td>Spouse</td>\n",
       "      <td>DD</td>\n",
       "      <td>E. I. du Pont de Nemours and Company (NYSE)</td>\n",
       "      <td>Stock</td>\n",
       "      <td>Purchase</td>\n",
       "      <td>$1,001 - $15,000</td>\n",
       "      <td>--</td>\n",
       "      <td>Thomas R Carper</td>\n",
       "      <td>https://efdsearch.senate.gov/search/view/ptr/6...</td>\n",
       "      <td>05/13/2015</td>\n",
       "      <td>8455</td>\n",
       "      <td>101</td>\n",
       "    </tr>\n",
       "    <tr>\n",
       "      <th>8454</th>\n",
       "      <td>2013-09-13</td>\n",
       "      <td>Spouse</td>\n",
       "      <td>DD</td>\n",
       "      <td>E. I. du Pont de Nemours and Company (NYSE)</td>\n",
       "      <td>Stock</td>\n",
       "      <td>Purchase</td>\n",
       "      <td>$1,001 - $15,000</td>\n",
       "      <td>--</td>\n",
       "      <td>Thomas R Carper</td>\n",
       "      <td>https://efdsearch.senate.gov/search/view/ptr/6...</td>\n",
       "      <td>05/13/2015</td>\n",
       "      <td>8454</td>\n",
       "      <td>101</td>\n",
       "    </tr>\n",
       "  </tbody>\n",
       "</table>\n",
       "</div>"
      ],
      "text/plain": [
       "     transaction_date   owner ticker  \\\n",
       "8458       2012-09-13  Spouse     DD   \n",
       "8457       2012-12-17  Spouse     DD   \n",
       "8456       2013-03-15  Spouse     DD   \n",
       "8455       2013-06-13  Spouse     DD   \n",
       "8454       2013-09-13  Spouse     DD   \n",
       "\n",
       "                                asset_description asset_type      type  \\\n",
       "8458  E. I. du Pont de Nemours and Company (NYSE)      Stock  Purchase   \n",
       "8457  E. I. du Pont de Nemours and Company (NYSE)      Stock  Purchase   \n",
       "8456  E. I. du Pont de Nemours and Company (NYSE)      Stock  Purchase   \n",
       "8455  E. I. du Pont de Nemours and Company (NYSE)      Stock  Purchase   \n",
       "8454  E. I. du Pont de Nemours and Company (NYSE)      Stock  Purchase   \n",
       "\n",
       "                amount comment          senator  \\\n",
       "8458  $1,001 - $15,000      --  Thomas R Carper   \n",
       "8457  $1,001 - $15,000      --  Thomas R Carper   \n",
       "8456  $1,001 - $15,000      --  Thomas R Carper   \n",
       "8455  $1,001 - $15,000      --  Thomas R Carper   \n",
       "8454  $1,001 - $15,000      --  Thomas R Carper   \n",
       "\n",
       "                                               ptr_link disclosure_date    id  \\\n",
       "8458  https://efdsearch.senate.gov/search/view/ptr/6...      05/13/2015  8458   \n",
       "8457  https://efdsearch.senate.gov/search/view/ptr/6...      05/13/2015  8457   \n",
       "8456  https://efdsearch.senate.gov/search/view/ptr/6...      05/13/2015  8456   \n",
       "8455  https://efdsearch.senate.gov/search/view/ptr/6...      05/13/2015  8455   \n",
       "8454  https://efdsearch.senate.gov/search/view/ptr/6...      05/13/2015  8454   \n",
       "\n",
       "      senatorId  \n",
       "8458        101  \n",
       "8457        101  \n",
       "8456        101  \n",
       "8455        101  \n",
       "8454        101  "
      ]
     },
     "execution_count": 92,
     "metadata": {},
     "output_type": "execute_result"
    }
   ],
   "source": [
    "purchases.sort_values(\"transaction_date\").head()"
   ]
  },
  {
   "cell_type": "code",
   "execution_count": 99,
   "metadata": {},
   "outputs": [
    {
     "data": {
      "application/vnd.plotly.v1+json": {
       "config": {
        "plotlyServerURL": "https://plot.ly"
       },
       "data": [
        {
         "hovertemplate": "transactionType=Purchase<br>date=%{x}<br>Growth Rate=%{y}<extra></extra>",
         "legendgroup": "Purchase",
         "marker": {
          "color": "#636efa",
          "symbol": "circle"
         },
         "mode": "markers",
         "name": "Purchase",
         "orientation": "v",
         "showlegend": true,
         "type": "scatter",
         "x": [
          "2012-09-14",
          "2012-12-21",
          "2013-03-15",
          "2013-06-14"
         ],
         "xaxis": "x",
         "y": [
          100,
          86.86878977183831,
          97.34981753617437,
          103.62259519469472
         ],
         "yaxis": "y"
        },
        {
         "line": {
          "color": "#EB4E4B"
         },
         "mode": "lines",
         "name": "DD Growth Rate",
         "type": "scatter",
         "x": [
          "2012-09-14",
          "2012-09-21",
          "2012-09-28",
          "2012-10-05",
          "2012-10-12",
          "2012-10-19",
          "2012-10-26",
          "2012-11-02",
          "2012-11-09",
          "2012-11-16",
          "2012-11-23",
          "2012-11-30",
          "2012-12-07",
          "2012-12-14",
          "2012-12-21",
          "2012-12-28",
          "2013-01-04",
          "2013-01-11",
          "2013-01-18",
          "2013-01-25",
          "2013-02-01",
          "2013-02-08",
          "2013-02-15",
          "2013-02-22",
          "2013-03-01",
          "2013-03-08",
          "2013-03-15",
          "2013-03-22",
          "2013-03-28",
          "2013-04-05",
          "2013-04-12",
          "2013-04-19",
          "2013-04-26",
          "2013-05-03",
          "2013-05-10",
          "2013-05-17",
          "2013-05-24",
          "2013-05-31",
          "2013-06-07",
          "2013-06-14",
          "2013-06-21",
          "2013-06-28",
          "2013-07-05",
          "2013-07-12",
          "2013-07-19",
          "2013-07-26",
          "2013-08-02",
          "2013-08-09",
          "2013-08-16",
          "2013-08-23",
          "2013-08-30"
         ],
         "y": [
          100,
          99.15771932952275,
          96.22895965906126,
          96.38201339644677,
          93.20438980434103,
          94.44870941256227,
          86.48542775608908,
          84.51379969850109,
          82.9632513367946,
          81.10708061517411,
          83.3692924721089,
          83.40785910324091,
          83.48523492293342,
          85.24462523058112,
          86.86878977183831,
          86.44334404224377,
          88.41545721468876,
          89.22753948531737,
          90.8515827478603,
          93.44233864170262,
          92.76572469489304,
          91.83757869472568,
          91.57513155708524,
          92.16042263206339,
          93.81866649202529,
          95.88658984872903,
          97.34981753617437,
          96.12065776723459,
          95.90611572172354,
          94.98912736326731,
          97.19373183093259,
          95.9645720619928,
          103.20248572852726,
          105.23135733924198,
          108.19674318140746,
          109.9367288947749,
          108.87456991535953,
          109.74001482025882,
          109.05163683816684,
          103.62259519469472,
          104.07508607756739,
          103.26858262779436,
          104.25203172166044,
          107.0255546378799,
          112.39553354751149,
          113.41839822350934,
          117.8638694944011,
          117.5097356487865,
          115.50184525563729,
          114.7488257188492,
          112.21203885284886
         ]
        },
        {
         "line": {
          "color": "#349FEB"
         },
         "mode": "lines",
         "name": "SPY Growth Rate",
         "type": "scatter",
         "x": [
          "2012-09-14",
          "2012-09-21",
          "2012-09-28",
          "2012-10-05",
          "2012-10-12",
          "2012-10-19",
          "2012-10-26",
          "2012-11-02",
          "2012-11-09",
          "2012-11-16",
          "2012-11-23",
          "2012-11-30",
          "2012-12-07",
          "2012-12-14",
          "2012-12-21",
          "2012-12-28",
          "2013-01-04",
          "2013-01-11",
          "2013-01-18",
          "2013-01-25",
          "2013-02-01",
          "2013-02-08",
          "2013-02-15",
          "2013-02-22",
          "2013-03-01",
          "2013-03-08",
          "2013-03-15",
          "2013-03-22",
          "2013-03-28",
          "2013-04-05",
          "2013-04-12",
          "2013-04-19",
          "2013-04-26",
          "2013-05-03",
          "2013-05-10",
          "2013-05-17",
          "2013-05-24",
          "2013-05-31",
          "2013-06-07",
          "2013-06-14",
          "2013-06-21",
          "2013-06-28",
          "2013-07-05",
          "2013-07-12",
          "2013-07-19",
          "2013-07-26",
          "2013-08-02",
          "2013-08-09",
          "2013-08-16",
          "2013-08-23",
          "2013-08-30"
         ],
         "y": [
          100,
          99.5989013708121,
          98.3015786608601,
          99.78324343049438,
          97.56421042213093,
          97.9055937711354,
          96.51267712508867,
          96.65610926906517,
          94.334554032431,
          93.11237030072087,
          96.51267712508867,
          97.05893997129706,
          97.23643621847215,
          97.02479338842976,
          98.19361277445111,
          96.295590636908,
          100.65546592764883,
          101.13689975421059,
          102.00334867455173,
          103.32368321208823,
          104.00447039804689,
          104.38956797149504,
          104.60277791524392,
          104.45151020273505,
          104.60277791524392,
          106.89274343874236,
          107.63802972567264,
          107.47909140396894,
          108.2181917157421,
          107.175236304251,
          109.6894640471124,
          107.39619933686349,
          109.30271688028903,
          111.46467395786941,
          112.87383909866222,
          115.31210306659412,
          114.18617310832882,
          112.90146978769734,
          113.8339024430478,
          112.71490077695852,
          110.45561769023938,
          111.39299912571553,
          113.19839659523929,
          116.31621055409845,
          117.46886392504251,
          117.42721169231788,
          118.70490424110459,
          117.56610745451248,
          115.14961811913365,
          115.69819039606739,
          113.6358687583511
         ]
        }
       ],
       "layout": {
        "height": 500,
        "legend": {
         "title": {
          "text": "transactionType"
         },
         "tracegroupgap": 0
        },
        "template": {
         "data": {
          "bar": [
           {
            "error_x": {
             "color": "#2a3f5f"
            },
            "error_y": {
             "color": "#2a3f5f"
            },
            "marker": {
             "line": {
              "color": "#E5ECF6",
              "width": 0.5
             },
             "pattern": {
              "fillmode": "overlay",
              "size": 10,
              "solidity": 0.2
             }
            },
            "type": "bar"
           }
          ],
          "barpolar": [
           {
            "marker": {
             "line": {
              "color": "#E5ECF6",
              "width": 0.5
             },
             "pattern": {
              "fillmode": "overlay",
              "size": 10,
              "solidity": 0.2
             }
            },
            "type": "barpolar"
           }
          ],
          "carpet": [
           {
            "aaxis": {
             "endlinecolor": "#2a3f5f",
             "gridcolor": "white",
             "linecolor": "white",
             "minorgridcolor": "white",
             "startlinecolor": "#2a3f5f"
            },
            "baxis": {
             "endlinecolor": "#2a3f5f",
             "gridcolor": "white",
             "linecolor": "white",
             "minorgridcolor": "white",
             "startlinecolor": "#2a3f5f"
            },
            "type": "carpet"
           }
          ],
          "choropleth": [
           {
            "colorbar": {
             "outlinewidth": 0,
             "ticks": ""
            },
            "type": "choropleth"
           }
          ],
          "contour": [
           {
            "colorbar": {
             "outlinewidth": 0,
             "ticks": ""
            },
            "colorscale": [
             [
              0,
              "#0d0887"
             ],
             [
              0.1111111111111111,
              "#46039f"
             ],
             [
              0.2222222222222222,
              "#7201a8"
             ],
             [
              0.3333333333333333,
              "#9c179e"
             ],
             [
              0.4444444444444444,
              "#bd3786"
             ],
             [
              0.5555555555555556,
              "#d8576b"
             ],
             [
              0.6666666666666666,
              "#ed7953"
             ],
             [
              0.7777777777777778,
              "#fb9f3a"
             ],
             [
              0.8888888888888888,
              "#fdca26"
             ],
             [
              1,
              "#f0f921"
             ]
            ],
            "type": "contour"
           }
          ],
          "contourcarpet": [
           {
            "colorbar": {
             "outlinewidth": 0,
             "ticks": ""
            },
            "type": "contourcarpet"
           }
          ],
          "heatmap": [
           {
            "colorbar": {
             "outlinewidth": 0,
             "ticks": ""
            },
            "colorscale": [
             [
              0,
              "#0d0887"
             ],
             [
              0.1111111111111111,
              "#46039f"
             ],
             [
              0.2222222222222222,
              "#7201a8"
             ],
             [
              0.3333333333333333,
              "#9c179e"
             ],
             [
              0.4444444444444444,
              "#bd3786"
             ],
             [
              0.5555555555555556,
              "#d8576b"
             ],
             [
              0.6666666666666666,
              "#ed7953"
             ],
             [
              0.7777777777777778,
              "#fb9f3a"
             ],
             [
              0.8888888888888888,
              "#fdca26"
             ],
             [
              1,
              "#f0f921"
             ]
            ],
            "type": "heatmap"
           }
          ],
          "heatmapgl": [
           {
            "colorbar": {
             "outlinewidth": 0,
             "ticks": ""
            },
            "colorscale": [
             [
              0,
              "#0d0887"
             ],
             [
              0.1111111111111111,
              "#46039f"
             ],
             [
              0.2222222222222222,
              "#7201a8"
             ],
             [
              0.3333333333333333,
              "#9c179e"
             ],
             [
              0.4444444444444444,
              "#bd3786"
             ],
             [
              0.5555555555555556,
              "#d8576b"
             ],
             [
              0.6666666666666666,
              "#ed7953"
             ],
             [
              0.7777777777777778,
              "#fb9f3a"
             ],
             [
              0.8888888888888888,
              "#fdca26"
             ],
             [
              1,
              "#f0f921"
             ]
            ],
            "type": "heatmapgl"
           }
          ],
          "histogram": [
           {
            "marker": {
             "pattern": {
              "fillmode": "overlay",
              "size": 10,
              "solidity": 0.2
             }
            },
            "type": "histogram"
           }
          ],
          "histogram2d": [
           {
            "colorbar": {
             "outlinewidth": 0,
             "ticks": ""
            },
            "colorscale": [
             [
              0,
              "#0d0887"
             ],
             [
              0.1111111111111111,
              "#46039f"
             ],
             [
              0.2222222222222222,
              "#7201a8"
             ],
             [
              0.3333333333333333,
              "#9c179e"
             ],
             [
              0.4444444444444444,
              "#bd3786"
             ],
             [
              0.5555555555555556,
              "#d8576b"
             ],
             [
              0.6666666666666666,
              "#ed7953"
             ],
             [
              0.7777777777777778,
              "#fb9f3a"
             ],
             [
              0.8888888888888888,
              "#fdca26"
             ],
             [
              1,
              "#f0f921"
             ]
            ],
            "type": "histogram2d"
           }
          ],
          "histogram2dcontour": [
           {
            "colorbar": {
             "outlinewidth": 0,
             "ticks": ""
            },
            "colorscale": [
             [
              0,
              "#0d0887"
             ],
             [
              0.1111111111111111,
              "#46039f"
             ],
             [
              0.2222222222222222,
              "#7201a8"
             ],
             [
              0.3333333333333333,
              "#9c179e"
             ],
             [
              0.4444444444444444,
              "#bd3786"
             ],
             [
              0.5555555555555556,
              "#d8576b"
             ],
             [
              0.6666666666666666,
              "#ed7953"
             ],
             [
              0.7777777777777778,
              "#fb9f3a"
             ],
             [
              0.8888888888888888,
              "#fdca26"
             ],
             [
              1,
              "#f0f921"
             ]
            ],
            "type": "histogram2dcontour"
           }
          ],
          "mesh3d": [
           {
            "colorbar": {
             "outlinewidth": 0,
             "ticks": ""
            },
            "type": "mesh3d"
           }
          ],
          "parcoords": [
           {
            "line": {
             "colorbar": {
              "outlinewidth": 0,
              "ticks": ""
             }
            },
            "type": "parcoords"
           }
          ],
          "pie": [
           {
            "automargin": true,
            "type": "pie"
           }
          ],
          "scatter": [
           {
            "fillpattern": {
             "fillmode": "overlay",
             "size": 10,
             "solidity": 0.2
            },
            "type": "scatter"
           }
          ],
          "scatter3d": [
           {
            "line": {
             "colorbar": {
              "outlinewidth": 0,
              "ticks": ""
             }
            },
            "marker": {
             "colorbar": {
              "outlinewidth": 0,
              "ticks": ""
             }
            },
            "type": "scatter3d"
           }
          ],
          "scattercarpet": [
           {
            "marker": {
             "colorbar": {
              "outlinewidth": 0,
              "ticks": ""
             }
            },
            "type": "scattercarpet"
           }
          ],
          "scattergeo": [
           {
            "marker": {
             "colorbar": {
              "outlinewidth": 0,
              "ticks": ""
             }
            },
            "type": "scattergeo"
           }
          ],
          "scattergl": [
           {
            "marker": {
             "colorbar": {
              "outlinewidth": 0,
              "ticks": ""
             }
            },
            "type": "scattergl"
           }
          ],
          "scattermapbox": [
           {
            "marker": {
             "colorbar": {
              "outlinewidth": 0,
              "ticks": ""
             }
            },
            "type": "scattermapbox"
           }
          ],
          "scatterpolar": [
           {
            "marker": {
             "colorbar": {
              "outlinewidth": 0,
              "ticks": ""
             }
            },
            "type": "scatterpolar"
           }
          ],
          "scatterpolargl": [
           {
            "marker": {
             "colorbar": {
              "outlinewidth": 0,
              "ticks": ""
             }
            },
            "type": "scatterpolargl"
           }
          ],
          "scatterternary": [
           {
            "marker": {
             "colorbar": {
              "outlinewidth": 0,
              "ticks": ""
             }
            },
            "type": "scatterternary"
           }
          ],
          "surface": [
           {
            "colorbar": {
             "outlinewidth": 0,
             "ticks": ""
            },
            "colorscale": [
             [
              0,
              "#0d0887"
             ],
             [
              0.1111111111111111,
              "#46039f"
             ],
             [
              0.2222222222222222,
              "#7201a8"
             ],
             [
              0.3333333333333333,
              "#9c179e"
             ],
             [
              0.4444444444444444,
              "#bd3786"
             ],
             [
              0.5555555555555556,
              "#d8576b"
             ],
             [
              0.6666666666666666,
              "#ed7953"
             ],
             [
              0.7777777777777778,
              "#fb9f3a"
             ],
             [
              0.8888888888888888,
              "#fdca26"
             ],
             [
              1,
              "#f0f921"
             ]
            ],
            "type": "surface"
           }
          ],
          "table": [
           {
            "cells": {
             "fill": {
              "color": "#EBF0F8"
             },
             "line": {
              "color": "white"
             }
            },
            "header": {
             "fill": {
              "color": "#C8D4E3"
             },
             "line": {
              "color": "white"
             }
            },
            "type": "table"
           }
          ]
         },
         "layout": {
          "annotationdefaults": {
           "arrowcolor": "#2a3f5f",
           "arrowhead": 0,
           "arrowwidth": 1
          },
          "autotypenumbers": "strict",
          "coloraxis": {
           "colorbar": {
            "outlinewidth": 0,
            "ticks": ""
           }
          },
          "colorscale": {
           "diverging": [
            [
             0,
             "#8e0152"
            ],
            [
             0.1,
             "#c51b7d"
            ],
            [
             0.2,
             "#de77ae"
            ],
            [
             0.3,
             "#f1b6da"
            ],
            [
             0.4,
             "#fde0ef"
            ],
            [
             0.5,
             "#f7f7f7"
            ],
            [
             0.6,
             "#e6f5d0"
            ],
            [
             0.7,
             "#b8e186"
            ],
            [
             0.8,
             "#7fbc41"
            ],
            [
             0.9,
             "#4d9221"
            ],
            [
             1,
             "#276419"
            ]
           ],
           "sequential": [
            [
             0,
             "#0d0887"
            ],
            [
             0.1111111111111111,
             "#46039f"
            ],
            [
             0.2222222222222222,
             "#7201a8"
            ],
            [
             0.3333333333333333,
             "#9c179e"
            ],
            [
             0.4444444444444444,
             "#bd3786"
            ],
            [
             0.5555555555555556,
             "#d8576b"
            ],
            [
             0.6666666666666666,
             "#ed7953"
            ],
            [
             0.7777777777777778,
             "#fb9f3a"
            ],
            [
             0.8888888888888888,
             "#fdca26"
            ],
            [
             1,
             "#f0f921"
            ]
           ],
           "sequentialminus": [
            [
             0,
             "#0d0887"
            ],
            [
             0.1111111111111111,
             "#46039f"
            ],
            [
             0.2222222222222222,
             "#7201a8"
            ],
            [
             0.3333333333333333,
             "#9c179e"
            ],
            [
             0.4444444444444444,
             "#bd3786"
            ],
            [
             0.5555555555555556,
             "#d8576b"
            ],
            [
             0.6666666666666666,
             "#ed7953"
            ],
            [
             0.7777777777777778,
             "#fb9f3a"
            ],
            [
             0.8888888888888888,
             "#fdca26"
            ],
            [
             1,
             "#f0f921"
            ]
           ]
          },
          "colorway": [
           "#636efa",
           "#EF553B",
           "#00cc96",
           "#ab63fa",
           "#FFA15A",
           "#19d3f3",
           "#FF6692",
           "#B6E880",
           "#FF97FF",
           "#FECB52"
          ],
          "font": {
           "color": "#2a3f5f"
          },
          "geo": {
           "bgcolor": "white",
           "lakecolor": "white",
           "landcolor": "#E5ECF6",
           "showlakes": true,
           "showland": true,
           "subunitcolor": "white"
          },
          "hoverlabel": {
           "align": "left"
          },
          "hovermode": "closest",
          "mapbox": {
           "style": "light"
          },
          "paper_bgcolor": "white",
          "plot_bgcolor": "#E5ECF6",
          "polar": {
           "angularaxis": {
            "gridcolor": "white",
            "linecolor": "white",
            "ticks": ""
           },
           "bgcolor": "#E5ECF6",
           "radialaxis": {
            "gridcolor": "white",
            "linecolor": "white",
            "ticks": ""
           }
          },
          "scene": {
           "xaxis": {
            "backgroundcolor": "#E5ECF6",
            "gridcolor": "white",
            "gridwidth": 2,
            "linecolor": "white",
            "showbackground": true,
            "ticks": "",
            "zerolinecolor": "white"
           },
           "yaxis": {
            "backgroundcolor": "#E5ECF6",
            "gridcolor": "white",
            "gridwidth": 2,
            "linecolor": "white",
            "showbackground": true,
            "ticks": "",
            "zerolinecolor": "white"
           },
           "zaxis": {
            "backgroundcolor": "#E5ECF6",
            "gridcolor": "white",
            "gridwidth": 2,
            "linecolor": "white",
            "showbackground": true,
            "ticks": "",
            "zerolinecolor": "white"
           }
          },
          "shapedefaults": {
           "line": {
            "color": "#2a3f5f"
           }
          },
          "ternary": {
           "aaxis": {
            "gridcolor": "white",
            "linecolor": "white",
            "ticks": ""
           },
           "baxis": {
            "gridcolor": "white",
            "linecolor": "white",
            "ticks": ""
           },
           "bgcolor": "#E5ECF6",
           "caxis": {
            "gridcolor": "white",
            "linecolor": "white",
            "ticks": ""
           }
          },
          "title": {
           "x": 0.05
          },
          "xaxis": {
           "automargin": true,
           "gridcolor": "white",
           "linecolor": "white",
           "ticks": "",
           "title": {
            "standoff": 15
           },
           "zerolinecolor": "white",
           "zerolinewidth": 2
          },
          "yaxis": {
           "automargin": true,
           "gridcolor": "white",
           "linecolor": "white",
           "ticks": "",
           "title": {
            "standoff": 15
           },
           "zerolinecolor": "white",
           "zerolinewidth": 2
          }
         }
        },
        "title": {
         "text": "Thomas R Carper Growth Rates DD"
        },
        "width": 800,
        "xaxis": {
         "anchor": "y",
         "domain": [
          0,
          1
         ],
         "title": {
          "text": "date"
         }
        },
        "yaxis": {
         "anchor": "x",
         "domain": [
          0,
          1
         ],
         "title": {
          "text": "Growth Rate"
         }
        }
       }
      }
     },
     "metadata": {},
     "output_type": "display_data"
    }
   ],
   "source": [
    "graphAlphaGrowth_fromSource(101, '2012-09-13','DD')\n"
   ]
  },
  {
   "cell_type": "markdown",
   "metadata": {},
   "source": [
    "Observe the multiple purcahses of DD made by Thomas Carper in 2012. His first purchase in September did not result in a growth rate more than the market average. "
   ]
  },
  {
   "cell_type": "code",
   "execution_count": 106,
   "metadata": {},
   "outputs": [
    {
     "data": {
      "application/vnd.plotly.v1+json": {
       "config": {
        "plotlyServerURL": "https://plot.ly"
       },
       "data": [
        {
         "hovertemplate": "transactionType=Purchase<br>date=%{x}<br>Growth Rate=%{y}<extra></extra>",
         "legendgroup": "Purchase",
         "marker": {
          "color": "#636efa",
          "symbol": "circle"
         },
         "mode": "markers",
         "name": "Purchase",
         "orientation": "v",
         "showlegend": true,
         "type": "scatter",
         "x": [
          "2012-12-21",
          "2013-03-15",
          "2013-06-14",
          "2013-09-13"
         ],
         "xaxis": "x",
         "y": [
          100,
          112.06535487816114,
          119.28633455912117,
          134.3301585706028
         ],
         "yaxis": "y"
        },
        {
         "line": {
          "color": "#EB4E4B"
         },
         "mode": "lines",
         "name": "DD Growth Rate",
         "type": "scatter",
         "x": [
          "2012-12-21",
          "2012-12-28",
          "2013-01-04",
          "2013-01-11",
          "2013-01-18",
          "2013-01-25",
          "2013-02-01",
          "2013-02-08",
          "2013-02-15",
          "2013-02-22",
          "2013-03-01",
          "2013-03-08",
          "2013-03-15",
          "2013-03-22",
          "2013-03-28",
          "2013-04-05",
          "2013-04-12",
          "2013-04-19",
          "2013-04-26",
          "2013-05-03",
          "2013-05-10",
          "2013-05-17",
          "2013-05-24",
          "2013-05-31",
          "2013-06-07",
          "2013-06-14",
          "2013-06-21",
          "2013-06-28",
          "2013-07-05",
          "2013-07-12",
          "2013-07-19",
          "2013-07-26",
          "2013-08-02",
          "2013-08-09",
          "2013-08-16",
          "2013-08-23",
          "2013-08-30",
          "2013-09-06",
          "2013-09-13",
          "2013-09-20",
          "2013-09-27",
          "2013-10-04",
          "2013-10-11",
          "2013-10-18",
          "2013-10-25",
          "2013-11-01",
          "2013-11-08",
          "2013-11-15",
          "2013-11-22",
          "2013-11-29",
          "2013-12-06"
         ],
         "y": [
          100,
          99.51024328678692,
          101.78046390068606,
          102.71530168622623,
          104.58483764592879,
          107.5672158978268,
          106.78832402125443,
          105.71987814718948,
          105.4177591256977,
          106.09152363481014,
          108.00043000304353,
          110.38094360538007,
          112.06535487816114,
          110.65039356447393,
          110.40342103720084,
          109.34781940989062,
          111.88567503497264,
          110.47071372128542,
          118.80272074652994,
          121.1382794852249,
          124.55191728305088,
          126.55492171990045,
          125.33220527340092,
          126.32847206515937,
          125.53603788494343,
          119.28633455912117,
          119.80722460957674,
          118.87880894741392,
          120.01091760974145,
          123.20369020793713,
          129.38540279278592,
          130.56288515288836,
          135.68034020500525,
          135.27267498192026,
          132.9612690115793,
          132.09442196701255,
          129.17417077822168,
          130.2920390800168,
          134.3301585706028,
          135.56208936803506,
          134.62669313698382,
          133.80549901294748,
          132.16283154211928,
          136.0184789619614,
          141.2201196748729,
          139.37208386734673,
          141.4482446661472,
          142.74551358837527,
          141.80327639981334,
          141.06780366172708,
          140.97579976377742
         ]
        },
        {
         "line": {
          "color": "#349FEB"
         },
         "mode": "lines",
         "name": "SPY Growth Rate",
         "type": "scatter",
         "x": [
          "2012-12-21",
          "2012-12-28",
          "2013-01-04",
          "2013-01-11",
          "2013-01-18",
          "2013-01-25",
          "2013-02-01",
          "2013-02-08",
          "2013-02-15",
          "2013-02-22",
          "2013-03-01",
          "2013-03-08",
          "2013-03-15",
          "2013-03-22",
          "2013-03-28",
          "2013-04-05",
          "2013-04-12",
          "2013-04-19",
          "2013-04-26",
          "2013-05-03",
          "2013-05-10",
          "2013-05-17",
          "2013-05-24",
          "2013-05-31",
          "2013-06-07",
          "2013-06-14",
          "2013-06-21",
          "2013-06-28",
          "2013-07-05",
          "2013-07-12",
          "2013-07-19",
          "2013-07-26",
          "2013-08-02",
          "2013-08-09",
          "2013-08-16",
          "2013-08-23",
          "2013-08-30",
          "2013-09-06",
          "2013-09-13",
          "2013-09-20",
          "2013-09-27",
          "2013-10-04",
          "2013-10-11",
          "2013-10-18",
          "2013-10-25",
          "2013-11-01",
          "2013-11-08",
          "2013-11-15",
          "2013-11-22",
          "2013-11-29",
          "2013-12-06"
         ],
         "y": [
          100,
          98.06706150846814,
          102.5071418431793,
          102.99743221233763,
          103.87982048165547,
          105.2244441289891,
          105.91775519752309,
          106.30993709466208,
          106.52706928658847,
          106.37301882624303,
          106.52706928658847,
          108.85916142455517,
          109.61815813103361,
          109.45629595159758,
          110.20899288461588,
          109.14685107923518,
          111.70733100437708,
          109.37187898723164,
          111.31346916764875,
          113.51519799348017,
          114.95028638770152,
          117.43340509475281,
          116.2867623280267,
          114.97842537582349,
          115.92801122871623,
          114.7884242082655,
          112.48757894666109,
          113.44220461832194,
          115.28081450191051,
          118.45598432280376,
          119.6298421108777,
          119.58742363624604,
          120.8886208451944,
          119.72887454967119,
          117.2679310451996,
          117.82659495564539,
          115.72633448101207,
          117.41643770490012,
          119.74298604222191,
          121.31851738611478,
          120.03227163951183,
          120.01807614998165,
          120.99160114202293,
          123.92653960163592,
          125.03513173666275,
          125.21984109451427,
          125.987321495919,
          127.94865096651125,
          128.48875154449445,
          128.62381868748,
          128.58114822190996
         ]
        }
       ],
       "layout": {
        "height": 500,
        "legend": {
         "title": {
          "text": "transactionType"
         },
         "tracegroupgap": 0
        },
        "template": {
         "data": {
          "bar": [
           {
            "error_x": {
             "color": "#2a3f5f"
            },
            "error_y": {
             "color": "#2a3f5f"
            },
            "marker": {
             "line": {
              "color": "#E5ECF6",
              "width": 0.5
             },
             "pattern": {
              "fillmode": "overlay",
              "size": 10,
              "solidity": 0.2
             }
            },
            "type": "bar"
           }
          ],
          "barpolar": [
           {
            "marker": {
             "line": {
              "color": "#E5ECF6",
              "width": 0.5
             },
             "pattern": {
              "fillmode": "overlay",
              "size": 10,
              "solidity": 0.2
             }
            },
            "type": "barpolar"
           }
          ],
          "carpet": [
           {
            "aaxis": {
             "endlinecolor": "#2a3f5f",
             "gridcolor": "white",
             "linecolor": "white",
             "minorgridcolor": "white",
             "startlinecolor": "#2a3f5f"
            },
            "baxis": {
             "endlinecolor": "#2a3f5f",
             "gridcolor": "white",
             "linecolor": "white",
             "minorgridcolor": "white",
             "startlinecolor": "#2a3f5f"
            },
            "type": "carpet"
           }
          ],
          "choropleth": [
           {
            "colorbar": {
             "outlinewidth": 0,
             "ticks": ""
            },
            "type": "choropleth"
           }
          ],
          "contour": [
           {
            "colorbar": {
             "outlinewidth": 0,
             "ticks": ""
            },
            "colorscale": [
             [
              0,
              "#0d0887"
             ],
             [
              0.1111111111111111,
              "#46039f"
             ],
             [
              0.2222222222222222,
              "#7201a8"
             ],
             [
              0.3333333333333333,
              "#9c179e"
             ],
             [
              0.4444444444444444,
              "#bd3786"
             ],
             [
              0.5555555555555556,
              "#d8576b"
             ],
             [
              0.6666666666666666,
              "#ed7953"
             ],
             [
              0.7777777777777778,
              "#fb9f3a"
             ],
             [
              0.8888888888888888,
              "#fdca26"
             ],
             [
              1,
              "#f0f921"
             ]
            ],
            "type": "contour"
           }
          ],
          "contourcarpet": [
           {
            "colorbar": {
             "outlinewidth": 0,
             "ticks": ""
            },
            "type": "contourcarpet"
           }
          ],
          "heatmap": [
           {
            "colorbar": {
             "outlinewidth": 0,
             "ticks": ""
            },
            "colorscale": [
             [
              0,
              "#0d0887"
             ],
             [
              0.1111111111111111,
              "#46039f"
             ],
             [
              0.2222222222222222,
              "#7201a8"
             ],
             [
              0.3333333333333333,
              "#9c179e"
             ],
             [
              0.4444444444444444,
              "#bd3786"
             ],
             [
              0.5555555555555556,
              "#d8576b"
             ],
             [
              0.6666666666666666,
              "#ed7953"
             ],
             [
              0.7777777777777778,
              "#fb9f3a"
             ],
             [
              0.8888888888888888,
              "#fdca26"
             ],
             [
              1,
              "#f0f921"
             ]
            ],
            "type": "heatmap"
           }
          ],
          "heatmapgl": [
           {
            "colorbar": {
             "outlinewidth": 0,
             "ticks": ""
            },
            "colorscale": [
             [
              0,
              "#0d0887"
             ],
             [
              0.1111111111111111,
              "#46039f"
             ],
             [
              0.2222222222222222,
              "#7201a8"
             ],
             [
              0.3333333333333333,
              "#9c179e"
             ],
             [
              0.4444444444444444,
              "#bd3786"
             ],
             [
              0.5555555555555556,
              "#d8576b"
             ],
             [
              0.6666666666666666,
              "#ed7953"
             ],
             [
              0.7777777777777778,
              "#fb9f3a"
             ],
             [
              0.8888888888888888,
              "#fdca26"
             ],
             [
              1,
              "#f0f921"
             ]
            ],
            "type": "heatmapgl"
           }
          ],
          "histogram": [
           {
            "marker": {
             "pattern": {
              "fillmode": "overlay",
              "size": 10,
              "solidity": 0.2
             }
            },
            "type": "histogram"
           }
          ],
          "histogram2d": [
           {
            "colorbar": {
             "outlinewidth": 0,
             "ticks": ""
            },
            "colorscale": [
             [
              0,
              "#0d0887"
             ],
             [
              0.1111111111111111,
              "#46039f"
             ],
             [
              0.2222222222222222,
              "#7201a8"
             ],
             [
              0.3333333333333333,
              "#9c179e"
             ],
             [
              0.4444444444444444,
              "#bd3786"
             ],
             [
              0.5555555555555556,
              "#d8576b"
             ],
             [
              0.6666666666666666,
              "#ed7953"
             ],
             [
              0.7777777777777778,
              "#fb9f3a"
             ],
             [
              0.8888888888888888,
              "#fdca26"
             ],
             [
              1,
              "#f0f921"
             ]
            ],
            "type": "histogram2d"
           }
          ],
          "histogram2dcontour": [
           {
            "colorbar": {
             "outlinewidth": 0,
             "ticks": ""
            },
            "colorscale": [
             [
              0,
              "#0d0887"
             ],
             [
              0.1111111111111111,
              "#46039f"
             ],
             [
              0.2222222222222222,
              "#7201a8"
             ],
             [
              0.3333333333333333,
              "#9c179e"
             ],
             [
              0.4444444444444444,
              "#bd3786"
             ],
             [
              0.5555555555555556,
              "#d8576b"
             ],
             [
              0.6666666666666666,
              "#ed7953"
             ],
             [
              0.7777777777777778,
              "#fb9f3a"
             ],
             [
              0.8888888888888888,
              "#fdca26"
             ],
             [
              1,
              "#f0f921"
             ]
            ],
            "type": "histogram2dcontour"
           }
          ],
          "mesh3d": [
           {
            "colorbar": {
             "outlinewidth": 0,
             "ticks": ""
            },
            "type": "mesh3d"
           }
          ],
          "parcoords": [
           {
            "line": {
             "colorbar": {
              "outlinewidth": 0,
              "ticks": ""
             }
            },
            "type": "parcoords"
           }
          ],
          "pie": [
           {
            "automargin": true,
            "type": "pie"
           }
          ],
          "scatter": [
           {
            "fillpattern": {
             "fillmode": "overlay",
             "size": 10,
             "solidity": 0.2
            },
            "type": "scatter"
           }
          ],
          "scatter3d": [
           {
            "line": {
             "colorbar": {
              "outlinewidth": 0,
              "ticks": ""
             }
            },
            "marker": {
             "colorbar": {
              "outlinewidth": 0,
              "ticks": ""
             }
            },
            "type": "scatter3d"
           }
          ],
          "scattercarpet": [
           {
            "marker": {
             "colorbar": {
              "outlinewidth": 0,
              "ticks": ""
             }
            },
            "type": "scattercarpet"
           }
          ],
          "scattergeo": [
           {
            "marker": {
             "colorbar": {
              "outlinewidth": 0,
              "ticks": ""
             }
            },
            "type": "scattergeo"
           }
          ],
          "scattergl": [
           {
            "marker": {
             "colorbar": {
              "outlinewidth": 0,
              "ticks": ""
             }
            },
            "type": "scattergl"
           }
          ],
          "scattermapbox": [
           {
            "marker": {
             "colorbar": {
              "outlinewidth": 0,
              "ticks": ""
             }
            },
            "type": "scattermapbox"
           }
          ],
          "scatterpolar": [
           {
            "marker": {
             "colorbar": {
              "outlinewidth": 0,
              "ticks": ""
             }
            },
            "type": "scatterpolar"
           }
          ],
          "scatterpolargl": [
           {
            "marker": {
             "colorbar": {
              "outlinewidth": 0,
              "ticks": ""
             }
            },
            "type": "scatterpolargl"
           }
          ],
          "scatterternary": [
           {
            "marker": {
             "colorbar": {
              "outlinewidth": 0,
              "ticks": ""
             }
            },
            "type": "scatterternary"
           }
          ],
          "surface": [
           {
            "colorbar": {
             "outlinewidth": 0,
             "ticks": ""
            },
            "colorscale": [
             [
              0,
              "#0d0887"
             ],
             [
              0.1111111111111111,
              "#46039f"
             ],
             [
              0.2222222222222222,
              "#7201a8"
             ],
             [
              0.3333333333333333,
              "#9c179e"
             ],
             [
              0.4444444444444444,
              "#bd3786"
             ],
             [
              0.5555555555555556,
              "#d8576b"
             ],
             [
              0.6666666666666666,
              "#ed7953"
             ],
             [
              0.7777777777777778,
              "#fb9f3a"
             ],
             [
              0.8888888888888888,
              "#fdca26"
             ],
             [
              1,
              "#f0f921"
             ]
            ],
            "type": "surface"
           }
          ],
          "table": [
           {
            "cells": {
             "fill": {
              "color": "#EBF0F8"
             },
             "line": {
              "color": "white"
             }
            },
            "header": {
             "fill": {
              "color": "#C8D4E3"
             },
             "line": {
              "color": "white"
             }
            },
            "type": "table"
           }
          ]
         },
         "layout": {
          "annotationdefaults": {
           "arrowcolor": "#2a3f5f",
           "arrowhead": 0,
           "arrowwidth": 1
          },
          "autotypenumbers": "strict",
          "coloraxis": {
           "colorbar": {
            "outlinewidth": 0,
            "ticks": ""
           }
          },
          "colorscale": {
           "diverging": [
            [
             0,
             "#8e0152"
            ],
            [
             0.1,
             "#c51b7d"
            ],
            [
             0.2,
             "#de77ae"
            ],
            [
             0.3,
             "#f1b6da"
            ],
            [
             0.4,
             "#fde0ef"
            ],
            [
             0.5,
             "#f7f7f7"
            ],
            [
             0.6,
             "#e6f5d0"
            ],
            [
             0.7,
             "#b8e186"
            ],
            [
             0.8,
             "#7fbc41"
            ],
            [
             0.9,
             "#4d9221"
            ],
            [
             1,
             "#276419"
            ]
           ],
           "sequential": [
            [
             0,
             "#0d0887"
            ],
            [
             0.1111111111111111,
             "#46039f"
            ],
            [
             0.2222222222222222,
             "#7201a8"
            ],
            [
             0.3333333333333333,
             "#9c179e"
            ],
            [
             0.4444444444444444,
             "#bd3786"
            ],
            [
             0.5555555555555556,
             "#d8576b"
            ],
            [
             0.6666666666666666,
             "#ed7953"
            ],
            [
             0.7777777777777778,
             "#fb9f3a"
            ],
            [
             0.8888888888888888,
             "#fdca26"
            ],
            [
             1,
             "#f0f921"
            ]
           ],
           "sequentialminus": [
            [
             0,
             "#0d0887"
            ],
            [
             0.1111111111111111,
             "#46039f"
            ],
            [
             0.2222222222222222,
             "#7201a8"
            ],
            [
             0.3333333333333333,
             "#9c179e"
            ],
            [
             0.4444444444444444,
             "#bd3786"
            ],
            [
             0.5555555555555556,
             "#d8576b"
            ],
            [
             0.6666666666666666,
             "#ed7953"
            ],
            [
             0.7777777777777778,
             "#fb9f3a"
            ],
            [
             0.8888888888888888,
             "#fdca26"
            ],
            [
             1,
             "#f0f921"
            ]
           ]
          },
          "colorway": [
           "#636efa",
           "#EF553B",
           "#00cc96",
           "#ab63fa",
           "#FFA15A",
           "#19d3f3",
           "#FF6692",
           "#B6E880",
           "#FF97FF",
           "#FECB52"
          ],
          "font": {
           "color": "#2a3f5f"
          },
          "geo": {
           "bgcolor": "white",
           "lakecolor": "white",
           "landcolor": "#E5ECF6",
           "showlakes": true,
           "showland": true,
           "subunitcolor": "white"
          },
          "hoverlabel": {
           "align": "left"
          },
          "hovermode": "closest",
          "mapbox": {
           "style": "light"
          },
          "paper_bgcolor": "white",
          "plot_bgcolor": "#E5ECF6",
          "polar": {
           "angularaxis": {
            "gridcolor": "white",
            "linecolor": "white",
            "ticks": ""
           },
           "bgcolor": "#E5ECF6",
           "radialaxis": {
            "gridcolor": "white",
            "linecolor": "white",
            "ticks": ""
           }
          },
          "scene": {
           "xaxis": {
            "backgroundcolor": "#E5ECF6",
            "gridcolor": "white",
            "gridwidth": 2,
            "linecolor": "white",
            "showbackground": true,
            "ticks": "",
            "zerolinecolor": "white"
           },
           "yaxis": {
            "backgroundcolor": "#E5ECF6",
            "gridcolor": "white",
            "gridwidth": 2,
            "linecolor": "white",
            "showbackground": true,
            "ticks": "",
            "zerolinecolor": "white"
           },
           "zaxis": {
            "backgroundcolor": "#E5ECF6",
            "gridcolor": "white",
            "gridwidth": 2,
            "linecolor": "white",
            "showbackground": true,
            "ticks": "",
            "zerolinecolor": "white"
           }
          },
          "shapedefaults": {
           "line": {
            "color": "#2a3f5f"
           }
          },
          "ternary": {
           "aaxis": {
            "gridcolor": "white",
            "linecolor": "white",
            "ticks": ""
           },
           "baxis": {
            "gridcolor": "white",
            "linecolor": "white",
            "ticks": ""
           },
           "bgcolor": "#E5ECF6",
           "caxis": {
            "gridcolor": "white",
            "linecolor": "white",
            "ticks": ""
           }
          },
          "title": {
           "x": 0.05
          },
          "xaxis": {
           "automargin": true,
           "gridcolor": "white",
           "linecolor": "white",
           "ticks": "",
           "title": {
            "standoff": 15
           },
           "zerolinecolor": "white",
           "zerolinewidth": 2
          },
          "yaxis": {
           "automargin": true,
           "gridcolor": "white",
           "linecolor": "white",
           "ticks": "",
           "title": {
            "standoff": 15
           },
           "zerolinecolor": "white",
           "zerolinewidth": 2
          }
         }
        },
        "title": {
         "text": "Thomas R Carper Growth Rates DD"
        },
        "width": 800,
        "xaxis": {
         "anchor": "y",
         "domain": [
          0,
          1
         ],
         "title": {
          "text": "date"
         }
        },
        "yaxis": {
         "anchor": "x",
         "domain": [
          0,
          1
         ],
         "title": {
          "text": "Growth Rate"
         }
        }
       }
      }
     },
     "metadata": {},
     "output_type": "display_data"
    }
   ],
   "source": [
    "graphAlphaGrowth_fromSource(101, '2012-12-21','DD')"
   ]
  },
  {
   "cell_type": "markdown",
   "metadata": {},
   "source": [
    "Starting the clock from his next purcahse in December of 2012 paints a rosier picture. From here, he managed to beat the S&P by a wide margin.  Thomas' first purcahse was poorly timed, but is subsequent purcahse three months later was very profitable. This is why every purcahse needs to be examined separately.\n",
    "<br>\n",
    "<br>\n",
    "the analysis that follows will calculate alpha as the maximum difference in growth indecies between a stock and the S&P 6 months after every purcahse. "
   ]
  },
  {
   "cell_type": "code",
   "execution_count": null,
   "metadata": {},
   "outputs": [],
   "source": []
  },
  {
   "cell_type": "code",
   "execution_count": 186,
   "metadata": {},
   "outputs": [
    {
     "data": {
      "text/html": [
       "<div>\n",
       "<style scoped>\n",
       "    .dataframe tbody tr th:only-of-type {\n",
       "        vertical-align: middle;\n",
       "    }\n",
       "\n",
       "    .dataframe tbody tr th {\n",
       "        vertical-align: top;\n",
       "    }\n",
       "\n",
       "    .dataframe thead th {\n",
       "        text-align: right;\n",
       "    }\n",
       "</style>\n",
       "<table border=\"1\" class=\"dataframe\">\n",
       "  <thead>\n",
       "    <tr style=\"text-align: right;\">\n",
       "      <th></th>\n",
       "      <th>date</th>\n",
       "      <th>F</th>\n",
       "      <th>SPY</th>\n",
       "      <th>F_growth</th>\n",
       "      <th>F_pchange</th>\n",
       "      <th>SPY_growth</th>\n",
       "      <th>SPY_pchange</th>\n",
       "      <th>alpha</th>\n",
       "    </tr>\n",
       "  </thead>\n",
       "  <tbody>\n",
       "    <tr>\n",
       "      <th>518</th>\n",
       "      <td>2012-12-21</td>\n",
       "      <td>7.8890</td>\n",
       "      <td>119.0519</td>\n",
       "      <td>100.000000</td>\n",
       "      <td>0.068478</td>\n",
       "      <td>100.000000</td>\n",
       "      <td>0.012047</td>\n",
       "      <td>0.000000</td>\n",
       "    </tr>\n",
       "    <tr>\n",
       "      <th>517</th>\n",
       "      <td>2012-12-28</td>\n",
       "      <td>8.5608</td>\n",
       "      <td>116.7507</td>\n",
       "      <td>108.515655</td>\n",
       "      <td>0.085157</td>\n",
       "      <td>98.067062</td>\n",
       "      <td>-0.019329</td>\n",
       "      <td>10.448593</td>\n",
       "    </tr>\n",
       "    <tr>\n",
       "      <th>516</th>\n",
       "      <td>2013-01-04</td>\n",
       "      <td>9.0264</td>\n",
       "      <td>122.0367</td>\n",
       "      <td>114.417543</td>\n",
       "      <td>0.054387</td>\n",
       "      <td>102.507142</td>\n",
       "      <td>0.045276</td>\n",
       "      <td>11.910402</td>\n",
       "    </tr>\n",
       "    <tr>\n",
       "      <th>515</th>\n",
       "      <td>2013-01-11</td>\n",
       "      <td>9.3124</td>\n",
       "      <td>122.6204</td>\n",
       "      <td>118.042844</td>\n",
       "      <td>0.031685</td>\n",
       "      <td>102.997432</td>\n",
       "      <td>0.004783</td>\n",
       "      <td>15.045412</td>\n",
       "    </tr>\n",
       "    <tr>\n",
       "      <th>514</th>\n",
       "      <td>2013-01-18</td>\n",
       "      <td>9.3856</td>\n",
       "      <td>123.6709</td>\n",
       "      <td>118.970719</td>\n",
       "      <td>0.007860</td>\n",
       "      <td>103.879820</td>\n",
       "      <td>0.008567</td>\n",
       "      <td>15.090898</td>\n",
       "    </tr>\n",
       "    <tr>\n",
       "      <th>513</th>\n",
       "      <td>2013-01-25</td>\n",
       "      <td>9.0996</td>\n",
       "      <td>125.2717</td>\n",
       "      <td>115.345418</td>\n",
       "      <td>-0.030472</td>\n",
       "      <td>105.224444</td>\n",
       "      <td>0.012944</td>\n",
       "      <td>10.120974</td>\n",
       "    </tr>\n",
       "    <tr>\n",
       "      <th>512</th>\n",
       "      <td>2013-02-01</td>\n",
       "      <td>8.7234</td>\n",
       "      <td>126.0971</td>\n",
       "      <td>110.576752</td>\n",
       "      <td>-0.041342</td>\n",
       "      <td>105.917755</td>\n",
       "      <td>0.006589</td>\n",
       "      <td>4.658997</td>\n",
       "    </tr>\n",
       "    <tr>\n",
       "      <th>511</th>\n",
       "      <td>2013-02-08</td>\n",
       "      <td>8.7770</td>\n",
       "      <td>126.5640</td>\n",
       "      <td>111.256179</td>\n",
       "      <td>0.006144</td>\n",
       "      <td>106.309937</td>\n",
       "      <td>0.003703</td>\n",
       "      <td>4.946242</td>\n",
       "    </tr>\n",
       "    <tr>\n",
       "      <th>510</th>\n",
       "      <td>2013-02-15</td>\n",
       "      <td>8.7234</td>\n",
       "      <td>126.8225</td>\n",
       "      <td>110.576752</td>\n",
       "      <td>-0.006107</td>\n",
       "      <td>106.527069</td>\n",
       "      <td>0.002042</td>\n",
       "      <td>4.049683</td>\n",
       "    </tr>\n",
       "    <tr>\n",
       "      <th>509</th>\n",
       "      <td>2013-02-22</td>\n",
       "      <td>8.3616</td>\n",
       "      <td>126.6391</td>\n",
       "      <td>105.990620</td>\n",
       "      <td>-0.041475</td>\n",
       "      <td>106.373019</td>\n",
       "      <td>-0.001446</td>\n",
       "      <td>-0.382399</td>\n",
       "    </tr>\n",
       "    <tr>\n",
       "      <th>508</th>\n",
       "      <td>2013-03-01</td>\n",
       "      <td>8.4487</td>\n",
       "      <td>126.8225</td>\n",
       "      <td>107.094689</td>\n",
       "      <td>0.010417</td>\n",
       "      <td>106.527069</td>\n",
       "      <td>0.001448</td>\n",
       "      <td>0.567620</td>\n",
       "    </tr>\n",
       "    <tr>\n",
       "      <th>507</th>\n",
       "      <td>2013-03-08</td>\n",
       "      <td>8.6966</td>\n",
       "      <td>129.5989</td>\n",
       "      <td>110.237039</td>\n",
       "      <td>0.029342</td>\n",
       "      <td>108.859161</td>\n",
       "      <td>0.021892</td>\n",
       "      <td>1.377877</td>\n",
       "    </tr>\n",
       "    <tr>\n",
       "      <th>506</th>\n",
       "      <td>2013-03-15</td>\n",
       "      <td>9.0115</td>\n",
       "      <td>130.5025</td>\n",
       "      <td>114.228673</td>\n",
       "      <td>0.036210</td>\n",
       "      <td>109.618158</td>\n",
       "      <td>0.006972</td>\n",
       "      <td>4.610515</td>\n",
       "    </tr>\n",
       "    <tr>\n",
       "      <th>505</th>\n",
       "      <td>2013-03-22</td>\n",
       "      <td>8.8842</td>\n",
       "      <td>130.3098</td>\n",
       "      <td>112.615034</td>\n",
       "      <td>-0.014126</td>\n",
       "      <td>109.456296</td>\n",
       "      <td>-0.001477</td>\n",
       "      <td>3.158738</td>\n",
       "    </tr>\n",
       "    <tr>\n",
       "      <th>504</th>\n",
       "      <td>2013-03-28</td>\n",
       "      <td>8.8105</td>\n",
       "      <td>131.2059</td>\n",
       "      <td>111.680821</td>\n",
       "      <td>-0.008296</td>\n",
       "      <td>110.208993</td>\n",
       "      <td>0.006877</td>\n",
       "      <td>1.471829</td>\n",
       "    </tr>\n",
       "    <tr>\n",
       "      <th>503</th>\n",
       "      <td>2013-04-05</td>\n",
       "      <td>8.3348</td>\n",
       "      <td>129.9414</td>\n",
       "      <td>105.650906</td>\n",
       "      <td>-0.053992</td>\n",
       "      <td>109.146851</td>\n",
       "      <td>-0.009638</td>\n",
       "      <td>-3.495945</td>\n",
       "    </tr>\n",
       "    <tr>\n",
       "      <th>502</th>\n",
       "      <td>2013-04-12</td>\n",
       "      <td>9.0651</td>\n",
       "      <td>132.9897</td>\n",
       "      <td>114.908100</td>\n",
       "      <td>0.087621</td>\n",
       "      <td>111.707331</td>\n",
       "      <td>0.023459</td>\n",
       "      <td>3.200769</td>\n",
       "    </tr>\n",
       "    <tr>\n",
       "      <th>501</th>\n",
       "      <td>2013-04-19</td>\n",
       "      <td>8.6631</td>\n",
       "      <td>130.2093</td>\n",
       "      <td>109.812397</td>\n",
       "      <td>-0.044346</td>\n",
       "      <td>109.371879</td>\n",
       "      <td>-0.020907</td>\n",
       "      <td>0.440518</td>\n",
       "    </tr>\n",
       "    <tr>\n",
       "      <th>500</th>\n",
       "      <td>2013-04-26</td>\n",
       "      <td>9.1589</td>\n",
       "      <td>132.5208</td>\n",
       "      <td>116.097097</td>\n",
       "      <td>0.057231</td>\n",
       "      <td>111.313469</td>\n",
       "      <td>0.017752</td>\n",
       "      <td>4.783628</td>\n",
       "    </tr>\n",
       "    <tr>\n",
       "      <th>499</th>\n",
       "      <td>2013-05-03</td>\n",
       "      <td>9.3354</td>\n",
       "      <td>135.1420</td>\n",
       "      <td>118.334390</td>\n",
       "      <td>0.019271</td>\n",
       "      <td>113.515198</td>\n",
       "      <td>0.019780</td>\n",
       "      <td>4.819192</td>\n",
       "    </tr>\n",
       "    <tr>\n",
       "      <th>498</th>\n",
       "      <td>2013-05-10</td>\n",
       "      <td>9.5244</td>\n",
       "      <td>136.8505</td>\n",
       "      <td>120.730131</td>\n",
       "      <td>0.020246</td>\n",
       "      <td>114.950286</td>\n",
       "      <td>0.012642</td>\n",
       "      <td>5.779844</td>\n",
       "    </tr>\n",
       "    <tr>\n",
       "      <th>497</th>\n",
       "      <td>2013-05-17</td>\n",
       "      <td>10.1791</td>\n",
       "      <td>139.8067</td>\n",
       "      <td>129.029028</td>\n",
       "      <td>0.068739</td>\n",
       "      <td>117.433405</td>\n",
       "      <td>0.021602</td>\n",
       "      <td>11.595623</td>\n",
       "    </tr>\n",
       "    <tr>\n",
       "      <th>496</th>\n",
       "      <td>2013-05-24</td>\n",
       "      <td>9.9834</td>\n",
       "      <td>138.4416</td>\n",
       "      <td>126.548358</td>\n",
       "      <td>-0.019226</td>\n",
       "      <td>116.286762</td>\n",
       "      <td>-0.009764</td>\n",
       "      <td>10.261596</td>\n",
       "    </tr>\n",
       "    <tr>\n",
       "      <th>495</th>\n",
       "      <td>2013-05-31</td>\n",
       "      <td>10.5841</td>\n",
       "      <td>136.8840</td>\n",
       "      <td>134.162758</td>\n",
       "      <td>0.060170</td>\n",
       "      <td>114.978425</td>\n",
       "      <td>-0.011251</td>\n",
       "      <td>19.184333</td>\n",
       "    </tr>\n",
       "    <tr>\n",
       "      <th>494</th>\n",
       "      <td>2013-06-07</td>\n",
       "      <td>10.6179</td>\n",
       "      <td>138.0145</td>\n",
       "      <td>134.591203</td>\n",
       "      <td>0.003193</td>\n",
       "      <td>115.928011</td>\n",
       "      <td>0.008259</td>\n",
       "      <td>18.663192</td>\n",
       "    </tr>\n",
       "    <tr>\n",
       "      <th>493</th>\n",
       "      <td>2013-06-14</td>\n",
       "      <td>10.3749</td>\n",
       "      <td>136.6578</td>\n",
       "      <td>131.510965</td>\n",
       "      <td>-0.022886</td>\n",
       "      <td>114.788424</td>\n",
       "      <td>-0.009830</td>\n",
       "      <td>16.722540</td>\n",
       "    </tr>\n",
       "  </tbody>\n",
       "</table>\n",
       "</div>"
      ],
      "text/plain": [
       "           date        F       SPY    F_growth  F_pchange  SPY_growth  \\\n",
       "518  2012-12-21   7.8890  119.0519  100.000000   0.068478  100.000000   \n",
       "517  2012-12-28   8.5608  116.7507  108.515655   0.085157   98.067062   \n",
       "516  2013-01-04   9.0264  122.0367  114.417543   0.054387  102.507142   \n",
       "515  2013-01-11   9.3124  122.6204  118.042844   0.031685  102.997432   \n",
       "514  2013-01-18   9.3856  123.6709  118.970719   0.007860  103.879820   \n",
       "513  2013-01-25   9.0996  125.2717  115.345418  -0.030472  105.224444   \n",
       "512  2013-02-01   8.7234  126.0971  110.576752  -0.041342  105.917755   \n",
       "511  2013-02-08   8.7770  126.5640  111.256179   0.006144  106.309937   \n",
       "510  2013-02-15   8.7234  126.8225  110.576752  -0.006107  106.527069   \n",
       "509  2013-02-22   8.3616  126.6391  105.990620  -0.041475  106.373019   \n",
       "508  2013-03-01   8.4487  126.8225  107.094689   0.010417  106.527069   \n",
       "507  2013-03-08   8.6966  129.5989  110.237039   0.029342  108.859161   \n",
       "506  2013-03-15   9.0115  130.5025  114.228673   0.036210  109.618158   \n",
       "505  2013-03-22   8.8842  130.3098  112.615034  -0.014126  109.456296   \n",
       "504  2013-03-28   8.8105  131.2059  111.680821  -0.008296  110.208993   \n",
       "503  2013-04-05   8.3348  129.9414  105.650906  -0.053992  109.146851   \n",
       "502  2013-04-12   9.0651  132.9897  114.908100   0.087621  111.707331   \n",
       "501  2013-04-19   8.6631  130.2093  109.812397  -0.044346  109.371879   \n",
       "500  2013-04-26   9.1589  132.5208  116.097097   0.057231  111.313469   \n",
       "499  2013-05-03   9.3354  135.1420  118.334390   0.019271  113.515198   \n",
       "498  2013-05-10   9.5244  136.8505  120.730131   0.020246  114.950286   \n",
       "497  2013-05-17  10.1791  139.8067  129.029028   0.068739  117.433405   \n",
       "496  2013-05-24   9.9834  138.4416  126.548358  -0.019226  116.286762   \n",
       "495  2013-05-31  10.5841  136.8840  134.162758   0.060170  114.978425   \n",
       "494  2013-06-07  10.6179  138.0145  134.591203   0.003193  115.928011   \n",
       "493  2013-06-14  10.3749  136.6578  131.510965  -0.022886  114.788424   \n",
       "\n",
       "     SPY_pchange      alpha  \n",
       "518     0.012047   0.000000  \n",
       "517    -0.019329  10.448593  \n",
       "516     0.045276  11.910402  \n",
       "515     0.004783  15.045412  \n",
       "514     0.008567  15.090898  \n",
       "513     0.012944  10.120974  \n",
       "512     0.006589   4.658997  \n",
       "511     0.003703   4.946242  \n",
       "510     0.002042   4.049683  \n",
       "509    -0.001446  -0.382399  \n",
       "508     0.001448   0.567620  \n",
       "507     0.021892   1.377877  \n",
       "506     0.006972   4.610515  \n",
       "505    -0.001477   3.158738  \n",
       "504     0.006877   1.471829  \n",
       "503    -0.009638  -3.495945  \n",
       "502     0.023459   3.200769  \n",
       "501    -0.020907   0.440518  \n",
       "500     0.017752   4.783628  \n",
       "499     0.019780   4.819192  \n",
       "498     0.012642   5.779844  \n",
       "497     0.021602  11.595623  \n",
       "496    -0.009764  10.261596  \n",
       "495    -0.011251  19.184333  \n",
       "494     0.008259  18.663192  \n",
       "493    -0.009830  16.722540  "
      ]
     },
     "execution_count": 186,
     "metadata": {},
     "output_type": "execute_result"
    }
   ],
   "source": [
    "def alphaFrame(senatorIdInput, dateInput,tickerInput ):\n",
    "    hist = historicalGrowthRatesWithTransactions(senatorIdInput, dateInput,tickerInput)\n",
    "    hist.drop(['transactionType', 'transactionValue'], axis=1, inplace=True)\n",
    "\n",
    "    if(hist.shape[0]>26):\n",
    "        #keep only 6 months of data, or 26 weeks \n",
    "        hist = hist.iloc[:26,:]\n",
    "\n",
    "    growthCol = f\"{tickerInput}_growth\"\n",
    "    #calculate alpha as difference in growth rates \n",
    "    hist['alpha']  = hist[growthCol] - hist['SPY_growth']\n",
    "    return hist\n",
    "\n",
    "# temp = alphaFrame(101, '2012-12-21','DD')\n",
    "# temp = alphaFrame(101, '2012-12-21','M')\n",
    "temp = alphaFrame(101, '2012-12-21','F')\n",
    "\n",
    "temp"
   ]
  },
  {
   "cell_type": "markdown",
   "metadata": {},
   "source": [
    "there we have it, 6 months of price data from the date of purchase. In this case, an alpha of 11.35 was achieved several months later"
   ]
  },
  {
   "cell_type": "code",
   "execution_count": 202,
   "metadata": {},
   "outputs": [
    {
     "data": {
      "text/plain": [
       "15.746535685302746"
      ]
     },
     "execution_count": 202,
     "metadata": {},
     "output_type": "execute_result"
    }
   ],
   "source": [
    "def calculateAlphaValue(senatorIdInput, dateInput,tickerInput ):\n",
    "\n",
    "    try:         \n",
    "        # we're looking to return the maximum alpha value within a 6 month period\n",
    "        histAlpha = alphaFrame(senatorIdInput, dateInput,tickerInput )\n",
    "\n",
    "    except: \n",
    "        return 'Not Found'\n",
    "\n",
    "        # start counting a week after purcahse\n",
    "    histAlpha = histAlpha.iloc[ 1:,:]\n",
    "\n",
    "    maxAlpha = histAlpha.loc[histAlpha.alpha.idxmax()].alpha\n",
    "\n",
    "    return maxAlpha\n",
    "\n"
   ]
  },
  {
   "cell_type": "code",
   "execution_count": 147,
   "metadata": {},
   "outputs": [
    {
     "data": {
      "text/html": [
       "<div>\n",
       "<style scoped>\n",
       "    .dataframe tbody tr th:only-of-type {\n",
       "        vertical-align: middle;\n",
       "    }\n",
       "\n",
       "    .dataframe tbody tr th {\n",
       "        vertical-align: top;\n",
       "    }\n",
       "\n",
       "    .dataframe thead th {\n",
       "        text-align: right;\n",
       "    }\n",
       "</style>\n",
       "<table border=\"1\" class=\"dataframe\">\n",
       "  <thead>\n",
       "    <tr style=\"text-align: right;\">\n",
       "      <th></th>\n",
       "      <th>transaction_date</th>\n",
       "      <th>owner</th>\n",
       "      <th>ticker</th>\n",
       "      <th>asset_description</th>\n",
       "      <th>asset_type</th>\n",
       "      <th>type</th>\n",
       "      <th>amount</th>\n",
       "      <th>comment</th>\n",
       "      <th>senator</th>\n",
       "      <th>ptr_link</th>\n",
       "      <th>disclosure_date</th>\n",
       "      <th>id</th>\n",
       "      <th>senatorId</th>\n",
       "    </tr>\n",
       "  </thead>\n",
       "  <tbody>\n",
       "    <tr>\n",
       "      <th>1</th>\n",
       "      <td>2022-10-31</td>\n",
       "      <td>Joint</td>\n",
       "      <td>CLF</td>\n",
       "      <td>Cleveland-Cliffs Inc. Common Stock</td>\n",
       "      <td>Stock</td>\n",
       "      <td>Purchase</td>\n",
       "      <td>$15,001 - $50,000</td>\n",
       "      <td>--</td>\n",
       "      <td>Thomas H Tuberville</td>\n",
       "      <td>https://efdsearch.senate.gov/search/view/ptr/b...</td>\n",
       "      <td>11/10/2022</td>\n",
       "      <td>1</td>\n",
       "      <td>100</td>\n",
       "    </tr>\n",
       "    <tr>\n",
       "      <th>4</th>\n",
       "      <td>2022-10-24</td>\n",
       "      <td>Joint</td>\n",
       "      <td>MSFT</td>\n",
       "      <td>Microsoft Corporation - Common Stock</td>\n",
       "      <td>Stock</td>\n",
       "      <td>Purchase</td>\n",
       "      <td>$15,001 - $50,000</td>\n",
       "      <td>--</td>\n",
       "      <td>Thomas H Tuberville</td>\n",
       "      <td>https://efdsearch.senate.gov/search/view/ptr/b...</td>\n",
       "      <td>11/10/2022</td>\n",
       "      <td>4</td>\n",
       "      <td>100</td>\n",
       "    </tr>\n",
       "    <tr>\n",
       "      <th>5</th>\n",
       "      <td>2022-10-13</td>\n",
       "      <td>Joint</td>\n",
       "      <td>NU</td>\n",
       "      <td>Nu Holdings Ltd. Class A Ordinary Shares</td>\n",
       "      <td>Stock</td>\n",
       "      <td>Purchase</td>\n",
       "      <td>$15,001 - $50,000</td>\n",
       "      <td>--</td>\n",
       "      <td>Thomas H Tuberville</td>\n",
       "      <td>https://efdsearch.senate.gov/search/view/ptr/b...</td>\n",
       "      <td>11/10/2022</td>\n",
       "      <td>5</td>\n",
       "      <td>100</td>\n",
       "    </tr>\n",
       "    <tr>\n",
       "      <th>6</th>\n",
       "      <td>2022-10-13</td>\n",
       "      <td>Joint</td>\n",
       "      <td>MSFT</td>\n",
       "      <td>Microsoft Corporation - Common Stock</td>\n",
       "      <td>Stock</td>\n",
       "      <td>Purchase</td>\n",
       "      <td>$250,001 - $500,000</td>\n",
       "      <td>--</td>\n",
       "      <td>Thomas H Tuberville</td>\n",
       "      <td>https://efdsearch.senate.gov/search/view/ptr/b...</td>\n",
       "      <td>11/10/2022</td>\n",
       "      <td>6</td>\n",
       "      <td>100</td>\n",
       "    </tr>\n",
       "    <tr>\n",
       "      <th>7</th>\n",
       "      <td>2022-10-11</td>\n",
       "      <td>Joint</td>\n",
       "      <td>NU</td>\n",
       "      <td>Nu Holdings Ltd. Class A Ordinary Shares</td>\n",
       "      <td>Stock</td>\n",
       "      <td>Purchase</td>\n",
       "      <td>$1,001 - $15,000</td>\n",
       "      <td>--</td>\n",
       "      <td>Thomas H Tuberville</td>\n",
       "      <td>https://efdsearch.senate.gov/search/view/ptr/b...</td>\n",
       "      <td>11/10/2022</td>\n",
       "      <td>7</td>\n",
       "      <td>100</td>\n",
       "    </tr>\n",
       "  </tbody>\n",
       "</table>\n",
       "</div>"
      ],
      "text/plain": [
       "  transaction_date  owner ticker                         asset_description  \\\n",
       "1       2022-10-31  Joint    CLF        Cleveland-Cliffs Inc. Common Stock   \n",
       "4       2022-10-24  Joint   MSFT      Microsoft Corporation - Common Stock   \n",
       "5       2022-10-13  Joint     NU  Nu Holdings Ltd. Class A Ordinary Shares   \n",
       "6       2022-10-13  Joint   MSFT      Microsoft Corporation - Common Stock   \n",
       "7       2022-10-11  Joint     NU  Nu Holdings Ltd. Class A Ordinary Shares   \n",
       "\n",
       "  asset_type      type               amount comment              senator  \\\n",
       "1      Stock  Purchase    $15,001 - $50,000      --  Thomas H Tuberville   \n",
       "4      Stock  Purchase    $15,001 - $50,000      --  Thomas H Tuberville   \n",
       "5      Stock  Purchase    $15,001 - $50,000      --  Thomas H Tuberville   \n",
       "6      Stock  Purchase  $250,001 - $500,000      --  Thomas H Tuberville   \n",
       "7      Stock  Purchase     $1,001 - $15,000      --  Thomas H Tuberville   \n",
       "\n",
       "                                            ptr_link disclosure_date  id  \\\n",
       "1  https://efdsearch.senate.gov/search/view/ptr/b...      11/10/2022   1   \n",
       "4  https://efdsearch.senate.gov/search/view/ptr/b...      11/10/2022   4   \n",
       "5  https://efdsearch.senate.gov/search/view/ptr/b...      11/10/2022   5   \n",
       "6  https://efdsearch.senate.gov/search/view/ptr/b...      11/10/2022   6   \n",
       "7  https://efdsearch.senate.gov/search/view/ptr/b...      11/10/2022   7   \n",
       "\n",
       "   senatorId  \n",
       "1        100  \n",
       "4        100  \n",
       "5        100  \n",
       "6        100  \n",
       "7        100  "
      ]
     },
     "execution_count": 147,
     "metadata": {},
     "output_type": "execute_result"
    }
   ],
   "source": [
    "purchases.head()"
   ]
  },
  {
   "cell_type": "code",
   "execution_count": 171,
   "metadata": {},
   "outputs": [
    {
     "data": {
      "text/plain": [
       "numpy.datetime64('2022-10-24T00:00:00.000000000')"
      ]
     },
     "execution_count": 171,
     "metadata": {},
     "output_type": "execute_result"
    }
   ],
   "source": [
    "timeTest = purchases.transaction_date.values[1]\n",
    "# datetime.datetime.strftime(timeTest, \"%Y-%m-%d\")\n",
    "timeTest\n",
    "# purchases.ticker.values[3]"
   ]
  },
  {
   "cell_type": "code",
   "execution_count": 229,
   "metadata": {},
   "outputs": [
    {
     "data": {
      "text/plain": [
       "[10.898455269172317,\n",
       " 2.325887275806508,\n",
       " 12.969423298853371,\n",
       " 1.2743223109707316,\n",
       " 12.969423298853371]"
      ]
     },
     "execution_count": 229,
     "metadata": {},
     "output_type": "execute_result"
    }
   ],
   "source": [
    "alphaList = []\n",
    "\n",
    "for row in range(len(purchases)):\n",
    "# for row in range(10):\n",
    "    currentDate = purchases.transaction_date.values[row]\n",
    "    currentTicker = purchases.ticker.values[row]\n",
    "    currentSenId = purchases.senatorId.values[row]\n",
    "\n",
    "\n",
    "    currentDateString  = str(currentDate).split(\"T\")[0]\n",
    "   \n",
    "    try:\n",
    "        currentAlpha = calculateAlphaValue(currentSenId, currentDateString,currentTicker)\n",
    "    except:\n",
    "        currentAlpha =\"Not Found\"\n",
    "\n",
    "\n",
    "    \n",
    "\n",
    "    alphaList.append(currentAlpha)\n",
    "alphaList[:5]\n"
   ]
  },
  {
   "cell_type": "code",
   "execution_count": 230,
   "metadata": {},
   "outputs": [
    {
     "data": {
      "text/html": [
       "<div>\n",
       "<style scoped>\n",
       "    .dataframe tbody tr th:only-of-type {\n",
       "        vertical-align: middle;\n",
       "    }\n",
       "\n",
       "    .dataframe tbody tr th {\n",
       "        vertical-align: top;\n",
       "    }\n",
       "\n",
       "    .dataframe thead th {\n",
       "        text-align: right;\n",
       "    }\n",
       "</style>\n",
       "<table border=\"1\" class=\"dataframe\">\n",
       "  <thead>\n",
       "    <tr style=\"text-align: right;\">\n",
       "      <th></th>\n",
       "      <th>transaction_date</th>\n",
       "      <th>ticker</th>\n",
       "      <th>senatorId</th>\n",
       "      <th>asset_description</th>\n",
       "      <th>alpha</th>\n",
       "    </tr>\n",
       "  </thead>\n",
       "  <tbody>\n",
       "    <tr>\n",
       "      <th>1397</th>\n",
       "      <td>2020-11-20</td>\n",
       "      <td>SI</td>\n",
       "      <td>101</td>\n",
       "      <td>Silvergate Capital Corporation</td>\n",
       "      <td>450.026941</td>\n",
       "    </tr>\n",
       "    <tr>\n",
       "      <th>5428</th>\n",
       "      <td>2017-10-19</td>\n",
       "      <td>CRSP</td>\n",
       "      <td>132</td>\n",
       "      <td>CRISPR Therapeutics AG</td>\n",
       "      <td>188.417248</td>\n",
       "    </tr>\n",
       "    <tr>\n",
       "      <th>1557</th>\n",
       "      <td>2020-08-03</td>\n",
       "      <td>TSLA</td>\n",
       "      <td>133</td>\n",
       "      <td>Tesla, Inc.</td>\n",
       "      <td>187.982706</td>\n",
       "    </tr>\n",
       "    <tr>\n",
       "      <th>1384</th>\n",
       "      <td>2020-11-20</td>\n",
       "      <td>NTLA</td>\n",
       "      <td>101</td>\n",
       "      <td>Intellia Therapeutics, Inc.</td>\n",
       "      <td>147.030607</td>\n",
       "    </tr>\n",
       "    <tr>\n",
       "      <th>2451</th>\n",
       "      <td>2020-03-18</td>\n",
       "      <td>CDLX</td>\n",
       "      <td>136</td>\n",
       "      <td>Cardlytics, Inc.</td>\n",
       "      <td>123.212113</td>\n",
       "    </tr>\n",
       "    <tr>\n",
       "      <th>2452</th>\n",
       "      <td>2020-03-18</td>\n",
       "      <td>CDLX</td>\n",
       "      <td>136</td>\n",
       "      <td>Cardlytics, Inc.</td>\n",
       "      <td>123.212113</td>\n",
       "    </tr>\n",
       "    <tr>\n",
       "      <th>7479</th>\n",
       "      <td>2016-01-08</td>\n",
       "      <td>CLR</td>\n",
       "      <td>132</td>\n",
       "      <td>Continental Resources, Inc.</td>\n",
       "      <td>115.501927</td>\n",
       "    </tr>\n",
       "    <tr>\n",
       "      <th>1624</th>\n",
       "      <td>2020-07-07</td>\n",
       "      <td>TSLA</td>\n",
       "      <td>118</td>\n",
       "      <td>Tesla, Inc.</td>\n",
       "      <td>109.716997</td>\n",
       "    </tr>\n",
       "    <tr>\n",
       "      <th>2595</th>\n",
       "      <td>2020-03-10</td>\n",
       "      <td>HAL</td>\n",
       "      <td>119</td>\n",
       "      <td>Halliburton Company</td>\n",
       "      <td>107.017428</td>\n",
       "    </tr>\n",
       "    <tr>\n",
       "      <th>1555</th>\n",
       "      <td>2020-08-17</td>\n",
       "      <td>NVAX</td>\n",
       "      <td>133</td>\n",
       "      <td>Novavax, Inc.</td>\n",
       "      <td>95.695611</td>\n",
       "    </tr>\n",
       "    <tr>\n",
       "      <th>628</th>\n",
       "      <td>2022-01-18</td>\n",
       "      <td>MOS</td>\n",
       "      <td>101</td>\n",
       "      <td>Mosaic Company (The) Common Stock</td>\n",
       "      <td>93.603100</td>\n",
       "    </tr>\n",
       "    <tr>\n",
       "      <th>7146</th>\n",
       "      <td>2016-05-18</td>\n",
       "      <td>NVDA</td>\n",
       "      <td>123</td>\n",
       "      <td>NVIDIA Corporation</td>\n",
       "      <td>92.903994</td>\n",
       "    </tr>\n",
       "    <tr>\n",
       "      <th>1292</th>\n",
       "      <td>2020-12-21</td>\n",
       "      <td>EXPI</td>\n",
       "      <td>133</td>\n",
       "      <td>eXp World Holdings, Inc.</td>\n",
       "      <td>91.698674</td>\n",
       "    </tr>\n",
       "    <tr>\n",
       "      <th>8490</th>\n",
       "      <td>2015-04-07</td>\n",
       "      <td>NFLX</td>\n",
       "      <td>123</td>\n",
       "      <td>Netflix, Inc. (NASDAQ)</td>\n",
       "      <td>90.736398</td>\n",
       "    </tr>\n",
       "    <tr>\n",
       "      <th>2164</th>\n",
       "      <td>2020-04-29</td>\n",
       "      <td>BYND</td>\n",
       "      <td>133</td>\n",
       "      <td>Beyond Meat, Inc.</td>\n",
       "      <td>89.290069</td>\n",
       "    </tr>\n",
       "  </tbody>\n",
       "</table>\n",
       "</div>"
      ],
      "text/plain": [
       "     transaction_date ticker  senatorId                  asset_description  \\\n",
       "1397       2020-11-20     SI        101     Silvergate Capital Corporation   \n",
       "5428       2017-10-19   CRSP        132             CRISPR Therapeutics AG   \n",
       "1557       2020-08-03   TSLA        133                        Tesla, Inc.   \n",
       "1384       2020-11-20   NTLA        101        Intellia Therapeutics, Inc.   \n",
       "2451       2020-03-18   CDLX        136                   Cardlytics, Inc.   \n",
       "2452       2020-03-18   CDLX        136                   Cardlytics, Inc.   \n",
       "7479       2016-01-08    CLR        132        Continental Resources, Inc.   \n",
       "1624       2020-07-07   TSLA        118                        Tesla, Inc.   \n",
       "2595       2020-03-10    HAL        119                Halliburton Company   \n",
       "1555       2020-08-17   NVAX        133                      Novavax, Inc.   \n",
       "628        2022-01-18    MOS        101  Mosaic Company (The) Common Stock   \n",
       "7146       2016-05-18   NVDA        123                 NVIDIA Corporation   \n",
       "1292       2020-12-21   EXPI        133           eXp World Holdings, Inc.   \n",
       "8490       2015-04-07   NFLX        123             Netflix, Inc. (NASDAQ)   \n",
       "2164       2020-04-29   BYND        133                  Beyond Meat, Inc.   \n",
       "\n",
       "           alpha  \n",
       "1397  450.026941  \n",
       "5428  188.417248  \n",
       "1557  187.982706  \n",
       "1384  147.030607  \n",
       "2451  123.212113  \n",
       "2452  123.212113  \n",
       "7479  115.501927  \n",
       "1624  109.716997  \n",
       "2595  107.017428  \n",
       "1555   95.695611  \n",
       "628    93.603100  \n",
       "7146   92.903994  \n",
       "1292   91.698674  \n",
       "8490   90.736398  \n",
       "2164   89.290069  "
      ]
     },
     "execution_count": 230,
     "metadata": {},
     "output_type": "execute_result"
    }
   ],
   "source": [
    "purchases['alpha'] = alphaList\n",
    "# purchases.sort_values(by=\"alpha\", ascending=False)\n",
    "# purchases.head()\n",
    "purchases['alpha'] = purchases['alpha'].replace(\"Not Found\", -9999)\n",
    "topAlphaBuys = purchases.sort_values(by=\"alpha\", ascending=False).head(15)\n",
    "topAlphaBuys[['transaction_date', 'ticker','senatorId','asset_description', 'alpha']]\n"
   ]
  },
  {
   "cell_type": "markdown",
   "metadata": {},
   "source": [
    "There you have it, the best stock purchases made by senators. Lets graph a few of these to see what they look like"
   ]
  },
  {
   "cell_type": "code",
   "execution_count": 231,
   "metadata": {},
   "outputs": [
    {
     "data": {
      "application/vnd.plotly.v1+json": {
       "config": {
        "plotlyServerURL": "https://plot.ly"
       },
       "data": [
        {
         "hovertemplate": "transactionType=Purchase<br>date=%{x}<br>Growth Rate=%{y}<extra></extra>",
         "legendgroup": "Purchase",
         "marker": {
          "color": "#636efa",
          "symbol": "circle"
         },
         "mode": "markers",
         "name": "Purchase",
         "orientation": "v",
         "showlegend": true,
         "type": "scatter",
         "x": [
          "2020-11-20"
         ],
         "xaxis": "x",
         "y": [
          100
         ],
         "yaxis": "y"
        },
        {
         "line": {
          "color": "#EB4E4B"
         },
         "mode": "lines",
         "name": "SI Growth Rate",
         "type": "scatter",
         "x": [
          "2020-11-20",
          "2020-11-27",
          "2020-12-04",
          "2020-12-11",
          "2020-12-18",
          "2020-12-24",
          "2020-12-31",
          "2021-01-08",
          "2021-01-15",
          "2021-01-22",
          "2021-01-29",
          "2021-02-05",
          "2021-02-12",
          "2021-02-19",
          "2021-02-26",
          "2021-03-05",
          "2021-03-12",
          "2021-03-19",
          "2021-03-26",
          "2021-04-01",
          "2021-04-09",
          "2021-04-16",
          "2021-04-23",
          "2021-04-30",
          "2021-05-07",
          "2021-05-14",
          "2021-05-21",
          "2021-05-28",
          "2021-06-04",
          "2021-06-11",
          "2021-06-18",
          "2021-06-25",
          "2021-07-02",
          "2021-07-09",
          "2021-07-16",
          "2021-07-23",
          "2021-07-30",
          "2021-08-06",
          "2021-08-13",
          "2021-08-20",
          "2021-08-27",
          "2021-09-03",
          "2021-09-10",
          "2021-09-17",
          "2021-09-24",
          "2021-10-01",
          "2021-10-08",
          "2021-10-15",
          "2021-10-22",
          "2021-10-29",
          "2021-11-05"
         ],
         "y": [
          100,
          108.42622950819671,
          138.91803278688522,
          129.47540983606555,
          167.83606557377047,
          208.42622950819668,
          243.63934426229505,
          243.0491803278688,
          223.08196721311475,
          249.70491803278682,
          305.11475409836055,
          411.4754098360654,
          533.4754098360654,
          560.262295081967,
          418.2295081967211,
          349.6393442622949,
          454.3934426229506,
          525.7704918032784,
          406.03278688524574,
          470.4590163934425,
          535.0819672131146,
          436.06557377049165,
          378.1311475409835,
          351.5409836065573,
          305.7704918032786,
          305.86885245901635,
          344.9180327868852,
          365.2459016393442,
          371.4426229508196,
          315.9344262295081,
          310.8852459016393,
          335.50819672131144,
          353.14754098360646,
          349.9016393442622,
          287.2131147540983,
          344.3934426229508,
          337.0491803278688,
          379.5737704918032,
          366.22950819672127,
          330.327868852459,
          374.5901639344262,
          395.5737704918032,
          364.0327868852458,
          365.54098360655723,
          340.0983606557376,
          419.8360655737704,
          533.245901639344,
          522.9180327868851,
          478.4262295081965,
          513.5081967213113,
          705.4426229508193
         ]
        },
        {
         "line": {
          "color": "#349FEB"
         },
         "mode": "lines",
         "name": "SPY Growth Rate",
         "type": "scatter",
         "x": [
          "2020-11-20",
          "2020-11-27",
          "2020-12-04",
          "2020-12-11",
          "2020-12-18",
          "2020-12-24",
          "2020-12-31",
          "2021-01-08",
          "2021-01-15",
          "2021-01-22",
          "2021-01-29",
          "2021-02-05",
          "2021-02-12",
          "2021-02-19",
          "2021-02-26",
          "2021-03-05",
          "2021-03-12",
          "2021-03-19",
          "2021-03-26",
          "2021-04-01",
          "2021-04-09",
          "2021-04-16",
          "2021-04-23",
          "2021-04-30",
          "2021-05-07",
          "2021-05-14",
          "2021-05-21",
          "2021-05-28",
          "2021-06-04",
          "2021-06-11",
          "2021-06-18",
          "2021-06-25",
          "2021-07-02",
          "2021-07-09",
          "2021-07-16",
          "2021-07-23",
          "2021-07-30",
          "2021-08-06",
          "2021-08-13",
          "2021-08-20",
          "2021-08-27",
          "2021-09-03",
          "2021-09-10",
          "2021-09-17",
          "2021-09-24",
          "2021-10-01",
          "2021-10-08",
          "2021-10-15",
          "2021-10-22",
          "2021-10-29",
          "2021-11-05"
         ],
         "y": [
          100,
          102.34713394159198,
          104.08634726954372,
          103.08729561527008,
          104.34245566780722,
          104.29157589098283,
          105.67083508027326,
          107.75667413154508,
          106.18522498799719,
          108.21453417333257,
          104.59398604514915,
          109.57965365243493,
          110.9730235770975,
          110.2353537375919,
          107.50230422223915,
          108.42651392689015,
          111.37435375294855,
          110.44104595608634,
          112.28419194888379,
          113.59706983481169,
          116.68222131370078,
          118.31834224646964,
          118.1708894080532,
          118.32970037432564,
          119.69647141793766,
          118.12554382107702,
          117.66049802493167,
          119.10666006427194,
          119.8325661284981,
          120.31745967357551,
          118.04496485789444,
          121.37078115814074,
          123.39357100988529,
          123.90567190714842,
          122.71645853573446,
          125.16317891977825,
          124.75634352889493,
          125.88865036176499,
          126.86449318845533,
          126.13615323968861,
          128.09635748896127,
          128.90150967483586,
          126.72793488083957,
          125.98484675074961,
          126.70124907534112,
          123.94122400633036,
          124.97446594343589,
          127.26066584706564,
          129.32998925324068,
          131.07960454012178,
          133.72830836621722
         ]
        }
       ],
       "layout": {
        "height": 500,
        "legend": {
         "title": {
          "text": "transactionType"
         },
         "tracegroupgap": 0
        },
        "template": {
         "data": {
          "bar": [
           {
            "error_x": {
             "color": "#2a3f5f"
            },
            "error_y": {
             "color": "#2a3f5f"
            },
            "marker": {
             "line": {
              "color": "#E5ECF6",
              "width": 0.5
             },
             "pattern": {
              "fillmode": "overlay",
              "size": 10,
              "solidity": 0.2
             }
            },
            "type": "bar"
           }
          ],
          "barpolar": [
           {
            "marker": {
             "line": {
              "color": "#E5ECF6",
              "width": 0.5
             },
             "pattern": {
              "fillmode": "overlay",
              "size": 10,
              "solidity": 0.2
             }
            },
            "type": "barpolar"
           }
          ],
          "carpet": [
           {
            "aaxis": {
             "endlinecolor": "#2a3f5f",
             "gridcolor": "white",
             "linecolor": "white",
             "minorgridcolor": "white",
             "startlinecolor": "#2a3f5f"
            },
            "baxis": {
             "endlinecolor": "#2a3f5f",
             "gridcolor": "white",
             "linecolor": "white",
             "minorgridcolor": "white",
             "startlinecolor": "#2a3f5f"
            },
            "type": "carpet"
           }
          ],
          "choropleth": [
           {
            "colorbar": {
             "outlinewidth": 0,
             "ticks": ""
            },
            "type": "choropleth"
           }
          ],
          "contour": [
           {
            "colorbar": {
             "outlinewidth": 0,
             "ticks": ""
            },
            "colorscale": [
             [
              0,
              "#0d0887"
             ],
             [
              0.1111111111111111,
              "#46039f"
             ],
             [
              0.2222222222222222,
              "#7201a8"
             ],
             [
              0.3333333333333333,
              "#9c179e"
             ],
             [
              0.4444444444444444,
              "#bd3786"
             ],
             [
              0.5555555555555556,
              "#d8576b"
             ],
             [
              0.6666666666666666,
              "#ed7953"
             ],
             [
              0.7777777777777778,
              "#fb9f3a"
             ],
             [
              0.8888888888888888,
              "#fdca26"
             ],
             [
              1,
              "#f0f921"
             ]
            ],
            "type": "contour"
           }
          ],
          "contourcarpet": [
           {
            "colorbar": {
             "outlinewidth": 0,
             "ticks": ""
            },
            "type": "contourcarpet"
           }
          ],
          "heatmap": [
           {
            "colorbar": {
             "outlinewidth": 0,
             "ticks": ""
            },
            "colorscale": [
             [
              0,
              "#0d0887"
             ],
             [
              0.1111111111111111,
              "#46039f"
             ],
             [
              0.2222222222222222,
              "#7201a8"
             ],
             [
              0.3333333333333333,
              "#9c179e"
             ],
             [
              0.4444444444444444,
              "#bd3786"
             ],
             [
              0.5555555555555556,
              "#d8576b"
             ],
             [
              0.6666666666666666,
              "#ed7953"
             ],
             [
              0.7777777777777778,
              "#fb9f3a"
             ],
             [
              0.8888888888888888,
              "#fdca26"
             ],
             [
              1,
              "#f0f921"
             ]
            ],
            "type": "heatmap"
           }
          ],
          "heatmapgl": [
           {
            "colorbar": {
             "outlinewidth": 0,
             "ticks": ""
            },
            "colorscale": [
             [
              0,
              "#0d0887"
             ],
             [
              0.1111111111111111,
              "#46039f"
             ],
             [
              0.2222222222222222,
              "#7201a8"
             ],
             [
              0.3333333333333333,
              "#9c179e"
             ],
             [
              0.4444444444444444,
              "#bd3786"
             ],
             [
              0.5555555555555556,
              "#d8576b"
             ],
             [
              0.6666666666666666,
              "#ed7953"
             ],
             [
              0.7777777777777778,
              "#fb9f3a"
             ],
             [
              0.8888888888888888,
              "#fdca26"
             ],
             [
              1,
              "#f0f921"
             ]
            ],
            "type": "heatmapgl"
           }
          ],
          "histogram": [
           {
            "marker": {
             "pattern": {
              "fillmode": "overlay",
              "size": 10,
              "solidity": 0.2
             }
            },
            "type": "histogram"
           }
          ],
          "histogram2d": [
           {
            "colorbar": {
             "outlinewidth": 0,
             "ticks": ""
            },
            "colorscale": [
             [
              0,
              "#0d0887"
             ],
             [
              0.1111111111111111,
              "#46039f"
             ],
             [
              0.2222222222222222,
              "#7201a8"
             ],
             [
              0.3333333333333333,
              "#9c179e"
             ],
             [
              0.4444444444444444,
              "#bd3786"
             ],
             [
              0.5555555555555556,
              "#d8576b"
             ],
             [
              0.6666666666666666,
              "#ed7953"
             ],
             [
              0.7777777777777778,
              "#fb9f3a"
             ],
             [
              0.8888888888888888,
              "#fdca26"
             ],
             [
              1,
              "#f0f921"
             ]
            ],
            "type": "histogram2d"
           }
          ],
          "histogram2dcontour": [
           {
            "colorbar": {
             "outlinewidth": 0,
             "ticks": ""
            },
            "colorscale": [
             [
              0,
              "#0d0887"
             ],
             [
              0.1111111111111111,
              "#46039f"
             ],
             [
              0.2222222222222222,
              "#7201a8"
             ],
             [
              0.3333333333333333,
              "#9c179e"
             ],
             [
              0.4444444444444444,
              "#bd3786"
             ],
             [
              0.5555555555555556,
              "#d8576b"
             ],
             [
              0.6666666666666666,
              "#ed7953"
             ],
             [
              0.7777777777777778,
              "#fb9f3a"
             ],
             [
              0.8888888888888888,
              "#fdca26"
             ],
             [
              1,
              "#f0f921"
             ]
            ],
            "type": "histogram2dcontour"
           }
          ],
          "mesh3d": [
           {
            "colorbar": {
             "outlinewidth": 0,
             "ticks": ""
            },
            "type": "mesh3d"
           }
          ],
          "parcoords": [
           {
            "line": {
             "colorbar": {
              "outlinewidth": 0,
              "ticks": ""
             }
            },
            "type": "parcoords"
           }
          ],
          "pie": [
           {
            "automargin": true,
            "type": "pie"
           }
          ],
          "scatter": [
           {
            "fillpattern": {
             "fillmode": "overlay",
             "size": 10,
             "solidity": 0.2
            },
            "type": "scatter"
           }
          ],
          "scatter3d": [
           {
            "line": {
             "colorbar": {
              "outlinewidth": 0,
              "ticks": ""
             }
            },
            "marker": {
             "colorbar": {
              "outlinewidth": 0,
              "ticks": ""
             }
            },
            "type": "scatter3d"
           }
          ],
          "scattercarpet": [
           {
            "marker": {
             "colorbar": {
              "outlinewidth": 0,
              "ticks": ""
             }
            },
            "type": "scattercarpet"
           }
          ],
          "scattergeo": [
           {
            "marker": {
             "colorbar": {
              "outlinewidth": 0,
              "ticks": ""
             }
            },
            "type": "scattergeo"
           }
          ],
          "scattergl": [
           {
            "marker": {
             "colorbar": {
              "outlinewidth": 0,
              "ticks": ""
             }
            },
            "type": "scattergl"
           }
          ],
          "scattermapbox": [
           {
            "marker": {
             "colorbar": {
              "outlinewidth": 0,
              "ticks": ""
             }
            },
            "type": "scattermapbox"
           }
          ],
          "scatterpolar": [
           {
            "marker": {
             "colorbar": {
              "outlinewidth": 0,
              "ticks": ""
             }
            },
            "type": "scatterpolar"
           }
          ],
          "scatterpolargl": [
           {
            "marker": {
             "colorbar": {
              "outlinewidth": 0,
              "ticks": ""
             }
            },
            "type": "scatterpolargl"
           }
          ],
          "scatterternary": [
           {
            "marker": {
             "colorbar": {
              "outlinewidth": 0,
              "ticks": ""
             }
            },
            "type": "scatterternary"
           }
          ],
          "surface": [
           {
            "colorbar": {
             "outlinewidth": 0,
             "ticks": ""
            },
            "colorscale": [
             [
              0,
              "#0d0887"
             ],
             [
              0.1111111111111111,
              "#46039f"
             ],
             [
              0.2222222222222222,
              "#7201a8"
             ],
             [
              0.3333333333333333,
              "#9c179e"
             ],
             [
              0.4444444444444444,
              "#bd3786"
             ],
             [
              0.5555555555555556,
              "#d8576b"
             ],
             [
              0.6666666666666666,
              "#ed7953"
             ],
             [
              0.7777777777777778,
              "#fb9f3a"
             ],
             [
              0.8888888888888888,
              "#fdca26"
             ],
             [
              1,
              "#f0f921"
             ]
            ],
            "type": "surface"
           }
          ],
          "table": [
           {
            "cells": {
             "fill": {
              "color": "#EBF0F8"
             },
             "line": {
              "color": "white"
             }
            },
            "header": {
             "fill": {
              "color": "#C8D4E3"
             },
             "line": {
              "color": "white"
             }
            },
            "type": "table"
           }
          ]
         },
         "layout": {
          "annotationdefaults": {
           "arrowcolor": "#2a3f5f",
           "arrowhead": 0,
           "arrowwidth": 1
          },
          "autotypenumbers": "strict",
          "coloraxis": {
           "colorbar": {
            "outlinewidth": 0,
            "ticks": ""
           }
          },
          "colorscale": {
           "diverging": [
            [
             0,
             "#8e0152"
            ],
            [
             0.1,
             "#c51b7d"
            ],
            [
             0.2,
             "#de77ae"
            ],
            [
             0.3,
             "#f1b6da"
            ],
            [
             0.4,
             "#fde0ef"
            ],
            [
             0.5,
             "#f7f7f7"
            ],
            [
             0.6,
             "#e6f5d0"
            ],
            [
             0.7,
             "#b8e186"
            ],
            [
             0.8,
             "#7fbc41"
            ],
            [
             0.9,
             "#4d9221"
            ],
            [
             1,
             "#276419"
            ]
           ],
           "sequential": [
            [
             0,
             "#0d0887"
            ],
            [
             0.1111111111111111,
             "#46039f"
            ],
            [
             0.2222222222222222,
             "#7201a8"
            ],
            [
             0.3333333333333333,
             "#9c179e"
            ],
            [
             0.4444444444444444,
             "#bd3786"
            ],
            [
             0.5555555555555556,
             "#d8576b"
            ],
            [
             0.6666666666666666,
             "#ed7953"
            ],
            [
             0.7777777777777778,
             "#fb9f3a"
            ],
            [
             0.8888888888888888,
             "#fdca26"
            ],
            [
             1,
             "#f0f921"
            ]
           ],
           "sequentialminus": [
            [
             0,
             "#0d0887"
            ],
            [
             0.1111111111111111,
             "#46039f"
            ],
            [
             0.2222222222222222,
             "#7201a8"
            ],
            [
             0.3333333333333333,
             "#9c179e"
            ],
            [
             0.4444444444444444,
             "#bd3786"
            ],
            [
             0.5555555555555556,
             "#d8576b"
            ],
            [
             0.6666666666666666,
             "#ed7953"
            ],
            [
             0.7777777777777778,
             "#fb9f3a"
            ],
            [
             0.8888888888888888,
             "#fdca26"
            ],
            [
             1,
             "#f0f921"
            ]
           ]
          },
          "colorway": [
           "#636efa",
           "#EF553B",
           "#00cc96",
           "#ab63fa",
           "#FFA15A",
           "#19d3f3",
           "#FF6692",
           "#B6E880",
           "#FF97FF",
           "#FECB52"
          ],
          "font": {
           "color": "#2a3f5f"
          },
          "geo": {
           "bgcolor": "white",
           "lakecolor": "white",
           "landcolor": "#E5ECF6",
           "showlakes": true,
           "showland": true,
           "subunitcolor": "white"
          },
          "hoverlabel": {
           "align": "left"
          },
          "hovermode": "closest",
          "mapbox": {
           "style": "light"
          },
          "paper_bgcolor": "white",
          "plot_bgcolor": "#E5ECF6",
          "polar": {
           "angularaxis": {
            "gridcolor": "white",
            "linecolor": "white",
            "ticks": ""
           },
           "bgcolor": "#E5ECF6",
           "radialaxis": {
            "gridcolor": "white",
            "linecolor": "white",
            "ticks": ""
           }
          },
          "scene": {
           "xaxis": {
            "backgroundcolor": "#E5ECF6",
            "gridcolor": "white",
            "gridwidth": 2,
            "linecolor": "white",
            "showbackground": true,
            "ticks": "",
            "zerolinecolor": "white"
           },
           "yaxis": {
            "backgroundcolor": "#E5ECF6",
            "gridcolor": "white",
            "gridwidth": 2,
            "linecolor": "white",
            "showbackground": true,
            "ticks": "",
            "zerolinecolor": "white"
           },
           "zaxis": {
            "backgroundcolor": "#E5ECF6",
            "gridcolor": "white",
            "gridwidth": 2,
            "linecolor": "white",
            "showbackground": true,
            "ticks": "",
            "zerolinecolor": "white"
           }
          },
          "shapedefaults": {
           "line": {
            "color": "#2a3f5f"
           }
          },
          "ternary": {
           "aaxis": {
            "gridcolor": "white",
            "linecolor": "white",
            "ticks": ""
           },
           "baxis": {
            "gridcolor": "white",
            "linecolor": "white",
            "ticks": ""
           },
           "bgcolor": "#E5ECF6",
           "caxis": {
            "gridcolor": "white",
            "linecolor": "white",
            "ticks": ""
           }
          },
          "title": {
           "x": 0.05
          },
          "xaxis": {
           "automargin": true,
           "gridcolor": "white",
           "linecolor": "white",
           "ticks": "",
           "title": {
            "standoff": 15
           },
           "zerolinecolor": "white",
           "zerolinewidth": 2
          },
          "yaxis": {
           "automargin": true,
           "gridcolor": "white",
           "linecolor": "white",
           "ticks": "",
           "title": {
            "standoff": 15
           },
           "zerolinecolor": "white",
           "zerolinewidth": 2
          }
         }
        },
        "title": {
         "text": "Thomas R Carper Growth Rates SI"
        },
        "width": 800,
        "xaxis": {
         "anchor": "y",
         "domain": [
          0,
          1
         ],
         "title": {
          "text": "date"
         }
        },
        "yaxis": {
         "anchor": "x",
         "domain": [
          0,
          1
         ],
         "title": {
          "text": "Growth Rate"
         }
        }
       }
      }
     },
     "metadata": {},
     "output_type": "display_data"
    }
   ],
   "source": [
    "graphAlphaGrowth_fromSource(101, '2020-11-20','SI')"
   ]
  },
  {
   "cell_type": "code",
   "execution_count": 232,
   "metadata": {},
   "outputs": [
    {
     "data": {
      "application/vnd.plotly.v1+json": {
       "config": {
        "plotlyServerURL": "https://plot.ly"
       },
       "data": [
        {
         "hovertemplate": "transactionType=Purchase<br>date=%{x}<br>Growth Rate=%{y}<extra></extra>",
         "legendgroup": "Purchase",
         "marker": {
          "color": "#636efa",
          "symbol": "circle"
         },
         "mode": "markers",
         "name": "Purchase",
         "orientation": "v",
         "showlegend": true,
         "type": "scatter",
         "x": [
          "2017-10-20"
         ],
         "xaxis": "x",
         "y": [
          100
         ],
         "yaxis": "y"
        },
        {
         "hovertemplate": "transactionType=Sale (Partial)<br>date=%{x}<br>Growth Rate=%{y}<extra></extra>",
         "legendgroup": "Sale (Partial)",
         "marker": {
          "color": "#00cc96",
          "symbol": "circle"
         },
         "mode": "markers",
         "name": "Sale (Partial)",
         "orientation": "v",
         "showlegend": true,
         "type": "scatter",
         "x": [
          "2018-06-22"
         ],
         "xaxis": "x",
         "y": [
          329.20818038804396
         ],
         "yaxis": "y"
        },
        {
         "line": {
          "color": "#EB4E4B"
         },
         "mode": "lines",
         "name": "CRSP Growth Rate",
         "type": "scatter",
         "x": [
          "2017-10-20",
          "2017-10-27",
          "2017-11-03",
          "2017-11-10",
          "2017-11-17",
          "2017-11-24",
          "2017-12-01",
          "2017-12-08",
          "2017-12-15",
          "2017-12-22",
          "2017-12-29",
          "2018-01-05",
          "2018-01-12",
          "2018-01-19",
          "2018-01-26",
          "2018-02-02",
          "2018-02-09",
          "2018-02-16",
          "2018-02-23",
          "2018-03-02",
          "2018-03-09",
          "2018-03-16",
          "2018-03-23",
          "2018-03-29",
          "2018-04-06",
          "2018-04-13",
          "2018-04-20",
          "2018-04-27",
          "2018-05-04",
          "2018-05-11",
          "2018-05-18",
          "2018-05-25",
          "2018-06-01",
          "2018-06-08",
          "2018-06-15",
          "2018-06-22",
          "2018-06-29",
          "2018-07-06",
          "2018-07-13",
          "2018-07-20",
          "2018-07-27",
          "2018-08-03",
          "2018-08-10",
          "2018-08-17",
          "2018-08-24",
          "2018-08-31",
          "2018-09-07",
          "2018-09-14",
          "2018-09-21",
          "2018-09-28",
          "2018-10-05"
         ],
         "y": [
          100,
          99.37073938122705,
          99.89512323020452,
          91.50498164656528,
          97.48295752490823,
          104.98164656528579,
          100.26219192448873,
          99.00367068694284,
          100.52438384897746,
          110.90718405873098,
          123.1253277399056,
          140.5873099108547,
          149.55427372836914,
          155.89931830099633,
          206.8694284216046,
          193.5500786575773,
          182.90508652333506,
          209.80597797587828,
          225.69480859989505,
          262.29680125852116,
          297.4305191400104,
          271.4735186156266,
          277.7136864184582,
          239.695857367593,
          226.9008914525432,
          271.4735186156266,
          283.53434714210795,
          256.47614053487143,
          257.4200314630309,
          276.5076035658101,
          339.1714735186156,
          366.7540639748295,
          352.01887781856306,
          357.3675930781331,
          311.0120608285264,
          329.20818038804396,
          308.12794965915043,
          329.7325642370215,
          344.5726271630833,
          305.97797587834293,
          246.51284740429992,
          249.2396434189827,
          247.03723125327738,
          255.21761929732565,
          253.90665967488204,
          297.1683272155218,
          262.9260618772942,
          290.2988987939172,
          233.29837441006822,
          232.5642370214998,
          202.20241216570534
         ]
        },
        {
         "line": {
          "color": "#349FEB"
         },
         "mode": "lines",
         "name": "SPY Growth Rate",
         "type": "scatter",
         "x": [
          "2017-10-20",
          "2017-10-27",
          "2017-11-03",
          "2017-11-10",
          "2017-11-17",
          "2017-11-24",
          "2017-12-01",
          "2017-12-08",
          "2017-12-15",
          "2017-12-22",
          "2017-12-29",
          "2018-01-05",
          "2018-01-12",
          "2018-01-19",
          "2018-01-26",
          "2018-02-02",
          "2018-02-09",
          "2018-02-16",
          "2018-02-23",
          "2018-03-02",
          "2018-03-09",
          "2018-03-16",
          "2018-03-23",
          "2018-03-29",
          "2018-04-06",
          "2018-04-13",
          "2018-04-20",
          "2018-04-27",
          "2018-05-04",
          "2018-05-11",
          "2018-05-18",
          "2018-05-25",
          "2018-06-01",
          "2018-06-08",
          "2018-06-15",
          "2018-06-22",
          "2018-06-29",
          "2018-07-06",
          "2018-07-13",
          "2018-07-20",
          "2018-07-27",
          "2018-08-03",
          "2018-08-10",
          "2018-08-17",
          "2018-08-24",
          "2018-08-31",
          "2018-09-07",
          "2018-09-14",
          "2018-09-21",
          "2018-09-28",
          "2018-10-05"
         ],
         "y": [
          100,
          100.23336139211116,
          100.5211723621745,
          100.38114704566513,
          100.2917123416923,
          101.26404440778661,
          102.85868765491517,
          103.26705948955637,
          104.18159188684324,
          104.57249236158079,
          104.31843673735071,
          106.88278286534539,
          108.64187740787779,
          109.61526962930606,
          112.02716542027737,
          107.67633033592081,
          102.22314573531311,
          106.76162831378052,
          107.38707755460328,
          105.18623748751666,
          109.01327102447051,
          107.6164527626588,
          101.27799605198155,
          103.2796117287105,
          101.93342648564868,
          104.06455073797416,
          104.63758589908596,
          104.61795182230102,
          104.40600556793584,
          107.08658712674584,
          106.4900589234335,
          106.81187967661025,
          107.38097105987973,
          109.18242940955713,
          109.25524087789346,
          108.31301722328358,
          106.94897896439788,
          108.58110930413525,
          110.22507097739961,
          110.2605649779806,
          110.94652788526577,
          111.80597461140009,
          111.6325331987643,
          112.3815541453134,
          113.34744046697725,
          114.4513166069093,
          113.38293446755824,
          114.67602713149537,
          115.63504364659514,
          115.13210595616475,
          113.98366088599307
         ]
        }
       ],
       "layout": {
        "height": 500,
        "legend": {
         "title": {
          "text": "transactionType"
         },
         "tracegroupgap": 0
        },
        "template": {
         "data": {
          "bar": [
           {
            "error_x": {
             "color": "#2a3f5f"
            },
            "error_y": {
             "color": "#2a3f5f"
            },
            "marker": {
             "line": {
              "color": "#E5ECF6",
              "width": 0.5
             },
             "pattern": {
              "fillmode": "overlay",
              "size": 10,
              "solidity": 0.2
             }
            },
            "type": "bar"
           }
          ],
          "barpolar": [
           {
            "marker": {
             "line": {
              "color": "#E5ECF6",
              "width": 0.5
             },
             "pattern": {
              "fillmode": "overlay",
              "size": 10,
              "solidity": 0.2
             }
            },
            "type": "barpolar"
           }
          ],
          "carpet": [
           {
            "aaxis": {
             "endlinecolor": "#2a3f5f",
             "gridcolor": "white",
             "linecolor": "white",
             "minorgridcolor": "white",
             "startlinecolor": "#2a3f5f"
            },
            "baxis": {
             "endlinecolor": "#2a3f5f",
             "gridcolor": "white",
             "linecolor": "white",
             "minorgridcolor": "white",
             "startlinecolor": "#2a3f5f"
            },
            "type": "carpet"
           }
          ],
          "choropleth": [
           {
            "colorbar": {
             "outlinewidth": 0,
             "ticks": ""
            },
            "type": "choropleth"
           }
          ],
          "contour": [
           {
            "colorbar": {
             "outlinewidth": 0,
             "ticks": ""
            },
            "colorscale": [
             [
              0,
              "#0d0887"
             ],
             [
              0.1111111111111111,
              "#46039f"
             ],
             [
              0.2222222222222222,
              "#7201a8"
             ],
             [
              0.3333333333333333,
              "#9c179e"
             ],
             [
              0.4444444444444444,
              "#bd3786"
             ],
             [
              0.5555555555555556,
              "#d8576b"
             ],
             [
              0.6666666666666666,
              "#ed7953"
             ],
             [
              0.7777777777777778,
              "#fb9f3a"
             ],
             [
              0.8888888888888888,
              "#fdca26"
             ],
             [
              1,
              "#f0f921"
             ]
            ],
            "type": "contour"
           }
          ],
          "contourcarpet": [
           {
            "colorbar": {
             "outlinewidth": 0,
             "ticks": ""
            },
            "type": "contourcarpet"
           }
          ],
          "heatmap": [
           {
            "colorbar": {
             "outlinewidth": 0,
             "ticks": ""
            },
            "colorscale": [
             [
              0,
              "#0d0887"
             ],
             [
              0.1111111111111111,
              "#46039f"
             ],
             [
              0.2222222222222222,
              "#7201a8"
             ],
             [
              0.3333333333333333,
              "#9c179e"
             ],
             [
              0.4444444444444444,
              "#bd3786"
             ],
             [
              0.5555555555555556,
              "#d8576b"
             ],
             [
              0.6666666666666666,
              "#ed7953"
             ],
             [
              0.7777777777777778,
              "#fb9f3a"
             ],
             [
              0.8888888888888888,
              "#fdca26"
             ],
             [
              1,
              "#f0f921"
             ]
            ],
            "type": "heatmap"
           }
          ],
          "heatmapgl": [
           {
            "colorbar": {
             "outlinewidth": 0,
             "ticks": ""
            },
            "colorscale": [
             [
              0,
              "#0d0887"
             ],
             [
              0.1111111111111111,
              "#46039f"
             ],
             [
              0.2222222222222222,
              "#7201a8"
             ],
             [
              0.3333333333333333,
              "#9c179e"
             ],
             [
              0.4444444444444444,
              "#bd3786"
             ],
             [
              0.5555555555555556,
              "#d8576b"
             ],
             [
              0.6666666666666666,
              "#ed7953"
             ],
             [
              0.7777777777777778,
              "#fb9f3a"
             ],
             [
              0.8888888888888888,
              "#fdca26"
             ],
             [
              1,
              "#f0f921"
             ]
            ],
            "type": "heatmapgl"
           }
          ],
          "histogram": [
           {
            "marker": {
             "pattern": {
              "fillmode": "overlay",
              "size": 10,
              "solidity": 0.2
             }
            },
            "type": "histogram"
           }
          ],
          "histogram2d": [
           {
            "colorbar": {
             "outlinewidth": 0,
             "ticks": ""
            },
            "colorscale": [
             [
              0,
              "#0d0887"
             ],
             [
              0.1111111111111111,
              "#46039f"
             ],
             [
              0.2222222222222222,
              "#7201a8"
             ],
             [
              0.3333333333333333,
              "#9c179e"
             ],
             [
              0.4444444444444444,
              "#bd3786"
             ],
             [
              0.5555555555555556,
              "#d8576b"
             ],
             [
              0.6666666666666666,
              "#ed7953"
             ],
             [
              0.7777777777777778,
              "#fb9f3a"
             ],
             [
              0.8888888888888888,
              "#fdca26"
             ],
             [
              1,
              "#f0f921"
             ]
            ],
            "type": "histogram2d"
           }
          ],
          "histogram2dcontour": [
           {
            "colorbar": {
             "outlinewidth": 0,
             "ticks": ""
            },
            "colorscale": [
             [
              0,
              "#0d0887"
             ],
             [
              0.1111111111111111,
              "#46039f"
             ],
             [
              0.2222222222222222,
              "#7201a8"
             ],
             [
              0.3333333333333333,
              "#9c179e"
             ],
             [
              0.4444444444444444,
              "#bd3786"
             ],
             [
              0.5555555555555556,
              "#d8576b"
             ],
             [
              0.6666666666666666,
              "#ed7953"
             ],
             [
              0.7777777777777778,
              "#fb9f3a"
             ],
             [
              0.8888888888888888,
              "#fdca26"
             ],
             [
              1,
              "#f0f921"
             ]
            ],
            "type": "histogram2dcontour"
           }
          ],
          "mesh3d": [
           {
            "colorbar": {
             "outlinewidth": 0,
             "ticks": ""
            },
            "type": "mesh3d"
           }
          ],
          "parcoords": [
           {
            "line": {
             "colorbar": {
              "outlinewidth": 0,
              "ticks": ""
             }
            },
            "type": "parcoords"
           }
          ],
          "pie": [
           {
            "automargin": true,
            "type": "pie"
           }
          ],
          "scatter": [
           {
            "fillpattern": {
             "fillmode": "overlay",
             "size": 10,
             "solidity": 0.2
            },
            "type": "scatter"
           }
          ],
          "scatter3d": [
           {
            "line": {
             "colorbar": {
              "outlinewidth": 0,
              "ticks": ""
             }
            },
            "marker": {
             "colorbar": {
              "outlinewidth": 0,
              "ticks": ""
             }
            },
            "type": "scatter3d"
           }
          ],
          "scattercarpet": [
           {
            "marker": {
             "colorbar": {
              "outlinewidth": 0,
              "ticks": ""
             }
            },
            "type": "scattercarpet"
           }
          ],
          "scattergeo": [
           {
            "marker": {
             "colorbar": {
              "outlinewidth": 0,
              "ticks": ""
             }
            },
            "type": "scattergeo"
           }
          ],
          "scattergl": [
           {
            "marker": {
             "colorbar": {
              "outlinewidth": 0,
              "ticks": ""
             }
            },
            "type": "scattergl"
           }
          ],
          "scattermapbox": [
           {
            "marker": {
             "colorbar": {
              "outlinewidth": 0,
              "ticks": ""
             }
            },
            "type": "scattermapbox"
           }
          ],
          "scatterpolar": [
           {
            "marker": {
             "colorbar": {
              "outlinewidth": 0,
              "ticks": ""
             }
            },
            "type": "scatterpolar"
           }
          ],
          "scatterpolargl": [
           {
            "marker": {
             "colorbar": {
              "outlinewidth": 0,
              "ticks": ""
             }
            },
            "type": "scatterpolargl"
           }
          ],
          "scatterternary": [
           {
            "marker": {
             "colorbar": {
              "outlinewidth": 0,
              "ticks": ""
             }
            },
            "type": "scatterternary"
           }
          ],
          "surface": [
           {
            "colorbar": {
             "outlinewidth": 0,
             "ticks": ""
            },
            "colorscale": [
             [
              0,
              "#0d0887"
             ],
             [
              0.1111111111111111,
              "#46039f"
             ],
             [
              0.2222222222222222,
              "#7201a8"
             ],
             [
              0.3333333333333333,
              "#9c179e"
             ],
             [
              0.4444444444444444,
              "#bd3786"
             ],
             [
              0.5555555555555556,
              "#d8576b"
             ],
             [
              0.6666666666666666,
              "#ed7953"
             ],
             [
              0.7777777777777778,
              "#fb9f3a"
             ],
             [
              0.8888888888888888,
              "#fdca26"
             ],
             [
              1,
              "#f0f921"
             ]
            ],
            "type": "surface"
           }
          ],
          "table": [
           {
            "cells": {
             "fill": {
              "color": "#EBF0F8"
             },
             "line": {
              "color": "white"
             }
            },
            "header": {
             "fill": {
              "color": "#C8D4E3"
             },
             "line": {
              "color": "white"
             }
            },
            "type": "table"
           }
          ]
         },
         "layout": {
          "annotationdefaults": {
           "arrowcolor": "#2a3f5f",
           "arrowhead": 0,
           "arrowwidth": 1
          },
          "autotypenumbers": "strict",
          "coloraxis": {
           "colorbar": {
            "outlinewidth": 0,
            "ticks": ""
           }
          },
          "colorscale": {
           "diverging": [
            [
             0,
             "#8e0152"
            ],
            [
             0.1,
             "#c51b7d"
            ],
            [
             0.2,
             "#de77ae"
            ],
            [
             0.3,
             "#f1b6da"
            ],
            [
             0.4,
             "#fde0ef"
            ],
            [
             0.5,
             "#f7f7f7"
            ],
            [
             0.6,
             "#e6f5d0"
            ],
            [
             0.7,
             "#b8e186"
            ],
            [
             0.8,
             "#7fbc41"
            ],
            [
             0.9,
             "#4d9221"
            ],
            [
             1,
             "#276419"
            ]
           ],
           "sequential": [
            [
             0,
             "#0d0887"
            ],
            [
             0.1111111111111111,
             "#46039f"
            ],
            [
             0.2222222222222222,
             "#7201a8"
            ],
            [
             0.3333333333333333,
             "#9c179e"
            ],
            [
             0.4444444444444444,
             "#bd3786"
            ],
            [
             0.5555555555555556,
             "#d8576b"
            ],
            [
             0.6666666666666666,
             "#ed7953"
            ],
            [
             0.7777777777777778,
             "#fb9f3a"
            ],
            [
             0.8888888888888888,
             "#fdca26"
            ],
            [
             1,
             "#f0f921"
            ]
           ],
           "sequentialminus": [
            [
             0,
             "#0d0887"
            ],
            [
             0.1111111111111111,
             "#46039f"
            ],
            [
             0.2222222222222222,
             "#7201a8"
            ],
            [
             0.3333333333333333,
             "#9c179e"
            ],
            [
             0.4444444444444444,
             "#bd3786"
            ],
            [
             0.5555555555555556,
             "#d8576b"
            ],
            [
             0.6666666666666666,
             "#ed7953"
            ],
            [
             0.7777777777777778,
             "#fb9f3a"
            ],
            [
             0.8888888888888888,
             "#fdca26"
            ],
            [
             1,
             "#f0f921"
            ]
           ]
          },
          "colorway": [
           "#636efa",
           "#EF553B",
           "#00cc96",
           "#ab63fa",
           "#FFA15A",
           "#19d3f3",
           "#FF6692",
           "#B6E880",
           "#FF97FF",
           "#FECB52"
          ],
          "font": {
           "color": "#2a3f5f"
          },
          "geo": {
           "bgcolor": "white",
           "lakecolor": "white",
           "landcolor": "#E5ECF6",
           "showlakes": true,
           "showland": true,
           "subunitcolor": "white"
          },
          "hoverlabel": {
           "align": "left"
          },
          "hovermode": "closest",
          "mapbox": {
           "style": "light"
          },
          "paper_bgcolor": "white",
          "plot_bgcolor": "#E5ECF6",
          "polar": {
           "angularaxis": {
            "gridcolor": "white",
            "linecolor": "white",
            "ticks": ""
           },
           "bgcolor": "#E5ECF6",
           "radialaxis": {
            "gridcolor": "white",
            "linecolor": "white",
            "ticks": ""
           }
          },
          "scene": {
           "xaxis": {
            "backgroundcolor": "#E5ECF6",
            "gridcolor": "white",
            "gridwidth": 2,
            "linecolor": "white",
            "showbackground": true,
            "ticks": "",
            "zerolinecolor": "white"
           },
           "yaxis": {
            "backgroundcolor": "#E5ECF6",
            "gridcolor": "white",
            "gridwidth": 2,
            "linecolor": "white",
            "showbackground": true,
            "ticks": "",
            "zerolinecolor": "white"
           },
           "zaxis": {
            "backgroundcolor": "#E5ECF6",
            "gridcolor": "white",
            "gridwidth": 2,
            "linecolor": "white",
            "showbackground": true,
            "ticks": "",
            "zerolinecolor": "white"
           }
          },
          "shapedefaults": {
           "line": {
            "color": "#2a3f5f"
           }
          },
          "ternary": {
           "aaxis": {
            "gridcolor": "white",
            "linecolor": "white",
            "ticks": ""
           },
           "baxis": {
            "gridcolor": "white",
            "linecolor": "white",
            "ticks": ""
           },
           "bgcolor": "#E5ECF6",
           "caxis": {
            "gridcolor": "white",
            "linecolor": "white",
            "ticks": ""
           }
          },
          "title": {
           "x": 0.05
          },
          "xaxis": {
           "automargin": true,
           "gridcolor": "white",
           "linecolor": "white",
           "ticks": "",
           "title": {
            "standoff": 15
           },
           "zerolinecolor": "white",
           "zerolinewidth": 2
          },
          "yaxis": {
           "automargin": true,
           "gridcolor": "white",
           "linecolor": "white",
           "ticks": "",
           "title": {
            "standoff": 15
           },
           "zerolinecolor": "white",
           "zerolinewidth": 2
          }
         }
        },
        "title": {
         "text": "James M Inhofe Growth Rates CRSP"
        },
        "width": 800,
        "xaxis": {
         "anchor": "y",
         "domain": [
          0,
          1
         ],
         "title": {
          "text": "date"
         }
        },
        "yaxis": {
         "anchor": "x",
         "domain": [
          0,
          1
         ],
         "title": {
          "text": "Growth Rate"
         }
        }
       }
      }
     },
     "metadata": {},
     "output_type": "display_data"
    }
   ],
   "source": [
    "graphAlphaGrowth_fromSource(132, '2017-10-19','CRSP')"
   ]
  },
  {
   "cell_type": "code",
   "execution_count": null,
   "metadata": {},
   "outputs": [],
   "source": []
  },
  {
   "cell_type": "markdown",
   "metadata": {},
   "source": [
    "# Alpha EDA"
   ]
  },
  {
   "cell_type": "code",
   "execution_count": 233,
   "metadata": {},
   "outputs": [
    {
     "data": {
      "text/plain": [
       "count    2832.000000\n",
       "mean       12.254362\n",
       "std        16.265922\n",
       "min       -25.097944\n",
       "25%         2.384561\n",
       "50%         7.527119\n",
       "75%        16.928533\n",
       "max       188.417248\n",
       "Name: alpha, dtype: float64"
      ]
     },
     "execution_count": 233,
     "metadata": {},
     "output_type": "execute_result"
    }
   ],
   "source": [
    "#remove fill in values\n",
    "purchasesFilt = purchases[ purchases['alpha']!= -9999]\n",
    "\n",
    "#remove top outlier \n",
    "purchasesFilt = purchasesFilt[ purchasesFilt['alpha']< 200]\n",
    "\n",
    "\n",
    "\n",
    "purchasesFilt['alpha'].describe()"
   ]
  },
  {
   "cell_type": "code",
   "execution_count": 238,
   "metadata": {},
   "outputs": [
    {
     "data": {
      "application/vnd.plotly.v1+json": {
       "config": {
        "plotlyServerURL": "https://plot.ly"
       },
       "data": [
        {
         "alignmentgroup": "True",
         "bingroup": "x",
         "hovertemplate": "alpha=%{x}<br>count=%{y}<extra></extra>",
         "legendgroup": "",
         "marker": {
          "color": "#636efa",
          "pattern": {
           "shape": ""
          }
         },
         "name": "",
         "nbinsx": 50,
         "offsetgroup": "",
         "orientation": "v",
         "showlegend": false,
         "type": "histogram",
         "x": [
          10.898455269172317,
          2.325887275806508,
          12.969423298853371,
          1.2743223109707316,
          12.969423298853371,
          7.196241278911543,
          16.7135187022255,
          16.7135187022255,
          16.7135187022255,
          0.8654912370731864,
          -7.297915652415355,
          12.078967171090724,
          2.240226969362695,
          3.586570781182033,
          0.8300626767919397,
          -6.278541363534231,
          4.554360858840553,
          4.11559068781132,
          7.772809822971126,
          7.42732337784453,
          0.967536572358469,
          -4.690790823610044,
          0.23809990120427926,
          2.1771773325657335,
          23.170660074057253,
          9.511625519720738,
          17.912311102076842,
          4.864046122583318,
          6.8266738029466865,
          23.242649953192426,
          17.17913770620322,
          3.8547484956397398,
          24.655275446938404,
          0.8170828637330771,
          2.662687658295809,
          0.25284288337005023,
          2.7411745389022286,
          10.84635729835803,
          7.009401045888808,
          3.8097044055886187,
          0.7837431628611853,
          11.806761220526184,
          9.231838504806774,
          10.354426927749557,
          3.872021851422886,
          -1.2620184390325164,
          -1.2620184390325164,
          30.99276024313157,
          17.826348424329638,
          65.06622388131987,
          32.06238051378287,
          6.635677804670294,
          3.7707109418973204,
          5.672325420443272,
          3.5771954334647518,
          30.733978284255983,
          24.192301713992194,
          -0.9794890154700369,
          1.2946563018792006,
          24.118528618356933,
          19.045918529808233,
          24.118528618356933,
          3.0789864126594466,
          8.769504672295596,
          0.09634811794670384,
          0.9126126663712739,
          70.02313675341921,
          13.2588917346403,
          2.7508413823096873,
          18.05688219406443,
          18.05688219406443,
          1.6184872927472895,
          3.974182574989797,
          4.56384946125857,
          -6.713851351169211,
          75.65486787628551,
          15.370518437301627,
          1.5491764527018859,
          32.76016009095976,
          2.4672636527497644,
          1.8454513002684934,
          3.2503929651618932,
          9.72932688192283,
          6.649097039613352,
          18.050177030620375,
          24.120007388597273,
          29.22657256108934,
          15.364329198847088,
          7.64363563055602,
          -2.8097775814368333,
          8.055690934385922,
          11.261876455474635,
          -1.3740738058290276,
          14.358528248930796,
          14.307043157886213,
          20.991654862003543,
          3.6135698880862606,
          -0.7765428506864822,
          10.843433116782307,
          57.87362772240523,
          1.3328556981612962,
          2.9850946546441577,
          7.195879866347852,
          2.657004593943867,
          59.2803315791795,
          1.7865704720365017,
          1.7865704720365017,
          23.596708880451317,
          4.226488668777989,
          11.100518588835612,
          3.9418953418786913,
          37.014317019265874,
          2.4391381021723078,
          15.456270906131365,
          2.3467978715853945,
          14.027110208192894,
          25.103285495409864,
          -0.8168789837221624,
          23.80022110317377,
          -0.20239369155753195,
          54.474871188899385,
          29.350129658724384,
          23.425862128610945,
          9.263108754543907,
          5.710777395859182,
          12.689360862420074,
          32.7008532946755,
          13.779247563051342,
          4.561087647783552,
          10.63210544083644,
          1.5647635171383314,
          16.88156925692391,
          19.106811871728397,
          93.60309958691025,
          -0.987983082664698,
          14.750775727270621,
          20.433837309351077,
          -1.6765972397523967,
          -2.123345904023708,
          35.464922314121424,
          11.032375976868849,
          22.593581408911135,
          24.9581416531759,
          7.707392450216233,
          15.465838143953974,
          6.82713723172543,
          0.823753447561316,
          32.66747581421026,
          14.290326905547772,
          16.995495498089426,
          24.9581416531759,
          7.707392450216233,
          15.465838143953974,
          6.82713723172543,
          0.823753447561316,
          32.66747581421026,
          14.290326905547772,
          12.12928034150876,
          6.7012785338726815,
          6.7012785338726815,
          11.30145970490301,
          25.181833682455476,
          50.45940486573359,
          9.045238111626915,
          40.52197870911789,
          27.238841543308794,
          16.284163774775962,
          16.51246559502968,
          10.469805334773568,
          68.18284057458936,
          -1.6146275172577162,
          11.932620274048531,
          16.643933194573947,
          6.824707870798903,
          10.135561984582623,
          16.021961942687682,
          25.7660388109543,
          9.843069639014487,
          19.456886705592808,
          17.35694563542569,
          9.602422345903705,
          13.902804985524341,
          4.459579339826988,
          10.21555715408239,
          -4.1364035142375855,
          17.301367024352686,
          -1.4477608630778889,
          12.814696823534106,
          49.924687838689366,
          4.832926852066052,
          -2.82568665153066,
          16.04702828287401,
          64.60106283430399,
          -2.2296884944561555,
          20.374484499535072,
          18.381223491234323,
          8.558063062402582,
          -0.9213530902366216,
          2.448399333747602,
          4.445661905374223,
          9.893244628927135,
          5.985900436317664,
          13.236848858337211,
          1.7394252024351715,
          -1.1113497800425591,
          1.5934449792106307,
          7.814280490231525,
          11.829985762004128,
          23.68389674696472,
          21.5236857556216,
          37.84019433833477,
          8.734864881316568,
          53.785635681581255,
          53.785635681581255,
          24.497069147132038,
          -9.373881065993459,
          -9.373881065993459,
          -9.373881065993459,
          15.810664563945792,
          49.79349502906588,
          9.070992809685862,
          36.01740822197364,
          4.726940601764255,
          2.2235497012764824,
          0.5835419047181603,
          6.132690393638711,
          22.939743577868953,
          -2.167119960268039,
          -1.3863628185093972,
          10.42503396087156,
          29.615889464302057,
          9.799759899730788,
          -0.555017664320772,
          14.456745594580866,
          12.969331581394371,
          32.457500625034584,
          2.0702123427936954,
          2.0702123427936954,
          6.379567518068214,
          2.892748620199569,
          -3.761761723719488,
          32.632158564616404,
          20.702755093809955,
          -4.116074924406334,
          2.6490858451107897,
          6.562483224586913,
          29.859337744236413,
          8.780765718480936,
          -3.90211912897081,
          1.5370933738239074,
          22.465204120366167,
          44.212169408468284,
          44.212169408468284,
          33.41223601966877,
          36.3584325637963,
          7.7946038730828775,
          -6.166713494800135,
          29.86431394383196,
          2.3896917662041943,
          6.402178000452793,
          8.823717477691574,
          24.5113451758626,
          6.840833593521836,
          -0.4306120405378522,
          1.8498677479676786,
          55.82736162649641,
          43.56003922233484,
          5.065332405822602,
          6.706466329346739,
          -0.893291007385244,
          0.2259042078230067,
          8.09533668269087,
          0.19116295755127055,
          18.94694012851899,
          14.511915090989817,
          3.4927065398508574,
          -6.504624323500693,
          26.18875734849489,
          14.07000783022238,
          5.916858749234464,
          18.428831662934456,
          9.443100067383028,
          2.483767905442477,
          15.37636343200677,
          33.73755900336549,
          -1.7667661364341711,
          -1.7667661364341711,
          -1.7667661364341711,
          -0.9739032204862497,
          10.755948837408852,
          15.736706397206405,
          -0.9739032204862497,
          10.755948837408852,
          15.736706397206405,
          -0.9739032204862497,
          10.755948837408852,
          15.736706397206405,
          -25.097944429935154,
          2.0453555486239736,
          0.7081122222027574,
          6.446419409184557,
          23.65061707078945,
          7.93939124883812,
          22.733131392660624,
          13.75191571676207,
          6.783881547442078,
          -1.2971499925025114,
          17.173678073209373,
          84.18113502445745,
          15.454653485761312,
          17.173678073209373,
          30.33548910375987,
          91.69867429490532,
          39.738400539091515,
          8.832570994406026,
          39.738400539091515,
          2.0237970457409915,
          -0.98230194240179,
          44.31511327557389,
          46.25750767672815,
          23.476863559945983,
          1.612907295251219,
          -1.6530485109559407,
          23.80514043410507,
          22.829793836601638,
          31.985000025062774,
          1.612907295251219,
          4.318163925234458,
          22.700492509122796,
          -6.914739980993275,
          3.275489926838304,
          1.7441822591667346,
          3.5831602615698444,
          6.740343735503501,
          12.615927775645844,
          18.216958196511285,
          24.622856768179275,
          21.821913613793086,
          27.00880954667356,
          12.317273519111197,
          36.491415536290575,
          -1.537660644545852,
          -0.6789739842342186,
          15.358711502558506,
          1.8095849204939327,
          3.0656225554591003,
          4.690441115372337,
          24.178693363585694,
          59.587307789647895,
          147.03060679926318,
          83.48682909998178,
          18.519495318475492,
          21.143701911410687,
          34.24661466579653,
          13.104433492686923,
          55.167519931000186,
          19.39105013025673,
          7.684469776463175,
          10.050993543600725,
          7.210998789732955,
          8.464744346106315,
          32.49176128109511,
          4.607468106167346,
          9.081555788757186,
          4.607468106167346,
          9.081555788757186,
          4.607468106167346,
          9.081555788757186,
          2.5932812868339,
          2.5932812868339,
          1.9134661725681212,
          14.099593757284651,
          13.565403487592377,
          8.813163468676748,
          8.813163468676748,
          2.873049372333341,
          12.73578724623448,
          2.4705678777503834,
          2.4705678777503834,
          4.299118835117909,
          8.813163468676748,
          41.571570796553814,
          1.7904259992108393,
          2.4705678777503834,
          2.4705678777503834,
          -1.9013667050976295,
          1.495107650158502,
          66.70695774388498,
          8.257501148787597,
          29.132854782868137,
          2.5946895476445206,
          65.1865943732967,
          7.538468667889774,
          4.511890961831327,
          38.950005132437795,
          89.1346940070932,
          1.495107650158502,
          -2.135663830694824,
          1.935488495557962,
          7.4034653456626245,
          -2.135663830694824,
          29.786152859521863,
          0.5112114617814854,
          10.454369736188653,
          1.0287768816409084,
          8.68184952572291,
          1.935488495557962,
          22.30811005461507,
          4.9431113381189675,
          3.740828349707485,
          25.87950942921239,
          3.7384257062741426,
          4.9348519444648105,
          2.8492826351067038,
          95.69561138295933,
          187.9827059228894,
          10.464058497905071,
          6.9884493626960165,
          6.9884493626960165,
          6.9884493626960165,
          11.280068457139805,
          7.26246136277085,
          32.842152925107385,
          59.229586694088624,
          7.26246136277085,
          11.280068457139805,
          -2.135663830694824,
          32.842152925107385,
          7.16633765898392,
          2.4582915763654256,
          7.26246136277085,
          6.015803839786557,
          18.08098548476964,
          33.264771430276596,
          49.02053136092384,
          9.594030466147203,
          10.464058497905071,
          32.63515329190594,
          17.994027718995184,
          0.9641254801380796,
          14.01034795375999,
          15.553258284837227,
          44.14559358338062,
          17.994027718995184,
          22.55374360272431,
          0.9641254801380796,
          37.90965442047006,
          26.762072096740752,
          4.560930584152118,
          4.368003281278845,
          29.551867039668295,
          48.184633329428564,
          -11.256192994535198,
          37.0196286144412,
          7.891632266301059,
          109.71699729851802,
          26.9960503610434,
          9.08077099750598,
          4.306898429341729,
          9.7700446124649,
          33.55578901251209,
          1.1743170478143412,
          1.1743170478143412,
          1.0571717243632008,
          9.546736060286719,
          0.9639838701126706,
          21.700388466788638,
          19.909659997765814,
          6.979505949293227,
          24.232571953279376,
          6.332292987351437,
          9.973775503238414,
          14.915530788990822,
          0.9639838701126706,
          20.868779072282422,
          8.998466048625701,
          22.739907265303458,
          -3.915550801102512,
          23.006866752789477,
          14.503734524408458,
          -2.9945584079242877,
          28.29860812183111,
          23.82948246920158,
          9.944721970917797,
          21.92864342311435,
          2.178978730187353,
          23.82948246920158,
          28.738416795069725,
          2.4359634222091273,
          4.736626216955173,
          11.12521334514588,
          17.872609732860795,
          29.551867039668295,
          15.372092601709568,
          -3.311433126403358,
          12.986648118952075,
          -5.2136853204533935,
          -5.2136853204533935,
          9.7700446124649,
          18.607445003418377,
          -3.011696849138673,
          8.998466048625701,
          27.796497093067956,
          12.986648118952075,
          2.9864001005536664,
          17.909398666351862,
          41.933407476546094,
          27.796497093067956,
          13.401607859917206,
          9.012893595188089,
          38.48912988734435,
          12.37675264207364,
          0.014633297115750565,
          2.9864001005536664,
          41.933407476546094,
          14.313514440197324,
          27.796497093067956,
          29.622394020139183,
          19.782994911251578,
          9.012893595188089,
          1.5317065246305788,
          2.9864001005536664,
          26.616499363242,
          16.1915991369694,
          -0.7726292685466092,
          17.347769578351333,
          6.590324431435093,
          30.882331700707837,
          13.86927547874457,
          4.207996863925345,
          22.98491183350228,
          4.037518641772451,
          18.247396378049586,
          12.209455019114117,
          13.86927547874457,
          -6.84602334748196,
          4.037518641772451,
          11.898071842575348,
          17.277908038600017,
          28.98414375576131,
          23.34159022915702,
          46.987322957773955,
          10.856135921801268,
          10.856135921801268,
          10.856135921801268,
          10.856135921801268,
          28.98414375576131,
          8.860799631670574,
          27.273929451132346,
          17.053067995188755,
          24.05327284488034,
          48.151432192960556,
          24.05327284488034,
          5.381268110612169,
          18.95907614078949,
          6.70310210191154,
          27.17698509966509,
          5.762005674576017,
          9.287866420731646,
          3.9838822953701367,
          26.402213205535418,
          4.647495869346244,
          33.384182245203434,
          34.31334944892218,
          0.7055419162617937,
          34.04926935101631,
          41.00772749459546,
          1.6573725199772866,
          1.6573725199772866,
          12.599806123079603,
          6.791650248960565,
          23.190021642236985,
          7.772087469452941,
          -5.090024899844352,
          11.633073610493014,
          12.225222360316081,
          28.891459962591853,
          37.86403504726246,
          7.782064753712248,
          10.532589259279831,
          0.23907893506027733,
          0.7033961397726785,
          25.05522050978314,
          27.17698509966509,
          47.245828608460414,
          78.0881966529177,
          67.14253402930714,
          20.03662608858464,
          51.9959403497472,
          20.519584517240133,
          48.600776499876886,
          12.599806123079603,
          65.56265200308472,
          25.625936633407974,
          1.3245862080852362,
          -8.834255508507866,
          -1.4064535189862255,
          6.679072692002933,
          15.271332142444251,
          20.75207002188654,
          23.956007877981676,
          10.708761417717938,
          3.874599474304574,
          4.447342258643047,
          41.98658944322878,
          6.740794460996057,
          60.880098886338445,
          0.6834318753030288,
          40.85731916451347,
          19.13155053379097,
          7.611717230486988,
          5.649094196499078,
          44.246549126462696,
          6.791650248960565,
          43.80148133739047,
          -1.001205502158797,
          43.18481921677295,
          9.30237865411911,
          20.264918362728963,
          38.09203704118249,
          49.831885598571716,
          5.649094196499078,
          -1.4865210093085466,
          43.10043834174142,
          49.75194013639674,
          -5.5408570425010595,
          -4.835704026405779,
          1.1376509575095781,
          33.353155271855115,
          63.90054665834906,
          6.740794460996057,
          3.227371783325367,
          9.931054273920836,
          11.896701886106968,
          89.29006940545092,
          9.931054273920836,
          52.291979607370706,
          63.90054665834906,
          20.03662608858464,
          18.44769441335913,
          2.33975504298553,
          4.789918860090438,
          32.93625314740967,
          16.52027240925331,
          25.386832098385767,
          5.447550224387598,
          14.042496731796547,
          26.050078384723292,
          2.5338214251840725,
          9.37481439396305,
          27.449384438087208,
          32.93625314740967,
          27.64698343197493,
          4.231337106613836,
          12.339045587814113,
          0.17457879938989151,
          4.231337106613836,
          27.449384438087208,
          27.64698343197493,
          49.50734120525004,
          14.504872590162122,
          1.2027373702021578,
          16.572147656723388,
          5.60181906234196,
          24.71067668475598,
          13.320153175661787,
          20.97764521226121,
          1.6573725199772866,
          53.47284051145357,
          10.907935885463516,
          31.425529082409128,
          5.748979394194436,
          5.748979394194436,
          5.748979394194436,
          -1.3229016038475976,
          5.748979394194436,
          5.17098097438631,
          5.17098097438631,
          5.748979394194436,
          5.17098097438631,
          5.17098097438631,
          1.1119961968499439,
          21.81580958319458,
          -10.08556753509528,
          20.022126671925108,
          -1.3280060559783209,
          32.555415835642776,
          -2.3548853731654305,
          9.882521274369026,
          -2.3548853731654305,
          9.882521274369026,
          27.433034989975,
          23.744239330520827,
          11.300844242513989,
          28.105664440890507,
          29.615777471916374,
          8.539194535850868,
          28.105664440890507,
          27.433034989975,
          22.084339475661352,
          -16.62576368024139,
          12.24130545271791,
          36.65595137678841,
          17.06445660917882,
          3.692270986569909,
          29.615777471916374,
          29.17139537443711,
          28.105664440890507,
          4.794434470446902,
          8.539194535850868,
          123.2121125262895,
          123.2121125262895,
          28.105664440890507,
          7.582565645837477,
          4.354850345578484,
          -6.771907898048255,
          36.65595137678841,
          60.77099405241188,
          17.06445660917882,
          22.084339475661352,
          60.77099405241188,
          6.10863275470831,
          5.314493213813137,
          4.063512554173684,
          3.110834295805134,
          5.314493213813137,
          3.110834295805134,
          8.489281311573777,
          3.110834295805134,
          4.063512554173684,
          4.063512554173684,
          50.70030253408069,
          27.777908125342137,
          6.3154989445065155,
          4.063512554173684,
          29.089504848835873,
          28.385777014055805,
          4.063512554173684,
          -2.4611068559669036,
          3.110834295805134,
          -2.4611068559669036,
          1.6573725199772866,
          1.6573725199772866,
          5.721185295665677,
          9.015305897702916,
          5.846213753936183,
          38.37119731292242,
          -2.8509704078473845,
          80.3296828042402,
          4.212852980131132,
          15.259190564398324,
          4.1911702699372455,
          14.07593084943592,
          5.193204108111146,
          32.91855719987704,
          31.425529082409128,
          31.425529082409128,
          23.187226108868714,
          4.425231398168691,
          8.366721824416103,
          8.366721824416103,
          61.53818757787704,
          7.962445911196681,
          12.67463492213362,
          30.841006653270213,
          17.247889126386056,
          17.247889126386056,
          5.846213753936183,
          20.47422229471782,
          23.40754018855351,
          0.7964946504815629,
          11.098304038789493,
          67.15735925779427,
          1.0814047485798142,
          40.82069063798082,
          68.9572710550876,
          40.82069063798082,
          78.66418611034973,
          57.558482463332595,
          3.169665152302514,
          43.51881265703905,
          2.672708156604344,
          9.603823897391422,
          66.9814927697472,
          107.01742757451011,
          22.689201503371592,
          1.1119961968499439,
          15.08957375215887,
          42.19625384248741,
          -4.078828340981602,
          27.515524843319312,
          54.603726470588555,
          20.84095637148984,
          13.984328003936426,
          13.984328003936426,
          -5.151685536530152,
          16.923276941074548,
          23.187226108868714,
          23.187226108868714,
          -17.438190576809944,
          16.923276941074548,
          16.923276941074548,
          23.187226108868714,
          16.923276941074548,
          23.187226108868714,
          -0.9252937096796643,
          16.923276941074548,
          23.187226108868714,
          16.923276941074548,
          16.923276941074548,
          5.679829028002601,
          23.187226108868714,
          16.923276941074548,
          23.187226108868714,
          -0.0213477706210341,
          5.679829028002601,
          -0.9252937096796643,
          -17.438190576809944,
          2.804223829091015,
          -0.9252937096796643,
          2.804223829091015,
          5.036082575579101,
          5.036082575579101,
          6.715399594844769,
          1.6060018169212498,
          -1.5396429937575533,
          -1.5396429937575533,
          -1.5396429937575533,
          1.3209220494061213,
          0.6208749263956008,
          5.777468598714748,
          11.010393786226928,
          -2.1664005682707312,
          -2.411389868958821,
          -2.006219891274185,
          -2.006219891274185,
          7.682576408372341,
          5.777468598714748,
          6.026699448391696,
          25.81126202442786,
          3.519980736992224,
          64.86006540188968,
          56.60418427675887,
          49.596595384184795,
          18.077075001258976,
          5.649979468603604,
          -3.528525183063479,
          25.712749703378037,
          19.348069393022257,
          2.2517809756453744,
          -1.0721631332295374,
          0.8601157759496942,
          0.5977703039063158,
          0.5977703039063158,
          6.239381451408676,
          1.2024551173719829,
          0.5977703039063158,
          4.327296096891715,
          2.3845610408993565,
          2.3845610408993565,
          7.041858360553817,
          2.3845610408993565,
          9.054590155842547,
          9.054590155842547,
          4.110247425404751,
          38.095804988856784,
          4.110247425404751,
          4.110247425404751,
          25.406029687737103,
          29.486269311438804,
          -2.8232813909742305,
          2.394045485744428,
          -0.34294562396578954,
          -0.6920056419605345,
          -1.414877743169498,
          11.685683202010026,
          3.2965167051865336,
          -1.8447891375606815,
          5.845202173322704,
          5.845202173322704,
          5.845202173322704,
          35.42145944640346,
          3.810985680360176,
          0.526306641524144,
          2.300995715905003,
          6.920231263372003,
          -2.897632360897262,
          3.2965167051865336,
          12.21355177719498,
          3.1269285980271206,
          6.920231263372003,
          12.21355177719498,
          6.920231263372003,
          6.920231263372003,
          28.22927243285079,
          28.22927243285079,
          -0.6962589848922391,
          -0.6962589848922391,
          -0.6962589848922391,
          -0.6962589848922391,
          7.281898936798839,
          0.6748400031964223,
          11.9613781903806,
          2.3621185201040618,
          13.662835359221262,
          9.010807141919756,
          9.010807141919756,
          8.134202338684815,
          -2.9987698621385164,
          -2.632037464273523,
          3.924317263214917,
          -2.632037464273523,
          5.879500963506544,
          -0.17835949992937117,
          34.634967809152,
          34.634967809152,
          1.7599473583502458,
          34.634967809152,
          13.679093644583006,
          -0.641321440498416,
          9.477391719545992,
          13.211703916234015,
          11.226516484696006,
          15.009851509254318,
          1.2320098267020825,
          1.2320098267020825,
          -2.036527449356015,
          35.0267344860863,
          31.597312995158248,
          17.216982558625475,
          12.430315385632554,
          52.027890186124026,
          54.72362778754969,
          43.866180338383586,
          31.162742982020475,
          5.125599098381613,
          2.7150500218548643,
          -4.230316275959751,
          6.856614372512354,
          16.172224674907937,
          23.73244518018879,
          40.40975167720798,
          1.3209220494061213,
          2.7150500218548643,
          -4.230316275959751,
          6.856614372512354,
          16.172224674907937,
          23.73244518018879,
          40.40975167720798,
          3.664781723006783,
          28.68020111321816,
          17.74080164296909,
          8.245710315307633,
          8.012908915512114,
          -3.553765701741739,
          -3.56903397153107,
          -3.56903397153107,
          -3.294870500912239,
          48.20124967538996,
          16.096660204766764,
          11.68928193007578,
          0.9183681646021,
          20.21442232235202,
          5.403510362680905,
          20.21442232235202,
          20.21442232235202,
          20.21442232235202,
          16.36566079700755,
          16.36566079700755,
          14.968331268100599,
          14.968331268100599,
          -13.074273672869452,
          14.968331268100599,
          43.86942795806668,
          14.968331268100599,
          14.968331268100599,
          5.019296268810464,
          -0.1125051353548372,
          5.345874621572776,
          30.845561656696916,
          1.9566354597336755,
          13.499475421387459,
          12.289582452862078,
          14.238699688833663,
          15.081079604759196,
          4.88815271105139,
          -2.4107639480012466,
          21.466059511302774,
          6.284271083304702,
          6.284271083304702,
          6.284271083304702,
          2.6025226824109637,
          6.284271083304702,
          6.284271083304702,
          9.4114738636179,
          42.21531098564165,
          6.028567703887603,
          6.028567703887603,
          33.57738571662773,
          4.450858545543269,
          5.677488129406612,
          5.0414210446249115,
          3.700336979100868,
          1.0375280931359043,
          9.288798529501165,
          -1.0768645784530975,
          6.06958785468332,
          19.243351443616447,
          5.719520737888843,
          5.719520737888843,
          6.3098476357715185,
          6.3098476357715185,
          6.3098476357715185,
          3.058889281576853,
          -6.550142721737188,
          12.572423559395844,
          4.045089407950684,
          24.432619549033035,
          30.212392366698907,
          2.9658215825345593,
          -1.095519907289912,
          33.31984306374548,
          -3.030632930354642,
          33.31984306374548,
          3.465377711646383,
          27.57799883131419,
          27.57799883131419,
          2.7333997673866577,
          2.7527833510042825,
          8.857185409147831,
          -2.5722906300420476,
          8.857185409147831,
          -3.332542961881188,
          -3.332542961881188,
          -3.332542961881188,
          23.014688768350965,
          8.416033829759527,
          21.047888528994932,
          0.04127847181550237,
          13.760876765184065,
          16.153023129694688,
          18.393211626031544,
          8.56452555262831,
          2.7837731960588172,
          -0.9252179354799068,
          3.3474722792982874,
          -1.381057605196304,
          6.1241390958230255,
          13.578962967618992,
          1.9566354597336755,
          11.029520114419583,
          -1.4771170491738133,
          12.474642843938753,
          -0.41815708074136637,
          2.1725086847488484,
          13.499475421387459,
          4.074973238784466,
          10.25235996369858,
          10.225431943088026,
          21.047888528994932,
          0.04127847181550237,
          13.760876765184065,
          16.153023129694688,
          18.393211626031544,
          2.7837731960588172,
          -0.9252179354799068,
          -1.381057605196304,
          6.1241390958230255,
          13.578962967618992,
          1.9566354597336755,
          11.029520114419583,
          -1.4771170491738133,
          12.474642843938753,
          -0.41815708074136637,
          2.1725086847488484,
          13.499475421387459,
          10.25235996369858,
          10.225431943088026,
          4.753502323616232,
          4.753502323616232,
          8.322059204372138,
          -11.529461947845746,
          11.7238120563985,
          13.08511698532702,
          4.701697571356462,
          1.512281416108081,
          17.618895360641844,
          12.143212977231357,
          -3.947723058410304,
          -11.529461947845746,
          4.453085200738585,
          -3.332542961881188,
          -3.332542961881188,
          1.9730025785344765,
          1.9730025785344765,
          0.6575711015586876,
          0.6575711015586876,
          4.257750878900211,
          -4.0493139920350245,
          6.741639048272788,
          17.24771737795112,
          -1.595334773097946,
          6.651024449096738,
          1.3391456672367497,
          1.5624394959012875,
          35.3576333342221,
          15.04299880703023,
          10.460996883777867,
          5.4239622301132755,
          15.093156462042984,
          3.8419103169373727,
          -3.546624497798888,
          3.8419103169373727,
          3.8419103169373727,
          6.558537133512843,
          6.558537133512843,
          0.07734403580700189,
          6.558537133512843,
          6.558537133512843,
          0.07734403580700189,
          6.558537133512843,
          11.17408290167684,
          4.557292858604967,
          -0.9971932368092098,
          -3.6759735045487503,
          3.5223015920321075,
          3.6360980999979517,
          14.017101018353259,
          12.685373793075172,
          18.74808278843888,
          4.5856147668519185,
          -1.2182176540761986,
          11.647624208355126,
          6.8834963814108505,
          17.93262498255841,
          14.890248106000215,
          1.6655209780922178,
          4.898929204626569,
          12.749591693156091,
          -6.858461880903548,
          2.9337643628548307,
          12.749591693156091,
          2.9337643628548307,
          16.063352050998816,
          10.085974733940219,
          10.085974733940219,
          10.085974733940219,
          16.063352050998816,
          16.063352050998816,
          2.3038821771064875,
          9.964030563429944,
          7.964744694391115,
          4.628726329258683,
          0.9943774309275,
          11.322359399389327,
          8.696679609617448,
          8.119781971536725,
          -7.332461771417599,
          18.197709741341143,
          14.307767338346537,
          14.910954002607141,
          1.8729806949306607,
          23.68394332668811,
          0.3319706975080976,
          -4.693018995979287,
          4.628726329258683,
          4.628726329258683,
          7.964744694391115,
          4.628726329258683,
          4.628726329258683,
          4.628726329258683,
          9.964030563429944,
          8.510332216839842,
          3.286081396623956,
          3.286081396623956,
          15.218705709573115,
          15.144912673097707,
          15.144912673097707,
          22.767173377507092,
          11.785521933430658,
          22.767173377507092,
          23.21418562743004,
          17.494487608663576,
          23.21418562743004,
          21.506019764853903,
          26.4261748306144,
          23.21418562743004,
          6.103719508240047,
          -0.5220852153840951,
          2.661231304338756,
          7.3435376746898555,
          26.4261748306144,
          13.575949751025576,
          26.034544554560142,
          1.466747742008863,
          -0.5220852153840951,
          32.27861917181211,
          11.274891988328918,
          9.442376944365492,
          17.494487608663576,
          11.363947517140375,
          45.515096397998605,
          32.206837801659276,
          41.5655799666561,
          30.964756435408873,
          23.522574540380234,
          30.964756435408873,
          13.907407062788295,
          37.04443737128999,
          11.381883482140452,
          26.737279633223096,
          27.14231180156949,
          3.8557069107465054,
          18.626114309605427,
          27.14231180156949,
          11.204737496848452,
          37.04443737128999,
          26.737279633223096,
          15.281193780317835,
          27.14231180156949,
          26.737279633223096,
          24.432188320567775,
          27.14231180156949,
          26.737279633223096,
          23.736022067058997,
          8.356402955442377,
          18.99840691289924,
          9.520006296784501,
          23.736022067058997,
          13.645231247155294,
          18.99840691289924,
          23.736022067058997,
          23.736022067058997,
          18.99840691289924,
          11.364607847220668,
          20.145398285899716,
          20.145398285899716,
          20.145398285899716,
          11.364607847220668,
          11.364607847220668,
          11.364607847220668,
          11.364607847220668,
          0.4627786451184761,
          -0.9252179354799068,
          2.682211516820672,
          5.5665137825891975,
          4.877143529133477,
          16.699181442946582,
          11.088848499883255,
          4.877143529133477,
          11.30784548018704,
          11.30784548018704,
          11.30784548018704,
          11.30784548018704,
          4.877143529133477,
          11.30784548018704,
          4.877143529133477,
          4.877143529133477,
          42.83377941379429,
          3.6112142233121602,
          8.233792408661543,
          3.6112142233121602,
          42.83377941379429,
          42.83377941379429,
          -0.859885208162666,
          43.755485115734274,
          43.755485115734274,
          43.755485115734274,
          -0.859885208162666,
          -0.859885208162666,
          -0.859885208162666,
          -0.859885208162666,
          43.755485115734274,
          43.755485115734274,
          3.656362338566254,
          38.82671235106551,
          15.376521841254856,
          38.82671235106551,
          15.30267156391831,
          12.843510992053808,
          7.040629640868616,
          32.305419115309036,
          5.914447306616481,
          3.6572788993778147,
          -1.2229101751688916,
          9.84416798418556,
          3.5382040962091565,
          5.15339039519678,
          -0.9147857667006747,
          10.406925474845508,
          12.882218036103083,
          15.30267156391831,
          18.635527245999512,
          15.30267156391831,
          15.30267156391831,
          35.982364198999164,
          15.30267156391831,
          35.982364198999164,
          35.982364198999164,
          35.982364198999164,
          14.42199503123095,
          53.818723965710475,
          -2.7389698788522168,
          12.281512902689073,
          7.515770302884164,
          18.938990485001128,
          4.999792005009056,
          11.96072808176578,
          12.666579643341876,
          4.999792005009056,
          11.96072808176578,
          8.261487129951902,
          25.952208195472096,
          -4.722206912050879,
          38.668017668711286,
          4.028810671200816,
          6.324625446678226,
          13.156199092707624,
          10.682562285430947,
          8.297831489701835,
          1.8101647882609342,
          0.4444481153634996,
          1.8393756254147178,
          12.464563580003585,
          0.17110647345666052,
          2.92150736101361,
          2.92150736101361,
          4.602704454550704,
          4.602704454550704,
          4.602704454550704,
          6.925258600945597,
          1.3560933758094933,
          4.192796368067533,
          1.7015932533940514,
          -2.2714551355842474,
          -2.2714551355842474,
          2.4354828615462054,
          8.288584299099341,
          6.065439365535042,
          7.728812615616235,
          3.2133608769342743,
          -0.47371103032183726,
          7.728812615616235,
          3.058889281576853,
          7.361343868836698,
          -1.0772628927385313,
          -0.9214491345181557,
          2.506204474292403,
          9.607823393015096,
          3.927455202979772,
          9.588913179223411,
          14.008573036276218,
          14.008573036276218,
          6.342323747122478,
          9.382839020137112,
          17.009164257695986,
          10.739892051244937,
          -0.27662635665295454,
          12.831608662924793,
          12.831608662924793,
          12.46569637999724,
          7.930848947649409,
          3.058889281576853,
          6.920929700714453,
          9.476850404848264,
          12.75025573016947,
          10.445828371902465,
          5.780922509208011,
          3.371907348081109,
          -0.3776928367828418,
          9.441771268486605,
          9.441771268486605,
          2.851113855294173,
          -0.0705490076393005,
          4.0273109410144485,
          2.851113855294173,
          63.367699891704774,
          11.89568813288976,
          0.06938500910453627,
          0.06938500910453627,
          0.06938500910453627,
          -0.9338213886639721,
          3.8443425745414004,
          12.787911883897365,
          9.445359977238397,
          7.856931698922992,
          25.1129770259232,
          4.647794647187013,
          -0.557389433843511,
          0.20523141093298136,
          13.729175968355122,
          3.9795070965787573,
          1.4752404217200734,
          1.3620925173644451,
          5.194176875118714,
          0.4214383329361766,
          2.0659328999269206,
          -5.111822906599144,
          -0.6757893670450699,
          2.901511405029609,
          13.387610600765228,
          13.387610600765228,
          15.177411388341227,
          28.66350458375014,
          -3.0776947181029755,
          3.2171318976068193,
          -0.9338213886639721,
          -0.9338213886639721,
          -0.03950899626647697,
          -1.0944154594564708,
          21.255128344672016,
          -1.0944154594564708,
          21.255128344672016,
          -1.0944154594564708,
          5.065619457384543,
          1.9040798476483332,
          15.532195761423509,
          2.7368481379982654,
          -3.877335472076382,
          -3.877335472076382,
          1.9040798476483332,
          1.9040798476483332,
          7.781346953007954,
          11.393760885294881,
          2.7709814661119907,
          2.322454711577322,
          -2.045533730116901,
          23.247429168966292,
          16.02672858630622,
          3.883793838954091,
          -1.0150205410045032,
          0.9163450101683424,
          13.914859686654765,
          -3.423101297268815,
          18.688642420844886,
          -1.3743154309681955,
          4.806871413833221,
          8.005087213653127,
          2.9066627773415377,
          5.729039514699153,
          7.971976393922802,
          4.551438124590433,
          -0.47888590839188794,
          16.94430260747687,
          8.270714451946603,
          14.848529486481667,
          18.55861807934562,
          19.29253467776431,
          19.47227030622379,
          21.873920819672733,
          33.21309314430296,
          1.4000697171531158,
          29.968588689884825,
          29.968588689884825,
          -0.43058382504959525,
          1.1808091550890367,
          -0.962503626773298,
          17.502303541350727,
          -1.5518914851496959,
          5.1952395667396445,
          9.789847261569406,
          4.3712345593999515,
          -2.150830956336307,
          -0.32469327281155813,
          4.398816005027427,
          18.061524502496695,
          22.635308532938595,
          6.778516564726814,
          8.07736328669273,
          13.122351515576497,
          6.755127994965818,
          -0.7936025072487638,
          2.249751250866751,
          15.418195880473775,
          11.840952586524779,
          40.184073719529266,
          17.502303541350727,
          21.242442337450527,
          7.00340165578271,
          9.72130567562597,
          13.933382286409994,
          8.265602137094447,
          17.096286549260057,
          13.094783347105079,
          2.6435290381925256,
          1.7171124858924856,
          10.83326526015226,
          13.302733560257252,
          4.45399912147937,
          29.232174825125256,
          5.363228052974051,
          2.2366476240503204,
          3.103142869593256,
          0.4121997623145859,
          0.06778153055539349,
          14.232608338611158,
          5.1952395667396445,
          1.6927806614477845,
          7.682063576340369,
          3.0967048255516545,
          -4.107986401728397,
          25.301193819627827,
          1.522245942674786,
          -3.1183210277929163,
          0.1833577750508084,
          0.902847137427699,
          2.751590542911444,
          18.239000810225804,
          11.87425782310288,
          10.776828672493735,
          0.1618326591966195,
          5.121423103926261,
          13.669404000203684,
          -1.9722151737772293,
          -2.150830956336307,
          -0.10048902951422178,
          3.996916577971902,
          17.362759534301716,
          3.557537472798856,
          -0.7044461149603478,
          -0.0615595819815411,
          16.353253729376974,
          2.9196924062511584,
          20.4446665661725,
          -1.048123264864529,
          12.811512303511236,
          30.37739782539269,
          -1.1555019477905262,
          -0.4711888502235837,
          14.850047482502362,
          15.141413510210825,
          1.7122908597128514,
          20.263421488445474,
          -0.12353017551986056,
          1.0758352599506082,
          1.6690392413418493,
          1.203979505909956,
          -1.007542113049226,
          6.573264723201348,
          -2.146408099739915,
          7.885514355953362,
          8.794557424297778,
          -0.006211322692166732,
          8.085043740968914,
          -0.8880018238742338,
          9.633526051442942,
          20.863104414078393,
          8.294104177309464,
          12.106904347277506,
          1.291826698238765,
          7.07319300307806,
          15.656950036142078,
          -2.0638738213073395,
          3.1768686148734275,
          -0.620062896311282,
          4.3712345593999515,
          1.1091480515908074,
          14.756195325378968,
          28.329085821918838,
          28.329085821918838,
          22.998190965131514,
          3.7471566609016946,
          0.4121997623145859,
          18.875095931369415,
          24.89279104658503,
          7.033361816490427,
          8.87607021998248,
          33.42457482451702,
          35.14773995376436,
          0.07577046339778803,
          3.996643817826964,
          9.54304303186909,
          -3.3843484438541935,
          8.542951373371878,
          1.347228013965065,
          1.6838178849336174,
          -3.0201205512183975,
          3.3754506890184928,
          6.333046568951616,
          26.23535188747347,
          6.582007849265011,
          -0.1780016249440166,
          9.924699200389782,
          41.037106237542204,
          41.037106237542204,
          12.457157459494667,
          10.486391976284736,
          20.350247238991415,
          10.486391976284736,
          -2.461368420028208,
          -2.461368420028208,
          6.981289736737736,
          18.88542849954446,
          11.575714534083673,
          3.9302475868203572,
          -4.986398186198755,
          -4.986398186198755,
          6.498662147576965,
          22.61244916568515,
          22.61244916568515,
          9.562501324757505,
          3.9302475868203572,
          3.9302475868203572,
          -4.986398186198755,
          -2.461368420028208,
          9.562501324757505,
          9.562501324757505,
          10.906098099315415,
          2.6011044657104634,
          -11.325100161202059,
          7.850915851381657,
          58.82791577549442,
          4.761467009956405,
          1.785061781542737,
          7.850915851381657,
          24.11767313970566,
          27.52853983717783,
          7.557718847730953,
          6.342453229024301,
          15.898768441424394,
          -2.0547669239690123,
          14.675270125965909,
          18.3874305124057,
          14.04447996700263,
          1.5618336308679517,
          2.6011044657104634,
          2.1940902655991295,
          5.607031082650195,
          1.3385311395315824,
          10.814457965444632,
          19.53855510270556,
          2.5215996391490307,
          5.5830774492959705,
          -0.08299729500669173,
          -1.3801822268742256,
          5.137830301856283,
          21.10323768132443,
          28.036625220681103,
          -0.07755301271996018,
          4.1322534102157675,
          23.388133859107413,
          11.640335362013616,
          -1.102319874049627,
          27.77058269425399,
          7.285052931541543,
          5.049169082744399,
          2.2931515997675262,
          30.93751849132896,
          0.254615691532166,
          6.298083305129026,
          11.196713896901585,
          7.807718290116128,
          2.6948396855878087,
          12.319928685786778,
          44.91809344924768,
          18.446740997413684,
          3.252885971258223,
          1.9060225847769345,
          42.87569948852702,
          3.2716596434636784,
          42.30118853966006,
          13.510388463546917,
          11.791537105832532,
          -3.4612267486660926,
          3.0894577492902044,
          4.518601913408901,
          3.439207515078934,
          7.172300767484742,
          6.899865076304536,
          6.899865076304536,
          13.632521209303903,
          16.86250510822036,
          3.1294869430942356,
          13.768079744351581,
          37.284742812998516,
          10.198108287751012,
          10.198108287751012,
          3.6283854759765717,
          8.46384149655762,
          3.024224502853528,
          3.6283854759765717,
          30.71564594123707,
          24.727984242839767,
          1.9060225847769345,
          15.781046983190691,
          32.1828553461732,
          15.991225339812232,
          1.5412429140324662,
          -1.8412582162835918,
          2.503736174454005,
          8.120083372961147,
          1.1167800007553126,
          10.758706395149005,
          4.404993382720704,
          0.5599754005014006,
          15.991225339812232,
          36.234115250500935,
          36.234115250500935,
          9.678293552533276,
          12.008862453020342,
          11.722851643018856,
          0.9257014446697411,
          24.727984242839767,
          6.858037252626403,
          36.47560624643694,
          1.6585716857647412,
          66.45548369595524,
          66.45548369595524,
          31.890936613440743,
          12.337522574807565,
          30.162292936358313,
          17.31517444789945,
          11.012015151478508,
          4.016404141728387,
          13.920349191267519,
          29.078156894365947,
          9.540250234328894,
          7.509894290248994,
          14.835063490058246,
          74.57689973771186,
          188.4172481155399,
          14.844282663999422,
          22.666410914210672,
          1.6542670751433235,
          8.724613844079087,
          7.012882990518122,
          10.155817374919252,
          7.844873362340678,
          10.378623860188355,
          1.3701807893139204,
          14.68783521612761,
          15.520815851580693,
          3.853435784055037,
          3.853435784055037,
          -1.6228624853029032,
          8.202485831549055,
          -4.36285520633686,
          -9.062386049782205,
          -4.36285520633686,
          38.63378779905888,
          -0.809881308253722,
          33.76542904621783,
          7.43881146413419,
          25.964329713284584,
          25.964329713284584,
          32.42608498160439,
          32.42608498160439,
          -0.31229175596880054,
          5.17827569943546,
          -2.0249538636333284,
          -0.31229175596880054,
          -0.31229175596880054,
          16.249800313203025,
          5.745186991210161,
          1.972064042488384,
          2.595417005127487,
          -2.644167419615968,
          3.793666096368227,
          -1.0420773821341953,
          0.15497545779486188,
          -1.604309903537228,
          16.777088363165035,
          2.1132662849182537,
          7.899748990157093,
          8.13127880885905,
          30.713135610688795,
          0.022041551728761988,
          1.6185086972512295,
          -1.6956159328468061,
          32.003940480335416,
          5.893770682257525,
          2.33803151852635,
          7.668601660939288,
          16.286390413628965,
          -1.988202249678352,
          5.827367793028387,
          3.877877290118505,
          8.528358260257264,
          12.656095083859185,
          -1.960647611790364,
          30.749733430204145,
          11.049982977551664,
          26.690920127511106,
          5.4417796726398535,
          -1.49216301481178,
          9.623813307245655,
          10.03809977023107,
          -0.1806259627717992,
          14.619550179093082,
          5.608733517910167,
          -0.8964702027881515,
          -1.604309903537228,
          21.596415109784957,
          13.75741693951612,
          9.58442214223463,
          9.06307945178908,
          -9.523027536854173,
          0.022041551728761988,
          16.360127851855168,
          8.203661709986847,
          33.59593452796658,
          0.8670405226552589,
          6.6005883405324255,
          2.1539860067604053,
          7.893738286629571,
          2.178329743974473,
          -3.763072449134654,
          23.319499134522175,
          4.6798545520064465,
          13.812641845380938,
          3.610190330831955,
          6.037212130074806,
          -0.8550028794471132,
          -0.437761667439986,
          53.35155466859561,
          3.424473340438041,
          -0.437761667439986,
          -0.437761667439986,
          35.21890629292085,
          39.90972904124045,
          -2.4065993370453356,
          -2.4065993370453356,
          3.057789165902875,
          3.057789165902875,
          -2.989119542893391,
          -1.6571759725567432,
          -1.6571759725567432,
          2.1132662849182537,
          6.383590613532178,
          1.0982785790261573,
          38.930685866628,
          2.043637149066015,
          2.043637149066015,
          0.23868715339656887,
          31.890936613440743,
          12.337522574807565,
          4.016404141728387,
          13.920349191267519,
          29.078156894365947,
          17.31517444789945,
          -3.0429988598444453,
          34.26526395343055,
          10.453394013647454,
          10.453394013647454,
          6.727422915028967,
          0.7918730524970812,
          6.727422915028967,
          1.889792355487856,
          8.644906568268368,
          21.16288539115841,
          28.160782153420257,
          16.262219028104738,
          -9.44870039324097,
          5.90225462005877,
          3.969346717304262,
          7.218708149989126,
          10.897117705940175,
          18.76831773922484,
          13.445600158612592,
          16.569380484304872,
          17.161656994317283,
          4.965253729790632,
          24.80013164213193,
          21.18469711862646,
          1.3094000383477464,
          12.014926426294892,
          4.624459213890233,
          -0.3466343819756901,
          36.774889010117704,
          51.94961581256267,
          5.205132450061029,
          16.203308431757307,
          5.205132450061029,
          5.205132450061029,
          16.203308431757307,
          18.85464831358084,
          24.51370581725577,
          4.006801427717306,
          4.830890001018517,
          4.006801427717306,
          18.85464831358084,
          11.54668159510149,
          0.23149775392052163,
          9.097300266694887,
          11.54668159510149,
          0.23149775392052163,
          86.9961962356439,
          18.85464831358084,
          35.604842164457565,
          4.006801427717306,
          4.006801427717306,
          18.85464831358084,
          4.830890001018517,
          4.4420450563211205,
          22.46677905211321,
          22.46677905211321,
          56.583924654382315,
          71.74207738916058,
          56.583924654382315,
          86.14098352919925,
          51.74297936444802,
          12.42084548768743,
          9.170739494806185,
          11.002374315510096,
          4.582524812574249,
          7.137353478103506,
          11.547573238431198,
          2.4641090023341974,
          11.929152350723399,
          2.7672785646276594,
          18.40582238468997,
          1.9652861263226384,
          9.888642504433179,
          12.750973586427662,
          35.33094628276433,
          18.565616835662922,
          4.988056724979373,
          6.888189047947606,
          -0.43364795982303406,
          -1.1660130417410812,
          79.10962403109276,
          -0.16094545511450065,
          59.545934418208546,
          5.861524383908872,
          54.255395161845826,
          75.52616107338858,
          54.255395161845826,
          0.09153976938888775,
          0.09153976938888775,
          0.09153976938888775,
          9.038333627775785,
          54.255395161845826,
          51.73552723594619,
          76.57161332203239,
          4.522428748858815,
          76.57161332203239,
          17.65235464204352,
          51.73552723594619,
          5.605489316453571,
          4.522428748858815,
          -1.7788650814264173,
          76.57161332203239,
          3.2574561206228196,
          72.95115838845147,
          2.7229993259023217,
          68.03394353480087,
          6.696131959495105,
          -0.210890609627981,
          10.540817188038176,
          13.64563941244451,
          20.8624087942125,
          17.95539734537772,
          12.73632507523665,
          16.886842121071084,
          16.665230078953996,
          11.771241514636586,
          11.771241514636586,
          4.1360340835321665,
          -1.054361526803575,
          3.645039153961619,
          6.37817297999969,
          4.8811990101363705,
          13.114099952729546,
          16.160008011594655,
          4.770283534971924,
          13.793658255463043,
          5.50302005137128,
          0.434892585684878,
          18.403858166255617,
          8.850709073809469,
          12.413140395791999,
          28.018481155339657,
          16.160008011594655,
          4.541005754051852,
          6.7884170556565095,
          12.43960068026449,
          17.64794055004765,
          1.020989985544844,
          4.770283534971924,
          13.793658255463043,
          7.58694090583684,
          8.02162749290109,
          -0.210890609627981,
          3.8707466779007973,
          11.44578795372881,
          51.642398360172265,
          7.352041801184541,
          5.429523880856934,
          5.429523880856934,
          5.429523880856934,
          38.570230390698825,
          4.035832075210706,
          4.035832075210706,
          4.035832075210706,
          21.223896040155196,
          21.223896040155196,
          6.157642747446474,
          21.223896040155196,
          21.223896040155196,
          7.434846155539148,
          7.434846155539148,
          27.29510819699665,
          0.26826638443777995,
          0.9885924308230472,
          23.432221845941783,
          8.115253379210742,
          7.0733060636053295,
          -0.5762053027455352,
          4.9060399999813455,
          1.229744613473386,
          1.8296920212125372,
          1.229744613473386,
          7.056120067748807,
          -0.08878973737475349,
          9.359039199397102,
          -0.37248321145321484,
          26.266989760516708,
          1.432604029668724,
          27.15101788568512,
          17.580657866711064,
          -3.7714870944486307,
          -3.7714870944486307,
          -3.7714870944486307,
          2.8560447409124237,
          -3.9495960069189806,
          2.2387533404081523,
          -1.0456170722444398,
          5.391890490754122,
          7.89641971821851,
          11.777951964070766,
          -0.29010145978183743,
          2.4953153578865965,
          4.294061714998634,
          1.377219744631489,
          8.255498750980777,
          8.255498750980777,
          1.9860261971631274,
          1.9860261971631274,
          1.9860261971631274,
          4.982205550199325,
          19.93393330698386,
          2.1235353584870325,
          9.347043046516049,
          7.692592007870303,
          0.7225369561621164,
          13.033189380169034,
          13.033189380169034,
          44.58477713096222,
          0.35375155923605917,
          44.58477713096222,
          0.19974441689561218,
          -1.5144841973042986,
          8.463622960137982,
          10.6191025929935,
          -3.503234495191137,
          0.2902800362037823,
          13.033189380169034,
          -0.07140260855203451,
          6.845428176215449,
          3.528947712679738,
          18.79409999145203,
          -2.538887392357907,
          18.675082252358024,
          2.328145900427131,
          4.454672303762479,
          -0.9011587180987135,
          4.402654233005549,
          17.178538609129873,
          0.8440977083577934,
          0.1470179946694259,
          14.546950452297807,
          12.027054640772434,
          12.39699681456463,
          0.24274478831424062,
          3.6722112750321685,
          -0.6005302763597342,
          0.8649095338157196,
          0.624923474940644,
          -0.6039830406102169,
          5.7843869758043525,
          2.9691552167494564,
          -0.04507651551810454,
          10.758844472357566,
          11.145546919130496,
          1.2323488264687938,
          3.8596522065019343,
          5.556769084755516,
          -0.29479684849850685,
          2.7062517800910797,
          1.464156114336788,
          2.648498446311436,
          -2.7346561647251235,
          4.164035416340084,
          2.00836680376176,
          3.7907206888012865,
          19.675861169077606,
          -0.5051434682624887,
          1.1402195095688086,
          3.139659572327915,
          2.201073039837439,
          1.6989859928246034,
          4.657342632721196,
          4.634958019192979,
          2.0045343710002754,
          5.117449590596962,
          3.4274255045158384,
          16.573240812488564,
          9.692815960459711,
          2.365564682699926,
          9.550641000348989,
          6.657454587143135,
          0.8991827306715976,
          1.867931447050367,
          4.741553669285693,
          8.301843662648508,
          30.326743785200733,
          -2.4275857496275393,
          5.843893668297909,
          13.073423140460875,
          4.152190354766688,
          4.098474216606675,
          -0.8450646089860641,
          1.7763955054815455,
          3.647362916002237,
          4.663821883285223,
          5.992260604174888,
          6.809078086543067,
          1.8291557141730408,
          2.9295960594705264,
          2.0248430895222924,
          2.4979714263595554,
          2.1339921820792966,
          7.421432167289552,
          2.9295960594705264,
          2.1339921820792966,
          6.5600046646650725,
          3.859859679466254,
          11.253314744966318,
          11.253314744966318,
          11.713792109498826,
          13.329168573744084,
          11.188205053103218,
          1.1326016510095656,
          13.329168573744084,
          5.113001970369538,
          1.951240731817478,
          11.188205053103218,
          1.1326016510095656,
          23.139065214960866,
          5.913241769041974,
          4.204051775676277,
          1.7284703228621368,
          14.137293360136368,
          -0.4997864270994796,
          11.402237623795571,
          3.6288291148932643,
          2.01505710951983,
          3.8600973371555796,
          11.207594787121593,
          6.199844343058913,
          0.19974441689561218,
          0.24954258442325283,
          1.4397917505190776,
          1.4397917505190776,
          1.4397917505190776,
          1.4397917505190776,
          3.859859679466254,
          3.859859679466254,
          16.327958191422383,
          19.456155368255267,
          3.859859679466254,
          3.859859679466254,
          3.859859679466254,
          3.859859679466254,
          3.859859679466254,
          14.309226910114859,
          -1.9708551107803345,
          7.357434069104102,
          40.99645909786274,
          3.3380957909602103,
          19.765449234591912,
          1.1027242007414486,
          3.201959267221028,
          -0.23358497994350103,
          5.097540713363969,
          15.30000981264827,
          32.56813981987695,
          10.517571399747524,
          0.22864120752258543,
          2.2846388852972694,
          7.401634283575618,
          28.394038019312234,
          10.115535713060893,
          11.884463576495506,
          8.669626279013144,
          -6.901753181388372,
          0.479697230626158,
          7.925881394704234,
          1.8317965441556225,
          3.88113887347653,
          9.63307136097373,
          0.36762926142827723,
          3.509323955888405,
          1.5472366662213233,
          1.5472366662213233,
          0.7807559851464845,
          -0.2593706295124889,
          -0.6616363212495742,
          29.627802756417893,
          9.575528468265375,
          3.706670455988089,
          0.9116446256623192,
          -1.0242043353385526,
          3.132774503645166,
          7.793682456812746,
          0.5014575648230561,
          5.43566389157067,
          4.261529371952761,
          23.648450803709736,
          4.261529371952761,
          4.503138235207871,
          6.653238150754959,
          29.078828271086664,
          1.8968527627646097,
          5.453038346898339,
          2.8527251277085526,
          5.336137166493515,
          5.453038346898339,
          5.336137166493515,
          0.855326761828124,
          9.173406972327882,
          0.855326761828124,
          18.018183766563368,
          -0.28327945821939693,
          3.1332967340940456,
          12.59143852414995,
          6.4106280210546345,
          17.305652264334356,
          8.900617390223701,
          2.0419922635044543,
          1.2572258748733134,
          0.855326761828124,
          12.032215727163205,
          2.4740660093147397,
          17.68357743662706,
          25.827588346263624,
          9.173406972327882,
          21.633114250835135,
          9.173406972327882,
          9.173406972327882,
          3.6096204037290818,
          5.7223647419664445,
          3.6096204037290818,
          9.741468700814849,
          8.773771034336946,
          8.773771034336946,
          8.900617390223701,
          8.900617390223701,
          8.900617390223701,
          8.900617390223701,
          26.748069241048142,
          2.7838182874863975,
          8.53093817864061,
          2.7838182874863975,
          2.7838182874863975,
          2.7838182874863975,
          8.53093817864061,
          8.53093817864061,
          17.682758923928944,
          21.50203574525564,
          12.555006624878985,
          14.523825912067707,
          21.50203574525564,
          3.2362952048835893,
          13.31603386882125,
          2.0333004280525984,
          9.4177763473091,
          10.517594715919614,
          3.2362952048835893,
          23.882734459961767,
          5.899234480369671,
          1.008388374340086,
          23.882734459961767,
          10.517594715919614,
          2.7821654136920273,
          3.9831004450689136,
          13.939568020520596,
          15.168046408893787,
          -9.668006278548404,
          21.197861093651085,
          -3.2968674370894604,
          9.626516861964348,
          11.349094813350604,
          9.161049637877213,
          22.181442159706748,
          9.50939844022811,
          9.161049637877213,
          14.015033113141172,
          -1.7428701126644057,
          -1.5733842141099075,
          -1.1657675141315877,
          9.626516861964348,
          9.50939844022811,
          13.022342076224746,
          11.834810027709153,
          19.81938768182664,
          12.343234071553894,
          0.08124192632141103,
          0.024781044283813003,
          29.67800963994857,
          8.666423545937647,
          7.211197251047778,
          0.7887050011837999,
          4.422226766607238,
          0.7887050011837999,
          4.422226766607238,
          15.732523021359441,
          1.9696593810247265,
          1.9696593810247265,
          17.75742279751826,
          3.9873330623901637,
          6.771196845755853,
          18.980689099005673,
          12.54616819911621,
          4.6554889832270305,
          15.305372495231595,
          4.584332688931013,
          4.6554889832270305,
          4.584332688931013,
          14.653451288348563,
          1.3097164218733468,
          38.912472019883594,
          4.849224825364075,
          7.211197251047778,
          1.4021871356477078,
          1.4021871356477078,
          -2.2468145842651523,
          -1.4072673494730594,
          13.754011031934922,
          -2.323552619354146,
          4.659179254353091,
          5.986858437089737,
          -0.3729524168146696,
          0.7871873969929339,
          0.7871873969929339,
          0.4070886272954226,
          -5.344526753983175,
          0.7871873969929339,
          0.4070886272954226,
          -5.344526753983175,
          29.797240966557723,
          -2.2468145842651523,
          2.8021249789071447,
          28.807607832305848,
          28.807607832305848,
          14.990144629604188,
          28.093455166307763,
          15.13491118361874,
          7.571372145988519,
          4.909099785696981,
          7.571372145988519,
          4.909099785696981,
          -0.8166216784947409,
          43.31221528049993,
          3.041174904267251,
          23.400243172485176,
          1.1054270228917176,
          8.234277154947975,
          28.183215482806446,
          28.183215482806446,
          2.5852330226307174,
          69.25698864676207,
          27.457456270381755,
          67.06004855068468,
          3.220291899499884,
          7.783977451930923,
          33.087552643292454,
          -2.9211856182893143,
          1.9163101998213108,
          32.64652851601045,
          5.502431022306851,
          8.444284497206368,
          5.471507017073108,
          3.6326735834406207,
          92.90399411142288,
          3.4225641115405665,
          10.037010179584513,
          4.70908993673001,
          3.4821912355007782,
          5.502431022306851,
          48.70485963123632,
          3.6326735834406207,
          2.7365671887776273,
          6.622642131447108,
          -1.52618762568666,
          1.6496381748276718,
          4.1182327045555525,
          -0.4035994188203631,
          4.9460515997839,
          9.06617127315856,
          1.5012083477736553,
          14.579317799069486,
          29.555685082413945,
          -0.5420534514335742,
          5.593856416911322,
          2.225974810829584,
          4.5204971608119,
          85.16503827500432,
          4.746473482574558,
          3.2609319470942495,
          87.7785876558452,
          26.95389644133617,
          -2.606739883025085,
          5.60308127892408,
          1.3367831730032265,
          0.005011309444739709,
          4.447199039522019,
          16.0033270907049,
          13.20476792886761,
          9.344157810495958,
          10.119871610868913,
          6.622538895064977,
          6.887366863701246,
          20.475203773799365,
          11.316282739993483,
          8.570981807376612,
          12.385191091436525,
          8.859980327048987,
          8.703640255053784,
          -1.6395258030593567,
          6.249422930756751,
          -1.4281251886757076,
          4.740996781416968,
          3.3026218858545207,
          21.858934782785354,
          2.9243356473088227,
          13.86070035014086,
          9.360394854283243,
          5.408565690857515,
          0.2703188329350894,
          10.027234790811036,
          0.6254685582269133,
          14.221108952885231,
          7.110647916459683,
          6.912310111391562,
          5.706506090774255,
          4.115773954648816,
          11.761536099290126,
          22.575466466878467,
          22.575466466878467,
          3.5106088540276517,
          22.767373222791008,
          35.93760500194344,
          25.09647862131075,
          25.09647862131075,
          3.701455533059459,
          11.577428719903807,
          11.577428719903807,
          4.755521149886263,
          11.577428719903807,
          29.421316901505534,
          18.34803464298861,
          15.537859332284384,
          13.396737215730255,
          1.5561017287399892,
          5.659907008018095,
          36.666884378254366,
          9.131610486630038,
          3.8771199007912855,
          20.105363983832262,
          7.994433927396003,
          15.1809469864602,
          24.348986569355475,
          20.105363983832262,
          7.878207214999392,
          12.529464752426534,
          13.396737215730255,
          19.95939018253975,
          4.158389357952032,
          10.43117425125837,
          10.1571725751826,
          10.1571725751826,
          10.1571725751826,
          8.139940985048426,
          8.139940985048426,
          8.139940985048426,
          8.139940985048426,
          8.139940985048426,
          7.4716002751290205,
          24.719294859909752,
          24.719294859909752,
          4.274408970641005,
          4.897126491118115,
          1.4254258093220784,
          8.612352073507296,
          3.2453956577766974,
          11.464903736548322,
          11.464903736548322,
          1.869712231578987,
          21.292341193508037,
          3.906087896973986,
          1.5066181637256904,
          4.674617771934152,
          6.888201316368637,
          2.571980352175558,
          6.888201316368637,
          22.48676806164599,
          22.48676806164599,
          6.890309620487415,
          22.445086439583235,
          18.193092870322488,
          22.568756125924935,
          22.568756125924935,
          6.200793285973759,
          6.200793285973759,
          40.45665762623962,
          5.582049019966533,
          -0.4628725855131677,
          5.582049019966533,
          23.72217969223334,
          35.58698394544906,
          24.339757541418535,
          24.339757541418535,
          6.327373167424966,
          24.339757541418535,
          16.75398502325355,
          6.327373167424966,
          -2.721199251120268,
          -2.721199251120268,
          3.1420416304242735,
          14.370249736839241,
          37.772983951168,
          11.774328339111236,
          16.51512305358021,
          4.826799525778313,
          13.986175960033691,
          34.78680390128794,
          0.4265848934953027,
          8.423538908861616,
          8.200227705451525,
          6.241247757370175,
          3.997800606523299,
          14.964770632939974,
          115.50192722968143,
          5.881404144496273,
          5.881404144496273,
          -0.13395698091837005,
          8.573516791057955,
          6.241247757370175,
          28.080195063460536,
          6.241247757370175,
          6.241247757370175,
          6.241247757370175,
          6.241247757370175,
          28.080195063460536,
          28.080195063460536,
          25.38167205339093,
          25.38167205339093,
          2.598090108001273,
          6.734026410283448,
          9.271222437362724,
          0.4265848934953027,
          0.7825975194130876,
          9.728087978873603,
          2.797879139210977,
          25.38167205339093,
          4.882097192560309,
          3.2738768045341686,
          20.525035587493818,
          -2.2579108402065486,
          4.790464003179196,
          2.452534531027922,
          8.300988346754721,
          4.336375049019296,
          -2.6381913373804906,
          49.93330555992732,
          49.93330555992732,
          2.452534531027922,
          9.182929665780037,
          7.951208659597825,
          16.238961644939906,
          -4.45689502580403,
          3.6153070515813823,
          29.349508590994958,
          5.679765237394193,
          12.59013461606773,
          -1.0099072476154873,
          3.3269995478235046,
          19.304756713499827,
          0.8841824043085325,
          10.780192965935228,
          7.493222500917881,
          11.967805441970881,
          -2.3804693963562187,
          22.793726371897165,
          21.02488017472443,
          5.100788749940051,
          10.354969497625504,
          20.639431970471705,
          3.9386065571344773,
          11.676607013260835,
          5.211919723553095,
          -0.15932369419002157,
          4.8915758844167385,
          15.987597192266563,
          33.71030002689095,
          9.343785383733149,
          9.343785383733149,
          10.280873445131078,
          1.9378080296432216,
          12.989612223756524,
          1.9378080296432216,
          1.9378080296432216,
          8.141066996590567,
          12.989612223756524,
          1.9378080296432216,
          21.02488017472443,
          1.9378080296432216,
          2.604261363762703,
          -1.3042743628997897,
          15.102915305047631,
          -2.3626361868023196,
          11.259823154000472,
          1.9378080296432216,
          2.355730203216055,
          2.355730203216055,
          2.355730203216055,
          7.43856599421099,
          2.355730203216055,
          1.4322346270085404,
          1.4322346270085404,
          11.479631821853488,
          14.670259799140382,
          -3.032533844074962,
          15.474504478042292,
          6.011409882259372,
          -2.5689244211293243,
          15.474504478042292,
          19.541487368974458,
          -3.032533844074962,
          -3.032533844074962,
          20.112101233661377,
          23.628818972489086,
          7.43856599421099,
          13.773608430675267,
          6.910787783208647,
          6.910787783208647,
          -0.936168173025905,
          16.29998083478246,
          14.899760333545274,
          2.3074505603047726,
          -0.4148124364458994,
          20.509207279424217,
          2.8631739274884183,
          -0.6906298421833696,
          3.929731027634446,
          1.0712582403718613,
          29.225331400238517,
          7.688260496520826,
          -1.8316367244663496,
          20.85769782015919,
          6.011409882259372,
          -3.703105426978979,
          -5.772495647108428,
          1.3383183520274713,
          -14.662053157914542,
          7.173821369573744,
          -14.662053157914542,
          2.075783129466089,
          19.879356475991642,
          -2.553838512140274,
          -2.553838512140274,
          1.8270156253126544,
          -0.7077938251994595,
          21.174836962486808,
          26.461940826783945,
          1.216259159888935,
          20.313604197604377,
          2.156726038241871,
          4.086779378943717,
          -0.44295436252592424,
          -0.9255920661001227,
          5.910944461684025,
          11.989434591098302,
          5.15432008731274,
          -0.5171524784844053,
          -0.11933597926291384,
          -0.5435283789203567,
          -0.5435283789203567,
          6.4018812824140525,
          12.25432664381438,
          -0.6101452319831253,
          10.651025899588873,
          1.1656456291660646,
          4.665811690699655,
          17.95037629804402,
          23.457799019903106,
          17.23018765986579,
          9.063403888082092,
          2.453335071860323,
          -9.473146937465287,
          17.365884406544723,
          6.203758161092921,
          2.9764629060242953,
          -8.68494338350105,
          2.649463827010152,
          3.866233644738344,
          3.820252462613837,
          9.988105887618431,
          3.5842545711800113,
          26.09684470840635,
          7.238601329193514,
          1.5294963627377598,
          1.5294963627377598,
          1.5294963627377598,
          30.096049068540353,
          30.096049068540353,
          30.096049068540353,
          4.741292863057595,
          30.62418059264087,
          30.62418059264087,
          5.721405704819432,
          33.12330301628822,
          3.7746583037472448,
          9.632583916757156,
          9.632583916757156,
          9.632583916757156,
          3.375952846566264,
          8.053041035848338,
          12.85010568856633,
          9.83899705911756,
          -1.7074850690640773,
          51.74540603896564,
          3.063432271094811,
          2.668516965823855,
          1.8783772870224311,
          7.365664489763361,
          0.43051786646501,
          1.8783772870224311,
          -9.752311335930415,
          10.857736992928594,
          11.326565144124245,
          4.006987859124237,
          1.757056876502773,
          5.9929311560429,
          3.6356633387127033,
          9.460905144642993,
          11.66762203300165,
          11.350046689335883,
          -0.4411820412893519,
          6.184779514543294,
          6.184779514543294,
          -0.6024830997985902,
          -0.315963637234276,
          50.80590475750398,
          -0.36909270412894557,
          8.427470642034365,
          8.48463462685504,
          3.7189033708803976,
          4.133447941193296,
          3.6086400106717633,
          6.940334759116553,
          1.5238355254629,
          17.429094413206144,
          -0.46386941475435606,
          90.73639801543212,
          17.429094413206144,
          4.460063012830986,
          3.4106982804319443,
          16.81485563992628,
          3.112482019742444,
          7.409597822224654,
          -0.768232259921831,
          4.484606959131426,
          0.09817300301037335,
          0.09817300301037335,
          4.727327625206058,
          4.727327625206058,
          4.727327625206058,
          24.4582597015753,
          1.4648804519564464,
          2.3334798905099916,
          -0.9730570128694893,
          6.706849888722672,
          4.358131587062957,
          -6.7007175683389875,
          2.7043777492053778,
          1.2507421646634214,
          15.58409411131042,
          1.2507421646634214,
          5.886289116472639,
          11.848355126581197,
          9.022412360694489,
          16.864281373874718,
          2.584693683110899,
          6.399981064754797,
          11.493256378350978,
          21.398796295377835,
          11.822184838205402,
          2.750123131032069,
          24.31503423785827,
          10.506334389901454,
          2.023532764754819,
          31.806835450895505,
          0.5898915243843845,
          9.936325709503379,
          12.010323441374268,
          7.446127691463943,
          -5.8759740211171305,
          6.780879659377888,
          74.3229522840072,
          13.753597570891046,
          39.37141337619579,
          30.495268237679895,
          10.370719031444565,
          10.280139639922353,
          9.162489221731619,
          6.3230227702495085,
          14.869201162376413,
          5.714014722469258,
          19.95889727068409,
          -3.141232221010327,
          34.34031840206683,
          34.34031840206683,
          4.843902135259356,
          -1.0505031841247927,
          0.3294821245505659,
          0.3294821245505659,
          0.4270345289131541,
          0.3381794123891382,
          23.90000281540182,
          22.13752010980815
         ],
         "xaxis": "x",
         "yaxis": "y"
        },
        {
         "alignmentgroup": "True",
         "hovertemplate": "alpha=%{x}<extra></extra>",
         "legendgroup": "",
         "marker": {
          "color": "#636efa"
         },
         "name": "",
         "notched": true,
         "offsetgroup": "",
         "showlegend": false,
         "type": "box",
         "x": [
          10.898455269172317,
          2.325887275806508,
          12.969423298853371,
          1.2743223109707316,
          12.969423298853371,
          7.196241278911543,
          16.7135187022255,
          16.7135187022255,
          16.7135187022255,
          0.8654912370731864,
          -7.297915652415355,
          12.078967171090724,
          2.240226969362695,
          3.586570781182033,
          0.8300626767919397,
          -6.278541363534231,
          4.554360858840553,
          4.11559068781132,
          7.772809822971126,
          7.42732337784453,
          0.967536572358469,
          -4.690790823610044,
          0.23809990120427926,
          2.1771773325657335,
          23.170660074057253,
          9.511625519720738,
          17.912311102076842,
          4.864046122583318,
          6.8266738029466865,
          23.242649953192426,
          17.17913770620322,
          3.8547484956397398,
          24.655275446938404,
          0.8170828637330771,
          2.662687658295809,
          0.25284288337005023,
          2.7411745389022286,
          10.84635729835803,
          7.009401045888808,
          3.8097044055886187,
          0.7837431628611853,
          11.806761220526184,
          9.231838504806774,
          10.354426927749557,
          3.872021851422886,
          -1.2620184390325164,
          -1.2620184390325164,
          30.99276024313157,
          17.826348424329638,
          65.06622388131987,
          32.06238051378287,
          6.635677804670294,
          3.7707109418973204,
          5.672325420443272,
          3.5771954334647518,
          30.733978284255983,
          24.192301713992194,
          -0.9794890154700369,
          1.2946563018792006,
          24.118528618356933,
          19.045918529808233,
          24.118528618356933,
          3.0789864126594466,
          8.769504672295596,
          0.09634811794670384,
          0.9126126663712739,
          70.02313675341921,
          13.2588917346403,
          2.7508413823096873,
          18.05688219406443,
          18.05688219406443,
          1.6184872927472895,
          3.974182574989797,
          4.56384946125857,
          -6.713851351169211,
          75.65486787628551,
          15.370518437301627,
          1.5491764527018859,
          32.76016009095976,
          2.4672636527497644,
          1.8454513002684934,
          3.2503929651618932,
          9.72932688192283,
          6.649097039613352,
          18.050177030620375,
          24.120007388597273,
          29.22657256108934,
          15.364329198847088,
          7.64363563055602,
          -2.8097775814368333,
          8.055690934385922,
          11.261876455474635,
          -1.3740738058290276,
          14.358528248930796,
          14.307043157886213,
          20.991654862003543,
          3.6135698880862606,
          -0.7765428506864822,
          10.843433116782307,
          57.87362772240523,
          1.3328556981612962,
          2.9850946546441577,
          7.195879866347852,
          2.657004593943867,
          59.2803315791795,
          1.7865704720365017,
          1.7865704720365017,
          23.596708880451317,
          4.226488668777989,
          11.100518588835612,
          3.9418953418786913,
          37.014317019265874,
          2.4391381021723078,
          15.456270906131365,
          2.3467978715853945,
          14.027110208192894,
          25.103285495409864,
          -0.8168789837221624,
          23.80022110317377,
          -0.20239369155753195,
          54.474871188899385,
          29.350129658724384,
          23.425862128610945,
          9.263108754543907,
          5.710777395859182,
          12.689360862420074,
          32.7008532946755,
          13.779247563051342,
          4.561087647783552,
          10.63210544083644,
          1.5647635171383314,
          16.88156925692391,
          19.106811871728397,
          93.60309958691025,
          -0.987983082664698,
          14.750775727270621,
          20.433837309351077,
          -1.6765972397523967,
          -2.123345904023708,
          35.464922314121424,
          11.032375976868849,
          22.593581408911135,
          24.9581416531759,
          7.707392450216233,
          15.465838143953974,
          6.82713723172543,
          0.823753447561316,
          32.66747581421026,
          14.290326905547772,
          16.995495498089426,
          24.9581416531759,
          7.707392450216233,
          15.465838143953974,
          6.82713723172543,
          0.823753447561316,
          32.66747581421026,
          14.290326905547772,
          12.12928034150876,
          6.7012785338726815,
          6.7012785338726815,
          11.30145970490301,
          25.181833682455476,
          50.45940486573359,
          9.045238111626915,
          40.52197870911789,
          27.238841543308794,
          16.284163774775962,
          16.51246559502968,
          10.469805334773568,
          68.18284057458936,
          -1.6146275172577162,
          11.932620274048531,
          16.643933194573947,
          6.824707870798903,
          10.135561984582623,
          16.021961942687682,
          25.7660388109543,
          9.843069639014487,
          19.456886705592808,
          17.35694563542569,
          9.602422345903705,
          13.902804985524341,
          4.459579339826988,
          10.21555715408239,
          -4.1364035142375855,
          17.301367024352686,
          -1.4477608630778889,
          12.814696823534106,
          49.924687838689366,
          4.832926852066052,
          -2.82568665153066,
          16.04702828287401,
          64.60106283430399,
          -2.2296884944561555,
          20.374484499535072,
          18.381223491234323,
          8.558063062402582,
          -0.9213530902366216,
          2.448399333747602,
          4.445661905374223,
          9.893244628927135,
          5.985900436317664,
          13.236848858337211,
          1.7394252024351715,
          -1.1113497800425591,
          1.5934449792106307,
          7.814280490231525,
          11.829985762004128,
          23.68389674696472,
          21.5236857556216,
          37.84019433833477,
          8.734864881316568,
          53.785635681581255,
          53.785635681581255,
          24.497069147132038,
          -9.373881065993459,
          -9.373881065993459,
          -9.373881065993459,
          15.810664563945792,
          49.79349502906588,
          9.070992809685862,
          36.01740822197364,
          4.726940601764255,
          2.2235497012764824,
          0.5835419047181603,
          6.132690393638711,
          22.939743577868953,
          -2.167119960268039,
          -1.3863628185093972,
          10.42503396087156,
          29.615889464302057,
          9.799759899730788,
          -0.555017664320772,
          14.456745594580866,
          12.969331581394371,
          32.457500625034584,
          2.0702123427936954,
          2.0702123427936954,
          6.379567518068214,
          2.892748620199569,
          -3.761761723719488,
          32.632158564616404,
          20.702755093809955,
          -4.116074924406334,
          2.6490858451107897,
          6.562483224586913,
          29.859337744236413,
          8.780765718480936,
          -3.90211912897081,
          1.5370933738239074,
          22.465204120366167,
          44.212169408468284,
          44.212169408468284,
          33.41223601966877,
          36.3584325637963,
          7.7946038730828775,
          -6.166713494800135,
          29.86431394383196,
          2.3896917662041943,
          6.402178000452793,
          8.823717477691574,
          24.5113451758626,
          6.840833593521836,
          -0.4306120405378522,
          1.8498677479676786,
          55.82736162649641,
          43.56003922233484,
          5.065332405822602,
          6.706466329346739,
          -0.893291007385244,
          0.2259042078230067,
          8.09533668269087,
          0.19116295755127055,
          18.94694012851899,
          14.511915090989817,
          3.4927065398508574,
          -6.504624323500693,
          26.18875734849489,
          14.07000783022238,
          5.916858749234464,
          18.428831662934456,
          9.443100067383028,
          2.483767905442477,
          15.37636343200677,
          33.73755900336549,
          -1.7667661364341711,
          -1.7667661364341711,
          -1.7667661364341711,
          -0.9739032204862497,
          10.755948837408852,
          15.736706397206405,
          -0.9739032204862497,
          10.755948837408852,
          15.736706397206405,
          -0.9739032204862497,
          10.755948837408852,
          15.736706397206405,
          -25.097944429935154,
          2.0453555486239736,
          0.7081122222027574,
          6.446419409184557,
          23.65061707078945,
          7.93939124883812,
          22.733131392660624,
          13.75191571676207,
          6.783881547442078,
          -1.2971499925025114,
          17.173678073209373,
          84.18113502445745,
          15.454653485761312,
          17.173678073209373,
          30.33548910375987,
          91.69867429490532,
          39.738400539091515,
          8.832570994406026,
          39.738400539091515,
          2.0237970457409915,
          -0.98230194240179,
          44.31511327557389,
          46.25750767672815,
          23.476863559945983,
          1.612907295251219,
          -1.6530485109559407,
          23.80514043410507,
          22.829793836601638,
          31.985000025062774,
          1.612907295251219,
          4.318163925234458,
          22.700492509122796,
          -6.914739980993275,
          3.275489926838304,
          1.7441822591667346,
          3.5831602615698444,
          6.740343735503501,
          12.615927775645844,
          18.216958196511285,
          24.622856768179275,
          21.821913613793086,
          27.00880954667356,
          12.317273519111197,
          36.491415536290575,
          -1.537660644545852,
          -0.6789739842342186,
          15.358711502558506,
          1.8095849204939327,
          3.0656225554591003,
          4.690441115372337,
          24.178693363585694,
          59.587307789647895,
          147.03060679926318,
          83.48682909998178,
          18.519495318475492,
          21.143701911410687,
          34.24661466579653,
          13.104433492686923,
          55.167519931000186,
          19.39105013025673,
          7.684469776463175,
          10.050993543600725,
          7.210998789732955,
          8.464744346106315,
          32.49176128109511,
          4.607468106167346,
          9.081555788757186,
          4.607468106167346,
          9.081555788757186,
          4.607468106167346,
          9.081555788757186,
          2.5932812868339,
          2.5932812868339,
          1.9134661725681212,
          14.099593757284651,
          13.565403487592377,
          8.813163468676748,
          8.813163468676748,
          2.873049372333341,
          12.73578724623448,
          2.4705678777503834,
          2.4705678777503834,
          4.299118835117909,
          8.813163468676748,
          41.571570796553814,
          1.7904259992108393,
          2.4705678777503834,
          2.4705678777503834,
          -1.9013667050976295,
          1.495107650158502,
          66.70695774388498,
          8.257501148787597,
          29.132854782868137,
          2.5946895476445206,
          65.1865943732967,
          7.538468667889774,
          4.511890961831327,
          38.950005132437795,
          89.1346940070932,
          1.495107650158502,
          -2.135663830694824,
          1.935488495557962,
          7.4034653456626245,
          -2.135663830694824,
          29.786152859521863,
          0.5112114617814854,
          10.454369736188653,
          1.0287768816409084,
          8.68184952572291,
          1.935488495557962,
          22.30811005461507,
          4.9431113381189675,
          3.740828349707485,
          25.87950942921239,
          3.7384257062741426,
          4.9348519444648105,
          2.8492826351067038,
          95.69561138295933,
          187.9827059228894,
          10.464058497905071,
          6.9884493626960165,
          6.9884493626960165,
          6.9884493626960165,
          11.280068457139805,
          7.26246136277085,
          32.842152925107385,
          59.229586694088624,
          7.26246136277085,
          11.280068457139805,
          -2.135663830694824,
          32.842152925107385,
          7.16633765898392,
          2.4582915763654256,
          7.26246136277085,
          6.015803839786557,
          18.08098548476964,
          33.264771430276596,
          49.02053136092384,
          9.594030466147203,
          10.464058497905071,
          32.63515329190594,
          17.994027718995184,
          0.9641254801380796,
          14.01034795375999,
          15.553258284837227,
          44.14559358338062,
          17.994027718995184,
          22.55374360272431,
          0.9641254801380796,
          37.90965442047006,
          26.762072096740752,
          4.560930584152118,
          4.368003281278845,
          29.551867039668295,
          48.184633329428564,
          -11.256192994535198,
          37.0196286144412,
          7.891632266301059,
          109.71699729851802,
          26.9960503610434,
          9.08077099750598,
          4.306898429341729,
          9.7700446124649,
          33.55578901251209,
          1.1743170478143412,
          1.1743170478143412,
          1.0571717243632008,
          9.546736060286719,
          0.9639838701126706,
          21.700388466788638,
          19.909659997765814,
          6.979505949293227,
          24.232571953279376,
          6.332292987351437,
          9.973775503238414,
          14.915530788990822,
          0.9639838701126706,
          20.868779072282422,
          8.998466048625701,
          22.739907265303458,
          -3.915550801102512,
          23.006866752789477,
          14.503734524408458,
          -2.9945584079242877,
          28.29860812183111,
          23.82948246920158,
          9.944721970917797,
          21.92864342311435,
          2.178978730187353,
          23.82948246920158,
          28.738416795069725,
          2.4359634222091273,
          4.736626216955173,
          11.12521334514588,
          17.872609732860795,
          29.551867039668295,
          15.372092601709568,
          -3.311433126403358,
          12.986648118952075,
          -5.2136853204533935,
          -5.2136853204533935,
          9.7700446124649,
          18.607445003418377,
          -3.011696849138673,
          8.998466048625701,
          27.796497093067956,
          12.986648118952075,
          2.9864001005536664,
          17.909398666351862,
          41.933407476546094,
          27.796497093067956,
          13.401607859917206,
          9.012893595188089,
          38.48912988734435,
          12.37675264207364,
          0.014633297115750565,
          2.9864001005536664,
          41.933407476546094,
          14.313514440197324,
          27.796497093067956,
          29.622394020139183,
          19.782994911251578,
          9.012893595188089,
          1.5317065246305788,
          2.9864001005536664,
          26.616499363242,
          16.1915991369694,
          -0.7726292685466092,
          17.347769578351333,
          6.590324431435093,
          30.882331700707837,
          13.86927547874457,
          4.207996863925345,
          22.98491183350228,
          4.037518641772451,
          18.247396378049586,
          12.209455019114117,
          13.86927547874457,
          -6.84602334748196,
          4.037518641772451,
          11.898071842575348,
          17.277908038600017,
          28.98414375576131,
          23.34159022915702,
          46.987322957773955,
          10.856135921801268,
          10.856135921801268,
          10.856135921801268,
          10.856135921801268,
          28.98414375576131,
          8.860799631670574,
          27.273929451132346,
          17.053067995188755,
          24.05327284488034,
          48.151432192960556,
          24.05327284488034,
          5.381268110612169,
          18.95907614078949,
          6.70310210191154,
          27.17698509966509,
          5.762005674576017,
          9.287866420731646,
          3.9838822953701367,
          26.402213205535418,
          4.647495869346244,
          33.384182245203434,
          34.31334944892218,
          0.7055419162617937,
          34.04926935101631,
          41.00772749459546,
          1.6573725199772866,
          1.6573725199772866,
          12.599806123079603,
          6.791650248960565,
          23.190021642236985,
          7.772087469452941,
          -5.090024899844352,
          11.633073610493014,
          12.225222360316081,
          28.891459962591853,
          37.86403504726246,
          7.782064753712248,
          10.532589259279831,
          0.23907893506027733,
          0.7033961397726785,
          25.05522050978314,
          27.17698509966509,
          47.245828608460414,
          78.0881966529177,
          67.14253402930714,
          20.03662608858464,
          51.9959403497472,
          20.519584517240133,
          48.600776499876886,
          12.599806123079603,
          65.56265200308472,
          25.625936633407974,
          1.3245862080852362,
          -8.834255508507866,
          -1.4064535189862255,
          6.679072692002933,
          15.271332142444251,
          20.75207002188654,
          23.956007877981676,
          10.708761417717938,
          3.874599474304574,
          4.447342258643047,
          41.98658944322878,
          6.740794460996057,
          60.880098886338445,
          0.6834318753030288,
          40.85731916451347,
          19.13155053379097,
          7.611717230486988,
          5.649094196499078,
          44.246549126462696,
          6.791650248960565,
          43.80148133739047,
          -1.001205502158797,
          43.18481921677295,
          9.30237865411911,
          20.264918362728963,
          38.09203704118249,
          49.831885598571716,
          5.649094196499078,
          -1.4865210093085466,
          43.10043834174142,
          49.75194013639674,
          -5.5408570425010595,
          -4.835704026405779,
          1.1376509575095781,
          33.353155271855115,
          63.90054665834906,
          6.740794460996057,
          3.227371783325367,
          9.931054273920836,
          11.896701886106968,
          89.29006940545092,
          9.931054273920836,
          52.291979607370706,
          63.90054665834906,
          20.03662608858464,
          18.44769441335913,
          2.33975504298553,
          4.789918860090438,
          32.93625314740967,
          16.52027240925331,
          25.386832098385767,
          5.447550224387598,
          14.042496731796547,
          26.050078384723292,
          2.5338214251840725,
          9.37481439396305,
          27.449384438087208,
          32.93625314740967,
          27.64698343197493,
          4.231337106613836,
          12.339045587814113,
          0.17457879938989151,
          4.231337106613836,
          27.449384438087208,
          27.64698343197493,
          49.50734120525004,
          14.504872590162122,
          1.2027373702021578,
          16.572147656723388,
          5.60181906234196,
          24.71067668475598,
          13.320153175661787,
          20.97764521226121,
          1.6573725199772866,
          53.47284051145357,
          10.907935885463516,
          31.425529082409128,
          5.748979394194436,
          5.748979394194436,
          5.748979394194436,
          -1.3229016038475976,
          5.748979394194436,
          5.17098097438631,
          5.17098097438631,
          5.748979394194436,
          5.17098097438631,
          5.17098097438631,
          1.1119961968499439,
          21.81580958319458,
          -10.08556753509528,
          20.022126671925108,
          -1.3280060559783209,
          32.555415835642776,
          -2.3548853731654305,
          9.882521274369026,
          -2.3548853731654305,
          9.882521274369026,
          27.433034989975,
          23.744239330520827,
          11.300844242513989,
          28.105664440890507,
          29.615777471916374,
          8.539194535850868,
          28.105664440890507,
          27.433034989975,
          22.084339475661352,
          -16.62576368024139,
          12.24130545271791,
          36.65595137678841,
          17.06445660917882,
          3.692270986569909,
          29.615777471916374,
          29.17139537443711,
          28.105664440890507,
          4.794434470446902,
          8.539194535850868,
          123.2121125262895,
          123.2121125262895,
          28.105664440890507,
          7.582565645837477,
          4.354850345578484,
          -6.771907898048255,
          36.65595137678841,
          60.77099405241188,
          17.06445660917882,
          22.084339475661352,
          60.77099405241188,
          6.10863275470831,
          5.314493213813137,
          4.063512554173684,
          3.110834295805134,
          5.314493213813137,
          3.110834295805134,
          8.489281311573777,
          3.110834295805134,
          4.063512554173684,
          4.063512554173684,
          50.70030253408069,
          27.777908125342137,
          6.3154989445065155,
          4.063512554173684,
          29.089504848835873,
          28.385777014055805,
          4.063512554173684,
          -2.4611068559669036,
          3.110834295805134,
          -2.4611068559669036,
          1.6573725199772866,
          1.6573725199772866,
          5.721185295665677,
          9.015305897702916,
          5.846213753936183,
          38.37119731292242,
          -2.8509704078473845,
          80.3296828042402,
          4.212852980131132,
          15.259190564398324,
          4.1911702699372455,
          14.07593084943592,
          5.193204108111146,
          32.91855719987704,
          31.425529082409128,
          31.425529082409128,
          23.187226108868714,
          4.425231398168691,
          8.366721824416103,
          8.366721824416103,
          61.53818757787704,
          7.962445911196681,
          12.67463492213362,
          30.841006653270213,
          17.247889126386056,
          17.247889126386056,
          5.846213753936183,
          20.47422229471782,
          23.40754018855351,
          0.7964946504815629,
          11.098304038789493,
          67.15735925779427,
          1.0814047485798142,
          40.82069063798082,
          68.9572710550876,
          40.82069063798082,
          78.66418611034973,
          57.558482463332595,
          3.169665152302514,
          43.51881265703905,
          2.672708156604344,
          9.603823897391422,
          66.9814927697472,
          107.01742757451011,
          22.689201503371592,
          1.1119961968499439,
          15.08957375215887,
          42.19625384248741,
          -4.078828340981602,
          27.515524843319312,
          54.603726470588555,
          20.84095637148984,
          13.984328003936426,
          13.984328003936426,
          -5.151685536530152,
          16.923276941074548,
          23.187226108868714,
          23.187226108868714,
          -17.438190576809944,
          16.923276941074548,
          16.923276941074548,
          23.187226108868714,
          16.923276941074548,
          23.187226108868714,
          -0.9252937096796643,
          16.923276941074548,
          23.187226108868714,
          16.923276941074548,
          16.923276941074548,
          5.679829028002601,
          23.187226108868714,
          16.923276941074548,
          23.187226108868714,
          -0.0213477706210341,
          5.679829028002601,
          -0.9252937096796643,
          -17.438190576809944,
          2.804223829091015,
          -0.9252937096796643,
          2.804223829091015,
          5.036082575579101,
          5.036082575579101,
          6.715399594844769,
          1.6060018169212498,
          -1.5396429937575533,
          -1.5396429937575533,
          -1.5396429937575533,
          1.3209220494061213,
          0.6208749263956008,
          5.777468598714748,
          11.010393786226928,
          -2.1664005682707312,
          -2.411389868958821,
          -2.006219891274185,
          -2.006219891274185,
          7.682576408372341,
          5.777468598714748,
          6.026699448391696,
          25.81126202442786,
          3.519980736992224,
          64.86006540188968,
          56.60418427675887,
          49.596595384184795,
          18.077075001258976,
          5.649979468603604,
          -3.528525183063479,
          25.712749703378037,
          19.348069393022257,
          2.2517809756453744,
          -1.0721631332295374,
          0.8601157759496942,
          0.5977703039063158,
          0.5977703039063158,
          6.239381451408676,
          1.2024551173719829,
          0.5977703039063158,
          4.327296096891715,
          2.3845610408993565,
          2.3845610408993565,
          7.041858360553817,
          2.3845610408993565,
          9.054590155842547,
          9.054590155842547,
          4.110247425404751,
          38.095804988856784,
          4.110247425404751,
          4.110247425404751,
          25.406029687737103,
          29.486269311438804,
          -2.8232813909742305,
          2.394045485744428,
          -0.34294562396578954,
          -0.6920056419605345,
          -1.414877743169498,
          11.685683202010026,
          3.2965167051865336,
          -1.8447891375606815,
          5.845202173322704,
          5.845202173322704,
          5.845202173322704,
          35.42145944640346,
          3.810985680360176,
          0.526306641524144,
          2.300995715905003,
          6.920231263372003,
          -2.897632360897262,
          3.2965167051865336,
          12.21355177719498,
          3.1269285980271206,
          6.920231263372003,
          12.21355177719498,
          6.920231263372003,
          6.920231263372003,
          28.22927243285079,
          28.22927243285079,
          -0.6962589848922391,
          -0.6962589848922391,
          -0.6962589848922391,
          -0.6962589848922391,
          7.281898936798839,
          0.6748400031964223,
          11.9613781903806,
          2.3621185201040618,
          13.662835359221262,
          9.010807141919756,
          9.010807141919756,
          8.134202338684815,
          -2.9987698621385164,
          -2.632037464273523,
          3.924317263214917,
          -2.632037464273523,
          5.879500963506544,
          -0.17835949992937117,
          34.634967809152,
          34.634967809152,
          1.7599473583502458,
          34.634967809152,
          13.679093644583006,
          -0.641321440498416,
          9.477391719545992,
          13.211703916234015,
          11.226516484696006,
          15.009851509254318,
          1.2320098267020825,
          1.2320098267020825,
          -2.036527449356015,
          35.0267344860863,
          31.597312995158248,
          17.216982558625475,
          12.430315385632554,
          52.027890186124026,
          54.72362778754969,
          43.866180338383586,
          31.162742982020475,
          5.125599098381613,
          2.7150500218548643,
          -4.230316275959751,
          6.856614372512354,
          16.172224674907937,
          23.73244518018879,
          40.40975167720798,
          1.3209220494061213,
          2.7150500218548643,
          -4.230316275959751,
          6.856614372512354,
          16.172224674907937,
          23.73244518018879,
          40.40975167720798,
          3.664781723006783,
          28.68020111321816,
          17.74080164296909,
          8.245710315307633,
          8.012908915512114,
          -3.553765701741739,
          -3.56903397153107,
          -3.56903397153107,
          -3.294870500912239,
          48.20124967538996,
          16.096660204766764,
          11.68928193007578,
          0.9183681646021,
          20.21442232235202,
          5.403510362680905,
          20.21442232235202,
          20.21442232235202,
          20.21442232235202,
          16.36566079700755,
          16.36566079700755,
          14.968331268100599,
          14.968331268100599,
          -13.074273672869452,
          14.968331268100599,
          43.86942795806668,
          14.968331268100599,
          14.968331268100599,
          5.019296268810464,
          -0.1125051353548372,
          5.345874621572776,
          30.845561656696916,
          1.9566354597336755,
          13.499475421387459,
          12.289582452862078,
          14.238699688833663,
          15.081079604759196,
          4.88815271105139,
          -2.4107639480012466,
          21.466059511302774,
          6.284271083304702,
          6.284271083304702,
          6.284271083304702,
          2.6025226824109637,
          6.284271083304702,
          6.284271083304702,
          9.4114738636179,
          42.21531098564165,
          6.028567703887603,
          6.028567703887603,
          33.57738571662773,
          4.450858545543269,
          5.677488129406612,
          5.0414210446249115,
          3.700336979100868,
          1.0375280931359043,
          9.288798529501165,
          -1.0768645784530975,
          6.06958785468332,
          19.243351443616447,
          5.719520737888843,
          5.719520737888843,
          6.3098476357715185,
          6.3098476357715185,
          6.3098476357715185,
          3.058889281576853,
          -6.550142721737188,
          12.572423559395844,
          4.045089407950684,
          24.432619549033035,
          30.212392366698907,
          2.9658215825345593,
          -1.095519907289912,
          33.31984306374548,
          -3.030632930354642,
          33.31984306374548,
          3.465377711646383,
          27.57799883131419,
          27.57799883131419,
          2.7333997673866577,
          2.7527833510042825,
          8.857185409147831,
          -2.5722906300420476,
          8.857185409147831,
          -3.332542961881188,
          -3.332542961881188,
          -3.332542961881188,
          23.014688768350965,
          8.416033829759527,
          21.047888528994932,
          0.04127847181550237,
          13.760876765184065,
          16.153023129694688,
          18.393211626031544,
          8.56452555262831,
          2.7837731960588172,
          -0.9252179354799068,
          3.3474722792982874,
          -1.381057605196304,
          6.1241390958230255,
          13.578962967618992,
          1.9566354597336755,
          11.029520114419583,
          -1.4771170491738133,
          12.474642843938753,
          -0.41815708074136637,
          2.1725086847488484,
          13.499475421387459,
          4.074973238784466,
          10.25235996369858,
          10.225431943088026,
          21.047888528994932,
          0.04127847181550237,
          13.760876765184065,
          16.153023129694688,
          18.393211626031544,
          2.7837731960588172,
          -0.9252179354799068,
          -1.381057605196304,
          6.1241390958230255,
          13.578962967618992,
          1.9566354597336755,
          11.029520114419583,
          -1.4771170491738133,
          12.474642843938753,
          -0.41815708074136637,
          2.1725086847488484,
          13.499475421387459,
          10.25235996369858,
          10.225431943088026,
          4.753502323616232,
          4.753502323616232,
          8.322059204372138,
          -11.529461947845746,
          11.7238120563985,
          13.08511698532702,
          4.701697571356462,
          1.512281416108081,
          17.618895360641844,
          12.143212977231357,
          -3.947723058410304,
          -11.529461947845746,
          4.453085200738585,
          -3.332542961881188,
          -3.332542961881188,
          1.9730025785344765,
          1.9730025785344765,
          0.6575711015586876,
          0.6575711015586876,
          4.257750878900211,
          -4.0493139920350245,
          6.741639048272788,
          17.24771737795112,
          -1.595334773097946,
          6.651024449096738,
          1.3391456672367497,
          1.5624394959012875,
          35.3576333342221,
          15.04299880703023,
          10.460996883777867,
          5.4239622301132755,
          15.093156462042984,
          3.8419103169373727,
          -3.546624497798888,
          3.8419103169373727,
          3.8419103169373727,
          6.558537133512843,
          6.558537133512843,
          0.07734403580700189,
          6.558537133512843,
          6.558537133512843,
          0.07734403580700189,
          6.558537133512843,
          11.17408290167684,
          4.557292858604967,
          -0.9971932368092098,
          -3.6759735045487503,
          3.5223015920321075,
          3.6360980999979517,
          14.017101018353259,
          12.685373793075172,
          18.74808278843888,
          4.5856147668519185,
          -1.2182176540761986,
          11.647624208355126,
          6.8834963814108505,
          17.93262498255841,
          14.890248106000215,
          1.6655209780922178,
          4.898929204626569,
          12.749591693156091,
          -6.858461880903548,
          2.9337643628548307,
          12.749591693156091,
          2.9337643628548307,
          16.063352050998816,
          10.085974733940219,
          10.085974733940219,
          10.085974733940219,
          16.063352050998816,
          16.063352050998816,
          2.3038821771064875,
          9.964030563429944,
          7.964744694391115,
          4.628726329258683,
          0.9943774309275,
          11.322359399389327,
          8.696679609617448,
          8.119781971536725,
          -7.332461771417599,
          18.197709741341143,
          14.307767338346537,
          14.910954002607141,
          1.8729806949306607,
          23.68394332668811,
          0.3319706975080976,
          -4.693018995979287,
          4.628726329258683,
          4.628726329258683,
          7.964744694391115,
          4.628726329258683,
          4.628726329258683,
          4.628726329258683,
          9.964030563429944,
          8.510332216839842,
          3.286081396623956,
          3.286081396623956,
          15.218705709573115,
          15.144912673097707,
          15.144912673097707,
          22.767173377507092,
          11.785521933430658,
          22.767173377507092,
          23.21418562743004,
          17.494487608663576,
          23.21418562743004,
          21.506019764853903,
          26.4261748306144,
          23.21418562743004,
          6.103719508240047,
          -0.5220852153840951,
          2.661231304338756,
          7.3435376746898555,
          26.4261748306144,
          13.575949751025576,
          26.034544554560142,
          1.466747742008863,
          -0.5220852153840951,
          32.27861917181211,
          11.274891988328918,
          9.442376944365492,
          17.494487608663576,
          11.363947517140375,
          45.515096397998605,
          32.206837801659276,
          41.5655799666561,
          30.964756435408873,
          23.522574540380234,
          30.964756435408873,
          13.907407062788295,
          37.04443737128999,
          11.381883482140452,
          26.737279633223096,
          27.14231180156949,
          3.8557069107465054,
          18.626114309605427,
          27.14231180156949,
          11.204737496848452,
          37.04443737128999,
          26.737279633223096,
          15.281193780317835,
          27.14231180156949,
          26.737279633223096,
          24.432188320567775,
          27.14231180156949,
          26.737279633223096,
          23.736022067058997,
          8.356402955442377,
          18.99840691289924,
          9.520006296784501,
          23.736022067058997,
          13.645231247155294,
          18.99840691289924,
          23.736022067058997,
          23.736022067058997,
          18.99840691289924,
          11.364607847220668,
          20.145398285899716,
          20.145398285899716,
          20.145398285899716,
          11.364607847220668,
          11.364607847220668,
          11.364607847220668,
          11.364607847220668,
          0.4627786451184761,
          -0.9252179354799068,
          2.682211516820672,
          5.5665137825891975,
          4.877143529133477,
          16.699181442946582,
          11.088848499883255,
          4.877143529133477,
          11.30784548018704,
          11.30784548018704,
          11.30784548018704,
          11.30784548018704,
          4.877143529133477,
          11.30784548018704,
          4.877143529133477,
          4.877143529133477,
          42.83377941379429,
          3.6112142233121602,
          8.233792408661543,
          3.6112142233121602,
          42.83377941379429,
          42.83377941379429,
          -0.859885208162666,
          43.755485115734274,
          43.755485115734274,
          43.755485115734274,
          -0.859885208162666,
          -0.859885208162666,
          -0.859885208162666,
          -0.859885208162666,
          43.755485115734274,
          43.755485115734274,
          3.656362338566254,
          38.82671235106551,
          15.376521841254856,
          38.82671235106551,
          15.30267156391831,
          12.843510992053808,
          7.040629640868616,
          32.305419115309036,
          5.914447306616481,
          3.6572788993778147,
          -1.2229101751688916,
          9.84416798418556,
          3.5382040962091565,
          5.15339039519678,
          -0.9147857667006747,
          10.406925474845508,
          12.882218036103083,
          15.30267156391831,
          18.635527245999512,
          15.30267156391831,
          15.30267156391831,
          35.982364198999164,
          15.30267156391831,
          35.982364198999164,
          35.982364198999164,
          35.982364198999164,
          14.42199503123095,
          53.818723965710475,
          -2.7389698788522168,
          12.281512902689073,
          7.515770302884164,
          18.938990485001128,
          4.999792005009056,
          11.96072808176578,
          12.666579643341876,
          4.999792005009056,
          11.96072808176578,
          8.261487129951902,
          25.952208195472096,
          -4.722206912050879,
          38.668017668711286,
          4.028810671200816,
          6.324625446678226,
          13.156199092707624,
          10.682562285430947,
          8.297831489701835,
          1.8101647882609342,
          0.4444481153634996,
          1.8393756254147178,
          12.464563580003585,
          0.17110647345666052,
          2.92150736101361,
          2.92150736101361,
          4.602704454550704,
          4.602704454550704,
          4.602704454550704,
          6.925258600945597,
          1.3560933758094933,
          4.192796368067533,
          1.7015932533940514,
          -2.2714551355842474,
          -2.2714551355842474,
          2.4354828615462054,
          8.288584299099341,
          6.065439365535042,
          7.728812615616235,
          3.2133608769342743,
          -0.47371103032183726,
          7.728812615616235,
          3.058889281576853,
          7.361343868836698,
          -1.0772628927385313,
          -0.9214491345181557,
          2.506204474292403,
          9.607823393015096,
          3.927455202979772,
          9.588913179223411,
          14.008573036276218,
          14.008573036276218,
          6.342323747122478,
          9.382839020137112,
          17.009164257695986,
          10.739892051244937,
          -0.27662635665295454,
          12.831608662924793,
          12.831608662924793,
          12.46569637999724,
          7.930848947649409,
          3.058889281576853,
          6.920929700714453,
          9.476850404848264,
          12.75025573016947,
          10.445828371902465,
          5.780922509208011,
          3.371907348081109,
          -0.3776928367828418,
          9.441771268486605,
          9.441771268486605,
          2.851113855294173,
          -0.0705490076393005,
          4.0273109410144485,
          2.851113855294173,
          63.367699891704774,
          11.89568813288976,
          0.06938500910453627,
          0.06938500910453627,
          0.06938500910453627,
          -0.9338213886639721,
          3.8443425745414004,
          12.787911883897365,
          9.445359977238397,
          7.856931698922992,
          25.1129770259232,
          4.647794647187013,
          -0.557389433843511,
          0.20523141093298136,
          13.729175968355122,
          3.9795070965787573,
          1.4752404217200734,
          1.3620925173644451,
          5.194176875118714,
          0.4214383329361766,
          2.0659328999269206,
          -5.111822906599144,
          -0.6757893670450699,
          2.901511405029609,
          13.387610600765228,
          13.387610600765228,
          15.177411388341227,
          28.66350458375014,
          -3.0776947181029755,
          3.2171318976068193,
          -0.9338213886639721,
          -0.9338213886639721,
          -0.03950899626647697,
          -1.0944154594564708,
          21.255128344672016,
          -1.0944154594564708,
          21.255128344672016,
          -1.0944154594564708,
          5.065619457384543,
          1.9040798476483332,
          15.532195761423509,
          2.7368481379982654,
          -3.877335472076382,
          -3.877335472076382,
          1.9040798476483332,
          1.9040798476483332,
          7.781346953007954,
          11.393760885294881,
          2.7709814661119907,
          2.322454711577322,
          -2.045533730116901,
          23.247429168966292,
          16.02672858630622,
          3.883793838954091,
          -1.0150205410045032,
          0.9163450101683424,
          13.914859686654765,
          -3.423101297268815,
          18.688642420844886,
          -1.3743154309681955,
          4.806871413833221,
          8.005087213653127,
          2.9066627773415377,
          5.729039514699153,
          7.971976393922802,
          4.551438124590433,
          -0.47888590839188794,
          16.94430260747687,
          8.270714451946603,
          14.848529486481667,
          18.55861807934562,
          19.29253467776431,
          19.47227030622379,
          21.873920819672733,
          33.21309314430296,
          1.4000697171531158,
          29.968588689884825,
          29.968588689884825,
          -0.43058382504959525,
          1.1808091550890367,
          -0.962503626773298,
          17.502303541350727,
          -1.5518914851496959,
          5.1952395667396445,
          9.789847261569406,
          4.3712345593999515,
          -2.150830956336307,
          -0.32469327281155813,
          4.398816005027427,
          18.061524502496695,
          22.635308532938595,
          6.778516564726814,
          8.07736328669273,
          13.122351515576497,
          6.755127994965818,
          -0.7936025072487638,
          2.249751250866751,
          15.418195880473775,
          11.840952586524779,
          40.184073719529266,
          17.502303541350727,
          21.242442337450527,
          7.00340165578271,
          9.72130567562597,
          13.933382286409994,
          8.265602137094447,
          17.096286549260057,
          13.094783347105079,
          2.6435290381925256,
          1.7171124858924856,
          10.83326526015226,
          13.302733560257252,
          4.45399912147937,
          29.232174825125256,
          5.363228052974051,
          2.2366476240503204,
          3.103142869593256,
          0.4121997623145859,
          0.06778153055539349,
          14.232608338611158,
          5.1952395667396445,
          1.6927806614477845,
          7.682063576340369,
          3.0967048255516545,
          -4.107986401728397,
          25.301193819627827,
          1.522245942674786,
          -3.1183210277929163,
          0.1833577750508084,
          0.902847137427699,
          2.751590542911444,
          18.239000810225804,
          11.87425782310288,
          10.776828672493735,
          0.1618326591966195,
          5.121423103926261,
          13.669404000203684,
          -1.9722151737772293,
          -2.150830956336307,
          -0.10048902951422178,
          3.996916577971902,
          17.362759534301716,
          3.557537472798856,
          -0.7044461149603478,
          -0.0615595819815411,
          16.353253729376974,
          2.9196924062511584,
          20.4446665661725,
          -1.048123264864529,
          12.811512303511236,
          30.37739782539269,
          -1.1555019477905262,
          -0.4711888502235837,
          14.850047482502362,
          15.141413510210825,
          1.7122908597128514,
          20.263421488445474,
          -0.12353017551986056,
          1.0758352599506082,
          1.6690392413418493,
          1.203979505909956,
          -1.007542113049226,
          6.573264723201348,
          -2.146408099739915,
          7.885514355953362,
          8.794557424297778,
          -0.006211322692166732,
          8.085043740968914,
          -0.8880018238742338,
          9.633526051442942,
          20.863104414078393,
          8.294104177309464,
          12.106904347277506,
          1.291826698238765,
          7.07319300307806,
          15.656950036142078,
          -2.0638738213073395,
          3.1768686148734275,
          -0.620062896311282,
          4.3712345593999515,
          1.1091480515908074,
          14.756195325378968,
          28.329085821918838,
          28.329085821918838,
          22.998190965131514,
          3.7471566609016946,
          0.4121997623145859,
          18.875095931369415,
          24.89279104658503,
          7.033361816490427,
          8.87607021998248,
          33.42457482451702,
          35.14773995376436,
          0.07577046339778803,
          3.996643817826964,
          9.54304303186909,
          -3.3843484438541935,
          8.542951373371878,
          1.347228013965065,
          1.6838178849336174,
          -3.0201205512183975,
          3.3754506890184928,
          6.333046568951616,
          26.23535188747347,
          6.582007849265011,
          -0.1780016249440166,
          9.924699200389782,
          41.037106237542204,
          41.037106237542204,
          12.457157459494667,
          10.486391976284736,
          20.350247238991415,
          10.486391976284736,
          -2.461368420028208,
          -2.461368420028208,
          6.981289736737736,
          18.88542849954446,
          11.575714534083673,
          3.9302475868203572,
          -4.986398186198755,
          -4.986398186198755,
          6.498662147576965,
          22.61244916568515,
          22.61244916568515,
          9.562501324757505,
          3.9302475868203572,
          3.9302475868203572,
          -4.986398186198755,
          -2.461368420028208,
          9.562501324757505,
          9.562501324757505,
          10.906098099315415,
          2.6011044657104634,
          -11.325100161202059,
          7.850915851381657,
          58.82791577549442,
          4.761467009956405,
          1.785061781542737,
          7.850915851381657,
          24.11767313970566,
          27.52853983717783,
          7.557718847730953,
          6.342453229024301,
          15.898768441424394,
          -2.0547669239690123,
          14.675270125965909,
          18.3874305124057,
          14.04447996700263,
          1.5618336308679517,
          2.6011044657104634,
          2.1940902655991295,
          5.607031082650195,
          1.3385311395315824,
          10.814457965444632,
          19.53855510270556,
          2.5215996391490307,
          5.5830774492959705,
          -0.08299729500669173,
          -1.3801822268742256,
          5.137830301856283,
          21.10323768132443,
          28.036625220681103,
          -0.07755301271996018,
          4.1322534102157675,
          23.388133859107413,
          11.640335362013616,
          -1.102319874049627,
          27.77058269425399,
          7.285052931541543,
          5.049169082744399,
          2.2931515997675262,
          30.93751849132896,
          0.254615691532166,
          6.298083305129026,
          11.196713896901585,
          7.807718290116128,
          2.6948396855878087,
          12.319928685786778,
          44.91809344924768,
          18.446740997413684,
          3.252885971258223,
          1.9060225847769345,
          42.87569948852702,
          3.2716596434636784,
          42.30118853966006,
          13.510388463546917,
          11.791537105832532,
          -3.4612267486660926,
          3.0894577492902044,
          4.518601913408901,
          3.439207515078934,
          7.172300767484742,
          6.899865076304536,
          6.899865076304536,
          13.632521209303903,
          16.86250510822036,
          3.1294869430942356,
          13.768079744351581,
          37.284742812998516,
          10.198108287751012,
          10.198108287751012,
          3.6283854759765717,
          8.46384149655762,
          3.024224502853528,
          3.6283854759765717,
          30.71564594123707,
          24.727984242839767,
          1.9060225847769345,
          15.781046983190691,
          32.1828553461732,
          15.991225339812232,
          1.5412429140324662,
          -1.8412582162835918,
          2.503736174454005,
          8.120083372961147,
          1.1167800007553126,
          10.758706395149005,
          4.404993382720704,
          0.5599754005014006,
          15.991225339812232,
          36.234115250500935,
          36.234115250500935,
          9.678293552533276,
          12.008862453020342,
          11.722851643018856,
          0.9257014446697411,
          24.727984242839767,
          6.858037252626403,
          36.47560624643694,
          1.6585716857647412,
          66.45548369595524,
          66.45548369595524,
          31.890936613440743,
          12.337522574807565,
          30.162292936358313,
          17.31517444789945,
          11.012015151478508,
          4.016404141728387,
          13.920349191267519,
          29.078156894365947,
          9.540250234328894,
          7.509894290248994,
          14.835063490058246,
          74.57689973771186,
          188.4172481155399,
          14.844282663999422,
          22.666410914210672,
          1.6542670751433235,
          8.724613844079087,
          7.012882990518122,
          10.155817374919252,
          7.844873362340678,
          10.378623860188355,
          1.3701807893139204,
          14.68783521612761,
          15.520815851580693,
          3.853435784055037,
          3.853435784055037,
          -1.6228624853029032,
          8.202485831549055,
          -4.36285520633686,
          -9.062386049782205,
          -4.36285520633686,
          38.63378779905888,
          -0.809881308253722,
          33.76542904621783,
          7.43881146413419,
          25.964329713284584,
          25.964329713284584,
          32.42608498160439,
          32.42608498160439,
          -0.31229175596880054,
          5.17827569943546,
          -2.0249538636333284,
          -0.31229175596880054,
          -0.31229175596880054,
          16.249800313203025,
          5.745186991210161,
          1.972064042488384,
          2.595417005127487,
          -2.644167419615968,
          3.793666096368227,
          -1.0420773821341953,
          0.15497545779486188,
          -1.604309903537228,
          16.777088363165035,
          2.1132662849182537,
          7.899748990157093,
          8.13127880885905,
          30.713135610688795,
          0.022041551728761988,
          1.6185086972512295,
          -1.6956159328468061,
          32.003940480335416,
          5.893770682257525,
          2.33803151852635,
          7.668601660939288,
          16.286390413628965,
          -1.988202249678352,
          5.827367793028387,
          3.877877290118505,
          8.528358260257264,
          12.656095083859185,
          -1.960647611790364,
          30.749733430204145,
          11.049982977551664,
          26.690920127511106,
          5.4417796726398535,
          -1.49216301481178,
          9.623813307245655,
          10.03809977023107,
          -0.1806259627717992,
          14.619550179093082,
          5.608733517910167,
          -0.8964702027881515,
          -1.604309903537228,
          21.596415109784957,
          13.75741693951612,
          9.58442214223463,
          9.06307945178908,
          -9.523027536854173,
          0.022041551728761988,
          16.360127851855168,
          8.203661709986847,
          33.59593452796658,
          0.8670405226552589,
          6.6005883405324255,
          2.1539860067604053,
          7.893738286629571,
          2.178329743974473,
          -3.763072449134654,
          23.319499134522175,
          4.6798545520064465,
          13.812641845380938,
          3.610190330831955,
          6.037212130074806,
          -0.8550028794471132,
          -0.437761667439986,
          53.35155466859561,
          3.424473340438041,
          -0.437761667439986,
          -0.437761667439986,
          35.21890629292085,
          39.90972904124045,
          -2.4065993370453356,
          -2.4065993370453356,
          3.057789165902875,
          3.057789165902875,
          -2.989119542893391,
          -1.6571759725567432,
          -1.6571759725567432,
          2.1132662849182537,
          6.383590613532178,
          1.0982785790261573,
          38.930685866628,
          2.043637149066015,
          2.043637149066015,
          0.23868715339656887,
          31.890936613440743,
          12.337522574807565,
          4.016404141728387,
          13.920349191267519,
          29.078156894365947,
          17.31517444789945,
          -3.0429988598444453,
          34.26526395343055,
          10.453394013647454,
          10.453394013647454,
          6.727422915028967,
          0.7918730524970812,
          6.727422915028967,
          1.889792355487856,
          8.644906568268368,
          21.16288539115841,
          28.160782153420257,
          16.262219028104738,
          -9.44870039324097,
          5.90225462005877,
          3.969346717304262,
          7.218708149989126,
          10.897117705940175,
          18.76831773922484,
          13.445600158612592,
          16.569380484304872,
          17.161656994317283,
          4.965253729790632,
          24.80013164213193,
          21.18469711862646,
          1.3094000383477464,
          12.014926426294892,
          4.624459213890233,
          -0.3466343819756901,
          36.774889010117704,
          51.94961581256267,
          5.205132450061029,
          16.203308431757307,
          5.205132450061029,
          5.205132450061029,
          16.203308431757307,
          18.85464831358084,
          24.51370581725577,
          4.006801427717306,
          4.830890001018517,
          4.006801427717306,
          18.85464831358084,
          11.54668159510149,
          0.23149775392052163,
          9.097300266694887,
          11.54668159510149,
          0.23149775392052163,
          86.9961962356439,
          18.85464831358084,
          35.604842164457565,
          4.006801427717306,
          4.006801427717306,
          18.85464831358084,
          4.830890001018517,
          4.4420450563211205,
          22.46677905211321,
          22.46677905211321,
          56.583924654382315,
          71.74207738916058,
          56.583924654382315,
          86.14098352919925,
          51.74297936444802,
          12.42084548768743,
          9.170739494806185,
          11.002374315510096,
          4.582524812574249,
          7.137353478103506,
          11.547573238431198,
          2.4641090023341974,
          11.929152350723399,
          2.7672785646276594,
          18.40582238468997,
          1.9652861263226384,
          9.888642504433179,
          12.750973586427662,
          35.33094628276433,
          18.565616835662922,
          4.988056724979373,
          6.888189047947606,
          -0.43364795982303406,
          -1.1660130417410812,
          79.10962403109276,
          -0.16094545511450065,
          59.545934418208546,
          5.861524383908872,
          54.255395161845826,
          75.52616107338858,
          54.255395161845826,
          0.09153976938888775,
          0.09153976938888775,
          0.09153976938888775,
          9.038333627775785,
          54.255395161845826,
          51.73552723594619,
          76.57161332203239,
          4.522428748858815,
          76.57161332203239,
          17.65235464204352,
          51.73552723594619,
          5.605489316453571,
          4.522428748858815,
          -1.7788650814264173,
          76.57161332203239,
          3.2574561206228196,
          72.95115838845147,
          2.7229993259023217,
          68.03394353480087,
          6.696131959495105,
          -0.210890609627981,
          10.540817188038176,
          13.64563941244451,
          20.8624087942125,
          17.95539734537772,
          12.73632507523665,
          16.886842121071084,
          16.665230078953996,
          11.771241514636586,
          11.771241514636586,
          4.1360340835321665,
          -1.054361526803575,
          3.645039153961619,
          6.37817297999969,
          4.8811990101363705,
          13.114099952729546,
          16.160008011594655,
          4.770283534971924,
          13.793658255463043,
          5.50302005137128,
          0.434892585684878,
          18.403858166255617,
          8.850709073809469,
          12.413140395791999,
          28.018481155339657,
          16.160008011594655,
          4.541005754051852,
          6.7884170556565095,
          12.43960068026449,
          17.64794055004765,
          1.020989985544844,
          4.770283534971924,
          13.793658255463043,
          7.58694090583684,
          8.02162749290109,
          -0.210890609627981,
          3.8707466779007973,
          11.44578795372881,
          51.642398360172265,
          7.352041801184541,
          5.429523880856934,
          5.429523880856934,
          5.429523880856934,
          38.570230390698825,
          4.035832075210706,
          4.035832075210706,
          4.035832075210706,
          21.223896040155196,
          21.223896040155196,
          6.157642747446474,
          21.223896040155196,
          21.223896040155196,
          7.434846155539148,
          7.434846155539148,
          27.29510819699665,
          0.26826638443777995,
          0.9885924308230472,
          23.432221845941783,
          8.115253379210742,
          7.0733060636053295,
          -0.5762053027455352,
          4.9060399999813455,
          1.229744613473386,
          1.8296920212125372,
          1.229744613473386,
          7.056120067748807,
          -0.08878973737475349,
          9.359039199397102,
          -0.37248321145321484,
          26.266989760516708,
          1.432604029668724,
          27.15101788568512,
          17.580657866711064,
          -3.7714870944486307,
          -3.7714870944486307,
          -3.7714870944486307,
          2.8560447409124237,
          -3.9495960069189806,
          2.2387533404081523,
          -1.0456170722444398,
          5.391890490754122,
          7.89641971821851,
          11.777951964070766,
          -0.29010145978183743,
          2.4953153578865965,
          4.294061714998634,
          1.377219744631489,
          8.255498750980777,
          8.255498750980777,
          1.9860261971631274,
          1.9860261971631274,
          1.9860261971631274,
          4.982205550199325,
          19.93393330698386,
          2.1235353584870325,
          9.347043046516049,
          7.692592007870303,
          0.7225369561621164,
          13.033189380169034,
          13.033189380169034,
          44.58477713096222,
          0.35375155923605917,
          44.58477713096222,
          0.19974441689561218,
          -1.5144841973042986,
          8.463622960137982,
          10.6191025929935,
          -3.503234495191137,
          0.2902800362037823,
          13.033189380169034,
          -0.07140260855203451,
          6.845428176215449,
          3.528947712679738,
          18.79409999145203,
          -2.538887392357907,
          18.675082252358024,
          2.328145900427131,
          4.454672303762479,
          -0.9011587180987135,
          4.402654233005549,
          17.178538609129873,
          0.8440977083577934,
          0.1470179946694259,
          14.546950452297807,
          12.027054640772434,
          12.39699681456463,
          0.24274478831424062,
          3.6722112750321685,
          -0.6005302763597342,
          0.8649095338157196,
          0.624923474940644,
          -0.6039830406102169,
          5.7843869758043525,
          2.9691552167494564,
          -0.04507651551810454,
          10.758844472357566,
          11.145546919130496,
          1.2323488264687938,
          3.8596522065019343,
          5.556769084755516,
          -0.29479684849850685,
          2.7062517800910797,
          1.464156114336788,
          2.648498446311436,
          -2.7346561647251235,
          4.164035416340084,
          2.00836680376176,
          3.7907206888012865,
          19.675861169077606,
          -0.5051434682624887,
          1.1402195095688086,
          3.139659572327915,
          2.201073039837439,
          1.6989859928246034,
          4.657342632721196,
          4.634958019192979,
          2.0045343710002754,
          5.117449590596962,
          3.4274255045158384,
          16.573240812488564,
          9.692815960459711,
          2.365564682699926,
          9.550641000348989,
          6.657454587143135,
          0.8991827306715976,
          1.867931447050367,
          4.741553669285693,
          8.301843662648508,
          30.326743785200733,
          -2.4275857496275393,
          5.843893668297909,
          13.073423140460875,
          4.152190354766688,
          4.098474216606675,
          -0.8450646089860641,
          1.7763955054815455,
          3.647362916002237,
          4.663821883285223,
          5.992260604174888,
          6.809078086543067,
          1.8291557141730408,
          2.9295960594705264,
          2.0248430895222924,
          2.4979714263595554,
          2.1339921820792966,
          7.421432167289552,
          2.9295960594705264,
          2.1339921820792966,
          6.5600046646650725,
          3.859859679466254,
          11.253314744966318,
          11.253314744966318,
          11.713792109498826,
          13.329168573744084,
          11.188205053103218,
          1.1326016510095656,
          13.329168573744084,
          5.113001970369538,
          1.951240731817478,
          11.188205053103218,
          1.1326016510095656,
          23.139065214960866,
          5.913241769041974,
          4.204051775676277,
          1.7284703228621368,
          14.137293360136368,
          -0.4997864270994796,
          11.402237623795571,
          3.6288291148932643,
          2.01505710951983,
          3.8600973371555796,
          11.207594787121593,
          6.199844343058913,
          0.19974441689561218,
          0.24954258442325283,
          1.4397917505190776,
          1.4397917505190776,
          1.4397917505190776,
          1.4397917505190776,
          3.859859679466254,
          3.859859679466254,
          16.327958191422383,
          19.456155368255267,
          3.859859679466254,
          3.859859679466254,
          3.859859679466254,
          3.859859679466254,
          3.859859679466254,
          14.309226910114859,
          -1.9708551107803345,
          7.357434069104102,
          40.99645909786274,
          3.3380957909602103,
          19.765449234591912,
          1.1027242007414486,
          3.201959267221028,
          -0.23358497994350103,
          5.097540713363969,
          15.30000981264827,
          32.56813981987695,
          10.517571399747524,
          0.22864120752258543,
          2.2846388852972694,
          7.401634283575618,
          28.394038019312234,
          10.115535713060893,
          11.884463576495506,
          8.669626279013144,
          -6.901753181388372,
          0.479697230626158,
          7.925881394704234,
          1.8317965441556225,
          3.88113887347653,
          9.63307136097373,
          0.36762926142827723,
          3.509323955888405,
          1.5472366662213233,
          1.5472366662213233,
          0.7807559851464845,
          -0.2593706295124889,
          -0.6616363212495742,
          29.627802756417893,
          9.575528468265375,
          3.706670455988089,
          0.9116446256623192,
          -1.0242043353385526,
          3.132774503645166,
          7.793682456812746,
          0.5014575648230561,
          5.43566389157067,
          4.261529371952761,
          23.648450803709736,
          4.261529371952761,
          4.503138235207871,
          6.653238150754959,
          29.078828271086664,
          1.8968527627646097,
          5.453038346898339,
          2.8527251277085526,
          5.336137166493515,
          5.453038346898339,
          5.336137166493515,
          0.855326761828124,
          9.173406972327882,
          0.855326761828124,
          18.018183766563368,
          -0.28327945821939693,
          3.1332967340940456,
          12.59143852414995,
          6.4106280210546345,
          17.305652264334356,
          8.900617390223701,
          2.0419922635044543,
          1.2572258748733134,
          0.855326761828124,
          12.032215727163205,
          2.4740660093147397,
          17.68357743662706,
          25.827588346263624,
          9.173406972327882,
          21.633114250835135,
          9.173406972327882,
          9.173406972327882,
          3.6096204037290818,
          5.7223647419664445,
          3.6096204037290818,
          9.741468700814849,
          8.773771034336946,
          8.773771034336946,
          8.900617390223701,
          8.900617390223701,
          8.900617390223701,
          8.900617390223701,
          26.748069241048142,
          2.7838182874863975,
          8.53093817864061,
          2.7838182874863975,
          2.7838182874863975,
          2.7838182874863975,
          8.53093817864061,
          8.53093817864061,
          17.682758923928944,
          21.50203574525564,
          12.555006624878985,
          14.523825912067707,
          21.50203574525564,
          3.2362952048835893,
          13.31603386882125,
          2.0333004280525984,
          9.4177763473091,
          10.517594715919614,
          3.2362952048835893,
          23.882734459961767,
          5.899234480369671,
          1.008388374340086,
          23.882734459961767,
          10.517594715919614,
          2.7821654136920273,
          3.9831004450689136,
          13.939568020520596,
          15.168046408893787,
          -9.668006278548404,
          21.197861093651085,
          -3.2968674370894604,
          9.626516861964348,
          11.349094813350604,
          9.161049637877213,
          22.181442159706748,
          9.50939844022811,
          9.161049637877213,
          14.015033113141172,
          -1.7428701126644057,
          -1.5733842141099075,
          -1.1657675141315877,
          9.626516861964348,
          9.50939844022811,
          13.022342076224746,
          11.834810027709153,
          19.81938768182664,
          12.343234071553894,
          0.08124192632141103,
          0.024781044283813003,
          29.67800963994857,
          8.666423545937647,
          7.211197251047778,
          0.7887050011837999,
          4.422226766607238,
          0.7887050011837999,
          4.422226766607238,
          15.732523021359441,
          1.9696593810247265,
          1.9696593810247265,
          17.75742279751826,
          3.9873330623901637,
          6.771196845755853,
          18.980689099005673,
          12.54616819911621,
          4.6554889832270305,
          15.305372495231595,
          4.584332688931013,
          4.6554889832270305,
          4.584332688931013,
          14.653451288348563,
          1.3097164218733468,
          38.912472019883594,
          4.849224825364075,
          7.211197251047778,
          1.4021871356477078,
          1.4021871356477078,
          -2.2468145842651523,
          -1.4072673494730594,
          13.754011031934922,
          -2.323552619354146,
          4.659179254353091,
          5.986858437089737,
          -0.3729524168146696,
          0.7871873969929339,
          0.7871873969929339,
          0.4070886272954226,
          -5.344526753983175,
          0.7871873969929339,
          0.4070886272954226,
          -5.344526753983175,
          29.797240966557723,
          -2.2468145842651523,
          2.8021249789071447,
          28.807607832305848,
          28.807607832305848,
          14.990144629604188,
          28.093455166307763,
          15.13491118361874,
          7.571372145988519,
          4.909099785696981,
          7.571372145988519,
          4.909099785696981,
          -0.8166216784947409,
          43.31221528049993,
          3.041174904267251,
          23.400243172485176,
          1.1054270228917176,
          8.234277154947975,
          28.183215482806446,
          28.183215482806446,
          2.5852330226307174,
          69.25698864676207,
          27.457456270381755,
          67.06004855068468,
          3.220291899499884,
          7.783977451930923,
          33.087552643292454,
          -2.9211856182893143,
          1.9163101998213108,
          32.64652851601045,
          5.502431022306851,
          8.444284497206368,
          5.471507017073108,
          3.6326735834406207,
          92.90399411142288,
          3.4225641115405665,
          10.037010179584513,
          4.70908993673001,
          3.4821912355007782,
          5.502431022306851,
          48.70485963123632,
          3.6326735834406207,
          2.7365671887776273,
          6.622642131447108,
          -1.52618762568666,
          1.6496381748276718,
          4.1182327045555525,
          -0.4035994188203631,
          4.9460515997839,
          9.06617127315856,
          1.5012083477736553,
          14.579317799069486,
          29.555685082413945,
          -0.5420534514335742,
          5.593856416911322,
          2.225974810829584,
          4.5204971608119,
          85.16503827500432,
          4.746473482574558,
          3.2609319470942495,
          87.7785876558452,
          26.95389644133617,
          -2.606739883025085,
          5.60308127892408,
          1.3367831730032265,
          0.005011309444739709,
          4.447199039522019,
          16.0033270907049,
          13.20476792886761,
          9.344157810495958,
          10.119871610868913,
          6.622538895064977,
          6.887366863701246,
          20.475203773799365,
          11.316282739993483,
          8.570981807376612,
          12.385191091436525,
          8.859980327048987,
          8.703640255053784,
          -1.6395258030593567,
          6.249422930756751,
          -1.4281251886757076,
          4.740996781416968,
          3.3026218858545207,
          21.858934782785354,
          2.9243356473088227,
          13.86070035014086,
          9.360394854283243,
          5.408565690857515,
          0.2703188329350894,
          10.027234790811036,
          0.6254685582269133,
          14.221108952885231,
          7.110647916459683,
          6.912310111391562,
          5.706506090774255,
          4.115773954648816,
          11.761536099290126,
          22.575466466878467,
          22.575466466878467,
          3.5106088540276517,
          22.767373222791008,
          35.93760500194344,
          25.09647862131075,
          25.09647862131075,
          3.701455533059459,
          11.577428719903807,
          11.577428719903807,
          4.755521149886263,
          11.577428719903807,
          29.421316901505534,
          18.34803464298861,
          15.537859332284384,
          13.396737215730255,
          1.5561017287399892,
          5.659907008018095,
          36.666884378254366,
          9.131610486630038,
          3.8771199007912855,
          20.105363983832262,
          7.994433927396003,
          15.1809469864602,
          24.348986569355475,
          20.105363983832262,
          7.878207214999392,
          12.529464752426534,
          13.396737215730255,
          19.95939018253975,
          4.158389357952032,
          10.43117425125837,
          10.1571725751826,
          10.1571725751826,
          10.1571725751826,
          8.139940985048426,
          8.139940985048426,
          8.139940985048426,
          8.139940985048426,
          8.139940985048426,
          7.4716002751290205,
          24.719294859909752,
          24.719294859909752,
          4.274408970641005,
          4.897126491118115,
          1.4254258093220784,
          8.612352073507296,
          3.2453956577766974,
          11.464903736548322,
          11.464903736548322,
          1.869712231578987,
          21.292341193508037,
          3.906087896973986,
          1.5066181637256904,
          4.674617771934152,
          6.888201316368637,
          2.571980352175558,
          6.888201316368637,
          22.48676806164599,
          22.48676806164599,
          6.890309620487415,
          22.445086439583235,
          18.193092870322488,
          22.568756125924935,
          22.568756125924935,
          6.200793285973759,
          6.200793285973759,
          40.45665762623962,
          5.582049019966533,
          -0.4628725855131677,
          5.582049019966533,
          23.72217969223334,
          35.58698394544906,
          24.339757541418535,
          24.339757541418535,
          6.327373167424966,
          24.339757541418535,
          16.75398502325355,
          6.327373167424966,
          -2.721199251120268,
          -2.721199251120268,
          3.1420416304242735,
          14.370249736839241,
          37.772983951168,
          11.774328339111236,
          16.51512305358021,
          4.826799525778313,
          13.986175960033691,
          34.78680390128794,
          0.4265848934953027,
          8.423538908861616,
          8.200227705451525,
          6.241247757370175,
          3.997800606523299,
          14.964770632939974,
          115.50192722968143,
          5.881404144496273,
          5.881404144496273,
          -0.13395698091837005,
          8.573516791057955,
          6.241247757370175,
          28.080195063460536,
          6.241247757370175,
          6.241247757370175,
          6.241247757370175,
          6.241247757370175,
          28.080195063460536,
          28.080195063460536,
          25.38167205339093,
          25.38167205339093,
          2.598090108001273,
          6.734026410283448,
          9.271222437362724,
          0.4265848934953027,
          0.7825975194130876,
          9.728087978873603,
          2.797879139210977,
          25.38167205339093,
          4.882097192560309,
          3.2738768045341686,
          20.525035587493818,
          -2.2579108402065486,
          4.790464003179196,
          2.452534531027922,
          8.300988346754721,
          4.336375049019296,
          -2.6381913373804906,
          49.93330555992732,
          49.93330555992732,
          2.452534531027922,
          9.182929665780037,
          7.951208659597825,
          16.238961644939906,
          -4.45689502580403,
          3.6153070515813823,
          29.349508590994958,
          5.679765237394193,
          12.59013461606773,
          -1.0099072476154873,
          3.3269995478235046,
          19.304756713499827,
          0.8841824043085325,
          10.780192965935228,
          7.493222500917881,
          11.967805441970881,
          -2.3804693963562187,
          22.793726371897165,
          21.02488017472443,
          5.100788749940051,
          10.354969497625504,
          20.639431970471705,
          3.9386065571344773,
          11.676607013260835,
          5.211919723553095,
          -0.15932369419002157,
          4.8915758844167385,
          15.987597192266563,
          33.71030002689095,
          9.343785383733149,
          9.343785383733149,
          10.280873445131078,
          1.9378080296432216,
          12.989612223756524,
          1.9378080296432216,
          1.9378080296432216,
          8.141066996590567,
          12.989612223756524,
          1.9378080296432216,
          21.02488017472443,
          1.9378080296432216,
          2.604261363762703,
          -1.3042743628997897,
          15.102915305047631,
          -2.3626361868023196,
          11.259823154000472,
          1.9378080296432216,
          2.355730203216055,
          2.355730203216055,
          2.355730203216055,
          7.43856599421099,
          2.355730203216055,
          1.4322346270085404,
          1.4322346270085404,
          11.479631821853488,
          14.670259799140382,
          -3.032533844074962,
          15.474504478042292,
          6.011409882259372,
          -2.5689244211293243,
          15.474504478042292,
          19.541487368974458,
          -3.032533844074962,
          -3.032533844074962,
          20.112101233661377,
          23.628818972489086,
          7.43856599421099,
          13.773608430675267,
          6.910787783208647,
          6.910787783208647,
          -0.936168173025905,
          16.29998083478246,
          14.899760333545274,
          2.3074505603047726,
          -0.4148124364458994,
          20.509207279424217,
          2.8631739274884183,
          -0.6906298421833696,
          3.929731027634446,
          1.0712582403718613,
          29.225331400238517,
          7.688260496520826,
          -1.8316367244663496,
          20.85769782015919,
          6.011409882259372,
          -3.703105426978979,
          -5.772495647108428,
          1.3383183520274713,
          -14.662053157914542,
          7.173821369573744,
          -14.662053157914542,
          2.075783129466089,
          19.879356475991642,
          -2.553838512140274,
          -2.553838512140274,
          1.8270156253126544,
          -0.7077938251994595,
          21.174836962486808,
          26.461940826783945,
          1.216259159888935,
          20.313604197604377,
          2.156726038241871,
          4.086779378943717,
          -0.44295436252592424,
          -0.9255920661001227,
          5.910944461684025,
          11.989434591098302,
          5.15432008731274,
          -0.5171524784844053,
          -0.11933597926291384,
          -0.5435283789203567,
          -0.5435283789203567,
          6.4018812824140525,
          12.25432664381438,
          -0.6101452319831253,
          10.651025899588873,
          1.1656456291660646,
          4.665811690699655,
          17.95037629804402,
          23.457799019903106,
          17.23018765986579,
          9.063403888082092,
          2.453335071860323,
          -9.473146937465287,
          17.365884406544723,
          6.203758161092921,
          2.9764629060242953,
          -8.68494338350105,
          2.649463827010152,
          3.866233644738344,
          3.820252462613837,
          9.988105887618431,
          3.5842545711800113,
          26.09684470840635,
          7.238601329193514,
          1.5294963627377598,
          1.5294963627377598,
          1.5294963627377598,
          30.096049068540353,
          30.096049068540353,
          30.096049068540353,
          4.741292863057595,
          30.62418059264087,
          30.62418059264087,
          5.721405704819432,
          33.12330301628822,
          3.7746583037472448,
          9.632583916757156,
          9.632583916757156,
          9.632583916757156,
          3.375952846566264,
          8.053041035848338,
          12.85010568856633,
          9.83899705911756,
          -1.7074850690640773,
          51.74540603896564,
          3.063432271094811,
          2.668516965823855,
          1.8783772870224311,
          7.365664489763361,
          0.43051786646501,
          1.8783772870224311,
          -9.752311335930415,
          10.857736992928594,
          11.326565144124245,
          4.006987859124237,
          1.757056876502773,
          5.9929311560429,
          3.6356633387127033,
          9.460905144642993,
          11.66762203300165,
          11.350046689335883,
          -0.4411820412893519,
          6.184779514543294,
          6.184779514543294,
          -0.6024830997985902,
          -0.315963637234276,
          50.80590475750398,
          -0.36909270412894557,
          8.427470642034365,
          8.48463462685504,
          3.7189033708803976,
          4.133447941193296,
          3.6086400106717633,
          6.940334759116553,
          1.5238355254629,
          17.429094413206144,
          -0.46386941475435606,
          90.73639801543212,
          17.429094413206144,
          4.460063012830986,
          3.4106982804319443,
          16.81485563992628,
          3.112482019742444,
          7.409597822224654,
          -0.768232259921831,
          4.484606959131426,
          0.09817300301037335,
          0.09817300301037335,
          4.727327625206058,
          4.727327625206058,
          4.727327625206058,
          24.4582597015753,
          1.4648804519564464,
          2.3334798905099916,
          -0.9730570128694893,
          6.706849888722672,
          4.358131587062957,
          -6.7007175683389875,
          2.7043777492053778,
          1.2507421646634214,
          15.58409411131042,
          1.2507421646634214,
          5.886289116472639,
          11.848355126581197,
          9.022412360694489,
          16.864281373874718,
          2.584693683110899,
          6.399981064754797,
          11.493256378350978,
          21.398796295377835,
          11.822184838205402,
          2.750123131032069,
          24.31503423785827,
          10.506334389901454,
          2.023532764754819,
          31.806835450895505,
          0.5898915243843845,
          9.936325709503379,
          12.010323441374268,
          7.446127691463943,
          -5.8759740211171305,
          6.780879659377888,
          74.3229522840072,
          13.753597570891046,
          39.37141337619579,
          30.495268237679895,
          10.370719031444565,
          10.280139639922353,
          9.162489221731619,
          6.3230227702495085,
          14.869201162376413,
          5.714014722469258,
          19.95889727068409,
          -3.141232221010327,
          34.34031840206683,
          34.34031840206683,
          4.843902135259356,
          -1.0505031841247927,
          0.3294821245505659,
          0.3294821245505659,
          0.4270345289131541,
          0.3381794123891382,
          23.90000281540182,
          22.13752010980815
         ],
         "xaxis": "x2",
         "yaxis": "y2"
        }
       ],
       "layout": {
        "barmode": "relative",
        "height": 500,
        "legend": {
         "tracegroupgap": 0
        },
        "template": {
         "data": {
          "bar": [
           {
            "error_x": {
             "color": "#2a3f5f"
            },
            "error_y": {
             "color": "#2a3f5f"
            },
            "marker": {
             "line": {
              "color": "#E5ECF6",
              "width": 0.5
             },
             "pattern": {
              "fillmode": "overlay",
              "size": 10,
              "solidity": 0.2
             }
            },
            "type": "bar"
           }
          ],
          "barpolar": [
           {
            "marker": {
             "line": {
              "color": "#E5ECF6",
              "width": 0.5
             },
             "pattern": {
              "fillmode": "overlay",
              "size": 10,
              "solidity": 0.2
             }
            },
            "type": "barpolar"
           }
          ],
          "carpet": [
           {
            "aaxis": {
             "endlinecolor": "#2a3f5f",
             "gridcolor": "white",
             "linecolor": "white",
             "minorgridcolor": "white",
             "startlinecolor": "#2a3f5f"
            },
            "baxis": {
             "endlinecolor": "#2a3f5f",
             "gridcolor": "white",
             "linecolor": "white",
             "minorgridcolor": "white",
             "startlinecolor": "#2a3f5f"
            },
            "type": "carpet"
           }
          ],
          "choropleth": [
           {
            "colorbar": {
             "outlinewidth": 0,
             "ticks": ""
            },
            "type": "choropleth"
           }
          ],
          "contour": [
           {
            "colorbar": {
             "outlinewidth": 0,
             "ticks": ""
            },
            "colorscale": [
             [
              0,
              "#0d0887"
             ],
             [
              0.1111111111111111,
              "#46039f"
             ],
             [
              0.2222222222222222,
              "#7201a8"
             ],
             [
              0.3333333333333333,
              "#9c179e"
             ],
             [
              0.4444444444444444,
              "#bd3786"
             ],
             [
              0.5555555555555556,
              "#d8576b"
             ],
             [
              0.6666666666666666,
              "#ed7953"
             ],
             [
              0.7777777777777778,
              "#fb9f3a"
             ],
             [
              0.8888888888888888,
              "#fdca26"
             ],
             [
              1,
              "#f0f921"
             ]
            ],
            "type": "contour"
           }
          ],
          "contourcarpet": [
           {
            "colorbar": {
             "outlinewidth": 0,
             "ticks": ""
            },
            "type": "contourcarpet"
           }
          ],
          "heatmap": [
           {
            "colorbar": {
             "outlinewidth": 0,
             "ticks": ""
            },
            "colorscale": [
             [
              0,
              "#0d0887"
             ],
             [
              0.1111111111111111,
              "#46039f"
             ],
             [
              0.2222222222222222,
              "#7201a8"
             ],
             [
              0.3333333333333333,
              "#9c179e"
             ],
             [
              0.4444444444444444,
              "#bd3786"
             ],
             [
              0.5555555555555556,
              "#d8576b"
             ],
             [
              0.6666666666666666,
              "#ed7953"
             ],
             [
              0.7777777777777778,
              "#fb9f3a"
             ],
             [
              0.8888888888888888,
              "#fdca26"
             ],
             [
              1,
              "#f0f921"
             ]
            ],
            "type": "heatmap"
           }
          ],
          "heatmapgl": [
           {
            "colorbar": {
             "outlinewidth": 0,
             "ticks": ""
            },
            "colorscale": [
             [
              0,
              "#0d0887"
             ],
             [
              0.1111111111111111,
              "#46039f"
             ],
             [
              0.2222222222222222,
              "#7201a8"
             ],
             [
              0.3333333333333333,
              "#9c179e"
             ],
             [
              0.4444444444444444,
              "#bd3786"
             ],
             [
              0.5555555555555556,
              "#d8576b"
             ],
             [
              0.6666666666666666,
              "#ed7953"
             ],
             [
              0.7777777777777778,
              "#fb9f3a"
             ],
             [
              0.8888888888888888,
              "#fdca26"
             ],
             [
              1,
              "#f0f921"
             ]
            ],
            "type": "heatmapgl"
           }
          ],
          "histogram": [
           {
            "marker": {
             "pattern": {
              "fillmode": "overlay",
              "size": 10,
              "solidity": 0.2
             }
            },
            "type": "histogram"
           }
          ],
          "histogram2d": [
           {
            "colorbar": {
             "outlinewidth": 0,
             "ticks": ""
            },
            "colorscale": [
             [
              0,
              "#0d0887"
             ],
             [
              0.1111111111111111,
              "#46039f"
             ],
             [
              0.2222222222222222,
              "#7201a8"
             ],
             [
              0.3333333333333333,
              "#9c179e"
             ],
             [
              0.4444444444444444,
              "#bd3786"
             ],
             [
              0.5555555555555556,
              "#d8576b"
             ],
             [
              0.6666666666666666,
              "#ed7953"
             ],
             [
              0.7777777777777778,
              "#fb9f3a"
             ],
             [
              0.8888888888888888,
              "#fdca26"
             ],
             [
              1,
              "#f0f921"
             ]
            ],
            "type": "histogram2d"
           }
          ],
          "histogram2dcontour": [
           {
            "colorbar": {
             "outlinewidth": 0,
             "ticks": ""
            },
            "colorscale": [
             [
              0,
              "#0d0887"
             ],
             [
              0.1111111111111111,
              "#46039f"
             ],
             [
              0.2222222222222222,
              "#7201a8"
             ],
             [
              0.3333333333333333,
              "#9c179e"
             ],
             [
              0.4444444444444444,
              "#bd3786"
             ],
             [
              0.5555555555555556,
              "#d8576b"
             ],
             [
              0.6666666666666666,
              "#ed7953"
             ],
             [
              0.7777777777777778,
              "#fb9f3a"
             ],
             [
              0.8888888888888888,
              "#fdca26"
             ],
             [
              1,
              "#f0f921"
             ]
            ],
            "type": "histogram2dcontour"
           }
          ],
          "mesh3d": [
           {
            "colorbar": {
             "outlinewidth": 0,
             "ticks": ""
            },
            "type": "mesh3d"
           }
          ],
          "parcoords": [
           {
            "line": {
             "colorbar": {
              "outlinewidth": 0,
              "ticks": ""
             }
            },
            "type": "parcoords"
           }
          ],
          "pie": [
           {
            "automargin": true,
            "type": "pie"
           }
          ],
          "scatter": [
           {
            "fillpattern": {
             "fillmode": "overlay",
             "size": 10,
             "solidity": 0.2
            },
            "type": "scatter"
           }
          ],
          "scatter3d": [
           {
            "line": {
             "colorbar": {
              "outlinewidth": 0,
              "ticks": ""
             }
            },
            "marker": {
             "colorbar": {
              "outlinewidth": 0,
              "ticks": ""
             }
            },
            "type": "scatter3d"
           }
          ],
          "scattercarpet": [
           {
            "marker": {
             "colorbar": {
              "outlinewidth": 0,
              "ticks": ""
             }
            },
            "type": "scattercarpet"
           }
          ],
          "scattergeo": [
           {
            "marker": {
             "colorbar": {
              "outlinewidth": 0,
              "ticks": ""
             }
            },
            "type": "scattergeo"
           }
          ],
          "scattergl": [
           {
            "marker": {
             "colorbar": {
              "outlinewidth": 0,
              "ticks": ""
             }
            },
            "type": "scattergl"
           }
          ],
          "scattermapbox": [
           {
            "marker": {
             "colorbar": {
              "outlinewidth": 0,
              "ticks": ""
             }
            },
            "type": "scattermapbox"
           }
          ],
          "scatterpolar": [
           {
            "marker": {
             "colorbar": {
              "outlinewidth": 0,
              "ticks": ""
             }
            },
            "type": "scatterpolar"
           }
          ],
          "scatterpolargl": [
           {
            "marker": {
             "colorbar": {
              "outlinewidth": 0,
              "ticks": ""
             }
            },
            "type": "scatterpolargl"
           }
          ],
          "scatterternary": [
           {
            "marker": {
             "colorbar": {
              "outlinewidth": 0,
              "ticks": ""
             }
            },
            "type": "scatterternary"
           }
          ],
          "surface": [
           {
            "colorbar": {
             "outlinewidth": 0,
             "ticks": ""
            },
            "colorscale": [
             [
              0,
              "#0d0887"
             ],
             [
              0.1111111111111111,
              "#46039f"
             ],
             [
              0.2222222222222222,
              "#7201a8"
             ],
             [
              0.3333333333333333,
              "#9c179e"
             ],
             [
              0.4444444444444444,
              "#bd3786"
             ],
             [
              0.5555555555555556,
              "#d8576b"
             ],
             [
              0.6666666666666666,
              "#ed7953"
             ],
             [
              0.7777777777777778,
              "#fb9f3a"
             ],
             [
              0.8888888888888888,
              "#fdca26"
             ],
             [
              1,
              "#f0f921"
             ]
            ],
            "type": "surface"
           }
          ],
          "table": [
           {
            "cells": {
             "fill": {
              "color": "#EBF0F8"
             },
             "line": {
              "color": "white"
             }
            },
            "header": {
             "fill": {
              "color": "#C8D4E3"
             },
             "line": {
              "color": "white"
             }
            },
            "type": "table"
           }
          ]
         },
         "layout": {
          "annotationdefaults": {
           "arrowcolor": "#2a3f5f",
           "arrowhead": 0,
           "arrowwidth": 1
          },
          "autotypenumbers": "strict",
          "coloraxis": {
           "colorbar": {
            "outlinewidth": 0,
            "ticks": ""
           }
          },
          "colorscale": {
           "diverging": [
            [
             0,
             "#8e0152"
            ],
            [
             0.1,
             "#c51b7d"
            ],
            [
             0.2,
             "#de77ae"
            ],
            [
             0.3,
             "#f1b6da"
            ],
            [
             0.4,
             "#fde0ef"
            ],
            [
             0.5,
             "#f7f7f7"
            ],
            [
             0.6,
             "#e6f5d0"
            ],
            [
             0.7,
             "#b8e186"
            ],
            [
             0.8,
             "#7fbc41"
            ],
            [
             0.9,
             "#4d9221"
            ],
            [
             1,
             "#276419"
            ]
           ],
           "sequential": [
            [
             0,
             "#0d0887"
            ],
            [
             0.1111111111111111,
             "#46039f"
            ],
            [
             0.2222222222222222,
             "#7201a8"
            ],
            [
             0.3333333333333333,
             "#9c179e"
            ],
            [
             0.4444444444444444,
             "#bd3786"
            ],
            [
             0.5555555555555556,
             "#d8576b"
            ],
            [
             0.6666666666666666,
             "#ed7953"
            ],
            [
             0.7777777777777778,
             "#fb9f3a"
            ],
            [
             0.8888888888888888,
             "#fdca26"
            ],
            [
             1,
             "#f0f921"
            ]
           ],
           "sequentialminus": [
            [
             0,
             "#0d0887"
            ],
            [
             0.1111111111111111,
             "#46039f"
            ],
            [
             0.2222222222222222,
             "#7201a8"
            ],
            [
             0.3333333333333333,
             "#9c179e"
            ],
            [
             0.4444444444444444,
             "#bd3786"
            ],
            [
             0.5555555555555556,
             "#d8576b"
            ],
            [
             0.6666666666666666,
             "#ed7953"
            ],
            [
             0.7777777777777778,
             "#fb9f3a"
            ],
            [
             0.8888888888888888,
             "#fdca26"
            ],
            [
             1,
             "#f0f921"
            ]
           ]
          },
          "colorway": [
           "#636efa",
           "#EF553B",
           "#00cc96",
           "#ab63fa",
           "#FFA15A",
           "#19d3f3",
           "#FF6692",
           "#B6E880",
           "#FF97FF",
           "#FECB52"
          ],
          "font": {
           "color": "#2a3f5f"
          },
          "geo": {
           "bgcolor": "white",
           "lakecolor": "white",
           "landcolor": "#E5ECF6",
           "showlakes": true,
           "showland": true,
           "subunitcolor": "white"
          },
          "hoverlabel": {
           "align": "left"
          },
          "hovermode": "closest",
          "mapbox": {
           "style": "light"
          },
          "paper_bgcolor": "white",
          "plot_bgcolor": "#E5ECF6",
          "polar": {
           "angularaxis": {
            "gridcolor": "white",
            "linecolor": "white",
            "ticks": ""
           },
           "bgcolor": "#E5ECF6",
           "radialaxis": {
            "gridcolor": "white",
            "linecolor": "white",
            "ticks": ""
           }
          },
          "scene": {
           "xaxis": {
            "backgroundcolor": "#E5ECF6",
            "gridcolor": "white",
            "gridwidth": 2,
            "linecolor": "white",
            "showbackground": true,
            "ticks": "",
            "zerolinecolor": "white"
           },
           "yaxis": {
            "backgroundcolor": "#E5ECF6",
            "gridcolor": "white",
            "gridwidth": 2,
            "linecolor": "white",
            "showbackground": true,
            "ticks": "",
            "zerolinecolor": "white"
           },
           "zaxis": {
            "backgroundcolor": "#E5ECF6",
            "gridcolor": "white",
            "gridwidth": 2,
            "linecolor": "white",
            "showbackground": true,
            "ticks": "",
            "zerolinecolor": "white"
           }
          },
          "shapedefaults": {
           "line": {
            "color": "#2a3f5f"
           }
          },
          "ternary": {
           "aaxis": {
            "gridcolor": "white",
            "linecolor": "white",
            "ticks": ""
           },
           "baxis": {
            "gridcolor": "white",
            "linecolor": "white",
            "ticks": ""
           },
           "bgcolor": "#E5ECF6",
           "caxis": {
            "gridcolor": "white",
            "linecolor": "white",
            "ticks": ""
           }
          },
          "title": {
           "x": 0.05
          },
          "xaxis": {
           "automargin": true,
           "gridcolor": "white",
           "linecolor": "white",
           "ticks": "",
           "title": {
            "standoff": 15
           },
           "zerolinecolor": "white",
           "zerolinewidth": 2
          },
          "yaxis": {
           "automargin": true,
           "gridcolor": "white",
           "linecolor": "white",
           "ticks": "",
           "title": {
            "standoff": 15
           },
           "zerolinecolor": "white",
           "zerolinewidth": 2
          }
         }
        },
        "title": {
         "text": "alpha Distribution"
        },
        "width": 800,
        "xaxis": {
         "anchor": "y",
         "domain": [
          0,
          1
         ],
         "title": {
          "text": "alpha"
         }
        },
        "xaxis2": {
         "anchor": "y2",
         "domain": [
          0,
          1
         ],
         "matches": "x",
         "showgrid": true,
         "showticklabels": false
        },
        "yaxis": {
         "anchor": "x",
         "domain": [
          0,
          0.8316
         ],
         "title": {
          "text": "count"
         }
        },
        "yaxis2": {
         "anchor": "x2",
         "domain": [
          0.8416,
          1
         ],
         "matches": "y2",
         "showgrid": false,
         "showline": false,
         "showticklabels": false,
         "ticks": ""
        }
       }
      }
     },
     "metadata": {},
     "output_type": "display_data"
    }
   ],
   "source": [
    "fig = px.histogram(purchasesFilt, x=\"alpha\",\n",
    " height= graphDims['height'] , width= graphDims['width'], \n",
    " nbins=50, \n",
    " marginal=\"box\", \n",
    " title=\"alpha Distribution\")\n",
    "fig.show()"
   ]
  },
  {
   "cell_type": "code",
   "execution_count": 257,
   "metadata": {},
   "outputs": [
    {
     "data": {
      "application/vnd.plotly.v1+json": {
       "config": {
        "plotlyServerURL": "https://plot.ly"
       },
       "data": [
        {
         "alignmentgroup": "True",
         "hovertemplate": "variable=alpha<br>senator=%{x}<br>value=%{y}<extra></extra>",
         "legendgroup": "alpha",
         "marker": {
          "color": "#636efa",
          "pattern": {
           "shape": ""
          }
         },
         "name": "alpha",
         "offsetgroup": "alpha",
         "orientation": "v",
         "showlegend": true,
         "textposition": "auto",
         "type": "bar",
         "x": [
          "Pat Roberts",
          "Kelly Loeffler",
          "Ron L Wyden",
          "John W Hickenlooper",
          "Thomas R Carper",
          "Angus S King, Jr.",
          "James M Inhofe",
          "Thomas H Tuberville",
          "David A Perdue , Jr",
          "William F Hagerty, Iv"
         ],
         "xaxis": "x",
         "y": [
          17.903883609732524,
          17.57657290654117,
          16.870551250002,
          15.316401497940104,
          15.213463397405343,
          14.584433259095135,
          14.308611982011323,
          13.79982776866265,
          12.608095346483282,
          12.266551167559498
         ],
         "yaxis": "y"
        }
       ],
       "layout": {
        "barmode": "relative",
        "height": 500,
        "legend": {
         "title": {
          "text": "variable"
         },
         "tracegroupgap": 0
        },
        "template": {
         "data": {
          "bar": [
           {
            "error_x": {
             "color": "#2a3f5f"
            },
            "error_y": {
             "color": "#2a3f5f"
            },
            "marker": {
             "line": {
              "color": "#E5ECF6",
              "width": 0.5
             },
             "pattern": {
              "fillmode": "overlay",
              "size": 10,
              "solidity": 0.2
             }
            },
            "type": "bar"
           }
          ],
          "barpolar": [
           {
            "marker": {
             "line": {
              "color": "#E5ECF6",
              "width": 0.5
             },
             "pattern": {
              "fillmode": "overlay",
              "size": 10,
              "solidity": 0.2
             }
            },
            "type": "barpolar"
           }
          ],
          "carpet": [
           {
            "aaxis": {
             "endlinecolor": "#2a3f5f",
             "gridcolor": "white",
             "linecolor": "white",
             "minorgridcolor": "white",
             "startlinecolor": "#2a3f5f"
            },
            "baxis": {
             "endlinecolor": "#2a3f5f",
             "gridcolor": "white",
             "linecolor": "white",
             "minorgridcolor": "white",
             "startlinecolor": "#2a3f5f"
            },
            "type": "carpet"
           }
          ],
          "choropleth": [
           {
            "colorbar": {
             "outlinewidth": 0,
             "ticks": ""
            },
            "type": "choropleth"
           }
          ],
          "contour": [
           {
            "colorbar": {
             "outlinewidth": 0,
             "ticks": ""
            },
            "colorscale": [
             [
              0,
              "#0d0887"
             ],
             [
              0.1111111111111111,
              "#46039f"
             ],
             [
              0.2222222222222222,
              "#7201a8"
             ],
             [
              0.3333333333333333,
              "#9c179e"
             ],
             [
              0.4444444444444444,
              "#bd3786"
             ],
             [
              0.5555555555555556,
              "#d8576b"
             ],
             [
              0.6666666666666666,
              "#ed7953"
             ],
             [
              0.7777777777777778,
              "#fb9f3a"
             ],
             [
              0.8888888888888888,
              "#fdca26"
             ],
             [
              1,
              "#f0f921"
             ]
            ],
            "type": "contour"
           }
          ],
          "contourcarpet": [
           {
            "colorbar": {
             "outlinewidth": 0,
             "ticks": ""
            },
            "type": "contourcarpet"
           }
          ],
          "heatmap": [
           {
            "colorbar": {
             "outlinewidth": 0,
             "ticks": ""
            },
            "colorscale": [
             [
              0,
              "#0d0887"
             ],
             [
              0.1111111111111111,
              "#46039f"
             ],
             [
              0.2222222222222222,
              "#7201a8"
             ],
             [
              0.3333333333333333,
              "#9c179e"
             ],
             [
              0.4444444444444444,
              "#bd3786"
             ],
             [
              0.5555555555555556,
              "#d8576b"
             ],
             [
              0.6666666666666666,
              "#ed7953"
             ],
             [
              0.7777777777777778,
              "#fb9f3a"
             ],
             [
              0.8888888888888888,
              "#fdca26"
             ],
             [
              1,
              "#f0f921"
             ]
            ],
            "type": "heatmap"
           }
          ],
          "heatmapgl": [
           {
            "colorbar": {
             "outlinewidth": 0,
             "ticks": ""
            },
            "colorscale": [
             [
              0,
              "#0d0887"
             ],
             [
              0.1111111111111111,
              "#46039f"
             ],
             [
              0.2222222222222222,
              "#7201a8"
             ],
             [
              0.3333333333333333,
              "#9c179e"
             ],
             [
              0.4444444444444444,
              "#bd3786"
             ],
             [
              0.5555555555555556,
              "#d8576b"
             ],
             [
              0.6666666666666666,
              "#ed7953"
             ],
             [
              0.7777777777777778,
              "#fb9f3a"
             ],
             [
              0.8888888888888888,
              "#fdca26"
             ],
             [
              1,
              "#f0f921"
             ]
            ],
            "type": "heatmapgl"
           }
          ],
          "histogram": [
           {
            "marker": {
             "pattern": {
              "fillmode": "overlay",
              "size": 10,
              "solidity": 0.2
             }
            },
            "type": "histogram"
           }
          ],
          "histogram2d": [
           {
            "colorbar": {
             "outlinewidth": 0,
             "ticks": ""
            },
            "colorscale": [
             [
              0,
              "#0d0887"
             ],
             [
              0.1111111111111111,
              "#46039f"
             ],
             [
              0.2222222222222222,
              "#7201a8"
             ],
             [
              0.3333333333333333,
              "#9c179e"
             ],
             [
              0.4444444444444444,
              "#bd3786"
             ],
             [
              0.5555555555555556,
              "#d8576b"
             ],
             [
              0.6666666666666666,
              "#ed7953"
             ],
             [
              0.7777777777777778,
              "#fb9f3a"
             ],
             [
              0.8888888888888888,
              "#fdca26"
             ],
             [
              1,
              "#f0f921"
             ]
            ],
            "type": "histogram2d"
           }
          ],
          "histogram2dcontour": [
           {
            "colorbar": {
             "outlinewidth": 0,
             "ticks": ""
            },
            "colorscale": [
             [
              0,
              "#0d0887"
             ],
             [
              0.1111111111111111,
              "#46039f"
             ],
             [
              0.2222222222222222,
              "#7201a8"
             ],
             [
              0.3333333333333333,
              "#9c179e"
             ],
             [
              0.4444444444444444,
              "#bd3786"
             ],
             [
              0.5555555555555556,
              "#d8576b"
             ],
             [
              0.6666666666666666,
              "#ed7953"
             ],
             [
              0.7777777777777778,
              "#fb9f3a"
             ],
             [
              0.8888888888888888,
              "#fdca26"
             ],
             [
              1,
              "#f0f921"
             ]
            ],
            "type": "histogram2dcontour"
           }
          ],
          "mesh3d": [
           {
            "colorbar": {
             "outlinewidth": 0,
             "ticks": ""
            },
            "type": "mesh3d"
           }
          ],
          "parcoords": [
           {
            "line": {
             "colorbar": {
              "outlinewidth": 0,
              "ticks": ""
             }
            },
            "type": "parcoords"
           }
          ],
          "pie": [
           {
            "automargin": true,
            "type": "pie"
           }
          ],
          "scatter": [
           {
            "fillpattern": {
             "fillmode": "overlay",
             "size": 10,
             "solidity": 0.2
            },
            "type": "scatter"
           }
          ],
          "scatter3d": [
           {
            "line": {
             "colorbar": {
              "outlinewidth": 0,
              "ticks": ""
             }
            },
            "marker": {
             "colorbar": {
              "outlinewidth": 0,
              "ticks": ""
             }
            },
            "type": "scatter3d"
           }
          ],
          "scattercarpet": [
           {
            "marker": {
             "colorbar": {
              "outlinewidth": 0,
              "ticks": ""
             }
            },
            "type": "scattercarpet"
           }
          ],
          "scattergeo": [
           {
            "marker": {
             "colorbar": {
              "outlinewidth": 0,
              "ticks": ""
             }
            },
            "type": "scattergeo"
           }
          ],
          "scattergl": [
           {
            "marker": {
             "colorbar": {
              "outlinewidth": 0,
              "ticks": ""
             }
            },
            "type": "scattergl"
           }
          ],
          "scattermapbox": [
           {
            "marker": {
             "colorbar": {
              "outlinewidth": 0,
              "ticks": ""
             }
            },
            "type": "scattermapbox"
           }
          ],
          "scatterpolar": [
           {
            "marker": {
             "colorbar": {
              "outlinewidth": 0,
              "ticks": ""
             }
            },
            "type": "scatterpolar"
           }
          ],
          "scatterpolargl": [
           {
            "marker": {
             "colorbar": {
              "outlinewidth": 0,
              "ticks": ""
             }
            },
            "type": "scatterpolargl"
           }
          ],
          "scatterternary": [
           {
            "marker": {
             "colorbar": {
              "outlinewidth": 0,
              "ticks": ""
             }
            },
            "type": "scatterternary"
           }
          ],
          "surface": [
           {
            "colorbar": {
             "outlinewidth": 0,
             "ticks": ""
            },
            "colorscale": [
             [
              0,
              "#0d0887"
             ],
             [
              0.1111111111111111,
              "#46039f"
             ],
             [
              0.2222222222222222,
              "#7201a8"
             ],
             [
              0.3333333333333333,
              "#9c179e"
             ],
             [
              0.4444444444444444,
              "#bd3786"
             ],
             [
              0.5555555555555556,
              "#d8576b"
             ],
             [
              0.6666666666666666,
              "#ed7953"
             ],
             [
              0.7777777777777778,
              "#fb9f3a"
             ],
             [
              0.8888888888888888,
              "#fdca26"
             ],
             [
              1,
              "#f0f921"
             ]
            ],
            "type": "surface"
           }
          ],
          "table": [
           {
            "cells": {
             "fill": {
              "color": "#EBF0F8"
             },
             "line": {
              "color": "white"
             }
            },
            "header": {
             "fill": {
              "color": "#C8D4E3"
             },
             "line": {
              "color": "white"
             }
            },
            "type": "table"
           }
          ]
         },
         "layout": {
          "annotationdefaults": {
           "arrowcolor": "#2a3f5f",
           "arrowhead": 0,
           "arrowwidth": 1
          },
          "autotypenumbers": "strict",
          "coloraxis": {
           "colorbar": {
            "outlinewidth": 0,
            "ticks": ""
           }
          },
          "colorscale": {
           "diverging": [
            [
             0,
             "#8e0152"
            ],
            [
             0.1,
             "#c51b7d"
            ],
            [
             0.2,
             "#de77ae"
            ],
            [
             0.3,
             "#f1b6da"
            ],
            [
             0.4,
             "#fde0ef"
            ],
            [
             0.5,
             "#f7f7f7"
            ],
            [
             0.6,
             "#e6f5d0"
            ],
            [
             0.7,
             "#b8e186"
            ],
            [
             0.8,
             "#7fbc41"
            ],
            [
             0.9,
             "#4d9221"
            ],
            [
             1,
             "#276419"
            ]
           ],
           "sequential": [
            [
             0,
             "#0d0887"
            ],
            [
             0.1111111111111111,
             "#46039f"
            ],
            [
             0.2222222222222222,
             "#7201a8"
            ],
            [
             0.3333333333333333,
             "#9c179e"
            ],
            [
             0.4444444444444444,
             "#bd3786"
            ],
            [
             0.5555555555555556,
             "#d8576b"
            ],
            [
             0.6666666666666666,
             "#ed7953"
            ],
            [
             0.7777777777777778,
             "#fb9f3a"
            ],
            [
             0.8888888888888888,
             "#fdca26"
            ],
            [
             1,
             "#f0f921"
            ]
           ],
           "sequentialminus": [
            [
             0,
             "#0d0887"
            ],
            [
             0.1111111111111111,
             "#46039f"
            ],
            [
             0.2222222222222222,
             "#7201a8"
            ],
            [
             0.3333333333333333,
             "#9c179e"
            ],
            [
             0.4444444444444444,
             "#bd3786"
            ],
            [
             0.5555555555555556,
             "#d8576b"
            ],
            [
             0.6666666666666666,
             "#ed7953"
            ],
            [
             0.7777777777777778,
             "#fb9f3a"
            ],
            [
             0.8888888888888888,
             "#fdca26"
            ],
            [
             1,
             "#f0f921"
            ]
           ]
          },
          "colorway": [
           "#636efa",
           "#EF553B",
           "#00cc96",
           "#ab63fa",
           "#FFA15A",
           "#19d3f3",
           "#FF6692",
           "#B6E880",
           "#FF97FF",
           "#FECB52"
          ],
          "font": {
           "color": "#2a3f5f"
          },
          "geo": {
           "bgcolor": "white",
           "lakecolor": "white",
           "landcolor": "#E5ECF6",
           "showlakes": true,
           "showland": true,
           "subunitcolor": "white"
          },
          "hoverlabel": {
           "align": "left"
          },
          "hovermode": "closest",
          "mapbox": {
           "style": "light"
          },
          "paper_bgcolor": "white",
          "plot_bgcolor": "#E5ECF6",
          "polar": {
           "angularaxis": {
            "gridcolor": "white",
            "linecolor": "white",
            "ticks": ""
           },
           "bgcolor": "#E5ECF6",
           "radialaxis": {
            "gridcolor": "white",
            "linecolor": "white",
            "ticks": ""
           }
          },
          "scene": {
           "xaxis": {
            "backgroundcolor": "#E5ECF6",
            "gridcolor": "white",
            "gridwidth": 2,
            "linecolor": "white",
            "showbackground": true,
            "ticks": "",
            "zerolinecolor": "white"
           },
           "yaxis": {
            "backgroundcolor": "#E5ECF6",
            "gridcolor": "white",
            "gridwidth": 2,
            "linecolor": "white",
            "showbackground": true,
            "ticks": "",
            "zerolinecolor": "white"
           },
           "zaxis": {
            "backgroundcolor": "#E5ECF6",
            "gridcolor": "white",
            "gridwidth": 2,
            "linecolor": "white",
            "showbackground": true,
            "ticks": "",
            "zerolinecolor": "white"
           }
          },
          "shapedefaults": {
           "line": {
            "color": "#2a3f5f"
           }
          },
          "ternary": {
           "aaxis": {
            "gridcolor": "white",
            "linecolor": "white",
            "ticks": ""
           },
           "baxis": {
            "gridcolor": "white",
            "linecolor": "white",
            "ticks": ""
           },
           "bgcolor": "#E5ECF6",
           "caxis": {
            "gridcolor": "white",
            "linecolor": "white",
            "ticks": ""
           }
          },
          "title": {
           "x": 0.05
          },
          "xaxis": {
           "automargin": true,
           "gridcolor": "white",
           "linecolor": "white",
           "ticks": "",
           "title": {
            "standoff": 15
           },
           "zerolinecolor": "white",
           "zerolinewidth": 2
          },
          "yaxis": {
           "automargin": true,
           "gridcolor": "white",
           "linecolor": "white",
           "ticks": "",
           "title": {
            "standoff": 15
           },
           "zerolinecolor": "white",
           "zerolinewidth": 2
          }
         }
        },
        "title": {
         "text": "Top Performing Senators"
        },
        "width": 800,
        "xaxis": {
         "anchor": "y",
         "domain": [
          0,
          1
         ],
         "title": {
          "text": "senator"
         }
        },
        "yaxis": {
         "anchor": "x",
         "domain": [
          0,
          1
         ],
         "title": {
          "text": "Mean Alpha"
         }
        }
       }
      }
     },
     "metadata": {},
     "output_type": "display_data"
    }
   ],
   "source": [
    "# alphaSer = purchasesFilt.groupby('senatorId')['alpha'].mean()\n",
    "alphaSer = purchasesFilt.groupby('senator')['alpha'].mean()\n",
    "alphaSer =alphaSer.sort_values(ascending=False).head(10)\n",
    "fig = px.bar(alphaSer,\n",
    " height= graphDims['height'] , width= graphDims['width'], \n",
    " title=\"Top Performing Senators\", \n",
    " )\n",
    "\n",
    "\n",
    "fig.update_layout(yaxis_title=\"Mean Alpha\")\n",
    "fig.show()"
   ]
  },
  {
   "cell_type": "code",
   "execution_count": 285,
   "metadata": {},
   "outputs": [
    {
     "data": {
      "text/plain": [
       "Index(['$1,000,001 - $5,000,000', '$1,001 - $15,000', '$100,001 - $250,000',\n",
       "       '$15,001 - $50,000', '$25,000,001 - $50,000,000', '$250,001 - $500,000',\n",
       "       '$5,000,001 - $25,000,000', '$50,001 - $100,000'],\n",
       "      dtype='object', name='amount')"
      ]
     },
     "execution_count": 285,
     "metadata": {},
     "output_type": "execute_result"
    }
   ],
   "source": [
    "amountSer = purchasesFilt.groupby('amount')['alpha'].mean()\n",
    "amountSer.index"
   ]
  },
  {
   "cell_type": "code",
   "execution_count": 286,
   "metadata": {},
   "outputs": [
    {
     "data": {
      "text/plain": [
       "{'$25,000,001 - $50,000,000': 0.5898915243843845,\n",
       " '$5,000,001 - $25,000,000': 12.67463492213362,\n",
       " '$1,000,001 - $5,000,000': 4.333993913729238,\n",
       " '$250,001 - $500,000': 8.298416380483207,\n",
       " '$100,001 - $250,000': 20.49967038477412,\n",
       " '$50,001 - $100,000': 13.982868038749034,\n",
       " '$15,001 - $50,000': 13.981950997716048,\n",
       " '$1,001 - $15,000': 11.482797420747808}"
      ]
     },
     "execution_count": 286,
     "metadata": {},
     "output_type": "execute_result"
    }
   ],
   "source": [
    "amountDict = dict(amountSer)\n",
    "\n",
    "orderedKeys = ['$25,000,001 - $50,000,000', \n",
    "    '$5,000,001 - $25,000,000',\n",
    "'$1,000,001 - $5,000,000', \n",
    "'$250,001 - $500,000',\n",
    "'$100,001 - $250,000',\n",
    "'$50,001 - $100,000',\n",
    "'$15,001 - $50,000',\n",
    "'$1,001 - $15,000'\n",
    "]\n",
    "\n",
    "valuesOrdered =  [amountDict[key] for key in orderedKeys]\n",
    "amountDict_ordered = dict(zip(orderedKeys, valuesOrdered))\n",
    "amountDict_ordered"
   ]
  },
  {
   "cell_type": "code",
   "execution_count": 309,
   "metadata": {},
   "outputs": [
    {
     "data": {
      "application/vnd.plotly.v1+json": {
       "config": {
        "plotlyServerURL": "https://plot.ly"
       },
       "data": [
        {
         "alignmentgroup": "True",
         "hovertemplate": "variable=mean alpha<br>index=%{x}<br>value=%{y}<extra></extra>",
         "legendgroup": "mean alpha",
         "marker": {
          "color": "#636efa",
          "pattern": {
           "shape": ""
          }
         },
         "name": "mean alpha",
         "offsetgroup": "mean alpha",
         "orientation": "v",
         "showlegend": true,
         "textposition": "auto",
         "type": "bar",
         "x": [
          "$25,000,001 - $50,000,000",
          "$5,000,001 - $25,000,000",
          "$1,000,001 - $5,000,000",
          "$250,001 - $500,000",
          "$100,001 - $250,000",
          "$50,001 - $100,000",
          "$15,001 - $50,000",
          "$1,001 - $15,000"
         ],
         "xaxis": "x",
         "y": [
          0.5898915243843845,
          12.67463492213362,
          4.333993913729238,
          8.298416380483207,
          20.49967038477412,
          13.982868038749034,
          13.981950997716048,
          11.482797420747808
         ],
         "yaxis": "y"
        }
       ],
       "layout": {
        "barmode": "relative",
        "legend": {
         "title": {
          "text": "variable"
         },
         "tracegroupgap": 0
        },
        "margin": {
         "t": 60
        },
        "template": {
         "data": {
          "bar": [
           {
            "error_x": {
             "color": "#2a3f5f"
            },
            "error_y": {
             "color": "#2a3f5f"
            },
            "marker": {
             "line": {
              "color": "#E5ECF6",
              "width": 0.5
             },
             "pattern": {
              "fillmode": "overlay",
              "size": 10,
              "solidity": 0.2
             }
            },
            "type": "bar"
           }
          ],
          "barpolar": [
           {
            "marker": {
             "line": {
              "color": "#E5ECF6",
              "width": 0.5
             },
             "pattern": {
              "fillmode": "overlay",
              "size": 10,
              "solidity": 0.2
             }
            },
            "type": "barpolar"
           }
          ],
          "carpet": [
           {
            "aaxis": {
             "endlinecolor": "#2a3f5f",
             "gridcolor": "white",
             "linecolor": "white",
             "minorgridcolor": "white",
             "startlinecolor": "#2a3f5f"
            },
            "baxis": {
             "endlinecolor": "#2a3f5f",
             "gridcolor": "white",
             "linecolor": "white",
             "minorgridcolor": "white",
             "startlinecolor": "#2a3f5f"
            },
            "type": "carpet"
           }
          ],
          "choropleth": [
           {
            "colorbar": {
             "outlinewidth": 0,
             "ticks": ""
            },
            "type": "choropleth"
           }
          ],
          "contour": [
           {
            "colorbar": {
             "outlinewidth": 0,
             "ticks": ""
            },
            "colorscale": [
             [
              0,
              "#0d0887"
             ],
             [
              0.1111111111111111,
              "#46039f"
             ],
             [
              0.2222222222222222,
              "#7201a8"
             ],
             [
              0.3333333333333333,
              "#9c179e"
             ],
             [
              0.4444444444444444,
              "#bd3786"
             ],
             [
              0.5555555555555556,
              "#d8576b"
             ],
             [
              0.6666666666666666,
              "#ed7953"
             ],
             [
              0.7777777777777778,
              "#fb9f3a"
             ],
             [
              0.8888888888888888,
              "#fdca26"
             ],
             [
              1,
              "#f0f921"
             ]
            ],
            "type": "contour"
           }
          ],
          "contourcarpet": [
           {
            "colorbar": {
             "outlinewidth": 0,
             "ticks": ""
            },
            "type": "contourcarpet"
           }
          ],
          "heatmap": [
           {
            "colorbar": {
             "outlinewidth": 0,
             "ticks": ""
            },
            "colorscale": [
             [
              0,
              "#0d0887"
             ],
             [
              0.1111111111111111,
              "#46039f"
             ],
             [
              0.2222222222222222,
              "#7201a8"
             ],
             [
              0.3333333333333333,
              "#9c179e"
             ],
             [
              0.4444444444444444,
              "#bd3786"
             ],
             [
              0.5555555555555556,
              "#d8576b"
             ],
             [
              0.6666666666666666,
              "#ed7953"
             ],
             [
              0.7777777777777778,
              "#fb9f3a"
             ],
             [
              0.8888888888888888,
              "#fdca26"
             ],
             [
              1,
              "#f0f921"
             ]
            ],
            "type": "heatmap"
           }
          ],
          "heatmapgl": [
           {
            "colorbar": {
             "outlinewidth": 0,
             "ticks": ""
            },
            "colorscale": [
             [
              0,
              "#0d0887"
             ],
             [
              0.1111111111111111,
              "#46039f"
             ],
             [
              0.2222222222222222,
              "#7201a8"
             ],
             [
              0.3333333333333333,
              "#9c179e"
             ],
             [
              0.4444444444444444,
              "#bd3786"
             ],
             [
              0.5555555555555556,
              "#d8576b"
             ],
             [
              0.6666666666666666,
              "#ed7953"
             ],
             [
              0.7777777777777778,
              "#fb9f3a"
             ],
             [
              0.8888888888888888,
              "#fdca26"
             ],
             [
              1,
              "#f0f921"
             ]
            ],
            "type": "heatmapgl"
           }
          ],
          "histogram": [
           {
            "marker": {
             "pattern": {
              "fillmode": "overlay",
              "size": 10,
              "solidity": 0.2
             }
            },
            "type": "histogram"
           }
          ],
          "histogram2d": [
           {
            "colorbar": {
             "outlinewidth": 0,
             "ticks": ""
            },
            "colorscale": [
             [
              0,
              "#0d0887"
             ],
             [
              0.1111111111111111,
              "#46039f"
             ],
             [
              0.2222222222222222,
              "#7201a8"
             ],
             [
              0.3333333333333333,
              "#9c179e"
             ],
             [
              0.4444444444444444,
              "#bd3786"
             ],
             [
              0.5555555555555556,
              "#d8576b"
             ],
             [
              0.6666666666666666,
              "#ed7953"
             ],
             [
              0.7777777777777778,
              "#fb9f3a"
             ],
             [
              0.8888888888888888,
              "#fdca26"
             ],
             [
              1,
              "#f0f921"
             ]
            ],
            "type": "histogram2d"
           }
          ],
          "histogram2dcontour": [
           {
            "colorbar": {
             "outlinewidth": 0,
             "ticks": ""
            },
            "colorscale": [
             [
              0,
              "#0d0887"
             ],
             [
              0.1111111111111111,
              "#46039f"
             ],
             [
              0.2222222222222222,
              "#7201a8"
             ],
             [
              0.3333333333333333,
              "#9c179e"
             ],
             [
              0.4444444444444444,
              "#bd3786"
             ],
             [
              0.5555555555555556,
              "#d8576b"
             ],
             [
              0.6666666666666666,
              "#ed7953"
             ],
             [
              0.7777777777777778,
              "#fb9f3a"
             ],
             [
              0.8888888888888888,
              "#fdca26"
             ],
             [
              1,
              "#f0f921"
             ]
            ],
            "type": "histogram2dcontour"
           }
          ],
          "mesh3d": [
           {
            "colorbar": {
             "outlinewidth": 0,
             "ticks": ""
            },
            "type": "mesh3d"
           }
          ],
          "parcoords": [
           {
            "line": {
             "colorbar": {
              "outlinewidth": 0,
              "ticks": ""
             }
            },
            "type": "parcoords"
           }
          ],
          "pie": [
           {
            "automargin": true,
            "type": "pie"
           }
          ],
          "scatter": [
           {
            "fillpattern": {
             "fillmode": "overlay",
             "size": 10,
             "solidity": 0.2
            },
            "type": "scatter"
           }
          ],
          "scatter3d": [
           {
            "line": {
             "colorbar": {
              "outlinewidth": 0,
              "ticks": ""
             }
            },
            "marker": {
             "colorbar": {
              "outlinewidth": 0,
              "ticks": ""
             }
            },
            "type": "scatter3d"
           }
          ],
          "scattercarpet": [
           {
            "marker": {
             "colorbar": {
              "outlinewidth": 0,
              "ticks": ""
             }
            },
            "type": "scattercarpet"
           }
          ],
          "scattergeo": [
           {
            "marker": {
             "colorbar": {
              "outlinewidth": 0,
              "ticks": ""
             }
            },
            "type": "scattergeo"
           }
          ],
          "scattergl": [
           {
            "marker": {
             "colorbar": {
              "outlinewidth": 0,
              "ticks": ""
             }
            },
            "type": "scattergl"
           }
          ],
          "scattermapbox": [
           {
            "marker": {
             "colorbar": {
              "outlinewidth": 0,
              "ticks": ""
             }
            },
            "type": "scattermapbox"
           }
          ],
          "scatterpolar": [
           {
            "marker": {
             "colorbar": {
              "outlinewidth": 0,
              "ticks": ""
             }
            },
            "type": "scatterpolar"
           }
          ],
          "scatterpolargl": [
           {
            "marker": {
             "colorbar": {
              "outlinewidth": 0,
              "ticks": ""
             }
            },
            "type": "scatterpolargl"
           }
          ],
          "scatterternary": [
           {
            "marker": {
             "colorbar": {
              "outlinewidth": 0,
              "ticks": ""
             }
            },
            "type": "scatterternary"
           }
          ],
          "surface": [
           {
            "colorbar": {
             "outlinewidth": 0,
             "ticks": ""
            },
            "colorscale": [
             [
              0,
              "#0d0887"
             ],
             [
              0.1111111111111111,
              "#46039f"
             ],
             [
              0.2222222222222222,
              "#7201a8"
             ],
             [
              0.3333333333333333,
              "#9c179e"
             ],
             [
              0.4444444444444444,
              "#bd3786"
             ],
             [
              0.5555555555555556,
              "#d8576b"
             ],
             [
              0.6666666666666666,
              "#ed7953"
             ],
             [
              0.7777777777777778,
              "#fb9f3a"
             ],
             [
              0.8888888888888888,
              "#fdca26"
             ],
             [
              1,
              "#f0f921"
             ]
            ],
            "type": "surface"
           }
          ],
          "table": [
           {
            "cells": {
             "fill": {
              "color": "#EBF0F8"
             },
             "line": {
              "color": "white"
             }
            },
            "header": {
             "fill": {
              "color": "#C8D4E3"
             },
             "line": {
              "color": "white"
             }
            },
            "type": "table"
           }
          ]
         },
         "layout": {
          "annotationdefaults": {
           "arrowcolor": "#2a3f5f",
           "arrowhead": 0,
           "arrowwidth": 1
          },
          "autotypenumbers": "strict",
          "coloraxis": {
           "colorbar": {
            "outlinewidth": 0,
            "ticks": ""
           }
          },
          "colorscale": {
           "diverging": [
            [
             0,
             "#8e0152"
            ],
            [
             0.1,
             "#c51b7d"
            ],
            [
             0.2,
             "#de77ae"
            ],
            [
             0.3,
             "#f1b6da"
            ],
            [
             0.4,
             "#fde0ef"
            ],
            [
             0.5,
             "#f7f7f7"
            ],
            [
             0.6,
             "#e6f5d0"
            ],
            [
             0.7,
             "#b8e186"
            ],
            [
             0.8,
             "#7fbc41"
            ],
            [
             0.9,
             "#4d9221"
            ],
            [
             1,
             "#276419"
            ]
           ],
           "sequential": [
            [
             0,
             "#0d0887"
            ],
            [
             0.1111111111111111,
             "#46039f"
            ],
            [
             0.2222222222222222,
             "#7201a8"
            ],
            [
             0.3333333333333333,
             "#9c179e"
            ],
            [
             0.4444444444444444,
             "#bd3786"
            ],
            [
             0.5555555555555556,
             "#d8576b"
            ],
            [
             0.6666666666666666,
             "#ed7953"
            ],
            [
             0.7777777777777778,
             "#fb9f3a"
            ],
            [
             0.8888888888888888,
             "#fdca26"
            ],
            [
             1,
             "#f0f921"
            ]
           ],
           "sequentialminus": [
            [
             0,
             "#0d0887"
            ],
            [
             0.1111111111111111,
             "#46039f"
            ],
            [
             0.2222222222222222,
             "#7201a8"
            ],
            [
             0.3333333333333333,
             "#9c179e"
            ],
            [
             0.4444444444444444,
             "#bd3786"
            ],
            [
             0.5555555555555556,
             "#d8576b"
            ],
            [
             0.6666666666666666,
             "#ed7953"
            ],
            [
             0.7777777777777778,
             "#fb9f3a"
            ],
            [
             0.8888888888888888,
             "#fdca26"
            ],
            [
             1,
             "#f0f921"
            ]
           ]
          },
          "colorway": [
           "#636efa",
           "#EF553B",
           "#00cc96",
           "#ab63fa",
           "#FFA15A",
           "#19d3f3",
           "#FF6692",
           "#B6E880",
           "#FF97FF",
           "#FECB52"
          ],
          "font": {
           "color": "#2a3f5f"
          },
          "geo": {
           "bgcolor": "white",
           "lakecolor": "white",
           "landcolor": "#E5ECF6",
           "showlakes": true,
           "showland": true,
           "subunitcolor": "white"
          },
          "hoverlabel": {
           "align": "left"
          },
          "hovermode": "closest",
          "mapbox": {
           "style": "light"
          },
          "paper_bgcolor": "white",
          "plot_bgcolor": "#E5ECF6",
          "polar": {
           "angularaxis": {
            "gridcolor": "white",
            "linecolor": "white",
            "ticks": ""
           },
           "bgcolor": "#E5ECF6",
           "radialaxis": {
            "gridcolor": "white",
            "linecolor": "white",
            "ticks": ""
           }
          },
          "scene": {
           "xaxis": {
            "backgroundcolor": "#E5ECF6",
            "gridcolor": "white",
            "gridwidth": 2,
            "linecolor": "white",
            "showbackground": true,
            "ticks": "",
            "zerolinecolor": "white"
           },
           "yaxis": {
            "backgroundcolor": "#E5ECF6",
            "gridcolor": "white",
            "gridwidth": 2,
            "linecolor": "white",
            "showbackground": true,
            "ticks": "",
            "zerolinecolor": "white"
           },
           "zaxis": {
            "backgroundcolor": "#E5ECF6",
            "gridcolor": "white",
            "gridwidth": 2,
            "linecolor": "white",
            "showbackground": true,
            "ticks": "",
            "zerolinecolor": "white"
           }
          },
          "shapedefaults": {
           "line": {
            "color": "#2a3f5f"
           }
          },
          "ternary": {
           "aaxis": {
            "gridcolor": "white",
            "linecolor": "white",
            "ticks": ""
           },
           "baxis": {
            "gridcolor": "white",
            "linecolor": "white",
            "ticks": ""
           },
           "bgcolor": "#E5ECF6",
           "caxis": {
            "gridcolor": "white",
            "linecolor": "white",
            "ticks": ""
           }
          },
          "title": {
           "x": 0.05
          },
          "xaxis": {
           "automargin": true,
           "gridcolor": "white",
           "linecolor": "white",
           "ticks": "",
           "title": {
            "standoff": 15
           },
           "zerolinecolor": "white",
           "zerolinewidth": 2
          },
          "yaxis": {
           "automargin": true,
           "gridcolor": "white",
           "linecolor": "white",
           "ticks": "",
           "title": {
            "standoff": 15
           },
           "zerolinecolor": "white",
           "zerolinewidth": 2
          }
         }
        },
        "title": {
         "text": "Mean Alpha by Purchase Amount"
        },
        "xaxis": {
         "anchor": "y",
         "domain": [
          0,
          1
         ],
         "title": {
          "text": "purchase value"
         }
        },
        "yaxis": {
         "anchor": "x",
         "domain": [
          0,
          1
         ],
         "title": {
          "text": "mean alpha"
         }
        }
       }
      }
     },
     "metadata": {},
     "output_type": "display_data"
    }
   ],
   "source": [
    "amountSer_ordered = pd.Series(amountDict_ordered)\n",
    "amountFrame_ordered = pd.DataFrame(amountSer_ordered)\n",
    "amountFrame_ordered.columns =[\"mean alpha\"]\n",
    "\n",
    "fig = px.bar(amountFrame_ordered)\n",
    "\n",
    "fig.update_layout(xaxis_title=\"purchase value\", yaxis_title=\"mean alpha\", title=\"Mean Alpha by Purchase Amount\")\n",
    "\n",
    "fig.show()\n",
    "\n"
   ]
  },
  {
   "cell_type": "code",
   "execution_count": 312,
   "metadata": {},
   "outputs": [
    {
     "data": {
      "application/vnd.plotly.v1+json": {
       "config": {
        "plotlyServerURL": "https://plot.ly"
       },
       "data": [
        {
         "alignmentgroup": "True",
         "hovertemplate": "variable=count<br>index=%{x}<br>value=%{y}<extra></extra>",
         "legendgroup": "count",
         "marker": {
          "color": "#636efa",
          "pattern": {
           "shape": ""
          }
         },
         "name": "count",
         "offsetgroup": "count",
         "orientation": "v",
         "showlegend": true,
         "textposition": "auto",
         "type": "bar",
         "x": [
          "$25,000,001 - $50,000,000",
          "$5,000,001 - $25,000,000",
          "$1,000,001 - $5,000,000",
          "$250,001 - $500,000",
          "$100,001 - $250,000",
          "$50,001 - $100,000",
          "$15,001 - $50,000",
          "$1,001 - $15,000"
         ],
         "xaxis": "x",
         "y": [
          1,
          1,
          2,
          7,
          72,
          198,
          435,
          2116
         ],
         "yaxis": "y"
        }
       ],
       "layout": {
        "barmode": "relative",
        "legend": {
         "title": {
          "text": "variable"
         },
         "tracegroupgap": 0
        },
        "margin": {
         "t": 60
        },
        "template": {
         "data": {
          "bar": [
           {
            "error_x": {
             "color": "#2a3f5f"
            },
            "error_y": {
             "color": "#2a3f5f"
            },
            "marker": {
             "line": {
              "color": "#E5ECF6",
              "width": 0.5
             },
             "pattern": {
              "fillmode": "overlay",
              "size": 10,
              "solidity": 0.2
             }
            },
            "type": "bar"
           }
          ],
          "barpolar": [
           {
            "marker": {
             "line": {
              "color": "#E5ECF6",
              "width": 0.5
             },
             "pattern": {
              "fillmode": "overlay",
              "size": 10,
              "solidity": 0.2
             }
            },
            "type": "barpolar"
           }
          ],
          "carpet": [
           {
            "aaxis": {
             "endlinecolor": "#2a3f5f",
             "gridcolor": "white",
             "linecolor": "white",
             "minorgridcolor": "white",
             "startlinecolor": "#2a3f5f"
            },
            "baxis": {
             "endlinecolor": "#2a3f5f",
             "gridcolor": "white",
             "linecolor": "white",
             "minorgridcolor": "white",
             "startlinecolor": "#2a3f5f"
            },
            "type": "carpet"
           }
          ],
          "choropleth": [
           {
            "colorbar": {
             "outlinewidth": 0,
             "ticks": ""
            },
            "type": "choropleth"
           }
          ],
          "contour": [
           {
            "colorbar": {
             "outlinewidth": 0,
             "ticks": ""
            },
            "colorscale": [
             [
              0,
              "#0d0887"
             ],
             [
              0.1111111111111111,
              "#46039f"
             ],
             [
              0.2222222222222222,
              "#7201a8"
             ],
             [
              0.3333333333333333,
              "#9c179e"
             ],
             [
              0.4444444444444444,
              "#bd3786"
             ],
             [
              0.5555555555555556,
              "#d8576b"
             ],
             [
              0.6666666666666666,
              "#ed7953"
             ],
             [
              0.7777777777777778,
              "#fb9f3a"
             ],
             [
              0.8888888888888888,
              "#fdca26"
             ],
             [
              1,
              "#f0f921"
             ]
            ],
            "type": "contour"
           }
          ],
          "contourcarpet": [
           {
            "colorbar": {
             "outlinewidth": 0,
             "ticks": ""
            },
            "type": "contourcarpet"
           }
          ],
          "heatmap": [
           {
            "colorbar": {
             "outlinewidth": 0,
             "ticks": ""
            },
            "colorscale": [
             [
              0,
              "#0d0887"
             ],
             [
              0.1111111111111111,
              "#46039f"
             ],
             [
              0.2222222222222222,
              "#7201a8"
             ],
             [
              0.3333333333333333,
              "#9c179e"
             ],
             [
              0.4444444444444444,
              "#bd3786"
             ],
             [
              0.5555555555555556,
              "#d8576b"
             ],
             [
              0.6666666666666666,
              "#ed7953"
             ],
             [
              0.7777777777777778,
              "#fb9f3a"
             ],
             [
              0.8888888888888888,
              "#fdca26"
             ],
             [
              1,
              "#f0f921"
             ]
            ],
            "type": "heatmap"
           }
          ],
          "heatmapgl": [
           {
            "colorbar": {
             "outlinewidth": 0,
             "ticks": ""
            },
            "colorscale": [
             [
              0,
              "#0d0887"
             ],
             [
              0.1111111111111111,
              "#46039f"
             ],
             [
              0.2222222222222222,
              "#7201a8"
             ],
             [
              0.3333333333333333,
              "#9c179e"
             ],
             [
              0.4444444444444444,
              "#bd3786"
             ],
             [
              0.5555555555555556,
              "#d8576b"
             ],
             [
              0.6666666666666666,
              "#ed7953"
             ],
             [
              0.7777777777777778,
              "#fb9f3a"
             ],
             [
              0.8888888888888888,
              "#fdca26"
             ],
             [
              1,
              "#f0f921"
             ]
            ],
            "type": "heatmapgl"
           }
          ],
          "histogram": [
           {
            "marker": {
             "pattern": {
              "fillmode": "overlay",
              "size": 10,
              "solidity": 0.2
             }
            },
            "type": "histogram"
           }
          ],
          "histogram2d": [
           {
            "colorbar": {
             "outlinewidth": 0,
             "ticks": ""
            },
            "colorscale": [
             [
              0,
              "#0d0887"
             ],
             [
              0.1111111111111111,
              "#46039f"
             ],
             [
              0.2222222222222222,
              "#7201a8"
             ],
             [
              0.3333333333333333,
              "#9c179e"
             ],
             [
              0.4444444444444444,
              "#bd3786"
             ],
             [
              0.5555555555555556,
              "#d8576b"
             ],
             [
              0.6666666666666666,
              "#ed7953"
             ],
             [
              0.7777777777777778,
              "#fb9f3a"
             ],
             [
              0.8888888888888888,
              "#fdca26"
             ],
             [
              1,
              "#f0f921"
             ]
            ],
            "type": "histogram2d"
           }
          ],
          "histogram2dcontour": [
           {
            "colorbar": {
             "outlinewidth": 0,
             "ticks": ""
            },
            "colorscale": [
             [
              0,
              "#0d0887"
             ],
             [
              0.1111111111111111,
              "#46039f"
             ],
             [
              0.2222222222222222,
              "#7201a8"
             ],
             [
              0.3333333333333333,
              "#9c179e"
             ],
             [
              0.4444444444444444,
              "#bd3786"
             ],
             [
              0.5555555555555556,
              "#d8576b"
             ],
             [
              0.6666666666666666,
              "#ed7953"
             ],
             [
              0.7777777777777778,
              "#fb9f3a"
             ],
             [
              0.8888888888888888,
              "#fdca26"
             ],
             [
              1,
              "#f0f921"
             ]
            ],
            "type": "histogram2dcontour"
           }
          ],
          "mesh3d": [
           {
            "colorbar": {
             "outlinewidth": 0,
             "ticks": ""
            },
            "type": "mesh3d"
           }
          ],
          "parcoords": [
           {
            "line": {
             "colorbar": {
              "outlinewidth": 0,
              "ticks": ""
             }
            },
            "type": "parcoords"
           }
          ],
          "pie": [
           {
            "automargin": true,
            "type": "pie"
           }
          ],
          "scatter": [
           {
            "fillpattern": {
             "fillmode": "overlay",
             "size": 10,
             "solidity": 0.2
            },
            "type": "scatter"
           }
          ],
          "scatter3d": [
           {
            "line": {
             "colorbar": {
              "outlinewidth": 0,
              "ticks": ""
             }
            },
            "marker": {
             "colorbar": {
              "outlinewidth": 0,
              "ticks": ""
             }
            },
            "type": "scatter3d"
           }
          ],
          "scattercarpet": [
           {
            "marker": {
             "colorbar": {
              "outlinewidth": 0,
              "ticks": ""
             }
            },
            "type": "scattercarpet"
           }
          ],
          "scattergeo": [
           {
            "marker": {
             "colorbar": {
              "outlinewidth": 0,
              "ticks": ""
             }
            },
            "type": "scattergeo"
           }
          ],
          "scattergl": [
           {
            "marker": {
             "colorbar": {
              "outlinewidth": 0,
              "ticks": ""
             }
            },
            "type": "scattergl"
           }
          ],
          "scattermapbox": [
           {
            "marker": {
             "colorbar": {
              "outlinewidth": 0,
              "ticks": ""
             }
            },
            "type": "scattermapbox"
           }
          ],
          "scatterpolar": [
           {
            "marker": {
             "colorbar": {
              "outlinewidth": 0,
              "ticks": ""
             }
            },
            "type": "scatterpolar"
           }
          ],
          "scatterpolargl": [
           {
            "marker": {
             "colorbar": {
              "outlinewidth": 0,
              "ticks": ""
             }
            },
            "type": "scatterpolargl"
           }
          ],
          "scatterternary": [
           {
            "marker": {
             "colorbar": {
              "outlinewidth": 0,
              "ticks": ""
             }
            },
            "type": "scatterternary"
           }
          ],
          "surface": [
           {
            "colorbar": {
             "outlinewidth": 0,
             "ticks": ""
            },
            "colorscale": [
             [
              0,
              "#0d0887"
             ],
             [
              0.1111111111111111,
              "#46039f"
             ],
             [
              0.2222222222222222,
              "#7201a8"
             ],
             [
              0.3333333333333333,
              "#9c179e"
             ],
             [
              0.4444444444444444,
              "#bd3786"
             ],
             [
              0.5555555555555556,
              "#d8576b"
             ],
             [
              0.6666666666666666,
              "#ed7953"
             ],
             [
              0.7777777777777778,
              "#fb9f3a"
             ],
             [
              0.8888888888888888,
              "#fdca26"
             ],
             [
              1,
              "#f0f921"
             ]
            ],
            "type": "surface"
           }
          ],
          "table": [
           {
            "cells": {
             "fill": {
              "color": "#EBF0F8"
             },
             "line": {
              "color": "white"
             }
            },
            "header": {
             "fill": {
              "color": "#C8D4E3"
             },
             "line": {
              "color": "white"
             }
            },
            "type": "table"
           }
          ]
         },
         "layout": {
          "annotationdefaults": {
           "arrowcolor": "#2a3f5f",
           "arrowhead": 0,
           "arrowwidth": 1
          },
          "autotypenumbers": "strict",
          "coloraxis": {
           "colorbar": {
            "outlinewidth": 0,
            "ticks": ""
           }
          },
          "colorscale": {
           "diverging": [
            [
             0,
             "#8e0152"
            ],
            [
             0.1,
             "#c51b7d"
            ],
            [
             0.2,
             "#de77ae"
            ],
            [
             0.3,
             "#f1b6da"
            ],
            [
             0.4,
             "#fde0ef"
            ],
            [
             0.5,
             "#f7f7f7"
            ],
            [
             0.6,
             "#e6f5d0"
            ],
            [
             0.7,
             "#b8e186"
            ],
            [
             0.8,
             "#7fbc41"
            ],
            [
             0.9,
             "#4d9221"
            ],
            [
             1,
             "#276419"
            ]
           ],
           "sequential": [
            [
             0,
             "#0d0887"
            ],
            [
             0.1111111111111111,
             "#46039f"
            ],
            [
             0.2222222222222222,
             "#7201a8"
            ],
            [
             0.3333333333333333,
             "#9c179e"
            ],
            [
             0.4444444444444444,
             "#bd3786"
            ],
            [
             0.5555555555555556,
             "#d8576b"
            ],
            [
             0.6666666666666666,
             "#ed7953"
            ],
            [
             0.7777777777777778,
             "#fb9f3a"
            ],
            [
             0.8888888888888888,
             "#fdca26"
            ],
            [
             1,
             "#f0f921"
            ]
           ],
           "sequentialminus": [
            [
             0,
             "#0d0887"
            ],
            [
             0.1111111111111111,
             "#46039f"
            ],
            [
             0.2222222222222222,
             "#7201a8"
            ],
            [
             0.3333333333333333,
             "#9c179e"
            ],
            [
             0.4444444444444444,
             "#bd3786"
            ],
            [
             0.5555555555555556,
             "#d8576b"
            ],
            [
             0.6666666666666666,
             "#ed7953"
            ],
            [
             0.7777777777777778,
             "#fb9f3a"
            ],
            [
             0.8888888888888888,
             "#fdca26"
            ],
            [
             1,
             "#f0f921"
            ]
           ]
          },
          "colorway": [
           "#636efa",
           "#EF553B",
           "#00cc96",
           "#ab63fa",
           "#FFA15A",
           "#19d3f3",
           "#FF6692",
           "#B6E880",
           "#FF97FF",
           "#FECB52"
          ],
          "font": {
           "color": "#2a3f5f"
          },
          "geo": {
           "bgcolor": "white",
           "lakecolor": "white",
           "landcolor": "#E5ECF6",
           "showlakes": true,
           "showland": true,
           "subunitcolor": "white"
          },
          "hoverlabel": {
           "align": "left"
          },
          "hovermode": "closest",
          "mapbox": {
           "style": "light"
          },
          "paper_bgcolor": "white",
          "plot_bgcolor": "#E5ECF6",
          "polar": {
           "angularaxis": {
            "gridcolor": "white",
            "linecolor": "white",
            "ticks": ""
           },
           "bgcolor": "#E5ECF6",
           "radialaxis": {
            "gridcolor": "white",
            "linecolor": "white",
            "ticks": ""
           }
          },
          "scene": {
           "xaxis": {
            "backgroundcolor": "#E5ECF6",
            "gridcolor": "white",
            "gridwidth": 2,
            "linecolor": "white",
            "showbackground": true,
            "ticks": "",
            "zerolinecolor": "white"
           },
           "yaxis": {
            "backgroundcolor": "#E5ECF6",
            "gridcolor": "white",
            "gridwidth": 2,
            "linecolor": "white",
            "showbackground": true,
            "ticks": "",
            "zerolinecolor": "white"
           },
           "zaxis": {
            "backgroundcolor": "#E5ECF6",
            "gridcolor": "white",
            "gridwidth": 2,
            "linecolor": "white",
            "showbackground": true,
            "ticks": "",
            "zerolinecolor": "white"
           }
          },
          "shapedefaults": {
           "line": {
            "color": "#2a3f5f"
           }
          },
          "ternary": {
           "aaxis": {
            "gridcolor": "white",
            "linecolor": "white",
            "ticks": ""
           },
           "baxis": {
            "gridcolor": "white",
            "linecolor": "white",
            "ticks": ""
           },
           "bgcolor": "#E5ECF6",
           "caxis": {
            "gridcolor": "white",
            "linecolor": "white",
            "ticks": ""
           }
          },
          "title": {
           "x": 0.05
          },
          "xaxis": {
           "automargin": true,
           "gridcolor": "white",
           "linecolor": "white",
           "ticks": "",
           "title": {
            "standoff": 15
           },
           "zerolinecolor": "white",
           "zerolinewidth": 2
          },
          "yaxis": {
           "automargin": true,
           "gridcolor": "white",
           "linecolor": "white",
           "ticks": "",
           "title": {
            "standoff": 15
           },
           "zerolinecolor": "white",
           "zerolinewidth": 2
          }
         }
        },
        "title": {
         "text": "Count by Purchase Amount"
        },
        "xaxis": {
         "anchor": "y",
         "domain": [
          0,
          1
         ],
         "title": {
          "text": "purchase value"
         }
        },
        "yaxis": {
         "anchor": "x",
         "domain": [
          0,
          1
         ],
         "title": {
          "text": "count"
         }
        }
       }
      }
     },
     "metadata": {},
     "output_type": "display_data"
    }
   ],
   "source": [
    "countSer = purchasesFilt.groupby('amount')['alpha'].count()\n",
    "countDict = dict(countSer)\n",
    "valuesOrdered =  [countDict [key] for key in orderedKeys]\n",
    "countDict_ordered = dict(zip(orderedKeys, valuesOrdered))\n",
    "\n",
    "\n",
    "countSer_ordered = pd.Series(countDict_ordered)\n",
    "countFrame_ordered = pd.DataFrame(countSer_ordered)\n",
    "countFrame_ordered.columns =[\"count\"]\n",
    "\n",
    "fig = px.bar(countFrame_ordered)\n",
    "\n",
    "fig.update_layout(xaxis_title=\"purchase value\", yaxis_title=\"count\", title=\"Count by Purchase Amount\")\n",
    "\n",
    "fig.show()\n"
   ]
  },
  {
   "cell_type": "code",
   "execution_count": 320,
   "metadata": {},
   "outputs": [
    {
     "data": {
      "text/html": [
       "<div>\n",
       "<style scoped>\n",
       "    .dataframe tbody tr th:only-of-type {\n",
       "        vertical-align: middle;\n",
       "    }\n",
       "\n",
       "    .dataframe tbody tr th {\n",
       "        vertical-align: top;\n",
       "    }\n",
       "\n",
       "    .dataframe thead th {\n",
       "        text-align: right;\n",
       "    }\n",
       "</style>\n",
       "<table border=\"1\" class=\"dataframe\">\n",
       "  <thead>\n",
       "    <tr style=\"text-align: right;\">\n",
       "      <th></th>\n",
       "      <th>row</th>\n",
       "      <th>senator</th>\n",
       "      <th>senatorId</th>\n",
       "      <th>party</th>\n",
       "    </tr>\n",
       "  </thead>\n",
       "  <tbody>\n",
       "    <tr>\n",
       "      <th>5</th>\n",
       "      <td>6</td>\n",
       "      <td>A. Mitchell Mcconnell, Jr.</td>\n",
       "      <td>105</td>\n",
       "      <td>Republican</td>\n",
       "    </tr>\n",
       "  </tbody>\n",
       "</table>\n",
       "</div>"
      ],
      "text/plain": [
       "   row                     senator  senatorId       party\n",
       "5    6  A. Mitchell Mcconnell, Jr.        105  Republican"
      ]
     },
     "execution_count": 320,
     "metadata": {},
     "output_type": "execute_result"
    }
   ],
   "source": [
    "senators[senators['senator'].str.contains('Mitch')]"
   ]
  },
  {
   "cell_type": "code",
   "execution_count": 325,
   "metadata": {},
   "outputs": [
    {
     "data": {
      "text/html": [
       "<div>\n",
       "<style scoped>\n",
       "    .dataframe tbody tr th:only-of-type {\n",
       "        vertical-align: middle;\n",
       "    }\n",
       "\n",
       "    .dataframe tbody tr th {\n",
       "        vertical-align: top;\n",
       "    }\n",
       "\n",
       "    .dataframe thead th {\n",
       "        text-align: right;\n",
       "    }\n",
       "</style>\n",
       "<table border=\"1\" class=\"dataframe\">\n",
       "  <thead>\n",
       "    <tr style=\"text-align: right;\">\n",
       "      <th></th>\n",
       "      <th>transaction_date</th>\n",
       "      <th>owner</th>\n",
       "      <th>ticker</th>\n",
       "      <th>asset_description</th>\n",
       "      <th>asset_type</th>\n",
       "      <th>type</th>\n",
       "      <th>amount</th>\n",
       "      <th>comment</th>\n",
       "      <th>senator</th>\n",
       "      <th>ptr_link</th>\n",
       "      <th>disclosure_date</th>\n",
       "      <th>id</th>\n",
       "      <th>senatorId</th>\n",
       "      <th>alpha</th>\n",
       "    </tr>\n",
       "  </thead>\n",
       "  <tbody>\n",
       "    <tr>\n",
       "      <th>4740</th>\n",
       "      <td>2017-09-07</td>\n",
       "      <td>Spouse</td>\n",
       "      <td>WFC</td>\n",
       "      <td>Wells Fargo &amp; Company</td>\n",
       "      <td>Stock</td>\n",
       "      <td>Purchase</td>\n",
       "      <td>$1,001 - $15,000</td>\n",
       "      <td>Dividend Reinvestment</td>\n",
       "      <td>A. Mitchell Mcconnell, Jr.</td>\n",
       "      <td>https://efdsearch.senate.gov/search/view/ptr/0...</td>\n",
       "      <td>05/15/2018</td>\n",
       "      <td>4740</td>\n",
       "      <td>105</td>\n",
       "      <td>18.061525</td>\n",
       "    </tr>\n",
       "    <tr>\n",
       "      <th>4739</th>\n",
       "      <td>2017-12-05</td>\n",
       "      <td>Spouse</td>\n",
       "      <td>WFC</td>\n",
       "      <td>Wells Fargo &amp; Company</td>\n",
       "      <td>Stock</td>\n",
       "      <td>Purchase</td>\n",
       "      <td>$1,001 - $15,000</td>\n",
       "      <td>Dividend Reinvestment</td>\n",
       "      <td>A. Mitchell Mcconnell, Jr.</td>\n",
       "      <td>https://efdsearch.senate.gov/search/view/ptr/0...</td>\n",
       "      <td>05/15/2018</td>\n",
       "      <td>4739</td>\n",
       "      <td>105</td>\n",
       "      <td>4.398816</td>\n",
       "    </tr>\n",
       "  </tbody>\n",
       "</table>\n",
       "</div>"
      ],
      "text/plain": [
       "     transaction_date   owner ticker      asset_description asset_type  \\\n",
       "4740       2017-09-07  Spouse    WFC  Wells Fargo & Company      Stock   \n",
       "4739       2017-12-05  Spouse    WFC  Wells Fargo & Company      Stock   \n",
       "\n",
       "          type            amount                comment  \\\n",
       "4740  Purchase  $1,001 - $15,000  Dividend Reinvestment   \n",
       "4739  Purchase  $1,001 - $15,000  Dividend Reinvestment   \n",
       "\n",
       "                         senator  \\\n",
       "4740  A. Mitchell Mcconnell, Jr.   \n",
       "4739  A. Mitchell Mcconnell, Jr.   \n",
       "\n",
       "                                               ptr_link disclosure_date    id  \\\n",
       "4740  https://efdsearch.senate.gov/search/view/ptr/0...      05/15/2018  4740   \n",
       "4739  https://efdsearch.senate.gov/search/view/ptr/0...      05/15/2018  4739   \n",
       "\n",
       "      senatorId      alpha  \n",
       "4740        105  18.061525  \n",
       "4739        105   4.398816  "
      ]
     },
     "execution_count": 325,
     "metadata": {},
     "output_type": "execute_result"
    }
   ],
   "source": [
    "purchasesFilt[purchasesFilt['senatorId']==105].sort_values(by=\"transaction_date\").head(2)"
   ]
  },
  {
   "cell_type": "code",
   "execution_count": 323,
   "metadata": {},
   "outputs": [
    {
     "data": {
      "application/vnd.plotly.v1+json": {
       "config": {
        "plotlyServerURL": "https://plot.ly"
       },
       "data": [
        {
         "hovertemplate": "transactionType=Purchase<br>date=%{x}<br>Growth Rate=%{y}<extra></extra>",
         "legendgroup": "Purchase",
         "marker": {
          "color": "#636efa",
          "symbol": "circle"
         },
         "mode": "markers",
         "name": "Purchase",
         "orientation": "v",
         "showlegend": true,
         "type": "scatter",
         "x": [
          "2017-09-08",
          "2017-12-08",
          "2018-03-09",
          "2018-06-01"
         ],
         "xaxis": "x",
         "y": [
          100,
          120.45094686173924,
          118.96163057731239,
          112.5748587272433
         ],
         "yaxis": "y"
        },
        {
         "line": {
          "color": "#EB4E4B"
         },
         "mode": "lines",
         "name": "WFC Growth Rate",
         "type": "scatter",
         "x": [
          "2017-09-08",
          "2017-09-15",
          "2017-09-22",
          "2017-09-29",
          "2017-10-06",
          "2017-10-13",
          "2017-10-20",
          "2017-10-27",
          "2017-11-03",
          "2017-11-10",
          "2017-11-17",
          "2017-11-24",
          "2017-12-01",
          "2017-12-08",
          "2017-12-15",
          "2017-12-22",
          "2017-12-29",
          "2018-01-05",
          "2018-01-12",
          "2018-01-19",
          "2018-01-26",
          "2018-02-02",
          "2018-02-09",
          "2018-02-16",
          "2018-02-23",
          "2018-03-02",
          "2018-03-09",
          "2018-03-16",
          "2018-03-23",
          "2018-03-29",
          "2018-04-06",
          "2018-04-13",
          "2018-04-20",
          "2018-04-27",
          "2018-05-04",
          "2018-05-11",
          "2018-05-18",
          "2018-05-25",
          "2018-06-01",
          "2018-06-08",
          "2018-06-15",
          "2018-06-22",
          "2018-06-29",
          "2018-07-06",
          "2018-07-13",
          "2018-07-20",
          "2018-07-27",
          "2018-08-03",
          "2018-08-10",
          "2018-08-17",
          "2018-08-24"
         ],
         "y": [
          100,
          104.1953727747635,
          109.41912207983525,
          111.23449752875305,
          112.10172107632366,
          108.28964375104094,
          110.77050830043423,
          112.68651639796111,
          114.43949491324248,
          109.28119201600742,
          109.97154605996207,
          109.84980166688955,
          114.13478206815344,
          120.45094686173924,
          121.58816616350347,
          125.00005864373466,
          123.21283218743481,
          127.43705767963165,
          127.03100846111806,
          130.42249292170123,
          133.89514031099947,
          130.89234652348213,
          114.67125495246341,
          122.47556315578358,
          120.88186102373196,
          117.2862963666688,
          118.96163057731239,
          114.2014013506825,
          104.15009981163635,
          107.07149609550017,
          106.70391716689774,
          103.96619305986589,
          107.37808554009708,
          106.96945599726017,
          107.88171793301947,
          112.08084390679869,
          110.5371062366439,
          113.00718033886696,
          112.5748587272433,
          114.61284579278119,
          113.17185194568182,
          111.0311210570885,
          114.11883097233657,
          115.04493282946635,
          113.95415936552169,
          116.11553284870149,
          120.68505265034493,
          121.09673166738212,
          120.3704876578396,
          122.05004421737587,
          121.69747808483635
         ]
        },
        {
         "line": {
          "color": "#349FEB"
         },
         "mode": "lines",
         "name": "SPY Growth Rate",
         "type": "scatter",
         "x": [
          "2017-09-08",
          "2017-09-15",
          "2017-09-22",
          "2017-09-29",
          "2017-10-06",
          "2017-10-13",
          "2017-10-20",
          "2017-10-27",
          "2017-11-03",
          "2017-11-10",
          "2017-11-17",
          "2017-11-24",
          "2017-12-01",
          "2017-12-08",
          "2017-12-15",
          "2017-12-22",
          "2017-12-29",
          "2018-01-05",
          "2018-01-12",
          "2018-01-19",
          "2018-01-26",
          "2018-02-02",
          "2018-02-09",
          "2018-02-16",
          "2018-02-23",
          "2018-03-02",
          "2018-03-09",
          "2018-03-16",
          "2018-03-23",
          "2018-03-29",
          "2018-04-06",
          "2018-04-13",
          "2018-04-20",
          "2018-04-27",
          "2018-05-04",
          "2018-05-11",
          "2018-05-18",
          "2018-05-25",
          "2018-06-01",
          "2018-06-08",
          "2018-06-15",
          "2018-06-22",
          "2018-06-29",
          "2018-07-06",
          "2018-07-13",
          "2018-07-20",
          "2018-07-27",
          "2018-08-03",
          "2018-08-10",
          "2018-08-17",
          "2018-08-24"
         ],
         "y": [
          100,
          101.55917769906644,
          101.66106992615146,
          102.39057916821638,
          103.67029754929865,
          103.90669818082606,
          104.78702391601202,
          105.03155637377428,
          105.33314492380745,
          105.1864165619083,
          105.09270059726708,
          106.11157843190838,
          107.78255763265206,
          108.21047832468379,
          109.16878960654844,
          109.57840258049949,
          109.31218525277754,
          111.99928724320866,
          113.84259006219735,
          114.86257880206199,
          117.38993262137639,
          112.83082202098544,
          107.11659216936236,
          111.87233299428505,
          112.5277226398485,
          110.22152783239727,
          114.23176238003889,
          112.76807809397103,
          106.12619794464759,
          108.22363144252822,
          106.8130039899272,
          109.04614566989142,
          109.6466121612128,
          109.62603819647649,
          109.40394602422575,
          112.2128476633442,
          111.58776351227354,
          111.92498990187156,
          112.52132382576211,
          114.40901841747558,
          114.48531538821477,
          113.49798726191639,
          112.0686521653543,
          113.77891297479539,
          115.50157148652897,
          115.53876459340651,
          116.2575647091184,
          117.15815335557815,
          116.97640926103924,
          117.76128601943557,
          118.77340955031896
         ]
        }
       ],
       "layout": {
        "height": 500,
        "legend": {
         "title": {
          "text": "transactionType"
         },
         "tracegroupgap": 0
        },
        "template": {
         "data": {
          "bar": [
           {
            "error_x": {
             "color": "#2a3f5f"
            },
            "error_y": {
             "color": "#2a3f5f"
            },
            "marker": {
             "line": {
              "color": "#E5ECF6",
              "width": 0.5
             },
             "pattern": {
              "fillmode": "overlay",
              "size": 10,
              "solidity": 0.2
             }
            },
            "type": "bar"
           }
          ],
          "barpolar": [
           {
            "marker": {
             "line": {
              "color": "#E5ECF6",
              "width": 0.5
             },
             "pattern": {
              "fillmode": "overlay",
              "size": 10,
              "solidity": 0.2
             }
            },
            "type": "barpolar"
           }
          ],
          "carpet": [
           {
            "aaxis": {
             "endlinecolor": "#2a3f5f",
             "gridcolor": "white",
             "linecolor": "white",
             "minorgridcolor": "white",
             "startlinecolor": "#2a3f5f"
            },
            "baxis": {
             "endlinecolor": "#2a3f5f",
             "gridcolor": "white",
             "linecolor": "white",
             "minorgridcolor": "white",
             "startlinecolor": "#2a3f5f"
            },
            "type": "carpet"
           }
          ],
          "choropleth": [
           {
            "colorbar": {
             "outlinewidth": 0,
             "ticks": ""
            },
            "type": "choropleth"
           }
          ],
          "contour": [
           {
            "colorbar": {
             "outlinewidth": 0,
             "ticks": ""
            },
            "colorscale": [
             [
              0,
              "#0d0887"
             ],
             [
              0.1111111111111111,
              "#46039f"
             ],
             [
              0.2222222222222222,
              "#7201a8"
             ],
             [
              0.3333333333333333,
              "#9c179e"
             ],
             [
              0.4444444444444444,
              "#bd3786"
             ],
             [
              0.5555555555555556,
              "#d8576b"
             ],
             [
              0.6666666666666666,
              "#ed7953"
             ],
             [
              0.7777777777777778,
              "#fb9f3a"
             ],
             [
              0.8888888888888888,
              "#fdca26"
             ],
             [
              1,
              "#f0f921"
             ]
            ],
            "type": "contour"
           }
          ],
          "contourcarpet": [
           {
            "colorbar": {
             "outlinewidth": 0,
             "ticks": ""
            },
            "type": "contourcarpet"
           }
          ],
          "heatmap": [
           {
            "colorbar": {
             "outlinewidth": 0,
             "ticks": ""
            },
            "colorscale": [
             [
              0,
              "#0d0887"
             ],
             [
              0.1111111111111111,
              "#46039f"
             ],
             [
              0.2222222222222222,
              "#7201a8"
             ],
             [
              0.3333333333333333,
              "#9c179e"
             ],
             [
              0.4444444444444444,
              "#bd3786"
             ],
             [
              0.5555555555555556,
              "#d8576b"
             ],
             [
              0.6666666666666666,
              "#ed7953"
             ],
             [
              0.7777777777777778,
              "#fb9f3a"
             ],
             [
              0.8888888888888888,
              "#fdca26"
             ],
             [
              1,
              "#f0f921"
             ]
            ],
            "type": "heatmap"
           }
          ],
          "heatmapgl": [
           {
            "colorbar": {
             "outlinewidth": 0,
             "ticks": ""
            },
            "colorscale": [
             [
              0,
              "#0d0887"
             ],
             [
              0.1111111111111111,
              "#46039f"
             ],
             [
              0.2222222222222222,
              "#7201a8"
             ],
             [
              0.3333333333333333,
              "#9c179e"
             ],
             [
              0.4444444444444444,
              "#bd3786"
             ],
             [
              0.5555555555555556,
              "#d8576b"
             ],
             [
              0.6666666666666666,
              "#ed7953"
             ],
             [
              0.7777777777777778,
              "#fb9f3a"
             ],
             [
              0.8888888888888888,
              "#fdca26"
             ],
             [
              1,
              "#f0f921"
             ]
            ],
            "type": "heatmapgl"
           }
          ],
          "histogram": [
           {
            "marker": {
             "pattern": {
              "fillmode": "overlay",
              "size": 10,
              "solidity": 0.2
             }
            },
            "type": "histogram"
           }
          ],
          "histogram2d": [
           {
            "colorbar": {
             "outlinewidth": 0,
             "ticks": ""
            },
            "colorscale": [
             [
              0,
              "#0d0887"
             ],
             [
              0.1111111111111111,
              "#46039f"
             ],
             [
              0.2222222222222222,
              "#7201a8"
             ],
             [
              0.3333333333333333,
              "#9c179e"
             ],
             [
              0.4444444444444444,
              "#bd3786"
             ],
             [
              0.5555555555555556,
              "#d8576b"
             ],
             [
              0.6666666666666666,
              "#ed7953"
             ],
             [
              0.7777777777777778,
              "#fb9f3a"
             ],
             [
              0.8888888888888888,
              "#fdca26"
             ],
             [
              1,
              "#f0f921"
             ]
            ],
            "type": "histogram2d"
           }
          ],
          "histogram2dcontour": [
           {
            "colorbar": {
             "outlinewidth": 0,
             "ticks": ""
            },
            "colorscale": [
             [
              0,
              "#0d0887"
             ],
             [
              0.1111111111111111,
              "#46039f"
             ],
             [
              0.2222222222222222,
              "#7201a8"
             ],
             [
              0.3333333333333333,
              "#9c179e"
             ],
             [
              0.4444444444444444,
              "#bd3786"
             ],
             [
              0.5555555555555556,
              "#d8576b"
             ],
             [
              0.6666666666666666,
              "#ed7953"
             ],
             [
              0.7777777777777778,
              "#fb9f3a"
             ],
             [
              0.8888888888888888,
              "#fdca26"
             ],
             [
              1,
              "#f0f921"
             ]
            ],
            "type": "histogram2dcontour"
           }
          ],
          "mesh3d": [
           {
            "colorbar": {
             "outlinewidth": 0,
             "ticks": ""
            },
            "type": "mesh3d"
           }
          ],
          "parcoords": [
           {
            "line": {
             "colorbar": {
              "outlinewidth": 0,
              "ticks": ""
             }
            },
            "type": "parcoords"
           }
          ],
          "pie": [
           {
            "automargin": true,
            "type": "pie"
           }
          ],
          "scatter": [
           {
            "fillpattern": {
             "fillmode": "overlay",
             "size": 10,
             "solidity": 0.2
            },
            "type": "scatter"
           }
          ],
          "scatter3d": [
           {
            "line": {
             "colorbar": {
              "outlinewidth": 0,
              "ticks": ""
             }
            },
            "marker": {
             "colorbar": {
              "outlinewidth": 0,
              "ticks": ""
             }
            },
            "type": "scatter3d"
           }
          ],
          "scattercarpet": [
           {
            "marker": {
             "colorbar": {
              "outlinewidth": 0,
              "ticks": ""
             }
            },
            "type": "scattercarpet"
           }
          ],
          "scattergeo": [
           {
            "marker": {
             "colorbar": {
              "outlinewidth": 0,
              "ticks": ""
             }
            },
            "type": "scattergeo"
           }
          ],
          "scattergl": [
           {
            "marker": {
             "colorbar": {
              "outlinewidth": 0,
              "ticks": ""
             }
            },
            "type": "scattergl"
           }
          ],
          "scattermapbox": [
           {
            "marker": {
             "colorbar": {
              "outlinewidth": 0,
              "ticks": ""
             }
            },
            "type": "scattermapbox"
           }
          ],
          "scatterpolar": [
           {
            "marker": {
             "colorbar": {
              "outlinewidth": 0,
              "ticks": ""
             }
            },
            "type": "scatterpolar"
           }
          ],
          "scatterpolargl": [
           {
            "marker": {
             "colorbar": {
              "outlinewidth": 0,
              "ticks": ""
             }
            },
            "type": "scatterpolargl"
           }
          ],
          "scatterternary": [
           {
            "marker": {
             "colorbar": {
              "outlinewidth": 0,
              "ticks": ""
             }
            },
            "type": "scatterternary"
           }
          ],
          "surface": [
           {
            "colorbar": {
             "outlinewidth": 0,
             "ticks": ""
            },
            "colorscale": [
             [
              0,
              "#0d0887"
             ],
             [
              0.1111111111111111,
              "#46039f"
             ],
             [
              0.2222222222222222,
              "#7201a8"
             ],
             [
              0.3333333333333333,
              "#9c179e"
             ],
             [
              0.4444444444444444,
              "#bd3786"
             ],
             [
              0.5555555555555556,
              "#d8576b"
             ],
             [
              0.6666666666666666,
              "#ed7953"
             ],
             [
              0.7777777777777778,
              "#fb9f3a"
             ],
             [
              0.8888888888888888,
              "#fdca26"
             ],
             [
              1,
              "#f0f921"
             ]
            ],
            "type": "surface"
           }
          ],
          "table": [
           {
            "cells": {
             "fill": {
              "color": "#EBF0F8"
             },
             "line": {
              "color": "white"
             }
            },
            "header": {
             "fill": {
              "color": "#C8D4E3"
             },
             "line": {
              "color": "white"
             }
            },
            "type": "table"
           }
          ]
         },
         "layout": {
          "annotationdefaults": {
           "arrowcolor": "#2a3f5f",
           "arrowhead": 0,
           "arrowwidth": 1
          },
          "autotypenumbers": "strict",
          "coloraxis": {
           "colorbar": {
            "outlinewidth": 0,
            "ticks": ""
           }
          },
          "colorscale": {
           "diverging": [
            [
             0,
             "#8e0152"
            ],
            [
             0.1,
             "#c51b7d"
            ],
            [
             0.2,
             "#de77ae"
            ],
            [
             0.3,
             "#f1b6da"
            ],
            [
             0.4,
             "#fde0ef"
            ],
            [
             0.5,
             "#f7f7f7"
            ],
            [
             0.6,
             "#e6f5d0"
            ],
            [
             0.7,
             "#b8e186"
            ],
            [
             0.8,
             "#7fbc41"
            ],
            [
             0.9,
             "#4d9221"
            ],
            [
             1,
             "#276419"
            ]
           ],
           "sequential": [
            [
             0,
             "#0d0887"
            ],
            [
             0.1111111111111111,
             "#46039f"
            ],
            [
             0.2222222222222222,
             "#7201a8"
            ],
            [
             0.3333333333333333,
             "#9c179e"
            ],
            [
             0.4444444444444444,
             "#bd3786"
            ],
            [
             0.5555555555555556,
             "#d8576b"
            ],
            [
             0.6666666666666666,
             "#ed7953"
            ],
            [
             0.7777777777777778,
             "#fb9f3a"
            ],
            [
             0.8888888888888888,
             "#fdca26"
            ],
            [
             1,
             "#f0f921"
            ]
           ],
           "sequentialminus": [
            [
             0,
             "#0d0887"
            ],
            [
             0.1111111111111111,
             "#46039f"
            ],
            [
             0.2222222222222222,
             "#7201a8"
            ],
            [
             0.3333333333333333,
             "#9c179e"
            ],
            [
             0.4444444444444444,
             "#bd3786"
            ],
            [
             0.5555555555555556,
             "#d8576b"
            ],
            [
             0.6666666666666666,
             "#ed7953"
            ],
            [
             0.7777777777777778,
             "#fb9f3a"
            ],
            [
             0.8888888888888888,
             "#fdca26"
            ],
            [
             1,
             "#f0f921"
            ]
           ]
          },
          "colorway": [
           "#636efa",
           "#EF553B",
           "#00cc96",
           "#ab63fa",
           "#FFA15A",
           "#19d3f3",
           "#FF6692",
           "#B6E880",
           "#FF97FF",
           "#FECB52"
          ],
          "font": {
           "color": "#2a3f5f"
          },
          "geo": {
           "bgcolor": "white",
           "lakecolor": "white",
           "landcolor": "#E5ECF6",
           "showlakes": true,
           "showland": true,
           "subunitcolor": "white"
          },
          "hoverlabel": {
           "align": "left"
          },
          "hovermode": "closest",
          "mapbox": {
           "style": "light"
          },
          "paper_bgcolor": "white",
          "plot_bgcolor": "#E5ECF6",
          "polar": {
           "angularaxis": {
            "gridcolor": "white",
            "linecolor": "white",
            "ticks": ""
           },
           "bgcolor": "#E5ECF6",
           "radialaxis": {
            "gridcolor": "white",
            "linecolor": "white",
            "ticks": ""
           }
          },
          "scene": {
           "xaxis": {
            "backgroundcolor": "#E5ECF6",
            "gridcolor": "white",
            "gridwidth": 2,
            "linecolor": "white",
            "showbackground": true,
            "ticks": "",
            "zerolinecolor": "white"
           },
           "yaxis": {
            "backgroundcolor": "#E5ECF6",
            "gridcolor": "white",
            "gridwidth": 2,
            "linecolor": "white",
            "showbackground": true,
            "ticks": "",
            "zerolinecolor": "white"
           },
           "zaxis": {
            "backgroundcolor": "#E5ECF6",
            "gridcolor": "white",
            "gridwidth": 2,
            "linecolor": "white",
            "showbackground": true,
            "ticks": "",
            "zerolinecolor": "white"
           }
          },
          "shapedefaults": {
           "line": {
            "color": "#2a3f5f"
           }
          },
          "ternary": {
           "aaxis": {
            "gridcolor": "white",
            "linecolor": "white",
            "ticks": ""
           },
           "baxis": {
            "gridcolor": "white",
            "linecolor": "white",
            "ticks": ""
           },
           "bgcolor": "#E5ECF6",
           "caxis": {
            "gridcolor": "white",
            "linecolor": "white",
            "ticks": ""
           }
          },
          "title": {
           "x": 0.05
          },
          "xaxis": {
           "automargin": true,
           "gridcolor": "white",
           "linecolor": "white",
           "ticks": "",
           "title": {
            "standoff": 15
           },
           "zerolinecolor": "white",
           "zerolinewidth": 2
          },
          "yaxis": {
           "automargin": true,
           "gridcolor": "white",
           "linecolor": "white",
           "ticks": "",
           "title": {
            "standoff": 15
           },
           "zerolinecolor": "white",
           "zerolinewidth": 2
          }
         }
        },
        "title": {
         "text": "A. Mitchell Mcconnell, Jr. Growth Rates WFC"
        },
        "width": 800,
        "xaxis": {
         "anchor": "y",
         "domain": [
          0,
          1
         ],
         "title": {
          "text": "date"
         }
        },
        "yaxis": {
         "anchor": "x",
         "domain": [
          0,
          1
         ],
         "title": {
          "text": "Growth Rate"
         }
        }
       }
      }
     },
     "metadata": {},
     "output_type": "display_data"
    }
   ],
   "source": [
    "graphAlphaGrowth_fromSource(105, '2017-09-07','WFC')"
   ]
  },
  {
   "cell_type": "code",
   "execution_count": null,
   "metadata": {},
   "outputs": [],
   "source": []
  },
  {
   "cell_type": "markdown",
   "metadata": {},
   "source": [
    "# Post alpha (from purchases) to db"
   ]
  },
  {
   "cell_type": "code",
   "execution_count": 374,
   "metadata": {},
   "outputs": [
    {
     "data": {
      "text/html": [
       "<div>\n",
       "<style scoped>\n",
       "    .dataframe tbody tr th:only-of-type {\n",
       "        vertical-align: middle;\n",
       "    }\n",
       "\n",
       "    .dataframe tbody tr th {\n",
       "        vertical-align: top;\n",
       "    }\n",
       "\n",
       "    .dataframe thead th {\n",
       "        text-align: right;\n",
       "    }\n",
       "</style>\n",
       "<table border=\"1\" class=\"dataframe\">\n",
       "  <thead>\n",
       "    <tr style=\"text-align: right;\">\n",
       "      <th></th>\n",
       "      <th>transaction_date</th>\n",
       "      <th>owner</th>\n",
       "      <th>ticker</th>\n",
       "      <th>asset_description</th>\n",
       "      <th>asset_type</th>\n",
       "      <th>type</th>\n",
       "      <th>amount</th>\n",
       "      <th>comment</th>\n",
       "      <th>senator</th>\n",
       "      <th>ptr_link</th>\n",
       "      <th>disclosure_date</th>\n",
       "      <th>id</th>\n",
       "      <th>senatorId</th>\n",
       "      <th>alpha</th>\n",
       "    </tr>\n",
       "  </thead>\n",
       "  <tbody>\n",
       "    <tr>\n",
       "      <th>8751</th>\n",
       "      <td>2014-12-10</td>\n",
       "      <td>Spouse</td>\n",
       "      <td>MDDVX</td>\n",
       "      <td>BlackRock Equity Dividend Inv A (NASDAQ)</td>\n",
       "      <td>Stock</td>\n",
       "      <td>Purchase</td>\n",
       "      <td>$1,001 - $15,000</td>\n",
       "      <td>--</td>\n",
       "      <td>Susan M Collins</td>\n",
       "      <td>https://efdsearch.senate.gov/search/view/ptr/d...</td>\n",
       "      <td>01/09/2015</td>\n",
       "      <td>8749</td>\n",
       "      <td>106</td>\n",
       "      <td>0.329482</td>\n",
       "    </tr>\n",
       "    <tr>\n",
       "      <th>8752</th>\n",
       "      <td>2015-12-11</td>\n",
       "      <td>Spouse</td>\n",
       "      <td>DVFAX</td>\n",
       "      <td>Cohen &amp; Steers Dividend Value A (NASDAQ)</td>\n",
       "      <td>Stock</td>\n",
       "      <td>Purchase</td>\n",
       "      <td>$1,001 - $15,000</td>\n",
       "      <td>--</td>\n",
       "      <td>Susan M Collins</td>\n",
       "      <td>https://efdsearch.senate.gov/search/view/ptr/d...</td>\n",
       "      <td>01/09/2015</td>\n",
       "      <td>8750</td>\n",
       "      <td>106</td>\n",
       "      <td>0.427035</td>\n",
       "    </tr>\n",
       "    <tr>\n",
       "      <th>8753</th>\n",
       "      <td>2014-12-11</td>\n",
       "      <td>Spouse</td>\n",
       "      <td>DVFAX</td>\n",
       "      <td>Cohen &amp; Steers Dividend Value A (NASDAQ)</td>\n",
       "      <td>Stock</td>\n",
       "      <td>Purchase</td>\n",
       "      <td>$1,001 - $15,000</td>\n",
       "      <td>--</td>\n",
       "      <td>Susan M Collins</td>\n",
       "      <td>https://efdsearch.senate.gov/search/view/ptr/d...</td>\n",
       "      <td>01/09/2015</td>\n",
       "      <td>8751</td>\n",
       "      <td>106</td>\n",
       "      <td>0.338179</td>\n",
       "    </tr>\n",
       "    <tr>\n",
       "      <th>8760</th>\n",
       "      <td>2014-12-19</td>\n",
       "      <td>Spouse</td>\n",
       "      <td>BA</td>\n",
       "      <td>The Boeing Company (NYSE)</td>\n",
       "      <td>Stock</td>\n",
       "      <td>Purchase</td>\n",
       "      <td>$1,001 - $15,000</td>\n",
       "      <td>R</td>\n",
       "      <td>Pat Roberts</td>\n",
       "      <td>https://efdsearch.senate.gov/search/view/ptr/f...</td>\n",
       "      <td>01/05/2015</td>\n",
       "      <td>8758</td>\n",
       "      <td>133</td>\n",
       "      <td>23.900003</td>\n",
       "    </tr>\n",
       "    <tr>\n",
       "      <th>8762</th>\n",
       "      <td>2014-12-11</td>\n",
       "      <td>Spouse</td>\n",
       "      <td>MIK</td>\n",
       "      <td>The Michaels Companies, Inc. (NASDAQ)</td>\n",
       "      <td>Stock</td>\n",
       "      <td>Purchase</td>\n",
       "      <td>$1,001 - $15,000</td>\n",
       "      <td>R</td>\n",
       "      <td>Pat Roberts</td>\n",
       "      <td>https://efdsearch.senate.gov/search/view/ptr/f...</td>\n",
       "      <td>01/05/2015</td>\n",
       "      <td>8760</td>\n",
       "      <td>133</td>\n",
       "      <td>22.137520</td>\n",
       "    </tr>\n",
       "  </tbody>\n",
       "</table>\n",
       "</div>"
      ],
      "text/plain": [
       "     transaction_date   owner ticker  \\\n",
       "8751       2014-12-10  Spouse  MDDVX   \n",
       "8752       2015-12-11  Spouse  DVFAX   \n",
       "8753       2014-12-11  Spouse  DVFAX   \n",
       "8760       2014-12-19  Spouse     BA   \n",
       "8762       2014-12-11  Spouse    MIK   \n",
       "\n",
       "                             asset_description asset_type      type  \\\n",
       "8751  BlackRock Equity Dividend Inv A (NASDAQ)      Stock  Purchase   \n",
       "8752  Cohen & Steers Dividend Value A (NASDAQ)      Stock  Purchase   \n",
       "8753  Cohen & Steers Dividend Value A (NASDAQ)      Stock  Purchase   \n",
       "8760                 The Boeing Company (NYSE)      Stock  Purchase   \n",
       "8762     The Michaels Companies, Inc. (NASDAQ)      Stock  Purchase   \n",
       "\n",
       "                amount comment          senator  \\\n",
       "8751  $1,001 - $15,000      --  Susan M Collins   \n",
       "8752  $1,001 - $15,000      --  Susan M Collins   \n",
       "8753  $1,001 - $15,000      --  Susan M Collins   \n",
       "8760  $1,001 - $15,000       R      Pat Roberts   \n",
       "8762  $1,001 - $15,000       R      Pat Roberts   \n",
       "\n",
       "                                               ptr_link disclosure_date    id  \\\n",
       "8751  https://efdsearch.senate.gov/search/view/ptr/d...      01/09/2015  8749   \n",
       "8752  https://efdsearch.senate.gov/search/view/ptr/d...      01/09/2015  8750   \n",
       "8753  https://efdsearch.senate.gov/search/view/ptr/d...      01/09/2015  8751   \n",
       "8760  https://efdsearch.senate.gov/search/view/ptr/f...      01/05/2015  8758   \n",
       "8762  https://efdsearch.senate.gov/search/view/ptr/f...      01/05/2015  8760   \n",
       "\n",
       "      senatorId      alpha  \n",
       "8751        106   0.329482  \n",
       "8752        106   0.427035  \n",
       "8753        106   0.338179  \n",
       "8760        133  23.900003  \n",
       "8762        133  22.137520  "
      ]
     },
     "execution_count": 374,
     "metadata": {},
     "output_type": "execute_result"
    }
   ],
   "source": [
    "purchases.tail()"
   ]
  },
  {
   "cell_type": "code",
   "execution_count": 400,
   "metadata": {},
   "outputs": [
    {
     "name": "stdout",
     "output_type": "stream",
     "text": [
      "fullDates 0\n"
     ]
    }
   ],
   "source": [
    "\n",
    "\n",
    "\n",
    "def findFullDates(frame):\n",
    "    frame['deleteMe'] = frame['transaction_date'].astype(str)\n",
    "    fullDates = frame[frame['deleteMe'].str.len() > 10].shape[0]\n",
    "    print('fullDates', fullDates)\n",
    "\n",
    "    frame.drop('deleteMe', axis=1, inplace=True)\n",
    "\n",
    "findFullDates(purchases)\n"
   ]
  },
  {
   "cell_type": "code",
   "execution_count": 401,
   "metadata": {},
   "outputs": [
    {
     "name": "stdout",
     "output_type": "stream",
     "text": [
      "fullDates 0\n"
     ]
    }
   ],
   "source": [
    "\n",
    "findFullDates(transactions)\n",
    "\n"
   ]
  },
  {
   "cell_type": "code",
   "execution_count": null,
   "metadata": {},
   "outputs": [],
   "source": [
    "transactions.head()"
   ]
  },
  {
   "cell_type": "code",
   "execution_count": 393,
   "metadata": {},
   "outputs": [
    {
     "data": {
      "text/html": [
       "<div>\n",
       "<style scoped>\n",
       "    .dataframe tbody tr th:only-of-type {\n",
       "        vertical-align: middle;\n",
       "    }\n",
       "\n",
       "    .dataframe tbody tr th {\n",
       "        vertical-align: top;\n",
       "    }\n",
       "\n",
       "    .dataframe thead th {\n",
       "        text-align: right;\n",
       "    }\n",
       "</style>\n",
       "<table border=\"1\" class=\"dataframe\">\n",
       "  <thead>\n",
       "    <tr style=\"text-align: right;\">\n",
       "      <th></th>\n",
       "      <th>transaction_date</th>\n",
       "      <th>owner</th>\n",
       "      <th>ticker</th>\n",
       "      <th>asset_description</th>\n",
       "      <th>asset_type</th>\n",
       "      <th>type</th>\n",
       "      <th>amount</th>\n",
       "      <th>comment</th>\n",
       "      <th>senator</th>\n",
       "      <th>ptr_link</th>\n",
       "      <th>disclosure_date</th>\n",
       "      <th>id</th>\n",
       "      <th>senatorId</th>\n",
       "      <th>alpha</th>\n",
       "    </tr>\n",
       "  </thead>\n",
       "  <tbody>\n",
       "    <tr>\n",
       "      <th>0</th>\n",
       "      <td>2022-10-28</td>\n",
       "      <td>Joint</td>\n",
       "      <td>MSFT</td>\n",
       "      <td>Microsoft Corporation - Common Stock Option Ty...</td>\n",
       "      <td>Stock Option</td>\n",
       "      <td>Sale (Full)</td>\n",
       "      <td>$1,001 - $15,000</td>\n",
       "      <td>--</td>\n",
       "      <td>Thomas H Tuberville</td>\n",
       "      <td>https://efdsearch.senate.gov/search/view/ptr/b...</td>\n",
       "      <td>2022-11-10</td>\n",
       "      <td>0</td>\n",
       "      <td>100</td>\n",
       "      <td>NaN</td>\n",
       "    </tr>\n",
       "    <tr>\n",
       "      <th>2</th>\n",
       "      <td>2022-10-28</td>\n",
       "      <td>Joint</td>\n",
       "      <td>MSFT</td>\n",
       "      <td>Microsoft Corporation - Common Stock Option Ty...</td>\n",
       "      <td>Stock Option</td>\n",
       "      <td>Sale (Full)</td>\n",
       "      <td>$1,001 - $15,000</td>\n",
       "      <td>--</td>\n",
       "      <td>Thomas H Tuberville</td>\n",
       "      <td>https://efdsearch.senate.gov/search/view/ptr/b...</td>\n",
       "      <td>2022-11-10</td>\n",
       "      <td>2</td>\n",
       "      <td>100</td>\n",
       "      <td>NaN</td>\n",
       "    </tr>\n",
       "    <tr>\n",
       "      <th>3</th>\n",
       "      <td>2022-10-28</td>\n",
       "      <td>Joint</td>\n",
       "      <td>MSFT</td>\n",
       "      <td>Microsoft Corporation - Common Stock Option Ty...</td>\n",
       "      <td>Stock Option</td>\n",
       "      <td>Sale (Full)</td>\n",
       "      <td>$1,001 - $15,000</td>\n",
       "      <td>--</td>\n",
       "      <td>Thomas H Tuberville</td>\n",
       "      <td>https://efdsearch.senate.gov/search/view/ptr/b...</td>\n",
       "      <td>2022-11-10</td>\n",
       "      <td>3</td>\n",
       "      <td>100</td>\n",
       "      <td>NaN</td>\n",
       "    </tr>\n",
       "    <tr>\n",
       "      <th>8</th>\n",
       "      <td>2022-10-06</td>\n",
       "      <td>Joint</td>\n",
       "      <td>XOM</td>\n",
       "      <td>Exxon Mobil Corporation Common Stock Option Ty...</td>\n",
       "      <td>Stock Option</td>\n",
       "      <td>Sale (Full)</td>\n",
       "      <td>$15,001 - $50,000</td>\n",
       "      <td>--</td>\n",
       "      <td>Thomas H Tuberville</td>\n",
       "      <td>https://efdsearch.senate.gov/search/view/ptr/b...</td>\n",
       "      <td>2022-11-10</td>\n",
       "      <td>8</td>\n",
       "      <td>100</td>\n",
       "      <td>NaN</td>\n",
       "    </tr>\n",
       "    <tr>\n",
       "      <th>9</th>\n",
       "      <td>2022-10-06</td>\n",
       "      <td>Joint</td>\n",
       "      <td>CVX</td>\n",
       "      <td>Chevron Corporation Common Stock Option Type: ...</td>\n",
       "      <td>Stock Option</td>\n",
       "      <td>Sale (Full)</td>\n",
       "      <td>$15,001 - $50,000</td>\n",
       "      <td>--</td>\n",
       "      <td>Thomas H Tuberville</td>\n",
       "      <td>https://efdsearch.senate.gov/search/view/ptr/b...</td>\n",
       "      <td>2022-11-10</td>\n",
       "      <td>9</td>\n",
       "      <td>100</td>\n",
       "      <td>NaN</td>\n",
       "    </tr>\n",
       "  </tbody>\n",
       "</table>\n",
       "</div>"
      ],
      "text/plain": [
       "  transaction_date  owner ticker  \\\n",
       "0       2022-10-28  Joint   MSFT   \n",
       "2       2022-10-28  Joint   MSFT   \n",
       "3       2022-10-28  Joint   MSFT   \n",
       "8       2022-10-06  Joint    XOM   \n",
       "9       2022-10-06  Joint    CVX   \n",
       "\n",
       "                                   asset_description    asset_type  \\\n",
       "0  Microsoft Corporation - Common Stock Option Ty...  Stock Option   \n",
       "2  Microsoft Corporation - Common Stock Option Ty...  Stock Option   \n",
       "3  Microsoft Corporation - Common Stock Option Ty...  Stock Option   \n",
       "8  Exxon Mobil Corporation Common Stock Option Ty...  Stock Option   \n",
       "9  Chevron Corporation Common Stock Option Type: ...  Stock Option   \n",
       "\n",
       "          type             amount comment              senator  \\\n",
       "0  Sale (Full)   $1,001 - $15,000      --  Thomas H Tuberville   \n",
       "2  Sale (Full)   $1,001 - $15,000      --  Thomas H Tuberville   \n",
       "3  Sale (Full)   $1,001 - $15,000      --  Thomas H Tuberville   \n",
       "8  Sale (Full)  $15,001 - $50,000      --  Thomas H Tuberville   \n",
       "9  Sale (Full)  $15,001 - $50,000      --  Thomas H Tuberville   \n",
       "\n",
       "                                            ptr_link disclosure_date  id  \\\n",
       "0  https://efdsearch.senate.gov/search/view/ptr/b...      2022-11-10   0   \n",
       "2  https://efdsearch.senate.gov/search/view/ptr/b...      2022-11-10   2   \n",
       "3  https://efdsearch.senate.gov/search/view/ptr/b...      2022-11-10   3   \n",
       "8  https://efdsearch.senate.gov/search/view/ptr/b...      2022-11-10   8   \n",
       "9  https://efdsearch.senate.gov/search/view/ptr/b...      2022-11-10   9   \n",
       "\n",
       "   senatorId  alpha  \n",
       "0        100    NaN  \n",
       "2        100    NaN  \n",
       "3        100    NaN  \n",
       "8        100    NaN  \n",
       "9        100    NaN  "
      ]
     },
     "execution_count": 393,
     "metadata": {},
     "output_type": "execute_result"
    }
   ],
   "source": [
    "t = transactions[transactions['type']!= 'Purchase']\n",
    "t['alpha'] = np.nan\n",
    "t.head()"
   ]
  },
  {
   "cell_type": "code",
   "execution_count": 394,
   "metadata": {},
   "outputs": [
    {
     "data": {
      "text/plain": [
       "Sale (Full)       2525\n",
       "Sale (Partial)    1879\n",
       "Unknown            467\n",
       "Exchange           102\n",
       "Name: type, dtype: int64"
      ]
     },
     "execution_count": 394,
     "metadata": {},
     "output_type": "execute_result"
    }
   ],
   "source": [
    "t.type.value_counts()"
   ]
  },
  {
   "cell_type": "code",
   "execution_count": 397,
   "metadata": {},
   "outputs": [
    {
     "name": "stdout",
     "output_type": "stream",
     "text": [
      "t Length 4973\n",
      "purchases Length 3420\n"
     ]
    }
   ],
   "source": [
    "print('t Length', t.shape[0])\n",
    "print('purchases Length', purchases.shape[0])"
   ]
  },
  {
   "cell_type": "code",
   "execution_count": 398,
   "metadata": {},
   "outputs": [
    {
     "data": {
      "text/plain": [
       "(8393, 14)"
      ]
     },
     "execution_count": 398,
     "metadata": {},
     "output_type": "execute_result"
    }
   ],
   "source": [
    "transactions_new = pd.concat([t, purchases])\n",
    "transactions_new.shape\n"
   ]
  },
  {
   "cell_type": "code",
   "execution_count": 402,
   "metadata": {},
   "outputs": [
    {
     "name": "stdout",
     "output_type": "stream",
     "text": [
      "fullDates 3420\n"
     ]
    }
   ],
   "source": [
    "\n",
    "findFullDates(transactions_new)"
   ]
  },
  {
   "cell_type": "markdown",
   "metadata": {},
   "source": [
    "looks like its interpreting teh date as a date when i concat"
   ]
  },
  {
   "cell_type": "code",
   "execution_count": null,
   "metadata": {},
   "outputs": [],
   "source": [
    "transactions_new.tail()"
   ]
  },
  {
   "cell_type": "code",
   "execution_count": 415,
   "metadata": {},
   "outputs": [
    {
     "data": {
      "text/plain": [
       "Timestamp('2014-12-10 00:00:00')"
      ]
     },
     "execution_count": 415,
     "metadata": {},
     "output_type": "execute_result"
    }
   ],
   "source": [
    "timeTestEnd = transactions_new.tail()['transaction_date'].values[0]\n",
    "timeTestEnd"
   ]
  },
  {
   "cell_type": "code",
   "execution_count": 417,
   "metadata": {},
   "outputs": [
    {
     "data": {
      "text/plain": [
       "'2022-10-28'"
      ]
     },
     "execution_count": 417,
     "metadata": {},
     "output_type": "execute_result"
    }
   ],
   "source": [
    "timeTestStart = transactions_new['transaction_date'][0]\n",
    "timeTestStart"
   ]
  },
  {
   "cell_type": "code",
   "execution_count": 419,
   "metadata": {},
   "outputs": [
    {
     "name": "stdout",
     "output_type": "stream",
     "text": [
      "['2022-10-28']\n",
      "['2014-12-10', '00:00:00']\n"
     ]
    }
   ],
   "source": [
    "for test in [timeTestStart, timeTestEnd]:\n",
    "    test = str(test)\n",
    "    print(test.split(\" \"))"
   ]
  },
  {
   "cell_type": "code",
   "execution_count": 420,
   "metadata": {},
   "outputs": [
    {
     "data": {
      "text/html": [
       "<div>\n",
       "<style scoped>\n",
       "    .dataframe tbody tr th:only-of-type {\n",
       "        vertical-align: middle;\n",
       "    }\n",
       "\n",
       "    .dataframe tbody tr th {\n",
       "        vertical-align: top;\n",
       "    }\n",
       "\n",
       "    .dataframe thead th {\n",
       "        text-align: right;\n",
       "    }\n",
       "</style>\n",
       "<table border=\"1\" class=\"dataframe\">\n",
       "  <thead>\n",
       "    <tr style=\"text-align: right;\">\n",
       "      <th></th>\n",
       "      <th>transaction_date</th>\n",
       "      <th>owner</th>\n",
       "      <th>ticker</th>\n",
       "      <th>asset_description</th>\n",
       "      <th>asset_type</th>\n",
       "      <th>type</th>\n",
       "      <th>amount</th>\n",
       "      <th>comment</th>\n",
       "      <th>senator</th>\n",
       "      <th>ptr_link</th>\n",
       "      <th>disclosure_date</th>\n",
       "      <th>id</th>\n",
       "      <th>senatorId</th>\n",
       "      <th>alpha</th>\n",
       "    </tr>\n",
       "  </thead>\n",
       "  <tbody>\n",
       "    <tr>\n",
       "      <th>8751</th>\n",
       "      <td>2014-12-10</td>\n",
       "      <td>Spouse</td>\n",
       "      <td>MDDVX</td>\n",
       "      <td>BlackRock Equity Dividend Inv A (NASDAQ)</td>\n",
       "      <td>Stock</td>\n",
       "      <td>Purchase</td>\n",
       "      <td>$1,001 - $15,000</td>\n",
       "      <td>--</td>\n",
       "      <td>Susan M Collins</td>\n",
       "      <td>https://efdsearch.senate.gov/search/view/ptr/d...</td>\n",
       "      <td>01/09/2015</td>\n",
       "      <td>8749</td>\n",
       "      <td>106</td>\n",
       "      <td>0.329482</td>\n",
       "    </tr>\n",
       "    <tr>\n",
       "      <th>8752</th>\n",
       "      <td>2015-12-11</td>\n",
       "      <td>Spouse</td>\n",
       "      <td>DVFAX</td>\n",
       "      <td>Cohen &amp; Steers Dividend Value A (NASDAQ)</td>\n",
       "      <td>Stock</td>\n",
       "      <td>Purchase</td>\n",
       "      <td>$1,001 - $15,000</td>\n",
       "      <td>--</td>\n",
       "      <td>Susan M Collins</td>\n",
       "      <td>https://efdsearch.senate.gov/search/view/ptr/d...</td>\n",
       "      <td>01/09/2015</td>\n",
       "      <td>8750</td>\n",
       "      <td>106</td>\n",
       "      <td>0.427035</td>\n",
       "    </tr>\n",
       "    <tr>\n",
       "      <th>8753</th>\n",
       "      <td>2014-12-11</td>\n",
       "      <td>Spouse</td>\n",
       "      <td>DVFAX</td>\n",
       "      <td>Cohen &amp; Steers Dividend Value A (NASDAQ)</td>\n",
       "      <td>Stock</td>\n",
       "      <td>Purchase</td>\n",
       "      <td>$1,001 - $15,000</td>\n",
       "      <td>--</td>\n",
       "      <td>Susan M Collins</td>\n",
       "      <td>https://efdsearch.senate.gov/search/view/ptr/d...</td>\n",
       "      <td>01/09/2015</td>\n",
       "      <td>8751</td>\n",
       "      <td>106</td>\n",
       "      <td>0.338179</td>\n",
       "    </tr>\n",
       "    <tr>\n",
       "      <th>8760</th>\n",
       "      <td>2014-12-19</td>\n",
       "      <td>Spouse</td>\n",
       "      <td>BA</td>\n",
       "      <td>The Boeing Company (NYSE)</td>\n",
       "      <td>Stock</td>\n",
       "      <td>Purchase</td>\n",
       "      <td>$1,001 - $15,000</td>\n",
       "      <td>R</td>\n",
       "      <td>Pat Roberts</td>\n",
       "      <td>https://efdsearch.senate.gov/search/view/ptr/f...</td>\n",
       "      <td>01/05/2015</td>\n",
       "      <td>8758</td>\n",
       "      <td>133</td>\n",
       "      <td>23.900003</td>\n",
       "    </tr>\n",
       "    <tr>\n",
       "      <th>8762</th>\n",
       "      <td>2014-12-11</td>\n",
       "      <td>Spouse</td>\n",
       "      <td>MIK</td>\n",
       "      <td>The Michaels Companies, Inc. (NASDAQ)</td>\n",
       "      <td>Stock</td>\n",
       "      <td>Purchase</td>\n",
       "      <td>$1,001 - $15,000</td>\n",
       "      <td>R</td>\n",
       "      <td>Pat Roberts</td>\n",
       "      <td>https://efdsearch.senate.gov/search/view/ptr/f...</td>\n",
       "      <td>01/05/2015</td>\n",
       "      <td>8760</td>\n",
       "      <td>133</td>\n",
       "      <td>22.137520</td>\n",
       "    </tr>\n",
       "  </tbody>\n",
       "</table>\n",
       "</div>"
      ],
      "text/plain": [
       "     transaction_date   owner ticker  \\\n",
       "8751       2014-12-10  Spouse  MDDVX   \n",
       "8752       2015-12-11  Spouse  DVFAX   \n",
       "8753       2014-12-11  Spouse  DVFAX   \n",
       "8760       2014-12-19  Spouse     BA   \n",
       "8762       2014-12-11  Spouse    MIK   \n",
       "\n",
       "                             asset_description asset_type      type  \\\n",
       "8751  BlackRock Equity Dividend Inv A (NASDAQ)      Stock  Purchase   \n",
       "8752  Cohen & Steers Dividend Value A (NASDAQ)      Stock  Purchase   \n",
       "8753  Cohen & Steers Dividend Value A (NASDAQ)      Stock  Purchase   \n",
       "8760                 The Boeing Company (NYSE)      Stock  Purchase   \n",
       "8762     The Michaels Companies, Inc. (NASDAQ)      Stock  Purchase   \n",
       "\n",
       "                amount comment          senator  \\\n",
       "8751  $1,001 - $15,000      --  Susan M Collins   \n",
       "8752  $1,001 - $15,000      --  Susan M Collins   \n",
       "8753  $1,001 - $15,000      --  Susan M Collins   \n",
       "8760  $1,001 - $15,000       R      Pat Roberts   \n",
       "8762  $1,001 - $15,000       R      Pat Roberts   \n",
       "\n",
       "                                               ptr_link disclosure_date    id  \\\n",
       "8751  https://efdsearch.senate.gov/search/view/ptr/d...      01/09/2015  8749   \n",
       "8752  https://efdsearch.senate.gov/search/view/ptr/d...      01/09/2015  8750   \n",
       "8753  https://efdsearch.senate.gov/search/view/ptr/d...      01/09/2015  8751   \n",
       "8760  https://efdsearch.senate.gov/search/view/ptr/f...      01/05/2015  8758   \n",
       "8762  https://efdsearch.senate.gov/search/view/ptr/f...      01/05/2015  8760   \n",
       "\n",
       "      senatorId      alpha  \n",
       "8751        106   0.329482  \n",
       "8752        106   0.427035  \n",
       "8753        106   0.338179  \n",
       "8760        133  23.900003  \n",
       "8762        133  22.137520  "
      ]
     },
     "execution_count": 420,
     "metadata": {},
     "output_type": "execute_result"
    }
   ],
   "source": [
    "def extractDateFromTimestamp(row):\n",
    "    return str(row).split(\" \")[0]\n",
    "\n",
    "transactions_new['transaction_date'] = transactions_new['transaction_date'].apply(lambda row: extractDateFromTimestamp(row))\n",
    "transactions_new.tail()"
   ]
  },
  {
   "cell_type": "code",
   "execution_count": 371,
   "metadata": {},
   "outputs": [
    {
     "data": {
      "text/plain": [
       "Sale (Full)       2525\n",
       "Sale (Partial)    1879\n",
       "Unknown            467\n",
       "Exchange           102\n",
       "Name: type, dtype: int64"
      ]
     },
     "execution_count": 371,
     "metadata": {},
     "output_type": "execute_result"
    }
   ],
   "source": [
    "transactions_new[transactions_new['alpha'].isnull()].type.value_counts()"
   ]
  },
  {
   "cell_type": "code",
   "execution_count": 372,
   "metadata": {},
   "outputs": [
    {
     "data": {
      "text/plain": [
       "-9999.000000    587\n",
       " 23.187226        8\n",
       " 3.859860         8\n",
       " 16.923277        8\n",
       " 6.241248         6\n",
       "               ... \n",
       " 19.243351        1\n",
       " 6.069588         1\n",
       "-1.076865         1\n",
       " 9.288799         1\n",
       " 22.137520        1\n",
       "Name: alpha, Length: 2274, dtype: int64"
      ]
     },
     "execution_count": 372,
     "metadata": {},
     "output_type": "execute_result"
    }
   ],
   "source": [
    "transactions_new.alpha.value_counts()"
   ]
  },
  {
   "cell_type": "code",
   "execution_count": 432,
   "metadata": {},
   "outputs": [
    {
     "data": {
      "text/plain": [
       "(1, 587)"
      ]
     },
     "execution_count": 432,
     "metadata": {},
     "output_type": "execute_result"
    }
   ],
   "source": [
    "\n",
    "transactions_new['alpha'].replace({-9999:\"Ticker Not Found\"}, inplace=True)\n",
    "numAlpha =  transactions_new[transactions_new['alpha'].notnull()]\n",
    "\n",
    "numAlpha.alpha.value_counts().values.min(), numAlpha.alpha.value_counts().values.max()\n"
   ]
  },
  {
   "cell_type": "code",
   "execution_count": null,
   "metadata": {},
   "outputs": [],
   "source": [
    "\n"
   ]
  },
  {
   "cell_type": "code",
   "execution_count": null,
   "metadata": {},
   "outputs": [],
   "source": [
    "# transactions_new.to_csv(\"./CSV Files/transactions_new.csv\")"
   ]
  },
  {
   "cell_type": "code",
   "execution_count": 434,
   "metadata": {},
   "outputs": [
    {
     "name": "stdout",
     "output_type": "stream",
     "text": [
      "('2022-10-28', 'Joint', 'MSFT', 'Microsoft Corporation - Common Stock Option Type: Short Sale Strike price: $245.00  Expires: 06/16/2023 ', 'Stock Option', 'Sale (Full)', '$1,001 - $15,000', '--', 'Thomas H Tuberville', 'https://efdsearch.senate.gov/search/view/ptr/bdd81552-894d-4dc5-b1f3-9fe349529bf8/', '2022-11-10', 0, 100, None)\n",
      "('2022-10-28', 'Joint', 'MSFT', 'Microsoft Corporation - Common Stock Option Type: Short Sale Strike price: $245.00  Expires: 06/16/2023 ', 'Stock Option', 'Sale (Full)', '$1,001 - $15,000', '--', 'Thomas H Tuberville', 'https://efdsearch.senate.gov/search/view/ptr/bdd81552-894d-4dc5-b1f3-9fe349529bf8/', '2022-11-10', 2, 100, None)\n",
      "('2022-10-28', 'Joint', 'MSFT', 'Microsoft Corporation - Common Stock Option Type: Short Sale Strike price: $245.00  Expires: 06/16/2023 ', 'Stock Option', 'Sale (Full)', '$1,001 - $15,000', '--', 'Thomas H Tuberville', 'https://efdsearch.senate.gov/search/view/ptr/bdd81552-894d-4dc5-b1f3-9fe349529bf8/', '2022-11-10', 3, 100, None)\n",
      "('2022-10-06', 'Joint', 'XOM', 'Exxon Mobil Corporation Common Stock Option Type: Short Sale Strike price: $100.00  Expires: 06/16/2023 ', 'Stock Option', 'Sale (Full)', '$15,001 - $50,000', '--', 'Thomas H Tuberville', 'https://efdsearch.senate.gov/search/view/ptr/bdd81552-894d-4dc5-b1f3-9fe349529bf8/', '2022-11-10', 8, 100, None)\n",
      "('2022-10-06', 'Joint', 'CVX', 'Chevron Corporation Common Stock Option Type: Short Sale Strike price: $155.00  Expires: 06/16/2023 ', 'Stock Option', 'Sale (Full)', '$15,001 - $50,000', '--', 'Thomas H Tuberville', 'https://efdsearch.senate.gov/search/view/ptr/bdd81552-894d-4dc5-b1f3-9fe349529bf8/', '2022-11-10', 9, 100, None)\n"
     ]
    }
   ],
   "source": [
    "\n",
    "import psycopg2 \n",
    "\n",
    "conn=None\n",
    "cur=None \n",
    "db = None\n",
    "\n",
    "def postDataFrameDB():\n",
    "    try:\n",
    "        conn_string = f\"postgresql://{username}:{pwd}@{host}:{port_id}/{database}\"\n",
    "        db =  create_engine(url=conn_string)\n",
    "        conn=db.connect()\n",
    "\n",
    "        transactions_new.to_sql('transactions', con=conn, if_exists='replace', index=False)\n",
    "\n",
    "        connPsy = psycopg2.connect(conn_string)\n",
    "        cur = connPsy.cursor()\n",
    "        connPsy.autocommit = True\n",
    "\n",
    "        sqlString = \"\"\"\n",
    "        select * from transactions limit 5;\n",
    "        \"\"\"\n",
    "        cur.execute(sqlString)\n",
    "\n",
    "        records = cur.fetchall()\n",
    "        for row in records:\n",
    "            print(row)\n",
    "\n",
    "    except Exception as err:\n",
    "        print(err)\n",
    "    finally: \n",
    "        if cur is not None: \n",
    "            cur.close()\n",
    "        if conn is not None: \n",
    "            conn.close()\n",
    "    \n",
    "postDataFrameDB()\n"
   ]
  },
  {
   "cell_type": "code",
   "execution_count": null,
   "metadata": {},
   "outputs": [],
   "source": []
  }
 ],
 "metadata": {
  "kernelspec": {
   "display_name": "Python 3.10.8 64-bit",
   "language": "python",
   "name": "python3"
  },
  "language_info": {
   "codemirror_mode": {
    "name": "ipython",
    "version": 3
   },
   "file_extension": ".py",
   "mimetype": "text/x-python",
   "name": "python",
   "nbconvert_exporter": "python",
   "pygments_lexer": "ipython3",
   "version": "3.10.8"
  },
  "orig_nbformat": 4,
  "vscode": {
   "interpreter": {
    "hash": "aee8b7b246df8f9039afb4144a1f6fd8d2ca17a180786b69acc140d282b71a49"
   }
  }
 },
 "nbformat": 4,
 "nbformat_minor": 2
}
