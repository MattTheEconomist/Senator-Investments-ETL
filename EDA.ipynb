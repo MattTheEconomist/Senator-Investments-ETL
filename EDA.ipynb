{
 "cells": [
  {
   "cell_type": "code",
   "execution_count": 230,
   "metadata": {},
   "outputs": [],
   "source": [
    "import pandas as pd\n",
    "import numpy as np\n",
    "\n",
    "from sqlalchemy import create_engine\n",
    "from dotenv import load_dotenv\n",
    "import os\n",
    "\n",
    "\n",
    "load_dotenv()\n",
    "\n",
    "\n",
    "hostname=os.getenv(\"hostname\")\n",
    "database=os.getenv(\"database\")\n",
    "username=os.getenv(\"username\")\n",
    "pwd=os.getenv(\"pwd\")\n",
    "port_id=os.getenv(\"port_id\")\n",
    "host = os.getenv(\"host\")\n",
    "\n"
   ]
  },
  {
   "cell_type": "code",
   "execution_count": 231,
   "metadata": {},
   "outputs": [],
   "source": [
    "conn_string = f\"postgresql://{username}:{pwd}@{host}:{port_id}/{database}\"\n",
    "db =  create_engine(url=conn_string)"
   ]
  },
  {
   "cell_type": "code",
   "execution_count": 232,
   "metadata": {},
   "outputs": [
    {
     "data": {
      "text/html": [
       "<div>\n",
       "<style scoped>\n",
       "    .dataframe tbody tr th:only-of-type {\n",
       "        vertical-align: middle;\n",
       "    }\n",
       "\n",
       "    .dataframe tbody tr th {\n",
       "        vertical-align: top;\n",
       "    }\n",
       "\n",
       "    .dataframe thead th {\n",
       "        text-align: right;\n",
       "    }\n",
       "</style>\n",
       "<table border=\"1\" class=\"dataframe\">\n",
       "  <thead>\n",
       "    <tr style=\"text-align: right;\">\n",
       "      <th></th>\n",
       "      <th>row</th>\n",
       "      <th>senator</th>\n",
       "      <th>senatorId</th>\n",
       "      <th>party</th>\n",
       "    </tr>\n",
       "  </thead>\n",
       "  <tbody>\n",
       "    <tr>\n",
       "      <th>0</th>\n",
       "      <td>1</td>\n",
       "      <td>Thomas H Tuberville</td>\n",
       "      <td>100</td>\n",
       "      <td>Republican</td>\n",
       "    </tr>\n",
       "    <tr>\n",
       "      <th>1</th>\n",
       "      <td>2</td>\n",
       "      <td>Thomas R Carper</td>\n",
       "      <td>101</td>\n",
       "      <td>Democratic</td>\n",
       "    </tr>\n",
       "    <tr>\n",
       "      <th>2</th>\n",
       "      <td>3</td>\n",
       "      <td>Daniel S Sullivan</td>\n",
       "      <td>102</td>\n",
       "      <td>Republican</td>\n",
       "    </tr>\n",
       "    <tr>\n",
       "      <th>3</th>\n",
       "      <td>4</td>\n",
       "      <td>Rick Scott</td>\n",
       "      <td>103</td>\n",
       "      <td>Republican</td>\n",
       "    </tr>\n",
       "    <tr>\n",
       "      <th>4</th>\n",
       "      <td>5</td>\n",
       "      <td>John Boozman</td>\n",
       "      <td>104</td>\n",
       "      <td>Republican</td>\n",
       "    </tr>\n",
       "  </tbody>\n",
       "</table>\n",
       "</div>"
      ],
      "text/plain": [
       "   row              senator  senatorId       party\n",
       "0    1  Thomas H Tuberville        100  Republican\n",
       "1    2      Thomas R Carper        101  Democratic\n",
       "2    3    Daniel S Sullivan        102  Republican\n",
       "3    4           Rick Scott        103  Republican\n",
       "4    5         John Boozman        104  Republican"
      ]
     },
     "execution_count": 232,
     "metadata": {},
     "output_type": "execute_result"
    }
   ],
   "source": [
    "transactions = pd.read_sql(\"SELECT * FROM transactions\", db)\n",
    "historicalPricesAG = pd.read_sql('SELECT * FROM \"historical_pricesA_G\" ', db)\n",
    "historicalPricesHR = pd.read_sql('SELECT * FROM \"historical_pricesH_R\" ', db)\n",
    "historicalPricesSZ = pd.read_sql('SELECT * FROM \"historical_pricesS_Z\" ', db)\n",
    "senators = pd.read_sql(\"SELECT * FROM senator_info\", db)\n",
    "\n",
    "senators.head()"
   ]
  },
  {
   "cell_type": "code",
   "execution_count": 233,
   "metadata": {},
   "outputs": [
    {
     "data": {
      "text/plain": [
       "0    100\n",
       "Name: senatorId, dtype: int64"
      ]
     },
     "execution_count": 233,
     "metadata": {},
     "output_type": "execute_result"
    }
   ],
   "source": [
    "def lookupIdByName(nameString):\n",
    "    nameMatch = senators[senators['senator'].str.contains(nameString)]\n",
    "\n",
    "    if len(nameMatch)>1:\n",
    "        return nameMatch\n",
    "    else: \n",
    "        return nameMatch['senatorId']\n",
    "\n",
    "\n",
    "lookupIdByName(\"Tuber\")"
   ]
  },
  {
   "cell_type": "code",
   "execution_count": 234,
   "metadata": {},
   "outputs": [
    {
     "data": {
      "text/plain": [
       "--      88\n",
       "ECOM    30\n",
       "CLF     28\n",
       "X       26\n",
       "PYPL    24\n",
       "OXY     20\n",
       "INTC    19\n",
       "MSFT    15\n",
       "SSYS    15\n",
       "BABA    14\n",
       "AA      14\n",
       "CALX    10\n",
       "QCOM     9\n",
       "F        8\n",
       "NU       6\n",
       "Name: ticker, dtype: int64"
      ]
     },
     "execution_count": 234,
     "metadata": {},
     "output_type": "execute_result"
    }
   ],
   "source": [
    "tub  = transactions[transactions['senatorId']==100]\n",
    "tub.ticker.value_counts().head(15)\n"
   ]
  },
  {
   "cell_type": "code",
   "execution_count": 235,
   "metadata": {},
   "outputs": [
    {
     "data": {
      "text/html": [
       "<div>\n",
       "<style scoped>\n",
       "    .dataframe tbody tr th:only-of-type {\n",
       "        vertical-align: middle;\n",
       "    }\n",
       "\n",
       "    .dataframe tbody tr th {\n",
       "        vertical-align: top;\n",
       "    }\n",
       "\n",
       "    .dataframe thead th {\n",
       "        text-align: right;\n",
       "    }\n",
       "</style>\n",
       "<table border=\"1\" class=\"dataframe\">\n",
       "  <thead>\n",
       "    <tr style=\"text-align: right;\">\n",
       "      <th></th>\n",
       "      <th>transaction_date</th>\n",
       "      <th>owner</th>\n",
       "      <th>ticker</th>\n",
       "      <th>asset_description</th>\n",
       "      <th>asset_type</th>\n",
       "      <th>type</th>\n",
       "      <th>amount</th>\n",
       "      <th>comment</th>\n",
       "      <th>senator</th>\n",
       "      <th>ptr_link</th>\n",
       "      <th>disclosure_date</th>\n",
       "      <th>id</th>\n",
       "      <th>senatorId</th>\n",
       "    </tr>\n",
       "  </thead>\n",
       "  <tbody>\n",
       "    <tr>\n",
       "      <th>261</th>\n",
       "      <td>06/16/2022</td>\n",
       "      <td>Joint</td>\n",
       "      <td>QCOM</td>\n",
       "      <td>QUALCOMM Incorporated - Common Stock</td>\n",
       "      <td>Stock</td>\n",
       "      <td>Purchase</td>\n",
       "      <td>$250,001 - $500,000</td>\n",
       "      <td>--</td>\n",
       "      <td>Thomas H Tuberville</td>\n",
       "      <td>https://efdsearch.senate.gov/search/view/ptr/3...</td>\n",
       "      <td>07/13/2022</td>\n",
       "      <td>261</td>\n",
       "      <td>100</td>\n",
       "    </tr>\n",
       "    <tr>\n",
       "      <th>1007</th>\n",
       "      <td>03/29/2021</td>\n",
       "      <td>Joint</td>\n",
       "      <td>QCOM</td>\n",
       "      <td>QUALCOMM Incorporated</td>\n",
       "      <td>Stock</td>\n",
       "      <td>Purchase</td>\n",
       "      <td>$1,001 - $15,000</td>\n",
       "      <td>--</td>\n",
       "      <td>Thomas H Tuberville</td>\n",
       "      <td>https://efdsearch.senate.gov/search/view/ptr/3...</td>\n",
       "      <td>07/23/2021</td>\n",
       "      <td>1002</td>\n",
       "      <td>100</td>\n",
       "    </tr>\n",
       "  </tbody>\n",
       "</table>\n",
       "</div>"
      ],
      "text/plain": [
       "     transaction_date  owner ticker                     asset_description  \\\n",
       "261        06/16/2022  Joint   QCOM  QUALCOMM Incorporated - Common Stock   \n",
       "1007       03/29/2021  Joint   QCOM                 QUALCOMM Incorporated   \n",
       "\n",
       "     asset_type      type               amount comment              senator  \\\n",
       "261       Stock  Purchase  $250,001 - $500,000      --  Thomas H Tuberville   \n",
       "1007      Stock  Purchase     $1,001 - $15,000      --  Thomas H Tuberville   \n",
       "\n",
       "                                               ptr_link disclosure_date    id  \\\n",
       "261   https://efdsearch.senate.gov/search/view/ptr/3...      07/13/2022   261   \n",
       "1007  https://efdsearch.senate.gov/search/view/ptr/3...      07/23/2021  1002   \n",
       "\n",
       "      senatorId  \n",
       "261         100  \n",
       "1007        100  "
      ]
     },
     "execution_count": 235,
     "metadata": {},
     "output_type": "execute_result"
    }
   ],
   "source": [
    "tub[(tub['ticker']=='QCOM') & (tub['type']=='Purchase') \n",
    "& (tub['asset_type']=='Stock')\n",
    "]\n"
   ]
  },
  {
   "cell_type": "code",
   "execution_count": 236,
   "metadata": {},
   "outputs": [
    {
     "data": {
      "text/plain": [
       "'2021-03-29'"
      ]
     },
     "execution_count": 236,
     "metadata": {},
     "output_type": "execute_result"
    }
   ],
   "source": [
    "\n",
    "def reformatDate(transDate):\n",
    "    listDate  = transDate.split(\"/\")\n",
    "    return f\"{listDate[2]}-{listDate[0]}-{listDate[1]}\"\n",
    "\n",
    "reformatDate('03/29/2021')\n"
   ]
  },
  {
   "cell_type": "code",
   "execution_count": 237,
   "metadata": {},
   "outputs": [
    {
     "data": {
      "text/html": [
       "<div>\n",
       "<style scoped>\n",
       "    .dataframe tbody tr th:only-of-type {\n",
       "        vertical-align: middle;\n",
       "    }\n",
       "\n",
       "    .dataframe tbody tr th {\n",
       "        vertical-align: top;\n",
       "    }\n",
       "\n",
       "    .dataframe thead th {\n",
       "        text-align: right;\n",
       "    }\n",
       "</style>\n",
       "<table border=\"1\" class=\"dataframe\">\n",
       "  <thead>\n",
       "    <tr style=\"text-align: right;\">\n",
       "      <th></th>\n",
       "      <th>QCOM</th>\n",
       "      <th>SPY</th>\n",
       "      <th>date</th>\n",
       "    </tr>\n",
       "  </thead>\n",
       "  <tbody>\n",
       "    <tr>\n",
       "      <th>0</th>\n",
       "      <td>NaN</td>\n",
       "      <td>NaN</td>\n",
       "      <td>2022-11-15</td>\n",
       "    </tr>\n",
       "    <tr>\n",
       "      <th>1</th>\n",
       "      <td>121.43</td>\n",
       "      <td>398.51</td>\n",
       "      <td>2022-11-11</td>\n",
       "    </tr>\n",
       "    <tr>\n",
       "      <th>2</th>\n",
       "      <td>106.69</td>\n",
       "      <td>376.35</td>\n",
       "      <td>2022-11-04</td>\n",
       "    </tr>\n",
       "    <tr>\n",
       "      <th>3</th>\n",
       "      <td>119.21</td>\n",
       "      <td>389.02</td>\n",
       "      <td>2022-10-28</td>\n",
       "    </tr>\n",
       "    <tr>\n",
       "      <th>4</th>\n",
       "      <td>115.74</td>\n",
       "      <td>374.29</td>\n",
       "      <td>2022-10-21</td>\n",
       "    </tr>\n",
       "    <tr>\n",
       "      <th>...</th>\n",
       "      <td>...</td>\n",
       "      <td>...</td>\n",
       "      <td>...</td>\n",
       "    </tr>\n",
       "    <tr>\n",
       "      <th>81</th>\n",
       "      <td>138.80</td>\n",
       "      <td>417.30</td>\n",
       "      <td>2021-04-30</td>\n",
       "    </tr>\n",
       "    <tr>\n",
       "      <th>82</th>\n",
       "      <td>135.43</td>\n",
       "      <td>416.74</td>\n",
       "      <td>2021-04-23</td>\n",
       "    </tr>\n",
       "    <tr>\n",
       "      <th>83</th>\n",
       "      <td>138.21</td>\n",
       "      <td>417.26</td>\n",
       "      <td>2021-04-16</td>\n",
       "    </tr>\n",
       "    <tr>\n",
       "      <th>84</th>\n",
       "      <td>140.57</td>\n",
       "      <td>411.49</td>\n",
       "      <td>2021-04-09</td>\n",
       "    </tr>\n",
       "    <tr>\n",
       "      <th>85</th>\n",
       "      <td>137.79</td>\n",
       "      <td>400.61</td>\n",
       "      <td>2021-04-01</td>\n",
       "    </tr>\n",
       "  </tbody>\n",
       "</table>\n",
       "<p>86 rows × 3 columns</p>\n",
       "</div>"
      ],
      "text/plain": [
       "      QCOM     SPY       date\n",
       "0      NaN     NaN 2022-11-15\n",
       "1   121.43  398.51 2022-11-11\n",
       "2   106.69  376.35 2022-11-04\n",
       "3   119.21  389.02 2022-10-28\n",
       "4   115.74  374.29 2022-10-21\n",
       "..     ...     ...        ...\n",
       "81  138.80  417.30 2021-04-30\n",
       "82  135.43  416.74 2021-04-23\n",
       "83  138.21  417.26 2021-04-16\n",
       "84  140.57  411.49 2021-04-09\n",
       "85  137.79  400.61 2021-04-01\n",
       "\n",
       "[86 rows x 3 columns]"
      ]
     },
     "execution_count": 237,
     "metadata": {},
     "output_type": "execute_result"
    }
   ],
   "source": [
    "for frame in [historicalPricesAG, historicalPricesHR, historicalPricesSZ]:\n",
    "    frame['date'] = pd.to_datetime(frame['date'])\n",
    "\n",
    "qc = historicalPricesHR[['QCOM', 'SPY', 'date']]\n",
    "temp = qc[qc['date']>= '2021-03-29']\n",
    "temp\n"
   ]
  },
  {
   "cell_type": "code",
   "execution_count": 238,
   "metadata": {},
   "outputs": [
    {
     "data": {
      "text/html": [
       "<div>\n",
       "<style scoped>\n",
       "    .dataframe tbody tr th:only-of-type {\n",
       "        vertical-align: middle;\n",
       "    }\n",
       "\n",
       "    .dataframe tbody tr th {\n",
       "        vertical-align: top;\n",
       "    }\n",
       "\n",
       "    .dataframe thead th {\n",
       "        text-align: right;\n",
       "    }\n",
       "</style>\n",
       "<table border=\"1\" class=\"dataframe\">\n",
       "  <thead>\n",
       "    <tr style=\"text-align: right;\">\n",
       "      <th></th>\n",
       "      <th>QCOM</th>\n",
       "      <th>SPY</th>\n",
       "      <th>date</th>\n",
       "    </tr>\n",
       "  </thead>\n",
       "  <tbody>\n",
       "    <tr>\n",
       "      <th>85</th>\n",
       "      <td>137.79</td>\n",
       "      <td>400.61</td>\n",
       "      <td>2021-04-01</td>\n",
       "    </tr>\n",
       "    <tr>\n",
       "      <th>84</th>\n",
       "      <td>140.57</td>\n",
       "      <td>411.49</td>\n",
       "      <td>2021-04-09</td>\n",
       "    </tr>\n",
       "    <tr>\n",
       "      <th>83</th>\n",
       "      <td>138.21</td>\n",
       "      <td>417.26</td>\n",
       "      <td>2021-04-16</td>\n",
       "    </tr>\n",
       "    <tr>\n",
       "      <th>82</th>\n",
       "      <td>135.43</td>\n",
       "      <td>416.74</td>\n",
       "      <td>2021-04-23</td>\n",
       "    </tr>\n",
       "    <tr>\n",
       "      <th>81</th>\n",
       "      <td>138.80</td>\n",
       "      <td>417.30</td>\n",
       "      <td>2021-04-30</td>\n",
       "    </tr>\n",
       "    <tr>\n",
       "      <th>80</th>\n",
       "      <td>137.85</td>\n",
       "      <td>422.12</td>\n",
       "      <td>2021-05-07</td>\n",
       "    </tr>\n",
       "    <tr>\n",
       "      <th>79</th>\n",
       "      <td>130.15</td>\n",
       "      <td>416.58</td>\n",
       "      <td>2021-05-14</td>\n",
       "    </tr>\n",
       "    <tr>\n",
       "      <th>78</th>\n",
       "      <td>131.46</td>\n",
       "      <td>414.94</td>\n",
       "      <td>2021-05-21</td>\n",
       "    </tr>\n",
       "    <tr>\n",
       "      <th>77</th>\n",
       "      <td>134.54</td>\n",
       "      <td>420.04</td>\n",
       "      <td>2021-05-28</td>\n",
       "    </tr>\n",
       "    <tr>\n",
       "      <th>76</th>\n",
       "      <td>134.34</td>\n",
       "      <td>422.60</td>\n",
       "      <td>2021-06-04</td>\n",
       "    </tr>\n",
       "  </tbody>\n",
       "</table>\n",
       "</div>"
      ],
      "text/plain": [
       "      QCOM     SPY       date\n",
       "85  137.79  400.61 2021-04-01\n",
       "84  140.57  411.49 2021-04-09\n",
       "83  138.21  417.26 2021-04-16\n",
       "82  135.43  416.74 2021-04-23\n",
       "81  138.80  417.30 2021-04-30\n",
       "80  137.85  422.12 2021-05-07\n",
       "79  130.15  416.58 2021-05-14\n",
       "78  131.46  414.94 2021-05-21\n",
       "77  134.54  420.04 2021-05-28\n",
       "76  134.34  422.60 2021-06-04"
      ]
     },
     "execution_count": 238,
     "metadata": {},
     "output_type": "execute_result"
    }
   ],
   "source": [
    "temp = temp.sort_values(by=\"date\")\n",
    "temp.head(10)"
   ]
  },
  {
   "cell_type": "code",
   "execution_count": 239,
   "metadata": {},
   "outputs": [
    {
     "data": {
      "text/html": [
       "<div>\n",
       "<style scoped>\n",
       "    .dataframe tbody tr th:only-of-type {\n",
       "        vertical-align: middle;\n",
       "    }\n",
       "\n",
       "    .dataframe tbody tr th {\n",
       "        vertical-align: top;\n",
       "    }\n",
       "\n",
       "    .dataframe thead th {\n",
       "        text-align: right;\n",
       "    }\n",
       "</style>\n",
       "<table border=\"1\" class=\"dataframe\">\n",
       "  <thead>\n",
       "    <tr style=\"text-align: right;\">\n",
       "      <th></th>\n",
       "      <th>QCOM</th>\n",
       "      <th>SPY</th>\n",
       "      <th>date</th>\n",
       "      <th>QCOM_growth</th>\n",
       "      <th>QCOM_pchange</th>\n",
       "      <th>SPY_growth</th>\n",
       "      <th>SPY_pchange</th>\n",
       "    </tr>\n",
       "  </thead>\n",
       "  <tbody>\n",
       "    <tr>\n",
       "      <th>85</th>\n",
       "      <td>137.79</td>\n",
       "      <td>400.61</td>\n",
       "      <td>2021-04-01</td>\n",
       "      <td>NaN</td>\n",
       "      <td>NaN</td>\n",
       "      <td>NaN</td>\n",
       "      <td>NaN</td>\n",
       "    </tr>\n",
       "    <tr>\n",
       "      <th>84</th>\n",
       "      <td>140.57</td>\n",
       "      <td>411.49</td>\n",
       "      <td>2021-04-09</td>\n",
       "      <td>100.000000</td>\n",
       "      <td>0.020176</td>\n",
       "      <td>100.000000</td>\n",
       "      <td>0.027159</td>\n",
       "    </tr>\n",
       "    <tr>\n",
       "      <th>83</th>\n",
       "      <td>138.21</td>\n",
       "      <td>417.26</td>\n",
       "      <td>2021-04-16</td>\n",
       "      <td>98.321121</td>\n",
       "      <td>-0.016789</td>\n",
       "      <td>101.402221</td>\n",
       "      <td>0.014022</td>\n",
       "    </tr>\n",
       "    <tr>\n",
       "      <th>82</th>\n",
       "      <td>135.43</td>\n",
       "      <td>416.74</td>\n",
       "      <td>2021-04-23</td>\n",
       "      <td>96.343459</td>\n",
       "      <td>-0.020114</td>\n",
       "      <td>101.275851</td>\n",
       "      <td>-0.001246</td>\n",
       "    </tr>\n",
       "    <tr>\n",
       "      <th>81</th>\n",
       "      <td>138.80</td>\n",
       "      <td>417.30</td>\n",
       "      <td>2021-04-30</td>\n",
       "      <td>98.740841</td>\n",
       "      <td>0.024884</td>\n",
       "      <td>101.411942</td>\n",
       "      <td>0.001344</td>\n",
       "    </tr>\n",
       "  </tbody>\n",
       "</table>\n",
       "</div>"
      ],
      "text/plain": [
       "      QCOM     SPY       date  QCOM_growth  QCOM_pchange  SPY_growth  \\\n",
       "85  137.79  400.61 2021-04-01          NaN           NaN         NaN   \n",
       "84  140.57  411.49 2021-04-09   100.000000      0.020176  100.000000   \n",
       "83  138.21  417.26 2021-04-16    98.321121     -0.016789  101.402221   \n",
       "82  135.43  416.74 2021-04-23    96.343459     -0.020114  101.275851   \n",
       "81  138.80  417.30 2021-04-30    98.740841      0.024884  101.411942   \n",
       "\n",
       "    SPY_pchange  \n",
       "85          NaN  \n",
       "84     0.027159  \n",
       "83     0.014022  \n",
       "82    -0.001246  \n",
       "81     0.001344  "
      ]
     },
     "execution_count": 239,
     "metadata": {},
     "output_type": "execute_result"
    }
   ],
   "source": [
    "\n",
    "\n",
    "def createGrowthColumn(ticker, frame):\n",
    "\n",
    "    pricesList = np.array(frame[ticker])\n",
    "    pctChanges = np.diff(pricesList)/pricesList[:-1]\n",
    "\n",
    "    currentInvestment , initialInvestment= 100, 100\n",
    "    investmentValues = []\n",
    "\n",
    "    for c in pctChanges[1:]: \n",
    "        currentInvestment = currentInvestment*(1+c) \n",
    "        investmentValues.append(currentInvestment)\n",
    "\n",
    "    pctChanges = [np.nan ] + list(pctChanges)\n",
    "    investmentValues = [ np.nan, initialInvestment ] + investmentValues\n",
    "\n",
    "    invName= ticker+'_growth'\n",
    "    pctName = ticker+'_pchange'\n",
    "    frame[invName] = investmentValues\n",
    "    frame[pctName] = pctChanges\n",
    "\n",
    "\n",
    "\n",
    "createGrowthColumn('QCOM', temp)\n",
    "createGrowthColumn('SPY', temp)\n",
    "temp.head()\n"
   ]
  },
  {
   "cell_type": "code",
   "execution_count": 240,
   "metadata": {},
   "outputs": [
    {
     "data": {
      "application/vnd.plotly.v1+json": {
       "config": {
        "plotlyServerURL": "https://plot.ly"
       },
       "data": [
        {
         "hovertemplate": "variable=QCOM_growth<br>date=%{x}<br>value=%{y}<extra></extra>",
         "legendgroup": "QCOM_growth",
         "line": {
          "color": "#636efa",
          "dash": "solid"
         },
         "marker": {
          "symbol": "circle"
         },
         "mode": "lines",
         "name": "QCOM_growth",
         "orientation": "v",
         "showlegend": true,
         "type": "scatter",
         "x": [
          "2021-04-01T00:00:00",
          "2021-04-09T00:00:00",
          "2021-04-16T00:00:00",
          "2021-04-23T00:00:00",
          "2021-04-30T00:00:00",
          "2021-05-07T00:00:00",
          "2021-05-14T00:00:00",
          "2021-05-21T00:00:00",
          "2021-05-28T00:00:00",
          "2021-06-04T00:00:00",
          "2021-06-11T00:00:00",
          "2021-06-18T00:00:00",
          "2021-06-25T00:00:00",
          "2021-07-02T00:00:00",
          "2021-07-09T00:00:00",
          "2021-07-16T00:00:00",
          "2021-07-23T00:00:00",
          "2021-07-30T00:00:00",
          "2021-08-06T00:00:00",
          "2021-08-13T00:00:00",
          "2021-08-20T00:00:00",
          "2021-08-27T00:00:00",
          "2021-09-03T00:00:00",
          "2021-09-10T00:00:00",
          "2021-09-17T00:00:00",
          "2021-09-24T00:00:00",
          "2021-10-01T00:00:00",
          "2021-10-08T00:00:00",
          "2021-10-15T00:00:00",
          "2021-10-22T00:00:00",
          "2021-10-29T00:00:00",
          "2021-11-05T00:00:00",
          "2021-11-12T00:00:00",
          "2021-11-19T00:00:00",
          "2021-11-26T00:00:00",
          "2021-12-03T00:00:00",
          "2021-12-10T00:00:00",
          "2021-12-17T00:00:00",
          "2021-12-23T00:00:00",
          "2021-12-31T00:00:00",
          "2022-01-07T00:00:00",
          "2022-01-14T00:00:00",
          "2022-01-21T00:00:00",
          "2022-01-28T00:00:00",
          "2022-02-04T00:00:00",
          "2022-02-11T00:00:00",
          "2022-02-18T00:00:00",
          "2022-02-25T00:00:00",
          "2022-03-04T00:00:00",
          "2022-03-11T00:00:00",
          "2022-03-18T00:00:00",
          "2022-03-25T00:00:00",
          "2022-04-01T00:00:00",
          "2022-04-08T00:00:00",
          "2022-04-14T00:00:00",
          "2022-04-22T00:00:00",
          "2022-04-29T00:00:00",
          "2022-05-06T00:00:00",
          "2022-05-13T00:00:00",
          "2022-05-20T00:00:00",
          "2022-05-27T00:00:00",
          "2022-06-03T00:00:00",
          "2022-06-10T00:00:00",
          "2022-06-17T00:00:00",
          "2022-06-24T00:00:00",
          "2022-07-01T00:00:00",
          "2022-07-08T00:00:00",
          "2022-07-15T00:00:00",
          "2022-07-22T00:00:00",
          "2022-07-29T00:00:00",
          "2022-08-05T00:00:00",
          "2022-08-12T00:00:00",
          "2022-08-19T00:00:00",
          "2022-08-26T00:00:00",
          "2022-09-02T00:00:00",
          "2022-09-09T00:00:00",
          "2022-09-16T00:00:00",
          "2022-09-23T00:00:00",
          "2022-09-30T00:00:00",
          "2022-10-07T00:00:00",
          "2022-10-14T00:00:00",
          "2022-10-21T00:00:00",
          "2022-10-28T00:00:00",
          "2022-11-04T00:00:00",
          "2022-11-11T00:00:00",
          "2022-11-15T00:00:00"
         ],
         "xaxis": "x",
         "y": [
          null,
          100,
          98.32112114960519,
          96.34345877498757,
          98.7408408622039,
          98.06502098598563,
          92.58732304190085,
          93.51924308173865,
          95.71032225937255,
          95.56804439069502,
          95.76723340684356,
          94.61478267055558,
          97.9227431173081,
          101.42989258020914,
          100.61179483531335,
          99.38820516468661,
          103.06608807000067,
          106.56612363946785,
          104.06203315074336,
          105.74091200113817,
          101.08131180194917,
          103.04474638969904,
          102.88824073415377,
          101.50103151454789,
          95.04161627658814,
          95.2408052927367,
          91.56292238742263,
          90.02632140570533,
          92.62289250907021,
          93.63306537668066,
          94.6432382442911,
          115.97780465248631,
          117.3365582983567,
          131.6070285267127,
          125.01956320694319,
          125.56733300135166,
          130.81027246211852,
          125.77363591093408,
          129.9992886106566,
          130.09176922529699,
          128.3417514405634,
          134.23205520381302,
          117.32944440492278,
          118.66685637049154,
          127.67304545777903,
          117.12314149534038,
          119.25730952550327,
          121.5977804652486,
          115.43003485807779,
          108.37305257167246,
          109.54684498826207,
          112.37817457494485,
          104.56711958454862,
          97.23980934765596,
          97.39631500320125,
          94.47961869531194,
          99.37397737781886,
          100.00711389343387,
          95.98776410329373,
          93.61883758981288,
          99.42377463185599,
          100.46240307320194,
          94.75706053923308,
          86.07099665647004,
          88.99480685779322,
          87.87792558867464,
          96.75606459415232,
          102.70327950487295,
          109.34054207867958,
          103.1941381518104,
          106.85779327025672,
          107.62609376111536,
          105.00106708401498,
          98.44205733798098,
          91.39930283844339,
          93.93896279433726,
          88.88809845628504,
          86.21327452514753,
          80.37276801593504,
          86.01408550899897,
          78.2172583054705,
          82.3362026036849,
          84.80472362523999,
          75.8981290460268,
          86.38400796756055,
          null
         ],
         "yaxis": "y"
        },
        {
         "hovertemplate": "variable=SPY_growth<br>date=%{x}<br>value=%{y}<extra></extra>",
         "legendgroup": "SPY_growth",
         "line": {
          "color": "#EF553B",
          "dash": "solid"
         },
         "marker": {
          "symbol": "circle"
         },
         "mode": "lines",
         "name": "SPY_growth",
         "orientation": "v",
         "showlegend": true,
         "type": "scatter",
         "x": [
          "2021-04-01T00:00:00",
          "2021-04-09T00:00:00",
          "2021-04-16T00:00:00",
          "2021-04-23T00:00:00",
          "2021-04-30T00:00:00",
          "2021-05-07T00:00:00",
          "2021-05-14T00:00:00",
          "2021-05-21T00:00:00",
          "2021-05-28T00:00:00",
          "2021-06-04T00:00:00",
          "2021-06-11T00:00:00",
          "2021-06-18T00:00:00",
          "2021-06-25T00:00:00",
          "2021-07-02T00:00:00",
          "2021-07-09T00:00:00",
          "2021-07-16T00:00:00",
          "2021-07-23T00:00:00",
          "2021-07-30T00:00:00",
          "2021-08-06T00:00:00",
          "2021-08-13T00:00:00",
          "2021-08-20T00:00:00",
          "2021-08-27T00:00:00",
          "2021-09-03T00:00:00",
          "2021-09-10T00:00:00",
          "2021-09-17T00:00:00",
          "2021-09-24T00:00:00",
          "2021-10-01T00:00:00",
          "2021-10-08T00:00:00",
          "2021-10-15T00:00:00",
          "2021-10-22T00:00:00",
          "2021-10-29T00:00:00",
          "2021-11-05T00:00:00",
          "2021-11-12T00:00:00",
          "2021-11-19T00:00:00",
          "2021-11-26T00:00:00",
          "2021-12-03T00:00:00",
          "2021-12-10T00:00:00",
          "2021-12-17T00:00:00",
          "2021-12-23T00:00:00",
          "2021-12-31T00:00:00",
          "2022-01-07T00:00:00",
          "2022-01-14T00:00:00",
          "2022-01-21T00:00:00",
          "2022-01-28T00:00:00",
          "2022-02-04T00:00:00",
          "2022-02-11T00:00:00",
          "2022-02-18T00:00:00",
          "2022-02-25T00:00:00",
          "2022-03-04T00:00:00",
          "2022-03-11T00:00:00",
          "2022-03-18T00:00:00",
          "2022-03-25T00:00:00",
          "2022-04-01T00:00:00",
          "2022-04-08T00:00:00",
          "2022-04-14T00:00:00",
          "2022-04-22T00:00:00",
          "2022-04-29T00:00:00",
          "2022-05-06T00:00:00",
          "2022-05-13T00:00:00",
          "2022-05-20T00:00:00",
          "2022-05-27T00:00:00",
          "2022-06-03T00:00:00",
          "2022-06-10T00:00:00",
          "2022-06-17T00:00:00",
          "2022-06-24T00:00:00",
          "2022-07-01T00:00:00",
          "2022-07-08T00:00:00",
          "2022-07-15T00:00:00",
          "2022-07-22T00:00:00",
          "2022-07-29T00:00:00",
          "2022-08-05T00:00:00",
          "2022-08-12T00:00:00",
          "2022-08-19T00:00:00",
          "2022-08-26T00:00:00",
          "2022-09-02T00:00:00",
          "2022-09-09T00:00:00",
          "2022-09-16T00:00:00",
          "2022-09-23T00:00:00",
          "2022-09-30T00:00:00",
          "2022-10-07T00:00:00",
          "2022-10-14T00:00:00",
          "2022-10-21T00:00:00",
          "2022-10-28T00:00:00",
          "2022-11-04T00:00:00",
          "2022-11-11T00:00:00",
          "2022-11-15T00:00:00"
         ],
         "xaxis": "x",
         "y": [
          null,
          100,
          101.40222119614084,
          101.27585117499817,
          101.41194196699796,
          102.58329485528199,
          101.23696809156962,
          100.83841648642733,
          102.07781477071129,
          102.69994410556754,
          103.1155070597098,
          100.83355610099878,
          103.67445138399471,
          105.40231840384939,
          105.8397530924202,
          104.82393253785021,
          106.91389827213295,
          106.5663807139906,
          107.53359741427494,
          108.36715351527374,
          107.74502418041749,
          109.41942696055796,
          110.10717149869981,
          108.25050426498818,
          107.26870640841815,
          107.878684779703,
          105.52868842499205,
          106.40841818756223,
          108.3550025517023,
          110.11689226955693,
          111.60660040341193,
          113.86181924226584,
          113.55561496026628,
          113.94930617998,
          111.53855500741203,
          110.18979805098539,
          114.39889183212222,
          111.75727235169742,
          114.36486913412227,
          115.42443315754933,
          113.26885221998097,
          112.93591581812431,
          106.43758050013359,
          107.40236700770363,
          109.04274708984416,
          107.04026829327559,
          105.52625823227777,
          106.3816860677051,
          105.02563853313562,
          102.08510534885411,
          108.0269265352742,
          110.01239398284281,
          110.06828841527131,
          108.7681353131303,
          106.39140683856228,
          103.53593039928064,
          100.12393982842836,
          99.96354710928573,
          97.62570171814622,
          94.68759872657897,
          100.91618265328435,
          99.76913169214315,
          94.72891200272178,
          88.91103064473009,
          94.79695739872167,
          92.64866703929617,
          94.45430022600787,
          93.59401200515195,
          96.01448394857705,
          100.12150963571405,
          100.48117815742783,
          103.79353082699451,
          102.58815524071052,
          98.49814090257351,
          95.32187902500662,
          98.81163576271591,
          93.69851029186607,
          89.41894092201504,
          86.80162336873308,
          88.16496148144542,
          86.91098204087578,
          90.95968310287,
          94.53935697100773,
          91.46030280201215,
          96.8456098568616,
          null
         ],
         "yaxis": "y"
        }
       ],
       "layout": {
        "legend": {
         "title": {
          "text": "variable"
         },
         "tracegroupgap": 0
        },
        "template": {
         "data": {
          "bar": [
           {
            "error_x": {
             "color": "#2a3f5f"
            },
            "error_y": {
             "color": "#2a3f5f"
            },
            "marker": {
             "line": {
              "color": "#E5ECF6",
              "width": 0.5
             },
             "pattern": {
              "fillmode": "overlay",
              "size": 10,
              "solidity": 0.2
             }
            },
            "type": "bar"
           }
          ],
          "barpolar": [
           {
            "marker": {
             "line": {
              "color": "#E5ECF6",
              "width": 0.5
             },
             "pattern": {
              "fillmode": "overlay",
              "size": 10,
              "solidity": 0.2
             }
            },
            "type": "barpolar"
           }
          ],
          "carpet": [
           {
            "aaxis": {
             "endlinecolor": "#2a3f5f",
             "gridcolor": "white",
             "linecolor": "white",
             "minorgridcolor": "white",
             "startlinecolor": "#2a3f5f"
            },
            "baxis": {
             "endlinecolor": "#2a3f5f",
             "gridcolor": "white",
             "linecolor": "white",
             "minorgridcolor": "white",
             "startlinecolor": "#2a3f5f"
            },
            "type": "carpet"
           }
          ],
          "choropleth": [
           {
            "colorbar": {
             "outlinewidth": 0,
             "ticks": ""
            },
            "type": "choropleth"
           }
          ],
          "contour": [
           {
            "colorbar": {
             "outlinewidth": 0,
             "ticks": ""
            },
            "colorscale": [
             [
              0,
              "#0d0887"
             ],
             [
              0.1111111111111111,
              "#46039f"
             ],
             [
              0.2222222222222222,
              "#7201a8"
             ],
             [
              0.3333333333333333,
              "#9c179e"
             ],
             [
              0.4444444444444444,
              "#bd3786"
             ],
             [
              0.5555555555555556,
              "#d8576b"
             ],
             [
              0.6666666666666666,
              "#ed7953"
             ],
             [
              0.7777777777777778,
              "#fb9f3a"
             ],
             [
              0.8888888888888888,
              "#fdca26"
             ],
             [
              1,
              "#f0f921"
             ]
            ],
            "type": "contour"
           }
          ],
          "contourcarpet": [
           {
            "colorbar": {
             "outlinewidth": 0,
             "ticks": ""
            },
            "type": "contourcarpet"
           }
          ],
          "heatmap": [
           {
            "colorbar": {
             "outlinewidth": 0,
             "ticks": ""
            },
            "colorscale": [
             [
              0,
              "#0d0887"
             ],
             [
              0.1111111111111111,
              "#46039f"
             ],
             [
              0.2222222222222222,
              "#7201a8"
             ],
             [
              0.3333333333333333,
              "#9c179e"
             ],
             [
              0.4444444444444444,
              "#bd3786"
             ],
             [
              0.5555555555555556,
              "#d8576b"
             ],
             [
              0.6666666666666666,
              "#ed7953"
             ],
             [
              0.7777777777777778,
              "#fb9f3a"
             ],
             [
              0.8888888888888888,
              "#fdca26"
             ],
             [
              1,
              "#f0f921"
             ]
            ],
            "type": "heatmap"
           }
          ],
          "heatmapgl": [
           {
            "colorbar": {
             "outlinewidth": 0,
             "ticks": ""
            },
            "colorscale": [
             [
              0,
              "#0d0887"
             ],
             [
              0.1111111111111111,
              "#46039f"
             ],
             [
              0.2222222222222222,
              "#7201a8"
             ],
             [
              0.3333333333333333,
              "#9c179e"
             ],
             [
              0.4444444444444444,
              "#bd3786"
             ],
             [
              0.5555555555555556,
              "#d8576b"
             ],
             [
              0.6666666666666666,
              "#ed7953"
             ],
             [
              0.7777777777777778,
              "#fb9f3a"
             ],
             [
              0.8888888888888888,
              "#fdca26"
             ],
             [
              1,
              "#f0f921"
             ]
            ],
            "type": "heatmapgl"
           }
          ],
          "histogram": [
           {
            "marker": {
             "pattern": {
              "fillmode": "overlay",
              "size": 10,
              "solidity": 0.2
             }
            },
            "type": "histogram"
           }
          ],
          "histogram2d": [
           {
            "colorbar": {
             "outlinewidth": 0,
             "ticks": ""
            },
            "colorscale": [
             [
              0,
              "#0d0887"
             ],
             [
              0.1111111111111111,
              "#46039f"
             ],
             [
              0.2222222222222222,
              "#7201a8"
             ],
             [
              0.3333333333333333,
              "#9c179e"
             ],
             [
              0.4444444444444444,
              "#bd3786"
             ],
             [
              0.5555555555555556,
              "#d8576b"
             ],
             [
              0.6666666666666666,
              "#ed7953"
             ],
             [
              0.7777777777777778,
              "#fb9f3a"
             ],
             [
              0.8888888888888888,
              "#fdca26"
             ],
             [
              1,
              "#f0f921"
             ]
            ],
            "type": "histogram2d"
           }
          ],
          "histogram2dcontour": [
           {
            "colorbar": {
             "outlinewidth": 0,
             "ticks": ""
            },
            "colorscale": [
             [
              0,
              "#0d0887"
             ],
             [
              0.1111111111111111,
              "#46039f"
             ],
             [
              0.2222222222222222,
              "#7201a8"
             ],
             [
              0.3333333333333333,
              "#9c179e"
             ],
             [
              0.4444444444444444,
              "#bd3786"
             ],
             [
              0.5555555555555556,
              "#d8576b"
             ],
             [
              0.6666666666666666,
              "#ed7953"
             ],
             [
              0.7777777777777778,
              "#fb9f3a"
             ],
             [
              0.8888888888888888,
              "#fdca26"
             ],
             [
              1,
              "#f0f921"
             ]
            ],
            "type": "histogram2dcontour"
           }
          ],
          "mesh3d": [
           {
            "colorbar": {
             "outlinewidth": 0,
             "ticks": ""
            },
            "type": "mesh3d"
           }
          ],
          "parcoords": [
           {
            "line": {
             "colorbar": {
              "outlinewidth": 0,
              "ticks": ""
             }
            },
            "type": "parcoords"
           }
          ],
          "pie": [
           {
            "automargin": true,
            "type": "pie"
           }
          ],
          "scatter": [
           {
            "fillpattern": {
             "fillmode": "overlay",
             "size": 10,
             "solidity": 0.2
            },
            "type": "scatter"
           }
          ],
          "scatter3d": [
           {
            "line": {
             "colorbar": {
              "outlinewidth": 0,
              "ticks": ""
             }
            },
            "marker": {
             "colorbar": {
              "outlinewidth": 0,
              "ticks": ""
             }
            },
            "type": "scatter3d"
           }
          ],
          "scattercarpet": [
           {
            "marker": {
             "colorbar": {
              "outlinewidth": 0,
              "ticks": ""
             }
            },
            "type": "scattercarpet"
           }
          ],
          "scattergeo": [
           {
            "marker": {
             "colorbar": {
              "outlinewidth": 0,
              "ticks": ""
             }
            },
            "type": "scattergeo"
           }
          ],
          "scattergl": [
           {
            "marker": {
             "colorbar": {
              "outlinewidth": 0,
              "ticks": ""
             }
            },
            "type": "scattergl"
           }
          ],
          "scattermapbox": [
           {
            "marker": {
             "colorbar": {
              "outlinewidth": 0,
              "ticks": ""
             }
            },
            "type": "scattermapbox"
           }
          ],
          "scatterpolar": [
           {
            "marker": {
             "colorbar": {
              "outlinewidth": 0,
              "ticks": ""
             }
            },
            "type": "scatterpolar"
           }
          ],
          "scatterpolargl": [
           {
            "marker": {
             "colorbar": {
              "outlinewidth": 0,
              "ticks": ""
             }
            },
            "type": "scatterpolargl"
           }
          ],
          "scatterternary": [
           {
            "marker": {
             "colorbar": {
              "outlinewidth": 0,
              "ticks": ""
             }
            },
            "type": "scatterternary"
           }
          ],
          "surface": [
           {
            "colorbar": {
             "outlinewidth": 0,
             "ticks": ""
            },
            "colorscale": [
             [
              0,
              "#0d0887"
             ],
             [
              0.1111111111111111,
              "#46039f"
             ],
             [
              0.2222222222222222,
              "#7201a8"
             ],
             [
              0.3333333333333333,
              "#9c179e"
             ],
             [
              0.4444444444444444,
              "#bd3786"
             ],
             [
              0.5555555555555556,
              "#d8576b"
             ],
             [
              0.6666666666666666,
              "#ed7953"
             ],
             [
              0.7777777777777778,
              "#fb9f3a"
             ],
             [
              0.8888888888888888,
              "#fdca26"
             ],
             [
              1,
              "#f0f921"
             ]
            ],
            "type": "surface"
           }
          ],
          "table": [
           {
            "cells": {
             "fill": {
              "color": "#EBF0F8"
             },
             "line": {
              "color": "white"
             }
            },
            "header": {
             "fill": {
              "color": "#C8D4E3"
             },
             "line": {
              "color": "white"
             }
            },
            "type": "table"
           }
          ]
         },
         "layout": {
          "annotationdefaults": {
           "arrowcolor": "#2a3f5f",
           "arrowhead": 0,
           "arrowwidth": 1
          },
          "autotypenumbers": "strict",
          "coloraxis": {
           "colorbar": {
            "outlinewidth": 0,
            "ticks": ""
           }
          },
          "colorscale": {
           "diverging": [
            [
             0,
             "#8e0152"
            ],
            [
             0.1,
             "#c51b7d"
            ],
            [
             0.2,
             "#de77ae"
            ],
            [
             0.3,
             "#f1b6da"
            ],
            [
             0.4,
             "#fde0ef"
            ],
            [
             0.5,
             "#f7f7f7"
            ],
            [
             0.6,
             "#e6f5d0"
            ],
            [
             0.7,
             "#b8e186"
            ],
            [
             0.8,
             "#7fbc41"
            ],
            [
             0.9,
             "#4d9221"
            ],
            [
             1,
             "#276419"
            ]
           ],
           "sequential": [
            [
             0,
             "#0d0887"
            ],
            [
             0.1111111111111111,
             "#46039f"
            ],
            [
             0.2222222222222222,
             "#7201a8"
            ],
            [
             0.3333333333333333,
             "#9c179e"
            ],
            [
             0.4444444444444444,
             "#bd3786"
            ],
            [
             0.5555555555555556,
             "#d8576b"
            ],
            [
             0.6666666666666666,
             "#ed7953"
            ],
            [
             0.7777777777777778,
             "#fb9f3a"
            ],
            [
             0.8888888888888888,
             "#fdca26"
            ],
            [
             1,
             "#f0f921"
            ]
           ],
           "sequentialminus": [
            [
             0,
             "#0d0887"
            ],
            [
             0.1111111111111111,
             "#46039f"
            ],
            [
             0.2222222222222222,
             "#7201a8"
            ],
            [
             0.3333333333333333,
             "#9c179e"
            ],
            [
             0.4444444444444444,
             "#bd3786"
            ],
            [
             0.5555555555555556,
             "#d8576b"
            ],
            [
             0.6666666666666666,
             "#ed7953"
            ],
            [
             0.7777777777777778,
             "#fb9f3a"
            ],
            [
             0.8888888888888888,
             "#fdca26"
            ],
            [
             1,
             "#f0f921"
            ]
           ]
          },
          "colorway": [
           "#636efa",
           "#EF553B",
           "#00cc96",
           "#ab63fa",
           "#FFA15A",
           "#19d3f3",
           "#FF6692",
           "#B6E880",
           "#FF97FF",
           "#FECB52"
          ],
          "font": {
           "color": "#2a3f5f"
          },
          "geo": {
           "bgcolor": "white",
           "lakecolor": "white",
           "landcolor": "#E5ECF6",
           "showlakes": true,
           "showland": true,
           "subunitcolor": "white"
          },
          "hoverlabel": {
           "align": "left"
          },
          "hovermode": "closest",
          "mapbox": {
           "style": "light"
          },
          "paper_bgcolor": "white",
          "plot_bgcolor": "#E5ECF6",
          "polar": {
           "angularaxis": {
            "gridcolor": "white",
            "linecolor": "white",
            "ticks": ""
           },
           "bgcolor": "#E5ECF6",
           "radialaxis": {
            "gridcolor": "white",
            "linecolor": "white",
            "ticks": ""
           }
          },
          "scene": {
           "xaxis": {
            "backgroundcolor": "#E5ECF6",
            "gridcolor": "white",
            "gridwidth": 2,
            "linecolor": "white",
            "showbackground": true,
            "ticks": "",
            "zerolinecolor": "white"
           },
           "yaxis": {
            "backgroundcolor": "#E5ECF6",
            "gridcolor": "white",
            "gridwidth": 2,
            "linecolor": "white",
            "showbackground": true,
            "ticks": "",
            "zerolinecolor": "white"
           },
           "zaxis": {
            "backgroundcolor": "#E5ECF6",
            "gridcolor": "white",
            "gridwidth": 2,
            "linecolor": "white",
            "showbackground": true,
            "ticks": "",
            "zerolinecolor": "white"
           }
          },
          "shapedefaults": {
           "line": {
            "color": "#2a3f5f"
           }
          },
          "ternary": {
           "aaxis": {
            "gridcolor": "white",
            "linecolor": "white",
            "ticks": ""
           },
           "baxis": {
            "gridcolor": "white",
            "linecolor": "white",
            "ticks": ""
           },
           "bgcolor": "#E5ECF6",
           "caxis": {
            "gridcolor": "white",
            "linecolor": "white",
            "ticks": ""
           }
          },
          "title": {
           "x": 0.05
          },
          "xaxis": {
           "automargin": true,
           "gridcolor": "white",
           "linecolor": "white",
           "ticks": "",
           "title": {
            "standoff": 15
           },
           "zerolinecolor": "white",
           "zerolinewidth": 2
          },
          "yaxis": {
           "automargin": true,
           "gridcolor": "white",
           "linecolor": "white",
           "ticks": "",
           "title": {
            "standoff": 15
           },
           "zerolinecolor": "white",
           "zerolinewidth": 2
          }
         }
        },
        "title": {
         "text": "Growth in Qualcomm v S&P"
        },
        "xaxis": {
         "anchor": "y",
         "domain": [
          0,
          1
         ],
         "title": {
          "text": "date"
         }
        },
        "yaxis": {
         "anchor": "x",
         "domain": [
          0,
          1
         ],
         "title": {
          "text": "value"
         }
        }
       }
      }
     },
     "metadata": {},
     "output_type": "display_data"
    }
   ],
   "source": [
    "import plotly.express as px \n",
    "\n",
    "fig = px.line(temp, x='date', y=['QCOM_growth', 'SPY_growth' ],\n",
    " title=\"Growth in Qualcomm v S&P\"\n",
    " )\n",
    "\n",
    "\n",
    "fig.show()"
   ]
  },
  {
   "cell_type": "markdown",
   "metadata": {},
   "source": [
    "What a great example! looks like there was a sharp rise in price starting in November, and by mid January Qualcomm had grown much more than the S&P. My hypothesis is that the majority of stock purchases will exhibit a similar pattern"
   ]
  },
  {
   "cell_type": "code",
   "execution_count": 241,
   "metadata": {},
   "outputs": [
    {
     "name": "stdout",
     "output_type": "stream",
     "text": [
      "ABCDEFGHIJKLMNOPQRSTUVWXYZ\n"
     ]
    }
   ],
   "source": [
    "import string \n",
    "print(string.ascii_uppercase)"
   ]
  },
  {
   "cell_type": "code",
   "execution_count": 256,
   "metadata": {},
   "outputs": [],
   "source": [
    "def findSourceFrame(ticker):\n",
    "    leadingLetter =ticker[0]\n",
    "\n",
    "    relevantCols = ['date', ticker, 'SPY']\n",
    "\n",
    "    if leadingLetter in 'ABCDEFG':\n",
    "        rez = historicalPricesAG[relevantCols]\n",
    "    elif leadingLetter in 'HIJKLMNOPQR':\n",
    "        rez = historicalPricesHR[relevantCols]\n",
    "    elif leadingLetter in 'STUVWXYZ':\n",
    "        rez = historicalPricesSZ[relevantCols]\n",
    "    else:\n",
    "        return 'ticker leading letter is non-alpha'\n",
    "    return rez\n",
    "\n",
    "\n",
    "\n",
    "\n",
    "def generateHistoricalPricesTable(ticker, date):\n",
    "    \n",
    "    rez = findSourceFrame(ticker)\n",
    "\n",
    "    rez = rez.sort_values(by=\"date\")\n",
    "\n",
    "    rez = rez[rez['date']>=date]\n",
    "\n",
    "    return rez\n",
    "\n",
    "\n",
    "def graphGrowthRates(frame, tickerFirst, tickerSecond='SPY'):\n",
    "    yColumnList = [tickerFirst+\"_growth\", tickerSecond+\"_growth\"]\n",
    "    fig = px.line(frame, x='date', y=yColumnList,\n",
    "    title=f\"Growth in {tickerFirst} v {tickerSecond}\"\n",
    "    )\n",
    "    fig.show()\n",
    "\n",
    "\n",
    "# putting it all together \n",
    "def graphAlpha(ticker, date):\n",
    "\n",
    "    histPrices =  generateHistoricalPricesTable(ticker, date)\n",
    "    createGrowthColumn(ticker, histPrices)\n",
    "    createGrowthColumn('SPY', histPrices)\n",
    "\n",
    "    graphGrowthRates(histPrices, ticker)\n",
    " \n",
    "    \n"
   ]
  },
  {
   "cell_type": "code",
   "execution_count": 257,
   "metadata": {},
   "outputs": [
    {
     "data": {
      "application/vnd.plotly.v1+json": {
       "config": {
        "plotlyServerURL": "https://plot.ly"
       },
       "data": [
        {
         "hovertemplate": "variable=IBM_growth<br>date=%{x}<br>value=%{y}<extra></extra>",
         "legendgroup": "IBM_growth",
         "line": {
          "color": "#636efa",
          "dash": "solid"
         },
         "marker": {
          "symbol": "circle"
         },
         "mode": "lines",
         "name": "IBM_growth",
         "orientation": "v",
         "showlegend": true,
         "type": "scatter",
         "x": [
          "2015-01-09T00:00:00",
          "2015-01-16T00:00:00",
          "2015-01-23T00:00:00",
          "2015-01-30T00:00:00",
          "2015-02-06T00:00:00",
          "2015-02-13T00:00:00",
          "2015-02-20T00:00:00",
          "2015-02-27T00:00:00",
          "2015-03-06T00:00:00",
          "2015-03-13T00:00:00",
          "2015-03-20T00:00:00",
          "2015-03-27T00:00:00",
          "2015-04-02T00:00:00",
          "2015-04-10T00:00:00",
          "2015-04-17T00:00:00",
          "2015-04-24T00:00:00",
          "2015-05-01T00:00:00",
          "2015-05-08T00:00:00",
          "2015-05-15T00:00:00",
          "2015-05-22T00:00:00",
          "2015-05-29T00:00:00",
          "2015-06-05T00:00:00",
          "2015-06-12T00:00:00",
          "2015-06-19T00:00:00",
          "2015-06-26T00:00:00",
          "2015-07-02T00:00:00",
          "2015-07-10T00:00:00",
          "2015-07-17T00:00:00",
          "2015-07-24T00:00:00",
          "2015-07-31T00:00:00",
          "2015-08-07T00:00:00",
          "2015-08-14T00:00:00",
          "2015-08-21T00:00:00",
          "2015-08-28T00:00:00",
          "2015-09-04T00:00:00",
          "2015-09-11T00:00:00",
          "2015-09-18T00:00:00",
          "2015-09-25T00:00:00",
          "2015-10-02T00:00:00",
          "2015-10-09T00:00:00",
          "2015-10-16T00:00:00",
          "2015-10-23T00:00:00",
          "2015-10-30T00:00:00",
          "2015-11-06T00:00:00",
          "2015-11-13T00:00:00",
          "2015-11-20T00:00:00",
          "2015-11-27T00:00:00",
          "2015-12-04T00:00:00",
          "2015-12-11T00:00:00",
          "2015-12-18T00:00:00",
          "2015-12-24T00:00:00",
          "2015-12-31T00:00:00",
          "2016-01-08T00:00:00",
          "2016-01-15T00:00:00",
          "2016-01-22T00:00:00",
          "2016-01-29T00:00:00",
          "2016-02-05T00:00:00",
          "2016-02-12T00:00:00",
          "2016-02-19T00:00:00",
          "2016-02-26T00:00:00",
          "2016-03-04T00:00:00",
          "2016-03-11T00:00:00",
          "2016-03-18T00:00:00",
          "2016-03-24T00:00:00",
          "2016-04-01T00:00:00",
          "2016-04-08T00:00:00",
          "2016-04-15T00:00:00",
          "2016-04-22T00:00:00",
          "2016-04-29T00:00:00",
          "2016-05-06T00:00:00",
          "2016-05-13T00:00:00",
          "2016-05-20T00:00:00",
          "2016-05-27T00:00:00",
          "2016-06-03T00:00:00",
          "2016-06-10T00:00:00",
          "2016-06-17T00:00:00",
          "2016-06-24T00:00:00",
          "2016-07-01T00:00:00",
          "2016-07-08T00:00:00",
          "2016-07-15T00:00:00",
          "2016-07-22T00:00:00",
          "2016-07-29T00:00:00",
          "2016-08-05T00:00:00",
          "2016-08-12T00:00:00",
          "2016-08-19T00:00:00",
          "2016-08-26T00:00:00",
          "2016-09-02T00:00:00",
          "2016-09-09T00:00:00",
          "2016-09-16T00:00:00",
          "2016-09-23T00:00:00",
          "2016-09-30T00:00:00",
          "2016-10-07T00:00:00",
          "2016-10-14T00:00:00",
          "2016-10-21T00:00:00",
          "2016-10-28T00:00:00",
          "2016-11-04T00:00:00",
          "2016-11-11T00:00:00",
          "2016-11-18T00:00:00",
          "2016-11-25T00:00:00",
          "2016-12-02T00:00:00",
          "2016-12-09T00:00:00",
          "2016-12-16T00:00:00",
          "2016-12-23T00:00:00",
          "2016-12-30T00:00:00",
          "2017-01-06T00:00:00",
          "2017-01-13T00:00:00",
          "2017-01-20T00:00:00",
          "2017-01-27T00:00:00",
          "2017-02-03T00:00:00",
          "2017-02-10T00:00:00",
          "2017-02-17T00:00:00",
          "2017-02-24T00:00:00",
          "2017-03-03T00:00:00",
          "2017-03-10T00:00:00",
          "2017-03-17T00:00:00",
          "2017-03-24T00:00:00",
          "2017-03-31T00:00:00",
          "2017-04-07T00:00:00",
          "2017-04-13T00:00:00",
          "2017-04-21T00:00:00",
          "2017-04-28T00:00:00",
          "2017-05-05T00:00:00",
          "2017-05-12T00:00:00",
          "2017-05-19T00:00:00",
          "2017-05-26T00:00:00",
          "2017-06-02T00:00:00",
          "2017-06-09T00:00:00",
          "2017-06-16T00:00:00",
          "2017-06-23T00:00:00",
          "2017-06-30T00:00:00",
          "2017-07-07T00:00:00",
          "2017-07-14T00:00:00",
          "2017-07-21T00:00:00",
          "2017-07-28T00:00:00",
          "2017-08-04T00:00:00",
          "2017-08-11T00:00:00",
          "2017-08-18T00:00:00",
          "2017-08-25T00:00:00",
          "2017-09-01T00:00:00",
          "2017-09-08T00:00:00",
          "2017-09-15T00:00:00",
          "2017-09-22T00:00:00",
          "2017-09-29T00:00:00",
          "2017-10-06T00:00:00",
          "2017-10-13T00:00:00",
          "2017-10-20T00:00:00",
          "2017-10-27T00:00:00",
          "2017-11-03T00:00:00",
          "2017-11-10T00:00:00",
          "2017-11-17T00:00:00",
          "2017-11-24T00:00:00",
          "2017-12-01T00:00:00",
          "2017-12-08T00:00:00",
          "2017-12-15T00:00:00",
          "2017-12-22T00:00:00",
          "2017-12-29T00:00:00",
          "2018-01-05T00:00:00",
          "2018-01-12T00:00:00",
          "2018-01-19T00:00:00",
          "2018-01-26T00:00:00",
          "2018-02-02T00:00:00",
          "2018-02-09T00:00:00",
          "2018-02-16T00:00:00",
          "2018-02-23T00:00:00",
          "2018-03-02T00:00:00",
          "2018-03-09T00:00:00",
          "2018-03-16T00:00:00",
          "2018-03-23T00:00:00",
          "2018-03-29T00:00:00",
          "2018-04-06T00:00:00",
          "2018-04-13T00:00:00",
          "2018-04-20T00:00:00",
          "2018-04-27T00:00:00",
          "2018-05-04T00:00:00",
          "2018-05-11T00:00:00",
          "2018-05-18T00:00:00",
          "2018-05-25T00:00:00",
          "2018-06-01T00:00:00",
          "2018-06-08T00:00:00",
          "2018-06-15T00:00:00",
          "2018-06-22T00:00:00",
          "2018-06-29T00:00:00",
          "2018-07-06T00:00:00",
          "2018-07-13T00:00:00",
          "2018-07-20T00:00:00",
          "2018-07-27T00:00:00",
          "2018-08-03T00:00:00",
          "2018-08-10T00:00:00",
          "2018-08-17T00:00:00",
          "2018-08-24T00:00:00",
          "2018-08-31T00:00:00",
          "2018-09-07T00:00:00",
          "2018-09-14T00:00:00",
          "2018-09-21T00:00:00",
          "2018-09-28T00:00:00",
          "2018-10-05T00:00:00",
          "2018-10-12T00:00:00",
          "2018-10-19T00:00:00",
          "2018-10-26T00:00:00",
          "2018-11-02T00:00:00",
          "2018-11-09T00:00:00",
          "2018-11-16T00:00:00",
          "2018-11-23T00:00:00",
          "2018-11-30T00:00:00",
          "2018-12-07T00:00:00",
          "2018-12-14T00:00:00",
          "2018-12-21T00:00:00",
          "2018-12-28T00:00:00",
          "2019-01-04T00:00:00",
          "2019-01-11T00:00:00",
          "2019-01-18T00:00:00",
          "2019-01-25T00:00:00",
          "2019-02-01T00:00:00",
          "2019-02-08T00:00:00",
          "2019-02-15T00:00:00",
          "2019-02-22T00:00:00",
          "2019-03-01T00:00:00",
          "2019-03-08T00:00:00",
          "2019-03-15T00:00:00",
          "2019-03-22T00:00:00",
          "2019-03-29T00:00:00",
          "2019-04-05T00:00:00",
          "2019-04-12T00:00:00",
          "2019-04-18T00:00:00",
          "2019-04-26T00:00:00",
          "2019-05-03T00:00:00",
          "2019-05-10T00:00:00",
          "2019-05-17T00:00:00",
          "2019-05-24T00:00:00",
          "2019-05-31T00:00:00",
          "2019-06-07T00:00:00",
          "2019-06-14T00:00:00",
          "2019-06-21T00:00:00",
          "2019-06-28T00:00:00",
          "2019-07-05T00:00:00",
          "2019-07-12T00:00:00",
          "2019-07-19T00:00:00",
          "2019-07-26T00:00:00",
          "2019-08-02T00:00:00",
          "2019-08-09T00:00:00",
          "2019-08-16T00:00:00",
          "2019-08-23T00:00:00",
          "2019-08-30T00:00:00",
          "2019-09-06T00:00:00",
          "2019-09-13T00:00:00",
          "2019-09-20T00:00:00",
          "2019-09-27T00:00:00",
          "2019-10-04T00:00:00",
          "2019-10-11T00:00:00",
          "2019-10-18T00:00:00",
          "2019-10-25T00:00:00",
          "2019-11-01T00:00:00",
          "2019-11-08T00:00:00",
          "2019-11-15T00:00:00",
          "2019-11-22T00:00:00",
          "2019-11-29T00:00:00",
          "2019-12-06T00:00:00",
          "2019-12-13T00:00:00",
          "2019-12-20T00:00:00",
          "2019-12-27T00:00:00",
          "2020-01-03T00:00:00",
          "2020-01-10T00:00:00",
          "2020-01-17T00:00:00",
          "2020-01-24T00:00:00",
          "2020-01-31T00:00:00",
          "2020-02-07T00:00:00",
          "2020-02-14T00:00:00",
          "2020-02-21T00:00:00",
          "2020-02-28T00:00:00",
          "2020-03-06T00:00:00",
          "2020-03-13T00:00:00",
          "2020-03-20T00:00:00",
          "2020-03-27T00:00:00",
          "2020-04-03T00:00:00",
          "2020-04-09T00:00:00",
          "2020-04-17T00:00:00",
          "2020-04-24T00:00:00",
          "2020-05-01T00:00:00",
          "2020-05-08T00:00:00",
          "2020-05-15T00:00:00",
          "2020-05-22T00:00:00",
          "2020-05-29T00:00:00",
          "2020-06-05T00:00:00",
          "2020-06-12T00:00:00",
          "2020-06-19T00:00:00",
          "2020-06-26T00:00:00",
          "2020-07-02T00:00:00",
          "2020-07-10T00:00:00",
          "2020-07-17T00:00:00",
          "2020-07-24T00:00:00",
          "2020-07-31T00:00:00",
          "2020-08-07T00:00:00",
          "2020-08-14T00:00:00",
          "2020-08-21T00:00:00",
          "2020-08-28T00:00:00",
          "2020-09-04T00:00:00",
          "2020-09-11T00:00:00",
          "2020-09-18T00:00:00",
          "2020-09-25T00:00:00",
          "2020-10-02T00:00:00",
          "2020-10-09T00:00:00",
          "2020-10-16T00:00:00",
          "2020-10-23T00:00:00",
          "2020-10-30T00:00:00",
          "2020-11-06T00:00:00",
          "2020-11-13T00:00:00",
          "2020-11-20T00:00:00",
          "2020-11-27T00:00:00",
          "2020-12-04T00:00:00",
          "2020-12-11T00:00:00",
          "2020-12-18T00:00:00",
          "2020-12-24T00:00:00",
          "2020-12-31T00:00:00",
          "2021-01-08T00:00:00",
          "2021-01-15T00:00:00",
          "2021-01-22T00:00:00",
          "2021-01-29T00:00:00",
          "2021-02-05T00:00:00",
          "2021-02-12T00:00:00",
          "2021-02-19T00:00:00",
          "2021-02-26T00:00:00",
          "2021-03-05T00:00:00",
          "2021-03-12T00:00:00",
          "2021-03-19T00:00:00",
          "2021-03-26T00:00:00",
          "2021-04-01T00:00:00",
          "2021-04-09T00:00:00",
          "2021-04-16T00:00:00",
          "2021-04-23T00:00:00",
          "2021-04-30T00:00:00",
          "2021-05-07T00:00:00",
          "2021-05-14T00:00:00",
          "2021-05-21T00:00:00",
          "2021-05-28T00:00:00",
          "2021-06-04T00:00:00",
          "2021-06-11T00:00:00",
          "2021-06-18T00:00:00",
          "2021-06-25T00:00:00",
          "2021-07-02T00:00:00",
          "2021-07-09T00:00:00",
          "2021-07-16T00:00:00",
          "2021-07-23T00:00:00",
          "2021-07-30T00:00:00",
          "2021-08-06T00:00:00",
          "2021-08-13T00:00:00",
          "2021-08-20T00:00:00",
          "2021-08-27T00:00:00",
          "2021-09-03T00:00:00",
          "2021-09-10T00:00:00",
          "2021-09-17T00:00:00",
          "2021-09-24T00:00:00",
          "2021-10-01T00:00:00",
          "2021-10-08T00:00:00",
          "2021-10-15T00:00:00",
          "2021-10-22T00:00:00",
          "2021-10-29T00:00:00",
          "2021-11-05T00:00:00",
          "2021-11-12T00:00:00",
          "2021-11-19T00:00:00",
          "2021-11-26T00:00:00",
          "2021-12-03T00:00:00",
          "2021-12-10T00:00:00",
          "2021-12-17T00:00:00",
          "2021-12-23T00:00:00",
          "2021-12-31T00:00:00",
          "2022-01-07T00:00:00",
          "2022-01-14T00:00:00",
          "2022-01-21T00:00:00",
          "2022-01-28T00:00:00",
          "2022-02-04T00:00:00",
          "2022-02-11T00:00:00",
          "2022-02-18T00:00:00",
          "2022-02-25T00:00:00",
          "2022-03-04T00:00:00",
          "2022-03-11T00:00:00",
          "2022-03-18T00:00:00",
          "2022-03-25T00:00:00",
          "2022-04-01T00:00:00",
          "2022-04-08T00:00:00",
          "2022-04-14T00:00:00",
          "2022-04-22T00:00:00",
          "2022-04-29T00:00:00",
          "2022-05-06T00:00:00",
          "2022-05-13T00:00:00",
          "2022-05-20T00:00:00",
          "2022-05-27T00:00:00",
          "2022-06-03T00:00:00",
          "2022-06-10T00:00:00",
          "2022-06-17T00:00:00",
          "2022-06-24T00:00:00",
          "2022-07-01T00:00:00",
          "2022-07-08T00:00:00",
          "2022-07-15T00:00:00",
          "2022-07-22T00:00:00",
          "2022-07-29T00:00:00",
          "2022-08-05T00:00:00",
          "2022-08-12T00:00:00",
          "2022-08-19T00:00:00",
          "2022-08-26T00:00:00",
          "2022-09-02T00:00:00",
          "2022-09-09T00:00:00",
          "2022-09-16T00:00:00",
          "2022-09-23T00:00:00",
          "2022-09-30T00:00:00",
          "2022-10-07T00:00:00",
          "2022-10-14T00:00:00",
          "2022-10-21T00:00:00",
          "2022-10-28T00:00:00",
          "2022-11-04T00:00:00",
          "2022-11-11T00:00:00",
          "2022-11-15T00:00:00"
         ],
         "xaxis": "x",
         "y": [
          null,
          100,
          99.19180348733614,
          97.56268295787197,
          99.73272241313478,
          102.07458317423952,
          104.14280259641085,
          103.05460099274532,
          100.86547028127784,
          98.17996690848923,
          103.65279368715792,
          102.0745831742395,
          102.1064019345806,
          103.6400661830215,
          102.24640448008142,
          108.04378261422931,
          110.51928216876665,
          109.88927071401294,
          110.25836833396966,
          109.59653811887483,
          107.96105383734245,
          106.52920962199308,
          106.26829578719608,
          106.26829578719608,
          105.2946417207585,
          105.05918289423438,
          106.24284077892318,
          109.78108692885318,
          101.66093928980521,
          103.08641975308636,
          98.71452208221962,
          99.11543846251745,
          94.72444953544604,
          94.17080310551096,
          91.44711722031305,
          93.78261422934958,
          91.96258113783881,
          92.54168257604677,
          92.00712740231636,
          96.97721776759572,
          95.70446735395183,
          92.07076492299855,
          89.14343897161761,
          87.97887234313345,
          83.84243349879083,
          88.13796614483894,
          88.11251113656607,
          89.3661702940053,
          85.6370115820287,
          85.84701540027994,
          87.97887234313345,
          87.57795596283563,
          83.7660684739722,
          82.74786814305709,
          77.95596283568787,
          79.41326205931011,
          81.81876034109705,
          77.02685503372784,
          84.68881252386402,
          84.02061855670097,
          87.69250350006358,
          90.59437444317163,
          93.60442917143942,
          94.15171184930628,
          97.05994654448257,
          95.042637138857,
          96.550846379025,
          94.50171821305835,
          92.87259768359418,
          93.73170421280379,
          94.00534555173722,
          93.70624920453092,
          97.26358661066557,
          97.29540537100667,
          96.96449026345927,
          96.72266768486693,
          93.28624156802844,
          96.95176275932282,
          98.29451444571713,
          101.68003054600985,
          103.13732976963207,
          102.21458571974027,
          104.04734631538746,
          103.06096474481345,
          101.84548809978354,
          100.7509227440498,
          101.5336642484408,
          99.0772559501081,
          97.89996181748751,
          98.62542955326451,
          101.08820160366544,
          99.06452844597166,
          98.28815069364889,
          95.22082219676713,
          97.11722031309652,
          97.00267277586856,
          102.62822960417452,
          102.0682194221712,
          103.81825124093153,
          101.83276059564709,
          105.96919943998972,
          106.10283823342232,
          106.0901107292859,
          105.6319205803741,
          107.88468881252378,
          106.49102710958373,
          108.53379152348217,
          112.82932416953027,
          111.88748886343377,
          113.70752195494453,
          114.97390861652018,
          115.40664375715912,
          114.5793559882906,
          113.16660302914589,
          111.77930507827405,
          110.62110220185812,
          110.81837851597291,
          109.54562810232903,
          107.88468881252378,
          102.061855670103,
          102.00458190148902,
          98.66997581774206,
          95.69173984981536,
          96.71630393279868,
          97.04085528827788,
          96.76085019727623,
          98.06541937126119,
          98.87997963599327,
          98.07178312332941,
          97.89359806541927,
          97.32722413134773,
          98.15451190021626,
          93.59806541937117,
          91.82257859233795,
          92.37622502227305,
          90.2634593356242,
          88.90161639302524,
          91.47257222858589,
          91.68893979890535,
          90.65164821178557,
          92.15985745195357,
          92.35713376606837,
          92.32531500572728,
          93.21624029527797,
          93.61079292350757,
          103.13732976963205,
          97.79814178439597,
          96.4617538500699,
          94.92172584956079,
          94.80081456026461,
          96.62721140384357,
          98.48542700776363,
          98.51724576810473,
          97.04721904034604,
          97.04721904034604,
          97.63268423062222,
          103.40460735649725,
          103.8182512409315,
          103.32824233167861,
          106.49102710958365,
          101.20274914089332,
          95.14445717194843,
          99.38907980145079,
          98.96907216494832,
          98.31360570192172,
          101.38093419880347,
          101.9854906452843,
          94.74990454371883,
          97.63904798269046,
          95.8190148911797,
          99.72635866106643,
          92.2107674684993,
          93.21624029527796,
          91.58075601374557,
          91.72712231131462,
          91.68893979890531,
          91.40893470790364,
          90.33346060837457,
          92.99987272495851,
          92.52259131984205,
          89.90708921980388,
          88.9016163930252,
          90.6707394679902,
          92.84714267532125,
          93.13351151839112,
          92.3698612702048,
          93.99261804760074,
          91.9434898816341,
          92.94896270841278,
          92.93623520427633,
          93.21624029527798,
          92.56077383225139,
          94.39353442789859,
          96.31538755250082,
          96.22629502354576,
          94.83899707267393,
          89.63344788087045,
          82.15603920071263,
          79.41326205931007,
          73.60952017309397,
          78.61779305078265,
          77.36413389334342,
          74.57681048746332,
          79.08234695176267,
          75.9450171821305,
          76.30138729795078,
          70.59946544482618,
          71.92948962708404,
          74.65953926435016,
          77.294132620593,
          78.79597810869278,
          85.2551864579355,
          85.33791523482235,
          85.0897289041618,
          87.8388697976326,
          88.61524754995536,
          88.58342878961426,
          85.96792668957609,
          88.72979508718332,
          88.74252259131976,
          89.79254168257597,
          91.17983963344781,
          91.86076110474728,
          89.3025327733231,
          88.73615883925156,
          89.25162275677734,
          86.11429298714516,
          85.47791778032322,
          84.17971235840648,
          80.8132875143184,
          84.83517882143309,
          86.00610920198547,
          88.58342878961433,
          87.75614102074582,
          89.97072674048617,
          90.83619702176402,
          95.2526409571083,
          96.32175130456916,
          93.70624920453096,
          86.62975690467097,
          85.12154766450297,
          82.45513554791903,
          86.2479317805778,
          89.45526282296038,
          91.4280259641084,
          90.28891434389712,
          91.15438462517497,
          90.99529082346949,
          90.84892452590043,
          85.33155148275421,
          86.19065801196382,
          86.24793178057779,
          87.57159221076743,
          85.528827796869,
          85.49064528445967,
          85.56064655721008,
          84.7779050528191,
          85.4079165075728,
          86.28611429298708,
          86.08247422680407,
          85.49064528445966,
          86.98612702049122,
          88.01705485554278,
          89.44889907089215,
          91.4662084765177,
          97.6263204785541,
          95.90174366806664,
          95.35446099019978,
          82.82423316787575,
          81.28420516736665,
          68.69670357642863,
          60.70383097874504,
          68.74761359297439,
          67.67213949344531,
          77.31958762886596,
          76.44138984345169,
          79.36871579483261,
          77.55504645539008,
          78.26778668703065,
          74.44317169403078,
          75.34046073564971,
          79.48326333206056,
          84.03970981290566,
          77.58050146366294,
          77.93687157948324,
          74.57681048746339,
          76.17411225658647,
          75.31500572737684,
          79.61690212549318,
          80.04963726613211,
          78.23596792668957,
          79.52144584446988,
          79.71872215858468,
          78.37597047219037,
          79.59144711722028,
          77.8286877943235,
          77.29413262059306,
          78.12142038946159,
          75.69683085147,
          76.72775868652154,
          81.32238767977597,
          80.13872979508716,
          73.81952399134526,
          71.05765559373803,
          72.57222858597427,
          74.36044291714393,
          74.41771668575791,
          79.1332569683085,
          80.94692630775103,
          79.08234695176273,
          80.0878197785414,
          79.34962453862795,
          80.10691103474606,
          81.79330533282422,
          81.70421280386914,
          75.48046328115055,
          75.79865088456152,
          77.50413643884434,
          76.87412498409061,
          75.7222858597429,
          75.68410334733359,
          78.16596665393915,
          81.20784014254804,
          82.02876415934836,
          86.78885070637648,
          84.78426880488736,
          86.37520682194223,
          85.01336387934329,
          90.63892070764926,
          90.28891434389719,
          92.56713758431975,
          92.07076492299863,
          92.10894743540796,
          91.47257222858602,
          93.81443298969076,
          96.27084128802346,
          91.07801960035641,
          93.44533536973404,
          89.10525645920839,
          90.0598192694413,
          88.39251622756781,
          89.94527173221334,
          89.70344915362101,
          91.69530355097368,
          91.1162021127657,
          88.5261550210004,
          88.71706758304697,
          88.82525136820671,
          87.19613083874253,
          86.05701921853125,
          87.49522718594885,
          91.20529464172077,
          91.14165712103858,
          92.02621865852109,
          81.37966144838998,
          79.61053837342499,
          78.6623393152603,
          75.70319460353826,
          73.85134275168642,
          73.69861270204916,
          75.62682957871964,
          78.96779941453484,
          81.07420134911547,
          83.12969326715034,
          85.05791014382083,
          85.80246913580253,
          85.40791650757292,
          82.31513300241828,
          85.59246531755129,
          87.27885961562944,
          84.44062619320357,
          79.13325696830857,
          79.02507318314885,
          80.57782868779438,
          78.88507063764801,
          81.93967163039333,
          83.58788341606217,
          82.82423316787585,
          81.28420516736675,
          80.53964617538507,
          87.97887234313357,
          84.13516609392904,
          87.60977472317684,
          85.01972763141154,
          81.7614865724832,
          88.62797505409198,
          89.84345169912189,
          86.66793941708039,
          85.92338042509873,
          90.4034618811252,
          89.80526918671258,
          89.39162530227831,
          89.04161893852624,
          81.61512027491418,
          83.23151330024191,
          84.306987399771,
          85.28064146620858,
          88.05523736795224,
          82.97059946544492,
          81.32238767977609,
          82.2133129693268,
          80.99147257222866,
          78.0896016291206,
          75.60773832251502,
          75.61410207458324,
          76.39047982690602,
          82.66513936617037,
          88.14432989690728,
          87.15794832633328,
          91.10983836069754,
          91.85439735267921
         ],
         "yaxis": "y"
        },
        {
         "hovertemplate": "variable=SPY_growth<br>date=%{x}<br>value=%{y}<extra></extra>",
         "legendgroup": "SPY_growth",
         "line": {
          "color": "#EF553B",
          "dash": "solid"
         },
         "marker": {
          "symbol": "circle"
         },
         "mode": "lines",
         "name": "SPY_growth",
         "orientation": "v",
         "showlegend": true,
         "type": "scatter",
         "x": [
          "2015-01-09T00:00:00",
          "2015-01-16T00:00:00",
          "2015-01-23T00:00:00",
          "2015-01-30T00:00:00",
          "2015-02-06T00:00:00",
          "2015-02-13T00:00:00",
          "2015-02-20T00:00:00",
          "2015-02-27T00:00:00",
          "2015-03-06T00:00:00",
          "2015-03-13T00:00:00",
          "2015-03-20T00:00:00",
          "2015-03-27T00:00:00",
          "2015-04-02T00:00:00",
          "2015-04-10T00:00:00",
          "2015-04-17T00:00:00",
          "2015-04-24T00:00:00",
          "2015-05-01T00:00:00",
          "2015-05-08T00:00:00",
          "2015-05-15T00:00:00",
          "2015-05-22T00:00:00",
          "2015-05-29T00:00:00",
          "2015-06-05T00:00:00",
          "2015-06-12T00:00:00",
          "2015-06-19T00:00:00",
          "2015-06-26T00:00:00",
          "2015-07-02T00:00:00",
          "2015-07-10T00:00:00",
          "2015-07-17T00:00:00",
          "2015-07-24T00:00:00",
          "2015-07-31T00:00:00",
          "2015-08-07T00:00:00",
          "2015-08-14T00:00:00",
          "2015-08-21T00:00:00",
          "2015-08-28T00:00:00",
          "2015-09-04T00:00:00",
          "2015-09-11T00:00:00",
          "2015-09-18T00:00:00",
          "2015-09-25T00:00:00",
          "2015-10-02T00:00:00",
          "2015-10-09T00:00:00",
          "2015-10-16T00:00:00",
          "2015-10-23T00:00:00",
          "2015-10-30T00:00:00",
          "2015-11-06T00:00:00",
          "2015-11-13T00:00:00",
          "2015-11-20T00:00:00",
          "2015-11-27T00:00:00",
          "2015-12-04T00:00:00",
          "2015-12-11T00:00:00",
          "2015-12-18T00:00:00",
          "2015-12-24T00:00:00",
          "2015-12-31T00:00:00",
          "2016-01-08T00:00:00",
          "2016-01-15T00:00:00",
          "2016-01-22T00:00:00",
          "2016-01-29T00:00:00",
          "2016-02-05T00:00:00",
          "2016-02-12T00:00:00",
          "2016-02-19T00:00:00",
          "2016-02-26T00:00:00",
          "2016-03-04T00:00:00",
          "2016-03-11T00:00:00",
          "2016-03-18T00:00:00",
          "2016-03-24T00:00:00",
          "2016-04-01T00:00:00",
          "2016-04-08T00:00:00",
          "2016-04-15T00:00:00",
          "2016-04-22T00:00:00",
          "2016-04-29T00:00:00",
          "2016-05-06T00:00:00",
          "2016-05-13T00:00:00",
          "2016-05-20T00:00:00",
          "2016-05-27T00:00:00",
          "2016-06-03T00:00:00",
          "2016-06-10T00:00:00",
          "2016-06-17T00:00:00",
          "2016-06-24T00:00:00",
          "2016-07-01T00:00:00",
          "2016-07-08T00:00:00",
          "2016-07-15T00:00:00",
          "2016-07-22T00:00:00",
          "2016-07-29T00:00:00",
          "2016-08-05T00:00:00",
          "2016-08-12T00:00:00",
          "2016-08-19T00:00:00",
          "2016-08-26T00:00:00",
          "2016-09-02T00:00:00",
          "2016-09-09T00:00:00",
          "2016-09-16T00:00:00",
          "2016-09-23T00:00:00",
          "2016-09-30T00:00:00",
          "2016-10-07T00:00:00",
          "2016-10-14T00:00:00",
          "2016-10-21T00:00:00",
          "2016-10-28T00:00:00",
          "2016-11-04T00:00:00",
          "2016-11-11T00:00:00",
          "2016-11-18T00:00:00",
          "2016-11-25T00:00:00",
          "2016-12-02T00:00:00",
          "2016-12-09T00:00:00",
          "2016-12-16T00:00:00",
          "2016-12-23T00:00:00",
          "2016-12-30T00:00:00",
          "2017-01-06T00:00:00",
          "2017-01-13T00:00:00",
          "2017-01-20T00:00:00",
          "2017-01-27T00:00:00",
          "2017-02-03T00:00:00",
          "2017-02-10T00:00:00",
          "2017-02-17T00:00:00",
          "2017-02-24T00:00:00",
          "2017-03-03T00:00:00",
          "2017-03-10T00:00:00",
          "2017-03-17T00:00:00",
          "2017-03-24T00:00:00",
          "2017-03-31T00:00:00",
          "2017-04-07T00:00:00",
          "2017-04-13T00:00:00",
          "2017-04-21T00:00:00",
          "2017-04-28T00:00:00",
          "2017-05-05T00:00:00",
          "2017-05-12T00:00:00",
          "2017-05-19T00:00:00",
          "2017-05-26T00:00:00",
          "2017-06-02T00:00:00",
          "2017-06-09T00:00:00",
          "2017-06-16T00:00:00",
          "2017-06-23T00:00:00",
          "2017-06-30T00:00:00",
          "2017-07-07T00:00:00",
          "2017-07-14T00:00:00",
          "2017-07-21T00:00:00",
          "2017-07-28T00:00:00",
          "2017-08-04T00:00:00",
          "2017-08-11T00:00:00",
          "2017-08-18T00:00:00",
          "2017-08-25T00:00:00",
          "2017-09-01T00:00:00",
          "2017-09-08T00:00:00",
          "2017-09-15T00:00:00",
          "2017-09-22T00:00:00",
          "2017-09-29T00:00:00",
          "2017-10-06T00:00:00",
          "2017-10-13T00:00:00",
          "2017-10-20T00:00:00",
          "2017-10-27T00:00:00",
          "2017-11-03T00:00:00",
          "2017-11-10T00:00:00",
          "2017-11-17T00:00:00",
          "2017-11-24T00:00:00",
          "2017-12-01T00:00:00",
          "2017-12-08T00:00:00",
          "2017-12-15T00:00:00",
          "2017-12-22T00:00:00",
          "2017-12-29T00:00:00",
          "2018-01-05T00:00:00",
          "2018-01-12T00:00:00",
          "2018-01-19T00:00:00",
          "2018-01-26T00:00:00",
          "2018-02-02T00:00:00",
          "2018-02-09T00:00:00",
          "2018-02-16T00:00:00",
          "2018-02-23T00:00:00",
          "2018-03-02T00:00:00",
          "2018-03-09T00:00:00",
          "2018-03-16T00:00:00",
          "2018-03-23T00:00:00",
          "2018-03-29T00:00:00",
          "2018-04-06T00:00:00",
          "2018-04-13T00:00:00",
          "2018-04-20T00:00:00",
          "2018-04-27T00:00:00",
          "2018-05-04T00:00:00",
          "2018-05-11T00:00:00",
          "2018-05-18T00:00:00",
          "2018-05-25T00:00:00",
          "2018-06-01T00:00:00",
          "2018-06-08T00:00:00",
          "2018-06-15T00:00:00",
          "2018-06-22T00:00:00",
          "2018-06-29T00:00:00",
          "2018-07-06T00:00:00",
          "2018-07-13T00:00:00",
          "2018-07-20T00:00:00",
          "2018-07-27T00:00:00",
          "2018-08-03T00:00:00",
          "2018-08-10T00:00:00",
          "2018-08-17T00:00:00",
          "2018-08-24T00:00:00",
          "2018-08-31T00:00:00",
          "2018-09-07T00:00:00",
          "2018-09-14T00:00:00",
          "2018-09-21T00:00:00",
          "2018-09-28T00:00:00",
          "2018-10-05T00:00:00",
          "2018-10-12T00:00:00",
          "2018-10-19T00:00:00",
          "2018-10-26T00:00:00",
          "2018-11-02T00:00:00",
          "2018-11-09T00:00:00",
          "2018-11-16T00:00:00",
          "2018-11-23T00:00:00",
          "2018-11-30T00:00:00",
          "2018-12-07T00:00:00",
          "2018-12-14T00:00:00",
          "2018-12-21T00:00:00",
          "2018-12-28T00:00:00",
          "2019-01-04T00:00:00",
          "2019-01-11T00:00:00",
          "2019-01-18T00:00:00",
          "2019-01-25T00:00:00",
          "2019-02-01T00:00:00",
          "2019-02-08T00:00:00",
          "2019-02-15T00:00:00",
          "2019-02-22T00:00:00",
          "2019-03-01T00:00:00",
          "2019-03-08T00:00:00",
          "2019-03-15T00:00:00",
          "2019-03-22T00:00:00",
          "2019-03-29T00:00:00",
          "2019-04-05T00:00:00",
          "2019-04-12T00:00:00",
          "2019-04-18T00:00:00",
          "2019-04-26T00:00:00",
          "2019-05-03T00:00:00",
          "2019-05-10T00:00:00",
          "2019-05-17T00:00:00",
          "2019-05-24T00:00:00",
          "2019-05-31T00:00:00",
          "2019-06-07T00:00:00",
          "2019-06-14T00:00:00",
          "2019-06-21T00:00:00",
          "2019-06-28T00:00:00",
          "2019-07-05T00:00:00",
          "2019-07-12T00:00:00",
          "2019-07-19T00:00:00",
          "2019-07-26T00:00:00",
          "2019-08-02T00:00:00",
          "2019-08-09T00:00:00",
          "2019-08-16T00:00:00",
          "2019-08-23T00:00:00",
          "2019-08-30T00:00:00",
          "2019-09-06T00:00:00",
          "2019-09-13T00:00:00",
          "2019-09-20T00:00:00",
          "2019-09-27T00:00:00",
          "2019-10-04T00:00:00",
          "2019-10-11T00:00:00",
          "2019-10-18T00:00:00",
          "2019-10-25T00:00:00",
          "2019-11-01T00:00:00",
          "2019-11-08T00:00:00",
          "2019-11-15T00:00:00",
          "2019-11-22T00:00:00",
          "2019-11-29T00:00:00",
          "2019-12-06T00:00:00",
          "2019-12-13T00:00:00",
          "2019-12-20T00:00:00",
          "2019-12-27T00:00:00",
          "2020-01-03T00:00:00",
          "2020-01-10T00:00:00",
          "2020-01-17T00:00:00",
          "2020-01-24T00:00:00",
          "2020-01-31T00:00:00",
          "2020-02-07T00:00:00",
          "2020-02-14T00:00:00",
          "2020-02-21T00:00:00",
          "2020-02-28T00:00:00",
          "2020-03-06T00:00:00",
          "2020-03-13T00:00:00",
          "2020-03-20T00:00:00",
          "2020-03-27T00:00:00",
          "2020-04-03T00:00:00",
          "2020-04-09T00:00:00",
          "2020-04-17T00:00:00",
          "2020-04-24T00:00:00",
          "2020-05-01T00:00:00",
          "2020-05-08T00:00:00",
          "2020-05-15T00:00:00",
          "2020-05-22T00:00:00",
          "2020-05-29T00:00:00",
          "2020-06-05T00:00:00",
          "2020-06-12T00:00:00",
          "2020-06-19T00:00:00",
          "2020-06-26T00:00:00",
          "2020-07-02T00:00:00",
          "2020-07-10T00:00:00",
          "2020-07-17T00:00:00",
          "2020-07-24T00:00:00",
          "2020-07-31T00:00:00",
          "2020-08-07T00:00:00",
          "2020-08-14T00:00:00",
          "2020-08-21T00:00:00",
          "2020-08-28T00:00:00",
          "2020-09-04T00:00:00",
          "2020-09-11T00:00:00",
          "2020-09-18T00:00:00",
          "2020-09-25T00:00:00",
          "2020-10-02T00:00:00",
          "2020-10-09T00:00:00",
          "2020-10-16T00:00:00",
          "2020-10-23T00:00:00",
          "2020-10-30T00:00:00",
          "2020-11-06T00:00:00",
          "2020-11-13T00:00:00",
          "2020-11-20T00:00:00",
          "2020-11-27T00:00:00",
          "2020-12-04T00:00:00",
          "2020-12-11T00:00:00",
          "2020-12-18T00:00:00",
          "2020-12-24T00:00:00",
          "2020-12-31T00:00:00",
          "2021-01-08T00:00:00",
          "2021-01-15T00:00:00",
          "2021-01-22T00:00:00",
          "2021-01-29T00:00:00",
          "2021-02-05T00:00:00",
          "2021-02-12T00:00:00",
          "2021-02-19T00:00:00",
          "2021-02-26T00:00:00",
          "2021-03-05T00:00:00",
          "2021-03-12T00:00:00",
          "2021-03-19T00:00:00",
          "2021-03-26T00:00:00",
          "2021-04-01T00:00:00",
          "2021-04-09T00:00:00",
          "2021-04-16T00:00:00",
          "2021-04-23T00:00:00",
          "2021-04-30T00:00:00",
          "2021-05-07T00:00:00",
          "2021-05-14T00:00:00",
          "2021-05-21T00:00:00",
          "2021-05-28T00:00:00",
          "2021-06-04T00:00:00",
          "2021-06-11T00:00:00",
          "2021-06-18T00:00:00",
          "2021-06-25T00:00:00",
          "2021-07-02T00:00:00",
          "2021-07-09T00:00:00",
          "2021-07-16T00:00:00",
          "2021-07-23T00:00:00",
          "2021-07-30T00:00:00",
          "2021-08-06T00:00:00",
          "2021-08-13T00:00:00",
          "2021-08-20T00:00:00",
          "2021-08-27T00:00:00",
          "2021-09-03T00:00:00",
          "2021-09-10T00:00:00",
          "2021-09-17T00:00:00",
          "2021-09-24T00:00:00",
          "2021-10-01T00:00:00",
          "2021-10-08T00:00:00",
          "2021-10-15T00:00:00",
          "2021-10-22T00:00:00",
          "2021-10-29T00:00:00",
          "2021-11-05T00:00:00",
          "2021-11-12T00:00:00",
          "2021-11-19T00:00:00",
          "2021-11-26T00:00:00",
          "2021-12-03T00:00:00",
          "2021-12-10T00:00:00",
          "2021-12-17T00:00:00",
          "2021-12-23T00:00:00",
          "2021-12-31T00:00:00",
          "2022-01-07T00:00:00",
          "2022-01-14T00:00:00",
          "2022-01-21T00:00:00",
          "2022-01-28T00:00:00",
          "2022-02-04T00:00:00",
          "2022-02-11T00:00:00",
          "2022-02-18T00:00:00",
          "2022-02-25T00:00:00",
          "2022-03-04T00:00:00",
          "2022-03-11T00:00:00",
          "2022-03-18T00:00:00",
          "2022-03-25T00:00:00",
          "2022-04-01T00:00:00",
          "2022-04-08T00:00:00",
          "2022-04-14T00:00:00",
          "2022-04-22T00:00:00",
          "2022-04-29T00:00:00",
          "2022-05-06T00:00:00",
          "2022-05-13T00:00:00",
          "2022-05-20T00:00:00",
          "2022-05-27T00:00:00",
          "2022-06-03T00:00:00",
          "2022-06-10T00:00:00",
          "2022-06-17T00:00:00",
          "2022-06-24T00:00:00",
          "2022-07-01T00:00:00",
          "2022-07-08T00:00:00",
          "2022-07-15T00:00:00",
          "2022-07-22T00:00:00",
          "2022-07-29T00:00:00",
          "2022-08-05T00:00:00",
          "2022-08-12T00:00:00",
          "2022-08-19T00:00:00",
          "2022-08-26T00:00:00",
          "2022-09-02T00:00:00",
          "2022-09-09T00:00:00",
          "2022-09-16T00:00:00",
          "2022-09-23T00:00:00",
          "2022-09-30T00:00:00",
          "2022-10-07T00:00:00",
          "2022-10-14T00:00:00",
          "2022-10-21T00:00:00",
          "2022-10-28T00:00:00",
          "2022-11-04T00:00:00",
          "2022-11-11T00:00:00",
          "2022-11-15T00:00:00"
         ],
         "xaxis": "x",
         "y": [
          null,
          100,
          101.65649952883994,
          98.91881168476911,
          101.9441551356445,
          104.04205723354657,
          104.7661558299856,
          104.47850022318106,
          102.91127312403907,
          102.0830233596191,
          104.35451073748945,
          102.03838714477013,
          102.38555770470664,
          104.17100629866586,
          103.13445419828396,
          104.96949858651983,
          104.50825769974702,
          104.95461984823683,
          105.36130536130531,
          105.63408222982686,
          104.71656003570891,
          104.03709765411888,
          104.11645092496151,
          104.55289391459598,
          104.10157218667851,
          102.82200069434106,
          102.9013539651837,
          105.3761840995883,
          103.12949461885627,
          104.37434905520006,
          103.11957546000093,
          103.83375489758464,
          98.01616822893413,
          98.81466051678812,
          95.51654019739121,
          97.57476565987199,
          96.89034369885428,
          95.6554084213658,
          96.71179883945834,
          99.85121261716999,
          100.8133710261369,
          102.92119228289434,
          103.1245350394286,
          104.17100629866579,
          100.45132172791739,
          103.80895700044627,
          103.93294648613788,
          103.96270396270387,
          100.12398948569152,
          99.20150771214593,
          102.00862966820405,
          101.11094579179678,
          95.18424837573765,
          93.14586123096753,
          94.48990725586462,
          96.07697267271728,
          93.21529534295483,
          92.56063085850312,
          95.22392501115898,
          96.75643505430732,
          99.40485046868018,
          100.56043247532601,
          101.36388434260766,
          100.73897733472194,
          102.62361751723445,
          101.42339929573964,
          103.05014134801361,
          103.6403312999057,
          102.33100233100227,
          102.02846798591473,
          101.55234836085893,
          101.91439765907845,
          104.2701978872191,
          104.29003620492975,
          104.18588503694879,
          102.42523434012789,
          100.79849228785392,
          104.11149134553382,
          105.46545652928626,
          107.04260278728358,
          107.74190348658429,
          107.68238853345231,
          108.20810395278475,
          108.34697217675937,
          108.38664881218068,
          107.76670138372262,
          108.30233596191039,
          105.77791003322913,
          105.82254624807811,
          107.12195605812622,
          107.27570302038382,
          106.65079601249808,
          105.69855676238649,
          106.12508059316562,
          105.41090115558193,
          103.4320289639438,
          107.33521797351575,
          108.36681049446999,
          109.86460348162467,
          108.9520408669344,
          112.33943361602927,
          111.61037544016258,
          111.94266726181611,
          110.86147894658525,
          112.68660417596581,
          112.60725090512318,
          112.45350394286558,
          113.55949015523477,
          113.74299459405836,
          114.81922332986157,
          116.59475276496548,
          117.41308337053012,
          118.24629271437776,
          117.88424341615826,
          117.5569111739324,
          115.98472449536276,
          116.91712542776368,
          116.6493081386698,
          115.31518127262804,
          116.34677379358226,
          118.07766701383719,
          118.88111888111882,
          118.52402916232698,
          118.19173734067346,
          119.87799434607939,
          121.09805088528486,
          120.72112284878236,
          120.33923523285219,
          120.58225462480775,
          119.92263056092837,
          120.07637752318597,
          121.78743242573022,
          122.44209691018193,
          122.45697564846493,
          122.70495461984817,
          121.07325298814654,
          120.37395228884584,
          121.29147448296376,
          122.91821653523772,
          122.293309527352,
          123.58775975797244,
          123.71174924366404,
          124.59951396121599,
          126.15682190150265,
          126.4444775083072,
          127.51574666468274,
          127.8133214303426,
          128.18033030798978,
          128.00178544859386,
          127.88771512175761,
          129.12760997867372,
          131.16103754401615,
          131.68179338392093,
          132.1777513266874,
          132.67370926945387,
          132.35133660665568,
          135.60482071120362,
          137.83663145365267,
          139.07156673114113,
          142.13162723801014,
          136.6116153350195,
          129.6930020334275,
          135.45107374894602,
          136.2446064573723,
          133.45236323959716,
          138.30779149928074,
          135.9916679065614,
          127.98194713088319,
          130.51133263899206,
          128.81019689530314,
          131.50324852452493,
          132.227347120964,
          132.20254922382566,
          131.93473193473176,
          135.32212468382664,
          134.56826861082163,
          134.97495412389011,
          135.6940931409015,
          137.97054009819948,
          137.44482467886704,
          136.25948519565523,
          134.5434707136833,
          136.5967365967364,
          138.6648812180725,
          138.7095174329215,
          139.57248425333512,
          140.65367256856598,
          140.43545107374874,
          141.377771165005,
          142.5928681247828,
          143.98155036452889,
          142.63750433963182,
          144.26424639190574,
          144.8147597083765,
          144.1848931210631,
          142.74661508704037,
          136.85959430640258,
          137.00838168923252,
          131.59252095422286,
          134.8460050587708,
          137.75727818280987,
          135.75856767346107,
          130.56092843326863,
          136.71080692357262,
          130.71963497495386,
          129.18216535237787,
          119.37707682388509,
          122.87358032038858,
          125.1748251748249,
          128.44318801765584,
          132.1529534295489,
          131.81570202846768,
          133.9384020235081,
          134.14174478004236,
          137.56385458513088,
          138.4417001438275,
          139.07652631056857,
          136.12061697168048,
          139.5179288796307,
          138.4962555175318,
          140.09819967266748,
          143.11858354411515,
          143.90715667311383,
          143.8377225611265,
          145.5190199871048,
          145.82651391161997,
          142.88548331101495,
          141.76461836036276,
          140.2469870554974,
          136.52234290532135,
          142.66230223677005,
          143.46079452462402,
          145.81163517333704,
          145.31567723057057,
          148.0236075980754,
          149.1097554927339,
          147.38382185190667,
          149.7842582948963,
          145.1272132123193,
          144.63125526955284,
          143.25745176808977,
          141.27361999702396,
          145.04290036204898,
          147.82026484154113,
          149.32797698755112,
          147.9343351683774,
          146.50597629321,
          145.98522045330526,
          146.9424192828445,
          147.78058820611983,
          149.58091553836204,
          151.8325645985217,
          153.2212468382678,
          154.63472697515218,
          154.223081882656,
          155.88454099092363,
          156.16227743887282,
          157.3773743986506,
          159.06859098348423,
          160.12498140157678,
          159.90180032733187,
          161.53846153846112,
          164.6332391013238,
          163.05609284332647,
          159.56454892625067,
          164.75722858701542,
          167.4354014779543,
          165.3920547537565,
          146.93250012398914,
          147.5276496553089,
          133.57139314586092,
          113.47517730496428,
          125.68566185587432,
          123.09180181520578,
          137.975499677627,
          142.16138471457583,
          140.34121906462298,
          140.25194663492502,
          145.03794078262126,
          141.98283985517992,
          146.52581461092063,
          150.92992114268674,
          158.37920944303883,
          150.87536576898242,
          153.07245945543778,
          148.81218072707398,
          154.85294846996936,
          157.51128304319752,
          159.55958934682297,
          159.14298467489914,
          161.94018747210194,
          165.9326489113719,
          167.05847344145175,
          168.3678024103552,
          173.87293557506283,
          169.90031245350355,
          165.67971036056105,
          163.98849377572742,
          163.03625452561585,
          165.57059961315238,
          172.02301244854397,
          172.2412339433612,
          171.49233744978383,
          161.95010663095732,
          173.66463323910094,
          177.60253930466658,
          176.2287358032035,
          180.3650250458757,
          183.43004513217238,
          181.66939443535148,
          183.09775331051887,
          183.0084808808209,
          185.4287556415212,
          189.08892525913762,
          186.33139909735615,
          189.8923771264193,
          183.53915587958102,
          192.28785398998122,
          194.73292664781982,
          193.43847641719938,
          188.6425631106478,
          190.2643455834941,
          195.4371869265482,
          193.16569954867788,
          196.3894261766598,
          198.68571145166848,
          204.0817338689675,
          206.9434111987299,
          206.68551306849136,
          206.96324951644056,
          209.35376680057485,
          206.6061597976487,
          205.7927887715117,
          208.32217427962064,
          209.59182661310277,
          210.4399146952334,
          205.78286961265644,
          211.58061796359627,
          215.10687893666577,
          215.99960323364536,
          213.9264990328816,
          218.19173734067311,
          217.4825174825171,
          219.45643009472758,
          221.1575658384165,
          219.8879135049344,
          223.30506373059526,
          224.7086247086243,
          220.91950602588864,
          218.91583593711218,
          220.160690373456,
          215.36477706690437,
          217.16014481971894,
          221.1327679412782,
          224.72846302633496,
          227.7686852154933,
          232.37117492436596,
          231.74626791648024,
          232.54971978376187,
          227.62981699151868,
          224.87725040916487,
          233.4672419778798,
          228.07617914000846,
          233.3978078658925,
          235.56018449635422,
          231.16103754401578,
          230.48157516242577,
          217.21965977285083,
          219.18861280563362,
          222.5363289193072,
          218.44963547091163,
          215.35981748747665,
          217.10558944601453,
          214.33814412537774,
          208.33705301790366,
          220.46322471854342,
          224.51520111094536,
          224.62927143778165,
          221.97589644398113,
          217.12542776372524,
          211.2979219362194,
          204.3346724197784,
          204.00734017755252,
          199.23622476813927,
          193.24009324009282,
          205.95149531319697,
          203.61057382333934,
          193.3244060903631,
          181.45117294053424,
          193.4632743143377,
          189.07900610028227,
          192.763973615037,
          191.00828249764376,
          195.9480236075976,
          204.32971284035065,
          205.06373059564504,
          211.82363735555177,
          209.36368595943014,
          201.01671378267076,
          194.53454347071323,
          201.65649952883948,
          191.2215444130333,
          182.48772504091608,
          177.1462579973214,
          179.9285820562412,
          177.3694390715663,
          185.6320983980554,
          192.93755889500522,
          186.65377176015429,
          197.64419977185887,
          null
         ],
         "yaxis": "y"
        }
       ],
       "layout": {
        "legend": {
         "title": {
          "text": "variable"
         },
         "tracegroupgap": 0
        },
        "template": {
         "data": {
          "bar": [
           {
            "error_x": {
             "color": "#2a3f5f"
            },
            "error_y": {
             "color": "#2a3f5f"
            },
            "marker": {
             "line": {
              "color": "#E5ECF6",
              "width": 0.5
             },
             "pattern": {
              "fillmode": "overlay",
              "size": 10,
              "solidity": 0.2
             }
            },
            "type": "bar"
           }
          ],
          "barpolar": [
           {
            "marker": {
             "line": {
              "color": "#E5ECF6",
              "width": 0.5
             },
             "pattern": {
              "fillmode": "overlay",
              "size": 10,
              "solidity": 0.2
             }
            },
            "type": "barpolar"
           }
          ],
          "carpet": [
           {
            "aaxis": {
             "endlinecolor": "#2a3f5f",
             "gridcolor": "white",
             "linecolor": "white",
             "minorgridcolor": "white",
             "startlinecolor": "#2a3f5f"
            },
            "baxis": {
             "endlinecolor": "#2a3f5f",
             "gridcolor": "white",
             "linecolor": "white",
             "minorgridcolor": "white",
             "startlinecolor": "#2a3f5f"
            },
            "type": "carpet"
           }
          ],
          "choropleth": [
           {
            "colorbar": {
             "outlinewidth": 0,
             "ticks": ""
            },
            "type": "choropleth"
           }
          ],
          "contour": [
           {
            "colorbar": {
             "outlinewidth": 0,
             "ticks": ""
            },
            "colorscale": [
             [
              0,
              "#0d0887"
             ],
             [
              0.1111111111111111,
              "#46039f"
             ],
             [
              0.2222222222222222,
              "#7201a8"
             ],
             [
              0.3333333333333333,
              "#9c179e"
             ],
             [
              0.4444444444444444,
              "#bd3786"
             ],
             [
              0.5555555555555556,
              "#d8576b"
             ],
             [
              0.6666666666666666,
              "#ed7953"
             ],
             [
              0.7777777777777778,
              "#fb9f3a"
             ],
             [
              0.8888888888888888,
              "#fdca26"
             ],
             [
              1,
              "#f0f921"
             ]
            ],
            "type": "contour"
           }
          ],
          "contourcarpet": [
           {
            "colorbar": {
             "outlinewidth": 0,
             "ticks": ""
            },
            "type": "contourcarpet"
           }
          ],
          "heatmap": [
           {
            "colorbar": {
             "outlinewidth": 0,
             "ticks": ""
            },
            "colorscale": [
             [
              0,
              "#0d0887"
             ],
             [
              0.1111111111111111,
              "#46039f"
             ],
             [
              0.2222222222222222,
              "#7201a8"
             ],
             [
              0.3333333333333333,
              "#9c179e"
             ],
             [
              0.4444444444444444,
              "#bd3786"
             ],
             [
              0.5555555555555556,
              "#d8576b"
             ],
             [
              0.6666666666666666,
              "#ed7953"
             ],
             [
              0.7777777777777778,
              "#fb9f3a"
             ],
             [
              0.8888888888888888,
              "#fdca26"
             ],
             [
              1,
              "#f0f921"
             ]
            ],
            "type": "heatmap"
           }
          ],
          "heatmapgl": [
           {
            "colorbar": {
             "outlinewidth": 0,
             "ticks": ""
            },
            "colorscale": [
             [
              0,
              "#0d0887"
             ],
             [
              0.1111111111111111,
              "#46039f"
             ],
             [
              0.2222222222222222,
              "#7201a8"
             ],
             [
              0.3333333333333333,
              "#9c179e"
             ],
             [
              0.4444444444444444,
              "#bd3786"
             ],
             [
              0.5555555555555556,
              "#d8576b"
             ],
             [
              0.6666666666666666,
              "#ed7953"
             ],
             [
              0.7777777777777778,
              "#fb9f3a"
             ],
             [
              0.8888888888888888,
              "#fdca26"
             ],
             [
              1,
              "#f0f921"
             ]
            ],
            "type": "heatmapgl"
           }
          ],
          "histogram": [
           {
            "marker": {
             "pattern": {
              "fillmode": "overlay",
              "size": 10,
              "solidity": 0.2
             }
            },
            "type": "histogram"
           }
          ],
          "histogram2d": [
           {
            "colorbar": {
             "outlinewidth": 0,
             "ticks": ""
            },
            "colorscale": [
             [
              0,
              "#0d0887"
             ],
             [
              0.1111111111111111,
              "#46039f"
             ],
             [
              0.2222222222222222,
              "#7201a8"
             ],
             [
              0.3333333333333333,
              "#9c179e"
             ],
             [
              0.4444444444444444,
              "#bd3786"
             ],
             [
              0.5555555555555556,
              "#d8576b"
             ],
             [
              0.6666666666666666,
              "#ed7953"
             ],
             [
              0.7777777777777778,
              "#fb9f3a"
             ],
             [
              0.8888888888888888,
              "#fdca26"
             ],
             [
              1,
              "#f0f921"
             ]
            ],
            "type": "histogram2d"
           }
          ],
          "histogram2dcontour": [
           {
            "colorbar": {
             "outlinewidth": 0,
             "ticks": ""
            },
            "colorscale": [
             [
              0,
              "#0d0887"
             ],
             [
              0.1111111111111111,
              "#46039f"
             ],
             [
              0.2222222222222222,
              "#7201a8"
             ],
             [
              0.3333333333333333,
              "#9c179e"
             ],
             [
              0.4444444444444444,
              "#bd3786"
             ],
             [
              0.5555555555555556,
              "#d8576b"
             ],
             [
              0.6666666666666666,
              "#ed7953"
             ],
             [
              0.7777777777777778,
              "#fb9f3a"
             ],
             [
              0.8888888888888888,
              "#fdca26"
             ],
             [
              1,
              "#f0f921"
             ]
            ],
            "type": "histogram2dcontour"
           }
          ],
          "mesh3d": [
           {
            "colorbar": {
             "outlinewidth": 0,
             "ticks": ""
            },
            "type": "mesh3d"
           }
          ],
          "parcoords": [
           {
            "line": {
             "colorbar": {
              "outlinewidth": 0,
              "ticks": ""
             }
            },
            "type": "parcoords"
           }
          ],
          "pie": [
           {
            "automargin": true,
            "type": "pie"
           }
          ],
          "scatter": [
           {
            "fillpattern": {
             "fillmode": "overlay",
             "size": 10,
             "solidity": 0.2
            },
            "type": "scatter"
           }
          ],
          "scatter3d": [
           {
            "line": {
             "colorbar": {
              "outlinewidth": 0,
              "ticks": ""
             }
            },
            "marker": {
             "colorbar": {
              "outlinewidth": 0,
              "ticks": ""
             }
            },
            "type": "scatter3d"
           }
          ],
          "scattercarpet": [
           {
            "marker": {
             "colorbar": {
              "outlinewidth": 0,
              "ticks": ""
             }
            },
            "type": "scattercarpet"
           }
          ],
          "scattergeo": [
           {
            "marker": {
             "colorbar": {
              "outlinewidth": 0,
              "ticks": ""
             }
            },
            "type": "scattergeo"
           }
          ],
          "scattergl": [
           {
            "marker": {
             "colorbar": {
              "outlinewidth": 0,
              "ticks": ""
             }
            },
            "type": "scattergl"
           }
          ],
          "scattermapbox": [
           {
            "marker": {
             "colorbar": {
              "outlinewidth": 0,
              "ticks": ""
             }
            },
            "type": "scattermapbox"
           }
          ],
          "scatterpolar": [
           {
            "marker": {
             "colorbar": {
              "outlinewidth": 0,
              "ticks": ""
             }
            },
            "type": "scatterpolar"
           }
          ],
          "scatterpolargl": [
           {
            "marker": {
             "colorbar": {
              "outlinewidth": 0,
              "ticks": ""
             }
            },
            "type": "scatterpolargl"
           }
          ],
          "scatterternary": [
           {
            "marker": {
             "colorbar": {
              "outlinewidth": 0,
              "ticks": ""
             }
            },
            "type": "scatterternary"
           }
          ],
          "surface": [
           {
            "colorbar": {
             "outlinewidth": 0,
             "ticks": ""
            },
            "colorscale": [
             [
              0,
              "#0d0887"
             ],
             [
              0.1111111111111111,
              "#46039f"
             ],
             [
              0.2222222222222222,
              "#7201a8"
             ],
             [
              0.3333333333333333,
              "#9c179e"
             ],
             [
              0.4444444444444444,
              "#bd3786"
             ],
             [
              0.5555555555555556,
              "#d8576b"
             ],
             [
              0.6666666666666666,
              "#ed7953"
             ],
             [
              0.7777777777777778,
              "#fb9f3a"
             ],
             [
              0.8888888888888888,
              "#fdca26"
             ],
             [
              1,
              "#f0f921"
             ]
            ],
            "type": "surface"
           }
          ],
          "table": [
           {
            "cells": {
             "fill": {
              "color": "#EBF0F8"
             },
             "line": {
              "color": "white"
             }
            },
            "header": {
             "fill": {
              "color": "#C8D4E3"
             },
             "line": {
              "color": "white"
             }
            },
            "type": "table"
           }
          ]
         },
         "layout": {
          "annotationdefaults": {
           "arrowcolor": "#2a3f5f",
           "arrowhead": 0,
           "arrowwidth": 1
          },
          "autotypenumbers": "strict",
          "coloraxis": {
           "colorbar": {
            "outlinewidth": 0,
            "ticks": ""
           }
          },
          "colorscale": {
           "diverging": [
            [
             0,
             "#8e0152"
            ],
            [
             0.1,
             "#c51b7d"
            ],
            [
             0.2,
             "#de77ae"
            ],
            [
             0.3,
             "#f1b6da"
            ],
            [
             0.4,
             "#fde0ef"
            ],
            [
             0.5,
             "#f7f7f7"
            ],
            [
             0.6,
             "#e6f5d0"
            ],
            [
             0.7,
             "#b8e186"
            ],
            [
             0.8,
             "#7fbc41"
            ],
            [
             0.9,
             "#4d9221"
            ],
            [
             1,
             "#276419"
            ]
           ],
           "sequential": [
            [
             0,
             "#0d0887"
            ],
            [
             0.1111111111111111,
             "#46039f"
            ],
            [
             0.2222222222222222,
             "#7201a8"
            ],
            [
             0.3333333333333333,
             "#9c179e"
            ],
            [
             0.4444444444444444,
             "#bd3786"
            ],
            [
             0.5555555555555556,
             "#d8576b"
            ],
            [
             0.6666666666666666,
             "#ed7953"
            ],
            [
             0.7777777777777778,
             "#fb9f3a"
            ],
            [
             0.8888888888888888,
             "#fdca26"
            ],
            [
             1,
             "#f0f921"
            ]
           ],
           "sequentialminus": [
            [
             0,
             "#0d0887"
            ],
            [
             0.1111111111111111,
             "#46039f"
            ],
            [
             0.2222222222222222,
             "#7201a8"
            ],
            [
             0.3333333333333333,
             "#9c179e"
            ],
            [
             0.4444444444444444,
             "#bd3786"
            ],
            [
             0.5555555555555556,
             "#d8576b"
            ],
            [
             0.6666666666666666,
             "#ed7953"
            ],
            [
             0.7777777777777778,
             "#fb9f3a"
            ],
            [
             0.8888888888888888,
             "#fdca26"
            ],
            [
             1,
             "#f0f921"
            ]
           ]
          },
          "colorway": [
           "#636efa",
           "#EF553B",
           "#00cc96",
           "#ab63fa",
           "#FFA15A",
           "#19d3f3",
           "#FF6692",
           "#B6E880",
           "#FF97FF",
           "#FECB52"
          ],
          "font": {
           "color": "#2a3f5f"
          },
          "geo": {
           "bgcolor": "white",
           "lakecolor": "white",
           "landcolor": "#E5ECF6",
           "showlakes": true,
           "showland": true,
           "subunitcolor": "white"
          },
          "hoverlabel": {
           "align": "left"
          },
          "hovermode": "closest",
          "mapbox": {
           "style": "light"
          },
          "paper_bgcolor": "white",
          "plot_bgcolor": "#E5ECF6",
          "polar": {
           "angularaxis": {
            "gridcolor": "white",
            "linecolor": "white",
            "ticks": ""
           },
           "bgcolor": "#E5ECF6",
           "radialaxis": {
            "gridcolor": "white",
            "linecolor": "white",
            "ticks": ""
           }
          },
          "scene": {
           "xaxis": {
            "backgroundcolor": "#E5ECF6",
            "gridcolor": "white",
            "gridwidth": 2,
            "linecolor": "white",
            "showbackground": true,
            "ticks": "",
            "zerolinecolor": "white"
           },
           "yaxis": {
            "backgroundcolor": "#E5ECF6",
            "gridcolor": "white",
            "gridwidth": 2,
            "linecolor": "white",
            "showbackground": true,
            "ticks": "",
            "zerolinecolor": "white"
           },
           "zaxis": {
            "backgroundcolor": "#E5ECF6",
            "gridcolor": "white",
            "gridwidth": 2,
            "linecolor": "white",
            "showbackground": true,
            "ticks": "",
            "zerolinecolor": "white"
           }
          },
          "shapedefaults": {
           "line": {
            "color": "#2a3f5f"
           }
          },
          "ternary": {
           "aaxis": {
            "gridcolor": "white",
            "linecolor": "white",
            "ticks": ""
           },
           "baxis": {
            "gridcolor": "white",
            "linecolor": "white",
            "ticks": ""
           },
           "bgcolor": "#E5ECF6",
           "caxis": {
            "gridcolor": "white",
            "linecolor": "white",
            "ticks": ""
           }
          },
          "title": {
           "x": 0.05
          },
          "xaxis": {
           "automargin": true,
           "gridcolor": "white",
           "linecolor": "white",
           "ticks": "",
           "title": {
            "standoff": 15
           },
           "zerolinecolor": "white",
           "zerolinewidth": 2
          },
          "yaxis": {
           "automargin": true,
           "gridcolor": "white",
           "linecolor": "white",
           "ticks": "",
           "title": {
            "standoff": 15
           },
           "zerolinecolor": "white",
           "zerolinewidth": 2
          }
         }
        },
        "title": {
         "text": "Growth in IBM v SPY"
        },
        "xaxis": {
         "anchor": "y",
         "domain": [
          0,
          1
         ],
         "title": {
          "text": "date"
         }
        },
        "yaxis": {
         "anchor": "x",
         "domain": [
          0,
          1
         ],
         "title": {
          "text": "value"
         }
        }
       }
      }
     },
     "metadata": {},
     "output_type": "display_data"
    }
   ],
   "source": [
    "graphAlpha(\"IBM\", \"2015-01-05\")"
   ]
  },
  {
   "cell_type": "markdown",
   "metadata": {},
   "source": [
    "Our all-in-one function for graphing alpha appears to be \"functioning\" properly. There is no obvious alpha here, but this is just a random stock and date. Instead of picking randomly, let's graph find some actual stock purachases and thier associated dates"
   ]
  },
  {
   "cell_type": "code",
   "execution_count": 244,
   "metadata": {},
   "outputs": [
    {
     "data": {
      "text/html": [
       "<div>\n",
       "<style scoped>\n",
       "    .dataframe tbody tr th:only-of-type {\n",
       "        vertical-align: middle;\n",
       "    }\n",
       "\n",
       "    .dataframe tbody tr th {\n",
       "        vertical-align: top;\n",
       "    }\n",
       "\n",
       "    .dataframe thead th {\n",
       "        text-align: right;\n",
       "    }\n",
       "</style>\n",
       "<table border=\"1\" class=\"dataframe\">\n",
       "  <thead>\n",
       "    <tr style=\"text-align: right;\">\n",
       "      <th></th>\n",
       "      <th>transaction_date</th>\n",
       "      <th>owner</th>\n",
       "      <th>ticker</th>\n",
       "      <th>asset_description</th>\n",
       "      <th>asset_type</th>\n",
       "      <th>type</th>\n",
       "    </tr>\n",
       "  </thead>\n",
       "  <tbody>\n",
       "    <tr>\n",
       "      <th>1034</th>\n",
       "      <td>03/29/2021</td>\n",
       "      <td>Joint</td>\n",
       "      <td>ATHM</td>\n",
       "      <td>Autohome Inc.</td>\n",
       "      <td>Stock</td>\n",
       "      <td>Purchase</td>\n",
       "    </tr>\n",
       "    <tr>\n",
       "      <th>1035</th>\n",
       "      <td>03/29/2021</td>\n",
       "      <td>Joint</td>\n",
       "      <td>AME</td>\n",
       "      <td>AMETEK, Inc.</td>\n",
       "      <td>Stock</td>\n",
       "      <td>Purchase</td>\n",
       "    </tr>\n",
       "    <tr>\n",
       "      <th>1036</th>\n",
       "      <td>03/29/2021</td>\n",
       "      <td>Joint</td>\n",
       "      <td>GOOGL</td>\n",
       "      <td>Alphabet Inc.</td>\n",
       "      <td>Stock</td>\n",
       "      <td>Purchase</td>\n",
       "    </tr>\n",
       "    <tr>\n",
       "      <th>1039</th>\n",
       "      <td>03/16/2021</td>\n",
       "      <td>Joint</td>\n",
       "      <td>AA</td>\n",
       "      <td>Alcoa Corporation</td>\n",
       "      <td>Stock</td>\n",
       "      <td>Purchase</td>\n",
       "    </tr>\n",
       "    <tr>\n",
       "      <th>1040</th>\n",
       "      <td>03/16/2021</td>\n",
       "      <td>Joint</td>\n",
       "      <td>AA</td>\n",
       "      <td>Alcoa Corporation</td>\n",
       "      <td>Stock</td>\n",
       "      <td>Purchase</td>\n",
       "    </tr>\n",
       "    <tr>\n",
       "      <th>1043</th>\n",
       "      <td>03/12/2021</td>\n",
       "      <td>Joint</td>\n",
       "      <td>CLF</td>\n",
       "      <td>Cleveland-Cliffs Inc.</td>\n",
       "      <td>Stock</td>\n",
       "      <td>Purchase</td>\n",
       "    </tr>\n",
       "    <tr>\n",
       "      <th>1056</th>\n",
       "      <td>04/19/2021</td>\n",
       "      <td>Joint</td>\n",
       "      <td>CLF</td>\n",
       "      <td>Cleveland-Cliffs Inc.</td>\n",
       "      <td>Stock</td>\n",
       "      <td>Purchase</td>\n",
       "    </tr>\n",
       "    <tr>\n",
       "      <th>1059</th>\n",
       "      <td>04/16/2021</td>\n",
       "      <td>Joint</td>\n",
       "      <td>ECOM</td>\n",
       "      <td>ChannelAdvisor Corporation</td>\n",
       "      <td>Stock</td>\n",
       "      <td>Purchase</td>\n",
       "    </tr>\n",
       "    <tr>\n",
       "      <th>1069</th>\n",
       "      <td>04/07/2021</td>\n",
       "      <td>Joint</td>\n",
       "      <td>OXY</td>\n",
       "      <td>Occidental Petroleum Corporation</td>\n",
       "      <td>Stock</td>\n",
       "      <td>Purchase</td>\n",
       "    </tr>\n",
       "    <tr>\n",
       "      <th>1082</th>\n",
       "      <td>05/06/2021</td>\n",
       "      <td>Joint</td>\n",
       "      <td>X</td>\n",
       "      <td>United States Steel Corporation</td>\n",
       "      <td>Stock</td>\n",
       "      <td>Purchase</td>\n",
       "    </tr>\n",
       "  </tbody>\n",
       "</table>\n",
       "</div>"
      ],
      "text/plain": [
       "     transaction_date  owner ticker                 asset_description  \\\n",
       "1034       03/29/2021  Joint   ATHM                     Autohome Inc.   \n",
       "1035       03/29/2021  Joint    AME                      AMETEK, Inc.   \n",
       "1036       03/29/2021  Joint  GOOGL                     Alphabet Inc.   \n",
       "1039       03/16/2021  Joint     AA                 Alcoa Corporation   \n",
       "1040       03/16/2021  Joint     AA                 Alcoa Corporation   \n",
       "1043       03/12/2021  Joint    CLF             Cleveland-Cliffs Inc.   \n",
       "1056       04/19/2021  Joint    CLF             Cleveland-Cliffs Inc.   \n",
       "1059       04/16/2021  Joint   ECOM        ChannelAdvisor Corporation   \n",
       "1069       04/07/2021  Joint    OXY  Occidental Petroleum Corporation   \n",
       "1082       05/06/2021  Joint      X   United States Steel Corporation   \n",
       "\n",
       "     asset_type      type  \n",
       "1034      Stock  Purchase  \n",
       "1035      Stock  Purchase  \n",
       "1036      Stock  Purchase  \n",
       "1039      Stock  Purchase  \n",
       "1040      Stock  Purchase  \n",
       "1043      Stock  Purchase  \n",
       "1056      Stock  Purchase  \n",
       "1059      Stock  Purchase  \n",
       "1069      Stock  Purchase  \n",
       "1082      Stock  Purchase  "
      ]
     },
     "execution_count": 244,
     "metadata": {},
     "output_type": "execute_result"
    }
   ],
   "source": [
    "# tub[tub['']]\n",
    "# tub.head()\n",
    "isTuberville = transactions['senatorId']==100\n",
    "isPurchase = transactions['type']=='Purchase'\n",
    "isStock = transactions['asset_type']=='Stock'\n",
    "\n",
    "tbPurchases = transactions[isTuberville & isPurchase & isStock]\n",
    "tbPurchases.tail(10).loc[:, :'type']\n"
   ]
  },
  {
   "cell_type": "code",
   "execution_count": 245,
   "metadata": {},
   "outputs": [
    {
     "data": {
      "application/vnd.plotly.v1+json": {
       "config": {
        "plotlyServerURL": "https://plot.ly"
       },
       "data": [
        {
         "hovertemplate": "variable=OXY_growth<br>date=%{x}<br>value=%{y}<extra></extra>",
         "legendgroup": "OXY_growth",
         "line": {
          "color": "#636efa",
          "dash": "solid"
         },
         "marker": {
          "symbol": "circle"
         },
         "mode": "lines",
         "name": "OXY_growth",
         "orientation": "v",
         "showlegend": true,
         "type": "scatter",
         "x": [
          "2021-06-25T00:00:00",
          "2021-07-02T00:00:00",
          "2021-07-09T00:00:00",
          "2021-07-16T00:00:00",
          "2021-07-23T00:00:00",
          "2021-07-30T00:00:00",
          "2021-08-06T00:00:00",
          "2021-08-13T00:00:00",
          "2021-08-20T00:00:00",
          "2021-08-27T00:00:00",
          "2021-09-03T00:00:00",
          "2021-09-10T00:00:00",
          "2021-09-17T00:00:00",
          "2021-09-24T00:00:00",
          "2021-10-01T00:00:00",
          "2021-10-08T00:00:00",
          "2021-10-15T00:00:00",
          "2021-10-22T00:00:00",
          "2021-10-29T00:00:00",
          "2021-11-05T00:00:00",
          "2021-11-12T00:00:00",
          "2021-11-19T00:00:00",
          "2021-11-26T00:00:00",
          "2021-12-03T00:00:00",
          "2021-12-10T00:00:00",
          "2021-12-17T00:00:00",
          "2021-12-23T00:00:00",
          "2021-12-31T00:00:00",
          "2022-01-07T00:00:00",
          "2022-01-14T00:00:00",
          "2022-01-21T00:00:00",
          "2022-01-28T00:00:00",
          "2022-02-04T00:00:00",
          "2022-02-11T00:00:00",
          "2022-02-18T00:00:00",
          "2022-02-25T00:00:00",
          "2022-03-04T00:00:00",
          "2022-03-11T00:00:00",
          "2022-03-18T00:00:00",
          "2022-03-25T00:00:00",
          "2022-04-01T00:00:00",
          "2022-04-08T00:00:00",
          "2022-04-14T00:00:00",
          "2022-04-22T00:00:00",
          "2022-04-29T00:00:00",
          "2022-05-06T00:00:00",
          "2022-05-13T00:00:00",
          "2022-05-20T00:00:00",
          "2022-05-27T00:00:00",
          "2022-06-03T00:00:00",
          "2022-06-10T00:00:00",
          "2022-06-17T00:00:00",
          "2022-06-24T00:00:00",
          "2022-07-01T00:00:00",
          "2022-07-08T00:00:00",
          "2022-07-15T00:00:00",
          "2022-07-22T00:00:00",
          "2022-07-29T00:00:00",
          "2022-08-05T00:00:00",
          "2022-08-12T00:00:00",
          "2022-08-19T00:00:00",
          "2022-08-26T00:00:00",
          "2022-09-02T00:00:00",
          "2022-09-09T00:00:00",
          "2022-09-16T00:00:00",
          "2022-09-23T00:00:00",
          "2022-09-30T00:00:00",
          "2022-10-07T00:00:00",
          "2022-10-14T00:00:00",
          "2022-10-21T00:00:00",
          "2022-10-28T00:00:00",
          "2022-11-04T00:00:00",
          "2022-11-11T00:00:00",
          "2022-11-15T00:00:00"
         ],
         "xaxis": "x",
         "y": [
          null,
          100,
          92.81767955801105,
          79.6193984039288,
          81.58379373848987,
          80.11049723756908,
          81.00061387354206,
          79.15899324739105,
          67.37262124002457,
          78.75997544505834,
          79.55801104972379,
          76.6728054020872,
          82.68876611418051,
          86.24923265807247,
          95.61080417434012,
          103.22283609576431,
          97.17618170656847,
          104.1436464088398,
          102.91589932473913,
          102.57826887661145,
          98.46531614487418,
          89.3799877225292,
          91.16022099447517,
          89.50276243093926,
          94.44444444444447,
          86.06507059545736,
          88.55125844076123,
          88.98096992019646,
          101.93370165745858,
          108.99324739103744,
          103.59116022099448,
          115.31614487415594,
          125.23020257826889,
          131.92142418661757,
          121.42418661755681,
          118.90730509515042,
          172.34499693063233,
          177.8698588090854,
          172.62124002455502,
          180.2025782688767,
          178.36095764272568,
          189.68692449355441,
          182.13627992633528,
          173.78759975445067,
          169.0914671577656,
          199.32473910374472,
          196.68508287292826,
          194.16820135052188,
          217.49539594843475,
          215.7458563535913,
          196.04051565377543,
          170.90239410681409,
          176.5500306936772,
          185.51258440761214,
          186.21853898097004,
          180.20257826887672,
          187.4155923879682,
          201.8109269490486,
          181.12338858195218,
          201.74953959484355,
          218.81522406384295,
          225.75199508901173,
          211.08041743400867,
          201.38121546961332,
          197.6979742173113,
          180.2639656230817,
          188.6126457949663,
          214.2418661755679,
          204.66543891958267,
          218.7231430325354,
          220.5033763044814,
          224.8925721301413,
          228.1461019030081,
          null
         ],
         "yaxis": "y"
        },
        {
         "hovertemplate": "variable=SPY_growth<br>date=%{x}<br>value=%{y}<extra></extra>",
         "legendgroup": "SPY_growth",
         "line": {
          "color": "#EF553B",
          "dash": "solid"
         },
         "marker": {
          "symbol": "circle"
         },
         "mode": "lines",
         "name": "SPY_growth",
         "orientation": "v",
         "showlegend": true,
         "type": "scatter",
         "x": [
          "2021-06-25T00:00:00",
          "2021-07-02T00:00:00",
          "2021-07-09T00:00:00",
          "2021-07-16T00:00:00",
          "2021-07-23T00:00:00",
          "2021-07-30T00:00:00",
          "2021-08-06T00:00:00",
          "2021-08-13T00:00:00",
          "2021-08-20T00:00:00",
          "2021-08-27T00:00:00",
          "2021-09-03T00:00:00",
          "2021-09-10T00:00:00",
          "2021-09-17T00:00:00",
          "2021-09-24T00:00:00",
          "2021-10-01T00:00:00",
          "2021-10-08T00:00:00",
          "2021-10-15T00:00:00",
          "2021-10-22T00:00:00",
          "2021-10-29T00:00:00",
          "2021-11-05T00:00:00",
          "2021-11-12T00:00:00",
          "2021-11-19T00:00:00",
          "2021-11-26T00:00:00",
          "2021-12-03T00:00:00",
          "2021-12-10T00:00:00",
          "2021-12-17T00:00:00",
          "2021-12-23T00:00:00",
          "2021-12-31T00:00:00",
          "2022-01-07T00:00:00",
          "2022-01-14T00:00:00",
          "2022-01-21T00:00:00",
          "2022-01-28T00:00:00",
          "2022-02-04T00:00:00",
          "2022-02-11T00:00:00",
          "2022-02-18T00:00:00",
          "2022-02-25T00:00:00",
          "2022-03-04T00:00:00",
          "2022-03-11T00:00:00",
          "2022-03-18T00:00:00",
          "2022-03-25T00:00:00",
          "2022-04-01T00:00:00",
          "2022-04-08T00:00:00",
          "2022-04-14T00:00:00",
          "2022-04-22T00:00:00",
          "2022-04-29T00:00:00",
          "2022-05-06T00:00:00",
          "2022-05-13T00:00:00",
          "2022-05-20T00:00:00",
          "2022-05-27T00:00:00",
          "2022-06-03T00:00:00",
          "2022-06-10T00:00:00",
          "2022-06-17T00:00:00",
          "2022-06-24T00:00:00",
          "2022-07-01T00:00:00",
          "2022-07-08T00:00:00",
          "2022-07-15T00:00:00",
          "2022-07-22T00:00:00",
          "2022-07-29T00:00:00",
          "2022-08-05T00:00:00",
          "2022-08-12T00:00:00",
          "2022-08-19T00:00:00",
          "2022-08-26T00:00:00",
          "2022-09-02T00:00:00",
          "2022-09-09T00:00:00",
          "2022-09-16T00:00:00",
          "2022-09-23T00:00:00",
          "2022-09-30T00:00:00",
          "2022-10-07T00:00:00",
          "2022-10-14T00:00:00",
          "2022-10-21T00:00:00",
          "2022-10-28T00:00:00",
          "2022-11-04T00:00:00",
          "2022-11-11T00:00:00",
          "2022-11-15T00:00:00"
         ],
         "xaxis": "x",
         "y": [
          null,
          100,
          100.41501429493682,
          99.45125887669464,
          101.43410495250393,
          101.10439915152634,
          102.0220418703311,
          102.81287466568293,
          102.22263211288389,
          103.81121460850318,
          104.46370930554274,
          102.7022041870331,
          101.77072765839712,
          102.34944203633681,
          100.1198930185373,
          100.9545328783547,
          102.80134649082356,
          104.47293184543022,
          105.8862860831873,
          108.02591533708382,
          107.73540533062804,
          108.10891819607117,
          105.82172830397491,
          104.54210089458637,
          108.53546066586738,
          106.02923545144333,
          108.50318177626119,
          109.50843862399705,
          107.46334040394724,
          107.14746841280089,
          100.98220049801715,
          101.89753758185003,
          103.45384118786313,
          101.55399797104123,
          100.11758738356545,
          100.92917089366412,
          99.64262657935997,
          96.85280826339576,
          102.49008576962098,
          104.37378954163981,
          104.42681914599285,
          103.19330443604173,
          100.93839343355165,
          98.22927234160292,
          94.99216084109567,
          94.83998893295215,
          92.62196809001202,
          89.83445540901965,
          95.74379784192567,
          94.65553813520245,
          89.87365120354147,
          84.35396108088169,
          89.93820898275385,
          87.90002766761967,
          89.61311445172001,
          88.79691967167759,
          91.09333210366135,
          94.98985520612378,
          95.33108918196073,
          98.47366964862124,
          97.33007470257309,
          93.44969104491376,
          90.43622613667804,
          93.74711795628515,
          88.89606197546803,
          84.83583879000275,
          82.35266992529742,
          83.64613114451718,
          82.45642349903162,
          86.29761136216914,
          89.69381167573547,
          86.7725721663746,
          91.8818592640413,
          null
         ],
         "yaxis": "y"
        }
       ],
       "layout": {
        "legend": {
         "title": {
          "text": "variable"
         },
         "tracegroupgap": 0
        },
        "template": {
         "data": {
          "bar": [
           {
            "error_x": {
             "color": "#2a3f5f"
            },
            "error_y": {
             "color": "#2a3f5f"
            },
            "marker": {
             "line": {
              "color": "#E5ECF6",
              "width": 0.5
             },
             "pattern": {
              "fillmode": "overlay",
              "size": 10,
              "solidity": 0.2
             }
            },
            "type": "bar"
           }
          ],
          "barpolar": [
           {
            "marker": {
             "line": {
              "color": "#E5ECF6",
              "width": 0.5
             },
             "pattern": {
              "fillmode": "overlay",
              "size": 10,
              "solidity": 0.2
             }
            },
            "type": "barpolar"
           }
          ],
          "carpet": [
           {
            "aaxis": {
             "endlinecolor": "#2a3f5f",
             "gridcolor": "white",
             "linecolor": "white",
             "minorgridcolor": "white",
             "startlinecolor": "#2a3f5f"
            },
            "baxis": {
             "endlinecolor": "#2a3f5f",
             "gridcolor": "white",
             "linecolor": "white",
             "minorgridcolor": "white",
             "startlinecolor": "#2a3f5f"
            },
            "type": "carpet"
           }
          ],
          "choropleth": [
           {
            "colorbar": {
             "outlinewidth": 0,
             "ticks": ""
            },
            "type": "choropleth"
           }
          ],
          "contour": [
           {
            "colorbar": {
             "outlinewidth": 0,
             "ticks": ""
            },
            "colorscale": [
             [
              0,
              "#0d0887"
             ],
             [
              0.1111111111111111,
              "#46039f"
             ],
             [
              0.2222222222222222,
              "#7201a8"
             ],
             [
              0.3333333333333333,
              "#9c179e"
             ],
             [
              0.4444444444444444,
              "#bd3786"
             ],
             [
              0.5555555555555556,
              "#d8576b"
             ],
             [
              0.6666666666666666,
              "#ed7953"
             ],
             [
              0.7777777777777778,
              "#fb9f3a"
             ],
             [
              0.8888888888888888,
              "#fdca26"
             ],
             [
              1,
              "#f0f921"
             ]
            ],
            "type": "contour"
           }
          ],
          "contourcarpet": [
           {
            "colorbar": {
             "outlinewidth": 0,
             "ticks": ""
            },
            "type": "contourcarpet"
           }
          ],
          "heatmap": [
           {
            "colorbar": {
             "outlinewidth": 0,
             "ticks": ""
            },
            "colorscale": [
             [
              0,
              "#0d0887"
             ],
             [
              0.1111111111111111,
              "#46039f"
             ],
             [
              0.2222222222222222,
              "#7201a8"
             ],
             [
              0.3333333333333333,
              "#9c179e"
             ],
             [
              0.4444444444444444,
              "#bd3786"
             ],
             [
              0.5555555555555556,
              "#d8576b"
             ],
             [
              0.6666666666666666,
              "#ed7953"
             ],
             [
              0.7777777777777778,
              "#fb9f3a"
             ],
             [
              0.8888888888888888,
              "#fdca26"
             ],
             [
              1,
              "#f0f921"
             ]
            ],
            "type": "heatmap"
           }
          ],
          "heatmapgl": [
           {
            "colorbar": {
             "outlinewidth": 0,
             "ticks": ""
            },
            "colorscale": [
             [
              0,
              "#0d0887"
             ],
             [
              0.1111111111111111,
              "#46039f"
             ],
             [
              0.2222222222222222,
              "#7201a8"
             ],
             [
              0.3333333333333333,
              "#9c179e"
             ],
             [
              0.4444444444444444,
              "#bd3786"
             ],
             [
              0.5555555555555556,
              "#d8576b"
             ],
             [
              0.6666666666666666,
              "#ed7953"
             ],
             [
              0.7777777777777778,
              "#fb9f3a"
             ],
             [
              0.8888888888888888,
              "#fdca26"
             ],
             [
              1,
              "#f0f921"
             ]
            ],
            "type": "heatmapgl"
           }
          ],
          "histogram": [
           {
            "marker": {
             "pattern": {
              "fillmode": "overlay",
              "size": 10,
              "solidity": 0.2
             }
            },
            "type": "histogram"
           }
          ],
          "histogram2d": [
           {
            "colorbar": {
             "outlinewidth": 0,
             "ticks": ""
            },
            "colorscale": [
             [
              0,
              "#0d0887"
             ],
             [
              0.1111111111111111,
              "#46039f"
             ],
             [
              0.2222222222222222,
              "#7201a8"
             ],
             [
              0.3333333333333333,
              "#9c179e"
             ],
             [
              0.4444444444444444,
              "#bd3786"
             ],
             [
              0.5555555555555556,
              "#d8576b"
             ],
             [
              0.6666666666666666,
              "#ed7953"
             ],
             [
              0.7777777777777778,
              "#fb9f3a"
             ],
             [
              0.8888888888888888,
              "#fdca26"
             ],
             [
              1,
              "#f0f921"
             ]
            ],
            "type": "histogram2d"
           }
          ],
          "histogram2dcontour": [
           {
            "colorbar": {
             "outlinewidth": 0,
             "ticks": ""
            },
            "colorscale": [
             [
              0,
              "#0d0887"
             ],
             [
              0.1111111111111111,
              "#46039f"
             ],
             [
              0.2222222222222222,
              "#7201a8"
             ],
             [
              0.3333333333333333,
              "#9c179e"
             ],
             [
              0.4444444444444444,
              "#bd3786"
             ],
             [
              0.5555555555555556,
              "#d8576b"
             ],
             [
              0.6666666666666666,
              "#ed7953"
             ],
             [
              0.7777777777777778,
              "#fb9f3a"
             ],
             [
              0.8888888888888888,
              "#fdca26"
             ],
             [
              1,
              "#f0f921"
             ]
            ],
            "type": "histogram2dcontour"
           }
          ],
          "mesh3d": [
           {
            "colorbar": {
             "outlinewidth": 0,
             "ticks": ""
            },
            "type": "mesh3d"
           }
          ],
          "parcoords": [
           {
            "line": {
             "colorbar": {
              "outlinewidth": 0,
              "ticks": ""
             }
            },
            "type": "parcoords"
           }
          ],
          "pie": [
           {
            "automargin": true,
            "type": "pie"
           }
          ],
          "scatter": [
           {
            "fillpattern": {
             "fillmode": "overlay",
             "size": 10,
             "solidity": 0.2
            },
            "type": "scatter"
           }
          ],
          "scatter3d": [
           {
            "line": {
             "colorbar": {
              "outlinewidth": 0,
              "ticks": ""
             }
            },
            "marker": {
             "colorbar": {
              "outlinewidth": 0,
              "ticks": ""
             }
            },
            "type": "scatter3d"
           }
          ],
          "scattercarpet": [
           {
            "marker": {
             "colorbar": {
              "outlinewidth": 0,
              "ticks": ""
             }
            },
            "type": "scattercarpet"
           }
          ],
          "scattergeo": [
           {
            "marker": {
             "colorbar": {
              "outlinewidth": 0,
              "ticks": ""
             }
            },
            "type": "scattergeo"
           }
          ],
          "scattergl": [
           {
            "marker": {
             "colorbar": {
              "outlinewidth": 0,
              "ticks": ""
             }
            },
            "type": "scattergl"
           }
          ],
          "scattermapbox": [
           {
            "marker": {
             "colorbar": {
              "outlinewidth": 0,
              "ticks": ""
             }
            },
            "type": "scattermapbox"
           }
          ],
          "scatterpolar": [
           {
            "marker": {
             "colorbar": {
              "outlinewidth": 0,
              "ticks": ""
             }
            },
            "type": "scatterpolar"
           }
          ],
          "scatterpolargl": [
           {
            "marker": {
             "colorbar": {
              "outlinewidth": 0,
              "ticks": ""
             }
            },
            "type": "scatterpolargl"
           }
          ],
          "scatterternary": [
           {
            "marker": {
             "colorbar": {
              "outlinewidth": 0,
              "ticks": ""
             }
            },
            "type": "scatterternary"
           }
          ],
          "surface": [
           {
            "colorbar": {
             "outlinewidth": 0,
             "ticks": ""
            },
            "colorscale": [
             [
              0,
              "#0d0887"
             ],
             [
              0.1111111111111111,
              "#46039f"
             ],
             [
              0.2222222222222222,
              "#7201a8"
             ],
             [
              0.3333333333333333,
              "#9c179e"
             ],
             [
              0.4444444444444444,
              "#bd3786"
             ],
             [
              0.5555555555555556,
              "#d8576b"
             ],
             [
              0.6666666666666666,
              "#ed7953"
             ],
             [
              0.7777777777777778,
              "#fb9f3a"
             ],
             [
              0.8888888888888888,
              "#fdca26"
             ],
             [
              1,
              "#f0f921"
             ]
            ],
            "type": "surface"
           }
          ],
          "table": [
           {
            "cells": {
             "fill": {
              "color": "#EBF0F8"
             },
             "line": {
              "color": "white"
             }
            },
            "header": {
             "fill": {
              "color": "#C8D4E3"
             },
             "line": {
              "color": "white"
             }
            },
            "type": "table"
           }
          ]
         },
         "layout": {
          "annotationdefaults": {
           "arrowcolor": "#2a3f5f",
           "arrowhead": 0,
           "arrowwidth": 1
          },
          "autotypenumbers": "strict",
          "coloraxis": {
           "colorbar": {
            "outlinewidth": 0,
            "ticks": ""
           }
          },
          "colorscale": {
           "diverging": [
            [
             0,
             "#8e0152"
            ],
            [
             0.1,
             "#c51b7d"
            ],
            [
             0.2,
             "#de77ae"
            ],
            [
             0.3,
             "#f1b6da"
            ],
            [
             0.4,
             "#fde0ef"
            ],
            [
             0.5,
             "#f7f7f7"
            ],
            [
             0.6,
             "#e6f5d0"
            ],
            [
             0.7,
             "#b8e186"
            ],
            [
             0.8,
             "#7fbc41"
            ],
            [
             0.9,
             "#4d9221"
            ],
            [
             1,
             "#276419"
            ]
           ],
           "sequential": [
            [
             0,
             "#0d0887"
            ],
            [
             0.1111111111111111,
             "#46039f"
            ],
            [
             0.2222222222222222,
             "#7201a8"
            ],
            [
             0.3333333333333333,
             "#9c179e"
            ],
            [
             0.4444444444444444,
             "#bd3786"
            ],
            [
             0.5555555555555556,
             "#d8576b"
            ],
            [
             0.6666666666666666,
             "#ed7953"
            ],
            [
             0.7777777777777778,
             "#fb9f3a"
            ],
            [
             0.8888888888888888,
             "#fdca26"
            ],
            [
             1,
             "#f0f921"
            ]
           ],
           "sequentialminus": [
            [
             0,
             "#0d0887"
            ],
            [
             0.1111111111111111,
             "#46039f"
            ],
            [
             0.2222222222222222,
             "#7201a8"
            ],
            [
             0.3333333333333333,
             "#9c179e"
            ],
            [
             0.4444444444444444,
             "#bd3786"
            ],
            [
             0.5555555555555556,
             "#d8576b"
            ],
            [
             0.6666666666666666,
             "#ed7953"
            ],
            [
             0.7777777777777778,
             "#fb9f3a"
            ],
            [
             0.8888888888888888,
             "#fdca26"
            ],
            [
             1,
             "#f0f921"
            ]
           ]
          },
          "colorway": [
           "#636efa",
           "#EF553B",
           "#00cc96",
           "#ab63fa",
           "#FFA15A",
           "#19d3f3",
           "#FF6692",
           "#B6E880",
           "#FF97FF",
           "#FECB52"
          ],
          "font": {
           "color": "#2a3f5f"
          },
          "geo": {
           "bgcolor": "white",
           "lakecolor": "white",
           "landcolor": "#E5ECF6",
           "showlakes": true,
           "showland": true,
           "subunitcolor": "white"
          },
          "hoverlabel": {
           "align": "left"
          },
          "hovermode": "closest",
          "mapbox": {
           "style": "light"
          },
          "paper_bgcolor": "white",
          "plot_bgcolor": "#E5ECF6",
          "polar": {
           "angularaxis": {
            "gridcolor": "white",
            "linecolor": "white",
            "ticks": ""
           },
           "bgcolor": "#E5ECF6",
           "radialaxis": {
            "gridcolor": "white",
            "linecolor": "white",
            "ticks": ""
           }
          },
          "scene": {
           "xaxis": {
            "backgroundcolor": "#E5ECF6",
            "gridcolor": "white",
            "gridwidth": 2,
            "linecolor": "white",
            "showbackground": true,
            "ticks": "",
            "zerolinecolor": "white"
           },
           "yaxis": {
            "backgroundcolor": "#E5ECF6",
            "gridcolor": "white",
            "gridwidth": 2,
            "linecolor": "white",
            "showbackground": true,
            "ticks": "",
            "zerolinecolor": "white"
           },
           "zaxis": {
            "backgroundcolor": "#E5ECF6",
            "gridcolor": "white",
            "gridwidth": 2,
            "linecolor": "white",
            "showbackground": true,
            "ticks": "",
            "zerolinecolor": "white"
           }
          },
          "shapedefaults": {
           "line": {
            "color": "#2a3f5f"
           }
          },
          "ternary": {
           "aaxis": {
            "gridcolor": "white",
            "linecolor": "white",
            "ticks": ""
           },
           "baxis": {
            "gridcolor": "white",
            "linecolor": "white",
            "ticks": ""
           },
           "bgcolor": "#E5ECF6",
           "caxis": {
            "gridcolor": "white",
            "linecolor": "white",
            "ticks": ""
           }
          },
          "title": {
           "x": 0.05
          },
          "xaxis": {
           "automargin": true,
           "gridcolor": "white",
           "linecolor": "white",
           "ticks": "",
           "title": {
            "standoff": 15
           },
           "zerolinecolor": "white",
           "zerolinewidth": 2
          },
          "yaxis": {
           "automargin": true,
           "gridcolor": "white",
           "linecolor": "white",
           "ticks": "",
           "title": {
            "standoff": 15
           },
           "zerolinecolor": "white",
           "zerolinewidth": 2
          }
         }
        },
        "title": {
         "text": "Growth in OXY v SPY"
        },
        "xaxis": {
         "anchor": "y",
         "domain": [
          0,
          1
         ],
         "title": {
          "text": "date"
         }
        },
        "yaxis": {
         "anchor": "x",
         "domain": [
          0,
          1
         ],
         "title": {
          "text": "value"
         }
        }
       }
      }
     },
     "metadata": {},
     "output_type": "display_data"
    }
   ],
   "source": [
    "graphAlpha(\"OXY\", '2021-06-25')"
   ]
  },
  {
   "cell_type": "code",
   "execution_count": 246,
   "metadata": {},
   "outputs": [
    {
     "data": {
      "application/vnd.plotly.v1+json": {
       "config": {
        "plotlyServerURL": "https://plot.ly"
       },
       "data": [
        {
         "hovertemplate": "variable=AA_growth<br>date=%{x}<br>value=%{y}<extra></extra>",
         "legendgroup": "AA_growth",
         "line": {
          "color": "#636efa",
          "dash": "solid"
         },
         "marker": {
          "symbol": "circle"
         },
         "mode": "lines",
         "name": "AA_growth",
         "orientation": "v",
         "showlegend": true,
         "type": "scatter",
         "x": [
          "2021-03-19T00:00:00",
          "2021-03-26T00:00:00",
          "2021-04-01T00:00:00",
          "2021-04-09T00:00:00",
          "2021-04-16T00:00:00",
          "2021-04-23T00:00:00",
          "2021-04-30T00:00:00",
          "2021-05-07T00:00:00",
          "2021-05-14T00:00:00",
          "2021-05-21T00:00:00",
          "2021-05-28T00:00:00",
          "2021-06-04T00:00:00",
          "2021-06-11T00:00:00",
          "2021-06-18T00:00:00",
          "2021-06-25T00:00:00",
          "2021-07-02T00:00:00",
          "2021-07-09T00:00:00",
          "2021-07-16T00:00:00",
          "2021-07-23T00:00:00",
          "2021-07-30T00:00:00",
          "2021-08-06T00:00:00",
          "2021-08-13T00:00:00",
          "2021-08-20T00:00:00",
          "2021-08-27T00:00:00",
          "2021-09-03T00:00:00",
          "2021-09-10T00:00:00",
          "2021-09-17T00:00:00",
          "2021-09-24T00:00:00",
          "2021-10-01T00:00:00",
          "2021-10-08T00:00:00",
          "2021-10-15T00:00:00",
          "2021-10-22T00:00:00",
          "2021-10-29T00:00:00",
          "2021-11-05T00:00:00",
          "2021-11-12T00:00:00",
          "2021-11-19T00:00:00",
          "2021-11-26T00:00:00",
          "2021-12-03T00:00:00",
          "2021-12-10T00:00:00",
          "2021-12-17T00:00:00",
          "2021-12-23T00:00:00",
          "2021-12-31T00:00:00",
          "2022-01-07T00:00:00",
          "2022-01-14T00:00:00",
          "2022-01-21T00:00:00",
          "2022-01-28T00:00:00",
          "2022-02-04T00:00:00",
          "2022-02-11T00:00:00",
          "2022-02-18T00:00:00",
          "2022-02-25T00:00:00",
          "2022-03-04T00:00:00",
          "2022-03-11T00:00:00",
          "2022-03-18T00:00:00",
          "2022-03-25T00:00:00",
          "2022-04-01T00:00:00",
          "2022-04-08T00:00:00",
          "2022-04-14T00:00:00",
          "2022-04-22T00:00:00",
          "2022-04-29T00:00:00",
          "2022-05-06T00:00:00",
          "2022-05-13T00:00:00",
          "2022-05-20T00:00:00",
          "2022-05-27T00:00:00",
          "2022-06-03T00:00:00",
          "2022-06-10T00:00:00",
          "2022-06-17T00:00:00",
          "2022-06-24T00:00:00",
          "2022-07-01T00:00:00",
          "2022-07-08T00:00:00",
          "2022-07-15T00:00:00",
          "2022-07-22T00:00:00",
          "2022-07-29T00:00:00",
          "2022-08-05T00:00:00",
          "2022-08-12T00:00:00",
          "2022-08-19T00:00:00",
          "2022-08-26T00:00:00",
          "2022-09-02T00:00:00",
          "2022-09-09T00:00:00",
          "2022-09-16T00:00:00",
          "2022-09-23T00:00:00",
          "2022-09-30T00:00:00",
          "2022-10-07T00:00:00",
          "2022-10-14T00:00:00",
          "2022-10-21T00:00:00",
          "2022-10-28T00:00:00",
          "2022-11-04T00:00:00",
          "2022-11-11T00:00:00",
          "2022-11-15T00:00:00"
         ],
         "xaxis": "x",
         "y": [
          null,
          100,
          98.3221476510067,
          95.66809029896278,
          108.69432580841978,
          105.88773642464918,
          111.77547284929835,
          125.68639414276998,
          121.11043319097011,
          110.25015253203173,
          121.01891397193411,
          118.48688224527152,
          114.03294691885296,
          97.86455155582671,
          109.21293471629039,
          115.6802928615009,
          114.21598535692493,
          100.51860890787064,
          113.05674191580229,
          122.48322147651002,
          124.19158023184866,
          138.04148871262962,
          115.03965832824889,
          134.62477120195237,
          144.02074435631476,
          151.0067114093959,
          148.9627821842586,
          147.9255643685173,
          151.83038438071986,
          140.42098840756552,
          170.835875533862,
          150.24405125076257,
          140.17693715680286,
          146.00366076876136,
          158.38926174496638,
          145.21049420378273,
          146.27821842586937,
          134.44173276388034,
          148.8712629652226,
          163.91092129347152,
          181.08602806589371,
          181.75716900549102,
          190.26845637583878,
          187.27882855399622,
          171.476510067114,
          175.10677242220854,
          195.9121415497253,
          224.28309945088452,
          238.56009762050016,
          237.4923733984135,
          276.5710799267844,
          241.1226357535081,
          251.49481391092112,
          280.5369127516777,
          276.4490543014032,
          256.711409395973,
          267.75472849298336,
          205.52165954850506,
          206.83343502135432,
          186.21110433190955,
          177.94386821232445,
          184.77730323367894,
          196.76632092739462,
          188.62111043319084,
          161.7144600366076,
          150.3355704697986,
          150.57962172056125,
          136.60768761439897,
          136.76021964612562,
          131.36058572300178,
          139.71934106162288,
          155.24710189139716,
          151.0677242220866,
          160.95179987797434,
          155.61317876754114,
          170.34777303233676,
          150.24405125076262,
          160.52471018913968,
          129.53020134228186,
          108.32824893227576,
          102.68456375838923,
          119.00549115314215,
          116.99206833435021,
          125.25930445393533,
          120.46979865771812,
          129.34716290420988,
          145.3935326418548,
          150.12202562538135
         ],
         "yaxis": "y"
        },
        {
         "hovertemplate": "variable=SPY_growth<br>date=%{x}<br>value=%{y}<extra></extra>",
         "legendgroup": "SPY_growth",
         "line": {
          "color": "#EF553B",
          "dash": "solid"
         },
         "marker": {
          "symbol": "circle"
         },
         "mode": "lines",
         "name": "SPY_growth",
         "orientation": "v",
         "showlegend": true,
         "type": "scatter",
         "x": [
          "2021-03-19T00:00:00",
          "2021-03-26T00:00:00",
          "2021-04-01T00:00:00",
          "2021-04-09T00:00:00",
          "2021-04-16T00:00:00",
          "2021-04-23T00:00:00",
          "2021-04-30T00:00:00",
          "2021-05-07T00:00:00",
          "2021-05-14T00:00:00",
          "2021-05-21T00:00:00",
          "2021-05-28T00:00:00",
          "2021-06-04T00:00:00",
          "2021-06-11T00:00:00",
          "2021-06-18T00:00:00",
          "2021-06-25T00:00:00",
          "2021-07-02T00:00:00",
          "2021-07-09T00:00:00",
          "2021-07-16T00:00:00",
          "2021-07-23T00:00:00",
          "2021-07-30T00:00:00",
          "2021-08-06T00:00:00",
          "2021-08-13T00:00:00",
          "2021-08-20T00:00:00",
          "2021-08-27T00:00:00",
          "2021-09-03T00:00:00",
          "2021-09-10T00:00:00",
          "2021-09-17T00:00:00",
          "2021-09-24T00:00:00",
          "2021-10-01T00:00:00",
          "2021-10-08T00:00:00",
          "2021-10-15T00:00:00",
          "2021-10-22T00:00:00",
          "2021-10-29T00:00:00",
          "2021-11-05T00:00:00",
          "2021-11-12T00:00:00",
          "2021-11-19T00:00:00",
          "2021-11-26T00:00:00",
          "2021-12-03T00:00:00",
          "2021-12-10T00:00:00",
          "2021-12-17T00:00:00",
          "2021-12-23T00:00:00",
          "2021-12-31T00:00:00",
          "2022-01-07T00:00:00",
          "2022-01-14T00:00:00",
          "2022-01-21T00:00:00",
          "2022-01-28T00:00:00",
          "2022-02-04T00:00:00",
          "2022-02-11T00:00:00",
          "2022-02-18T00:00:00",
          "2022-02-25T00:00:00",
          "2022-03-04T00:00:00",
          "2022-03-11T00:00:00",
          "2022-03-18T00:00:00",
          "2022-03-25T00:00:00",
          "2022-04-01T00:00:00",
          "2022-04-08T00:00:00",
          "2022-04-14T00:00:00",
          "2022-04-22T00:00:00",
          "2022-04-29T00:00:00",
          "2022-05-06T00:00:00",
          "2022-05-13T00:00:00",
          "2022-05-20T00:00:00",
          "2022-05-27T00:00:00",
          "2022-06-03T00:00:00",
          "2022-06-10T00:00:00",
          "2022-06-17T00:00:00",
          "2022-06-24T00:00:00",
          "2022-07-01T00:00:00",
          "2022-07-08T00:00:00",
          "2022-07-15T00:00:00",
          "2022-07-22T00:00:00",
          "2022-07-29T00:00:00",
          "2022-08-05T00:00:00",
          "2022-08-12T00:00:00",
          "2022-08-19T00:00:00",
          "2022-08-26T00:00:00",
          "2022-09-02T00:00:00",
          "2022-09-09T00:00:00",
          "2022-09-16T00:00:00",
          "2022-09-23T00:00:00",
          "2022-09-30T00:00:00",
          "2022-10-07T00:00:00",
          "2022-10-14T00:00:00",
          "2022-10-21T00:00:00",
          "2022-10-28T00:00:00",
          "2022-11-04T00:00:00",
          "2022-11-11T00:00:00",
          "2022-11-15T00:00:00"
         ],
         "xaxis": "x",
         "y": [
          null,
          100,
          101.16925097227131,
          103.91686448810545,
          105.37400878832261,
          105.24268902469818,
          105.3841103086014,
          106.60134350219703,
          105.20228294358296,
          104.78812061215207,
          106.07606444769932,
          106.72256174554265,
          107.15440173746143,
          104.78306985201267,
          107.73523915349254,
          109.5307843830496,
          109.98535279559569,
          108.92974392646089,
          111.10157078640333,
          110.74044143643616,
          111.74554270417696,
          112.61174806808421,
          111.96525077024089,
          113.70523763826452,
          114.41992019798975,
          112.49052982473859,
          111.4702762765796,
          112.10414667407443,
          109.66210414667404,
          110.57629173190563,
          112.5991211677357,
          114.43002171826855,
          115.97807970099494,
          118.32163240567698,
          118.00343451689471,
          118.41254608818619,
          115.90736905904332,
          114.50578312035955,
          118.87974140108079,
          116.13465326531636,
          118.844386080105,
          119.94545179049442,
          117.70543966867008,
          117.35946259912113,
          110.60659629274201,
          111.6091721804131,
          113.31380372746094,
          111.23289055002773,
          109.65957876660434,
          110.5485125511389,
          109.13935047224602,
          106.08364058790843,
          112.25819485832614,
          114.32143037527145,
          114.37951411687456,
          113.02843577958478,
          110.55861407141771,
          107.59129248951963,
          104.04565887166014,
          103.8789837870599,
          101.44956816000804,
          98.39638365574014,
          104.86893277438249,
          103.67695338148387,
          98.43931511692506,
          92.39355523006209,
          98.51002575887667,
          96.27758977726144,
          98.15394716904889,
          97.25996262437492,
          99.7752411737966,
          104.04313349159044,
          104.41688974190612,
          107.85898277690788,
          106.60639426233644,
          102.35617960503052,
          99.05550785393199,
          102.68195363402188,
          97.36855396737205,
          92.92135966462949,
          90.20152532956207,
          91.61826354866405,
          90.31516743269859,
          94.52245062881961,
          98.24233547148842,
          95.0426789231779,
          100.63892115763419,
          null
         ],
         "yaxis": "y"
        }
       ],
       "layout": {
        "legend": {
         "title": {
          "text": "variable"
         },
         "tracegroupgap": 0
        },
        "template": {
         "data": {
          "bar": [
           {
            "error_x": {
             "color": "#2a3f5f"
            },
            "error_y": {
             "color": "#2a3f5f"
            },
            "marker": {
             "line": {
              "color": "#E5ECF6",
              "width": 0.5
             },
             "pattern": {
              "fillmode": "overlay",
              "size": 10,
              "solidity": 0.2
             }
            },
            "type": "bar"
           }
          ],
          "barpolar": [
           {
            "marker": {
             "line": {
              "color": "#E5ECF6",
              "width": 0.5
             },
             "pattern": {
              "fillmode": "overlay",
              "size": 10,
              "solidity": 0.2
             }
            },
            "type": "barpolar"
           }
          ],
          "carpet": [
           {
            "aaxis": {
             "endlinecolor": "#2a3f5f",
             "gridcolor": "white",
             "linecolor": "white",
             "minorgridcolor": "white",
             "startlinecolor": "#2a3f5f"
            },
            "baxis": {
             "endlinecolor": "#2a3f5f",
             "gridcolor": "white",
             "linecolor": "white",
             "minorgridcolor": "white",
             "startlinecolor": "#2a3f5f"
            },
            "type": "carpet"
           }
          ],
          "choropleth": [
           {
            "colorbar": {
             "outlinewidth": 0,
             "ticks": ""
            },
            "type": "choropleth"
           }
          ],
          "contour": [
           {
            "colorbar": {
             "outlinewidth": 0,
             "ticks": ""
            },
            "colorscale": [
             [
              0,
              "#0d0887"
             ],
             [
              0.1111111111111111,
              "#46039f"
             ],
             [
              0.2222222222222222,
              "#7201a8"
             ],
             [
              0.3333333333333333,
              "#9c179e"
             ],
             [
              0.4444444444444444,
              "#bd3786"
             ],
             [
              0.5555555555555556,
              "#d8576b"
             ],
             [
              0.6666666666666666,
              "#ed7953"
             ],
             [
              0.7777777777777778,
              "#fb9f3a"
             ],
             [
              0.8888888888888888,
              "#fdca26"
             ],
             [
              1,
              "#f0f921"
             ]
            ],
            "type": "contour"
           }
          ],
          "contourcarpet": [
           {
            "colorbar": {
             "outlinewidth": 0,
             "ticks": ""
            },
            "type": "contourcarpet"
           }
          ],
          "heatmap": [
           {
            "colorbar": {
             "outlinewidth": 0,
             "ticks": ""
            },
            "colorscale": [
             [
              0,
              "#0d0887"
             ],
             [
              0.1111111111111111,
              "#46039f"
             ],
             [
              0.2222222222222222,
              "#7201a8"
             ],
             [
              0.3333333333333333,
              "#9c179e"
             ],
             [
              0.4444444444444444,
              "#bd3786"
             ],
             [
              0.5555555555555556,
              "#d8576b"
             ],
             [
              0.6666666666666666,
              "#ed7953"
             ],
             [
              0.7777777777777778,
              "#fb9f3a"
             ],
             [
              0.8888888888888888,
              "#fdca26"
             ],
             [
              1,
              "#f0f921"
             ]
            ],
            "type": "heatmap"
           }
          ],
          "heatmapgl": [
           {
            "colorbar": {
             "outlinewidth": 0,
             "ticks": ""
            },
            "colorscale": [
             [
              0,
              "#0d0887"
             ],
             [
              0.1111111111111111,
              "#46039f"
             ],
             [
              0.2222222222222222,
              "#7201a8"
             ],
             [
              0.3333333333333333,
              "#9c179e"
             ],
             [
              0.4444444444444444,
              "#bd3786"
             ],
             [
              0.5555555555555556,
              "#d8576b"
             ],
             [
              0.6666666666666666,
              "#ed7953"
             ],
             [
              0.7777777777777778,
              "#fb9f3a"
             ],
             [
              0.8888888888888888,
              "#fdca26"
             ],
             [
              1,
              "#f0f921"
             ]
            ],
            "type": "heatmapgl"
           }
          ],
          "histogram": [
           {
            "marker": {
             "pattern": {
              "fillmode": "overlay",
              "size": 10,
              "solidity": 0.2
             }
            },
            "type": "histogram"
           }
          ],
          "histogram2d": [
           {
            "colorbar": {
             "outlinewidth": 0,
             "ticks": ""
            },
            "colorscale": [
             [
              0,
              "#0d0887"
             ],
             [
              0.1111111111111111,
              "#46039f"
             ],
             [
              0.2222222222222222,
              "#7201a8"
             ],
             [
              0.3333333333333333,
              "#9c179e"
             ],
             [
              0.4444444444444444,
              "#bd3786"
             ],
             [
              0.5555555555555556,
              "#d8576b"
             ],
             [
              0.6666666666666666,
              "#ed7953"
             ],
             [
              0.7777777777777778,
              "#fb9f3a"
             ],
             [
              0.8888888888888888,
              "#fdca26"
             ],
             [
              1,
              "#f0f921"
             ]
            ],
            "type": "histogram2d"
           }
          ],
          "histogram2dcontour": [
           {
            "colorbar": {
             "outlinewidth": 0,
             "ticks": ""
            },
            "colorscale": [
             [
              0,
              "#0d0887"
             ],
             [
              0.1111111111111111,
              "#46039f"
             ],
             [
              0.2222222222222222,
              "#7201a8"
             ],
             [
              0.3333333333333333,
              "#9c179e"
             ],
             [
              0.4444444444444444,
              "#bd3786"
             ],
             [
              0.5555555555555556,
              "#d8576b"
             ],
             [
              0.6666666666666666,
              "#ed7953"
             ],
             [
              0.7777777777777778,
              "#fb9f3a"
             ],
             [
              0.8888888888888888,
              "#fdca26"
             ],
             [
              1,
              "#f0f921"
             ]
            ],
            "type": "histogram2dcontour"
           }
          ],
          "mesh3d": [
           {
            "colorbar": {
             "outlinewidth": 0,
             "ticks": ""
            },
            "type": "mesh3d"
           }
          ],
          "parcoords": [
           {
            "line": {
             "colorbar": {
              "outlinewidth": 0,
              "ticks": ""
             }
            },
            "type": "parcoords"
           }
          ],
          "pie": [
           {
            "automargin": true,
            "type": "pie"
           }
          ],
          "scatter": [
           {
            "fillpattern": {
             "fillmode": "overlay",
             "size": 10,
             "solidity": 0.2
            },
            "type": "scatter"
           }
          ],
          "scatter3d": [
           {
            "line": {
             "colorbar": {
              "outlinewidth": 0,
              "ticks": ""
             }
            },
            "marker": {
             "colorbar": {
              "outlinewidth": 0,
              "ticks": ""
             }
            },
            "type": "scatter3d"
           }
          ],
          "scattercarpet": [
           {
            "marker": {
             "colorbar": {
              "outlinewidth": 0,
              "ticks": ""
             }
            },
            "type": "scattercarpet"
           }
          ],
          "scattergeo": [
           {
            "marker": {
             "colorbar": {
              "outlinewidth": 0,
              "ticks": ""
             }
            },
            "type": "scattergeo"
           }
          ],
          "scattergl": [
           {
            "marker": {
             "colorbar": {
              "outlinewidth": 0,
              "ticks": ""
             }
            },
            "type": "scattergl"
           }
          ],
          "scattermapbox": [
           {
            "marker": {
             "colorbar": {
              "outlinewidth": 0,
              "ticks": ""
             }
            },
            "type": "scattermapbox"
           }
          ],
          "scatterpolar": [
           {
            "marker": {
             "colorbar": {
              "outlinewidth": 0,
              "ticks": ""
             }
            },
            "type": "scatterpolar"
           }
          ],
          "scatterpolargl": [
           {
            "marker": {
             "colorbar": {
              "outlinewidth": 0,
              "ticks": ""
             }
            },
            "type": "scatterpolargl"
           }
          ],
          "scatterternary": [
           {
            "marker": {
             "colorbar": {
              "outlinewidth": 0,
              "ticks": ""
             }
            },
            "type": "scatterternary"
           }
          ],
          "surface": [
           {
            "colorbar": {
             "outlinewidth": 0,
             "ticks": ""
            },
            "colorscale": [
             [
              0,
              "#0d0887"
             ],
             [
              0.1111111111111111,
              "#46039f"
             ],
             [
              0.2222222222222222,
              "#7201a8"
             ],
             [
              0.3333333333333333,
              "#9c179e"
             ],
             [
              0.4444444444444444,
              "#bd3786"
             ],
             [
              0.5555555555555556,
              "#d8576b"
             ],
             [
              0.6666666666666666,
              "#ed7953"
             ],
             [
              0.7777777777777778,
              "#fb9f3a"
             ],
             [
              0.8888888888888888,
              "#fdca26"
             ],
             [
              1,
              "#f0f921"
             ]
            ],
            "type": "surface"
           }
          ],
          "table": [
           {
            "cells": {
             "fill": {
              "color": "#EBF0F8"
             },
             "line": {
              "color": "white"
             }
            },
            "header": {
             "fill": {
              "color": "#C8D4E3"
             },
             "line": {
              "color": "white"
             }
            },
            "type": "table"
           }
          ]
         },
         "layout": {
          "annotationdefaults": {
           "arrowcolor": "#2a3f5f",
           "arrowhead": 0,
           "arrowwidth": 1
          },
          "autotypenumbers": "strict",
          "coloraxis": {
           "colorbar": {
            "outlinewidth": 0,
            "ticks": ""
           }
          },
          "colorscale": {
           "diverging": [
            [
             0,
             "#8e0152"
            ],
            [
             0.1,
             "#c51b7d"
            ],
            [
             0.2,
             "#de77ae"
            ],
            [
             0.3,
             "#f1b6da"
            ],
            [
             0.4,
             "#fde0ef"
            ],
            [
             0.5,
             "#f7f7f7"
            ],
            [
             0.6,
             "#e6f5d0"
            ],
            [
             0.7,
             "#b8e186"
            ],
            [
             0.8,
             "#7fbc41"
            ],
            [
             0.9,
             "#4d9221"
            ],
            [
             1,
             "#276419"
            ]
           ],
           "sequential": [
            [
             0,
             "#0d0887"
            ],
            [
             0.1111111111111111,
             "#46039f"
            ],
            [
             0.2222222222222222,
             "#7201a8"
            ],
            [
             0.3333333333333333,
             "#9c179e"
            ],
            [
             0.4444444444444444,
             "#bd3786"
            ],
            [
             0.5555555555555556,
             "#d8576b"
            ],
            [
             0.6666666666666666,
             "#ed7953"
            ],
            [
             0.7777777777777778,
             "#fb9f3a"
            ],
            [
             0.8888888888888888,
             "#fdca26"
            ],
            [
             1,
             "#f0f921"
            ]
           ],
           "sequentialminus": [
            [
             0,
             "#0d0887"
            ],
            [
             0.1111111111111111,
             "#46039f"
            ],
            [
             0.2222222222222222,
             "#7201a8"
            ],
            [
             0.3333333333333333,
             "#9c179e"
            ],
            [
             0.4444444444444444,
             "#bd3786"
            ],
            [
             0.5555555555555556,
             "#d8576b"
            ],
            [
             0.6666666666666666,
             "#ed7953"
            ],
            [
             0.7777777777777778,
             "#fb9f3a"
            ],
            [
             0.8888888888888888,
             "#fdca26"
            ],
            [
             1,
             "#f0f921"
            ]
           ]
          },
          "colorway": [
           "#636efa",
           "#EF553B",
           "#00cc96",
           "#ab63fa",
           "#FFA15A",
           "#19d3f3",
           "#FF6692",
           "#B6E880",
           "#FF97FF",
           "#FECB52"
          ],
          "font": {
           "color": "#2a3f5f"
          },
          "geo": {
           "bgcolor": "white",
           "lakecolor": "white",
           "landcolor": "#E5ECF6",
           "showlakes": true,
           "showland": true,
           "subunitcolor": "white"
          },
          "hoverlabel": {
           "align": "left"
          },
          "hovermode": "closest",
          "mapbox": {
           "style": "light"
          },
          "paper_bgcolor": "white",
          "plot_bgcolor": "#E5ECF6",
          "polar": {
           "angularaxis": {
            "gridcolor": "white",
            "linecolor": "white",
            "ticks": ""
           },
           "bgcolor": "#E5ECF6",
           "radialaxis": {
            "gridcolor": "white",
            "linecolor": "white",
            "ticks": ""
           }
          },
          "scene": {
           "xaxis": {
            "backgroundcolor": "#E5ECF6",
            "gridcolor": "white",
            "gridwidth": 2,
            "linecolor": "white",
            "showbackground": true,
            "ticks": "",
            "zerolinecolor": "white"
           },
           "yaxis": {
            "backgroundcolor": "#E5ECF6",
            "gridcolor": "white",
            "gridwidth": 2,
            "linecolor": "white",
            "showbackground": true,
            "ticks": "",
            "zerolinecolor": "white"
           },
           "zaxis": {
            "backgroundcolor": "#E5ECF6",
            "gridcolor": "white",
            "gridwidth": 2,
            "linecolor": "white",
            "showbackground": true,
            "ticks": "",
            "zerolinecolor": "white"
           }
          },
          "shapedefaults": {
           "line": {
            "color": "#2a3f5f"
           }
          },
          "ternary": {
           "aaxis": {
            "gridcolor": "white",
            "linecolor": "white",
            "ticks": ""
           },
           "baxis": {
            "gridcolor": "white",
            "linecolor": "white",
            "ticks": ""
           },
           "bgcolor": "#E5ECF6",
           "caxis": {
            "gridcolor": "white",
            "linecolor": "white",
            "ticks": ""
           }
          },
          "title": {
           "x": 0.05
          },
          "xaxis": {
           "automargin": true,
           "gridcolor": "white",
           "linecolor": "white",
           "ticks": "",
           "title": {
            "standoff": 15
           },
           "zerolinecolor": "white",
           "zerolinewidth": 2
          },
          "yaxis": {
           "automargin": true,
           "gridcolor": "white",
           "linecolor": "white",
           "ticks": "",
           "title": {
            "standoff": 15
           },
           "zerolinecolor": "white",
           "zerolinewidth": 2
          }
         }
        },
        "title": {
         "text": "Growth in AA v SPY"
        },
        "xaxis": {
         "anchor": "y",
         "domain": [
          0,
          1
         ],
         "title": {
          "text": "date"
         }
        },
        "yaxis": {
         "anchor": "x",
         "domain": [
          0,
          1
         ],
         "title": {
          "text": "value"
         }
        }
       }
      }
     },
     "metadata": {},
     "output_type": "display_data"
    }
   ],
   "source": [
    "alDate = reformatDate(\"03/16/2021\")\n",
    "graphAlpha('AA', alDate)\n"
   ]
  },
  {
   "cell_type": "code",
   "execution_count": 247,
   "metadata": {},
   "outputs": [
    {
     "data": {
      "application/vnd.plotly.v1+json": {
       "config": {
        "plotlyServerURL": "https://plot.ly"
       },
       "data": [
        {
         "hovertemplate": "variable=GOOGL_growth<br>date=%{x}<br>value=%{y}<extra></extra>",
         "legendgroup": "GOOGL_growth",
         "line": {
          "color": "#636efa",
          "dash": "solid"
         },
         "marker": {
          "symbol": "circle"
         },
         "mode": "lines",
         "name": "GOOGL_growth",
         "orientation": "v",
         "showlegend": true,
         "type": "scatter",
         "x": [
          "2021-04-01T00:00:00",
          "2021-04-09T00:00:00",
          "2021-04-16T00:00:00",
          "2021-04-23T00:00:00",
          "2021-04-30T00:00:00",
          "2021-05-07T00:00:00",
          "2021-05-14T00:00:00",
          "2021-05-21T00:00:00",
          "2021-05-28T00:00:00",
          "2021-06-04T00:00:00",
          "2021-06-11T00:00:00",
          "2021-06-18T00:00:00",
          "2021-06-25T00:00:00",
          "2021-07-02T00:00:00",
          "2021-07-09T00:00:00",
          "2021-07-16T00:00:00",
          "2021-07-23T00:00:00",
          "2021-07-30T00:00:00",
          "2021-08-06T00:00:00",
          "2021-08-13T00:00:00",
          "2021-08-20T00:00:00",
          "2021-08-27T00:00:00",
          "2021-09-03T00:00:00",
          "2021-09-10T00:00:00",
          "2021-09-17T00:00:00",
          "2021-09-24T00:00:00",
          "2021-10-01T00:00:00",
          "2021-10-08T00:00:00",
          "2021-10-15T00:00:00",
          "2021-10-22T00:00:00",
          "2021-10-29T00:00:00",
          "2021-11-05T00:00:00",
          "2021-11-12T00:00:00",
          "2021-11-19T00:00:00",
          "2021-11-26T00:00:00",
          "2021-12-03T00:00:00",
          "2021-12-10T00:00:00",
          "2021-12-17T00:00:00",
          "2021-12-23T00:00:00",
          "2021-12-31T00:00:00",
          "2022-01-07T00:00:00",
          "2022-01-14T00:00:00",
          "2022-01-21T00:00:00",
          "2022-01-28T00:00:00",
          "2022-02-04T00:00:00",
          "2022-02-11T00:00:00",
          "2022-02-18T00:00:00",
          "2022-02-25T00:00:00",
          "2022-03-04T00:00:00",
          "2022-03-11T00:00:00",
          "2022-03-18T00:00:00",
          "2022-03-25T00:00:00",
          "2022-04-01T00:00:00",
          "2022-04-08T00:00:00",
          "2022-04-14T00:00:00",
          "2022-04-22T00:00:00",
          "2022-04-29T00:00:00",
          "2022-05-06T00:00:00",
          "2022-05-13T00:00:00",
          "2022-05-20T00:00:00",
          "2022-05-27T00:00:00",
          "2022-06-03T00:00:00",
          "2022-06-10T00:00:00",
          "2022-06-17T00:00:00",
          "2022-06-24T00:00:00",
          "2022-07-01T00:00:00",
          "2022-07-08T00:00:00",
          "2022-07-15T00:00:00",
          "2022-07-22T00:00:00",
          "2022-07-29T00:00:00",
          "2022-08-05T00:00:00",
          "2022-08-12T00:00:00",
          "2022-08-19T00:00:00",
          "2022-08-26T00:00:00",
          "2022-09-02T00:00:00",
          "2022-09-09T00:00:00",
          "2022-09-16T00:00:00",
          "2022-09-23T00:00:00",
          "2022-09-30T00:00:00",
          "2022-10-07T00:00:00",
          "2022-10-14T00:00:00",
          "2022-10-21T00:00:00",
          "2022-10-28T00:00:00",
          "2022-11-04T00:00:00",
          "2022-11-11T00:00:00",
          "2022-11-15T00:00:00"
         ],
         "xaxis": "x",
         "y": [
          null,
          100,
          100.53200156781918,
          101.28860644655539,
          103.64782200848205,
          103.57867942061151,
          100.33954735826869,
          101.03317523021839,
          103.79535555584914,
          105.41249939445186,
          107.02567964521484,
          105.7934442257131,
          107.90515574698217,
          110.32646751839765,
          110.55635561310098,
          111.83483289073268,
          117.15925255541316,
          118.66673713045049,
          119.55810399573693,
          121.31000982088987,
          121.04753222617113,
          126.83833405999108,
          126.60536317474576,
          124.08320011274203,
          124.01625951811577,
          125.26258769438093,
          120.26670542174774,
          123.12269065958503,
          124.51655238321726,
          121.16820145595788,
          130.3985167373506,
          131.108439359308,
          130.95518062950578,
          131.1740587579877,
          125.23440218085406,
          125.074537471319,
          130.35932125760235,
          124.83099701850111,
          129.40365618958276,
          127.58525016845243,
          120.68420334086412,
          122.8540474837823,
          114.8132489529522,
          117.455200447445,
          126.2120871813165,
          118.2756631302655,
          114.85861001378446,
          118.43156425196085,
          116.18288875089729,
          114.3895854527518,
          119.89897254995222,
          124.78519555902002,
          123.44418167325064,
          117.3992698190402,
          111.62344153928136,
          105.37462511065017,
          100.50733924348322,
          101.94920441984084,
          102.21696679834588,
          95.92587209942441,
          98.92806968868221,
          100.88740327744678,
          97.91074880982268,
          94.37170526760826,
          103.91206119779628,
          95.7756961601642,
          105.12624027269487,
          98.45331994521443,
          4.751901421166446,
          5.122717083503994,
          5.173362928122542,
          5.358770759291317,
          5.161912563252261,
          4.8593586914875395,
          4.74969942792216,
          4.873011049602105,
          4.527298110249402,
          4.348496258813482,
          4.212413076316686,
          4.345853866920341,
          4.252489353362669,
          4.453751535890293,
          4.240598589843531,
          3.812971501803436,
          4.245883373629813,
          null
         ],
         "yaxis": "y"
        },
        {
         "hovertemplate": "variable=SPY_growth<br>date=%{x}<br>value=%{y}<extra></extra>",
         "legendgroup": "SPY_growth",
         "line": {
          "color": "#EF553B",
          "dash": "solid"
         },
         "marker": {
          "symbol": "circle"
         },
         "mode": "lines",
         "name": "SPY_growth",
         "orientation": "v",
         "showlegend": true,
         "type": "scatter",
         "x": [
          "2021-04-01T00:00:00",
          "2021-04-09T00:00:00",
          "2021-04-16T00:00:00",
          "2021-04-23T00:00:00",
          "2021-04-30T00:00:00",
          "2021-05-07T00:00:00",
          "2021-05-14T00:00:00",
          "2021-05-21T00:00:00",
          "2021-05-28T00:00:00",
          "2021-06-04T00:00:00",
          "2021-06-11T00:00:00",
          "2021-06-18T00:00:00",
          "2021-06-25T00:00:00",
          "2021-07-02T00:00:00",
          "2021-07-09T00:00:00",
          "2021-07-16T00:00:00",
          "2021-07-23T00:00:00",
          "2021-07-30T00:00:00",
          "2021-08-06T00:00:00",
          "2021-08-13T00:00:00",
          "2021-08-20T00:00:00",
          "2021-08-27T00:00:00",
          "2021-09-03T00:00:00",
          "2021-09-10T00:00:00",
          "2021-09-17T00:00:00",
          "2021-09-24T00:00:00",
          "2021-10-01T00:00:00",
          "2021-10-08T00:00:00",
          "2021-10-15T00:00:00",
          "2021-10-22T00:00:00",
          "2021-10-29T00:00:00",
          "2021-11-05T00:00:00",
          "2021-11-12T00:00:00",
          "2021-11-19T00:00:00",
          "2021-11-26T00:00:00",
          "2021-12-03T00:00:00",
          "2021-12-10T00:00:00",
          "2021-12-17T00:00:00",
          "2021-12-23T00:00:00",
          "2021-12-31T00:00:00",
          "2022-01-07T00:00:00",
          "2022-01-14T00:00:00",
          "2022-01-21T00:00:00",
          "2022-01-28T00:00:00",
          "2022-02-04T00:00:00",
          "2022-02-11T00:00:00",
          "2022-02-18T00:00:00",
          "2022-02-25T00:00:00",
          "2022-03-04T00:00:00",
          "2022-03-11T00:00:00",
          "2022-03-18T00:00:00",
          "2022-03-25T00:00:00",
          "2022-04-01T00:00:00",
          "2022-04-08T00:00:00",
          "2022-04-14T00:00:00",
          "2022-04-22T00:00:00",
          "2022-04-29T00:00:00",
          "2022-05-06T00:00:00",
          "2022-05-13T00:00:00",
          "2022-05-20T00:00:00",
          "2022-05-27T00:00:00",
          "2022-06-03T00:00:00",
          "2022-06-10T00:00:00",
          "2022-06-17T00:00:00",
          "2022-06-24T00:00:00",
          "2022-07-01T00:00:00",
          "2022-07-08T00:00:00",
          "2022-07-15T00:00:00",
          "2022-07-22T00:00:00",
          "2022-07-29T00:00:00",
          "2022-08-05T00:00:00",
          "2022-08-12T00:00:00",
          "2022-08-19T00:00:00",
          "2022-08-26T00:00:00",
          "2022-09-02T00:00:00",
          "2022-09-09T00:00:00",
          "2022-09-16T00:00:00",
          "2022-09-23T00:00:00",
          "2022-09-30T00:00:00",
          "2022-10-07T00:00:00",
          "2022-10-14T00:00:00",
          "2022-10-21T00:00:00",
          "2022-10-28T00:00:00",
          "2022-11-04T00:00:00",
          "2022-11-11T00:00:00",
          "2022-11-15T00:00:00"
         ],
         "xaxis": "x",
         "y": [
          null,
          100,
          101.40222119614084,
          101.27585117499817,
          101.41194196699796,
          102.58329485528199,
          101.23696809156962,
          100.83841648642733,
          102.07781477071129,
          102.69994410556754,
          103.1155070597098,
          100.83355610099878,
          103.67445138399471,
          105.40231840384939,
          105.8397530924202,
          104.82393253785021,
          106.91389827213295,
          106.5663807139906,
          107.53359741427494,
          108.36715351527374,
          107.74502418041749,
          109.41942696055796,
          110.10717149869981,
          108.25050426498818,
          107.26870640841815,
          107.878684779703,
          105.52868842499205,
          106.40841818756223,
          108.3550025517023,
          110.11689226955693,
          111.60660040341193,
          113.86181924226584,
          113.55561496026628,
          113.94930617998,
          111.53855500741203,
          110.18979805098539,
          114.39889183212222,
          111.75727235169742,
          114.36486913412227,
          115.42443315754933,
          113.26885221998097,
          112.93591581812431,
          106.43758050013359,
          107.40236700770363,
          109.04274708984416,
          107.04026829327559,
          105.52625823227777,
          106.3816860677051,
          105.02563853313562,
          102.08510534885411,
          108.0269265352742,
          110.01239398284281,
          110.06828841527131,
          108.7681353131303,
          106.39140683856228,
          103.53593039928064,
          100.12393982842836,
          99.96354710928573,
          97.62570171814622,
          94.68759872657897,
          100.91618265328435,
          99.76913169214315,
          94.72891200272178,
          88.91103064473009,
          94.79695739872167,
          92.64866703929617,
          94.45430022600787,
          93.59401200515195,
          96.01448394857705,
          100.12150963571405,
          100.48117815742783,
          103.79353082699451,
          102.58815524071052,
          98.49814090257351,
          95.32187902500662,
          98.81163576271591,
          93.69851029186607,
          89.41894092201504,
          86.80162336873308,
          88.16496148144542,
          86.91098204087578,
          90.95968310287,
          94.53935697100773,
          91.46030280201215,
          96.8456098568616,
          null
         ],
         "yaxis": "y"
        }
       ],
       "layout": {
        "legend": {
         "title": {
          "text": "variable"
         },
         "tracegroupgap": 0
        },
        "template": {
         "data": {
          "bar": [
           {
            "error_x": {
             "color": "#2a3f5f"
            },
            "error_y": {
             "color": "#2a3f5f"
            },
            "marker": {
             "line": {
              "color": "#E5ECF6",
              "width": 0.5
             },
             "pattern": {
              "fillmode": "overlay",
              "size": 10,
              "solidity": 0.2
             }
            },
            "type": "bar"
           }
          ],
          "barpolar": [
           {
            "marker": {
             "line": {
              "color": "#E5ECF6",
              "width": 0.5
             },
             "pattern": {
              "fillmode": "overlay",
              "size": 10,
              "solidity": 0.2
             }
            },
            "type": "barpolar"
           }
          ],
          "carpet": [
           {
            "aaxis": {
             "endlinecolor": "#2a3f5f",
             "gridcolor": "white",
             "linecolor": "white",
             "minorgridcolor": "white",
             "startlinecolor": "#2a3f5f"
            },
            "baxis": {
             "endlinecolor": "#2a3f5f",
             "gridcolor": "white",
             "linecolor": "white",
             "minorgridcolor": "white",
             "startlinecolor": "#2a3f5f"
            },
            "type": "carpet"
           }
          ],
          "choropleth": [
           {
            "colorbar": {
             "outlinewidth": 0,
             "ticks": ""
            },
            "type": "choropleth"
           }
          ],
          "contour": [
           {
            "colorbar": {
             "outlinewidth": 0,
             "ticks": ""
            },
            "colorscale": [
             [
              0,
              "#0d0887"
             ],
             [
              0.1111111111111111,
              "#46039f"
             ],
             [
              0.2222222222222222,
              "#7201a8"
             ],
             [
              0.3333333333333333,
              "#9c179e"
             ],
             [
              0.4444444444444444,
              "#bd3786"
             ],
             [
              0.5555555555555556,
              "#d8576b"
             ],
             [
              0.6666666666666666,
              "#ed7953"
             ],
             [
              0.7777777777777778,
              "#fb9f3a"
             ],
             [
              0.8888888888888888,
              "#fdca26"
             ],
             [
              1,
              "#f0f921"
             ]
            ],
            "type": "contour"
           }
          ],
          "contourcarpet": [
           {
            "colorbar": {
             "outlinewidth": 0,
             "ticks": ""
            },
            "type": "contourcarpet"
           }
          ],
          "heatmap": [
           {
            "colorbar": {
             "outlinewidth": 0,
             "ticks": ""
            },
            "colorscale": [
             [
              0,
              "#0d0887"
             ],
             [
              0.1111111111111111,
              "#46039f"
             ],
             [
              0.2222222222222222,
              "#7201a8"
             ],
             [
              0.3333333333333333,
              "#9c179e"
             ],
             [
              0.4444444444444444,
              "#bd3786"
             ],
             [
              0.5555555555555556,
              "#d8576b"
             ],
             [
              0.6666666666666666,
              "#ed7953"
             ],
             [
              0.7777777777777778,
              "#fb9f3a"
             ],
             [
              0.8888888888888888,
              "#fdca26"
             ],
             [
              1,
              "#f0f921"
             ]
            ],
            "type": "heatmap"
           }
          ],
          "heatmapgl": [
           {
            "colorbar": {
             "outlinewidth": 0,
             "ticks": ""
            },
            "colorscale": [
             [
              0,
              "#0d0887"
             ],
             [
              0.1111111111111111,
              "#46039f"
             ],
             [
              0.2222222222222222,
              "#7201a8"
             ],
             [
              0.3333333333333333,
              "#9c179e"
             ],
             [
              0.4444444444444444,
              "#bd3786"
             ],
             [
              0.5555555555555556,
              "#d8576b"
             ],
             [
              0.6666666666666666,
              "#ed7953"
             ],
             [
              0.7777777777777778,
              "#fb9f3a"
             ],
             [
              0.8888888888888888,
              "#fdca26"
             ],
             [
              1,
              "#f0f921"
             ]
            ],
            "type": "heatmapgl"
           }
          ],
          "histogram": [
           {
            "marker": {
             "pattern": {
              "fillmode": "overlay",
              "size": 10,
              "solidity": 0.2
             }
            },
            "type": "histogram"
           }
          ],
          "histogram2d": [
           {
            "colorbar": {
             "outlinewidth": 0,
             "ticks": ""
            },
            "colorscale": [
             [
              0,
              "#0d0887"
             ],
             [
              0.1111111111111111,
              "#46039f"
             ],
             [
              0.2222222222222222,
              "#7201a8"
             ],
             [
              0.3333333333333333,
              "#9c179e"
             ],
             [
              0.4444444444444444,
              "#bd3786"
             ],
             [
              0.5555555555555556,
              "#d8576b"
             ],
             [
              0.6666666666666666,
              "#ed7953"
             ],
             [
              0.7777777777777778,
              "#fb9f3a"
             ],
             [
              0.8888888888888888,
              "#fdca26"
             ],
             [
              1,
              "#f0f921"
             ]
            ],
            "type": "histogram2d"
           }
          ],
          "histogram2dcontour": [
           {
            "colorbar": {
             "outlinewidth": 0,
             "ticks": ""
            },
            "colorscale": [
             [
              0,
              "#0d0887"
             ],
             [
              0.1111111111111111,
              "#46039f"
             ],
             [
              0.2222222222222222,
              "#7201a8"
             ],
             [
              0.3333333333333333,
              "#9c179e"
             ],
             [
              0.4444444444444444,
              "#bd3786"
             ],
             [
              0.5555555555555556,
              "#d8576b"
             ],
             [
              0.6666666666666666,
              "#ed7953"
             ],
             [
              0.7777777777777778,
              "#fb9f3a"
             ],
             [
              0.8888888888888888,
              "#fdca26"
             ],
             [
              1,
              "#f0f921"
             ]
            ],
            "type": "histogram2dcontour"
           }
          ],
          "mesh3d": [
           {
            "colorbar": {
             "outlinewidth": 0,
             "ticks": ""
            },
            "type": "mesh3d"
           }
          ],
          "parcoords": [
           {
            "line": {
             "colorbar": {
              "outlinewidth": 0,
              "ticks": ""
             }
            },
            "type": "parcoords"
           }
          ],
          "pie": [
           {
            "automargin": true,
            "type": "pie"
           }
          ],
          "scatter": [
           {
            "fillpattern": {
             "fillmode": "overlay",
             "size": 10,
             "solidity": 0.2
            },
            "type": "scatter"
           }
          ],
          "scatter3d": [
           {
            "line": {
             "colorbar": {
              "outlinewidth": 0,
              "ticks": ""
             }
            },
            "marker": {
             "colorbar": {
              "outlinewidth": 0,
              "ticks": ""
             }
            },
            "type": "scatter3d"
           }
          ],
          "scattercarpet": [
           {
            "marker": {
             "colorbar": {
              "outlinewidth": 0,
              "ticks": ""
             }
            },
            "type": "scattercarpet"
           }
          ],
          "scattergeo": [
           {
            "marker": {
             "colorbar": {
              "outlinewidth": 0,
              "ticks": ""
             }
            },
            "type": "scattergeo"
           }
          ],
          "scattergl": [
           {
            "marker": {
             "colorbar": {
              "outlinewidth": 0,
              "ticks": ""
             }
            },
            "type": "scattergl"
           }
          ],
          "scattermapbox": [
           {
            "marker": {
             "colorbar": {
              "outlinewidth": 0,
              "ticks": ""
             }
            },
            "type": "scattermapbox"
           }
          ],
          "scatterpolar": [
           {
            "marker": {
             "colorbar": {
              "outlinewidth": 0,
              "ticks": ""
             }
            },
            "type": "scatterpolar"
           }
          ],
          "scatterpolargl": [
           {
            "marker": {
             "colorbar": {
              "outlinewidth": 0,
              "ticks": ""
             }
            },
            "type": "scatterpolargl"
           }
          ],
          "scatterternary": [
           {
            "marker": {
             "colorbar": {
              "outlinewidth": 0,
              "ticks": ""
             }
            },
            "type": "scatterternary"
           }
          ],
          "surface": [
           {
            "colorbar": {
             "outlinewidth": 0,
             "ticks": ""
            },
            "colorscale": [
             [
              0,
              "#0d0887"
             ],
             [
              0.1111111111111111,
              "#46039f"
             ],
             [
              0.2222222222222222,
              "#7201a8"
             ],
             [
              0.3333333333333333,
              "#9c179e"
             ],
             [
              0.4444444444444444,
              "#bd3786"
             ],
             [
              0.5555555555555556,
              "#d8576b"
             ],
             [
              0.6666666666666666,
              "#ed7953"
             ],
             [
              0.7777777777777778,
              "#fb9f3a"
             ],
             [
              0.8888888888888888,
              "#fdca26"
             ],
             [
              1,
              "#f0f921"
             ]
            ],
            "type": "surface"
           }
          ],
          "table": [
           {
            "cells": {
             "fill": {
              "color": "#EBF0F8"
             },
             "line": {
              "color": "white"
             }
            },
            "header": {
             "fill": {
              "color": "#C8D4E3"
             },
             "line": {
              "color": "white"
             }
            },
            "type": "table"
           }
          ]
         },
         "layout": {
          "annotationdefaults": {
           "arrowcolor": "#2a3f5f",
           "arrowhead": 0,
           "arrowwidth": 1
          },
          "autotypenumbers": "strict",
          "coloraxis": {
           "colorbar": {
            "outlinewidth": 0,
            "ticks": ""
           }
          },
          "colorscale": {
           "diverging": [
            [
             0,
             "#8e0152"
            ],
            [
             0.1,
             "#c51b7d"
            ],
            [
             0.2,
             "#de77ae"
            ],
            [
             0.3,
             "#f1b6da"
            ],
            [
             0.4,
             "#fde0ef"
            ],
            [
             0.5,
             "#f7f7f7"
            ],
            [
             0.6,
             "#e6f5d0"
            ],
            [
             0.7,
             "#b8e186"
            ],
            [
             0.8,
             "#7fbc41"
            ],
            [
             0.9,
             "#4d9221"
            ],
            [
             1,
             "#276419"
            ]
           ],
           "sequential": [
            [
             0,
             "#0d0887"
            ],
            [
             0.1111111111111111,
             "#46039f"
            ],
            [
             0.2222222222222222,
             "#7201a8"
            ],
            [
             0.3333333333333333,
             "#9c179e"
            ],
            [
             0.4444444444444444,
             "#bd3786"
            ],
            [
             0.5555555555555556,
             "#d8576b"
            ],
            [
             0.6666666666666666,
             "#ed7953"
            ],
            [
             0.7777777777777778,
             "#fb9f3a"
            ],
            [
             0.8888888888888888,
             "#fdca26"
            ],
            [
             1,
             "#f0f921"
            ]
           ],
           "sequentialminus": [
            [
             0,
             "#0d0887"
            ],
            [
             0.1111111111111111,
             "#46039f"
            ],
            [
             0.2222222222222222,
             "#7201a8"
            ],
            [
             0.3333333333333333,
             "#9c179e"
            ],
            [
             0.4444444444444444,
             "#bd3786"
            ],
            [
             0.5555555555555556,
             "#d8576b"
            ],
            [
             0.6666666666666666,
             "#ed7953"
            ],
            [
             0.7777777777777778,
             "#fb9f3a"
            ],
            [
             0.8888888888888888,
             "#fdca26"
            ],
            [
             1,
             "#f0f921"
            ]
           ]
          },
          "colorway": [
           "#636efa",
           "#EF553B",
           "#00cc96",
           "#ab63fa",
           "#FFA15A",
           "#19d3f3",
           "#FF6692",
           "#B6E880",
           "#FF97FF",
           "#FECB52"
          ],
          "font": {
           "color": "#2a3f5f"
          },
          "geo": {
           "bgcolor": "white",
           "lakecolor": "white",
           "landcolor": "#E5ECF6",
           "showlakes": true,
           "showland": true,
           "subunitcolor": "white"
          },
          "hoverlabel": {
           "align": "left"
          },
          "hovermode": "closest",
          "mapbox": {
           "style": "light"
          },
          "paper_bgcolor": "white",
          "plot_bgcolor": "#E5ECF6",
          "polar": {
           "angularaxis": {
            "gridcolor": "white",
            "linecolor": "white",
            "ticks": ""
           },
           "bgcolor": "#E5ECF6",
           "radialaxis": {
            "gridcolor": "white",
            "linecolor": "white",
            "ticks": ""
           }
          },
          "scene": {
           "xaxis": {
            "backgroundcolor": "#E5ECF6",
            "gridcolor": "white",
            "gridwidth": 2,
            "linecolor": "white",
            "showbackground": true,
            "ticks": "",
            "zerolinecolor": "white"
           },
           "yaxis": {
            "backgroundcolor": "#E5ECF6",
            "gridcolor": "white",
            "gridwidth": 2,
            "linecolor": "white",
            "showbackground": true,
            "ticks": "",
            "zerolinecolor": "white"
           },
           "zaxis": {
            "backgroundcolor": "#E5ECF6",
            "gridcolor": "white",
            "gridwidth": 2,
            "linecolor": "white",
            "showbackground": true,
            "ticks": "",
            "zerolinecolor": "white"
           }
          },
          "shapedefaults": {
           "line": {
            "color": "#2a3f5f"
           }
          },
          "ternary": {
           "aaxis": {
            "gridcolor": "white",
            "linecolor": "white",
            "ticks": ""
           },
           "baxis": {
            "gridcolor": "white",
            "linecolor": "white",
            "ticks": ""
           },
           "bgcolor": "#E5ECF6",
           "caxis": {
            "gridcolor": "white",
            "linecolor": "white",
            "ticks": ""
           }
          },
          "title": {
           "x": 0.05
          },
          "xaxis": {
           "automargin": true,
           "gridcolor": "white",
           "linecolor": "white",
           "ticks": "",
           "title": {
            "standoff": 15
           },
           "zerolinecolor": "white",
           "zerolinewidth": 2
          },
          "yaxis": {
           "automargin": true,
           "gridcolor": "white",
           "linecolor": "white",
           "ticks": "",
           "title": {
            "standoff": 15
           },
           "zerolinecolor": "white",
           "zerolinewidth": 2
          }
         }
        },
        "title": {
         "text": "Growth in GOOGL v SPY"
        },
        "xaxis": {
         "anchor": "y",
         "domain": [
          0,
          1
         ],
         "title": {
          "text": "date"
         }
        },
        "yaxis": {
         "anchor": "x",
         "domain": [
          0,
          1
         ],
         "title": {
          "text": "value"
         }
        }
       }
      }
     },
     "metadata": {},
     "output_type": "display_data"
    }
   ],
   "source": [
    "\n",
    "graphAlpha(\"GOOGL\", reformatDate(\"03/29/2021\"))"
   ]
  },
  {
   "cell_type": "markdown",
   "metadata": {},
   "source": [
    "After the initial panic had subsided from assuming my data is incorrect, it appears GOOGL had a stock split in July. Lets correct this and post to the db. "
   ]
  },
  {
   "cell_type": "code",
   "execution_count": 248,
   "metadata": {},
   "outputs": [
    {
     "data": {
      "text/html": [
       "<div>\n",
       "<style scoped>\n",
       "    .dataframe tbody tr th:only-of-type {\n",
       "        vertical-align: middle;\n",
       "    }\n",
       "\n",
       "    .dataframe tbody tr th {\n",
       "        vertical-align: top;\n",
       "    }\n",
       "\n",
       "    .dataframe thead th {\n",
       "        text-align: right;\n",
       "    }\n",
       "</style>\n",
       "<table border=\"1\" class=\"dataframe\">\n",
       "  <thead>\n",
       "    <tr style=\"text-align: right;\">\n",
       "      <th></th>\n",
       "      <th>date</th>\n",
       "      <th>GOOGL</th>\n",
       "      <th>SPY</th>\n",
       "    </tr>\n",
       "  </thead>\n",
       "  <tbody>\n",
       "    <tr>\n",
       "      <th>20</th>\n",
       "      <td>2022-07-01</td>\n",
       "      <td>2174.75</td>\n",
       "      <td>381.24</td>\n",
       "    </tr>\n",
       "    <tr>\n",
       "      <th>19</th>\n",
       "      <td>2022-07-08</td>\n",
       "      <td>2387.07</td>\n",
       "      <td>388.67</td>\n",
       "    </tr>\n",
       "    <tr>\n",
       "      <th>18</th>\n",
       "      <td>2022-07-15</td>\n",
       "      <td>2235.55</td>\n",
       "      <td>385.13</td>\n",
       "    </tr>\n",
       "    <tr>\n",
       "      <th>17</th>\n",
       "      <td>2022-07-22</td>\n",
       "      <td>107.90</td>\n",
       "      <td>395.09</td>\n",
       "    </tr>\n",
       "    <tr>\n",
       "      <th>16</th>\n",
       "      <td>2022-07-29</td>\n",
       "      <td>116.32</td>\n",
       "      <td>411.99</td>\n",
       "    </tr>\n",
       "  </tbody>\n",
       "</table>\n",
       "</div>"
      ],
      "text/plain": [
       "         date    GOOGL     SPY\n",
       "20 2022-07-01  2174.75  381.24\n",
       "19 2022-07-08  2387.07  388.67\n",
       "18 2022-07-15  2235.55  385.13\n",
       "17 2022-07-22   107.90  395.09\n",
       "16 2022-07-29   116.32  411.99"
      ]
     },
     "execution_count": 248,
     "metadata": {},
     "output_type": "execute_result"
    }
   ],
   "source": [
    "gf = generateHistoricalPricesTable(\"GOOGL\", reformatDate(\"03/29/2021\"))\n",
    "gf[gf['date']>='2022-07-01'].head()\n",
    "\n"
   ]
  },
  {
   "cell_type": "code",
   "execution_count": 249,
   "metadata": {},
   "outputs": [
    {
     "data": {
      "text/html": [
       "<div>\n",
       "<style scoped>\n",
       "    .dataframe tbody tr th:only-of-type {\n",
       "        vertical-align: middle;\n",
       "    }\n",
       "\n",
       "    .dataframe tbody tr th {\n",
       "        vertical-align: top;\n",
       "    }\n",
       "\n",
       "    .dataframe thead th {\n",
       "        text-align: right;\n",
       "    }\n",
       "</style>\n",
       "<table border=\"1\" class=\"dataframe\">\n",
       "  <thead>\n",
       "    <tr style=\"text-align: right;\">\n",
       "      <th></th>\n",
       "      <th>GOOGL</th>\n",
       "      <th>date</th>\n",
       "    </tr>\n",
       "  </thead>\n",
       "  <tbody>\n",
       "    <tr>\n",
       "      <th>540</th>\n",
       "      <td>576.52</td>\n",
       "      <td>2012-07-13</td>\n",
       "    </tr>\n",
       "    <tr>\n",
       "      <th>541</th>\n",
       "      <td>585.98</td>\n",
       "      <td>2012-07-06</td>\n",
       "    </tr>\n",
       "    <tr>\n",
       "      <th>542</th>\n",
       "      <td>580.07</td>\n",
       "      <td>2012-06-29</td>\n",
       "    </tr>\n",
       "    <tr>\n",
       "      <th>543</th>\n",
       "      <td>571.48</td>\n",
       "      <td>2012-06-22</td>\n",
       "    </tr>\n",
       "    <tr>\n",
       "      <th>544</th>\n",
       "      <td>564.51</td>\n",
       "      <td>2012-06-15</td>\n",
       "    </tr>\n",
       "  </tbody>\n",
       "</table>\n",
       "</div>"
      ],
      "text/plain": [
       "      GOOGL       date\n",
       "540  576.52 2012-07-13\n",
       "541  585.98 2012-07-06\n",
       "542  580.07 2012-06-29\n",
       "543  571.48 2012-06-22\n",
       "544  564.51 2012-06-15"
      ]
     },
     "execution_count": 249,
     "metadata": {},
     "output_type": "execute_result"
    }
   ],
   "source": [
    "historicalPricesAG[['GOOGL', 'date']].tail()"
   ]
  },
  {
   "cell_type": "code",
   "execution_count": null,
   "metadata": {},
   "outputs": [],
   "source": []
  },
  {
   "cell_type": "code",
   "execution_count": 253,
   "metadata": {},
   "outputs": [],
   "source": [
    "# 03/16/2021"
   ]
  },
  {
   "cell_type": "code",
   "execution_count": null,
   "metadata": {},
   "outputs": [],
   "source": []
  },
  {
   "cell_type": "code",
   "execution_count": null,
   "metadata": {},
   "outputs": [],
   "source": []
  },
  {
   "cell_type": "code",
   "execution_count": null,
   "metadata": {},
   "outputs": [],
   "source": []
  },
  {
   "cell_type": "code",
   "execution_count": null,
   "metadata": {},
   "outputs": [],
   "source": []
  }
 ],
 "metadata": {
  "kernelspec": {
   "display_name": "Python 3.10.8 64-bit",
   "language": "python",
   "name": "python3"
  },
  "language_info": {
   "codemirror_mode": {
    "name": "ipython",
    "version": 3
   },
   "file_extension": ".py",
   "mimetype": "text/x-python",
   "name": "python",
   "nbconvert_exporter": "python",
   "pygments_lexer": "ipython3",
   "version": "3.10.8"
  },
  "orig_nbformat": 4,
  "vscode": {
   "interpreter": {
    "hash": "aee8b7b246df8f9039afb4144a1f6fd8d2ca17a180786b69acc140d282b71a49"
   }
  }
 },
 "nbformat": 4,
 "nbformat_minor": 2
}
