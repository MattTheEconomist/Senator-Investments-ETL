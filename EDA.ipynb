{
 "cells": [
  {
   "cell_type": "code",
   "execution_count": 2,
   "metadata": {},
   "outputs": [],
   "source": [
    "import pandas as pd\n",
    "import numpy as np\n",
    "\n",
    "from sqlalchemy import create_engine\n",
    "from dotenv import load_dotenv\n",
    "import os\n",
    "\n",
    "# from datetime import datetime\n",
    "import datetime\n",
    "from dateutil.relativedelta import relativedelta\n",
    "\n",
    "\n",
    "load_dotenv()\n",
    "\n",
    "\n",
    "hostname=os.getenv(\"hostname\")\n",
    "database=os.getenv(\"database\")\n",
    "username=os.getenv(\"username\")\n",
    "pwd=os.getenv(\"pwd\")\n",
    "port_id=os.getenv(\"port_id\")\n",
    "host = os.getenv(\"host\")\n",
    "\n",
    "import warnings\n",
    "warnings.filterwarnings('ignore')\n",
    "\n",
    "# xcrun: error: invalid active developer path"
   ]
  },
  {
   "cell_type": "code",
   "execution_count": 3,
   "metadata": {},
   "outputs": [],
   "source": [
    "conn_string = f\"postgresql://{username}:{pwd}@{host}:{port_id}/{database}\"\n",
    "db =  create_engine(url=conn_string)"
   ]
  },
  {
   "cell_type": "code",
   "execution_count": 4,
   "metadata": {},
   "outputs": [
    {
     "data": {
      "text/html": [
       "<div>\n",
       "<style scoped>\n",
       "    .dataframe tbody tr th:only-of-type {\n",
       "        vertical-align: middle;\n",
       "    }\n",
       "\n",
       "    .dataframe tbody tr th {\n",
       "        vertical-align: top;\n",
       "    }\n",
       "\n",
       "    .dataframe thead th {\n",
       "        text-align: right;\n",
       "    }\n",
       "</style>\n",
       "<table border=\"1\" class=\"dataframe\">\n",
       "  <thead>\n",
       "    <tr style=\"text-align: right;\">\n",
       "      <th></th>\n",
       "      <th>row</th>\n",
       "      <th>senator</th>\n",
       "      <th>senatorId</th>\n",
       "      <th>party</th>\n",
       "    </tr>\n",
       "  </thead>\n",
       "  <tbody>\n",
       "    <tr>\n",
       "      <th>0</th>\n",
       "      <td>1</td>\n",
       "      <td>Thomas H Tuberville</td>\n",
       "      <td>100</td>\n",
       "      <td>Republican</td>\n",
       "    </tr>\n",
       "    <tr>\n",
       "      <th>1</th>\n",
       "      <td>2</td>\n",
       "      <td>Thomas R Carper</td>\n",
       "      <td>101</td>\n",
       "      <td>Democratic</td>\n",
       "    </tr>\n",
       "    <tr>\n",
       "      <th>2</th>\n",
       "      <td>3</td>\n",
       "      <td>Daniel S Sullivan</td>\n",
       "      <td>102</td>\n",
       "      <td>Republican</td>\n",
       "    </tr>\n",
       "    <tr>\n",
       "      <th>3</th>\n",
       "      <td>4</td>\n",
       "      <td>Rick Scott</td>\n",
       "      <td>103</td>\n",
       "      <td>Republican</td>\n",
       "    </tr>\n",
       "    <tr>\n",
       "      <th>4</th>\n",
       "      <td>5</td>\n",
       "      <td>John Boozman</td>\n",
       "      <td>104</td>\n",
       "      <td>Republican</td>\n",
       "    </tr>\n",
       "  </tbody>\n",
       "</table>\n",
       "</div>"
      ],
      "text/plain": [
       "   row              senator  senatorId       party\n",
       "0    1  Thomas H Tuberville        100  Republican\n",
       "1    2      Thomas R Carper        101  Democratic\n",
       "2    3    Daniel S Sullivan        102  Republican\n",
       "3    4           Rick Scott        103  Republican\n",
       "4    5         John Boozman        104  Republican"
      ]
     },
     "execution_count": 4,
     "metadata": {},
     "output_type": "execute_result"
    }
   ],
   "source": [
    "transactions = pd.read_sql(\"SELECT * FROM transactions\", db)\n",
    "historicalPricesAG = pd.read_sql('SELECT * FROM \"historical_pricesA_G\" ', db)\n",
    "historicalPricesHR = pd.read_sql('SELECT * FROM \"historical_pricesH_R\" ', db)\n",
    "historicalPricesSZ = pd.read_sql('SELECT * FROM \"historical_pricesS_Z\" ', db)\n",
    "senators = pd.read_sql(\"SELECT * FROM senator_info\", db)\n",
    "\n",
    "senators.head()"
   ]
  },
  {
   "cell_type": "code",
   "execution_count": 5,
   "metadata": {},
   "outputs": [
    {
     "data": {
      "text/html": [
       "<div>\n",
       "<style scoped>\n",
       "    .dataframe tbody tr th:only-of-type {\n",
       "        vertical-align: middle;\n",
       "    }\n",
       "\n",
       "    .dataframe tbody tr th {\n",
       "        vertical-align: top;\n",
       "    }\n",
       "\n",
       "    .dataframe thead th {\n",
       "        text-align: right;\n",
       "    }\n",
       "</style>\n",
       "<table border=\"1\" class=\"dataframe\">\n",
       "  <thead>\n",
       "    <tr style=\"text-align: right;\">\n",
       "      <th></th>\n",
       "      <th>row</th>\n",
       "      <th>senator</th>\n",
       "      <th>senatorId</th>\n",
       "      <th>party</th>\n",
       "    </tr>\n",
       "  </thead>\n",
       "  <tbody>\n",
       "    <tr>\n",
       "      <th>0</th>\n",
       "      <td>1</td>\n",
       "      <td>Thomas H Tuberville</td>\n",
       "      <td>100</td>\n",
       "      <td>Republican</td>\n",
       "    </tr>\n",
       "    <tr>\n",
       "      <th>1</th>\n",
       "      <td>2</td>\n",
       "      <td>Thomas R Carper</td>\n",
       "      <td>101</td>\n",
       "      <td>Democratic</td>\n",
       "    </tr>\n",
       "    <tr>\n",
       "      <th>2</th>\n",
       "      <td>3</td>\n",
       "      <td>Daniel S Sullivan</td>\n",
       "      <td>102</td>\n",
       "      <td>Republican</td>\n",
       "    </tr>\n",
       "    <tr>\n",
       "      <th>3</th>\n",
       "      <td>4</td>\n",
       "      <td>Rick Scott</td>\n",
       "      <td>103</td>\n",
       "      <td>Republican</td>\n",
       "    </tr>\n",
       "    <tr>\n",
       "      <th>4</th>\n",
       "      <td>5</td>\n",
       "      <td>John Boozman</td>\n",
       "      <td>104</td>\n",
       "      <td>Republican</td>\n",
       "    </tr>\n",
       "  </tbody>\n",
       "</table>\n",
       "</div>"
      ],
      "text/plain": [
       "   row              senator  senatorId       party\n",
       "0    1  Thomas H Tuberville        100  Republican\n",
       "1    2      Thomas R Carper        101  Democratic\n",
       "2    3    Daniel S Sullivan        102  Republican\n",
       "3    4           Rick Scott        103  Republican\n",
       "4    5         John Boozman        104  Republican"
      ]
     },
     "execution_count": 5,
     "metadata": {},
     "output_type": "execute_result"
    }
   ],
   "source": [
    "historicalPricesAG = pd.read_sql('SELECT * FROM \"historical_pricesA_G\" ', db)\n",
    "historicalPricesHR = pd.read_sql('SELECT * FROM \"historical_pricesH_R\" ', db)\n",
    "historicalPricesSZ = pd.read_sql('SELECT * FROM \"historical_pricesS_Z\" ', db)\n",
    "senators = pd.read_sql(\"SELECT * FROM senator_info\", db)\n",
    "\n",
    "senators.head()"
   ]
  },
  {
   "cell_type": "code",
   "execution_count": 6,
   "metadata": {},
   "outputs": [],
   "source": [
    "def extractDateFromTimestamp(row):\n",
    "    return str(row).split(\" \")[0]"
   ]
  },
  {
   "cell_type": "code",
   "execution_count": 7,
   "metadata": {},
   "outputs": [
    {
     "data": {
      "text/plain": [
       "'alpha'"
      ]
     },
     "execution_count": 7,
     "metadata": {},
     "output_type": "execute_result"
    }
   ],
   "source": [
    "transactions.columns[-1]"
   ]
  },
  {
   "cell_type": "code",
   "execution_count": 8,
   "metadata": {},
   "outputs": [
    {
     "data": {
      "text/plain": [
       "'Rick Scott'"
      ]
     },
     "execution_count": 8,
     "metadata": {},
     "output_type": "execute_result"
    }
   ],
   "source": [
    "def returnSenatorNameFromId(senId):\n",
    "    sens = senators.senator.to_list()\n",
    "    senIds = senators.senatorId.to_list()\n",
    "\n",
    "    senatorDict = dict(zip(senIds, sens))\n",
    "    return senatorDict[senId]\n",
    "\n",
    "returnSenatorNameFromId(103)"
   ]
  },
  {
   "cell_type": "code",
   "execution_count": 9,
   "metadata": {},
   "outputs": [
    {
     "data": {
      "text/plain": [
       "0    100\n",
       "Name: senatorId, dtype: int64"
      ]
     },
     "execution_count": 9,
     "metadata": {},
     "output_type": "execute_result"
    }
   ],
   "source": [
    "def lookupIdByName(nameString):\n",
    "    nameMatch = senators[senators['senator'].str.contains(nameString)]\n",
    "\n",
    "    if len(nameMatch)>1:\n",
    "        return nameMatch\n",
    "    else: \n",
    "        return nameMatch['senatorId']\n",
    "\n",
    "\n",
    "lookupIdByName(\"Tuber\")"
   ]
  },
  {
   "cell_type": "code",
   "execution_count": 10,
   "metadata": {},
   "outputs": [
    {
     "data": {
      "text/plain": [
       "--      50\n",
       "ECOM    28\n",
       "CLF     26\n",
       "X       25\n",
       "PYPL    22\n",
       "OXY     18\n",
       "INTC    17\n",
       "SSYS    15\n",
       "AA      13\n",
       "MSFT    12\n",
       "BABA     9\n",
       "CALX     8\n",
       "QCOM     8\n",
       "ARKK     5\n",
       "NU       5\n",
       "Name: ticker, dtype: int64"
      ]
     },
     "execution_count": 10,
     "metadata": {},
     "output_type": "execute_result"
    }
   ],
   "source": [
    "tub  = transactions[transactions['senatorId']==100]\n",
    "tub.ticker.value_counts().head(15)\n"
   ]
  },
  {
   "cell_type": "code",
   "execution_count": 11,
   "metadata": {},
   "outputs": [
    {
     "data": {
      "text/html": [
       "<div>\n",
       "<style scoped>\n",
       "    .dataframe tbody tr th:only-of-type {\n",
       "        vertical-align: middle;\n",
       "    }\n",
       "\n",
       "    .dataframe tbody tr th {\n",
       "        vertical-align: top;\n",
       "    }\n",
       "\n",
       "    .dataframe thead th {\n",
       "        text-align: right;\n",
       "    }\n",
       "</style>\n",
       "<table border=\"1\" class=\"dataframe\">\n",
       "  <thead>\n",
       "    <tr style=\"text-align: right;\">\n",
       "      <th></th>\n",
       "      <th>transaction_date</th>\n",
       "      <th>owner</th>\n",
       "      <th>ticker</th>\n",
       "      <th>asset_description</th>\n",
       "      <th>asset_type</th>\n",
       "      <th>type</th>\n",
       "      <th>amount</th>\n",
       "      <th>comment</th>\n",
       "      <th>senator</th>\n",
       "      <th>ptr_link</th>\n",
       "      <th>disclosure_date</th>\n",
       "      <th>id</th>\n",
       "      <th>senatorId</th>\n",
       "      <th>alpha</th>\n",
       "    </tr>\n",
       "  </thead>\n",
       "  <tbody>\n",
       "    <tr>\n",
       "      <th>5039</th>\n",
       "      <td>2022-06-16</td>\n",
       "      <td>Joint</td>\n",
       "      <td>QCOM</td>\n",
       "      <td>QUALCOMM Incorporated - Common Stock</td>\n",
       "      <td>Stock</td>\n",
       "      <td>Purchase</td>\n",
       "      <td>$250,001 - $500,000</td>\n",
       "      <td>--</td>\n",
       "      <td>Thomas H Tuberville</td>\n",
       "      <td>https://efdsearch.senate.gov/search/view/ptr/3...</td>\n",
       "      <td>07/13/2022</td>\n",
       "      <td>261</td>\n",
       "      <td>100</td>\n",
       "      <td>18.17</td>\n",
       "    </tr>\n",
       "    <tr>\n",
       "      <th>5217</th>\n",
       "      <td>2021-03-29</td>\n",
       "      <td>Joint</td>\n",
       "      <td>QCOM</td>\n",
       "      <td>QUALCOMM Incorporated</td>\n",
       "      <td>Stock</td>\n",
       "      <td>Purchase</td>\n",
       "      <td>$1,001 - $15,000</td>\n",
       "      <td>--</td>\n",
       "      <td>Thomas H Tuberville</td>\n",
       "      <td>https://efdsearch.senate.gov/search/view/ptr/3...</td>\n",
       "      <td>07/23/2021</td>\n",
       "      <td>1002</td>\n",
       "      <td>100</td>\n",
       "      <td>1.19</td>\n",
       "    </tr>\n",
       "  </tbody>\n",
       "</table>\n",
       "</div>"
      ],
      "text/plain": [
       "     transaction_date  owner ticker                     asset_description  \\\n",
       "5039       2022-06-16  Joint   QCOM  QUALCOMM Incorporated - Common Stock   \n",
       "5217       2021-03-29  Joint   QCOM                 QUALCOMM Incorporated   \n",
       "\n",
       "     asset_type      type               amount comment              senator  \\\n",
       "5039      Stock  Purchase  $250,001 - $500,000      --  Thomas H Tuberville   \n",
       "5217      Stock  Purchase     $1,001 - $15,000      --  Thomas H Tuberville   \n",
       "\n",
       "                                               ptr_link disclosure_date    id  \\\n",
       "5039  https://efdsearch.senate.gov/search/view/ptr/3...      07/13/2022   261   \n",
       "5217  https://efdsearch.senate.gov/search/view/ptr/3...      07/23/2021  1002   \n",
       "\n",
       "      senatorId  alpha  \n",
       "5039        100  18.17  \n",
       "5217        100   1.19  "
      ]
     },
     "execution_count": 11,
     "metadata": {},
     "output_type": "execute_result"
    }
   ],
   "source": [
    "tub[(tub['ticker']=='QCOM') & (tub['type']=='Purchase') \n",
    "& (tub['asset_type']=='Stock')\n",
    "]\n"
   ]
  },
  {
   "cell_type": "code",
   "execution_count": 12,
   "metadata": {},
   "outputs": [
    {
     "data": {
      "text/html": [
       "<div>\n",
       "<style scoped>\n",
       "    .dataframe tbody tr th:only-of-type {\n",
       "        vertical-align: middle;\n",
       "    }\n",
       "\n",
       "    .dataframe tbody tr th {\n",
       "        vertical-align: top;\n",
       "    }\n",
       "\n",
       "    .dataframe thead th {\n",
       "        text-align: right;\n",
       "    }\n",
       "</style>\n",
       "<table border=\"1\" class=\"dataframe\">\n",
       "  <thead>\n",
       "    <tr style=\"text-align: right;\">\n",
       "      <th></th>\n",
       "      <th>transaction_date</th>\n",
       "      <th>owner</th>\n",
       "      <th>ticker</th>\n",
       "      <th>asset_description</th>\n",
       "      <th>asset_type</th>\n",
       "      <th>type</th>\n",
       "      <th>amount</th>\n",
       "      <th>comment</th>\n",
       "      <th>senator</th>\n",
       "      <th>ptr_link</th>\n",
       "      <th>disclosure_date</th>\n",
       "      <th>id</th>\n",
       "      <th>senatorId</th>\n",
       "      <th>alpha</th>\n",
       "    </tr>\n",
       "  </thead>\n",
       "  <tbody>\n",
       "    <tr>\n",
       "      <th>0</th>\n",
       "      <td>2022-10-28</td>\n",
       "      <td>Joint</td>\n",
       "      <td>MSFT</td>\n",
       "      <td>Microsoft Corporation - Common Stock Option Ty...</td>\n",
       "      <td>Stock Option</td>\n",
       "      <td>Sale (Full)</td>\n",
       "      <td>$1,001 - $15,000</td>\n",
       "      <td>--</td>\n",
       "      <td>Thomas H Tuberville</td>\n",
       "      <td>https://efdsearch.senate.gov/search/view/ptr/b...</td>\n",
       "      <td>2022-11-10</td>\n",
       "      <td>0</td>\n",
       "      <td>100</td>\n",
       "      <td>None</td>\n",
       "    </tr>\n",
       "    <tr>\n",
       "      <th>1</th>\n",
       "      <td>2022-10-28</td>\n",
       "      <td>Joint</td>\n",
       "      <td>MSFT</td>\n",
       "      <td>Microsoft Corporation - Common Stock Option Ty...</td>\n",
       "      <td>Stock Option</td>\n",
       "      <td>Sale (Full)</td>\n",
       "      <td>$1,001 - $15,000</td>\n",
       "      <td>--</td>\n",
       "      <td>Thomas H Tuberville</td>\n",
       "      <td>https://efdsearch.senate.gov/search/view/ptr/b...</td>\n",
       "      <td>2022-11-10</td>\n",
       "      <td>2</td>\n",
       "      <td>100</td>\n",
       "      <td>None</td>\n",
       "    </tr>\n",
       "    <tr>\n",
       "      <th>2</th>\n",
       "      <td>2022-10-28</td>\n",
       "      <td>Joint</td>\n",
       "      <td>MSFT</td>\n",
       "      <td>Microsoft Corporation - Common Stock Option Ty...</td>\n",
       "      <td>Stock Option</td>\n",
       "      <td>Sale (Full)</td>\n",
       "      <td>$1,001 - $15,000</td>\n",
       "      <td>--</td>\n",
       "      <td>Thomas H Tuberville</td>\n",
       "      <td>https://efdsearch.senate.gov/search/view/ptr/b...</td>\n",
       "      <td>2022-11-10</td>\n",
       "      <td>3</td>\n",
       "      <td>100</td>\n",
       "      <td>None</td>\n",
       "    </tr>\n",
       "    <tr>\n",
       "      <th>3</th>\n",
       "      <td>2022-10-06</td>\n",
       "      <td>Joint</td>\n",
       "      <td>XOM</td>\n",
       "      <td>Exxon Mobil Corporation Common Stock Option Ty...</td>\n",
       "      <td>Stock Option</td>\n",
       "      <td>Sale (Full)</td>\n",
       "      <td>$15,001 - $50,000</td>\n",
       "      <td>--</td>\n",
       "      <td>Thomas H Tuberville</td>\n",
       "      <td>https://efdsearch.senate.gov/search/view/ptr/b...</td>\n",
       "      <td>2022-11-10</td>\n",
       "      <td>8</td>\n",
       "      <td>100</td>\n",
       "      <td>None</td>\n",
       "    </tr>\n",
       "    <tr>\n",
       "      <th>4</th>\n",
       "      <td>2022-10-06</td>\n",
       "      <td>Joint</td>\n",
       "      <td>CVX</td>\n",
       "      <td>Chevron Corporation Common Stock Option Type: ...</td>\n",
       "      <td>Stock Option</td>\n",
       "      <td>Sale (Full)</td>\n",
       "      <td>$15,001 - $50,000</td>\n",
       "      <td>--</td>\n",
       "      <td>Thomas H Tuberville</td>\n",
       "      <td>https://efdsearch.senate.gov/search/view/ptr/b...</td>\n",
       "      <td>2022-11-10</td>\n",
       "      <td>9</td>\n",
       "      <td>100</td>\n",
       "      <td>None</td>\n",
       "    </tr>\n",
       "  </tbody>\n",
       "</table>\n",
       "</div>"
      ],
      "text/plain": [
       "  transaction_date  owner ticker  \\\n",
       "0       2022-10-28  Joint   MSFT   \n",
       "1       2022-10-28  Joint   MSFT   \n",
       "2       2022-10-28  Joint   MSFT   \n",
       "3       2022-10-06  Joint    XOM   \n",
       "4       2022-10-06  Joint    CVX   \n",
       "\n",
       "                                   asset_description    asset_type  \\\n",
       "0  Microsoft Corporation - Common Stock Option Ty...  Stock Option   \n",
       "1  Microsoft Corporation - Common Stock Option Ty...  Stock Option   \n",
       "2  Microsoft Corporation - Common Stock Option Ty...  Stock Option   \n",
       "3  Exxon Mobil Corporation Common Stock Option Ty...  Stock Option   \n",
       "4  Chevron Corporation Common Stock Option Type: ...  Stock Option   \n",
       "\n",
       "          type             amount comment              senator  \\\n",
       "0  Sale (Full)   $1,001 - $15,000      --  Thomas H Tuberville   \n",
       "1  Sale (Full)   $1,001 - $15,000      --  Thomas H Tuberville   \n",
       "2  Sale (Full)   $1,001 - $15,000      --  Thomas H Tuberville   \n",
       "3  Sale (Full)  $15,001 - $50,000      --  Thomas H Tuberville   \n",
       "4  Sale (Full)  $15,001 - $50,000      --  Thomas H Tuberville   \n",
       "\n",
       "                                            ptr_link disclosure_date  id  \\\n",
       "0  https://efdsearch.senate.gov/search/view/ptr/b...      2022-11-10   0   \n",
       "1  https://efdsearch.senate.gov/search/view/ptr/b...      2022-11-10   2   \n",
       "2  https://efdsearch.senate.gov/search/view/ptr/b...      2022-11-10   3   \n",
       "3  https://efdsearch.senate.gov/search/view/ptr/b...      2022-11-10   8   \n",
       "4  https://efdsearch.senate.gov/search/view/ptr/b...      2022-11-10   9   \n",
       "\n",
       "   senatorId alpha  \n",
       "0        100  None  \n",
       "1        100  None  \n",
       "2        100  None  \n",
       "3        100  None  \n",
       "4        100  None  "
      ]
     },
     "execution_count": 12,
     "metadata": {},
     "output_type": "execute_result"
    }
   ],
   "source": [
    "\n",
    "def reformatDate(transDate):\n",
    "    listDate  = transDate.split(\"/\")\n",
    "    return f\"{listDate[2]}-{listDate[0]}-{listDate[1]}\"\n",
    "\n",
    "# transactions['transaction_date'] = transactions['transaction_date'].apply(lambda row: reformatDate(row))\n",
    "\n",
    "# transactions['transaction_date'].head()\n",
    "\n",
    "transactions.head()"
   ]
  },
  {
   "cell_type": "code",
   "execution_count": 13,
   "metadata": {},
   "outputs": [],
   "source": [
    "\n",
    "testParams = (123, '2020-02-13', 'DLR')"
   ]
  },
  {
   "cell_type": "code",
   "execution_count": 14,
   "metadata": {},
   "outputs": [
    {
     "data": {
      "text/html": [
       "<div>\n",
       "<style scoped>\n",
       "    .dataframe tbody tr th:only-of-type {\n",
       "        vertical-align: middle;\n",
       "    }\n",
       "\n",
       "    .dataframe tbody tr th {\n",
       "        vertical-align: top;\n",
       "    }\n",
       "\n",
       "    .dataframe thead th {\n",
       "        text-align: right;\n",
       "    }\n",
       "</style>\n",
       "<table border=\"1\" class=\"dataframe\">\n",
       "  <thead>\n",
       "    <tr style=\"text-align: right;\">\n",
       "      <th></th>\n",
       "      <th>QCOM</th>\n",
       "      <th>SPY</th>\n",
       "      <th>date</th>\n",
       "    </tr>\n",
       "  </thead>\n",
       "  <tbody>\n",
       "    <tr>\n",
       "      <th>0</th>\n",
       "      <td>120.2000</td>\n",
       "      <td>394.5900</td>\n",
       "      <td>2022-11-21</td>\n",
       "    </tr>\n",
       "    <tr>\n",
       "      <th>1</th>\n",
       "      <td>123.8500</td>\n",
       "      <td>396.0300</td>\n",
       "      <td>2022-11-18</td>\n",
       "    </tr>\n",
       "    <tr>\n",
       "      <th>2</th>\n",
       "      <td>121.4300</td>\n",
       "      <td>398.5100</td>\n",
       "      <td>2022-11-11</td>\n",
       "    </tr>\n",
       "    <tr>\n",
       "      <th>3</th>\n",
       "      <td>106.6900</td>\n",
       "      <td>376.3500</td>\n",
       "      <td>2022-11-04</td>\n",
       "    </tr>\n",
       "    <tr>\n",
       "      <th>4</th>\n",
       "      <td>119.2100</td>\n",
       "      <td>389.0200</td>\n",
       "      <td>2022-10-28</td>\n",
       "    </tr>\n",
       "    <tr>\n",
       "      <th>...</th>\n",
       "      <td>...</td>\n",
       "      <td>...</td>\n",
       "      <td>...</td>\n",
       "    </tr>\n",
       "    <tr>\n",
       "      <th>82</th>\n",
       "      <td>134.8904</td>\n",
       "      <td>408.3881</td>\n",
       "      <td>2021-04-30</td>\n",
       "    </tr>\n",
       "    <tr>\n",
       "      <th>83</th>\n",
       "      <td>131.6153</td>\n",
       "      <td>407.8400</td>\n",
       "      <td>2021-04-23</td>\n",
       "    </tr>\n",
       "    <tr>\n",
       "      <th>84</th>\n",
       "      <td>134.3170</td>\n",
       "      <td>408.3489</td>\n",
       "      <td>2021-04-16</td>\n",
       "    </tr>\n",
       "    <tr>\n",
       "      <th>85</th>\n",
       "      <td>136.6106</td>\n",
       "      <td>402.7022</td>\n",
       "      <td>2021-04-09</td>\n",
       "    </tr>\n",
       "    <tr>\n",
       "      <th>86</th>\n",
       "      <td>133.9089</td>\n",
       "      <td>392.0545</td>\n",
       "      <td>2021-04-01</td>\n",
       "    </tr>\n",
       "  </tbody>\n",
       "</table>\n",
       "<p>87 rows × 3 columns</p>\n",
       "</div>"
      ],
      "text/plain": [
       "        QCOM       SPY       date\n",
       "0   120.2000  394.5900 2022-11-21\n",
       "1   123.8500  396.0300 2022-11-18\n",
       "2   121.4300  398.5100 2022-11-11\n",
       "3   106.6900  376.3500 2022-11-04\n",
       "4   119.2100  389.0200 2022-10-28\n",
       "..       ...       ...        ...\n",
       "82  134.8904  408.3881 2021-04-30\n",
       "83  131.6153  407.8400 2021-04-23\n",
       "84  134.3170  408.3489 2021-04-16\n",
       "85  136.6106  402.7022 2021-04-09\n",
       "86  133.9089  392.0545 2021-04-01\n",
       "\n",
       "[87 rows x 3 columns]"
      ]
     },
     "execution_count": 14,
     "metadata": {},
     "output_type": "execute_result"
    }
   ],
   "source": [
    "for frame in [historicalPricesAG, historicalPricesHR, historicalPricesSZ]:\n",
    "    frame['date'] = pd.to_datetime(frame['date'])\n",
    "\n",
    "qc = historicalPricesHR[['QCOM', 'SPY', 'date']]\n",
    "temp = qc[qc['date']>= '2021-03-29']\n",
    "temp\n"
   ]
  },
  {
   "cell_type": "code",
   "execution_count": 15,
   "metadata": {},
   "outputs": [
    {
     "data": {
      "text/html": [
       "<div>\n",
       "<style scoped>\n",
       "    .dataframe tbody tr th:only-of-type {\n",
       "        vertical-align: middle;\n",
       "    }\n",
       "\n",
       "    .dataframe tbody tr th {\n",
       "        vertical-align: top;\n",
       "    }\n",
       "\n",
       "    .dataframe thead th {\n",
       "        text-align: right;\n",
       "    }\n",
       "</style>\n",
       "<table border=\"1\" class=\"dataframe\">\n",
       "  <thead>\n",
       "    <tr style=\"text-align: right;\">\n",
       "      <th></th>\n",
       "      <th>QCOM</th>\n",
       "      <th>SPY</th>\n",
       "      <th>date</th>\n",
       "    </tr>\n",
       "  </thead>\n",
       "  <tbody>\n",
       "    <tr>\n",
       "      <th>86</th>\n",
       "      <td>133.9089</td>\n",
       "      <td>392.0545</td>\n",
       "      <td>2021-04-01</td>\n",
       "    </tr>\n",
       "    <tr>\n",
       "      <th>85</th>\n",
       "      <td>136.6106</td>\n",
       "      <td>402.7022</td>\n",
       "      <td>2021-04-09</td>\n",
       "    </tr>\n",
       "    <tr>\n",
       "      <th>84</th>\n",
       "      <td>134.3170</td>\n",
       "      <td>408.3489</td>\n",
       "      <td>2021-04-16</td>\n",
       "    </tr>\n",
       "    <tr>\n",
       "      <th>83</th>\n",
       "      <td>131.6153</td>\n",
       "      <td>407.8400</td>\n",
       "      <td>2021-04-23</td>\n",
       "    </tr>\n",
       "    <tr>\n",
       "      <th>82</th>\n",
       "      <td>134.8904</td>\n",
       "      <td>408.3881</td>\n",
       "      <td>2021-04-30</td>\n",
       "    </tr>\n",
       "    <tr>\n",
       "      <th>81</th>\n",
       "      <td>133.9672</td>\n",
       "      <td>413.1052</td>\n",
       "      <td>2021-05-07</td>\n",
       "    </tr>\n",
       "    <tr>\n",
       "      <th>80</th>\n",
       "      <td>126.4841</td>\n",
       "      <td>407.6835</td>\n",
       "      <td>2021-05-14</td>\n",
       "    </tr>\n",
       "    <tr>\n",
       "      <th>79</th>\n",
       "      <td>127.7572</td>\n",
       "      <td>406.0785</td>\n",
       "      <td>2021-05-21</td>\n",
       "    </tr>\n",
       "    <tr>\n",
       "      <th>78</th>\n",
       "      <td>130.7504</td>\n",
       "      <td>411.0696</td>\n",
       "      <td>2021-05-28</td>\n",
       "    </tr>\n",
       "    <tr>\n",
       "      <th>77</th>\n",
       "      <td>131.2195</td>\n",
       "      <td>413.5749</td>\n",
       "      <td>2021-06-04</td>\n",
       "    </tr>\n",
       "  </tbody>\n",
       "</table>\n",
       "</div>"
      ],
      "text/plain": [
       "        QCOM       SPY       date\n",
       "86  133.9089  392.0545 2021-04-01\n",
       "85  136.6106  402.7022 2021-04-09\n",
       "84  134.3170  408.3489 2021-04-16\n",
       "83  131.6153  407.8400 2021-04-23\n",
       "82  134.8904  408.3881 2021-04-30\n",
       "81  133.9672  413.1052 2021-05-07\n",
       "80  126.4841  407.6835 2021-05-14\n",
       "79  127.7572  406.0785 2021-05-21\n",
       "78  130.7504  411.0696 2021-05-28\n",
       "77  131.2195  413.5749 2021-06-04"
      ]
     },
     "execution_count": 15,
     "metadata": {},
     "output_type": "execute_result"
    }
   ],
   "source": [
    "temp = temp.sort_values(by=\"date\")\n",
    "temp.head(10)"
   ]
  },
  {
   "cell_type": "code",
   "execution_count": 16,
   "metadata": {},
   "outputs": [
    {
     "data": {
      "text/html": [
       "<div>\n",
       "<style scoped>\n",
       "    .dataframe tbody tr th:only-of-type {\n",
       "        vertical-align: middle;\n",
       "    }\n",
       "\n",
       "    .dataframe tbody tr th {\n",
       "        vertical-align: top;\n",
       "    }\n",
       "\n",
       "    .dataframe thead th {\n",
       "        text-align: right;\n",
       "    }\n",
       "</style>\n",
       "<table border=\"1\" class=\"dataframe\">\n",
       "  <thead>\n",
       "    <tr style=\"text-align: right;\">\n",
       "      <th></th>\n",
       "      <th>QCOM</th>\n",
       "      <th>SPY</th>\n",
       "      <th>date</th>\n",
       "      <th>QCOM_growth</th>\n",
       "      <th>QCOM_pchange</th>\n",
       "      <th>SPY_growth</th>\n",
       "      <th>SPY_pchange</th>\n",
       "    </tr>\n",
       "  </thead>\n",
       "  <tbody>\n",
       "    <tr>\n",
       "      <th>86</th>\n",
       "      <td>133.9089</td>\n",
       "      <td>392.0545</td>\n",
       "      <td>2021-04-01</td>\n",
       "      <td>NaN</td>\n",
       "      <td>NaN</td>\n",
       "      <td>NaN</td>\n",
       "      <td>NaN</td>\n",
       "    </tr>\n",
       "    <tr>\n",
       "      <th>85</th>\n",
       "      <td>136.6106</td>\n",
       "      <td>402.7022</td>\n",
       "      <td>2021-04-09</td>\n",
       "      <td>100.000000</td>\n",
       "      <td>0.020176</td>\n",
       "      <td>100.000000</td>\n",
       "      <td>0.027159</td>\n",
       "    </tr>\n",
       "    <tr>\n",
       "      <th>84</th>\n",
       "      <td>134.3170</td>\n",
       "      <td>408.3489</td>\n",
       "      <td>2021-04-16</td>\n",
       "      <td>98.321067</td>\n",
       "      <td>-0.016789</td>\n",
       "      <td>101.402202</td>\n",
       "      <td>0.014022</td>\n",
       "    </tr>\n",
       "    <tr>\n",
       "      <th>83</th>\n",
       "      <td>131.6153</td>\n",
       "      <td>407.8400</td>\n",
       "      <td>2021-04-23</td>\n",
       "      <td>96.343402</td>\n",
       "      <td>-0.020114</td>\n",
       "      <td>101.275831</td>\n",
       "      <td>-0.001246</td>\n",
       "    </tr>\n",
       "    <tr>\n",
       "      <th>82</th>\n",
       "      <td>134.8904</td>\n",
       "      <td>408.3881</td>\n",
       "      <td>2021-04-30</td>\n",
       "      <td>98.740800</td>\n",
       "      <td>0.024884</td>\n",
       "      <td>101.411937</td>\n",
       "      <td>0.001344</td>\n",
       "    </tr>\n",
       "  </tbody>\n",
       "</table>\n",
       "</div>"
      ],
      "text/plain": [
       "        QCOM       SPY       date  QCOM_growth  QCOM_pchange  SPY_growth  \\\n",
       "86  133.9089  392.0545 2021-04-01          NaN           NaN         NaN   \n",
       "85  136.6106  402.7022 2021-04-09   100.000000      0.020176  100.000000   \n",
       "84  134.3170  408.3489 2021-04-16    98.321067     -0.016789  101.402202   \n",
       "83  131.6153  407.8400 2021-04-23    96.343402     -0.020114  101.275831   \n",
       "82  134.8904  408.3881 2021-04-30    98.740800      0.024884  101.411937   \n",
       "\n",
       "    SPY_pchange  \n",
       "86          NaN  \n",
       "85     0.027159  \n",
       "84     0.014022  \n",
       "83    -0.001246  \n",
       "82     0.001344  "
      ]
     },
     "execution_count": 16,
     "metadata": {},
     "output_type": "execute_result"
    }
   ],
   "source": [
    "\n",
    "\n",
    "def createGrowthColumn(ticker, frame):\n",
    "\n",
    "    pricesList = np.array(frame[ticker])\n",
    "    pctChanges = np.diff(pricesList)/pricesList[:-1]\n",
    "\n",
    "    currentInvestment , initialInvestment= 100, 100\n",
    "    investmentValues = []\n",
    "\n",
    "    for c in pctChanges[1:]: \n",
    "        currentInvestment = currentInvestment*(1+c) \n",
    "        investmentValues.append(currentInvestment)\n",
    "\n",
    "    pctChanges = [np.nan ] + list(pctChanges)\n",
    "    investmentValues = [ np.nan, initialInvestment ] + investmentValues\n",
    "\n",
    "    invName= ticker+'_growth'\n",
    "    pctName = ticker+'_pchange'\n",
    "    frame[invName] = investmentValues\n",
    "    frame[pctName] = pctChanges\n",
    "\n",
    "\n",
    "\n",
    "createGrowthColumn('QCOM', temp)\n",
    "createGrowthColumn('SPY', temp)\n",
    "temp.head()\n"
   ]
  },
  {
   "cell_type": "code",
   "execution_count": 17,
   "metadata": {},
   "outputs": [
    {
     "data": {
      "application/vnd.plotly.v1+json": {
       "config": {
        "plotlyServerURL": "https://plot.ly"
       },
       "data": [
        {
         "hovertemplate": "variable=QCOM_growth<br>date=%{x}<br>value=%{y}<extra></extra>",
         "legendgroup": "QCOM_growth",
         "line": {
          "color": "#636efa",
          "dash": "solid"
         },
         "marker": {
          "symbol": "circle"
         },
         "mode": "lines",
         "name": "QCOM_growth",
         "orientation": "v",
         "showlegend": true,
         "type": "scatter",
         "x": [
          "2021-04-01T00:00:00",
          "2021-04-09T00:00:00",
          "2021-04-16T00:00:00",
          "2021-04-23T00:00:00",
          "2021-04-30T00:00:00",
          "2021-05-07T00:00:00",
          "2021-05-14T00:00:00",
          "2021-05-21T00:00:00",
          "2021-05-28T00:00:00",
          "2021-06-04T00:00:00",
          "2021-06-11T00:00:00",
          "2021-06-18T00:00:00",
          "2021-06-25T00:00:00",
          "2021-07-02T00:00:00",
          "2021-07-09T00:00:00",
          "2021-07-16T00:00:00",
          "2021-07-23T00:00:00",
          "2021-07-30T00:00:00",
          "2021-08-06T00:00:00",
          "2021-08-13T00:00:00",
          "2021-08-20T00:00:00",
          "2021-08-27T00:00:00",
          "2021-09-03T00:00:00",
          "2021-09-10T00:00:00",
          "2021-09-17T00:00:00",
          "2021-09-24T00:00:00",
          "2021-10-01T00:00:00",
          "2021-10-08T00:00:00",
          "2021-10-15T00:00:00",
          "2021-10-22T00:00:00",
          "2021-10-29T00:00:00",
          "2021-11-05T00:00:00",
          "2021-11-12T00:00:00",
          "2021-11-19T00:00:00",
          "2021-11-26T00:00:00",
          "2021-12-03T00:00:00",
          "2021-12-10T00:00:00",
          "2021-12-17T00:00:00",
          "2021-12-23T00:00:00",
          "2021-12-31T00:00:00",
          "2022-01-07T00:00:00",
          "2022-01-14T00:00:00",
          "2022-01-21T00:00:00",
          "2022-01-28T00:00:00",
          "2022-02-04T00:00:00",
          "2022-02-11T00:00:00",
          "2022-02-18T00:00:00",
          "2022-02-25T00:00:00",
          "2022-03-04T00:00:00",
          "2022-03-11T00:00:00",
          "2022-03-18T00:00:00",
          "2022-03-25T00:00:00",
          "2022-04-01T00:00:00",
          "2022-04-08T00:00:00",
          "2022-04-14T00:00:00",
          "2022-04-22T00:00:00",
          "2022-04-29T00:00:00",
          "2022-05-06T00:00:00",
          "2022-05-13T00:00:00",
          "2022-05-20T00:00:00",
          "2022-05-27T00:00:00",
          "2022-06-03T00:00:00",
          "2022-06-10T00:00:00",
          "2022-06-17T00:00:00",
          "2022-06-24T00:00:00",
          "2022-07-01T00:00:00",
          "2022-07-08T00:00:00",
          "2022-07-15T00:00:00",
          "2022-07-22T00:00:00",
          "2022-07-29T00:00:00",
          "2022-08-05T00:00:00",
          "2022-08-12T00:00:00",
          "2022-08-19T00:00:00",
          "2022-08-26T00:00:00",
          "2022-09-02T00:00:00",
          "2022-09-09T00:00:00",
          "2022-09-16T00:00:00",
          "2022-09-23T00:00:00",
          "2022-09-30T00:00:00",
          "2022-10-07T00:00:00",
          "2022-10-14T00:00:00",
          "2022-10-21T00:00:00",
          "2022-10-28T00:00:00",
          "2022-11-04T00:00:00",
          "2022-11-11T00:00:00",
          "2022-11-18T00:00:00",
          "2022-11-21T00:00:00"
         ],
         "xaxis": "x",
         "y": [
          null,
          100,
          98.32106732566874,
          96.34340234213157,
          98.74080049425156,
          98.06501106063513,
          92.58732484887705,
          93.51924374828896,
          95.71028895268746,
          96.05367372663618,
          96.25387781036027,
          95.09554895447353,
          98.42032755876924,
          101.94531024678908,
          101.12304608866371,
          99.89320008842654,
          103.58976536227793,
          107.10757437563413,
          104.59078578089843,
          106.27820974360704,
          101.59489819970048,
          103.56831753904896,
          103.8912060996731,
          102.49043632046124,
          95.968102036006,
          96.16918452887258,
          92.45549027674281,
          90.90392692807147,
          93.52575861609567,
          94.54581123280332,
          95.56579064874907,
          117.1083356635576,
          118.48033754335314,
          132.88990751815743,
          126.23822748747169,
          127.28228995407383,
          132.5968116676158,
          127.49142453074649,
          131.77476711177607,
          131.86846408697417,
          130.09459002449293,
          136.06535656823112,
          118.93183984258904,
          120.28751795248682,
          129.41675096954407,
          118.72277846667828,
          120.88608058232668,
          123.25851727464777,
          117.47660869654331,
          110.29451594532196,
          111.48915237909797,
          114.37062716948758,
          106.42109763078413,
          98.96391641644206,
          99.12312807351698,
          96.15476397878348,
          101.13585622199155,
          101.78024252876425,
          97.68963755374767,
          95.2786972606811,
          101.18658434996993,
          102.79129145176147,
          96.95367709387124,
          88.06622619328225,
          91.05786813029154,
          89.915057835922,
          98.99897958137953,
          105.08408571516419,
          111.87521319721904,
          105.58631614237848,
          109.33492715792192,
          110.12103013968176,
          107.4351477850182,
          100.724101936453,
          94.04833885511084,
          96.66160605399587,
          91.46435196097526,
          88.71200331453055,
          82.70222076471377,
          88.50704118128466,
          80.48423767994582,
          84.72256179242318,
          87.26262822943465,
          78.09789284286875,
          88.88768514302703,
          90.65914358036645,
          87.98731577198262
         ],
         "yaxis": "y"
        },
        {
         "hovertemplate": "variable=SPY_growth<br>date=%{x}<br>value=%{y}<extra></extra>",
         "legendgroup": "SPY_growth",
         "line": {
          "color": "#EF553B",
          "dash": "solid"
         },
         "marker": {
          "symbol": "circle"
         },
         "mode": "lines",
         "name": "SPY_growth",
         "orientation": "v",
         "showlegend": true,
         "type": "scatter",
         "x": [
          "2021-04-01T00:00:00",
          "2021-04-09T00:00:00",
          "2021-04-16T00:00:00",
          "2021-04-23T00:00:00",
          "2021-04-30T00:00:00",
          "2021-05-07T00:00:00",
          "2021-05-14T00:00:00",
          "2021-05-21T00:00:00",
          "2021-05-28T00:00:00",
          "2021-06-04T00:00:00",
          "2021-06-11T00:00:00",
          "2021-06-18T00:00:00",
          "2021-06-25T00:00:00",
          "2021-07-02T00:00:00",
          "2021-07-09T00:00:00",
          "2021-07-16T00:00:00",
          "2021-07-23T00:00:00",
          "2021-07-30T00:00:00",
          "2021-08-06T00:00:00",
          "2021-08-13T00:00:00",
          "2021-08-20T00:00:00",
          "2021-08-27T00:00:00",
          "2021-09-03T00:00:00",
          "2021-09-10T00:00:00",
          "2021-09-17T00:00:00",
          "2021-09-24T00:00:00",
          "2021-10-01T00:00:00",
          "2021-10-08T00:00:00",
          "2021-10-15T00:00:00",
          "2021-10-22T00:00:00",
          "2021-10-29T00:00:00",
          "2021-11-05T00:00:00",
          "2021-11-12T00:00:00",
          "2021-11-19T00:00:00",
          "2021-11-26T00:00:00",
          "2021-12-03T00:00:00",
          "2021-12-10T00:00:00",
          "2021-12-17T00:00:00",
          "2021-12-23T00:00:00",
          "2021-12-31T00:00:00",
          "2022-01-07T00:00:00",
          "2022-01-14T00:00:00",
          "2022-01-21T00:00:00",
          "2022-01-28T00:00:00",
          "2022-02-04T00:00:00",
          "2022-02-11T00:00:00",
          "2022-02-18T00:00:00",
          "2022-02-25T00:00:00",
          "2022-03-04T00:00:00",
          "2022-03-11T00:00:00",
          "2022-03-18T00:00:00",
          "2022-03-25T00:00:00",
          "2022-04-01T00:00:00",
          "2022-04-08T00:00:00",
          "2022-04-14T00:00:00",
          "2022-04-22T00:00:00",
          "2022-04-29T00:00:00",
          "2022-05-06T00:00:00",
          "2022-05-13T00:00:00",
          "2022-05-20T00:00:00",
          "2022-05-27T00:00:00",
          "2022-06-03T00:00:00",
          "2022-06-10T00:00:00",
          "2022-06-17T00:00:00",
          "2022-06-24T00:00:00",
          "2022-07-01T00:00:00",
          "2022-07-08T00:00:00",
          "2022-07-15T00:00:00",
          "2022-07-22T00:00:00",
          "2022-07-29T00:00:00",
          "2022-08-05T00:00:00",
          "2022-08-12T00:00:00",
          "2022-08-19T00:00:00",
          "2022-08-26T00:00:00",
          "2022-09-02T00:00:00",
          "2022-09-09T00:00:00",
          "2022-09-16T00:00:00",
          "2022-09-23T00:00:00",
          "2022-09-30T00:00:00",
          "2022-10-07T00:00:00",
          "2022-10-14T00:00:00",
          "2022-10-21T00:00:00",
          "2022-10-28T00:00:00",
          "2022-11-04T00:00:00",
          "2022-11-11T00:00:00",
          "2022-11-18T00:00:00",
          "2022-11-21T00:00:00"
         ],
         "xaxis": "x",
         "y": [
          null,
          100,
          101.40220242154128,
          101.27583112284958,
          101.41193666188066,
          102.58329852680218,
          101.23696865822932,
          100.83841111372125,
          102.07781333203542,
          102.69993558515448,
          103.11550321801072,
          101.16791018276034,
          104.01822984826005,
          105.75181858951848,
          106.19070370114687,
          105.17151383826557,
          107.26842316729332,
          106.91975360452459,
          107.89017293672589,
          108.726498141803,
          108.10228998003981,
          109.78224107044855,
          110.47227951573143,
          108.60946376751848,
          107.97261599266153,
          108.58659326917007,
          106.22117286669896,
          107.10669075063404,
          109.06602943813066,
          110.83949876608564,
          112.3389690942835,
          114.60898400853029,
          114.3007661741107,
          114.69703915200851,
          112.27048176046708,
          110.91287805231748,
          115.14958199880697,
          112.89019528574705,
          115.52422609064455,
          116.5945455475534,
          114.41710524551384,
          114.08080214113546,
          107.51659663145611,
          108.49116294869997,
          110.148169044023,
          108.12538396860003,
          106.59601561650264,
          107.46012810458937,
          106.09033176376977,
          103.11999785449389,
          109.45738563136722,
          111.46914518967108,
          111.52576271001242,
          110.20838724000009,
          107.80020571032382,
          104.90690142740706,
          101.44973133993301,
          101.28722912365508,
          98.9184315357601,
          95.94141775237378,
          102.25248334873754,
          101.0902349180113,
          95.98328491873143,
          90.47663509163836,
          96.46619760209893,
          94.28009084628782,
          96.11752803933021,
          95.2420920471752,
          97.70517767223511,
          101.88451913101036,
          102.25052160132216,
          105.6212009768011,
          104.39461219730102,
          100.23255398157733,
          97.00036404072277,
          100.55157384290413,
          95.7432067666875,
          91.37024828769236,
          88.69581541893726,
          90.08890440628323,
          88.80756052487409,
          92.94461266911368,
          96.602402470113,
          93.45615693184678,
          98.95898259309222,
          98.34314289815138,
          97.98555855915349
         ],
         "yaxis": "y"
        }
       ],
       "layout": {
        "legend": {
         "title": {
          "text": "variable"
         },
         "tracegroupgap": 0
        },
        "template": {
         "data": {
          "bar": [
           {
            "error_x": {
             "color": "#2a3f5f"
            },
            "error_y": {
             "color": "#2a3f5f"
            },
            "marker": {
             "line": {
              "color": "#E5ECF6",
              "width": 0.5
             },
             "pattern": {
              "fillmode": "overlay",
              "size": 10,
              "solidity": 0.2
             }
            },
            "type": "bar"
           }
          ],
          "barpolar": [
           {
            "marker": {
             "line": {
              "color": "#E5ECF6",
              "width": 0.5
             },
             "pattern": {
              "fillmode": "overlay",
              "size": 10,
              "solidity": 0.2
             }
            },
            "type": "barpolar"
           }
          ],
          "carpet": [
           {
            "aaxis": {
             "endlinecolor": "#2a3f5f",
             "gridcolor": "white",
             "linecolor": "white",
             "minorgridcolor": "white",
             "startlinecolor": "#2a3f5f"
            },
            "baxis": {
             "endlinecolor": "#2a3f5f",
             "gridcolor": "white",
             "linecolor": "white",
             "minorgridcolor": "white",
             "startlinecolor": "#2a3f5f"
            },
            "type": "carpet"
           }
          ],
          "choropleth": [
           {
            "colorbar": {
             "outlinewidth": 0,
             "ticks": ""
            },
            "type": "choropleth"
           }
          ],
          "contour": [
           {
            "colorbar": {
             "outlinewidth": 0,
             "ticks": ""
            },
            "colorscale": [
             [
              0,
              "#0d0887"
             ],
             [
              0.1111111111111111,
              "#46039f"
             ],
             [
              0.2222222222222222,
              "#7201a8"
             ],
             [
              0.3333333333333333,
              "#9c179e"
             ],
             [
              0.4444444444444444,
              "#bd3786"
             ],
             [
              0.5555555555555556,
              "#d8576b"
             ],
             [
              0.6666666666666666,
              "#ed7953"
             ],
             [
              0.7777777777777778,
              "#fb9f3a"
             ],
             [
              0.8888888888888888,
              "#fdca26"
             ],
             [
              1,
              "#f0f921"
             ]
            ],
            "type": "contour"
           }
          ],
          "contourcarpet": [
           {
            "colorbar": {
             "outlinewidth": 0,
             "ticks": ""
            },
            "type": "contourcarpet"
           }
          ],
          "heatmap": [
           {
            "colorbar": {
             "outlinewidth": 0,
             "ticks": ""
            },
            "colorscale": [
             [
              0,
              "#0d0887"
             ],
             [
              0.1111111111111111,
              "#46039f"
             ],
             [
              0.2222222222222222,
              "#7201a8"
             ],
             [
              0.3333333333333333,
              "#9c179e"
             ],
             [
              0.4444444444444444,
              "#bd3786"
             ],
             [
              0.5555555555555556,
              "#d8576b"
             ],
             [
              0.6666666666666666,
              "#ed7953"
             ],
             [
              0.7777777777777778,
              "#fb9f3a"
             ],
             [
              0.8888888888888888,
              "#fdca26"
             ],
             [
              1,
              "#f0f921"
             ]
            ],
            "type": "heatmap"
           }
          ],
          "heatmapgl": [
           {
            "colorbar": {
             "outlinewidth": 0,
             "ticks": ""
            },
            "colorscale": [
             [
              0,
              "#0d0887"
             ],
             [
              0.1111111111111111,
              "#46039f"
             ],
             [
              0.2222222222222222,
              "#7201a8"
             ],
             [
              0.3333333333333333,
              "#9c179e"
             ],
             [
              0.4444444444444444,
              "#bd3786"
             ],
             [
              0.5555555555555556,
              "#d8576b"
             ],
             [
              0.6666666666666666,
              "#ed7953"
             ],
             [
              0.7777777777777778,
              "#fb9f3a"
             ],
             [
              0.8888888888888888,
              "#fdca26"
             ],
             [
              1,
              "#f0f921"
             ]
            ],
            "type": "heatmapgl"
           }
          ],
          "histogram": [
           {
            "marker": {
             "pattern": {
              "fillmode": "overlay",
              "size": 10,
              "solidity": 0.2
             }
            },
            "type": "histogram"
           }
          ],
          "histogram2d": [
           {
            "colorbar": {
             "outlinewidth": 0,
             "ticks": ""
            },
            "colorscale": [
             [
              0,
              "#0d0887"
             ],
             [
              0.1111111111111111,
              "#46039f"
             ],
             [
              0.2222222222222222,
              "#7201a8"
             ],
             [
              0.3333333333333333,
              "#9c179e"
             ],
             [
              0.4444444444444444,
              "#bd3786"
             ],
             [
              0.5555555555555556,
              "#d8576b"
             ],
             [
              0.6666666666666666,
              "#ed7953"
             ],
             [
              0.7777777777777778,
              "#fb9f3a"
             ],
             [
              0.8888888888888888,
              "#fdca26"
             ],
             [
              1,
              "#f0f921"
             ]
            ],
            "type": "histogram2d"
           }
          ],
          "histogram2dcontour": [
           {
            "colorbar": {
             "outlinewidth": 0,
             "ticks": ""
            },
            "colorscale": [
             [
              0,
              "#0d0887"
             ],
             [
              0.1111111111111111,
              "#46039f"
             ],
             [
              0.2222222222222222,
              "#7201a8"
             ],
             [
              0.3333333333333333,
              "#9c179e"
             ],
             [
              0.4444444444444444,
              "#bd3786"
             ],
             [
              0.5555555555555556,
              "#d8576b"
             ],
             [
              0.6666666666666666,
              "#ed7953"
             ],
             [
              0.7777777777777778,
              "#fb9f3a"
             ],
             [
              0.8888888888888888,
              "#fdca26"
             ],
             [
              1,
              "#f0f921"
             ]
            ],
            "type": "histogram2dcontour"
           }
          ],
          "mesh3d": [
           {
            "colorbar": {
             "outlinewidth": 0,
             "ticks": ""
            },
            "type": "mesh3d"
           }
          ],
          "parcoords": [
           {
            "line": {
             "colorbar": {
              "outlinewidth": 0,
              "ticks": ""
             }
            },
            "type": "parcoords"
           }
          ],
          "pie": [
           {
            "automargin": true,
            "type": "pie"
           }
          ],
          "scatter": [
           {
            "fillpattern": {
             "fillmode": "overlay",
             "size": 10,
             "solidity": 0.2
            },
            "type": "scatter"
           }
          ],
          "scatter3d": [
           {
            "line": {
             "colorbar": {
              "outlinewidth": 0,
              "ticks": ""
             }
            },
            "marker": {
             "colorbar": {
              "outlinewidth": 0,
              "ticks": ""
             }
            },
            "type": "scatter3d"
           }
          ],
          "scattercarpet": [
           {
            "marker": {
             "colorbar": {
              "outlinewidth": 0,
              "ticks": ""
             }
            },
            "type": "scattercarpet"
           }
          ],
          "scattergeo": [
           {
            "marker": {
             "colorbar": {
              "outlinewidth": 0,
              "ticks": ""
             }
            },
            "type": "scattergeo"
           }
          ],
          "scattergl": [
           {
            "marker": {
             "colorbar": {
              "outlinewidth": 0,
              "ticks": ""
             }
            },
            "type": "scattergl"
           }
          ],
          "scattermapbox": [
           {
            "marker": {
             "colorbar": {
              "outlinewidth": 0,
              "ticks": ""
             }
            },
            "type": "scattermapbox"
           }
          ],
          "scatterpolar": [
           {
            "marker": {
             "colorbar": {
              "outlinewidth": 0,
              "ticks": ""
             }
            },
            "type": "scatterpolar"
           }
          ],
          "scatterpolargl": [
           {
            "marker": {
             "colorbar": {
              "outlinewidth": 0,
              "ticks": ""
             }
            },
            "type": "scatterpolargl"
           }
          ],
          "scatterternary": [
           {
            "marker": {
             "colorbar": {
              "outlinewidth": 0,
              "ticks": ""
             }
            },
            "type": "scatterternary"
           }
          ],
          "surface": [
           {
            "colorbar": {
             "outlinewidth": 0,
             "ticks": ""
            },
            "colorscale": [
             [
              0,
              "#0d0887"
             ],
             [
              0.1111111111111111,
              "#46039f"
             ],
             [
              0.2222222222222222,
              "#7201a8"
             ],
             [
              0.3333333333333333,
              "#9c179e"
             ],
             [
              0.4444444444444444,
              "#bd3786"
             ],
             [
              0.5555555555555556,
              "#d8576b"
             ],
             [
              0.6666666666666666,
              "#ed7953"
             ],
             [
              0.7777777777777778,
              "#fb9f3a"
             ],
             [
              0.8888888888888888,
              "#fdca26"
             ],
             [
              1,
              "#f0f921"
             ]
            ],
            "type": "surface"
           }
          ],
          "table": [
           {
            "cells": {
             "fill": {
              "color": "#EBF0F8"
             },
             "line": {
              "color": "white"
             }
            },
            "header": {
             "fill": {
              "color": "#C8D4E3"
             },
             "line": {
              "color": "white"
             }
            },
            "type": "table"
           }
          ]
         },
         "layout": {
          "annotationdefaults": {
           "arrowcolor": "#2a3f5f",
           "arrowhead": 0,
           "arrowwidth": 1
          },
          "autotypenumbers": "strict",
          "coloraxis": {
           "colorbar": {
            "outlinewidth": 0,
            "ticks": ""
           }
          },
          "colorscale": {
           "diverging": [
            [
             0,
             "#8e0152"
            ],
            [
             0.1,
             "#c51b7d"
            ],
            [
             0.2,
             "#de77ae"
            ],
            [
             0.3,
             "#f1b6da"
            ],
            [
             0.4,
             "#fde0ef"
            ],
            [
             0.5,
             "#f7f7f7"
            ],
            [
             0.6,
             "#e6f5d0"
            ],
            [
             0.7,
             "#b8e186"
            ],
            [
             0.8,
             "#7fbc41"
            ],
            [
             0.9,
             "#4d9221"
            ],
            [
             1,
             "#276419"
            ]
           ],
           "sequential": [
            [
             0,
             "#0d0887"
            ],
            [
             0.1111111111111111,
             "#46039f"
            ],
            [
             0.2222222222222222,
             "#7201a8"
            ],
            [
             0.3333333333333333,
             "#9c179e"
            ],
            [
             0.4444444444444444,
             "#bd3786"
            ],
            [
             0.5555555555555556,
             "#d8576b"
            ],
            [
             0.6666666666666666,
             "#ed7953"
            ],
            [
             0.7777777777777778,
             "#fb9f3a"
            ],
            [
             0.8888888888888888,
             "#fdca26"
            ],
            [
             1,
             "#f0f921"
            ]
           ],
           "sequentialminus": [
            [
             0,
             "#0d0887"
            ],
            [
             0.1111111111111111,
             "#46039f"
            ],
            [
             0.2222222222222222,
             "#7201a8"
            ],
            [
             0.3333333333333333,
             "#9c179e"
            ],
            [
             0.4444444444444444,
             "#bd3786"
            ],
            [
             0.5555555555555556,
             "#d8576b"
            ],
            [
             0.6666666666666666,
             "#ed7953"
            ],
            [
             0.7777777777777778,
             "#fb9f3a"
            ],
            [
             0.8888888888888888,
             "#fdca26"
            ],
            [
             1,
             "#f0f921"
            ]
           ]
          },
          "colorway": [
           "#636efa",
           "#EF553B",
           "#00cc96",
           "#ab63fa",
           "#FFA15A",
           "#19d3f3",
           "#FF6692",
           "#B6E880",
           "#FF97FF",
           "#FECB52"
          ],
          "font": {
           "color": "#2a3f5f"
          },
          "geo": {
           "bgcolor": "white",
           "lakecolor": "white",
           "landcolor": "#E5ECF6",
           "showlakes": true,
           "showland": true,
           "subunitcolor": "white"
          },
          "hoverlabel": {
           "align": "left"
          },
          "hovermode": "closest",
          "mapbox": {
           "style": "light"
          },
          "paper_bgcolor": "white",
          "plot_bgcolor": "#E5ECF6",
          "polar": {
           "angularaxis": {
            "gridcolor": "white",
            "linecolor": "white",
            "ticks": ""
           },
           "bgcolor": "#E5ECF6",
           "radialaxis": {
            "gridcolor": "white",
            "linecolor": "white",
            "ticks": ""
           }
          },
          "scene": {
           "xaxis": {
            "backgroundcolor": "#E5ECF6",
            "gridcolor": "white",
            "gridwidth": 2,
            "linecolor": "white",
            "showbackground": true,
            "ticks": "",
            "zerolinecolor": "white"
           },
           "yaxis": {
            "backgroundcolor": "#E5ECF6",
            "gridcolor": "white",
            "gridwidth": 2,
            "linecolor": "white",
            "showbackground": true,
            "ticks": "",
            "zerolinecolor": "white"
           },
           "zaxis": {
            "backgroundcolor": "#E5ECF6",
            "gridcolor": "white",
            "gridwidth": 2,
            "linecolor": "white",
            "showbackground": true,
            "ticks": "",
            "zerolinecolor": "white"
           }
          },
          "shapedefaults": {
           "line": {
            "color": "#2a3f5f"
           }
          },
          "ternary": {
           "aaxis": {
            "gridcolor": "white",
            "linecolor": "white",
            "ticks": ""
           },
           "baxis": {
            "gridcolor": "white",
            "linecolor": "white",
            "ticks": ""
           },
           "bgcolor": "#E5ECF6",
           "caxis": {
            "gridcolor": "white",
            "linecolor": "white",
            "ticks": ""
           }
          },
          "title": {
           "x": 0.05
          },
          "xaxis": {
           "automargin": true,
           "gridcolor": "white",
           "linecolor": "white",
           "ticks": "",
           "title": {
            "standoff": 15
           },
           "zerolinecolor": "white",
           "zerolinewidth": 2
          },
          "yaxis": {
           "automargin": true,
           "gridcolor": "white",
           "linecolor": "white",
           "ticks": "",
           "title": {
            "standoff": 15
           },
           "zerolinecolor": "white",
           "zerolinewidth": 2
          }
         }
        },
        "title": {
         "text": "Growth in Qualcomm v S&P"
        },
        "xaxis": {
         "anchor": "y",
         "domain": [
          0,
          1
         ],
         "title": {
          "text": "date"
         }
        },
        "yaxis": {
         "anchor": "x",
         "domain": [
          0,
          1
         ],
         "title": {
          "text": "value"
         }
        }
       }
      }
     },
     "metadata": {},
     "output_type": "display_data"
    }
   ],
   "source": [
    "import plotly.express as px \n",
    "\n",
    "fig = px.line(temp, x='date', y=['QCOM_growth', 'SPY_growth' ],\n",
    " title=\"Growth in Qualcomm v S&P\"\n",
    " )\n",
    "\n",
    "\n",
    "fig.show()"
   ]
  },
  {
   "cell_type": "markdown",
   "metadata": {},
   "source": [
    "What a great example! looks like there was a sharp rise in price starting in November, and by mid January Qualcomm had grown much more than the S&P. My hypothesis is that the majority of stock purchases will exhibit a similar pattern"
   ]
  },
  {
   "cell_type": "code",
   "execution_count": 18,
   "metadata": {},
   "outputs": [
    {
     "name": "stdout",
     "output_type": "stream",
     "text": [
      "ABCDEFGHIJKLMNOPQRSTUVWXYZ\n"
     ]
    }
   ],
   "source": [
    "import string \n",
    "print(string.ascii_uppercase)"
   ]
  },
  {
   "cell_type": "code",
   "execution_count": 19,
   "metadata": {},
   "outputs": [],
   "source": [
    "def findSourceFrame(ticker):\n",
    "    leadingLetter =ticker[0]\n",
    "\n",
    "    relevantCols = ['date', ticker, 'SPY']\n",
    "\n",
    "    if leadingLetter in 'ABCDEFG':\n",
    "        rez = historicalPricesAG[relevantCols]\n",
    "    elif leadingLetter in 'HIJKLMNOPQR':\n",
    "        rez = historicalPricesHR[relevantCols]\n",
    "    elif leadingLetter in 'STUVWXYZ':\n",
    "        rez = historicalPricesSZ[relevantCols]\n",
    "    else:\n",
    "        return 'ticker leading letter is non-alpha'\n",
    "    return rez\n"
   ]
  },
  {
   "cell_type": "code",
   "execution_count": 20,
   "metadata": {},
   "outputs": [],
   "source": [
    "\n",
    "\n",
    "def findBetweenPrice(col, frame, currentDate):\n",
    "\n",
    "    # check if its a friday \n",
    "    dateInputFormatted = datetime.datetime.strptime(currentDate, \"%Y-%m-%d\")\n",
    "\n",
    "    isFriday = (dateInputFormatted.weekday()+3)%7==0\n",
    "\n",
    "    # if its a friday, return the friday price (do nothing)\n",
    "\n",
    "    if isFriday: \n",
    "        fridayPrice = frame[frame['date']==currentDate][col].values[0]\n",
    "        return fridayPrice\n",
    "\n",
    "\n",
    "    newFrame = frame.copy()\n",
    "\n",
    "    newFrame['date'] = pd.to_datetime(newFrame['date'])\n",
    "\n",
    "    dateList = newFrame['date'].to_list()\n",
    "\n",
    "    datesBeforeCurrent = list(filter(lambda d: d < dateInputFormatted, dateList))\n",
    "    datesAfterCurrent = list(filter(lambda d: d > dateInputFormatted, dateList))\n",
    "\n",
    "    previousDateAvailable = datesBeforeCurrent[-1]\n",
    "\n",
    " \n",
    "\n",
    "    previousPrice = newFrame[newFrame['date']==previousDateAvailable][col].values[0]\n",
    "\n",
    "\n",
    "    # return datesAfterCurrent\n",
    "    if len(datesAfterCurrent)==0:\n",
    "        return previousPrice\n",
    "        \n",
    "    nextDateAvailable = datesAfterCurrent[0]\n",
    "\n",
    "    nextPrice = newFrame[newFrame['date']==nextDateAvailable][col].values[0]\n",
    "\n",
    "  \n",
    "\n",
    "    daysSinceLastAvailable  = dateInputFormatted  - previousDateAvailable\n",
    "\n",
    "    daysSinceLastAvailable = daysSinceLastAvailable.days\n",
    "\n",
    "    daysBetweenAvailableDates = nextDateAvailable - previousDateAvailable\n",
    "\n",
    "    daysBetweenAvailableDates =  daysBetweenAvailableDates.days\n",
    "\n",
    "\n",
    "\n",
    "    # priceDiff =  previousPrice - nextPrice\n",
    "    priceDiff =  nextPrice - previousPrice\n",
    "\n",
    "    dailyPriceDiff = priceDiff/daysBetweenAvailableDates\n",
    "\n",
    "    newStartingPrice = previousPrice+(dailyPriceDiff*daysSinceLastAvailable) \n",
    "\n",
    "    return newStartingPrice\n"
   ]
  },
  {
   "cell_type": "code",
   "execution_count": null,
   "metadata": {},
   "outputs": [],
   "source": []
  },
  {
   "cell_type": "code",
   "execution_count": null,
   "metadata": {},
   "outputs": [],
   "source": []
  },
  {
   "cell_type": "code",
   "execution_count": null,
   "metadata": {},
   "outputs": [],
   "source": []
  },
  {
   "cell_type": "code",
   "execution_count": null,
   "metadata": {},
   "outputs": [],
   "source": []
  },
  {
   "cell_type": "code",
   "execution_count": null,
   "metadata": {},
   "outputs": [],
   "source": []
  },
  {
   "cell_type": "code",
   "execution_count": 21,
   "metadata": {},
   "outputs": [
    {
     "data": {
      "text/html": [
       "<div>\n",
       "<style scoped>\n",
       "    .dataframe tbody tr th:only-of-type {\n",
       "        vertical-align: middle;\n",
       "    }\n",
       "\n",
       "    .dataframe tbody tr th {\n",
       "        vertical-align: top;\n",
       "    }\n",
       "\n",
       "    .dataframe thead th {\n",
       "        text-align: right;\n",
       "    }\n",
       "</style>\n",
       "<table border=\"1\" class=\"dataframe\">\n",
       "  <thead>\n",
       "    <tr style=\"text-align: right;\">\n",
       "      <th></th>\n",
       "      <th>date</th>\n",
       "      <th>A</th>\n",
       "      <th>SPY</th>\n",
       "    </tr>\n",
       "  </thead>\n",
       "  <tbody>\n",
       "    <tr>\n",
       "      <th>87</th>\n",
       "      <td>2021-03-26</td>\n",
       "      <td>124.3421</td>\n",
       "      <td>387.5234</td>\n",
       "    </tr>\n",
       "    <tr>\n",
       "      <th>86</th>\n",
       "      <td>2021-04-01</td>\n",
       "      <td>126.3709</td>\n",
       "      <td>392.0545</td>\n",
       "    </tr>\n",
       "    <tr>\n",
       "      <th>85</th>\n",
       "      <td>2021-04-09</td>\n",
       "      <td>130.7421</td>\n",
       "      <td>402.7022</td>\n",
       "    </tr>\n",
       "    <tr>\n",
       "      <th>84</th>\n",
       "      <td>2021-04-16</td>\n",
       "      <td>133.3885</td>\n",
       "      <td>408.3489</td>\n",
       "    </tr>\n",
       "    <tr>\n",
       "      <th>83</th>\n",
       "      <td>2021-04-23</td>\n",
       "      <td>135.4699</td>\n",
       "      <td>407.8400</td>\n",
       "    </tr>\n",
       "  </tbody>\n",
       "</table>\n",
       "</div>"
      ],
      "text/plain": [
       "         date         A       SPY\n",
       "87 2021-03-26  124.3421  387.5234\n",
       "86 2021-04-01  126.3709  392.0545\n",
       "85 2021-04-09  130.7421  402.7022\n",
       "84 2021-04-16  133.3885  408.3489\n",
       "83 2021-04-23  135.4699  407.8400"
      ]
     },
     "execution_count": 21,
     "metadata": {},
     "output_type": "execute_result"
    }
   ],
   "source": [
    "def getStarterFrame(ticker, dateInput):\n",
    "    rez = findSourceFrame(ticker)\n",
    "\n",
    "    rez = rez.sort_values(by=\"date\")\n",
    "\n",
    "    prevWeekDate = datetime.datetime.strptime(dateInput, \"%Y-%m-%d\") + datetime.timedelta(weeks=-1)\n",
    "\n",
    "    # start dataframe at purchase date \n",
    "    rez = rez[rez['date']>=prevWeekDate]\n",
    "\n",
    "    # end dataframe at one year from purchase date \n",
    "    if len(rez)>52:\n",
    "        rez = rez.head(53)\n",
    "\n",
    "    return rez\n",
    "\n",
    "# starterFrame = getStarterFrame(\"REGN\", '2021-03-29')\n",
    "starterFrame = getStarterFrame(\"A\", '2021-03-29')\n",
    "starterFrame.head()\n",
    "\n"
   ]
  },
  {
   "cell_type": "code",
   "execution_count": 22,
   "metadata": {},
   "outputs": [
    {
     "data": {
      "text/plain": [
       "Timestamp('2021-04-01 00:00:00')"
      ]
     },
     "execution_count": 22,
     "metadata": {},
     "output_type": "execute_result"
    }
   ],
   "source": [
    "\n",
    "# starterFrame.date[0]\n",
    "starterDates = starterFrame.date.to_list()\n",
    "testDate = starterDates[0]\n",
    "\n",
    "# testDate < datetime.datetime.strptime('2020-01-01', \"%Y-%m-%d\")\n",
    "\n",
    "\n",
    "# list(starterDates.filter(lambda d: d< datetime.datetime.strptime('2020-01-01', \"%Y-%m-%d\")))\n",
    "# list(filter(lambda d: d< datetime.datetime.strptime('2021-04-01', \"%Y-%m-%d\"), starterDates))[-1]\n",
    "list(filter(lambda d: d > datetime.datetime.strptime('2021-03-29', \"%Y-%m-%d\"), starterDates))[0]\n"
   ]
  },
  {
   "cell_type": "code",
   "execution_count": 23,
   "metadata": {},
   "outputs": [
    {
     "data": {
      "text/plain": [
       "Timestamp('2021-03-26 00:00:00')"
      ]
     },
     "execution_count": 23,
     "metadata": {},
     "output_type": "execute_result"
    }
   ],
   "source": [
    "# starterDates\n",
    "testDate\n",
    "\n"
   ]
  },
  {
   "cell_type": "code",
   "execution_count": null,
   "metadata": {},
   "outputs": [],
   "source": []
  },
  {
   "cell_type": "code",
   "execution_count": null,
   "metadata": {},
   "outputs": [],
   "source": []
  },
  {
   "cell_type": "code",
   "execution_count": 24,
   "metadata": {},
   "outputs": [
    {
     "data": {
      "text/html": [
       "<div>\n",
       "<style scoped>\n",
       "    .dataframe tbody tr th:only-of-type {\n",
       "        vertical-align: middle;\n",
       "    }\n",
       "\n",
       "    .dataframe tbody tr th {\n",
       "        vertical-align: top;\n",
       "    }\n",
       "\n",
       "    .dataframe thead th {\n",
       "        text-align: right;\n",
       "    }\n",
       "</style>\n",
       "<table border=\"1\" class=\"dataframe\">\n",
       "  <thead>\n",
       "    <tr style=\"text-align: right;\">\n",
       "      <th></th>\n",
       "      <th>date</th>\n",
       "      <th>DLR</th>\n",
       "      <th>SPY</th>\n",
       "    </tr>\n",
       "  </thead>\n",
       "  <tbody>\n",
       "    <tr>\n",
       "      <th>146</th>\n",
       "      <td>2020-02-07</td>\n",
       "      <td>112.3515</td>\n",
       "      <td>317.9901</td>\n",
       "    </tr>\n",
       "    <tr>\n",
       "      <th>145</th>\n",
       "      <td>2020-02-14</td>\n",
       "      <td>119.8428</td>\n",
       "      <td>323.1592</td>\n",
       "    </tr>\n",
       "    <tr>\n",
       "      <th>144</th>\n",
       "      <td>2020-02-21</td>\n",
       "      <td>125.8851</td>\n",
       "      <td>319.2154</td>\n",
       "    </tr>\n",
       "    <tr>\n",
       "      <th>143</th>\n",
       "      <td>2020-02-28</td>\n",
       "      <td>109.4625</td>\n",
       "      <td>283.5875</td>\n",
       "    </tr>\n",
       "    <tr>\n",
       "      <th>142</th>\n",
       "      <td>2020-03-06</td>\n",
       "      <td>116.8718</td>\n",
       "      <td>284.7361</td>\n",
       "    </tr>\n",
       "  </tbody>\n",
       "</table>\n",
       "</div>"
      ],
      "text/plain": [
       "           date       DLR       SPY\n",
       "146  2020-02-07  112.3515  317.9901\n",
       "145  2020-02-14  119.8428  323.1592\n",
       "144  2020-02-21  125.8851  319.2154\n",
       "143  2020-02-28  109.4625  283.5875\n",
       "142  2020-03-06  116.8718  284.7361"
      ]
     },
     "execution_count": 24,
     "metadata": {},
     "output_type": "execute_result"
    }
   ],
   "source": [
    "\n",
    "def generateHistoricalPricesTable(ticker, dateInput):\n",
    "    \n",
    "    rez = findSourceFrame(ticker)\n",
    "\n",
    "    rez = rez.sort_values(by=\"date\")\n",
    "\n",
    "    prevWeekDate = datetime.datetime.strptime(dateInput, \"%Y-%m-%d\") + datetime.timedelta(weeks=-1)\n",
    "\n",
    "    # start dataframe at purchase date \n",
    "    rez = rez[rez['date']>=prevWeekDate]\n",
    "    \n",
    "    # end dataframe at one year from purchase date \n",
    "    if len(rez)>52:\n",
    "        rez = rez.head(53)\n",
    "    \n",
    "    # rez = rez.append(newRow, ignore_index=True)\n",
    "\n",
    "    rez['date'] = rez['date'].apply(lambda row: extractDateFromTimestamp(row))\n",
    "\n",
    "    rez = rez.sort_values(by=\"date\")\n",
    "\n",
    "    return rez\n",
    "\n",
    "\n",
    "graphDims = {'height':500,  'width':800}\n",
    "\n",
    "def graphGrowthRates(frame, tickerFirst, tickerSecond='SPY'):\n",
    "    yColumnList = [tickerFirst+\"_growth\", tickerSecond+\"_growth\"]\n",
    "    fig = px.line(frame, x='date', y=yColumnList,\n",
    "    title=f\"Growth in {tickerFirst} v {tickerSecond}\",\n",
    "        height= graphDims['height'] , width= graphDims['width']\n",
    "    )\n",
    "    fig.show()\n",
    "\n",
    "\n",
    "# putting it all together \n",
    "def graphAlpha(ticker, date):\n",
    "\n",
    "    histPrices =  generateHistoricalPricesTable(ticker, date)\n",
    "    createGrowthColumn(ticker, histPrices)\n",
    "    createGrowthColumn('SPY', histPrices)\n",
    "\n",
    "    graphGrowthRates(histPrices, ticker)\n",
    "\n",
    "\n",
    "# generateHistoricalPricesTable(\"REGN\", '2021-03-29').head()\n",
    "# graphAlpha(\"REGN\", '2021-03-29')\n",
    "generateHistoricalPricesTable(\"DLR\", \"2020-02-12\").head()\n"
   ]
  },
  {
   "cell_type": "code",
   "execution_count": null,
   "metadata": {},
   "outputs": [],
   "source": []
  },
  {
   "cell_type": "code",
   "execution_count": 25,
   "metadata": {},
   "outputs": [
    {
     "data": {
      "text/plain": [
       "3"
      ]
     },
     "execution_count": 25,
     "metadata": {},
     "output_type": "execute_result"
    }
   ],
   "source": [
    "\n",
    "# generateHistoricalPricesTable('DLR', '2020-02-13')\n",
    "# graphAlpha('DLR', '2020-02-13')\n",
    "# graphAlpha('DLR', '2020-02-13')\n",
    "\n",
    "dateInputFormatted = datetime.datetime.strptime('2020-02-13', \"%Y-%m-%d\")\n",
    "\n",
    "dateInputFormatted.weekday()"
   ]
  },
  {
   "cell_type": "code",
   "execution_count": 26,
   "metadata": {},
   "outputs": [
    {
     "data": {
      "text/html": [
       "<div>\n",
       "<style scoped>\n",
       "    .dataframe tbody tr th:only-of-type {\n",
       "        vertical-align: middle;\n",
       "    }\n",
       "\n",
       "    .dataframe tbody tr th {\n",
       "        vertical-align: top;\n",
       "    }\n",
       "\n",
       "    .dataframe thead th {\n",
       "        text-align: right;\n",
       "    }\n",
       "</style>\n",
       "<table border=\"1\" class=\"dataframe\">\n",
       "  <thead>\n",
       "    <tr style=\"text-align: right;\">\n",
       "      <th></th>\n",
       "      <th>transaction_date</th>\n",
       "      <th>owner</th>\n",
       "      <th>ticker</th>\n",
       "      <th>asset_description</th>\n",
       "      <th>asset_type</th>\n",
       "      <th>type</th>\n",
       "    </tr>\n",
       "  </thead>\n",
       "  <tbody>\n",
       "    <tr>\n",
       "      <th>5234</th>\n",
       "      <td>2021-03-29</td>\n",
       "      <td>Joint</td>\n",
       "      <td>ATHM</td>\n",
       "      <td>Autohome Inc.</td>\n",
       "      <td>Stock</td>\n",
       "      <td>Purchase</td>\n",
       "    </tr>\n",
       "    <tr>\n",
       "      <th>5235</th>\n",
       "      <td>2021-03-29</td>\n",
       "      <td>Joint</td>\n",
       "      <td>AME</td>\n",
       "      <td>AMETEK, Inc.</td>\n",
       "      <td>Stock</td>\n",
       "      <td>Purchase</td>\n",
       "    </tr>\n",
       "    <tr>\n",
       "      <th>5236</th>\n",
       "      <td>2021-03-29</td>\n",
       "      <td>Joint</td>\n",
       "      <td>GOOGL</td>\n",
       "      <td>Alphabet Inc.</td>\n",
       "      <td>Stock</td>\n",
       "      <td>Purchase</td>\n",
       "    </tr>\n",
       "    <tr>\n",
       "      <th>5237</th>\n",
       "      <td>2021-03-16</td>\n",
       "      <td>Joint</td>\n",
       "      <td>AA</td>\n",
       "      <td>Alcoa Corporation</td>\n",
       "      <td>Stock</td>\n",
       "      <td>Purchase</td>\n",
       "    </tr>\n",
       "    <tr>\n",
       "      <th>5238</th>\n",
       "      <td>2021-03-16</td>\n",
       "      <td>Joint</td>\n",
       "      <td>AA</td>\n",
       "      <td>Alcoa Corporation</td>\n",
       "      <td>Stock</td>\n",
       "      <td>Purchase</td>\n",
       "    </tr>\n",
       "    <tr>\n",
       "      <th>5239</th>\n",
       "      <td>2021-03-12</td>\n",
       "      <td>Joint</td>\n",
       "      <td>CLF</td>\n",
       "      <td>Cleveland-Cliffs Inc.</td>\n",
       "      <td>Stock</td>\n",
       "      <td>Purchase</td>\n",
       "    </tr>\n",
       "    <tr>\n",
       "      <th>5240</th>\n",
       "      <td>2021-04-19</td>\n",
       "      <td>Joint</td>\n",
       "      <td>CLF</td>\n",
       "      <td>Cleveland-Cliffs Inc.</td>\n",
       "      <td>Stock</td>\n",
       "      <td>Purchase</td>\n",
       "    </tr>\n",
       "    <tr>\n",
       "      <th>5241</th>\n",
       "      <td>2021-04-16</td>\n",
       "      <td>Joint</td>\n",
       "      <td>ECOM</td>\n",
       "      <td>ChannelAdvisor Corporation</td>\n",
       "      <td>Stock</td>\n",
       "      <td>Purchase</td>\n",
       "    </tr>\n",
       "    <tr>\n",
       "      <th>5243</th>\n",
       "      <td>2021-04-07</td>\n",
       "      <td>Joint</td>\n",
       "      <td>OXY</td>\n",
       "      <td>Occidental Petroleum Corporation</td>\n",
       "      <td>Stock</td>\n",
       "      <td>Purchase</td>\n",
       "    </tr>\n",
       "    <tr>\n",
       "      <th>5244</th>\n",
       "      <td>2021-05-06</td>\n",
       "      <td>Joint</td>\n",
       "      <td>X</td>\n",
       "      <td>United States Steel Corporation</td>\n",
       "      <td>Stock</td>\n",
       "      <td>Purchase</td>\n",
       "    </tr>\n",
       "  </tbody>\n",
       "</table>\n",
       "</div>"
      ],
      "text/plain": [
       "     transaction_date  owner ticker                 asset_description  \\\n",
       "5234       2021-03-29  Joint   ATHM                     Autohome Inc.   \n",
       "5235       2021-03-29  Joint    AME                      AMETEK, Inc.   \n",
       "5236       2021-03-29  Joint  GOOGL                     Alphabet Inc.   \n",
       "5237       2021-03-16  Joint     AA                 Alcoa Corporation   \n",
       "5238       2021-03-16  Joint     AA                 Alcoa Corporation   \n",
       "5239       2021-03-12  Joint    CLF             Cleveland-Cliffs Inc.   \n",
       "5240       2021-04-19  Joint    CLF             Cleveland-Cliffs Inc.   \n",
       "5241       2021-04-16  Joint   ECOM        ChannelAdvisor Corporation   \n",
       "5243       2021-04-07  Joint    OXY  Occidental Petroleum Corporation   \n",
       "5244       2021-05-06  Joint      X   United States Steel Corporation   \n",
       "\n",
       "     asset_type      type  \n",
       "5234      Stock  Purchase  \n",
       "5235      Stock  Purchase  \n",
       "5236      Stock  Purchase  \n",
       "5237      Stock  Purchase  \n",
       "5238      Stock  Purchase  \n",
       "5239      Stock  Purchase  \n",
       "5240      Stock  Purchase  \n",
       "5241      Stock  Purchase  \n",
       "5243      Stock  Purchase  \n",
       "5244      Stock  Purchase  "
      ]
     },
     "execution_count": 26,
     "metadata": {},
     "output_type": "execute_result"
    }
   ],
   "source": [
    "\n",
    "def purchasesBySenator(senId):\n",
    "    isSenator = transactions['senatorId']==senId\n",
    "    isPurchase = transactions['type']=='Purchase'\n",
    "    isStock = transactions['asset_type']=='Stock'\n",
    "    rez = transactions[isSenator & isPurchase & isStock]\n",
    "\n",
    "    return rez.loc[:, :'type']\n",
    "\n",
    "\n",
    "tbPurchases = purchasesBySenator(100)\n",
    "tbPurchases.tail(10)\n"
   ]
  },
  {
   "cell_type": "code",
   "execution_count": 27,
   "metadata": {},
   "outputs": [
    {
     "data": {
      "application/vnd.plotly.v1+json": {
       "config": {
        "plotlyServerURL": "https://plot.ly"
       },
       "data": [
        {
         "hovertemplate": "variable=OXY_growth<br>date=%{x}<br>value=%{y}<extra></extra>",
         "legendgroup": "OXY_growth",
         "line": {
          "color": "#636efa",
          "dash": "solid"
         },
         "marker": {
          "symbol": "circle"
         },
         "mode": "lines",
         "name": "OXY_growth",
         "orientation": "v",
         "showlegend": true,
         "type": "scatter",
         "x": [
          "2021-06-18",
          "2021-06-25",
          "2021-07-02",
          "2021-07-09",
          "2021-07-16",
          "2021-07-23",
          "2021-07-30",
          "2021-08-06",
          "2021-08-13",
          "2021-08-20",
          "2021-08-27",
          "2021-09-03",
          "2021-09-10",
          "2021-09-17",
          "2021-09-24",
          "2021-10-01",
          "2021-10-08",
          "2021-10-15",
          "2021-10-22",
          "2021-10-29",
          "2021-11-05",
          "2021-11-12",
          "2021-11-19",
          "2021-11-26",
          "2021-12-03",
          "2021-12-10",
          "2021-12-17",
          "2021-12-23",
          "2021-12-31",
          "2022-01-07",
          "2022-01-14",
          "2022-01-21",
          "2022-01-28",
          "2022-02-04",
          "2022-02-11",
          "2022-02-18",
          "2022-02-25",
          "2022-03-04",
          "2022-03-11",
          "2022-03-18",
          "2022-03-25",
          "2022-04-01",
          "2022-04-08",
          "2022-04-14",
          "2022-04-22",
          "2022-04-29",
          "2022-05-06",
          "2022-05-13",
          "2022-05-20",
          "2022-05-27",
          "2022-06-03",
          "2022-06-10",
          "2022-06-17"
         ],
         "xaxis": "x",
         "y": [
          null,
          100,
          98.99699526953839,
          91.88692177297456,
          78.82093397548483,
          80.76574729666055,
          79.30713730577878,
          80.18836171814284,
          78.36502273436594,
          66.69706074940794,
          77.97000165229579,
          78.7600438164361,
          75.93400608289633,
          81.89206224871339,
          85.41818382096461,
          94.68970497341031,
          102.22845742890543,
          96.24010917391334,
          103.14027991114324,
          101.9243126143603,
          101.59018169133894,
          97.51666064904629,
          88.51899222197066,
          90.28205300809627,
          88.64046655936946,
          93.56553188624865,
          85.26396954880089,
          87.72711417363794,
          88.15273332558183,
          100.98495186923611,
          107.97905868097841,
          102.6271502793604,
          114.24309554553301,
          124.06476999430878,
          130.69384183245722,
          120.29416984376628,
          117.80073312975419,
          170.74120764462177,
          176.61297725339486,
          171.40151399249734,
          178.9292511428379,
          177.10040450648373,
          188.34641910788264,
          180.84928002741583,
          172.55965093721886,
          167.896505088459,
          197.91627144159744,
          195.29524077621184,
          192.79599042892374,
          215.95842334265552,
          214.2213709159226,
          195.04341866115084,
          170.03316830774313
         ],
         "yaxis": "y"
        },
        {
         "hovertemplate": "variable=SPY_growth<br>date=%{x}<br>value=%{y}<extra></extra>",
         "legendgroup": "SPY_growth",
         "line": {
          "color": "#EF553B",
          "dash": "solid"
         },
         "marker": {
          "symbol": "circle"
         },
         "mode": "lines",
         "name": "SPY_growth",
         "orientation": "v",
         "showlegend": true,
         "type": "scatter",
         "x": [
          "2021-06-18",
          "2021-06-25",
          "2021-07-02",
          "2021-07-09",
          "2021-07-16",
          "2021-07-23",
          "2021-07-30",
          "2021-08-06",
          "2021-08-13",
          "2021-08-20",
          "2021-08-27",
          "2021-09-03",
          "2021-09-10",
          "2021-09-17",
          "2021-09-24",
          "2021-10-01",
          "2021-10-08",
          "2021-10-15",
          "2021-10-22",
          "2021-10-29",
          "2021-11-05",
          "2021-11-12",
          "2021-11-19",
          "2021-11-26",
          "2021-12-03",
          "2021-12-10",
          "2021-12-17",
          "2021-12-23",
          "2021-12-31",
          "2022-01-07",
          "2022-01-14",
          "2022-01-21",
          "2022-01-28",
          "2022-02-04",
          "2022-02-11",
          "2022-02-18",
          "2022-02-25",
          "2022-03-04",
          "2022-03-11",
          "2022-03-18",
          "2022-03-25",
          "2022-04-01",
          "2022-04-08",
          "2022-04-14",
          "2022-04-22",
          "2022-04-29",
          "2022-05-06",
          "2022-05-13",
          "2022-05-20",
          "2022-05-27",
          "2022-06-03",
          "2022-06-10",
          "2022-06-17"
         ],
         "xaxis": "x",
         "y": [
          null,
          100,
          101.66662011436587,
          102.08855107038063,
          101.1087325670586,
          103.12463817522621,
          102.78943773653641,
          103.72236971741796,
          104.526387634563,
          103.92629266786939,
          105.54134715674064,
          106.20472937953899,
          104.41387430449072,
          103.8016279936412,
          104.3918872947312,
          102.11784321041854,
          102.96915349057507,
          104.85280281853889,
          106.55776293037898,
          107.99930863865076,
          110.18163275391233,
          109.88532139111639,
          110.26628632243265,
          107.93346697424603,
          106.62830757081257,
          110.70134741456872,
          108.529240932507,
          111.06151898486375,
          112.09049194322904,
          109.9971662778952,
          109.6738545806389,
          103.3632246850378,
          104.3001434527053,
          105.89313931289274,
          103.94849453440172,
          102.47820576451166,
          103.30893754041986,
          101.99205650637627,
          99.1364667567632,
          105.2290409008514,
          107.16308607854629,
          107.21751646101282,
          105.95103127670033,
          103.63587792984058,
          100.85434214795171,
          97.53072272805068,
          97.37449798118179,
          95.09720717230095,
          92.23519559247582,
          98.30246438331203,
          97.18511367236289,
          92.27544542793132,
          86.98151778166579
         ],
         "yaxis": "y"
        }
       ],
       "layout": {
        "height": 500,
        "legend": {
         "title": {
          "text": "variable"
         },
         "tracegroupgap": 0
        },
        "template": {
         "data": {
          "bar": [
           {
            "error_x": {
             "color": "#2a3f5f"
            },
            "error_y": {
             "color": "#2a3f5f"
            },
            "marker": {
             "line": {
              "color": "#E5ECF6",
              "width": 0.5
             },
             "pattern": {
              "fillmode": "overlay",
              "size": 10,
              "solidity": 0.2
             }
            },
            "type": "bar"
           }
          ],
          "barpolar": [
           {
            "marker": {
             "line": {
              "color": "#E5ECF6",
              "width": 0.5
             },
             "pattern": {
              "fillmode": "overlay",
              "size": 10,
              "solidity": 0.2
             }
            },
            "type": "barpolar"
           }
          ],
          "carpet": [
           {
            "aaxis": {
             "endlinecolor": "#2a3f5f",
             "gridcolor": "white",
             "linecolor": "white",
             "minorgridcolor": "white",
             "startlinecolor": "#2a3f5f"
            },
            "baxis": {
             "endlinecolor": "#2a3f5f",
             "gridcolor": "white",
             "linecolor": "white",
             "minorgridcolor": "white",
             "startlinecolor": "#2a3f5f"
            },
            "type": "carpet"
           }
          ],
          "choropleth": [
           {
            "colorbar": {
             "outlinewidth": 0,
             "ticks": ""
            },
            "type": "choropleth"
           }
          ],
          "contour": [
           {
            "colorbar": {
             "outlinewidth": 0,
             "ticks": ""
            },
            "colorscale": [
             [
              0,
              "#0d0887"
             ],
             [
              0.1111111111111111,
              "#46039f"
             ],
             [
              0.2222222222222222,
              "#7201a8"
             ],
             [
              0.3333333333333333,
              "#9c179e"
             ],
             [
              0.4444444444444444,
              "#bd3786"
             ],
             [
              0.5555555555555556,
              "#d8576b"
             ],
             [
              0.6666666666666666,
              "#ed7953"
             ],
             [
              0.7777777777777778,
              "#fb9f3a"
             ],
             [
              0.8888888888888888,
              "#fdca26"
             ],
             [
              1,
              "#f0f921"
             ]
            ],
            "type": "contour"
           }
          ],
          "contourcarpet": [
           {
            "colorbar": {
             "outlinewidth": 0,
             "ticks": ""
            },
            "type": "contourcarpet"
           }
          ],
          "heatmap": [
           {
            "colorbar": {
             "outlinewidth": 0,
             "ticks": ""
            },
            "colorscale": [
             [
              0,
              "#0d0887"
             ],
             [
              0.1111111111111111,
              "#46039f"
             ],
             [
              0.2222222222222222,
              "#7201a8"
             ],
             [
              0.3333333333333333,
              "#9c179e"
             ],
             [
              0.4444444444444444,
              "#bd3786"
             ],
             [
              0.5555555555555556,
              "#d8576b"
             ],
             [
              0.6666666666666666,
              "#ed7953"
             ],
             [
              0.7777777777777778,
              "#fb9f3a"
             ],
             [
              0.8888888888888888,
              "#fdca26"
             ],
             [
              1,
              "#f0f921"
             ]
            ],
            "type": "heatmap"
           }
          ],
          "heatmapgl": [
           {
            "colorbar": {
             "outlinewidth": 0,
             "ticks": ""
            },
            "colorscale": [
             [
              0,
              "#0d0887"
             ],
             [
              0.1111111111111111,
              "#46039f"
             ],
             [
              0.2222222222222222,
              "#7201a8"
             ],
             [
              0.3333333333333333,
              "#9c179e"
             ],
             [
              0.4444444444444444,
              "#bd3786"
             ],
             [
              0.5555555555555556,
              "#d8576b"
             ],
             [
              0.6666666666666666,
              "#ed7953"
             ],
             [
              0.7777777777777778,
              "#fb9f3a"
             ],
             [
              0.8888888888888888,
              "#fdca26"
             ],
             [
              1,
              "#f0f921"
             ]
            ],
            "type": "heatmapgl"
           }
          ],
          "histogram": [
           {
            "marker": {
             "pattern": {
              "fillmode": "overlay",
              "size": 10,
              "solidity": 0.2
             }
            },
            "type": "histogram"
           }
          ],
          "histogram2d": [
           {
            "colorbar": {
             "outlinewidth": 0,
             "ticks": ""
            },
            "colorscale": [
             [
              0,
              "#0d0887"
             ],
             [
              0.1111111111111111,
              "#46039f"
             ],
             [
              0.2222222222222222,
              "#7201a8"
             ],
             [
              0.3333333333333333,
              "#9c179e"
             ],
             [
              0.4444444444444444,
              "#bd3786"
             ],
             [
              0.5555555555555556,
              "#d8576b"
             ],
             [
              0.6666666666666666,
              "#ed7953"
             ],
             [
              0.7777777777777778,
              "#fb9f3a"
             ],
             [
              0.8888888888888888,
              "#fdca26"
             ],
             [
              1,
              "#f0f921"
             ]
            ],
            "type": "histogram2d"
           }
          ],
          "histogram2dcontour": [
           {
            "colorbar": {
             "outlinewidth": 0,
             "ticks": ""
            },
            "colorscale": [
             [
              0,
              "#0d0887"
             ],
             [
              0.1111111111111111,
              "#46039f"
             ],
             [
              0.2222222222222222,
              "#7201a8"
             ],
             [
              0.3333333333333333,
              "#9c179e"
             ],
             [
              0.4444444444444444,
              "#bd3786"
             ],
             [
              0.5555555555555556,
              "#d8576b"
             ],
             [
              0.6666666666666666,
              "#ed7953"
             ],
             [
              0.7777777777777778,
              "#fb9f3a"
             ],
             [
              0.8888888888888888,
              "#fdca26"
             ],
             [
              1,
              "#f0f921"
             ]
            ],
            "type": "histogram2dcontour"
           }
          ],
          "mesh3d": [
           {
            "colorbar": {
             "outlinewidth": 0,
             "ticks": ""
            },
            "type": "mesh3d"
           }
          ],
          "parcoords": [
           {
            "line": {
             "colorbar": {
              "outlinewidth": 0,
              "ticks": ""
             }
            },
            "type": "parcoords"
           }
          ],
          "pie": [
           {
            "automargin": true,
            "type": "pie"
           }
          ],
          "scatter": [
           {
            "fillpattern": {
             "fillmode": "overlay",
             "size": 10,
             "solidity": 0.2
            },
            "type": "scatter"
           }
          ],
          "scatter3d": [
           {
            "line": {
             "colorbar": {
              "outlinewidth": 0,
              "ticks": ""
             }
            },
            "marker": {
             "colorbar": {
              "outlinewidth": 0,
              "ticks": ""
             }
            },
            "type": "scatter3d"
           }
          ],
          "scattercarpet": [
           {
            "marker": {
             "colorbar": {
              "outlinewidth": 0,
              "ticks": ""
             }
            },
            "type": "scattercarpet"
           }
          ],
          "scattergeo": [
           {
            "marker": {
             "colorbar": {
              "outlinewidth": 0,
              "ticks": ""
             }
            },
            "type": "scattergeo"
           }
          ],
          "scattergl": [
           {
            "marker": {
             "colorbar": {
              "outlinewidth": 0,
              "ticks": ""
             }
            },
            "type": "scattergl"
           }
          ],
          "scattermapbox": [
           {
            "marker": {
             "colorbar": {
              "outlinewidth": 0,
              "ticks": ""
             }
            },
            "type": "scattermapbox"
           }
          ],
          "scatterpolar": [
           {
            "marker": {
             "colorbar": {
              "outlinewidth": 0,
              "ticks": ""
             }
            },
            "type": "scatterpolar"
           }
          ],
          "scatterpolargl": [
           {
            "marker": {
             "colorbar": {
              "outlinewidth": 0,
              "ticks": ""
             }
            },
            "type": "scatterpolargl"
           }
          ],
          "scatterternary": [
           {
            "marker": {
             "colorbar": {
              "outlinewidth": 0,
              "ticks": ""
             }
            },
            "type": "scatterternary"
           }
          ],
          "surface": [
           {
            "colorbar": {
             "outlinewidth": 0,
             "ticks": ""
            },
            "colorscale": [
             [
              0,
              "#0d0887"
             ],
             [
              0.1111111111111111,
              "#46039f"
             ],
             [
              0.2222222222222222,
              "#7201a8"
             ],
             [
              0.3333333333333333,
              "#9c179e"
             ],
             [
              0.4444444444444444,
              "#bd3786"
             ],
             [
              0.5555555555555556,
              "#d8576b"
             ],
             [
              0.6666666666666666,
              "#ed7953"
             ],
             [
              0.7777777777777778,
              "#fb9f3a"
             ],
             [
              0.8888888888888888,
              "#fdca26"
             ],
             [
              1,
              "#f0f921"
             ]
            ],
            "type": "surface"
           }
          ],
          "table": [
           {
            "cells": {
             "fill": {
              "color": "#EBF0F8"
             },
             "line": {
              "color": "white"
             }
            },
            "header": {
             "fill": {
              "color": "#C8D4E3"
             },
             "line": {
              "color": "white"
             }
            },
            "type": "table"
           }
          ]
         },
         "layout": {
          "annotationdefaults": {
           "arrowcolor": "#2a3f5f",
           "arrowhead": 0,
           "arrowwidth": 1
          },
          "autotypenumbers": "strict",
          "coloraxis": {
           "colorbar": {
            "outlinewidth": 0,
            "ticks": ""
           }
          },
          "colorscale": {
           "diverging": [
            [
             0,
             "#8e0152"
            ],
            [
             0.1,
             "#c51b7d"
            ],
            [
             0.2,
             "#de77ae"
            ],
            [
             0.3,
             "#f1b6da"
            ],
            [
             0.4,
             "#fde0ef"
            ],
            [
             0.5,
             "#f7f7f7"
            ],
            [
             0.6,
             "#e6f5d0"
            ],
            [
             0.7,
             "#b8e186"
            ],
            [
             0.8,
             "#7fbc41"
            ],
            [
             0.9,
             "#4d9221"
            ],
            [
             1,
             "#276419"
            ]
           ],
           "sequential": [
            [
             0,
             "#0d0887"
            ],
            [
             0.1111111111111111,
             "#46039f"
            ],
            [
             0.2222222222222222,
             "#7201a8"
            ],
            [
             0.3333333333333333,
             "#9c179e"
            ],
            [
             0.4444444444444444,
             "#bd3786"
            ],
            [
             0.5555555555555556,
             "#d8576b"
            ],
            [
             0.6666666666666666,
             "#ed7953"
            ],
            [
             0.7777777777777778,
             "#fb9f3a"
            ],
            [
             0.8888888888888888,
             "#fdca26"
            ],
            [
             1,
             "#f0f921"
            ]
           ],
           "sequentialminus": [
            [
             0,
             "#0d0887"
            ],
            [
             0.1111111111111111,
             "#46039f"
            ],
            [
             0.2222222222222222,
             "#7201a8"
            ],
            [
             0.3333333333333333,
             "#9c179e"
            ],
            [
             0.4444444444444444,
             "#bd3786"
            ],
            [
             0.5555555555555556,
             "#d8576b"
            ],
            [
             0.6666666666666666,
             "#ed7953"
            ],
            [
             0.7777777777777778,
             "#fb9f3a"
            ],
            [
             0.8888888888888888,
             "#fdca26"
            ],
            [
             1,
             "#f0f921"
            ]
           ]
          },
          "colorway": [
           "#636efa",
           "#EF553B",
           "#00cc96",
           "#ab63fa",
           "#FFA15A",
           "#19d3f3",
           "#FF6692",
           "#B6E880",
           "#FF97FF",
           "#FECB52"
          ],
          "font": {
           "color": "#2a3f5f"
          },
          "geo": {
           "bgcolor": "white",
           "lakecolor": "white",
           "landcolor": "#E5ECF6",
           "showlakes": true,
           "showland": true,
           "subunitcolor": "white"
          },
          "hoverlabel": {
           "align": "left"
          },
          "hovermode": "closest",
          "mapbox": {
           "style": "light"
          },
          "paper_bgcolor": "white",
          "plot_bgcolor": "#E5ECF6",
          "polar": {
           "angularaxis": {
            "gridcolor": "white",
            "linecolor": "white",
            "ticks": ""
           },
           "bgcolor": "#E5ECF6",
           "radialaxis": {
            "gridcolor": "white",
            "linecolor": "white",
            "ticks": ""
           }
          },
          "scene": {
           "xaxis": {
            "backgroundcolor": "#E5ECF6",
            "gridcolor": "white",
            "gridwidth": 2,
            "linecolor": "white",
            "showbackground": true,
            "ticks": "",
            "zerolinecolor": "white"
           },
           "yaxis": {
            "backgroundcolor": "#E5ECF6",
            "gridcolor": "white",
            "gridwidth": 2,
            "linecolor": "white",
            "showbackground": true,
            "ticks": "",
            "zerolinecolor": "white"
           },
           "zaxis": {
            "backgroundcolor": "#E5ECF6",
            "gridcolor": "white",
            "gridwidth": 2,
            "linecolor": "white",
            "showbackground": true,
            "ticks": "",
            "zerolinecolor": "white"
           }
          },
          "shapedefaults": {
           "line": {
            "color": "#2a3f5f"
           }
          },
          "ternary": {
           "aaxis": {
            "gridcolor": "white",
            "linecolor": "white",
            "ticks": ""
           },
           "baxis": {
            "gridcolor": "white",
            "linecolor": "white",
            "ticks": ""
           },
           "bgcolor": "#E5ECF6",
           "caxis": {
            "gridcolor": "white",
            "linecolor": "white",
            "ticks": ""
           }
          },
          "title": {
           "x": 0.05
          },
          "xaxis": {
           "automargin": true,
           "gridcolor": "white",
           "linecolor": "white",
           "ticks": "",
           "title": {
            "standoff": 15
           },
           "zerolinecolor": "white",
           "zerolinewidth": 2
          },
          "yaxis": {
           "automargin": true,
           "gridcolor": "white",
           "linecolor": "white",
           "ticks": "",
           "title": {
            "standoff": 15
           },
           "zerolinecolor": "white",
           "zerolinewidth": 2
          }
         }
        },
        "title": {
         "text": "Growth in OXY v SPY"
        },
        "width": 800,
        "xaxis": {
         "anchor": "y",
         "domain": [
          0,
          1
         ],
         "title": {
          "text": "date"
         }
        },
        "yaxis": {
         "anchor": "x",
         "domain": [
          0,
          1
         ],
         "title": {
          "text": "value"
         }
        }
       }
      }
     },
     "metadata": {},
     "output_type": "display_data"
    }
   ],
   "source": [
    "graphAlpha(\"OXY\", '2021-06-25')"
   ]
  },
  {
   "cell_type": "code",
   "execution_count": 28,
   "metadata": {},
   "outputs": [
    {
     "data": {
      "application/vnd.plotly.v1+json": {
       "config": {
        "plotlyServerURL": "https://plot.ly"
       },
       "data": [
        {
         "hovertemplate": "variable=AA_growth<br>date=%{x}<br>value=%{y}<extra></extra>",
         "legendgroup": "AA_growth",
         "line": {
          "color": "#636efa",
          "dash": "solid"
         },
         "marker": {
          "symbol": "circle"
         },
         "mode": "lines",
         "name": "AA_growth",
         "orientation": "v",
         "showlegend": true,
         "type": "scatter",
         "x": [
          "2021-03-12",
          "2021-03-19",
          "2021-03-26",
          "2021-04-01",
          "2021-04-09",
          "2021-04-16",
          "2021-04-23",
          "2021-04-30",
          "2021-05-07",
          "2021-05-14",
          "2021-05-21",
          "2021-05-28",
          "2021-06-04",
          "2021-06-11",
          "2021-06-18",
          "2021-06-25",
          "2021-07-02",
          "2021-07-09",
          "2021-07-16",
          "2021-07-23",
          "2021-07-30",
          "2021-08-06",
          "2021-08-13",
          "2021-08-20",
          "2021-08-27",
          "2021-09-03",
          "2021-09-10",
          "2021-09-17",
          "2021-09-24",
          "2021-10-01",
          "2021-10-08",
          "2021-10-15",
          "2021-10-22",
          "2021-10-29",
          "2021-11-05",
          "2021-11-12",
          "2021-11-19",
          "2021-11-26",
          "2021-12-03",
          "2021-12-10",
          "2021-12-17",
          "2021-12-23",
          "2021-12-31",
          "2022-01-07",
          "2022-01-14",
          "2022-01-21",
          "2022-01-28",
          "2022-02-04",
          "2022-02-11",
          "2022-02-18",
          "2022-02-25",
          "2022-03-04",
          "2022-03-11"
         ],
         "xaxis": "x",
         "y": [
          null,
          100,
          105.26638307806036,
          103.50033070927411,
          100.70648579247019,
          114.41860012709611,
          111.46426394490773,
          117.6621448117551,
          132.30575693516803,
          127.48874940018418,
          116.05658370835333,
          127.3924546409535,
          124.72700273645714,
          120.03838821378088,
          103.01853268834219,
          114.96459465418188,
          121.77266655426878,
          120.23097773224224,
          105.81237760514612,
          119.01091989054174,
          128.9338192382015,
          130.7319698600646,
          145.31138547732374,
          121.09827901487544,
          141.71476000881893,
          151.60556110340178,
          158.95930330579588,
          156.80774767530838,
          155.71608284591545,
          159.8266045884291,
          147.81634611643562,
          179.83289454913304,
          158.15652275409496,
          147.8769761500253,
          154.02362950186108,
          167.08956385282792,
          153.18712957319053,
          154.3134864538888,
          141.82661755742024,
          157.0489709105529,
          172.91458622433765,
          191.03323952429747,
          191.74134644066044,
          200.72010323316954,
          197.5660445873916,
          180.89570337323465,
          184.7254464575201,
          206.67384284176538,
          236.60303215012905,
          251.66424578832016,
          250.53788890762192,
          291.7633937256021,
          254.66559456339894
         ],
         "yaxis": "y"
        },
        {
         "hovertemplate": "variable=SPY_growth<br>date=%{x}<br>value=%{y}<extra></extra>",
         "legendgroup": "SPY_growth",
         "line": {
          "color": "#EF553B",
          "dash": "solid"
         },
         "marker": {
          "symbol": "circle"
         },
         "mode": "lines",
         "name": "SPY_growth",
         "orientation": "v",
         "showlegend": true,
         "type": "scatter",
         "x": [
          "2021-03-12",
          "2021-03-19",
          "2021-03-26",
          "2021-04-01",
          "2021-04-09",
          "2021-04-16",
          "2021-04-23",
          "2021-04-30",
          "2021-05-07",
          "2021-05-14",
          "2021-05-21",
          "2021-05-28",
          "2021-06-04",
          "2021-06-11",
          "2021-06-18",
          "2021-06-25",
          "2021-07-02",
          "2021-07-09",
          "2021-07-16",
          "2021-07-23",
          "2021-07-30",
          "2021-08-06",
          "2021-08-13",
          "2021-08-20",
          "2021-08-27",
          "2021-09-03",
          "2021-09-10",
          "2021-09-17",
          "2021-09-24",
          "2021-10-01",
          "2021-10-08",
          "2021-10-15",
          "2021-10-22",
          "2021-10-29",
          "2021-11-05",
          "2021-11-12",
          "2021-11-19",
          "2021-11-26",
          "2021-12-03",
          "2021-12-10",
          "2021-12-17",
          "2021-12-23",
          "2021-12-31",
          "2022-01-07",
          "2022-01-14",
          "2022-01-21",
          "2022-01-28",
          "2022-02-04",
          "2022-02-11",
          "2022-02-18",
          "2022-02-25",
          "2022-03-04",
          "2022-03-11"
         ],
         "xaxis": "x",
         "y": [
          null,
          100,
          101.6688958139081,
          102.85765482516368,
          105.65113749474632,
          107.13258030308356,
          106.9990675885489,
          107.14286463872858,
          108.38042177319784,
          106.95800895261908,
          106.53692837327517,
          107.84637091505921,
          108.50365015208745,
          108.94270208326004,
          106.88504788774956,
          109.89644303658645,
          111.72799926120683,
          112.19168637393732,
          111.11490069057207,
          113.33030924892334,
          112.96193588976023,
          113.98719495269982,
          114.87078204501907,
          114.2112990217812,
          115.98618645815343,
          116.71521992474585,
          114.7471338973276,
          114.07429697908125,
          114.72297095567178,
          112.22387739392825,
          113.15943711102507,
          115.22950072173987,
          117.10319123984475,
          118.68739869798199,
          121.08569527618411,
          120.76005962815815,
          121.17872653689147,
          118.6150410507651,
          117.18071729043419,
          121.65684320218514,
          119.26977543943218,
          122.0526589467684,
          123.18346362782019,
          120.88297318044636,
          120.52766512524046,
          113.59250733677142,
          114.6221477365802,
          116.37279352464628,
          114.23569808338794,
          112.6199030229124,
          113.53284769581018,
          112.08564228037285,
          108.94745071783072
         ],
         "yaxis": "y"
        }
       ],
       "layout": {
        "height": 500,
        "legend": {
         "title": {
          "text": "variable"
         },
         "tracegroupgap": 0
        },
        "template": {
         "data": {
          "bar": [
           {
            "error_x": {
             "color": "#2a3f5f"
            },
            "error_y": {
             "color": "#2a3f5f"
            },
            "marker": {
             "line": {
              "color": "#E5ECF6",
              "width": 0.5
             },
             "pattern": {
              "fillmode": "overlay",
              "size": 10,
              "solidity": 0.2
             }
            },
            "type": "bar"
           }
          ],
          "barpolar": [
           {
            "marker": {
             "line": {
              "color": "#E5ECF6",
              "width": 0.5
             },
             "pattern": {
              "fillmode": "overlay",
              "size": 10,
              "solidity": 0.2
             }
            },
            "type": "barpolar"
           }
          ],
          "carpet": [
           {
            "aaxis": {
             "endlinecolor": "#2a3f5f",
             "gridcolor": "white",
             "linecolor": "white",
             "minorgridcolor": "white",
             "startlinecolor": "#2a3f5f"
            },
            "baxis": {
             "endlinecolor": "#2a3f5f",
             "gridcolor": "white",
             "linecolor": "white",
             "minorgridcolor": "white",
             "startlinecolor": "#2a3f5f"
            },
            "type": "carpet"
           }
          ],
          "choropleth": [
           {
            "colorbar": {
             "outlinewidth": 0,
             "ticks": ""
            },
            "type": "choropleth"
           }
          ],
          "contour": [
           {
            "colorbar": {
             "outlinewidth": 0,
             "ticks": ""
            },
            "colorscale": [
             [
              0,
              "#0d0887"
             ],
             [
              0.1111111111111111,
              "#46039f"
             ],
             [
              0.2222222222222222,
              "#7201a8"
             ],
             [
              0.3333333333333333,
              "#9c179e"
             ],
             [
              0.4444444444444444,
              "#bd3786"
             ],
             [
              0.5555555555555556,
              "#d8576b"
             ],
             [
              0.6666666666666666,
              "#ed7953"
             ],
             [
              0.7777777777777778,
              "#fb9f3a"
             ],
             [
              0.8888888888888888,
              "#fdca26"
             ],
             [
              1,
              "#f0f921"
             ]
            ],
            "type": "contour"
           }
          ],
          "contourcarpet": [
           {
            "colorbar": {
             "outlinewidth": 0,
             "ticks": ""
            },
            "type": "contourcarpet"
           }
          ],
          "heatmap": [
           {
            "colorbar": {
             "outlinewidth": 0,
             "ticks": ""
            },
            "colorscale": [
             [
              0,
              "#0d0887"
             ],
             [
              0.1111111111111111,
              "#46039f"
             ],
             [
              0.2222222222222222,
              "#7201a8"
             ],
             [
              0.3333333333333333,
              "#9c179e"
             ],
             [
              0.4444444444444444,
              "#bd3786"
             ],
             [
              0.5555555555555556,
              "#d8576b"
             ],
             [
              0.6666666666666666,
              "#ed7953"
             ],
             [
              0.7777777777777778,
              "#fb9f3a"
             ],
             [
              0.8888888888888888,
              "#fdca26"
             ],
             [
              1,
              "#f0f921"
             ]
            ],
            "type": "heatmap"
           }
          ],
          "heatmapgl": [
           {
            "colorbar": {
             "outlinewidth": 0,
             "ticks": ""
            },
            "colorscale": [
             [
              0,
              "#0d0887"
             ],
             [
              0.1111111111111111,
              "#46039f"
             ],
             [
              0.2222222222222222,
              "#7201a8"
             ],
             [
              0.3333333333333333,
              "#9c179e"
             ],
             [
              0.4444444444444444,
              "#bd3786"
             ],
             [
              0.5555555555555556,
              "#d8576b"
             ],
             [
              0.6666666666666666,
              "#ed7953"
             ],
             [
              0.7777777777777778,
              "#fb9f3a"
             ],
             [
              0.8888888888888888,
              "#fdca26"
             ],
             [
              1,
              "#f0f921"
             ]
            ],
            "type": "heatmapgl"
           }
          ],
          "histogram": [
           {
            "marker": {
             "pattern": {
              "fillmode": "overlay",
              "size": 10,
              "solidity": 0.2
             }
            },
            "type": "histogram"
           }
          ],
          "histogram2d": [
           {
            "colorbar": {
             "outlinewidth": 0,
             "ticks": ""
            },
            "colorscale": [
             [
              0,
              "#0d0887"
             ],
             [
              0.1111111111111111,
              "#46039f"
             ],
             [
              0.2222222222222222,
              "#7201a8"
             ],
             [
              0.3333333333333333,
              "#9c179e"
             ],
             [
              0.4444444444444444,
              "#bd3786"
             ],
             [
              0.5555555555555556,
              "#d8576b"
             ],
             [
              0.6666666666666666,
              "#ed7953"
             ],
             [
              0.7777777777777778,
              "#fb9f3a"
             ],
             [
              0.8888888888888888,
              "#fdca26"
             ],
             [
              1,
              "#f0f921"
             ]
            ],
            "type": "histogram2d"
           }
          ],
          "histogram2dcontour": [
           {
            "colorbar": {
             "outlinewidth": 0,
             "ticks": ""
            },
            "colorscale": [
             [
              0,
              "#0d0887"
             ],
             [
              0.1111111111111111,
              "#46039f"
             ],
             [
              0.2222222222222222,
              "#7201a8"
             ],
             [
              0.3333333333333333,
              "#9c179e"
             ],
             [
              0.4444444444444444,
              "#bd3786"
             ],
             [
              0.5555555555555556,
              "#d8576b"
             ],
             [
              0.6666666666666666,
              "#ed7953"
             ],
             [
              0.7777777777777778,
              "#fb9f3a"
             ],
             [
              0.8888888888888888,
              "#fdca26"
             ],
             [
              1,
              "#f0f921"
             ]
            ],
            "type": "histogram2dcontour"
           }
          ],
          "mesh3d": [
           {
            "colorbar": {
             "outlinewidth": 0,
             "ticks": ""
            },
            "type": "mesh3d"
           }
          ],
          "parcoords": [
           {
            "line": {
             "colorbar": {
              "outlinewidth": 0,
              "ticks": ""
             }
            },
            "type": "parcoords"
           }
          ],
          "pie": [
           {
            "automargin": true,
            "type": "pie"
           }
          ],
          "scatter": [
           {
            "fillpattern": {
             "fillmode": "overlay",
             "size": 10,
             "solidity": 0.2
            },
            "type": "scatter"
           }
          ],
          "scatter3d": [
           {
            "line": {
             "colorbar": {
              "outlinewidth": 0,
              "ticks": ""
             }
            },
            "marker": {
             "colorbar": {
              "outlinewidth": 0,
              "ticks": ""
             }
            },
            "type": "scatter3d"
           }
          ],
          "scattercarpet": [
           {
            "marker": {
             "colorbar": {
              "outlinewidth": 0,
              "ticks": ""
             }
            },
            "type": "scattercarpet"
           }
          ],
          "scattergeo": [
           {
            "marker": {
             "colorbar": {
              "outlinewidth": 0,
              "ticks": ""
             }
            },
            "type": "scattergeo"
           }
          ],
          "scattergl": [
           {
            "marker": {
             "colorbar": {
              "outlinewidth": 0,
              "ticks": ""
             }
            },
            "type": "scattergl"
           }
          ],
          "scattermapbox": [
           {
            "marker": {
             "colorbar": {
              "outlinewidth": 0,
              "ticks": ""
             }
            },
            "type": "scattermapbox"
           }
          ],
          "scatterpolar": [
           {
            "marker": {
             "colorbar": {
              "outlinewidth": 0,
              "ticks": ""
             }
            },
            "type": "scatterpolar"
           }
          ],
          "scatterpolargl": [
           {
            "marker": {
             "colorbar": {
              "outlinewidth": 0,
              "ticks": ""
             }
            },
            "type": "scatterpolargl"
           }
          ],
          "scatterternary": [
           {
            "marker": {
             "colorbar": {
              "outlinewidth": 0,
              "ticks": ""
             }
            },
            "type": "scatterternary"
           }
          ],
          "surface": [
           {
            "colorbar": {
             "outlinewidth": 0,
             "ticks": ""
            },
            "colorscale": [
             [
              0,
              "#0d0887"
             ],
             [
              0.1111111111111111,
              "#46039f"
             ],
             [
              0.2222222222222222,
              "#7201a8"
             ],
             [
              0.3333333333333333,
              "#9c179e"
             ],
             [
              0.4444444444444444,
              "#bd3786"
             ],
             [
              0.5555555555555556,
              "#d8576b"
             ],
             [
              0.6666666666666666,
              "#ed7953"
             ],
             [
              0.7777777777777778,
              "#fb9f3a"
             ],
             [
              0.8888888888888888,
              "#fdca26"
             ],
             [
              1,
              "#f0f921"
             ]
            ],
            "type": "surface"
           }
          ],
          "table": [
           {
            "cells": {
             "fill": {
              "color": "#EBF0F8"
             },
             "line": {
              "color": "white"
             }
            },
            "header": {
             "fill": {
              "color": "#C8D4E3"
             },
             "line": {
              "color": "white"
             }
            },
            "type": "table"
           }
          ]
         },
         "layout": {
          "annotationdefaults": {
           "arrowcolor": "#2a3f5f",
           "arrowhead": 0,
           "arrowwidth": 1
          },
          "autotypenumbers": "strict",
          "coloraxis": {
           "colorbar": {
            "outlinewidth": 0,
            "ticks": ""
           }
          },
          "colorscale": {
           "diverging": [
            [
             0,
             "#8e0152"
            ],
            [
             0.1,
             "#c51b7d"
            ],
            [
             0.2,
             "#de77ae"
            ],
            [
             0.3,
             "#f1b6da"
            ],
            [
             0.4,
             "#fde0ef"
            ],
            [
             0.5,
             "#f7f7f7"
            ],
            [
             0.6,
             "#e6f5d0"
            ],
            [
             0.7,
             "#b8e186"
            ],
            [
             0.8,
             "#7fbc41"
            ],
            [
             0.9,
             "#4d9221"
            ],
            [
             1,
             "#276419"
            ]
           ],
           "sequential": [
            [
             0,
             "#0d0887"
            ],
            [
             0.1111111111111111,
             "#46039f"
            ],
            [
             0.2222222222222222,
             "#7201a8"
            ],
            [
             0.3333333333333333,
             "#9c179e"
            ],
            [
             0.4444444444444444,
             "#bd3786"
            ],
            [
             0.5555555555555556,
             "#d8576b"
            ],
            [
             0.6666666666666666,
             "#ed7953"
            ],
            [
             0.7777777777777778,
             "#fb9f3a"
            ],
            [
             0.8888888888888888,
             "#fdca26"
            ],
            [
             1,
             "#f0f921"
            ]
           ],
           "sequentialminus": [
            [
             0,
             "#0d0887"
            ],
            [
             0.1111111111111111,
             "#46039f"
            ],
            [
             0.2222222222222222,
             "#7201a8"
            ],
            [
             0.3333333333333333,
             "#9c179e"
            ],
            [
             0.4444444444444444,
             "#bd3786"
            ],
            [
             0.5555555555555556,
             "#d8576b"
            ],
            [
             0.6666666666666666,
             "#ed7953"
            ],
            [
             0.7777777777777778,
             "#fb9f3a"
            ],
            [
             0.8888888888888888,
             "#fdca26"
            ],
            [
             1,
             "#f0f921"
            ]
           ]
          },
          "colorway": [
           "#636efa",
           "#EF553B",
           "#00cc96",
           "#ab63fa",
           "#FFA15A",
           "#19d3f3",
           "#FF6692",
           "#B6E880",
           "#FF97FF",
           "#FECB52"
          ],
          "font": {
           "color": "#2a3f5f"
          },
          "geo": {
           "bgcolor": "white",
           "lakecolor": "white",
           "landcolor": "#E5ECF6",
           "showlakes": true,
           "showland": true,
           "subunitcolor": "white"
          },
          "hoverlabel": {
           "align": "left"
          },
          "hovermode": "closest",
          "mapbox": {
           "style": "light"
          },
          "paper_bgcolor": "white",
          "plot_bgcolor": "#E5ECF6",
          "polar": {
           "angularaxis": {
            "gridcolor": "white",
            "linecolor": "white",
            "ticks": ""
           },
           "bgcolor": "#E5ECF6",
           "radialaxis": {
            "gridcolor": "white",
            "linecolor": "white",
            "ticks": ""
           }
          },
          "scene": {
           "xaxis": {
            "backgroundcolor": "#E5ECF6",
            "gridcolor": "white",
            "gridwidth": 2,
            "linecolor": "white",
            "showbackground": true,
            "ticks": "",
            "zerolinecolor": "white"
           },
           "yaxis": {
            "backgroundcolor": "#E5ECF6",
            "gridcolor": "white",
            "gridwidth": 2,
            "linecolor": "white",
            "showbackground": true,
            "ticks": "",
            "zerolinecolor": "white"
           },
           "zaxis": {
            "backgroundcolor": "#E5ECF6",
            "gridcolor": "white",
            "gridwidth": 2,
            "linecolor": "white",
            "showbackground": true,
            "ticks": "",
            "zerolinecolor": "white"
           }
          },
          "shapedefaults": {
           "line": {
            "color": "#2a3f5f"
           }
          },
          "ternary": {
           "aaxis": {
            "gridcolor": "white",
            "linecolor": "white",
            "ticks": ""
           },
           "baxis": {
            "gridcolor": "white",
            "linecolor": "white",
            "ticks": ""
           },
           "bgcolor": "#E5ECF6",
           "caxis": {
            "gridcolor": "white",
            "linecolor": "white",
            "ticks": ""
           }
          },
          "title": {
           "x": 0.05
          },
          "xaxis": {
           "automargin": true,
           "gridcolor": "white",
           "linecolor": "white",
           "ticks": "",
           "title": {
            "standoff": 15
           },
           "zerolinecolor": "white",
           "zerolinewidth": 2
          },
          "yaxis": {
           "automargin": true,
           "gridcolor": "white",
           "linecolor": "white",
           "ticks": "",
           "title": {
            "standoff": 15
           },
           "zerolinecolor": "white",
           "zerolinewidth": 2
          }
         }
        },
        "title": {
         "text": "Growth in AA v SPY"
        },
        "width": 800,
        "xaxis": {
         "anchor": "y",
         "domain": [
          0,
          1
         ],
         "title": {
          "text": "date"
         }
        },
        "yaxis": {
         "anchor": "x",
         "domain": [
          0,
          1
         ],
         "title": {
          "text": "value"
         }
        }
       }
      }
     },
     "metadata": {},
     "output_type": "display_data"
    }
   ],
   "source": [
    "alDate = reformatDate(\"03/16/2021\")\n",
    "graphAlpha('AA', alDate)\n"
   ]
  },
  {
   "cell_type": "markdown",
   "metadata": {},
   "source": [
    "Alright so Tommy Tuberville had a great year in 2021, but the S&P was pretty lousy that year. Let's try a different Senator and another time period"
   ]
  },
  {
   "cell_type": "code",
   "execution_count": 29,
   "metadata": {},
   "outputs": [
    {
     "name": "stdout",
     "output_type": "stream",
     "text": [
      "    row              senator  senatorId       party\n",
      "34   35  David A Perdue , Jr        136  Republican\n"
     ]
    },
    {
     "data": {
      "text/html": [
       "<div>\n",
       "<style scoped>\n",
       "    .dataframe tbody tr th:only-of-type {\n",
       "        vertical-align: middle;\n",
       "    }\n",
       "\n",
       "    .dataframe tbody tr th {\n",
       "        vertical-align: top;\n",
       "    }\n",
       "\n",
       "    .dataframe thead th {\n",
       "        text-align: right;\n",
       "    }\n",
       "</style>\n",
       "<table border=\"1\" class=\"dataframe\">\n",
       "  <thead>\n",
       "    <tr style=\"text-align: right;\">\n",
       "      <th></th>\n",
       "      <th>transaction_date</th>\n",
       "      <th>owner</th>\n",
       "      <th>ticker</th>\n",
       "      <th>asset_description</th>\n",
       "      <th>asset_type</th>\n",
       "      <th>type</th>\n",
       "    </tr>\n",
       "  </thead>\n",
       "  <tbody>\n",
       "    <tr>\n",
       "      <th>8259</th>\n",
       "      <td>2015-04-17</td>\n",
       "      <td>Joint</td>\n",
       "      <td>KN</td>\n",
       "      <td>Knowles Corporation (NYSE)</td>\n",
       "      <td>Stock</td>\n",
       "      <td>Purchase</td>\n",
       "    </tr>\n",
       "    <tr>\n",
       "      <th>8260</th>\n",
       "      <td>2015-04-23</td>\n",
       "      <td>Joint</td>\n",
       "      <td>KN</td>\n",
       "      <td>Knowles Corporation (NYSE)</td>\n",
       "      <td>Stock</td>\n",
       "      <td>Purchase</td>\n",
       "    </tr>\n",
       "    <tr>\n",
       "      <th>8261</th>\n",
       "      <td>2015-04-24</td>\n",
       "      <td>Joint</td>\n",
       "      <td>KN</td>\n",
       "      <td>Knowles Corporation (NYSE)</td>\n",
       "      <td>Stock</td>\n",
       "      <td>Purchase</td>\n",
       "    </tr>\n",
       "    <tr>\n",
       "      <th>8262</th>\n",
       "      <td>2015-04-24</td>\n",
       "      <td>Joint</td>\n",
       "      <td>KN</td>\n",
       "      <td>Knowles Corporation (NYSE)</td>\n",
       "      <td>Stock</td>\n",
       "      <td>Purchase</td>\n",
       "    </tr>\n",
       "    <tr>\n",
       "      <th>8263</th>\n",
       "      <td>2015-04-15</td>\n",
       "      <td>Joint</td>\n",
       "      <td>MOS</td>\n",
       "      <td>The Mosaic Company (NYSE)</td>\n",
       "      <td>Stock</td>\n",
       "      <td>Purchase</td>\n",
       "    </tr>\n",
       "    <tr>\n",
       "      <th>8264</th>\n",
       "      <td>2015-05-12</td>\n",
       "      <td>Joint</td>\n",
       "      <td>DISCA</td>\n",
       "      <td>Discovery Communications, Inc. (NASDAQ)</td>\n",
       "      <td>Stock</td>\n",
       "      <td>Purchase</td>\n",
       "    </tr>\n",
       "    <tr>\n",
       "      <th>8265</th>\n",
       "      <td>2015-05-13</td>\n",
       "      <td>Joint</td>\n",
       "      <td>DISCA</td>\n",
       "      <td>Discovery Communications, Inc. (NASDAQ)</td>\n",
       "      <td>Stock</td>\n",
       "      <td>Purchase</td>\n",
       "    </tr>\n",
       "    <tr>\n",
       "      <th>8266</th>\n",
       "      <td>2015-05-14</td>\n",
       "      <td>Joint</td>\n",
       "      <td>DISCA</td>\n",
       "      <td>Discovery Communications, Inc. (NASDAQ)</td>\n",
       "      <td>Stock</td>\n",
       "      <td>Purchase</td>\n",
       "    </tr>\n",
       "    <tr>\n",
       "      <th>8267</th>\n",
       "      <td>2015-05-15</td>\n",
       "      <td>Joint</td>\n",
       "      <td>AXLL</td>\n",
       "      <td>Axiall Corporation (NYSE)</td>\n",
       "      <td>Stock</td>\n",
       "      <td>Purchase</td>\n",
       "    </tr>\n",
       "    <tr>\n",
       "      <th>8268</th>\n",
       "      <td>2015-05-29</td>\n",
       "      <td>Joint</td>\n",
       "      <td>DISCA</td>\n",
       "      <td>Discovery Communications, Inc. (NASDAQ)</td>\n",
       "      <td>Stock</td>\n",
       "      <td>Purchase</td>\n",
       "    </tr>\n",
       "  </tbody>\n",
       "</table>\n",
       "</div>"
      ],
      "text/plain": [
       "     transaction_date  owner ticker                        asset_description  \\\n",
       "8259       2015-04-17  Joint     KN               Knowles Corporation (NYSE)   \n",
       "8260       2015-04-23  Joint     KN               Knowles Corporation (NYSE)   \n",
       "8261       2015-04-24  Joint     KN               Knowles Corporation (NYSE)   \n",
       "8262       2015-04-24  Joint     KN               Knowles Corporation (NYSE)   \n",
       "8263       2015-04-15  Joint    MOS                The Mosaic Company (NYSE)   \n",
       "8264       2015-05-12  Joint  DISCA  Discovery Communications, Inc. (NASDAQ)   \n",
       "8265       2015-05-13  Joint  DISCA  Discovery Communications, Inc. (NASDAQ)   \n",
       "8266       2015-05-14  Joint  DISCA  Discovery Communications, Inc. (NASDAQ)   \n",
       "8267       2015-05-15  Joint   AXLL                Axiall Corporation (NYSE)   \n",
       "8268       2015-05-29  Joint  DISCA  Discovery Communications, Inc. (NASDAQ)   \n",
       "\n",
       "     asset_type      type  \n",
       "8259      Stock  Purchase  \n",
       "8260      Stock  Purchase  \n",
       "8261      Stock  Purchase  \n",
       "8262      Stock  Purchase  \n",
       "8263      Stock  Purchase  \n",
       "8264      Stock  Purchase  \n",
       "8265      Stock  Purchase  \n",
       "8266      Stock  Purchase  \n",
       "8267      Stock  Purchase  \n",
       "8268      Stock  Purchase  "
      ]
     },
     "execution_count": 29,
     "metadata": {},
     "output_type": "execute_result"
    }
   ],
   "source": [
    "senSample = senators.sample(n=30, random_state=69)['senatorId'].to_list()\n",
    "# lets find the senator with the most purchases within a random sample of 30 senators \n",
    "maxPurchases= 0\n",
    "maxSenator=0\n",
    "for sen in senSample:\n",
    "    currentPurchases = len(purchasesBySenator(sen))\n",
    "    if currentPurchases >= maxPurchases:\n",
    "        maxPurchases = currentPurchases\n",
    "        maxSenator = sen\n",
    "\n",
    "print(senators[senators['senatorId']==maxSenator])\n",
    "purchasesBySenator(maxSenator).tail(10)"
   ]
  },
  {
   "cell_type": "code",
   "execution_count": 30,
   "metadata": {},
   "outputs": [
    {
     "data": {
      "application/vnd.plotly.v1+json": {
       "config": {
        "plotlyServerURL": "https://plot.ly"
       },
       "data": [
        {
         "hovertemplate": "variable=MOS_growth<br>date=%{x}<br>value=%{y}<extra></extra>",
         "legendgroup": "MOS_growth",
         "line": {
          "color": "#636efa",
          "dash": "solid"
         },
         "marker": {
          "symbol": "circle"
         },
         "mode": "lines",
         "name": "MOS_growth",
         "orientation": "v",
         "showlegend": true,
         "type": "scatter",
         "x": [
          "2015-04-10",
          "2015-04-17",
          "2015-04-24",
          "2015-05-01",
          "2015-05-08",
          "2015-05-15",
          "2015-05-22",
          "2015-05-29",
          "2015-06-05",
          "2015-06-12",
          "2015-06-19",
          "2015-06-26",
          "2015-07-02",
          "2015-07-10",
          "2015-07-17",
          "2015-07-24",
          "2015-07-31",
          "2015-08-07",
          "2015-08-14",
          "2015-08-21",
          "2015-08-28",
          "2015-09-04",
          "2015-09-11",
          "2015-09-18",
          "2015-09-25",
          "2015-10-02",
          "2015-10-09",
          "2015-10-16",
          "2015-10-23",
          "2015-10-30",
          "2015-11-06",
          "2015-11-13",
          "2015-11-20",
          "2015-11-27",
          "2015-12-04",
          "2015-12-11",
          "2015-12-18",
          "2015-12-24",
          "2015-12-31",
          "2016-01-08",
          "2016-01-15",
          "2016-01-22",
          "2016-01-29",
          "2016-02-05",
          "2016-02-12",
          "2016-02-19",
          "2016-02-26",
          "2016-03-04",
          "2016-03-11",
          "2016-03-18",
          "2016-03-24",
          "2016-04-01",
          "2016-04-08"
         ],
         "xaxis": "x",
         "y": [
          null,
          100,
          99.27196788755643,
          99.24995935925173,
          100.30886968700372,
          102.86861158698997,
          103.7732121196964,
          101.16945316310071,
          98.36536657954959,
          98.87606447498408,
          99.54207255311437,
          103.33804349185314,
          103.56012955020074,
          99.98599457289704,
          100.47443384311424,
          95.21314509372387,
          95.32418812289767,
          98.56519401267997,
          96.07898060498448,
          88.66435743850747,
          91.10630369268098,
          88.6826145131239,
          87.49765534144488,
          82.66903425077224,
          71.84909152296521,
          69.27834535882661,
          75.85064212382304,
          78.0862584251398,
          79.6288561817705,
          75.53777088621847,
          72.65390338756274,
          72.00565219022377,
          69.88182920881847,
          69.41239730395534,
          69.62898123022677,
          66.22416186272186,
          64.35268666608317,
          67.08099388513055,
          62.21060661006146,
          56.16776500894102,
          57.43050432042422,
          53.77758881566612,
          54.341307256561976,
          56.05497130137934,
          51.658017481774245,
          55.0178194050195,
          60.47443384311427,
          67.44288411759564,
          65.37008090635128,
          67.69348122397437,
          62.090309995123185,
          61.13368930460561,
          56.85152996786262
         ],
         "yaxis": "y"
        },
        {
         "hovertemplate": "variable=SPY_growth<br>date=%{x}<br>value=%{y}<extra></extra>",
         "legendgroup": "SPY_growth",
         "line": {
          "color": "#EF553B",
          "dash": "solid"
         },
         "marker": {
          "symbol": "circle"
         },
         "mode": "lines",
         "name": "SPY_growth",
         "orientation": "v",
         "showlegend": true,
         "type": "scatter",
         "x": [
          "2015-04-10",
          "2015-04-17",
          "2015-04-24",
          "2015-05-01",
          "2015-05-08",
          "2015-05-15",
          "2015-05-22",
          "2015-05-29",
          "2015-06-05",
          "2015-06-12",
          "2015-06-19",
          "2015-06-26",
          "2015-07-02",
          "2015-07-10",
          "2015-07-17",
          "2015-07-24",
          "2015-07-31",
          "2015-08-07",
          "2015-08-14",
          "2015-08-21",
          "2015-08-28",
          "2015-09-04",
          "2015-09-11",
          "2015-09-18",
          "2015-09-25",
          "2015-10-02",
          "2015-10-09",
          "2015-10-16",
          "2015-10-23",
          "2015-10-30",
          "2015-11-06",
          "2015-11-13",
          "2015-11-20",
          "2015-11-27",
          "2015-12-04",
          "2015-12-11",
          "2015-12-18",
          "2015-12-24",
          "2015-12-31",
          "2016-01-08",
          "2016-01-15",
          "2016-01-22",
          "2016-01-29",
          "2016-02-05",
          "2016-02-12",
          "2016-02-19",
          "2016-02-26",
          "2016-03-04",
          "2016-03-11",
          "2016-03-18",
          "2016-03-24",
          "2016-04-01",
          "2016-04-08"
         ],
         "xaxis": "x",
         "y": [
          null,
          100,
          101.77927062491993,
          101.3320789883973,
          101.76486111663199,
          102.15916268058812,
          102.42366825226465,
          101.53403293980467,
          100.875225804172,
          100.95213172388509,
          101.87069647060899,
          101.43095802802839,
          100.18417670363448,
          100.26152429409969,
          102.67282576530496,
          100.48379510010464,
          101.69673340311728,
          100.47413355240201,
          101.16998582236882,
          95.50163859849033,
          96.27964162835168,
          93.06615565360642,
          95.07156170361237,
          94.90411327971447,
          93.69448750734273,
          94.7292116618745,
          97.80428906467381,
          98.74670403201226,
          100.81129396280247,
          101.01048747200909,
          102.03549486999418,
          98.39209762690302,
          101.68088846488494,
          101.80234792171824,
          101.83149819135824,
          98.07144466086308,
          97.75642299691268,
          100.5226621262913,
          99.63805081863669,
          93.79772804565104,
          91.78900946500418,
          93.1134696329274,
          94.67742576618829,
          91.85741322273894,
          91.21229788042203,
          93.83681590721379,
          95.34699862640394,
          97.95683110068767,
          99.09556871734397,
          100.4003193279538,
          99.78131776885603,
          101.64803920269595,
          100.45922716451794
         ],
         "yaxis": "y"
        }
       ],
       "layout": {
        "height": 500,
        "legend": {
         "title": {
          "text": "variable"
         },
         "tracegroupgap": 0
        },
        "template": {
         "data": {
          "bar": [
           {
            "error_x": {
             "color": "#2a3f5f"
            },
            "error_y": {
             "color": "#2a3f5f"
            },
            "marker": {
             "line": {
              "color": "#E5ECF6",
              "width": 0.5
             },
             "pattern": {
              "fillmode": "overlay",
              "size": 10,
              "solidity": 0.2
             }
            },
            "type": "bar"
           }
          ],
          "barpolar": [
           {
            "marker": {
             "line": {
              "color": "#E5ECF6",
              "width": 0.5
             },
             "pattern": {
              "fillmode": "overlay",
              "size": 10,
              "solidity": 0.2
             }
            },
            "type": "barpolar"
           }
          ],
          "carpet": [
           {
            "aaxis": {
             "endlinecolor": "#2a3f5f",
             "gridcolor": "white",
             "linecolor": "white",
             "minorgridcolor": "white",
             "startlinecolor": "#2a3f5f"
            },
            "baxis": {
             "endlinecolor": "#2a3f5f",
             "gridcolor": "white",
             "linecolor": "white",
             "minorgridcolor": "white",
             "startlinecolor": "#2a3f5f"
            },
            "type": "carpet"
           }
          ],
          "choropleth": [
           {
            "colorbar": {
             "outlinewidth": 0,
             "ticks": ""
            },
            "type": "choropleth"
           }
          ],
          "contour": [
           {
            "colorbar": {
             "outlinewidth": 0,
             "ticks": ""
            },
            "colorscale": [
             [
              0,
              "#0d0887"
             ],
             [
              0.1111111111111111,
              "#46039f"
             ],
             [
              0.2222222222222222,
              "#7201a8"
             ],
             [
              0.3333333333333333,
              "#9c179e"
             ],
             [
              0.4444444444444444,
              "#bd3786"
             ],
             [
              0.5555555555555556,
              "#d8576b"
             ],
             [
              0.6666666666666666,
              "#ed7953"
             ],
             [
              0.7777777777777778,
              "#fb9f3a"
             ],
             [
              0.8888888888888888,
              "#fdca26"
             ],
             [
              1,
              "#f0f921"
             ]
            ],
            "type": "contour"
           }
          ],
          "contourcarpet": [
           {
            "colorbar": {
             "outlinewidth": 0,
             "ticks": ""
            },
            "type": "contourcarpet"
           }
          ],
          "heatmap": [
           {
            "colorbar": {
             "outlinewidth": 0,
             "ticks": ""
            },
            "colorscale": [
             [
              0,
              "#0d0887"
             ],
             [
              0.1111111111111111,
              "#46039f"
             ],
             [
              0.2222222222222222,
              "#7201a8"
             ],
             [
              0.3333333333333333,
              "#9c179e"
             ],
             [
              0.4444444444444444,
              "#bd3786"
             ],
             [
              0.5555555555555556,
              "#d8576b"
             ],
             [
              0.6666666666666666,
              "#ed7953"
             ],
             [
              0.7777777777777778,
              "#fb9f3a"
             ],
             [
              0.8888888888888888,
              "#fdca26"
             ],
             [
              1,
              "#f0f921"
             ]
            ],
            "type": "heatmap"
           }
          ],
          "heatmapgl": [
           {
            "colorbar": {
             "outlinewidth": 0,
             "ticks": ""
            },
            "colorscale": [
             [
              0,
              "#0d0887"
             ],
             [
              0.1111111111111111,
              "#46039f"
             ],
             [
              0.2222222222222222,
              "#7201a8"
             ],
             [
              0.3333333333333333,
              "#9c179e"
             ],
             [
              0.4444444444444444,
              "#bd3786"
             ],
             [
              0.5555555555555556,
              "#d8576b"
             ],
             [
              0.6666666666666666,
              "#ed7953"
             ],
             [
              0.7777777777777778,
              "#fb9f3a"
             ],
             [
              0.8888888888888888,
              "#fdca26"
             ],
             [
              1,
              "#f0f921"
             ]
            ],
            "type": "heatmapgl"
           }
          ],
          "histogram": [
           {
            "marker": {
             "pattern": {
              "fillmode": "overlay",
              "size": 10,
              "solidity": 0.2
             }
            },
            "type": "histogram"
           }
          ],
          "histogram2d": [
           {
            "colorbar": {
             "outlinewidth": 0,
             "ticks": ""
            },
            "colorscale": [
             [
              0,
              "#0d0887"
             ],
             [
              0.1111111111111111,
              "#46039f"
             ],
             [
              0.2222222222222222,
              "#7201a8"
             ],
             [
              0.3333333333333333,
              "#9c179e"
             ],
             [
              0.4444444444444444,
              "#bd3786"
             ],
             [
              0.5555555555555556,
              "#d8576b"
             ],
             [
              0.6666666666666666,
              "#ed7953"
             ],
             [
              0.7777777777777778,
              "#fb9f3a"
             ],
             [
              0.8888888888888888,
              "#fdca26"
             ],
             [
              1,
              "#f0f921"
             ]
            ],
            "type": "histogram2d"
           }
          ],
          "histogram2dcontour": [
           {
            "colorbar": {
             "outlinewidth": 0,
             "ticks": ""
            },
            "colorscale": [
             [
              0,
              "#0d0887"
             ],
             [
              0.1111111111111111,
              "#46039f"
             ],
             [
              0.2222222222222222,
              "#7201a8"
             ],
             [
              0.3333333333333333,
              "#9c179e"
             ],
             [
              0.4444444444444444,
              "#bd3786"
             ],
             [
              0.5555555555555556,
              "#d8576b"
             ],
             [
              0.6666666666666666,
              "#ed7953"
             ],
             [
              0.7777777777777778,
              "#fb9f3a"
             ],
             [
              0.8888888888888888,
              "#fdca26"
             ],
             [
              1,
              "#f0f921"
             ]
            ],
            "type": "histogram2dcontour"
           }
          ],
          "mesh3d": [
           {
            "colorbar": {
             "outlinewidth": 0,
             "ticks": ""
            },
            "type": "mesh3d"
           }
          ],
          "parcoords": [
           {
            "line": {
             "colorbar": {
              "outlinewidth": 0,
              "ticks": ""
             }
            },
            "type": "parcoords"
           }
          ],
          "pie": [
           {
            "automargin": true,
            "type": "pie"
           }
          ],
          "scatter": [
           {
            "fillpattern": {
             "fillmode": "overlay",
             "size": 10,
             "solidity": 0.2
            },
            "type": "scatter"
           }
          ],
          "scatter3d": [
           {
            "line": {
             "colorbar": {
              "outlinewidth": 0,
              "ticks": ""
             }
            },
            "marker": {
             "colorbar": {
              "outlinewidth": 0,
              "ticks": ""
             }
            },
            "type": "scatter3d"
           }
          ],
          "scattercarpet": [
           {
            "marker": {
             "colorbar": {
              "outlinewidth": 0,
              "ticks": ""
             }
            },
            "type": "scattercarpet"
           }
          ],
          "scattergeo": [
           {
            "marker": {
             "colorbar": {
              "outlinewidth": 0,
              "ticks": ""
             }
            },
            "type": "scattergeo"
           }
          ],
          "scattergl": [
           {
            "marker": {
             "colorbar": {
              "outlinewidth": 0,
              "ticks": ""
             }
            },
            "type": "scattergl"
           }
          ],
          "scattermapbox": [
           {
            "marker": {
             "colorbar": {
              "outlinewidth": 0,
              "ticks": ""
             }
            },
            "type": "scattermapbox"
           }
          ],
          "scatterpolar": [
           {
            "marker": {
             "colorbar": {
              "outlinewidth": 0,
              "ticks": ""
             }
            },
            "type": "scatterpolar"
           }
          ],
          "scatterpolargl": [
           {
            "marker": {
             "colorbar": {
              "outlinewidth": 0,
              "ticks": ""
             }
            },
            "type": "scatterpolargl"
           }
          ],
          "scatterternary": [
           {
            "marker": {
             "colorbar": {
              "outlinewidth": 0,
              "ticks": ""
             }
            },
            "type": "scatterternary"
           }
          ],
          "surface": [
           {
            "colorbar": {
             "outlinewidth": 0,
             "ticks": ""
            },
            "colorscale": [
             [
              0,
              "#0d0887"
             ],
             [
              0.1111111111111111,
              "#46039f"
             ],
             [
              0.2222222222222222,
              "#7201a8"
             ],
             [
              0.3333333333333333,
              "#9c179e"
             ],
             [
              0.4444444444444444,
              "#bd3786"
             ],
             [
              0.5555555555555556,
              "#d8576b"
             ],
             [
              0.6666666666666666,
              "#ed7953"
             ],
             [
              0.7777777777777778,
              "#fb9f3a"
             ],
             [
              0.8888888888888888,
              "#fdca26"
             ],
             [
              1,
              "#f0f921"
             ]
            ],
            "type": "surface"
           }
          ],
          "table": [
           {
            "cells": {
             "fill": {
              "color": "#EBF0F8"
             },
             "line": {
              "color": "white"
             }
            },
            "header": {
             "fill": {
              "color": "#C8D4E3"
             },
             "line": {
              "color": "white"
             }
            },
            "type": "table"
           }
          ]
         },
         "layout": {
          "annotationdefaults": {
           "arrowcolor": "#2a3f5f",
           "arrowhead": 0,
           "arrowwidth": 1
          },
          "autotypenumbers": "strict",
          "coloraxis": {
           "colorbar": {
            "outlinewidth": 0,
            "ticks": ""
           }
          },
          "colorscale": {
           "diverging": [
            [
             0,
             "#8e0152"
            ],
            [
             0.1,
             "#c51b7d"
            ],
            [
             0.2,
             "#de77ae"
            ],
            [
             0.3,
             "#f1b6da"
            ],
            [
             0.4,
             "#fde0ef"
            ],
            [
             0.5,
             "#f7f7f7"
            ],
            [
             0.6,
             "#e6f5d0"
            ],
            [
             0.7,
             "#b8e186"
            ],
            [
             0.8,
             "#7fbc41"
            ],
            [
             0.9,
             "#4d9221"
            ],
            [
             1,
             "#276419"
            ]
           ],
           "sequential": [
            [
             0,
             "#0d0887"
            ],
            [
             0.1111111111111111,
             "#46039f"
            ],
            [
             0.2222222222222222,
             "#7201a8"
            ],
            [
             0.3333333333333333,
             "#9c179e"
            ],
            [
             0.4444444444444444,
             "#bd3786"
            ],
            [
             0.5555555555555556,
             "#d8576b"
            ],
            [
             0.6666666666666666,
             "#ed7953"
            ],
            [
             0.7777777777777778,
             "#fb9f3a"
            ],
            [
             0.8888888888888888,
             "#fdca26"
            ],
            [
             1,
             "#f0f921"
            ]
           ],
           "sequentialminus": [
            [
             0,
             "#0d0887"
            ],
            [
             0.1111111111111111,
             "#46039f"
            ],
            [
             0.2222222222222222,
             "#7201a8"
            ],
            [
             0.3333333333333333,
             "#9c179e"
            ],
            [
             0.4444444444444444,
             "#bd3786"
            ],
            [
             0.5555555555555556,
             "#d8576b"
            ],
            [
             0.6666666666666666,
             "#ed7953"
            ],
            [
             0.7777777777777778,
             "#fb9f3a"
            ],
            [
             0.8888888888888888,
             "#fdca26"
            ],
            [
             1,
             "#f0f921"
            ]
           ]
          },
          "colorway": [
           "#636efa",
           "#EF553B",
           "#00cc96",
           "#ab63fa",
           "#FFA15A",
           "#19d3f3",
           "#FF6692",
           "#B6E880",
           "#FF97FF",
           "#FECB52"
          ],
          "font": {
           "color": "#2a3f5f"
          },
          "geo": {
           "bgcolor": "white",
           "lakecolor": "white",
           "landcolor": "#E5ECF6",
           "showlakes": true,
           "showland": true,
           "subunitcolor": "white"
          },
          "hoverlabel": {
           "align": "left"
          },
          "hovermode": "closest",
          "mapbox": {
           "style": "light"
          },
          "paper_bgcolor": "white",
          "plot_bgcolor": "#E5ECF6",
          "polar": {
           "angularaxis": {
            "gridcolor": "white",
            "linecolor": "white",
            "ticks": ""
           },
           "bgcolor": "#E5ECF6",
           "radialaxis": {
            "gridcolor": "white",
            "linecolor": "white",
            "ticks": ""
           }
          },
          "scene": {
           "xaxis": {
            "backgroundcolor": "#E5ECF6",
            "gridcolor": "white",
            "gridwidth": 2,
            "linecolor": "white",
            "showbackground": true,
            "ticks": "",
            "zerolinecolor": "white"
           },
           "yaxis": {
            "backgroundcolor": "#E5ECF6",
            "gridcolor": "white",
            "gridwidth": 2,
            "linecolor": "white",
            "showbackground": true,
            "ticks": "",
            "zerolinecolor": "white"
           },
           "zaxis": {
            "backgroundcolor": "#E5ECF6",
            "gridcolor": "white",
            "gridwidth": 2,
            "linecolor": "white",
            "showbackground": true,
            "ticks": "",
            "zerolinecolor": "white"
           }
          },
          "shapedefaults": {
           "line": {
            "color": "#2a3f5f"
           }
          },
          "ternary": {
           "aaxis": {
            "gridcolor": "white",
            "linecolor": "white",
            "ticks": ""
           },
           "baxis": {
            "gridcolor": "white",
            "linecolor": "white",
            "ticks": ""
           },
           "bgcolor": "#E5ECF6",
           "caxis": {
            "gridcolor": "white",
            "linecolor": "white",
            "ticks": ""
           }
          },
          "title": {
           "x": 0.05
          },
          "xaxis": {
           "automargin": true,
           "gridcolor": "white",
           "linecolor": "white",
           "ticks": "",
           "title": {
            "standoff": 15
           },
           "zerolinecolor": "white",
           "zerolinewidth": 2
          },
          "yaxis": {
           "automargin": true,
           "gridcolor": "white",
           "linecolor": "white",
           "ticks": "",
           "title": {
            "standoff": 15
           },
           "zerolinecolor": "white",
           "zerolinewidth": 2
          }
         }
        },
        "title": {
         "text": "Growth in MOS v SPY"
        },
        "width": 800,
        "xaxis": {
         "anchor": "y",
         "domain": [
          0,
          1
         ],
         "title": {
          "text": "date"
         }
        },
        "yaxis": {
         "anchor": "x",
         "domain": [
          0,
          1
         ],
         "title": {
          "text": "value"
         }
        }
       }
      }
     },
     "metadata": {},
     "output_type": "display_data"
    },
    {
     "name": "stdout",
     "output_type": "stream",
     "text": [
      "this is is kind of a terrible trade\n"
     ]
    }
   ],
   "source": [
    "graphAlpha(\"MOS\", \"2015-04-15\")\n",
    "print(\"this is is kind of a terrible trade\")"
   ]
  },
  {
   "cell_type": "code",
   "execution_count": 31,
   "metadata": {},
   "outputs": [
    {
     "data": {
      "application/vnd.plotly.v1+json": {
       "config": {
        "plotlyServerURL": "https://plot.ly"
       },
       "data": [
        {
         "hovertemplate": "variable=KN_growth<br>date=%{x}<br>value=%{y}<extra></extra>",
         "legendgroup": "KN_growth",
         "line": {
          "color": "#636efa",
          "dash": "solid"
         },
         "marker": {
          "symbol": "circle"
         },
         "mode": "lines",
         "name": "KN_growth",
         "orientation": "v",
         "showlegend": true,
         "type": "scatter",
         "x": [
          "2015-04-17",
          "2015-04-24",
          "2015-05-01",
          "2015-05-08",
          "2015-05-15",
          "2015-05-22",
          "2015-05-29",
          "2015-06-05",
          "2015-06-12",
          "2015-06-19",
          "2015-06-26",
          "2015-07-02",
          "2015-07-10",
          "2015-07-17",
          "2015-07-24",
          "2015-07-31",
          "2015-08-07",
          "2015-08-14",
          "2015-08-21",
          "2015-08-28",
          "2015-09-04",
          "2015-09-11",
          "2015-09-18",
          "2015-09-25",
          "2015-10-02",
          "2015-10-09",
          "2015-10-16",
          "2015-10-23",
          "2015-10-30",
          "2015-11-06",
          "2015-11-13",
          "2015-11-20",
          "2015-11-27",
          "2015-12-04",
          "2015-12-11",
          "2015-12-18",
          "2015-12-24",
          "2015-12-31",
          "2016-01-08",
          "2016-01-15",
          "2016-01-22",
          "2016-01-29",
          "2016-02-05",
          "2016-02-12",
          "2016-02-19",
          "2016-02-26",
          "2016-03-04",
          "2016-03-11",
          "2016-03-18",
          "2016-03-24",
          "2016-04-01",
          "2016-04-08",
          "2016-04-15"
         ],
         "xaxis": "x",
         "y": [
          null,
          100,
          94.77091633466136,
          89.99003984063746,
          94.67131474103587,
          97.01195219123507,
          96.36454183266933,
          93.82470119521912,
          90.98605577689243,
          96.91235059760957,
          91.98207171314742,
          92.28087649402391,
          92.0816733067729,
          91.03585657370517,
          84.11354581673305,
          94.87051792828684,
          87.00199203187249,
          83.51593625498006,
          73.35657370517927,
          81.07569721115537,
          79.68127490039839,
          80.32868525896413,
          81.02589641434261,
          81.52390438247012,
          97.80876494023903,
          105.72709163346613,
          103.58565737051792,
          105.62749003984064,
          82.96812749003983,
          88.84462151394422,
          76.69322709163346,
          78.93426294820716,
          80.1792828685259,
          79.6812749003984,
          75.199203187251,
          64.14342629482073,
          69.32270916334663,
          66.38446215139444,
          63.097609561753,
          57.470119521912366,
          62.35059760956177,
          67.72908366533865,
          64.14342629482073,
          49.70119521912352,
          55.32868525896416,
          56.82270916334663,
          60.9561752988048,
          64.94023904382472,
          67.72908366533866,
          63.29681274900401,
          65.28884462151396,
          62.15139442231077,
          67.48007968127492
         ],
         "yaxis": "y"
        },
        {
         "hovertemplate": "variable=SPY_growth<br>date=%{x}<br>value=%{y}<extra></extra>",
         "legendgroup": "SPY_growth",
         "line": {
          "color": "#EF553B",
          "dash": "solid"
         },
         "marker": {
          "symbol": "circle"
         },
         "mode": "lines",
         "name": "SPY_growth",
         "orientation": "v",
         "showlegend": true,
         "type": "scatter",
         "x": [
          "2015-04-17",
          "2015-04-24",
          "2015-05-01",
          "2015-05-08",
          "2015-05-15",
          "2015-05-22",
          "2015-05-29",
          "2015-06-05",
          "2015-06-12",
          "2015-06-19",
          "2015-06-26",
          "2015-07-02",
          "2015-07-10",
          "2015-07-17",
          "2015-07-24",
          "2015-07-31",
          "2015-08-07",
          "2015-08-14",
          "2015-08-21",
          "2015-08-28",
          "2015-09-04",
          "2015-09-11",
          "2015-09-18",
          "2015-09-25",
          "2015-10-02",
          "2015-10-09",
          "2015-10-16",
          "2015-10-23",
          "2015-10-30",
          "2015-11-06",
          "2015-11-13",
          "2015-11-20",
          "2015-11-27",
          "2015-12-04",
          "2015-12-11",
          "2015-12-18",
          "2015-12-24",
          "2015-12-31",
          "2016-01-08",
          "2016-01-15",
          "2016-01-22",
          "2016-01-29",
          "2016-02-05",
          "2016-02-12",
          "2016-02-19",
          "2016-02-26",
          "2016-03-04",
          "2016-03-11",
          "2016-03-18",
          "2016-03-24",
          "2016-04-01",
          "2016-04-08",
          "2016-04-15"
         ],
         "xaxis": "x",
         "y": [
          null,
          100,
          99.56062601571332,
          99.98584239383966,
          100.37325091183664,
          100.63313248698692,
          99.75904947676524,
          99.11175938361795,
          99.18732086017489,
          100.08982757012079,
          99.65777648557221,
          98.43279096864059,
          98.50878639481165,
          100.87793431304688,
          98.72717153811267,
          99.9189056658631,
          98.71767889030401,
          99.40136650733479,
          93.83211140354489,
          94.59651364880018,
          91.43920474393714,
          93.40955296680498,
          93.24503181935543,
          92.05655231371082,
          93.07318777216774,
          96.09450771670897,
          97.02044770581684,
          99.04894517697547,
          99.24465645293921,
          100.25174501988569,
          96.67204040938802,
          99.90333772345689,
          100.0226738673372,
          100.05131454186849,
          96.35699298954394,
          96.04747842727976,
          98.76535910415437,
          97.89621227079319,
          92.15798803600909,
          90.18438519103542,
          91.4856915963487,
          93.02230717991328,
          90.25159313752076,
          89.6177554824109,
          92.19639257685787,
          93.68017479490454,
          96.24438306468234,
          97.36321365726225,
          98.64515506104587,
          98.03697467687027,
          99.87106272090747,
          98.70303309082783,
          100.28613552680399
         ],
         "yaxis": "y"
        }
       ],
       "layout": {
        "height": 500,
        "legend": {
         "title": {
          "text": "variable"
         },
         "tracegroupgap": 0
        },
        "template": {
         "data": {
          "bar": [
           {
            "error_x": {
             "color": "#2a3f5f"
            },
            "error_y": {
             "color": "#2a3f5f"
            },
            "marker": {
             "line": {
              "color": "#E5ECF6",
              "width": 0.5
             },
             "pattern": {
              "fillmode": "overlay",
              "size": 10,
              "solidity": 0.2
             }
            },
            "type": "bar"
           }
          ],
          "barpolar": [
           {
            "marker": {
             "line": {
              "color": "#E5ECF6",
              "width": 0.5
             },
             "pattern": {
              "fillmode": "overlay",
              "size": 10,
              "solidity": 0.2
             }
            },
            "type": "barpolar"
           }
          ],
          "carpet": [
           {
            "aaxis": {
             "endlinecolor": "#2a3f5f",
             "gridcolor": "white",
             "linecolor": "white",
             "minorgridcolor": "white",
             "startlinecolor": "#2a3f5f"
            },
            "baxis": {
             "endlinecolor": "#2a3f5f",
             "gridcolor": "white",
             "linecolor": "white",
             "minorgridcolor": "white",
             "startlinecolor": "#2a3f5f"
            },
            "type": "carpet"
           }
          ],
          "choropleth": [
           {
            "colorbar": {
             "outlinewidth": 0,
             "ticks": ""
            },
            "type": "choropleth"
           }
          ],
          "contour": [
           {
            "colorbar": {
             "outlinewidth": 0,
             "ticks": ""
            },
            "colorscale": [
             [
              0,
              "#0d0887"
             ],
             [
              0.1111111111111111,
              "#46039f"
             ],
             [
              0.2222222222222222,
              "#7201a8"
             ],
             [
              0.3333333333333333,
              "#9c179e"
             ],
             [
              0.4444444444444444,
              "#bd3786"
             ],
             [
              0.5555555555555556,
              "#d8576b"
             ],
             [
              0.6666666666666666,
              "#ed7953"
             ],
             [
              0.7777777777777778,
              "#fb9f3a"
             ],
             [
              0.8888888888888888,
              "#fdca26"
             ],
             [
              1,
              "#f0f921"
             ]
            ],
            "type": "contour"
           }
          ],
          "contourcarpet": [
           {
            "colorbar": {
             "outlinewidth": 0,
             "ticks": ""
            },
            "type": "contourcarpet"
           }
          ],
          "heatmap": [
           {
            "colorbar": {
             "outlinewidth": 0,
             "ticks": ""
            },
            "colorscale": [
             [
              0,
              "#0d0887"
             ],
             [
              0.1111111111111111,
              "#46039f"
             ],
             [
              0.2222222222222222,
              "#7201a8"
             ],
             [
              0.3333333333333333,
              "#9c179e"
             ],
             [
              0.4444444444444444,
              "#bd3786"
             ],
             [
              0.5555555555555556,
              "#d8576b"
             ],
             [
              0.6666666666666666,
              "#ed7953"
             ],
             [
              0.7777777777777778,
              "#fb9f3a"
             ],
             [
              0.8888888888888888,
              "#fdca26"
             ],
             [
              1,
              "#f0f921"
             ]
            ],
            "type": "heatmap"
           }
          ],
          "heatmapgl": [
           {
            "colorbar": {
             "outlinewidth": 0,
             "ticks": ""
            },
            "colorscale": [
             [
              0,
              "#0d0887"
             ],
             [
              0.1111111111111111,
              "#46039f"
             ],
             [
              0.2222222222222222,
              "#7201a8"
             ],
             [
              0.3333333333333333,
              "#9c179e"
             ],
             [
              0.4444444444444444,
              "#bd3786"
             ],
             [
              0.5555555555555556,
              "#d8576b"
             ],
             [
              0.6666666666666666,
              "#ed7953"
             ],
             [
              0.7777777777777778,
              "#fb9f3a"
             ],
             [
              0.8888888888888888,
              "#fdca26"
             ],
             [
              1,
              "#f0f921"
             ]
            ],
            "type": "heatmapgl"
           }
          ],
          "histogram": [
           {
            "marker": {
             "pattern": {
              "fillmode": "overlay",
              "size": 10,
              "solidity": 0.2
             }
            },
            "type": "histogram"
           }
          ],
          "histogram2d": [
           {
            "colorbar": {
             "outlinewidth": 0,
             "ticks": ""
            },
            "colorscale": [
             [
              0,
              "#0d0887"
             ],
             [
              0.1111111111111111,
              "#46039f"
             ],
             [
              0.2222222222222222,
              "#7201a8"
             ],
             [
              0.3333333333333333,
              "#9c179e"
             ],
             [
              0.4444444444444444,
              "#bd3786"
             ],
             [
              0.5555555555555556,
              "#d8576b"
             ],
             [
              0.6666666666666666,
              "#ed7953"
             ],
             [
              0.7777777777777778,
              "#fb9f3a"
             ],
             [
              0.8888888888888888,
              "#fdca26"
             ],
             [
              1,
              "#f0f921"
             ]
            ],
            "type": "histogram2d"
           }
          ],
          "histogram2dcontour": [
           {
            "colorbar": {
             "outlinewidth": 0,
             "ticks": ""
            },
            "colorscale": [
             [
              0,
              "#0d0887"
             ],
             [
              0.1111111111111111,
              "#46039f"
             ],
             [
              0.2222222222222222,
              "#7201a8"
             ],
             [
              0.3333333333333333,
              "#9c179e"
             ],
             [
              0.4444444444444444,
              "#bd3786"
             ],
             [
              0.5555555555555556,
              "#d8576b"
             ],
             [
              0.6666666666666666,
              "#ed7953"
             ],
             [
              0.7777777777777778,
              "#fb9f3a"
             ],
             [
              0.8888888888888888,
              "#fdca26"
             ],
             [
              1,
              "#f0f921"
             ]
            ],
            "type": "histogram2dcontour"
           }
          ],
          "mesh3d": [
           {
            "colorbar": {
             "outlinewidth": 0,
             "ticks": ""
            },
            "type": "mesh3d"
           }
          ],
          "parcoords": [
           {
            "line": {
             "colorbar": {
              "outlinewidth": 0,
              "ticks": ""
             }
            },
            "type": "parcoords"
           }
          ],
          "pie": [
           {
            "automargin": true,
            "type": "pie"
           }
          ],
          "scatter": [
           {
            "fillpattern": {
             "fillmode": "overlay",
             "size": 10,
             "solidity": 0.2
            },
            "type": "scatter"
           }
          ],
          "scatter3d": [
           {
            "line": {
             "colorbar": {
              "outlinewidth": 0,
              "ticks": ""
             }
            },
            "marker": {
             "colorbar": {
              "outlinewidth": 0,
              "ticks": ""
             }
            },
            "type": "scatter3d"
           }
          ],
          "scattercarpet": [
           {
            "marker": {
             "colorbar": {
              "outlinewidth": 0,
              "ticks": ""
             }
            },
            "type": "scattercarpet"
           }
          ],
          "scattergeo": [
           {
            "marker": {
             "colorbar": {
              "outlinewidth": 0,
              "ticks": ""
             }
            },
            "type": "scattergeo"
           }
          ],
          "scattergl": [
           {
            "marker": {
             "colorbar": {
              "outlinewidth": 0,
              "ticks": ""
             }
            },
            "type": "scattergl"
           }
          ],
          "scattermapbox": [
           {
            "marker": {
             "colorbar": {
              "outlinewidth": 0,
              "ticks": ""
             }
            },
            "type": "scattermapbox"
           }
          ],
          "scatterpolar": [
           {
            "marker": {
             "colorbar": {
              "outlinewidth": 0,
              "ticks": ""
             }
            },
            "type": "scatterpolar"
           }
          ],
          "scatterpolargl": [
           {
            "marker": {
             "colorbar": {
              "outlinewidth": 0,
              "ticks": ""
             }
            },
            "type": "scatterpolargl"
           }
          ],
          "scatterternary": [
           {
            "marker": {
             "colorbar": {
              "outlinewidth": 0,
              "ticks": ""
             }
            },
            "type": "scatterternary"
           }
          ],
          "surface": [
           {
            "colorbar": {
             "outlinewidth": 0,
             "ticks": ""
            },
            "colorscale": [
             [
              0,
              "#0d0887"
             ],
             [
              0.1111111111111111,
              "#46039f"
             ],
             [
              0.2222222222222222,
              "#7201a8"
             ],
             [
              0.3333333333333333,
              "#9c179e"
             ],
             [
              0.4444444444444444,
              "#bd3786"
             ],
             [
              0.5555555555555556,
              "#d8576b"
             ],
             [
              0.6666666666666666,
              "#ed7953"
             ],
             [
              0.7777777777777778,
              "#fb9f3a"
             ],
             [
              0.8888888888888888,
              "#fdca26"
             ],
             [
              1,
              "#f0f921"
             ]
            ],
            "type": "surface"
           }
          ],
          "table": [
           {
            "cells": {
             "fill": {
              "color": "#EBF0F8"
             },
             "line": {
              "color": "white"
             }
            },
            "header": {
             "fill": {
              "color": "#C8D4E3"
             },
             "line": {
              "color": "white"
             }
            },
            "type": "table"
           }
          ]
         },
         "layout": {
          "annotationdefaults": {
           "arrowcolor": "#2a3f5f",
           "arrowhead": 0,
           "arrowwidth": 1
          },
          "autotypenumbers": "strict",
          "coloraxis": {
           "colorbar": {
            "outlinewidth": 0,
            "ticks": ""
           }
          },
          "colorscale": {
           "diverging": [
            [
             0,
             "#8e0152"
            ],
            [
             0.1,
             "#c51b7d"
            ],
            [
             0.2,
             "#de77ae"
            ],
            [
             0.3,
             "#f1b6da"
            ],
            [
             0.4,
             "#fde0ef"
            ],
            [
             0.5,
             "#f7f7f7"
            ],
            [
             0.6,
             "#e6f5d0"
            ],
            [
             0.7,
             "#b8e186"
            ],
            [
             0.8,
             "#7fbc41"
            ],
            [
             0.9,
             "#4d9221"
            ],
            [
             1,
             "#276419"
            ]
           ],
           "sequential": [
            [
             0,
             "#0d0887"
            ],
            [
             0.1111111111111111,
             "#46039f"
            ],
            [
             0.2222222222222222,
             "#7201a8"
            ],
            [
             0.3333333333333333,
             "#9c179e"
            ],
            [
             0.4444444444444444,
             "#bd3786"
            ],
            [
             0.5555555555555556,
             "#d8576b"
            ],
            [
             0.6666666666666666,
             "#ed7953"
            ],
            [
             0.7777777777777778,
             "#fb9f3a"
            ],
            [
             0.8888888888888888,
             "#fdca26"
            ],
            [
             1,
             "#f0f921"
            ]
           ],
           "sequentialminus": [
            [
             0,
             "#0d0887"
            ],
            [
             0.1111111111111111,
             "#46039f"
            ],
            [
             0.2222222222222222,
             "#7201a8"
            ],
            [
             0.3333333333333333,
             "#9c179e"
            ],
            [
             0.4444444444444444,
             "#bd3786"
            ],
            [
             0.5555555555555556,
             "#d8576b"
            ],
            [
             0.6666666666666666,
             "#ed7953"
            ],
            [
             0.7777777777777778,
             "#fb9f3a"
            ],
            [
             0.8888888888888888,
             "#fdca26"
            ],
            [
             1,
             "#f0f921"
            ]
           ]
          },
          "colorway": [
           "#636efa",
           "#EF553B",
           "#00cc96",
           "#ab63fa",
           "#FFA15A",
           "#19d3f3",
           "#FF6692",
           "#B6E880",
           "#FF97FF",
           "#FECB52"
          ],
          "font": {
           "color": "#2a3f5f"
          },
          "geo": {
           "bgcolor": "white",
           "lakecolor": "white",
           "landcolor": "#E5ECF6",
           "showlakes": true,
           "showland": true,
           "subunitcolor": "white"
          },
          "hoverlabel": {
           "align": "left"
          },
          "hovermode": "closest",
          "mapbox": {
           "style": "light"
          },
          "paper_bgcolor": "white",
          "plot_bgcolor": "#E5ECF6",
          "polar": {
           "angularaxis": {
            "gridcolor": "white",
            "linecolor": "white",
            "ticks": ""
           },
           "bgcolor": "#E5ECF6",
           "radialaxis": {
            "gridcolor": "white",
            "linecolor": "white",
            "ticks": ""
           }
          },
          "scene": {
           "xaxis": {
            "backgroundcolor": "#E5ECF6",
            "gridcolor": "white",
            "gridwidth": 2,
            "linecolor": "white",
            "showbackground": true,
            "ticks": "",
            "zerolinecolor": "white"
           },
           "yaxis": {
            "backgroundcolor": "#E5ECF6",
            "gridcolor": "white",
            "gridwidth": 2,
            "linecolor": "white",
            "showbackground": true,
            "ticks": "",
            "zerolinecolor": "white"
           },
           "zaxis": {
            "backgroundcolor": "#E5ECF6",
            "gridcolor": "white",
            "gridwidth": 2,
            "linecolor": "white",
            "showbackground": true,
            "ticks": "",
            "zerolinecolor": "white"
           }
          },
          "shapedefaults": {
           "line": {
            "color": "#2a3f5f"
           }
          },
          "ternary": {
           "aaxis": {
            "gridcolor": "white",
            "linecolor": "white",
            "ticks": ""
           },
           "baxis": {
            "gridcolor": "white",
            "linecolor": "white",
            "ticks": ""
           },
           "bgcolor": "#E5ECF6",
           "caxis": {
            "gridcolor": "white",
            "linecolor": "white",
            "ticks": ""
           }
          },
          "title": {
           "x": 0.05
          },
          "xaxis": {
           "automargin": true,
           "gridcolor": "white",
           "linecolor": "white",
           "ticks": "",
           "title": {
            "standoff": 15
           },
           "zerolinecolor": "white",
           "zerolinewidth": 2
          },
          "yaxis": {
           "automargin": true,
           "gridcolor": "white",
           "linecolor": "white",
           "ticks": "",
           "title": {
            "standoff": 15
           },
           "zerolinecolor": "white",
           "zerolinewidth": 2
          }
         }
        },
        "title": {
         "text": "Growth in KN v SPY"
        },
        "width": 800,
        "xaxis": {
         "anchor": "y",
         "domain": [
          0,
          1
         ],
         "title": {
          "text": "date"
         }
        },
        "yaxis": {
         "anchor": "x",
         "domain": [
          0,
          1
         ],
         "title": {
          "text": "value"
         }
        }
       }
      }
     },
     "metadata": {},
     "output_type": "display_data"
    },
    {
     "name": "stdout",
     "output_type": "stream",
     "text": [
      "this one has a bit of a pop, but also not a great trade\n"
     ]
    }
   ],
   "source": [
    "graphAlpha(\"KN\", \"2015-04-24\")\n",
    "print(\"this one has a bit of a pop, but also not a great trade\")"
   ]
  },
  {
   "cell_type": "code",
   "execution_count": 32,
   "metadata": {},
   "outputs": [
    {
     "data": {
      "text/html": [
       "<div>\n",
       "<style scoped>\n",
       "    .dataframe tbody tr th:only-of-type {\n",
       "        vertical-align: middle;\n",
       "    }\n",
       "\n",
       "    .dataframe tbody tr th {\n",
       "        vertical-align: top;\n",
       "    }\n",
       "\n",
       "    .dataframe thead th {\n",
       "        text-align: right;\n",
       "    }\n",
       "</style>\n",
       "<table border=\"1\" class=\"dataframe\">\n",
       "  <thead>\n",
       "    <tr style=\"text-align: right;\">\n",
       "      <th></th>\n",
       "      <th>transaction_date</th>\n",
       "      <th>owner</th>\n",
       "      <th>ticker</th>\n",
       "      <th>asset_description</th>\n",
       "      <th>asset_type</th>\n",
       "      <th>type</th>\n",
       "    </tr>\n",
       "  </thead>\n",
       "  <tbody>\n",
       "    <tr>\n",
       "      <th>8209</th>\n",
       "      <td>2015-04-02</td>\n",
       "      <td>Joint</td>\n",
       "      <td>FOX</td>\n",
       "      <td>Twenty-First Century Fox, Inc. (NASDAQ)</td>\n",
       "      <td>Stock</td>\n",
       "      <td>Purchase</td>\n",
       "    </tr>\n",
       "    <tr>\n",
       "      <th>8210</th>\n",
       "      <td>2015-04-02</td>\n",
       "      <td>Joint</td>\n",
       "      <td>AVP</td>\n",
       "      <td>Avon Products Inc. (NYSE)</td>\n",
       "      <td>Stock</td>\n",
       "      <td>Purchase</td>\n",
       "    </tr>\n",
       "    <tr>\n",
       "      <th>8211</th>\n",
       "      <td>2015-04-02</td>\n",
       "      <td>Joint</td>\n",
       "      <td>JNJ</td>\n",
       "      <td>Johnson &amp; Johnson (NYSE)</td>\n",
       "      <td>Stock</td>\n",
       "      <td>Purchase</td>\n",
       "    </tr>\n",
       "    <tr>\n",
       "      <th>8212</th>\n",
       "      <td>2015-04-02</td>\n",
       "      <td>Joint</td>\n",
       "      <td>KO</td>\n",
       "      <td>The Coca-Cola Company (NYSE)</td>\n",
       "      <td>Stock</td>\n",
       "      <td>Purchase</td>\n",
       "    </tr>\n",
       "    <tr>\n",
       "      <th>8213</th>\n",
       "      <td>2015-05-06</td>\n",
       "      <td>Joint</td>\n",
       "      <td>SYY</td>\n",
       "      <td>Sysco Corporation (NYSE)</td>\n",
       "      <td>Stock</td>\n",
       "      <td>Purchase</td>\n",
       "    </tr>\n",
       "    <tr>\n",
       "      <th>8214</th>\n",
       "      <td>2015-05-11</td>\n",
       "      <td>Joint</td>\n",
       "      <td>FOX</td>\n",
       "      <td>Twenty-First Century Fox, Inc. (NASDAQ)</td>\n",
       "      <td>Stock</td>\n",
       "      <td>Purchase</td>\n",
       "    </tr>\n",
       "    <tr>\n",
       "      <th>8215</th>\n",
       "      <td>2015-05-12</td>\n",
       "      <td>Joint</td>\n",
       "      <td>FOX</td>\n",
       "      <td>Twenty-First Century Fox, Inc. (NASDAQ)</td>\n",
       "      <td>Stock</td>\n",
       "      <td>Purchase</td>\n",
       "    </tr>\n",
       "    <tr>\n",
       "      <th>8216</th>\n",
       "      <td>2015-01-07</td>\n",
       "      <td>Joint</td>\n",
       "      <td>AM</td>\n",
       "      <td>Antero Midstream Partners LP (NYSE)</td>\n",
       "      <td>Stock</td>\n",
       "      <td>Purchase</td>\n",
       "    </tr>\n",
       "    <tr>\n",
       "      <th>8217</th>\n",
       "      <td>2015-01-14</td>\n",
       "      <td>Joint</td>\n",
       "      <td>AR</td>\n",
       "      <td>Antero Resources Corporation (NYSE)</td>\n",
       "      <td>Stock</td>\n",
       "      <td>Purchase</td>\n",
       "    </tr>\n",
       "    <tr>\n",
       "      <th>8218</th>\n",
       "      <td>2015-01-15</td>\n",
       "      <td>Joint</td>\n",
       "      <td>BPL</td>\n",
       "      <td>Buckeye Partners, L.P. (NYSE)</td>\n",
       "      <td>Stock</td>\n",
       "      <td>Purchase</td>\n",
       "    </tr>\n",
       "  </tbody>\n",
       "</table>\n",
       "</div>"
      ],
      "text/plain": [
       "     transaction_date  owner ticker                        asset_description  \\\n",
       "8209       2015-04-02  Joint    FOX  Twenty-First Century Fox, Inc. (NASDAQ)   \n",
       "8210       2015-04-02  Joint    AVP                Avon Products Inc. (NYSE)   \n",
       "8211       2015-04-02  Joint    JNJ                 Johnson & Johnson (NYSE)   \n",
       "8212       2015-04-02  Joint     KO             The Coca-Cola Company (NYSE)   \n",
       "8213       2015-05-06  Joint    SYY                 Sysco Corporation (NYSE)   \n",
       "8214       2015-05-11  Joint    FOX  Twenty-First Century Fox, Inc. (NASDAQ)   \n",
       "8215       2015-05-12  Joint    FOX  Twenty-First Century Fox, Inc. (NASDAQ)   \n",
       "8216       2015-01-07  Joint     AM      Antero Midstream Partners LP (NYSE)   \n",
       "8217       2015-01-14  Joint     AR      Antero Resources Corporation (NYSE)   \n",
       "8218       2015-01-15  Joint    BPL            Buckeye Partners, L.P. (NYSE)   \n",
       "\n",
       "     asset_type      type  \n",
       "8209      Stock  Purchase  \n",
       "8210      Stock  Purchase  \n",
       "8211      Stock  Purchase  \n",
       "8212      Stock  Purchase  \n",
       "8213      Stock  Purchase  \n",
       "8214      Stock  Purchase  \n",
       "8215      Stock  Purchase  \n",
       "8216      Stock  Purchase  \n",
       "8217      Stock  Purchase  \n",
       "8218      Stock  Purchase  "
      ]
     },
     "execution_count": 32,
     "metadata": {},
     "output_type": "execute_result"
    }
   ],
   "source": [
    "purchasesBySenator(136).iloc[-60:-50, :]"
   ]
  },
  {
   "cell_type": "code",
   "execution_count": 33,
   "metadata": {},
   "outputs": [
    {
     "data": {
      "application/vnd.plotly.v1+json": {
       "config": {
        "plotlyServerURL": "https://plot.ly"
       },
       "data": [
        {
         "hovertemplate": "variable=AM_growth<br>date=%{x}<br>value=%{y}<extra></extra>",
         "legendgroup": "AM_growth",
         "line": {
          "color": "#636efa",
          "dash": "solid"
         },
         "marker": {
          "symbol": "circle"
         },
         "mode": "lines",
         "name": "AM_growth",
         "orientation": "v",
         "showlegend": true,
         "type": "scatter",
         "x": [
          "2015-01-09",
          "2015-01-16",
          "2015-01-23",
          "2015-01-30",
          "2015-02-06",
          "2015-02-13",
          "2015-02-20",
          "2015-02-27",
          "2015-03-06",
          "2015-03-13",
          "2015-03-20",
          "2015-03-27",
          "2015-04-02",
          "2015-04-10",
          "2015-04-17",
          "2015-04-24",
          "2015-05-01",
          "2015-05-08",
          "2015-05-15",
          "2015-05-22",
          "2015-05-29",
          "2015-06-05",
          "2015-06-12",
          "2015-06-19",
          "2015-06-26",
          "2015-07-02",
          "2015-07-10",
          "2015-07-17",
          "2015-07-24",
          "2015-07-31",
          "2015-08-07",
          "2015-08-14",
          "2015-08-21",
          "2015-08-28",
          "2015-09-04",
          "2015-09-11",
          "2015-09-18",
          "2015-09-25",
          "2015-10-02",
          "2015-10-09",
          "2015-10-16",
          "2015-10-23",
          "2015-10-30",
          "2015-11-06",
          "2015-11-13",
          "2015-11-20",
          "2015-11-27",
          "2015-12-04",
          "2015-12-11",
          "2015-12-18",
          "2015-12-24",
          "2015-12-31",
          "2016-01-08"
         ],
         "xaxis": "x",
         "y": [
          null,
          100,
          100.44548841730115,
          104.64027935273683,
          109.45965404899472,
          109.6315495797109,
          112.81296686286154,
          116.48667134654498,
          116.44167251651456,
          109.09426354914771,
          112.90206454632177,
          108.91516820562664,
          109.90064258329282,
          112.9020645463218,
          112.76796803283115,
          112.23068200226794,
          113.84344007055816,
          118.00943175477437,
          120.99825404539479,
          122.7577082995842,
          128.57785697571862,
          130.83409831344383,
          132.00676782403656,
          130.15731590978635,
          131.6458772071926,
          128.93874759256258,
          126.14162031787171,
          124.92395197724858,
          123.38949187321127,
          120.3673704483683,
          101.82515254603376,
          102.45603614306023,
          99.40781539679963,
          104.82207462605967,
          103.63860539625966,
          95.3129218640315,
          95.54061594398542,
          87.30583004841871,
          89.35327681480278,
          108.59747646561186,
          115.01250967474842,
          104.8670734560901,
          108.37068236225853,
          107.02791727415084,
          104.27488885288979,
          102.48483539427971,
          103.4487103335313,
          94.91153230016016,
          95.87540723941176,
          90.64384326007522,
          101.70455568155225,
          104.73387691920007,
          94.17715139406373
         ],
         "yaxis": "y"
        },
        {
         "hovertemplate": "variable=SPY_growth<br>date=%{x}<br>value=%{y}<extra></extra>",
         "legendgroup": "SPY_growth",
         "line": {
          "color": "#EF553B",
          "dash": "solid"
         },
         "marker": {
          "symbol": "circle"
         },
         "mode": "lines",
         "name": "SPY_growth",
         "orientation": "v",
         "showlegend": true,
         "type": "scatter",
         "x": [
          "2015-01-09",
          "2015-01-16",
          "2015-01-23",
          "2015-01-30",
          "2015-02-06",
          "2015-02-13",
          "2015-02-20",
          "2015-02-27",
          "2015-03-06",
          "2015-03-13",
          "2015-03-20",
          "2015-03-27",
          "2015-04-02",
          "2015-04-10",
          "2015-04-17",
          "2015-04-24",
          "2015-05-01",
          "2015-05-08",
          "2015-05-15",
          "2015-05-22",
          "2015-05-29",
          "2015-06-05",
          "2015-06-12",
          "2015-06-19",
          "2015-06-26",
          "2015-07-02",
          "2015-07-10",
          "2015-07-17",
          "2015-07-24",
          "2015-07-31",
          "2015-08-07",
          "2015-08-14",
          "2015-08-21",
          "2015-08-28",
          "2015-09-04",
          "2015-09-11",
          "2015-09-18",
          "2015-09-25",
          "2015-10-02",
          "2015-10-09",
          "2015-10-16",
          "2015-10-23",
          "2015-10-30",
          "2015-11-06",
          "2015-11-13",
          "2015-11-20",
          "2015-11-27",
          "2015-12-04",
          "2015-12-11",
          "2015-12-18",
          "2015-12-24",
          "2015-12-31",
          "2016-01-08"
         ],
         "xaxis": "x",
         "y": [
          null,
          100,
          101.6564866286917,
          98.91879989934344,
          101.94415848832155,
          104.04204698831012,
          104.7661450826985,
          104.47847322306866,
          102.911262095944,
          102.08301878159816,
          104.81613021298013,
          102.48976277080045,
          102.83851485828015,
          104.6318600873882,
          103.5906938439366,
          105.43385262965252,
          104.97060371056668,
          105.41892572003755,
          105.8273854459772,
          106.10138860293279,
          105.17980921007482,
          104.49734632717957,
          104.57701370301741,
          105.5285612975545,
          105.07303319378674,
          103.78148376913047,
          103.86160867476495,
          106.35949259945556,
          104.091860544918,
          105.34835174890766,
          104.08185208061677,
          104.80269027520417,
          98.93081005650492,
          99.73674879326515,
          96.40787637544895,
          98.48529041703841,
          98.31182943289184,
          97.05876970237689,
          98.13064763342716,
          101.31614165122507,
          102.29239585478007,
          104.43111888911768,
          104.63746482739691,
          105.69927710292134,
          101.92505661931234,
          105.33193786745365,
          105.45775856152633,
          105.48795552810378,
          101.59288998696042,
          101.26655685951548,
          104.13212316702126,
          103.21574817559993,
          97.16571729233866
         ],
         "yaxis": "y"
        }
       ],
       "layout": {
        "height": 500,
        "legend": {
         "title": {
          "text": "variable"
         },
         "tracegroupgap": 0
        },
        "template": {
         "data": {
          "bar": [
           {
            "error_x": {
             "color": "#2a3f5f"
            },
            "error_y": {
             "color": "#2a3f5f"
            },
            "marker": {
             "line": {
              "color": "#E5ECF6",
              "width": 0.5
             },
             "pattern": {
              "fillmode": "overlay",
              "size": 10,
              "solidity": 0.2
             }
            },
            "type": "bar"
           }
          ],
          "barpolar": [
           {
            "marker": {
             "line": {
              "color": "#E5ECF6",
              "width": 0.5
             },
             "pattern": {
              "fillmode": "overlay",
              "size": 10,
              "solidity": 0.2
             }
            },
            "type": "barpolar"
           }
          ],
          "carpet": [
           {
            "aaxis": {
             "endlinecolor": "#2a3f5f",
             "gridcolor": "white",
             "linecolor": "white",
             "minorgridcolor": "white",
             "startlinecolor": "#2a3f5f"
            },
            "baxis": {
             "endlinecolor": "#2a3f5f",
             "gridcolor": "white",
             "linecolor": "white",
             "minorgridcolor": "white",
             "startlinecolor": "#2a3f5f"
            },
            "type": "carpet"
           }
          ],
          "choropleth": [
           {
            "colorbar": {
             "outlinewidth": 0,
             "ticks": ""
            },
            "type": "choropleth"
           }
          ],
          "contour": [
           {
            "colorbar": {
             "outlinewidth": 0,
             "ticks": ""
            },
            "colorscale": [
             [
              0,
              "#0d0887"
             ],
             [
              0.1111111111111111,
              "#46039f"
             ],
             [
              0.2222222222222222,
              "#7201a8"
             ],
             [
              0.3333333333333333,
              "#9c179e"
             ],
             [
              0.4444444444444444,
              "#bd3786"
             ],
             [
              0.5555555555555556,
              "#d8576b"
             ],
             [
              0.6666666666666666,
              "#ed7953"
             ],
             [
              0.7777777777777778,
              "#fb9f3a"
             ],
             [
              0.8888888888888888,
              "#fdca26"
             ],
             [
              1,
              "#f0f921"
             ]
            ],
            "type": "contour"
           }
          ],
          "contourcarpet": [
           {
            "colorbar": {
             "outlinewidth": 0,
             "ticks": ""
            },
            "type": "contourcarpet"
           }
          ],
          "heatmap": [
           {
            "colorbar": {
             "outlinewidth": 0,
             "ticks": ""
            },
            "colorscale": [
             [
              0,
              "#0d0887"
             ],
             [
              0.1111111111111111,
              "#46039f"
             ],
             [
              0.2222222222222222,
              "#7201a8"
             ],
             [
              0.3333333333333333,
              "#9c179e"
             ],
             [
              0.4444444444444444,
              "#bd3786"
             ],
             [
              0.5555555555555556,
              "#d8576b"
             ],
             [
              0.6666666666666666,
              "#ed7953"
             ],
             [
              0.7777777777777778,
              "#fb9f3a"
             ],
             [
              0.8888888888888888,
              "#fdca26"
             ],
             [
              1,
              "#f0f921"
             ]
            ],
            "type": "heatmap"
           }
          ],
          "heatmapgl": [
           {
            "colorbar": {
             "outlinewidth": 0,
             "ticks": ""
            },
            "colorscale": [
             [
              0,
              "#0d0887"
             ],
             [
              0.1111111111111111,
              "#46039f"
             ],
             [
              0.2222222222222222,
              "#7201a8"
             ],
             [
              0.3333333333333333,
              "#9c179e"
             ],
             [
              0.4444444444444444,
              "#bd3786"
             ],
             [
              0.5555555555555556,
              "#d8576b"
             ],
             [
              0.6666666666666666,
              "#ed7953"
             ],
             [
              0.7777777777777778,
              "#fb9f3a"
             ],
             [
              0.8888888888888888,
              "#fdca26"
             ],
             [
              1,
              "#f0f921"
             ]
            ],
            "type": "heatmapgl"
           }
          ],
          "histogram": [
           {
            "marker": {
             "pattern": {
              "fillmode": "overlay",
              "size": 10,
              "solidity": 0.2
             }
            },
            "type": "histogram"
           }
          ],
          "histogram2d": [
           {
            "colorbar": {
             "outlinewidth": 0,
             "ticks": ""
            },
            "colorscale": [
             [
              0,
              "#0d0887"
             ],
             [
              0.1111111111111111,
              "#46039f"
             ],
             [
              0.2222222222222222,
              "#7201a8"
             ],
             [
              0.3333333333333333,
              "#9c179e"
             ],
             [
              0.4444444444444444,
              "#bd3786"
             ],
             [
              0.5555555555555556,
              "#d8576b"
             ],
             [
              0.6666666666666666,
              "#ed7953"
             ],
             [
              0.7777777777777778,
              "#fb9f3a"
             ],
             [
              0.8888888888888888,
              "#fdca26"
             ],
             [
              1,
              "#f0f921"
             ]
            ],
            "type": "histogram2d"
           }
          ],
          "histogram2dcontour": [
           {
            "colorbar": {
             "outlinewidth": 0,
             "ticks": ""
            },
            "colorscale": [
             [
              0,
              "#0d0887"
             ],
             [
              0.1111111111111111,
              "#46039f"
             ],
             [
              0.2222222222222222,
              "#7201a8"
             ],
             [
              0.3333333333333333,
              "#9c179e"
             ],
             [
              0.4444444444444444,
              "#bd3786"
             ],
             [
              0.5555555555555556,
              "#d8576b"
             ],
             [
              0.6666666666666666,
              "#ed7953"
             ],
             [
              0.7777777777777778,
              "#fb9f3a"
             ],
             [
              0.8888888888888888,
              "#fdca26"
             ],
             [
              1,
              "#f0f921"
             ]
            ],
            "type": "histogram2dcontour"
           }
          ],
          "mesh3d": [
           {
            "colorbar": {
             "outlinewidth": 0,
             "ticks": ""
            },
            "type": "mesh3d"
           }
          ],
          "parcoords": [
           {
            "line": {
             "colorbar": {
              "outlinewidth": 0,
              "ticks": ""
             }
            },
            "type": "parcoords"
           }
          ],
          "pie": [
           {
            "automargin": true,
            "type": "pie"
           }
          ],
          "scatter": [
           {
            "fillpattern": {
             "fillmode": "overlay",
             "size": 10,
             "solidity": 0.2
            },
            "type": "scatter"
           }
          ],
          "scatter3d": [
           {
            "line": {
             "colorbar": {
              "outlinewidth": 0,
              "ticks": ""
             }
            },
            "marker": {
             "colorbar": {
              "outlinewidth": 0,
              "ticks": ""
             }
            },
            "type": "scatter3d"
           }
          ],
          "scattercarpet": [
           {
            "marker": {
             "colorbar": {
              "outlinewidth": 0,
              "ticks": ""
             }
            },
            "type": "scattercarpet"
           }
          ],
          "scattergeo": [
           {
            "marker": {
             "colorbar": {
              "outlinewidth": 0,
              "ticks": ""
             }
            },
            "type": "scattergeo"
           }
          ],
          "scattergl": [
           {
            "marker": {
             "colorbar": {
              "outlinewidth": 0,
              "ticks": ""
             }
            },
            "type": "scattergl"
           }
          ],
          "scattermapbox": [
           {
            "marker": {
             "colorbar": {
              "outlinewidth": 0,
              "ticks": ""
             }
            },
            "type": "scattermapbox"
           }
          ],
          "scatterpolar": [
           {
            "marker": {
             "colorbar": {
              "outlinewidth": 0,
              "ticks": ""
             }
            },
            "type": "scatterpolar"
           }
          ],
          "scatterpolargl": [
           {
            "marker": {
             "colorbar": {
              "outlinewidth": 0,
              "ticks": ""
             }
            },
            "type": "scatterpolargl"
           }
          ],
          "scatterternary": [
           {
            "marker": {
             "colorbar": {
              "outlinewidth": 0,
              "ticks": ""
             }
            },
            "type": "scatterternary"
           }
          ],
          "surface": [
           {
            "colorbar": {
             "outlinewidth": 0,
             "ticks": ""
            },
            "colorscale": [
             [
              0,
              "#0d0887"
             ],
             [
              0.1111111111111111,
              "#46039f"
             ],
             [
              0.2222222222222222,
              "#7201a8"
             ],
             [
              0.3333333333333333,
              "#9c179e"
             ],
             [
              0.4444444444444444,
              "#bd3786"
             ],
             [
              0.5555555555555556,
              "#d8576b"
             ],
             [
              0.6666666666666666,
              "#ed7953"
             ],
             [
              0.7777777777777778,
              "#fb9f3a"
             ],
             [
              0.8888888888888888,
              "#fdca26"
             ],
             [
              1,
              "#f0f921"
             ]
            ],
            "type": "surface"
           }
          ],
          "table": [
           {
            "cells": {
             "fill": {
              "color": "#EBF0F8"
             },
             "line": {
              "color": "white"
             }
            },
            "header": {
             "fill": {
              "color": "#C8D4E3"
             },
             "line": {
              "color": "white"
             }
            },
            "type": "table"
           }
          ]
         },
         "layout": {
          "annotationdefaults": {
           "arrowcolor": "#2a3f5f",
           "arrowhead": 0,
           "arrowwidth": 1
          },
          "autotypenumbers": "strict",
          "coloraxis": {
           "colorbar": {
            "outlinewidth": 0,
            "ticks": ""
           }
          },
          "colorscale": {
           "diverging": [
            [
             0,
             "#8e0152"
            ],
            [
             0.1,
             "#c51b7d"
            ],
            [
             0.2,
             "#de77ae"
            ],
            [
             0.3,
             "#f1b6da"
            ],
            [
             0.4,
             "#fde0ef"
            ],
            [
             0.5,
             "#f7f7f7"
            ],
            [
             0.6,
             "#e6f5d0"
            ],
            [
             0.7,
             "#b8e186"
            ],
            [
             0.8,
             "#7fbc41"
            ],
            [
             0.9,
             "#4d9221"
            ],
            [
             1,
             "#276419"
            ]
           ],
           "sequential": [
            [
             0,
             "#0d0887"
            ],
            [
             0.1111111111111111,
             "#46039f"
            ],
            [
             0.2222222222222222,
             "#7201a8"
            ],
            [
             0.3333333333333333,
             "#9c179e"
            ],
            [
             0.4444444444444444,
             "#bd3786"
            ],
            [
             0.5555555555555556,
             "#d8576b"
            ],
            [
             0.6666666666666666,
             "#ed7953"
            ],
            [
             0.7777777777777778,
             "#fb9f3a"
            ],
            [
             0.8888888888888888,
             "#fdca26"
            ],
            [
             1,
             "#f0f921"
            ]
           ],
           "sequentialminus": [
            [
             0,
             "#0d0887"
            ],
            [
             0.1111111111111111,
             "#46039f"
            ],
            [
             0.2222222222222222,
             "#7201a8"
            ],
            [
             0.3333333333333333,
             "#9c179e"
            ],
            [
             0.4444444444444444,
             "#bd3786"
            ],
            [
             0.5555555555555556,
             "#d8576b"
            ],
            [
             0.6666666666666666,
             "#ed7953"
            ],
            [
             0.7777777777777778,
             "#fb9f3a"
            ],
            [
             0.8888888888888888,
             "#fdca26"
            ],
            [
             1,
             "#f0f921"
            ]
           ]
          },
          "colorway": [
           "#636efa",
           "#EF553B",
           "#00cc96",
           "#ab63fa",
           "#FFA15A",
           "#19d3f3",
           "#FF6692",
           "#B6E880",
           "#FF97FF",
           "#FECB52"
          ],
          "font": {
           "color": "#2a3f5f"
          },
          "geo": {
           "bgcolor": "white",
           "lakecolor": "white",
           "landcolor": "#E5ECF6",
           "showlakes": true,
           "showland": true,
           "subunitcolor": "white"
          },
          "hoverlabel": {
           "align": "left"
          },
          "hovermode": "closest",
          "mapbox": {
           "style": "light"
          },
          "paper_bgcolor": "white",
          "plot_bgcolor": "#E5ECF6",
          "polar": {
           "angularaxis": {
            "gridcolor": "white",
            "linecolor": "white",
            "ticks": ""
           },
           "bgcolor": "#E5ECF6",
           "radialaxis": {
            "gridcolor": "white",
            "linecolor": "white",
            "ticks": ""
           }
          },
          "scene": {
           "xaxis": {
            "backgroundcolor": "#E5ECF6",
            "gridcolor": "white",
            "gridwidth": 2,
            "linecolor": "white",
            "showbackground": true,
            "ticks": "",
            "zerolinecolor": "white"
           },
           "yaxis": {
            "backgroundcolor": "#E5ECF6",
            "gridcolor": "white",
            "gridwidth": 2,
            "linecolor": "white",
            "showbackground": true,
            "ticks": "",
            "zerolinecolor": "white"
           },
           "zaxis": {
            "backgroundcolor": "#E5ECF6",
            "gridcolor": "white",
            "gridwidth": 2,
            "linecolor": "white",
            "showbackground": true,
            "ticks": "",
            "zerolinecolor": "white"
           }
          },
          "shapedefaults": {
           "line": {
            "color": "#2a3f5f"
           }
          },
          "ternary": {
           "aaxis": {
            "gridcolor": "white",
            "linecolor": "white",
            "ticks": ""
           },
           "baxis": {
            "gridcolor": "white",
            "linecolor": "white",
            "ticks": ""
           },
           "bgcolor": "#E5ECF6",
           "caxis": {
            "gridcolor": "white",
            "linecolor": "white",
            "ticks": ""
           }
          },
          "title": {
           "x": 0.05
          },
          "xaxis": {
           "automargin": true,
           "gridcolor": "white",
           "linecolor": "white",
           "ticks": "",
           "title": {
            "standoff": 15
           },
           "zerolinecolor": "white",
           "zerolinewidth": 2
          },
          "yaxis": {
           "automargin": true,
           "gridcolor": "white",
           "linecolor": "white",
           "ticks": "",
           "title": {
            "standoff": 15
           },
           "zerolinecolor": "white",
           "zerolinewidth": 2
          }
         }
        },
        "title": {
         "text": "Growth in AM v SPY"
        },
        "width": 800,
        "xaxis": {
         "anchor": "y",
         "domain": [
          0,
          1
         ],
         "title": {
          "text": "date"
         }
        },
        "yaxis": {
         "anchor": "x",
         "domain": [
          0,
          1
         ],
         "title": {
          "text": "value"
         }
        }
       }
      }
     },
     "metadata": {},
     "output_type": "display_data"
    }
   ],
   "source": [
    "graphAlpha(\"AM\", \"2015-01-15\")"
   ]
  },
  {
   "cell_type": "code",
   "execution_count": 34,
   "metadata": {},
   "outputs": [
    {
     "data": {
      "text/html": [
       "<div>\n",
       "<style scoped>\n",
       "    .dataframe tbody tr th:only-of-type {\n",
       "        vertical-align: middle;\n",
       "    }\n",
       "\n",
       "    .dataframe tbody tr th {\n",
       "        vertical-align: top;\n",
       "    }\n",
       "\n",
       "    .dataframe thead th {\n",
       "        text-align: right;\n",
       "    }\n",
       "</style>\n",
       "<table border=\"1\" class=\"dataframe\">\n",
       "  <thead>\n",
       "    <tr style=\"text-align: right;\">\n",
       "      <th></th>\n",
       "      <th>transaction_date</th>\n",
       "      <th>owner</th>\n",
       "      <th>ticker</th>\n",
       "      <th>asset_description</th>\n",
       "      <th>asset_type</th>\n",
       "      <th>type</th>\n",
       "    </tr>\n",
       "  </thead>\n",
       "  <tbody>\n",
       "    <tr>\n",
       "      <th>5676</th>\n",
       "      <td>2020-03-06</td>\n",
       "      <td>Joint</td>\n",
       "      <td>BRK-B</td>\n",
       "      <td>Berkshire Hathaway Inc.</td>\n",
       "      <td>Stock</td>\n",
       "      <td>Purchase</td>\n",
       "    </tr>\n",
       "    <tr>\n",
       "      <th>5677</th>\n",
       "      <td>2020-03-06</td>\n",
       "      <td>Joint</td>\n",
       "      <td>BRK-B</td>\n",
       "      <td>Berkshire Hathaway Inc.</td>\n",
       "      <td>Stock</td>\n",
       "      <td>Purchase</td>\n",
       "    </tr>\n",
       "    <tr>\n",
       "      <th>5678</th>\n",
       "      <td>2020-03-09</td>\n",
       "      <td>Joint</td>\n",
       "      <td>BRK-B</td>\n",
       "      <td>Berkshire Hathaway Inc.</td>\n",
       "      <td>Stock</td>\n",
       "      <td>Purchase</td>\n",
       "    </tr>\n",
       "    <tr>\n",
       "      <th>5679</th>\n",
       "      <td>2020-03-10</td>\n",
       "      <td>Joint</td>\n",
       "      <td>MSM</td>\n",
       "      <td>MSC Industrial Direct Co., Inc.</td>\n",
       "      <td>Stock</td>\n",
       "      <td>Purchase</td>\n",
       "    </tr>\n",
       "    <tr>\n",
       "      <th>5680</th>\n",
       "      <td>2020-03-10</td>\n",
       "      <td>Joint</td>\n",
       "      <td>M</td>\n",
       "      <td>Macy's, Inc.</td>\n",
       "      <td>Stock</td>\n",
       "      <td>Purchase</td>\n",
       "    </tr>\n",
       "    <tr>\n",
       "      <th>5681</th>\n",
       "      <td>2020-03-10</td>\n",
       "      <td>Joint</td>\n",
       "      <td>NWSA</td>\n",
       "      <td>News Corporation</td>\n",
       "      <td>Stock</td>\n",
       "      <td>Purchase</td>\n",
       "    </tr>\n",
       "    <tr>\n",
       "      <th>5682</th>\n",
       "      <td>2020-03-10</td>\n",
       "      <td>Joint</td>\n",
       "      <td>FOXA</td>\n",
       "      <td>Fox Corporation</td>\n",
       "      <td>Stock</td>\n",
       "      <td>Purchase</td>\n",
       "    </tr>\n",
       "    <tr>\n",
       "      <th>5683</th>\n",
       "      <td>2020-03-10</td>\n",
       "      <td>Joint</td>\n",
       "      <td>EAF</td>\n",
       "      <td>GrafTech International Ltd.</td>\n",
       "      <td>Stock</td>\n",
       "      <td>Purchase</td>\n",
       "    </tr>\n",
       "    <tr>\n",
       "      <th>5684</th>\n",
       "      <td>2020-03-13</td>\n",
       "      <td>Joint</td>\n",
       "      <td>ENB</td>\n",
       "      <td>Enbridge Inc.</td>\n",
       "      <td>Stock</td>\n",
       "      <td>Purchase</td>\n",
       "    </tr>\n",
       "    <tr>\n",
       "      <th>5685</th>\n",
       "      <td>2020-03-13</td>\n",
       "      <td>Joint</td>\n",
       "      <td>TRP</td>\n",
       "      <td>TC Energy Corporation</td>\n",
       "      <td>Stock</td>\n",
       "      <td>Purchase</td>\n",
       "    </tr>\n",
       "  </tbody>\n",
       "</table>\n",
       "</div>"
      ],
      "text/plain": [
       "     transaction_date  owner ticker                asset_description  \\\n",
       "5676       2020-03-06  Joint  BRK-B          Berkshire Hathaway Inc.   \n",
       "5677       2020-03-06  Joint  BRK-B          Berkshire Hathaway Inc.   \n",
       "5678       2020-03-09  Joint  BRK-B          Berkshire Hathaway Inc.   \n",
       "5679       2020-03-10  Joint    MSM  MSC Industrial Direct Co., Inc.   \n",
       "5680       2020-03-10  Joint      M                     Macy's, Inc.   \n",
       "5681       2020-03-10  Joint   NWSA                 News Corporation   \n",
       "5682       2020-03-10  Joint   FOXA                  Fox Corporation   \n",
       "5683       2020-03-10  Joint    EAF      GrafTech International Ltd.   \n",
       "5684       2020-03-13  Joint    ENB                    Enbridge Inc.   \n",
       "5685       2020-03-13  Joint    TRP            TC Energy Corporation   \n",
       "\n",
       "     asset_type      type  \n",
       "5676      Stock  Purchase  \n",
       "5677      Stock  Purchase  \n",
       "5678      Stock  Purchase  \n",
       "5679      Stock  Purchase  \n",
       "5680      Stock  Purchase  \n",
       "5681      Stock  Purchase  \n",
       "5682      Stock  Purchase  \n",
       "5683      Stock  Purchase  \n",
       "5684      Stock  Purchase  \n",
       "5685      Stock  Purchase  "
      ]
     },
     "execution_count": 34,
     "metadata": {},
     "output_type": "execute_result"
    }
   ],
   "source": [
    "# purchasesBySenator(136).iloc[-90:-80, :]\n",
    "purchasesBySenator(136).iloc[20:30]"
   ]
  },
  {
   "cell_type": "code",
   "execution_count": 35,
   "metadata": {},
   "outputs": [
    {
     "data": {
      "application/vnd.plotly.v1+json": {
       "config": {
        "plotlyServerURL": "https://plot.ly"
       },
       "data": [
        {
         "hovertemplate": "variable=M_growth<br>date=%{x}<br>value=%{y}<extra></extra>",
         "legendgroup": "M_growth",
         "line": {
          "color": "#636efa",
          "dash": "solid"
         },
         "marker": {
          "symbol": "circle"
         },
         "mode": "lines",
         "name": "M_growth",
         "orientation": "v",
         "showlegend": true,
         "type": "scatter",
         "x": [
          "2020-03-06",
          "2020-03-13",
          "2020-03-20",
          "2020-03-27",
          "2020-04-03",
          "2020-04-09",
          "2020-04-17",
          "2020-04-24",
          "2020-05-01",
          "2020-05-08",
          "2020-05-15",
          "2020-05-22",
          "2020-05-29",
          "2020-06-05",
          "2020-06-12",
          "2020-06-19",
          "2020-06-26",
          "2020-07-02",
          "2020-07-10",
          "2020-07-17",
          "2020-07-24",
          "2020-07-31",
          "2020-08-07",
          "2020-08-14",
          "2020-08-21",
          "2020-08-28",
          "2020-09-04",
          "2020-09-11",
          "2020-09-18",
          "2020-09-25",
          "2020-10-02",
          "2020-10-09",
          "2020-10-16",
          "2020-10-23",
          "2020-10-30",
          "2020-11-06",
          "2020-11-13",
          "2020-11-20",
          "2020-11-27",
          "2020-12-04",
          "2020-12-11",
          "2020-12-18",
          "2020-12-24",
          "2020-12-31",
          "2021-01-08",
          "2021-01-15",
          "2021-01-22",
          "2021-01-29",
          "2021-02-05",
          "2021-02-12",
          "2021-02-19",
          "2021-02-26",
          "2021-03-05"
         ],
         "xaxis": "x",
         "y": [
          null,
          100,
          74.96933307508554,
          68.86693782684486,
          59.90057460132998,
          82.93885983601265,
          73.72328749435084,
          62.51533346245723,
          66.74930595906773,
          66.87455613661308,
          66.12692878817225,
          64.8821744463813,
          79.20330557169603,
          109.21557234166181,
          90.90967783588351,
          85.67886887468524,
          74.96933307508553,
          84.68332364904124,
          84.30886435534894,
          82.81490089741105,
          80.32410097488538,
          75.46775130737942,
          82.44173284266252,
          89.53967331654721,
          77.95855122990507,
          86.55045516172765,
          95.2676092710956,
          87.79650074246237,
          84.18490541674736,
          75.09329201368712,
          74.84408289754018,
          77.58409193621277,
          76.71250564917037,
          90.03809154884111,
          77.33488282006586,
          81.8180644328233,
          91.6560139453806,
          112.70320872877527,
          135.11911679256247,
          145.95261153076376,
          137.98308476983667,
          129.88830783136422,
          133.87307121182778,
          140.1007166376138,
          152.9265930660469,
          162.01820646910713,
          160.3989928336239,
          187.29808251016854,
          187.67125056491707,
          185.30570081993676,
          186.4264962231261,
          189.41571437794568,
          188.2949189747563
         ],
         "yaxis": "y"
        },
        {
         "hovertemplate": "variable=SPY_growth<br>date=%{x}<br>value=%{y}<extra></extra>",
         "legendgroup": "SPY_growth",
         "line": {
          "color": "#EF553B",
          "dash": "solid"
         },
         "marker": {
          "symbol": "circle"
         },
         "mode": "lines",
         "name": "SPY_growth",
         "orientation": "v",
         "showlegend": true,
         "type": "scatter",
         "x": [
          "2020-03-06",
          "2020-03-13",
          "2020-03-20",
          "2020-03-27",
          "2020-04-03",
          "2020-04-09",
          "2020-04-17",
          "2020-04-24",
          "2020-05-01",
          "2020-05-08",
          "2020-05-15",
          "2020-05-22",
          "2020-05-29",
          "2020-06-05",
          "2020-06-12",
          "2020-06-19",
          "2020-06-26",
          "2020-07-02",
          "2020-07-10",
          "2020-07-17",
          "2020-07-24",
          "2020-07-31",
          "2020-08-07",
          "2020-08-14",
          "2020-08-21",
          "2020-08-28",
          "2020-09-04",
          "2020-09-11",
          "2020-09-18",
          "2020-09-25",
          "2020-10-02",
          "2020-10-09",
          "2020-10-16",
          "2020-10-23",
          "2020-10-30",
          "2020-11-06",
          "2020-11-13",
          "2020-11-20",
          "2020-11-27",
          "2020-12-04",
          "2020-12-11",
          "2020-12-18",
          "2020-12-24",
          "2020-12-31",
          "2021-01-08",
          "2021-01-15",
          "2021-01-22",
          "2021-01-29",
          "2021-02-05",
          "2021-02-12",
          "2021-02-19",
          "2021-02-26",
          "2021-03-05"
         ],
         "xaxis": "x",
         "y": [
          null,
          100,
          85.47659850783437,
          94.67431704756946,
          92.72043655580802,
          103.93177186328305,
          107.08483870041792,
          105.71377479734274,
          105.64655209197214,
          109.25163634727413,
          106.95035449988713,
          110.37242852787318,
          113.68984770352809,
          119.30113987675709,
          113.64876931634548,
          115.8141705307762,
          112.59085538468223,
          117.1612623438808,
          119.17255172424495,
          120.72232018799086,
          120.40711435773032,
          122.5234464883216,
          125.54412377356385,
          126.39594755310132,
          127.38656119981479,
          131.5517312270995,
          128.54606559043106,
          125.3527737414847,
          124.57573667628914,
          123.85234589010543,
          125.77759951714471,
          130.67923248970718,
          130.8450200504423,
          130.27612899622116,
          123.02724827559994,
          131.92632422523218,
          134.91779279890832,
          133.87415350981655,
          137.0163592058644,
          139.34471632638972,
          138.00724438110504,
          139.6875792766325,
          139.61946440610117,
          141.4659359704701,
          144.25833534393743,
          142.15457110517542,
          144.8712915991401,
          140.02431344011904,
          146.698833746186,
          148.5641959380884,
          147.57664668475306,
          143.91779978107044,
          145.15507769982756
         ],
         "yaxis": "y"
        }
       ],
       "layout": {
        "height": 500,
        "legend": {
         "title": {
          "text": "variable"
         },
         "tracegroupgap": 0
        },
        "template": {
         "data": {
          "bar": [
           {
            "error_x": {
             "color": "#2a3f5f"
            },
            "error_y": {
             "color": "#2a3f5f"
            },
            "marker": {
             "line": {
              "color": "#E5ECF6",
              "width": 0.5
             },
             "pattern": {
              "fillmode": "overlay",
              "size": 10,
              "solidity": 0.2
             }
            },
            "type": "bar"
           }
          ],
          "barpolar": [
           {
            "marker": {
             "line": {
              "color": "#E5ECF6",
              "width": 0.5
             },
             "pattern": {
              "fillmode": "overlay",
              "size": 10,
              "solidity": 0.2
             }
            },
            "type": "barpolar"
           }
          ],
          "carpet": [
           {
            "aaxis": {
             "endlinecolor": "#2a3f5f",
             "gridcolor": "white",
             "linecolor": "white",
             "minorgridcolor": "white",
             "startlinecolor": "#2a3f5f"
            },
            "baxis": {
             "endlinecolor": "#2a3f5f",
             "gridcolor": "white",
             "linecolor": "white",
             "minorgridcolor": "white",
             "startlinecolor": "#2a3f5f"
            },
            "type": "carpet"
           }
          ],
          "choropleth": [
           {
            "colorbar": {
             "outlinewidth": 0,
             "ticks": ""
            },
            "type": "choropleth"
           }
          ],
          "contour": [
           {
            "colorbar": {
             "outlinewidth": 0,
             "ticks": ""
            },
            "colorscale": [
             [
              0,
              "#0d0887"
             ],
             [
              0.1111111111111111,
              "#46039f"
             ],
             [
              0.2222222222222222,
              "#7201a8"
             ],
             [
              0.3333333333333333,
              "#9c179e"
             ],
             [
              0.4444444444444444,
              "#bd3786"
             ],
             [
              0.5555555555555556,
              "#d8576b"
             ],
             [
              0.6666666666666666,
              "#ed7953"
             ],
             [
              0.7777777777777778,
              "#fb9f3a"
             ],
             [
              0.8888888888888888,
              "#fdca26"
             ],
             [
              1,
              "#f0f921"
             ]
            ],
            "type": "contour"
           }
          ],
          "contourcarpet": [
           {
            "colorbar": {
             "outlinewidth": 0,
             "ticks": ""
            },
            "type": "contourcarpet"
           }
          ],
          "heatmap": [
           {
            "colorbar": {
             "outlinewidth": 0,
             "ticks": ""
            },
            "colorscale": [
             [
              0,
              "#0d0887"
             ],
             [
              0.1111111111111111,
              "#46039f"
             ],
             [
              0.2222222222222222,
              "#7201a8"
             ],
             [
              0.3333333333333333,
              "#9c179e"
             ],
             [
              0.4444444444444444,
              "#bd3786"
             ],
             [
              0.5555555555555556,
              "#d8576b"
             ],
             [
              0.6666666666666666,
              "#ed7953"
             ],
             [
              0.7777777777777778,
              "#fb9f3a"
             ],
             [
              0.8888888888888888,
              "#fdca26"
             ],
             [
              1,
              "#f0f921"
             ]
            ],
            "type": "heatmap"
           }
          ],
          "heatmapgl": [
           {
            "colorbar": {
             "outlinewidth": 0,
             "ticks": ""
            },
            "colorscale": [
             [
              0,
              "#0d0887"
             ],
             [
              0.1111111111111111,
              "#46039f"
             ],
             [
              0.2222222222222222,
              "#7201a8"
             ],
             [
              0.3333333333333333,
              "#9c179e"
             ],
             [
              0.4444444444444444,
              "#bd3786"
             ],
             [
              0.5555555555555556,
              "#d8576b"
             ],
             [
              0.6666666666666666,
              "#ed7953"
             ],
             [
              0.7777777777777778,
              "#fb9f3a"
             ],
             [
              0.8888888888888888,
              "#fdca26"
             ],
             [
              1,
              "#f0f921"
             ]
            ],
            "type": "heatmapgl"
           }
          ],
          "histogram": [
           {
            "marker": {
             "pattern": {
              "fillmode": "overlay",
              "size": 10,
              "solidity": 0.2
             }
            },
            "type": "histogram"
           }
          ],
          "histogram2d": [
           {
            "colorbar": {
             "outlinewidth": 0,
             "ticks": ""
            },
            "colorscale": [
             [
              0,
              "#0d0887"
             ],
             [
              0.1111111111111111,
              "#46039f"
             ],
             [
              0.2222222222222222,
              "#7201a8"
             ],
             [
              0.3333333333333333,
              "#9c179e"
             ],
             [
              0.4444444444444444,
              "#bd3786"
             ],
             [
              0.5555555555555556,
              "#d8576b"
             ],
             [
              0.6666666666666666,
              "#ed7953"
             ],
             [
              0.7777777777777778,
              "#fb9f3a"
             ],
             [
              0.8888888888888888,
              "#fdca26"
             ],
             [
              1,
              "#f0f921"
             ]
            ],
            "type": "histogram2d"
           }
          ],
          "histogram2dcontour": [
           {
            "colorbar": {
             "outlinewidth": 0,
             "ticks": ""
            },
            "colorscale": [
             [
              0,
              "#0d0887"
             ],
             [
              0.1111111111111111,
              "#46039f"
             ],
             [
              0.2222222222222222,
              "#7201a8"
             ],
             [
              0.3333333333333333,
              "#9c179e"
             ],
             [
              0.4444444444444444,
              "#bd3786"
             ],
             [
              0.5555555555555556,
              "#d8576b"
             ],
             [
              0.6666666666666666,
              "#ed7953"
             ],
             [
              0.7777777777777778,
              "#fb9f3a"
             ],
             [
              0.8888888888888888,
              "#fdca26"
             ],
             [
              1,
              "#f0f921"
             ]
            ],
            "type": "histogram2dcontour"
           }
          ],
          "mesh3d": [
           {
            "colorbar": {
             "outlinewidth": 0,
             "ticks": ""
            },
            "type": "mesh3d"
           }
          ],
          "parcoords": [
           {
            "line": {
             "colorbar": {
              "outlinewidth": 0,
              "ticks": ""
             }
            },
            "type": "parcoords"
           }
          ],
          "pie": [
           {
            "automargin": true,
            "type": "pie"
           }
          ],
          "scatter": [
           {
            "fillpattern": {
             "fillmode": "overlay",
             "size": 10,
             "solidity": 0.2
            },
            "type": "scatter"
           }
          ],
          "scatter3d": [
           {
            "line": {
             "colorbar": {
              "outlinewidth": 0,
              "ticks": ""
             }
            },
            "marker": {
             "colorbar": {
              "outlinewidth": 0,
              "ticks": ""
             }
            },
            "type": "scatter3d"
           }
          ],
          "scattercarpet": [
           {
            "marker": {
             "colorbar": {
              "outlinewidth": 0,
              "ticks": ""
             }
            },
            "type": "scattercarpet"
           }
          ],
          "scattergeo": [
           {
            "marker": {
             "colorbar": {
              "outlinewidth": 0,
              "ticks": ""
             }
            },
            "type": "scattergeo"
           }
          ],
          "scattergl": [
           {
            "marker": {
             "colorbar": {
              "outlinewidth": 0,
              "ticks": ""
             }
            },
            "type": "scattergl"
           }
          ],
          "scattermapbox": [
           {
            "marker": {
             "colorbar": {
              "outlinewidth": 0,
              "ticks": ""
             }
            },
            "type": "scattermapbox"
           }
          ],
          "scatterpolar": [
           {
            "marker": {
             "colorbar": {
              "outlinewidth": 0,
              "ticks": ""
             }
            },
            "type": "scatterpolar"
           }
          ],
          "scatterpolargl": [
           {
            "marker": {
             "colorbar": {
              "outlinewidth": 0,
              "ticks": ""
             }
            },
            "type": "scatterpolargl"
           }
          ],
          "scatterternary": [
           {
            "marker": {
             "colorbar": {
              "outlinewidth": 0,
              "ticks": ""
             }
            },
            "type": "scatterternary"
           }
          ],
          "surface": [
           {
            "colorbar": {
             "outlinewidth": 0,
             "ticks": ""
            },
            "colorscale": [
             [
              0,
              "#0d0887"
             ],
             [
              0.1111111111111111,
              "#46039f"
             ],
             [
              0.2222222222222222,
              "#7201a8"
             ],
             [
              0.3333333333333333,
              "#9c179e"
             ],
             [
              0.4444444444444444,
              "#bd3786"
             ],
             [
              0.5555555555555556,
              "#d8576b"
             ],
             [
              0.6666666666666666,
              "#ed7953"
             ],
             [
              0.7777777777777778,
              "#fb9f3a"
             ],
             [
              0.8888888888888888,
              "#fdca26"
             ],
             [
              1,
              "#f0f921"
             ]
            ],
            "type": "surface"
           }
          ],
          "table": [
           {
            "cells": {
             "fill": {
              "color": "#EBF0F8"
             },
             "line": {
              "color": "white"
             }
            },
            "header": {
             "fill": {
              "color": "#C8D4E3"
             },
             "line": {
              "color": "white"
             }
            },
            "type": "table"
           }
          ]
         },
         "layout": {
          "annotationdefaults": {
           "arrowcolor": "#2a3f5f",
           "arrowhead": 0,
           "arrowwidth": 1
          },
          "autotypenumbers": "strict",
          "coloraxis": {
           "colorbar": {
            "outlinewidth": 0,
            "ticks": ""
           }
          },
          "colorscale": {
           "diverging": [
            [
             0,
             "#8e0152"
            ],
            [
             0.1,
             "#c51b7d"
            ],
            [
             0.2,
             "#de77ae"
            ],
            [
             0.3,
             "#f1b6da"
            ],
            [
             0.4,
             "#fde0ef"
            ],
            [
             0.5,
             "#f7f7f7"
            ],
            [
             0.6,
             "#e6f5d0"
            ],
            [
             0.7,
             "#b8e186"
            ],
            [
             0.8,
             "#7fbc41"
            ],
            [
             0.9,
             "#4d9221"
            ],
            [
             1,
             "#276419"
            ]
           ],
           "sequential": [
            [
             0,
             "#0d0887"
            ],
            [
             0.1111111111111111,
             "#46039f"
            ],
            [
             0.2222222222222222,
             "#7201a8"
            ],
            [
             0.3333333333333333,
             "#9c179e"
            ],
            [
             0.4444444444444444,
             "#bd3786"
            ],
            [
             0.5555555555555556,
             "#d8576b"
            ],
            [
             0.6666666666666666,
             "#ed7953"
            ],
            [
             0.7777777777777778,
             "#fb9f3a"
            ],
            [
             0.8888888888888888,
             "#fdca26"
            ],
            [
             1,
             "#f0f921"
            ]
           ],
           "sequentialminus": [
            [
             0,
             "#0d0887"
            ],
            [
             0.1111111111111111,
             "#46039f"
            ],
            [
             0.2222222222222222,
             "#7201a8"
            ],
            [
             0.3333333333333333,
             "#9c179e"
            ],
            [
             0.4444444444444444,
             "#bd3786"
            ],
            [
             0.5555555555555556,
             "#d8576b"
            ],
            [
             0.6666666666666666,
             "#ed7953"
            ],
            [
             0.7777777777777778,
             "#fb9f3a"
            ],
            [
             0.8888888888888888,
             "#fdca26"
            ],
            [
             1,
             "#f0f921"
            ]
           ]
          },
          "colorway": [
           "#636efa",
           "#EF553B",
           "#00cc96",
           "#ab63fa",
           "#FFA15A",
           "#19d3f3",
           "#FF6692",
           "#B6E880",
           "#FF97FF",
           "#FECB52"
          ],
          "font": {
           "color": "#2a3f5f"
          },
          "geo": {
           "bgcolor": "white",
           "lakecolor": "white",
           "landcolor": "#E5ECF6",
           "showlakes": true,
           "showland": true,
           "subunitcolor": "white"
          },
          "hoverlabel": {
           "align": "left"
          },
          "hovermode": "closest",
          "mapbox": {
           "style": "light"
          },
          "paper_bgcolor": "white",
          "plot_bgcolor": "#E5ECF6",
          "polar": {
           "angularaxis": {
            "gridcolor": "white",
            "linecolor": "white",
            "ticks": ""
           },
           "bgcolor": "#E5ECF6",
           "radialaxis": {
            "gridcolor": "white",
            "linecolor": "white",
            "ticks": ""
           }
          },
          "scene": {
           "xaxis": {
            "backgroundcolor": "#E5ECF6",
            "gridcolor": "white",
            "gridwidth": 2,
            "linecolor": "white",
            "showbackground": true,
            "ticks": "",
            "zerolinecolor": "white"
           },
           "yaxis": {
            "backgroundcolor": "#E5ECF6",
            "gridcolor": "white",
            "gridwidth": 2,
            "linecolor": "white",
            "showbackground": true,
            "ticks": "",
            "zerolinecolor": "white"
           },
           "zaxis": {
            "backgroundcolor": "#E5ECF6",
            "gridcolor": "white",
            "gridwidth": 2,
            "linecolor": "white",
            "showbackground": true,
            "ticks": "",
            "zerolinecolor": "white"
           }
          },
          "shapedefaults": {
           "line": {
            "color": "#2a3f5f"
           }
          },
          "ternary": {
           "aaxis": {
            "gridcolor": "white",
            "linecolor": "white",
            "ticks": ""
           },
           "baxis": {
            "gridcolor": "white",
            "linecolor": "white",
            "ticks": ""
           },
           "bgcolor": "#E5ECF6",
           "caxis": {
            "gridcolor": "white",
            "linecolor": "white",
            "ticks": ""
           }
          },
          "title": {
           "x": 0.05
          },
          "xaxis": {
           "automargin": true,
           "gridcolor": "white",
           "linecolor": "white",
           "ticks": "",
           "title": {
            "standoff": 15
           },
           "zerolinecolor": "white",
           "zerolinewidth": 2
          },
          "yaxis": {
           "automargin": true,
           "gridcolor": "white",
           "linecolor": "white",
           "ticks": "",
           "title": {
            "standoff": 15
           },
           "zerolinecolor": "white",
           "zerolinewidth": 2
          }
         }
        },
        "title": {
         "text": "Growth in M v SPY"
        },
        "width": 800,
        "xaxis": {
         "anchor": "y",
         "domain": [
          0,
          1
         ],
         "title": {
          "text": "date"
         }
        },
        "yaxis": {
         "anchor": "x",
         "domain": [
          0,
          1
         ],
         "title": {
          "text": "value"
         }
        }
       }
      }
     },
     "metadata": {},
     "output_type": "display_data"
    }
   ],
   "source": [
    "graphAlpha(\"M\", \"2020-03-10\")"
   ]
  },
  {
   "cell_type": "markdown",
   "metadata": {},
   "source": [
    "here's a great example of why we need more information. Its true Macy's had a big run, but this run was 6 months after the purchase, and it was preceeded by a smaller run. Hard to say if the first run was the reason for the purcahse or not. Lets modify the graph alpha function to indicate all transacions (purcahses and sales) of one asset by a senator within the measurement window (1 year)"
   ]
  },
  {
   "cell_type": "code",
   "execution_count": null,
   "metadata": {},
   "outputs": [],
   "source": []
  },
  {
   "cell_type": "code",
   "execution_count": 36,
   "metadata": {},
   "outputs": [
    {
     "name": "stdout",
     "output_type": "stream",
     "text": [
      "looks like this senator bought then sold a few weeks later, thereby missing the second Macy's second big run \n"
     ]
    },
    {
     "data": {
      "text/html": [
       "<div>\n",
       "<style scoped>\n",
       "    .dataframe tbody tr th:only-of-type {\n",
       "        vertical-align: middle;\n",
       "    }\n",
       "\n",
       "    .dataframe tbody tr th {\n",
       "        vertical-align: top;\n",
       "    }\n",
       "\n",
       "    .dataframe thead th {\n",
       "        text-align: right;\n",
       "    }\n",
       "</style>\n",
       "<table border=\"1\" class=\"dataframe\">\n",
       "  <thead>\n",
       "    <tr style=\"text-align: right;\">\n",
       "      <th></th>\n",
       "      <th>transaction_date</th>\n",
       "      <th>type</th>\n",
       "      <th>amount</th>\n",
       "      <th>senator</th>\n",
       "      <th>ticker</th>\n",
       "    </tr>\n",
       "  </thead>\n",
       "  <tbody>\n",
       "    <tr>\n",
       "      <th>1017</th>\n",
       "      <td>2020-04-14</td>\n",
       "      <td>Sale (Full)</td>\n",
       "      <td>$15,001 - $50,000</td>\n",
       "      <td>David A Perdue , Jr</td>\n",
       "      <td>M</td>\n",
       "    </tr>\n",
       "    <tr>\n",
       "      <th>5680</th>\n",
       "      <td>2020-03-10</td>\n",
       "      <td>Purchase</td>\n",
       "      <td>$1,001 - $15,000</td>\n",
       "      <td>David A Perdue , Jr</td>\n",
       "      <td>M</td>\n",
       "    </tr>\n",
       "    <tr>\n",
       "      <th>5718</th>\n",
       "      <td>2020-03-20</td>\n",
       "      <td>Purchase</td>\n",
       "      <td>$1,001 - $15,000</td>\n",
       "      <td>David A Perdue , Jr</td>\n",
       "      <td>M</td>\n",
       "    </tr>\n",
       "  </tbody>\n",
       "</table>\n",
       "</div>"
      ],
      "text/plain": [
       "     transaction_date         type             amount              senator  \\\n",
       "1017       2020-04-14  Sale (Full)  $15,001 - $50,000  David A Perdue , Jr   \n",
       "5680       2020-03-10     Purchase   $1,001 - $15,000  David A Perdue , Jr   \n",
       "5718       2020-03-20     Purchase   $1,001 - $15,000  David A Perdue , Jr   \n",
       "\n",
       "     ticker  \n",
       "1017      M  \n",
       "5680      M  \n",
       "5718      M  "
      ]
     },
     "execution_count": 36,
     "metadata": {},
     "output_type": "execute_result"
    }
   ],
   "source": [
    "from dateutil.relativedelta import  relativedelta\n",
    "\n",
    "transactions['transaction_date'] = pd.to_datetime(transactions['transaction_date'])\n",
    "\n",
    "\n",
    "def findRelevantTransactions(senId, date, ticker):\n",
    "    # startDate = pd.to_datetime(date) + relativedelta(days=-1)\n",
    "    startDate = pd.to_datetime(date)\n",
    "    endDate = startDate + relativedelta(years=1)\n",
    "    \n",
    "    afterStartDate = transactions['transaction_date']>= startDate\n",
    "    beforeEndDate = transactions['transaction_date']< endDate\n",
    "    isStock = transactions['asset_type']==\"Stock\"\n",
    "    isSenator = transactions['senatorId']==senId\n",
    "    isTicker = transactions['ticker']==ticker\n",
    "    # rez  = transactions[afterStartDate & beforeEndDate & isStock & isSenator  ]\n",
    "\n",
    "    rez = transactions[afterStartDate & beforeEndDate & isStock & isSenator & isTicker]\n",
    "\n",
    "    return rez \n",
    "\n",
    "\n",
    "\n",
    "print(\"looks like this senator bought then sold a few weeks later, thereby missing the second Macy's second big run \")\n",
    "\n",
    "macysTransactions = findRelevantTransactions(136, \"2020-03-10\", \"M\")[['transaction_date', 'type','amount', 'senator', 'ticker']]\n",
    "macysTransactions"
   ]
  },
  {
   "cell_type": "code",
   "execution_count": 37,
   "metadata": {},
   "outputs": [
    {
     "data": {
      "text/plain": [
       "{'2020-04-17': 'Sale (Full)',\n",
       " '2020-03-13': 'Purchase',\n",
       " '2020-03-20': 'Purchase'}"
      ]
     },
     "execution_count": 37,
     "metadata": {},
     "output_type": "execute_result"
    }
   ],
   "source": [
    "\n",
    "#generate map of dates and transaction types \n",
    "dates = macysTransactions['transaction_date'].to_list()\n",
    "transTypes = macysTransactions['type'].to_list()\n",
    "\n",
    "#calculate the closest friday to merge with historical prices table (weekly data)\n",
    "def nearestFriday(inputDate):\n",
    "    fridayDelta = datetime.timedelta( (4-inputDate.weekday()) % 7 )\n",
    "    nearestFriday = inputDate + fridayDelta\n",
    "    nearestFridayString = datetime.datetime.strftime(nearestFriday , \"%Y-%m-%d\")\n",
    "    return nearestFridayString\n",
    "\n",
    "fridayDates  = [nearestFriday(d) for d in dates]\n",
    "\n",
    "transactionMap = dict(zip(fridayDates, transTypes))\n",
    "\n",
    "\n",
    "\n",
    "transactionMap "
   ]
  },
  {
   "cell_type": "code",
   "execution_count": 38,
   "metadata": {},
   "outputs": [],
   "source": [
    "\n",
    "# putting it all together\n",
    "# find relevant transactions\n",
    "def historicalPricesWithTransaction(senatorIdInput, dateInput,tickerInput ):\n",
    "    relevantTransactions = findRelevantTransactions(senatorIdInput, dateInput,tickerInput)\n",
    "    # return relevantTransactions\n",
    "\n",
    "    relevantTransactionDates = relevantTransactions['transaction_date'].to_list()\n",
    "    relevantTransactionTypes = relevantTransactions['type'].to_list()\n",
    "\n",
    "    # chop off first date\n",
    "    hist = generateHistoricalPricesTable(tickerInput, dateInput)\n",
    "\n",
    "    hist['transactionType'] = np.nan\n",
    "    hist['transactionValue'] = np.nan \n",
    "\n",
    "    # return relevantTransactions\n",
    "\n",
    "\n",
    "    for index, d in enumerate(relevantTransactionDates):\n",
    "\n",
    "        d = extractDateFromTimestamp(d)\n",
    "        tickerPurchasePrice =  findBetweenPrice(tickerInput, hist, d)\n",
    "        spyPurchasePrice = findBetweenPrice('SPY', hist, d)\n",
    "\n",
    "        currentTransType = relevantTransactionTypes[index]\n",
    "\n",
    "       \n",
    "    \n",
    "    \n",
    "        newRow = {'date': d, tickerInput: tickerPurchasePrice, 'SPY': spyPurchasePrice, \n",
    "        'transactionType': currentTransType, 'transactionValue': tickerPurchasePrice}\n",
    "\n",
    "        hist = hist.append(newRow, ignore_index=True)\n",
    "\n",
    "\n",
    "    # return relevantTransactionDates, relevantTransactionTypes\n",
    "\n",
    "    hist = hist.sort_values(by=\"date\")\n",
    "\n",
    "    # hist = hist.drop_duplicates(subset=\"date\", keep=False)\n",
    "    return hist\n",
    "\n",
    "\n",
    "\n",
    "\n",
    "# temp = historicalPricesWithTransaction(136,  \"2020-03-10\", \"M\" )\n",
    "\n",
    "# temp = historicalPricesWithTransaction(100, '2021-03-29',\"REGN\")\n",
    "# historicalPricesWithTransaction(110, '2020-02-14', 'DLR')\n",
    "\n",
    "# temp.head(10)\n",
    "# temp = historicalPricesWithTransaction(101, '2012-12-17','DD')\n",
    "# temp\n",
    "\n"
   ]
  },
  {
   "cell_type": "code",
   "execution_count": 39,
   "metadata": {},
   "outputs": [
    {
     "data": {
      "text/html": [
       "<div>\n",
       "<style scoped>\n",
       "    .dataframe tbody tr th:only-of-type {\n",
       "        vertical-align: middle;\n",
       "    }\n",
       "\n",
       "    .dataframe tbody tr th {\n",
       "        vertical-align: top;\n",
       "    }\n",
       "\n",
       "    .dataframe thead th {\n",
       "        text-align: right;\n",
       "    }\n",
       "</style>\n",
       "<table border=\"1\" class=\"dataframe\">\n",
       "  <thead>\n",
       "    <tr style=\"text-align: right;\">\n",
       "      <th></th>\n",
       "      <th>transaction_date</th>\n",
       "      <th>owner</th>\n",
       "      <th>ticker</th>\n",
       "      <th>asset_description</th>\n",
       "      <th>asset_type</th>\n",
       "      <th>type</th>\n",
       "      <th>amount</th>\n",
       "      <th>comment</th>\n",
       "      <th>senator</th>\n",
       "      <th>ptr_link</th>\n",
       "      <th>disclosure_date</th>\n",
       "      <th>id</th>\n",
       "      <th>senatorId</th>\n",
       "      <th>alpha</th>\n",
       "    </tr>\n",
       "  </thead>\n",
       "  <tbody>\n",
       "    <tr>\n",
       "      <th>5761</th>\n",
       "      <td>2020-02-13</td>\n",
       "      <td>Self</td>\n",
       "      <td>DLR</td>\n",
       "      <td>Digital Realty Trust, Inc.</td>\n",
       "      <td>Stock</td>\n",
       "      <td>Purchase</td>\n",
       "      <td>$15,001 - $50,000</td>\n",
       "      <td>--</td>\n",
       "      <td>Sheldon Whitehouse</td>\n",
       "      <td>https://efdsearch.senate.gov/search/view/ptr/2...</td>\n",
       "      <td>03/31/2020</td>\n",
       "      <td>2554</td>\n",
       "      <td>123</td>\n",
       "      <td>31.68</td>\n",
       "    </tr>\n",
       "  </tbody>\n",
       "</table>\n",
       "</div>"
      ],
      "text/plain": [
       "     transaction_date owner ticker           asset_description asset_type  \\\n",
       "5761       2020-02-13  Self    DLR  Digital Realty Trust, Inc.      Stock   \n",
       "\n",
       "          type             amount comment             senator  \\\n",
       "5761  Purchase  $15,001 - $50,000      --  Sheldon Whitehouse   \n",
       "\n",
       "                                               ptr_link disclosure_date    id  \\\n",
       "5761  https://efdsearch.senate.gov/search/view/ptr/2...      03/31/2020  2554   \n",
       "\n",
       "      senatorId  alpha  \n",
       "5761        123  31.68  "
      ]
     },
     "execution_count": 39,
     "metadata": {},
     "output_type": "execute_result"
    }
   ],
   "source": [
    "# testParams (123, '2020-02-13', 'DLR')\n",
    "\n",
    "# transactions[transactions['transaction_date']=='2020-02-13'].ticker.value_counts().index[-1]\n",
    "# transactions[transactions[transactions['transaction_date']=='2020-02-13']['ticker']=='DLR']\n",
    "# transactions[transactions['transaction_date']=='2020-02-13']\n",
    "findRelevantTransactions(*testParams)\n"
   ]
  },
  {
   "cell_type": "code",
   "execution_count": 40,
   "metadata": {},
   "outputs": [
    {
     "data": {
      "text/html": [
       "<div>\n",
       "<style scoped>\n",
       "    .dataframe tbody tr th:only-of-type {\n",
       "        vertical-align: middle;\n",
       "    }\n",
       "\n",
       "    .dataframe tbody tr th {\n",
       "        vertical-align: top;\n",
       "    }\n",
       "\n",
       "    .dataframe thead th {\n",
       "        text-align: right;\n",
       "    }\n",
       "</style>\n",
       "<table border=\"1\" class=\"dataframe\">\n",
       "  <thead>\n",
       "    <tr style=\"text-align: right;\">\n",
       "      <th></th>\n",
       "      <th>date</th>\n",
       "      <th>M</th>\n",
       "      <th>SPY</th>\n",
       "      <th>transactionType</th>\n",
       "      <th>transactionValue</th>\n",
       "    </tr>\n",
       "  </thead>\n",
       "  <tbody>\n",
       "    <tr>\n",
       "      <th>0</th>\n",
       "      <td>2020-03-06</td>\n",
       "      <td>10.542300</td>\n",
       "      <td>284.736100</td>\n",
       "      <td>NaN</td>\n",
       "      <td>NaN</td>\n",
       "    </tr>\n",
       "    <tr>\n",
       "      <th>54</th>\n",
       "      <td>2020-03-10</td>\n",
       "      <td>8.943557</td>\n",
       "      <td>269.343929</td>\n",
       "      <td>Purchase</td>\n",
       "      <td>8.943557</td>\n",
       "    </tr>\n",
       "    <tr>\n",
       "      <th>1</th>\n",
       "      <td>2020-03-13</td>\n",
       "      <td>7.744500</td>\n",
       "      <td>257.799800</td>\n",
       "      <td>NaN</td>\n",
       "      <td>NaN</td>\n",
       "    </tr>\n",
       "    <tr>\n",
       "      <th>55</th>\n",
       "      <td>2020-03-20</td>\n",
       "      <td>5.806000</td>\n",
       "      <td>220.358500</td>\n",
       "      <td>Purchase</td>\n",
       "      <td>5.806000</td>\n",
       "    </tr>\n",
       "    <tr>\n",
       "      <th>2</th>\n",
       "      <td>2020-03-20</td>\n",
       "      <td>5.806000</td>\n",
       "      <td>220.358500</td>\n",
       "      <td>NaN</td>\n",
       "      <td>NaN</td>\n",
       "    </tr>\n",
       "  </tbody>\n",
       "</table>\n",
       "</div>"
      ],
      "text/plain": [
       "          date          M         SPY transactionType  transactionValue\n",
       "0   2020-03-06  10.542300  284.736100             NaN               NaN\n",
       "54  2020-03-10   8.943557  269.343929        Purchase          8.943557\n",
       "1   2020-03-13   7.744500  257.799800             NaN               NaN\n",
       "55  2020-03-20   5.806000  220.358500        Purchase          5.806000\n",
       "2   2020-03-20   5.806000  220.358500             NaN               NaN"
      ]
     },
     "execution_count": 40,
     "metadata": {},
     "output_type": "execute_result"
    }
   ],
   "source": [
    "# temp = historicalPricesWithTransaction(125,  \"2017-12-21\", \"WTW\" )\n",
    "temp = historicalPricesWithTransaction(136,  \"2020-03-10\", \"M\" )\n",
    "temp.head()"
   ]
  },
  {
   "cell_type": "code",
   "execution_count": null,
   "metadata": {},
   "outputs": [],
   "source": [
    "    \n"
   ]
  },
  {
   "cell_type": "code",
   "execution_count": null,
   "metadata": {},
   "outputs": [],
   "source": []
  },
  {
   "cell_type": "code",
   "execution_count": 41,
   "metadata": {},
   "outputs": [
    {
     "data": {
      "application/vnd.plotly.v1+json": {
       "config": {
        "plotlyServerURL": "https://plot.ly"
       },
       "data": [
        {
         "hovertemplate": "transactionType=Purchase<br>date=%{x}<br>historical Price M=%{y}<extra></extra>",
         "legendgroup": "Purchase",
         "marker": {
          "color": "#EF553B",
          "symbol": "circle"
         },
         "mode": "markers",
         "name": "Purchase",
         "orientation": "v",
         "showlegend": true,
         "type": "scatter",
         "x": [
          "2020-03-10",
          "2020-03-20"
         ],
         "xaxis": "x",
         "y": [
          8.943557142857143,
          5.806
         ],
         "yaxis": "y"
        },
        {
         "hovertemplate": "transactionType=Sale (Full)<br>date=%{x}<br>historical Price M=%{y}<extra></extra>",
         "legendgroup": "Sale (Full)",
         "marker": {
          "color": "#00cc96",
          "symbol": "circle"
         },
         "mode": "markers",
         "name": "Sale (Full)",
         "orientation": "v",
         "showlegend": true,
         "type": "scatter",
         "x": [
          "2020-04-14"
         ],
         "xaxis": "x",
         "y": [
          5.9771374999999995
         ],
         "yaxis": "y"
        },
        {
         "line": {
          "color": "grey"
         },
         "mode": "lines",
         "name": "M Historical Price",
         "type": "scatter",
         "x": [
          "2020-03-06",
          "2020-03-10",
          "2020-03-13",
          "2020-03-20",
          "2020-03-20",
          "2020-03-27",
          "2020-04-03",
          "2020-04-09",
          "2020-04-14",
          "2020-04-17",
          "2020-04-24",
          "2020-05-01",
          "2020-05-08",
          "2020-05-15",
          "2020-05-22",
          "2020-05-29",
          "2020-06-05",
          "2020-06-12",
          "2020-06-19",
          "2020-06-26",
          "2020-07-02",
          "2020-07-10",
          "2020-07-17",
          "2020-07-24",
          "2020-07-31",
          "2020-08-07",
          "2020-08-14",
          "2020-08-21",
          "2020-08-28",
          "2020-09-04",
          "2020-09-11",
          "2020-09-18",
          "2020-09-25",
          "2020-10-02",
          "2020-10-09",
          "2020-10-16",
          "2020-10-23",
          "2020-10-30",
          "2020-11-06",
          "2020-11-13",
          "2020-11-20",
          "2020-11-27",
          "2020-12-04",
          "2020-12-11",
          "2020-12-18",
          "2020-12-24",
          "2020-12-31",
          "2021-01-08",
          "2021-01-15",
          "2021-01-22",
          "2021-01-29",
          "2021-02-05",
          "2021-02-12",
          "2021-02-19",
          "2021-02-26",
          "2021-03-05"
         ],
         "y": [
          10.5423,
          8.943557142857143,
          7.7445,
          5.806,
          5.806,
          5.3334,
          4.639,
          6.4232,
          5.9771374999999995,
          5.7095,
          4.8415,
          5.1694,
          5.1791,
          5.1212,
          5.0248,
          6.1339,
          8.4582,
          7.0405,
          6.6354,
          5.806,
          6.5583,
          6.5293,
          6.4136,
          6.2207,
          5.8446,
          6.3847,
          6.9344,
          6.0375,
          6.7029,
          7.378,
          6.7994,
          6.5197,
          5.8156,
          5.7963,
          6.0085,
          5.941,
          6.973,
          5.9892,
          6.3364,
          7.0983,
          8.7283,
          10.4643,
          11.3033,
          10.6861,
          10.0592,
          10.3678,
          10.8501,
          11.8434,
          12.5475,
          12.4221,
          14.5053,
          14.5342,
          14.351,
          14.4378,
          14.6693,
          14.5825
         ]
        }
       ],
       "layout": {
        "height": 500,
        "legend": {
         "title": {
          "text": "transactionType"
         },
         "tracegroupgap": 0
        },
        "template": {
         "data": {
          "bar": [
           {
            "error_x": {
             "color": "#2a3f5f"
            },
            "error_y": {
             "color": "#2a3f5f"
            },
            "marker": {
             "line": {
              "color": "#E5ECF6",
              "width": 0.5
             },
             "pattern": {
              "fillmode": "overlay",
              "size": 10,
              "solidity": 0.2
             }
            },
            "type": "bar"
           }
          ],
          "barpolar": [
           {
            "marker": {
             "line": {
              "color": "#E5ECF6",
              "width": 0.5
             },
             "pattern": {
              "fillmode": "overlay",
              "size": 10,
              "solidity": 0.2
             }
            },
            "type": "barpolar"
           }
          ],
          "carpet": [
           {
            "aaxis": {
             "endlinecolor": "#2a3f5f",
             "gridcolor": "white",
             "linecolor": "white",
             "minorgridcolor": "white",
             "startlinecolor": "#2a3f5f"
            },
            "baxis": {
             "endlinecolor": "#2a3f5f",
             "gridcolor": "white",
             "linecolor": "white",
             "minorgridcolor": "white",
             "startlinecolor": "#2a3f5f"
            },
            "type": "carpet"
           }
          ],
          "choropleth": [
           {
            "colorbar": {
             "outlinewidth": 0,
             "ticks": ""
            },
            "type": "choropleth"
           }
          ],
          "contour": [
           {
            "colorbar": {
             "outlinewidth": 0,
             "ticks": ""
            },
            "colorscale": [
             [
              0,
              "#0d0887"
             ],
             [
              0.1111111111111111,
              "#46039f"
             ],
             [
              0.2222222222222222,
              "#7201a8"
             ],
             [
              0.3333333333333333,
              "#9c179e"
             ],
             [
              0.4444444444444444,
              "#bd3786"
             ],
             [
              0.5555555555555556,
              "#d8576b"
             ],
             [
              0.6666666666666666,
              "#ed7953"
             ],
             [
              0.7777777777777778,
              "#fb9f3a"
             ],
             [
              0.8888888888888888,
              "#fdca26"
             ],
             [
              1,
              "#f0f921"
             ]
            ],
            "type": "contour"
           }
          ],
          "contourcarpet": [
           {
            "colorbar": {
             "outlinewidth": 0,
             "ticks": ""
            },
            "type": "contourcarpet"
           }
          ],
          "heatmap": [
           {
            "colorbar": {
             "outlinewidth": 0,
             "ticks": ""
            },
            "colorscale": [
             [
              0,
              "#0d0887"
             ],
             [
              0.1111111111111111,
              "#46039f"
             ],
             [
              0.2222222222222222,
              "#7201a8"
             ],
             [
              0.3333333333333333,
              "#9c179e"
             ],
             [
              0.4444444444444444,
              "#bd3786"
             ],
             [
              0.5555555555555556,
              "#d8576b"
             ],
             [
              0.6666666666666666,
              "#ed7953"
             ],
             [
              0.7777777777777778,
              "#fb9f3a"
             ],
             [
              0.8888888888888888,
              "#fdca26"
             ],
             [
              1,
              "#f0f921"
             ]
            ],
            "type": "heatmap"
           }
          ],
          "heatmapgl": [
           {
            "colorbar": {
             "outlinewidth": 0,
             "ticks": ""
            },
            "colorscale": [
             [
              0,
              "#0d0887"
             ],
             [
              0.1111111111111111,
              "#46039f"
             ],
             [
              0.2222222222222222,
              "#7201a8"
             ],
             [
              0.3333333333333333,
              "#9c179e"
             ],
             [
              0.4444444444444444,
              "#bd3786"
             ],
             [
              0.5555555555555556,
              "#d8576b"
             ],
             [
              0.6666666666666666,
              "#ed7953"
             ],
             [
              0.7777777777777778,
              "#fb9f3a"
             ],
             [
              0.8888888888888888,
              "#fdca26"
             ],
             [
              1,
              "#f0f921"
             ]
            ],
            "type": "heatmapgl"
           }
          ],
          "histogram": [
           {
            "marker": {
             "pattern": {
              "fillmode": "overlay",
              "size": 10,
              "solidity": 0.2
             }
            },
            "type": "histogram"
           }
          ],
          "histogram2d": [
           {
            "colorbar": {
             "outlinewidth": 0,
             "ticks": ""
            },
            "colorscale": [
             [
              0,
              "#0d0887"
             ],
             [
              0.1111111111111111,
              "#46039f"
             ],
             [
              0.2222222222222222,
              "#7201a8"
             ],
             [
              0.3333333333333333,
              "#9c179e"
             ],
             [
              0.4444444444444444,
              "#bd3786"
             ],
             [
              0.5555555555555556,
              "#d8576b"
             ],
             [
              0.6666666666666666,
              "#ed7953"
             ],
             [
              0.7777777777777778,
              "#fb9f3a"
             ],
             [
              0.8888888888888888,
              "#fdca26"
             ],
             [
              1,
              "#f0f921"
             ]
            ],
            "type": "histogram2d"
           }
          ],
          "histogram2dcontour": [
           {
            "colorbar": {
             "outlinewidth": 0,
             "ticks": ""
            },
            "colorscale": [
             [
              0,
              "#0d0887"
             ],
             [
              0.1111111111111111,
              "#46039f"
             ],
             [
              0.2222222222222222,
              "#7201a8"
             ],
             [
              0.3333333333333333,
              "#9c179e"
             ],
             [
              0.4444444444444444,
              "#bd3786"
             ],
             [
              0.5555555555555556,
              "#d8576b"
             ],
             [
              0.6666666666666666,
              "#ed7953"
             ],
             [
              0.7777777777777778,
              "#fb9f3a"
             ],
             [
              0.8888888888888888,
              "#fdca26"
             ],
             [
              1,
              "#f0f921"
             ]
            ],
            "type": "histogram2dcontour"
           }
          ],
          "mesh3d": [
           {
            "colorbar": {
             "outlinewidth": 0,
             "ticks": ""
            },
            "type": "mesh3d"
           }
          ],
          "parcoords": [
           {
            "line": {
             "colorbar": {
              "outlinewidth": 0,
              "ticks": ""
             }
            },
            "type": "parcoords"
           }
          ],
          "pie": [
           {
            "automargin": true,
            "type": "pie"
           }
          ],
          "scatter": [
           {
            "fillpattern": {
             "fillmode": "overlay",
             "size": 10,
             "solidity": 0.2
            },
            "type": "scatter"
           }
          ],
          "scatter3d": [
           {
            "line": {
             "colorbar": {
              "outlinewidth": 0,
              "ticks": ""
             }
            },
            "marker": {
             "colorbar": {
              "outlinewidth": 0,
              "ticks": ""
             }
            },
            "type": "scatter3d"
           }
          ],
          "scattercarpet": [
           {
            "marker": {
             "colorbar": {
              "outlinewidth": 0,
              "ticks": ""
             }
            },
            "type": "scattercarpet"
           }
          ],
          "scattergeo": [
           {
            "marker": {
             "colorbar": {
              "outlinewidth": 0,
              "ticks": ""
             }
            },
            "type": "scattergeo"
           }
          ],
          "scattergl": [
           {
            "marker": {
             "colorbar": {
              "outlinewidth": 0,
              "ticks": ""
             }
            },
            "type": "scattergl"
           }
          ],
          "scattermapbox": [
           {
            "marker": {
             "colorbar": {
              "outlinewidth": 0,
              "ticks": ""
             }
            },
            "type": "scattermapbox"
           }
          ],
          "scatterpolar": [
           {
            "marker": {
             "colorbar": {
              "outlinewidth": 0,
              "ticks": ""
             }
            },
            "type": "scatterpolar"
           }
          ],
          "scatterpolargl": [
           {
            "marker": {
             "colorbar": {
              "outlinewidth": 0,
              "ticks": ""
             }
            },
            "type": "scatterpolargl"
           }
          ],
          "scatterternary": [
           {
            "marker": {
             "colorbar": {
              "outlinewidth": 0,
              "ticks": ""
             }
            },
            "type": "scatterternary"
           }
          ],
          "surface": [
           {
            "colorbar": {
             "outlinewidth": 0,
             "ticks": ""
            },
            "colorscale": [
             [
              0,
              "#0d0887"
             ],
             [
              0.1111111111111111,
              "#46039f"
             ],
             [
              0.2222222222222222,
              "#7201a8"
             ],
             [
              0.3333333333333333,
              "#9c179e"
             ],
             [
              0.4444444444444444,
              "#bd3786"
             ],
             [
              0.5555555555555556,
              "#d8576b"
             ],
             [
              0.6666666666666666,
              "#ed7953"
             ],
             [
              0.7777777777777778,
              "#fb9f3a"
             ],
             [
              0.8888888888888888,
              "#fdca26"
             ],
             [
              1,
              "#f0f921"
             ]
            ],
            "type": "surface"
           }
          ],
          "table": [
           {
            "cells": {
             "fill": {
              "color": "#EBF0F8"
             },
             "line": {
              "color": "white"
             }
            },
            "header": {
             "fill": {
              "color": "#C8D4E3"
             },
             "line": {
              "color": "white"
             }
            },
            "type": "table"
           }
          ]
         },
         "layout": {
          "annotationdefaults": {
           "arrowcolor": "#2a3f5f",
           "arrowhead": 0,
           "arrowwidth": 1
          },
          "autotypenumbers": "strict",
          "coloraxis": {
           "colorbar": {
            "outlinewidth": 0,
            "ticks": ""
           }
          },
          "colorscale": {
           "diverging": [
            [
             0,
             "#8e0152"
            ],
            [
             0.1,
             "#c51b7d"
            ],
            [
             0.2,
             "#de77ae"
            ],
            [
             0.3,
             "#f1b6da"
            ],
            [
             0.4,
             "#fde0ef"
            ],
            [
             0.5,
             "#f7f7f7"
            ],
            [
             0.6,
             "#e6f5d0"
            ],
            [
             0.7,
             "#b8e186"
            ],
            [
             0.8,
             "#7fbc41"
            ],
            [
             0.9,
             "#4d9221"
            ],
            [
             1,
             "#276419"
            ]
           ],
           "sequential": [
            [
             0,
             "#0d0887"
            ],
            [
             0.1111111111111111,
             "#46039f"
            ],
            [
             0.2222222222222222,
             "#7201a8"
            ],
            [
             0.3333333333333333,
             "#9c179e"
            ],
            [
             0.4444444444444444,
             "#bd3786"
            ],
            [
             0.5555555555555556,
             "#d8576b"
            ],
            [
             0.6666666666666666,
             "#ed7953"
            ],
            [
             0.7777777777777778,
             "#fb9f3a"
            ],
            [
             0.8888888888888888,
             "#fdca26"
            ],
            [
             1,
             "#f0f921"
            ]
           ],
           "sequentialminus": [
            [
             0,
             "#0d0887"
            ],
            [
             0.1111111111111111,
             "#46039f"
            ],
            [
             0.2222222222222222,
             "#7201a8"
            ],
            [
             0.3333333333333333,
             "#9c179e"
            ],
            [
             0.4444444444444444,
             "#bd3786"
            ],
            [
             0.5555555555555556,
             "#d8576b"
            ],
            [
             0.6666666666666666,
             "#ed7953"
            ],
            [
             0.7777777777777778,
             "#fb9f3a"
            ],
            [
             0.8888888888888888,
             "#fdca26"
            ],
            [
             1,
             "#f0f921"
            ]
           ]
          },
          "colorway": [
           "#636efa",
           "#EF553B",
           "#00cc96",
           "#ab63fa",
           "#FFA15A",
           "#19d3f3",
           "#FF6692",
           "#B6E880",
           "#FF97FF",
           "#FECB52"
          ],
          "font": {
           "color": "#2a3f5f"
          },
          "geo": {
           "bgcolor": "white",
           "lakecolor": "white",
           "landcolor": "#E5ECF6",
           "showlakes": true,
           "showland": true,
           "subunitcolor": "white"
          },
          "hoverlabel": {
           "align": "left"
          },
          "hovermode": "closest",
          "mapbox": {
           "style": "light"
          },
          "paper_bgcolor": "white",
          "plot_bgcolor": "#E5ECF6",
          "polar": {
           "angularaxis": {
            "gridcolor": "white",
            "linecolor": "white",
            "ticks": ""
           },
           "bgcolor": "#E5ECF6",
           "radialaxis": {
            "gridcolor": "white",
            "linecolor": "white",
            "ticks": ""
           }
          },
          "scene": {
           "xaxis": {
            "backgroundcolor": "#E5ECF6",
            "gridcolor": "white",
            "gridwidth": 2,
            "linecolor": "white",
            "showbackground": true,
            "ticks": "",
            "zerolinecolor": "white"
           },
           "yaxis": {
            "backgroundcolor": "#E5ECF6",
            "gridcolor": "white",
            "gridwidth": 2,
            "linecolor": "white",
            "showbackground": true,
            "ticks": "",
            "zerolinecolor": "white"
           },
           "zaxis": {
            "backgroundcolor": "#E5ECF6",
            "gridcolor": "white",
            "gridwidth": 2,
            "linecolor": "white",
            "showbackground": true,
            "ticks": "",
            "zerolinecolor": "white"
           }
          },
          "shapedefaults": {
           "line": {
            "color": "#2a3f5f"
           }
          },
          "ternary": {
           "aaxis": {
            "gridcolor": "white",
            "linecolor": "white",
            "ticks": ""
           },
           "baxis": {
            "gridcolor": "white",
            "linecolor": "white",
            "ticks": ""
           },
           "bgcolor": "#E5ECF6",
           "caxis": {
            "gridcolor": "white",
            "linecolor": "white",
            "ticks": ""
           }
          },
          "title": {
           "x": 0.05
          },
          "xaxis": {
           "automargin": true,
           "gridcolor": "white",
           "linecolor": "white",
           "ticks": "",
           "title": {
            "standoff": 15
           },
           "zerolinecolor": "white",
           "zerolinewidth": 2
          },
          "yaxis": {
           "automargin": true,
           "gridcolor": "white",
           "linecolor": "white",
           "ticks": "",
           "title": {
            "standoff": 15
           },
           "zerolinecolor": "white",
           "zerolinewidth": 2
          }
         }
        },
        "title": {
         "text": "David A Perdue , Jr Historical Price and Transactions M"
        },
        "width": 800,
        "xaxis": {
         "anchor": "y",
         "domain": [
          0,
          1
         ],
         "title": {
          "text": "date"
         }
        },
        "yaxis": {
         "anchor": "x",
         "domain": [
          0,
          1
         ],
         "title": {
          "text": "historical Price M"
         }
        }
       }
      }
     },
     "metadata": {},
     "output_type": "display_data"
    }
   ],
   "source": [
    "import plotly.graph_objects as go \n",
    "\n",
    "def graphTransactions_fromHistorical(senatorIdInput, frame, tickerInput):\n",
    "\n",
    "\n",
    "    senatorName = returnSenatorNameFromId(senatorIdInput)\n",
    "\n",
    "\n",
    "    fig = px.scatter(frame, x=\"date\", y=\"transactionValue\", color=\"transactionType\",\n",
    "    labels=dict(transactionValue=\"historical Price \"+ tickerInput),\n",
    "    height= graphDims['height'] , width= graphDims['width'], \n",
    "    title = senatorName+ \" Historical Price and Transactions \"+ tickerInput)\n",
    "\n",
    "    fig.add_trace(go.Scatter(x=frame['date'], y=frame[tickerInput], mode=\"lines\", line=go.scatter.Line(color=\"grey\"), \n",
    "    name=tickerInput+' Historical Price'))\n",
    "\n",
    "\n",
    "\n",
    "    fig.show()\n",
    "\n",
    "graphTransactions_fromHistorical(136, temp, \"M\")\n",
    "\n"
   ]
  },
  {
   "cell_type": "markdown",
   "metadata": {},
   "source": [
    "this wasn't the best series of trades. Next let's combine the preceeding couple of functions to examine trade's success by only inputting the transaction date, ticker, and senator. "
   ]
  },
  {
   "cell_type": "code",
   "execution_count": 42,
   "metadata": {},
   "outputs": [],
   "source": [
    "# putting it all together \n",
    "\n",
    "def graphTransactions_fromSource(senatorIdInput, dateInput,tickerInput):\n",
    "    historicalPricesFrame = historicalPricesWithTransaction(senatorIdInput, dateInput,tickerInput )\n",
    "\n",
    "    graphTransactions_fromHistorical(senatorIdInput, historicalPricesFrame, tickerInput)\n",
    "\n"
   ]
  },
  {
   "cell_type": "code",
   "execution_count": 43,
   "metadata": {},
   "outputs": [
    {
     "data": {
      "text/html": [
       "<div>\n",
       "<style scoped>\n",
       "    .dataframe tbody tr th:only-of-type {\n",
       "        vertical-align: middle;\n",
       "    }\n",
       "\n",
       "    .dataframe tbody tr th {\n",
       "        vertical-align: top;\n",
       "    }\n",
       "\n",
       "    .dataframe thead th {\n",
       "        text-align: right;\n",
       "    }\n",
       "</style>\n",
       "<table border=\"1\" class=\"dataframe\">\n",
       "  <thead>\n",
       "    <tr style=\"text-align: right;\">\n",
       "      <th></th>\n",
       "      <th>transaction_date</th>\n",
       "      <th>ticker</th>\n",
       "      <th>asset_description</th>\n",
       "      <th>senator</th>\n",
       "      <th>senatorId</th>\n",
       "    </tr>\n",
       "  </thead>\n",
       "  <tbody>\n",
       "    <tr>\n",
       "      <th>7706</th>\n",
       "      <td>2016-03-31</td>\n",
       "      <td>WMT</td>\n",
       "      <td>Wal-Mart Stores Inc.</td>\n",
       "      <td>William Cassidy</td>\n",
       "      <td>134</td>\n",
       "    </tr>\n",
       "  </tbody>\n",
       "</table>\n",
       "</div>"
      ],
      "text/plain": [
       "     transaction_date ticker     asset_description          senator  senatorId\n",
       "7706       2016-03-31    WMT  Wal-Mart Stores Inc.  William Cassidy        134"
      ]
     },
     "execution_count": 43,
     "metadata": {},
     "output_type": "execute_result"
    }
   ],
   "source": [
    "\n",
    "purchases = transactions[(transactions['type']=='Purchase') & (transactions['asset_type']=='Stock') ]\n",
    "randomPurchase = purchases.sample(n=1, random_state=227)[['transaction_date','ticker','asset_description','senator','senatorId']]\n",
    "randomPurchase"
   ]
  },
  {
   "cell_type": "code",
   "execution_count": 44,
   "metadata": {},
   "outputs": [
    {
     "data": {
      "application/vnd.plotly.v1+json": {
       "config": {
        "plotlyServerURL": "https://plot.ly"
       },
       "data": [
        {
         "hovertemplate": "transactionType=Purchase<br>date=%{x}<br>historical Price WMT=%{y}<extra></extra>",
         "legendgroup": "Purchase",
         "marker": {
          "color": "#EF553B",
          "symbol": "circle"
         },
         "mode": "markers",
         "name": "Purchase",
         "orientation": "v",
         "showlegend": true,
         "type": "scatter",
         "x": [
          "2016-03-31"
         ],
         "xaxis": "x",
         "y": [
          60.257075
         ],
         "yaxis": "y"
        },
        {
         "hovertemplate": "transactionType=Sale (Partial)<br>date=%{x}<br>historical Price WMT=%{y}<extra></extra>",
         "legendgroup": "Sale (Partial)",
         "marker": {
          "color": "#00cc96",
          "symbol": "circle"
         },
         "mode": "markers",
         "name": "Sale (Partial)",
         "orientation": "v",
         "showlegend": true,
         "type": "scatter",
         "x": [
          "2016-07-15"
         ],
         "xaxis": "x",
         "y": [
          64.8879
         ],
         "yaxis": "y"
        },
        {
         "line": {
          "color": "grey"
         },
         "mode": "lines",
         "name": "WMT Historical Price",
         "type": "scatter",
         "x": [
          "2016-03-24",
          "2016-03-31",
          "2016-04-01",
          "2016-04-08",
          "2016-04-15",
          "2016-04-22",
          "2016-04-29",
          "2016-05-06",
          "2016-05-13",
          "2016-05-20",
          "2016-05-27",
          "2016-06-03",
          "2016-06-10",
          "2016-06-17",
          "2016-06-24",
          "2016-07-01",
          "2016-07-08",
          "2016-07-15",
          "2016-07-15",
          "2016-07-22",
          "2016-07-29",
          "2016-08-05",
          "2016-08-12",
          "2016-08-19",
          "2016-08-26",
          "2016-09-02",
          "2016-09-09",
          "2016-09-16",
          "2016-09-23",
          "2016-09-30",
          "2016-10-07",
          "2016-10-14",
          "2016-10-21",
          "2016-10-28",
          "2016-11-04",
          "2016-11-11",
          "2016-11-18",
          "2016-11-25",
          "2016-12-02",
          "2016-12-09",
          "2016-12-16",
          "2016-12-23",
          "2016-12-30",
          "2017-01-06",
          "2017-01-13",
          "2017-01-20",
          "2017-01-27",
          "2017-02-03",
          "2017-02-10",
          "2017-02-17",
          "2017-02-24",
          "2017-03-03",
          "2017-03-10",
          "2017-03-17",
          "2017-03-24"
         ],
         "y": [
          59.4463,
          60.257075,
          60.3729,
          59.4987,
          60.3729,
          60.0757,
          58.4584,
          59.6648,
          57.1986,
          61.5321,
          62.316,
          62.4217,
          62.6595,
          62.4922,
          63.3818,
          64.1305,
          65.0377,
          64.8879,
          64.8879,
          64.7822,
          64.2714,
          64.9672,
          65.5217,
          64.5641,
          63.0832,
          64.2892,
          62.3383,
          64.6173,
          64.1562,
          63.9522,
          60.9195,
          60.6978,
          60.6003,
          62.0634,
          61.3274,
          63.163,
          60.7776,
          63.163,
          62.8526,
          62.5833,
          63.3871,
          62.1011,
          61.726,
          60.958,
          59.9489,
          59.9936,
          58.6362,
          59.3863,
          60.7437,
          61.9493,
          64.6462,
          62.5387,
          63.0586,
          62.8697,
          62.6178
         ]
        }
       ],
       "layout": {
        "height": 500,
        "legend": {
         "title": {
          "text": "transactionType"
         },
         "tracegroupgap": 0
        },
        "template": {
         "data": {
          "bar": [
           {
            "error_x": {
             "color": "#2a3f5f"
            },
            "error_y": {
             "color": "#2a3f5f"
            },
            "marker": {
             "line": {
              "color": "#E5ECF6",
              "width": 0.5
             },
             "pattern": {
              "fillmode": "overlay",
              "size": 10,
              "solidity": 0.2
             }
            },
            "type": "bar"
           }
          ],
          "barpolar": [
           {
            "marker": {
             "line": {
              "color": "#E5ECF6",
              "width": 0.5
             },
             "pattern": {
              "fillmode": "overlay",
              "size": 10,
              "solidity": 0.2
             }
            },
            "type": "barpolar"
           }
          ],
          "carpet": [
           {
            "aaxis": {
             "endlinecolor": "#2a3f5f",
             "gridcolor": "white",
             "linecolor": "white",
             "minorgridcolor": "white",
             "startlinecolor": "#2a3f5f"
            },
            "baxis": {
             "endlinecolor": "#2a3f5f",
             "gridcolor": "white",
             "linecolor": "white",
             "minorgridcolor": "white",
             "startlinecolor": "#2a3f5f"
            },
            "type": "carpet"
           }
          ],
          "choropleth": [
           {
            "colorbar": {
             "outlinewidth": 0,
             "ticks": ""
            },
            "type": "choropleth"
           }
          ],
          "contour": [
           {
            "colorbar": {
             "outlinewidth": 0,
             "ticks": ""
            },
            "colorscale": [
             [
              0,
              "#0d0887"
             ],
             [
              0.1111111111111111,
              "#46039f"
             ],
             [
              0.2222222222222222,
              "#7201a8"
             ],
             [
              0.3333333333333333,
              "#9c179e"
             ],
             [
              0.4444444444444444,
              "#bd3786"
             ],
             [
              0.5555555555555556,
              "#d8576b"
             ],
             [
              0.6666666666666666,
              "#ed7953"
             ],
             [
              0.7777777777777778,
              "#fb9f3a"
             ],
             [
              0.8888888888888888,
              "#fdca26"
             ],
             [
              1,
              "#f0f921"
             ]
            ],
            "type": "contour"
           }
          ],
          "contourcarpet": [
           {
            "colorbar": {
             "outlinewidth": 0,
             "ticks": ""
            },
            "type": "contourcarpet"
           }
          ],
          "heatmap": [
           {
            "colorbar": {
             "outlinewidth": 0,
             "ticks": ""
            },
            "colorscale": [
             [
              0,
              "#0d0887"
             ],
             [
              0.1111111111111111,
              "#46039f"
             ],
             [
              0.2222222222222222,
              "#7201a8"
             ],
             [
              0.3333333333333333,
              "#9c179e"
             ],
             [
              0.4444444444444444,
              "#bd3786"
             ],
             [
              0.5555555555555556,
              "#d8576b"
             ],
             [
              0.6666666666666666,
              "#ed7953"
             ],
             [
              0.7777777777777778,
              "#fb9f3a"
             ],
             [
              0.8888888888888888,
              "#fdca26"
             ],
             [
              1,
              "#f0f921"
             ]
            ],
            "type": "heatmap"
           }
          ],
          "heatmapgl": [
           {
            "colorbar": {
             "outlinewidth": 0,
             "ticks": ""
            },
            "colorscale": [
             [
              0,
              "#0d0887"
             ],
             [
              0.1111111111111111,
              "#46039f"
             ],
             [
              0.2222222222222222,
              "#7201a8"
             ],
             [
              0.3333333333333333,
              "#9c179e"
             ],
             [
              0.4444444444444444,
              "#bd3786"
             ],
             [
              0.5555555555555556,
              "#d8576b"
             ],
             [
              0.6666666666666666,
              "#ed7953"
             ],
             [
              0.7777777777777778,
              "#fb9f3a"
             ],
             [
              0.8888888888888888,
              "#fdca26"
             ],
             [
              1,
              "#f0f921"
             ]
            ],
            "type": "heatmapgl"
           }
          ],
          "histogram": [
           {
            "marker": {
             "pattern": {
              "fillmode": "overlay",
              "size": 10,
              "solidity": 0.2
             }
            },
            "type": "histogram"
           }
          ],
          "histogram2d": [
           {
            "colorbar": {
             "outlinewidth": 0,
             "ticks": ""
            },
            "colorscale": [
             [
              0,
              "#0d0887"
             ],
             [
              0.1111111111111111,
              "#46039f"
             ],
             [
              0.2222222222222222,
              "#7201a8"
             ],
             [
              0.3333333333333333,
              "#9c179e"
             ],
             [
              0.4444444444444444,
              "#bd3786"
             ],
             [
              0.5555555555555556,
              "#d8576b"
             ],
             [
              0.6666666666666666,
              "#ed7953"
             ],
             [
              0.7777777777777778,
              "#fb9f3a"
             ],
             [
              0.8888888888888888,
              "#fdca26"
             ],
             [
              1,
              "#f0f921"
             ]
            ],
            "type": "histogram2d"
           }
          ],
          "histogram2dcontour": [
           {
            "colorbar": {
             "outlinewidth": 0,
             "ticks": ""
            },
            "colorscale": [
             [
              0,
              "#0d0887"
             ],
             [
              0.1111111111111111,
              "#46039f"
             ],
             [
              0.2222222222222222,
              "#7201a8"
             ],
             [
              0.3333333333333333,
              "#9c179e"
             ],
             [
              0.4444444444444444,
              "#bd3786"
             ],
             [
              0.5555555555555556,
              "#d8576b"
             ],
             [
              0.6666666666666666,
              "#ed7953"
             ],
             [
              0.7777777777777778,
              "#fb9f3a"
             ],
             [
              0.8888888888888888,
              "#fdca26"
             ],
             [
              1,
              "#f0f921"
             ]
            ],
            "type": "histogram2dcontour"
           }
          ],
          "mesh3d": [
           {
            "colorbar": {
             "outlinewidth": 0,
             "ticks": ""
            },
            "type": "mesh3d"
           }
          ],
          "parcoords": [
           {
            "line": {
             "colorbar": {
              "outlinewidth": 0,
              "ticks": ""
             }
            },
            "type": "parcoords"
           }
          ],
          "pie": [
           {
            "automargin": true,
            "type": "pie"
           }
          ],
          "scatter": [
           {
            "fillpattern": {
             "fillmode": "overlay",
             "size": 10,
             "solidity": 0.2
            },
            "type": "scatter"
           }
          ],
          "scatter3d": [
           {
            "line": {
             "colorbar": {
              "outlinewidth": 0,
              "ticks": ""
             }
            },
            "marker": {
             "colorbar": {
              "outlinewidth": 0,
              "ticks": ""
             }
            },
            "type": "scatter3d"
           }
          ],
          "scattercarpet": [
           {
            "marker": {
             "colorbar": {
              "outlinewidth": 0,
              "ticks": ""
             }
            },
            "type": "scattercarpet"
           }
          ],
          "scattergeo": [
           {
            "marker": {
             "colorbar": {
              "outlinewidth": 0,
              "ticks": ""
             }
            },
            "type": "scattergeo"
           }
          ],
          "scattergl": [
           {
            "marker": {
             "colorbar": {
              "outlinewidth": 0,
              "ticks": ""
             }
            },
            "type": "scattergl"
           }
          ],
          "scattermapbox": [
           {
            "marker": {
             "colorbar": {
              "outlinewidth": 0,
              "ticks": ""
             }
            },
            "type": "scattermapbox"
           }
          ],
          "scatterpolar": [
           {
            "marker": {
             "colorbar": {
              "outlinewidth": 0,
              "ticks": ""
             }
            },
            "type": "scatterpolar"
           }
          ],
          "scatterpolargl": [
           {
            "marker": {
             "colorbar": {
              "outlinewidth": 0,
              "ticks": ""
             }
            },
            "type": "scatterpolargl"
           }
          ],
          "scatterternary": [
           {
            "marker": {
             "colorbar": {
              "outlinewidth": 0,
              "ticks": ""
             }
            },
            "type": "scatterternary"
           }
          ],
          "surface": [
           {
            "colorbar": {
             "outlinewidth": 0,
             "ticks": ""
            },
            "colorscale": [
             [
              0,
              "#0d0887"
             ],
             [
              0.1111111111111111,
              "#46039f"
             ],
             [
              0.2222222222222222,
              "#7201a8"
             ],
             [
              0.3333333333333333,
              "#9c179e"
             ],
             [
              0.4444444444444444,
              "#bd3786"
             ],
             [
              0.5555555555555556,
              "#d8576b"
             ],
             [
              0.6666666666666666,
              "#ed7953"
             ],
             [
              0.7777777777777778,
              "#fb9f3a"
             ],
             [
              0.8888888888888888,
              "#fdca26"
             ],
             [
              1,
              "#f0f921"
             ]
            ],
            "type": "surface"
           }
          ],
          "table": [
           {
            "cells": {
             "fill": {
              "color": "#EBF0F8"
             },
             "line": {
              "color": "white"
             }
            },
            "header": {
             "fill": {
              "color": "#C8D4E3"
             },
             "line": {
              "color": "white"
             }
            },
            "type": "table"
           }
          ]
         },
         "layout": {
          "annotationdefaults": {
           "arrowcolor": "#2a3f5f",
           "arrowhead": 0,
           "arrowwidth": 1
          },
          "autotypenumbers": "strict",
          "coloraxis": {
           "colorbar": {
            "outlinewidth": 0,
            "ticks": ""
           }
          },
          "colorscale": {
           "diverging": [
            [
             0,
             "#8e0152"
            ],
            [
             0.1,
             "#c51b7d"
            ],
            [
             0.2,
             "#de77ae"
            ],
            [
             0.3,
             "#f1b6da"
            ],
            [
             0.4,
             "#fde0ef"
            ],
            [
             0.5,
             "#f7f7f7"
            ],
            [
             0.6,
             "#e6f5d0"
            ],
            [
             0.7,
             "#b8e186"
            ],
            [
             0.8,
             "#7fbc41"
            ],
            [
             0.9,
             "#4d9221"
            ],
            [
             1,
             "#276419"
            ]
           ],
           "sequential": [
            [
             0,
             "#0d0887"
            ],
            [
             0.1111111111111111,
             "#46039f"
            ],
            [
             0.2222222222222222,
             "#7201a8"
            ],
            [
             0.3333333333333333,
             "#9c179e"
            ],
            [
             0.4444444444444444,
             "#bd3786"
            ],
            [
             0.5555555555555556,
             "#d8576b"
            ],
            [
             0.6666666666666666,
             "#ed7953"
            ],
            [
             0.7777777777777778,
             "#fb9f3a"
            ],
            [
             0.8888888888888888,
             "#fdca26"
            ],
            [
             1,
             "#f0f921"
            ]
           ],
           "sequentialminus": [
            [
             0,
             "#0d0887"
            ],
            [
             0.1111111111111111,
             "#46039f"
            ],
            [
             0.2222222222222222,
             "#7201a8"
            ],
            [
             0.3333333333333333,
             "#9c179e"
            ],
            [
             0.4444444444444444,
             "#bd3786"
            ],
            [
             0.5555555555555556,
             "#d8576b"
            ],
            [
             0.6666666666666666,
             "#ed7953"
            ],
            [
             0.7777777777777778,
             "#fb9f3a"
            ],
            [
             0.8888888888888888,
             "#fdca26"
            ],
            [
             1,
             "#f0f921"
            ]
           ]
          },
          "colorway": [
           "#636efa",
           "#EF553B",
           "#00cc96",
           "#ab63fa",
           "#FFA15A",
           "#19d3f3",
           "#FF6692",
           "#B6E880",
           "#FF97FF",
           "#FECB52"
          ],
          "font": {
           "color": "#2a3f5f"
          },
          "geo": {
           "bgcolor": "white",
           "lakecolor": "white",
           "landcolor": "#E5ECF6",
           "showlakes": true,
           "showland": true,
           "subunitcolor": "white"
          },
          "hoverlabel": {
           "align": "left"
          },
          "hovermode": "closest",
          "mapbox": {
           "style": "light"
          },
          "paper_bgcolor": "white",
          "plot_bgcolor": "#E5ECF6",
          "polar": {
           "angularaxis": {
            "gridcolor": "white",
            "linecolor": "white",
            "ticks": ""
           },
           "bgcolor": "#E5ECF6",
           "radialaxis": {
            "gridcolor": "white",
            "linecolor": "white",
            "ticks": ""
           }
          },
          "scene": {
           "xaxis": {
            "backgroundcolor": "#E5ECF6",
            "gridcolor": "white",
            "gridwidth": 2,
            "linecolor": "white",
            "showbackground": true,
            "ticks": "",
            "zerolinecolor": "white"
           },
           "yaxis": {
            "backgroundcolor": "#E5ECF6",
            "gridcolor": "white",
            "gridwidth": 2,
            "linecolor": "white",
            "showbackground": true,
            "ticks": "",
            "zerolinecolor": "white"
           },
           "zaxis": {
            "backgroundcolor": "#E5ECF6",
            "gridcolor": "white",
            "gridwidth": 2,
            "linecolor": "white",
            "showbackground": true,
            "ticks": "",
            "zerolinecolor": "white"
           }
          },
          "shapedefaults": {
           "line": {
            "color": "#2a3f5f"
           }
          },
          "ternary": {
           "aaxis": {
            "gridcolor": "white",
            "linecolor": "white",
            "ticks": ""
           },
           "baxis": {
            "gridcolor": "white",
            "linecolor": "white",
            "ticks": ""
           },
           "bgcolor": "#E5ECF6",
           "caxis": {
            "gridcolor": "white",
            "linecolor": "white",
            "ticks": ""
           }
          },
          "title": {
           "x": 0.05
          },
          "xaxis": {
           "automargin": true,
           "gridcolor": "white",
           "linecolor": "white",
           "ticks": "",
           "title": {
            "standoff": 15
           },
           "zerolinecolor": "white",
           "zerolinewidth": 2
          },
          "yaxis": {
           "automargin": true,
           "gridcolor": "white",
           "linecolor": "white",
           "ticks": "",
           "title": {
            "standoff": 15
           },
           "zerolinecolor": "white",
           "zerolinewidth": 2
          }
         }
        },
        "title": {
         "text": "William Cassidy Historical Price and Transactions WMT"
        },
        "width": 800,
        "xaxis": {
         "anchor": "y",
         "domain": [
          0,
          1
         ],
         "title": {
          "text": "date"
         }
        },
        "yaxis": {
         "anchor": "x",
         "domain": [
          0,
          1
         ],
         "title": {
          "text": "historical Price WMT"
         }
        }
       }
      }
     },
     "metadata": {},
     "output_type": "display_data"
    }
   ],
   "source": [
    "# randomPurchase.ticker[0]\n",
    "randomticker = randomPurchase.ticker.values[0]\n",
    "randomDateFull = randomPurchase.transaction_date.values[0]\n",
    "randomDate = str(randomDateFull).split(\"T\")[0]\n",
    "randomSenator = randomPurchase.senatorId.values[0]\n",
    "\n",
    "graphTransactions_fromSource(randomSenator,  randomDate, randomticker)\n"
   ]
  },
  {
   "cell_type": "markdown",
   "metadata": {},
   "source": [
    "Looks like Kelly Loeffler's purchase had a pretty big pop after she bought it, but she sold and missed out on a lot of gains. \n",
    "Let's graph some more transactions at random"
   ]
  },
  {
   "cell_type": "code",
   "execution_count": 45,
   "metadata": {},
   "outputs": [
    {
     "name": "stdout",
     "output_type": "stream",
     "text": [
      "     transaction_date ticker asset_description              senator  senatorId\n",
      "5726       2020-03-24  BOIVF           Bollore  David A Perdue , Jr        136\n"
     ]
    },
    {
     "data": {
      "application/vnd.plotly.v1+json": {
       "config": {
        "plotlyServerURL": "https://plot.ly"
       },
       "data": [
        {
         "hovertemplate": "transactionType=Purchase<br>date=%{x}<br>historical Price BOIVF=%{y}<extra></extra>",
         "legendgroup": "Purchase",
         "marker": {
          "color": "#EF553B",
          "symbol": "circle"
         },
         "mode": "markers",
         "name": "Purchase",
         "orientation": "v",
         "showlegend": true,
         "type": "scatter",
         "x": [
          "2020-03-24",
          "2020-03-25",
          "2020-03-26",
          "2020-03-27"
         ],
         "xaxis": "x",
         "y": [
          2.7140285714285715,
          2.7235857142857145,
          2.733142857142857,
          2.7427
         ],
         "yaxis": "y"
        },
        {
         "hovertemplate": "transactionType=Sale (Full)<br>date=%{x}<br>historical Price BOIVF=%{y}<extra></extra>",
         "legendgroup": "Sale (Full)",
         "marker": {
          "color": "#00cc96",
          "symbol": "circle"
         },
         "mode": "markers",
         "name": "Sale (Full)",
         "orientation": "v",
         "showlegend": true,
         "type": "scatter",
         "x": [
          "2020-04-14"
         ],
         "xaxis": "x",
         "y": [
          2.5528
         ],
         "yaxis": "y"
        },
        {
         "line": {
          "color": "grey"
         },
         "mode": "lines",
         "name": "BOIVF Historical Price",
         "type": "scatter",
         "x": [
          "2020-03-20",
          "2020-03-24",
          "2020-03-25",
          "2020-03-26",
          "2020-03-27",
          "2020-03-27",
          "2020-04-03",
          "2020-04-09",
          "2020-04-14",
          "2020-04-17",
          "2020-04-24",
          "2020-05-01",
          "2020-05-08",
          "2020-05-15",
          "2020-05-22",
          "2020-05-29",
          "2020-06-05",
          "2020-06-12",
          "2020-06-19",
          "2020-06-26",
          "2020-07-02",
          "2020-07-10",
          "2020-07-17",
          "2020-07-24",
          "2020-07-31",
          "2020-08-07",
          "2020-08-14",
          "2020-08-21",
          "2020-08-28",
          "2020-09-04",
          "2020-09-11",
          "2020-09-18",
          "2020-09-25",
          "2020-10-02",
          "2020-10-09",
          "2020-10-16",
          "2020-10-23",
          "2020-10-30",
          "2020-11-06",
          "2020-11-13",
          "2020-11-20",
          "2020-11-27",
          "2020-12-04",
          "2020-12-11",
          "2020-12-18",
          "2020-12-24",
          "2020-12-31",
          "2021-01-08",
          "2021-01-15",
          "2021-01-22",
          "2021-01-29",
          "2021-02-05",
          "2021-02-12",
          "2021-02-19",
          "2021-02-26",
          "2021-03-05",
          "2021-03-12",
          "2021-03-19"
         ],
         "y": [
          2.6758,
          2.7140285714285715,
          2.7235857142857145,
          2.733142857142857,
          2.7427,
          2.7427,
          2.4178,
          2.6663,
          2.5528,
          2.4847,
          2.4847,
          2.4943,
          2.5994,
          2.5803,
          2.6376,
          2.7714,
          3.3319,
          3.0897,
          3.0994,
          2.9929,
          3.1091,
          3.1285,
          3.2544,
          3.3367,
          3.1963,
          3.5014,
          3.5674,
          3.574,
          3.7193,
          3.7282,
          3.7429,
          3.6844,
          3.5284,
          3.6161,
          3.8696,
          3.7526,
          3.6941,
          3.4894,
          3.6746,
          3.8988,
          3.9085,
          3.7769,
          3.8403,
          4.0158,
          4.1035,
          4.0606,
          4.0889,
          4.0596,
          4.2107,
          4.1912,
          3.9768,
          4.1522,
          4.3131,
          4.8296,
          4.7468,
          4.6591,
          4.6786,
          4.6591
         ]
        }
       ],
       "layout": {
        "height": 500,
        "legend": {
         "title": {
          "text": "transactionType"
         },
         "tracegroupgap": 0
        },
        "template": {
         "data": {
          "bar": [
           {
            "error_x": {
             "color": "#2a3f5f"
            },
            "error_y": {
             "color": "#2a3f5f"
            },
            "marker": {
             "line": {
              "color": "#E5ECF6",
              "width": 0.5
             },
             "pattern": {
              "fillmode": "overlay",
              "size": 10,
              "solidity": 0.2
             }
            },
            "type": "bar"
           }
          ],
          "barpolar": [
           {
            "marker": {
             "line": {
              "color": "#E5ECF6",
              "width": 0.5
             },
             "pattern": {
              "fillmode": "overlay",
              "size": 10,
              "solidity": 0.2
             }
            },
            "type": "barpolar"
           }
          ],
          "carpet": [
           {
            "aaxis": {
             "endlinecolor": "#2a3f5f",
             "gridcolor": "white",
             "linecolor": "white",
             "minorgridcolor": "white",
             "startlinecolor": "#2a3f5f"
            },
            "baxis": {
             "endlinecolor": "#2a3f5f",
             "gridcolor": "white",
             "linecolor": "white",
             "minorgridcolor": "white",
             "startlinecolor": "#2a3f5f"
            },
            "type": "carpet"
           }
          ],
          "choropleth": [
           {
            "colorbar": {
             "outlinewidth": 0,
             "ticks": ""
            },
            "type": "choropleth"
           }
          ],
          "contour": [
           {
            "colorbar": {
             "outlinewidth": 0,
             "ticks": ""
            },
            "colorscale": [
             [
              0,
              "#0d0887"
             ],
             [
              0.1111111111111111,
              "#46039f"
             ],
             [
              0.2222222222222222,
              "#7201a8"
             ],
             [
              0.3333333333333333,
              "#9c179e"
             ],
             [
              0.4444444444444444,
              "#bd3786"
             ],
             [
              0.5555555555555556,
              "#d8576b"
             ],
             [
              0.6666666666666666,
              "#ed7953"
             ],
             [
              0.7777777777777778,
              "#fb9f3a"
             ],
             [
              0.8888888888888888,
              "#fdca26"
             ],
             [
              1,
              "#f0f921"
             ]
            ],
            "type": "contour"
           }
          ],
          "contourcarpet": [
           {
            "colorbar": {
             "outlinewidth": 0,
             "ticks": ""
            },
            "type": "contourcarpet"
           }
          ],
          "heatmap": [
           {
            "colorbar": {
             "outlinewidth": 0,
             "ticks": ""
            },
            "colorscale": [
             [
              0,
              "#0d0887"
             ],
             [
              0.1111111111111111,
              "#46039f"
             ],
             [
              0.2222222222222222,
              "#7201a8"
             ],
             [
              0.3333333333333333,
              "#9c179e"
             ],
             [
              0.4444444444444444,
              "#bd3786"
             ],
             [
              0.5555555555555556,
              "#d8576b"
             ],
             [
              0.6666666666666666,
              "#ed7953"
             ],
             [
              0.7777777777777778,
              "#fb9f3a"
             ],
             [
              0.8888888888888888,
              "#fdca26"
             ],
             [
              1,
              "#f0f921"
             ]
            ],
            "type": "heatmap"
           }
          ],
          "heatmapgl": [
           {
            "colorbar": {
             "outlinewidth": 0,
             "ticks": ""
            },
            "colorscale": [
             [
              0,
              "#0d0887"
             ],
             [
              0.1111111111111111,
              "#46039f"
             ],
             [
              0.2222222222222222,
              "#7201a8"
             ],
             [
              0.3333333333333333,
              "#9c179e"
             ],
             [
              0.4444444444444444,
              "#bd3786"
             ],
             [
              0.5555555555555556,
              "#d8576b"
             ],
             [
              0.6666666666666666,
              "#ed7953"
             ],
             [
              0.7777777777777778,
              "#fb9f3a"
             ],
             [
              0.8888888888888888,
              "#fdca26"
             ],
             [
              1,
              "#f0f921"
             ]
            ],
            "type": "heatmapgl"
           }
          ],
          "histogram": [
           {
            "marker": {
             "pattern": {
              "fillmode": "overlay",
              "size": 10,
              "solidity": 0.2
             }
            },
            "type": "histogram"
           }
          ],
          "histogram2d": [
           {
            "colorbar": {
             "outlinewidth": 0,
             "ticks": ""
            },
            "colorscale": [
             [
              0,
              "#0d0887"
             ],
             [
              0.1111111111111111,
              "#46039f"
             ],
             [
              0.2222222222222222,
              "#7201a8"
             ],
             [
              0.3333333333333333,
              "#9c179e"
             ],
             [
              0.4444444444444444,
              "#bd3786"
             ],
             [
              0.5555555555555556,
              "#d8576b"
             ],
             [
              0.6666666666666666,
              "#ed7953"
             ],
             [
              0.7777777777777778,
              "#fb9f3a"
             ],
             [
              0.8888888888888888,
              "#fdca26"
             ],
             [
              1,
              "#f0f921"
             ]
            ],
            "type": "histogram2d"
           }
          ],
          "histogram2dcontour": [
           {
            "colorbar": {
             "outlinewidth": 0,
             "ticks": ""
            },
            "colorscale": [
             [
              0,
              "#0d0887"
             ],
             [
              0.1111111111111111,
              "#46039f"
             ],
             [
              0.2222222222222222,
              "#7201a8"
             ],
             [
              0.3333333333333333,
              "#9c179e"
             ],
             [
              0.4444444444444444,
              "#bd3786"
             ],
             [
              0.5555555555555556,
              "#d8576b"
             ],
             [
              0.6666666666666666,
              "#ed7953"
             ],
             [
              0.7777777777777778,
              "#fb9f3a"
             ],
             [
              0.8888888888888888,
              "#fdca26"
             ],
             [
              1,
              "#f0f921"
             ]
            ],
            "type": "histogram2dcontour"
           }
          ],
          "mesh3d": [
           {
            "colorbar": {
             "outlinewidth": 0,
             "ticks": ""
            },
            "type": "mesh3d"
           }
          ],
          "parcoords": [
           {
            "line": {
             "colorbar": {
              "outlinewidth": 0,
              "ticks": ""
             }
            },
            "type": "parcoords"
           }
          ],
          "pie": [
           {
            "automargin": true,
            "type": "pie"
           }
          ],
          "scatter": [
           {
            "fillpattern": {
             "fillmode": "overlay",
             "size": 10,
             "solidity": 0.2
            },
            "type": "scatter"
           }
          ],
          "scatter3d": [
           {
            "line": {
             "colorbar": {
              "outlinewidth": 0,
              "ticks": ""
             }
            },
            "marker": {
             "colorbar": {
              "outlinewidth": 0,
              "ticks": ""
             }
            },
            "type": "scatter3d"
           }
          ],
          "scattercarpet": [
           {
            "marker": {
             "colorbar": {
              "outlinewidth": 0,
              "ticks": ""
             }
            },
            "type": "scattercarpet"
           }
          ],
          "scattergeo": [
           {
            "marker": {
             "colorbar": {
              "outlinewidth": 0,
              "ticks": ""
             }
            },
            "type": "scattergeo"
           }
          ],
          "scattergl": [
           {
            "marker": {
             "colorbar": {
              "outlinewidth": 0,
              "ticks": ""
             }
            },
            "type": "scattergl"
           }
          ],
          "scattermapbox": [
           {
            "marker": {
             "colorbar": {
              "outlinewidth": 0,
              "ticks": ""
             }
            },
            "type": "scattermapbox"
           }
          ],
          "scatterpolar": [
           {
            "marker": {
             "colorbar": {
              "outlinewidth": 0,
              "ticks": ""
             }
            },
            "type": "scatterpolar"
           }
          ],
          "scatterpolargl": [
           {
            "marker": {
             "colorbar": {
              "outlinewidth": 0,
              "ticks": ""
             }
            },
            "type": "scatterpolargl"
           }
          ],
          "scatterternary": [
           {
            "marker": {
             "colorbar": {
              "outlinewidth": 0,
              "ticks": ""
             }
            },
            "type": "scatterternary"
           }
          ],
          "surface": [
           {
            "colorbar": {
             "outlinewidth": 0,
             "ticks": ""
            },
            "colorscale": [
             [
              0,
              "#0d0887"
             ],
             [
              0.1111111111111111,
              "#46039f"
             ],
             [
              0.2222222222222222,
              "#7201a8"
             ],
             [
              0.3333333333333333,
              "#9c179e"
             ],
             [
              0.4444444444444444,
              "#bd3786"
             ],
             [
              0.5555555555555556,
              "#d8576b"
             ],
             [
              0.6666666666666666,
              "#ed7953"
             ],
             [
              0.7777777777777778,
              "#fb9f3a"
             ],
             [
              0.8888888888888888,
              "#fdca26"
             ],
             [
              1,
              "#f0f921"
             ]
            ],
            "type": "surface"
           }
          ],
          "table": [
           {
            "cells": {
             "fill": {
              "color": "#EBF0F8"
             },
             "line": {
              "color": "white"
             }
            },
            "header": {
             "fill": {
              "color": "#C8D4E3"
             },
             "line": {
              "color": "white"
             }
            },
            "type": "table"
           }
          ]
         },
         "layout": {
          "annotationdefaults": {
           "arrowcolor": "#2a3f5f",
           "arrowhead": 0,
           "arrowwidth": 1
          },
          "autotypenumbers": "strict",
          "coloraxis": {
           "colorbar": {
            "outlinewidth": 0,
            "ticks": ""
           }
          },
          "colorscale": {
           "diverging": [
            [
             0,
             "#8e0152"
            ],
            [
             0.1,
             "#c51b7d"
            ],
            [
             0.2,
             "#de77ae"
            ],
            [
             0.3,
             "#f1b6da"
            ],
            [
             0.4,
             "#fde0ef"
            ],
            [
             0.5,
             "#f7f7f7"
            ],
            [
             0.6,
             "#e6f5d0"
            ],
            [
             0.7,
             "#b8e186"
            ],
            [
             0.8,
             "#7fbc41"
            ],
            [
             0.9,
             "#4d9221"
            ],
            [
             1,
             "#276419"
            ]
           ],
           "sequential": [
            [
             0,
             "#0d0887"
            ],
            [
             0.1111111111111111,
             "#46039f"
            ],
            [
             0.2222222222222222,
             "#7201a8"
            ],
            [
             0.3333333333333333,
             "#9c179e"
            ],
            [
             0.4444444444444444,
             "#bd3786"
            ],
            [
             0.5555555555555556,
             "#d8576b"
            ],
            [
             0.6666666666666666,
             "#ed7953"
            ],
            [
             0.7777777777777778,
             "#fb9f3a"
            ],
            [
             0.8888888888888888,
             "#fdca26"
            ],
            [
             1,
             "#f0f921"
            ]
           ],
           "sequentialminus": [
            [
             0,
             "#0d0887"
            ],
            [
             0.1111111111111111,
             "#46039f"
            ],
            [
             0.2222222222222222,
             "#7201a8"
            ],
            [
             0.3333333333333333,
             "#9c179e"
            ],
            [
             0.4444444444444444,
             "#bd3786"
            ],
            [
             0.5555555555555556,
             "#d8576b"
            ],
            [
             0.6666666666666666,
             "#ed7953"
            ],
            [
             0.7777777777777778,
             "#fb9f3a"
            ],
            [
             0.8888888888888888,
             "#fdca26"
            ],
            [
             1,
             "#f0f921"
            ]
           ]
          },
          "colorway": [
           "#636efa",
           "#EF553B",
           "#00cc96",
           "#ab63fa",
           "#FFA15A",
           "#19d3f3",
           "#FF6692",
           "#B6E880",
           "#FF97FF",
           "#FECB52"
          ],
          "font": {
           "color": "#2a3f5f"
          },
          "geo": {
           "bgcolor": "white",
           "lakecolor": "white",
           "landcolor": "#E5ECF6",
           "showlakes": true,
           "showland": true,
           "subunitcolor": "white"
          },
          "hoverlabel": {
           "align": "left"
          },
          "hovermode": "closest",
          "mapbox": {
           "style": "light"
          },
          "paper_bgcolor": "white",
          "plot_bgcolor": "#E5ECF6",
          "polar": {
           "angularaxis": {
            "gridcolor": "white",
            "linecolor": "white",
            "ticks": ""
           },
           "bgcolor": "#E5ECF6",
           "radialaxis": {
            "gridcolor": "white",
            "linecolor": "white",
            "ticks": ""
           }
          },
          "scene": {
           "xaxis": {
            "backgroundcolor": "#E5ECF6",
            "gridcolor": "white",
            "gridwidth": 2,
            "linecolor": "white",
            "showbackground": true,
            "ticks": "",
            "zerolinecolor": "white"
           },
           "yaxis": {
            "backgroundcolor": "#E5ECF6",
            "gridcolor": "white",
            "gridwidth": 2,
            "linecolor": "white",
            "showbackground": true,
            "ticks": "",
            "zerolinecolor": "white"
           },
           "zaxis": {
            "backgroundcolor": "#E5ECF6",
            "gridcolor": "white",
            "gridwidth": 2,
            "linecolor": "white",
            "showbackground": true,
            "ticks": "",
            "zerolinecolor": "white"
           }
          },
          "shapedefaults": {
           "line": {
            "color": "#2a3f5f"
           }
          },
          "ternary": {
           "aaxis": {
            "gridcolor": "white",
            "linecolor": "white",
            "ticks": ""
           },
           "baxis": {
            "gridcolor": "white",
            "linecolor": "white",
            "ticks": ""
           },
           "bgcolor": "#E5ECF6",
           "caxis": {
            "gridcolor": "white",
            "linecolor": "white",
            "ticks": ""
           }
          },
          "title": {
           "x": 0.05
          },
          "xaxis": {
           "automargin": true,
           "gridcolor": "white",
           "linecolor": "white",
           "ticks": "",
           "title": {
            "standoff": 15
           },
           "zerolinecolor": "white",
           "zerolinewidth": 2
          },
          "yaxis": {
           "automargin": true,
           "gridcolor": "white",
           "linecolor": "white",
           "ticks": "",
           "title": {
            "standoff": 15
           },
           "zerolinecolor": "white",
           "zerolinewidth": 2
          }
         }
        },
        "title": {
         "text": "David A Perdue , Jr Historical Price and Transactions BOIVF"
        },
        "width": 800,
        "xaxis": {
         "anchor": "y",
         "domain": [
          0,
          1
         ],
         "title": {
          "text": "date"
         }
        },
        "yaxis": {
         "anchor": "x",
         "domain": [
          0,
          1
         ],
         "title": {
          "text": "historical Price BOIVF"
         }
        }
       }
      }
     },
     "metadata": {},
     "output_type": "display_data"
    }
   ],
   "source": [
    "def generateRandomPurchase(randomState):\n",
    "    purchases = transactions[transactions['type']=='Purchase']\n",
    "    randomPurchase = purchases.sample(n=1,random_state=randomState)[['transaction_date','ticker','asset_description','senator','senatorId']]\n",
    "\n",
    "\n",
    "    print(randomPurchase)\n",
    "    randomticker = randomPurchase.ticker.values[0]\n",
    "    randomDateFull = randomPurchase.transaction_date.values[0]\n",
    "    randomDate = str(randomDateFull).split(\"T\")[0]\n",
    "    randomSenator = randomPurchase.senatorId.values[0]\n",
    "\n",
    "    return randomSenator,  randomDate, randomticker\n",
    "\n",
    "\n",
    "def graphRandomPurcahse(randomState):\n",
    "\n",
    "    randomSenator,  randomDate, randomticker = generateRandomPurchase(randomState)\n",
    "\n",
    "    graphTransactions_fromSource(randomSenator,  randomDate, randomticker)\n",
    "\n",
    "\n",
    "graphRandomPurcahse(427)\n",
    "\n"
   ]
  },
  {
   "cell_type": "markdown",
   "metadata": {},
   "source": [
    "Excellent trades David Perdue! "
   ]
  },
  {
   "cell_type": "code",
   "execution_count": 46,
   "metadata": {},
   "outputs": [
    {
     "name": "stdout",
     "output_type": "stream",
     "text": [
      "     transaction_date ticker              asset_description          senator  \\\n",
      "5323       2020-11-20   MRVL  Marvell Technology Group Ltd.  Thomas R Carper   \n",
      "\n",
      "      senatorId  \n",
      "5323        101  \n"
     ]
    },
    {
     "data": {
      "application/vnd.plotly.v1+json": {
       "config": {
        "plotlyServerURL": "https://plot.ly"
       },
       "data": [
        {
         "hovertemplate": "transactionType=Purchase<br>date=%{x}<br>historical Price MRVL=%{y}<extra></extra>",
         "legendgroup": "Purchase",
         "marker": {
          "color": "#EF553B",
          "symbol": "circle"
         },
         "mode": "markers",
         "name": "Purchase",
         "orientation": "v",
         "showlegend": true,
         "type": "scatter",
         "x": [
          "2020-11-20"
         ],
         "xaxis": "x",
         "y": [
          43.5836
         ],
         "yaxis": "y"
        },
        {
         "line": {
          "color": "grey"
         },
         "mode": "lines",
         "name": "MRVL Historical Price",
         "type": "scatter",
         "x": [
          "2020-11-13",
          "2020-11-20",
          "2020-11-20",
          "2020-11-27",
          "2020-12-04",
          "2020-12-11",
          "2020-12-18",
          "2020-12-24",
          "2020-12-31",
          "2021-01-08",
          "2021-01-15",
          "2021-01-22",
          "2021-01-29",
          "2021-02-05",
          "2021-02-12",
          "2021-02-19",
          "2021-02-26",
          "2021-03-05",
          "2021-03-12",
          "2021-03-19",
          "2021-03-26",
          "2021-04-01",
          "2021-04-09",
          "2021-04-16",
          "2021-04-23",
          "2021-04-30",
          "2021-05-07",
          "2021-05-14",
          "2021-05-21",
          "2021-05-28",
          "2021-06-04",
          "2021-06-11",
          "2021-06-18",
          "2021-06-25",
          "2021-07-02",
          "2021-07-09",
          "2021-07-16",
          "2021-07-23",
          "2021-07-30",
          "2021-08-06",
          "2021-08-13",
          "2021-08-20",
          "2021-08-27",
          "2021-09-03",
          "2021-09-10",
          "2021-09-17",
          "2021-09-24",
          "2021-10-01",
          "2021-10-08",
          "2021-10-15",
          "2021-10-22",
          "2021-10-29",
          "2021-11-05",
          "2021-11-12"
         ],
         "y": [
          42.8896,
          43.5836,
          43.5836,
          44.7237,
          43.0085,
          42.5723,
          47.1032,
          46.7065,
          47.1929,
          48.7217,
          50.3993,
          52.2358,
          51.0843,
          49.6846,
          53.427,
          51.5111,
          47.9275,
          41.2069,
          46.8157,
          46.6568,
          46.6271,
          49.2974,
          49.2965,
          47.6168,
          45.8179,
          44.9334,
          45.6788,
          43.0947,
          45.9372,
          48.0044,
          48.402,
          51.7812,
          53.9379,
          55.9555,
          57.0686,
          56.7116,
          53.6969,
          58.6219,
          60.2039,
          60.2337,
          60.0845,
          59.5472,
          61.0297,
          61.1988,
          60.8605,
          61.7858,
          63.2882,
          59.5273,
          64.3523,
          65.378,
          66.0353,
          68.2162,
          71.5623,
          73.1756
         ]
        }
       ],
       "layout": {
        "height": 500,
        "legend": {
         "title": {
          "text": "transactionType"
         },
         "tracegroupgap": 0
        },
        "template": {
         "data": {
          "bar": [
           {
            "error_x": {
             "color": "#2a3f5f"
            },
            "error_y": {
             "color": "#2a3f5f"
            },
            "marker": {
             "line": {
              "color": "#E5ECF6",
              "width": 0.5
             },
             "pattern": {
              "fillmode": "overlay",
              "size": 10,
              "solidity": 0.2
             }
            },
            "type": "bar"
           }
          ],
          "barpolar": [
           {
            "marker": {
             "line": {
              "color": "#E5ECF6",
              "width": 0.5
             },
             "pattern": {
              "fillmode": "overlay",
              "size": 10,
              "solidity": 0.2
             }
            },
            "type": "barpolar"
           }
          ],
          "carpet": [
           {
            "aaxis": {
             "endlinecolor": "#2a3f5f",
             "gridcolor": "white",
             "linecolor": "white",
             "minorgridcolor": "white",
             "startlinecolor": "#2a3f5f"
            },
            "baxis": {
             "endlinecolor": "#2a3f5f",
             "gridcolor": "white",
             "linecolor": "white",
             "minorgridcolor": "white",
             "startlinecolor": "#2a3f5f"
            },
            "type": "carpet"
           }
          ],
          "choropleth": [
           {
            "colorbar": {
             "outlinewidth": 0,
             "ticks": ""
            },
            "type": "choropleth"
           }
          ],
          "contour": [
           {
            "colorbar": {
             "outlinewidth": 0,
             "ticks": ""
            },
            "colorscale": [
             [
              0,
              "#0d0887"
             ],
             [
              0.1111111111111111,
              "#46039f"
             ],
             [
              0.2222222222222222,
              "#7201a8"
             ],
             [
              0.3333333333333333,
              "#9c179e"
             ],
             [
              0.4444444444444444,
              "#bd3786"
             ],
             [
              0.5555555555555556,
              "#d8576b"
             ],
             [
              0.6666666666666666,
              "#ed7953"
             ],
             [
              0.7777777777777778,
              "#fb9f3a"
             ],
             [
              0.8888888888888888,
              "#fdca26"
             ],
             [
              1,
              "#f0f921"
             ]
            ],
            "type": "contour"
           }
          ],
          "contourcarpet": [
           {
            "colorbar": {
             "outlinewidth": 0,
             "ticks": ""
            },
            "type": "contourcarpet"
           }
          ],
          "heatmap": [
           {
            "colorbar": {
             "outlinewidth": 0,
             "ticks": ""
            },
            "colorscale": [
             [
              0,
              "#0d0887"
             ],
             [
              0.1111111111111111,
              "#46039f"
             ],
             [
              0.2222222222222222,
              "#7201a8"
             ],
             [
              0.3333333333333333,
              "#9c179e"
             ],
             [
              0.4444444444444444,
              "#bd3786"
             ],
             [
              0.5555555555555556,
              "#d8576b"
             ],
             [
              0.6666666666666666,
              "#ed7953"
             ],
             [
              0.7777777777777778,
              "#fb9f3a"
             ],
             [
              0.8888888888888888,
              "#fdca26"
             ],
             [
              1,
              "#f0f921"
             ]
            ],
            "type": "heatmap"
           }
          ],
          "heatmapgl": [
           {
            "colorbar": {
             "outlinewidth": 0,
             "ticks": ""
            },
            "colorscale": [
             [
              0,
              "#0d0887"
             ],
             [
              0.1111111111111111,
              "#46039f"
             ],
             [
              0.2222222222222222,
              "#7201a8"
             ],
             [
              0.3333333333333333,
              "#9c179e"
             ],
             [
              0.4444444444444444,
              "#bd3786"
             ],
             [
              0.5555555555555556,
              "#d8576b"
             ],
             [
              0.6666666666666666,
              "#ed7953"
             ],
             [
              0.7777777777777778,
              "#fb9f3a"
             ],
             [
              0.8888888888888888,
              "#fdca26"
             ],
             [
              1,
              "#f0f921"
             ]
            ],
            "type": "heatmapgl"
           }
          ],
          "histogram": [
           {
            "marker": {
             "pattern": {
              "fillmode": "overlay",
              "size": 10,
              "solidity": 0.2
             }
            },
            "type": "histogram"
           }
          ],
          "histogram2d": [
           {
            "colorbar": {
             "outlinewidth": 0,
             "ticks": ""
            },
            "colorscale": [
             [
              0,
              "#0d0887"
             ],
             [
              0.1111111111111111,
              "#46039f"
             ],
             [
              0.2222222222222222,
              "#7201a8"
             ],
             [
              0.3333333333333333,
              "#9c179e"
             ],
             [
              0.4444444444444444,
              "#bd3786"
             ],
             [
              0.5555555555555556,
              "#d8576b"
             ],
             [
              0.6666666666666666,
              "#ed7953"
             ],
             [
              0.7777777777777778,
              "#fb9f3a"
             ],
             [
              0.8888888888888888,
              "#fdca26"
             ],
             [
              1,
              "#f0f921"
             ]
            ],
            "type": "histogram2d"
           }
          ],
          "histogram2dcontour": [
           {
            "colorbar": {
             "outlinewidth": 0,
             "ticks": ""
            },
            "colorscale": [
             [
              0,
              "#0d0887"
             ],
             [
              0.1111111111111111,
              "#46039f"
             ],
             [
              0.2222222222222222,
              "#7201a8"
             ],
             [
              0.3333333333333333,
              "#9c179e"
             ],
             [
              0.4444444444444444,
              "#bd3786"
             ],
             [
              0.5555555555555556,
              "#d8576b"
             ],
             [
              0.6666666666666666,
              "#ed7953"
             ],
             [
              0.7777777777777778,
              "#fb9f3a"
             ],
             [
              0.8888888888888888,
              "#fdca26"
             ],
             [
              1,
              "#f0f921"
             ]
            ],
            "type": "histogram2dcontour"
           }
          ],
          "mesh3d": [
           {
            "colorbar": {
             "outlinewidth": 0,
             "ticks": ""
            },
            "type": "mesh3d"
           }
          ],
          "parcoords": [
           {
            "line": {
             "colorbar": {
              "outlinewidth": 0,
              "ticks": ""
             }
            },
            "type": "parcoords"
           }
          ],
          "pie": [
           {
            "automargin": true,
            "type": "pie"
           }
          ],
          "scatter": [
           {
            "fillpattern": {
             "fillmode": "overlay",
             "size": 10,
             "solidity": 0.2
            },
            "type": "scatter"
           }
          ],
          "scatter3d": [
           {
            "line": {
             "colorbar": {
              "outlinewidth": 0,
              "ticks": ""
             }
            },
            "marker": {
             "colorbar": {
              "outlinewidth": 0,
              "ticks": ""
             }
            },
            "type": "scatter3d"
           }
          ],
          "scattercarpet": [
           {
            "marker": {
             "colorbar": {
              "outlinewidth": 0,
              "ticks": ""
             }
            },
            "type": "scattercarpet"
           }
          ],
          "scattergeo": [
           {
            "marker": {
             "colorbar": {
              "outlinewidth": 0,
              "ticks": ""
             }
            },
            "type": "scattergeo"
           }
          ],
          "scattergl": [
           {
            "marker": {
             "colorbar": {
              "outlinewidth": 0,
              "ticks": ""
             }
            },
            "type": "scattergl"
           }
          ],
          "scattermapbox": [
           {
            "marker": {
             "colorbar": {
              "outlinewidth": 0,
              "ticks": ""
             }
            },
            "type": "scattermapbox"
           }
          ],
          "scatterpolar": [
           {
            "marker": {
             "colorbar": {
              "outlinewidth": 0,
              "ticks": ""
             }
            },
            "type": "scatterpolar"
           }
          ],
          "scatterpolargl": [
           {
            "marker": {
             "colorbar": {
              "outlinewidth": 0,
              "ticks": ""
             }
            },
            "type": "scatterpolargl"
           }
          ],
          "scatterternary": [
           {
            "marker": {
             "colorbar": {
              "outlinewidth": 0,
              "ticks": ""
             }
            },
            "type": "scatterternary"
           }
          ],
          "surface": [
           {
            "colorbar": {
             "outlinewidth": 0,
             "ticks": ""
            },
            "colorscale": [
             [
              0,
              "#0d0887"
             ],
             [
              0.1111111111111111,
              "#46039f"
             ],
             [
              0.2222222222222222,
              "#7201a8"
             ],
             [
              0.3333333333333333,
              "#9c179e"
             ],
             [
              0.4444444444444444,
              "#bd3786"
             ],
             [
              0.5555555555555556,
              "#d8576b"
             ],
             [
              0.6666666666666666,
              "#ed7953"
             ],
             [
              0.7777777777777778,
              "#fb9f3a"
             ],
             [
              0.8888888888888888,
              "#fdca26"
             ],
             [
              1,
              "#f0f921"
             ]
            ],
            "type": "surface"
           }
          ],
          "table": [
           {
            "cells": {
             "fill": {
              "color": "#EBF0F8"
             },
             "line": {
              "color": "white"
             }
            },
            "header": {
             "fill": {
              "color": "#C8D4E3"
             },
             "line": {
              "color": "white"
             }
            },
            "type": "table"
           }
          ]
         },
         "layout": {
          "annotationdefaults": {
           "arrowcolor": "#2a3f5f",
           "arrowhead": 0,
           "arrowwidth": 1
          },
          "autotypenumbers": "strict",
          "coloraxis": {
           "colorbar": {
            "outlinewidth": 0,
            "ticks": ""
           }
          },
          "colorscale": {
           "diverging": [
            [
             0,
             "#8e0152"
            ],
            [
             0.1,
             "#c51b7d"
            ],
            [
             0.2,
             "#de77ae"
            ],
            [
             0.3,
             "#f1b6da"
            ],
            [
             0.4,
             "#fde0ef"
            ],
            [
             0.5,
             "#f7f7f7"
            ],
            [
             0.6,
             "#e6f5d0"
            ],
            [
             0.7,
             "#b8e186"
            ],
            [
             0.8,
             "#7fbc41"
            ],
            [
             0.9,
             "#4d9221"
            ],
            [
             1,
             "#276419"
            ]
           ],
           "sequential": [
            [
             0,
             "#0d0887"
            ],
            [
             0.1111111111111111,
             "#46039f"
            ],
            [
             0.2222222222222222,
             "#7201a8"
            ],
            [
             0.3333333333333333,
             "#9c179e"
            ],
            [
             0.4444444444444444,
             "#bd3786"
            ],
            [
             0.5555555555555556,
             "#d8576b"
            ],
            [
             0.6666666666666666,
             "#ed7953"
            ],
            [
             0.7777777777777778,
             "#fb9f3a"
            ],
            [
             0.8888888888888888,
             "#fdca26"
            ],
            [
             1,
             "#f0f921"
            ]
           ],
           "sequentialminus": [
            [
             0,
             "#0d0887"
            ],
            [
             0.1111111111111111,
             "#46039f"
            ],
            [
             0.2222222222222222,
             "#7201a8"
            ],
            [
             0.3333333333333333,
             "#9c179e"
            ],
            [
             0.4444444444444444,
             "#bd3786"
            ],
            [
             0.5555555555555556,
             "#d8576b"
            ],
            [
             0.6666666666666666,
             "#ed7953"
            ],
            [
             0.7777777777777778,
             "#fb9f3a"
            ],
            [
             0.8888888888888888,
             "#fdca26"
            ],
            [
             1,
             "#f0f921"
            ]
           ]
          },
          "colorway": [
           "#636efa",
           "#EF553B",
           "#00cc96",
           "#ab63fa",
           "#FFA15A",
           "#19d3f3",
           "#FF6692",
           "#B6E880",
           "#FF97FF",
           "#FECB52"
          ],
          "font": {
           "color": "#2a3f5f"
          },
          "geo": {
           "bgcolor": "white",
           "lakecolor": "white",
           "landcolor": "#E5ECF6",
           "showlakes": true,
           "showland": true,
           "subunitcolor": "white"
          },
          "hoverlabel": {
           "align": "left"
          },
          "hovermode": "closest",
          "mapbox": {
           "style": "light"
          },
          "paper_bgcolor": "white",
          "plot_bgcolor": "#E5ECF6",
          "polar": {
           "angularaxis": {
            "gridcolor": "white",
            "linecolor": "white",
            "ticks": ""
           },
           "bgcolor": "#E5ECF6",
           "radialaxis": {
            "gridcolor": "white",
            "linecolor": "white",
            "ticks": ""
           }
          },
          "scene": {
           "xaxis": {
            "backgroundcolor": "#E5ECF6",
            "gridcolor": "white",
            "gridwidth": 2,
            "linecolor": "white",
            "showbackground": true,
            "ticks": "",
            "zerolinecolor": "white"
           },
           "yaxis": {
            "backgroundcolor": "#E5ECF6",
            "gridcolor": "white",
            "gridwidth": 2,
            "linecolor": "white",
            "showbackground": true,
            "ticks": "",
            "zerolinecolor": "white"
           },
           "zaxis": {
            "backgroundcolor": "#E5ECF6",
            "gridcolor": "white",
            "gridwidth": 2,
            "linecolor": "white",
            "showbackground": true,
            "ticks": "",
            "zerolinecolor": "white"
           }
          },
          "shapedefaults": {
           "line": {
            "color": "#2a3f5f"
           }
          },
          "ternary": {
           "aaxis": {
            "gridcolor": "white",
            "linecolor": "white",
            "ticks": ""
           },
           "baxis": {
            "gridcolor": "white",
            "linecolor": "white",
            "ticks": ""
           },
           "bgcolor": "#E5ECF6",
           "caxis": {
            "gridcolor": "white",
            "linecolor": "white",
            "ticks": ""
           }
          },
          "title": {
           "x": 0.05
          },
          "xaxis": {
           "automargin": true,
           "gridcolor": "white",
           "linecolor": "white",
           "ticks": "",
           "title": {
            "standoff": 15
           },
           "zerolinecolor": "white",
           "zerolinewidth": 2
          },
          "yaxis": {
           "automargin": true,
           "gridcolor": "white",
           "linecolor": "white",
           "ticks": "",
           "title": {
            "standoff": 15
           },
           "zerolinecolor": "white",
           "zerolinewidth": 2
          }
         }
        },
        "title": {
         "text": "Thomas R Carper Historical Price and Transactions MRVL"
        },
        "width": 800,
        "xaxis": {
         "anchor": "y",
         "domain": [
          0,
          1
         ],
         "title": {
          "text": "date"
         }
        },
        "yaxis": {
         "anchor": "x",
         "domain": [
          0,
          1
         ],
         "title": {
          "text": "historical Price MRVL"
         }
        }
       }
      }
     },
     "metadata": {},
     "output_type": "display_data"
    }
   ],
   "source": [
    "graphRandomPurcahse(430)"
   ]
  },
  {
   "cell_type": "markdown",
   "metadata": {},
   "source": [
    "Well done Ronald! Personally, I wouldn't sell either. There's a substantial jump in price, particularly after the first purchase. However, this analsysis is only sound if we differentiate between:  <br>\n",
    "    &nbsp; changes in the marketplace in general AND <br>\n",
    "    &nbsp; changes in this stock in particular <br>\n",
    "Next we build upon previous funcions, graphing all transactions of a single senator in a single stock, but using growth rates instead of just historical prices. "
   ]
  },
  {
   "cell_type": "code",
   "execution_count": 47,
   "metadata": {},
   "outputs": [
    {
     "data": {
      "text/html": [
       "<div>\n",
       "<style scoped>\n",
       "    .dataframe tbody tr th:only-of-type {\n",
       "        vertical-align: middle;\n",
       "    }\n",
       "\n",
       "    .dataframe tbody tr th {\n",
       "        vertical-align: top;\n",
       "    }\n",
       "\n",
       "    .dataframe thead th {\n",
       "        text-align: right;\n",
       "    }\n",
       "</style>\n",
       "<table border=\"1\" class=\"dataframe\">\n",
       "  <thead>\n",
       "    <tr style=\"text-align: right;\">\n",
       "      <th></th>\n",
       "      <th>date</th>\n",
       "      <th>REGN</th>\n",
       "      <th>SPY</th>\n",
       "      <th>transactionType</th>\n",
       "      <th>transactionValue</th>\n",
       "      <th>REGN_growth</th>\n",
       "      <th>REGN_pchange</th>\n",
       "      <th>SPY_growth</th>\n",
       "      <th>SPY_pchange</th>\n",
       "    </tr>\n",
       "  </thead>\n",
       "  <tbody>\n",
       "    <tr>\n",
       "      <th>0</th>\n",
       "      <td>2021-03-26</td>\n",
       "      <td>476.91</td>\n",
       "      <td>387.52340</td>\n",
       "      <td>NaN</td>\n",
       "      <td>NaN</td>\n",
       "      <td>NaN</td>\n",
       "      <td>NaN</td>\n",
       "      <td>NaN</td>\n",
       "      <td>NaN</td>\n",
       "    </tr>\n",
       "    <tr>\n",
       "      <th>53</th>\n",
       "      <td>2021-03-29</td>\n",
       "      <td>475.92</td>\n",
       "      <td>389.78895</td>\n",
       "      <td>Purchase</td>\n",
       "      <td>475.92</td>\n",
       "      <td>100.000000</td>\n",
       "      <td>-0.002076</td>\n",
       "      <td>100.000000</td>\n",
       "      <td>0.005846</td>\n",
       "    </tr>\n",
       "    <tr>\n",
       "      <th>1</th>\n",
       "      <td>2021-04-01</td>\n",
       "      <td>474.93</td>\n",
       "      <td>392.05450</td>\n",
       "      <td>NaN</td>\n",
       "      <td>NaN</td>\n",
       "      <td>99.791982</td>\n",
       "      <td>-0.002080</td>\n",
       "      <td>100.581225</td>\n",
       "      <td>0.005812</td>\n",
       "    </tr>\n",
       "    <tr>\n",
       "      <th>2</th>\n",
       "      <td>2021-04-09</td>\n",
       "      <td>475.17</td>\n",
       "      <td>402.70220</td>\n",
       "      <td>NaN</td>\n",
       "      <td>NaN</td>\n",
       "      <td>99.842410</td>\n",
       "      <td>0.000505</td>\n",
       "      <td>103.312883</td>\n",
       "      <td>0.027159</td>\n",
       "    </tr>\n",
       "    <tr>\n",
       "      <th>3</th>\n",
       "      <td>2021-04-16</td>\n",
       "      <td>502.60</td>\n",
       "      <td>408.34890</td>\n",
       "      <td>NaN</td>\n",
       "      <td>NaN</td>\n",
       "      <td>105.605984</td>\n",
       "      <td>0.057727</td>\n",
       "      <td>104.761538</td>\n",
       "      <td>0.014022</td>\n",
       "    </tr>\n",
       "  </tbody>\n",
       "</table>\n",
       "</div>"
      ],
      "text/plain": [
       "          date    REGN        SPY transactionType  transactionValue  \\\n",
       "0   2021-03-26  476.91  387.52340             NaN               NaN   \n",
       "53  2021-03-29  475.92  389.78895        Purchase            475.92   \n",
       "1   2021-04-01  474.93  392.05450             NaN               NaN   \n",
       "2   2021-04-09  475.17  402.70220             NaN               NaN   \n",
       "3   2021-04-16  502.60  408.34890             NaN               NaN   \n",
       "\n",
       "    REGN_growth  REGN_pchange  SPY_growth  SPY_pchange  \n",
       "0           NaN           NaN         NaN          NaN  \n",
       "53   100.000000     -0.002076  100.000000     0.005846  \n",
       "1     99.791982     -0.002080  100.581225     0.005812  \n",
       "2     99.842410      0.000505  103.312883     0.027159  \n",
       "3    105.605984      0.057727  104.761538     0.014022  "
      ]
     },
     "execution_count": 47,
     "metadata": {},
     "output_type": "execute_result"
    }
   ],
   "source": [
    "def historicalGrowthRatesWithTransactions(senatorIdInput, dateInput,tickerInput ):\n",
    "\n",
    "\n",
    "\n",
    "    #start dataframe a week early so growth rates begin at 1\n",
    "    prevWeekDate = datetime.datetime.strptime(dateInput, \"%Y-%m-%d\") +datetime.timedelta(weeks=-1)\n",
    "    prevWeekString = datetime.datetime.strftime(prevWeekDate,\"%Y-%m-%d\")\n",
    "    \n",
    "    historicalPricesFrame = historicalPricesWithTransaction(senatorIdInput, dateInput,tickerInput )\n",
    "\n",
    "    createGrowthColumn(tickerInput, historicalPricesFrame)\n",
    "    createGrowthColumn('SPY', historicalPricesFrame)\n",
    "\n",
    "    growthColumn = tickerInput+'_growth'\n",
    "\n",
    "\n",
    "    return historicalPricesFrame\n",
    "\n",
    "\n",
    "\n",
    "# temp = historicalGrowthRatesWithTransactions(136,  \"2020-03-10\", \"M\"  )\n",
    "# temp = historicalGrowthRatesWithTransactions(*testParams)\n",
    "temp = historicalGrowthRatesWithTransactions(100, '2021-03-29',\"REGN\")\n",
    "\n",
    "\n",
    "\n",
    "temp.head()"
   ]
  },
  {
   "cell_type": "code",
   "execution_count": 48,
   "metadata": {},
   "outputs": [
    {
     "data": {
      "text/html": [
       "<div>\n",
       "<style scoped>\n",
       "    .dataframe tbody tr th:only-of-type {\n",
       "        vertical-align: middle;\n",
       "    }\n",
       "\n",
       "    .dataframe tbody tr th {\n",
       "        vertical-align: top;\n",
       "    }\n",
       "\n",
       "    .dataframe thead th {\n",
       "        text-align: right;\n",
       "    }\n",
       "</style>\n",
       "<table border=\"1\" class=\"dataframe\">\n",
       "  <thead>\n",
       "    <tr style=\"text-align: right;\">\n",
       "      <th></th>\n",
       "      <th>date</th>\n",
       "      <th>DLR</th>\n",
       "      <th>SPY</th>\n",
       "      <th>transactionType</th>\n",
       "      <th>transactionValue</th>\n",
       "      <th>DLR_growth</th>\n",
       "      <th>DLR_pchange</th>\n",
       "      <th>SPY_growth</th>\n",
       "      <th>SPY_pchange</th>\n",
       "    </tr>\n",
       "  </thead>\n",
       "  <tbody>\n",
       "    <tr>\n",
       "      <th>0</th>\n",
       "      <td>2020-02-07</td>\n",
       "      <td>112.351500</td>\n",
       "      <td>317.990100</td>\n",
       "      <td>NaN</td>\n",
       "      <td>NaN</td>\n",
       "      <td>NaN</td>\n",
       "      <td>NaN</td>\n",
       "      <td>NaN</td>\n",
       "      <td>NaN</td>\n",
       "    </tr>\n",
       "    <tr>\n",
       "      <th>53</th>\n",
       "      <td>2020-02-13</td>\n",
       "      <td>118.772614</td>\n",
       "      <td>322.420757</td>\n",
       "      <td>Purchase</td>\n",
       "      <td>118.772614</td>\n",
       "      <td>100.000000</td>\n",
       "      <td>0.057152</td>\n",
       "      <td>100.000000</td>\n",
       "      <td>0.013933</td>\n",
       "    </tr>\n",
       "    <tr>\n",
       "      <th>1</th>\n",
       "      <td>2020-02-14</td>\n",
       "      <td>119.842800</td>\n",
       "      <td>323.159200</td>\n",
       "      <td>NaN</td>\n",
       "      <td>NaN</td>\n",
       "      <td>100.901037</td>\n",
       "      <td>0.009010</td>\n",
       "      <td>100.229031</td>\n",
       "      <td>0.002290</td>\n",
       "    </tr>\n",
       "    <tr>\n",
       "      <th>2</th>\n",
       "      <td>2020-02-21</td>\n",
       "      <td>125.885100</td>\n",
       "      <td>319.215400</td>\n",
       "      <td>NaN</td>\n",
       "      <td>NaN</td>\n",
       "      <td>105.988321</td>\n",
       "      <td>0.050419</td>\n",
       "      <td>99.005847</td>\n",
       "      <td>-0.012204</td>\n",
       "    </tr>\n",
       "    <tr>\n",
       "      <th>3</th>\n",
       "      <td>2020-02-28</td>\n",
       "      <td>109.462500</td>\n",
       "      <td>283.587500</td>\n",
       "      <td>NaN</td>\n",
       "      <td>NaN</td>\n",
       "      <td>92.161397</td>\n",
       "      <td>-0.130457</td>\n",
       "      <td>87.955721</td>\n",
       "      <td>-0.111611</td>\n",
       "    </tr>\n",
       "  </tbody>\n",
       "</table>\n",
       "</div>"
      ],
      "text/plain": [
       "          date         DLR         SPY transactionType  transactionValue  \\\n",
       "0   2020-02-07  112.351500  317.990100             NaN               NaN   \n",
       "53  2020-02-13  118.772614  322.420757        Purchase        118.772614   \n",
       "1   2020-02-14  119.842800  323.159200             NaN               NaN   \n",
       "2   2020-02-21  125.885100  319.215400             NaN               NaN   \n",
       "3   2020-02-28  109.462500  283.587500             NaN               NaN   \n",
       "\n",
       "    DLR_growth  DLR_pchange  SPY_growth  SPY_pchange  \n",
       "0          NaN          NaN         NaN          NaN  \n",
       "53  100.000000     0.057152  100.000000     0.013933  \n",
       "1   100.901037     0.009010  100.229031     0.002290  \n",
       "2   105.988321     0.050419   99.005847    -0.012204  \n",
       "3    92.161397    -0.130457   87.955721    -0.111611  "
      ]
     },
     "execution_count": 48,
     "metadata": {},
     "output_type": "execute_result"
    }
   ],
   "source": [
    "# temp = historicalGrowthRatesWithTransactions(123,  \"2020-02-13\", \"DLR\"  )\n",
    "temp = historicalGrowthRatesWithTransactions(*testParams )\n",
    "\n",
    "temp.head()"
   ]
  },
  {
   "cell_type": "code",
   "execution_count": 49,
   "metadata": {},
   "outputs": [
    {
     "data": {
      "application/vnd.plotly.v1+json": {
       "config": {
        "plotlyServerURL": "https://plot.ly"
       },
       "data": [
        {
         "hovertemplate": "transactionType=Purchase<br>date=%{x}<br>DLR_growth=%{y}<extra></extra>",
         "legendgroup": "Purchase",
         "marker": {
          "color": "#EF553B",
          "symbol": "circle"
         },
         "mode": "markers",
         "name": "Purchase",
         "orientation": "v",
         "showlegend": true,
         "type": "scatter",
         "x": [
          "2020-02-13"
         ],
         "xaxis": "x",
         "y": [
          100
         ],
         "yaxis": "y"
        },
        {
         "line": {
          "color": "#EB4E4B"
         },
         "mode": "lines",
         "name": "DLR Growth Rate",
         "type": "scatter",
         "x": [
          "2020-02-07",
          "2020-02-13",
          "2020-02-14",
          "2020-02-21",
          "2020-02-28",
          "2020-03-06",
          "2020-03-13",
          "2020-03-20",
          "2020-03-27",
          "2020-04-03",
          "2020-04-09",
          "2020-04-17",
          "2020-04-24",
          "2020-05-01",
          "2020-05-08",
          "2020-05-15",
          "2020-05-22",
          "2020-05-29",
          "2020-06-05",
          "2020-06-12",
          "2020-06-19",
          "2020-06-26",
          "2020-07-02",
          "2020-07-10",
          "2020-07-17",
          "2020-07-24",
          "2020-07-31",
          "2020-08-07",
          "2020-08-14",
          "2020-08-21",
          "2020-08-28",
          "2020-09-04",
          "2020-09-11",
          "2020-09-18",
          "2020-09-25",
          "2020-10-02",
          "2020-10-09",
          "2020-10-16",
          "2020-10-23",
          "2020-10-30",
          "2020-11-06",
          "2020-11-13",
          "2020-11-20",
          "2020-11-27",
          "2020-12-04",
          "2020-12-11",
          "2020-12-18",
          "2020-12-24",
          "2020-12-31",
          "2021-01-08",
          "2021-01-15",
          "2021-01-22",
          "2021-01-29",
          "2021-02-05"
         ],
         "y": [
          null,
          100,
          100.9010374325106,
          105.98832126164726,
          92.16139651239952,
          98.39961905600414,
          109.98604416145474,
          93.80958790043354,
          102.82673386830517,
          105.64413417571129,
          114.77738434894145,
          115.48175547441615,
          116.12415945330355,
          112.94295474317495,
          112.27731308431733,
          101.21676677993233,
          105.11775020768978,
          111.11635522522448,
          109.35163865936869,
          106.13170448262305,
          109.13618495268811,
          109.71367497774558,
          115.95669660743101,
          115.02028546022451,
          112.17964747284816,
          114.70809228149395,
          125.28224700186416,
          123.77617591741627,
          119.64795155400782,
          120.6155988579859,
          120.4048600428935,
          113.29564547286815,
          113.62341463273819,
          113.93914398015991,
          111.68997230362025,
          117.45451663159965,
          124.52466495703732,
          124.02135028000079,
          120.01049303934057,
          113.48306241349765,
          115.35479017950624,
          113.75829420995674,
          112.22477572090631,
          107.52966983851374,
          106.53878485456542,
          102.44928995777404,
          106.32004756267165,
          109.02521661138093,
          110.6753444727458,
          105.98688995527226,
          108.27159170770847,
          111.42896937641828,
          114.19770526707514,
          115.4749357205118
         ]
        },
        {
         "line": {
          "color": "#349FEB"
         },
         "mode": "lines",
         "name": "SPY Growth Rate",
         "type": "scatter",
         "x": [
          "2020-02-07",
          "2020-02-13",
          "2020-02-14",
          "2020-02-21",
          "2020-02-28",
          "2020-03-06",
          "2020-03-13",
          "2020-03-20",
          "2020-03-27",
          "2020-04-03",
          "2020-04-09",
          "2020-04-17",
          "2020-04-24",
          "2020-05-01",
          "2020-05-08",
          "2020-05-15",
          "2020-05-22",
          "2020-05-29",
          "2020-06-05",
          "2020-06-12",
          "2020-06-19",
          "2020-06-26",
          "2020-07-02",
          "2020-07-10",
          "2020-07-17",
          "2020-07-24",
          "2020-07-31",
          "2020-08-07",
          "2020-08-14",
          "2020-08-21",
          "2020-08-28",
          "2020-09-04",
          "2020-09-11",
          "2020-09-18",
          "2020-09-25",
          "2020-10-02",
          "2020-10-09",
          "2020-10-16",
          "2020-10-23",
          "2020-10-30",
          "2020-11-06",
          "2020-11-13",
          "2020-11-20",
          "2020-11-27",
          "2020-12-04",
          "2020-12-11",
          "2020-12-18",
          "2020-12-24",
          "2020-12-31",
          "2021-01-08",
          "2021-01-15",
          "2021-01-22",
          "2021-01-29",
          "2021-02-05"
         ],
         "y": [
          null,
          100,
          100.2290308054874,
          99.00584653070679,
          87.95572050416995,
          88.31196307681893,
          79.957569197623,
          68.34501039967606,
          75.69928256568734,
          74.13700721944834,
          83.10131840590022,
          85.62243400404964,
          84.52616463500468,
          84.47241499384147,
          87.35495273190716,
          85.51490370635037,
          88.2511109152712,
          90.90363864822068,
          95.39029147051106,
          90.87079336836388,
          92.6021955427985,
          90.02491110440295,
          93.67929741141711,
          95.28747550948623,
          96.52663270128879,
          96.27460178144327,
          97.96676950921231,
          100.38202963979677,
          101.06312722776225,
          101.85519781981426,
          105.18556652657911,
          102.78230934529076,
          100.22903080548741,
          99.6077308563925,
          99.02932516796042,
          100.56871116903011,
          104.48793774488024,
          104.62049744847606,
          104.16562599013811,
          98.36959717189426,
          105.48508198227047,
          107.87698753709272,
          107.04251893034359,
          109.5549502240927,
          111.41664797990451,
          110.34723792375473,
          111.69079286059791,
          111.63632986585895,
          113.11272364465367,
          115.3454583059678,
          113.66333955900481,
          115.83556322787263,
          111.9600373123797,
          117.29682150471258
         ]
        }
       ],
       "layout": {
        "height": 500,
        "legend": {
         "title": {
          "text": "transactionType"
         },
         "tracegroupgap": 0
        },
        "template": {
         "data": {
          "bar": [
           {
            "error_x": {
             "color": "#2a3f5f"
            },
            "error_y": {
             "color": "#2a3f5f"
            },
            "marker": {
             "line": {
              "color": "#E5ECF6",
              "width": 0.5
             },
             "pattern": {
              "fillmode": "overlay",
              "size": 10,
              "solidity": 0.2
             }
            },
            "type": "bar"
           }
          ],
          "barpolar": [
           {
            "marker": {
             "line": {
              "color": "#E5ECF6",
              "width": 0.5
             },
             "pattern": {
              "fillmode": "overlay",
              "size": 10,
              "solidity": 0.2
             }
            },
            "type": "barpolar"
           }
          ],
          "carpet": [
           {
            "aaxis": {
             "endlinecolor": "#2a3f5f",
             "gridcolor": "white",
             "linecolor": "white",
             "minorgridcolor": "white",
             "startlinecolor": "#2a3f5f"
            },
            "baxis": {
             "endlinecolor": "#2a3f5f",
             "gridcolor": "white",
             "linecolor": "white",
             "minorgridcolor": "white",
             "startlinecolor": "#2a3f5f"
            },
            "type": "carpet"
           }
          ],
          "choropleth": [
           {
            "colorbar": {
             "outlinewidth": 0,
             "ticks": ""
            },
            "type": "choropleth"
           }
          ],
          "contour": [
           {
            "colorbar": {
             "outlinewidth": 0,
             "ticks": ""
            },
            "colorscale": [
             [
              0,
              "#0d0887"
             ],
             [
              0.1111111111111111,
              "#46039f"
             ],
             [
              0.2222222222222222,
              "#7201a8"
             ],
             [
              0.3333333333333333,
              "#9c179e"
             ],
             [
              0.4444444444444444,
              "#bd3786"
             ],
             [
              0.5555555555555556,
              "#d8576b"
             ],
             [
              0.6666666666666666,
              "#ed7953"
             ],
             [
              0.7777777777777778,
              "#fb9f3a"
             ],
             [
              0.8888888888888888,
              "#fdca26"
             ],
             [
              1,
              "#f0f921"
             ]
            ],
            "type": "contour"
           }
          ],
          "contourcarpet": [
           {
            "colorbar": {
             "outlinewidth": 0,
             "ticks": ""
            },
            "type": "contourcarpet"
           }
          ],
          "heatmap": [
           {
            "colorbar": {
             "outlinewidth": 0,
             "ticks": ""
            },
            "colorscale": [
             [
              0,
              "#0d0887"
             ],
             [
              0.1111111111111111,
              "#46039f"
             ],
             [
              0.2222222222222222,
              "#7201a8"
             ],
             [
              0.3333333333333333,
              "#9c179e"
             ],
             [
              0.4444444444444444,
              "#bd3786"
             ],
             [
              0.5555555555555556,
              "#d8576b"
             ],
             [
              0.6666666666666666,
              "#ed7953"
             ],
             [
              0.7777777777777778,
              "#fb9f3a"
             ],
             [
              0.8888888888888888,
              "#fdca26"
             ],
             [
              1,
              "#f0f921"
             ]
            ],
            "type": "heatmap"
           }
          ],
          "heatmapgl": [
           {
            "colorbar": {
             "outlinewidth": 0,
             "ticks": ""
            },
            "colorscale": [
             [
              0,
              "#0d0887"
             ],
             [
              0.1111111111111111,
              "#46039f"
             ],
             [
              0.2222222222222222,
              "#7201a8"
             ],
             [
              0.3333333333333333,
              "#9c179e"
             ],
             [
              0.4444444444444444,
              "#bd3786"
             ],
             [
              0.5555555555555556,
              "#d8576b"
             ],
             [
              0.6666666666666666,
              "#ed7953"
             ],
             [
              0.7777777777777778,
              "#fb9f3a"
             ],
             [
              0.8888888888888888,
              "#fdca26"
             ],
             [
              1,
              "#f0f921"
             ]
            ],
            "type": "heatmapgl"
           }
          ],
          "histogram": [
           {
            "marker": {
             "pattern": {
              "fillmode": "overlay",
              "size": 10,
              "solidity": 0.2
             }
            },
            "type": "histogram"
           }
          ],
          "histogram2d": [
           {
            "colorbar": {
             "outlinewidth": 0,
             "ticks": ""
            },
            "colorscale": [
             [
              0,
              "#0d0887"
             ],
             [
              0.1111111111111111,
              "#46039f"
             ],
             [
              0.2222222222222222,
              "#7201a8"
             ],
             [
              0.3333333333333333,
              "#9c179e"
             ],
             [
              0.4444444444444444,
              "#bd3786"
             ],
             [
              0.5555555555555556,
              "#d8576b"
             ],
             [
              0.6666666666666666,
              "#ed7953"
             ],
             [
              0.7777777777777778,
              "#fb9f3a"
             ],
             [
              0.8888888888888888,
              "#fdca26"
             ],
             [
              1,
              "#f0f921"
             ]
            ],
            "type": "histogram2d"
           }
          ],
          "histogram2dcontour": [
           {
            "colorbar": {
             "outlinewidth": 0,
             "ticks": ""
            },
            "colorscale": [
             [
              0,
              "#0d0887"
             ],
             [
              0.1111111111111111,
              "#46039f"
             ],
             [
              0.2222222222222222,
              "#7201a8"
             ],
             [
              0.3333333333333333,
              "#9c179e"
             ],
             [
              0.4444444444444444,
              "#bd3786"
             ],
             [
              0.5555555555555556,
              "#d8576b"
             ],
             [
              0.6666666666666666,
              "#ed7953"
             ],
             [
              0.7777777777777778,
              "#fb9f3a"
             ],
             [
              0.8888888888888888,
              "#fdca26"
             ],
             [
              1,
              "#f0f921"
             ]
            ],
            "type": "histogram2dcontour"
           }
          ],
          "mesh3d": [
           {
            "colorbar": {
             "outlinewidth": 0,
             "ticks": ""
            },
            "type": "mesh3d"
           }
          ],
          "parcoords": [
           {
            "line": {
             "colorbar": {
              "outlinewidth": 0,
              "ticks": ""
             }
            },
            "type": "parcoords"
           }
          ],
          "pie": [
           {
            "automargin": true,
            "type": "pie"
           }
          ],
          "scatter": [
           {
            "fillpattern": {
             "fillmode": "overlay",
             "size": 10,
             "solidity": 0.2
            },
            "type": "scatter"
           }
          ],
          "scatter3d": [
           {
            "line": {
             "colorbar": {
              "outlinewidth": 0,
              "ticks": ""
             }
            },
            "marker": {
             "colorbar": {
              "outlinewidth": 0,
              "ticks": ""
             }
            },
            "type": "scatter3d"
           }
          ],
          "scattercarpet": [
           {
            "marker": {
             "colorbar": {
              "outlinewidth": 0,
              "ticks": ""
             }
            },
            "type": "scattercarpet"
           }
          ],
          "scattergeo": [
           {
            "marker": {
             "colorbar": {
              "outlinewidth": 0,
              "ticks": ""
             }
            },
            "type": "scattergeo"
           }
          ],
          "scattergl": [
           {
            "marker": {
             "colorbar": {
              "outlinewidth": 0,
              "ticks": ""
             }
            },
            "type": "scattergl"
           }
          ],
          "scattermapbox": [
           {
            "marker": {
             "colorbar": {
              "outlinewidth": 0,
              "ticks": ""
             }
            },
            "type": "scattermapbox"
           }
          ],
          "scatterpolar": [
           {
            "marker": {
             "colorbar": {
              "outlinewidth": 0,
              "ticks": ""
             }
            },
            "type": "scatterpolar"
           }
          ],
          "scatterpolargl": [
           {
            "marker": {
             "colorbar": {
              "outlinewidth": 0,
              "ticks": ""
             }
            },
            "type": "scatterpolargl"
           }
          ],
          "scatterternary": [
           {
            "marker": {
             "colorbar": {
              "outlinewidth": 0,
              "ticks": ""
             }
            },
            "type": "scatterternary"
           }
          ],
          "surface": [
           {
            "colorbar": {
             "outlinewidth": 0,
             "ticks": ""
            },
            "colorscale": [
             [
              0,
              "#0d0887"
             ],
             [
              0.1111111111111111,
              "#46039f"
             ],
             [
              0.2222222222222222,
              "#7201a8"
             ],
             [
              0.3333333333333333,
              "#9c179e"
             ],
             [
              0.4444444444444444,
              "#bd3786"
             ],
             [
              0.5555555555555556,
              "#d8576b"
             ],
             [
              0.6666666666666666,
              "#ed7953"
             ],
             [
              0.7777777777777778,
              "#fb9f3a"
             ],
             [
              0.8888888888888888,
              "#fdca26"
             ],
             [
              1,
              "#f0f921"
             ]
            ],
            "type": "surface"
           }
          ],
          "table": [
           {
            "cells": {
             "fill": {
              "color": "#EBF0F8"
             },
             "line": {
              "color": "white"
             }
            },
            "header": {
             "fill": {
              "color": "#C8D4E3"
             },
             "line": {
              "color": "white"
             }
            },
            "type": "table"
           }
          ]
         },
         "layout": {
          "annotationdefaults": {
           "arrowcolor": "#2a3f5f",
           "arrowhead": 0,
           "arrowwidth": 1
          },
          "autotypenumbers": "strict",
          "coloraxis": {
           "colorbar": {
            "outlinewidth": 0,
            "ticks": ""
           }
          },
          "colorscale": {
           "diverging": [
            [
             0,
             "#8e0152"
            ],
            [
             0.1,
             "#c51b7d"
            ],
            [
             0.2,
             "#de77ae"
            ],
            [
             0.3,
             "#f1b6da"
            ],
            [
             0.4,
             "#fde0ef"
            ],
            [
             0.5,
             "#f7f7f7"
            ],
            [
             0.6,
             "#e6f5d0"
            ],
            [
             0.7,
             "#b8e186"
            ],
            [
             0.8,
             "#7fbc41"
            ],
            [
             0.9,
             "#4d9221"
            ],
            [
             1,
             "#276419"
            ]
           ],
           "sequential": [
            [
             0,
             "#0d0887"
            ],
            [
             0.1111111111111111,
             "#46039f"
            ],
            [
             0.2222222222222222,
             "#7201a8"
            ],
            [
             0.3333333333333333,
             "#9c179e"
            ],
            [
             0.4444444444444444,
             "#bd3786"
            ],
            [
             0.5555555555555556,
             "#d8576b"
            ],
            [
             0.6666666666666666,
             "#ed7953"
            ],
            [
             0.7777777777777778,
             "#fb9f3a"
            ],
            [
             0.8888888888888888,
             "#fdca26"
            ],
            [
             1,
             "#f0f921"
            ]
           ],
           "sequentialminus": [
            [
             0,
             "#0d0887"
            ],
            [
             0.1111111111111111,
             "#46039f"
            ],
            [
             0.2222222222222222,
             "#7201a8"
            ],
            [
             0.3333333333333333,
             "#9c179e"
            ],
            [
             0.4444444444444444,
             "#bd3786"
            ],
            [
             0.5555555555555556,
             "#d8576b"
            ],
            [
             0.6666666666666666,
             "#ed7953"
            ],
            [
             0.7777777777777778,
             "#fb9f3a"
            ],
            [
             0.8888888888888888,
             "#fdca26"
            ],
            [
             1,
             "#f0f921"
            ]
           ]
          },
          "colorway": [
           "#636efa",
           "#EF553B",
           "#00cc96",
           "#ab63fa",
           "#FFA15A",
           "#19d3f3",
           "#FF6692",
           "#B6E880",
           "#FF97FF",
           "#FECB52"
          ],
          "font": {
           "color": "#2a3f5f"
          },
          "geo": {
           "bgcolor": "white",
           "lakecolor": "white",
           "landcolor": "#E5ECF6",
           "showlakes": true,
           "showland": true,
           "subunitcolor": "white"
          },
          "hoverlabel": {
           "align": "left"
          },
          "hovermode": "closest",
          "mapbox": {
           "style": "light"
          },
          "paper_bgcolor": "white",
          "plot_bgcolor": "#E5ECF6",
          "polar": {
           "angularaxis": {
            "gridcolor": "white",
            "linecolor": "white",
            "ticks": ""
           },
           "bgcolor": "#E5ECF6",
           "radialaxis": {
            "gridcolor": "white",
            "linecolor": "white",
            "ticks": ""
           }
          },
          "scene": {
           "xaxis": {
            "backgroundcolor": "#E5ECF6",
            "gridcolor": "white",
            "gridwidth": 2,
            "linecolor": "white",
            "showbackground": true,
            "ticks": "",
            "zerolinecolor": "white"
           },
           "yaxis": {
            "backgroundcolor": "#E5ECF6",
            "gridcolor": "white",
            "gridwidth": 2,
            "linecolor": "white",
            "showbackground": true,
            "ticks": "",
            "zerolinecolor": "white"
           },
           "zaxis": {
            "backgroundcolor": "#E5ECF6",
            "gridcolor": "white",
            "gridwidth": 2,
            "linecolor": "white",
            "showbackground": true,
            "ticks": "",
            "zerolinecolor": "white"
           }
          },
          "shapedefaults": {
           "line": {
            "color": "#2a3f5f"
           }
          },
          "ternary": {
           "aaxis": {
            "gridcolor": "white",
            "linecolor": "white",
            "ticks": ""
           },
           "baxis": {
            "gridcolor": "white",
            "linecolor": "white",
            "ticks": ""
           },
           "bgcolor": "#E5ECF6",
           "caxis": {
            "gridcolor": "white",
            "linecolor": "white",
            "ticks": ""
           }
          },
          "title": {
           "x": 0.05
          },
          "xaxis": {
           "automargin": true,
           "gridcolor": "white",
           "linecolor": "white",
           "ticks": "",
           "title": {
            "standoff": 15
           },
           "zerolinecolor": "white",
           "zerolinewidth": 2
          },
          "yaxis": {
           "automargin": true,
           "gridcolor": "white",
           "linecolor": "white",
           "ticks": "",
           "title": {
            "standoff": 15
           },
           "zerolinecolor": "white",
           "zerolinewidth": 2
          }
         }
        },
        "title": {
         "text": "Sheldon Whitehouse Growth Rates DLR"
        },
        "width": 800,
        "xaxis": {
         "anchor": "y",
         "domain": [
          0,
          1
         ],
         "title": {
          "text": "date"
         }
        },
        "yaxis": {
         "anchor": "x",
         "domain": [
          0,
          1
         ],
         "title": {
          "text": "DLR_growth"
         }
        }
       }
      }
     },
     "metadata": {},
     "output_type": "display_data"
    }
   ],
   "source": [
    "temp = historicalGrowthRatesWithTransactions(*testParams)\n",
    "\n",
    "def graphAlphaGrowth_fromHistorical(senatorIdInput, frame, tickerInput):\n",
    "    senatorName = returnSenatorNameFromId(senatorIdInput)\n",
    "\n",
    "    growthColumn = tickerInput+'_growth'\n",
    "\n",
    "\n",
    "    fig = px.scatter(frame, x=\"date\", \n",
    "    # y=\"transactionValue\", \n",
    "    y=growthColumn,\n",
    "    color=\"transactionType\",\n",
    "    labels=dict(transactionValue=\"Growth Rate\"),\n",
    "    height= graphDims['height'] , width= graphDims['width'], \n",
    "    title = senatorName+ \" Growth Rates \"+ tickerInput)\n",
    "\n",
    "\n",
    "\n",
    "    fig.add_trace(go.Scatter(x=frame['date'], y=frame[growthColumn], mode=\"lines\", line=go.scatter.Line(color=\"#EB4E4B\"), \n",
    "    name=tickerInput+' Growth Rate'))\n",
    "\n",
    "    fig.add_trace(go.Scatter(x=frame['date'], y=frame['SPY_growth'], mode=\"lines\", line=go.scatter.Line(color=\"#349FEB\"), \n",
    "    name='SPY Growth Rate'))\n",
    "\n",
    "\n",
    "\n",
    "    fig.show()\n",
    "\n",
    "graphAlphaGrowth_fromHistorical(123, temp, 'DLR')\n",
    "# graphAlphaGrowth_fromHistorical(136, temp, \"M\")"
   ]
  },
  {
   "cell_type": "code",
   "execution_count": 50,
   "metadata": {},
   "outputs": [],
   "source": [
    "def graphAlphaGrowth_fromSource(senatorIdInput, dateInput,tickerInput):\n",
    "    historical = historicalGrowthRatesWithTransactions(senatorIdInput, dateInput,tickerInput )\n",
    "\n",
    "    # historical = historical.iloc[1:, :]\n",
    "    # return historical\n",
    "    graphAlphaGrowth_fromHistorical(senatorIdInput, historical , tickerInput)"
   ]
  },
  {
   "cell_type": "code",
   "execution_count": 51,
   "metadata": {},
   "outputs": [
    {
     "data": {
      "application/vnd.plotly.v1+json": {
       "config": {
        "plotlyServerURL": "https://plot.ly"
       },
       "data": [
        {
         "hovertemplate": "transactionType=Purchase<br>date=%{x}<br>REGN_growth=%{y}<extra></extra>",
         "legendgroup": "Purchase",
         "marker": {
          "color": "#EF553B",
          "symbol": "circle"
         },
         "mode": "markers",
         "name": "Purchase",
         "orientation": "v",
         "showlegend": true,
         "type": "scatter",
         "x": [
          "2021-03-29"
         ],
         "xaxis": "x",
         "y": [
          100
         ],
         "yaxis": "y"
        },
        {
         "line": {
          "color": "#EB4E4B"
         },
         "mode": "lines",
         "name": "REGN Growth Rate",
         "type": "scatter",
         "x": [
          "2021-03-26",
          "2021-03-29",
          "2021-04-01",
          "2021-04-09",
          "2021-04-16",
          "2021-04-23",
          "2021-04-30",
          "2021-05-07",
          "2021-05-14",
          "2021-05-21",
          "2021-05-28",
          "2021-06-04",
          "2021-06-11",
          "2021-06-18",
          "2021-06-25",
          "2021-07-02",
          "2021-07-09",
          "2021-07-16",
          "2021-07-23",
          "2021-07-30",
          "2021-08-06",
          "2021-08-13",
          "2021-08-20",
          "2021-08-27",
          "2021-09-03",
          "2021-09-10",
          "2021-09-17",
          "2021-09-24",
          "2021-10-01",
          "2021-10-08",
          "2021-10-15",
          "2021-10-22",
          "2021-10-29",
          "2021-11-05",
          "2021-11-12",
          "2021-11-19",
          "2021-11-26",
          "2021-12-03",
          "2021-12-10",
          "2021-12-17",
          "2021-12-23",
          "2021-12-31",
          "2022-01-07",
          "2022-01-14",
          "2022-01-21",
          "2022-01-28",
          "2022-02-04",
          "2022-02-11",
          "2022-02-18",
          "2022-02-25",
          "2022-03-04",
          "2022-03-11",
          "2022-03-18",
          "2022-03-25"
         ],
         "y": [
          null,
          100,
          99.79198184568835,
          99.84241048915784,
          105.60598419902506,
          102.67271810388301,
          101.13044209110777,
          104.37678601445623,
          108.55185745503448,
          106.471675911918,
          105.57026390990085,
          107.55799293998993,
          110.42822323079511,
          113.02739956295177,
          115.68120692553373,
          122.63405614388978,
          121.95326945705165,
          122.55000840477396,
          123.20347957639945,
          120.73667843335019,
          128.35350479072116,
          131.2804673054295,
          139.3658598083712,
          139.370062195327,
          142.7908051773408,
          136.6805345436208,
          136.9726004370483,
          134.24525130274,
          119.93402252479413,
          115.56984367120529,
          116.24642797108764,
          120.26390990082372,
          134.46377542444117,
          128.4963859472181,
          132.62733232476057,
          137.14069591527996,
          135.1802824004035,
          133.45940494200713,
          140.6791057320559,
          130.12270969910915,
          131.40443772062537,
          132.69457051605318,
          126.85535384098173,
          129.27382753403938,
          130.56816271642296,
          131.30778282064216,
          130.89594889897467,
          134.14229282232313,
          129.25071440578253,
          129.99243570347963,
          130.36014456211134,
          135.01849050260557,
          144.12926542276026,
          142.88746007732402
         ]
        },
        {
         "line": {
          "color": "#349FEB"
         },
         "mode": "lines",
         "name": "SPY Growth Rate",
         "type": "scatter",
         "x": [
          "2021-03-26",
          "2021-03-29",
          "2021-04-01",
          "2021-04-09",
          "2021-04-16",
          "2021-04-23",
          "2021-04-30",
          "2021-05-07",
          "2021-05-14",
          "2021-05-21",
          "2021-05-28",
          "2021-06-04",
          "2021-06-11",
          "2021-06-18",
          "2021-06-25",
          "2021-07-02",
          "2021-07-09",
          "2021-07-16",
          "2021-07-23",
          "2021-07-30",
          "2021-08-06",
          "2021-08-13",
          "2021-08-20",
          "2021-08-27",
          "2021-09-03",
          "2021-09-10",
          "2021-09-17",
          "2021-09-24",
          "2021-10-01",
          "2021-10-08",
          "2021-10-15",
          "2021-10-22",
          "2021-10-29",
          "2021-11-05",
          "2021-11-12",
          "2021-11-19",
          "2021-11-26",
          "2021-12-03",
          "2021-12-10",
          "2021-12-17",
          "2021-12-23",
          "2021-12-31",
          "2022-01-07",
          "2022-01-14",
          "2022-01-21",
          "2022-01-28",
          "2022-02-04",
          "2022-02-11",
          "2022-02-18",
          "2022-02-25",
          "2022-03-04",
          "2022-03-11",
          "2022-03-18",
          "2022-03-25"
         ],
         "y": [
          null,
          100,
          100.58122478844001,
          103.31288252270876,
          104.76153826320628,
          104.6309804318465,
          104.77159498749258,
          105.98176269491476,
          104.59083049942794,
          104.17906921168493,
          105.4595313694757,
          106.10226380198823,
          106.5315987023234,
          104.51948419779471,
          107.46423160533409,
          109.25525210501732,
          109.70867696480363,
          108.65572253908172,
          110.82210001078788,
          110.46187943501218,
          111.46444761966697,
          112.3284792962961,
          111.68359185143652,
          113.41919774790946,
          114.1320963562461,
          112.20756771068034,
          111.54962191719389,
          112.18393953958928,
          109.74015553801611,
          110.65500958916354,
          112.6792588655989,
          114.5114811489653,
          116.06062716759924,
          118.40584500920299,
          118.08741628001505,
          118.49681731613985,
          115.98987092887054,
          114.58729140474601,
          118.96435237581767,
          116.6301148352204,
          119.3514079862961,
          120.45718586943003,
          118.20760952818179,
          117.86016509703514,
          111.07849517027093,
          112.08534772471096,
          113.79724848536618,
          111.70745091670756,
          110.12741638776569,
          111.02015590744679,
          109.60497982305547,
          106.5362422408331,
          113.08358022976275,
          115.16198701887258
         ]
        }
       ],
       "layout": {
        "height": 500,
        "legend": {
         "title": {
          "text": "transactionType"
         },
         "tracegroupgap": 0
        },
        "template": {
         "data": {
          "bar": [
           {
            "error_x": {
             "color": "#2a3f5f"
            },
            "error_y": {
             "color": "#2a3f5f"
            },
            "marker": {
             "line": {
              "color": "#E5ECF6",
              "width": 0.5
             },
             "pattern": {
              "fillmode": "overlay",
              "size": 10,
              "solidity": 0.2
             }
            },
            "type": "bar"
           }
          ],
          "barpolar": [
           {
            "marker": {
             "line": {
              "color": "#E5ECF6",
              "width": 0.5
             },
             "pattern": {
              "fillmode": "overlay",
              "size": 10,
              "solidity": 0.2
             }
            },
            "type": "barpolar"
           }
          ],
          "carpet": [
           {
            "aaxis": {
             "endlinecolor": "#2a3f5f",
             "gridcolor": "white",
             "linecolor": "white",
             "minorgridcolor": "white",
             "startlinecolor": "#2a3f5f"
            },
            "baxis": {
             "endlinecolor": "#2a3f5f",
             "gridcolor": "white",
             "linecolor": "white",
             "minorgridcolor": "white",
             "startlinecolor": "#2a3f5f"
            },
            "type": "carpet"
           }
          ],
          "choropleth": [
           {
            "colorbar": {
             "outlinewidth": 0,
             "ticks": ""
            },
            "type": "choropleth"
           }
          ],
          "contour": [
           {
            "colorbar": {
             "outlinewidth": 0,
             "ticks": ""
            },
            "colorscale": [
             [
              0,
              "#0d0887"
             ],
             [
              0.1111111111111111,
              "#46039f"
             ],
             [
              0.2222222222222222,
              "#7201a8"
             ],
             [
              0.3333333333333333,
              "#9c179e"
             ],
             [
              0.4444444444444444,
              "#bd3786"
             ],
             [
              0.5555555555555556,
              "#d8576b"
             ],
             [
              0.6666666666666666,
              "#ed7953"
             ],
             [
              0.7777777777777778,
              "#fb9f3a"
             ],
             [
              0.8888888888888888,
              "#fdca26"
             ],
             [
              1,
              "#f0f921"
             ]
            ],
            "type": "contour"
           }
          ],
          "contourcarpet": [
           {
            "colorbar": {
             "outlinewidth": 0,
             "ticks": ""
            },
            "type": "contourcarpet"
           }
          ],
          "heatmap": [
           {
            "colorbar": {
             "outlinewidth": 0,
             "ticks": ""
            },
            "colorscale": [
             [
              0,
              "#0d0887"
             ],
             [
              0.1111111111111111,
              "#46039f"
             ],
             [
              0.2222222222222222,
              "#7201a8"
             ],
             [
              0.3333333333333333,
              "#9c179e"
             ],
             [
              0.4444444444444444,
              "#bd3786"
             ],
             [
              0.5555555555555556,
              "#d8576b"
             ],
             [
              0.6666666666666666,
              "#ed7953"
             ],
             [
              0.7777777777777778,
              "#fb9f3a"
             ],
             [
              0.8888888888888888,
              "#fdca26"
             ],
             [
              1,
              "#f0f921"
             ]
            ],
            "type": "heatmap"
           }
          ],
          "heatmapgl": [
           {
            "colorbar": {
             "outlinewidth": 0,
             "ticks": ""
            },
            "colorscale": [
             [
              0,
              "#0d0887"
             ],
             [
              0.1111111111111111,
              "#46039f"
             ],
             [
              0.2222222222222222,
              "#7201a8"
             ],
             [
              0.3333333333333333,
              "#9c179e"
             ],
             [
              0.4444444444444444,
              "#bd3786"
             ],
             [
              0.5555555555555556,
              "#d8576b"
             ],
             [
              0.6666666666666666,
              "#ed7953"
             ],
             [
              0.7777777777777778,
              "#fb9f3a"
             ],
             [
              0.8888888888888888,
              "#fdca26"
             ],
             [
              1,
              "#f0f921"
             ]
            ],
            "type": "heatmapgl"
           }
          ],
          "histogram": [
           {
            "marker": {
             "pattern": {
              "fillmode": "overlay",
              "size": 10,
              "solidity": 0.2
             }
            },
            "type": "histogram"
           }
          ],
          "histogram2d": [
           {
            "colorbar": {
             "outlinewidth": 0,
             "ticks": ""
            },
            "colorscale": [
             [
              0,
              "#0d0887"
             ],
             [
              0.1111111111111111,
              "#46039f"
             ],
             [
              0.2222222222222222,
              "#7201a8"
             ],
             [
              0.3333333333333333,
              "#9c179e"
             ],
             [
              0.4444444444444444,
              "#bd3786"
             ],
             [
              0.5555555555555556,
              "#d8576b"
             ],
             [
              0.6666666666666666,
              "#ed7953"
             ],
             [
              0.7777777777777778,
              "#fb9f3a"
             ],
             [
              0.8888888888888888,
              "#fdca26"
             ],
             [
              1,
              "#f0f921"
             ]
            ],
            "type": "histogram2d"
           }
          ],
          "histogram2dcontour": [
           {
            "colorbar": {
             "outlinewidth": 0,
             "ticks": ""
            },
            "colorscale": [
             [
              0,
              "#0d0887"
             ],
             [
              0.1111111111111111,
              "#46039f"
             ],
             [
              0.2222222222222222,
              "#7201a8"
             ],
             [
              0.3333333333333333,
              "#9c179e"
             ],
             [
              0.4444444444444444,
              "#bd3786"
             ],
             [
              0.5555555555555556,
              "#d8576b"
             ],
             [
              0.6666666666666666,
              "#ed7953"
             ],
             [
              0.7777777777777778,
              "#fb9f3a"
             ],
             [
              0.8888888888888888,
              "#fdca26"
             ],
             [
              1,
              "#f0f921"
             ]
            ],
            "type": "histogram2dcontour"
           }
          ],
          "mesh3d": [
           {
            "colorbar": {
             "outlinewidth": 0,
             "ticks": ""
            },
            "type": "mesh3d"
           }
          ],
          "parcoords": [
           {
            "line": {
             "colorbar": {
              "outlinewidth": 0,
              "ticks": ""
             }
            },
            "type": "parcoords"
           }
          ],
          "pie": [
           {
            "automargin": true,
            "type": "pie"
           }
          ],
          "scatter": [
           {
            "fillpattern": {
             "fillmode": "overlay",
             "size": 10,
             "solidity": 0.2
            },
            "type": "scatter"
           }
          ],
          "scatter3d": [
           {
            "line": {
             "colorbar": {
              "outlinewidth": 0,
              "ticks": ""
             }
            },
            "marker": {
             "colorbar": {
              "outlinewidth": 0,
              "ticks": ""
             }
            },
            "type": "scatter3d"
           }
          ],
          "scattercarpet": [
           {
            "marker": {
             "colorbar": {
              "outlinewidth": 0,
              "ticks": ""
             }
            },
            "type": "scattercarpet"
           }
          ],
          "scattergeo": [
           {
            "marker": {
             "colorbar": {
              "outlinewidth": 0,
              "ticks": ""
             }
            },
            "type": "scattergeo"
           }
          ],
          "scattergl": [
           {
            "marker": {
             "colorbar": {
              "outlinewidth": 0,
              "ticks": ""
             }
            },
            "type": "scattergl"
           }
          ],
          "scattermapbox": [
           {
            "marker": {
             "colorbar": {
              "outlinewidth": 0,
              "ticks": ""
             }
            },
            "type": "scattermapbox"
           }
          ],
          "scatterpolar": [
           {
            "marker": {
             "colorbar": {
              "outlinewidth": 0,
              "ticks": ""
             }
            },
            "type": "scatterpolar"
           }
          ],
          "scatterpolargl": [
           {
            "marker": {
             "colorbar": {
              "outlinewidth": 0,
              "ticks": ""
             }
            },
            "type": "scatterpolargl"
           }
          ],
          "scatterternary": [
           {
            "marker": {
             "colorbar": {
              "outlinewidth": 0,
              "ticks": ""
             }
            },
            "type": "scatterternary"
           }
          ],
          "surface": [
           {
            "colorbar": {
             "outlinewidth": 0,
             "ticks": ""
            },
            "colorscale": [
             [
              0,
              "#0d0887"
             ],
             [
              0.1111111111111111,
              "#46039f"
             ],
             [
              0.2222222222222222,
              "#7201a8"
             ],
             [
              0.3333333333333333,
              "#9c179e"
             ],
             [
              0.4444444444444444,
              "#bd3786"
             ],
             [
              0.5555555555555556,
              "#d8576b"
             ],
             [
              0.6666666666666666,
              "#ed7953"
             ],
             [
              0.7777777777777778,
              "#fb9f3a"
             ],
             [
              0.8888888888888888,
              "#fdca26"
             ],
             [
              1,
              "#f0f921"
             ]
            ],
            "type": "surface"
           }
          ],
          "table": [
           {
            "cells": {
             "fill": {
              "color": "#EBF0F8"
             },
             "line": {
              "color": "white"
             }
            },
            "header": {
             "fill": {
              "color": "#C8D4E3"
             },
             "line": {
              "color": "white"
             }
            },
            "type": "table"
           }
          ]
         },
         "layout": {
          "annotationdefaults": {
           "arrowcolor": "#2a3f5f",
           "arrowhead": 0,
           "arrowwidth": 1
          },
          "autotypenumbers": "strict",
          "coloraxis": {
           "colorbar": {
            "outlinewidth": 0,
            "ticks": ""
           }
          },
          "colorscale": {
           "diverging": [
            [
             0,
             "#8e0152"
            ],
            [
             0.1,
             "#c51b7d"
            ],
            [
             0.2,
             "#de77ae"
            ],
            [
             0.3,
             "#f1b6da"
            ],
            [
             0.4,
             "#fde0ef"
            ],
            [
             0.5,
             "#f7f7f7"
            ],
            [
             0.6,
             "#e6f5d0"
            ],
            [
             0.7,
             "#b8e186"
            ],
            [
             0.8,
             "#7fbc41"
            ],
            [
             0.9,
             "#4d9221"
            ],
            [
             1,
             "#276419"
            ]
           ],
           "sequential": [
            [
             0,
             "#0d0887"
            ],
            [
             0.1111111111111111,
             "#46039f"
            ],
            [
             0.2222222222222222,
             "#7201a8"
            ],
            [
             0.3333333333333333,
             "#9c179e"
            ],
            [
             0.4444444444444444,
             "#bd3786"
            ],
            [
             0.5555555555555556,
             "#d8576b"
            ],
            [
             0.6666666666666666,
             "#ed7953"
            ],
            [
             0.7777777777777778,
             "#fb9f3a"
            ],
            [
             0.8888888888888888,
             "#fdca26"
            ],
            [
             1,
             "#f0f921"
            ]
           ],
           "sequentialminus": [
            [
             0,
             "#0d0887"
            ],
            [
             0.1111111111111111,
             "#46039f"
            ],
            [
             0.2222222222222222,
             "#7201a8"
            ],
            [
             0.3333333333333333,
             "#9c179e"
            ],
            [
             0.4444444444444444,
             "#bd3786"
            ],
            [
             0.5555555555555556,
             "#d8576b"
            ],
            [
             0.6666666666666666,
             "#ed7953"
            ],
            [
             0.7777777777777778,
             "#fb9f3a"
            ],
            [
             0.8888888888888888,
             "#fdca26"
            ],
            [
             1,
             "#f0f921"
            ]
           ]
          },
          "colorway": [
           "#636efa",
           "#EF553B",
           "#00cc96",
           "#ab63fa",
           "#FFA15A",
           "#19d3f3",
           "#FF6692",
           "#B6E880",
           "#FF97FF",
           "#FECB52"
          ],
          "font": {
           "color": "#2a3f5f"
          },
          "geo": {
           "bgcolor": "white",
           "lakecolor": "white",
           "landcolor": "#E5ECF6",
           "showlakes": true,
           "showland": true,
           "subunitcolor": "white"
          },
          "hoverlabel": {
           "align": "left"
          },
          "hovermode": "closest",
          "mapbox": {
           "style": "light"
          },
          "paper_bgcolor": "white",
          "plot_bgcolor": "#E5ECF6",
          "polar": {
           "angularaxis": {
            "gridcolor": "white",
            "linecolor": "white",
            "ticks": ""
           },
           "bgcolor": "#E5ECF6",
           "radialaxis": {
            "gridcolor": "white",
            "linecolor": "white",
            "ticks": ""
           }
          },
          "scene": {
           "xaxis": {
            "backgroundcolor": "#E5ECF6",
            "gridcolor": "white",
            "gridwidth": 2,
            "linecolor": "white",
            "showbackground": true,
            "ticks": "",
            "zerolinecolor": "white"
           },
           "yaxis": {
            "backgroundcolor": "#E5ECF6",
            "gridcolor": "white",
            "gridwidth": 2,
            "linecolor": "white",
            "showbackground": true,
            "ticks": "",
            "zerolinecolor": "white"
           },
           "zaxis": {
            "backgroundcolor": "#E5ECF6",
            "gridcolor": "white",
            "gridwidth": 2,
            "linecolor": "white",
            "showbackground": true,
            "ticks": "",
            "zerolinecolor": "white"
           }
          },
          "shapedefaults": {
           "line": {
            "color": "#2a3f5f"
           }
          },
          "ternary": {
           "aaxis": {
            "gridcolor": "white",
            "linecolor": "white",
            "ticks": ""
           },
           "baxis": {
            "gridcolor": "white",
            "linecolor": "white",
            "ticks": ""
           },
           "bgcolor": "#E5ECF6",
           "caxis": {
            "gridcolor": "white",
            "linecolor": "white",
            "ticks": ""
           }
          },
          "title": {
           "x": 0.05
          },
          "xaxis": {
           "automargin": true,
           "gridcolor": "white",
           "linecolor": "white",
           "ticks": "",
           "title": {
            "standoff": 15
           },
           "zerolinecolor": "white",
           "zerolinewidth": 2
          },
          "yaxis": {
           "automargin": true,
           "gridcolor": "white",
           "linecolor": "white",
           "ticks": "",
           "title": {
            "standoff": 15
           },
           "zerolinecolor": "white",
           "zerolinewidth": 2
          }
         }
        },
        "title": {
         "text": "Thomas H Tuberville Growth Rates REGN"
        },
        "width": 800,
        "xaxis": {
         "anchor": "y",
         "domain": [
          0,
          1
         ],
         "title": {
          "text": "date"
         }
        },
        "yaxis": {
         "anchor": "x",
         "domain": [
          0,
          1
         ],
         "title": {
          "text": "REGN_growth"
         }
        }
       }
      }
     },
     "metadata": {},
     "output_type": "display_data"
    }
   ],
   "source": [
    "# historicalGrowthRatesWithTransactions(100, '2021-03-29','REGN')\n",
    "# graphAlphaGrowth_fromSource(*testParams)/\n",
    "graphAlphaGrowth_fromSource(100, '2021-03-29','REGN')"
   ]
  },
  {
   "cell_type": "code",
   "execution_count": 52,
   "metadata": {},
   "outputs": [],
   "source": [
    "\n",
    "# tempAgain = historicalGrowthRatesWithTransactions(*testParams)\n",
    "# tempAgain"
   ]
  },
  {
   "cell_type": "code",
   "execution_count": 53,
   "metadata": {},
   "outputs": [
    {
     "name": "stdout",
     "output_type": "stream",
     "text": [
      "     transaction_date ticker        asset_description         senator  \\\n",
      "5753       2020-03-02     DD  DuPont de Nemours, Inc.  Kelly Loeffler   \n",
      "\n",
      "      senatorId  \n",
      "5753        137  \n"
     ]
    },
    {
     "data": {
      "application/vnd.plotly.v1+json": {
       "config": {
        "plotlyServerURL": "https://plot.ly"
       },
       "data": [
        {
         "hovertemplate": "transactionType=Purchase<br>date=%{x}<br>DD_growth=%{y}<extra></extra>",
         "legendgroup": "Purchase",
         "marker": {
          "color": "#EF553B",
          "symbol": "circle"
         },
         "mode": "markers",
         "name": "Purchase",
         "orientation": "v",
         "showlegend": true,
         "type": "scatter",
         "x": [
          "2020-03-02",
          "2020-03-03",
          "2020-03-10"
         ],
         "xaxis": "x",
         "y": [
          100,
          99.18117349409215,
          92.08460564001865
         ],
         "yaxis": "y"
        },
        {
         "hovertemplate": "transactionType=Sale (Full)<br>date=%{x}<br>DD_growth=%{y}<extra></extra>",
         "legendgroup": "Sale (Full)",
         "marker": {
          "color": "#00cc96",
          "symbol": "circle"
         },
         "mode": "markers",
         "name": "Sale (Full)",
         "orientation": "v",
         "showlegend": true,
         "type": "scatter",
         "x": [
          "2020-04-07",
          "2020-04-14"
         ],
         "xaxis": "x",
         "y": [
          90.30017801870953,
          93.78110041648873
         ],
         "yaxis": "y"
        },
        {
         "line": {
          "color": "#EB4E4B"
         },
         "mode": "lines",
         "name": "DD Growth Rate",
         "type": "scatter",
         "x": [
          "2020-02-28",
          "2020-03-02",
          "2020-03-03",
          "2020-03-06",
          "2020-03-10",
          "2020-03-13",
          "2020-03-20",
          "2020-03-27",
          "2020-04-03",
          "2020-04-07",
          "2020-04-09",
          "2020-04-14",
          "2020-04-17",
          "2020-04-24",
          "2020-05-01",
          "2020-05-08",
          "2020-05-15",
          "2020-05-22",
          "2020-05-29",
          "2020-06-05",
          "2020-06-12",
          "2020-06-19",
          "2020-06-26",
          "2020-07-02",
          "2020-07-10",
          "2020-07-17",
          "2020-07-24",
          "2020-07-31",
          "2020-08-07",
          "2020-08-14",
          "2020-08-21",
          "2020-08-28",
          "2020-09-04",
          "2020-09-11",
          "2020-09-18",
          "2020-09-25",
          "2020-10-02",
          "2020-10-09",
          "2020-10-16",
          "2020-10-23",
          "2020-10-30",
          "2020-11-06",
          "2020-11-13",
          "2020-11-20",
          "2020-11-27",
          "2020-12-04",
          "2020-12-11",
          "2020-12-18",
          "2020-12-24",
          "2020-12-31",
          "2021-01-08",
          "2021-01-15",
          "2021-01-22",
          "2021-01-29",
          "2021-02-05",
          "2021-02-12",
          "2021-02-19",
          "2021-02-26"
         ],
         "y": [
          null,
          100,
          99.18117349409215,
          96.7246939763686,
          92.08460564001865,
          88.6045393877562,
          75.15858197288088,
          80.79481274087468,
          76.1138795631067,
          90.30017801870953,
          97.39332724651094,
          93.78110041648873,
          91.61376431847539,
          100.0681104704661,
          107.63895018394471,
          112.08124657169554,
          108.54647038748996,
          116.28440588265771,
          121.8763612713716,
          134.8735614521895,
          122.54899683568613,
          126.3689364796606,
          123.53406148881764,
          129.05972888030453,
          125.50394065169493,
          130.9815805131155,
          131.05362180821498,
          129.20005931971713,
          134.9738689498801,
          140.50629021278257,
          133.2103580802566,
          138.1386830665434,
          142.05242648017872,
          141.49660787701512,
          143.23610498160542,
          132.96871956961033,
          132.31634561954255,
          143.28438265505756,
          142.94618879750703,
          144.5165889733221,
          137.4140176779903,
          144.03331195202952,
          148.88934549983102,
          151.11186948232813,
          156.64404060184484,
          160.23634976477575,
          161.158628428081,
          173.12398714262986,
          168.80376072713096,
          172.59018115741333,
          198.51128950702085,
          199.84630475683372,
          196.81231563092405,
          192.832034076676,
          184.07026170358355,
          173.4639320038807,
          169.38634467257114,
          171.4007493581141
         ]
        },
        {
         "line": {
          "color": "#349FEB"
         },
         "mode": "lines",
         "name": "SPY Growth Rate",
         "type": "scatter",
         "x": [
          "2020-02-28",
          "2020-03-02",
          "2020-03-03",
          "2020-03-06",
          "2020-03-10",
          "2020-03-13",
          "2020-03-20",
          "2020-03-27",
          "2020-04-03",
          "2020-04-07",
          "2020-04-09",
          "2020-04-14",
          "2020-04-17",
          "2020-04-24",
          "2020-05-01",
          "2020-05-08",
          "2020-05-15",
          "2020-05-22",
          "2020-05-29",
          "2020-06-05",
          "2020-06-12",
          "2020-06-19",
          "2020-06-26",
          "2020-07-02",
          "2020-07-10",
          "2020-07-17",
          "2020-07-24",
          "2020-07-31",
          "2020-08-07",
          "2020-08-14",
          "2020-08-21",
          "2020-08-28",
          "2020-09-04",
          "2020-09-11",
          "2020-09-18",
          "2020-09-25",
          "2020-10-02",
          "2020-10-09",
          "2020-10-16",
          "2020-10-23",
          "2020-10-30",
          "2020-11-06",
          "2020-11-13",
          "2020-11-20",
          "2020-11-27",
          "2020-12-04",
          "2020-12-11",
          "2020-12-18",
          "2020-12-24",
          "2020-12-31",
          "2021-01-08",
          "2021-01-15",
          "2021-01-22",
          "2021-01-29",
          "2021-02-05",
          "2021-02-12",
          "2021-02-19",
          "2021-02-26"
         ],
         "y": [
          null,
          100,
          100.05776043880634,
          100.23104175522538,
          94.81278471946233,
          90.74909194264004,
          77.5692369693159,
          85.91608302356533,
          84.14295421964745,
          90.92574421043288,
          94.31713920582561,
          96.10550140772837,
          97.17851872887002,
          95.93429068687597,
          95.87328669217288,
          99.14486791762651,
          97.056475538082,
          100.16197664408428,
          103.17250442192211,
          108.26470111537586,
          103.13522615856921,
          105.10030809758,
          102.17517887205014,
          106.32278168560606,
          108.14800853462529,
          109.5544093426881,
          109.2683629139764,
          111.1889151049783,
          113.93015231185325,
          114.70317465673499,
          115.60214754578733,
          119.38200152341524,
          116.65438725130664,
          113.75650389530949,
          113.05134981458679,
          112.39487924492833,
          114.14202942905922,
          118.59021684202068,
          118.74066754794164,
          118.22440408209306,
          111.64611065212421,
          119.72194126770133,
          122.43667183406187,
          121.48957865605448,
          124.34110179218781,
          126.45406473624632,
          125.24032109091293,
          126.76520975019942,
          126.70339612371433,
          128.3790523013582,
          130.91312937619176,
          129.00398243290124,
          131.4693816117938,
          127.07079294582411,
          133.127859515107,
          134.82065876569973,
          133.92446678581157,
          130.6040964451482
         ]
        }
       ],
       "layout": {
        "height": 500,
        "legend": {
         "title": {
          "text": "transactionType"
         },
         "tracegroupgap": 0
        },
        "template": {
         "data": {
          "bar": [
           {
            "error_x": {
             "color": "#2a3f5f"
            },
            "error_y": {
             "color": "#2a3f5f"
            },
            "marker": {
             "line": {
              "color": "#E5ECF6",
              "width": 0.5
             },
             "pattern": {
              "fillmode": "overlay",
              "size": 10,
              "solidity": 0.2
             }
            },
            "type": "bar"
           }
          ],
          "barpolar": [
           {
            "marker": {
             "line": {
              "color": "#E5ECF6",
              "width": 0.5
             },
             "pattern": {
              "fillmode": "overlay",
              "size": 10,
              "solidity": 0.2
             }
            },
            "type": "barpolar"
           }
          ],
          "carpet": [
           {
            "aaxis": {
             "endlinecolor": "#2a3f5f",
             "gridcolor": "white",
             "linecolor": "white",
             "minorgridcolor": "white",
             "startlinecolor": "#2a3f5f"
            },
            "baxis": {
             "endlinecolor": "#2a3f5f",
             "gridcolor": "white",
             "linecolor": "white",
             "minorgridcolor": "white",
             "startlinecolor": "#2a3f5f"
            },
            "type": "carpet"
           }
          ],
          "choropleth": [
           {
            "colorbar": {
             "outlinewidth": 0,
             "ticks": ""
            },
            "type": "choropleth"
           }
          ],
          "contour": [
           {
            "colorbar": {
             "outlinewidth": 0,
             "ticks": ""
            },
            "colorscale": [
             [
              0,
              "#0d0887"
             ],
             [
              0.1111111111111111,
              "#46039f"
             ],
             [
              0.2222222222222222,
              "#7201a8"
             ],
             [
              0.3333333333333333,
              "#9c179e"
             ],
             [
              0.4444444444444444,
              "#bd3786"
             ],
             [
              0.5555555555555556,
              "#d8576b"
             ],
             [
              0.6666666666666666,
              "#ed7953"
             ],
             [
              0.7777777777777778,
              "#fb9f3a"
             ],
             [
              0.8888888888888888,
              "#fdca26"
             ],
             [
              1,
              "#f0f921"
             ]
            ],
            "type": "contour"
           }
          ],
          "contourcarpet": [
           {
            "colorbar": {
             "outlinewidth": 0,
             "ticks": ""
            },
            "type": "contourcarpet"
           }
          ],
          "heatmap": [
           {
            "colorbar": {
             "outlinewidth": 0,
             "ticks": ""
            },
            "colorscale": [
             [
              0,
              "#0d0887"
             ],
             [
              0.1111111111111111,
              "#46039f"
             ],
             [
              0.2222222222222222,
              "#7201a8"
             ],
             [
              0.3333333333333333,
              "#9c179e"
             ],
             [
              0.4444444444444444,
              "#bd3786"
             ],
             [
              0.5555555555555556,
              "#d8576b"
             ],
             [
              0.6666666666666666,
              "#ed7953"
             ],
             [
              0.7777777777777778,
              "#fb9f3a"
             ],
             [
              0.8888888888888888,
              "#fdca26"
             ],
             [
              1,
              "#f0f921"
             ]
            ],
            "type": "heatmap"
           }
          ],
          "heatmapgl": [
           {
            "colorbar": {
             "outlinewidth": 0,
             "ticks": ""
            },
            "colorscale": [
             [
              0,
              "#0d0887"
             ],
             [
              0.1111111111111111,
              "#46039f"
             ],
             [
              0.2222222222222222,
              "#7201a8"
             ],
             [
              0.3333333333333333,
              "#9c179e"
             ],
             [
              0.4444444444444444,
              "#bd3786"
             ],
             [
              0.5555555555555556,
              "#d8576b"
             ],
             [
              0.6666666666666666,
              "#ed7953"
             ],
             [
              0.7777777777777778,
              "#fb9f3a"
             ],
             [
              0.8888888888888888,
              "#fdca26"
             ],
             [
              1,
              "#f0f921"
             ]
            ],
            "type": "heatmapgl"
           }
          ],
          "histogram": [
           {
            "marker": {
             "pattern": {
              "fillmode": "overlay",
              "size": 10,
              "solidity": 0.2
             }
            },
            "type": "histogram"
           }
          ],
          "histogram2d": [
           {
            "colorbar": {
             "outlinewidth": 0,
             "ticks": ""
            },
            "colorscale": [
             [
              0,
              "#0d0887"
             ],
             [
              0.1111111111111111,
              "#46039f"
             ],
             [
              0.2222222222222222,
              "#7201a8"
             ],
             [
              0.3333333333333333,
              "#9c179e"
             ],
             [
              0.4444444444444444,
              "#bd3786"
             ],
             [
              0.5555555555555556,
              "#d8576b"
             ],
             [
              0.6666666666666666,
              "#ed7953"
             ],
             [
              0.7777777777777778,
              "#fb9f3a"
             ],
             [
              0.8888888888888888,
              "#fdca26"
             ],
             [
              1,
              "#f0f921"
             ]
            ],
            "type": "histogram2d"
           }
          ],
          "histogram2dcontour": [
           {
            "colorbar": {
             "outlinewidth": 0,
             "ticks": ""
            },
            "colorscale": [
             [
              0,
              "#0d0887"
             ],
             [
              0.1111111111111111,
              "#46039f"
             ],
             [
              0.2222222222222222,
              "#7201a8"
             ],
             [
              0.3333333333333333,
              "#9c179e"
             ],
             [
              0.4444444444444444,
              "#bd3786"
             ],
             [
              0.5555555555555556,
              "#d8576b"
             ],
             [
              0.6666666666666666,
              "#ed7953"
             ],
             [
              0.7777777777777778,
              "#fb9f3a"
             ],
             [
              0.8888888888888888,
              "#fdca26"
             ],
             [
              1,
              "#f0f921"
             ]
            ],
            "type": "histogram2dcontour"
           }
          ],
          "mesh3d": [
           {
            "colorbar": {
             "outlinewidth": 0,
             "ticks": ""
            },
            "type": "mesh3d"
           }
          ],
          "parcoords": [
           {
            "line": {
             "colorbar": {
              "outlinewidth": 0,
              "ticks": ""
             }
            },
            "type": "parcoords"
           }
          ],
          "pie": [
           {
            "automargin": true,
            "type": "pie"
           }
          ],
          "scatter": [
           {
            "fillpattern": {
             "fillmode": "overlay",
             "size": 10,
             "solidity": 0.2
            },
            "type": "scatter"
           }
          ],
          "scatter3d": [
           {
            "line": {
             "colorbar": {
              "outlinewidth": 0,
              "ticks": ""
             }
            },
            "marker": {
             "colorbar": {
              "outlinewidth": 0,
              "ticks": ""
             }
            },
            "type": "scatter3d"
           }
          ],
          "scattercarpet": [
           {
            "marker": {
             "colorbar": {
              "outlinewidth": 0,
              "ticks": ""
             }
            },
            "type": "scattercarpet"
           }
          ],
          "scattergeo": [
           {
            "marker": {
             "colorbar": {
              "outlinewidth": 0,
              "ticks": ""
             }
            },
            "type": "scattergeo"
           }
          ],
          "scattergl": [
           {
            "marker": {
             "colorbar": {
              "outlinewidth": 0,
              "ticks": ""
             }
            },
            "type": "scattergl"
           }
          ],
          "scattermapbox": [
           {
            "marker": {
             "colorbar": {
              "outlinewidth": 0,
              "ticks": ""
             }
            },
            "type": "scattermapbox"
           }
          ],
          "scatterpolar": [
           {
            "marker": {
             "colorbar": {
              "outlinewidth": 0,
              "ticks": ""
             }
            },
            "type": "scatterpolar"
           }
          ],
          "scatterpolargl": [
           {
            "marker": {
             "colorbar": {
              "outlinewidth": 0,
              "ticks": ""
             }
            },
            "type": "scatterpolargl"
           }
          ],
          "scatterternary": [
           {
            "marker": {
             "colorbar": {
              "outlinewidth": 0,
              "ticks": ""
             }
            },
            "type": "scatterternary"
           }
          ],
          "surface": [
           {
            "colorbar": {
             "outlinewidth": 0,
             "ticks": ""
            },
            "colorscale": [
             [
              0,
              "#0d0887"
             ],
             [
              0.1111111111111111,
              "#46039f"
             ],
             [
              0.2222222222222222,
              "#7201a8"
             ],
             [
              0.3333333333333333,
              "#9c179e"
             ],
             [
              0.4444444444444444,
              "#bd3786"
             ],
             [
              0.5555555555555556,
              "#d8576b"
             ],
             [
              0.6666666666666666,
              "#ed7953"
             ],
             [
              0.7777777777777778,
              "#fb9f3a"
             ],
             [
              0.8888888888888888,
              "#fdca26"
             ],
             [
              1,
              "#f0f921"
             ]
            ],
            "type": "surface"
           }
          ],
          "table": [
           {
            "cells": {
             "fill": {
              "color": "#EBF0F8"
             },
             "line": {
              "color": "white"
             }
            },
            "header": {
             "fill": {
              "color": "#C8D4E3"
             },
             "line": {
              "color": "white"
             }
            },
            "type": "table"
           }
          ]
         },
         "layout": {
          "annotationdefaults": {
           "arrowcolor": "#2a3f5f",
           "arrowhead": 0,
           "arrowwidth": 1
          },
          "autotypenumbers": "strict",
          "coloraxis": {
           "colorbar": {
            "outlinewidth": 0,
            "ticks": ""
           }
          },
          "colorscale": {
           "diverging": [
            [
             0,
             "#8e0152"
            ],
            [
             0.1,
             "#c51b7d"
            ],
            [
             0.2,
             "#de77ae"
            ],
            [
             0.3,
             "#f1b6da"
            ],
            [
             0.4,
             "#fde0ef"
            ],
            [
             0.5,
             "#f7f7f7"
            ],
            [
             0.6,
             "#e6f5d0"
            ],
            [
             0.7,
             "#b8e186"
            ],
            [
             0.8,
             "#7fbc41"
            ],
            [
             0.9,
             "#4d9221"
            ],
            [
             1,
             "#276419"
            ]
           ],
           "sequential": [
            [
             0,
             "#0d0887"
            ],
            [
             0.1111111111111111,
             "#46039f"
            ],
            [
             0.2222222222222222,
             "#7201a8"
            ],
            [
             0.3333333333333333,
             "#9c179e"
            ],
            [
             0.4444444444444444,
             "#bd3786"
            ],
            [
             0.5555555555555556,
             "#d8576b"
            ],
            [
             0.6666666666666666,
             "#ed7953"
            ],
            [
             0.7777777777777778,
             "#fb9f3a"
            ],
            [
             0.8888888888888888,
             "#fdca26"
            ],
            [
             1,
             "#f0f921"
            ]
           ],
           "sequentialminus": [
            [
             0,
             "#0d0887"
            ],
            [
             0.1111111111111111,
             "#46039f"
            ],
            [
             0.2222222222222222,
             "#7201a8"
            ],
            [
             0.3333333333333333,
             "#9c179e"
            ],
            [
             0.4444444444444444,
             "#bd3786"
            ],
            [
             0.5555555555555556,
             "#d8576b"
            ],
            [
             0.6666666666666666,
             "#ed7953"
            ],
            [
             0.7777777777777778,
             "#fb9f3a"
            ],
            [
             0.8888888888888888,
             "#fdca26"
            ],
            [
             1,
             "#f0f921"
            ]
           ]
          },
          "colorway": [
           "#636efa",
           "#EF553B",
           "#00cc96",
           "#ab63fa",
           "#FFA15A",
           "#19d3f3",
           "#FF6692",
           "#B6E880",
           "#FF97FF",
           "#FECB52"
          ],
          "font": {
           "color": "#2a3f5f"
          },
          "geo": {
           "bgcolor": "white",
           "lakecolor": "white",
           "landcolor": "#E5ECF6",
           "showlakes": true,
           "showland": true,
           "subunitcolor": "white"
          },
          "hoverlabel": {
           "align": "left"
          },
          "hovermode": "closest",
          "mapbox": {
           "style": "light"
          },
          "paper_bgcolor": "white",
          "plot_bgcolor": "#E5ECF6",
          "polar": {
           "angularaxis": {
            "gridcolor": "white",
            "linecolor": "white",
            "ticks": ""
           },
           "bgcolor": "#E5ECF6",
           "radialaxis": {
            "gridcolor": "white",
            "linecolor": "white",
            "ticks": ""
           }
          },
          "scene": {
           "xaxis": {
            "backgroundcolor": "#E5ECF6",
            "gridcolor": "white",
            "gridwidth": 2,
            "linecolor": "white",
            "showbackground": true,
            "ticks": "",
            "zerolinecolor": "white"
           },
           "yaxis": {
            "backgroundcolor": "#E5ECF6",
            "gridcolor": "white",
            "gridwidth": 2,
            "linecolor": "white",
            "showbackground": true,
            "ticks": "",
            "zerolinecolor": "white"
           },
           "zaxis": {
            "backgroundcolor": "#E5ECF6",
            "gridcolor": "white",
            "gridwidth": 2,
            "linecolor": "white",
            "showbackground": true,
            "ticks": "",
            "zerolinecolor": "white"
           }
          },
          "shapedefaults": {
           "line": {
            "color": "#2a3f5f"
           }
          },
          "ternary": {
           "aaxis": {
            "gridcolor": "white",
            "linecolor": "white",
            "ticks": ""
           },
           "baxis": {
            "gridcolor": "white",
            "linecolor": "white",
            "ticks": ""
           },
           "bgcolor": "#E5ECF6",
           "caxis": {
            "gridcolor": "white",
            "linecolor": "white",
            "ticks": ""
           }
          },
          "title": {
           "x": 0.05
          },
          "xaxis": {
           "automargin": true,
           "gridcolor": "white",
           "linecolor": "white",
           "ticks": "",
           "title": {
            "standoff": 15
           },
           "zerolinecolor": "white",
           "zerolinewidth": 2
          },
          "yaxis": {
           "automargin": true,
           "gridcolor": "white",
           "linecolor": "white",
           "ticks": "",
           "title": {
            "standoff": 15
           },
           "zerolinecolor": "white",
           "zerolinewidth": 2
          }
         }
        },
        "title": {
         "text": "Kelly Loeffler Growth Rates DD"
        },
        "width": 800,
        "xaxis": {
         "anchor": "y",
         "domain": [
          0,
          1
         ],
         "title": {
          "text": "date"
         }
        },
        "yaxis": {
         "anchor": "x",
         "domain": [
          0,
          1
         ],
         "title": {
          "text": "DD_growth"
         }
        }
       }
      }
     },
     "metadata": {},
     "output_type": "display_data"
    }
   ],
   "source": [
    "def graphRandomPurcahse_alpha(randomState):\n",
    "    randomSenator,  randomDate, randomticker = generateRandomPurchase(randomState)\n",
    "\n",
    "    graphAlphaGrowth_fromSource(randomSenator,  randomDate, randomticker)\n",
    "\n",
    "graphRandomPurcahse_alpha(765)"
   ]
  },
  {
   "cell_type": "markdown",
   "metadata": {},
   "source": [
    "# Finding Measurement Window\n"
   ]
  },
  {
   "cell_type": "code",
   "execution_count": 54,
   "metadata": {},
   "outputs": [
    {
     "name": "stdout",
     "output_type": "stream",
     "text": [
      "     transaction_date ticker asset_description              senator  senatorId\n",
      "5566       2020-04-06    ENB     Enbridge Inc.  David A Perdue , Jr        136\n"
     ]
    },
    {
     "data": {
      "text/html": [
       "<div>\n",
       "<style scoped>\n",
       "    .dataframe tbody tr th:only-of-type {\n",
       "        vertical-align: middle;\n",
       "    }\n",
       "\n",
       "    .dataframe tbody tr th {\n",
       "        vertical-align: top;\n",
       "    }\n",
       "\n",
       "    .dataframe thead th {\n",
       "        text-align: right;\n",
       "    }\n",
       "</style>\n",
       "<table border=\"1\" class=\"dataframe\">\n",
       "  <thead>\n",
       "    <tr style=\"text-align: right;\">\n",
       "      <th></th>\n",
       "      <th>transaction_date</th>\n",
       "      <th>owner</th>\n",
       "      <th>ticker</th>\n",
       "      <th>asset_description</th>\n",
       "      <th>asset_type</th>\n",
       "      <th>type</th>\n",
       "      <th>amount</th>\n",
       "      <th>comment</th>\n",
       "      <th>senator</th>\n",
       "      <th>ptr_link</th>\n",
       "      <th>disclosure_date</th>\n",
       "      <th>id</th>\n",
       "      <th>senatorId</th>\n",
       "      <th>alpha</th>\n",
       "    </tr>\n",
       "  </thead>\n",
       "  <tbody>\n",
       "    <tr>\n",
       "      <th>1042</th>\n",
       "      <td>2020-04-15</td>\n",
       "      <td>Joint</td>\n",
       "      <td>ENB</td>\n",
       "      <td>Enbridge Inc.</td>\n",
       "      <td>Stock</td>\n",
       "      <td>Sale (Full)</td>\n",
       "      <td>$1,001 - $15,000</td>\n",
       "      <td>--</td>\n",
       "      <td>David A Perdue , Jr</td>\n",
       "      <td>https://efdsearch.senate.gov/search/view/ptr/b...</td>\n",
       "      <td>2020-05-08</td>\n",
       "      <td>2004</td>\n",
       "      <td>136</td>\n",
       "      <td>None</td>\n",
       "    </tr>\n",
       "    <tr>\n",
       "      <th>5566</th>\n",
       "      <td>2020-04-06</td>\n",
       "      <td>Joint</td>\n",
       "      <td>ENB</td>\n",
       "      <td>Enbridge Inc.</td>\n",
       "      <td>Stock</td>\n",
       "      <td>Purchase</td>\n",
       "      <td>$1,001 - $15,000</td>\n",
       "      <td>--</td>\n",
       "      <td>David A Perdue , Jr</td>\n",
       "      <td>https://efdsearch.senate.gov/search/view/ptr/b...</td>\n",
       "      <td>05/08/2020</td>\n",
       "      <td>1902</td>\n",
       "      <td>136</td>\n",
       "      <td>3.37</td>\n",
       "    </tr>\n",
       "  </tbody>\n",
       "</table>\n",
       "</div>"
      ],
      "text/plain": [
       "     transaction_date  owner ticker asset_description asset_type         type  \\\n",
       "1042       2020-04-15  Joint    ENB     Enbridge Inc.      Stock  Sale (Full)   \n",
       "5566       2020-04-06  Joint    ENB     Enbridge Inc.      Stock     Purchase   \n",
       "\n",
       "                amount comment              senator  \\\n",
       "1042  $1,001 - $15,000      --  David A Perdue , Jr   \n",
       "5566  $1,001 - $15,000      --  David A Perdue , Jr   \n",
       "\n",
       "                                               ptr_link disclosure_date    id  \\\n",
       "1042  https://efdsearch.senate.gov/search/view/ptr/b...      2020-05-08  2004   \n",
       "5566  https://efdsearch.senate.gov/search/view/ptr/b...      05/08/2020  1902   \n",
       "\n",
       "      senatorId alpha  \n",
       "1042        136  None  \n",
       "5566        136  3.37  "
      ]
     },
     "execution_count": 54,
     "metadata": {},
     "output_type": "execute_result"
    }
   ],
   "source": [
    "randomSenator,  randomDate, randomticker = generateRandomPurchase(456)\n",
    "findRelevantTransactions(randomSenator,  randomDate, randomticker)"
   ]
  },
  {
   "cell_type": "code",
   "execution_count": 55,
   "metadata": {},
   "outputs": [
    {
     "data": {
      "text/html": [
       "<div>\n",
       "<style scoped>\n",
       "    .dataframe tbody tr th:only-of-type {\n",
       "        vertical-align: middle;\n",
       "    }\n",
       "\n",
       "    .dataframe tbody tr th {\n",
       "        vertical-align: top;\n",
       "    }\n",
       "\n",
       "    .dataframe thead th {\n",
       "        text-align: right;\n",
       "    }\n",
       "</style>\n",
       "<table border=\"1\" class=\"dataframe\">\n",
       "  <thead>\n",
       "    <tr style=\"text-align: right;\">\n",
       "      <th></th>\n",
       "      <th>transaction_date</th>\n",
       "      <th>owner</th>\n",
       "      <th>ticker</th>\n",
       "      <th>asset_description</th>\n",
       "      <th>asset_type</th>\n",
       "      <th>type</th>\n",
       "      <th>amount</th>\n",
       "      <th>comment</th>\n",
       "      <th>senator</th>\n",
       "      <th>ptr_link</th>\n",
       "      <th>disclosure_date</th>\n",
       "      <th>id</th>\n",
       "      <th>senatorId</th>\n",
       "      <th>alpha</th>\n",
       "    </tr>\n",
       "  </thead>\n",
       "  <tbody>\n",
       "    <tr>\n",
       "      <th>8295</th>\n",
       "      <td>2012-09-13</td>\n",
       "      <td>Spouse</td>\n",
       "      <td>DD</td>\n",
       "      <td>E. I. du Pont de Nemours and Company (NYSE)</td>\n",
       "      <td>Stock</td>\n",
       "      <td>Purchase</td>\n",
       "      <td>$1,001 - $15,000</td>\n",
       "      <td>--</td>\n",
       "      <td>Thomas R Carper</td>\n",
       "      <td>https://efdsearch.senate.gov/search/view/ptr/6...</td>\n",
       "      <td>05/13/2015</td>\n",
       "      <td>8458</td>\n",
       "      <td>101</td>\n",
       "      <td>0.18</td>\n",
       "    </tr>\n",
       "    <tr>\n",
       "      <th>8294</th>\n",
       "      <td>2012-12-17</td>\n",
       "      <td>Spouse</td>\n",
       "      <td>DD</td>\n",
       "      <td>E. I. du Pont de Nemours and Company (NYSE)</td>\n",
       "      <td>Stock</td>\n",
       "      <td>Purchase</td>\n",
       "      <td>$1,001 - $15,000</td>\n",
       "      <td>--</td>\n",
       "      <td>Thomas R Carper</td>\n",
       "      <td>https://efdsearch.senate.gov/search/view/ptr/6...</td>\n",
       "      <td>05/13/2015</td>\n",
       "      <td>8457</td>\n",
       "      <td>101</td>\n",
       "      <td>11.93</td>\n",
       "    </tr>\n",
       "    <tr>\n",
       "      <th>8293</th>\n",
       "      <td>2013-03-15</td>\n",
       "      <td>Spouse</td>\n",
       "      <td>DD</td>\n",
       "      <td>E. I. du Pont de Nemours and Company (NYSE)</td>\n",
       "      <td>Stock</td>\n",
       "      <td>Purchase</td>\n",
       "      <td>$1,001 - $15,000</td>\n",
       "      <td>--</td>\n",
       "      <td>Thomas R Carper</td>\n",
       "      <td>https://efdsearch.senate.gov/search/view/ptr/6...</td>\n",
       "      <td>05/13/2015</td>\n",
       "      <td>8456</td>\n",
       "      <td>101</td>\n",
       "      <td>Ticker Not Found</td>\n",
       "    </tr>\n",
       "    <tr>\n",
       "      <th>8292</th>\n",
       "      <td>2013-06-13</td>\n",
       "      <td>Spouse</td>\n",
       "      <td>DD</td>\n",
       "      <td>E. I. du Pont de Nemours and Company (NYSE)</td>\n",
       "      <td>Stock</td>\n",
       "      <td>Purchase</td>\n",
       "      <td>$1,001 - $15,000</td>\n",
       "      <td>--</td>\n",
       "      <td>Thomas R Carper</td>\n",
       "      <td>https://efdsearch.senate.gov/search/view/ptr/6...</td>\n",
       "      <td>05/13/2015</td>\n",
       "      <td>8455</td>\n",
       "      <td>101</td>\n",
       "      <td>8.74</td>\n",
       "    </tr>\n",
       "    <tr>\n",
       "      <th>8291</th>\n",
       "      <td>2013-09-13</td>\n",
       "      <td>Spouse</td>\n",
       "      <td>DD</td>\n",
       "      <td>E. I. du Pont de Nemours and Company (NYSE)</td>\n",
       "      <td>Stock</td>\n",
       "      <td>Purchase</td>\n",
       "      <td>$1,001 - $15,000</td>\n",
       "      <td>--</td>\n",
       "      <td>Thomas R Carper</td>\n",
       "      <td>https://efdsearch.senate.gov/search/view/ptr/6...</td>\n",
       "      <td>05/13/2015</td>\n",
       "      <td>8454</td>\n",
       "      <td>101</td>\n",
       "      <td>3.64</td>\n",
       "    </tr>\n",
       "  </tbody>\n",
       "</table>\n",
       "</div>"
      ],
      "text/plain": [
       "     transaction_date   owner ticker  \\\n",
       "8295       2012-09-13  Spouse     DD   \n",
       "8294       2012-12-17  Spouse     DD   \n",
       "8293       2013-03-15  Spouse     DD   \n",
       "8292       2013-06-13  Spouse     DD   \n",
       "8291       2013-09-13  Spouse     DD   \n",
       "\n",
       "                                asset_description asset_type      type  \\\n",
       "8295  E. I. du Pont de Nemours and Company (NYSE)      Stock  Purchase   \n",
       "8294  E. I. du Pont de Nemours and Company (NYSE)      Stock  Purchase   \n",
       "8293  E. I. du Pont de Nemours and Company (NYSE)      Stock  Purchase   \n",
       "8292  E. I. du Pont de Nemours and Company (NYSE)      Stock  Purchase   \n",
       "8291  E. I. du Pont de Nemours and Company (NYSE)      Stock  Purchase   \n",
       "\n",
       "                amount comment          senator  \\\n",
       "8295  $1,001 - $15,000      --  Thomas R Carper   \n",
       "8294  $1,001 - $15,000      --  Thomas R Carper   \n",
       "8293  $1,001 - $15,000      --  Thomas R Carper   \n",
       "8292  $1,001 - $15,000      --  Thomas R Carper   \n",
       "8291  $1,001 - $15,000      --  Thomas R Carper   \n",
       "\n",
       "                                               ptr_link disclosure_date    id  \\\n",
       "8295  https://efdsearch.senate.gov/search/view/ptr/6...      05/13/2015  8458   \n",
       "8294  https://efdsearch.senate.gov/search/view/ptr/6...      05/13/2015  8457   \n",
       "8293  https://efdsearch.senate.gov/search/view/ptr/6...      05/13/2015  8456   \n",
       "8292  https://efdsearch.senate.gov/search/view/ptr/6...      05/13/2015  8455   \n",
       "8291  https://efdsearch.senate.gov/search/view/ptr/6...      05/13/2015  8454   \n",
       "\n",
       "      senatorId             alpha  \n",
       "8295        101              0.18  \n",
       "8294        101             11.93  \n",
       "8293        101  Ticker Not Found  \n",
       "8292        101              8.74  \n",
       "8291        101              3.64  "
      ]
     },
     "execution_count": 55,
     "metadata": {},
     "output_type": "execute_result"
    }
   ],
   "source": [
    "purchases.sort_values(\"transaction_date\").head()"
   ]
  },
  {
   "cell_type": "code",
   "execution_count": 56,
   "metadata": {},
   "outputs": [
    {
     "data": {
      "application/vnd.plotly.v1+json": {
       "config": {
        "plotlyServerURL": "https://plot.ly"
       },
       "data": [
        {
         "hovertemplate": "transactionType=Purchase<br>date=%{x}<br>DD_growth=%{y}<extra></extra>",
         "legendgroup": "Purchase",
         "marker": {
          "color": "#EF553B",
          "symbol": "circle"
         },
         "mode": "markers",
         "name": "Purchase",
         "orientation": "v",
         "showlegend": true,
         "type": "scatter",
         "x": [
          "2012-09-13",
          "2012-12-17",
          "2013-03-15",
          "2013-06-13"
         ],
         "xaxis": "x",
         "y": [
          100,
          86.33734773672866,
          97.7991273580965,
          104.8800134788154
         ],
         "yaxis": "y"
        },
        {
         "line": {
          "color": "#EB4E4B"
         },
         "mode": "lines",
         "name": "DD Growth Rate",
         "type": "scatter",
         "x": [
          "2012-09-07",
          "2012-09-13",
          "2012-09-14",
          "2012-09-21",
          "2012-09-28",
          "2012-10-05",
          "2012-10-12",
          "2012-10-19",
          "2012-10-26",
          "2012-11-02",
          "2012-11-09",
          "2012-11-16",
          "2012-11-23",
          "2012-11-30",
          "2012-12-07",
          "2012-12-14",
          "2012-12-17",
          "2012-12-21",
          "2012-12-28",
          "2013-01-04",
          "2013-01-11",
          "2013-01-18",
          "2013-01-25",
          "2013-02-01",
          "2013-02-08",
          "2013-02-15",
          "2013-02-22",
          "2013-03-01",
          "2013-03-08",
          "2013-03-15",
          "2013-03-15",
          "2013-03-22",
          "2013-03-28",
          "2013-04-05",
          "2013-04-12",
          "2013-04-19",
          "2013-04-26",
          "2013-05-03",
          "2013-05-10",
          "2013-05-17",
          "2013-05-24",
          "2013-05-31",
          "2013-06-07",
          "2013-06-13",
          "2013-06-14",
          "2013-06-21",
          "2013-06-28",
          "2013-07-05",
          "2013-07-12",
          "2013-07-19",
          "2013-07-26",
          "2013-08-02",
          "2013-08-09",
          "2013-08-16",
          "2013-08-23",
          "2013-08-30",
          "2013-09-06"
         ],
         "y": [
          null,
          100,
          100.46154151419454,
          99.615373368757,
          96.67309625656536,
          96.82685640048793,
          93.63456675633978,
          94.88462941612222,
          86.88459390891218,
          84.90386596933291,
          83.34616118323949,
          81.4814234631644,
          83.75407636695797,
          83.79282099910328,
          83.87055394032562,
          85.63806456463983,
          86.33734773672866,
          87.26972529951377,
          86.84231596125677,
          88.82353125469949,
          89.63936162213646,
          91.27090051854452,
          93.87361382636837,
          93.19387702530342,
          92.26144724603294,
          91.99778880589949,
          92.58578124216754,
          94.25167858594975,
          96.32914626742641,
          97.7991273580965,
          97.7991273580965,
          96.56429450654728,
          96.34876226043079,
          95.42754162001995,
          97.6423212525273,
          96.40748840097807,
          103.67880804384515,
          105.71704373931303,
          108.69611606819613,
          110.44413253797183,
          109.37707125391971,
          110.24651054633759,
          109.55495541408368,
          104.8800134788154,
          104.10085648960403,
          104.55543580574908,
          103.74521000774193,
          104.73319812744718,
          107.51952200333069,
          112.91428559493372,
          113.94187121604533,
          118.40786018235384,
          118.05209186202592,
          116.0349342211528,
          115.27843918659244,
          112.72994399607886,
          113.7055045922658
         ]
        },
        {
         "line": {
          "color": "#349FEB"
         },
         "mode": "lines",
         "name": "SPY Growth Rate",
         "type": "scatter",
         "x": [
          "2012-09-07",
          "2012-09-13",
          "2012-09-14",
          "2012-09-21",
          "2012-09-28",
          "2012-10-05",
          "2012-10-12",
          "2012-10-19",
          "2012-10-26",
          "2012-11-02",
          "2012-11-09",
          "2012-11-16",
          "2012-11-23",
          "2012-11-30",
          "2012-12-07",
          "2012-12-14",
          "2012-12-17",
          "2012-12-21",
          "2012-12-28",
          "2013-01-04",
          "2013-01-11",
          "2013-01-18",
          "2013-01-25",
          "2013-02-01",
          "2013-02-08",
          "2013-02-15",
          "2013-02-22",
          "2013-03-01",
          "2013-03-08",
          "2013-03-15",
          "2013-03-15",
          "2013-03-22",
          "2013-03-28",
          "2013-04-05",
          "2013-04-12",
          "2013-04-19",
          "2013-04-26",
          "2013-05-03",
          "2013-05-10",
          "2013-05-17",
          "2013-05-24",
          "2013-05-31",
          "2013-06-07",
          "2013-06-13",
          "2013-06-14",
          "2013-06-21",
          "2013-06-28",
          "2013-07-05",
          "2013-07-12",
          "2013-07-19",
          "2013-07-26",
          "2013-08-02",
          "2013-08-09",
          "2013-08-16",
          "2013-08-23",
          "2013-08-30",
          "2013-09-06"
         ],
         "y": [
          null,
          100,
          100.28313910304388,
          99.88090480679497,
          98.57990886895843,
          100.06576881093157,
          97.840452852412,
          98.18280279116878,
          96.78594225342428,
          96.92978050988671,
          94.60165204257886,
          93.37600783081322,
          96.78594225342428,
          97.3337517833557,
          97.51175059181297,
          97.29950851815994,
          97.8018494199087,
          98.47163728890708,
          96.56824110850816,
          100.94046091104103,
          101.42325786502106,
          102.2921600410636,
          103.61623296196684,
          104.29894772265747,
          104.68513565792092,
          104.89894928239214,
          104.74725327183887,
          104.89894928239214,
          107.19539859373383,
          107.94279507757203,
          107.94279507757203,
          107.78340673932986,
          108.52459973309638,
          107.47869130700805,
          110.00003781174907,
          107.70027997236913,
          109.61219561246651,
          111.78027403592453,
          113.19342907425738,
          115.63859672091793,
          114.5094788146679,
          113.22113799657761,
          114.15621073338492,
          113.19435073563947,
          113.03404073601521,
          110.76836073542913,
          111.7083962642938,
          113.51890552001913,
          116.64554722935597,
          117.80146421271573,
          117.75969404623297,
          119.04100424224197,
          117.89898307664282,
          115.47565171503464,
          116.02577721459285,
          113.95761633788965,
          115.6218886543248
         ]
        }
       ],
       "layout": {
        "height": 500,
        "legend": {
         "title": {
          "text": "transactionType"
         },
         "tracegroupgap": 0
        },
        "template": {
         "data": {
          "bar": [
           {
            "error_x": {
             "color": "#2a3f5f"
            },
            "error_y": {
             "color": "#2a3f5f"
            },
            "marker": {
             "line": {
              "color": "#E5ECF6",
              "width": 0.5
             },
             "pattern": {
              "fillmode": "overlay",
              "size": 10,
              "solidity": 0.2
             }
            },
            "type": "bar"
           }
          ],
          "barpolar": [
           {
            "marker": {
             "line": {
              "color": "#E5ECF6",
              "width": 0.5
             },
             "pattern": {
              "fillmode": "overlay",
              "size": 10,
              "solidity": 0.2
             }
            },
            "type": "barpolar"
           }
          ],
          "carpet": [
           {
            "aaxis": {
             "endlinecolor": "#2a3f5f",
             "gridcolor": "white",
             "linecolor": "white",
             "minorgridcolor": "white",
             "startlinecolor": "#2a3f5f"
            },
            "baxis": {
             "endlinecolor": "#2a3f5f",
             "gridcolor": "white",
             "linecolor": "white",
             "minorgridcolor": "white",
             "startlinecolor": "#2a3f5f"
            },
            "type": "carpet"
           }
          ],
          "choropleth": [
           {
            "colorbar": {
             "outlinewidth": 0,
             "ticks": ""
            },
            "type": "choropleth"
           }
          ],
          "contour": [
           {
            "colorbar": {
             "outlinewidth": 0,
             "ticks": ""
            },
            "colorscale": [
             [
              0,
              "#0d0887"
             ],
             [
              0.1111111111111111,
              "#46039f"
             ],
             [
              0.2222222222222222,
              "#7201a8"
             ],
             [
              0.3333333333333333,
              "#9c179e"
             ],
             [
              0.4444444444444444,
              "#bd3786"
             ],
             [
              0.5555555555555556,
              "#d8576b"
             ],
             [
              0.6666666666666666,
              "#ed7953"
             ],
             [
              0.7777777777777778,
              "#fb9f3a"
             ],
             [
              0.8888888888888888,
              "#fdca26"
             ],
             [
              1,
              "#f0f921"
             ]
            ],
            "type": "contour"
           }
          ],
          "contourcarpet": [
           {
            "colorbar": {
             "outlinewidth": 0,
             "ticks": ""
            },
            "type": "contourcarpet"
           }
          ],
          "heatmap": [
           {
            "colorbar": {
             "outlinewidth": 0,
             "ticks": ""
            },
            "colorscale": [
             [
              0,
              "#0d0887"
             ],
             [
              0.1111111111111111,
              "#46039f"
             ],
             [
              0.2222222222222222,
              "#7201a8"
             ],
             [
              0.3333333333333333,
              "#9c179e"
             ],
             [
              0.4444444444444444,
              "#bd3786"
             ],
             [
              0.5555555555555556,
              "#d8576b"
             ],
             [
              0.6666666666666666,
              "#ed7953"
             ],
             [
              0.7777777777777778,
              "#fb9f3a"
             ],
             [
              0.8888888888888888,
              "#fdca26"
             ],
             [
              1,
              "#f0f921"
             ]
            ],
            "type": "heatmap"
           }
          ],
          "heatmapgl": [
           {
            "colorbar": {
             "outlinewidth": 0,
             "ticks": ""
            },
            "colorscale": [
             [
              0,
              "#0d0887"
             ],
             [
              0.1111111111111111,
              "#46039f"
             ],
             [
              0.2222222222222222,
              "#7201a8"
             ],
             [
              0.3333333333333333,
              "#9c179e"
             ],
             [
              0.4444444444444444,
              "#bd3786"
             ],
             [
              0.5555555555555556,
              "#d8576b"
             ],
             [
              0.6666666666666666,
              "#ed7953"
             ],
             [
              0.7777777777777778,
              "#fb9f3a"
             ],
             [
              0.8888888888888888,
              "#fdca26"
             ],
             [
              1,
              "#f0f921"
             ]
            ],
            "type": "heatmapgl"
           }
          ],
          "histogram": [
           {
            "marker": {
             "pattern": {
              "fillmode": "overlay",
              "size": 10,
              "solidity": 0.2
             }
            },
            "type": "histogram"
           }
          ],
          "histogram2d": [
           {
            "colorbar": {
             "outlinewidth": 0,
             "ticks": ""
            },
            "colorscale": [
             [
              0,
              "#0d0887"
             ],
             [
              0.1111111111111111,
              "#46039f"
             ],
             [
              0.2222222222222222,
              "#7201a8"
             ],
             [
              0.3333333333333333,
              "#9c179e"
             ],
             [
              0.4444444444444444,
              "#bd3786"
             ],
             [
              0.5555555555555556,
              "#d8576b"
             ],
             [
              0.6666666666666666,
              "#ed7953"
             ],
             [
              0.7777777777777778,
              "#fb9f3a"
             ],
             [
              0.8888888888888888,
              "#fdca26"
             ],
             [
              1,
              "#f0f921"
             ]
            ],
            "type": "histogram2d"
           }
          ],
          "histogram2dcontour": [
           {
            "colorbar": {
             "outlinewidth": 0,
             "ticks": ""
            },
            "colorscale": [
             [
              0,
              "#0d0887"
             ],
             [
              0.1111111111111111,
              "#46039f"
             ],
             [
              0.2222222222222222,
              "#7201a8"
             ],
             [
              0.3333333333333333,
              "#9c179e"
             ],
             [
              0.4444444444444444,
              "#bd3786"
             ],
             [
              0.5555555555555556,
              "#d8576b"
             ],
             [
              0.6666666666666666,
              "#ed7953"
             ],
             [
              0.7777777777777778,
              "#fb9f3a"
             ],
             [
              0.8888888888888888,
              "#fdca26"
             ],
             [
              1,
              "#f0f921"
             ]
            ],
            "type": "histogram2dcontour"
           }
          ],
          "mesh3d": [
           {
            "colorbar": {
             "outlinewidth": 0,
             "ticks": ""
            },
            "type": "mesh3d"
           }
          ],
          "parcoords": [
           {
            "line": {
             "colorbar": {
              "outlinewidth": 0,
              "ticks": ""
             }
            },
            "type": "parcoords"
           }
          ],
          "pie": [
           {
            "automargin": true,
            "type": "pie"
           }
          ],
          "scatter": [
           {
            "fillpattern": {
             "fillmode": "overlay",
             "size": 10,
             "solidity": 0.2
            },
            "type": "scatter"
           }
          ],
          "scatter3d": [
           {
            "line": {
             "colorbar": {
              "outlinewidth": 0,
              "ticks": ""
             }
            },
            "marker": {
             "colorbar": {
              "outlinewidth": 0,
              "ticks": ""
             }
            },
            "type": "scatter3d"
           }
          ],
          "scattercarpet": [
           {
            "marker": {
             "colorbar": {
              "outlinewidth": 0,
              "ticks": ""
             }
            },
            "type": "scattercarpet"
           }
          ],
          "scattergeo": [
           {
            "marker": {
             "colorbar": {
              "outlinewidth": 0,
              "ticks": ""
             }
            },
            "type": "scattergeo"
           }
          ],
          "scattergl": [
           {
            "marker": {
             "colorbar": {
              "outlinewidth": 0,
              "ticks": ""
             }
            },
            "type": "scattergl"
           }
          ],
          "scattermapbox": [
           {
            "marker": {
             "colorbar": {
              "outlinewidth": 0,
              "ticks": ""
             }
            },
            "type": "scattermapbox"
           }
          ],
          "scatterpolar": [
           {
            "marker": {
             "colorbar": {
              "outlinewidth": 0,
              "ticks": ""
             }
            },
            "type": "scatterpolar"
           }
          ],
          "scatterpolargl": [
           {
            "marker": {
             "colorbar": {
              "outlinewidth": 0,
              "ticks": ""
             }
            },
            "type": "scatterpolargl"
           }
          ],
          "scatterternary": [
           {
            "marker": {
             "colorbar": {
              "outlinewidth": 0,
              "ticks": ""
             }
            },
            "type": "scatterternary"
           }
          ],
          "surface": [
           {
            "colorbar": {
             "outlinewidth": 0,
             "ticks": ""
            },
            "colorscale": [
             [
              0,
              "#0d0887"
             ],
             [
              0.1111111111111111,
              "#46039f"
             ],
             [
              0.2222222222222222,
              "#7201a8"
             ],
             [
              0.3333333333333333,
              "#9c179e"
             ],
             [
              0.4444444444444444,
              "#bd3786"
             ],
             [
              0.5555555555555556,
              "#d8576b"
             ],
             [
              0.6666666666666666,
              "#ed7953"
             ],
             [
              0.7777777777777778,
              "#fb9f3a"
             ],
             [
              0.8888888888888888,
              "#fdca26"
             ],
             [
              1,
              "#f0f921"
             ]
            ],
            "type": "surface"
           }
          ],
          "table": [
           {
            "cells": {
             "fill": {
              "color": "#EBF0F8"
             },
             "line": {
              "color": "white"
             }
            },
            "header": {
             "fill": {
              "color": "#C8D4E3"
             },
             "line": {
              "color": "white"
             }
            },
            "type": "table"
           }
          ]
         },
         "layout": {
          "annotationdefaults": {
           "arrowcolor": "#2a3f5f",
           "arrowhead": 0,
           "arrowwidth": 1
          },
          "autotypenumbers": "strict",
          "coloraxis": {
           "colorbar": {
            "outlinewidth": 0,
            "ticks": ""
           }
          },
          "colorscale": {
           "diverging": [
            [
             0,
             "#8e0152"
            ],
            [
             0.1,
             "#c51b7d"
            ],
            [
             0.2,
             "#de77ae"
            ],
            [
             0.3,
             "#f1b6da"
            ],
            [
             0.4,
             "#fde0ef"
            ],
            [
             0.5,
             "#f7f7f7"
            ],
            [
             0.6,
             "#e6f5d0"
            ],
            [
             0.7,
             "#b8e186"
            ],
            [
             0.8,
             "#7fbc41"
            ],
            [
             0.9,
             "#4d9221"
            ],
            [
             1,
             "#276419"
            ]
           ],
           "sequential": [
            [
             0,
             "#0d0887"
            ],
            [
             0.1111111111111111,
             "#46039f"
            ],
            [
             0.2222222222222222,
             "#7201a8"
            ],
            [
             0.3333333333333333,
             "#9c179e"
            ],
            [
             0.4444444444444444,
             "#bd3786"
            ],
            [
             0.5555555555555556,
             "#d8576b"
            ],
            [
             0.6666666666666666,
             "#ed7953"
            ],
            [
             0.7777777777777778,
             "#fb9f3a"
            ],
            [
             0.8888888888888888,
             "#fdca26"
            ],
            [
             1,
             "#f0f921"
            ]
           ],
           "sequentialminus": [
            [
             0,
             "#0d0887"
            ],
            [
             0.1111111111111111,
             "#46039f"
            ],
            [
             0.2222222222222222,
             "#7201a8"
            ],
            [
             0.3333333333333333,
             "#9c179e"
            ],
            [
             0.4444444444444444,
             "#bd3786"
            ],
            [
             0.5555555555555556,
             "#d8576b"
            ],
            [
             0.6666666666666666,
             "#ed7953"
            ],
            [
             0.7777777777777778,
             "#fb9f3a"
            ],
            [
             0.8888888888888888,
             "#fdca26"
            ],
            [
             1,
             "#f0f921"
            ]
           ]
          },
          "colorway": [
           "#636efa",
           "#EF553B",
           "#00cc96",
           "#ab63fa",
           "#FFA15A",
           "#19d3f3",
           "#FF6692",
           "#B6E880",
           "#FF97FF",
           "#FECB52"
          ],
          "font": {
           "color": "#2a3f5f"
          },
          "geo": {
           "bgcolor": "white",
           "lakecolor": "white",
           "landcolor": "#E5ECF6",
           "showlakes": true,
           "showland": true,
           "subunitcolor": "white"
          },
          "hoverlabel": {
           "align": "left"
          },
          "hovermode": "closest",
          "mapbox": {
           "style": "light"
          },
          "paper_bgcolor": "white",
          "plot_bgcolor": "#E5ECF6",
          "polar": {
           "angularaxis": {
            "gridcolor": "white",
            "linecolor": "white",
            "ticks": ""
           },
           "bgcolor": "#E5ECF6",
           "radialaxis": {
            "gridcolor": "white",
            "linecolor": "white",
            "ticks": ""
           }
          },
          "scene": {
           "xaxis": {
            "backgroundcolor": "#E5ECF6",
            "gridcolor": "white",
            "gridwidth": 2,
            "linecolor": "white",
            "showbackground": true,
            "ticks": "",
            "zerolinecolor": "white"
           },
           "yaxis": {
            "backgroundcolor": "#E5ECF6",
            "gridcolor": "white",
            "gridwidth": 2,
            "linecolor": "white",
            "showbackground": true,
            "ticks": "",
            "zerolinecolor": "white"
           },
           "zaxis": {
            "backgroundcolor": "#E5ECF6",
            "gridcolor": "white",
            "gridwidth": 2,
            "linecolor": "white",
            "showbackground": true,
            "ticks": "",
            "zerolinecolor": "white"
           }
          },
          "shapedefaults": {
           "line": {
            "color": "#2a3f5f"
           }
          },
          "ternary": {
           "aaxis": {
            "gridcolor": "white",
            "linecolor": "white",
            "ticks": ""
           },
           "baxis": {
            "gridcolor": "white",
            "linecolor": "white",
            "ticks": ""
           },
           "bgcolor": "#E5ECF6",
           "caxis": {
            "gridcolor": "white",
            "linecolor": "white",
            "ticks": ""
           }
          },
          "title": {
           "x": 0.05
          },
          "xaxis": {
           "automargin": true,
           "gridcolor": "white",
           "linecolor": "white",
           "ticks": "",
           "title": {
            "standoff": 15
           },
           "zerolinecolor": "white",
           "zerolinewidth": 2
          },
          "yaxis": {
           "automargin": true,
           "gridcolor": "white",
           "linecolor": "white",
           "ticks": "",
           "title": {
            "standoff": 15
           },
           "zerolinecolor": "white",
           "zerolinewidth": 2
          }
         }
        },
        "title": {
         "text": "Thomas R Carper Growth Rates DD"
        },
        "width": 800,
        "xaxis": {
         "anchor": "y",
         "domain": [
          0,
          1
         ],
         "title": {
          "text": "date"
         }
        },
        "yaxis": {
         "anchor": "x",
         "domain": [
          0,
          1
         ],
         "title": {
          "text": "DD_growth"
         }
        }
       }
      }
     },
     "metadata": {},
     "output_type": "display_data"
    }
   ],
   "source": [
    "graphAlphaGrowth_fromSource(101, '2012-09-13','DD')\n"
   ]
  },
  {
   "cell_type": "markdown",
   "metadata": {},
   "source": [
    "Observe the multiple purcahses of DD made by Thomas Carper in 2012. His first purchase in September did not result in a growth rate more than the market average. "
   ]
  },
  {
   "cell_type": "code",
   "execution_count": 57,
   "metadata": {},
   "outputs": [
    {
     "data": {
      "application/vnd.plotly.v1+json": {
       "config": {
        "plotlyServerURL": "https://plot.ly"
       },
       "data": [
        {
         "hovertemplate": "transactionType=Purchase<br>date=%{x}<br>DD_growth=%{y}<extra></extra>",
         "legendgroup": "Purchase",
         "marker": {
          "color": "#EF553B",
          "symbol": "circle"
         },
         "mode": "markers",
         "name": "Purchase",
         "orientation": "v",
         "showlegend": true,
         "type": "scatter",
         "x": [
          "2012-12-17",
          "2013-03-15",
          "2013-06-13",
          "2013-09-13",
          "2013-12-16"
         ],
         "xaxis": "x",
         "y": [
          100,
          113.27557531222594,
          121.47699255092881,
          135.78082191780814,
          139.94284677492504
         ],
         "yaxis": "y"
        },
        {
         "line": {
          "color": "#EB4E4B"
         },
         "mode": "lines",
         "name": "DD Growth Rate",
         "type": "scatter",
         "x": [
          "2012-12-14",
          "2012-12-17",
          "2012-12-21",
          "2012-12-28",
          "2013-01-04",
          "2013-01-11",
          "2013-01-18",
          "2013-01-25",
          "2013-02-01",
          "2013-02-08",
          "2013-02-15",
          "2013-02-22",
          "2013-03-01",
          "2013-03-08",
          "2013-03-15",
          "2013-03-15",
          "2013-03-22",
          "2013-03-28",
          "2013-04-05",
          "2013-04-12",
          "2013-04-19",
          "2013-04-26",
          "2013-05-03",
          "2013-05-10",
          "2013-05-17",
          "2013-05-24",
          "2013-05-31",
          "2013-06-07",
          "2013-06-13",
          "2013-06-14",
          "2013-06-21",
          "2013-06-28",
          "2013-07-05",
          "2013-07-12",
          "2013-07-19",
          "2013-07-26",
          "2013-08-02",
          "2013-08-09",
          "2013-08-16",
          "2013-08-23",
          "2013-08-30",
          "2013-09-06",
          "2013-09-13",
          "2013-09-13",
          "2013-09-20",
          "2013-09-27",
          "2013-10-04",
          "2013-10-11",
          "2013-10-18",
          "2013-10-25",
          "2013-11-01",
          "2013-11-08",
          "2013-11-15",
          "2013-11-22",
          "2013-11-29",
          "2013-12-06",
          "2013-12-13",
          "2013-12-16"
         ],
         "y": [
          null,
          100,
          101.0799237956999,
          100.58487808319978,
          102.87961534972331,
          103.82454867096072,
          105.71427419436128,
          108.72885985867933,
          107.94155654338907,
          106.86157226808591,
          106.55619059138971,
          107.23723124376303,
          109.1667523461046,
          111.57297368129265,
          113.27557531222594,
          113.27557531222594,
          111.84533349461228,
          111.59569385224832,
          110.52869253177697,
          113.09395506365476,
          111.66371324604108,
          120.08569959781062,
          122.44648059108728,
          125.896983075791,
          127.92161843418303,
          126.68569758182382,
          127.69272329573514,
          126.89173143024178,
          121.47699255092881,
          120.57453607104333,
          121.10105133710319,
          120.16260949328168,
          121.30694406644687,
          124.53419617567305,
          130.7826665457074,
          131.97286481800674,
          137.1455844849657,
          136.7335167881298,
          134.3971493946999,
          133.52094106262655,
          130.56915338635372,
          131.6990938139445,
          135.78082191780814,
          135.78082191780814,
          137.02605662906842,
          136.08055883153398,
          135.25049643674328,
          133.5900894090134,
          137.4873748828207,
          142.74518935155774,
          140.87719616559303,
          142.97577791889674,
          144.28705635691017,
          143.33464372473702,
          142.5912284415413,
          142.4982309716047,
          139.94284677492504,
          139.94284677492504
         ]
        },
        {
         "line": {
          "color": "#349FEB"
         },
         "mode": "lines",
         "name": "SPY Growth Rate",
         "type": "scatter",
         "x": [
          "2012-12-14",
          "2012-12-17",
          "2012-12-21",
          "2012-12-28",
          "2013-01-04",
          "2013-01-11",
          "2013-01-18",
          "2013-01-25",
          "2013-02-01",
          "2013-02-08",
          "2013-02-15",
          "2013-02-22",
          "2013-03-01",
          "2013-03-08",
          "2013-03-15",
          "2013-03-15",
          "2013-03-22",
          "2013-03-28",
          "2013-04-05",
          "2013-04-12",
          "2013-04-19",
          "2013-04-26",
          "2013-05-03",
          "2013-05-10",
          "2013-05-17",
          "2013-05-24",
          "2013-05-31",
          "2013-06-07",
          "2013-06-13",
          "2013-06-14",
          "2013-06-21",
          "2013-06-28",
          "2013-07-05",
          "2013-07-12",
          "2013-07-19",
          "2013-07-26",
          "2013-08-02",
          "2013-08-09",
          "2013-08-16",
          "2013-08-23",
          "2013-08-30",
          "2013-09-06",
          "2013-09-13",
          "2013-09-13",
          "2013-09-20",
          "2013-09-27",
          "2013-10-04",
          "2013-10-11",
          "2013-10-18",
          "2013-10-25",
          "2013-11-01",
          "2013-11-08",
          "2013-11-15",
          "2013-11-22",
          "2013-11-29",
          "2013-12-06",
          "2013-12-13",
          "2013-12-16"
         ],
         "y": [
          null,
          100,
          100.6848417212671,
          98.73866566049881,
          103.20915351779985,
          103.70280159996153,
          104.59123283229124,
          105.94506502335584,
          106.6431241753453,
          107.03799189773916,
          107.25661110150617,
          107.10150563933647,
          107.25661110150617,
          109.60467437941205,
          110.3688690119995,
          110.3688690119995,
          110.20589833282774,
          110.96375004847805,
          109.89433425287507,
          112.47234941280902,
          110.12090324586998,
          112.07579024589862,
          114.2925974293185,
          115.73751390760054,
          118.23763804754631,
          117.08314259275976,
          115.7658456032531,
          116.7219346162457,
          115.73845628383121,
          115.57454322842878,
          113.25794081853111,
          114.21910416507342,
          116.07030561623614,
          119.26722032478395,
          120.44911718073897,
          120.40640820669552,
          121.71651655700671,
          120.54882783499092,
          118.0710307626639,
          118.63352063665008,
          116.51887670203118,
          118.22055445792888,
          120.56303596893011,
          120.56303596893011,
          122.1493572087976,
          120.85430271468388,
          120.84001000851886,
          121.8202021058726,
          124.77524024855053,
          125.89142448503671,
          126.07739880963388,
          126.85013523702997,
          128.82489671012834,
          129.3686961222064,
          129.5046882613388,
          129.4617255706179,
          127.43689733982897,
          127.43689733982897
         ]
        }
       ],
       "layout": {
        "height": 500,
        "legend": {
         "title": {
          "text": "transactionType"
         },
         "tracegroupgap": 0
        },
        "template": {
         "data": {
          "bar": [
           {
            "error_x": {
             "color": "#2a3f5f"
            },
            "error_y": {
             "color": "#2a3f5f"
            },
            "marker": {
             "line": {
              "color": "#E5ECF6",
              "width": 0.5
             },
             "pattern": {
              "fillmode": "overlay",
              "size": 10,
              "solidity": 0.2
             }
            },
            "type": "bar"
           }
          ],
          "barpolar": [
           {
            "marker": {
             "line": {
              "color": "#E5ECF6",
              "width": 0.5
             },
             "pattern": {
              "fillmode": "overlay",
              "size": 10,
              "solidity": 0.2
             }
            },
            "type": "barpolar"
           }
          ],
          "carpet": [
           {
            "aaxis": {
             "endlinecolor": "#2a3f5f",
             "gridcolor": "white",
             "linecolor": "white",
             "minorgridcolor": "white",
             "startlinecolor": "#2a3f5f"
            },
            "baxis": {
             "endlinecolor": "#2a3f5f",
             "gridcolor": "white",
             "linecolor": "white",
             "minorgridcolor": "white",
             "startlinecolor": "#2a3f5f"
            },
            "type": "carpet"
           }
          ],
          "choropleth": [
           {
            "colorbar": {
             "outlinewidth": 0,
             "ticks": ""
            },
            "type": "choropleth"
           }
          ],
          "contour": [
           {
            "colorbar": {
             "outlinewidth": 0,
             "ticks": ""
            },
            "colorscale": [
             [
              0,
              "#0d0887"
             ],
             [
              0.1111111111111111,
              "#46039f"
             ],
             [
              0.2222222222222222,
              "#7201a8"
             ],
             [
              0.3333333333333333,
              "#9c179e"
             ],
             [
              0.4444444444444444,
              "#bd3786"
             ],
             [
              0.5555555555555556,
              "#d8576b"
             ],
             [
              0.6666666666666666,
              "#ed7953"
             ],
             [
              0.7777777777777778,
              "#fb9f3a"
             ],
             [
              0.8888888888888888,
              "#fdca26"
             ],
             [
              1,
              "#f0f921"
             ]
            ],
            "type": "contour"
           }
          ],
          "contourcarpet": [
           {
            "colorbar": {
             "outlinewidth": 0,
             "ticks": ""
            },
            "type": "contourcarpet"
           }
          ],
          "heatmap": [
           {
            "colorbar": {
             "outlinewidth": 0,
             "ticks": ""
            },
            "colorscale": [
             [
              0,
              "#0d0887"
             ],
             [
              0.1111111111111111,
              "#46039f"
             ],
             [
              0.2222222222222222,
              "#7201a8"
             ],
             [
              0.3333333333333333,
              "#9c179e"
             ],
             [
              0.4444444444444444,
              "#bd3786"
             ],
             [
              0.5555555555555556,
              "#d8576b"
             ],
             [
              0.6666666666666666,
              "#ed7953"
             ],
             [
              0.7777777777777778,
              "#fb9f3a"
             ],
             [
              0.8888888888888888,
              "#fdca26"
             ],
             [
              1,
              "#f0f921"
             ]
            ],
            "type": "heatmap"
           }
          ],
          "heatmapgl": [
           {
            "colorbar": {
             "outlinewidth": 0,
             "ticks": ""
            },
            "colorscale": [
             [
              0,
              "#0d0887"
             ],
             [
              0.1111111111111111,
              "#46039f"
             ],
             [
              0.2222222222222222,
              "#7201a8"
             ],
             [
              0.3333333333333333,
              "#9c179e"
             ],
             [
              0.4444444444444444,
              "#bd3786"
             ],
             [
              0.5555555555555556,
              "#d8576b"
             ],
             [
              0.6666666666666666,
              "#ed7953"
             ],
             [
              0.7777777777777778,
              "#fb9f3a"
             ],
             [
              0.8888888888888888,
              "#fdca26"
             ],
             [
              1,
              "#f0f921"
             ]
            ],
            "type": "heatmapgl"
           }
          ],
          "histogram": [
           {
            "marker": {
             "pattern": {
              "fillmode": "overlay",
              "size": 10,
              "solidity": 0.2
             }
            },
            "type": "histogram"
           }
          ],
          "histogram2d": [
           {
            "colorbar": {
             "outlinewidth": 0,
             "ticks": ""
            },
            "colorscale": [
             [
              0,
              "#0d0887"
             ],
             [
              0.1111111111111111,
              "#46039f"
             ],
             [
              0.2222222222222222,
              "#7201a8"
             ],
             [
              0.3333333333333333,
              "#9c179e"
             ],
             [
              0.4444444444444444,
              "#bd3786"
             ],
             [
              0.5555555555555556,
              "#d8576b"
             ],
             [
              0.6666666666666666,
              "#ed7953"
             ],
             [
              0.7777777777777778,
              "#fb9f3a"
             ],
             [
              0.8888888888888888,
              "#fdca26"
             ],
             [
              1,
              "#f0f921"
             ]
            ],
            "type": "histogram2d"
           }
          ],
          "histogram2dcontour": [
           {
            "colorbar": {
             "outlinewidth": 0,
             "ticks": ""
            },
            "colorscale": [
             [
              0,
              "#0d0887"
             ],
             [
              0.1111111111111111,
              "#46039f"
             ],
             [
              0.2222222222222222,
              "#7201a8"
             ],
             [
              0.3333333333333333,
              "#9c179e"
             ],
             [
              0.4444444444444444,
              "#bd3786"
             ],
             [
              0.5555555555555556,
              "#d8576b"
             ],
             [
              0.6666666666666666,
              "#ed7953"
             ],
             [
              0.7777777777777778,
              "#fb9f3a"
             ],
             [
              0.8888888888888888,
              "#fdca26"
             ],
             [
              1,
              "#f0f921"
             ]
            ],
            "type": "histogram2dcontour"
           }
          ],
          "mesh3d": [
           {
            "colorbar": {
             "outlinewidth": 0,
             "ticks": ""
            },
            "type": "mesh3d"
           }
          ],
          "parcoords": [
           {
            "line": {
             "colorbar": {
              "outlinewidth": 0,
              "ticks": ""
             }
            },
            "type": "parcoords"
           }
          ],
          "pie": [
           {
            "automargin": true,
            "type": "pie"
           }
          ],
          "scatter": [
           {
            "fillpattern": {
             "fillmode": "overlay",
             "size": 10,
             "solidity": 0.2
            },
            "type": "scatter"
           }
          ],
          "scatter3d": [
           {
            "line": {
             "colorbar": {
              "outlinewidth": 0,
              "ticks": ""
             }
            },
            "marker": {
             "colorbar": {
              "outlinewidth": 0,
              "ticks": ""
             }
            },
            "type": "scatter3d"
           }
          ],
          "scattercarpet": [
           {
            "marker": {
             "colorbar": {
              "outlinewidth": 0,
              "ticks": ""
             }
            },
            "type": "scattercarpet"
           }
          ],
          "scattergeo": [
           {
            "marker": {
             "colorbar": {
              "outlinewidth": 0,
              "ticks": ""
             }
            },
            "type": "scattergeo"
           }
          ],
          "scattergl": [
           {
            "marker": {
             "colorbar": {
              "outlinewidth": 0,
              "ticks": ""
             }
            },
            "type": "scattergl"
           }
          ],
          "scattermapbox": [
           {
            "marker": {
             "colorbar": {
              "outlinewidth": 0,
              "ticks": ""
             }
            },
            "type": "scattermapbox"
           }
          ],
          "scatterpolar": [
           {
            "marker": {
             "colorbar": {
              "outlinewidth": 0,
              "ticks": ""
             }
            },
            "type": "scatterpolar"
           }
          ],
          "scatterpolargl": [
           {
            "marker": {
             "colorbar": {
              "outlinewidth": 0,
              "ticks": ""
             }
            },
            "type": "scatterpolargl"
           }
          ],
          "scatterternary": [
           {
            "marker": {
             "colorbar": {
              "outlinewidth": 0,
              "ticks": ""
             }
            },
            "type": "scatterternary"
           }
          ],
          "surface": [
           {
            "colorbar": {
             "outlinewidth": 0,
             "ticks": ""
            },
            "colorscale": [
             [
              0,
              "#0d0887"
             ],
             [
              0.1111111111111111,
              "#46039f"
             ],
             [
              0.2222222222222222,
              "#7201a8"
             ],
             [
              0.3333333333333333,
              "#9c179e"
             ],
             [
              0.4444444444444444,
              "#bd3786"
             ],
             [
              0.5555555555555556,
              "#d8576b"
             ],
             [
              0.6666666666666666,
              "#ed7953"
             ],
             [
              0.7777777777777778,
              "#fb9f3a"
             ],
             [
              0.8888888888888888,
              "#fdca26"
             ],
             [
              1,
              "#f0f921"
             ]
            ],
            "type": "surface"
           }
          ],
          "table": [
           {
            "cells": {
             "fill": {
              "color": "#EBF0F8"
             },
             "line": {
              "color": "white"
             }
            },
            "header": {
             "fill": {
              "color": "#C8D4E3"
             },
             "line": {
              "color": "white"
             }
            },
            "type": "table"
           }
          ]
         },
         "layout": {
          "annotationdefaults": {
           "arrowcolor": "#2a3f5f",
           "arrowhead": 0,
           "arrowwidth": 1
          },
          "autotypenumbers": "strict",
          "coloraxis": {
           "colorbar": {
            "outlinewidth": 0,
            "ticks": ""
           }
          },
          "colorscale": {
           "diverging": [
            [
             0,
             "#8e0152"
            ],
            [
             0.1,
             "#c51b7d"
            ],
            [
             0.2,
             "#de77ae"
            ],
            [
             0.3,
             "#f1b6da"
            ],
            [
             0.4,
             "#fde0ef"
            ],
            [
             0.5,
             "#f7f7f7"
            ],
            [
             0.6,
             "#e6f5d0"
            ],
            [
             0.7,
             "#b8e186"
            ],
            [
             0.8,
             "#7fbc41"
            ],
            [
             0.9,
             "#4d9221"
            ],
            [
             1,
             "#276419"
            ]
           ],
           "sequential": [
            [
             0,
             "#0d0887"
            ],
            [
             0.1111111111111111,
             "#46039f"
            ],
            [
             0.2222222222222222,
             "#7201a8"
            ],
            [
             0.3333333333333333,
             "#9c179e"
            ],
            [
             0.4444444444444444,
             "#bd3786"
            ],
            [
             0.5555555555555556,
             "#d8576b"
            ],
            [
             0.6666666666666666,
             "#ed7953"
            ],
            [
             0.7777777777777778,
             "#fb9f3a"
            ],
            [
             0.8888888888888888,
             "#fdca26"
            ],
            [
             1,
             "#f0f921"
            ]
           ],
           "sequentialminus": [
            [
             0,
             "#0d0887"
            ],
            [
             0.1111111111111111,
             "#46039f"
            ],
            [
             0.2222222222222222,
             "#7201a8"
            ],
            [
             0.3333333333333333,
             "#9c179e"
            ],
            [
             0.4444444444444444,
             "#bd3786"
            ],
            [
             0.5555555555555556,
             "#d8576b"
            ],
            [
             0.6666666666666666,
             "#ed7953"
            ],
            [
             0.7777777777777778,
             "#fb9f3a"
            ],
            [
             0.8888888888888888,
             "#fdca26"
            ],
            [
             1,
             "#f0f921"
            ]
           ]
          },
          "colorway": [
           "#636efa",
           "#EF553B",
           "#00cc96",
           "#ab63fa",
           "#FFA15A",
           "#19d3f3",
           "#FF6692",
           "#B6E880",
           "#FF97FF",
           "#FECB52"
          ],
          "font": {
           "color": "#2a3f5f"
          },
          "geo": {
           "bgcolor": "white",
           "lakecolor": "white",
           "landcolor": "#E5ECF6",
           "showlakes": true,
           "showland": true,
           "subunitcolor": "white"
          },
          "hoverlabel": {
           "align": "left"
          },
          "hovermode": "closest",
          "mapbox": {
           "style": "light"
          },
          "paper_bgcolor": "white",
          "plot_bgcolor": "#E5ECF6",
          "polar": {
           "angularaxis": {
            "gridcolor": "white",
            "linecolor": "white",
            "ticks": ""
           },
           "bgcolor": "#E5ECF6",
           "radialaxis": {
            "gridcolor": "white",
            "linecolor": "white",
            "ticks": ""
           }
          },
          "scene": {
           "xaxis": {
            "backgroundcolor": "#E5ECF6",
            "gridcolor": "white",
            "gridwidth": 2,
            "linecolor": "white",
            "showbackground": true,
            "ticks": "",
            "zerolinecolor": "white"
           },
           "yaxis": {
            "backgroundcolor": "#E5ECF6",
            "gridcolor": "white",
            "gridwidth": 2,
            "linecolor": "white",
            "showbackground": true,
            "ticks": "",
            "zerolinecolor": "white"
           },
           "zaxis": {
            "backgroundcolor": "#E5ECF6",
            "gridcolor": "white",
            "gridwidth": 2,
            "linecolor": "white",
            "showbackground": true,
            "ticks": "",
            "zerolinecolor": "white"
           }
          },
          "shapedefaults": {
           "line": {
            "color": "#2a3f5f"
           }
          },
          "ternary": {
           "aaxis": {
            "gridcolor": "white",
            "linecolor": "white",
            "ticks": ""
           },
           "baxis": {
            "gridcolor": "white",
            "linecolor": "white",
            "ticks": ""
           },
           "bgcolor": "#E5ECF6",
           "caxis": {
            "gridcolor": "white",
            "linecolor": "white",
            "ticks": ""
           }
          },
          "title": {
           "x": 0.05
          },
          "xaxis": {
           "automargin": true,
           "gridcolor": "white",
           "linecolor": "white",
           "ticks": "",
           "title": {
            "standoff": 15
           },
           "zerolinecolor": "white",
           "zerolinewidth": 2
          },
          "yaxis": {
           "automargin": true,
           "gridcolor": "white",
           "linecolor": "white",
           "ticks": "",
           "title": {
            "standoff": 15
           },
           "zerolinecolor": "white",
           "zerolinewidth": 2
          }
         }
        },
        "title": {
         "text": "Thomas R Carper Growth Rates DD"
        },
        "width": 800,
        "xaxis": {
         "anchor": "y",
         "domain": [
          0,
          1
         ],
         "title": {
          "text": "date"
         }
        },
        "yaxis": {
         "anchor": "x",
         "domain": [
          0,
          1
         ],
         "title": {
          "text": "DD_growth"
         }
        }
       }
      }
     },
     "metadata": {},
     "output_type": "display_data"
    }
   ],
   "source": [
    "graphAlphaGrowth_fromSource(101, '2012-12-17','DD')"
   ]
  },
  {
   "cell_type": "markdown",
   "metadata": {},
   "source": [
    "Starting the clock from his next purcahse in December of 2012 paints a rosier picture. From here, he managed to beat the S&P by a wide margin.  Thomas' first purcahse was poorly timed, but is subsequent purcahse three months later was very profitable. This is why every purcahse needs to be examined separately.\n",
    "<br>\n",
    "<br>\n",
    "the analysis that follows will calculate alpha as the maximum difference in growth indecies between a stock and the S&P 6 months after every purcahse. "
   ]
  },
  {
   "cell_type": "code",
   "execution_count": null,
   "metadata": {},
   "outputs": [],
   "source": []
  },
  {
   "cell_type": "code",
   "execution_count": 58,
   "metadata": {},
   "outputs": [
    {
     "data": {
      "text/html": [
       "<div>\n",
       "<style scoped>\n",
       "    .dataframe tbody tr th:only-of-type {\n",
       "        vertical-align: middle;\n",
       "    }\n",
       "\n",
       "    .dataframe tbody tr th {\n",
       "        vertical-align: top;\n",
       "    }\n",
       "\n",
       "    .dataframe thead th {\n",
       "        text-align: right;\n",
       "    }\n",
       "</style>\n",
       "<table border=\"1\" class=\"dataframe\">\n",
       "  <thead>\n",
       "    <tr style=\"text-align: right;\">\n",
       "      <th></th>\n",
       "      <th>date</th>\n",
       "      <th>F</th>\n",
       "      <th>SPY</th>\n",
       "      <th>transactionType</th>\n",
       "      <th>transactionValue</th>\n",
       "      <th>F_growth</th>\n",
       "      <th>F_pchange</th>\n",
       "      <th>SPY_growth</th>\n",
       "      <th>SPY_pchange</th>\n",
       "      <th>alpha</th>\n",
       "    </tr>\n",
       "  </thead>\n",
       "  <tbody>\n",
       "    <tr>\n",
       "      <th>519</th>\n",
       "      <td>2012-12-14</td>\n",
       "      <td>7.3834</td>\n",
       "      <td>117.6348</td>\n",
       "      <td>NaN</td>\n",
       "      <td>NaN</td>\n",
       "      <td>NaN</td>\n",
       "      <td>NaN</td>\n",
       "      <td>NaN</td>\n",
       "      <td>NaN</td>\n",
       "      <td>NaN</td>\n",
       "    </tr>\n",
       "    <tr>\n",
       "      <th>518</th>\n",
       "      <td>2012-12-21</td>\n",
       "      <td>7.8890</td>\n",
       "      <td>119.0519</td>\n",
       "      <td>NaN</td>\n",
       "      <td>NaN</td>\n",
       "      <td>100.000000</td>\n",
       "      <td>0.068478</td>\n",
       "      <td>100.000000</td>\n",
       "      <td>0.012047</td>\n",
       "      <td>0.000000</td>\n",
       "    </tr>\n",
       "    <tr>\n",
       "      <th>517</th>\n",
       "      <td>2012-12-28</td>\n",
       "      <td>8.5608</td>\n",
       "      <td>116.7507</td>\n",
       "      <td>NaN</td>\n",
       "      <td>NaN</td>\n",
       "      <td>108.515655</td>\n",
       "      <td>0.085157</td>\n",
       "      <td>98.067062</td>\n",
       "      <td>-0.019329</td>\n",
       "      <td>10.448593</td>\n",
       "    </tr>\n",
       "    <tr>\n",
       "      <th>516</th>\n",
       "      <td>2013-01-04</td>\n",
       "      <td>9.0264</td>\n",
       "      <td>122.0367</td>\n",
       "      <td>NaN</td>\n",
       "      <td>NaN</td>\n",
       "      <td>114.417543</td>\n",
       "      <td>0.054387</td>\n",
       "      <td>102.507142</td>\n",
       "      <td>0.045276</td>\n",
       "      <td>11.910402</td>\n",
       "    </tr>\n",
       "    <tr>\n",
       "      <th>515</th>\n",
       "      <td>2013-01-11</td>\n",
       "      <td>9.3124</td>\n",
       "      <td>122.6204</td>\n",
       "      <td>NaN</td>\n",
       "      <td>NaN</td>\n",
       "      <td>118.042844</td>\n",
       "      <td>0.031685</td>\n",
       "      <td>102.997432</td>\n",
       "      <td>0.004783</td>\n",
       "      <td>15.045412</td>\n",
       "    </tr>\n",
       "  </tbody>\n",
       "</table>\n",
       "</div>"
      ],
      "text/plain": [
       "          date       F       SPY  transactionType  transactionValue  \\\n",
       "519 2012-12-14  7.3834  117.6348              NaN               NaN   \n",
       "518 2012-12-21  7.8890  119.0519              NaN               NaN   \n",
       "517 2012-12-28  8.5608  116.7507              NaN               NaN   \n",
       "516 2013-01-04  9.0264  122.0367              NaN               NaN   \n",
       "515 2013-01-11  9.3124  122.6204              NaN               NaN   \n",
       "\n",
       "       F_growth  F_pchange  SPY_growth  SPY_pchange      alpha  \n",
       "519         NaN        NaN         NaN          NaN        NaN  \n",
       "518  100.000000   0.068478  100.000000     0.012047   0.000000  \n",
       "517  108.515655   0.085157   98.067062    -0.019329  10.448593  \n",
       "516  114.417543   0.054387  102.507142     0.045276  11.910402  \n",
       "515  118.042844   0.031685  102.997432     0.004783  15.045412  "
      ]
     },
     "execution_count": 58,
     "metadata": {},
     "output_type": "execute_result"
    }
   ],
   "source": [
    "def alphaFrame(senatorIdInput, dateInput,tickerInput ):\n",
    "    hist = historicalGrowthRatesWithTransactions(senatorIdInput, dateInput,tickerInput)\n",
    "    # hist.drop(['transactionType', 'transactionValue'], axis=1, inplace=True)\n",
    "\n",
    "    sixMonthsHence = datetime.datetime.strptime(dateInput, \"%Y-%m-%d\") + relativedelta(months=+6)\n",
    "\n",
    "    hist['date'] = pd.to_datetime(hist['date'])\n",
    "\n",
    "\n",
    "    hist = hist[hist['date']<=sixMonthsHence]\n",
    "\n",
    "    growthCol = f\"{tickerInput}_growth\"\n",
    "    #calculate alpha as difference in growth rates \n",
    "    hist['alpha']  = hist[growthCol] - hist['SPY_growth']\n",
    "    return hist\n",
    "\n",
    "# temp = alphaFrame(101, '2012-12-21','DD')\n",
    "# temp = alphaFrame(101, '2012-12-21','M')\n",
    "temp = alphaFrame(101, '2012-12-21','F')\n",
    "# temp = alphaFrame(*testParams)\n",
    "temp.head()"
   ]
  },
  {
   "cell_type": "code",
   "execution_count": null,
   "metadata": {},
   "outputs": [],
   "source": []
  },
  {
   "cell_type": "code",
   "execution_count": 59,
   "metadata": {},
   "outputs": [],
   "source": [
    "def calculateAlphaValue(senatorIdInput, dateInput,tickerInput ):\n",
    "\n",
    "    try:         \n",
    "        # we're looking to return the maximum alpha value within a 6 month period\n",
    "        histAlpha = alphaFrame(senatorIdInput, dateInput,tickerInput )\n",
    "\n",
    "    except: \n",
    "        return 'Not Found'\n",
    "\n",
    "        # start counting a week after purcahse\n",
    "    histAlpha = histAlpha.iloc[ 1:,:]\n",
    "\n",
    "    maxAlpha = histAlpha.loc[histAlpha.alpha.idxmax()].alpha\n",
    "    maxAlpha = round(maxAlpha, 2)\n",
    "\n",
    "    return maxAlpha\n",
    "\n"
   ]
  },
  {
   "cell_type": "code",
   "execution_count": 60,
   "metadata": {},
   "outputs": [
    {
     "data": {
      "text/html": [
       "<div>\n",
       "<style scoped>\n",
       "    .dataframe tbody tr th:only-of-type {\n",
       "        vertical-align: middle;\n",
       "    }\n",
       "\n",
       "    .dataframe tbody tr th {\n",
       "        vertical-align: top;\n",
       "    }\n",
       "\n",
       "    .dataframe thead th {\n",
       "        text-align: right;\n",
       "    }\n",
       "</style>\n",
       "<table border=\"1\" class=\"dataframe\">\n",
       "  <thead>\n",
       "    <tr style=\"text-align: right;\">\n",
       "      <th></th>\n",
       "      <th>transaction_date</th>\n",
       "      <th>owner</th>\n",
       "      <th>ticker</th>\n",
       "      <th>asset_description</th>\n",
       "      <th>asset_type</th>\n",
       "      <th>type</th>\n",
       "      <th>amount</th>\n",
       "      <th>comment</th>\n",
       "      <th>senator</th>\n",
       "      <th>ptr_link</th>\n",
       "      <th>disclosure_date</th>\n",
       "      <th>id</th>\n",
       "      <th>senatorId</th>\n",
       "      <th>alpha</th>\n",
       "    </tr>\n",
       "  </thead>\n",
       "  <tbody>\n",
       "    <tr>\n",
       "      <th>28</th>\n",
       "      <td>2020-11-17</td>\n",
       "      <td>Joint</td>\n",
       "      <td>W</td>\n",
       "      <td>Wayfair Inc.</td>\n",
       "      <td>Stock</td>\n",
       "      <td>Purchase</td>\n",
       "      <td>$15,001 - $50,000</td>\n",
       "      <td>R</td>\n",
       "      <td>Pat Roberts</td>\n",
       "      <td>https://efdsearch.senate.gov/search/view/ptr/b...</td>\n",
       "      <td>12/03/2020</td>\n",
       "      <td>1338</td>\n",
       "      <td>133</td>\n",
       "      <td>28.15</td>\n",
       "    </tr>\n",
       "    <tr>\n",
       "      <th>85</th>\n",
       "      <td>2020-08-21</td>\n",
       "      <td>Spouse</td>\n",
       "      <td>SQ</td>\n",
       "      <td>Square, Inc.</td>\n",
       "      <td>Stock</td>\n",
       "      <td>Purchase</td>\n",
       "      <td>$15,001 - $50,000</td>\n",
       "      <td>--</td>\n",
       "      <td>Ron L Wyden</td>\n",
       "      <td>https://efdsearch.senate.gov/search/view/ptr/3...</td>\n",
       "      <td>08/29/2020</td>\n",
       "      <td>1565</td>\n",
       "      <td>163</td>\n",
       "      <td>62.47</td>\n",
       "    </tr>\n",
       "    <tr>\n",
       "      <th>4975</th>\n",
       "      <td>2020-08-24</td>\n",
       "      <td>Spouse</td>\n",
       "      <td>SQ</td>\n",
       "      <td>Square, Inc.</td>\n",
       "      <td>Stock</td>\n",
       "      <td>Purchase</td>\n",
       "      <td>$15,001 - $50,000</td>\n",
       "      <td>--</td>\n",
       "      <td>Ron L Wyden</td>\n",
       "      <td>https://efdsearch.senate.gov/search/view/ptr/2...</td>\n",
       "      <td>09/24/2020</td>\n",
       "      <td>1481</td>\n",
       "      <td>163</td>\n",
       "      <td>63.66</td>\n",
       "    </tr>\n",
       "    <tr>\n",
       "      <th>4976</th>\n",
       "      <td>2017-03-16</td>\n",
       "      <td>Spouse</td>\n",
       "      <td>SNY</td>\n",
       "      <td>Sanofi</td>\n",
       "      <td>Stock</td>\n",
       "      <td>Purchase</td>\n",
       "      <td>$1,001 - $15,000</td>\n",
       "      <td>--</td>\n",
       "      <td>Patty Murray</td>\n",
       "      <td>https://efdsearch.senate.gov/search/view/ptr/6...</td>\n",
       "      <td>03/21/2017</td>\n",
       "      <td>6357</td>\n",
       "      <td>156</td>\n",
       "      <td>14.67</td>\n",
       "    </tr>\n",
       "    <tr>\n",
       "      <th>4977</th>\n",
       "      <td>2020-11-20</td>\n",
       "      <td>Spouse</td>\n",
       "      <td>V</td>\n",
       "      <td>Visa Inc.</td>\n",
       "      <td>Stock</td>\n",
       "      <td>Purchase</td>\n",
       "      <td>$1,001 - $15,000</td>\n",
       "      <td>--</td>\n",
       "      <td>Thomas R Carper</td>\n",
       "      <td>https://efdsearch.senate.gov/search/view/ptr/3...</td>\n",
       "      <td>12/02/2020</td>\n",
       "      <td>1349</td>\n",
       "      <td>101</td>\n",
       "      <td>1.61</td>\n",
       "    </tr>\n",
       "  </tbody>\n",
       "</table>\n",
       "</div>"
      ],
      "text/plain": [
       "     transaction_date   owner ticker asset_description asset_type      type  \\\n",
       "28         2020-11-17   Joint      W      Wayfair Inc.      Stock  Purchase   \n",
       "85         2020-08-21  Spouse     SQ      Square, Inc.      Stock  Purchase   \n",
       "4975       2020-08-24  Spouse     SQ      Square, Inc.      Stock  Purchase   \n",
       "4976       2017-03-16  Spouse    SNY            Sanofi      Stock  Purchase   \n",
       "4977       2020-11-20  Spouse      V         Visa Inc.      Stock  Purchase   \n",
       "\n",
       "                 amount comment          senator  \\\n",
       "28    $15,001 - $50,000       R      Pat Roberts   \n",
       "85    $15,001 - $50,000      --      Ron L Wyden   \n",
       "4975  $15,001 - $50,000      --      Ron L Wyden   \n",
       "4976   $1,001 - $15,000      --     Patty Murray   \n",
       "4977   $1,001 - $15,000      --  Thomas R Carper   \n",
       "\n",
       "                                               ptr_link disclosure_date    id  \\\n",
       "28    https://efdsearch.senate.gov/search/view/ptr/b...      12/03/2020  1338   \n",
       "85    https://efdsearch.senate.gov/search/view/ptr/3...      08/29/2020  1565   \n",
       "4975  https://efdsearch.senate.gov/search/view/ptr/2...      09/24/2020  1481   \n",
       "4976  https://efdsearch.senate.gov/search/view/ptr/6...      03/21/2017  6357   \n",
       "4977  https://efdsearch.senate.gov/search/view/ptr/3...      12/02/2020  1349   \n",
       "\n",
       "      senatorId  alpha  \n",
       "28          133  28.15  \n",
       "85          163  62.47  \n",
       "4975        163  63.66  \n",
       "4976        156  14.67  \n",
       "4977        101   1.61  "
      ]
     },
     "execution_count": 60,
     "metadata": {},
     "output_type": "execute_result"
    }
   ],
   "source": [
    "purchases.head()"
   ]
  },
  {
   "cell_type": "code",
   "execution_count": null,
   "metadata": {},
   "outputs": [],
   "source": []
  },
  {
   "cell_type": "code",
   "execution_count": 61,
   "metadata": {},
   "outputs": [
    {
     "data": {
      "text/plain": [
       "[28.15, 62.47, 63.66, 14.67, 1.61]"
      ]
     },
     "execution_count": 61,
     "metadata": {},
     "output_type": "execute_result"
    }
   ],
   "source": [
    "alphaList = []\n",
    "\n",
    "for row in list(np.arange(len(purchases))):\n",
    "    currentDate = purchases.transaction_date.values[row]\n",
    "    currentTicker = purchases.ticker.values[row]\n",
    "    currentSenId = purchases.senatorId.values[row]\n",
    "\n",
    "\n",
    "    currentDateString  = str(currentDate).split(\"T\")[0]\n",
    "   \n",
    "    try:\n",
    "        currentAlpha = calculateAlphaValue(currentSenId, currentDateString,currentTicker)\n",
    "    except:\n",
    "        currentAlpha =\"Not Found\"\n",
    "\n",
    "\n",
    "    \n",
    "\n",
    "    alphaList.append(currentAlpha)\n",
    "alphaList[:5]\n"
   ]
  },
  {
   "cell_type": "code",
   "execution_count": 62,
   "metadata": {},
   "outputs": [
    {
     "data": {
      "text/html": [
       "<div>\n",
       "<style scoped>\n",
       "    .dataframe tbody tr th:only-of-type {\n",
       "        vertical-align: middle;\n",
       "    }\n",
       "\n",
       "    .dataframe tbody tr th {\n",
       "        vertical-align: top;\n",
       "    }\n",
       "\n",
       "    .dataframe thead th {\n",
       "        text-align: right;\n",
       "    }\n",
       "</style>\n",
       "<table border=\"1\" class=\"dataframe\">\n",
       "  <thead>\n",
       "    <tr style=\"text-align: right;\">\n",
       "      <th></th>\n",
       "      <th>transaction_date</th>\n",
       "      <th>ticker</th>\n",
       "      <th>senatorId</th>\n",
       "      <th>asset_description</th>\n",
       "      <th>alpha</th>\n",
       "    </tr>\n",
       "  </thead>\n",
       "  <tbody>\n",
       "    <tr>\n",
       "      <th>5344</th>\n",
       "      <td>2020-11-20</td>\n",
       "      <td>SI</td>\n",
       "      <td>101</td>\n",
       "      <td>Silvergate Capital Corporation</td>\n",
       "      <td>450.03</td>\n",
       "    </tr>\n",
       "    <tr>\n",
       "      <th>6846</th>\n",
       "      <td>2017-10-19</td>\n",
       "      <td>CRSP</td>\n",
       "      <td>132</td>\n",
       "      <td>CRISPR Therapeutics AG</td>\n",
       "      <td>189.74</td>\n",
       "    </tr>\n",
       "    <tr>\n",
       "      <th>5404</th>\n",
       "      <td>2020-08-03</td>\n",
       "      <td>TSLA</td>\n",
       "      <td>133</td>\n",
       "      <td>Tesla, Inc.</td>\n",
       "      <td>189.02</td>\n",
       "    </tr>\n",
       "    <tr>\n",
       "      <th>5338</th>\n",
       "      <td>2020-11-20</td>\n",
       "      <td>NTLA</td>\n",
       "      <td>101</td>\n",
       "      <td>Intellia Therapeutics, Inc.</td>\n",
       "      <td>147.03</td>\n",
       "    </tr>\n",
       "    <tr>\n",
       "      <th>5443</th>\n",
       "      <td>2020-07-07</td>\n",
       "      <td>TSLA</td>\n",
       "      <td>118</td>\n",
       "      <td>Tesla, Inc.</td>\n",
       "      <td>129.25</td>\n",
       "    </tr>\n",
       "    <tr>\n",
       "      <th>7654</th>\n",
       "      <td>2016-05-18</td>\n",
       "      <td>NVDA</td>\n",
       "      <td>123</td>\n",
       "      <td>NVIDIA Corporation</td>\n",
       "      <td>108.65</td>\n",
       "    </tr>\n",
       "    <tr>\n",
       "      <th>7840</th>\n",
       "      <td>2016-01-08</td>\n",
       "      <td>CLR</td>\n",
       "      <td>132</td>\n",
       "      <td>Continental Resources, Inc.</td>\n",
       "      <td>98.27</td>\n",
       "    </tr>\n",
       "    <tr>\n",
       "      <th>8314</th>\n",
       "      <td>2015-04-07</td>\n",
       "      <td>NFLX</td>\n",
       "      <td>123</td>\n",
       "      <td>Netflix, Inc. (NASDAQ)</td>\n",
       "      <td>96.67</td>\n",
       "    </tr>\n",
       "    <tr>\n",
       "      <th>5303</th>\n",
       "      <td>2020-12-21</td>\n",
       "      <td>EXPI</td>\n",
       "      <td>133</td>\n",
       "      <td>eXp World Holdings, Inc.</td>\n",
       "      <td>94.13</td>\n",
       "    </tr>\n",
       "    <tr>\n",
       "      <th>5299</th>\n",
       "      <td>2020-12-22</td>\n",
       "      <td>PLUG</td>\n",
       "      <td>133</td>\n",
       "      <td>Plug Power Inc.</td>\n",
       "      <td>91.43</td>\n",
       "    </tr>\n",
       "    <tr>\n",
       "      <th>5384</th>\n",
       "      <td>2020-08-28</td>\n",
       "      <td>TSLA</td>\n",
       "      <td>118</td>\n",
       "      <td>Tesla, Inc.</td>\n",
       "      <td>89.13</td>\n",
       "    </tr>\n",
       "    <tr>\n",
       "      <th>5113</th>\n",
       "      <td>2022-01-18</td>\n",
       "      <td>MOS</td>\n",
       "      <td>101</td>\n",
       "      <td>Mosaic Company (The) Common Stock</td>\n",
       "      <td>88.21</td>\n",
       "    </tr>\n",
       "    <tr>\n",
       "      <th>5579</th>\n",
       "      <td>2020-04-21</td>\n",
       "      <td>CRWD</td>\n",
       "      <td>163</td>\n",
       "      <td>CrowdStrike Holdings, Inc.</td>\n",
       "      <td>87.89</td>\n",
       "    </tr>\n",
       "    <tr>\n",
       "      <th>5403</th>\n",
       "      <td>2020-08-17</td>\n",
       "      <td>NVAX</td>\n",
       "      <td>133</td>\n",
       "      <td>Novavax, Inc.</td>\n",
       "      <td>87.68</td>\n",
       "    </tr>\n",
       "    <tr>\n",
       "      <th>5708</th>\n",
       "      <td>2020-03-18</td>\n",
       "      <td>CDLX</td>\n",
       "      <td>136</td>\n",
       "      <td>Cardlytics, Inc.</td>\n",
       "      <td>87.21</td>\n",
       "    </tr>\n",
       "  </tbody>\n",
       "</table>\n",
       "</div>"
      ],
      "text/plain": [
       "     transaction_date ticker  senatorId                  asset_description  \\\n",
       "5344       2020-11-20     SI        101     Silvergate Capital Corporation   \n",
       "6846       2017-10-19   CRSP        132             CRISPR Therapeutics AG   \n",
       "5404       2020-08-03   TSLA        133                        Tesla, Inc.   \n",
       "5338       2020-11-20   NTLA        101        Intellia Therapeutics, Inc.   \n",
       "5443       2020-07-07   TSLA        118                        Tesla, Inc.   \n",
       "7654       2016-05-18   NVDA        123                 NVIDIA Corporation   \n",
       "7840       2016-01-08    CLR        132        Continental Resources, Inc.   \n",
       "8314       2015-04-07   NFLX        123             Netflix, Inc. (NASDAQ)   \n",
       "5303       2020-12-21   EXPI        133           eXp World Holdings, Inc.   \n",
       "5299       2020-12-22   PLUG        133                    Plug Power Inc.   \n",
       "5384       2020-08-28   TSLA        118                        Tesla, Inc.   \n",
       "5113       2022-01-18    MOS        101  Mosaic Company (The) Common Stock   \n",
       "5579       2020-04-21   CRWD        163         CrowdStrike Holdings, Inc.   \n",
       "5403       2020-08-17   NVAX        133                      Novavax, Inc.   \n",
       "5708       2020-03-18   CDLX        136                   Cardlytics, Inc.   \n",
       "\n",
       "       alpha  \n",
       "5344  450.03  \n",
       "6846  189.74  \n",
       "5404  189.02  \n",
       "5338  147.03  \n",
       "5443  129.25  \n",
       "7654  108.65  \n",
       "7840   98.27  \n",
       "8314   96.67  \n",
       "5303   94.13  \n",
       "5299   91.43  \n",
       "5384   89.13  \n",
       "5113   88.21  \n",
       "5579   87.89  \n",
       "5403   87.68  \n",
       "5708   87.21  "
      ]
     },
     "execution_count": 62,
     "metadata": {},
     "output_type": "execute_result"
    }
   ],
   "source": [
    "purchases['alpha'] = alphaList\n",
    "# purchases.sort_values(by=\"alpha\", ascending=False)\n",
    "# purchases.head()\n",
    "purchases['alpha'] = purchases['alpha'].replace(\"Not Found\", -9999)\n",
    "topAlphaBuys = purchases.sort_values(by=\"alpha\", ascending=False).head(15)\n",
    "topAlphaBuys[['transaction_date', 'ticker','senatorId','asset_description', 'alpha']]\n"
   ]
  },
  {
   "cell_type": "markdown",
   "metadata": {},
   "source": [
    "There you have it, the best stock purchases made by senators. Lets graph a few of these to see what they look like"
   ]
  },
  {
   "cell_type": "code",
   "execution_count": 63,
   "metadata": {},
   "outputs": [
    {
     "data": {
      "application/vnd.plotly.v1+json": {
       "config": {
        "plotlyServerURL": "https://plot.ly"
       },
       "data": [
        {
         "hovertemplate": "transactionType=Purchase<br>date=%{x}<br>SI_growth=%{y}<extra></extra>",
         "legendgroup": "Purchase",
         "marker": {
          "color": "#EF553B",
          "symbol": "circle"
         },
         "mode": "markers",
         "name": "Purchase",
         "orientation": "v",
         "showlegend": true,
         "type": "scatter",
         "x": [
          "2020-11-20"
         ],
         "xaxis": "x",
         "y": [
          100
         ],
         "yaxis": "y"
        },
        {
         "line": {
          "color": "#EB4E4B"
         },
         "mode": "lines",
         "name": "SI Growth Rate",
         "type": "scatter",
         "x": [
          "2020-11-13",
          "2020-11-20",
          "2020-11-20",
          "2020-11-27",
          "2020-12-04",
          "2020-12-11",
          "2020-12-18",
          "2020-12-24",
          "2020-12-31",
          "2021-01-08",
          "2021-01-15",
          "2021-01-22",
          "2021-01-29",
          "2021-02-05",
          "2021-02-12",
          "2021-02-19",
          "2021-02-26",
          "2021-03-05",
          "2021-03-12",
          "2021-03-19",
          "2021-03-26",
          "2021-04-01",
          "2021-04-09",
          "2021-04-16",
          "2021-04-23",
          "2021-04-30",
          "2021-05-07",
          "2021-05-14",
          "2021-05-21",
          "2021-05-28",
          "2021-06-04",
          "2021-06-11",
          "2021-06-18",
          "2021-06-25",
          "2021-07-02",
          "2021-07-09",
          "2021-07-16",
          "2021-07-23",
          "2021-07-30",
          "2021-08-06",
          "2021-08-13",
          "2021-08-20",
          "2021-08-27",
          "2021-09-03",
          "2021-09-10",
          "2021-09-17",
          "2021-09-24",
          "2021-10-01",
          "2021-10-08",
          "2021-10-15",
          "2021-10-22",
          "2021-10-29",
          "2021-11-05",
          "2021-11-12"
         ],
         "y": [
          null,
          100,
          100,
          108.42622950819671,
          138.91803278688522,
          129.47540983606555,
          167.83606557377047,
          208.42622950819668,
          243.63934426229505,
          243.0491803278688,
          223.08196721311475,
          249.70491803278682,
          305.11475409836055,
          411.4754098360654,
          533.4754098360654,
          560.262295081967,
          418.2295081967211,
          349.6393442622949,
          454.3934426229506,
          525.7704918032784,
          406.03278688524574,
          470.4590163934425,
          535.0819672131146,
          436.06557377049165,
          378.1311475409835,
          351.5409836065573,
          305.7704918032786,
          305.86885245901635,
          344.9180327868852,
          365.2459016393442,
          371.4426229508196,
          315.9344262295081,
          310.8852459016393,
          335.50819672131144,
          353.14754098360646,
          349.9016393442622,
          287.2131147540983,
          344.3934426229508,
          337.0491803278688,
          379.5737704918032,
          366.22950819672127,
          330.327868852459,
          374.5901639344262,
          395.5737704918032,
          364.0327868852458,
          365.54098360655723,
          340.0983606557376,
          419.8360655737704,
          533.245901639344,
          522.9180327868851,
          478.4262295081965,
          513.5081967213113,
          705.4426229508193,
          695.0819672131145
         ]
        },
        {
         "line": {
          "color": "#349FEB"
         },
         "mode": "lines",
         "name": "SPY Growth Rate",
         "type": "scatter",
         "x": [
          "2020-11-13",
          "2020-11-20",
          "2020-11-20",
          "2020-11-27",
          "2020-12-04",
          "2020-12-11",
          "2020-12-18",
          "2020-12-24",
          "2020-12-31",
          "2021-01-08",
          "2021-01-15",
          "2021-01-22",
          "2021-01-29",
          "2021-02-05",
          "2021-02-12",
          "2021-02-19",
          "2021-02-26",
          "2021-03-05",
          "2021-03-12",
          "2021-03-19",
          "2021-03-26",
          "2021-04-01",
          "2021-04-09",
          "2021-04-16",
          "2021-04-23",
          "2021-04-30",
          "2021-05-07",
          "2021-05-14",
          "2021-05-21",
          "2021-05-28",
          "2021-06-04",
          "2021-06-11",
          "2021-06-18",
          "2021-06-25",
          "2021-07-02",
          "2021-07-09",
          "2021-07-16",
          "2021-07-23",
          "2021-07-30",
          "2021-08-06",
          "2021-08-13",
          "2021-08-20",
          "2021-08-27",
          "2021-09-03",
          "2021-09-10",
          "2021-09-17",
          "2021-09-24",
          "2021-10-01",
          "2021-10-08",
          "2021-10-15",
          "2021-10-22",
          "2021-10-29",
          "2021-11-05",
          "2021-11-12"
         ],
         "y": [
          null,
          100,
          100,
          102.34713394159198,
          104.08634726954372,
          103.08729561527008,
          104.34245566780722,
          104.29157589098283,
          105.67083508027326,
          107.75667413154508,
          106.18522498799719,
          108.21453417333257,
          104.59398604514915,
          109.57965365243493,
          110.9730235770975,
          110.2353537375919,
          107.50230422223915,
          108.42651392689015,
          111.37435375294855,
          110.44104595608634,
          112.28419194888379,
          113.59706983481169,
          116.68222131370078,
          118.31834224646964,
          118.1708894080532,
          118.32970037432564,
          119.69647141793766,
          118.12554382107702,
          117.66049802493167,
          119.10666006427194,
          119.8325661284981,
          120.31745967357551,
          118.04496485789444,
          121.37078115814074,
          123.39357100988529,
          123.90567190714842,
          122.71645853573446,
          125.16317891977825,
          124.75634352889493,
          125.88865036176499,
          126.86449318845533,
          126.13615323968861,
          128.09635748896127,
          128.90150967483586,
          126.72793488083957,
          125.98484675074961,
          126.70124907534112,
          123.94122400633036,
          124.97446594343589,
          127.26066584706564,
          129.32998925324068,
          131.07960454012178,
          133.72830836621722,
          133.36867295053148
         ]
        }
       ],
       "layout": {
        "height": 500,
        "legend": {
         "title": {
          "text": "transactionType"
         },
         "tracegroupgap": 0
        },
        "template": {
         "data": {
          "bar": [
           {
            "error_x": {
             "color": "#2a3f5f"
            },
            "error_y": {
             "color": "#2a3f5f"
            },
            "marker": {
             "line": {
              "color": "#E5ECF6",
              "width": 0.5
             },
             "pattern": {
              "fillmode": "overlay",
              "size": 10,
              "solidity": 0.2
             }
            },
            "type": "bar"
           }
          ],
          "barpolar": [
           {
            "marker": {
             "line": {
              "color": "#E5ECF6",
              "width": 0.5
             },
             "pattern": {
              "fillmode": "overlay",
              "size": 10,
              "solidity": 0.2
             }
            },
            "type": "barpolar"
           }
          ],
          "carpet": [
           {
            "aaxis": {
             "endlinecolor": "#2a3f5f",
             "gridcolor": "white",
             "linecolor": "white",
             "minorgridcolor": "white",
             "startlinecolor": "#2a3f5f"
            },
            "baxis": {
             "endlinecolor": "#2a3f5f",
             "gridcolor": "white",
             "linecolor": "white",
             "minorgridcolor": "white",
             "startlinecolor": "#2a3f5f"
            },
            "type": "carpet"
           }
          ],
          "choropleth": [
           {
            "colorbar": {
             "outlinewidth": 0,
             "ticks": ""
            },
            "type": "choropleth"
           }
          ],
          "contour": [
           {
            "colorbar": {
             "outlinewidth": 0,
             "ticks": ""
            },
            "colorscale": [
             [
              0,
              "#0d0887"
             ],
             [
              0.1111111111111111,
              "#46039f"
             ],
             [
              0.2222222222222222,
              "#7201a8"
             ],
             [
              0.3333333333333333,
              "#9c179e"
             ],
             [
              0.4444444444444444,
              "#bd3786"
             ],
             [
              0.5555555555555556,
              "#d8576b"
             ],
             [
              0.6666666666666666,
              "#ed7953"
             ],
             [
              0.7777777777777778,
              "#fb9f3a"
             ],
             [
              0.8888888888888888,
              "#fdca26"
             ],
             [
              1,
              "#f0f921"
             ]
            ],
            "type": "contour"
           }
          ],
          "contourcarpet": [
           {
            "colorbar": {
             "outlinewidth": 0,
             "ticks": ""
            },
            "type": "contourcarpet"
           }
          ],
          "heatmap": [
           {
            "colorbar": {
             "outlinewidth": 0,
             "ticks": ""
            },
            "colorscale": [
             [
              0,
              "#0d0887"
             ],
             [
              0.1111111111111111,
              "#46039f"
             ],
             [
              0.2222222222222222,
              "#7201a8"
             ],
             [
              0.3333333333333333,
              "#9c179e"
             ],
             [
              0.4444444444444444,
              "#bd3786"
             ],
             [
              0.5555555555555556,
              "#d8576b"
             ],
             [
              0.6666666666666666,
              "#ed7953"
             ],
             [
              0.7777777777777778,
              "#fb9f3a"
             ],
             [
              0.8888888888888888,
              "#fdca26"
             ],
             [
              1,
              "#f0f921"
             ]
            ],
            "type": "heatmap"
           }
          ],
          "heatmapgl": [
           {
            "colorbar": {
             "outlinewidth": 0,
             "ticks": ""
            },
            "colorscale": [
             [
              0,
              "#0d0887"
             ],
             [
              0.1111111111111111,
              "#46039f"
             ],
             [
              0.2222222222222222,
              "#7201a8"
             ],
             [
              0.3333333333333333,
              "#9c179e"
             ],
             [
              0.4444444444444444,
              "#bd3786"
             ],
             [
              0.5555555555555556,
              "#d8576b"
             ],
             [
              0.6666666666666666,
              "#ed7953"
             ],
             [
              0.7777777777777778,
              "#fb9f3a"
             ],
             [
              0.8888888888888888,
              "#fdca26"
             ],
             [
              1,
              "#f0f921"
             ]
            ],
            "type": "heatmapgl"
           }
          ],
          "histogram": [
           {
            "marker": {
             "pattern": {
              "fillmode": "overlay",
              "size": 10,
              "solidity": 0.2
             }
            },
            "type": "histogram"
           }
          ],
          "histogram2d": [
           {
            "colorbar": {
             "outlinewidth": 0,
             "ticks": ""
            },
            "colorscale": [
             [
              0,
              "#0d0887"
             ],
             [
              0.1111111111111111,
              "#46039f"
             ],
             [
              0.2222222222222222,
              "#7201a8"
             ],
             [
              0.3333333333333333,
              "#9c179e"
             ],
             [
              0.4444444444444444,
              "#bd3786"
             ],
             [
              0.5555555555555556,
              "#d8576b"
             ],
             [
              0.6666666666666666,
              "#ed7953"
             ],
             [
              0.7777777777777778,
              "#fb9f3a"
             ],
             [
              0.8888888888888888,
              "#fdca26"
             ],
             [
              1,
              "#f0f921"
             ]
            ],
            "type": "histogram2d"
           }
          ],
          "histogram2dcontour": [
           {
            "colorbar": {
             "outlinewidth": 0,
             "ticks": ""
            },
            "colorscale": [
             [
              0,
              "#0d0887"
             ],
             [
              0.1111111111111111,
              "#46039f"
             ],
             [
              0.2222222222222222,
              "#7201a8"
             ],
             [
              0.3333333333333333,
              "#9c179e"
             ],
             [
              0.4444444444444444,
              "#bd3786"
             ],
             [
              0.5555555555555556,
              "#d8576b"
             ],
             [
              0.6666666666666666,
              "#ed7953"
             ],
             [
              0.7777777777777778,
              "#fb9f3a"
             ],
             [
              0.8888888888888888,
              "#fdca26"
             ],
             [
              1,
              "#f0f921"
             ]
            ],
            "type": "histogram2dcontour"
           }
          ],
          "mesh3d": [
           {
            "colorbar": {
             "outlinewidth": 0,
             "ticks": ""
            },
            "type": "mesh3d"
           }
          ],
          "parcoords": [
           {
            "line": {
             "colorbar": {
              "outlinewidth": 0,
              "ticks": ""
             }
            },
            "type": "parcoords"
           }
          ],
          "pie": [
           {
            "automargin": true,
            "type": "pie"
           }
          ],
          "scatter": [
           {
            "fillpattern": {
             "fillmode": "overlay",
             "size": 10,
             "solidity": 0.2
            },
            "type": "scatter"
           }
          ],
          "scatter3d": [
           {
            "line": {
             "colorbar": {
              "outlinewidth": 0,
              "ticks": ""
             }
            },
            "marker": {
             "colorbar": {
              "outlinewidth": 0,
              "ticks": ""
             }
            },
            "type": "scatter3d"
           }
          ],
          "scattercarpet": [
           {
            "marker": {
             "colorbar": {
              "outlinewidth": 0,
              "ticks": ""
             }
            },
            "type": "scattercarpet"
           }
          ],
          "scattergeo": [
           {
            "marker": {
             "colorbar": {
              "outlinewidth": 0,
              "ticks": ""
             }
            },
            "type": "scattergeo"
           }
          ],
          "scattergl": [
           {
            "marker": {
             "colorbar": {
              "outlinewidth": 0,
              "ticks": ""
             }
            },
            "type": "scattergl"
           }
          ],
          "scattermapbox": [
           {
            "marker": {
             "colorbar": {
              "outlinewidth": 0,
              "ticks": ""
             }
            },
            "type": "scattermapbox"
           }
          ],
          "scatterpolar": [
           {
            "marker": {
             "colorbar": {
              "outlinewidth": 0,
              "ticks": ""
             }
            },
            "type": "scatterpolar"
           }
          ],
          "scatterpolargl": [
           {
            "marker": {
             "colorbar": {
              "outlinewidth": 0,
              "ticks": ""
             }
            },
            "type": "scatterpolargl"
           }
          ],
          "scatterternary": [
           {
            "marker": {
             "colorbar": {
              "outlinewidth": 0,
              "ticks": ""
             }
            },
            "type": "scatterternary"
           }
          ],
          "surface": [
           {
            "colorbar": {
             "outlinewidth": 0,
             "ticks": ""
            },
            "colorscale": [
             [
              0,
              "#0d0887"
             ],
             [
              0.1111111111111111,
              "#46039f"
             ],
             [
              0.2222222222222222,
              "#7201a8"
             ],
             [
              0.3333333333333333,
              "#9c179e"
             ],
             [
              0.4444444444444444,
              "#bd3786"
             ],
             [
              0.5555555555555556,
              "#d8576b"
             ],
             [
              0.6666666666666666,
              "#ed7953"
             ],
             [
              0.7777777777777778,
              "#fb9f3a"
             ],
             [
              0.8888888888888888,
              "#fdca26"
             ],
             [
              1,
              "#f0f921"
             ]
            ],
            "type": "surface"
           }
          ],
          "table": [
           {
            "cells": {
             "fill": {
              "color": "#EBF0F8"
             },
             "line": {
              "color": "white"
             }
            },
            "header": {
             "fill": {
              "color": "#C8D4E3"
             },
             "line": {
              "color": "white"
             }
            },
            "type": "table"
           }
          ]
         },
         "layout": {
          "annotationdefaults": {
           "arrowcolor": "#2a3f5f",
           "arrowhead": 0,
           "arrowwidth": 1
          },
          "autotypenumbers": "strict",
          "coloraxis": {
           "colorbar": {
            "outlinewidth": 0,
            "ticks": ""
           }
          },
          "colorscale": {
           "diverging": [
            [
             0,
             "#8e0152"
            ],
            [
             0.1,
             "#c51b7d"
            ],
            [
             0.2,
             "#de77ae"
            ],
            [
             0.3,
             "#f1b6da"
            ],
            [
             0.4,
             "#fde0ef"
            ],
            [
             0.5,
             "#f7f7f7"
            ],
            [
             0.6,
             "#e6f5d0"
            ],
            [
             0.7,
             "#b8e186"
            ],
            [
             0.8,
             "#7fbc41"
            ],
            [
             0.9,
             "#4d9221"
            ],
            [
             1,
             "#276419"
            ]
           ],
           "sequential": [
            [
             0,
             "#0d0887"
            ],
            [
             0.1111111111111111,
             "#46039f"
            ],
            [
             0.2222222222222222,
             "#7201a8"
            ],
            [
             0.3333333333333333,
             "#9c179e"
            ],
            [
             0.4444444444444444,
             "#bd3786"
            ],
            [
             0.5555555555555556,
             "#d8576b"
            ],
            [
             0.6666666666666666,
             "#ed7953"
            ],
            [
             0.7777777777777778,
             "#fb9f3a"
            ],
            [
             0.8888888888888888,
             "#fdca26"
            ],
            [
             1,
             "#f0f921"
            ]
           ],
           "sequentialminus": [
            [
             0,
             "#0d0887"
            ],
            [
             0.1111111111111111,
             "#46039f"
            ],
            [
             0.2222222222222222,
             "#7201a8"
            ],
            [
             0.3333333333333333,
             "#9c179e"
            ],
            [
             0.4444444444444444,
             "#bd3786"
            ],
            [
             0.5555555555555556,
             "#d8576b"
            ],
            [
             0.6666666666666666,
             "#ed7953"
            ],
            [
             0.7777777777777778,
             "#fb9f3a"
            ],
            [
             0.8888888888888888,
             "#fdca26"
            ],
            [
             1,
             "#f0f921"
            ]
           ]
          },
          "colorway": [
           "#636efa",
           "#EF553B",
           "#00cc96",
           "#ab63fa",
           "#FFA15A",
           "#19d3f3",
           "#FF6692",
           "#B6E880",
           "#FF97FF",
           "#FECB52"
          ],
          "font": {
           "color": "#2a3f5f"
          },
          "geo": {
           "bgcolor": "white",
           "lakecolor": "white",
           "landcolor": "#E5ECF6",
           "showlakes": true,
           "showland": true,
           "subunitcolor": "white"
          },
          "hoverlabel": {
           "align": "left"
          },
          "hovermode": "closest",
          "mapbox": {
           "style": "light"
          },
          "paper_bgcolor": "white",
          "plot_bgcolor": "#E5ECF6",
          "polar": {
           "angularaxis": {
            "gridcolor": "white",
            "linecolor": "white",
            "ticks": ""
           },
           "bgcolor": "#E5ECF6",
           "radialaxis": {
            "gridcolor": "white",
            "linecolor": "white",
            "ticks": ""
           }
          },
          "scene": {
           "xaxis": {
            "backgroundcolor": "#E5ECF6",
            "gridcolor": "white",
            "gridwidth": 2,
            "linecolor": "white",
            "showbackground": true,
            "ticks": "",
            "zerolinecolor": "white"
           },
           "yaxis": {
            "backgroundcolor": "#E5ECF6",
            "gridcolor": "white",
            "gridwidth": 2,
            "linecolor": "white",
            "showbackground": true,
            "ticks": "",
            "zerolinecolor": "white"
           },
           "zaxis": {
            "backgroundcolor": "#E5ECF6",
            "gridcolor": "white",
            "gridwidth": 2,
            "linecolor": "white",
            "showbackground": true,
            "ticks": "",
            "zerolinecolor": "white"
           }
          },
          "shapedefaults": {
           "line": {
            "color": "#2a3f5f"
           }
          },
          "ternary": {
           "aaxis": {
            "gridcolor": "white",
            "linecolor": "white",
            "ticks": ""
           },
           "baxis": {
            "gridcolor": "white",
            "linecolor": "white",
            "ticks": ""
           },
           "bgcolor": "#E5ECF6",
           "caxis": {
            "gridcolor": "white",
            "linecolor": "white",
            "ticks": ""
           }
          },
          "title": {
           "x": 0.05
          },
          "xaxis": {
           "automargin": true,
           "gridcolor": "white",
           "linecolor": "white",
           "ticks": "",
           "title": {
            "standoff": 15
           },
           "zerolinecolor": "white",
           "zerolinewidth": 2
          },
          "yaxis": {
           "automargin": true,
           "gridcolor": "white",
           "linecolor": "white",
           "ticks": "",
           "title": {
            "standoff": 15
           },
           "zerolinecolor": "white",
           "zerolinewidth": 2
          }
         }
        },
        "title": {
         "text": "Thomas R Carper Growth Rates SI"
        },
        "width": 800,
        "xaxis": {
         "anchor": "y",
         "domain": [
          0,
          1
         ],
         "title": {
          "text": "date"
         }
        },
        "yaxis": {
         "anchor": "x",
         "domain": [
          0,
          1
         ],
         "title": {
          "text": "SI_growth"
         }
        }
       }
      }
     },
     "metadata": {},
     "output_type": "display_data"
    }
   ],
   "source": [
    "graphAlphaGrowth_fromSource(101, '2020-11-20','SI')"
   ]
  },
  {
   "cell_type": "code",
   "execution_count": 64,
   "metadata": {},
   "outputs": [
    {
     "data": {
      "application/vnd.plotly.v1+json": {
       "config": {
        "plotlyServerURL": "https://plot.ly"
       },
       "data": [
        {
         "hovertemplate": "transactionType=Purchase<br>date=%{x}<br>CRSP_growth=%{y}<extra></extra>",
         "legendgroup": "Purchase",
         "marker": {
          "color": "#EF553B",
          "symbol": "circle"
         },
         "mode": "markers",
         "name": "Purchase",
         "orientation": "v",
         "showlegend": true,
         "type": "scatter",
         "x": [
          "2017-10-19"
         ],
         "xaxis": "x",
         "y": [
          100
         ],
         "yaxis": "y"
        },
        {
         "hovertemplate": "transactionType=Sale (Partial)<br>date=%{x}<br>CRSP_growth=%{y}<extra></extra>",
         "legendgroup": "Sale (Partial)",
         "marker": {
          "color": "#00cc96",
          "symbol": "circle"
         },
         "mode": "markers",
         "name": "Sale (Partial)",
         "orientation": "v",
         "showlegend": true,
         "type": "scatter",
         "x": [
          "2018-06-19"
         ],
         "xaxis": "x",
         "y": [
          322.9825353809094
         ],
         "yaxis": "y"
        },
        {
         "line": {
          "color": "#EB4E4B"
         },
         "mode": "lines",
         "name": "CRSP Growth Rate",
         "type": "scatter",
         "x": [
          "2017-10-13",
          "2017-10-19",
          "2017-10-20",
          "2017-10-27",
          "2017-11-03",
          "2017-11-10",
          "2017-11-17",
          "2017-11-24",
          "2017-12-01",
          "2017-12-08",
          "2017-12-15",
          "2017-12-22",
          "2017-12-29",
          "2018-01-05",
          "2018-01-12",
          "2018-01-19",
          "2018-01-26",
          "2018-02-02",
          "2018-02-09",
          "2018-02-16",
          "2018-02-23",
          "2018-03-02",
          "2018-03-09",
          "2018-03-16",
          "2018-03-23",
          "2018-03-29",
          "2018-04-06",
          "2018-04-13",
          "2018-04-20",
          "2018-04-27",
          "2018-05-04",
          "2018-05-11",
          "2018-05-18",
          "2018-05-25",
          "2018-06-01",
          "2018-06-08",
          "2018-06-15",
          "2018-06-19",
          "2018-06-22",
          "2018-06-29",
          "2018-07-06",
          "2018-07-13",
          "2018-07-20",
          "2018-07-27",
          "2018-08-03",
          "2018-08-10",
          "2018-08-17",
          "2018-08-24",
          "2018-08-31",
          "2018-09-07",
          "2018-09-14",
          "2018-09-21",
          "2018-09-28",
          "2018-10-05",
          "2018-10-12"
         ],
         "y": [
          null,
          100,
          100.48931044866004,
          99.85697079193014,
          100.38392050587173,
          91.95272508280638,
          97.95995182174043,
          105.49533273110508,
          100.75278530563084,
          99.48810599217103,
          101.01626016260163,
          111.44986449864496,
          123.72779283348386,
          141.27521830773858,
          150.28605841613967,
          156.66214995483284,
          207.88166214995476,
          194.4971394158385,
          183.80006022282436,
          210.83258054802755,
          226.79915688045753,
          263.5802469135801,
          298.8858777476662,
          272.80186690755784,
          279.07256850346266,
          240.86871424269785,
          228.01114122252324,
          272.80186690755784,
          284.92171032821426,
          257.73110508882854,
          258.67961457392346,
          277.86058416139707,
          340.8310749774164,
          368.5486299307437,
          353.7413429689852,
          359.1162300511894,
          312.5338753387534,
          322.9825353809094,
          330.8190304125264,
          309.6356519120747,
          331.345980126468,
          346.2586570310148,
          307.47515808491426,
          247.7190605239386,
          250.45919903643485,
          248.24601023788017,
          256.4664257753689,
          255.14905149051498,
          298.62240289069564,
          264.2125865703102,
          291.71936163806083,
          234.43992773261067,
          233.70219813309245,
          203.19180969587475,
          198.66004215597712
         ]
        },
        {
         "line": {
          "color": "#349FEB"
         },
         "mode": "lines",
         "name": "SPY Growth Rate",
         "type": "scatter",
         "x": [
          "2017-10-13",
          "2017-10-19",
          "2017-10-20",
          "2017-10-27",
          "2017-11-03",
          "2017-11-10",
          "2017-11-17",
          "2017-11-24",
          "2017-12-01",
          "2017-12-08",
          "2017-12-15",
          "2017-12-22",
          "2017-12-29",
          "2018-01-05",
          "2018-01-12",
          "2018-01-19",
          "2018-01-26",
          "2018-02-02",
          "2018-02-09",
          "2018-02-16",
          "2018-02-23",
          "2018-03-02",
          "2018-03-09",
          "2018-03-16",
          "2018-03-23",
          "2018-03-29",
          "2018-04-06",
          "2018-04-13",
          "2018-04-20",
          "2018-04-27",
          "2018-05-04",
          "2018-05-11",
          "2018-05-18",
          "2018-05-25",
          "2018-06-01",
          "2018-06-08",
          "2018-06-15",
          "2018-06-19",
          "2018-06-22",
          "2018-06-29",
          "2018-07-06",
          "2018-07-13",
          "2018-07-20",
          "2018-07-27",
          "2018-08-03",
          "2018-08-10",
          "2018-08-17",
          "2018-08-24",
          "2018-08-31",
          "2018-09-07",
          "2018-09-14",
          "2018-09-21",
          "2018-09-28",
          "2018-10-05",
          "2018-10-12"
         ],
         "y": [
          null,
          100,
          100.12015985245284,
          100.35380165126845,
          100.64195845456877,
          100.50176488384568,
          100.41222271526452,
          101.3857231341348,
          102.98228250223627,
          103.39114503587145,
          104.30677633393752,
          104.69814651410876,
          104.44378561701546,
          107.01121305953393,
          108.77242132747314,
          109.74698317555847,
          112.16177709695353,
          107.80571405557913,
          102.34597691640137,
          106.88991292883867,
          107.51611370854637,
          105.3126291152824,
          109.14426121008758,
          107.74576453351344,
          101.39969154260486,
          103.40371235777765,
          102.05590954051402,
          104.18959454859667,
          104.76331826791257,
          104.74366059884994,
          104.53145967017824,
          107.21526221183419,
          106.61801722111291,
          106.94022467363185,
          107.50999987626778,
          109.31362285564016,
          109.38652181412941,
          108.84746134032194,
          108.44316598496637,
          107.0774886997214,
          108.71158020486685,
          110.35751726005218,
          110.39305391017189,
          111.07984106947434,
          111.9403205055267,
          111.76667068594541,
          112.51659165495872,
          113.48363858420154,
          114.5888411400746,
          113.51917523432127,
          114.81382167649546,
          115.77399054442478,
          115.27044852480763,
          114.12062348473414,
          109.41416143088921
         ]
        }
       ],
       "layout": {
        "height": 500,
        "legend": {
         "title": {
          "text": "transactionType"
         },
         "tracegroupgap": 0
        },
        "template": {
         "data": {
          "bar": [
           {
            "error_x": {
             "color": "#2a3f5f"
            },
            "error_y": {
             "color": "#2a3f5f"
            },
            "marker": {
             "line": {
              "color": "#E5ECF6",
              "width": 0.5
             },
             "pattern": {
              "fillmode": "overlay",
              "size": 10,
              "solidity": 0.2
             }
            },
            "type": "bar"
           }
          ],
          "barpolar": [
           {
            "marker": {
             "line": {
              "color": "#E5ECF6",
              "width": 0.5
             },
             "pattern": {
              "fillmode": "overlay",
              "size": 10,
              "solidity": 0.2
             }
            },
            "type": "barpolar"
           }
          ],
          "carpet": [
           {
            "aaxis": {
             "endlinecolor": "#2a3f5f",
             "gridcolor": "white",
             "linecolor": "white",
             "minorgridcolor": "white",
             "startlinecolor": "#2a3f5f"
            },
            "baxis": {
             "endlinecolor": "#2a3f5f",
             "gridcolor": "white",
             "linecolor": "white",
             "minorgridcolor": "white",
             "startlinecolor": "#2a3f5f"
            },
            "type": "carpet"
           }
          ],
          "choropleth": [
           {
            "colorbar": {
             "outlinewidth": 0,
             "ticks": ""
            },
            "type": "choropleth"
           }
          ],
          "contour": [
           {
            "colorbar": {
             "outlinewidth": 0,
             "ticks": ""
            },
            "colorscale": [
             [
              0,
              "#0d0887"
             ],
             [
              0.1111111111111111,
              "#46039f"
             ],
             [
              0.2222222222222222,
              "#7201a8"
             ],
             [
              0.3333333333333333,
              "#9c179e"
             ],
             [
              0.4444444444444444,
              "#bd3786"
             ],
             [
              0.5555555555555556,
              "#d8576b"
             ],
             [
              0.6666666666666666,
              "#ed7953"
             ],
             [
              0.7777777777777778,
              "#fb9f3a"
             ],
             [
              0.8888888888888888,
              "#fdca26"
             ],
             [
              1,
              "#f0f921"
             ]
            ],
            "type": "contour"
           }
          ],
          "contourcarpet": [
           {
            "colorbar": {
             "outlinewidth": 0,
             "ticks": ""
            },
            "type": "contourcarpet"
           }
          ],
          "heatmap": [
           {
            "colorbar": {
             "outlinewidth": 0,
             "ticks": ""
            },
            "colorscale": [
             [
              0,
              "#0d0887"
             ],
             [
              0.1111111111111111,
              "#46039f"
             ],
             [
              0.2222222222222222,
              "#7201a8"
             ],
             [
              0.3333333333333333,
              "#9c179e"
             ],
             [
              0.4444444444444444,
              "#bd3786"
             ],
             [
              0.5555555555555556,
              "#d8576b"
             ],
             [
              0.6666666666666666,
              "#ed7953"
             ],
             [
              0.7777777777777778,
              "#fb9f3a"
             ],
             [
              0.8888888888888888,
              "#fdca26"
             ],
             [
              1,
              "#f0f921"
             ]
            ],
            "type": "heatmap"
           }
          ],
          "heatmapgl": [
           {
            "colorbar": {
             "outlinewidth": 0,
             "ticks": ""
            },
            "colorscale": [
             [
              0,
              "#0d0887"
             ],
             [
              0.1111111111111111,
              "#46039f"
             ],
             [
              0.2222222222222222,
              "#7201a8"
             ],
             [
              0.3333333333333333,
              "#9c179e"
             ],
             [
              0.4444444444444444,
              "#bd3786"
             ],
             [
              0.5555555555555556,
              "#d8576b"
             ],
             [
              0.6666666666666666,
              "#ed7953"
             ],
             [
              0.7777777777777778,
              "#fb9f3a"
             ],
             [
              0.8888888888888888,
              "#fdca26"
             ],
             [
              1,
              "#f0f921"
             ]
            ],
            "type": "heatmapgl"
           }
          ],
          "histogram": [
           {
            "marker": {
             "pattern": {
              "fillmode": "overlay",
              "size": 10,
              "solidity": 0.2
             }
            },
            "type": "histogram"
           }
          ],
          "histogram2d": [
           {
            "colorbar": {
             "outlinewidth": 0,
             "ticks": ""
            },
            "colorscale": [
             [
              0,
              "#0d0887"
             ],
             [
              0.1111111111111111,
              "#46039f"
             ],
             [
              0.2222222222222222,
              "#7201a8"
             ],
             [
              0.3333333333333333,
              "#9c179e"
             ],
             [
              0.4444444444444444,
              "#bd3786"
             ],
             [
              0.5555555555555556,
              "#d8576b"
             ],
             [
              0.6666666666666666,
              "#ed7953"
             ],
             [
              0.7777777777777778,
              "#fb9f3a"
             ],
             [
              0.8888888888888888,
              "#fdca26"
             ],
             [
              1,
              "#f0f921"
             ]
            ],
            "type": "histogram2d"
           }
          ],
          "histogram2dcontour": [
           {
            "colorbar": {
             "outlinewidth": 0,
             "ticks": ""
            },
            "colorscale": [
             [
              0,
              "#0d0887"
             ],
             [
              0.1111111111111111,
              "#46039f"
             ],
             [
              0.2222222222222222,
              "#7201a8"
             ],
             [
              0.3333333333333333,
              "#9c179e"
             ],
             [
              0.4444444444444444,
              "#bd3786"
             ],
             [
              0.5555555555555556,
              "#d8576b"
             ],
             [
              0.6666666666666666,
              "#ed7953"
             ],
             [
              0.7777777777777778,
              "#fb9f3a"
             ],
             [
              0.8888888888888888,
              "#fdca26"
             ],
             [
              1,
              "#f0f921"
             ]
            ],
            "type": "histogram2dcontour"
           }
          ],
          "mesh3d": [
           {
            "colorbar": {
             "outlinewidth": 0,
             "ticks": ""
            },
            "type": "mesh3d"
           }
          ],
          "parcoords": [
           {
            "line": {
             "colorbar": {
              "outlinewidth": 0,
              "ticks": ""
             }
            },
            "type": "parcoords"
           }
          ],
          "pie": [
           {
            "automargin": true,
            "type": "pie"
           }
          ],
          "scatter": [
           {
            "fillpattern": {
             "fillmode": "overlay",
             "size": 10,
             "solidity": 0.2
            },
            "type": "scatter"
           }
          ],
          "scatter3d": [
           {
            "line": {
             "colorbar": {
              "outlinewidth": 0,
              "ticks": ""
             }
            },
            "marker": {
             "colorbar": {
              "outlinewidth": 0,
              "ticks": ""
             }
            },
            "type": "scatter3d"
           }
          ],
          "scattercarpet": [
           {
            "marker": {
             "colorbar": {
              "outlinewidth": 0,
              "ticks": ""
             }
            },
            "type": "scattercarpet"
           }
          ],
          "scattergeo": [
           {
            "marker": {
             "colorbar": {
              "outlinewidth": 0,
              "ticks": ""
             }
            },
            "type": "scattergeo"
           }
          ],
          "scattergl": [
           {
            "marker": {
             "colorbar": {
              "outlinewidth": 0,
              "ticks": ""
             }
            },
            "type": "scattergl"
           }
          ],
          "scattermapbox": [
           {
            "marker": {
             "colorbar": {
              "outlinewidth": 0,
              "ticks": ""
             }
            },
            "type": "scattermapbox"
           }
          ],
          "scatterpolar": [
           {
            "marker": {
             "colorbar": {
              "outlinewidth": 0,
              "ticks": ""
             }
            },
            "type": "scatterpolar"
           }
          ],
          "scatterpolargl": [
           {
            "marker": {
             "colorbar": {
              "outlinewidth": 0,
              "ticks": ""
             }
            },
            "type": "scatterpolargl"
           }
          ],
          "scatterternary": [
           {
            "marker": {
             "colorbar": {
              "outlinewidth": 0,
              "ticks": ""
             }
            },
            "type": "scatterternary"
           }
          ],
          "surface": [
           {
            "colorbar": {
             "outlinewidth": 0,
             "ticks": ""
            },
            "colorscale": [
             [
              0,
              "#0d0887"
             ],
             [
              0.1111111111111111,
              "#46039f"
             ],
             [
              0.2222222222222222,
              "#7201a8"
             ],
             [
              0.3333333333333333,
              "#9c179e"
             ],
             [
              0.4444444444444444,
              "#bd3786"
             ],
             [
              0.5555555555555556,
              "#d8576b"
             ],
             [
              0.6666666666666666,
              "#ed7953"
             ],
             [
              0.7777777777777778,
              "#fb9f3a"
             ],
             [
              0.8888888888888888,
              "#fdca26"
             ],
             [
              1,
              "#f0f921"
             ]
            ],
            "type": "surface"
           }
          ],
          "table": [
           {
            "cells": {
             "fill": {
              "color": "#EBF0F8"
             },
             "line": {
              "color": "white"
             }
            },
            "header": {
             "fill": {
              "color": "#C8D4E3"
             },
             "line": {
              "color": "white"
             }
            },
            "type": "table"
           }
          ]
         },
         "layout": {
          "annotationdefaults": {
           "arrowcolor": "#2a3f5f",
           "arrowhead": 0,
           "arrowwidth": 1
          },
          "autotypenumbers": "strict",
          "coloraxis": {
           "colorbar": {
            "outlinewidth": 0,
            "ticks": ""
           }
          },
          "colorscale": {
           "diverging": [
            [
             0,
             "#8e0152"
            ],
            [
             0.1,
             "#c51b7d"
            ],
            [
             0.2,
             "#de77ae"
            ],
            [
             0.3,
             "#f1b6da"
            ],
            [
             0.4,
             "#fde0ef"
            ],
            [
             0.5,
             "#f7f7f7"
            ],
            [
             0.6,
             "#e6f5d0"
            ],
            [
             0.7,
             "#b8e186"
            ],
            [
             0.8,
             "#7fbc41"
            ],
            [
             0.9,
             "#4d9221"
            ],
            [
             1,
             "#276419"
            ]
           ],
           "sequential": [
            [
             0,
             "#0d0887"
            ],
            [
             0.1111111111111111,
             "#46039f"
            ],
            [
             0.2222222222222222,
             "#7201a8"
            ],
            [
             0.3333333333333333,
             "#9c179e"
            ],
            [
             0.4444444444444444,
             "#bd3786"
            ],
            [
             0.5555555555555556,
             "#d8576b"
            ],
            [
             0.6666666666666666,
             "#ed7953"
            ],
            [
             0.7777777777777778,
             "#fb9f3a"
            ],
            [
             0.8888888888888888,
             "#fdca26"
            ],
            [
             1,
             "#f0f921"
            ]
           ],
           "sequentialminus": [
            [
             0,
             "#0d0887"
            ],
            [
             0.1111111111111111,
             "#46039f"
            ],
            [
             0.2222222222222222,
             "#7201a8"
            ],
            [
             0.3333333333333333,
             "#9c179e"
            ],
            [
             0.4444444444444444,
             "#bd3786"
            ],
            [
             0.5555555555555556,
             "#d8576b"
            ],
            [
             0.6666666666666666,
             "#ed7953"
            ],
            [
             0.7777777777777778,
             "#fb9f3a"
            ],
            [
             0.8888888888888888,
             "#fdca26"
            ],
            [
             1,
             "#f0f921"
            ]
           ]
          },
          "colorway": [
           "#636efa",
           "#EF553B",
           "#00cc96",
           "#ab63fa",
           "#FFA15A",
           "#19d3f3",
           "#FF6692",
           "#B6E880",
           "#FF97FF",
           "#FECB52"
          ],
          "font": {
           "color": "#2a3f5f"
          },
          "geo": {
           "bgcolor": "white",
           "lakecolor": "white",
           "landcolor": "#E5ECF6",
           "showlakes": true,
           "showland": true,
           "subunitcolor": "white"
          },
          "hoverlabel": {
           "align": "left"
          },
          "hovermode": "closest",
          "mapbox": {
           "style": "light"
          },
          "paper_bgcolor": "white",
          "plot_bgcolor": "#E5ECF6",
          "polar": {
           "angularaxis": {
            "gridcolor": "white",
            "linecolor": "white",
            "ticks": ""
           },
           "bgcolor": "#E5ECF6",
           "radialaxis": {
            "gridcolor": "white",
            "linecolor": "white",
            "ticks": ""
           }
          },
          "scene": {
           "xaxis": {
            "backgroundcolor": "#E5ECF6",
            "gridcolor": "white",
            "gridwidth": 2,
            "linecolor": "white",
            "showbackground": true,
            "ticks": "",
            "zerolinecolor": "white"
           },
           "yaxis": {
            "backgroundcolor": "#E5ECF6",
            "gridcolor": "white",
            "gridwidth": 2,
            "linecolor": "white",
            "showbackground": true,
            "ticks": "",
            "zerolinecolor": "white"
           },
           "zaxis": {
            "backgroundcolor": "#E5ECF6",
            "gridcolor": "white",
            "gridwidth": 2,
            "linecolor": "white",
            "showbackground": true,
            "ticks": "",
            "zerolinecolor": "white"
           }
          },
          "shapedefaults": {
           "line": {
            "color": "#2a3f5f"
           }
          },
          "ternary": {
           "aaxis": {
            "gridcolor": "white",
            "linecolor": "white",
            "ticks": ""
           },
           "baxis": {
            "gridcolor": "white",
            "linecolor": "white",
            "ticks": ""
           },
           "bgcolor": "#E5ECF6",
           "caxis": {
            "gridcolor": "white",
            "linecolor": "white",
            "ticks": ""
           }
          },
          "title": {
           "x": 0.05
          },
          "xaxis": {
           "automargin": true,
           "gridcolor": "white",
           "linecolor": "white",
           "ticks": "",
           "title": {
            "standoff": 15
           },
           "zerolinecolor": "white",
           "zerolinewidth": 2
          },
          "yaxis": {
           "automargin": true,
           "gridcolor": "white",
           "linecolor": "white",
           "ticks": "",
           "title": {
            "standoff": 15
           },
           "zerolinecolor": "white",
           "zerolinewidth": 2
          }
         }
        },
        "title": {
         "text": "James M Inhofe Growth Rates CRSP"
        },
        "width": 800,
        "xaxis": {
         "anchor": "y",
         "domain": [
          0,
          1
         ],
         "title": {
          "text": "date"
         }
        },
        "yaxis": {
         "anchor": "x",
         "domain": [
          0,
          1
         ],
         "title": {
          "text": "CRSP_growth"
         }
        }
       }
      }
     },
     "metadata": {},
     "output_type": "display_data"
    }
   ],
   "source": [
    "graphAlphaGrowth_fromSource(132, '2017-10-19','CRSP')"
   ]
  },
  {
   "cell_type": "code",
   "execution_count": null,
   "metadata": {},
   "outputs": [],
   "source": []
  },
  {
   "cell_type": "markdown",
   "metadata": {},
   "source": [
    "# Alpha EDA"
   ]
  },
  {
   "cell_type": "code",
   "execution_count": 65,
   "metadata": {},
   "outputs": [
    {
     "data": {
      "text/plain": [
       "count    2916.000000\n",
       "mean       12.290439\n",
       "std        15.712978\n",
       "min         0.000000\n",
       "25%         2.077500\n",
       "50%         7.210000\n",
       "75%        16.800000\n",
       "max       189.740000\n",
       "Name: alpha, dtype: float64"
      ]
     },
     "execution_count": 65,
     "metadata": {},
     "output_type": "execute_result"
    }
   ],
   "source": [
    "#remove fill in values\n",
    "purchasesFilt = purchases[ purchases['alpha']!= -9999]\n",
    "\n",
    "#remove top outlier \n",
    "purchasesFilt = purchasesFilt[ purchasesFilt['alpha']< 200]\n",
    "\n",
    "\n",
    "\n",
    "purchasesFilt['alpha'].describe()"
   ]
  },
  {
   "cell_type": "code",
   "execution_count": 66,
   "metadata": {},
   "outputs": [
    {
     "data": {
      "application/vnd.plotly.v1+json": {
       "config": {
        "plotlyServerURL": "https://plot.ly"
       },
       "data": [
        {
         "alignmentgroup": "True",
         "bingroup": "x",
         "hovertemplate": "alpha=%{x}<br>count=%{y}<extra></extra>",
         "legendgroup": "",
         "marker": {
          "color": "#636efa",
          "pattern": {
           "shape": ""
          }
         },
         "name": "",
         "nbinsx": 50,
         "offsetgroup": "",
         "orientation": "v",
         "showlegend": false,
         "type": "histogram",
         "x": [
          28.15,
          62.47,
          63.66,
          14.67,
          1.61,
          10.73,
          0,
          12.09,
          1.11,
          10.39,
          6.93,
          18.04,
          18.04,
          18.04,
          0.92,
          1.42,
          12.48,
          2.39,
          4.03,
          1.62,
          0.13,
          4.2,
          4.59,
          7.53,
          9.4,
          0.03,
          1.13,
          0,
          1.18,
          24.93,
          9.54,
          17.96,
          1.35,
          0,
          6.89,
          20.28,
          10.19,
          0,
          21.51,
          1.82,
          0,
          1.8,
          4.91,
          11.37,
          6.3,
          3.63,
          0.59,
          10.37,
          8.78,
          5.77,
          3.83,
          0,
          0,
          27.54,
          19.22,
          64.64,
          29.75,
          6.64,
          3.95,
          6,
          3.98,
          28.27,
          21.21,
          1.2,
          0.45,
          24.12,
          18.17,
          23.44,
          5.61,
          8.06,
          0,
          2.77,
          72.2,
          13.26,
          0.44,
          18.06,
          18.81,
          3.07,
          3.97,
          1.81,
          0,
          74.9,
          14.51,
          0,
          33.03,
          0,
          0,
          2.61,
          10.6,
          10.03,
          15.38,
          24.4,
          30.08,
          14.92,
          8.84,
          0,
          10.89,
          11,
          0.83,
          14.73,
          13.69,
          22.31,
          5.31,
          0,
          11.06,
          50.79,
          0.95,
          29.56,
          6.86,
          1.2,
          61.02,
          0,
          0,
          23.6,
          3.35,
          10.91,
          3.84,
          33.3,
          2.75,
          15.02,
          2.24,
          13.71,
          25.03,
          1.26,
          24.4,
          0.19,
          55.76,
          30.3,
          24.54,
          9.25,
          5.73,
          15.91,
          43.46,
          14.21,
          4.7,
          12.77,
          3.62,
          18.74,
          20.26,
          88.21,
          0,
          17.6,
          21.55,
          0.34,
          1.51,
          36.59,
          8.77,
          23.98,
          25.48,
          6.68,
          14.69,
          6.97,
          1.05,
          33.12,
          13.95,
          16.1,
          25.48,
          6.68,
          14.69,
          6.97,
          1.05,
          33.12,
          13.95,
          10.31,
          6.53,
          6.45,
          11.24,
          25.18,
          50.38,
          8.57,
          39.17,
          27.37,
          18,
          16.51,
          3.33,
          70.56,
          0,
          11.93,
          16.49,
          7.71,
          9.3,
          15.02,
          24.18,
          9.78,
          18.67,
          15.99,
          9.41,
          14.15,
          5.04,
          9.94,
          0.21,
          16.63,
          0,
          13.11,
          44.38,
          4.83,
          0.08,
          15.68,
          60.66,
          0,
          0,
          20.75,
          20.49,
          8.56,
          0,
          2.45,
          5.78,
          9.89,
          5.99,
          13.24,
          1.92,
          0,
          1.41,
          7.96,
          12.16,
          23.66,
          22.95,
          37.44,
          8.73,
          56.51,
          56.51,
          24.84,
          5.25,
          5.25,
          5.25,
          15.5,
          50.42,
          7.44,
          36.28,
          3.58,
          1,
          4.07,
          6.03,
          21.1,
          0.91,
          0,
          7.43,
          28.66,
          9.25,
          1.19,
          15.48,
          14.38,
          32.72,
          2.91,
          2.91,
          5.6,
          2.99,
          0,
          33.32,
          19.4,
          0.09,
          2.24,
          5.67,
          29.37,
          7.54,
          0,
          1.48,
          25.23,
          43.82,
          43.82,
          33.41,
          36.39,
          7.79,
          0,
          25.48,
          4.85,
          6.84,
          9.3,
          24.41,
          7.68,
          0,
          1.84,
          34.36,
          33.03,
          3.28,
          8.85,
          0.3,
          2.21,
          8.86,
          0.5,
          18.75,
          14.1,
          3.49,
          0,
          26.19,
          14.07,
          5.92,
          19.46,
          5.04,
          3.68,
          15.38,
          22.03,
          0,
          1.97,
          1.97,
          1.97,
          0,
          10.89,
          13.72,
          0,
          10.89,
          13.72,
          0,
          4.32,
          10.89,
          13.72,
          30.61,
          2.05,
          0.42,
          6.48,
          24.4,
          10.45,
          23.66,
          13.66,
          6.93,
          0,
          16.7,
          91.43,
          14.22,
          16.46,
          28.84,
          94.13,
          39.74,
          8.74,
          41.81,
          1.81,
          0,
          50.42,
          46.83,
          28.98,
          0.13,
          0,
          24.72,
          35.9,
          22.7,
          0,
          3.28,
          1.74,
          3.58,
          6.74,
          12.62,
          18.22,
          24.62,
          21.82,
          27.01,
          12.32,
          36.49,
          0,
          0,
          15.36,
          1.81,
          3.07,
          4.69,
          24.18,
          59.59,
          147.03,
          83.49,
          18.52,
          21.14,
          34.25,
          13.1,
          55.17,
          19.39,
          7.68,
          10.05,
          7.21,
          8.46,
          34.43,
          4.61,
          9.08,
          4.61,
          9.08,
          4.61,
          9.08,
          1.82,
          0.32,
          1.38,
          13.31,
          14.08,
          8.81,
          6.87,
          2.87,
          12.74,
          2.32,
          2.18,
          8.55,
          6.87,
          43.77,
          1.12,
          2.32,
          2.18,
          0,
          1.05,
          64.48,
          7.85,
          30.66,
          0,
          4.32,
          4.33,
          39.89,
          89.13,
          1.05,
          0,
          1.94,
          7.4,
          0,
          29.79,
          0.51,
          13.7,
          1.03,
          8.68,
          1.94,
          24.26,
          4.94,
          3.45,
          27.93,
          7,
          6.46,
          2.4,
          87.68,
          189.02,
          12.03,
          7.18,
          7.18,
          7.18,
          11.28,
          7.26,
          32.84,
          6.9,
          14.02,
          0.19,
          32.96,
          9.01,
          5.37,
          6.54,
          6.02,
          18.08,
          33.26,
          50.5,
          11.43,
          10.46,
          31.15,
          17.21,
          0.64,
          14.39,
          12.67,
          45.25,
          16.82,
          28.25,
          0.47,
          37.7,
          31.83,
          4.56,
          4.1,
          30.07,
          48.06,
          0,
          24.08,
          6.5,
          129.25,
          26.11,
          8.88,
          7.28,
          9.77,
          24.48,
          0,
          0,
          6.3,
          8.83,
          0.79,
          21.16,
          23.96,
          9.28,
          38.54,
          6.41,
          8.92,
          14.34,
          0.45,
          20.87,
          9,
          21.81,
          4.23,
          25.5,
          15.4,
          0.91,
          33.35,
          23.36,
          8.84,
          29.66,
          5.47,
          23.6,
          25.88,
          3.92,
          4.65,
          8.74,
          17.92,
          31.65,
          16.48,
          0,
          12.99,
          5.95,
          5.95,
          10.82,
          17.49,
          0,
          10.24,
          27.8,
          12.99,
          2.99,
          17.91,
          41.93,
          29.16,
          13.93,
          12.38,
          37.3,
          11.4,
          1.16,
          4.03,
          42.36,
          18.2,
          29.84,
          28.29,
          22.22,
          14.09,
          1.13,
          4.55,
          29.05,
          20.4,
          0,
          18.44,
          7.24,
          29.51,
          15.34,
          4.25,
          22.4,
          11.34,
          22.23,
          16.41,
          13.87,
          4.58,
          8.81,
          11.9,
          19.89,
          28.98,
          31.72,
          46.99,
          30.72,
          30.72,
          30.72,
          30.72,
          27.84,
          9.26,
          27.1,
          22.31,
          24.14,
          45.5,
          22.43,
          5.32,
          19.3,
          16.09,
          27.18,
          7.48,
          7.22,
          4,
          47.43,
          4.64,
          45.99,
          37.21,
          0,
          37.24,
          41.01,
          0.42,
          0.42,
          12.52,
          6.79,
          26.12,
          3.37,
          0,
          9.56,
          7.61,
          20.86,
          31.95,
          8.86,
          14.81,
          0,
          0,
          13.37,
          27.18,
          49.09,
          87.89,
          67.06,
          23.45,
          52.36,
          32.61,
          64.87,
          12.32,
          79.82,
          35.83,
          3.7,
          0,
          0.78,
          3.54,
          19.23,
          25.02,
          23.03,
          10.14,
          5.2,
          2.98,
          40.85,
          6.73,
          63.21,
          1.32,
          43.06,
          17.59,
          7.3,
          0,
          6.14,
          44.12,
          6.23,
          38.73,
          0,
          40.32,
          8,
          18.27,
          31.45,
          48.06,
          6.14,
          0,
          40.86,
          46.85,
          1.05,
          0.78,
          0.06,
          33.35,
          64.79,
          6.74,
          5.46,
          9.94,
          13.38,
          78.43,
          9.98,
          54.45,
          64.79,
          20.04,
          20.07,
          2.51,
          2.65,
          14.06,
          16.52,
          25.39,
          5.45,
          14.04,
          26.05,
          2.53,
          12.78,
          27.45,
          32.94,
          27.65,
          4.23,
          12.34,
          0.17,
          4.69,
          20.63,
          0,
          21.02,
          14.5,
          1.49,
          16.47,
          2.48,
          24.37,
          15.7,
          23.8,
          0,
          42.17,
          0,
          26.61,
          3.5,
          3.5,
          3.5,
          0,
          7.43,
          5.11,
          5.11,
          7.43,
          5.17,
          5.17,
          3.58,
          19.74,
          0,
          22.8,
          0.06,
          26.85,
          0,
          9.88,
          0,
          9.88,
          13.02,
          18.73,
          3.76,
          19.8,
          24.27,
          3.53,
          21.57,
          15.99,
          21.17,
          2.65,
          10.07,
          24.16,
          19.49,
          3.64,
          25.46,
          19.81,
          23.52,
          2.69,
          5.96,
          87.21,
          87.21,
          23.52,
          6.77,
          4.89,
          0,
          49.39,
          60.77,
          17.06,
          28.78,
          60.77,
          6.11,
          5.05,
          0,
          5.42,
          5.05,
          5.42,
          4.05,
          4.79,
          0,
          1.24,
          49.88,
          27.51,
          6.79,
          2.68,
          31.28,
          25.46,
          4.06,
          0,
          3.11,
          0,
          0,
          0,
          2.29,
          12.62,
          5.85,
          38.37,
          0,
          80.33,
          3.58,
          13.21,
          3.66,
          14.08,
          3.28,
          32.28,
          27.78,
          26.61,
          23.19,
          4.43,
          10.3,
          12.05,
          58.52,
          9.5,
          12.19,
          31.68,
          17.18,
          17.03,
          6.73,
          21.12,
          24.54,
          6.98,
          5,
          67.98,
          1.08,
          40.82,
          68.96,
          40.82,
          78.66,
          57.56,
          0.18,
          28.14,
          3.43,
          11.88,
          29.64,
          51.3,
          14.01,
          3,
          15.09,
          42.2,
          0,
          28.12,
          63.18,
          20.58,
          14.8,
          14.8,
          0,
          16.92,
          23.19,
          23.19,
          0,
          16.92,
          16.92,
          21.19,
          17.53,
          21.19,
          0,
          17.53,
          21.19,
          18.09,
          18.09,
          3.87,
          19.36,
          18.09,
          19.36,
          0,
          0,
          3.07,
          0,
          0,
          0,
          0,
          0,
          4.12,
          0,
          4.12,
          6.97,
          6.97,
          6.86,
          1.72,
          0,
          0,
          0,
          0,
          1.82,
          0,
          0,
          5.92,
          8.53,
          0,
          0,
          0,
          0,
          6.85,
          5.92,
          6.03,
          25.76,
          3.94,
          66.75,
          71.39,
          68.22,
          18.08,
          5.5,
          0,
          25.44,
          20.4,
          2.57,
          0.49,
          0.71,
          0.84,
          0.84,
          2.17,
          3.58,
          1.6,
          3.63,
          2.38,
          2.87,
          6.65,
          3.11,
          10.84,
          10.84,
          4.11,
          37.72,
          4.85,
          4.85,
          25.69,
          29.66,
          0.66,
          0.84,
          1.74,
          0,
          0.7,
          11.61,
          0.94,
          0,
          5.85,
          5.61,
          5.61,
          34.73,
          3.8,
          0.07,
          2.68,
          8.92,
          0,
          0.94,
          10.65,
          1.31,
          9.61,
          10.65,
          9.61,
          9.61,
          28.23,
          28.23,
          0,
          0.03,
          0.06,
          0.13,
          6.68,
          0.06,
          12.3,
          3.27,
          14.34,
          8.29,
          8.29,
          10.03,
          1.83,
          0.85,
          5.98,
          1.13,
          4.56,
          1.76,
          34.8,
          34.86,
          2.6,
          34.69,
          8.35,
          0,
          5.47,
          11.13,
          8.55,
          12.95,
          0.89,
          1,
          0,
          35.03,
          32.13,
          16.73,
          12.75,
          55.59,
          55.27,
          46.03,
          31.85,
          5.02,
          3.1,
          0,
          10.92,
          15.75,
          24.09,
          38.76,
          1.82,
          3.1,
          0,
          10.92,
          15.75,
          24.09,
          38.76,
          3.81,
          27.69,
          17.14,
          7.69,
          7.74,
          0,
          0.99,
          0.99,
          0.51,
          46.97,
          17.61,
          11.3,
          1.72,
          19.64,
          2.27,
          19.08,
          19.08,
          17.97,
          16.37,
          14.81,
          15.86,
          15.86,
          0,
          16.77,
          41.73,
          17.68,
          18.61,
          7.23,
          1.14,
          5.23,
          29.22,
          1.96,
          13.5,
          12.87,
          17.19,
          15.51,
          5.4,
          0,
          21.47,
          6.28,
          6.28,
          6.26,
          2.09,
          6.23,
          6.2,
          9.41,
          41.08,
          8.99,
          8.99,
          33.58,
          3.66,
          5.83,
          0,
          0,
          0,
          6.1,
          3.59,
          1.59,
          9.35,
          0,
          7.58,
          19.24,
          5.72,
          5.72,
          6.31,
          6.57,
          6.57,
          4.66,
          0.77,
          11.35,
          3.5,
          24.43,
          31.95,
          3.05,
          0.28,
          33.29,
          0.8,
          33.27,
          5.44,
          33.21,
          31.9,
          1.93,
          4.28,
          8.86,
          0,
          8.16,
          0.28,
          0.55,
          0.55,
          22.56,
          8.21,
          25.03,
          0,
          13.89,
          16.8,
          17.15,
          11.38,
          2.78,
          0,
          3.33,
          0,
          6.44,
          13.28,
          1.52,
          10.71,
          0.31,
          12.79,
          0,
          2.43,
          13.16,
          3.78,
          10.01,
          9.6,
          25.03,
          0,
          13.89,
          16.8,
          17.15,
          2.78,
          0,
          0,
          6.44,
          13.28,
          1.52,
          10.71,
          0.31,
          12.79,
          0,
          2.43,
          0,
          13.16,
          10.01,
          9.6,
          4.27,
          4.27,
          9.24,
          7.43,
          13.53,
          14.1,
          5.61,
          4.36,
          22.32,
          8.05,
          3.49,
          7.43,
          2.09,
          1.97,
          1.97,
          0.86,
          0.86,
          1.99,
          2.44,
          4.26,
          0,
          7.51,
          17.71,
          0,
          6.65,
          1.34,
          1.56,
          35.36,
          15.04,
          10.46,
          5.42,
          15.09,
          3.84,
          0.02,
          4.58,
          4.96,
          6.56,
          6.56,
          0.16,
          7.03,
          7.03,
          0.16,
          7.03,
          11.33,
          2.2,
          1.22,
          1.28,
          4.99,
          5.51,
          13.53,
          12.65,
          17.97,
          3.41,
          0.72,
          11.95,
          6.18,
          17.81,
          12.15,
          2.57,
          10.89,
          12.75,
          0,
          2.9,
          12.04,
          2.9,
          14.26,
          9.52,
          9.24,
          9.24,
          13.38,
          13.38,
          0,
          9.96,
          7.96,
          4.63,
          0.99,
          10.61,
          8.7,
          8.12,
          0,
          18.2,
          14.31,
          14.91,
          1.87,
          23.68,
          0.21,
          0.44,
          4.01,
          4.01,
          8.08,
          4.01,
          3.4,
          3.4,
          9.35,
          6.21,
          3.29,
          3.29,
          18.26,
          16.85,
          16.85,
          22.96,
          13.88,
          23.02,
          23.21,
          17.49,
          23.21,
          21.51,
          25.02,
          24.24,
          7.38,
          0,
          3.56,
          7.25,
          26.43,
          13.58,
          26.03,
          4.08,
          0,
          32.28,
          14.87,
          9.64,
          23.77,
          11.3,
          45.61,
          32.25,
          42.56,
          30.37,
          30.8,
          28.57,
          20.97,
          37.04,
          11.38,
          26.74,
          27.14,
          3.86,
          18.47,
          26.61,
          11.42,
          38.44,
          25.47,
          12.53,
          26.09,
          24.26,
          21.94,
          25.1,
          22,
          23.74,
          8.36,
          19.16,
          8.12,
          19.88,
          10.56,
          19.49,
          18.05,
          16.29,
          19.66,
          11.36,
          20.15,
          20.15,
          19.4,
          10.32,
          8.36,
          8.36,
          7.43,
          0.46,
          0,
          4.57,
          5.6,
          4.88,
          16.5,
          10.31,
          4.54,
          11.01,
          11.01,
          11.01,
          11.01,
          4.36,
          11.01,
          4.36,
          4.18,
          43.25,
          1.56,
          10.53,
          0.92,
          43.38,
          43.38,
          0,
          43.02,
          43.02,
          43.02,
          1.04,
          1.56,
          2.08,
          2.08,
          40.87,
          40.87,
          3.66,
          37.62,
          15.96,
          37.21,
          15.3,
          12.84,
          8.15,
          32.06,
          0.91,
          0,
          0,
          2.73,
          0,
          10.95,
          3.87,
          4.69,
          0,
          10.43,
          13.03,
          15.54,
          17.78,
          15.78,
          15.78,
          26.62,
          16.02,
          26.62,
          23.71,
          23.71,
          14.42,
          53.82,
          0,
          13.58,
          8.21,
          15.46,
          4.61,
          10.28,
          14.81,
          4.42,
          10.28,
          7.91,
          24.61,
          0,
          37.4,
          2.37,
          10.42,
          13.98,
          10.68,
          8.3,
          2.82,
          0.5,
          1.06,
          10.62,
          0,
          2.23,
          2.23,
          4.71,
          4.71,
          4.71,
          6.4,
          1.36,
          3.94,
          0.66,
          0.22,
          0.22,
          1.6,
          6.91,
          6.78,
          7.38,
          4.93,
          0.92,
          7.38,
          3.06,
          7.36,
          1.27,
          0,
          2.72,
          8.31,
          3.72,
          9.35,
          14.06,
          14.06,
          6.41,
          11.22,
          16.67,
          12.19,
          0,
          12.83,
          12.73,
          13.98,
          8.48,
          9.68,
          7.43,
          9.48,
          14.07,
          10.57,
          5.79,
          3.43,
          0,
          8.12,
          8.12,
          3.86,
          0,
          3.71,
          2.89,
          0,
          53.74,
          11.9,
          2.66,
          2.66,
          0,
          0,
          3.61,
          12.71,
          9.13,
          8.75,
          25.22,
          4.56,
          0,
          0.36,
          13.06,
          4.03,
          1.99,
          0.99,
          6.72,
          0,
          1.45,
          0.44,
          0,
          2.32,
          14.36,
          14.36,
          15.82,
          30.13,
          0.13,
          3.98,
          0,
          0,
          1.09,
          0,
          19.1,
          0,
          17.03,
          0,
          3.22,
          1.9,
          15.41,
          2.94,
          1.04,
          1.04,
          1.98,
          1.98,
          9.33,
          0,
          0,
          11.54,
          0.6,
          2.32,
          0,
          23.54,
          16.03,
          3.88,
          1,
          1.14,
          16.29,
          2.56,
          18.13,
          0,
          5.06,
          6.71,
          3.1,
          5.62,
          8,
          4.6,
          0,
          17.06,
          0,
          6.14,
          14.52,
          19.88,
          0,
          21.89,
          25.03,
          22.1,
          31.84,
          0,
          1.4,
          0,
          29.97,
          23.96,
          0,
          4.26,
          0.36,
          16.57,
          0.63,
          4.73,
          7,
          9.04,
          0.78,
          0,
          6.72,
          17.62,
          29.1,
          8.53,
          8.26,
          15.27,
          6.51,
          0.7,
          0,
          17.3,
          13.69,
          39.78,
          16.8,
          0,
          13.9,
          7.16,
          9.36,
          15.01,
          7.89,
          20.85,
          15.8,
          3.55,
          0.89,
          11.27,
          14.18,
          4.33,
          29.81,
          5.97,
          0,
          0.31,
          1.58,
          0,
          13.91,
          4.49,
          2.76,
          5.96,
          3.06,
          0,
          27.4,
          2.14,
          0,
          1.71,
          0.93,
          3.04,
          19.65,
          10.71,
          12.45,
          0,
          5.12,
          14.01,
          0,
          0.58,
          0.23,
          3.8,
          18,
          3.38,
          0.11,
          0,
          16.57,
          0,
          3.65,
          20.79,
          0.18,
          12.77,
          30.35,
          0.12,
          0.13,
          14.85,
          14.8,
          0,
          20.54,
          0.16,
          0.9,
          1.82,
          1.06,
          0.32,
          7.21,
          0.16,
          7.54,
          8.35,
          0,
          8.35,
          0,
          9.73,
          22.5,
          8.01,
          12.08,
          1.78,
          6.67,
          15.19,
          0.16,
          3.23,
          0.18,
          5.5,
          0,
          14.39,
          26.43,
          24.58,
          22.56,
          3.09,
          1.58,
          19.46,
          30.32,
          15.88,
          8.88,
          37.16,
          33.82,
          0.39,
          3.68,
          9.98,
          1.05,
          6.77,
          3.74,
          2.51,
          1.54,
          4.3,
          6.48,
          26.92,
          6.71,
          0.11,
          8.37,
          41.04,
          37.49,
          11.82,
          9.03,
          19.75,
          8.53,
          0,
          0,
          6.98,
          18.89,
          10.89,
          3.9,
          1.27,
          1.27,
          8.33,
          17.06,
          17.06,
          7.73,
          3.83,
          3.83,
          1.68,
          1.49,
          7.17,
          7.17,
          10.91,
          0,
          0.27,
          7.18,
          55.45,
          5.25,
          1.73,
          7.18,
          25.69,
          25.69,
          10.32,
          8.55,
          16.77,
          0,
          14.68,
          18.39,
          14.15,
          1.51,
          0,
          2.35,
          5.13,
          1.34,
          10.81,
          19.54,
          2.78,
          3.77,
          0,
          0,
          5.21,
          20.46,
          30.41,
          0,
          5.68,
          25.11,
          0,
          10.03,
          1.08,
          27.77,
          5.24,
          5.05,
          2.78,
          32.07,
          0,
          6.3,
          10.55,
          7.74,
          2.78,
          12.08,
          45.57,
          19.67,
          2.98,
          1.7,
          42.88,
          3.27,
          39.9,
          13.2,
          11.72,
          0.07,
          2.84,
          4.6,
          2.98,
          6.59,
          6.1,
          6.1,
          15.95,
          16.17,
          2.77,
          13.36,
          37.02,
          7.86,
          7.86,
          3.67,
          8.19,
          3.37,
          3.67,
          30.04,
          26.08,
          1.5,
          17.37,
          32.93,
          16.9,
          0,
          0.33,
          2.5,
          11.3,
          1.33,
          8,
          3.94,
          1.33,
          16.9,
          38.27,
          39.32,
          0,
          0,
          0,
          0,
          11,
          0,
          11.85,
          8.93,
          2.8,
          22.73,
          7.85,
          37.28,
          2.18,
          64.49,
          63.53,
          31.31,
          12.46,
          30.02,
          17.58,
          11.27,
          2.5,
          15.33,
          28.12,
          9.49,
          6.96,
          14.62,
          75.15,
          189.74,
          14.57,
          22.63,
          0.02,
          9.06,
          7.81,
          9.73,
          4.4,
          8.82,
          2.89,
          16.2,
          15.38,
          1.34,
          1.34,
          0,
          10.01,
          0,
          0,
          0,
          36.52,
          4.09,
          33.77,
          7.01,
          21.62,
          20.24,
          32.43,
          32.43,
          0,
          4.64,
          0,
          0,
          0,
          19.21,
          7.59,
          2.18,
          3.86,
          0,
          4.2,
          1.14,
          0,
          0.7,
          17.05,
          2.64,
          8.26,
          8.57,
          31.13,
          0,
          3.13,
          0.73,
          30.67,
          7.77,
          2.03,
          5.44,
          16.8,
          1.2,
          5.83,
          3.88,
          8.53,
          12.66,
          0,
          30.75,
          11.05,
          26.69,
          5.44,
          0,
          9.62,
          10.04,
          0,
          14.62,
          5.61,
          0,
          0,
          21.6,
          13.76,
          9.58,
          9.06,
          0,
          0.02,
          16.36,
          8.2,
          33.6,
          0.87,
          6.6,
          2.15,
          7.89,
          2.18,
          0,
          23.32,
          4.68,
          13.81,
          3.61,
          6.04,
          0,
          0,
          53.43,
          2.98,
          0,
          0,
          37.18,
          39.91,
          0,
          0,
          3.06,
          2.39,
          0,
          0.88,
          1.18,
          2.11,
          5.06,
          1.1,
          38.01,
          2.33,
          2.42,
          0.66,
          31.31,
          12.46,
          2.5,
          15.33,
          28.12,
          17.58,
          0,
          36.18,
          10.55,
          10.55,
          6.64,
          0.22,
          6.64,
          1.73,
          8.02,
          20.88,
          28.81,
          16.88,
          0.11,
          6.08,
          3.89,
          7.25,
          10.91,
          19.08,
          13.01,
          16.28,
          17.45,
          5.55,
          23.74,
          18.56,
          0.38,
          11.81,
          5.41,
          1.04,
          36.77,
          60.49,
          5.03,
          16.95,
          4.86,
          4.51,
          17.71,
          18.85,
          24.51,
          4.01,
          4.07,
          4.07,
          19.37,
          10.91,
          0,
          7.51,
          10.91,
          0,
          82.71,
          20.4,
          45.26,
          4.2,
          4.26,
          20.91,
          1.89,
          4.44,
          22.47,
          20.06,
          56.58,
          73.67,
          53.78,
          86.14,
          53.12,
          13,
          10.2,
          11.05,
          4.32,
          7.14,
          11.55,
          2.46,
          11.93,
          2.77,
          19.98,
          1.79,
          10.04,
          14.45,
          33.4,
          17.34,
          5.58,
          6.89,
          0.47,
          0,
          79.11,
          0.03,
          58.01,
          5.16,
          54.28,
          78.86,
          54.07,
          0,
          0,
          0,
          14.65,
          53.43,
          52.82,
          84.36,
          4.68,
          83.81,
          18.07,
          51.67,
          6.08,
          4.99,
          1.15,
          74.49,
          5.09,
          73.61,
          2.29,
          75.72,
          10.15,
          1.63,
          11.26,
          14.98,
          22.73,
          17.03,
          13.62,
          14.94,
          16.67,
          12.48,
          12.48,
          5.46,
          0.94,
          3.47,
          7.47,
          12.03,
          13.6,
          16.28,
          6.11,
          14.9,
          5.48,
          0.39,
          18.59,
          11.53,
          10.43,
          29.25,
          16.28,
          5.28,
          6.23,
          13.44,
          16.89,
          0.71,
          6.11,
          14.9,
          7.9,
          8.03,
          2.18,
          3.87,
          14.14,
          55.74,
          6.86,
          5.09,
          5.09,
          4.74,
          36.05,
          4.21,
          4.21,
          4.21,
          31.98,
          29.85,
          5.7,
          22.31,
          22.31,
          8.48,
          0,
          7.01,
          0,
          0,
          27.94,
          0.33,
          0.99,
          23.55,
          7.22,
          6.94,
          0,
          5.6,
          0.76,
          1.45,
          0.76,
          7.46,
          0,
          9.29,
          0,
          29.15,
          0,
          27.15,
          20.02,
          0,
          0,
          0,
          0,
          3.61,
          0,
          1.49,
          0,
          2.89,
          8.55,
          11.95,
          0.25,
          1.99,
          5.25,
          1.4,
          0,
          8.26,
          8.26,
          2.09,
          2.09,
          2.09,
          4.97,
          20.16,
          1.54,
          9.4,
          7.87,
          3.63,
          12.81,
          12.74,
          44.58,
          0.35,
          43.94,
          0.21,
          0,
          8.24,
          10.95,
          0,
          0.31,
          12.96,
          0.27,
          7,
          4.72,
          19.03,
          0,
          19.01,
          2.3,
          6.37,
          0,
          7.91,
          16.87,
          1.11,
          0.28,
          12.02,
          12.65,
          0,
          3.94,
          0,
          0.83,
          0.69,
          0.08,
          6.04,
          2.44,
          0.16,
          11.16,
          10.92,
          0.92,
          4.04,
          5.84,
          0,
          2.53,
          1.37,
          2.44,
          0.19,
          4.36,
          1.89,
          4.09,
          20.01,
          2.91,
          0.93,
          3.31,
          1.92,
          1.75,
          4.65,
          4.98,
          2.67,
          5.32,
          0,
          3.52,
          16.64,
          9.68,
          2.22,
          9.59,
          6.68,
          0.86,
          2.03,
          4.43,
          7.7,
          34.14,
          0,
          5.44,
          13.15,
          4.41,
          5.34,
          0.06,
          1.8,
          3.93,
          4.67,
          5.82,
          6.95,
          0,
          1.69,
          3.32,
          1.94,
          2.54,
          2.13,
          7.38,
          3.32,
          2.13,
          6.56,
          3.86,
          9.71,
          9.71,
          11.55,
          13.66,
          10.76,
          0.62,
          13.66,
          5.19,
          0.87,
          10.76,
          0.62,
          22.79,
          5.77,
          4.04,
          1.24,
          14.32,
          0.36,
          12.22,
          3.5,
          2.7,
          4.69,
          13.16,
          7.26,
          0.23,
          0.58,
          1.44,
          1.77,
          2.45,
          2.79,
          3.86,
          3.84,
          16.78,
          19.49,
          3.83,
          3.82,
          3.82,
          3.8,
          3.8,
          14.64,
          0.1,
          7.68,
          41.15,
          5.01,
          0,
          22.05,
          0,
          1.81,
          2.93,
          0.63,
          5.78,
          0,
          14.59,
          32.9,
          10.46,
          0.23,
          2.36,
          7.53,
          28.64,
          10.11,
          11.59,
          6.69,
          0,
          0.48,
          7.93,
          1.83,
          3.88,
          9.63,
          0.37,
          3.51,
          1.03,
          1.03,
          0.78,
          0,
          0.31,
          29.35,
          9.2,
          3.43,
          1.29,
          0.96,
          4.43,
          7.98,
          0.5,
          5.44,
          4.57,
          25.43,
          5.5,
          5.75,
          6.36,
          29.43,
          3.55,
          5.71,
          3.33,
          5.8,
          5.71,
          5.8,
          0,
          9.47,
          0,
          17.83,
          0,
          1.73,
          12.43,
          5.59,
          16.05,
          8.74,
          3.3,
          1.39,
          0,
          11.56,
          2.47,
          17.31,
          24.9,
          9.17,
          21.63,
          9.25,
          9.47,
          3.61,
          5.72,
          3.61,
          9.74,
          8.77,
          8.77,
          8.9,
          8.9,
          8.74,
          8.74,
          24.47,
          2.78,
          8.53,
          3.01,
          3.01,
          3.01,
          8.87,
          8.87,
          18.93,
          23.34,
          13.71,
          20.2,
          23.98,
          3.46,
          13.25,
          1,
          9.27,
          9.71,
          3.46,
          23.55,
          0,
          6,
          0.41,
          23.55,
          0,
          9.71,
          3.02,
          5.19,
          14.32,
          15.3,
          0.36,
          17.05,
          0,
          10.24,
          11.87,
          9.48,
          22.75,
          10.39,
          9.48,
          4.72,
          1.29,
          1.47,
          0,
          10.24,
          10.39,
          13.02,
          0,
          11.87,
          19.82,
          12.29,
          0.17,
          0,
          29.62,
          8.82,
          7.73,
          1.31,
          4.44,
          1.31,
          4.44,
          17.89,
          1.31,
          1.31,
          16.52,
          2.98,
          5.08,
          0,
          16.2,
          12.17,
          7.02,
          14.54,
          3.92,
          7.02,
          3.92,
          14.65,
          0.91,
          39.26,
          4.7,
          7.73,
          0,
          0,
          0,
          0,
          0,
          14.68,
          0,
          4.69,
          6.05,
          0.13,
          0.85,
          0.85,
          0.36,
          0,
          0.85,
          0.36,
          0,
          29.49,
          0,
          2.15,
          32.9,
          29.31,
          15.64,
          27.8,
          15.13,
          0,
          10.25,
          5.39,
          10.25,
          5.39,
          1.37,
          41.89,
          1.98,
          21.37,
          3.92,
          0,
          7.28,
          0,
          27.99,
          27.89,
          4.07,
          68.03,
          27.11,
          64.99,
          3.03,
          10.77,
          33.09,
          1.69,
          1.79,
          34.53,
          5.33,
          9.47,
          2.12,
          3.52,
          108.65,
          3.67,
          9.68,
          3.97,
          3.67,
          5.33,
          50.65,
          3.52,
          3.26,
          6.62,
          0,
          0,
          0.15,
          4.19,
          0.11,
          5.39,
          8.92,
          1.48,
          16.52,
          31.78,
          0.46,
          5.97,
          2.18,
          3.96,
          83,
          3.8,
          5.24,
          86.64,
          24.45,
          0,
          5.6,
          1.08,
          0.22,
          4.16,
          15.17,
          11.69,
          5.6,
          11.03,
          5.8,
          7.95,
          19.29,
          10.95,
          9.41,
          10.93,
          8.12,
          8.67,
          0.41,
          0,
          6.22,
          0,
          4.63,
          3.27,
          31.22,
          3.42,
          0,
          13.24,
          12.54,
          5.48,
          0.35,
          9.9,
          0.48,
          14.68,
          7.13,
          7.11,
          5.8,
          4.33,
          11.84,
          18.5,
          16.57,
          3.51,
          23.33,
          38.62,
          31.95,
          31.95,
          8.04,
          11.58,
          12.68,
          5.11,
          12.68,
          29.35,
          19.23,
          15.75,
          12.66,
          2.23,
          8.4,
          33.86,
          9.11,
          0,
          4.01,
          18.15,
          3.32,
          14.94,
          26.41,
          18.15,
          6.98,
          10.74,
          11.92,
          19.58,
          4.21,
          10.29,
          10.16,
          9.57,
          9.37,
          8.78,
          8.9,
          8.52,
          8.64,
          8.64,
          26.03,
          26.03,
          5.49,
          6,
          2.07,
          8.61,
          4.09,
          12.92,
          12.92,
          2.48,
          21.95,
          3.91,
          1.27,
          4.57,
          6.79,
          1.39,
          6.6,
          31.64,
          31.64,
          6.89,
          24.51,
          19.53,
          22.89,
          22.89,
          5.94,
          5.94,
          40.46,
          5.58,
          0.79,
          5.69,
          22.08,
          32.53,
          0,
          28.69,
          27.46,
          6.3,
          28.01,
          0,
          0,
          15.63,
          6.28,
          0.74,
          0.74,
          4.88,
          14.37,
          40.93,
          8.06,
          13.7,
          4.32,
          14.29,
          40.24,
          1.03,
          8.04,
          7.71,
          5.31,
          2.64,
          12.86,
          98.27,
          5.88,
          5.88,
          7.55,
          8.57,
          5.31,
          27.7,
          4.39,
          4.39,
          4.39,
          4.39,
          26.93,
          26.54,
          25.38,
          24.83,
          0.24,
          7.52,
          9.45,
          1.64,
          0.72,
          11.76,
          2.93,
          24.28,
          4.88,
          3.27,
          17.63,
          0.23,
          4.06,
          2.98,
          9.41,
          4.32,
          0.47,
          46,
          47.26,
          2.98,
          7.93,
          11.93,
          17.35,
          0,
          1.29,
          3.99,
          0,
          30.63,
          4.61,
          0,
          12.59,
          0.1,
          2.92,
          19.09,
          0.83,
          10.26,
          8.15,
          12.42,
          0,
          24.06,
          21.02,
          5.1,
          10.35,
          21.1,
          0,
          7.48,
          11.7,
          4.64,
          0.39,
          4.67,
          15.58,
          33.26,
          10.41,
          10.93,
          9.02,
          12.99,
          8.44,
          13.34,
          3.48,
          20.26,
          2.11,
          1.96,
          0,
          15.96,
          1.03,
          14.04,
          2.17,
          0,
          2.36,
          2.36,
          2.21,
          0,
          6.56,
          0,
          2.07,
          0.63,
          0,
          0,
          14.73,
          0,
          0,
          0,
          0,
          9.42,
          2.4,
          9.81,
          6.47,
          0,
          12.55,
          0,
          19.04,
          2.4,
          2.4,
          18.07,
          23.51,
          6.56,
          12.67,
          7.21,
          7.21,
          0.5,
          16.35,
          19.44,
          2.33,
          0.06,
          7.75,
          0.82,
          0,
          3.08,
          0.49,
          0,
          0,
          28.41,
          4.9,
          1.9,
          17.95,
          7.9,
          0,
          0,
          0,
          0,
          0.66,
          1.83,
          0,
          6,
          1.83,
          1.22,
          20.51,
          0,
          0,
          1.28,
          0,
          20.87,
          26.45,
          1.27,
          27.66,
          2.72,
          3.52,
          0,
          1.25,
          11.46,
          0,
          10.73,
          5.06,
          0.07,
          0.33,
          0.45,
          0.45,
          7.04,
          12.25,
          0.16,
          0,
          12.47,
          0.31,
          6.72,
          17.34,
          0,
          0,
          17.63,
          15.67,
          9.14,
          2,
          1.06,
          19.01,
          4.47,
          4.38,
          0.39,
          2.91,
          3.7,
          3.84,
          9.7,
          3.88,
          29.44,
          7.24,
          4.74,
          3.92,
          3.12,
          28.92,
          29.5,
          29.5,
          4.57,
          0,
          0,
          30.33,
          30.33,
          0,
          0,
          0,
          5.72,
          33.12,
          0,
          3.77,
          8.78,
          9.63,
          9.63,
          3.32,
          0,
          0,
          0,
          8.05,
          0,
          11.61,
          9.62,
          0.96,
          52.35,
          3.46,
          2.74,
          1.75,
          5.98,
          0.55,
          1.62,
          0,
          12.47,
          16.85,
          6.87,
          3.64,
          8.74,
          11.93,
          0.18,
          6.56,
          6.56,
          0,
          0,
          65.78,
          1.07,
          8.43,
          8.33,
          2.79,
          5.82,
          14.73,
          7,
          2.27,
          18.25,
          0.53,
          96.67,
          18.25,
          0,
          4.47,
          3.41,
          16.4,
          4.65,
          7.59,
          3.49,
          4.18,
          0,
          0,
          4.73,
          4.73,
          4.73,
          24.75,
          1.46,
          3.94,
          0.25,
          6.71,
          4.36,
          0,
          3.12,
          0,
          0.38,
          16.17,
          0.1,
          5.37,
          12.01,
          8.02,
          16.5,
          3.31,
          7.42,
          11,
          21.45,
          11.74,
          3.42,
          0,
          24.32,
          10.51,
          2.02,
          31.81,
          0.59,
          9.94,
          12.01,
          7.63,
          0,
          8.8,
          76.35,
          13.75,
          39.37,
          30.03,
          11.04,
          10.28,
          10.17,
          9,
          14.19,
          6.68,
          17.55,
          0,
          34.34,
          34.34,
          4.77,
          0.05,
          0.27,
          0.27,
          0.43,
          0.29,
          23.9,
          22.83
         ],
         "xaxis": "x",
         "yaxis": "y"
        },
        {
         "alignmentgroup": "True",
         "hovertemplate": "alpha=%{x}<extra></extra>",
         "legendgroup": "",
         "marker": {
          "color": "#636efa"
         },
         "name": "",
         "notched": true,
         "offsetgroup": "",
         "showlegend": false,
         "type": "box",
         "x": [
          28.15,
          62.47,
          63.66,
          14.67,
          1.61,
          10.73,
          0,
          12.09,
          1.11,
          10.39,
          6.93,
          18.04,
          18.04,
          18.04,
          0.92,
          1.42,
          12.48,
          2.39,
          4.03,
          1.62,
          0.13,
          4.2,
          4.59,
          7.53,
          9.4,
          0.03,
          1.13,
          0,
          1.18,
          24.93,
          9.54,
          17.96,
          1.35,
          0,
          6.89,
          20.28,
          10.19,
          0,
          21.51,
          1.82,
          0,
          1.8,
          4.91,
          11.37,
          6.3,
          3.63,
          0.59,
          10.37,
          8.78,
          5.77,
          3.83,
          0,
          0,
          27.54,
          19.22,
          64.64,
          29.75,
          6.64,
          3.95,
          6,
          3.98,
          28.27,
          21.21,
          1.2,
          0.45,
          24.12,
          18.17,
          23.44,
          5.61,
          8.06,
          0,
          2.77,
          72.2,
          13.26,
          0.44,
          18.06,
          18.81,
          3.07,
          3.97,
          1.81,
          0,
          74.9,
          14.51,
          0,
          33.03,
          0,
          0,
          2.61,
          10.6,
          10.03,
          15.38,
          24.4,
          30.08,
          14.92,
          8.84,
          0,
          10.89,
          11,
          0.83,
          14.73,
          13.69,
          22.31,
          5.31,
          0,
          11.06,
          50.79,
          0.95,
          29.56,
          6.86,
          1.2,
          61.02,
          0,
          0,
          23.6,
          3.35,
          10.91,
          3.84,
          33.3,
          2.75,
          15.02,
          2.24,
          13.71,
          25.03,
          1.26,
          24.4,
          0.19,
          55.76,
          30.3,
          24.54,
          9.25,
          5.73,
          15.91,
          43.46,
          14.21,
          4.7,
          12.77,
          3.62,
          18.74,
          20.26,
          88.21,
          0,
          17.6,
          21.55,
          0.34,
          1.51,
          36.59,
          8.77,
          23.98,
          25.48,
          6.68,
          14.69,
          6.97,
          1.05,
          33.12,
          13.95,
          16.1,
          25.48,
          6.68,
          14.69,
          6.97,
          1.05,
          33.12,
          13.95,
          10.31,
          6.53,
          6.45,
          11.24,
          25.18,
          50.38,
          8.57,
          39.17,
          27.37,
          18,
          16.51,
          3.33,
          70.56,
          0,
          11.93,
          16.49,
          7.71,
          9.3,
          15.02,
          24.18,
          9.78,
          18.67,
          15.99,
          9.41,
          14.15,
          5.04,
          9.94,
          0.21,
          16.63,
          0,
          13.11,
          44.38,
          4.83,
          0.08,
          15.68,
          60.66,
          0,
          0,
          20.75,
          20.49,
          8.56,
          0,
          2.45,
          5.78,
          9.89,
          5.99,
          13.24,
          1.92,
          0,
          1.41,
          7.96,
          12.16,
          23.66,
          22.95,
          37.44,
          8.73,
          56.51,
          56.51,
          24.84,
          5.25,
          5.25,
          5.25,
          15.5,
          50.42,
          7.44,
          36.28,
          3.58,
          1,
          4.07,
          6.03,
          21.1,
          0.91,
          0,
          7.43,
          28.66,
          9.25,
          1.19,
          15.48,
          14.38,
          32.72,
          2.91,
          2.91,
          5.6,
          2.99,
          0,
          33.32,
          19.4,
          0.09,
          2.24,
          5.67,
          29.37,
          7.54,
          0,
          1.48,
          25.23,
          43.82,
          43.82,
          33.41,
          36.39,
          7.79,
          0,
          25.48,
          4.85,
          6.84,
          9.3,
          24.41,
          7.68,
          0,
          1.84,
          34.36,
          33.03,
          3.28,
          8.85,
          0.3,
          2.21,
          8.86,
          0.5,
          18.75,
          14.1,
          3.49,
          0,
          26.19,
          14.07,
          5.92,
          19.46,
          5.04,
          3.68,
          15.38,
          22.03,
          0,
          1.97,
          1.97,
          1.97,
          0,
          10.89,
          13.72,
          0,
          10.89,
          13.72,
          0,
          4.32,
          10.89,
          13.72,
          30.61,
          2.05,
          0.42,
          6.48,
          24.4,
          10.45,
          23.66,
          13.66,
          6.93,
          0,
          16.7,
          91.43,
          14.22,
          16.46,
          28.84,
          94.13,
          39.74,
          8.74,
          41.81,
          1.81,
          0,
          50.42,
          46.83,
          28.98,
          0.13,
          0,
          24.72,
          35.9,
          22.7,
          0,
          3.28,
          1.74,
          3.58,
          6.74,
          12.62,
          18.22,
          24.62,
          21.82,
          27.01,
          12.32,
          36.49,
          0,
          0,
          15.36,
          1.81,
          3.07,
          4.69,
          24.18,
          59.59,
          147.03,
          83.49,
          18.52,
          21.14,
          34.25,
          13.1,
          55.17,
          19.39,
          7.68,
          10.05,
          7.21,
          8.46,
          34.43,
          4.61,
          9.08,
          4.61,
          9.08,
          4.61,
          9.08,
          1.82,
          0.32,
          1.38,
          13.31,
          14.08,
          8.81,
          6.87,
          2.87,
          12.74,
          2.32,
          2.18,
          8.55,
          6.87,
          43.77,
          1.12,
          2.32,
          2.18,
          0,
          1.05,
          64.48,
          7.85,
          30.66,
          0,
          4.32,
          4.33,
          39.89,
          89.13,
          1.05,
          0,
          1.94,
          7.4,
          0,
          29.79,
          0.51,
          13.7,
          1.03,
          8.68,
          1.94,
          24.26,
          4.94,
          3.45,
          27.93,
          7,
          6.46,
          2.4,
          87.68,
          189.02,
          12.03,
          7.18,
          7.18,
          7.18,
          11.28,
          7.26,
          32.84,
          6.9,
          14.02,
          0.19,
          32.96,
          9.01,
          5.37,
          6.54,
          6.02,
          18.08,
          33.26,
          50.5,
          11.43,
          10.46,
          31.15,
          17.21,
          0.64,
          14.39,
          12.67,
          45.25,
          16.82,
          28.25,
          0.47,
          37.7,
          31.83,
          4.56,
          4.1,
          30.07,
          48.06,
          0,
          24.08,
          6.5,
          129.25,
          26.11,
          8.88,
          7.28,
          9.77,
          24.48,
          0,
          0,
          6.3,
          8.83,
          0.79,
          21.16,
          23.96,
          9.28,
          38.54,
          6.41,
          8.92,
          14.34,
          0.45,
          20.87,
          9,
          21.81,
          4.23,
          25.5,
          15.4,
          0.91,
          33.35,
          23.36,
          8.84,
          29.66,
          5.47,
          23.6,
          25.88,
          3.92,
          4.65,
          8.74,
          17.92,
          31.65,
          16.48,
          0,
          12.99,
          5.95,
          5.95,
          10.82,
          17.49,
          0,
          10.24,
          27.8,
          12.99,
          2.99,
          17.91,
          41.93,
          29.16,
          13.93,
          12.38,
          37.3,
          11.4,
          1.16,
          4.03,
          42.36,
          18.2,
          29.84,
          28.29,
          22.22,
          14.09,
          1.13,
          4.55,
          29.05,
          20.4,
          0,
          18.44,
          7.24,
          29.51,
          15.34,
          4.25,
          22.4,
          11.34,
          22.23,
          16.41,
          13.87,
          4.58,
          8.81,
          11.9,
          19.89,
          28.98,
          31.72,
          46.99,
          30.72,
          30.72,
          30.72,
          30.72,
          27.84,
          9.26,
          27.1,
          22.31,
          24.14,
          45.5,
          22.43,
          5.32,
          19.3,
          16.09,
          27.18,
          7.48,
          7.22,
          4,
          47.43,
          4.64,
          45.99,
          37.21,
          0,
          37.24,
          41.01,
          0.42,
          0.42,
          12.52,
          6.79,
          26.12,
          3.37,
          0,
          9.56,
          7.61,
          20.86,
          31.95,
          8.86,
          14.81,
          0,
          0,
          13.37,
          27.18,
          49.09,
          87.89,
          67.06,
          23.45,
          52.36,
          32.61,
          64.87,
          12.32,
          79.82,
          35.83,
          3.7,
          0,
          0.78,
          3.54,
          19.23,
          25.02,
          23.03,
          10.14,
          5.2,
          2.98,
          40.85,
          6.73,
          63.21,
          1.32,
          43.06,
          17.59,
          7.3,
          0,
          6.14,
          44.12,
          6.23,
          38.73,
          0,
          40.32,
          8,
          18.27,
          31.45,
          48.06,
          6.14,
          0,
          40.86,
          46.85,
          1.05,
          0.78,
          0.06,
          33.35,
          64.79,
          6.74,
          5.46,
          9.94,
          13.38,
          78.43,
          9.98,
          54.45,
          64.79,
          20.04,
          20.07,
          2.51,
          2.65,
          14.06,
          16.52,
          25.39,
          5.45,
          14.04,
          26.05,
          2.53,
          12.78,
          27.45,
          32.94,
          27.65,
          4.23,
          12.34,
          0.17,
          4.69,
          20.63,
          0,
          21.02,
          14.5,
          1.49,
          16.47,
          2.48,
          24.37,
          15.7,
          23.8,
          0,
          42.17,
          0,
          26.61,
          3.5,
          3.5,
          3.5,
          0,
          7.43,
          5.11,
          5.11,
          7.43,
          5.17,
          5.17,
          3.58,
          19.74,
          0,
          22.8,
          0.06,
          26.85,
          0,
          9.88,
          0,
          9.88,
          13.02,
          18.73,
          3.76,
          19.8,
          24.27,
          3.53,
          21.57,
          15.99,
          21.17,
          2.65,
          10.07,
          24.16,
          19.49,
          3.64,
          25.46,
          19.81,
          23.52,
          2.69,
          5.96,
          87.21,
          87.21,
          23.52,
          6.77,
          4.89,
          0,
          49.39,
          60.77,
          17.06,
          28.78,
          60.77,
          6.11,
          5.05,
          0,
          5.42,
          5.05,
          5.42,
          4.05,
          4.79,
          0,
          1.24,
          49.88,
          27.51,
          6.79,
          2.68,
          31.28,
          25.46,
          4.06,
          0,
          3.11,
          0,
          0,
          0,
          2.29,
          12.62,
          5.85,
          38.37,
          0,
          80.33,
          3.58,
          13.21,
          3.66,
          14.08,
          3.28,
          32.28,
          27.78,
          26.61,
          23.19,
          4.43,
          10.3,
          12.05,
          58.52,
          9.5,
          12.19,
          31.68,
          17.18,
          17.03,
          6.73,
          21.12,
          24.54,
          6.98,
          5,
          67.98,
          1.08,
          40.82,
          68.96,
          40.82,
          78.66,
          57.56,
          0.18,
          28.14,
          3.43,
          11.88,
          29.64,
          51.3,
          14.01,
          3,
          15.09,
          42.2,
          0,
          28.12,
          63.18,
          20.58,
          14.8,
          14.8,
          0,
          16.92,
          23.19,
          23.19,
          0,
          16.92,
          16.92,
          21.19,
          17.53,
          21.19,
          0,
          17.53,
          21.19,
          18.09,
          18.09,
          3.87,
          19.36,
          18.09,
          19.36,
          0,
          0,
          3.07,
          0,
          0,
          0,
          0,
          0,
          4.12,
          0,
          4.12,
          6.97,
          6.97,
          6.86,
          1.72,
          0,
          0,
          0,
          0,
          1.82,
          0,
          0,
          5.92,
          8.53,
          0,
          0,
          0,
          0,
          6.85,
          5.92,
          6.03,
          25.76,
          3.94,
          66.75,
          71.39,
          68.22,
          18.08,
          5.5,
          0,
          25.44,
          20.4,
          2.57,
          0.49,
          0.71,
          0.84,
          0.84,
          2.17,
          3.58,
          1.6,
          3.63,
          2.38,
          2.87,
          6.65,
          3.11,
          10.84,
          10.84,
          4.11,
          37.72,
          4.85,
          4.85,
          25.69,
          29.66,
          0.66,
          0.84,
          1.74,
          0,
          0.7,
          11.61,
          0.94,
          0,
          5.85,
          5.61,
          5.61,
          34.73,
          3.8,
          0.07,
          2.68,
          8.92,
          0,
          0.94,
          10.65,
          1.31,
          9.61,
          10.65,
          9.61,
          9.61,
          28.23,
          28.23,
          0,
          0.03,
          0.06,
          0.13,
          6.68,
          0.06,
          12.3,
          3.27,
          14.34,
          8.29,
          8.29,
          10.03,
          1.83,
          0.85,
          5.98,
          1.13,
          4.56,
          1.76,
          34.8,
          34.86,
          2.6,
          34.69,
          8.35,
          0,
          5.47,
          11.13,
          8.55,
          12.95,
          0.89,
          1,
          0,
          35.03,
          32.13,
          16.73,
          12.75,
          55.59,
          55.27,
          46.03,
          31.85,
          5.02,
          3.1,
          0,
          10.92,
          15.75,
          24.09,
          38.76,
          1.82,
          3.1,
          0,
          10.92,
          15.75,
          24.09,
          38.76,
          3.81,
          27.69,
          17.14,
          7.69,
          7.74,
          0,
          0.99,
          0.99,
          0.51,
          46.97,
          17.61,
          11.3,
          1.72,
          19.64,
          2.27,
          19.08,
          19.08,
          17.97,
          16.37,
          14.81,
          15.86,
          15.86,
          0,
          16.77,
          41.73,
          17.68,
          18.61,
          7.23,
          1.14,
          5.23,
          29.22,
          1.96,
          13.5,
          12.87,
          17.19,
          15.51,
          5.4,
          0,
          21.47,
          6.28,
          6.28,
          6.26,
          2.09,
          6.23,
          6.2,
          9.41,
          41.08,
          8.99,
          8.99,
          33.58,
          3.66,
          5.83,
          0,
          0,
          0,
          6.1,
          3.59,
          1.59,
          9.35,
          0,
          7.58,
          19.24,
          5.72,
          5.72,
          6.31,
          6.57,
          6.57,
          4.66,
          0.77,
          11.35,
          3.5,
          24.43,
          31.95,
          3.05,
          0.28,
          33.29,
          0.8,
          33.27,
          5.44,
          33.21,
          31.9,
          1.93,
          4.28,
          8.86,
          0,
          8.16,
          0.28,
          0.55,
          0.55,
          22.56,
          8.21,
          25.03,
          0,
          13.89,
          16.8,
          17.15,
          11.38,
          2.78,
          0,
          3.33,
          0,
          6.44,
          13.28,
          1.52,
          10.71,
          0.31,
          12.79,
          0,
          2.43,
          13.16,
          3.78,
          10.01,
          9.6,
          25.03,
          0,
          13.89,
          16.8,
          17.15,
          2.78,
          0,
          0,
          6.44,
          13.28,
          1.52,
          10.71,
          0.31,
          12.79,
          0,
          2.43,
          0,
          13.16,
          10.01,
          9.6,
          4.27,
          4.27,
          9.24,
          7.43,
          13.53,
          14.1,
          5.61,
          4.36,
          22.32,
          8.05,
          3.49,
          7.43,
          2.09,
          1.97,
          1.97,
          0.86,
          0.86,
          1.99,
          2.44,
          4.26,
          0,
          7.51,
          17.71,
          0,
          6.65,
          1.34,
          1.56,
          35.36,
          15.04,
          10.46,
          5.42,
          15.09,
          3.84,
          0.02,
          4.58,
          4.96,
          6.56,
          6.56,
          0.16,
          7.03,
          7.03,
          0.16,
          7.03,
          11.33,
          2.2,
          1.22,
          1.28,
          4.99,
          5.51,
          13.53,
          12.65,
          17.97,
          3.41,
          0.72,
          11.95,
          6.18,
          17.81,
          12.15,
          2.57,
          10.89,
          12.75,
          0,
          2.9,
          12.04,
          2.9,
          14.26,
          9.52,
          9.24,
          9.24,
          13.38,
          13.38,
          0,
          9.96,
          7.96,
          4.63,
          0.99,
          10.61,
          8.7,
          8.12,
          0,
          18.2,
          14.31,
          14.91,
          1.87,
          23.68,
          0.21,
          0.44,
          4.01,
          4.01,
          8.08,
          4.01,
          3.4,
          3.4,
          9.35,
          6.21,
          3.29,
          3.29,
          18.26,
          16.85,
          16.85,
          22.96,
          13.88,
          23.02,
          23.21,
          17.49,
          23.21,
          21.51,
          25.02,
          24.24,
          7.38,
          0,
          3.56,
          7.25,
          26.43,
          13.58,
          26.03,
          4.08,
          0,
          32.28,
          14.87,
          9.64,
          23.77,
          11.3,
          45.61,
          32.25,
          42.56,
          30.37,
          30.8,
          28.57,
          20.97,
          37.04,
          11.38,
          26.74,
          27.14,
          3.86,
          18.47,
          26.61,
          11.42,
          38.44,
          25.47,
          12.53,
          26.09,
          24.26,
          21.94,
          25.1,
          22,
          23.74,
          8.36,
          19.16,
          8.12,
          19.88,
          10.56,
          19.49,
          18.05,
          16.29,
          19.66,
          11.36,
          20.15,
          20.15,
          19.4,
          10.32,
          8.36,
          8.36,
          7.43,
          0.46,
          0,
          4.57,
          5.6,
          4.88,
          16.5,
          10.31,
          4.54,
          11.01,
          11.01,
          11.01,
          11.01,
          4.36,
          11.01,
          4.36,
          4.18,
          43.25,
          1.56,
          10.53,
          0.92,
          43.38,
          43.38,
          0,
          43.02,
          43.02,
          43.02,
          1.04,
          1.56,
          2.08,
          2.08,
          40.87,
          40.87,
          3.66,
          37.62,
          15.96,
          37.21,
          15.3,
          12.84,
          8.15,
          32.06,
          0.91,
          0,
          0,
          2.73,
          0,
          10.95,
          3.87,
          4.69,
          0,
          10.43,
          13.03,
          15.54,
          17.78,
          15.78,
          15.78,
          26.62,
          16.02,
          26.62,
          23.71,
          23.71,
          14.42,
          53.82,
          0,
          13.58,
          8.21,
          15.46,
          4.61,
          10.28,
          14.81,
          4.42,
          10.28,
          7.91,
          24.61,
          0,
          37.4,
          2.37,
          10.42,
          13.98,
          10.68,
          8.3,
          2.82,
          0.5,
          1.06,
          10.62,
          0,
          2.23,
          2.23,
          4.71,
          4.71,
          4.71,
          6.4,
          1.36,
          3.94,
          0.66,
          0.22,
          0.22,
          1.6,
          6.91,
          6.78,
          7.38,
          4.93,
          0.92,
          7.38,
          3.06,
          7.36,
          1.27,
          0,
          2.72,
          8.31,
          3.72,
          9.35,
          14.06,
          14.06,
          6.41,
          11.22,
          16.67,
          12.19,
          0,
          12.83,
          12.73,
          13.98,
          8.48,
          9.68,
          7.43,
          9.48,
          14.07,
          10.57,
          5.79,
          3.43,
          0,
          8.12,
          8.12,
          3.86,
          0,
          3.71,
          2.89,
          0,
          53.74,
          11.9,
          2.66,
          2.66,
          0,
          0,
          3.61,
          12.71,
          9.13,
          8.75,
          25.22,
          4.56,
          0,
          0.36,
          13.06,
          4.03,
          1.99,
          0.99,
          6.72,
          0,
          1.45,
          0.44,
          0,
          2.32,
          14.36,
          14.36,
          15.82,
          30.13,
          0.13,
          3.98,
          0,
          0,
          1.09,
          0,
          19.1,
          0,
          17.03,
          0,
          3.22,
          1.9,
          15.41,
          2.94,
          1.04,
          1.04,
          1.98,
          1.98,
          9.33,
          0,
          0,
          11.54,
          0.6,
          2.32,
          0,
          23.54,
          16.03,
          3.88,
          1,
          1.14,
          16.29,
          2.56,
          18.13,
          0,
          5.06,
          6.71,
          3.1,
          5.62,
          8,
          4.6,
          0,
          17.06,
          0,
          6.14,
          14.52,
          19.88,
          0,
          21.89,
          25.03,
          22.1,
          31.84,
          0,
          1.4,
          0,
          29.97,
          23.96,
          0,
          4.26,
          0.36,
          16.57,
          0.63,
          4.73,
          7,
          9.04,
          0.78,
          0,
          6.72,
          17.62,
          29.1,
          8.53,
          8.26,
          15.27,
          6.51,
          0.7,
          0,
          17.3,
          13.69,
          39.78,
          16.8,
          0,
          13.9,
          7.16,
          9.36,
          15.01,
          7.89,
          20.85,
          15.8,
          3.55,
          0.89,
          11.27,
          14.18,
          4.33,
          29.81,
          5.97,
          0,
          0.31,
          1.58,
          0,
          13.91,
          4.49,
          2.76,
          5.96,
          3.06,
          0,
          27.4,
          2.14,
          0,
          1.71,
          0.93,
          3.04,
          19.65,
          10.71,
          12.45,
          0,
          5.12,
          14.01,
          0,
          0.58,
          0.23,
          3.8,
          18,
          3.38,
          0.11,
          0,
          16.57,
          0,
          3.65,
          20.79,
          0.18,
          12.77,
          30.35,
          0.12,
          0.13,
          14.85,
          14.8,
          0,
          20.54,
          0.16,
          0.9,
          1.82,
          1.06,
          0.32,
          7.21,
          0.16,
          7.54,
          8.35,
          0,
          8.35,
          0,
          9.73,
          22.5,
          8.01,
          12.08,
          1.78,
          6.67,
          15.19,
          0.16,
          3.23,
          0.18,
          5.5,
          0,
          14.39,
          26.43,
          24.58,
          22.56,
          3.09,
          1.58,
          19.46,
          30.32,
          15.88,
          8.88,
          37.16,
          33.82,
          0.39,
          3.68,
          9.98,
          1.05,
          6.77,
          3.74,
          2.51,
          1.54,
          4.3,
          6.48,
          26.92,
          6.71,
          0.11,
          8.37,
          41.04,
          37.49,
          11.82,
          9.03,
          19.75,
          8.53,
          0,
          0,
          6.98,
          18.89,
          10.89,
          3.9,
          1.27,
          1.27,
          8.33,
          17.06,
          17.06,
          7.73,
          3.83,
          3.83,
          1.68,
          1.49,
          7.17,
          7.17,
          10.91,
          0,
          0.27,
          7.18,
          55.45,
          5.25,
          1.73,
          7.18,
          25.69,
          25.69,
          10.32,
          8.55,
          16.77,
          0,
          14.68,
          18.39,
          14.15,
          1.51,
          0,
          2.35,
          5.13,
          1.34,
          10.81,
          19.54,
          2.78,
          3.77,
          0,
          0,
          5.21,
          20.46,
          30.41,
          0,
          5.68,
          25.11,
          0,
          10.03,
          1.08,
          27.77,
          5.24,
          5.05,
          2.78,
          32.07,
          0,
          6.3,
          10.55,
          7.74,
          2.78,
          12.08,
          45.57,
          19.67,
          2.98,
          1.7,
          42.88,
          3.27,
          39.9,
          13.2,
          11.72,
          0.07,
          2.84,
          4.6,
          2.98,
          6.59,
          6.1,
          6.1,
          15.95,
          16.17,
          2.77,
          13.36,
          37.02,
          7.86,
          7.86,
          3.67,
          8.19,
          3.37,
          3.67,
          30.04,
          26.08,
          1.5,
          17.37,
          32.93,
          16.9,
          0,
          0.33,
          2.5,
          11.3,
          1.33,
          8,
          3.94,
          1.33,
          16.9,
          38.27,
          39.32,
          0,
          0,
          0,
          0,
          11,
          0,
          11.85,
          8.93,
          2.8,
          22.73,
          7.85,
          37.28,
          2.18,
          64.49,
          63.53,
          31.31,
          12.46,
          30.02,
          17.58,
          11.27,
          2.5,
          15.33,
          28.12,
          9.49,
          6.96,
          14.62,
          75.15,
          189.74,
          14.57,
          22.63,
          0.02,
          9.06,
          7.81,
          9.73,
          4.4,
          8.82,
          2.89,
          16.2,
          15.38,
          1.34,
          1.34,
          0,
          10.01,
          0,
          0,
          0,
          36.52,
          4.09,
          33.77,
          7.01,
          21.62,
          20.24,
          32.43,
          32.43,
          0,
          4.64,
          0,
          0,
          0,
          19.21,
          7.59,
          2.18,
          3.86,
          0,
          4.2,
          1.14,
          0,
          0.7,
          17.05,
          2.64,
          8.26,
          8.57,
          31.13,
          0,
          3.13,
          0.73,
          30.67,
          7.77,
          2.03,
          5.44,
          16.8,
          1.2,
          5.83,
          3.88,
          8.53,
          12.66,
          0,
          30.75,
          11.05,
          26.69,
          5.44,
          0,
          9.62,
          10.04,
          0,
          14.62,
          5.61,
          0,
          0,
          21.6,
          13.76,
          9.58,
          9.06,
          0,
          0.02,
          16.36,
          8.2,
          33.6,
          0.87,
          6.6,
          2.15,
          7.89,
          2.18,
          0,
          23.32,
          4.68,
          13.81,
          3.61,
          6.04,
          0,
          0,
          53.43,
          2.98,
          0,
          0,
          37.18,
          39.91,
          0,
          0,
          3.06,
          2.39,
          0,
          0.88,
          1.18,
          2.11,
          5.06,
          1.1,
          38.01,
          2.33,
          2.42,
          0.66,
          31.31,
          12.46,
          2.5,
          15.33,
          28.12,
          17.58,
          0,
          36.18,
          10.55,
          10.55,
          6.64,
          0.22,
          6.64,
          1.73,
          8.02,
          20.88,
          28.81,
          16.88,
          0.11,
          6.08,
          3.89,
          7.25,
          10.91,
          19.08,
          13.01,
          16.28,
          17.45,
          5.55,
          23.74,
          18.56,
          0.38,
          11.81,
          5.41,
          1.04,
          36.77,
          60.49,
          5.03,
          16.95,
          4.86,
          4.51,
          17.71,
          18.85,
          24.51,
          4.01,
          4.07,
          4.07,
          19.37,
          10.91,
          0,
          7.51,
          10.91,
          0,
          82.71,
          20.4,
          45.26,
          4.2,
          4.26,
          20.91,
          1.89,
          4.44,
          22.47,
          20.06,
          56.58,
          73.67,
          53.78,
          86.14,
          53.12,
          13,
          10.2,
          11.05,
          4.32,
          7.14,
          11.55,
          2.46,
          11.93,
          2.77,
          19.98,
          1.79,
          10.04,
          14.45,
          33.4,
          17.34,
          5.58,
          6.89,
          0.47,
          0,
          79.11,
          0.03,
          58.01,
          5.16,
          54.28,
          78.86,
          54.07,
          0,
          0,
          0,
          14.65,
          53.43,
          52.82,
          84.36,
          4.68,
          83.81,
          18.07,
          51.67,
          6.08,
          4.99,
          1.15,
          74.49,
          5.09,
          73.61,
          2.29,
          75.72,
          10.15,
          1.63,
          11.26,
          14.98,
          22.73,
          17.03,
          13.62,
          14.94,
          16.67,
          12.48,
          12.48,
          5.46,
          0.94,
          3.47,
          7.47,
          12.03,
          13.6,
          16.28,
          6.11,
          14.9,
          5.48,
          0.39,
          18.59,
          11.53,
          10.43,
          29.25,
          16.28,
          5.28,
          6.23,
          13.44,
          16.89,
          0.71,
          6.11,
          14.9,
          7.9,
          8.03,
          2.18,
          3.87,
          14.14,
          55.74,
          6.86,
          5.09,
          5.09,
          4.74,
          36.05,
          4.21,
          4.21,
          4.21,
          31.98,
          29.85,
          5.7,
          22.31,
          22.31,
          8.48,
          0,
          7.01,
          0,
          0,
          27.94,
          0.33,
          0.99,
          23.55,
          7.22,
          6.94,
          0,
          5.6,
          0.76,
          1.45,
          0.76,
          7.46,
          0,
          9.29,
          0,
          29.15,
          0,
          27.15,
          20.02,
          0,
          0,
          0,
          0,
          3.61,
          0,
          1.49,
          0,
          2.89,
          8.55,
          11.95,
          0.25,
          1.99,
          5.25,
          1.4,
          0,
          8.26,
          8.26,
          2.09,
          2.09,
          2.09,
          4.97,
          20.16,
          1.54,
          9.4,
          7.87,
          3.63,
          12.81,
          12.74,
          44.58,
          0.35,
          43.94,
          0.21,
          0,
          8.24,
          10.95,
          0,
          0.31,
          12.96,
          0.27,
          7,
          4.72,
          19.03,
          0,
          19.01,
          2.3,
          6.37,
          0,
          7.91,
          16.87,
          1.11,
          0.28,
          12.02,
          12.65,
          0,
          3.94,
          0,
          0.83,
          0.69,
          0.08,
          6.04,
          2.44,
          0.16,
          11.16,
          10.92,
          0.92,
          4.04,
          5.84,
          0,
          2.53,
          1.37,
          2.44,
          0.19,
          4.36,
          1.89,
          4.09,
          20.01,
          2.91,
          0.93,
          3.31,
          1.92,
          1.75,
          4.65,
          4.98,
          2.67,
          5.32,
          0,
          3.52,
          16.64,
          9.68,
          2.22,
          9.59,
          6.68,
          0.86,
          2.03,
          4.43,
          7.7,
          34.14,
          0,
          5.44,
          13.15,
          4.41,
          5.34,
          0.06,
          1.8,
          3.93,
          4.67,
          5.82,
          6.95,
          0,
          1.69,
          3.32,
          1.94,
          2.54,
          2.13,
          7.38,
          3.32,
          2.13,
          6.56,
          3.86,
          9.71,
          9.71,
          11.55,
          13.66,
          10.76,
          0.62,
          13.66,
          5.19,
          0.87,
          10.76,
          0.62,
          22.79,
          5.77,
          4.04,
          1.24,
          14.32,
          0.36,
          12.22,
          3.5,
          2.7,
          4.69,
          13.16,
          7.26,
          0.23,
          0.58,
          1.44,
          1.77,
          2.45,
          2.79,
          3.86,
          3.84,
          16.78,
          19.49,
          3.83,
          3.82,
          3.82,
          3.8,
          3.8,
          14.64,
          0.1,
          7.68,
          41.15,
          5.01,
          0,
          22.05,
          0,
          1.81,
          2.93,
          0.63,
          5.78,
          0,
          14.59,
          32.9,
          10.46,
          0.23,
          2.36,
          7.53,
          28.64,
          10.11,
          11.59,
          6.69,
          0,
          0.48,
          7.93,
          1.83,
          3.88,
          9.63,
          0.37,
          3.51,
          1.03,
          1.03,
          0.78,
          0,
          0.31,
          29.35,
          9.2,
          3.43,
          1.29,
          0.96,
          4.43,
          7.98,
          0.5,
          5.44,
          4.57,
          25.43,
          5.5,
          5.75,
          6.36,
          29.43,
          3.55,
          5.71,
          3.33,
          5.8,
          5.71,
          5.8,
          0,
          9.47,
          0,
          17.83,
          0,
          1.73,
          12.43,
          5.59,
          16.05,
          8.74,
          3.3,
          1.39,
          0,
          11.56,
          2.47,
          17.31,
          24.9,
          9.17,
          21.63,
          9.25,
          9.47,
          3.61,
          5.72,
          3.61,
          9.74,
          8.77,
          8.77,
          8.9,
          8.9,
          8.74,
          8.74,
          24.47,
          2.78,
          8.53,
          3.01,
          3.01,
          3.01,
          8.87,
          8.87,
          18.93,
          23.34,
          13.71,
          20.2,
          23.98,
          3.46,
          13.25,
          1,
          9.27,
          9.71,
          3.46,
          23.55,
          0,
          6,
          0.41,
          23.55,
          0,
          9.71,
          3.02,
          5.19,
          14.32,
          15.3,
          0.36,
          17.05,
          0,
          10.24,
          11.87,
          9.48,
          22.75,
          10.39,
          9.48,
          4.72,
          1.29,
          1.47,
          0,
          10.24,
          10.39,
          13.02,
          0,
          11.87,
          19.82,
          12.29,
          0.17,
          0,
          29.62,
          8.82,
          7.73,
          1.31,
          4.44,
          1.31,
          4.44,
          17.89,
          1.31,
          1.31,
          16.52,
          2.98,
          5.08,
          0,
          16.2,
          12.17,
          7.02,
          14.54,
          3.92,
          7.02,
          3.92,
          14.65,
          0.91,
          39.26,
          4.7,
          7.73,
          0,
          0,
          0,
          0,
          0,
          14.68,
          0,
          4.69,
          6.05,
          0.13,
          0.85,
          0.85,
          0.36,
          0,
          0.85,
          0.36,
          0,
          29.49,
          0,
          2.15,
          32.9,
          29.31,
          15.64,
          27.8,
          15.13,
          0,
          10.25,
          5.39,
          10.25,
          5.39,
          1.37,
          41.89,
          1.98,
          21.37,
          3.92,
          0,
          7.28,
          0,
          27.99,
          27.89,
          4.07,
          68.03,
          27.11,
          64.99,
          3.03,
          10.77,
          33.09,
          1.69,
          1.79,
          34.53,
          5.33,
          9.47,
          2.12,
          3.52,
          108.65,
          3.67,
          9.68,
          3.97,
          3.67,
          5.33,
          50.65,
          3.52,
          3.26,
          6.62,
          0,
          0,
          0.15,
          4.19,
          0.11,
          5.39,
          8.92,
          1.48,
          16.52,
          31.78,
          0.46,
          5.97,
          2.18,
          3.96,
          83,
          3.8,
          5.24,
          86.64,
          24.45,
          0,
          5.6,
          1.08,
          0.22,
          4.16,
          15.17,
          11.69,
          5.6,
          11.03,
          5.8,
          7.95,
          19.29,
          10.95,
          9.41,
          10.93,
          8.12,
          8.67,
          0.41,
          0,
          6.22,
          0,
          4.63,
          3.27,
          31.22,
          3.42,
          0,
          13.24,
          12.54,
          5.48,
          0.35,
          9.9,
          0.48,
          14.68,
          7.13,
          7.11,
          5.8,
          4.33,
          11.84,
          18.5,
          16.57,
          3.51,
          23.33,
          38.62,
          31.95,
          31.95,
          8.04,
          11.58,
          12.68,
          5.11,
          12.68,
          29.35,
          19.23,
          15.75,
          12.66,
          2.23,
          8.4,
          33.86,
          9.11,
          0,
          4.01,
          18.15,
          3.32,
          14.94,
          26.41,
          18.15,
          6.98,
          10.74,
          11.92,
          19.58,
          4.21,
          10.29,
          10.16,
          9.57,
          9.37,
          8.78,
          8.9,
          8.52,
          8.64,
          8.64,
          26.03,
          26.03,
          5.49,
          6,
          2.07,
          8.61,
          4.09,
          12.92,
          12.92,
          2.48,
          21.95,
          3.91,
          1.27,
          4.57,
          6.79,
          1.39,
          6.6,
          31.64,
          31.64,
          6.89,
          24.51,
          19.53,
          22.89,
          22.89,
          5.94,
          5.94,
          40.46,
          5.58,
          0.79,
          5.69,
          22.08,
          32.53,
          0,
          28.69,
          27.46,
          6.3,
          28.01,
          0,
          0,
          15.63,
          6.28,
          0.74,
          0.74,
          4.88,
          14.37,
          40.93,
          8.06,
          13.7,
          4.32,
          14.29,
          40.24,
          1.03,
          8.04,
          7.71,
          5.31,
          2.64,
          12.86,
          98.27,
          5.88,
          5.88,
          7.55,
          8.57,
          5.31,
          27.7,
          4.39,
          4.39,
          4.39,
          4.39,
          26.93,
          26.54,
          25.38,
          24.83,
          0.24,
          7.52,
          9.45,
          1.64,
          0.72,
          11.76,
          2.93,
          24.28,
          4.88,
          3.27,
          17.63,
          0.23,
          4.06,
          2.98,
          9.41,
          4.32,
          0.47,
          46,
          47.26,
          2.98,
          7.93,
          11.93,
          17.35,
          0,
          1.29,
          3.99,
          0,
          30.63,
          4.61,
          0,
          12.59,
          0.1,
          2.92,
          19.09,
          0.83,
          10.26,
          8.15,
          12.42,
          0,
          24.06,
          21.02,
          5.1,
          10.35,
          21.1,
          0,
          7.48,
          11.7,
          4.64,
          0.39,
          4.67,
          15.58,
          33.26,
          10.41,
          10.93,
          9.02,
          12.99,
          8.44,
          13.34,
          3.48,
          20.26,
          2.11,
          1.96,
          0,
          15.96,
          1.03,
          14.04,
          2.17,
          0,
          2.36,
          2.36,
          2.21,
          0,
          6.56,
          0,
          2.07,
          0.63,
          0,
          0,
          14.73,
          0,
          0,
          0,
          0,
          9.42,
          2.4,
          9.81,
          6.47,
          0,
          12.55,
          0,
          19.04,
          2.4,
          2.4,
          18.07,
          23.51,
          6.56,
          12.67,
          7.21,
          7.21,
          0.5,
          16.35,
          19.44,
          2.33,
          0.06,
          7.75,
          0.82,
          0,
          3.08,
          0.49,
          0,
          0,
          28.41,
          4.9,
          1.9,
          17.95,
          7.9,
          0,
          0,
          0,
          0,
          0.66,
          1.83,
          0,
          6,
          1.83,
          1.22,
          20.51,
          0,
          0,
          1.28,
          0,
          20.87,
          26.45,
          1.27,
          27.66,
          2.72,
          3.52,
          0,
          1.25,
          11.46,
          0,
          10.73,
          5.06,
          0.07,
          0.33,
          0.45,
          0.45,
          7.04,
          12.25,
          0.16,
          0,
          12.47,
          0.31,
          6.72,
          17.34,
          0,
          0,
          17.63,
          15.67,
          9.14,
          2,
          1.06,
          19.01,
          4.47,
          4.38,
          0.39,
          2.91,
          3.7,
          3.84,
          9.7,
          3.88,
          29.44,
          7.24,
          4.74,
          3.92,
          3.12,
          28.92,
          29.5,
          29.5,
          4.57,
          0,
          0,
          30.33,
          30.33,
          0,
          0,
          0,
          5.72,
          33.12,
          0,
          3.77,
          8.78,
          9.63,
          9.63,
          3.32,
          0,
          0,
          0,
          8.05,
          0,
          11.61,
          9.62,
          0.96,
          52.35,
          3.46,
          2.74,
          1.75,
          5.98,
          0.55,
          1.62,
          0,
          12.47,
          16.85,
          6.87,
          3.64,
          8.74,
          11.93,
          0.18,
          6.56,
          6.56,
          0,
          0,
          65.78,
          1.07,
          8.43,
          8.33,
          2.79,
          5.82,
          14.73,
          7,
          2.27,
          18.25,
          0.53,
          96.67,
          18.25,
          0,
          4.47,
          3.41,
          16.4,
          4.65,
          7.59,
          3.49,
          4.18,
          0,
          0,
          4.73,
          4.73,
          4.73,
          24.75,
          1.46,
          3.94,
          0.25,
          6.71,
          4.36,
          0,
          3.12,
          0,
          0.38,
          16.17,
          0.1,
          5.37,
          12.01,
          8.02,
          16.5,
          3.31,
          7.42,
          11,
          21.45,
          11.74,
          3.42,
          0,
          24.32,
          10.51,
          2.02,
          31.81,
          0.59,
          9.94,
          12.01,
          7.63,
          0,
          8.8,
          76.35,
          13.75,
          39.37,
          30.03,
          11.04,
          10.28,
          10.17,
          9,
          14.19,
          6.68,
          17.55,
          0,
          34.34,
          34.34,
          4.77,
          0.05,
          0.27,
          0.27,
          0.43,
          0.29,
          23.9,
          22.83
         ],
         "xaxis": "x2",
         "yaxis": "y2"
        }
       ],
       "layout": {
        "barmode": "relative",
        "height": 500,
        "legend": {
         "tracegroupgap": 0
        },
        "template": {
         "data": {
          "bar": [
           {
            "error_x": {
             "color": "#2a3f5f"
            },
            "error_y": {
             "color": "#2a3f5f"
            },
            "marker": {
             "line": {
              "color": "#E5ECF6",
              "width": 0.5
             },
             "pattern": {
              "fillmode": "overlay",
              "size": 10,
              "solidity": 0.2
             }
            },
            "type": "bar"
           }
          ],
          "barpolar": [
           {
            "marker": {
             "line": {
              "color": "#E5ECF6",
              "width": 0.5
             },
             "pattern": {
              "fillmode": "overlay",
              "size": 10,
              "solidity": 0.2
             }
            },
            "type": "barpolar"
           }
          ],
          "carpet": [
           {
            "aaxis": {
             "endlinecolor": "#2a3f5f",
             "gridcolor": "white",
             "linecolor": "white",
             "minorgridcolor": "white",
             "startlinecolor": "#2a3f5f"
            },
            "baxis": {
             "endlinecolor": "#2a3f5f",
             "gridcolor": "white",
             "linecolor": "white",
             "minorgridcolor": "white",
             "startlinecolor": "#2a3f5f"
            },
            "type": "carpet"
           }
          ],
          "choropleth": [
           {
            "colorbar": {
             "outlinewidth": 0,
             "ticks": ""
            },
            "type": "choropleth"
           }
          ],
          "contour": [
           {
            "colorbar": {
             "outlinewidth": 0,
             "ticks": ""
            },
            "colorscale": [
             [
              0,
              "#0d0887"
             ],
             [
              0.1111111111111111,
              "#46039f"
             ],
             [
              0.2222222222222222,
              "#7201a8"
             ],
             [
              0.3333333333333333,
              "#9c179e"
             ],
             [
              0.4444444444444444,
              "#bd3786"
             ],
             [
              0.5555555555555556,
              "#d8576b"
             ],
             [
              0.6666666666666666,
              "#ed7953"
             ],
             [
              0.7777777777777778,
              "#fb9f3a"
             ],
             [
              0.8888888888888888,
              "#fdca26"
             ],
             [
              1,
              "#f0f921"
             ]
            ],
            "type": "contour"
           }
          ],
          "contourcarpet": [
           {
            "colorbar": {
             "outlinewidth": 0,
             "ticks": ""
            },
            "type": "contourcarpet"
           }
          ],
          "heatmap": [
           {
            "colorbar": {
             "outlinewidth": 0,
             "ticks": ""
            },
            "colorscale": [
             [
              0,
              "#0d0887"
             ],
             [
              0.1111111111111111,
              "#46039f"
             ],
             [
              0.2222222222222222,
              "#7201a8"
             ],
             [
              0.3333333333333333,
              "#9c179e"
             ],
             [
              0.4444444444444444,
              "#bd3786"
             ],
             [
              0.5555555555555556,
              "#d8576b"
             ],
             [
              0.6666666666666666,
              "#ed7953"
             ],
             [
              0.7777777777777778,
              "#fb9f3a"
             ],
             [
              0.8888888888888888,
              "#fdca26"
             ],
             [
              1,
              "#f0f921"
             ]
            ],
            "type": "heatmap"
           }
          ],
          "heatmapgl": [
           {
            "colorbar": {
             "outlinewidth": 0,
             "ticks": ""
            },
            "colorscale": [
             [
              0,
              "#0d0887"
             ],
             [
              0.1111111111111111,
              "#46039f"
             ],
             [
              0.2222222222222222,
              "#7201a8"
             ],
             [
              0.3333333333333333,
              "#9c179e"
             ],
             [
              0.4444444444444444,
              "#bd3786"
             ],
             [
              0.5555555555555556,
              "#d8576b"
             ],
             [
              0.6666666666666666,
              "#ed7953"
             ],
             [
              0.7777777777777778,
              "#fb9f3a"
             ],
             [
              0.8888888888888888,
              "#fdca26"
             ],
             [
              1,
              "#f0f921"
             ]
            ],
            "type": "heatmapgl"
           }
          ],
          "histogram": [
           {
            "marker": {
             "pattern": {
              "fillmode": "overlay",
              "size": 10,
              "solidity": 0.2
             }
            },
            "type": "histogram"
           }
          ],
          "histogram2d": [
           {
            "colorbar": {
             "outlinewidth": 0,
             "ticks": ""
            },
            "colorscale": [
             [
              0,
              "#0d0887"
             ],
             [
              0.1111111111111111,
              "#46039f"
             ],
             [
              0.2222222222222222,
              "#7201a8"
             ],
             [
              0.3333333333333333,
              "#9c179e"
             ],
             [
              0.4444444444444444,
              "#bd3786"
             ],
             [
              0.5555555555555556,
              "#d8576b"
             ],
             [
              0.6666666666666666,
              "#ed7953"
             ],
             [
              0.7777777777777778,
              "#fb9f3a"
             ],
             [
              0.8888888888888888,
              "#fdca26"
             ],
             [
              1,
              "#f0f921"
             ]
            ],
            "type": "histogram2d"
           }
          ],
          "histogram2dcontour": [
           {
            "colorbar": {
             "outlinewidth": 0,
             "ticks": ""
            },
            "colorscale": [
             [
              0,
              "#0d0887"
             ],
             [
              0.1111111111111111,
              "#46039f"
             ],
             [
              0.2222222222222222,
              "#7201a8"
             ],
             [
              0.3333333333333333,
              "#9c179e"
             ],
             [
              0.4444444444444444,
              "#bd3786"
             ],
             [
              0.5555555555555556,
              "#d8576b"
             ],
             [
              0.6666666666666666,
              "#ed7953"
             ],
             [
              0.7777777777777778,
              "#fb9f3a"
             ],
             [
              0.8888888888888888,
              "#fdca26"
             ],
             [
              1,
              "#f0f921"
             ]
            ],
            "type": "histogram2dcontour"
           }
          ],
          "mesh3d": [
           {
            "colorbar": {
             "outlinewidth": 0,
             "ticks": ""
            },
            "type": "mesh3d"
           }
          ],
          "parcoords": [
           {
            "line": {
             "colorbar": {
              "outlinewidth": 0,
              "ticks": ""
             }
            },
            "type": "parcoords"
           }
          ],
          "pie": [
           {
            "automargin": true,
            "type": "pie"
           }
          ],
          "scatter": [
           {
            "fillpattern": {
             "fillmode": "overlay",
             "size": 10,
             "solidity": 0.2
            },
            "type": "scatter"
           }
          ],
          "scatter3d": [
           {
            "line": {
             "colorbar": {
              "outlinewidth": 0,
              "ticks": ""
             }
            },
            "marker": {
             "colorbar": {
              "outlinewidth": 0,
              "ticks": ""
             }
            },
            "type": "scatter3d"
           }
          ],
          "scattercarpet": [
           {
            "marker": {
             "colorbar": {
              "outlinewidth": 0,
              "ticks": ""
             }
            },
            "type": "scattercarpet"
           }
          ],
          "scattergeo": [
           {
            "marker": {
             "colorbar": {
              "outlinewidth": 0,
              "ticks": ""
             }
            },
            "type": "scattergeo"
           }
          ],
          "scattergl": [
           {
            "marker": {
             "colorbar": {
              "outlinewidth": 0,
              "ticks": ""
             }
            },
            "type": "scattergl"
           }
          ],
          "scattermapbox": [
           {
            "marker": {
             "colorbar": {
              "outlinewidth": 0,
              "ticks": ""
             }
            },
            "type": "scattermapbox"
           }
          ],
          "scatterpolar": [
           {
            "marker": {
             "colorbar": {
              "outlinewidth": 0,
              "ticks": ""
             }
            },
            "type": "scatterpolar"
           }
          ],
          "scatterpolargl": [
           {
            "marker": {
             "colorbar": {
              "outlinewidth": 0,
              "ticks": ""
             }
            },
            "type": "scatterpolargl"
           }
          ],
          "scatterternary": [
           {
            "marker": {
             "colorbar": {
              "outlinewidth": 0,
              "ticks": ""
             }
            },
            "type": "scatterternary"
           }
          ],
          "surface": [
           {
            "colorbar": {
             "outlinewidth": 0,
             "ticks": ""
            },
            "colorscale": [
             [
              0,
              "#0d0887"
             ],
             [
              0.1111111111111111,
              "#46039f"
             ],
             [
              0.2222222222222222,
              "#7201a8"
             ],
             [
              0.3333333333333333,
              "#9c179e"
             ],
             [
              0.4444444444444444,
              "#bd3786"
             ],
             [
              0.5555555555555556,
              "#d8576b"
             ],
             [
              0.6666666666666666,
              "#ed7953"
             ],
             [
              0.7777777777777778,
              "#fb9f3a"
             ],
             [
              0.8888888888888888,
              "#fdca26"
             ],
             [
              1,
              "#f0f921"
             ]
            ],
            "type": "surface"
           }
          ],
          "table": [
           {
            "cells": {
             "fill": {
              "color": "#EBF0F8"
             },
             "line": {
              "color": "white"
             }
            },
            "header": {
             "fill": {
              "color": "#C8D4E3"
             },
             "line": {
              "color": "white"
             }
            },
            "type": "table"
           }
          ]
         },
         "layout": {
          "annotationdefaults": {
           "arrowcolor": "#2a3f5f",
           "arrowhead": 0,
           "arrowwidth": 1
          },
          "autotypenumbers": "strict",
          "coloraxis": {
           "colorbar": {
            "outlinewidth": 0,
            "ticks": ""
           }
          },
          "colorscale": {
           "diverging": [
            [
             0,
             "#8e0152"
            ],
            [
             0.1,
             "#c51b7d"
            ],
            [
             0.2,
             "#de77ae"
            ],
            [
             0.3,
             "#f1b6da"
            ],
            [
             0.4,
             "#fde0ef"
            ],
            [
             0.5,
             "#f7f7f7"
            ],
            [
             0.6,
             "#e6f5d0"
            ],
            [
             0.7,
             "#b8e186"
            ],
            [
             0.8,
             "#7fbc41"
            ],
            [
             0.9,
             "#4d9221"
            ],
            [
             1,
             "#276419"
            ]
           ],
           "sequential": [
            [
             0,
             "#0d0887"
            ],
            [
             0.1111111111111111,
             "#46039f"
            ],
            [
             0.2222222222222222,
             "#7201a8"
            ],
            [
             0.3333333333333333,
             "#9c179e"
            ],
            [
             0.4444444444444444,
             "#bd3786"
            ],
            [
             0.5555555555555556,
             "#d8576b"
            ],
            [
             0.6666666666666666,
             "#ed7953"
            ],
            [
             0.7777777777777778,
             "#fb9f3a"
            ],
            [
             0.8888888888888888,
             "#fdca26"
            ],
            [
             1,
             "#f0f921"
            ]
           ],
           "sequentialminus": [
            [
             0,
             "#0d0887"
            ],
            [
             0.1111111111111111,
             "#46039f"
            ],
            [
             0.2222222222222222,
             "#7201a8"
            ],
            [
             0.3333333333333333,
             "#9c179e"
            ],
            [
             0.4444444444444444,
             "#bd3786"
            ],
            [
             0.5555555555555556,
             "#d8576b"
            ],
            [
             0.6666666666666666,
             "#ed7953"
            ],
            [
             0.7777777777777778,
             "#fb9f3a"
            ],
            [
             0.8888888888888888,
             "#fdca26"
            ],
            [
             1,
             "#f0f921"
            ]
           ]
          },
          "colorway": [
           "#636efa",
           "#EF553B",
           "#00cc96",
           "#ab63fa",
           "#FFA15A",
           "#19d3f3",
           "#FF6692",
           "#B6E880",
           "#FF97FF",
           "#FECB52"
          ],
          "font": {
           "color": "#2a3f5f"
          },
          "geo": {
           "bgcolor": "white",
           "lakecolor": "white",
           "landcolor": "#E5ECF6",
           "showlakes": true,
           "showland": true,
           "subunitcolor": "white"
          },
          "hoverlabel": {
           "align": "left"
          },
          "hovermode": "closest",
          "mapbox": {
           "style": "light"
          },
          "paper_bgcolor": "white",
          "plot_bgcolor": "#E5ECF6",
          "polar": {
           "angularaxis": {
            "gridcolor": "white",
            "linecolor": "white",
            "ticks": ""
           },
           "bgcolor": "#E5ECF6",
           "radialaxis": {
            "gridcolor": "white",
            "linecolor": "white",
            "ticks": ""
           }
          },
          "scene": {
           "xaxis": {
            "backgroundcolor": "#E5ECF6",
            "gridcolor": "white",
            "gridwidth": 2,
            "linecolor": "white",
            "showbackground": true,
            "ticks": "",
            "zerolinecolor": "white"
           },
           "yaxis": {
            "backgroundcolor": "#E5ECF6",
            "gridcolor": "white",
            "gridwidth": 2,
            "linecolor": "white",
            "showbackground": true,
            "ticks": "",
            "zerolinecolor": "white"
           },
           "zaxis": {
            "backgroundcolor": "#E5ECF6",
            "gridcolor": "white",
            "gridwidth": 2,
            "linecolor": "white",
            "showbackground": true,
            "ticks": "",
            "zerolinecolor": "white"
           }
          },
          "shapedefaults": {
           "line": {
            "color": "#2a3f5f"
           }
          },
          "ternary": {
           "aaxis": {
            "gridcolor": "white",
            "linecolor": "white",
            "ticks": ""
           },
           "baxis": {
            "gridcolor": "white",
            "linecolor": "white",
            "ticks": ""
           },
           "bgcolor": "#E5ECF6",
           "caxis": {
            "gridcolor": "white",
            "linecolor": "white",
            "ticks": ""
           }
          },
          "title": {
           "x": 0.05
          },
          "xaxis": {
           "automargin": true,
           "gridcolor": "white",
           "linecolor": "white",
           "ticks": "",
           "title": {
            "standoff": 15
           },
           "zerolinecolor": "white",
           "zerolinewidth": 2
          },
          "yaxis": {
           "automargin": true,
           "gridcolor": "white",
           "linecolor": "white",
           "ticks": "",
           "title": {
            "standoff": 15
           },
           "zerolinecolor": "white",
           "zerolinewidth": 2
          }
         }
        },
        "title": {
         "text": "alpha Distribution"
        },
        "width": 800,
        "xaxis": {
         "anchor": "y",
         "domain": [
          0,
          1
         ],
         "title": {
          "text": "alpha"
         }
        },
        "xaxis2": {
         "anchor": "y2",
         "domain": [
          0,
          1
         ],
         "matches": "x",
         "showgrid": true,
         "showticklabels": false
        },
        "yaxis": {
         "anchor": "x",
         "domain": [
          0,
          0.8316
         ],
         "title": {
          "text": "count"
         }
        },
        "yaxis2": {
         "anchor": "x2",
         "domain": [
          0.8416,
          1
         ],
         "matches": "y2",
         "showgrid": false,
         "showline": false,
         "showticklabels": false,
         "ticks": ""
        }
       }
      }
     },
     "metadata": {},
     "output_type": "display_data"
    }
   ],
   "source": [
    "fig = px.histogram(purchasesFilt, x=\"alpha\",\n",
    " height= graphDims['height'] , width= graphDims['width'], \n",
    " nbins=50, \n",
    " marginal=\"box\", \n",
    " title=\"alpha Distribution\")\n",
    "fig.show()"
   ]
  },
  {
   "cell_type": "code",
   "execution_count": 67,
   "metadata": {},
   "outputs": [
    {
     "data": {
      "application/vnd.plotly.v1+json": {
       "config": {
        "plotlyServerURL": "https://plot.ly"
       },
       "data": [
        {
         "alignmentgroup": "True",
         "hovertemplate": "variable=alpha<br>senator=%{x}<br>value=%{y}<extra></extra>",
         "legendgroup": "alpha",
         "marker": {
          "color": "#636efa",
          "pattern": {
           "shape": ""
          }
         },
         "name": "alpha",
         "offsetgroup": "alpha",
         "orientation": "v",
         "showlegend": true,
         "textposition": "auto",
         "type": "bar",
         "x": [
          "Ron L Wyden",
          "Pat Roberts",
          "Kelly Loeffler",
          "Thomas R Carper",
          "Patrick J Toomey",
          "Angus S King, Jr.",
          "James M Inhofe",
          "Thomas H Tuberville",
          "David A Perdue , Jr",
          "A. Mitchell Mcconnell, Jr."
         ],
         "xaxis": "x",
         "y": [
          18.56103260869565,
          18.508044444444447,
          15.309230769230767,
          15.230658682634731,
          15.203,
          14.768571428571429,
          14.238589743589742,
          14.18813829787234,
          12.108384845463608,
          11.085263157894737
         ],
         "yaxis": "y"
        }
       ],
       "layout": {
        "barmode": "relative",
        "height": 500,
        "legend": {
         "title": {
          "text": "variable"
         },
         "tracegroupgap": 0
        },
        "template": {
         "data": {
          "bar": [
           {
            "error_x": {
             "color": "#2a3f5f"
            },
            "error_y": {
             "color": "#2a3f5f"
            },
            "marker": {
             "line": {
              "color": "#E5ECF6",
              "width": 0.5
             },
             "pattern": {
              "fillmode": "overlay",
              "size": 10,
              "solidity": 0.2
             }
            },
            "type": "bar"
           }
          ],
          "barpolar": [
           {
            "marker": {
             "line": {
              "color": "#E5ECF6",
              "width": 0.5
             },
             "pattern": {
              "fillmode": "overlay",
              "size": 10,
              "solidity": 0.2
             }
            },
            "type": "barpolar"
           }
          ],
          "carpet": [
           {
            "aaxis": {
             "endlinecolor": "#2a3f5f",
             "gridcolor": "white",
             "linecolor": "white",
             "minorgridcolor": "white",
             "startlinecolor": "#2a3f5f"
            },
            "baxis": {
             "endlinecolor": "#2a3f5f",
             "gridcolor": "white",
             "linecolor": "white",
             "minorgridcolor": "white",
             "startlinecolor": "#2a3f5f"
            },
            "type": "carpet"
           }
          ],
          "choropleth": [
           {
            "colorbar": {
             "outlinewidth": 0,
             "ticks": ""
            },
            "type": "choropleth"
           }
          ],
          "contour": [
           {
            "colorbar": {
             "outlinewidth": 0,
             "ticks": ""
            },
            "colorscale": [
             [
              0,
              "#0d0887"
             ],
             [
              0.1111111111111111,
              "#46039f"
             ],
             [
              0.2222222222222222,
              "#7201a8"
             ],
             [
              0.3333333333333333,
              "#9c179e"
             ],
             [
              0.4444444444444444,
              "#bd3786"
             ],
             [
              0.5555555555555556,
              "#d8576b"
             ],
             [
              0.6666666666666666,
              "#ed7953"
             ],
             [
              0.7777777777777778,
              "#fb9f3a"
             ],
             [
              0.8888888888888888,
              "#fdca26"
             ],
             [
              1,
              "#f0f921"
             ]
            ],
            "type": "contour"
           }
          ],
          "contourcarpet": [
           {
            "colorbar": {
             "outlinewidth": 0,
             "ticks": ""
            },
            "type": "contourcarpet"
           }
          ],
          "heatmap": [
           {
            "colorbar": {
             "outlinewidth": 0,
             "ticks": ""
            },
            "colorscale": [
             [
              0,
              "#0d0887"
             ],
             [
              0.1111111111111111,
              "#46039f"
             ],
             [
              0.2222222222222222,
              "#7201a8"
             ],
             [
              0.3333333333333333,
              "#9c179e"
             ],
             [
              0.4444444444444444,
              "#bd3786"
             ],
             [
              0.5555555555555556,
              "#d8576b"
             ],
             [
              0.6666666666666666,
              "#ed7953"
             ],
             [
              0.7777777777777778,
              "#fb9f3a"
             ],
             [
              0.8888888888888888,
              "#fdca26"
             ],
             [
              1,
              "#f0f921"
             ]
            ],
            "type": "heatmap"
           }
          ],
          "heatmapgl": [
           {
            "colorbar": {
             "outlinewidth": 0,
             "ticks": ""
            },
            "colorscale": [
             [
              0,
              "#0d0887"
             ],
             [
              0.1111111111111111,
              "#46039f"
             ],
             [
              0.2222222222222222,
              "#7201a8"
             ],
             [
              0.3333333333333333,
              "#9c179e"
             ],
             [
              0.4444444444444444,
              "#bd3786"
             ],
             [
              0.5555555555555556,
              "#d8576b"
             ],
             [
              0.6666666666666666,
              "#ed7953"
             ],
             [
              0.7777777777777778,
              "#fb9f3a"
             ],
             [
              0.8888888888888888,
              "#fdca26"
             ],
             [
              1,
              "#f0f921"
             ]
            ],
            "type": "heatmapgl"
           }
          ],
          "histogram": [
           {
            "marker": {
             "pattern": {
              "fillmode": "overlay",
              "size": 10,
              "solidity": 0.2
             }
            },
            "type": "histogram"
           }
          ],
          "histogram2d": [
           {
            "colorbar": {
             "outlinewidth": 0,
             "ticks": ""
            },
            "colorscale": [
             [
              0,
              "#0d0887"
             ],
             [
              0.1111111111111111,
              "#46039f"
             ],
             [
              0.2222222222222222,
              "#7201a8"
             ],
             [
              0.3333333333333333,
              "#9c179e"
             ],
             [
              0.4444444444444444,
              "#bd3786"
             ],
             [
              0.5555555555555556,
              "#d8576b"
             ],
             [
              0.6666666666666666,
              "#ed7953"
             ],
             [
              0.7777777777777778,
              "#fb9f3a"
             ],
             [
              0.8888888888888888,
              "#fdca26"
             ],
             [
              1,
              "#f0f921"
             ]
            ],
            "type": "histogram2d"
           }
          ],
          "histogram2dcontour": [
           {
            "colorbar": {
             "outlinewidth": 0,
             "ticks": ""
            },
            "colorscale": [
             [
              0,
              "#0d0887"
             ],
             [
              0.1111111111111111,
              "#46039f"
             ],
             [
              0.2222222222222222,
              "#7201a8"
             ],
             [
              0.3333333333333333,
              "#9c179e"
             ],
             [
              0.4444444444444444,
              "#bd3786"
             ],
             [
              0.5555555555555556,
              "#d8576b"
             ],
             [
              0.6666666666666666,
              "#ed7953"
             ],
             [
              0.7777777777777778,
              "#fb9f3a"
             ],
             [
              0.8888888888888888,
              "#fdca26"
             ],
             [
              1,
              "#f0f921"
             ]
            ],
            "type": "histogram2dcontour"
           }
          ],
          "mesh3d": [
           {
            "colorbar": {
             "outlinewidth": 0,
             "ticks": ""
            },
            "type": "mesh3d"
           }
          ],
          "parcoords": [
           {
            "line": {
             "colorbar": {
              "outlinewidth": 0,
              "ticks": ""
             }
            },
            "type": "parcoords"
           }
          ],
          "pie": [
           {
            "automargin": true,
            "type": "pie"
           }
          ],
          "scatter": [
           {
            "fillpattern": {
             "fillmode": "overlay",
             "size": 10,
             "solidity": 0.2
            },
            "type": "scatter"
           }
          ],
          "scatter3d": [
           {
            "line": {
             "colorbar": {
              "outlinewidth": 0,
              "ticks": ""
             }
            },
            "marker": {
             "colorbar": {
              "outlinewidth": 0,
              "ticks": ""
             }
            },
            "type": "scatter3d"
           }
          ],
          "scattercarpet": [
           {
            "marker": {
             "colorbar": {
              "outlinewidth": 0,
              "ticks": ""
             }
            },
            "type": "scattercarpet"
           }
          ],
          "scattergeo": [
           {
            "marker": {
             "colorbar": {
              "outlinewidth": 0,
              "ticks": ""
             }
            },
            "type": "scattergeo"
           }
          ],
          "scattergl": [
           {
            "marker": {
             "colorbar": {
              "outlinewidth": 0,
              "ticks": ""
             }
            },
            "type": "scattergl"
           }
          ],
          "scattermapbox": [
           {
            "marker": {
             "colorbar": {
              "outlinewidth": 0,
              "ticks": ""
             }
            },
            "type": "scattermapbox"
           }
          ],
          "scatterpolar": [
           {
            "marker": {
             "colorbar": {
              "outlinewidth": 0,
              "ticks": ""
             }
            },
            "type": "scatterpolar"
           }
          ],
          "scatterpolargl": [
           {
            "marker": {
             "colorbar": {
              "outlinewidth": 0,
              "ticks": ""
             }
            },
            "type": "scatterpolargl"
           }
          ],
          "scatterternary": [
           {
            "marker": {
             "colorbar": {
              "outlinewidth": 0,
              "ticks": ""
             }
            },
            "type": "scatterternary"
           }
          ],
          "surface": [
           {
            "colorbar": {
             "outlinewidth": 0,
             "ticks": ""
            },
            "colorscale": [
             [
              0,
              "#0d0887"
             ],
             [
              0.1111111111111111,
              "#46039f"
             ],
             [
              0.2222222222222222,
              "#7201a8"
             ],
             [
              0.3333333333333333,
              "#9c179e"
             ],
             [
              0.4444444444444444,
              "#bd3786"
             ],
             [
              0.5555555555555556,
              "#d8576b"
             ],
             [
              0.6666666666666666,
              "#ed7953"
             ],
             [
              0.7777777777777778,
              "#fb9f3a"
             ],
             [
              0.8888888888888888,
              "#fdca26"
             ],
             [
              1,
              "#f0f921"
             ]
            ],
            "type": "surface"
           }
          ],
          "table": [
           {
            "cells": {
             "fill": {
              "color": "#EBF0F8"
             },
             "line": {
              "color": "white"
             }
            },
            "header": {
             "fill": {
              "color": "#C8D4E3"
             },
             "line": {
              "color": "white"
             }
            },
            "type": "table"
           }
          ]
         },
         "layout": {
          "annotationdefaults": {
           "arrowcolor": "#2a3f5f",
           "arrowhead": 0,
           "arrowwidth": 1
          },
          "autotypenumbers": "strict",
          "coloraxis": {
           "colorbar": {
            "outlinewidth": 0,
            "ticks": ""
           }
          },
          "colorscale": {
           "diverging": [
            [
             0,
             "#8e0152"
            ],
            [
             0.1,
             "#c51b7d"
            ],
            [
             0.2,
             "#de77ae"
            ],
            [
             0.3,
             "#f1b6da"
            ],
            [
             0.4,
             "#fde0ef"
            ],
            [
             0.5,
             "#f7f7f7"
            ],
            [
             0.6,
             "#e6f5d0"
            ],
            [
             0.7,
             "#b8e186"
            ],
            [
             0.8,
             "#7fbc41"
            ],
            [
             0.9,
             "#4d9221"
            ],
            [
             1,
             "#276419"
            ]
           ],
           "sequential": [
            [
             0,
             "#0d0887"
            ],
            [
             0.1111111111111111,
             "#46039f"
            ],
            [
             0.2222222222222222,
             "#7201a8"
            ],
            [
             0.3333333333333333,
             "#9c179e"
            ],
            [
             0.4444444444444444,
             "#bd3786"
            ],
            [
             0.5555555555555556,
             "#d8576b"
            ],
            [
             0.6666666666666666,
             "#ed7953"
            ],
            [
             0.7777777777777778,
             "#fb9f3a"
            ],
            [
             0.8888888888888888,
             "#fdca26"
            ],
            [
             1,
             "#f0f921"
            ]
           ],
           "sequentialminus": [
            [
             0,
             "#0d0887"
            ],
            [
             0.1111111111111111,
             "#46039f"
            ],
            [
             0.2222222222222222,
             "#7201a8"
            ],
            [
             0.3333333333333333,
             "#9c179e"
            ],
            [
             0.4444444444444444,
             "#bd3786"
            ],
            [
             0.5555555555555556,
             "#d8576b"
            ],
            [
             0.6666666666666666,
             "#ed7953"
            ],
            [
             0.7777777777777778,
             "#fb9f3a"
            ],
            [
             0.8888888888888888,
             "#fdca26"
            ],
            [
             1,
             "#f0f921"
            ]
           ]
          },
          "colorway": [
           "#636efa",
           "#EF553B",
           "#00cc96",
           "#ab63fa",
           "#FFA15A",
           "#19d3f3",
           "#FF6692",
           "#B6E880",
           "#FF97FF",
           "#FECB52"
          ],
          "font": {
           "color": "#2a3f5f"
          },
          "geo": {
           "bgcolor": "white",
           "lakecolor": "white",
           "landcolor": "#E5ECF6",
           "showlakes": true,
           "showland": true,
           "subunitcolor": "white"
          },
          "hoverlabel": {
           "align": "left"
          },
          "hovermode": "closest",
          "mapbox": {
           "style": "light"
          },
          "paper_bgcolor": "white",
          "plot_bgcolor": "#E5ECF6",
          "polar": {
           "angularaxis": {
            "gridcolor": "white",
            "linecolor": "white",
            "ticks": ""
           },
           "bgcolor": "#E5ECF6",
           "radialaxis": {
            "gridcolor": "white",
            "linecolor": "white",
            "ticks": ""
           }
          },
          "scene": {
           "xaxis": {
            "backgroundcolor": "#E5ECF6",
            "gridcolor": "white",
            "gridwidth": 2,
            "linecolor": "white",
            "showbackground": true,
            "ticks": "",
            "zerolinecolor": "white"
           },
           "yaxis": {
            "backgroundcolor": "#E5ECF6",
            "gridcolor": "white",
            "gridwidth": 2,
            "linecolor": "white",
            "showbackground": true,
            "ticks": "",
            "zerolinecolor": "white"
           },
           "zaxis": {
            "backgroundcolor": "#E5ECF6",
            "gridcolor": "white",
            "gridwidth": 2,
            "linecolor": "white",
            "showbackground": true,
            "ticks": "",
            "zerolinecolor": "white"
           }
          },
          "shapedefaults": {
           "line": {
            "color": "#2a3f5f"
           }
          },
          "ternary": {
           "aaxis": {
            "gridcolor": "white",
            "linecolor": "white",
            "ticks": ""
           },
           "baxis": {
            "gridcolor": "white",
            "linecolor": "white",
            "ticks": ""
           },
           "bgcolor": "#E5ECF6",
           "caxis": {
            "gridcolor": "white",
            "linecolor": "white",
            "ticks": ""
           }
          },
          "title": {
           "x": 0.05
          },
          "xaxis": {
           "automargin": true,
           "gridcolor": "white",
           "linecolor": "white",
           "ticks": "",
           "title": {
            "standoff": 15
           },
           "zerolinecolor": "white",
           "zerolinewidth": 2
          },
          "yaxis": {
           "automargin": true,
           "gridcolor": "white",
           "linecolor": "white",
           "ticks": "",
           "title": {
            "standoff": 15
           },
           "zerolinecolor": "white",
           "zerolinewidth": 2
          }
         }
        },
        "title": {
         "text": "Top Performing Senators"
        },
        "width": 800,
        "xaxis": {
         "anchor": "y",
         "domain": [
          0,
          1
         ],
         "title": {
          "text": "senator"
         }
        },
        "yaxis": {
         "anchor": "x",
         "domain": [
          0,
          1
         ],
         "title": {
          "text": "Mean Alpha"
         }
        }
       }
      }
     },
     "metadata": {},
     "output_type": "display_data"
    }
   ],
   "source": [
    "# alphaSer = purchasesFilt.groupby('senatorId')['alpha'].mean()\n",
    "alphaSer = purchasesFilt.groupby('senator')['alpha'].mean()\n",
    "alphaSer =alphaSer.sort_values(ascending=False).head(10)\n",
    "fig = px.bar(alphaSer,\n",
    " height= graphDims['height'] , width= graphDims['width'], \n",
    " title=\"Top Performing Senators\", \n",
    " )\n",
    "\n",
    "\n",
    "fig.update_layout(yaxis_title=\"Mean Alpha\")\n",
    "fig.show()"
   ]
  },
  {
   "cell_type": "code",
   "execution_count": 68,
   "metadata": {},
   "outputs": [
    {
     "data": {
      "text/plain": [
       "Index(['$1,000,001 - $5,000,000', '$1,001 - $15,000', '$100,001 - $250,000',\n",
       "       '$15,001 - $50,000', '$25,000,001 - $50,000,000', '$250,001 - $500,000',\n",
       "       '$5,000,001 - $25,000,000', '$50,001 - $100,000'],\n",
       "      dtype='object', name='amount')"
      ]
     },
     "execution_count": 68,
     "metadata": {},
     "output_type": "execute_result"
    }
   ],
   "source": [
    "amountSer = purchasesFilt.groupby('amount')['alpha'].mean()\n",
    "amountSer.index"
   ]
  },
  {
   "cell_type": "code",
   "execution_count": 69,
   "metadata": {},
   "outputs": [
    {
     "data": {
      "text/plain": [
       "{'$25,000,001 - $50,000,000': 0.59,\n",
       " '$5,000,001 - $25,000,000': 12.19,\n",
       " '$1,000,001 - $5,000,000': 3.1666666666666665,\n",
       " '$250,001 - $500,000': 8.377142857142857,\n",
       " '$100,001 - $250,000': 18.626666666666665,\n",
       " '$50,001 - $100,000': 13.73,\n",
       " '$15,001 - $50,000': 14.358378378378378,\n",
       " '$1,001 - $15,000': 11.548437213565535}"
      ]
     },
     "execution_count": 69,
     "metadata": {},
     "output_type": "execute_result"
    }
   ],
   "source": [
    "amountDict = dict(amountSer)\n",
    "\n",
    "orderedKeys = ['$25,000,001 - $50,000,000', \n",
    "    '$5,000,001 - $25,000,000',\n",
    "'$1,000,001 - $5,000,000', \n",
    "'$250,001 - $500,000',\n",
    "'$100,001 - $250,000',\n",
    "'$50,001 - $100,000',\n",
    "'$15,001 - $50,000',\n",
    "'$1,001 - $15,000'\n",
    "]\n",
    "\n",
    "valuesOrdered =  [amountDict[key] for key in orderedKeys]\n",
    "amountDict_ordered = dict(zip(orderedKeys, valuesOrdered))\n",
    "amountDict_ordered"
   ]
  },
  {
   "cell_type": "code",
   "execution_count": 70,
   "metadata": {},
   "outputs": [
    {
     "data": {
      "application/vnd.plotly.v1+json": {
       "config": {
        "plotlyServerURL": "https://plot.ly"
       },
       "data": [
        {
         "alignmentgroup": "True",
         "hovertemplate": "variable=mean alpha<br>index=%{x}<br>value=%{y}<extra></extra>",
         "legendgroup": "mean alpha",
         "marker": {
          "color": "#636efa",
          "pattern": {
           "shape": ""
          }
         },
         "name": "mean alpha",
         "offsetgroup": "mean alpha",
         "orientation": "v",
         "showlegend": true,
         "textposition": "auto",
         "type": "bar",
         "x": [
          "$25,000,001 - $50,000,000",
          "$5,000,001 - $25,000,000",
          "$1,000,001 - $5,000,000",
          "$250,001 - $500,000",
          "$100,001 - $250,000",
          "$50,001 - $100,000",
          "$15,001 - $50,000",
          "$1,001 - $15,000"
         ],
         "xaxis": "x",
         "y": [
          0.59,
          12.19,
          3.1666666666666665,
          8.377142857142857,
          18.626666666666665,
          13.73,
          14.358378378378378,
          11.548437213565535
         ],
         "yaxis": "y"
        }
       ],
       "layout": {
        "barmode": "relative",
        "legend": {
         "title": {
          "text": "variable"
         },
         "tracegroupgap": 0
        },
        "margin": {
         "t": 60
        },
        "template": {
         "data": {
          "bar": [
           {
            "error_x": {
             "color": "#2a3f5f"
            },
            "error_y": {
             "color": "#2a3f5f"
            },
            "marker": {
             "line": {
              "color": "#E5ECF6",
              "width": 0.5
             },
             "pattern": {
              "fillmode": "overlay",
              "size": 10,
              "solidity": 0.2
             }
            },
            "type": "bar"
           }
          ],
          "barpolar": [
           {
            "marker": {
             "line": {
              "color": "#E5ECF6",
              "width": 0.5
             },
             "pattern": {
              "fillmode": "overlay",
              "size": 10,
              "solidity": 0.2
             }
            },
            "type": "barpolar"
           }
          ],
          "carpet": [
           {
            "aaxis": {
             "endlinecolor": "#2a3f5f",
             "gridcolor": "white",
             "linecolor": "white",
             "minorgridcolor": "white",
             "startlinecolor": "#2a3f5f"
            },
            "baxis": {
             "endlinecolor": "#2a3f5f",
             "gridcolor": "white",
             "linecolor": "white",
             "minorgridcolor": "white",
             "startlinecolor": "#2a3f5f"
            },
            "type": "carpet"
           }
          ],
          "choropleth": [
           {
            "colorbar": {
             "outlinewidth": 0,
             "ticks": ""
            },
            "type": "choropleth"
           }
          ],
          "contour": [
           {
            "colorbar": {
             "outlinewidth": 0,
             "ticks": ""
            },
            "colorscale": [
             [
              0,
              "#0d0887"
             ],
             [
              0.1111111111111111,
              "#46039f"
             ],
             [
              0.2222222222222222,
              "#7201a8"
             ],
             [
              0.3333333333333333,
              "#9c179e"
             ],
             [
              0.4444444444444444,
              "#bd3786"
             ],
             [
              0.5555555555555556,
              "#d8576b"
             ],
             [
              0.6666666666666666,
              "#ed7953"
             ],
             [
              0.7777777777777778,
              "#fb9f3a"
             ],
             [
              0.8888888888888888,
              "#fdca26"
             ],
             [
              1,
              "#f0f921"
             ]
            ],
            "type": "contour"
           }
          ],
          "contourcarpet": [
           {
            "colorbar": {
             "outlinewidth": 0,
             "ticks": ""
            },
            "type": "contourcarpet"
           }
          ],
          "heatmap": [
           {
            "colorbar": {
             "outlinewidth": 0,
             "ticks": ""
            },
            "colorscale": [
             [
              0,
              "#0d0887"
             ],
             [
              0.1111111111111111,
              "#46039f"
             ],
             [
              0.2222222222222222,
              "#7201a8"
             ],
             [
              0.3333333333333333,
              "#9c179e"
             ],
             [
              0.4444444444444444,
              "#bd3786"
             ],
             [
              0.5555555555555556,
              "#d8576b"
             ],
             [
              0.6666666666666666,
              "#ed7953"
             ],
             [
              0.7777777777777778,
              "#fb9f3a"
             ],
             [
              0.8888888888888888,
              "#fdca26"
             ],
             [
              1,
              "#f0f921"
             ]
            ],
            "type": "heatmap"
           }
          ],
          "heatmapgl": [
           {
            "colorbar": {
             "outlinewidth": 0,
             "ticks": ""
            },
            "colorscale": [
             [
              0,
              "#0d0887"
             ],
             [
              0.1111111111111111,
              "#46039f"
             ],
             [
              0.2222222222222222,
              "#7201a8"
             ],
             [
              0.3333333333333333,
              "#9c179e"
             ],
             [
              0.4444444444444444,
              "#bd3786"
             ],
             [
              0.5555555555555556,
              "#d8576b"
             ],
             [
              0.6666666666666666,
              "#ed7953"
             ],
             [
              0.7777777777777778,
              "#fb9f3a"
             ],
             [
              0.8888888888888888,
              "#fdca26"
             ],
             [
              1,
              "#f0f921"
             ]
            ],
            "type": "heatmapgl"
           }
          ],
          "histogram": [
           {
            "marker": {
             "pattern": {
              "fillmode": "overlay",
              "size": 10,
              "solidity": 0.2
             }
            },
            "type": "histogram"
           }
          ],
          "histogram2d": [
           {
            "colorbar": {
             "outlinewidth": 0,
             "ticks": ""
            },
            "colorscale": [
             [
              0,
              "#0d0887"
             ],
             [
              0.1111111111111111,
              "#46039f"
             ],
             [
              0.2222222222222222,
              "#7201a8"
             ],
             [
              0.3333333333333333,
              "#9c179e"
             ],
             [
              0.4444444444444444,
              "#bd3786"
             ],
             [
              0.5555555555555556,
              "#d8576b"
             ],
             [
              0.6666666666666666,
              "#ed7953"
             ],
             [
              0.7777777777777778,
              "#fb9f3a"
             ],
             [
              0.8888888888888888,
              "#fdca26"
             ],
             [
              1,
              "#f0f921"
             ]
            ],
            "type": "histogram2d"
           }
          ],
          "histogram2dcontour": [
           {
            "colorbar": {
             "outlinewidth": 0,
             "ticks": ""
            },
            "colorscale": [
             [
              0,
              "#0d0887"
             ],
             [
              0.1111111111111111,
              "#46039f"
             ],
             [
              0.2222222222222222,
              "#7201a8"
             ],
             [
              0.3333333333333333,
              "#9c179e"
             ],
             [
              0.4444444444444444,
              "#bd3786"
             ],
             [
              0.5555555555555556,
              "#d8576b"
             ],
             [
              0.6666666666666666,
              "#ed7953"
             ],
             [
              0.7777777777777778,
              "#fb9f3a"
             ],
             [
              0.8888888888888888,
              "#fdca26"
             ],
             [
              1,
              "#f0f921"
             ]
            ],
            "type": "histogram2dcontour"
           }
          ],
          "mesh3d": [
           {
            "colorbar": {
             "outlinewidth": 0,
             "ticks": ""
            },
            "type": "mesh3d"
           }
          ],
          "parcoords": [
           {
            "line": {
             "colorbar": {
              "outlinewidth": 0,
              "ticks": ""
             }
            },
            "type": "parcoords"
           }
          ],
          "pie": [
           {
            "automargin": true,
            "type": "pie"
           }
          ],
          "scatter": [
           {
            "fillpattern": {
             "fillmode": "overlay",
             "size": 10,
             "solidity": 0.2
            },
            "type": "scatter"
           }
          ],
          "scatter3d": [
           {
            "line": {
             "colorbar": {
              "outlinewidth": 0,
              "ticks": ""
             }
            },
            "marker": {
             "colorbar": {
              "outlinewidth": 0,
              "ticks": ""
             }
            },
            "type": "scatter3d"
           }
          ],
          "scattercarpet": [
           {
            "marker": {
             "colorbar": {
              "outlinewidth": 0,
              "ticks": ""
             }
            },
            "type": "scattercarpet"
           }
          ],
          "scattergeo": [
           {
            "marker": {
             "colorbar": {
              "outlinewidth": 0,
              "ticks": ""
             }
            },
            "type": "scattergeo"
           }
          ],
          "scattergl": [
           {
            "marker": {
             "colorbar": {
              "outlinewidth": 0,
              "ticks": ""
             }
            },
            "type": "scattergl"
           }
          ],
          "scattermapbox": [
           {
            "marker": {
             "colorbar": {
              "outlinewidth": 0,
              "ticks": ""
             }
            },
            "type": "scattermapbox"
           }
          ],
          "scatterpolar": [
           {
            "marker": {
             "colorbar": {
              "outlinewidth": 0,
              "ticks": ""
             }
            },
            "type": "scatterpolar"
           }
          ],
          "scatterpolargl": [
           {
            "marker": {
             "colorbar": {
              "outlinewidth": 0,
              "ticks": ""
             }
            },
            "type": "scatterpolargl"
           }
          ],
          "scatterternary": [
           {
            "marker": {
             "colorbar": {
              "outlinewidth": 0,
              "ticks": ""
             }
            },
            "type": "scatterternary"
           }
          ],
          "surface": [
           {
            "colorbar": {
             "outlinewidth": 0,
             "ticks": ""
            },
            "colorscale": [
             [
              0,
              "#0d0887"
             ],
             [
              0.1111111111111111,
              "#46039f"
             ],
             [
              0.2222222222222222,
              "#7201a8"
             ],
             [
              0.3333333333333333,
              "#9c179e"
             ],
             [
              0.4444444444444444,
              "#bd3786"
             ],
             [
              0.5555555555555556,
              "#d8576b"
             ],
             [
              0.6666666666666666,
              "#ed7953"
             ],
             [
              0.7777777777777778,
              "#fb9f3a"
             ],
             [
              0.8888888888888888,
              "#fdca26"
             ],
             [
              1,
              "#f0f921"
             ]
            ],
            "type": "surface"
           }
          ],
          "table": [
           {
            "cells": {
             "fill": {
              "color": "#EBF0F8"
             },
             "line": {
              "color": "white"
             }
            },
            "header": {
             "fill": {
              "color": "#C8D4E3"
             },
             "line": {
              "color": "white"
             }
            },
            "type": "table"
           }
          ]
         },
         "layout": {
          "annotationdefaults": {
           "arrowcolor": "#2a3f5f",
           "arrowhead": 0,
           "arrowwidth": 1
          },
          "autotypenumbers": "strict",
          "coloraxis": {
           "colorbar": {
            "outlinewidth": 0,
            "ticks": ""
           }
          },
          "colorscale": {
           "diverging": [
            [
             0,
             "#8e0152"
            ],
            [
             0.1,
             "#c51b7d"
            ],
            [
             0.2,
             "#de77ae"
            ],
            [
             0.3,
             "#f1b6da"
            ],
            [
             0.4,
             "#fde0ef"
            ],
            [
             0.5,
             "#f7f7f7"
            ],
            [
             0.6,
             "#e6f5d0"
            ],
            [
             0.7,
             "#b8e186"
            ],
            [
             0.8,
             "#7fbc41"
            ],
            [
             0.9,
             "#4d9221"
            ],
            [
             1,
             "#276419"
            ]
           ],
           "sequential": [
            [
             0,
             "#0d0887"
            ],
            [
             0.1111111111111111,
             "#46039f"
            ],
            [
             0.2222222222222222,
             "#7201a8"
            ],
            [
             0.3333333333333333,
             "#9c179e"
            ],
            [
             0.4444444444444444,
             "#bd3786"
            ],
            [
             0.5555555555555556,
             "#d8576b"
            ],
            [
             0.6666666666666666,
             "#ed7953"
            ],
            [
             0.7777777777777778,
             "#fb9f3a"
            ],
            [
             0.8888888888888888,
             "#fdca26"
            ],
            [
             1,
             "#f0f921"
            ]
           ],
           "sequentialminus": [
            [
             0,
             "#0d0887"
            ],
            [
             0.1111111111111111,
             "#46039f"
            ],
            [
             0.2222222222222222,
             "#7201a8"
            ],
            [
             0.3333333333333333,
             "#9c179e"
            ],
            [
             0.4444444444444444,
             "#bd3786"
            ],
            [
             0.5555555555555556,
             "#d8576b"
            ],
            [
             0.6666666666666666,
             "#ed7953"
            ],
            [
             0.7777777777777778,
             "#fb9f3a"
            ],
            [
             0.8888888888888888,
             "#fdca26"
            ],
            [
             1,
             "#f0f921"
            ]
           ]
          },
          "colorway": [
           "#636efa",
           "#EF553B",
           "#00cc96",
           "#ab63fa",
           "#FFA15A",
           "#19d3f3",
           "#FF6692",
           "#B6E880",
           "#FF97FF",
           "#FECB52"
          ],
          "font": {
           "color": "#2a3f5f"
          },
          "geo": {
           "bgcolor": "white",
           "lakecolor": "white",
           "landcolor": "#E5ECF6",
           "showlakes": true,
           "showland": true,
           "subunitcolor": "white"
          },
          "hoverlabel": {
           "align": "left"
          },
          "hovermode": "closest",
          "mapbox": {
           "style": "light"
          },
          "paper_bgcolor": "white",
          "plot_bgcolor": "#E5ECF6",
          "polar": {
           "angularaxis": {
            "gridcolor": "white",
            "linecolor": "white",
            "ticks": ""
           },
           "bgcolor": "#E5ECF6",
           "radialaxis": {
            "gridcolor": "white",
            "linecolor": "white",
            "ticks": ""
           }
          },
          "scene": {
           "xaxis": {
            "backgroundcolor": "#E5ECF6",
            "gridcolor": "white",
            "gridwidth": 2,
            "linecolor": "white",
            "showbackground": true,
            "ticks": "",
            "zerolinecolor": "white"
           },
           "yaxis": {
            "backgroundcolor": "#E5ECF6",
            "gridcolor": "white",
            "gridwidth": 2,
            "linecolor": "white",
            "showbackground": true,
            "ticks": "",
            "zerolinecolor": "white"
           },
           "zaxis": {
            "backgroundcolor": "#E5ECF6",
            "gridcolor": "white",
            "gridwidth": 2,
            "linecolor": "white",
            "showbackground": true,
            "ticks": "",
            "zerolinecolor": "white"
           }
          },
          "shapedefaults": {
           "line": {
            "color": "#2a3f5f"
           }
          },
          "ternary": {
           "aaxis": {
            "gridcolor": "white",
            "linecolor": "white",
            "ticks": ""
           },
           "baxis": {
            "gridcolor": "white",
            "linecolor": "white",
            "ticks": ""
           },
           "bgcolor": "#E5ECF6",
           "caxis": {
            "gridcolor": "white",
            "linecolor": "white",
            "ticks": ""
           }
          },
          "title": {
           "x": 0.05
          },
          "xaxis": {
           "automargin": true,
           "gridcolor": "white",
           "linecolor": "white",
           "ticks": "",
           "title": {
            "standoff": 15
           },
           "zerolinecolor": "white",
           "zerolinewidth": 2
          },
          "yaxis": {
           "automargin": true,
           "gridcolor": "white",
           "linecolor": "white",
           "ticks": "",
           "title": {
            "standoff": 15
           },
           "zerolinecolor": "white",
           "zerolinewidth": 2
          }
         }
        },
        "title": {
         "text": "Mean Alpha by Purchase Amount"
        },
        "xaxis": {
         "anchor": "y",
         "domain": [
          0,
          1
         ],
         "title": {
          "text": "purchase value"
         }
        },
        "yaxis": {
         "anchor": "x",
         "domain": [
          0,
          1
         ],
         "title": {
          "text": "mean alpha"
         }
        }
       }
      }
     },
     "metadata": {},
     "output_type": "display_data"
    }
   ],
   "source": [
    "amountSer_ordered = pd.Series(amountDict_ordered)\n",
    "amountFrame_ordered = pd.DataFrame(amountSer_ordered)\n",
    "amountFrame_ordered.columns =[\"mean alpha\"]\n",
    "\n",
    "fig = px.bar(amountFrame_ordered)\n",
    "\n",
    "fig.update_layout(xaxis_title=\"purchase value\", yaxis_title=\"mean alpha\", title=\"Mean Alpha by Purchase Amount\")\n",
    "\n",
    "fig.show()\n",
    "\n"
   ]
  },
  {
   "cell_type": "code",
   "execution_count": 71,
   "metadata": {},
   "outputs": [
    {
     "data": {
      "application/vnd.plotly.v1+json": {
       "config": {
        "plotlyServerURL": "https://plot.ly"
       },
       "data": [
        {
         "alignmentgroup": "True",
         "hovertemplate": "variable=count<br>index=%{x}<br>value=%{y}<extra></extra>",
         "legendgroup": "count",
         "marker": {
          "color": "#636efa",
          "pattern": {
           "shape": ""
          }
         },
         "name": "count",
         "offsetgroup": "count",
         "orientation": "v",
         "showlegend": true,
         "textposition": "auto",
         "type": "bar",
         "x": [
          "$25,000,001 - $50,000,000",
          "$5,000,001 - $25,000,000",
          "$1,000,001 - $5,000,000",
          "$250,001 - $500,000",
          "$100,001 - $250,000",
          "$50,001 - $100,000",
          "$15,001 - $50,000",
          "$1,001 - $15,000"
         ],
         "xaxis": "x",
         "y": [
          1,
          1,
          3,
          7,
          75,
          203,
          444,
          2182
         ],
         "yaxis": "y"
        }
       ],
       "layout": {
        "barmode": "relative",
        "legend": {
         "title": {
          "text": "variable"
         },
         "tracegroupgap": 0
        },
        "margin": {
         "t": 60
        },
        "template": {
         "data": {
          "bar": [
           {
            "error_x": {
             "color": "#2a3f5f"
            },
            "error_y": {
             "color": "#2a3f5f"
            },
            "marker": {
             "line": {
              "color": "#E5ECF6",
              "width": 0.5
             },
             "pattern": {
              "fillmode": "overlay",
              "size": 10,
              "solidity": 0.2
             }
            },
            "type": "bar"
           }
          ],
          "barpolar": [
           {
            "marker": {
             "line": {
              "color": "#E5ECF6",
              "width": 0.5
             },
             "pattern": {
              "fillmode": "overlay",
              "size": 10,
              "solidity": 0.2
             }
            },
            "type": "barpolar"
           }
          ],
          "carpet": [
           {
            "aaxis": {
             "endlinecolor": "#2a3f5f",
             "gridcolor": "white",
             "linecolor": "white",
             "minorgridcolor": "white",
             "startlinecolor": "#2a3f5f"
            },
            "baxis": {
             "endlinecolor": "#2a3f5f",
             "gridcolor": "white",
             "linecolor": "white",
             "minorgridcolor": "white",
             "startlinecolor": "#2a3f5f"
            },
            "type": "carpet"
           }
          ],
          "choropleth": [
           {
            "colorbar": {
             "outlinewidth": 0,
             "ticks": ""
            },
            "type": "choropleth"
           }
          ],
          "contour": [
           {
            "colorbar": {
             "outlinewidth": 0,
             "ticks": ""
            },
            "colorscale": [
             [
              0,
              "#0d0887"
             ],
             [
              0.1111111111111111,
              "#46039f"
             ],
             [
              0.2222222222222222,
              "#7201a8"
             ],
             [
              0.3333333333333333,
              "#9c179e"
             ],
             [
              0.4444444444444444,
              "#bd3786"
             ],
             [
              0.5555555555555556,
              "#d8576b"
             ],
             [
              0.6666666666666666,
              "#ed7953"
             ],
             [
              0.7777777777777778,
              "#fb9f3a"
             ],
             [
              0.8888888888888888,
              "#fdca26"
             ],
             [
              1,
              "#f0f921"
             ]
            ],
            "type": "contour"
           }
          ],
          "contourcarpet": [
           {
            "colorbar": {
             "outlinewidth": 0,
             "ticks": ""
            },
            "type": "contourcarpet"
           }
          ],
          "heatmap": [
           {
            "colorbar": {
             "outlinewidth": 0,
             "ticks": ""
            },
            "colorscale": [
             [
              0,
              "#0d0887"
             ],
             [
              0.1111111111111111,
              "#46039f"
             ],
             [
              0.2222222222222222,
              "#7201a8"
             ],
             [
              0.3333333333333333,
              "#9c179e"
             ],
             [
              0.4444444444444444,
              "#bd3786"
             ],
             [
              0.5555555555555556,
              "#d8576b"
             ],
             [
              0.6666666666666666,
              "#ed7953"
             ],
             [
              0.7777777777777778,
              "#fb9f3a"
             ],
             [
              0.8888888888888888,
              "#fdca26"
             ],
             [
              1,
              "#f0f921"
             ]
            ],
            "type": "heatmap"
           }
          ],
          "heatmapgl": [
           {
            "colorbar": {
             "outlinewidth": 0,
             "ticks": ""
            },
            "colorscale": [
             [
              0,
              "#0d0887"
             ],
             [
              0.1111111111111111,
              "#46039f"
             ],
             [
              0.2222222222222222,
              "#7201a8"
             ],
             [
              0.3333333333333333,
              "#9c179e"
             ],
             [
              0.4444444444444444,
              "#bd3786"
             ],
             [
              0.5555555555555556,
              "#d8576b"
             ],
             [
              0.6666666666666666,
              "#ed7953"
             ],
             [
              0.7777777777777778,
              "#fb9f3a"
             ],
             [
              0.8888888888888888,
              "#fdca26"
             ],
             [
              1,
              "#f0f921"
             ]
            ],
            "type": "heatmapgl"
           }
          ],
          "histogram": [
           {
            "marker": {
             "pattern": {
              "fillmode": "overlay",
              "size": 10,
              "solidity": 0.2
             }
            },
            "type": "histogram"
           }
          ],
          "histogram2d": [
           {
            "colorbar": {
             "outlinewidth": 0,
             "ticks": ""
            },
            "colorscale": [
             [
              0,
              "#0d0887"
             ],
             [
              0.1111111111111111,
              "#46039f"
             ],
             [
              0.2222222222222222,
              "#7201a8"
             ],
             [
              0.3333333333333333,
              "#9c179e"
             ],
             [
              0.4444444444444444,
              "#bd3786"
             ],
             [
              0.5555555555555556,
              "#d8576b"
             ],
             [
              0.6666666666666666,
              "#ed7953"
             ],
             [
              0.7777777777777778,
              "#fb9f3a"
             ],
             [
              0.8888888888888888,
              "#fdca26"
             ],
             [
              1,
              "#f0f921"
             ]
            ],
            "type": "histogram2d"
           }
          ],
          "histogram2dcontour": [
           {
            "colorbar": {
             "outlinewidth": 0,
             "ticks": ""
            },
            "colorscale": [
             [
              0,
              "#0d0887"
             ],
             [
              0.1111111111111111,
              "#46039f"
             ],
             [
              0.2222222222222222,
              "#7201a8"
             ],
             [
              0.3333333333333333,
              "#9c179e"
             ],
             [
              0.4444444444444444,
              "#bd3786"
             ],
             [
              0.5555555555555556,
              "#d8576b"
             ],
             [
              0.6666666666666666,
              "#ed7953"
             ],
             [
              0.7777777777777778,
              "#fb9f3a"
             ],
             [
              0.8888888888888888,
              "#fdca26"
             ],
             [
              1,
              "#f0f921"
             ]
            ],
            "type": "histogram2dcontour"
           }
          ],
          "mesh3d": [
           {
            "colorbar": {
             "outlinewidth": 0,
             "ticks": ""
            },
            "type": "mesh3d"
           }
          ],
          "parcoords": [
           {
            "line": {
             "colorbar": {
              "outlinewidth": 0,
              "ticks": ""
             }
            },
            "type": "parcoords"
           }
          ],
          "pie": [
           {
            "automargin": true,
            "type": "pie"
           }
          ],
          "scatter": [
           {
            "fillpattern": {
             "fillmode": "overlay",
             "size": 10,
             "solidity": 0.2
            },
            "type": "scatter"
           }
          ],
          "scatter3d": [
           {
            "line": {
             "colorbar": {
              "outlinewidth": 0,
              "ticks": ""
             }
            },
            "marker": {
             "colorbar": {
              "outlinewidth": 0,
              "ticks": ""
             }
            },
            "type": "scatter3d"
           }
          ],
          "scattercarpet": [
           {
            "marker": {
             "colorbar": {
              "outlinewidth": 0,
              "ticks": ""
             }
            },
            "type": "scattercarpet"
           }
          ],
          "scattergeo": [
           {
            "marker": {
             "colorbar": {
              "outlinewidth": 0,
              "ticks": ""
             }
            },
            "type": "scattergeo"
           }
          ],
          "scattergl": [
           {
            "marker": {
             "colorbar": {
              "outlinewidth": 0,
              "ticks": ""
             }
            },
            "type": "scattergl"
           }
          ],
          "scattermapbox": [
           {
            "marker": {
             "colorbar": {
              "outlinewidth": 0,
              "ticks": ""
             }
            },
            "type": "scattermapbox"
           }
          ],
          "scatterpolar": [
           {
            "marker": {
             "colorbar": {
              "outlinewidth": 0,
              "ticks": ""
             }
            },
            "type": "scatterpolar"
           }
          ],
          "scatterpolargl": [
           {
            "marker": {
             "colorbar": {
              "outlinewidth": 0,
              "ticks": ""
             }
            },
            "type": "scatterpolargl"
           }
          ],
          "scatterternary": [
           {
            "marker": {
             "colorbar": {
              "outlinewidth": 0,
              "ticks": ""
             }
            },
            "type": "scatterternary"
           }
          ],
          "surface": [
           {
            "colorbar": {
             "outlinewidth": 0,
             "ticks": ""
            },
            "colorscale": [
             [
              0,
              "#0d0887"
             ],
             [
              0.1111111111111111,
              "#46039f"
             ],
             [
              0.2222222222222222,
              "#7201a8"
             ],
             [
              0.3333333333333333,
              "#9c179e"
             ],
             [
              0.4444444444444444,
              "#bd3786"
             ],
             [
              0.5555555555555556,
              "#d8576b"
             ],
             [
              0.6666666666666666,
              "#ed7953"
             ],
             [
              0.7777777777777778,
              "#fb9f3a"
             ],
             [
              0.8888888888888888,
              "#fdca26"
             ],
             [
              1,
              "#f0f921"
             ]
            ],
            "type": "surface"
           }
          ],
          "table": [
           {
            "cells": {
             "fill": {
              "color": "#EBF0F8"
             },
             "line": {
              "color": "white"
             }
            },
            "header": {
             "fill": {
              "color": "#C8D4E3"
             },
             "line": {
              "color": "white"
             }
            },
            "type": "table"
           }
          ]
         },
         "layout": {
          "annotationdefaults": {
           "arrowcolor": "#2a3f5f",
           "arrowhead": 0,
           "arrowwidth": 1
          },
          "autotypenumbers": "strict",
          "coloraxis": {
           "colorbar": {
            "outlinewidth": 0,
            "ticks": ""
           }
          },
          "colorscale": {
           "diverging": [
            [
             0,
             "#8e0152"
            ],
            [
             0.1,
             "#c51b7d"
            ],
            [
             0.2,
             "#de77ae"
            ],
            [
             0.3,
             "#f1b6da"
            ],
            [
             0.4,
             "#fde0ef"
            ],
            [
             0.5,
             "#f7f7f7"
            ],
            [
             0.6,
             "#e6f5d0"
            ],
            [
             0.7,
             "#b8e186"
            ],
            [
             0.8,
             "#7fbc41"
            ],
            [
             0.9,
             "#4d9221"
            ],
            [
             1,
             "#276419"
            ]
           ],
           "sequential": [
            [
             0,
             "#0d0887"
            ],
            [
             0.1111111111111111,
             "#46039f"
            ],
            [
             0.2222222222222222,
             "#7201a8"
            ],
            [
             0.3333333333333333,
             "#9c179e"
            ],
            [
             0.4444444444444444,
             "#bd3786"
            ],
            [
             0.5555555555555556,
             "#d8576b"
            ],
            [
             0.6666666666666666,
             "#ed7953"
            ],
            [
             0.7777777777777778,
             "#fb9f3a"
            ],
            [
             0.8888888888888888,
             "#fdca26"
            ],
            [
             1,
             "#f0f921"
            ]
           ],
           "sequentialminus": [
            [
             0,
             "#0d0887"
            ],
            [
             0.1111111111111111,
             "#46039f"
            ],
            [
             0.2222222222222222,
             "#7201a8"
            ],
            [
             0.3333333333333333,
             "#9c179e"
            ],
            [
             0.4444444444444444,
             "#bd3786"
            ],
            [
             0.5555555555555556,
             "#d8576b"
            ],
            [
             0.6666666666666666,
             "#ed7953"
            ],
            [
             0.7777777777777778,
             "#fb9f3a"
            ],
            [
             0.8888888888888888,
             "#fdca26"
            ],
            [
             1,
             "#f0f921"
            ]
           ]
          },
          "colorway": [
           "#636efa",
           "#EF553B",
           "#00cc96",
           "#ab63fa",
           "#FFA15A",
           "#19d3f3",
           "#FF6692",
           "#B6E880",
           "#FF97FF",
           "#FECB52"
          ],
          "font": {
           "color": "#2a3f5f"
          },
          "geo": {
           "bgcolor": "white",
           "lakecolor": "white",
           "landcolor": "#E5ECF6",
           "showlakes": true,
           "showland": true,
           "subunitcolor": "white"
          },
          "hoverlabel": {
           "align": "left"
          },
          "hovermode": "closest",
          "mapbox": {
           "style": "light"
          },
          "paper_bgcolor": "white",
          "plot_bgcolor": "#E5ECF6",
          "polar": {
           "angularaxis": {
            "gridcolor": "white",
            "linecolor": "white",
            "ticks": ""
           },
           "bgcolor": "#E5ECF6",
           "radialaxis": {
            "gridcolor": "white",
            "linecolor": "white",
            "ticks": ""
           }
          },
          "scene": {
           "xaxis": {
            "backgroundcolor": "#E5ECF6",
            "gridcolor": "white",
            "gridwidth": 2,
            "linecolor": "white",
            "showbackground": true,
            "ticks": "",
            "zerolinecolor": "white"
           },
           "yaxis": {
            "backgroundcolor": "#E5ECF6",
            "gridcolor": "white",
            "gridwidth": 2,
            "linecolor": "white",
            "showbackground": true,
            "ticks": "",
            "zerolinecolor": "white"
           },
           "zaxis": {
            "backgroundcolor": "#E5ECF6",
            "gridcolor": "white",
            "gridwidth": 2,
            "linecolor": "white",
            "showbackground": true,
            "ticks": "",
            "zerolinecolor": "white"
           }
          },
          "shapedefaults": {
           "line": {
            "color": "#2a3f5f"
           }
          },
          "ternary": {
           "aaxis": {
            "gridcolor": "white",
            "linecolor": "white",
            "ticks": ""
           },
           "baxis": {
            "gridcolor": "white",
            "linecolor": "white",
            "ticks": ""
           },
           "bgcolor": "#E5ECF6",
           "caxis": {
            "gridcolor": "white",
            "linecolor": "white",
            "ticks": ""
           }
          },
          "title": {
           "x": 0.05
          },
          "xaxis": {
           "automargin": true,
           "gridcolor": "white",
           "linecolor": "white",
           "ticks": "",
           "title": {
            "standoff": 15
           },
           "zerolinecolor": "white",
           "zerolinewidth": 2
          },
          "yaxis": {
           "automargin": true,
           "gridcolor": "white",
           "linecolor": "white",
           "ticks": "",
           "title": {
            "standoff": 15
           },
           "zerolinecolor": "white",
           "zerolinewidth": 2
          }
         }
        },
        "title": {
         "text": "Count by Purchase Amount"
        },
        "xaxis": {
         "anchor": "y",
         "domain": [
          0,
          1
         ],
         "title": {
          "text": "purchase value"
         }
        },
        "yaxis": {
         "anchor": "x",
         "domain": [
          0,
          1
         ],
         "title": {
          "text": "count"
         }
        }
       }
      }
     },
     "metadata": {},
     "output_type": "display_data"
    }
   ],
   "source": [
    "countSer = purchasesFilt.groupby('amount')['alpha'].count()\n",
    "countDict = dict(countSer)\n",
    "valuesOrdered =  [countDict [key] for key in orderedKeys]\n",
    "countDict_ordered = dict(zip(orderedKeys, valuesOrdered))\n",
    "\n",
    "\n",
    "countSer_ordered = pd.Series(countDict_ordered)\n",
    "countFrame_ordered = pd.DataFrame(countSer_ordered)\n",
    "countFrame_ordered.columns =[\"count\"]\n",
    "\n",
    "fig = px.bar(countFrame_ordered)\n",
    "\n",
    "fig.update_layout(xaxis_title=\"purchase value\", yaxis_title=\"count\", title=\"Count by Purchase Amount\")\n",
    "\n",
    "fig.show()\n"
   ]
  },
  {
   "cell_type": "code",
   "execution_count": 72,
   "metadata": {},
   "outputs": [
    {
     "data": {
      "text/html": [
       "<div>\n",
       "<style scoped>\n",
       "    .dataframe tbody tr th:only-of-type {\n",
       "        vertical-align: middle;\n",
       "    }\n",
       "\n",
       "    .dataframe tbody tr th {\n",
       "        vertical-align: top;\n",
       "    }\n",
       "\n",
       "    .dataframe thead th {\n",
       "        text-align: right;\n",
       "    }\n",
       "</style>\n",
       "<table border=\"1\" class=\"dataframe\">\n",
       "  <thead>\n",
       "    <tr style=\"text-align: right;\">\n",
       "      <th></th>\n",
       "      <th>row</th>\n",
       "      <th>senator</th>\n",
       "      <th>senatorId</th>\n",
       "      <th>party</th>\n",
       "    </tr>\n",
       "  </thead>\n",
       "  <tbody>\n",
       "    <tr>\n",
       "      <th>5</th>\n",
       "      <td>6</td>\n",
       "      <td>A. Mitchell Mcconnell, Jr.</td>\n",
       "      <td>105</td>\n",
       "      <td>Republican</td>\n",
       "    </tr>\n",
       "  </tbody>\n",
       "</table>\n",
       "</div>"
      ],
      "text/plain": [
       "   row                     senator  senatorId       party\n",
       "5    6  A. Mitchell Mcconnell, Jr.        105  Republican"
      ]
     },
     "execution_count": 72,
     "metadata": {},
     "output_type": "execute_result"
    }
   ],
   "source": [
    "senators[senators['senator'].str.contains('Mitch')]"
   ]
  },
  {
   "cell_type": "code",
   "execution_count": 73,
   "metadata": {},
   "outputs": [
    {
     "data": {
      "text/html": [
       "<div>\n",
       "<style scoped>\n",
       "    .dataframe tbody tr th:only-of-type {\n",
       "        vertical-align: middle;\n",
       "    }\n",
       "\n",
       "    .dataframe tbody tr th {\n",
       "        vertical-align: top;\n",
       "    }\n",
       "\n",
       "    .dataframe thead th {\n",
       "        text-align: right;\n",
       "    }\n",
       "</style>\n",
       "<table border=\"1\" class=\"dataframe\">\n",
       "  <thead>\n",
       "    <tr style=\"text-align: right;\">\n",
       "      <th></th>\n",
       "      <th>transaction_date</th>\n",
       "      <th>owner</th>\n",
       "      <th>ticker</th>\n",
       "      <th>asset_description</th>\n",
       "      <th>asset_type</th>\n",
       "      <th>type</th>\n",
       "      <th>amount</th>\n",
       "      <th>comment</th>\n",
       "      <th>senator</th>\n",
       "      <th>ptr_link</th>\n",
       "      <th>disclosure_date</th>\n",
       "      <th>id</th>\n",
       "      <th>senatorId</th>\n",
       "      <th>alpha</th>\n",
       "    </tr>\n",
       "  </thead>\n",
       "  <tbody>\n",
       "    <tr>\n",
       "      <th>6557</th>\n",
       "      <td>2017-09-07</td>\n",
       "      <td>Spouse</td>\n",
       "      <td>WFC</td>\n",
       "      <td>Wells Fargo &amp; Company</td>\n",
       "      <td>Stock</td>\n",
       "      <td>Purchase</td>\n",
       "      <td>$1,001 - $15,000</td>\n",
       "      <td>Dividend Reinvestment</td>\n",
       "      <td>A. Mitchell Mcconnell, Jr.</td>\n",
       "      <td>https://efdsearch.senate.gov/search/view/ptr/0...</td>\n",
       "      <td>05/15/2018</td>\n",
       "      <td>4740</td>\n",
       "      <td>105</td>\n",
       "      <td>17.62</td>\n",
       "    </tr>\n",
       "    <tr>\n",
       "      <th>6556</th>\n",
       "      <td>2017-12-05</td>\n",
       "      <td>Spouse</td>\n",
       "      <td>WFC</td>\n",
       "      <td>Wells Fargo &amp; Company</td>\n",
       "      <td>Stock</td>\n",
       "      <td>Purchase</td>\n",
       "      <td>$1,001 - $15,000</td>\n",
       "      <td>Dividend Reinvestment</td>\n",
       "      <td>A. Mitchell Mcconnell, Jr.</td>\n",
       "      <td>https://efdsearch.senate.gov/search/view/ptr/0...</td>\n",
       "      <td>05/15/2018</td>\n",
       "      <td>4739</td>\n",
       "      <td>105</td>\n",
       "      <td>6.72</td>\n",
       "    </tr>\n",
       "  </tbody>\n",
       "</table>\n",
       "</div>"
      ],
      "text/plain": [
       "     transaction_date   owner ticker      asset_description asset_type  \\\n",
       "6557       2017-09-07  Spouse    WFC  Wells Fargo & Company      Stock   \n",
       "6556       2017-12-05  Spouse    WFC  Wells Fargo & Company      Stock   \n",
       "\n",
       "          type            amount                comment  \\\n",
       "6557  Purchase  $1,001 - $15,000  Dividend Reinvestment   \n",
       "6556  Purchase  $1,001 - $15,000  Dividend Reinvestment   \n",
       "\n",
       "                         senator  \\\n",
       "6557  A. Mitchell Mcconnell, Jr.   \n",
       "6556  A. Mitchell Mcconnell, Jr.   \n",
       "\n",
       "                                               ptr_link disclosure_date    id  \\\n",
       "6557  https://efdsearch.senate.gov/search/view/ptr/0...      05/15/2018  4740   \n",
       "6556  https://efdsearch.senate.gov/search/view/ptr/0...      05/15/2018  4739   \n",
       "\n",
       "      senatorId  alpha  \n",
       "6557        105  17.62  \n",
       "6556        105   6.72  "
      ]
     },
     "execution_count": 73,
     "metadata": {},
     "output_type": "execute_result"
    }
   ],
   "source": [
    "purchasesFilt[purchasesFilt['senatorId']==105].sort_values(by=\"transaction_date\").head(2)"
   ]
  },
  {
   "cell_type": "code",
   "execution_count": 74,
   "metadata": {},
   "outputs": [
    {
     "data": {
      "application/vnd.plotly.v1+json": {
       "config": {
        "plotlyServerURL": "https://plot.ly"
       },
       "data": [
        {
         "hovertemplate": "transactionType=Purchase<br>date=%{x}<br>WFC_growth=%{y}<extra></extra>",
         "legendgroup": "Purchase",
         "marker": {
          "color": "#EF553B",
          "symbol": "circle"
         },
         "mode": "markers",
         "name": "Purchase",
         "orientation": "v",
         "showlegend": true,
         "type": "scatter",
         "x": [
          "2017-09-07",
          "2017-12-05",
          "2018-03-05",
          "2018-06-01",
          "2018-09-06"
         ],
         "xaxis": "x",
         "y": [
          100,
          117.27431207450554,
          117.53355141880722,
          112.12577263638103,
          120.77836554716791
         ],
         "yaxis": "y"
        },
        {
         "line": {
          "color": "#EB4E4B"
         },
         "mode": "lines",
         "name": "WFC Growth Rate",
         "type": "scatter",
         "x": [
          "2017-09-01",
          "2017-09-07",
          "2017-09-08",
          "2017-09-15",
          "2017-09-22",
          "2017-09-29",
          "2017-10-06",
          "2017-10-13",
          "2017-10-20",
          "2017-10-27",
          "2017-11-03",
          "2017-11-10",
          "2017-11-17",
          "2017-11-24",
          "2017-12-01",
          "2017-12-05",
          "2017-12-08",
          "2017-12-15",
          "2017-12-22",
          "2017-12-29",
          "2018-01-05",
          "2018-01-12",
          "2018-01-19",
          "2018-01-26",
          "2018-02-02",
          "2018-02-09",
          "2018-02-16",
          "2018-02-23",
          "2018-03-02",
          "2018-03-05",
          "2018-03-09",
          "2018-03-16",
          "2018-03-23",
          "2018-03-29",
          "2018-04-06",
          "2018-04-13",
          "2018-04-20",
          "2018-04-27",
          "2018-05-04",
          "2018-05-11",
          "2018-05-18",
          "2018-05-25",
          "2018-06-01",
          "2018-06-01",
          "2018-06-08",
          "2018-06-15",
          "2018-06-22",
          "2018-06-29",
          "2018-07-06",
          "2018-07-13",
          "2018-07-20",
          "2018-07-27",
          "2018-08-03",
          "2018-08-10",
          "2018-08-17",
          "2018-08-24",
          "2018-08-31",
          "2018-09-06"
         ],
         "y": [
          null,
          100,
          99.6010778108544,
          103.779714312702,
          108.98262492269048,
          110.79075843612625,
          111.65452243653611,
          107.85765233357134,
          110.32862016379444,
          112.23698487987446,
          113.98297037488742,
          108.84524509249276,
          109.5328451609824,
          109.41158643330789,
          113.6794730969506,
          117.27431207450554,
          119.97044130767176,
          121.103123989302,
          124.50140567335977,
          122.72130885996438,
          126.9286829793533,
          126.52425358127121,
          129.90220865779972,
          133.36100288611127,
          130.37018790930662,
          114.21380587188632,
          121.98698095807413,
          120.39963645745615,
          116.81841530563509,
          117.53355141880722,
          118.48706623637008,
          113.7458266203794,
          103.73462195347044,
          106.64436413932503,
          106.27825156463143,
          103.55144884654013,
          106.94973053059789,
          106.54273110167877,
          107.45135382215321,
          111.63372855067284,
          110.0961491926265,
          112.55636962116745,
          112.12577263638103,
          112.12577263638103,
          114.15562971930258,
          112.72038431640351,
          110.58819327833467,
          113.66358563359437,
          114.58599306492196,
          113.4995709383583,
          115.65232222312339,
          120.20361319634067,
          120.61364993443084,
          119.89030307338975,
          121.56315950913077,
          121.21199984112536,
          120.77836554716791,
          120.77836554716791
         ]
        },
        {
         "line": {
          "color": "#349FEB"
         },
         "mode": "lines",
         "name": "SPY Growth Rate",
         "type": "scatter",
         "x": [
          "2017-09-01",
          "2017-09-07",
          "2017-09-08",
          "2017-09-15",
          "2017-09-22",
          "2017-09-29",
          "2017-10-06",
          "2017-10-13",
          "2017-10-20",
          "2017-10-27",
          "2017-11-03",
          "2017-11-10",
          "2017-11-17",
          "2017-11-24",
          "2017-12-01",
          "2017-12-05",
          "2017-12-08",
          "2017-12-15",
          "2017-12-22",
          "2017-12-29",
          "2018-01-05",
          "2018-01-12",
          "2018-01-19",
          "2018-01-26",
          "2018-02-02",
          "2018-02-09",
          "2018-02-16",
          "2018-02-23",
          "2018-03-02",
          "2018-03-05",
          "2018-03-09",
          "2018-03-16",
          "2018-03-23",
          "2018-03-29",
          "2018-04-06",
          "2018-04-13",
          "2018-04-20",
          "2018-04-27",
          "2018-05-04",
          "2018-05-11",
          "2018-05-18",
          "2018-05-25",
          "2018-06-01",
          "2018-06-01",
          "2018-06-08",
          "2018-06-15",
          "2018-06-22",
          "2018-06-29",
          "2018-07-06",
          "2018-07-13",
          "2018-07-20",
          "2018-07-27",
          "2018-08-03",
          "2018-08-10",
          "2018-08-17",
          "2018-08-24",
          "2018-08-31",
          "2018-09-06"
         ],
         "y": [
          null,
          100,
          99.92705725006785,
          101.48509764204425,
          101.58691554613686,
          102.31589266409962,
          103.59467758340334,
          103.83090577780925,
          104.71058937919561,
          104.9549434682587,
          105.25631203131,
          105.10969069711295,
          105.01604309147346,
          106.03417772860374,
          107.7039380711676,
          107.94828581683129,
          108.13154662607906,
          109.08915888934182,
          109.49847308032558,
          109.23244993884327,
          111.91759188318909,
          113.75955014641202,
          114.77879487844082,
          117.30430517637889,
          112.7485201166323,
          107.03845838140046,
          111.7907302381858,
          112.44564182451902,
          110.14112921897913,
          111.8585475213865,
          114.14843859126297,
          112.68582195676369,
          106.04878657746836,
          108.14469014967764,
          106.73509164753186,
          108.96660441254484,
          109.56663290709503,
          109.54607394957436,
          109.32414377746144,
          112.13099652648144,
          111.50636832897996,
          111.8433487363759,
          112.43924767790358,
          112.43924767790358,
          114.32556533327153,
          114.40180665090215,
          113.41519870888995,
          111.98690620865302,
          113.6959195068287,
          115.41732146407189,
          115.4544874412745,
          116.17276324441546,
          117.07269497675091,
          116.89108345135239,
          117.67538769905757,
          118.68677295920482,
          119.84264817134398,
          119.84264817134398
         ]
        }
       ],
       "layout": {
        "height": 500,
        "legend": {
         "title": {
          "text": "transactionType"
         },
         "tracegroupgap": 0
        },
        "template": {
         "data": {
          "bar": [
           {
            "error_x": {
             "color": "#2a3f5f"
            },
            "error_y": {
             "color": "#2a3f5f"
            },
            "marker": {
             "line": {
              "color": "#E5ECF6",
              "width": 0.5
             },
             "pattern": {
              "fillmode": "overlay",
              "size": 10,
              "solidity": 0.2
             }
            },
            "type": "bar"
           }
          ],
          "barpolar": [
           {
            "marker": {
             "line": {
              "color": "#E5ECF6",
              "width": 0.5
             },
             "pattern": {
              "fillmode": "overlay",
              "size": 10,
              "solidity": 0.2
             }
            },
            "type": "barpolar"
           }
          ],
          "carpet": [
           {
            "aaxis": {
             "endlinecolor": "#2a3f5f",
             "gridcolor": "white",
             "linecolor": "white",
             "minorgridcolor": "white",
             "startlinecolor": "#2a3f5f"
            },
            "baxis": {
             "endlinecolor": "#2a3f5f",
             "gridcolor": "white",
             "linecolor": "white",
             "minorgridcolor": "white",
             "startlinecolor": "#2a3f5f"
            },
            "type": "carpet"
           }
          ],
          "choropleth": [
           {
            "colorbar": {
             "outlinewidth": 0,
             "ticks": ""
            },
            "type": "choropleth"
           }
          ],
          "contour": [
           {
            "colorbar": {
             "outlinewidth": 0,
             "ticks": ""
            },
            "colorscale": [
             [
              0,
              "#0d0887"
             ],
             [
              0.1111111111111111,
              "#46039f"
             ],
             [
              0.2222222222222222,
              "#7201a8"
             ],
             [
              0.3333333333333333,
              "#9c179e"
             ],
             [
              0.4444444444444444,
              "#bd3786"
             ],
             [
              0.5555555555555556,
              "#d8576b"
             ],
             [
              0.6666666666666666,
              "#ed7953"
             ],
             [
              0.7777777777777778,
              "#fb9f3a"
             ],
             [
              0.8888888888888888,
              "#fdca26"
             ],
             [
              1,
              "#f0f921"
             ]
            ],
            "type": "contour"
           }
          ],
          "contourcarpet": [
           {
            "colorbar": {
             "outlinewidth": 0,
             "ticks": ""
            },
            "type": "contourcarpet"
           }
          ],
          "heatmap": [
           {
            "colorbar": {
             "outlinewidth": 0,
             "ticks": ""
            },
            "colorscale": [
             [
              0,
              "#0d0887"
             ],
             [
              0.1111111111111111,
              "#46039f"
             ],
             [
              0.2222222222222222,
              "#7201a8"
             ],
             [
              0.3333333333333333,
              "#9c179e"
             ],
             [
              0.4444444444444444,
              "#bd3786"
             ],
             [
              0.5555555555555556,
              "#d8576b"
             ],
             [
              0.6666666666666666,
              "#ed7953"
             ],
             [
              0.7777777777777778,
              "#fb9f3a"
             ],
             [
              0.8888888888888888,
              "#fdca26"
             ],
             [
              1,
              "#f0f921"
             ]
            ],
            "type": "heatmap"
           }
          ],
          "heatmapgl": [
           {
            "colorbar": {
             "outlinewidth": 0,
             "ticks": ""
            },
            "colorscale": [
             [
              0,
              "#0d0887"
             ],
             [
              0.1111111111111111,
              "#46039f"
             ],
             [
              0.2222222222222222,
              "#7201a8"
             ],
             [
              0.3333333333333333,
              "#9c179e"
             ],
             [
              0.4444444444444444,
              "#bd3786"
             ],
             [
              0.5555555555555556,
              "#d8576b"
             ],
             [
              0.6666666666666666,
              "#ed7953"
             ],
             [
              0.7777777777777778,
              "#fb9f3a"
             ],
             [
              0.8888888888888888,
              "#fdca26"
             ],
             [
              1,
              "#f0f921"
             ]
            ],
            "type": "heatmapgl"
           }
          ],
          "histogram": [
           {
            "marker": {
             "pattern": {
              "fillmode": "overlay",
              "size": 10,
              "solidity": 0.2
             }
            },
            "type": "histogram"
           }
          ],
          "histogram2d": [
           {
            "colorbar": {
             "outlinewidth": 0,
             "ticks": ""
            },
            "colorscale": [
             [
              0,
              "#0d0887"
             ],
             [
              0.1111111111111111,
              "#46039f"
             ],
             [
              0.2222222222222222,
              "#7201a8"
             ],
             [
              0.3333333333333333,
              "#9c179e"
             ],
             [
              0.4444444444444444,
              "#bd3786"
             ],
             [
              0.5555555555555556,
              "#d8576b"
             ],
             [
              0.6666666666666666,
              "#ed7953"
             ],
             [
              0.7777777777777778,
              "#fb9f3a"
             ],
             [
              0.8888888888888888,
              "#fdca26"
             ],
             [
              1,
              "#f0f921"
             ]
            ],
            "type": "histogram2d"
           }
          ],
          "histogram2dcontour": [
           {
            "colorbar": {
             "outlinewidth": 0,
             "ticks": ""
            },
            "colorscale": [
             [
              0,
              "#0d0887"
             ],
             [
              0.1111111111111111,
              "#46039f"
             ],
             [
              0.2222222222222222,
              "#7201a8"
             ],
             [
              0.3333333333333333,
              "#9c179e"
             ],
             [
              0.4444444444444444,
              "#bd3786"
             ],
             [
              0.5555555555555556,
              "#d8576b"
             ],
             [
              0.6666666666666666,
              "#ed7953"
             ],
             [
              0.7777777777777778,
              "#fb9f3a"
             ],
             [
              0.8888888888888888,
              "#fdca26"
             ],
             [
              1,
              "#f0f921"
             ]
            ],
            "type": "histogram2dcontour"
           }
          ],
          "mesh3d": [
           {
            "colorbar": {
             "outlinewidth": 0,
             "ticks": ""
            },
            "type": "mesh3d"
           }
          ],
          "parcoords": [
           {
            "line": {
             "colorbar": {
              "outlinewidth": 0,
              "ticks": ""
             }
            },
            "type": "parcoords"
           }
          ],
          "pie": [
           {
            "automargin": true,
            "type": "pie"
           }
          ],
          "scatter": [
           {
            "fillpattern": {
             "fillmode": "overlay",
             "size": 10,
             "solidity": 0.2
            },
            "type": "scatter"
           }
          ],
          "scatter3d": [
           {
            "line": {
             "colorbar": {
              "outlinewidth": 0,
              "ticks": ""
             }
            },
            "marker": {
             "colorbar": {
              "outlinewidth": 0,
              "ticks": ""
             }
            },
            "type": "scatter3d"
           }
          ],
          "scattercarpet": [
           {
            "marker": {
             "colorbar": {
              "outlinewidth": 0,
              "ticks": ""
             }
            },
            "type": "scattercarpet"
           }
          ],
          "scattergeo": [
           {
            "marker": {
             "colorbar": {
              "outlinewidth": 0,
              "ticks": ""
             }
            },
            "type": "scattergeo"
           }
          ],
          "scattergl": [
           {
            "marker": {
             "colorbar": {
              "outlinewidth": 0,
              "ticks": ""
             }
            },
            "type": "scattergl"
           }
          ],
          "scattermapbox": [
           {
            "marker": {
             "colorbar": {
              "outlinewidth": 0,
              "ticks": ""
             }
            },
            "type": "scattermapbox"
           }
          ],
          "scatterpolar": [
           {
            "marker": {
             "colorbar": {
              "outlinewidth": 0,
              "ticks": ""
             }
            },
            "type": "scatterpolar"
           }
          ],
          "scatterpolargl": [
           {
            "marker": {
             "colorbar": {
              "outlinewidth": 0,
              "ticks": ""
             }
            },
            "type": "scatterpolargl"
           }
          ],
          "scatterternary": [
           {
            "marker": {
             "colorbar": {
              "outlinewidth": 0,
              "ticks": ""
             }
            },
            "type": "scatterternary"
           }
          ],
          "surface": [
           {
            "colorbar": {
             "outlinewidth": 0,
             "ticks": ""
            },
            "colorscale": [
             [
              0,
              "#0d0887"
             ],
             [
              0.1111111111111111,
              "#46039f"
             ],
             [
              0.2222222222222222,
              "#7201a8"
             ],
             [
              0.3333333333333333,
              "#9c179e"
             ],
             [
              0.4444444444444444,
              "#bd3786"
             ],
             [
              0.5555555555555556,
              "#d8576b"
             ],
             [
              0.6666666666666666,
              "#ed7953"
             ],
             [
              0.7777777777777778,
              "#fb9f3a"
             ],
             [
              0.8888888888888888,
              "#fdca26"
             ],
             [
              1,
              "#f0f921"
             ]
            ],
            "type": "surface"
           }
          ],
          "table": [
           {
            "cells": {
             "fill": {
              "color": "#EBF0F8"
             },
             "line": {
              "color": "white"
             }
            },
            "header": {
             "fill": {
              "color": "#C8D4E3"
             },
             "line": {
              "color": "white"
             }
            },
            "type": "table"
           }
          ]
         },
         "layout": {
          "annotationdefaults": {
           "arrowcolor": "#2a3f5f",
           "arrowhead": 0,
           "arrowwidth": 1
          },
          "autotypenumbers": "strict",
          "coloraxis": {
           "colorbar": {
            "outlinewidth": 0,
            "ticks": ""
           }
          },
          "colorscale": {
           "diverging": [
            [
             0,
             "#8e0152"
            ],
            [
             0.1,
             "#c51b7d"
            ],
            [
             0.2,
             "#de77ae"
            ],
            [
             0.3,
             "#f1b6da"
            ],
            [
             0.4,
             "#fde0ef"
            ],
            [
             0.5,
             "#f7f7f7"
            ],
            [
             0.6,
             "#e6f5d0"
            ],
            [
             0.7,
             "#b8e186"
            ],
            [
             0.8,
             "#7fbc41"
            ],
            [
             0.9,
             "#4d9221"
            ],
            [
             1,
             "#276419"
            ]
           ],
           "sequential": [
            [
             0,
             "#0d0887"
            ],
            [
             0.1111111111111111,
             "#46039f"
            ],
            [
             0.2222222222222222,
             "#7201a8"
            ],
            [
             0.3333333333333333,
             "#9c179e"
            ],
            [
             0.4444444444444444,
             "#bd3786"
            ],
            [
             0.5555555555555556,
             "#d8576b"
            ],
            [
             0.6666666666666666,
             "#ed7953"
            ],
            [
             0.7777777777777778,
             "#fb9f3a"
            ],
            [
             0.8888888888888888,
             "#fdca26"
            ],
            [
             1,
             "#f0f921"
            ]
           ],
           "sequentialminus": [
            [
             0,
             "#0d0887"
            ],
            [
             0.1111111111111111,
             "#46039f"
            ],
            [
             0.2222222222222222,
             "#7201a8"
            ],
            [
             0.3333333333333333,
             "#9c179e"
            ],
            [
             0.4444444444444444,
             "#bd3786"
            ],
            [
             0.5555555555555556,
             "#d8576b"
            ],
            [
             0.6666666666666666,
             "#ed7953"
            ],
            [
             0.7777777777777778,
             "#fb9f3a"
            ],
            [
             0.8888888888888888,
             "#fdca26"
            ],
            [
             1,
             "#f0f921"
            ]
           ]
          },
          "colorway": [
           "#636efa",
           "#EF553B",
           "#00cc96",
           "#ab63fa",
           "#FFA15A",
           "#19d3f3",
           "#FF6692",
           "#B6E880",
           "#FF97FF",
           "#FECB52"
          ],
          "font": {
           "color": "#2a3f5f"
          },
          "geo": {
           "bgcolor": "white",
           "lakecolor": "white",
           "landcolor": "#E5ECF6",
           "showlakes": true,
           "showland": true,
           "subunitcolor": "white"
          },
          "hoverlabel": {
           "align": "left"
          },
          "hovermode": "closest",
          "mapbox": {
           "style": "light"
          },
          "paper_bgcolor": "white",
          "plot_bgcolor": "#E5ECF6",
          "polar": {
           "angularaxis": {
            "gridcolor": "white",
            "linecolor": "white",
            "ticks": ""
           },
           "bgcolor": "#E5ECF6",
           "radialaxis": {
            "gridcolor": "white",
            "linecolor": "white",
            "ticks": ""
           }
          },
          "scene": {
           "xaxis": {
            "backgroundcolor": "#E5ECF6",
            "gridcolor": "white",
            "gridwidth": 2,
            "linecolor": "white",
            "showbackground": true,
            "ticks": "",
            "zerolinecolor": "white"
           },
           "yaxis": {
            "backgroundcolor": "#E5ECF6",
            "gridcolor": "white",
            "gridwidth": 2,
            "linecolor": "white",
            "showbackground": true,
            "ticks": "",
            "zerolinecolor": "white"
           },
           "zaxis": {
            "backgroundcolor": "#E5ECF6",
            "gridcolor": "white",
            "gridwidth": 2,
            "linecolor": "white",
            "showbackground": true,
            "ticks": "",
            "zerolinecolor": "white"
           }
          },
          "shapedefaults": {
           "line": {
            "color": "#2a3f5f"
           }
          },
          "ternary": {
           "aaxis": {
            "gridcolor": "white",
            "linecolor": "white",
            "ticks": ""
           },
           "baxis": {
            "gridcolor": "white",
            "linecolor": "white",
            "ticks": ""
           },
           "bgcolor": "#E5ECF6",
           "caxis": {
            "gridcolor": "white",
            "linecolor": "white",
            "ticks": ""
           }
          },
          "title": {
           "x": 0.05
          },
          "xaxis": {
           "automargin": true,
           "gridcolor": "white",
           "linecolor": "white",
           "ticks": "",
           "title": {
            "standoff": 15
           },
           "zerolinecolor": "white",
           "zerolinewidth": 2
          },
          "yaxis": {
           "automargin": true,
           "gridcolor": "white",
           "linecolor": "white",
           "ticks": "",
           "title": {
            "standoff": 15
           },
           "zerolinecolor": "white",
           "zerolinewidth": 2
          }
         }
        },
        "title": {
         "text": "A. Mitchell Mcconnell, Jr. Growth Rates WFC"
        },
        "width": 800,
        "xaxis": {
         "anchor": "y",
         "domain": [
          0,
          1
         ],
         "title": {
          "text": "date"
         }
        },
        "yaxis": {
         "anchor": "x",
         "domain": [
          0,
          1
         ],
         "title": {
          "text": "WFC_growth"
         }
        }
       }
      }
     },
     "metadata": {},
     "output_type": "display_data"
    }
   ],
   "source": [
    "graphAlphaGrowth_fromSource(105, '2017-09-07','WFC')"
   ]
  },
  {
   "cell_type": "code",
   "execution_count": null,
   "metadata": {},
   "outputs": [],
   "source": []
  },
  {
   "cell_type": "markdown",
   "metadata": {},
   "source": [
    "# Post alpha (from purchases) to db"
   ]
  },
  {
   "cell_type": "code",
   "execution_count": 75,
   "metadata": {},
   "outputs": [
    {
     "data": {
      "text/html": [
       "<div>\n",
       "<style scoped>\n",
       "    .dataframe tbody tr th:only-of-type {\n",
       "        vertical-align: middle;\n",
       "    }\n",
       "\n",
       "    .dataframe tbody tr th {\n",
       "        vertical-align: top;\n",
       "    }\n",
       "\n",
       "    .dataframe thead th {\n",
       "        text-align: right;\n",
       "    }\n",
       "</style>\n",
       "<table border=\"1\" class=\"dataframe\">\n",
       "  <thead>\n",
       "    <tr style=\"text-align: right;\">\n",
       "      <th></th>\n",
       "      <th>transaction_date</th>\n",
       "      <th>owner</th>\n",
       "      <th>ticker</th>\n",
       "      <th>asset_description</th>\n",
       "      <th>asset_type</th>\n",
       "      <th>type</th>\n",
       "      <th>amount</th>\n",
       "      <th>comment</th>\n",
       "      <th>senator</th>\n",
       "      <th>ptr_link</th>\n",
       "      <th>disclosure_date</th>\n",
       "      <th>id</th>\n",
       "      <th>senatorId</th>\n",
       "      <th>alpha</th>\n",
       "    </tr>\n",
       "  </thead>\n",
       "  <tbody>\n",
       "    <tr>\n",
       "      <th>8388</th>\n",
       "      <td>2014-12-10</td>\n",
       "      <td>Spouse</td>\n",
       "      <td>MDDVX</td>\n",
       "      <td>BlackRock Equity Dividend Inv A (NASDAQ)</td>\n",
       "      <td>Stock</td>\n",
       "      <td>Purchase</td>\n",
       "      <td>$1,001 - $15,000</td>\n",
       "      <td>--</td>\n",
       "      <td>Susan M Collins</td>\n",
       "      <td>https://efdsearch.senate.gov/search/view/ptr/d...</td>\n",
       "      <td>01/09/2015</td>\n",
       "      <td>8749</td>\n",
       "      <td>106</td>\n",
       "      <td>0.27</td>\n",
       "    </tr>\n",
       "    <tr>\n",
       "      <th>8389</th>\n",
       "      <td>2015-12-11</td>\n",
       "      <td>Spouse</td>\n",
       "      <td>DVFAX</td>\n",
       "      <td>Cohen &amp; Steers Dividend Value A (NASDAQ)</td>\n",
       "      <td>Stock</td>\n",
       "      <td>Purchase</td>\n",
       "      <td>$1,001 - $15,000</td>\n",
       "      <td>--</td>\n",
       "      <td>Susan M Collins</td>\n",
       "      <td>https://efdsearch.senate.gov/search/view/ptr/d...</td>\n",
       "      <td>01/09/2015</td>\n",
       "      <td>8750</td>\n",
       "      <td>106</td>\n",
       "      <td>0.43</td>\n",
       "    </tr>\n",
       "    <tr>\n",
       "      <th>8390</th>\n",
       "      <td>2014-12-11</td>\n",
       "      <td>Spouse</td>\n",
       "      <td>DVFAX</td>\n",
       "      <td>Cohen &amp; Steers Dividend Value A (NASDAQ)</td>\n",
       "      <td>Stock</td>\n",
       "      <td>Purchase</td>\n",
       "      <td>$1,001 - $15,000</td>\n",
       "      <td>--</td>\n",
       "      <td>Susan M Collins</td>\n",
       "      <td>https://efdsearch.senate.gov/search/view/ptr/d...</td>\n",
       "      <td>01/09/2015</td>\n",
       "      <td>8751</td>\n",
       "      <td>106</td>\n",
       "      <td>0.29</td>\n",
       "    </tr>\n",
       "    <tr>\n",
       "      <th>8391</th>\n",
       "      <td>2014-12-19</td>\n",
       "      <td>Spouse</td>\n",
       "      <td>BA</td>\n",
       "      <td>The Boeing Company (NYSE)</td>\n",
       "      <td>Stock</td>\n",
       "      <td>Purchase</td>\n",
       "      <td>$1,001 - $15,000</td>\n",
       "      <td>R</td>\n",
       "      <td>Pat Roberts</td>\n",
       "      <td>https://efdsearch.senate.gov/search/view/ptr/f...</td>\n",
       "      <td>01/05/2015</td>\n",
       "      <td>8758</td>\n",
       "      <td>133</td>\n",
       "      <td>23.90</td>\n",
       "    </tr>\n",
       "    <tr>\n",
       "      <th>8392</th>\n",
       "      <td>2014-12-11</td>\n",
       "      <td>Spouse</td>\n",
       "      <td>MIK</td>\n",
       "      <td>The Michaels Companies, Inc. (NASDAQ)</td>\n",
       "      <td>Stock</td>\n",
       "      <td>Purchase</td>\n",
       "      <td>$1,001 - $15,000</td>\n",
       "      <td>R</td>\n",
       "      <td>Pat Roberts</td>\n",
       "      <td>https://efdsearch.senate.gov/search/view/ptr/f...</td>\n",
       "      <td>01/05/2015</td>\n",
       "      <td>8760</td>\n",
       "      <td>133</td>\n",
       "      <td>22.83</td>\n",
       "    </tr>\n",
       "  </tbody>\n",
       "</table>\n",
       "</div>"
      ],
      "text/plain": [
       "     transaction_date   owner ticker  \\\n",
       "8388       2014-12-10  Spouse  MDDVX   \n",
       "8389       2015-12-11  Spouse  DVFAX   \n",
       "8390       2014-12-11  Spouse  DVFAX   \n",
       "8391       2014-12-19  Spouse     BA   \n",
       "8392       2014-12-11  Spouse    MIK   \n",
       "\n",
       "                             asset_description asset_type      type  \\\n",
       "8388  BlackRock Equity Dividend Inv A (NASDAQ)      Stock  Purchase   \n",
       "8389  Cohen & Steers Dividend Value A (NASDAQ)      Stock  Purchase   \n",
       "8390  Cohen & Steers Dividend Value A (NASDAQ)      Stock  Purchase   \n",
       "8391                 The Boeing Company (NYSE)      Stock  Purchase   \n",
       "8392     The Michaels Companies, Inc. (NASDAQ)      Stock  Purchase   \n",
       "\n",
       "                amount comment          senator  \\\n",
       "8388  $1,001 - $15,000      --  Susan M Collins   \n",
       "8389  $1,001 - $15,000      --  Susan M Collins   \n",
       "8390  $1,001 - $15,000      --  Susan M Collins   \n",
       "8391  $1,001 - $15,000       R      Pat Roberts   \n",
       "8392  $1,001 - $15,000       R      Pat Roberts   \n",
       "\n",
       "                                               ptr_link disclosure_date    id  \\\n",
       "8388  https://efdsearch.senate.gov/search/view/ptr/d...      01/09/2015  8749   \n",
       "8389  https://efdsearch.senate.gov/search/view/ptr/d...      01/09/2015  8750   \n",
       "8390  https://efdsearch.senate.gov/search/view/ptr/d...      01/09/2015  8751   \n",
       "8391  https://efdsearch.senate.gov/search/view/ptr/f...      01/05/2015  8758   \n",
       "8392  https://efdsearch.senate.gov/search/view/ptr/f...      01/05/2015  8760   \n",
       "\n",
       "      senatorId  alpha  \n",
       "8388        106   0.27  \n",
       "8389        106   0.43  \n",
       "8390        106   0.29  \n",
       "8391        133  23.90  \n",
       "8392        133  22.83  "
      ]
     },
     "execution_count": 75,
     "metadata": {},
     "output_type": "execute_result"
    }
   ],
   "source": [
    "purchases.tail()"
   ]
  },
  {
   "cell_type": "code",
   "execution_count": 76,
   "metadata": {},
   "outputs": [
    {
     "name": "stdout",
     "output_type": "stream",
     "text": [
      "fullDates 0\n"
     ]
    }
   ],
   "source": [
    "\n",
    "\n",
    "\n",
    "def findFullDates(frame):\n",
    "    frame['deleteMe'] = frame['transaction_date'].astype(str)\n",
    "    fullDates = frame[frame['deleteMe'].str.len() > 10].shape[0]\n",
    "    print('fullDates', fullDates)\n",
    "\n",
    "    frame.drop('deleteMe', axis=1, inplace=True)\n",
    "\n",
    "findFullDates(purchases)\n"
   ]
  },
  {
   "cell_type": "code",
   "execution_count": 77,
   "metadata": {},
   "outputs": [
    {
     "name": "stdout",
     "output_type": "stream",
     "text": [
      "fullDates 0\n"
     ]
    }
   ],
   "source": [
    "\n",
    "findFullDates(transactions)\n",
    "\n"
   ]
  },
  {
   "cell_type": "code",
   "execution_count": 78,
   "metadata": {},
   "outputs": [
    {
     "data": {
      "text/html": [
       "<div>\n",
       "<style scoped>\n",
       "    .dataframe tbody tr th:only-of-type {\n",
       "        vertical-align: middle;\n",
       "    }\n",
       "\n",
       "    .dataframe tbody tr th {\n",
       "        vertical-align: top;\n",
       "    }\n",
       "\n",
       "    .dataframe thead th {\n",
       "        text-align: right;\n",
       "    }\n",
       "</style>\n",
       "<table border=\"1\" class=\"dataframe\">\n",
       "  <thead>\n",
       "    <tr style=\"text-align: right;\">\n",
       "      <th></th>\n",
       "      <th>transaction_date</th>\n",
       "      <th>owner</th>\n",
       "      <th>ticker</th>\n",
       "      <th>asset_description</th>\n",
       "      <th>asset_type</th>\n",
       "      <th>type</th>\n",
       "      <th>amount</th>\n",
       "      <th>comment</th>\n",
       "      <th>senator</th>\n",
       "      <th>ptr_link</th>\n",
       "      <th>disclosure_date</th>\n",
       "      <th>id</th>\n",
       "      <th>senatorId</th>\n",
       "      <th>alpha</th>\n",
       "    </tr>\n",
       "  </thead>\n",
       "  <tbody>\n",
       "    <tr>\n",
       "      <th>0</th>\n",
       "      <td>2022-10-28</td>\n",
       "      <td>Joint</td>\n",
       "      <td>MSFT</td>\n",
       "      <td>Microsoft Corporation - Common Stock Option Ty...</td>\n",
       "      <td>Stock Option</td>\n",
       "      <td>Sale (Full)</td>\n",
       "      <td>$1,001 - $15,000</td>\n",
       "      <td>--</td>\n",
       "      <td>Thomas H Tuberville</td>\n",
       "      <td>https://efdsearch.senate.gov/search/view/ptr/b...</td>\n",
       "      <td>2022-11-10</td>\n",
       "      <td>0</td>\n",
       "      <td>100</td>\n",
       "      <td>None</td>\n",
       "    </tr>\n",
       "    <tr>\n",
       "      <th>1</th>\n",
       "      <td>2022-10-28</td>\n",
       "      <td>Joint</td>\n",
       "      <td>MSFT</td>\n",
       "      <td>Microsoft Corporation - Common Stock Option Ty...</td>\n",
       "      <td>Stock Option</td>\n",
       "      <td>Sale (Full)</td>\n",
       "      <td>$1,001 - $15,000</td>\n",
       "      <td>--</td>\n",
       "      <td>Thomas H Tuberville</td>\n",
       "      <td>https://efdsearch.senate.gov/search/view/ptr/b...</td>\n",
       "      <td>2022-11-10</td>\n",
       "      <td>2</td>\n",
       "      <td>100</td>\n",
       "      <td>None</td>\n",
       "    </tr>\n",
       "    <tr>\n",
       "      <th>2</th>\n",
       "      <td>2022-10-28</td>\n",
       "      <td>Joint</td>\n",
       "      <td>MSFT</td>\n",
       "      <td>Microsoft Corporation - Common Stock Option Ty...</td>\n",
       "      <td>Stock Option</td>\n",
       "      <td>Sale (Full)</td>\n",
       "      <td>$1,001 - $15,000</td>\n",
       "      <td>--</td>\n",
       "      <td>Thomas H Tuberville</td>\n",
       "      <td>https://efdsearch.senate.gov/search/view/ptr/b...</td>\n",
       "      <td>2022-11-10</td>\n",
       "      <td>3</td>\n",
       "      <td>100</td>\n",
       "      <td>None</td>\n",
       "    </tr>\n",
       "    <tr>\n",
       "      <th>3</th>\n",
       "      <td>2022-10-06</td>\n",
       "      <td>Joint</td>\n",
       "      <td>XOM</td>\n",
       "      <td>Exxon Mobil Corporation Common Stock Option Ty...</td>\n",
       "      <td>Stock Option</td>\n",
       "      <td>Sale (Full)</td>\n",
       "      <td>$15,001 - $50,000</td>\n",
       "      <td>--</td>\n",
       "      <td>Thomas H Tuberville</td>\n",
       "      <td>https://efdsearch.senate.gov/search/view/ptr/b...</td>\n",
       "      <td>2022-11-10</td>\n",
       "      <td>8</td>\n",
       "      <td>100</td>\n",
       "      <td>None</td>\n",
       "    </tr>\n",
       "    <tr>\n",
       "      <th>4</th>\n",
       "      <td>2022-10-06</td>\n",
       "      <td>Joint</td>\n",
       "      <td>CVX</td>\n",
       "      <td>Chevron Corporation Common Stock Option Type: ...</td>\n",
       "      <td>Stock Option</td>\n",
       "      <td>Sale (Full)</td>\n",
       "      <td>$15,001 - $50,000</td>\n",
       "      <td>--</td>\n",
       "      <td>Thomas H Tuberville</td>\n",
       "      <td>https://efdsearch.senate.gov/search/view/ptr/b...</td>\n",
       "      <td>2022-11-10</td>\n",
       "      <td>9</td>\n",
       "      <td>100</td>\n",
       "      <td>None</td>\n",
       "    </tr>\n",
       "  </tbody>\n",
       "</table>\n",
       "</div>"
      ],
      "text/plain": [
       "  transaction_date  owner ticker  \\\n",
       "0       2022-10-28  Joint   MSFT   \n",
       "1       2022-10-28  Joint   MSFT   \n",
       "2       2022-10-28  Joint   MSFT   \n",
       "3       2022-10-06  Joint    XOM   \n",
       "4       2022-10-06  Joint    CVX   \n",
       "\n",
       "                                   asset_description    asset_type  \\\n",
       "0  Microsoft Corporation - Common Stock Option Ty...  Stock Option   \n",
       "1  Microsoft Corporation - Common Stock Option Ty...  Stock Option   \n",
       "2  Microsoft Corporation - Common Stock Option Ty...  Stock Option   \n",
       "3  Exxon Mobil Corporation Common Stock Option Ty...  Stock Option   \n",
       "4  Chevron Corporation Common Stock Option Type: ...  Stock Option   \n",
       "\n",
       "          type             amount comment              senator  \\\n",
       "0  Sale (Full)   $1,001 - $15,000      --  Thomas H Tuberville   \n",
       "1  Sale (Full)   $1,001 - $15,000      --  Thomas H Tuberville   \n",
       "2  Sale (Full)   $1,001 - $15,000      --  Thomas H Tuberville   \n",
       "3  Sale (Full)  $15,001 - $50,000      --  Thomas H Tuberville   \n",
       "4  Sale (Full)  $15,001 - $50,000      --  Thomas H Tuberville   \n",
       "\n",
       "                                            ptr_link disclosure_date  id  \\\n",
       "0  https://efdsearch.senate.gov/search/view/ptr/b...      2022-11-10   0   \n",
       "1  https://efdsearch.senate.gov/search/view/ptr/b...      2022-11-10   2   \n",
       "2  https://efdsearch.senate.gov/search/view/ptr/b...      2022-11-10   3   \n",
       "3  https://efdsearch.senate.gov/search/view/ptr/b...      2022-11-10   8   \n",
       "4  https://efdsearch.senate.gov/search/view/ptr/b...      2022-11-10   9   \n",
       "\n",
       "   senatorId alpha  \n",
       "0        100  None  \n",
       "1        100  None  \n",
       "2        100  None  \n",
       "3        100  None  \n",
       "4        100  None  "
      ]
     },
     "execution_count": 78,
     "metadata": {},
     "output_type": "execute_result"
    }
   ],
   "source": [
    "transactions.head()"
   ]
  },
  {
   "cell_type": "code",
   "execution_count": 79,
   "metadata": {},
   "outputs": [
    {
     "data": {
      "text/html": [
       "<div>\n",
       "<style scoped>\n",
       "    .dataframe tbody tr th:only-of-type {\n",
       "        vertical-align: middle;\n",
       "    }\n",
       "\n",
       "    .dataframe tbody tr th {\n",
       "        vertical-align: top;\n",
       "    }\n",
       "\n",
       "    .dataframe thead th {\n",
       "        text-align: right;\n",
       "    }\n",
       "</style>\n",
       "<table border=\"1\" class=\"dataframe\">\n",
       "  <thead>\n",
       "    <tr style=\"text-align: right;\">\n",
       "      <th></th>\n",
       "      <th>transaction_date</th>\n",
       "      <th>owner</th>\n",
       "      <th>ticker</th>\n",
       "      <th>asset_description</th>\n",
       "      <th>asset_type</th>\n",
       "      <th>type</th>\n",
       "      <th>amount</th>\n",
       "      <th>comment</th>\n",
       "      <th>senator</th>\n",
       "      <th>ptr_link</th>\n",
       "      <th>disclosure_date</th>\n",
       "      <th>id</th>\n",
       "      <th>senatorId</th>\n",
       "      <th>alpha</th>\n",
       "    </tr>\n",
       "  </thead>\n",
       "  <tbody>\n",
       "    <tr>\n",
       "      <th>0</th>\n",
       "      <td>2022-10-28</td>\n",
       "      <td>Joint</td>\n",
       "      <td>MSFT</td>\n",
       "      <td>Microsoft Corporation - Common Stock Option Ty...</td>\n",
       "      <td>Stock Option</td>\n",
       "      <td>Sale (Full)</td>\n",
       "      <td>$1,001 - $15,000</td>\n",
       "      <td>--</td>\n",
       "      <td>Thomas H Tuberville</td>\n",
       "      <td>https://efdsearch.senate.gov/search/view/ptr/b...</td>\n",
       "      <td>2022-11-10</td>\n",
       "      <td>0</td>\n",
       "      <td>100</td>\n",
       "      <td>NaN</td>\n",
       "    </tr>\n",
       "    <tr>\n",
       "      <th>1</th>\n",
       "      <td>2022-10-28</td>\n",
       "      <td>Joint</td>\n",
       "      <td>MSFT</td>\n",
       "      <td>Microsoft Corporation - Common Stock Option Ty...</td>\n",
       "      <td>Stock Option</td>\n",
       "      <td>Sale (Full)</td>\n",
       "      <td>$1,001 - $15,000</td>\n",
       "      <td>--</td>\n",
       "      <td>Thomas H Tuberville</td>\n",
       "      <td>https://efdsearch.senate.gov/search/view/ptr/b...</td>\n",
       "      <td>2022-11-10</td>\n",
       "      <td>2</td>\n",
       "      <td>100</td>\n",
       "      <td>NaN</td>\n",
       "    </tr>\n",
       "    <tr>\n",
       "      <th>2</th>\n",
       "      <td>2022-10-28</td>\n",
       "      <td>Joint</td>\n",
       "      <td>MSFT</td>\n",
       "      <td>Microsoft Corporation - Common Stock Option Ty...</td>\n",
       "      <td>Stock Option</td>\n",
       "      <td>Sale (Full)</td>\n",
       "      <td>$1,001 - $15,000</td>\n",
       "      <td>--</td>\n",
       "      <td>Thomas H Tuberville</td>\n",
       "      <td>https://efdsearch.senate.gov/search/view/ptr/b...</td>\n",
       "      <td>2022-11-10</td>\n",
       "      <td>3</td>\n",
       "      <td>100</td>\n",
       "      <td>NaN</td>\n",
       "    </tr>\n",
       "    <tr>\n",
       "      <th>3</th>\n",
       "      <td>2022-10-06</td>\n",
       "      <td>Joint</td>\n",
       "      <td>XOM</td>\n",
       "      <td>Exxon Mobil Corporation Common Stock Option Ty...</td>\n",
       "      <td>Stock Option</td>\n",
       "      <td>Sale (Full)</td>\n",
       "      <td>$15,001 - $50,000</td>\n",
       "      <td>--</td>\n",
       "      <td>Thomas H Tuberville</td>\n",
       "      <td>https://efdsearch.senate.gov/search/view/ptr/b...</td>\n",
       "      <td>2022-11-10</td>\n",
       "      <td>8</td>\n",
       "      <td>100</td>\n",
       "      <td>NaN</td>\n",
       "    </tr>\n",
       "    <tr>\n",
       "      <th>4</th>\n",
       "      <td>2022-10-06</td>\n",
       "      <td>Joint</td>\n",
       "      <td>CVX</td>\n",
       "      <td>Chevron Corporation Common Stock Option Type: ...</td>\n",
       "      <td>Stock Option</td>\n",
       "      <td>Sale (Full)</td>\n",
       "      <td>$15,001 - $50,000</td>\n",
       "      <td>--</td>\n",
       "      <td>Thomas H Tuberville</td>\n",
       "      <td>https://efdsearch.senate.gov/search/view/ptr/b...</td>\n",
       "      <td>2022-11-10</td>\n",
       "      <td>9</td>\n",
       "      <td>100</td>\n",
       "      <td>NaN</td>\n",
       "    </tr>\n",
       "  </tbody>\n",
       "</table>\n",
       "</div>"
      ],
      "text/plain": [
       "  transaction_date  owner ticker  \\\n",
       "0       2022-10-28  Joint   MSFT   \n",
       "1       2022-10-28  Joint   MSFT   \n",
       "2       2022-10-28  Joint   MSFT   \n",
       "3       2022-10-06  Joint    XOM   \n",
       "4       2022-10-06  Joint    CVX   \n",
       "\n",
       "                                   asset_description    asset_type  \\\n",
       "0  Microsoft Corporation - Common Stock Option Ty...  Stock Option   \n",
       "1  Microsoft Corporation - Common Stock Option Ty...  Stock Option   \n",
       "2  Microsoft Corporation - Common Stock Option Ty...  Stock Option   \n",
       "3  Exxon Mobil Corporation Common Stock Option Ty...  Stock Option   \n",
       "4  Chevron Corporation Common Stock Option Type: ...  Stock Option   \n",
       "\n",
       "          type             amount comment              senator  \\\n",
       "0  Sale (Full)   $1,001 - $15,000      --  Thomas H Tuberville   \n",
       "1  Sale (Full)   $1,001 - $15,000      --  Thomas H Tuberville   \n",
       "2  Sale (Full)   $1,001 - $15,000      --  Thomas H Tuberville   \n",
       "3  Sale (Full)  $15,001 - $50,000      --  Thomas H Tuberville   \n",
       "4  Sale (Full)  $15,001 - $50,000      --  Thomas H Tuberville   \n",
       "\n",
       "                                            ptr_link disclosure_date  id  \\\n",
       "0  https://efdsearch.senate.gov/search/view/ptr/b...      2022-11-10   0   \n",
       "1  https://efdsearch.senate.gov/search/view/ptr/b...      2022-11-10   2   \n",
       "2  https://efdsearch.senate.gov/search/view/ptr/b...      2022-11-10   3   \n",
       "3  https://efdsearch.senate.gov/search/view/ptr/b...      2022-11-10   8   \n",
       "4  https://efdsearch.senate.gov/search/view/ptr/b...      2022-11-10   9   \n",
       "\n",
       "   senatorId  alpha  \n",
       "0        100    NaN  \n",
       "1        100    NaN  \n",
       "2        100    NaN  \n",
       "3        100    NaN  \n",
       "4        100    NaN  "
      ]
     },
     "execution_count": 79,
     "metadata": {},
     "output_type": "execute_result"
    }
   ],
   "source": [
    "t = transactions[transactions['type']!= 'Purchase']\n",
    "t['alpha'] = np.nan\n",
    "t.head()"
   ]
  },
  {
   "cell_type": "code",
   "execution_count": 80,
   "metadata": {},
   "outputs": [
    {
     "data": {
      "text/plain": [
       "Sale (Full)       2525\n",
       "Sale (Partial)    1879\n",
       "Unknown            467\n",
       "Exchange           102\n",
       "Name: type, dtype: int64"
      ]
     },
     "execution_count": 80,
     "metadata": {},
     "output_type": "execute_result"
    }
   ],
   "source": [
    "t.type.value_counts()"
   ]
  },
  {
   "cell_type": "code",
   "execution_count": 81,
   "metadata": {},
   "outputs": [
    {
     "name": "stdout",
     "output_type": "stream",
     "text": [
      "t Length 4973\n",
      "purchases Length 3420\n"
     ]
    }
   ],
   "source": [
    "print('t Length', t.shape[0])\n",
    "print('purchases Length', purchases.shape[0])"
   ]
  },
  {
   "cell_type": "code",
   "execution_count": 82,
   "metadata": {},
   "outputs": [
    {
     "data": {
      "text/plain": [
       "(8393, 14)"
      ]
     },
     "execution_count": 82,
     "metadata": {},
     "output_type": "execute_result"
    }
   ],
   "source": [
    "transactions_new = pd.concat([t, purchases])\n",
    "transactions_new.shape\n"
   ]
  },
  {
   "cell_type": "code",
   "execution_count": 83,
   "metadata": {},
   "outputs": [
    {
     "name": "stdout",
     "output_type": "stream",
     "text": [
      "fullDates 0\n"
     ]
    }
   ],
   "source": [
    "\n",
    "findFullDates(transactions_new)"
   ]
  },
  {
   "cell_type": "markdown",
   "metadata": {},
   "source": [
    "looks like its interpreting teh date as a date when i concat"
   ]
  },
  {
   "cell_type": "code",
   "execution_count": 84,
   "metadata": {},
   "outputs": [
    {
     "data": {
      "text/html": [
       "<div>\n",
       "<style scoped>\n",
       "    .dataframe tbody tr th:only-of-type {\n",
       "        vertical-align: middle;\n",
       "    }\n",
       "\n",
       "    .dataframe tbody tr th {\n",
       "        vertical-align: top;\n",
       "    }\n",
       "\n",
       "    .dataframe thead th {\n",
       "        text-align: right;\n",
       "    }\n",
       "</style>\n",
       "<table border=\"1\" class=\"dataframe\">\n",
       "  <thead>\n",
       "    <tr style=\"text-align: right;\">\n",
       "      <th></th>\n",
       "      <th>transaction_date</th>\n",
       "      <th>owner</th>\n",
       "      <th>ticker</th>\n",
       "      <th>asset_description</th>\n",
       "      <th>asset_type</th>\n",
       "      <th>type</th>\n",
       "      <th>amount</th>\n",
       "      <th>comment</th>\n",
       "      <th>senator</th>\n",
       "      <th>ptr_link</th>\n",
       "      <th>disclosure_date</th>\n",
       "      <th>id</th>\n",
       "      <th>senatorId</th>\n",
       "      <th>alpha</th>\n",
       "    </tr>\n",
       "  </thead>\n",
       "  <tbody>\n",
       "    <tr>\n",
       "      <th>8388</th>\n",
       "      <td>2014-12-10</td>\n",
       "      <td>Spouse</td>\n",
       "      <td>MDDVX</td>\n",
       "      <td>BlackRock Equity Dividend Inv A (NASDAQ)</td>\n",
       "      <td>Stock</td>\n",
       "      <td>Purchase</td>\n",
       "      <td>$1,001 - $15,000</td>\n",
       "      <td>--</td>\n",
       "      <td>Susan M Collins</td>\n",
       "      <td>https://efdsearch.senate.gov/search/view/ptr/d...</td>\n",
       "      <td>01/09/2015</td>\n",
       "      <td>8749</td>\n",
       "      <td>106</td>\n",
       "      <td>0.27</td>\n",
       "    </tr>\n",
       "    <tr>\n",
       "      <th>8389</th>\n",
       "      <td>2015-12-11</td>\n",
       "      <td>Spouse</td>\n",
       "      <td>DVFAX</td>\n",
       "      <td>Cohen &amp; Steers Dividend Value A (NASDAQ)</td>\n",
       "      <td>Stock</td>\n",
       "      <td>Purchase</td>\n",
       "      <td>$1,001 - $15,000</td>\n",
       "      <td>--</td>\n",
       "      <td>Susan M Collins</td>\n",
       "      <td>https://efdsearch.senate.gov/search/view/ptr/d...</td>\n",
       "      <td>01/09/2015</td>\n",
       "      <td>8750</td>\n",
       "      <td>106</td>\n",
       "      <td>0.43</td>\n",
       "    </tr>\n",
       "    <tr>\n",
       "      <th>8390</th>\n",
       "      <td>2014-12-11</td>\n",
       "      <td>Spouse</td>\n",
       "      <td>DVFAX</td>\n",
       "      <td>Cohen &amp; Steers Dividend Value A (NASDAQ)</td>\n",
       "      <td>Stock</td>\n",
       "      <td>Purchase</td>\n",
       "      <td>$1,001 - $15,000</td>\n",
       "      <td>--</td>\n",
       "      <td>Susan M Collins</td>\n",
       "      <td>https://efdsearch.senate.gov/search/view/ptr/d...</td>\n",
       "      <td>01/09/2015</td>\n",
       "      <td>8751</td>\n",
       "      <td>106</td>\n",
       "      <td>0.29</td>\n",
       "    </tr>\n",
       "    <tr>\n",
       "      <th>8391</th>\n",
       "      <td>2014-12-19</td>\n",
       "      <td>Spouse</td>\n",
       "      <td>BA</td>\n",
       "      <td>The Boeing Company (NYSE)</td>\n",
       "      <td>Stock</td>\n",
       "      <td>Purchase</td>\n",
       "      <td>$1,001 - $15,000</td>\n",
       "      <td>R</td>\n",
       "      <td>Pat Roberts</td>\n",
       "      <td>https://efdsearch.senate.gov/search/view/ptr/f...</td>\n",
       "      <td>01/05/2015</td>\n",
       "      <td>8758</td>\n",
       "      <td>133</td>\n",
       "      <td>23.90</td>\n",
       "    </tr>\n",
       "    <tr>\n",
       "      <th>8392</th>\n",
       "      <td>2014-12-11</td>\n",
       "      <td>Spouse</td>\n",
       "      <td>MIK</td>\n",
       "      <td>The Michaels Companies, Inc. (NASDAQ)</td>\n",
       "      <td>Stock</td>\n",
       "      <td>Purchase</td>\n",
       "      <td>$1,001 - $15,000</td>\n",
       "      <td>R</td>\n",
       "      <td>Pat Roberts</td>\n",
       "      <td>https://efdsearch.senate.gov/search/view/ptr/f...</td>\n",
       "      <td>01/05/2015</td>\n",
       "      <td>8760</td>\n",
       "      <td>133</td>\n",
       "      <td>22.83</td>\n",
       "    </tr>\n",
       "  </tbody>\n",
       "</table>\n",
       "</div>"
      ],
      "text/plain": [
       "     transaction_date   owner ticker  \\\n",
       "8388       2014-12-10  Spouse  MDDVX   \n",
       "8389       2015-12-11  Spouse  DVFAX   \n",
       "8390       2014-12-11  Spouse  DVFAX   \n",
       "8391       2014-12-19  Spouse     BA   \n",
       "8392       2014-12-11  Spouse    MIK   \n",
       "\n",
       "                             asset_description asset_type      type  \\\n",
       "8388  BlackRock Equity Dividend Inv A (NASDAQ)      Stock  Purchase   \n",
       "8389  Cohen & Steers Dividend Value A (NASDAQ)      Stock  Purchase   \n",
       "8390  Cohen & Steers Dividend Value A (NASDAQ)      Stock  Purchase   \n",
       "8391                 The Boeing Company (NYSE)      Stock  Purchase   \n",
       "8392     The Michaels Companies, Inc. (NASDAQ)      Stock  Purchase   \n",
       "\n",
       "                amount comment          senator  \\\n",
       "8388  $1,001 - $15,000      --  Susan M Collins   \n",
       "8389  $1,001 - $15,000      --  Susan M Collins   \n",
       "8390  $1,001 - $15,000      --  Susan M Collins   \n",
       "8391  $1,001 - $15,000       R      Pat Roberts   \n",
       "8392  $1,001 - $15,000       R      Pat Roberts   \n",
       "\n",
       "                                               ptr_link disclosure_date    id  \\\n",
       "8388  https://efdsearch.senate.gov/search/view/ptr/d...      01/09/2015  8749   \n",
       "8389  https://efdsearch.senate.gov/search/view/ptr/d...      01/09/2015  8750   \n",
       "8390  https://efdsearch.senate.gov/search/view/ptr/d...      01/09/2015  8751   \n",
       "8391  https://efdsearch.senate.gov/search/view/ptr/f...      01/05/2015  8758   \n",
       "8392  https://efdsearch.senate.gov/search/view/ptr/f...      01/05/2015  8760   \n",
       "\n",
       "      senatorId  alpha  \n",
       "8388        106   0.27  \n",
       "8389        106   0.43  \n",
       "8390        106   0.29  \n",
       "8391        133  23.90  \n",
       "8392        133  22.83  "
      ]
     },
     "execution_count": 84,
     "metadata": {},
     "output_type": "execute_result"
    }
   ],
   "source": [
    "transactions_new.tail()"
   ]
  },
  {
   "cell_type": "code",
   "execution_count": 85,
   "metadata": {},
   "outputs": [
    {
     "data": {
      "text/plain": [
       "numpy.datetime64('2014-12-10T00:00:00.000000000')"
      ]
     },
     "execution_count": 85,
     "metadata": {},
     "output_type": "execute_result"
    }
   ],
   "source": [
    "timeTestEnd = transactions_new.tail()['transaction_date'].values[0]\n",
    "timeTestEnd"
   ]
  },
  {
   "cell_type": "code",
   "execution_count": 86,
   "metadata": {},
   "outputs": [
    {
     "data": {
      "text/plain": [
       "Timestamp('2022-10-28 00:00:00')"
      ]
     },
     "execution_count": 86,
     "metadata": {},
     "output_type": "execute_result"
    }
   ],
   "source": [
    "timeTestStart = transactions_new['transaction_date'][0]\n",
    "timeTestStart"
   ]
  },
  {
   "cell_type": "code",
   "execution_count": 87,
   "metadata": {},
   "outputs": [
    {
     "name": "stdout",
     "output_type": "stream",
     "text": [
      "['2022-10-28', '00:00:00']\n",
      "['2014-12-10T00:00:00.000000000']\n"
     ]
    }
   ],
   "source": [
    "for test in [timeTestStart, timeTestEnd]:\n",
    "    test = str(test)\n",
    "    print(test.split(\" \"))"
   ]
  },
  {
   "cell_type": "code",
   "execution_count": 88,
   "metadata": {},
   "outputs": [
    {
     "data": {
      "text/html": [
       "<div>\n",
       "<style scoped>\n",
       "    .dataframe tbody tr th:only-of-type {\n",
       "        vertical-align: middle;\n",
       "    }\n",
       "\n",
       "    .dataframe tbody tr th {\n",
       "        vertical-align: top;\n",
       "    }\n",
       "\n",
       "    .dataframe thead th {\n",
       "        text-align: right;\n",
       "    }\n",
       "</style>\n",
       "<table border=\"1\" class=\"dataframe\">\n",
       "  <thead>\n",
       "    <tr style=\"text-align: right;\">\n",
       "      <th></th>\n",
       "      <th>transaction_date</th>\n",
       "      <th>owner</th>\n",
       "      <th>ticker</th>\n",
       "      <th>asset_description</th>\n",
       "      <th>asset_type</th>\n",
       "      <th>type</th>\n",
       "      <th>amount</th>\n",
       "      <th>comment</th>\n",
       "      <th>senator</th>\n",
       "      <th>ptr_link</th>\n",
       "      <th>disclosure_date</th>\n",
       "      <th>id</th>\n",
       "      <th>senatorId</th>\n",
       "      <th>alpha</th>\n",
       "    </tr>\n",
       "  </thead>\n",
       "  <tbody>\n",
       "    <tr>\n",
       "      <th>8388</th>\n",
       "      <td>2014-12-10</td>\n",
       "      <td>Spouse</td>\n",
       "      <td>MDDVX</td>\n",
       "      <td>BlackRock Equity Dividend Inv A (NASDAQ)</td>\n",
       "      <td>Stock</td>\n",
       "      <td>Purchase</td>\n",
       "      <td>$1,001 - $15,000</td>\n",
       "      <td>--</td>\n",
       "      <td>Susan M Collins</td>\n",
       "      <td>https://efdsearch.senate.gov/search/view/ptr/d...</td>\n",
       "      <td>01/09/2015</td>\n",
       "      <td>8749</td>\n",
       "      <td>106</td>\n",
       "      <td>0.27</td>\n",
       "    </tr>\n",
       "    <tr>\n",
       "      <th>8389</th>\n",
       "      <td>2015-12-11</td>\n",
       "      <td>Spouse</td>\n",
       "      <td>DVFAX</td>\n",
       "      <td>Cohen &amp; Steers Dividend Value A (NASDAQ)</td>\n",
       "      <td>Stock</td>\n",
       "      <td>Purchase</td>\n",
       "      <td>$1,001 - $15,000</td>\n",
       "      <td>--</td>\n",
       "      <td>Susan M Collins</td>\n",
       "      <td>https://efdsearch.senate.gov/search/view/ptr/d...</td>\n",
       "      <td>01/09/2015</td>\n",
       "      <td>8750</td>\n",
       "      <td>106</td>\n",
       "      <td>0.43</td>\n",
       "    </tr>\n",
       "    <tr>\n",
       "      <th>8390</th>\n",
       "      <td>2014-12-11</td>\n",
       "      <td>Spouse</td>\n",
       "      <td>DVFAX</td>\n",
       "      <td>Cohen &amp; Steers Dividend Value A (NASDAQ)</td>\n",
       "      <td>Stock</td>\n",
       "      <td>Purchase</td>\n",
       "      <td>$1,001 - $15,000</td>\n",
       "      <td>--</td>\n",
       "      <td>Susan M Collins</td>\n",
       "      <td>https://efdsearch.senate.gov/search/view/ptr/d...</td>\n",
       "      <td>01/09/2015</td>\n",
       "      <td>8751</td>\n",
       "      <td>106</td>\n",
       "      <td>0.29</td>\n",
       "    </tr>\n",
       "    <tr>\n",
       "      <th>8391</th>\n",
       "      <td>2014-12-19</td>\n",
       "      <td>Spouse</td>\n",
       "      <td>BA</td>\n",
       "      <td>The Boeing Company (NYSE)</td>\n",
       "      <td>Stock</td>\n",
       "      <td>Purchase</td>\n",
       "      <td>$1,001 - $15,000</td>\n",
       "      <td>R</td>\n",
       "      <td>Pat Roberts</td>\n",
       "      <td>https://efdsearch.senate.gov/search/view/ptr/f...</td>\n",
       "      <td>01/05/2015</td>\n",
       "      <td>8758</td>\n",
       "      <td>133</td>\n",
       "      <td>23.90</td>\n",
       "    </tr>\n",
       "    <tr>\n",
       "      <th>8392</th>\n",
       "      <td>2014-12-11</td>\n",
       "      <td>Spouse</td>\n",
       "      <td>MIK</td>\n",
       "      <td>The Michaels Companies, Inc. (NASDAQ)</td>\n",
       "      <td>Stock</td>\n",
       "      <td>Purchase</td>\n",
       "      <td>$1,001 - $15,000</td>\n",
       "      <td>R</td>\n",
       "      <td>Pat Roberts</td>\n",
       "      <td>https://efdsearch.senate.gov/search/view/ptr/f...</td>\n",
       "      <td>01/05/2015</td>\n",
       "      <td>8760</td>\n",
       "      <td>133</td>\n",
       "      <td>22.83</td>\n",
       "    </tr>\n",
       "  </tbody>\n",
       "</table>\n",
       "</div>"
      ],
      "text/plain": [
       "     transaction_date   owner ticker  \\\n",
       "8388       2014-12-10  Spouse  MDDVX   \n",
       "8389       2015-12-11  Spouse  DVFAX   \n",
       "8390       2014-12-11  Spouse  DVFAX   \n",
       "8391       2014-12-19  Spouse     BA   \n",
       "8392       2014-12-11  Spouse    MIK   \n",
       "\n",
       "                             asset_description asset_type      type  \\\n",
       "8388  BlackRock Equity Dividend Inv A (NASDAQ)      Stock  Purchase   \n",
       "8389  Cohen & Steers Dividend Value A (NASDAQ)      Stock  Purchase   \n",
       "8390  Cohen & Steers Dividend Value A (NASDAQ)      Stock  Purchase   \n",
       "8391                 The Boeing Company (NYSE)      Stock  Purchase   \n",
       "8392     The Michaels Companies, Inc. (NASDAQ)      Stock  Purchase   \n",
       "\n",
       "                amount comment          senator  \\\n",
       "8388  $1,001 - $15,000      --  Susan M Collins   \n",
       "8389  $1,001 - $15,000      --  Susan M Collins   \n",
       "8390  $1,001 - $15,000      --  Susan M Collins   \n",
       "8391  $1,001 - $15,000       R      Pat Roberts   \n",
       "8392  $1,001 - $15,000       R      Pat Roberts   \n",
       "\n",
       "                                               ptr_link disclosure_date    id  \\\n",
       "8388  https://efdsearch.senate.gov/search/view/ptr/d...      01/09/2015  8749   \n",
       "8389  https://efdsearch.senate.gov/search/view/ptr/d...      01/09/2015  8750   \n",
       "8390  https://efdsearch.senate.gov/search/view/ptr/d...      01/09/2015  8751   \n",
       "8391  https://efdsearch.senate.gov/search/view/ptr/f...      01/05/2015  8758   \n",
       "8392  https://efdsearch.senate.gov/search/view/ptr/f...      01/05/2015  8760   \n",
       "\n",
       "      senatorId  alpha  \n",
       "8388        106   0.27  \n",
       "8389        106   0.43  \n",
       "8390        106   0.29  \n",
       "8391        133  23.90  \n",
       "8392        133  22.83  "
      ]
     },
     "execution_count": 88,
     "metadata": {},
     "output_type": "execute_result"
    }
   ],
   "source": [
    "\n",
    "\n",
    "transactions_new['transaction_date'] = transactions_new['transaction_date'].apply(lambda row: extractDateFromTimestamp(row))\n",
    "transactions_new.tail()"
   ]
  },
  {
   "cell_type": "code",
   "execution_count": 89,
   "metadata": {},
   "outputs": [
    {
     "data": {
      "text/plain": [
       "Sale (Full)       2525\n",
       "Sale (Partial)    1879\n",
       "Unknown            467\n",
       "Exchange           102\n",
       "Name: type, dtype: int64"
      ]
     },
     "execution_count": 89,
     "metadata": {},
     "output_type": "execute_result"
    }
   ],
   "source": [
    "transactions_new[transactions_new['alpha'].isnull()].type.value_counts()"
   ]
  },
  {
   "cell_type": "code",
   "execution_count": 90,
   "metadata": {},
   "outputs": [
    {
     "data": {
      "text/plain": [
       "-9999.00    503\n",
       " 0.00       340\n",
       " 6.56         7\n",
       " 7.43         7\n",
       " 0.16         7\n",
       "           ... \n",
       " 12.87        1\n",
       " 17.19        1\n",
       " 15.51        1\n",
       " 5.40         1\n",
       " 22.83        1\n",
       "Name: alpha, Length: 1585, dtype: int64"
      ]
     },
     "execution_count": 90,
     "metadata": {},
     "output_type": "execute_result"
    }
   ],
   "source": [
    "transactions_new.alpha.value_counts()"
   ]
  },
  {
   "cell_type": "code",
   "execution_count": 91,
   "metadata": {},
   "outputs": [
    {
     "data": {
      "text/plain": [
       "(1, 503)"
      ]
     },
     "execution_count": 91,
     "metadata": {},
     "output_type": "execute_result"
    }
   ],
   "source": [
    "transactions_new['alpha'].replace({-9999:\"Ticker Not Found\"}, inplace=True)\n",
    "numAlpha =  transactions_new[transactions_new['alpha'].notnull()]\n",
    "\n",
    "numAlpha.alpha.value_counts().values.min(), numAlpha.alpha.value_counts().values.max()\n"
   ]
  },
  {
   "cell_type": "code",
   "execution_count": 92,
   "metadata": {},
   "outputs": [
    {
     "data": {
      "text/html": [
       "<div>\n",
       "<style scoped>\n",
       "    .dataframe tbody tr th:only-of-type {\n",
       "        vertical-align: middle;\n",
       "    }\n",
       "\n",
       "    .dataframe tbody tr th {\n",
       "        vertical-align: top;\n",
       "    }\n",
       "\n",
       "    .dataframe thead th {\n",
       "        text-align: right;\n",
       "    }\n",
       "</style>\n",
       "<table border=\"1\" class=\"dataframe\">\n",
       "  <thead>\n",
       "    <tr style=\"text-align: right;\">\n",
       "      <th></th>\n",
       "      <th>transaction_date</th>\n",
       "      <th>owner</th>\n",
       "      <th>ticker</th>\n",
       "      <th>asset_description</th>\n",
       "      <th>asset_type</th>\n",
       "      <th>type</th>\n",
       "      <th>amount</th>\n",
       "      <th>comment</th>\n",
       "      <th>senator</th>\n",
       "      <th>ptr_link</th>\n",
       "      <th>disclosure_date</th>\n",
       "      <th>id</th>\n",
       "      <th>senatorId</th>\n",
       "      <th>alpha</th>\n",
       "    </tr>\n",
       "  </thead>\n",
       "  <tbody>\n",
       "    <tr>\n",
       "      <th>0</th>\n",
       "      <td>2022-10-28</td>\n",
       "      <td>Joint</td>\n",
       "      <td>MSFT</td>\n",
       "      <td>Microsoft Corporation - Common Stock Option Ty...</td>\n",
       "      <td>Stock Option</td>\n",
       "      <td>Sale (Full)</td>\n",
       "      <td>$1,001 - $15,000</td>\n",
       "      <td>--</td>\n",
       "      <td>Thomas H Tuberville</td>\n",
       "      <td>https://efdsearch.senate.gov/search/view/ptr/b...</td>\n",
       "      <td>2022-11-10</td>\n",
       "      <td>0</td>\n",
       "      <td>100</td>\n",
       "      <td>NaN</td>\n",
       "    </tr>\n",
       "    <tr>\n",
       "      <th>1</th>\n",
       "      <td>2022-10-28</td>\n",
       "      <td>Joint</td>\n",
       "      <td>MSFT</td>\n",
       "      <td>Microsoft Corporation - Common Stock Option Ty...</td>\n",
       "      <td>Stock Option</td>\n",
       "      <td>Sale (Full)</td>\n",
       "      <td>$1,001 - $15,000</td>\n",
       "      <td>--</td>\n",
       "      <td>Thomas H Tuberville</td>\n",
       "      <td>https://efdsearch.senate.gov/search/view/ptr/b...</td>\n",
       "      <td>2022-11-10</td>\n",
       "      <td>2</td>\n",
       "      <td>100</td>\n",
       "      <td>NaN</td>\n",
       "    </tr>\n",
       "    <tr>\n",
       "      <th>2</th>\n",
       "      <td>2022-10-28</td>\n",
       "      <td>Joint</td>\n",
       "      <td>MSFT</td>\n",
       "      <td>Microsoft Corporation - Common Stock Option Ty...</td>\n",
       "      <td>Stock Option</td>\n",
       "      <td>Sale (Full)</td>\n",
       "      <td>$1,001 - $15,000</td>\n",
       "      <td>--</td>\n",
       "      <td>Thomas H Tuberville</td>\n",
       "      <td>https://efdsearch.senate.gov/search/view/ptr/b...</td>\n",
       "      <td>2022-11-10</td>\n",
       "      <td>3</td>\n",
       "      <td>100</td>\n",
       "      <td>NaN</td>\n",
       "    </tr>\n",
       "    <tr>\n",
       "      <th>3</th>\n",
       "      <td>2022-10-06</td>\n",
       "      <td>Joint</td>\n",
       "      <td>XOM</td>\n",
       "      <td>Exxon Mobil Corporation Common Stock Option Ty...</td>\n",
       "      <td>Stock Option</td>\n",
       "      <td>Sale (Full)</td>\n",
       "      <td>$15,001 - $50,000</td>\n",
       "      <td>--</td>\n",
       "      <td>Thomas H Tuberville</td>\n",
       "      <td>https://efdsearch.senate.gov/search/view/ptr/b...</td>\n",
       "      <td>2022-11-10</td>\n",
       "      <td>8</td>\n",
       "      <td>100</td>\n",
       "      <td>NaN</td>\n",
       "    </tr>\n",
       "    <tr>\n",
       "      <th>4</th>\n",
       "      <td>2022-10-06</td>\n",
       "      <td>Joint</td>\n",
       "      <td>CVX</td>\n",
       "      <td>Chevron Corporation Common Stock Option Type: ...</td>\n",
       "      <td>Stock Option</td>\n",
       "      <td>Sale (Full)</td>\n",
       "      <td>$15,001 - $50,000</td>\n",
       "      <td>--</td>\n",
       "      <td>Thomas H Tuberville</td>\n",
       "      <td>https://efdsearch.senate.gov/search/view/ptr/b...</td>\n",
       "      <td>2022-11-10</td>\n",
       "      <td>9</td>\n",
       "      <td>100</td>\n",
       "      <td>NaN</td>\n",
       "    </tr>\n",
       "  </tbody>\n",
       "</table>\n",
       "</div>"
      ],
      "text/plain": [
       "  transaction_date  owner ticker  \\\n",
       "0       2022-10-28  Joint   MSFT   \n",
       "1       2022-10-28  Joint   MSFT   \n",
       "2       2022-10-28  Joint   MSFT   \n",
       "3       2022-10-06  Joint    XOM   \n",
       "4       2022-10-06  Joint    CVX   \n",
       "\n",
       "                                   asset_description    asset_type  \\\n",
       "0  Microsoft Corporation - Common Stock Option Ty...  Stock Option   \n",
       "1  Microsoft Corporation - Common Stock Option Ty...  Stock Option   \n",
       "2  Microsoft Corporation - Common Stock Option Ty...  Stock Option   \n",
       "3  Exxon Mobil Corporation Common Stock Option Ty...  Stock Option   \n",
       "4  Chevron Corporation Common Stock Option Type: ...  Stock Option   \n",
       "\n",
       "          type             amount comment              senator  \\\n",
       "0  Sale (Full)   $1,001 - $15,000      --  Thomas H Tuberville   \n",
       "1  Sale (Full)   $1,001 - $15,000      --  Thomas H Tuberville   \n",
       "2  Sale (Full)   $1,001 - $15,000      --  Thomas H Tuberville   \n",
       "3  Sale (Full)  $15,001 - $50,000      --  Thomas H Tuberville   \n",
       "4  Sale (Full)  $15,001 - $50,000      --  Thomas H Tuberville   \n",
       "\n",
       "                                            ptr_link disclosure_date  id  \\\n",
       "0  https://efdsearch.senate.gov/search/view/ptr/b...      2022-11-10   0   \n",
       "1  https://efdsearch.senate.gov/search/view/ptr/b...      2022-11-10   2   \n",
       "2  https://efdsearch.senate.gov/search/view/ptr/b...      2022-11-10   3   \n",
       "3  https://efdsearch.senate.gov/search/view/ptr/b...      2022-11-10   8   \n",
       "4  https://efdsearch.senate.gov/search/view/ptr/b...      2022-11-10   9   \n",
       "\n",
       "   senatorId alpha  \n",
       "0        100   NaN  \n",
       "1        100   NaN  \n",
       "2        100   NaN  \n",
       "3        100   NaN  \n",
       "4        100   NaN  "
      ]
     },
     "execution_count": 92,
     "metadata": {},
     "output_type": "execute_result"
    }
   ],
   "source": [
    "\n",
    "transactions_new.head()"
   ]
  },
  {
   "cell_type": "code",
   "execution_count": 93,
   "metadata": {},
   "outputs": [
    {
     "data": {
      "text/plain": [
       "(123, '2020-02-13', 'DLR')"
      ]
     },
     "execution_count": 93,
     "metadata": {},
     "output_type": "execute_result"
    }
   ],
   "source": [
    "testParams"
   ]
  },
  {
   "cell_type": "code",
   "execution_count": 94,
   "metadata": {},
   "outputs": [],
   "source": [
    "# transactions_new[(transactions_new['senatorId']==123) & ]\n",
    "\n",
    "def findRelevantTransactions_new(senId, date, ticker):\n",
    "    # startDate = pd.to_datetime(date) + relativedelta(days=-1)\n",
    "    startDate = pd.to_datetime(date)\n",
    "    endDate = startDate + relativedelta(years=1)\n",
    "    \n",
    "    afterStartDate = transactions_new['transaction_date']>= startDate\n",
    "    beforeEndDate = transactions_new['transaction_date']< endDate\n",
    "    isStock = transactions_new['asset_type']==\"Stock\"\n",
    "    isSenator = transactions_new['senatorId']==senId\n",
    "    isTicker = transactions_new['ticker']==ticker\n",
    "    # rez  = transactions[afterStartDate & beforeEndDate & isStock & isSenator  ]\n",
    "\n",
    "    rez = transactions_new[afterStartDate & beforeEndDate & isStock & isSenator & isTicker]\n",
    "\n",
    "    return rez \n",
    "\n",
    "\n",
    "# findRelevantTransactions(*testParams)"
   ]
  },
  {
   "cell_type": "code",
   "execution_count": 95,
   "metadata": {},
   "outputs": [
    {
     "data": {
      "text/html": [
       "<div>\n",
       "<style scoped>\n",
       "    .dataframe tbody tr th:only-of-type {\n",
       "        vertical-align: middle;\n",
       "    }\n",
       "\n",
       "    .dataframe tbody tr th {\n",
       "        vertical-align: top;\n",
       "    }\n",
       "\n",
       "    .dataframe thead th {\n",
       "        text-align: right;\n",
       "    }\n",
       "</style>\n",
       "<table border=\"1\" class=\"dataframe\">\n",
       "  <thead>\n",
       "    <tr style=\"text-align: right;\">\n",
       "      <th></th>\n",
       "      <th>date</th>\n",
       "      <th>DLR</th>\n",
       "      <th>SPY</th>\n",
       "      <th>transactionType</th>\n",
       "      <th>transactionValue</th>\n",
       "      <th>DLR_growth</th>\n",
       "      <th>DLR_pchange</th>\n",
       "      <th>SPY_growth</th>\n",
       "      <th>SPY_pchange</th>\n",
       "      <th>alpha</th>\n",
       "    </tr>\n",
       "  </thead>\n",
       "  <tbody>\n",
       "    <tr>\n",
       "      <th>0</th>\n",
       "      <td>2020-02-07</td>\n",
       "      <td>112.351500</td>\n",
       "      <td>317.990100</td>\n",
       "      <td>NaN</td>\n",
       "      <td>NaN</td>\n",
       "      <td>NaN</td>\n",
       "      <td>NaN</td>\n",
       "      <td>NaN</td>\n",
       "      <td>NaN</td>\n",
       "      <td>NaN</td>\n",
       "    </tr>\n",
       "    <tr>\n",
       "      <th>53</th>\n",
       "      <td>2020-02-13</td>\n",
       "      <td>118.772614</td>\n",
       "      <td>322.420757</td>\n",
       "      <td>Purchase</td>\n",
       "      <td>118.772614</td>\n",
       "      <td>100.000000</td>\n",
       "      <td>0.057152</td>\n",
       "      <td>100.000000</td>\n",
       "      <td>0.013933</td>\n",
       "      <td>0.000000</td>\n",
       "    </tr>\n",
       "    <tr>\n",
       "      <th>1</th>\n",
       "      <td>2020-02-14</td>\n",
       "      <td>119.842800</td>\n",
       "      <td>323.159200</td>\n",
       "      <td>NaN</td>\n",
       "      <td>NaN</td>\n",
       "      <td>100.901037</td>\n",
       "      <td>0.009010</td>\n",
       "      <td>100.229031</td>\n",
       "      <td>0.002290</td>\n",
       "      <td>0.672007</td>\n",
       "    </tr>\n",
       "    <tr>\n",
       "      <th>2</th>\n",
       "      <td>2020-02-21</td>\n",
       "      <td>125.885100</td>\n",
       "      <td>319.215400</td>\n",
       "      <td>NaN</td>\n",
       "      <td>NaN</td>\n",
       "      <td>105.988321</td>\n",
       "      <td>0.050419</td>\n",
       "      <td>99.005847</td>\n",
       "      <td>-0.012204</td>\n",
       "      <td>6.982475</td>\n",
       "    </tr>\n",
       "    <tr>\n",
       "      <th>3</th>\n",
       "      <td>2020-02-28</td>\n",
       "      <td>109.462500</td>\n",
       "      <td>283.587500</td>\n",
       "      <td>NaN</td>\n",
       "      <td>NaN</td>\n",
       "      <td>92.161397</td>\n",
       "      <td>-0.130457</td>\n",
       "      <td>87.955721</td>\n",
       "      <td>-0.111611</td>\n",
       "      <td>4.205676</td>\n",
       "    </tr>\n",
       "    <tr>\n",
       "      <th>4</th>\n",
       "      <td>2020-03-06</td>\n",
       "      <td>116.871800</td>\n",
       "      <td>284.736100</td>\n",
       "      <td>NaN</td>\n",
       "      <td>NaN</td>\n",
       "      <td>98.399619</td>\n",
       "      <td>0.067688</td>\n",
       "      <td>88.311963</td>\n",
       "      <td>0.004050</td>\n",
       "      <td>10.087656</td>\n",
       "    </tr>\n",
       "    <tr>\n",
       "      <th>5</th>\n",
       "      <td>2020-03-13</td>\n",
       "      <td>130.633300</td>\n",
       "      <td>257.799800</td>\n",
       "      <td>NaN</td>\n",
       "      <td>NaN</td>\n",
       "      <td>109.986044</td>\n",
       "      <td>0.117749</td>\n",
       "      <td>79.957569</td>\n",
       "      <td>-0.094601</td>\n",
       "      <td>30.028475</td>\n",
       "    </tr>\n",
       "    <tr>\n",
       "      <th>6</th>\n",
       "      <td>2020-03-20</td>\n",
       "      <td>111.420100</td>\n",
       "      <td>220.358500</td>\n",
       "      <td>NaN</td>\n",
       "      <td>NaN</td>\n",
       "      <td>93.809588</td>\n",
       "      <td>-0.147077</td>\n",
       "      <td>68.345010</td>\n",
       "      <td>-0.145234</td>\n",
       "      <td>25.464578</td>\n",
       "    </tr>\n",
       "    <tr>\n",
       "      <th>7</th>\n",
       "      <td>2020-03-27</td>\n",
       "      <td>122.130000</td>\n",
       "      <td>244.070200</td>\n",
       "      <td>NaN</td>\n",
       "      <td>NaN</td>\n",
       "      <td>102.826734</td>\n",
       "      <td>0.096122</td>\n",
       "      <td>75.699283</td>\n",
       "      <td>0.107605</td>\n",
       "      <td>27.127451</td>\n",
       "    </tr>\n",
       "    <tr>\n",
       "      <th>8</th>\n",
       "      <td>2020-04-03</td>\n",
       "      <td>125.476300</td>\n",
       "      <td>239.033100</td>\n",
       "      <td>NaN</td>\n",
       "      <td>NaN</td>\n",
       "      <td>105.644134</td>\n",
       "      <td>0.027399</td>\n",
       "      <td>74.137007</td>\n",
       "      <td>-0.020638</td>\n",
       "      <td>31.507127</td>\n",
       "    </tr>\n",
       "    <tr>\n",
       "      <th>9</th>\n",
       "      <td>2020-04-09</td>\n",
       "      <td>136.324100</td>\n",
       "      <td>267.935900</td>\n",
       "      <td>NaN</td>\n",
       "      <td>NaN</td>\n",
       "      <td>114.777384</td>\n",
       "      <td>0.086453</td>\n",
       "      <td>83.101318</td>\n",
       "      <td>0.120915</td>\n",
       "      <td>31.676066</td>\n",
       "    </tr>\n",
       "    <tr>\n",
       "      <th>10</th>\n",
       "      <td>2020-04-17</td>\n",
       "      <td>137.160700</td>\n",
       "      <td>276.064500</td>\n",
       "      <td>NaN</td>\n",
       "      <td>NaN</td>\n",
       "      <td>115.481755</td>\n",
       "      <td>0.006137</td>\n",
       "      <td>85.622434</td>\n",
       "      <td>0.030338</td>\n",
       "      <td>29.859321</td>\n",
       "    </tr>\n",
       "    <tr>\n",
       "      <th>11</th>\n",
       "      <td>2020-04-24</td>\n",
       "      <td>137.923700</td>\n",
       "      <td>272.529900</td>\n",
       "      <td>NaN</td>\n",
       "      <td>NaN</td>\n",
       "      <td>116.124159</td>\n",
       "      <td>0.005563</td>\n",
       "      <td>84.526165</td>\n",
       "      <td>-0.012804</td>\n",
       "      <td>31.597995</td>\n",
       "    </tr>\n",
       "    <tr>\n",
       "      <th>12</th>\n",
       "      <td>2020-05-01</td>\n",
       "      <td>134.145300</td>\n",
       "      <td>272.356600</td>\n",
       "      <td>NaN</td>\n",
       "      <td>NaN</td>\n",
       "      <td>112.942955</td>\n",
       "      <td>-0.027395</td>\n",
       "      <td>84.472415</td>\n",
       "      <td>-0.000636</td>\n",
       "      <td>28.470540</td>\n",
       "    </tr>\n",
       "    <tr>\n",
       "      <th>13</th>\n",
       "      <td>2020-05-08</td>\n",
       "      <td>133.354700</td>\n",
       "      <td>281.650500</td>\n",
       "      <td>NaN</td>\n",
       "      <td>NaN</td>\n",
       "      <td>112.277313</td>\n",
       "      <td>-0.005894</td>\n",
       "      <td>87.354953</td>\n",
       "      <td>0.034124</td>\n",
       "      <td>24.922360</td>\n",
       "    </tr>\n",
       "    <tr>\n",
       "      <th>14</th>\n",
       "      <td>2020-05-15</td>\n",
       "      <td>120.217800</td>\n",
       "      <td>275.717800</td>\n",
       "      <td>NaN</td>\n",
       "      <td>NaN</td>\n",
       "      <td>101.216767</td>\n",
       "      <td>-0.098511</td>\n",
       "      <td>85.514904</td>\n",
       "      <td>-0.021064</td>\n",
       "      <td>15.701863</td>\n",
       "    </tr>\n",
       "    <tr>\n",
       "      <th>15</th>\n",
       "      <td>2020-05-22</td>\n",
       "      <td>124.851100</td>\n",
       "      <td>284.539900</td>\n",
       "      <td>NaN</td>\n",
       "      <td>NaN</td>\n",
       "      <td>105.117750</td>\n",
       "      <td>0.038541</td>\n",
       "      <td>88.251111</td>\n",
       "      <td>0.031997</td>\n",
       "      <td>16.866639</td>\n",
       "    </tr>\n",
       "    <tr>\n",
       "      <th>16</th>\n",
       "      <td>2020-05-29</td>\n",
       "      <td>131.975800</td>\n",
       "      <td>293.092200</td>\n",
       "      <td>NaN</td>\n",
       "      <td>NaN</td>\n",
       "      <td>111.116355</td>\n",
       "      <td>0.057066</td>\n",
       "      <td>90.903639</td>\n",
       "      <td>0.030057</td>\n",
       "      <td>20.212717</td>\n",
       "    </tr>\n",
       "    <tr>\n",
       "      <th>17</th>\n",
       "      <td>2020-06-05</td>\n",
       "      <td>129.879800</td>\n",
       "      <td>307.558100</td>\n",
       "      <td>NaN</td>\n",
       "      <td>NaN</td>\n",
       "      <td>109.351639</td>\n",
       "      <td>-0.015882</td>\n",
       "      <td>95.390291</td>\n",
       "      <td>0.049356</td>\n",
       "      <td>13.961347</td>\n",
       "    </tr>\n",
       "    <tr>\n",
       "      <th>18</th>\n",
       "      <td>2020-06-12</td>\n",
       "      <td>126.055400</td>\n",
       "      <td>292.986300</td>\n",
       "      <td>NaN</td>\n",
       "      <td>NaN</td>\n",
       "      <td>106.131704</td>\n",
       "      <td>-0.029446</td>\n",
       "      <td>90.870793</td>\n",
       "      <td>-0.047379</td>\n",
       "      <td>15.260911</td>\n",
       "    </tr>\n",
       "    <tr>\n",
       "      <th>19</th>\n",
       "      <td>2020-06-19</td>\n",
       "      <td>129.623900</td>\n",
       "      <td>298.568700</td>\n",
       "      <td>NaN</td>\n",
       "      <td>NaN</td>\n",
       "      <td>109.136185</td>\n",
       "      <td>0.028309</td>\n",
       "      <td>92.602196</td>\n",
       "      <td>0.019053</td>\n",
       "      <td>16.533989</td>\n",
       "    </tr>\n",
       "    <tr>\n",
       "      <th>20</th>\n",
       "      <td>2020-06-26</td>\n",
       "      <td>130.309800</td>\n",
       "      <td>290.259000</td>\n",
       "      <td>NaN</td>\n",
       "      <td>NaN</td>\n",
       "      <td>109.713675</td>\n",
       "      <td>0.005291</td>\n",
       "      <td>90.024911</td>\n",
       "      <td>-0.027832</td>\n",
       "      <td>19.688764</td>\n",
       "    </tr>\n",
       "    <tr>\n",
       "      <th>21</th>\n",
       "      <td>2020-07-02</td>\n",
       "      <td>137.724800</td>\n",
       "      <td>302.041500</td>\n",
       "      <td>NaN</td>\n",
       "      <td>NaN</td>\n",
       "      <td>115.956697</td>\n",
       "      <td>0.056903</td>\n",
       "      <td>93.679297</td>\n",
       "      <td>0.040593</td>\n",
       "      <td>22.277399</td>\n",
       "    </tr>\n",
       "    <tr>\n",
       "      <th>22</th>\n",
       "      <td>2020-07-10</td>\n",
       "      <td>136.612600</td>\n",
       "      <td>307.226600</td>\n",
       "      <td>NaN</td>\n",
       "      <td>NaN</td>\n",
       "      <td>115.020285</td>\n",
       "      <td>-0.008076</td>\n",
       "      <td>95.287476</td>\n",
       "      <td>0.017167</td>\n",
       "      <td>19.732810</td>\n",
       "    </tr>\n",
       "    <tr>\n",
       "      <th>23</th>\n",
       "      <td>2020-07-17</td>\n",
       "      <td>133.238700</td>\n",
       "      <td>311.221900</td>\n",
       "      <td>NaN</td>\n",
       "      <td>NaN</td>\n",
       "      <td>112.179647</td>\n",
       "      <td>-0.024697</td>\n",
       "      <td>96.526633</td>\n",
       "      <td>0.013004</td>\n",
       "      <td>15.653015</td>\n",
       "    </tr>\n",
       "    <tr>\n",
       "      <th>24</th>\n",
       "      <td>2020-07-24</td>\n",
       "      <td>136.241800</td>\n",
       "      <td>310.409300</td>\n",
       "      <td>NaN</td>\n",
       "      <td>NaN</td>\n",
       "      <td>114.708092</td>\n",
       "      <td>0.022539</td>\n",
       "      <td>96.274602</td>\n",
       "      <td>-0.002611</td>\n",
       "      <td>18.433491</td>\n",
       "    </tr>\n",
       "    <tr>\n",
       "      <th>25</th>\n",
       "      <td>2020-07-31</td>\n",
       "      <td>148.801000</td>\n",
       "      <td>315.865200</td>\n",
       "      <td>NaN</td>\n",
       "      <td>NaN</td>\n",
       "      <td>125.282247</td>\n",
       "      <td>0.092183</td>\n",
       "      <td>97.966770</td>\n",
       "      <td>0.017576</td>\n",
       "      <td>27.315477</td>\n",
       "    </tr>\n",
       "    <tr>\n",
       "      <th>26</th>\n",
       "      <td>2020-08-07</td>\n",
       "      <td>147.012200</td>\n",
       "      <td>323.652500</td>\n",
       "      <td>NaN</td>\n",
       "      <td>NaN</td>\n",
       "      <td>123.776176</td>\n",
       "      <td>-0.012021</td>\n",
       "      <td>100.382030</td>\n",
       "      <td>0.024654</td>\n",
       "      <td>23.394146</td>\n",
       "    </tr>\n",
       "  </tbody>\n",
       "</table>\n",
       "</div>"
      ],
      "text/plain": [
       "         date         DLR         SPY transactionType  transactionValue  \\\n",
       "0  2020-02-07  112.351500  317.990100             NaN               NaN   \n",
       "53 2020-02-13  118.772614  322.420757        Purchase        118.772614   \n",
       "1  2020-02-14  119.842800  323.159200             NaN               NaN   \n",
       "2  2020-02-21  125.885100  319.215400             NaN               NaN   \n",
       "3  2020-02-28  109.462500  283.587500             NaN               NaN   \n",
       "4  2020-03-06  116.871800  284.736100             NaN               NaN   \n",
       "5  2020-03-13  130.633300  257.799800             NaN               NaN   \n",
       "6  2020-03-20  111.420100  220.358500             NaN               NaN   \n",
       "7  2020-03-27  122.130000  244.070200             NaN               NaN   \n",
       "8  2020-04-03  125.476300  239.033100             NaN               NaN   \n",
       "9  2020-04-09  136.324100  267.935900             NaN               NaN   \n",
       "10 2020-04-17  137.160700  276.064500             NaN               NaN   \n",
       "11 2020-04-24  137.923700  272.529900             NaN               NaN   \n",
       "12 2020-05-01  134.145300  272.356600             NaN               NaN   \n",
       "13 2020-05-08  133.354700  281.650500             NaN               NaN   \n",
       "14 2020-05-15  120.217800  275.717800             NaN               NaN   \n",
       "15 2020-05-22  124.851100  284.539900             NaN               NaN   \n",
       "16 2020-05-29  131.975800  293.092200             NaN               NaN   \n",
       "17 2020-06-05  129.879800  307.558100             NaN               NaN   \n",
       "18 2020-06-12  126.055400  292.986300             NaN               NaN   \n",
       "19 2020-06-19  129.623900  298.568700             NaN               NaN   \n",
       "20 2020-06-26  130.309800  290.259000             NaN               NaN   \n",
       "21 2020-07-02  137.724800  302.041500             NaN               NaN   \n",
       "22 2020-07-10  136.612600  307.226600             NaN               NaN   \n",
       "23 2020-07-17  133.238700  311.221900             NaN               NaN   \n",
       "24 2020-07-24  136.241800  310.409300             NaN               NaN   \n",
       "25 2020-07-31  148.801000  315.865200             NaN               NaN   \n",
       "26 2020-08-07  147.012200  323.652500             NaN               NaN   \n",
       "\n",
       "    DLR_growth  DLR_pchange  SPY_growth  SPY_pchange      alpha  \n",
       "0          NaN          NaN         NaN          NaN        NaN  \n",
       "53  100.000000     0.057152  100.000000     0.013933   0.000000  \n",
       "1   100.901037     0.009010  100.229031     0.002290   0.672007  \n",
       "2   105.988321     0.050419   99.005847    -0.012204   6.982475  \n",
       "3    92.161397    -0.130457   87.955721    -0.111611   4.205676  \n",
       "4    98.399619     0.067688   88.311963     0.004050  10.087656  \n",
       "5   109.986044     0.117749   79.957569    -0.094601  30.028475  \n",
       "6    93.809588    -0.147077   68.345010    -0.145234  25.464578  \n",
       "7   102.826734     0.096122   75.699283     0.107605  27.127451  \n",
       "8   105.644134     0.027399   74.137007    -0.020638  31.507127  \n",
       "9   114.777384     0.086453   83.101318     0.120915  31.676066  \n",
       "10  115.481755     0.006137   85.622434     0.030338  29.859321  \n",
       "11  116.124159     0.005563   84.526165    -0.012804  31.597995  \n",
       "12  112.942955    -0.027395   84.472415    -0.000636  28.470540  \n",
       "13  112.277313    -0.005894   87.354953     0.034124  24.922360  \n",
       "14  101.216767    -0.098511   85.514904    -0.021064  15.701863  \n",
       "15  105.117750     0.038541   88.251111     0.031997  16.866639  \n",
       "16  111.116355     0.057066   90.903639     0.030057  20.212717  \n",
       "17  109.351639    -0.015882   95.390291     0.049356  13.961347  \n",
       "18  106.131704    -0.029446   90.870793    -0.047379  15.260911  \n",
       "19  109.136185     0.028309   92.602196     0.019053  16.533989  \n",
       "20  109.713675     0.005291   90.024911    -0.027832  19.688764  \n",
       "21  115.956697     0.056903   93.679297     0.040593  22.277399  \n",
       "22  115.020285    -0.008076   95.287476     0.017167  19.732810  \n",
       "23  112.179647    -0.024697   96.526633     0.013004  15.653015  \n",
       "24  114.708092     0.022539   96.274602    -0.002611  18.433491  \n",
       "25  125.282247     0.092183   97.966770     0.017576  27.315477  \n",
       "26  123.776176    -0.012021  100.382030     0.024654  23.394146  "
      ]
     },
     "execution_count": 95,
     "metadata": {},
     "output_type": "execute_result"
    }
   ],
   "source": [
    "alphaFrame(*testParams)"
   ]
  },
  {
   "cell_type": "code",
   "execution_count": null,
   "metadata": {},
   "outputs": [],
   "source": []
  },
  {
   "cell_type": "code",
   "execution_count": 96,
   "metadata": {},
   "outputs": [],
   "source": [
    "# transactions_new.to_csv(\"./CSV Files/transactions_new.csv\")"
   ]
  },
  {
   "cell_type": "code",
   "execution_count": 97,
   "metadata": {},
   "outputs": [
    {
     "name": "stdout",
     "output_type": "stream",
     "text": [
      "('2022-10-28', 'Joint', 'MSFT', 'Microsoft Corporation - Common Stock Option Type: Short Sale Strike price: $245.00  Expires: 06/16/2023 ', 'Stock Option', 'Sale (Full)', '$1,001 - $15,000', '--', 'Thomas H Tuberville', 'https://efdsearch.senate.gov/search/view/ptr/bdd81552-894d-4dc5-b1f3-9fe349529bf8/', '2022-11-10', 0, 100, None)\n",
      "('2022-10-28', 'Joint', 'MSFT', 'Microsoft Corporation - Common Stock Option Type: Short Sale Strike price: $245.00  Expires: 06/16/2023 ', 'Stock Option', 'Sale (Full)', '$1,001 - $15,000', '--', 'Thomas H Tuberville', 'https://efdsearch.senate.gov/search/view/ptr/bdd81552-894d-4dc5-b1f3-9fe349529bf8/', '2022-11-10', 2, 100, None)\n",
      "('2022-10-28', 'Joint', 'MSFT', 'Microsoft Corporation - Common Stock Option Type: Short Sale Strike price: $245.00  Expires: 06/16/2023 ', 'Stock Option', 'Sale (Full)', '$1,001 - $15,000', '--', 'Thomas H Tuberville', 'https://efdsearch.senate.gov/search/view/ptr/bdd81552-894d-4dc5-b1f3-9fe349529bf8/', '2022-11-10', 3, 100, None)\n",
      "('2022-10-06', 'Joint', 'XOM', 'Exxon Mobil Corporation Common Stock Option Type: Short Sale Strike price: $100.00  Expires: 06/16/2023 ', 'Stock Option', 'Sale (Full)', '$15,001 - $50,000', '--', 'Thomas H Tuberville', 'https://efdsearch.senate.gov/search/view/ptr/bdd81552-894d-4dc5-b1f3-9fe349529bf8/', '2022-11-10', 8, 100, None)\n",
      "('2022-10-06', 'Joint', 'CVX', 'Chevron Corporation Common Stock Option Type: Short Sale Strike price: $155.00  Expires: 06/16/2023 ', 'Stock Option', 'Sale (Full)', '$15,001 - $50,000', '--', 'Thomas H Tuberville', 'https://efdsearch.senate.gov/search/view/ptr/bdd81552-894d-4dc5-b1f3-9fe349529bf8/', '2022-11-10', 9, 100, None)\n"
     ]
    }
   ],
   "source": [
    "\n",
    "import psycopg2 \n",
    "\n",
    "conn=None\n",
    "cur=None \n",
    "db = None\n",
    "\n",
    "def postDataFrameDB():\n",
    "    try:\n",
    "        conn_string = f\"postgresql://{username}:{pwd}@{host}:{port_id}/{database}\"\n",
    "        db =  create_engine(url=conn_string)\n",
    "        conn=db.connect()\n",
    "\n",
    "        transactions_new.to_sql('transactions', con=conn, if_exists='replace', index=False)\n",
    "\n",
    "        connPsy = psycopg2.connect(conn_string)\n",
    "        cur = connPsy.cursor()\n",
    "        connPsy.autocommit = True\n",
    "\n",
    "        sqlString = \"\"\"\n",
    "        select * from transactions limit 5;\n",
    "        \"\"\"\n",
    "        cur.execute(sqlString)\n",
    "\n",
    "        records = cur.fetchall()\n",
    "        for row in records:\n",
    "            print(row)\n",
    "\n",
    "    except Exception as err:\n",
    "        print(err)\n",
    "    finally: \n",
    "        if cur is not None: \n",
    "            cur.close()\n",
    "        if conn is not None: \n",
    "            conn.close()\n",
    "    \n",
    "postDataFrameDB()\n"
   ]
  },
  {
   "cell_type": "code",
   "execution_count": null,
   "metadata": {},
   "outputs": [],
   "source": []
  },
  {
   "cell_type": "code",
   "execution_count": null,
   "metadata": {},
   "outputs": [],
   "source": []
  },
  {
   "cell_type": "code",
   "execution_count": null,
   "metadata": {},
   "outputs": [],
   "source": []
  },
  {
   "cell_type": "code",
   "execution_count": null,
   "metadata": {},
   "outputs": [],
   "source": []
  },
  {
   "cell_type": "code",
   "execution_count": null,
   "metadata": {},
   "outputs": [],
   "source": []
  }
 ],
 "metadata": {
  "kernelspec": {
   "display_name": "Python 3.10.8 64-bit",
   "language": "python",
   "name": "python3"
  },
  "language_info": {
   "codemirror_mode": {
    "name": "ipython",
    "version": 3
   },
   "file_extension": ".py",
   "mimetype": "text/x-python",
   "name": "python",
   "nbconvert_exporter": "python",
   "pygments_lexer": "ipython3",
   "version": "3.10.8"
  },
  "orig_nbformat": 4,
  "vscode": {
   "interpreter": {
    "hash": "aee8b7b246df8f9039afb4144a1f6fd8d2ca17a180786b69acc140d282b71a49"
   }
  }
 },
 "nbformat": 4,
 "nbformat_minor": 2
}
